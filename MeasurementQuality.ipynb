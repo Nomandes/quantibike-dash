{
 "cells": [
  {
   "cell_type": "code",
   "execution_count": 1,
   "metadata": {},
   "outputs": [],
   "source": [
    "import pandas as pd\n",
    "import numpy as np\n",
    "import plotly.express as px\n",
    "import plotly.graph_objects as go\n",
    "from jupyter_dash import JupyterDash\n",
    "from dash import dcc\n",
    "from dash import html\n",
    "from dash.dependencies import Input, Output\n",
    "import dash.dependencies\n",
    "import plotly.io as pio\n",
    "import math\n",
    "import pysrt\n",
    "from plotly.subplots import make_subplots\n",
    "from plotly.graph_objs import *\n",
    "from scipy.stats import spearmanr\n",
    "import json"
   ]
  },
  {
   "attachments": {},
   "cell_type": "markdown",
   "metadata": {},
   "source": [
    "## Functions"
   ]
  },
  {
   "cell_type": "code",
   "execution_count": 2,
   "metadata": {},
   "outputs": [],
   "source": [
    "def include_euler_angles(df):\n",
    "    # Rotation Matrix Phone and Airpods\n",
    "    mRotPhone = []\n",
    "    mRotAir = []\n",
    "    for index, row in df.iterrows():\n",
    "        rotPhone_first = row[[\"phoneMotionData.rotationMatrix.m1.1\",\"phoneMotionData.rotationMatrix.m1.2\",\"phoneMotionData.rotationMatrix.m1.3\",]]\n",
    "        rotPhone_second = row[[\"phoneMotionData.rotationMatrix.m2.1\",\"phoneMotionData.rotationMatrix.m2.2\",\"phoneMotionData.rotationMatrix.m2.3\"]]\n",
    "        rotPhone_third =  row[[\"phoneMotionData.rotationMatrix.m3.1\",\"phoneMotionData.rotationMatrix.m3.2\",\"phoneMotionData.rotationMatrix.m3.3\"]]\n",
    "        rotPhone_nump = np.array([rotPhone_first.to_numpy(),rotPhone_second.to_numpy(),rotPhone_third.to_numpy()])\n",
    "        mRotPhone.append(rotPhone_nump)\n",
    "\n",
    "        rotAir_first = row[[\"airpodMotionData.rotationMatrix.m1.1\",\"airpodMotionData.rotationMatrix.m1.2\",\"airpodMotionData.rotationMatrix.m1.3\",]]\n",
    "        rotAir_second = row[[\"airpodMotionData.rotationMatrix.m2.1\",\"airpodMotionData.rotationMatrix.m2.2\",\"airpodMotionData.rotationMatrix.m2.3\"]]\n",
    "        rotAir_third =  row[[\"airpodMotionData.rotationMatrix.m3.1\",\"airpodMotionData.rotationMatrix.m3.2\",\"airpodMotionData.rotationMatrix.m3.3\"]]\n",
    "        rotAir_nump = np.array([rotAir_first.to_numpy(),rotAir_second.to_numpy(),rotAir_third.to_numpy()])\n",
    "        mRotAir.append(rotAir_nump)\n",
    "\n",
    "    # Relative Rotations\n",
    "    mRotRelatives = []\n",
    "    for index, rotPhone in enumerate(mRotPhone):\n",
    "        mRotRelatives.append(rotPhone.dot(mRotAir[index].transpose()))\n",
    "\n",
    "    # Yaw Values\n",
    "    relativeYaws = []\n",
    "    relativeRoll = []\n",
    "    relativePitch = []\n",
    "    for index, rotRelative in enumerate(mRotRelatives):\n",
    "        relativeYaws.append(math.atan2(rotRelative[0,1],rotRelative[0,0])) #Indexes shifted because starting at 0\n",
    "        relativeRoll.append(math.atan2(rotRelative[1,2],rotRelative[2,2])) #Indexes shifted because starting at 0\n",
    "        relativePitch.append(- math.asin(rotRelative[0,2]))                #Indexes shifted because starting at 0\n",
    "\n",
    "    #Convert Radians to Degree\n",
    "    realtiveYawsDegree = np.degrees(relativeYaws)\n",
    "    relativeRollDegree = np.degrees(relativeRoll)\n",
    "    relativePitchDegree = np.degrees(relativePitch)\n",
    "    \n",
    "    #import into frame\n",
    "    df[\"relativeYaw\"] = realtiveYawsDegree.tolist()\n",
    "    df[\"relativeRoll\"] = relativeRollDegree.tolist()\n",
    "    df[\"relativePitch\"] = relativePitchDegree.tolist()\n",
    "\n",
    "def read_data(url):\n",
    "    with open(url,'r') as f:\n",
    "        data = json.loads(f.read())\n",
    "    \n",
    "    #get infos and delete theme from json\n",
    "    #infos = data.pop(\"infos\")\n",
    "    #df[\"motionTimestampDiff\"] = df.apply(lambda x: x[\"airpodMotionData.timestamp\"] - x[\"phoneMotionData.timestamp\"],axis=1)\n",
    "\n",
    "    # normalize json to readable frame\n",
    "    df = pd.json_normalize(data,record_path=[\"timestamps\"])\n",
    "\n",
    "    # convert objects to floats\n",
    "    df = df.apply(pd.to_numeric, errors='coerce')\n",
    "\n",
    "    #set timestamp as index\n",
    "    df.set_index('timestamp',inplace=True)\n",
    "        \n",
    "    #Velocity m/s to km/h\n",
    "    if 'locationData.velocity' in df.columns:\n",
    "        df[\"locationData.velocity\"] = df[\"locationData.velocity\"].apply(lambda x: x * 3.6)\n",
    "    #calculate Headrotation\n",
    "    df[\"headRotY\"] = df.apply(lambda x: x[\"airpodMotionData.yaw\"] - x[\"phoneMotionData.yaw\"],axis=1)\n",
    "    df[\"headRotY\"] = np.degrees(df[\"headRotY\"]).tolist()\n",
    "    df[\"airpodsYawDegrees\"] = np.degrees(df[\"airpodMotionData.yaw\"]).tolist()\n",
    "    df[\"phoneYawDegrees\"] = np.degrees(df[\"phoneMotionData.yaw\"]).tolist()\n",
    "    \n",
    "    df[\"airpodsRollDegrees\"] = np.degrees(df[\"airpodMotionData.roll\"]).tolist()\n",
    "    df[\"phoneRollDegrees\"] = np.degrees(df[\"phoneMotionData.roll\"]).tolist()\n",
    "    \n",
    "    df[\"airpodsPitchDegrees\"] = np.degrees(df[\"airpodMotionData.pitch\"]).tolist()\n",
    "    df[\"phonePitchDegrees\"] = np.degrees(df[\"phoneMotionData.pitch\"]).tolist()\n",
    "    \n",
    "    include_euler_angles(df)\n",
    "    addMeanRotations(df)\n",
    "    addRotations(df)\n",
    "    \n",
    "    return df\n",
    "def read_srt(url):\n",
    "    subs = pysrt.open(url)\n",
    "    return subs\n",
    "def add_conditions(subject,fig,propertyName): #To-Do use times instead of iterating srts again\n",
    "    subs = srts[subject]\n",
    "    shapes = []\n",
    "    for sub in subs:\n",
    "        # If Log was writte before video, add the delay to the times to get correct times\n",
    "        if srt_delays[subject] < 0:\n",
    "            start = sub.start.minutes * 60 + sub.start.seconds + abs(srt_delays[subject])\n",
    "            end = sub.end.minutes * 60 + sub.end.seconds + abs(srt_delays[subject])\n",
    "        else:\n",
    "            start = sub.start.minutes * 60 + sub.start.seconds - abs(srt_delays[subject])\n",
    "            end = sub.end.minutes * 60 + sub.end.seconds - abs(srt_delays[subject])\n",
    "        #display(\"Condition lasted from {} to {}\".format(start,end))#\n",
    "        color = \"#FFFFFF\"\n",
    "        if \"Condition Start\" in sub.text:\n",
    "            color = COLOR_SIT_X_HEX\n",
    "        elif \"Condition X\" in sub.text:\n",
    "            color = COLOR_SIT_X_HEX\n",
    "        elif \"Condition A\" in sub.text:\n",
    "            color = COLOR_SIT_A_HEX\n",
    "        elif \"Condition B\" in sub.text:\n",
    "            color = COLOR_SIT_B_HEX\n",
    "        elif \"Condition C\" in sub.text:\n",
    "            color = COLOR_SIT_C_HEX\n",
    "        elif \"Condition D\" in sub.text:\n",
    "            color = COLOR_SIT_D_HEX\n",
    "        elif \"Condition E\" in sub.text:\n",
    "            color = COLOR_SIT_E_HEX\n",
    "        else:\n",
    "            color = COLOR_SIT_X_HEX\n",
    "        shapes.append({\n",
    "            'type': 'rect',\n",
    "#            xref: 'x',\n",
    "#            yref: 'paper',\n",
    "            'x0': start,\n",
    "            'y0': subjects[subject][propertyName].min(),\n",
    "            'x1': end,\n",
    "            'y1': subjects[subject][propertyName].max(),\n",
    "            'fillcolor': color,\n",
    "            'opacity': 0.5,\n",
    "            'line': {\n",
    "                'width': 0\n",
    "            }\n",
    "        })\n",
    "    fig.update_layout(shapes = shapes)\n",
    "def getTimes(subject):\n",
    "    subs = srts[subject]\n",
    "    situations = []\n",
    "    iterations = [0,0,0,0,0]\n",
    "    for sub in subs:\n",
    "        # If Log was writte before video, add the delay to the times to get correct times\n",
    "        if srt_delays[subject] < 0:\n",
    "            start = sub.start.minutes * 60 + sub.start.seconds + abs(srt_delays[subject])\n",
    "            end = sub.end.minutes * 60 + sub.end.seconds + abs(srt_delays[subject])\n",
    "        else:\n",
    "            start = sub.start.minutes * 60 + sub.start.seconds - abs(srt_delays[subject])\n",
    "            end = sub.end.minutes * 60 + sub.end.seconds - abs(srt_delays[subject])\n",
    "        #if \"Condition Start\" in sub.text:\n",
    "        #elif \"Condition X\" in sub.text:\n",
    "        #elif \"Condition D\" in sub.text:\n",
    "        condition = \"x\"\n",
    "        iteration = 0\n",
    "        if \"Condition A\" in sub.text:\n",
    "            iterations[0] += 1\n",
    "            iteration = iterations[0]\n",
    "            condition = \"a\"\n",
    "        elif \"Condition B\" in sub.text:\n",
    "            iterations[1] += 1\n",
    "            iteration = iterations[1]\n",
    "            condition = \"b\"\n",
    "        elif \"Condition C\" in sub.text:\n",
    "            iterations[2] += 1\n",
    "            iteration = iterations[2]\n",
    "            condition = \"c\"\n",
    "        elif \"Condition E\" in sub.text:\n",
    "            iterations[4] += 1\n",
    "            iteration = iterations[4]\n",
    "            condition = \"e\"\n",
    "        else:\n",
    "            continue\n",
    "        subjects[subject].loc[((subjects[subject].index >= start) & (subjects[subject].index <= end)),\"situation\"] = condition\n",
    "        result = subjects[subject].loc[((subjects[subject].index >= start) & (subjects[subject].index <= end))]\n",
    "        situations.append((condition,iteration,result.index[0],result.index[-1]))\n",
    "    return np.array(situations,dtype = ([('situation', 'U10'),('iteration', 'i4'), ('start_index', 'f4'),('end_index', 'f4')]))\n",
    "def extractSrtGazes(subject):\n",
    "    subs = gaze_srts[subject]\n",
    "    gaze_count = [0,0]\n",
    "    for sub in subs:\n",
    "        # If Log was writte before video, add the delay to the times to get correct times\n",
    "        if srt_delays[subject] < 0:\n",
    "            start = sub.start.minutes * 60 + sub.start.seconds + abs(srt_delays[subject])\n",
    "            end = sub.end.minutes * 60 + sub.end.seconds + abs(srt_delays[subject])\n",
    "        else:\n",
    "            start = sub.start.minutes * 60 + sub.start.seconds - abs(srt_delays[subject])\n",
    "            end = sub.end.minutes * 60 + sub.end.seconds - abs(srt_delays[subject])\n",
    "        if \"Gaze Right\" in sub.text:\n",
    "            gaze_count[1] += 1\n",
    "        elif \"Gaze Left\" in sub.text:\n",
    "            gaze_count[0] += 1\n",
    "        else:\n",
    "            continue\n",
    "        #subjects[subject].loc[((subjects[subject].index >= start) & (subjects[subject].index <= end)),\"situation\"] = condition\n",
    "        #result = subjects[subject].loc[((subjects[subject].index >= start) & (subjects[subject].index <= end))]\n",
    "    return gaze_count\n",
    "def get_meanDuration(times,situation):\n",
    "    durations = []\n",
    "    for iteration in times[times[\"situation\"] == situation]:\n",
    "        durations.append(iteration[\"end_index\"] - iteration[\"start_index\"])\n",
    "    return np.mean(durations)\n",
    "def get_sdDuration(times,situation):\n",
    "    durations = []\n",
    "    for iteration in times[times[\"situation\"] == situation]:\n",
    "        durations.append(iteration[\"end_index\"] - iteration[\"start_index\"])\n",
    "    return np.std(durations)\n",
    "def splitDf(listElement,df,chunksize):\n",
    "    df_1 = df.iloc[:chunksize,:]\n",
    "    df_2 = df.iloc[chunksize:,:]\n",
    "    listElement.append(df_1)\n",
    "    return df_2\n",
    "\n",
    "# Splits the df into chunks (size defined globally) and adds \"mean_rotation\" for the chunk,wich is the mean of the \"relativeYaw\"\n",
    "def addMeanRotations(df):\n",
    "    splittableDf = df\n",
    "    chunks = []\n",
    "\n",
    "    while len(splittableDf) > 0:\n",
    "        splittableDf = splitDf(chunks,splittableDf,60)\n",
    "\n",
    "    for chunk_df in chunks:\n",
    "        df.loc[chunk_df.iloc[0].name:chunk_df.iloc[-1].name,\"mean_rotation\"] = np.mean(chunk_df[\"relativeYaw\"])\n",
    "\n",
    "# adds two rows to the dataframe. rotations which indicates the rotation for each row, group_index which indicates to which look count the row is sorted (1 group = 1 look)\n",
    "def addRotations(df):\n",
    "\n",
    "    df[\"rotation\"] = \"x\"\n",
    "    #Every value which is above the mean_rotation + threshhold is a right headrotation, below its a left headrotation.\n",
    "    df.loc[(df[\"relativeYaw\"] - df[\"mean_rotation\"] > rotation_threshhold),\"rotation\"] = \"r\"\n",
    "    df.loc[(df[\"relativeYaw\"] - df[\"mean_rotation\"] < rotation_threshhold),\"rotation\"] = \"l\"\n",
    "    df['group_index'] = (df['rotation'] != df['rotation'].shift()).cumsum()\n",
    "    \n",
    "#Returns the rotations for each situation for given subject\n",
    "def getRotations(subject,times):\n",
    "    rotations = {\n",
    "        \"a\" : [],\n",
    "        \"b\" : [],\n",
    "        \"c\" : [],\n",
    "        \"d\" : [],\n",
    "        \"e\" : []\n",
    "    }    \n",
    "    # For Each situaiton\n",
    "    for key,values in rotations.items():\n",
    "        # For each iteration of situation\n",
    "        for split_sit in times[times[\"situation\"] == key]:\n",
    "            # group by rotation\n",
    "            rot_groups = subjects[subject][split_sit[\"start_index\"]:split_sit[\"end_index\"]].groupby(['rotation'])[\"group_index\"]\n",
    "            # get unqiue groups to count amount\n",
    "            rots = subjects[subject][split_sit[\"start_index\"]:split_sit[\"end_index\"]].groupby(['rotation'])[\"group_index\"].nunique()\n",
    "            values.append((rots.get(\"l\" , 0),rots.get(\"r\" , 0)))\n",
    "    return rotations\n",
    "\n",
    "def getRotationCount(df):\n",
    "    # group by rotation\n",
    "    rot_groups = df.groupby(['rotation'])[\"group_index\"]\n",
    "    # get unqiue groups to count amount\n",
    "    rots = rot_groups.nunique()\n",
    "    display(rots)\n",
    "    return [rots.get(\"l\" , 0),rots.get(\"r\" , 0)]\n",
    "def getAngles(subject,times):\n",
    "    situation_angles = []\n",
    "    # For every Situation...\n",
    "    for key in [\"a\",\"b\",\"c\",\"d\",\"e\"]:\n",
    "        #for every iteration of this situation\n",
    "        for index,split_sit in enumerate(times[times[\"situation\"] == key]):\n",
    "            #group by rotations\n",
    "            rot_groups = subjects[subject][split_sit[\"start_index\"]:split_sit[\"end_index\"]][[\"mean_rotation\",\"rotation\",\"relativeYaw\",\"group_index\"]]#.groupby(['rotation'])[\"group_index\"]\n",
    "            rot_groups.groupby(['rotation'])\n",
    "\n",
    "            # for every found headrotation in iteration\n",
    "            for group in rot_groups[\"group_index\"].unique():\n",
    "                df_group = rot_groups.loc[rot_groups[\"group_index\"] == group]\n",
    "                # left rotation\n",
    "                if 'l' in df_group[\"rotation\"].unique():\n",
    "                    #get index of lowest angle in group\n",
    "                    minIndex = df_group[\"relativeYaw\"].idxmin()\n",
    "                    #if (df_group.loc[minIndex][\"relativeYaw\"] - df_group.loc[minIndex][\"mean_rotation\"]) < -180:\n",
    "                        #display(\"Found huge angle from {} with mean {}\".format(df_group.loc[minIndex][\"relativeYaw\"],df_group.loc[minIndex][\"mean_rotation\"]))\n",
    "                        #continue\n",
    "                    situation_angles.append((key,index,\"left\",df_group.loc[minIndex][\"relativeYaw\"] - df_group.loc[minIndex][\"mean_rotation\"]))\n",
    "                #right rotation\n",
    "                elif 'r' in df_group[\"rotation\"].unique():\n",
    "                    #get index of highest angle in group\n",
    "                    maxIndex = df_group[\"relativeYaw\"].idxmax()\n",
    "                    #calculate angle in relation to mean rotation\n",
    "                    #if (df_group.loc[maxIndex][\"relativeYaw\"] - df_group.loc[maxIndex][\"mean_rotation\"]) > 180:\n",
    "                        #display(\"Found huge angle from {} with mean {}\".format(df_group.loc[maxIndex][\"relativeYaw\"],df_group.loc[maxIndex][\"mean_rotation\"]))\n",
    "                        #continue\n",
    "                    situation_angles.append((key,index,\"right\",df_group.loc[maxIndex][\"relativeYaw\"] - df_group.loc[maxIndex][\"mean_rotation\"]))\n",
    "    return np.array(situation_angles,dtype = ([('situation', 'U10'),('iteration', 'i4'),('direction', 'U10'), ('angle', 'f4')]))\n",
    "\n",
    "def getStandtimes(subject,times):\n",
    "    situation_stands = []\n",
    "    for situation in [\"a\",\"b\",\"c\",\"e\"]:\n",
    "        #for every iteration of this situation\n",
    "        for index,split_sit in enumerate(times[times[\"situation\"] == situation]):\n",
    "            df_timeslice = subjects[subject].loc[split_sit[\"start_index\"]:split_sit[\"end_index\"]][\"locationData.velocity\"]\n",
    "            group_index = (df_timeslice != df_timeslice.shift()).cumsum()\n",
    "            # for every found headrotation\n",
    "            standedInIteration = False\n",
    "            for stand_sit_group in group_index.unique():\n",
    "                df_sit = group_index.loc[group_index == stand_sit_group]\n",
    "                if df_timeslice[df_sit.index[0]] == 0.0:\n",
    "                    situation_stands.append((situation,index,df_sit.index[-1] - df_sit.index[0]))\n",
    "                    standedInIteration = True\n",
    "            if not standedInIteration:\n",
    "                # This iteration no one stand. Adding 0 to account for in mean calculations\n",
    "                situation_stands.append((situation,index,0.00))\n",
    "    return np.array(situation_stands,dtype = ([('situation', 'U10'),('iteration', 'i4'), ('seconds', 'f4')]))\n",
    "# builds sum over all iterations of one situation, returns mean of this sum\n",
    "def getMeanOfStandSituation(times,situation):\n",
    "    sit_times = times[times[\"situation\"] == situation]\n",
    "    sit_sums = []\n",
    "    for iteration in np.unique(sit_times[\"iteration\"]):\n",
    "        sit_sums.append(np.sum(sit_times[sit_times[\"iteration\"] == iteration][\"seconds\"]))\n",
    "    return np.mean(sit_sums)\n",
    "def getSdOfStandSituation(times,situation):\n",
    "    sit_times = times[times[\"situation\"] == situation]\n",
    "    sit_sums = []\n",
    "    for iteration in np.unique(sit_times[\"iteration\"]):\n",
    "        sit_sums.append(np.sum(sit_times[sit_times[\"iteration\"] == iteration][\"seconds\"]))\n",
    "    return np.std(sit_sums)"
   ]
  },
  {
   "attachments": {},
   "cell_type": "markdown",
   "metadata": {},
   "source": [
    "## Plots"
   ]
  },
  {
   "cell_type": "code",
   "execution_count": 3,
   "metadata": {},
   "outputs": [],
   "source": [
    "# Headrotation interpretation Settings\n",
    "# ChunkSize defines how the mean value is build to handle the drift in rotation data. \n",
    "# 120 would build the mean over 120 log entries which results in chunks of 60 seconds\n",
    "chunkSize = 120\n",
    "# Rotation threshhold defines which degree has to be reached to count as rotation. \n",
    "# Every rotation which overcomes this value will be counted as headrotation\n",
    "rotation_threshhold = 20.0\n",
    "\n",
    "#Subjects\n",
    "df_subject1 = read_data(\"./logs/participants/2022-10-17 124155-logfile-subject-1.json\")\n",
    "df_subject2 = read_data(\"./logs/participants/2022-10-20 111557-logfile-subject-2.json\")\n",
    "df_subject3 = read_data(\"./logs/participants/2022-11-04 113121-logfile-subject-3.1.json\")\n",
    "df_subject4 = read_data(\"./logs/participants/2022-10-25 142229-logfile-subject-4.json\")\n",
    "df_subject5 = read_data(\"./logs/participants/2022-10-27 165339-logfile-subject-5.json\")\n",
    "df_subject6 = read_data(\"./logs/participants/2022-10-28 101829-logfile-subject-6.json\")\n",
    "df_subject7 = read_data(\"./logs/participants/2022-10-28 154837-logfile-subject-7.json\")\n",
    "df_subject8 = read_data(\"./logs/participants/2022-11-04 122345-logfile-subject-8.json\")\n",
    "\n",
    "\n",
    "# TO-DO: Streamline into one dictionary\n",
    "subjects = {\n",
    "    \"Subject 1\" : df_subject1,\n",
    "    \"Subject 2\" : df_subject2,\n",
    "    \"Subject 3\" : df_subject3,\n",
    "    \"Subject 4\" : df_subject4,\n",
    "    \"Subject 5\" : df_subject5,\n",
    "    \"Subject 6\" : df_subject6,\n",
    "    \"Subject 7\" : df_subject7,\n",
    "    \"Subject 8\" : df_subject8\n",
    "}\n",
    "# Adding rotations where mean_rotation + threshhold as a identifier field to the dataframes\n",
    "for df in subjects.values():\n",
    "    addRotations(df)\n",
    "\n",
    "\n",
    "rotation_threshhold = 25.0\n",
    "\n",
    "#Subjects\n",
    "df_subject1_25 = read_data(\"./logs/participants/2022-10-17 124155-logfile-subject-1.json\")\n",
    "df_subject2_25 = read_data(\"./logs/participants/2022-10-20 111557-logfile-subject-2.json\")\n",
    "df_subject3_25 = read_data(\"./logs/participants/2022-11-04 113121-logfile-subject-3.1.json\")\n",
    "df_subject4_25 = read_data(\"./logs/participants/2022-10-25 142229-logfile-subject-4.json\")\n",
    "df_subject5_25 = read_data(\"./logs/participants/2022-10-27 165339-logfile-subject-5.json\")\n",
    "df_subject6_25 = read_data(\"./logs/participants/2022-10-28 101829-logfile-subject-6.json\")\n",
    "df_subject7_25 = read_data(\"./logs/participants/2022-10-28 154837-logfile-subject-7.json\")\n",
    "df_subject8_25 = read_data(\"./logs/participants/2022-11-04 122345-logfile-subject-8.json\")\n",
    "\n",
    "subjects_25 = {\n",
    "    \"Subject 1\" : df_subject1_25,\n",
    "    \"Subject 2\" : df_subject2_25,\n",
    "    \"Subject 3\" : df_subject3_25,\n",
    "    \"Subject 4\" : df_subject4_25,\n",
    "    \"Subject 5\" : df_subject5_25,\n",
    "    \"Subject 6\" : df_subject6_25,\n",
    "    \"Subject 7\" : df_subject7_25,\n",
    "    \"Subject 8\" : df_subject8_25\n",
    "}\n",
    "for df in subjects_25.values():\n",
    "    addRotations(df)\n",
    "\n",
    "\n",
    "rotation_threshhold = 30.0\n",
    "\n",
    "#Subjects\n",
    "df_subject1_30 = read_data(\"./logs/participants/2022-10-17 124155-logfile-subject-1.json\")\n",
    "df_subject2_30 = read_data(\"./logs/participants/2022-10-20 111557-logfile-subject-2.json\")\n",
    "df_subject3_30 = read_data(\"./logs/participants/2022-11-04 113121-logfile-subject-3.1.json\")\n",
    "df_subject4_30 = read_data(\"./logs/participants/2022-10-25 142229-logfile-subject-4.json\")\n",
    "df_subject5_30 = read_data(\"./logs/participants/2022-10-27 165339-logfile-subject-5.json\")\n",
    "df_subject6_30 = read_data(\"./logs/participants/2022-10-28 101829-logfile-subject-6.json\")\n",
    "df_subject7_30 = read_data(\"./logs/participants/2022-10-28 154837-logfile-subject-7.json\")\n",
    "df_subject8_30 = read_data(\"./logs/participants/2022-11-04 122345-logfile-subject-8.json\")\n",
    "\n",
    "subjects_30 = {\n",
    "    \"Subject 1\" : df_subject1_30,\n",
    "    \"Subject 2\" : df_subject2_30,\n",
    "    \"Subject 3\" : df_subject3_30,\n",
    "    \"Subject 4\" : df_subject4_30,\n",
    "    \"Subject 5\" : df_subject5_30,\n",
    "    \"Subject 6\" : df_subject6_30,\n",
    "    \"Subject 7\" : df_subject7_30,\n",
    "    \"Subject 8\" : df_subject8_30\n",
    "}\n",
    "for df in subjects_30.values():\n",
    "    addRotations(df)\n",
    "    \n",
    "#SRTs\n",
    "srt_subject1 = read_srt(\"./logs/participants/srts/subs_participant_1.srt\")\n",
    "srt_subject2 = read_srt(\"./logs/participants/srts/subs_participant_2.srt\")\n",
    "srt_subject3 = read_srt(\"./logs/participants/srts/subs_participant_3.srt\")\n",
    "srt_subject4 = read_srt(\"./logs/participants/srts/subs_participant_4.srt\")\n",
    "srt_subject5 = read_srt(\"./logs/participants/srts/subs_participant_5.srt\")\n",
    "srt_subject6 = read_srt(\"./logs/participants/srts/subs_participant_6.srt\")\n",
    "srt_subject7 = read_srt(\"./logs/participants/srts/subs_participant_7.srt\")\n",
    "srt_subject8 = read_srt(\"./logs/participants/srts/subs_participant_8.srt\")\n",
    "\n",
    "#Gazes\n",
    "gaze_srt_subject1 = read_srt(\"./logs/participants/srts/gazes/gazes_p1.srt\")\n",
    "gaze_srt_subject2 = read_srt(\"./logs/participants/srts/gazes/gazes_p2.srt\")\n",
    "gaze_srt_subject3 = read_srt(\"./logs/participants/srts/gazes/gazes_p3.srt\")\n",
    "gaze_srt_subject4 = read_srt(\"./logs/participants/srts/gazes/gazes_p4.srt\")\n",
    "gaze_srt_subject5 = read_srt(\"./logs/participants/srts/gazes/gazes_p5.srt\")\n",
    "gaze_srt_subject6 = read_srt(\"./logs/participants/srts/gazes/gazes_p6.srt\")\n",
    "gaze_srt_subject7 = read_srt(\"./logs/participants/srts/gazes/gazes_p7.srt\")\n",
    "gaze_srt_subject8 = read_srt(\"./logs/participants/srts/gazes/gazes_p8.srt\")"
   ]
  },
  {
   "cell_type": "code",
   "execution_count": 4,
   "metadata": {},
   "outputs": [],
   "source": [
    "\n",
    "\n",
    "srts = {\n",
    "    \"Subject 1\" : srt_subject1,\n",
    "    \"Subject 2\" : srt_subject2,\n",
    "    \"Subject 3\" : srt_subject3,\n",
    "    \"Subject 4\" : srt_subject4,\n",
    "    \"Subject 5\" : srt_subject5,\n",
    "    \"Subject 6\" : srt_subject6,\n",
    "    \"Subject 7\" : srt_subject7,\n",
    "    \"Subject 8\" : srt_subject8\n",
    "}\n",
    "gaze_srts = {\n",
    "    \"Subject 1\" : gaze_srt_subject1,\n",
    "    \"Subject 2\" : gaze_srt_subject2,\n",
    "    \"Subject 3\" : gaze_srt_subject3,\n",
    "    \"Subject 4\" : gaze_srt_subject4,\n",
    "    \"Subject 5\" : gaze_srt_subject5,\n",
    "    \"Subject 6\" : gaze_srt_subject6,\n",
    "    \"Subject 7\" : gaze_srt_subject7,\n",
    "    \"Subject 8\" : gaze_srt_subject8\n",
    "}\n",
    "# If negative, the app was running before the camera. Little inconsistency in the study design \n",
    "srt_delays = {\n",
    "    \"Subject 1\" : - 8.0,\n",
    "    \"Subject 2\" : - 29.0,\n",
    "    \"Subject 3\" : 12.0 ,\n",
    "    \"Subject 4\" : -10.0,\n",
    "    \"Subject 5\" : 9.0,\n",
    "    \"Subject 6\" : -32.0,\n",
    "    \"Subject 7\" : 490.0,\n",
    "    \"Subject 8\" : 14.0\n",
    "}\n",
    "#[difficulty,safety]\n",
    "subjects_perceived = {\n",
    "    \"Subject 1\" : [[5,1,3,1,1],[3,4,4,5,5]],\n",
    "    \"Subject 2\" : [[2,1,1,1,1],[5,5,4,5,5]],\n",
    "    \"Subject 3\" : [[1,1,4,3,2],[4,5,2,4,4]],\n",
    "    \"Subject 4\" : [[2,3,3,3,3],[4,4,3,4,3]],\n",
    "    \"Subject 5\" : [[1,4,3,1,2],[4,2,3,4,3]],\n",
    "    \"Subject 6\" : [[1,1,2,3,2],[4,5,3,4,4]],\n",
    "    \"Subject 7\" : [[2,1,3,1,1],[5,5,5,5,5]],\n",
    "    \"Subject 8\" : [[1,3,2,4,1],[5,4,5,2,5]]\n",
    "}\n",
    "# Labels for the plots\n",
    "available_data_labels = list(subjects.keys())"
   ]
  },
  {
   "cell_type": "code",
   "execution_count": 5,
   "metadata": {},
   "outputs": [
    {
     "data": {
      "text/plain": [
       "rotation\n",
       "l    161\n",
       "r    161\n",
       "x      1\n",
       "Name: group_index, dtype: int64"
      ]
     },
     "metadata": {},
     "output_type": "display_data"
    },
    {
     "data": {
      "text/plain": [
       "rotation\n",
       "l    77\n",
       "r    76\n",
       "x     1\n",
       "Name: group_index, dtype: int64"
      ]
     },
     "metadata": {},
     "output_type": "display_data"
    },
    {
     "data": {
      "text/plain": [
       "rotation\n",
       "l    51\n",
       "r    51\n",
       "x     1\n",
       "Name: group_index, dtype: int64"
      ]
     },
     "metadata": {},
     "output_type": "display_data"
    },
    {
     "data": {
      "text/plain": [
       "rotation\n",
       "l    130\n",
       "r    130\n",
       "x      1\n",
       "Name: group_index, dtype: int64"
      ]
     },
     "metadata": {},
     "output_type": "display_data"
    },
    {
     "data": {
      "text/plain": [
       "rotation\n",
       "l    160\n",
       "r    159\n",
       "x      1\n",
       "Name: group_index, dtype: int64"
      ]
     },
     "metadata": {},
     "output_type": "display_data"
    },
    {
     "data": {
      "text/plain": [
       "rotation\n",
       "l    84\n",
       "r    84\n",
       "x     1\n",
       "Name: group_index, dtype: int64"
      ]
     },
     "metadata": {},
     "output_type": "display_data"
    },
    {
     "data": {
      "text/plain": [
       "rotation\n",
       "l    129\n",
       "r    129\n",
       "x      1\n",
       "Name: group_index, dtype: int64"
      ]
     },
     "metadata": {},
     "output_type": "display_data"
    },
    {
     "data": {
      "text/plain": [
       "rotation\n",
       "l    85\n",
       "r    84\n",
       "x     1\n",
       "Name: group_index, dtype: int64"
      ]
     },
     "metadata": {},
     "output_type": "display_data"
    },
    {
     "data": {
      "text/plain": [
       "rotation\n",
       "l    142\n",
       "r    141\n",
       "x      1\n",
       "Name: group_index, dtype: int64"
      ]
     },
     "metadata": {},
     "output_type": "display_data"
    },
    {
     "data": {
      "text/plain": [
       "rotation\n",
       "l    72\n",
       "r    71\n",
       "x     1\n",
       "Name: group_index, dtype: int64"
      ]
     },
     "metadata": {},
     "output_type": "display_data"
    },
    {
     "data": {
      "text/plain": [
       "rotation\n",
       "l    42\n",
       "r    42\n",
       "x     1\n",
       "Name: group_index, dtype: int64"
      ]
     },
     "metadata": {},
     "output_type": "display_data"
    },
    {
     "data": {
      "text/plain": [
       "rotation\n",
       "l    101\n",
       "r    101\n",
       "x      1\n",
       "Name: group_index, dtype: int64"
      ]
     },
     "metadata": {},
     "output_type": "display_data"
    },
    {
     "data": {
      "text/plain": [
       "rotation\n",
       "l    120\n",
       "r    119\n",
       "x      1\n",
       "Name: group_index, dtype: int64"
      ]
     },
     "metadata": {},
     "output_type": "display_data"
    },
    {
     "data": {
      "text/plain": [
       "rotation\n",
       "l    80\n",
       "r    79\n",
       "x     1\n",
       "Name: group_index, dtype: int64"
      ]
     },
     "metadata": {},
     "output_type": "display_data"
    },
    {
     "data": {
      "text/plain": [
       "rotation\n",
       "l    110\n",
       "r    110\n",
       "x      1\n",
       "Name: group_index, dtype: int64"
      ]
     },
     "metadata": {},
     "output_type": "display_data"
    },
    {
     "data": {
      "text/plain": [
       "rotation\n",
       "l    58\n",
       "r    57\n",
       "x     1\n",
       "Name: group_index, dtype: int64"
      ]
     },
     "metadata": {},
     "output_type": "display_data"
    },
    {
     "data": {
      "text/plain": [
       "rotation\n",
       "l    131\n",
       "r    130\n",
       "x      1\n",
       "Name: group_index, dtype: int64"
      ]
     },
     "metadata": {},
     "output_type": "display_data"
    },
    {
     "data": {
      "text/plain": [
       "rotation\n",
       "l    62\n",
       "r    61\n",
       "x     1\n",
       "Name: group_index, dtype: int64"
      ]
     },
     "metadata": {},
     "output_type": "display_data"
    },
    {
     "data": {
      "text/plain": [
       "rotation\n",
       "l    30\n",
       "r    29\n",
       "x     1\n",
       "Name: group_index, dtype: int64"
      ]
     },
     "metadata": {},
     "output_type": "display_data"
    },
    {
     "data": {
      "text/plain": [
       "rotation\n",
       "l    87\n",
       "r    87\n",
       "x     1\n",
       "Name: group_index, dtype: int64"
      ]
     },
     "metadata": {},
     "output_type": "display_data"
    },
    {
     "data": {
      "text/plain": [
       "rotation\n",
       "l    92\n",
       "r    91\n",
       "x     1\n",
       "Name: group_index, dtype: int64"
      ]
     },
     "metadata": {},
     "output_type": "display_data"
    },
    {
     "data": {
      "text/plain": [
       "rotation\n",
       "l    61\n",
       "r    60\n",
       "x     1\n",
       "Name: group_index, dtype: int64"
      ]
     },
     "metadata": {},
     "output_type": "display_data"
    },
    {
     "data": {
      "text/plain": [
       "rotation\n",
       "l    88\n",
       "r    88\n",
       "x     1\n",
       "Name: group_index, dtype: int64"
      ]
     },
     "metadata": {},
     "output_type": "display_data"
    },
    {
     "data": {
      "text/plain": [
       "rotation\n",
       "l    53\n",
       "r    52\n",
       "x     1\n",
       "Name: group_index, dtype: int64"
      ]
     },
     "metadata": {},
     "output_type": "display_data"
    }
   ],
   "source": [
    "# Get mean values per subject, per situation\n",
    "data = []\n",
    "for key,value in subjects.items():\n",
    "    real_gazes = extractSrtGazes(key)\n",
    "    rotation_count = getRotationCount(value)\n",
    "    data.append([\n",
    "        key,\n",
    "        value[\"relativeYaw\"].mean(axis=0),\n",
    "        value[\"locationData.velocity\"].mean(axis=0),\n",
    "        value.index[-1],\n",
    "        real_gazes[0],\n",
    "        real_gazes[1],\n",
    "        rotation_count[0],\n",
    "        rotation_count[1]\n",
    "    ])\n",
    "df_all = pd.DataFrame(data, columns=[\n",
    "    'subject', \n",
    "    'mean_rotation',\n",
    "    'mean_speed',\n",
    "    \"duration\",\n",
    "    \"gaze_left_count\", #real gazes, manually marked in video\n",
    "    \"gaze_right_count\",\n",
    "    \"rotation_left_count\", #measured rotations\n",
    "    \"rotation_right_count\",\n",
    "])\n",
    "df_all.loc['Total'] = df_all.mean(numeric_only=True)\n",
    "#df_all.loc['SD'] = df_all.std(numeric_only=True)\n",
    "\n",
    "\n",
    "\n",
    "# Get mean values per subject, per situation\n",
    "data = []\n",
    "for key,value in subjects_25.items():\n",
    "    real_gazes = extractSrtGazes(key)\n",
    "    rotation_count = getRotationCount(value)\n",
    "    data.append([\n",
    "        key,\n",
    "        value[\"relativeYaw\"].mean(axis=0),\n",
    "        value[\"locationData.velocity\"].mean(axis=0),\n",
    "        value.index[-1],\n",
    "        real_gazes[0],\n",
    "        real_gazes[1],\n",
    "        rotation_count[0],\n",
    "        rotation_count[1]\n",
    "    ])\n",
    "df_all_25 = pd.DataFrame(data, columns=[\n",
    "    'subject', \n",
    "    'mean_rotation',\n",
    "    'mean_speed',\n",
    "    \"duration\",\n",
    "    \"gaze_left_count\", #real gazes, manually marked in video\n",
    "    \"gaze_right_count\",\n",
    "    \"rotation_left_count\", #measured rotations\n",
    "    \"rotation_right_count\",\n",
    "])\n",
    "df_all_25.loc['Total'] = df_all_25.mean(numeric_only=True)\n",
    "#df_all.loc['SD'] = df_all.std(numeric_only=True)\n",
    "\n",
    "\n",
    "\n",
    "\n",
    "# Get mean values per subject, per situation\n",
    "data = []\n",
    "for key,value in subjects_30.items():\n",
    "    real_gazes = extractSrtGazes(key)\n",
    "    rotation_count = getRotationCount(value)\n",
    "    data.append([\n",
    "        key,\n",
    "        value[\"relativeYaw\"].mean(axis=0),\n",
    "        value[\"locationData.velocity\"].mean(axis=0),\n",
    "        value.index[-1],\n",
    "        real_gazes[0],\n",
    "        real_gazes[1],\n",
    "        rotation_count[0],\n",
    "        rotation_count[1]\n",
    "    ])\n",
    "df_all_30 = pd.DataFrame(data, columns=[\n",
    "    'subject', \n",
    "    'mean_rotation',\n",
    "    'mean_speed',\n",
    "    \"duration\",\n",
    "    \"gaze_left_count\", #real gazes, manually marked in video\n",
    "    \"gaze_right_count\",\n",
    "    \"rotation_left_count\", #measured rotations\n",
    "    \"rotation_right_count\",\n",
    "])\n",
    "df_all_30.loc['Total'] = df_all_30.mean(numeric_only=True)\n",
    "#df_all.loc['SD'] = df_all.std(numeric_only=True)"
   ]
  },
  {
   "cell_type": "code",
   "execution_count": 6,
   "metadata": {},
   "outputs": [
    {
     "data": {
      "application/vnd.plotly.v1+json": {
       "config": {
        "plotlyServerURL": "https://plot.ly"
       },
       "data": [
        {
         "marker": {
          "color": "#961C26"
         },
         "name": "Real Left Gazes",
         "orientation": "h",
         "showlegend": true,
         "text": [
          134,
          112,
          62,
          146,
          92,
          90,
          171,
          135,
          118
         ],
         "type": "bar",
         "x": [
          134,
          112,
          62,
          146,
          92,
          90,
          171,
          135,
          117.75
         ],
         "y": [
          "Subject 1",
          "Subject 2",
          "Subject 3",
          "Subject 4",
          "Subject 5",
          "Subject 6",
          "Subject 7",
          "Subject 8",
          null
         ]
        },
        {
         "marker": {
          "color": "#000000"
         },
         "name": "Measured Left Rotations",
         "orientation": "h",
         "showlegend": true,
         "text": [
          161,
          77,
          51,
          130,
          160,
          84,
          129,
          85,
          110
         ],
         "type": "bar",
         "x": [
          161,
          77,
          51,
          130,
          160,
          84,
          129,
          85,
          109.625
         ],
         "y": [
          "Subject 1",
          "Subject 2",
          "Subject 3",
          "Subject 4",
          "Subject 5",
          "Subject 6",
          "Subject 7",
          "Subject 8",
          null
         ]
        }
       ],
       "layout": {
        "font": {
         "family": "Lato, sans-serif",
         "size": 14
        },
        "height": 320,
        "hoverlabel": {
         "font": {
          "family": "Lato, sans-serif",
          "size": 13
         }
        },
        "hovermode": "y unified",
        "legend": {
         "orientation": "h",
         "x": 0.5,
         "xanchor": "center",
         "y": 1,
         "yanchor": "bottom"
        },
        "margin": {
         "b": 0,
         "l": 70,
         "r": 40,
         "t": 80
        },
        "template": {
         "data": {
          "bar": [
           {
            "error_x": {
             "color": "#2a3f5f"
            },
            "error_y": {
             "color": "#2a3f5f"
            },
            "marker": {
             "line": {
              "color": "#E5ECF6",
              "width": 0.5
             },
             "pattern": {
              "fillmode": "overlay",
              "size": 10,
              "solidity": 0.2
             }
            },
            "type": "bar"
           }
          ],
          "barpolar": [
           {
            "marker": {
             "line": {
              "color": "#E5ECF6",
              "width": 0.5
             },
             "pattern": {
              "fillmode": "overlay",
              "size": 10,
              "solidity": 0.2
             }
            },
            "type": "barpolar"
           }
          ],
          "carpet": [
           {
            "aaxis": {
             "endlinecolor": "#2a3f5f",
             "gridcolor": "white",
             "linecolor": "white",
             "minorgridcolor": "white",
             "startlinecolor": "#2a3f5f"
            },
            "baxis": {
             "endlinecolor": "#2a3f5f",
             "gridcolor": "white",
             "linecolor": "white",
             "minorgridcolor": "white",
             "startlinecolor": "#2a3f5f"
            },
            "type": "carpet"
           }
          ],
          "choropleth": [
           {
            "colorbar": {
             "outlinewidth": 0,
             "ticks": ""
            },
            "type": "choropleth"
           }
          ],
          "contour": [
           {
            "colorbar": {
             "outlinewidth": 0,
             "ticks": ""
            },
            "colorscale": [
             [
              0,
              "#0d0887"
             ],
             [
              0.1111111111111111,
              "#46039f"
             ],
             [
              0.2222222222222222,
              "#7201a8"
             ],
             [
              0.3333333333333333,
              "#9c179e"
             ],
             [
              0.4444444444444444,
              "#bd3786"
             ],
             [
              0.5555555555555556,
              "#d8576b"
             ],
             [
              0.6666666666666666,
              "#ed7953"
             ],
             [
              0.7777777777777778,
              "#fb9f3a"
             ],
             [
              0.8888888888888888,
              "#fdca26"
             ],
             [
              1,
              "#f0f921"
             ]
            ],
            "type": "contour"
           }
          ],
          "contourcarpet": [
           {
            "colorbar": {
             "outlinewidth": 0,
             "ticks": ""
            },
            "type": "contourcarpet"
           }
          ],
          "heatmap": [
           {
            "colorbar": {
             "outlinewidth": 0,
             "ticks": ""
            },
            "colorscale": [
             [
              0,
              "#0d0887"
             ],
             [
              0.1111111111111111,
              "#46039f"
             ],
             [
              0.2222222222222222,
              "#7201a8"
             ],
             [
              0.3333333333333333,
              "#9c179e"
             ],
             [
              0.4444444444444444,
              "#bd3786"
             ],
             [
              0.5555555555555556,
              "#d8576b"
             ],
             [
              0.6666666666666666,
              "#ed7953"
             ],
             [
              0.7777777777777778,
              "#fb9f3a"
             ],
             [
              0.8888888888888888,
              "#fdca26"
             ],
             [
              1,
              "#f0f921"
             ]
            ],
            "type": "heatmap"
           }
          ],
          "heatmapgl": [
           {
            "colorbar": {
             "outlinewidth": 0,
             "ticks": ""
            },
            "colorscale": [
             [
              0,
              "#0d0887"
             ],
             [
              0.1111111111111111,
              "#46039f"
             ],
             [
              0.2222222222222222,
              "#7201a8"
             ],
             [
              0.3333333333333333,
              "#9c179e"
             ],
             [
              0.4444444444444444,
              "#bd3786"
             ],
             [
              0.5555555555555556,
              "#d8576b"
             ],
             [
              0.6666666666666666,
              "#ed7953"
             ],
             [
              0.7777777777777778,
              "#fb9f3a"
             ],
             [
              0.8888888888888888,
              "#fdca26"
             ],
             [
              1,
              "#f0f921"
             ]
            ],
            "type": "heatmapgl"
           }
          ],
          "histogram": [
           {
            "marker": {
             "pattern": {
              "fillmode": "overlay",
              "size": 10,
              "solidity": 0.2
             }
            },
            "type": "histogram"
           }
          ],
          "histogram2d": [
           {
            "colorbar": {
             "outlinewidth": 0,
             "ticks": ""
            },
            "colorscale": [
             [
              0,
              "#0d0887"
             ],
             [
              0.1111111111111111,
              "#46039f"
             ],
             [
              0.2222222222222222,
              "#7201a8"
             ],
             [
              0.3333333333333333,
              "#9c179e"
             ],
             [
              0.4444444444444444,
              "#bd3786"
             ],
             [
              0.5555555555555556,
              "#d8576b"
             ],
             [
              0.6666666666666666,
              "#ed7953"
             ],
             [
              0.7777777777777778,
              "#fb9f3a"
             ],
             [
              0.8888888888888888,
              "#fdca26"
             ],
             [
              1,
              "#f0f921"
             ]
            ],
            "type": "histogram2d"
           }
          ],
          "histogram2dcontour": [
           {
            "colorbar": {
             "outlinewidth": 0,
             "ticks": ""
            },
            "colorscale": [
             [
              0,
              "#0d0887"
             ],
             [
              0.1111111111111111,
              "#46039f"
             ],
             [
              0.2222222222222222,
              "#7201a8"
             ],
             [
              0.3333333333333333,
              "#9c179e"
             ],
             [
              0.4444444444444444,
              "#bd3786"
             ],
             [
              0.5555555555555556,
              "#d8576b"
             ],
             [
              0.6666666666666666,
              "#ed7953"
             ],
             [
              0.7777777777777778,
              "#fb9f3a"
             ],
             [
              0.8888888888888888,
              "#fdca26"
             ],
             [
              1,
              "#f0f921"
             ]
            ],
            "type": "histogram2dcontour"
           }
          ],
          "mesh3d": [
           {
            "colorbar": {
             "outlinewidth": 0,
             "ticks": ""
            },
            "type": "mesh3d"
           }
          ],
          "parcoords": [
           {
            "line": {
             "colorbar": {
              "outlinewidth": 0,
              "ticks": ""
             }
            },
            "type": "parcoords"
           }
          ],
          "pie": [
           {
            "automargin": true,
            "type": "pie"
           }
          ],
          "scatter": [
           {
            "fillpattern": {
             "fillmode": "overlay",
             "size": 10,
             "solidity": 0.2
            },
            "type": "scatter"
           }
          ],
          "scatter3d": [
           {
            "line": {
             "colorbar": {
              "outlinewidth": 0,
              "ticks": ""
             }
            },
            "marker": {
             "colorbar": {
              "outlinewidth": 0,
              "ticks": ""
             }
            },
            "type": "scatter3d"
           }
          ],
          "scattercarpet": [
           {
            "marker": {
             "colorbar": {
              "outlinewidth": 0,
              "ticks": ""
             }
            },
            "type": "scattercarpet"
           }
          ],
          "scattergeo": [
           {
            "marker": {
             "colorbar": {
              "outlinewidth": 0,
              "ticks": ""
             }
            },
            "type": "scattergeo"
           }
          ],
          "scattergl": [
           {
            "marker": {
             "colorbar": {
              "outlinewidth": 0,
              "ticks": ""
             }
            },
            "type": "scattergl"
           }
          ],
          "scattermapbox": [
           {
            "marker": {
             "colorbar": {
              "outlinewidth": 0,
              "ticks": ""
             }
            },
            "type": "scattermapbox"
           }
          ],
          "scatterpolar": [
           {
            "marker": {
             "colorbar": {
              "outlinewidth": 0,
              "ticks": ""
             }
            },
            "type": "scatterpolar"
           }
          ],
          "scatterpolargl": [
           {
            "marker": {
             "colorbar": {
              "outlinewidth": 0,
              "ticks": ""
             }
            },
            "type": "scatterpolargl"
           }
          ],
          "scatterternary": [
           {
            "marker": {
             "colorbar": {
              "outlinewidth": 0,
              "ticks": ""
             }
            },
            "type": "scatterternary"
           }
          ],
          "surface": [
           {
            "colorbar": {
             "outlinewidth": 0,
             "ticks": ""
            },
            "colorscale": [
             [
              0,
              "#0d0887"
             ],
             [
              0.1111111111111111,
              "#46039f"
             ],
             [
              0.2222222222222222,
              "#7201a8"
             ],
             [
              0.3333333333333333,
              "#9c179e"
             ],
             [
              0.4444444444444444,
              "#bd3786"
             ],
             [
              0.5555555555555556,
              "#d8576b"
             ],
             [
              0.6666666666666666,
              "#ed7953"
             ],
             [
              0.7777777777777778,
              "#fb9f3a"
             ],
             [
              0.8888888888888888,
              "#fdca26"
             ],
             [
              1,
              "#f0f921"
             ]
            ],
            "type": "surface"
           }
          ],
          "table": [
           {
            "cells": {
             "fill": {
              "color": "#EBF0F8"
             },
             "line": {
              "color": "white"
             }
            },
            "header": {
             "fill": {
              "color": "#C8D4E3"
             },
             "line": {
              "color": "white"
             }
            },
            "type": "table"
           }
          ]
         },
         "layout": {
          "annotationdefaults": {
           "arrowcolor": "#2a3f5f",
           "arrowhead": 0,
           "arrowwidth": 1
          },
          "autotypenumbers": "strict",
          "coloraxis": {
           "colorbar": {
            "outlinewidth": 0,
            "ticks": ""
           }
          },
          "colorscale": {
           "diverging": [
            [
             0,
             "#8e0152"
            ],
            [
             0.1,
             "#c51b7d"
            ],
            [
             0.2,
             "#de77ae"
            ],
            [
             0.3,
             "#f1b6da"
            ],
            [
             0.4,
             "#fde0ef"
            ],
            [
             0.5,
             "#f7f7f7"
            ],
            [
             0.6,
             "#e6f5d0"
            ],
            [
             0.7,
             "#b8e186"
            ],
            [
             0.8,
             "#7fbc41"
            ],
            [
             0.9,
             "#4d9221"
            ],
            [
             1,
             "#276419"
            ]
           ],
           "sequential": [
            [
             0,
             "#0d0887"
            ],
            [
             0.1111111111111111,
             "#46039f"
            ],
            [
             0.2222222222222222,
             "#7201a8"
            ],
            [
             0.3333333333333333,
             "#9c179e"
            ],
            [
             0.4444444444444444,
             "#bd3786"
            ],
            [
             0.5555555555555556,
             "#d8576b"
            ],
            [
             0.6666666666666666,
             "#ed7953"
            ],
            [
             0.7777777777777778,
             "#fb9f3a"
            ],
            [
             0.8888888888888888,
             "#fdca26"
            ],
            [
             1,
             "#f0f921"
            ]
           ],
           "sequentialminus": [
            [
             0,
             "#0d0887"
            ],
            [
             0.1111111111111111,
             "#46039f"
            ],
            [
             0.2222222222222222,
             "#7201a8"
            ],
            [
             0.3333333333333333,
             "#9c179e"
            ],
            [
             0.4444444444444444,
             "#bd3786"
            ],
            [
             0.5555555555555556,
             "#d8576b"
            ],
            [
             0.6666666666666666,
             "#ed7953"
            ],
            [
             0.7777777777777778,
             "#fb9f3a"
            ],
            [
             0.8888888888888888,
             "#fdca26"
            ],
            [
             1,
             "#f0f921"
            ]
           ]
          },
          "colorway": [
           "#636efa",
           "#EF553B",
           "#00cc96",
           "#ab63fa",
           "#FFA15A",
           "#19d3f3",
           "#FF6692",
           "#B6E880",
           "#FF97FF",
           "#FECB52"
          ],
          "font": {
           "color": "#2a3f5f"
          },
          "geo": {
           "bgcolor": "white",
           "lakecolor": "white",
           "landcolor": "#E5ECF6",
           "showlakes": true,
           "showland": true,
           "subunitcolor": "white"
          },
          "hoverlabel": {
           "align": "left"
          },
          "hovermode": "closest",
          "mapbox": {
           "style": "light"
          },
          "paper_bgcolor": "white",
          "plot_bgcolor": "#E5ECF6",
          "polar": {
           "angularaxis": {
            "gridcolor": "white",
            "linecolor": "white",
            "ticks": ""
           },
           "bgcolor": "#E5ECF6",
           "radialaxis": {
            "gridcolor": "white",
            "linecolor": "white",
            "ticks": ""
           }
          },
          "scene": {
           "xaxis": {
            "backgroundcolor": "#E5ECF6",
            "gridcolor": "white",
            "gridwidth": 2,
            "linecolor": "white",
            "showbackground": true,
            "ticks": "",
            "zerolinecolor": "white"
           },
           "yaxis": {
            "backgroundcolor": "#E5ECF6",
            "gridcolor": "white",
            "gridwidth": 2,
            "linecolor": "white",
            "showbackground": true,
            "ticks": "",
            "zerolinecolor": "white"
           },
           "zaxis": {
            "backgroundcolor": "#E5ECF6",
            "gridcolor": "white",
            "gridwidth": 2,
            "linecolor": "white",
            "showbackground": true,
            "ticks": "",
            "zerolinecolor": "white"
           }
          },
          "shapedefaults": {
           "line": {
            "color": "#2a3f5f"
           }
          },
          "ternary": {
           "aaxis": {
            "gridcolor": "white",
            "linecolor": "white",
            "ticks": ""
           },
           "baxis": {
            "gridcolor": "white",
            "linecolor": "white",
            "ticks": ""
           },
           "bgcolor": "#E5ECF6",
           "caxis": {
            "gridcolor": "white",
            "linecolor": "white",
            "ticks": ""
           }
          },
          "title": {
           "x": 0.05
          },
          "xaxis": {
           "automargin": true,
           "gridcolor": "white",
           "linecolor": "white",
           "ticks": "",
           "title": {
            "standoff": 15
           },
           "zerolinecolor": "white",
           "zerolinewidth": 2
          },
          "yaxis": {
           "automargin": true,
           "gridcolor": "white",
           "linecolor": "white",
           "ticks": "",
           "title": {
            "standoff": 15
           },
           "zerolinecolor": "white",
           "zerolinewidth": 2
          }
         }
        },
        "width": 500,
        "xaxis": {
         "showgrid": false,
         "title": {
          "text": " "
         }
        },
        "yaxis": {
         "categoryorder": "category descending",
         "showgrid": false,
         "showline": false,
         "ticksuffix": " ",
         "title": {
          "text": " "
         }
        }
       }
      }
     },
     "metadata": {},
     "output_type": "display_data"
    }
   ],
   "source": [
    "marking_red = \"#961C26\"\n",
    "\n",
    "#\"gaze_left_count\", \"gaze_right_count\", \"rotation_left_count\", \"rotation_right_count\"\n",
    "fig_duration = go.Figure()\n",
    "fig_duration.add_trace(go.Bar(x=df_all.gaze_left_count, y=df_all.subject, \n",
    "                        orientation='h', showlegend=True,\n",
    "                        text=np.round(df_all.gaze_left_count,decimals = 0),\n",
    "                        name='Real Left Gazes', marker_color= marking_red))\n",
    "fig_duration.add_trace(go.Bar(x=df_all.rotation_left_count, y=df_all.subject, \n",
    "                        orientation='h', showlegend=True,\n",
    "                        text=np.round(df_all.rotation_left_count,decimals = 0),\n",
    "                        name='Measured Left Rotations', marker_color='#000000'))\n",
    "fig_duration.update_xaxes(showgrid=False)\n",
    "fig_duration.update_yaxes(showgrid=False, categoryorder=\"category descending\",\n",
    "                 ticksuffix=' ', showline=False)\n",
    "fig_duration.update_traces(hovertemplate=None)\n",
    "fig_duration.update_layout(\n",
    "#    title='Mean of Duration & Standingtimes per Situation (Seconds)(Field)',\n",
    "    margin=dict(t=80, b=0, l=70, r=40),\n",
    "    hovermode=\"y unified\", \n",
    "    xaxis_title=' ', yaxis_title=\" \",\n",
    "    width=500, height=320,\n",
    "    font=dict(family=\"Lato, sans-serif\",size=14),\n",
    "    legend=dict(orientation=\"h\", yanchor=\"bottom\",y=1, xanchor=\"center\", x=0.5),\n",
    "    hoverlabel=dict(font_size=13, font_family=\"Lato, sans-serif\")\n",
    "    #paper_bgcolor='rgba(0,0,0,0)',\n",
    "    #plot_bgcolor='rgba(0,0,0,0)'\n",
    ")"
   ]
  },
  {
   "cell_type": "code",
   "execution_count": 7,
   "metadata": {},
   "outputs": [
    {
     "data": {
      "application/vnd.plotly.v1+json": {
       "config": {
        "plotlyServerURL": "https://plot.ly"
       },
       "data": [
        {
         "marker": {
          "color": "#961C26"
         },
         "name": "Real Right Gazes",
         "orientation": "h",
         "showlegend": true,
         "text": [
          98,
          71,
          40,
          107,
          89,
          78,
          97,
          85,
          83
         ],
         "type": "bar",
         "x": [
          98,
          71,
          40,
          107,
          89,
          78,
          97,
          85,
          83.125
         ],
         "y": [
          "Subject 1",
          "Subject 2",
          "Subject 3",
          "Subject 4",
          "Subject 5",
          "Subject 6",
          "Subject 7",
          "Subject 8",
          null
         ]
        },
        {
         "marker": {
          "color": "#000000"
         },
         "name": "Measured Right Rotations",
         "orientation": "h",
         "showlegend": true,
         "text": [
          161,
          76,
          51,
          130,
          159,
          84,
          129,
          84,
          109
         ],
         "type": "bar",
         "x": [
          161,
          76,
          51,
          130,
          159,
          84,
          129,
          84,
          109.25
         ],
         "y": [
          "Subject 1",
          "Subject 2",
          "Subject 3",
          "Subject 4",
          "Subject 5",
          "Subject 6",
          "Subject 7",
          "Subject 8",
          null
         ]
        }
       ],
       "layout": {
        "font": {
         "family": "Lato, sans-serif",
         "size": 14
        },
        "height": 320,
        "hoverlabel": {
         "font": {
          "family": "Lato, sans-serif",
          "size": 13
         }
        },
        "hovermode": "y unified",
        "legend": {
         "orientation": "h",
         "x": 0.5,
         "xanchor": "center",
         "y": 1,
         "yanchor": "bottom"
        },
        "margin": {
         "b": 0,
         "l": 70,
         "r": 40,
         "t": 80
        },
        "template": {
         "data": {
          "bar": [
           {
            "error_x": {
             "color": "#2a3f5f"
            },
            "error_y": {
             "color": "#2a3f5f"
            },
            "marker": {
             "line": {
              "color": "#E5ECF6",
              "width": 0.5
             },
             "pattern": {
              "fillmode": "overlay",
              "size": 10,
              "solidity": 0.2
             }
            },
            "type": "bar"
           }
          ],
          "barpolar": [
           {
            "marker": {
             "line": {
              "color": "#E5ECF6",
              "width": 0.5
             },
             "pattern": {
              "fillmode": "overlay",
              "size": 10,
              "solidity": 0.2
             }
            },
            "type": "barpolar"
           }
          ],
          "carpet": [
           {
            "aaxis": {
             "endlinecolor": "#2a3f5f",
             "gridcolor": "white",
             "linecolor": "white",
             "minorgridcolor": "white",
             "startlinecolor": "#2a3f5f"
            },
            "baxis": {
             "endlinecolor": "#2a3f5f",
             "gridcolor": "white",
             "linecolor": "white",
             "minorgridcolor": "white",
             "startlinecolor": "#2a3f5f"
            },
            "type": "carpet"
           }
          ],
          "choropleth": [
           {
            "colorbar": {
             "outlinewidth": 0,
             "ticks": ""
            },
            "type": "choropleth"
           }
          ],
          "contour": [
           {
            "colorbar": {
             "outlinewidth": 0,
             "ticks": ""
            },
            "colorscale": [
             [
              0,
              "#0d0887"
             ],
             [
              0.1111111111111111,
              "#46039f"
             ],
             [
              0.2222222222222222,
              "#7201a8"
             ],
             [
              0.3333333333333333,
              "#9c179e"
             ],
             [
              0.4444444444444444,
              "#bd3786"
             ],
             [
              0.5555555555555556,
              "#d8576b"
             ],
             [
              0.6666666666666666,
              "#ed7953"
             ],
             [
              0.7777777777777778,
              "#fb9f3a"
             ],
             [
              0.8888888888888888,
              "#fdca26"
             ],
             [
              1,
              "#f0f921"
             ]
            ],
            "type": "contour"
           }
          ],
          "contourcarpet": [
           {
            "colorbar": {
             "outlinewidth": 0,
             "ticks": ""
            },
            "type": "contourcarpet"
           }
          ],
          "heatmap": [
           {
            "colorbar": {
             "outlinewidth": 0,
             "ticks": ""
            },
            "colorscale": [
             [
              0,
              "#0d0887"
             ],
             [
              0.1111111111111111,
              "#46039f"
             ],
             [
              0.2222222222222222,
              "#7201a8"
             ],
             [
              0.3333333333333333,
              "#9c179e"
             ],
             [
              0.4444444444444444,
              "#bd3786"
             ],
             [
              0.5555555555555556,
              "#d8576b"
             ],
             [
              0.6666666666666666,
              "#ed7953"
             ],
             [
              0.7777777777777778,
              "#fb9f3a"
             ],
             [
              0.8888888888888888,
              "#fdca26"
             ],
             [
              1,
              "#f0f921"
             ]
            ],
            "type": "heatmap"
           }
          ],
          "heatmapgl": [
           {
            "colorbar": {
             "outlinewidth": 0,
             "ticks": ""
            },
            "colorscale": [
             [
              0,
              "#0d0887"
             ],
             [
              0.1111111111111111,
              "#46039f"
             ],
             [
              0.2222222222222222,
              "#7201a8"
             ],
             [
              0.3333333333333333,
              "#9c179e"
             ],
             [
              0.4444444444444444,
              "#bd3786"
             ],
             [
              0.5555555555555556,
              "#d8576b"
             ],
             [
              0.6666666666666666,
              "#ed7953"
             ],
             [
              0.7777777777777778,
              "#fb9f3a"
             ],
             [
              0.8888888888888888,
              "#fdca26"
             ],
             [
              1,
              "#f0f921"
             ]
            ],
            "type": "heatmapgl"
           }
          ],
          "histogram": [
           {
            "marker": {
             "pattern": {
              "fillmode": "overlay",
              "size": 10,
              "solidity": 0.2
             }
            },
            "type": "histogram"
           }
          ],
          "histogram2d": [
           {
            "colorbar": {
             "outlinewidth": 0,
             "ticks": ""
            },
            "colorscale": [
             [
              0,
              "#0d0887"
             ],
             [
              0.1111111111111111,
              "#46039f"
             ],
             [
              0.2222222222222222,
              "#7201a8"
             ],
             [
              0.3333333333333333,
              "#9c179e"
             ],
             [
              0.4444444444444444,
              "#bd3786"
             ],
             [
              0.5555555555555556,
              "#d8576b"
             ],
             [
              0.6666666666666666,
              "#ed7953"
             ],
             [
              0.7777777777777778,
              "#fb9f3a"
             ],
             [
              0.8888888888888888,
              "#fdca26"
             ],
             [
              1,
              "#f0f921"
             ]
            ],
            "type": "histogram2d"
           }
          ],
          "histogram2dcontour": [
           {
            "colorbar": {
             "outlinewidth": 0,
             "ticks": ""
            },
            "colorscale": [
             [
              0,
              "#0d0887"
             ],
             [
              0.1111111111111111,
              "#46039f"
             ],
             [
              0.2222222222222222,
              "#7201a8"
             ],
             [
              0.3333333333333333,
              "#9c179e"
             ],
             [
              0.4444444444444444,
              "#bd3786"
             ],
             [
              0.5555555555555556,
              "#d8576b"
             ],
             [
              0.6666666666666666,
              "#ed7953"
             ],
             [
              0.7777777777777778,
              "#fb9f3a"
             ],
             [
              0.8888888888888888,
              "#fdca26"
             ],
             [
              1,
              "#f0f921"
             ]
            ],
            "type": "histogram2dcontour"
           }
          ],
          "mesh3d": [
           {
            "colorbar": {
             "outlinewidth": 0,
             "ticks": ""
            },
            "type": "mesh3d"
           }
          ],
          "parcoords": [
           {
            "line": {
             "colorbar": {
              "outlinewidth": 0,
              "ticks": ""
             }
            },
            "type": "parcoords"
           }
          ],
          "pie": [
           {
            "automargin": true,
            "type": "pie"
           }
          ],
          "scatter": [
           {
            "fillpattern": {
             "fillmode": "overlay",
             "size": 10,
             "solidity": 0.2
            },
            "type": "scatter"
           }
          ],
          "scatter3d": [
           {
            "line": {
             "colorbar": {
              "outlinewidth": 0,
              "ticks": ""
             }
            },
            "marker": {
             "colorbar": {
              "outlinewidth": 0,
              "ticks": ""
             }
            },
            "type": "scatter3d"
           }
          ],
          "scattercarpet": [
           {
            "marker": {
             "colorbar": {
              "outlinewidth": 0,
              "ticks": ""
             }
            },
            "type": "scattercarpet"
           }
          ],
          "scattergeo": [
           {
            "marker": {
             "colorbar": {
              "outlinewidth": 0,
              "ticks": ""
             }
            },
            "type": "scattergeo"
           }
          ],
          "scattergl": [
           {
            "marker": {
             "colorbar": {
              "outlinewidth": 0,
              "ticks": ""
             }
            },
            "type": "scattergl"
           }
          ],
          "scattermapbox": [
           {
            "marker": {
             "colorbar": {
              "outlinewidth": 0,
              "ticks": ""
             }
            },
            "type": "scattermapbox"
           }
          ],
          "scatterpolar": [
           {
            "marker": {
             "colorbar": {
              "outlinewidth": 0,
              "ticks": ""
             }
            },
            "type": "scatterpolar"
           }
          ],
          "scatterpolargl": [
           {
            "marker": {
             "colorbar": {
              "outlinewidth": 0,
              "ticks": ""
             }
            },
            "type": "scatterpolargl"
           }
          ],
          "scatterternary": [
           {
            "marker": {
             "colorbar": {
              "outlinewidth": 0,
              "ticks": ""
             }
            },
            "type": "scatterternary"
           }
          ],
          "surface": [
           {
            "colorbar": {
             "outlinewidth": 0,
             "ticks": ""
            },
            "colorscale": [
             [
              0,
              "#0d0887"
             ],
             [
              0.1111111111111111,
              "#46039f"
             ],
             [
              0.2222222222222222,
              "#7201a8"
             ],
             [
              0.3333333333333333,
              "#9c179e"
             ],
             [
              0.4444444444444444,
              "#bd3786"
             ],
             [
              0.5555555555555556,
              "#d8576b"
             ],
             [
              0.6666666666666666,
              "#ed7953"
             ],
             [
              0.7777777777777778,
              "#fb9f3a"
             ],
             [
              0.8888888888888888,
              "#fdca26"
             ],
             [
              1,
              "#f0f921"
             ]
            ],
            "type": "surface"
           }
          ],
          "table": [
           {
            "cells": {
             "fill": {
              "color": "#EBF0F8"
             },
             "line": {
              "color": "white"
             }
            },
            "header": {
             "fill": {
              "color": "#C8D4E3"
             },
             "line": {
              "color": "white"
             }
            },
            "type": "table"
           }
          ]
         },
         "layout": {
          "annotationdefaults": {
           "arrowcolor": "#2a3f5f",
           "arrowhead": 0,
           "arrowwidth": 1
          },
          "autotypenumbers": "strict",
          "coloraxis": {
           "colorbar": {
            "outlinewidth": 0,
            "ticks": ""
           }
          },
          "colorscale": {
           "diverging": [
            [
             0,
             "#8e0152"
            ],
            [
             0.1,
             "#c51b7d"
            ],
            [
             0.2,
             "#de77ae"
            ],
            [
             0.3,
             "#f1b6da"
            ],
            [
             0.4,
             "#fde0ef"
            ],
            [
             0.5,
             "#f7f7f7"
            ],
            [
             0.6,
             "#e6f5d0"
            ],
            [
             0.7,
             "#b8e186"
            ],
            [
             0.8,
             "#7fbc41"
            ],
            [
             0.9,
             "#4d9221"
            ],
            [
             1,
             "#276419"
            ]
           ],
           "sequential": [
            [
             0,
             "#0d0887"
            ],
            [
             0.1111111111111111,
             "#46039f"
            ],
            [
             0.2222222222222222,
             "#7201a8"
            ],
            [
             0.3333333333333333,
             "#9c179e"
            ],
            [
             0.4444444444444444,
             "#bd3786"
            ],
            [
             0.5555555555555556,
             "#d8576b"
            ],
            [
             0.6666666666666666,
             "#ed7953"
            ],
            [
             0.7777777777777778,
             "#fb9f3a"
            ],
            [
             0.8888888888888888,
             "#fdca26"
            ],
            [
             1,
             "#f0f921"
            ]
           ],
           "sequentialminus": [
            [
             0,
             "#0d0887"
            ],
            [
             0.1111111111111111,
             "#46039f"
            ],
            [
             0.2222222222222222,
             "#7201a8"
            ],
            [
             0.3333333333333333,
             "#9c179e"
            ],
            [
             0.4444444444444444,
             "#bd3786"
            ],
            [
             0.5555555555555556,
             "#d8576b"
            ],
            [
             0.6666666666666666,
             "#ed7953"
            ],
            [
             0.7777777777777778,
             "#fb9f3a"
            ],
            [
             0.8888888888888888,
             "#fdca26"
            ],
            [
             1,
             "#f0f921"
            ]
           ]
          },
          "colorway": [
           "#636efa",
           "#EF553B",
           "#00cc96",
           "#ab63fa",
           "#FFA15A",
           "#19d3f3",
           "#FF6692",
           "#B6E880",
           "#FF97FF",
           "#FECB52"
          ],
          "font": {
           "color": "#2a3f5f"
          },
          "geo": {
           "bgcolor": "white",
           "lakecolor": "white",
           "landcolor": "#E5ECF6",
           "showlakes": true,
           "showland": true,
           "subunitcolor": "white"
          },
          "hoverlabel": {
           "align": "left"
          },
          "hovermode": "closest",
          "mapbox": {
           "style": "light"
          },
          "paper_bgcolor": "white",
          "plot_bgcolor": "#E5ECF6",
          "polar": {
           "angularaxis": {
            "gridcolor": "white",
            "linecolor": "white",
            "ticks": ""
           },
           "bgcolor": "#E5ECF6",
           "radialaxis": {
            "gridcolor": "white",
            "linecolor": "white",
            "ticks": ""
           }
          },
          "scene": {
           "xaxis": {
            "backgroundcolor": "#E5ECF6",
            "gridcolor": "white",
            "gridwidth": 2,
            "linecolor": "white",
            "showbackground": true,
            "ticks": "",
            "zerolinecolor": "white"
           },
           "yaxis": {
            "backgroundcolor": "#E5ECF6",
            "gridcolor": "white",
            "gridwidth": 2,
            "linecolor": "white",
            "showbackground": true,
            "ticks": "",
            "zerolinecolor": "white"
           },
           "zaxis": {
            "backgroundcolor": "#E5ECF6",
            "gridcolor": "white",
            "gridwidth": 2,
            "linecolor": "white",
            "showbackground": true,
            "ticks": "",
            "zerolinecolor": "white"
           }
          },
          "shapedefaults": {
           "line": {
            "color": "#2a3f5f"
           }
          },
          "ternary": {
           "aaxis": {
            "gridcolor": "white",
            "linecolor": "white",
            "ticks": ""
           },
           "baxis": {
            "gridcolor": "white",
            "linecolor": "white",
            "ticks": ""
           },
           "bgcolor": "#E5ECF6",
           "caxis": {
            "gridcolor": "white",
            "linecolor": "white",
            "ticks": ""
           }
          },
          "title": {
           "x": 0.05
          },
          "xaxis": {
           "automargin": true,
           "gridcolor": "white",
           "linecolor": "white",
           "ticks": "",
           "title": {
            "standoff": 15
           },
           "zerolinecolor": "white",
           "zerolinewidth": 2
          },
          "yaxis": {
           "automargin": true,
           "gridcolor": "white",
           "linecolor": "white",
           "ticks": "",
           "title": {
            "standoff": 15
           },
           "zerolinecolor": "white",
           "zerolinewidth": 2
          }
         }
        },
        "width": 500,
        "xaxis": {
         "showgrid": false,
         "title": {
          "text": " "
         }
        },
        "yaxis": {
         "categoryorder": "category descending",
         "showgrid": false,
         "showline": false,
         "ticksuffix": " ",
         "title": {
          "text": " "
         }
        }
       }
      }
     },
     "metadata": {},
     "output_type": "display_data"
    }
   ],
   "source": [
    "#\"gaze_left_count\", \"gaze_right_count\", \"rotation_left_count\", \"rotation_right_count\"\n",
    "fig_duration = go.Figure()\n",
    "fig_duration.add_trace(go.Bar(x=df_all.gaze_right_count, y=df_all.subject, \n",
    "                        orientation='h', showlegend=True,\n",
    "                        text=np.round(df_all.gaze_right_count,decimals = 0),\n",
    "                        name='Real Right Gazes', marker_color= marking_red))\n",
    "fig_duration.add_trace(go.Bar(x=df_all.rotation_right_count, y=df_all.subject, \n",
    "                        orientation='h', showlegend=True,\n",
    "                        text=np.round(df_all.rotation_right_count,decimals = 0),\n",
    "                        name='Measured Right Rotations', marker_color='#000000'))\n",
    "fig_duration.update_xaxes(showgrid=False)\n",
    "fig_duration.update_yaxes(showgrid=False, categoryorder=\"category descending\",\n",
    "                 ticksuffix=' ', showline=False)\n",
    "fig_duration.update_traces(hovertemplate=None)\n",
    "fig_duration.update_layout(\n",
    "#    title='Mean of Duration & Standingtimes per Situation (Seconds)(Field)',\n",
    "    margin=dict(t=80, b=0, l=70, r=40),\n",
    "    hovermode=\"y unified\", \n",
    "    xaxis_title=' ', yaxis_title=\" \",\n",
    "    width=500, height=320,\n",
    "    font=dict(family=\"Lato, sans-serif\",size=14),\n",
    "    legend=dict(orientation=\"h\", yanchor=\"bottom\",y=1, xanchor=\"center\", x=0.5),\n",
    "    hoverlabel=dict(font_size=13, font_family=\"Lato, sans-serif\")\n",
    "    #paper_bgcolor='rgba(0,0,0,0)',\n",
    "    #plot_bgcolor='rgba(0,0,0,0)'\n",
    ")"
   ]
  },
  {
   "cell_type": "code",
   "execution_count": 8,
   "metadata": {},
   "outputs": [
    {
     "data": {
      "text/plain": [
       "'The Mean of real gazes to the left was 117.75, compared to 109.625 measured gazes. Which gives us a 93.09978768577494 % loss rate'"
      ]
     },
     "metadata": {},
     "output_type": "display_data"
    },
    {
     "data": {
      "text/plain": [
       "'The Mean of real gazes to the right was 83.125, compared to 109.25 measured gazes. Which gives us a 131.42857142857142 % loss rate'"
      ]
     },
     "metadata": {},
     "output_type": "display_data"
    },
    {
     "data": {
      "text/plain": [
       "'The Mean of real gazes to the left was 117.75, compared to 90.625 measured gazes. Which gives us a 76.96390658174099 % loss rate'"
      ]
     },
     "metadata": {},
     "output_type": "display_data"
    },
    {
     "data": {
      "text/plain": [
       "'The Mean of real gazes to the right was 83.125, compared to 90.0 measured gazes. Which gives us a 108.27067669172932 % loss rate'"
      ]
     },
     "metadata": {},
     "output_type": "display_data"
    },
    {
     "data": {
      "text/plain": [
       "'The Mean of real gazes to the left was 117.75, compared to 75.5 measured gazes. Which gives us a 64.11889596602973 % loss rate'"
      ]
     },
     "metadata": {},
     "output_type": "display_data"
    },
    {
     "data": {
      "text/plain": [
       "'The Mean of real gazes to the right was 83.125, compared to 74.75 measured gazes. Which gives us a 89.92481203007519 % loss rate'"
      ]
     },
     "metadata": {},
     "output_type": "display_data"
    },
    {
     "data": {
      "application/vnd.plotly.v1+json": {
       "config": {
        "plotlyServerURL": "https://plot.ly"
       },
       "data": [
        {
         "marker": {
          "color": "#961C26"
         },
         "name": "Lossrate Left",
         "showlegend": true,
         "text": [
          93,
          77,
          64
         ],
         "type": "bar",
         "x": [
          20,
          25,
          30
         ],
         "y": [
          93.09978768577494,
          76.96390658174099,
          64.11889596602973
         ]
        },
        {
         "marker": {
          "color": "#000000"
         },
         "name": "Lossrate Right",
         "showlegend": true,
         "text": [
          131,
          108,
          90
         ],
         "type": "bar",
         "x": [
          20,
          25,
          30
         ],
         "y": [
          131.42857142857142,
          108.27067669172932,
          89.92481203007519
         ]
        }
       ],
       "layout": {
        "font": {
         "family": "Lato, sans-serif",
         "size": 14
        },
        "hoverlabel": {
         "font": {
          "family": "Lato, sans-serif",
          "size": 13
         }
        },
        "hovermode": "y unified",
        "legend": {
         "orientation": "h",
         "x": 0.5,
         "xanchor": "center",
         "y": 1,
         "yanchor": "bottom"
        },
        "margin": {
         "b": 0,
         "l": 70,
         "r": 40,
         "t": 80
        },
        "template": {
         "data": {
          "bar": [
           {
            "error_x": {
             "color": "#2a3f5f"
            },
            "error_y": {
             "color": "#2a3f5f"
            },
            "marker": {
             "line": {
              "color": "#E5ECF6",
              "width": 0.5
             },
             "pattern": {
              "fillmode": "overlay",
              "size": 10,
              "solidity": 0.2
             }
            },
            "type": "bar"
           }
          ],
          "barpolar": [
           {
            "marker": {
             "line": {
              "color": "#E5ECF6",
              "width": 0.5
             },
             "pattern": {
              "fillmode": "overlay",
              "size": 10,
              "solidity": 0.2
             }
            },
            "type": "barpolar"
           }
          ],
          "carpet": [
           {
            "aaxis": {
             "endlinecolor": "#2a3f5f",
             "gridcolor": "white",
             "linecolor": "white",
             "minorgridcolor": "white",
             "startlinecolor": "#2a3f5f"
            },
            "baxis": {
             "endlinecolor": "#2a3f5f",
             "gridcolor": "white",
             "linecolor": "white",
             "minorgridcolor": "white",
             "startlinecolor": "#2a3f5f"
            },
            "type": "carpet"
           }
          ],
          "choropleth": [
           {
            "colorbar": {
             "outlinewidth": 0,
             "ticks": ""
            },
            "type": "choropleth"
           }
          ],
          "contour": [
           {
            "colorbar": {
             "outlinewidth": 0,
             "ticks": ""
            },
            "colorscale": [
             [
              0,
              "#0d0887"
             ],
             [
              0.1111111111111111,
              "#46039f"
             ],
             [
              0.2222222222222222,
              "#7201a8"
             ],
             [
              0.3333333333333333,
              "#9c179e"
             ],
             [
              0.4444444444444444,
              "#bd3786"
             ],
             [
              0.5555555555555556,
              "#d8576b"
             ],
             [
              0.6666666666666666,
              "#ed7953"
             ],
             [
              0.7777777777777778,
              "#fb9f3a"
             ],
             [
              0.8888888888888888,
              "#fdca26"
             ],
             [
              1,
              "#f0f921"
             ]
            ],
            "type": "contour"
           }
          ],
          "contourcarpet": [
           {
            "colorbar": {
             "outlinewidth": 0,
             "ticks": ""
            },
            "type": "contourcarpet"
           }
          ],
          "heatmap": [
           {
            "colorbar": {
             "outlinewidth": 0,
             "ticks": ""
            },
            "colorscale": [
             [
              0,
              "#0d0887"
             ],
             [
              0.1111111111111111,
              "#46039f"
             ],
             [
              0.2222222222222222,
              "#7201a8"
             ],
             [
              0.3333333333333333,
              "#9c179e"
             ],
             [
              0.4444444444444444,
              "#bd3786"
             ],
             [
              0.5555555555555556,
              "#d8576b"
             ],
             [
              0.6666666666666666,
              "#ed7953"
             ],
             [
              0.7777777777777778,
              "#fb9f3a"
             ],
             [
              0.8888888888888888,
              "#fdca26"
             ],
             [
              1,
              "#f0f921"
             ]
            ],
            "type": "heatmap"
           }
          ],
          "heatmapgl": [
           {
            "colorbar": {
             "outlinewidth": 0,
             "ticks": ""
            },
            "colorscale": [
             [
              0,
              "#0d0887"
             ],
             [
              0.1111111111111111,
              "#46039f"
             ],
             [
              0.2222222222222222,
              "#7201a8"
             ],
             [
              0.3333333333333333,
              "#9c179e"
             ],
             [
              0.4444444444444444,
              "#bd3786"
             ],
             [
              0.5555555555555556,
              "#d8576b"
             ],
             [
              0.6666666666666666,
              "#ed7953"
             ],
             [
              0.7777777777777778,
              "#fb9f3a"
             ],
             [
              0.8888888888888888,
              "#fdca26"
             ],
             [
              1,
              "#f0f921"
             ]
            ],
            "type": "heatmapgl"
           }
          ],
          "histogram": [
           {
            "marker": {
             "pattern": {
              "fillmode": "overlay",
              "size": 10,
              "solidity": 0.2
             }
            },
            "type": "histogram"
           }
          ],
          "histogram2d": [
           {
            "colorbar": {
             "outlinewidth": 0,
             "ticks": ""
            },
            "colorscale": [
             [
              0,
              "#0d0887"
             ],
             [
              0.1111111111111111,
              "#46039f"
             ],
             [
              0.2222222222222222,
              "#7201a8"
             ],
             [
              0.3333333333333333,
              "#9c179e"
             ],
             [
              0.4444444444444444,
              "#bd3786"
             ],
             [
              0.5555555555555556,
              "#d8576b"
             ],
             [
              0.6666666666666666,
              "#ed7953"
             ],
             [
              0.7777777777777778,
              "#fb9f3a"
             ],
             [
              0.8888888888888888,
              "#fdca26"
             ],
             [
              1,
              "#f0f921"
             ]
            ],
            "type": "histogram2d"
           }
          ],
          "histogram2dcontour": [
           {
            "colorbar": {
             "outlinewidth": 0,
             "ticks": ""
            },
            "colorscale": [
             [
              0,
              "#0d0887"
             ],
             [
              0.1111111111111111,
              "#46039f"
             ],
             [
              0.2222222222222222,
              "#7201a8"
             ],
             [
              0.3333333333333333,
              "#9c179e"
             ],
             [
              0.4444444444444444,
              "#bd3786"
             ],
             [
              0.5555555555555556,
              "#d8576b"
             ],
             [
              0.6666666666666666,
              "#ed7953"
             ],
             [
              0.7777777777777778,
              "#fb9f3a"
             ],
             [
              0.8888888888888888,
              "#fdca26"
             ],
             [
              1,
              "#f0f921"
             ]
            ],
            "type": "histogram2dcontour"
           }
          ],
          "mesh3d": [
           {
            "colorbar": {
             "outlinewidth": 0,
             "ticks": ""
            },
            "type": "mesh3d"
           }
          ],
          "parcoords": [
           {
            "line": {
             "colorbar": {
              "outlinewidth": 0,
              "ticks": ""
             }
            },
            "type": "parcoords"
           }
          ],
          "pie": [
           {
            "automargin": true,
            "type": "pie"
           }
          ],
          "scatter": [
           {
            "fillpattern": {
             "fillmode": "overlay",
             "size": 10,
             "solidity": 0.2
            },
            "type": "scatter"
           }
          ],
          "scatter3d": [
           {
            "line": {
             "colorbar": {
              "outlinewidth": 0,
              "ticks": ""
             }
            },
            "marker": {
             "colorbar": {
              "outlinewidth": 0,
              "ticks": ""
             }
            },
            "type": "scatter3d"
           }
          ],
          "scattercarpet": [
           {
            "marker": {
             "colorbar": {
              "outlinewidth": 0,
              "ticks": ""
             }
            },
            "type": "scattercarpet"
           }
          ],
          "scattergeo": [
           {
            "marker": {
             "colorbar": {
              "outlinewidth": 0,
              "ticks": ""
             }
            },
            "type": "scattergeo"
           }
          ],
          "scattergl": [
           {
            "marker": {
             "colorbar": {
              "outlinewidth": 0,
              "ticks": ""
             }
            },
            "type": "scattergl"
           }
          ],
          "scattermapbox": [
           {
            "marker": {
             "colorbar": {
              "outlinewidth": 0,
              "ticks": ""
             }
            },
            "type": "scattermapbox"
           }
          ],
          "scatterpolar": [
           {
            "marker": {
             "colorbar": {
              "outlinewidth": 0,
              "ticks": ""
             }
            },
            "type": "scatterpolar"
           }
          ],
          "scatterpolargl": [
           {
            "marker": {
             "colorbar": {
              "outlinewidth": 0,
              "ticks": ""
             }
            },
            "type": "scatterpolargl"
           }
          ],
          "scatterternary": [
           {
            "marker": {
             "colorbar": {
              "outlinewidth": 0,
              "ticks": ""
             }
            },
            "type": "scatterternary"
           }
          ],
          "surface": [
           {
            "colorbar": {
             "outlinewidth": 0,
             "ticks": ""
            },
            "colorscale": [
             [
              0,
              "#0d0887"
             ],
             [
              0.1111111111111111,
              "#46039f"
             ],
             [
              0.2222222222222222,
              "#7201a8"
             ],
             [
              0.3333333333333333,
              "#9c179e"
             ],
             [
              0.4444444444444444,
              "#bd3786"
             ],
             [
              0.5555555555555556,
              "#d8576b"
             ],
             [
              0.6666666666666666,
              "#ed7953"
             ],
             [
              0.7777777777777778,
              "#fb9f3a"
             ],
             [
              0.8888888888888888,
              "#fdca26"
             ],
             [
              1,
              "#f0f921"
             ]
            ],
            "type": "surface"
           }
          ],
          "table": [
           {
            "cells": {
             "fill": {
              "color": "#EBF0F8"
             },
             "line": {
              "color": "white"
             }
            },
            "header": {
             "fill": {
              "color": "#C8D4E3"
             },
             "line": {
              "color": "white"
             }
            },
            "type": "table"
           }
          ]
         },
         "layout": {
          "annotationdefaults": {
           "arrowcolor": "#2a3f5f",
           "arrowhead": 0,
           "arrowwidth": 1
          },
          "autotypenumbers": "strict",
          "coloraxis": {
           "colorbar": {
            "outlinewidth": 0,
            "ticks": ""
           }
          },
          "colorscale": {
           "diverging": [
            [
             0,
             "#8e0152"
            ],
            [
             0.1,
             "#c51b7d"
            ],
            [
             0.2,
             "#de77ae"
            ],
            [
             0.3,
             "#f1b6da"
            ],
            [
             0.4,
             "#fde0ef"
            ],
            [
             0.5,
             "#f7f7f7"
            ],
            [
             0.6,
             "#e6f5d0"
            ],
            [
             0.7,
             "#b8e186"
            ],
            [
             0.8,
             "#7fbc41"
            ],
            [
             0.9,
             "#4d9221"
            ],
            [
             1,
             "#276419"
            ]
           ],
           "sequential": [
            [
             0,
             "#0d0887"
            ],
            [
             0.1111111111111111,
             "#46039f"
            ],
            [
             0.2222222222222222,
             "#7201a8"
            ],
            [
             0.3333333333333333,
             "#9c179e"
            ],
            [
             0.4444444444444444,
             "#bd3786"
            ],
            [
             0.5555555555555556,
             "#d8576b"
            ],
            [
             0.6666666666666666,
             "#ed7953"
            ],
            [
             0.7777777777777778,
             "#fb9f3a"
            ],
            [
             0.8888888888888888,
             "#fdca26"
            ],
            [
             1,
             "#f0f921"
            ]
           ],
           "sequentialminus": [
            [
             0,
             "#0d0887"
            ],
            [
             0.1111111111111111,
             "#46039f"
            ],
            [
             0.2222222222222222,
             "#7201a8"
            ],
            [
             0.3333333333333333,
             "#9c179e"
            ],
            [
             0.4444444444444444,
             "#bd3786"
            ],
            [
             0.5555555555555556,
             "#d8576b"
            ],
            [
             0.6666666666666666,
             "#ed7953"
            ],
            [
             0.7777777777777778,
             "#fb9f3a"
            ],
            [
             0.8888888888888888,
             "#fdca26"
            ],
            [
             1,
             "#f0f921"
            ]
           ]
          },
          "colorway": [
           "#636efa",
           "#EF553B",
           "#00cc96",
           "#ab63fa",
           "#FFA15A",
           "#19d3f3",
           "#FF6692",
           "#B6E880",
           "#FF97FF",
           "#FECB52"
          ],
          "font": {
           "color": "#2a3f5f"
          },
          "geo": {
           "bgcolor": "white",
           "lakecolor": "white",
           "landcolor": "#E5ECF6",
           "showlakes": true,
           "showland": true,
           "subunitcolor": "white"
          },
          "hoverlabel": {
           "align": "left"
          },
          "hovermode": "closest",
          "mapbox": {
           "style": "light"
          },
          "paper_bgcolor": "white",
          "plot_bgcolor": "#E5ECF6",
          "polar": {
           "angularaxis": {
            "gridcolor": "white",
            "linecolor": "white",
            "ticks": ""
           },
           "bgcolor": "#E5ECF6",
           "radialaxis": {
            "gridcolor": "white",
            "linecolor": "white",
            "ticks": ""
           }
          },
          "scene": {
           "xaxis": {
            "backgroundcolor": "#E5ECF6",
            "gridcolor": "white",
            "gridwidth": 2,
            "linecolor": "white",
            "showbackground": true,
            "ticks": "",
            "zerolinecolor": "white"
           },
           "yaxis": {
            "backgroundcolor": "#E5ECF6",
            "gridcolor": "white",
            "gridwidth": 2,
            "linecolor": "white",
            "showbackground": true,
            "ticks": "",
            "zerolinecolor": "white"
           },
           "zaxis": {
            "backgroundcolor": "#E5ECF6",
            "gridcolor": "white",
            "gridwidth": 2,
            "linecolor": "white",
            "showbackground": true,
            "ticks": "",
            "zerolinecolor": "white"
           }
          },
          "shapedefaults": {
           "line": {
            "color": "#2a3f5f"
           }
          },
          "ternary": {
           "aaxis": {
            "gridcolor": "white",
            "linecolor": "white",
            "ticks": ""
           },
           "baxis": {
            "gridcolor": "white",
            "linecolor": "white",
            "ticks": ""
           },
           "bgcolor": "#E5ECF6",
           "caxis": {
            "gridcolor": "white",
            "linecolor": "white",
            "ticks": ""
           }
          },
          "title": {
           "x": 0.05
          },
          "xaxis": {
           "automargin": true,
           "gridcolor": "white",
           "linecolor": "white",
           "ticks": "",
           "title": {
            "standoff": 15
           },
           "zerolinecolor": "white",
           "zerolinewidth": 2
          },
          "yaxis": {
           "automargin": true,
           "gridcolor": "white",
           "linecolor": "white",
           "ticks": "",
           "title": {
            "standoff": 15
           },
           "zerolinecolor": "white",
           "zerolinewidth": 2
          }
         }
        },
        "xaxis": {
         "showgrid": false,
         "title": {
          "text": "Threshhold"
         }
        },
        "yaxis": {
         "categoryorder": "category descending",
         "showgrid": false,
         "showline": false,
         "ticksuffix": " ",
         "title": {
          "text": "Lossrate Percentage"
         }
        }
       }
      }
     },
     "metadata": {},
     "output_type": "display_data"
    }
   ],
   "source": [
    "left_loss = df_all.loc[\"Total\"].rotation_left_count / df_all.loc[\"Total\"].gaze_left_count * 100\n",
    "right_loss = df_all.loc[\"Total\"].rotation_right_count / df_all.loc[\"Total\"].gaze_right_count * 100\n",
    "\n",
    "left_loss_25 = df_all_25.loc[\"Total\"].rotation_left_count / df_all_25.loc[\"Total\"].gaze_left_count * 100\n",
    "right_loss_25 = df_all_25.loc[\"Total\"].rotation_right_count / df_all_25.loc[\"Total\"].gaze_right_count * 100\n",
    "\n",
    "left_loss_30 = df_all_30.loc[\"Total\"].rotation_left_count / df_all_30.loc[\"Total\"].gaze_left_count * 100\n",
    "right_loss_30 = df_all_30.loc[\"Total\"].rotation_right_count / df_all_30.loc[\"Total\"].gaze_right_count * 100\n",
    "\n",
    "display(\"The Mean of real gazes to the left was {}, compared to {} measured gazes. Which gives us a {} % loss rate\".format(df_all.loc[\"Total\"].gaze_left_count,df_all.loc[\"Total\"].rotation_left_count,left_loss))\n",
    "display(\"The Mean of real gazes to the right was {}, compared to {} measured gazes. Which gives us a {} % loss rate\".format(df_all.loc[\"Total\"].gaze_right_count,df_all.loc[\"Total\"].rotation_right_count,right_loss))\n",
    "\n",
    "display(\"The Mean of real gazes to the left was {}, compared to {} measured gazes. Which gives us a {} % loss rate\".format(df_all_25.loc[\"Total\"].gaze_left_count,df_all_25.loc[\"Total\"].rotation_left_count,left_loss_25))\n",
    "display(\"The Mean of real gazes to the right was {}, compared to {} measured gazes. Which gives us a {} % loss rate\".format(df_all_25.loc[\"Total\"].gaze_right_count,df_all_25.loc[\"Total\"].rotation_right_count,right_loss_25))\n",
    "\n",
    "display(\"The Mean of real gazes to the left was {}, compared to {} measured gazes. Which gives us a {} % loss rate\".format(df_all_30.loc[\"Total\"].gaze_left_count,df_all_30.loc[\"Total\"].rotation_left_count,left_loss_30))\n",
    "display(\"The Mean of real gazes to the right was {}, compared to {} measured gazes. Which gives us a {} % loss rate\".format(df_all_30.loc[\"Total\"].gaze_right_count,df_all_30.loc[\"Total\"].rotation_right_count,right_loss_30))\n",
    "\n",
    "d = {'threshhold': [20,25,30], 'lossrate_left': [left_loss,left_loss_25,left_loss_30],'lossrate_right':[right_loss,right_loss_25,right_loss_30]}\n",
    "df_lossrates = pd.DataFrame(data=d)\n",
    "\n",
    "fig_duration = go.Figure()\n",
    "fig_duration.add_trace(go.Bar(x=df_lossrates.threshhold, y=df_lossrates.lossrate_left, showlegend=True, text=np.round(df_lossrates.lossrate_left,decimals = 0), name='Lossrate Left', marker_color= marking_red))\n",
    "fig_duration.add_trace(go.Bar(x=df_lossrates.threshhold, y=df_lossrates.lossrate_right, showlegend=True, text=np.round(df_lossrates.lossrate_right,decimals = 0), name='Lossrate Right', marker_color='#000000'))\n",
    "fig_duration.update_xaxes(showgrid=False)\n",
    "fig_duration.update_yaxes(showgrid=False, categoryorder=\"category descending\",\n",
    "                 ticksuffix=' ', showline=False)\n",
    "fig_duration.update_traces(hovertemplate=None)\n",
    "fig_duration.update_layout(\n",
    "#    title='Mean of Duration & Standingtimes per Situation (Seconds)(Field)',\n",
    "    margin=dict(t=80, b=0, l=70, r=40),\n",
    "    hovermode=\"y unified\", \n",
    "    xaxis_title='Threshhold', yaxis_title=\"Lossrate Percentage\",\n",
    "    font=dict(family=\"Lato, sans-serif\",size=14),\n",
    "    legend=dict(orientation=\"h\", yanchor=\"bottom\",y=1, xanchor=\"center\", x=0.5),\n",
    "    hoverlabel=dict(font_size=13, font_family=\"Lato, sans-serif\")\n",
    "    #paper_bgcolor='rgba(0,0,0,0)',\n",
    "    #plot_bgcolor='rgba(0,0,0,0)'\n",
    ")"
   ]
  },
  {
   "cell_type": "code",
   "execution_count": 9,
   "metadata": {},
   "outputs": [
    {
     "data": {
      "text/plain": [
       "[['no value', 'no value', 'right', 'left', 'left'],\n",
       " ['no value', 'no value', 'right', 'left', 'no value'],\n",
       " ['no value', 'no value', 'right', 'left', 'right']]"
      ]
     },
     "metadata": {},
     "output_type": "display_data"
    }
   ],
   "source": [
    "means = [100,0,-100]\n",
    "yaws = [[110,90,121,79,-20],[10,-10,21,-21,0],[-90,-110,-79,-121,20]]\n",
    "thresh = 20\n",
    "\n",
    "results = []\n",
    "for mean,yaws in zip(means,yaws):\n",
    "    result = []\n",
    "    for yaw in yaws:\n",
    "        if  yaw - mean > thresh:\n",
    "            result.append(\"right\")\n",
    "        elif yaw - mean < - thresh:\n",
    "            result.append(\"left\")\n",
    "        else:\n",
    "            result.append(\"no value\")\n",
    "    results.append(result)\n",
    "display(results)"
   ]
  },
  {
   "cell_type": "code",
   "execution_count": 10,
   "metadata": {},
   "outputs": [
    {
     "data": {
      "text/html": [
       "<div>\n",
       "<style scoped>\n",
       "    .dataframe tbody tr th:only-of-type {\n",
       "        vertical-align: middle;\n",
       "    }\n",
       "\n",
       "    .dataframe tbody tr th {\n",
       "        vertical-align: top;\n",
       "    }\n",
       "\n",
       "    .dataframe thead th {\n",
       "        text-align: right;\n",
       "    }\n",
       "</style>\n",
       "<table border=\"1\" class=\"dataframe\">\n",
       "  <thead>\n",
       "    <tr style=\"text-align: right;\">\n",
       "      <th></th>\n",
       "      <th>phoneBattery</th>\n",
       "      <th>airpodMotionData.timestamp</th>\n",
       "      <th>airpodMotionData.rotationRate.z</th>\n",
       "      <th>airpodMotionData.rotationRate.x</th>\n",
       "      <th>airpodMotionData.rotationRate.y</th>\n",
       "      <th>airpodMotionData.pitch</th>\n",
       "      <th>airpodMotionData.magneticField.y</th>\n",
       "      <th>airpodMotionData.magneticField.x</th>\n",
       "      <th>airpodMotionData.magneticField.z</th>\n",
       "      <th>airpodMotionData.magneticField.accuracy</th>\n",
       "      <th>...</th>\n",
       "      <th>airpodsRollDegrees</th>\n",
       "      <th>phoneRollDegrees</th>\n",
       "      <th>airpodsPitchDegrees</th>\n",
       "      <th>phonePitchDegrees</th>\n",
       "      <th>relativeYaw</th>\n",
       "      <th>relativeRoll</th>\n",
       "      <th>relativePitch</th>\n",
       "      <th>mean_rotation</th>\n",
       "      <th>rotation</th>\n",
       "      <th>group_index</th>\n",
       "    </tr>\n",
       "    <tr>\n",
       "      <th>timestamp</th>\n",
       "      <th></th>\n",
       "      <th></th>\n",
       "      <th></th>\n",
       "      <th></th>\n",
       "      <th></th>\n",
       "      <th></th>\n",
       "      <th></th>\n",
       "      <th></th>\n",
       "      <th></th>\n",
       "      <th></th>\n",
       "      <th></th>\n",
       "      <th></th>\n",
       "      <th></th>\n",
       "      <th></th>\n",
       "      <th></th>\n",
       "      <th></th>\n",
       "      <th></th>\n",
       "      <th></th>\n",
       "      <th></th>\n",
       "      <th></th>\n",
       "      <th></th>\n",
       "    </tr>\n",
       "  </thead>\n",
       "  <tbody>\n",
       "    <tr>\n",
       "      <th>1.165085</th>\n",
       "      <td>0.94</td>\n",
       "      <td>762007.623706</td>\n",
       "      <td>-0.002022</td>\n",
       "      <td>0.032764</td>\n",
       "      <td>-0.017743</td>\n",
       "      <td>-1.073767</td>\n",
       "      <td>0.0</td>\n",
       "      <td>0.0</td>\n",
       "      <td>0.0</td>\n",
       "      <td>-1.0</td>\n",
       "      <td>...</td>\n",
       "      <td>-4.534528</td>\n",
       "      <td>1.199794</td>\n",
       "      <td>-61.522306</td>\n",
       "      <td>16.531063</td>\n",
       "      <td>2.210962</td>\n",
       "      <td>78.174449</td>\n",
       "      <td>2.873266</td>\n",
       "      <td>4.994630</td>\n",
       "      <td>l</td>\n",
       "      <td>2</td>\n",
       "    </tr>\n",
       "    <tr>\n",
       "      <th>1.664911</th>\n",
       "      <td>0.94</td>\n",
       "      <td>762008.123239</td>\n",
       "      <td>-0.041935</td>\n",
       "      <td>-0.044114</td>\n",
       "      <td>-0.014333</td>\n",
       "      <td>-1.038477</td>\n",
       "      <td>0.0</td>\n",
       "      <td>0.0</td>\n",
       "      <td>0.0</td>\n",
       "      <td>-1.0</td>\n",
       "      <td>...</td>\n",
       "      <td>-4.473483</td>\n",
       "      <td>1.226002</td>\n",
       "      <td>-59.500331</td>\n",
       "      <td>16.519019</td>\n",
       "      <td>2.360732</td>\n",
       "      <td>76.145172</td>\n",
       "      <td>2.783257</td>\n",
       "      <td>4.994630</td>\n",
       "      <td>l</td>\n",
       "      <td>2</td>\n",
       "    </tr>\n",
       "    <tr>\n",
       "      <th>2.165612</th>\n",
       "      <td>0.94</td>\n",
       "      <td>762008.602247</td>\n",
       "      <td>-0.008850</td>\n",
       "      <td>0.019192</td>\n",
       "      <td>0.009143</td>\n",
       "      <td>-1.031680</td>\n",
       "      <td>0.0</td>\n",
       "      <td>0.0</td>\n",
       "      <td>0.0</td>\n",
       "      <td>-1.0</td>\n",
       "      <td>...</td>\n",
       "      <td>-4.631478</td>\n",
       "      <td>1.166847</td>\n",
       "      <td>-59.110896</td>\n",
       "      <td>16.526571</td>\n",
       "      <td>2.515869</td>\n",
       "      <td>75.769996</td>\n",
       "      <td>2.605604</td>\n",
       "      <td>4.994630</td>\n",
       "      <td>l</td>\n",
       "      <td>2</td>\n",
       "    </tr>\n",
       "    <tr>\n",
       "      <th>2.664987</th>\n",
       "      <td>0.94</td>\n",
       "      <td>762009.082347</td>\n",
       "      <td>0.017740</td>\n",
       "      <td>0.036596</td>\n",
       "      <td>0.001271</td>\n",
       "      <td>-1.043997</td>\n",
       "      <td>0.0</td>\n",
       "      <td>0.0</td>\n",
       "      <td>0.0</td>\n",
       "      <td>-1.0</td>\n",
       "      <td>...</td>\n",
       "      <td>-4.994832</td>\n",
       "      <td>1.189195</td>\n",
       "      <td>-59.816631</td>\n",
       "      <td>16.540248</td>\n",
       "      <td>2.764309</td>\n",
       "      <td>76.506042</td>\n",
       "      <td>2.509173</td>\n",
       "      <td>4.994630</td>\n",
       "      <td>l</td>\n",
       "      <td>2</td>\n",
       "    </tr>\n",
       "    <tr>\n",
       "      <th>3.165614</th>\n",
       "      <td>0.94</td>\n",
       "      <td>762009.627349</td>\n",
       "      <td>-0.003157</td>\n",
       "      <td>0.003358</td>\n",
       "      <td>0.007420</td>\n",
       "      <td>-1.042529</td>\n",
       "      <td>0.0</td>\n",
       "      <td>0.0</td>\n",
       "      <td>0.0</td>\n",
       "      <td>-1.0</td>\n",
       "      <td>...</td>\n",
       "      <td>-4.928547</td>\n",
       "      <td>1.195579</td>\n",
       "      <td>-59.732501</td>\n",
       "      <td>16.545982</td>\n",
       "      <td>2.747888</td>\n",
       "      <td>76.424971</td>\n",
       "      <td>2.493458</td>\n",
       "      <td>4.994630</td>\n",
       "      <td>l</td>\n",
       "      <td>2</td>\n",
       "    </tr>\n",
       "    <tr>\n",
       "      <th>...</th>\n",
       "      <td>...</td>\n",
       "      <td>...</td>\n",
       "      <td>...</td>\n",
       "      <td>...</td>\n",
       "      <td>...</td>\n",
       "      <td>...</td>\n",
       "      <td>...</td>\n",
       "      <td>...</td>\n",
       "      <td>...</td>\n",
       "      <td>...</td>\n",
       "      <td>...</td>\n",
       "      <td>...</td>\n",
       "      <td>...</td>\n",
       "      <td>...</td>\n",
       "      <td>...</td>\n",
       "      <td>...</td>\n",
       "      <td>...</td>\n",
       "      <td>...</td>\n",
       "      <td>...</td>\n",
       "      <td>...</td>\n",
       "      <td>...</td>\n",
       "    </tr>\n",
       "    <tr>\n",
       "      <th>1494.679138</th>\n",
       "      <td>0.87</td>\n",
       "      <td>763501.086972</td>\n",
       "      <td>0.028562</td>\n",
       "      <td>-0.142860</td>\n",
       "      <td>0.050065</td>\n",
       "      <td>-0.774176</td>\n",
       "      <td>0.0</td>\n",
       "      <td>0.0</td>\n",
       "      <td>0.0</td>\n",
       "      <td>-1.0</td>\n",
       "      <td>...</td>\n",
       "      <td>15.639708</td>\n",
       "      <td>-0.750607</td>\n",
       "      <td>-44.357028</td>\n",
       "      <td>18.484429</td>\n",
       "      <td>80.417742</td>\n",
       "      <td>14.259887</td>\n",
       "      <td>-47.051880</td>\n",
       "      <td>63.605501</td>\n",
       "      <td>l</td>\n",
       "      <td>154</td>\n",
       "    </tr>\n",
       "    <tr>\n",
       "      <th>1495.178408</th>\n",
       "      <td>0.87</td>\n",
       "      <td>763501.600987</td>\n",
       "      <td>0.173326</td>\n",
       "      <td>-0.224200</td>\n",
       "      <td>0.257463</td>\n",
       "      <td>-0.807444</td>\n",
       "      <td>0.0</td>\n",
       "      <td>0.0</td>\n",
       "      <td>0.0</td>\n",
       "      <td>-1.0</td>\n",
       "      <td>...</td>\n",
       "      <td>22.332218</td>\n",
       "      <td>-0.761616</td>\n",
       "      <td>-46.263157</td>\n",
       "      <td>18.433468</td>\n",
       "      <td>79.086041</td>\n",
       "      <td>11.476223</td>\n",
       "      <td>-50.619291</td>\n",
       "      <td>63.605501</td>\n",
       "      <td>l</td>\n",
       "      <td>154</td>\n",
       "    </tr>\n",
       "    <tr>\n",
       "      <th>1495.679116</th>\n",
       "      <td>0.87</td>\n",
       "      <td>763501.987144</td>\n",
       "      <td>-0.399359</td>\n",
       "      <td>0.131666</td>\n",
       "      <td>-0.536952</td>\n",
       "      <td>-0.832135</td>\n",
       "      <td>0.0</td>\n",
       "      <td>0.0</td>\n",
       "      <td>0.0</td>\n",
       "      <td>-1.0</td>\n",
       "      <td>...</td>\n",
       "      <td>25.156945</td>\n",
       "      <td>-0.685729</td>\n",
       "      <td>-47.677801</td>\n",
       "      <td>18.432843</td>\n",
       "      <td>80.050095</td>\n",
       "      <td>9.565400</td>\n",
       "      <td>-52.575041</td>\n",
       "      <td>63.605501</td>\n",
       "      <td>l</td>\n",
       "      <td>154</td>\n",
       "    </tr>\n",
       "    <tr>\n",
       "      <th>1496.179159</th>\n",
       "      <td>0.87</td>\n",
       "      <td>763502.588448</td>\n",
       "      <td>0.042380</td>\n",
       "      <td>-0.058427</td>\n",
       "      <td>-0.148839</td>\n",
       "      <td>-0.793563</td>\n",
       "      <td>0.0</td>\n",
       "      <td>0.0</td>\n",
       "      <td>0.0</td>\n",
       "      <td>-1.0</td>\n",
       "      <td>...</td>\n",
       "      <td>5.578876</td>\n",
       "      <td>-1.132823</td>\n",
       "      <td>-45.467800</td>\n",
       "      <td>18.367603</td>\n",
       "      <td>81.131522</td>\n",
       "      <td>20.809224</td>\n",
       "      <td>-46.759668</td>\n",
       "      <td>63.605501</td>\n",
       "      <td>l</td>\n",
       "      <td>154</td>\n",
       "    </tr>\n",
       "    <tr>\n",
       "      <th>1496.709668</th>\n",
       "      <td>0.87</td>\n",
       "      <td>763503.135198</td>\n",
       "      <td>0.023339</td>\n",
       "      <td>0.046082</td>\n",
       "      <td>-0.082899</td>\n",
       "      <td>-0.807732</td>\n",
       "      <td>0.0</td>\n",
       "      <td>0.0</td>\n",
       "      <td>0.0</td>\n",
       "      <td>-1.0</td>\n",
       "      <td>...</td>\n",
       "      <td>2.039520</td>\n",
       "      <td>-1.209175</td>\n",
       "      <td>-46.279655</td>\n",
       "      <td>18.409103</td>\n",
       "      <td>78.131261</td>\n",
       "      <td>25.570379</td>\n",
       "      <td>-47.039485</td>\n",
       "      <td>63.605501</td>\n",
       "      <td>l</td>\n",
       "      <td>154</td>\n",
       "    </tr>\n",
       "  </tbody>\n",
       "</table>\n",
       "<p>2701 rows × 77 columns</p>\n",
       "</div>"
      ],
      "text/plain": [
       "             phoneBattery  airpodMotionData.timestamp  \\\n",
       "timestamp                                               \n",
       "1.165085             0.94               762007.623706   \n",
       "1.664911             0.94               762008.123239   \n",
       "2.165612             0.94               762008.602247   \n",
       "2.664987             0.94               762009.082347   \n",
       "3.165614             0.94               762009.627349   \n",
       "...                   ...                         ...   \n",
       "1494.679138          0.87               763501.086972   \n",
       "1495.178408          0.87               763501.600987   \n",
       "1495.679116          0.87               763501.987144   \n",
       "1496.179159          0.87               763502.588448   \n",
       "1496.709668          0.87               763503.135198   \n",
       "\n",
       "             airpodMotionData.rotationRate.z  airpodMotionData.rotationRate.x  \\\n",
       "timestamp                                                                       \n",
       "1.165085                           -0.002022                         0.032764   \n",
       "1.664911                           -0.041935                        -0.044114   \n",
       "2.165612                           -0.008850                         0.019192   \n",
       "2.664987                            0.017740                         0.036596   \n",
       "3.165614                           -0.003157                         0.003358   \n",
       "...                                      ...                              ...   \n",
       "1494.679138                         0.028562                        -0.142860   \n",
       "1495.178408                         0.173326                        -0.224200   \n",
       "1495.679116                        -0.399359                         0.131666   \n",
       "1496.179159                         0.042380                        -0.058427   \n",
       "1496.709668                         0.023339                         0.046082   \n",
       "\n",
       "             airpodMotionData.rotationRate.y  airpodMotionData.pitch  \\\n",
       "timestamp                                                              \n",
       "1.165085                           -0.017743               -1.073767   \n",
       "1.664911                           -0.014333               -1.038477   \n",
       "2.165612                            0.009143               -1.031680   \n",
       "2.664987                            0.001271               -1.043997   \n",
       "3.165614                            0.007420               -1.042529   \n",
       "...                                      ...                     ...   \n",
       "1494.679138                         0.050065               -0.774176   \n",
       "1495.178408                         0.257463               -0.807444   \n",
       "1495.679116                        -0.536952               -0.832135   \n",
       "1496.179159                        -0.148839               -0.793563   \n",
       "1496.709668                        -0.082899               -0.807732   \n",
       "\n",
       "             airpodMotionData.magneticField.y  \\\n",
       "timestamp                                       \n",
       "1.165085                                  0.0   \n",
       "1.664911                                  0.0   \n",
       "2.165612                                  0.0   \n",
       "2.664987                                  0.0   \n",
       "3.165614                                  0.0   \n",
       "...                                       ...   \n",
       "1494.679138                               0.0   \n",
       "1495.178408                               0.0   \n",
       "1495.679116                               0.0   \n",
       "1496.179159                               0.0   \n",
       "1496.709668                               0.0   \n",
       "\n",
       "             airpodMotionData.magneticField.x  \\\n",
       "timestamp                                       \n",
       "1.165085                                  0.0   \n",
       "1.664911                                  0.0   \n",
       "2.165612                                  0.0   \n",
       "2.664987                                  0.0   \n",
       "3.165614                                  0.0   \n",
       "...                                       ...   \n",
       "1494.679138                               0.0   \n",
       "1495.178408                               0.0   \n",
       "1495.679116                               0.0   \n",
       "1496.179159                               0.0   \n",
       "1496.709668                               0.0   \n",
       "\n",
       "             airpodMotionData.magneticField.z  \\\n",
       "timestamp                                       \n",
       "1.165085                                  0.0   \n",
       "1.664911                                  0.0   \n",
       "2.165612                                  0.0   \n",
       "2.664987                                  0.0   \n",
       "3.165614                                  0.0   \n",
       "...                                       ...   \n",
       "1494.679138                               0.0   \n",
       "1495.178408                               0.0   \n",
       "1495.679116                               0.0   \n",
       "1496.179159                               0.0   \n",
       "1496.709668                               0.0   \n",
       "\n",
       "             airpodMotionData.magneticField.accuracy  ...  airpodsRollDegrees  \\\n",
       "timestamp                                             ...                       \n",
       "1.165085                                        -1.0  ...           -4.534528   \n",
       "1.664911                                        -1.0  ...           -4.473483   \n",
       "2.165612                                        -1.0  ...           -4.631478   \n",
       "2.664987                                        -1.0  ...           -4.994832   \n",
       "3.165614                                        -1.0  ...           -4.928547   \n",
       "...                                              ...  ...                 ...   \n",
       "1494.679138                                     -1.0  ...           15.639708   \n",
       "1495.178408                                     -1.0  ...           22.332218   \n",
       "1495.679116                                     -1.0  ...           25.156945   \n",
       "1496.179159                                     -1.0  ...            5.578876   \n",
       "1496.709668                                     -1.0  ...            2.039520   \n",
       "\n",
       "             phoneRollDegrees  airpodsPitchDegrees  phonePitchDegrees  \\\n",
       "timestamp                                                               \n",
       "1.165085             1.199794           -61.522306          16.531063   \n",
       "1.664911             1.226002           -59.500331          16.519019   \n",
       "2.165612             1.166847           -59.110896          16.526571   \n",
       "2.664987             1.189195           -59.816631          16.540248   \n",
       "3.165614             1.195579           -59.732501          16.545982   \n",
       "...                       ...                  ...                ...   \n",
       "1494.679138         -0.750607           -44.357028          18.484429   \n",
       "1495.178408         -0.761616           -46.263157          18.433468   \n",
       "1495.679116         -0.685729           -47.677801          18.432843   \n",
       "1496.179159         -1.132823           -45.467800          18.367603   \n",
       "1496.709668         -1.209175           -46.279655          18.409103   \n",
       "\n",
       "             relativeYaw  relativeRoll  relativePitch  mean_rotation  \\\n",
       "timestamp                                                              \n",
       "1.165085        2.210962     78.174449       2.873266       4.994630   \n",
       "1.664911        2.360732     76.145172       2.783257       4.994630   \n",
       "2.165612        2.515869     75.769996       2.605604       4.994630   \n",
       "2.664987        2.764309     76.506042       2.509173       4.994630   \n",
       "3.165614        2.747888     76.424971       2.493458       4.994630   \n",
       "...                  ...           ...            ...            ...   \n",
       "1494.679138    80.417742     14.259887     -47.051880      63.605501   \n",
       "1495.178408    79.086041     11.476223     -50.619291      63.605501   \n",
       "1495.679116    80.050095      9.565400     -52.575041      63.605501   \n",
       "1496.179159    81.131522     20.809224     -46.759668      63.605501   \n",
       "1496.709668    78.131261     25.570379     -47.039485      63.605501   \n",
       "\n",
       "             rotation  group_index  \n",
       "timestamp                           \n",
       "1.165085            l            2  \n",
       "1.664911            l            2  \n",
       "2.165612            l            2  \n",
       "2.664987            l            2  \n",
       "3.165614            l            2  \n",
       "...               ...          ...  \n",
       "1494.679138         l          154  \n",
       "1495.178408         l          154  \n",
       "1495.679116         l          154  \n",
       "1496.179159         l          154  \n",
       "1496.709668         l          154  \n",
       "\n",
       "[2701 rows x 77 columns]"
      ]
     },
     "metadata": {},
     "output_type": "display_data"
    },
    {
     "data": {
      "application/vnd.plotly.v1+json": {
       "config": {
        "plotlyServerURL": "https://plot.ly"
       },
       "data": [
        {
         "marker": {
          "color": "#961C26"
         },
         "mode": "markers",
         "name": "Lossrate Left",
         "showlegend": true,
         "text": [
          93,
          77,
          64
         ],
         "type": "scatter",
         "x": [
          0.6655279397964478,
          1.165084958076477,
          1.6649110317230225,
          2.165611982345581,
          2.6649869680404663,
          3.1656140089035034,
          3.665616989135742,
          4.165568947792053,
          4.665578007698059,
          5.165586948394775,
          5.665588974952698,
          6.165616035461426,
          6.66569197177887,
          7.166443943977356,
          7.664785027503967,
          8.165607929229736,
          8.667259931564331,
          9.168234944343569,
          9.668134927749634,
          10.168377041816711,
          10.671273946762083,
          11.172466039657593,
          11.66571295261383,
          12.16552197933197,
          12.665666937828064,
          13.165665984153748,
          13.665024995803831,
          14.165706992149351,
          14.664775013923643,
          15.165758967399595,
          15.664759039878843,
          16.165755033493042,
          16.665727972984314,
          17.169710993766785,
          17.66725492477417,
          18.16974103450775,
          18.6657749414444,
          19.17098999023437,
          19.67159593105316,
          20.165791988372803,
          20.665794014930725,
          21.1657589673996,
          21.665876030921936,
          22.165802001953125,
          22.66586995124817,
          23.165817975997925,
          23.665828943252563,
          24.16586995124817,
          24.664870977401733,
          25.16593897342682,
          25.66606295108795,
          26.167693972587585,
          26.665856957435608,
          27.16588699817657,
          27.66588592529297,
          28.16549003124237,
          28.665897965431213,
          29.165912985801697,
          29.66587197780609,
          30.16543996334076,
          30.66594398021698,
          31.16587996482849,
          31.6653870344162,
          32.16508400440216,
          32.665091037750244,
          33.16588997840881,
          33.66617298126221,
          34.16612195968628,
          34.66602802276611,
          35.16601300239563,
          35.66615295410156,
          36.1660749912262,
          36.66568195819855,
          37.16607093811035,
          37.66604292392731,
          38.16603195667267,
          38.66615796089173,
          39.16605496406555,
          39.66568994522095,
          40.16577196121216,
          40.66532802581787,
          41.16510093212128,
          41.66507399082184,
          42.16705501079559,
          42.66745400428772,
          43.16708195209503,
          43.67080593109131,
          44.170944929122925,
          44.67134499549866,
          45.16618001461029,
          45.66611301898956,
          46.166100025177,
          46.66561794281006,
          47.16546094417572,
          47.66539299488068,
          48.16550397872925,
          48.66539204120636,
          49.16618895530701,
          49.66567003726959,
          50.166787981987,
          50.66749596595764,
          51.16892099380493,
          51.66549003124237,
          52.16936802864075,
          52.67075502872467,
          53.1720370054245,
          53.66620898246765,
          54.16624402999878,
          54.66607797145844,
          55.16605496406555,
          55.66589093208313,
          56.16583693027496,
          56.665598034858704,
          57.16559398174286,
          57.66533303260803,
          58.16545295715332,
          58.66731095314026,
          59.16536200046539,
          59.66874694824219,
          60.16952002048493,
          60.67079198360443,
          61.170987010002136,
          61.6715270280838,
          62.16638195514679,
          62.66634798049927,
          63.16586697101593,
          63.66608393192291,
          64.16597104072571,
          64.66595602035522,
          65.1657999753952,
          65.6658079624176,
          66.16607999801636,
          66.66566896438599,
          67.16585302352905,
          67.66774594783783,
          68.16843402385712,
          68.66855001449585,
          69.17219400405884,
          69.67186295986176,
          70.16640293598175,
          70.66670203208923,
          71.16651093959808,
          71.66655695438385,
          72.16641902923584,
          72.66621696949005,
          73.16669499874115,
          73.66589403152466,
          74.16603100299835,
          74.66593897342682,
          75.16772902011871,
          75.66698396205902,
          76.16804599761963,
          76.66986799240112,
          77.16961300373077,
          77.67146503925323,
          78.17100596427917,
          78.66678595542908,
          79.21430993080139,
          79.66620397567749,
          80.16685795783997,
          80.66635298728943,
          81.1662609577179,
          81.6661559343338,
          82.16630899906158,
          82.66733694076538,
          83.16691994667053,
          83.66707193851471,
          84.16727495193481,
          84.66898596286774,
          85.17002594470978,
          85.67178094387054,
          86.1661969423294,
          86.66672992706299,
          87.16672897338867,
          87.66683101654053,
          88.16649794578552,
          88.66644394397736,
          89.16639602184296,
          89.66634893417358,
          90.16604900360107,
          90.66610598564148,
          91.16733396053314,
          91.66707193851472,
          92.167053937912,
          92.66706800460815,
          93.1717690229416,
          93.67190992832184,
          94.17185699939728,
          94.6672339439392,
          95.16697204113008,
          95.66694903373718,
          96.1671040058136,
          96.6668699979782,
          97.16629993915558,
          97.66654193401337,
          98.16624796390532,
          98.66619396209715,
          99.16738796234132,
          99.66780400276184,
          100.16794300079346,
          100.6698260307312,
          101.17035400867462,
          101.6713240146637,
          102.17224097251892,
          102.6763949394226,
          103.16724002361298,
          103.66683495044708,
          104.16649603843688,
          104.66662192344666,
          105.16661095619202,
          105.66686701774596,
          106.16670894622804,
          106.66651093959808,
          107.16651892662048,
          107.6672909259796,
          108.16715598106384,
          108.66879999637604,
          109.17018795013428,
          109.67091393470764,
          110.17135298252106,
          110.6669900417328,
          111.1673549413681,
          111.66731202602386,
          112.16729700565338,
          112.66717302799223,
          113.16732692718506,
          113.66713893413544,
          114.16675698757172,
          114.66658401489258,
          115.16674101352692,
          115.66668796539308,
          116.16645002365112,
          116.66760098934174,
          117.16886496543884,
          117.66932499408722,
          118.17107403278352,
          118.6731709241867,
          119.16750502586363,
          119.6674280166626,
          120.16737294197084,
          120.66734898090364,
          121.16690301895142,
          121.6668699979782,
          122.16669702529909,
          122.66672003269196,
          123.16659700870514,
          123.66796898841858,
          124.16762495040894,
          124.67086803913116,
          125.17145502567293,
          125.67159795761108,
          126.17107796669006,
          126.67332994937895,
          127.1674519777298,
          127.66745495796204,
          128.16740095615387,
          128.66715502738953,
          129.16740202903748,
          129.6670949459076,
          130.16707801818848,
          130.6667309999466,
          131.16686296463013,
          131.66769003868103,
          132.16911697387695,
          132.6691780090332,
          133.17149996757507,
          133.6710489988327,
          134.17176401615143,
          134.66691899299622,
          135.16771399974823,
          135.6672569513321,
          136.16727602481842,
          136.66724801063538,
          137.1675499677658,
          137.66724801063538,
          138.16744792461395,
          138.66713798046112,
          139.16768395900726,
          139.66785192489624,
          140.16859602928162,
          140.6692579984665,
          141.17256200313568,
          141.67105996608734,
          142.1738599538803,
          142.67337703704834,
          143.1672170162201,
          143.66727602481842,
          144.16719698905945,
          144.66732692718506,
          145.16722798347473,
          145.66730201244354,
          146.16715800762177,
          146.66733193397522,
          147.16775393486023,
          147.66777098178864,
          148.17166900634766,
          148.6696640253067,
          149.17223501205444,
          149.67148900032043,
          150.17220795154572,
          150.6737049818039,
          151.1679309606552,
          151.66802299022677,
          152.16765999794006,
          152.66774094104767,
          153.16798102855682,
          153.66761696338654,
          154.16752195358276,
          154.6672239303589,
          155.1670379638672,
          155.6674529314041,
          156.16971802711487,
          156.66992592811584,
          157.17035496234894,
          157.67190098762512,
          158.1723769903183,
          158.66765093803406,
          159.16800892353058,
          159.668035030365,
          160.16717302799225,
          160.667897939682,
          161.16763198375702,
          161.6676859855652,
          162.16813004016876,
          162.66743397712708,
          163.1698989868164,
          163.66737294197085,
          164.16817903518677,
          164.66918802261353,
          165.1694359779358,
          165.67109096050262,
          166.17461693286896,
          166.66787695884705,
          167.16809701919556,
          167.668221950531,
          168.1674280166626,
          168.66799402236938,
          169.1678420305252,
          169.6676549911499,
          170.1676310300827,
          170.66741800308228,
          171.16826593875885,
          171.66879200935364,
          172.1710720062256,
          172.6702699661255,
          173.17252898216248,
          173.67197692394257,
          174.1750169992447,
          174.66834700107574,
          175.16818702220917,
          175.66803193092346,
          176.16804897785187,
          176.66827702522278,
          177.16834104061127,
          177.66777002811432,
          178.16838192939758,
          178.6675000190735,
          179.16744995117188,
          179.66833901405334,
          180.17061293125155,
          180.67013096809387,
          181.17114198207852,
          181.67283499240875,
          182.17194497585297,
          182.6723209619522,
          183.1683160066605,
          183.6684149503708,
          184.1681460142136,
          184.6685700416565,
          185.1682609319687,
          185.6685129404068,
          186.1676800251007,
          186.6685960292816,
          187.1682690382004,
          187.66857492923737,
          188.16855096817017,
          188.66855096817017,
          189.16855895519257,
          189.6686919927597,
          190.1685929298401,
          190.66808795928955,
          191.16859197616577,
          191.66862094402316,
          192.1686099767685,
          192.66860699653623,
          193.16861498355863,
          193.6686120033264,
          194.16864693164823,
          194.66871893405917,
          195.16871392726895,
          195.66867101192477,
          196.16859900951383,
          196.6686689853668,
          197.16867399215695,
          197.66866993904117,
          198.16868901252747,
          198.66873395442963,
          199.1683249473572,
          199.6687150001526,
          200.16871893405917,
          200.6687289476395,
          201.1687409877777,
          201.66873395442963,
          202.1687549352646,
          202.66839694976807,
          203.16875898838043,
          203.66794300079343,
          204.16783893108368,
          204.6687639951706,
          205.16987693309784,
          205.67055094242096,
          206.17329597473145,
          206.6729519367218,
          207.17358696460724,
          207.67344093322757,
          208.16854095458984,
          208.668555021286,
          209.1684809923172,
          209.66845393180847,
          210.16846597194672,
          210.66826593875885,
          211.16827201843265,
          211.66811501979828,
          212.1680999994278,
          212.66786801815036,
          213.16892993450165,
          213.66973400115967,
          214.17012000083923,
          214.6726289987564,
          215.17518401145932,
          215.67473900318143,
          216.16880297660828,
          216.6688100099564,
          217.1689100265503,
          217.6683180332184,
          218.1689590215683,
          218.6684639453888,
          219.168221950531,
          219.66821801662445,
          220.1683139801025,
          220.6682379245758,
          221.1680200099945,
          221.6694049835205,
          222.1726039648056,
          222.6710439920425,
          223.1730279922485,
          223.67349803447723,
          224.17446899414065,
          224.6690570116043,
          225.1683399677277,
          225.6682269573212,
          226.1690349578857,
          226.6683850288391,
          227.16867995262143,
          227.66848802566528,
          228.1682870388031,
          228.66822397708893,
          229.16999101638797,
          229.6681740283966,
          230.16912293434143,
          230.67135500907895,
          231.1709409952164,
          231.6738439798355,
          232.1737059354782,
          232.6691930294037,
          233.1689380407333,
          233.6689349412918,
          234.1688129901886,
          234.66875398159027,
          235.16918694972992,
          235.66835403442383,
          236.1683189868927,
          236.6682189702988,
          237.16840195655823,
          237.66941893100736,
          238.1716449260712,
          238.67246794700625,
          239.17196702957156,
          239.67476999759677,
          240.17552196979523,
          240.6693329811096,
          241.16925299167636,
          241.66915202140808,
          242.1690410375595,
          242.6688499450684,
          243.16848492622373,
          243.66853594779968,
          244.1695979833603,
          244.6686599254608,
          245.1714140176773,
          245.6705049276352,
          246.169340968132,
          246.67288601398468,
          247.17111897468567,
          247.6746610403061,
          248.16938400268555,
          248.66927301883695,
          249.16845500469208,
          249.6692019701004,
          250.1690149307251,
          250.6689749956131,
          251.16868793964383,
          251.66863894462583,
          252.1700999736786,
          252.66937899589536,
          253.17287695407867,
          253.6706429719925,
          254.1700999736786,
          254.6725789308548,
          255.1733729839325,
          255.67504394054413,
          256.1694769859314,
          256.6695640087128,
          257.16951298713684,
          257.66906893253326,
          258.1694909334183,
          258.6690770387649,
          259.16960203647614,
          259.66856694221497,
          260.1695239543915,
          260.6695170402527,
          261.17232298851013,
          261.6728769540787,
          262.1710059642792,
          262.6736309528351,
          263.1728730201721,
          263.6696490049362,
          264.16943097114563,
          264.66943299770355,
          265.16938292980194,
          265.6691520214081,
          266.16979801654816,
          266.6688640117645,
          267.16898596286774,
          267.6686749458313,
          268.17042803764343,
          268.67136693000793,
          269.1738959550857,
          269.6736660003662,
          270.1763520240784,
          270.6756390333176,
          271.16977393627167,
          271.669646024704,
          272.16983699798584,
          272.6695109605789,
          273.16927194595337,
          273.6690249443054,
          274.16895496845245,
          274.6688599586487,
          275.17004799842834,
          275.6703200340271,
          276.17109501361847,
          276.6721019744873,
          277.1723259687424,
          277.67387795448303,
          278.17477202415466,
          278.66974997520447,
          279.1698989868164,
          279.66965198516846,
          280.1698319911957,
          280.6694029569626,
          281.16943395137787,
          281.6691219806671,
          282.169242978096,
          282.6689089536667,
          283.1698520183563,
          283.6688929796219,
          284.169890999794,
          284.67318403720856,
          285.17470693588257,
          285.67613101005554,
          286.17511093616486,
          286.66996800899506,
          287.16961693763733,
          287.66923093795776,
          288.1699769496918,
          288.6695009469986,
          289.16919696331024,
          289.6692179441452,
          290.1692199707031,
          290.6691130399704,
          291.1723450422287,
          291.67032992839813,
          292.17334401607513,
          292.67204892635345,
          293.1730259656906,
          293.67357099056244,
          294.17673802375793,
          294.67011201381683,
          295.16977393627167,
          295.6698080301285,
          296.1691169738769,
          296.6697039604187,
          297.1701719760895,
          297.6693229675293,
          298.1700789928436,
          298.6691759824753,
          299.1718980073929,
          299.670578956604,
          300.1729090213776,
          300.6719809770584,
          301.17425203323364,
          301.67431592941284,
          302.176118016243,
          302.670166015625,
          303.17016100883484,
          303.6699860095978,
          304.1698080301285,
          304.6697540283203,
          305.1695569753647,
          305.6694740056992,
          306.1692169904709,
          306.6702729463577,
          307.17066502571106,
          307.671648979187,
          308.17138397693634,
          308.67314195632935,
          309.1748059988022,
          309.6763370037079,
          310.1702159643173,
          310.67021000385284,
          311.16979598999023,
          311.6699409484863,
          312.17012798786163,
          312.6695920228958,
          313.1692349910736,
          313.66922199726105,
          314.17041397094727,
          314.6702519655228,
          315.17108392715454,
          315.67301893234253,
          316.17535293102264,
          316.674998998642,
          317.1695239543915,
          317.6701669692993,
          318.1701680421829,
          318.669939994812,
          319.1701560020447,
          319.66962492465973,
          320.1701790094376,
          320.66938292980194,
          321.16940701007843,
          321.6695799827576,
          322.1726540327072,
          322.6719379425049,
          323.1727910041809,
          323.67364394664764,
          324.174507021904,
          324.6701669692993,
          325.170156955719,
          325.6700760126114,
          326.16962695121765,
          326.6696540117264,
          327.1694929599762,
          327.6694769859314,
          328.169252038002,
          328.6691949367523,
          329.17169296741486,
          329.67082393169403,
          330.1737439632416,
          330.67345201969147,
          331.1736149787903,
          331.6736730337143,
          332.17023503780365,
          332.6701959371567,
          333.17019402980804,
          333.67003297805786,
          334.17021000385284,
          334.6697460412979,
          335.1692509651184,
          335.66935896873474,
          336.1701669692993,
          336.6696389913559,
          337.1693400144577,
          337.6715599298477,
          338.17274594306946,
          338.67280900478363,
          339.17677092552185,
          339.6702679395676,
          340.1702569723129,
          340.6699550151825,
          341.1699290275574,
          341.66983294487,
          342.1695649623871,
          342.66957104206085,
          343.1693379878998,
          343.66927897930145,
          344.1693379878998,
          344.6711549758911,
          345.1745759248733,
          345.6732439994812,
          346.17388594150543,
          346.67454993724823,
          347.1703499555588,
          347.67032396793365,
          348.1701890230179,
          348.6701649427414,
          349.1697750091553,
          349.6698490381241,
          350.16981995105743,
          350.6695719957352,
          351.17112696170807,
          351.6704829931259,
          352.17140197753906,
          352.67144894599915,
          353.1722550392151,
          353.67481303215027,
          354.17559599876404,
          354.6704339981079,
          355.17039000988007,
          355.67046797275543,
          356.17034101486206,
          356.66991102695465,
          357.169713973999,
          357.6699559688568,
          358.1703109741211,
          358.66947996616364,
          359.1716289520264,
          359.67111098766327,
          360.17453503608704,
          360.6741789579392,
          361.1732859611511,
          361.6697939634323,
          362.16998994350433,
          362.67054295539856,
          363.170254945755,
          363.670264005661,
          364.1705119609833,
          364.6699019670487,
          365.1695259809494,
          365.6696079969406,
          366.1720559597016,
          366.67056000232697,
          367.1716749668121,
          367.67256796360016,
          368.174201965332,
          368.6753460168839,
          369.1759120225906,
          369.67063295841217,
          370.1706849336624,
          370.67040598392487,
          371.17033195495605,
          371.6702660322189,
          372.170706987381,
          372.67067897319794,
          373.1706780195236,
          373.6706730127335,
          374.1707240343094,
          374.670735001564,
          375.1707040071488,
          375.6707730293274,
          376.17072200775146,
          376.67037296295166,
          377.1707199811936,
          377.670725941658,
          378.170735001564,
          378.6707439422608,
          379.1707489490509,
          379.6707710027695,
          380.1707910299301,
          380.6708309650421,
          381.17078602314,
          381.6707899570465,
          382.1707910299301,
          382.6708019971848,
          383.1708699464798,
          383.6709549427033,
          384.1705899238586,
          384.670814037323,
          385.1708509922028,
          385.6708480119705,
          386.1709109544754,
          386.6708320379257,
          387.1708419322968,
          387.6708469390869,
          388.1709350347519,
          388.6708639860153,
          389.1709089279175,
          389.6708979606629,
          390.1708829402924,
          390.6708959341049,
          391.1709690093994,
          391.6709200143814,
          392.1709220409393,
          392.6709020137787,
          393.1709589958191,
          393.6709269285202,
          394.1708719730377,
          394.6709510087967,
          395.170961022377,
          395.67096400260925,
          396.1709710359573,
          396.6711809635162,
          397.17065393924713,
          397.6710000038147,
          398.1762779951096,
          398.6760430335999,
          399.17107701301575,
          399.6708829402924,
          400.1703770160675,
          400.67072200775146,
          401.17053604125977,
          401.6704100370407,
          402.170254945755,
          402.6701859235764,
          403.1713030338288,
          403.67207300662994,
          404.17401695251465,
          404.6735450029373,
          405.17465901374817,
          405.6756080389023,
          406.1710489988327,
          406.6710649728775,
          407.1708159446716,
          407.6707940101624,
          408.17110097408295,
          408.67047703266144,
          409.1710749864578,
          409.6702679395676,
          410.1710239648819,
          410.6710150241852,
          411.1732939481735,
          411.673054933548,
          412.1729799509049,
          412.6753740310669,
          413.1773990392685,
          413.6712409257889,
          414.1711360216141,
          414.67105996608734,
          415.1711519956589,
          415.6707159280777,
          416.1701959371567,
          416.6701999902725,
          417.1712880134583,
          417.67067098617554,
          418.1732380390167,
          418.6733449697495,
          419.1763290166855,
          419.6752460002899,
          420.176885008812,
          420.6768009662628,
          421.17122399806976,
          421.67122197151184,
          422.1712900400162,
          422.6707389354706,
          423.1705869436264,
          423.67050194740295,
          424.1704820394516,
          424.6706999540329,
          425.1705869436264,
          425.67199993133545,
          426.1742780208588,
          426.6735299825668,
          427.1741000413895,
          427.67661798000336,
          428.1712930202484,
          428.6711119413376,
          429.17139196395874,
          429.6710879802704,
          430.1709409952164,
          430.6708159446716,
          431.1705000400543,
          431.67062199115753,
          432.1705629825592,
          432.6708400249481,
          433.1735190153122,
          433.6738929748535,
          434.1754599809647,
          434.6761729717255,
          435.17661798000336,
          435.6713869571686,
          436.17126500606537,
          436.6712930202484,
          437.17113494873047,
          437.67097198963165,
          438.17040598392487,
          438.6704570055008,
          439.1703610420227,
          439.6710489988327,
          440.1732939481735,
          440.6726369857788,
          441.1756949424744,
          441.67393696308136,
          442.17727494239807,
          442.67642199993134,
          443.1713160276413,
          443.6712919473648,
          444.1713199615479,
          444.6710430383682,
          445.1708869934082,
          445.6707649230957,
          446.1712110042572,
          446.67051899433136,
          447.1711390018463,
          447.670776963234,
          448.1720349788666,
          448.67313301563263,
          449.1759439706802,
          449.6748130321503,
          450.1761980056762,
          450.6713229417801,
          451.1712210178375,
          451.6712260246277,
          452.1713570356369,
          452.6708970069885,
          453.171324968338,
          453.6704759597778,
          454.17043101787567,
          454.6704039573669,
          455.1727620363236,
          455.6718679666519,
          456.1725549697876,
          456.6745549440384,
          457.174584031105,
          457.6772140264511,
          458.1708009243012,
          458.6713969707489,
          459.171177983284,
          459.6705229282379,
          460.1708589792252,
          460.670835018158,
          461.1707990169525,
          461.67055094242096,
          462.17050099372864,
          462.67135298252106,
          463.17331194877625,
          463.6736509799957,
          464.1742819547653,
          464.67600095272064,
          465.1769459247589,
          465.6714960336685,
          466.1712819337845,
          466.6712819337845,
          467.17141592502594,
          467.671070933342,
          468.1710349321365,
          468.67072200775146,
          469.1706359386444,
          469.67049300670624,
          470.1705369949341,
          470.6726770401001,
          471.1743279695511,
          471.6737359762192,
          472.1766459941864,
          472.6714630126953,
          473.1713119745255,
          473.6712049245834,
          474.1711679697037,
          474.6709840297699,
          475.1709779500961,
          475.6715439558029,
          476.1705729961395,
          476.6706269979477,
          477.1731079816818,
          477.6731369495392,
          478.1743669509888,
          478.6751170158386,
          479.1715519428253,
          479.67135298252106,
          480.1715979576111,
          480.6715899705887,
          481.1716319322586,
          481.6715959310532,
          482.1716009378433,
          482.6716229915619,
          483.1716779470444,
          483.6716120243073,
          484.1716309785843,
          484.6716109514237,
          485.1716560125351,
          485.6716239452362,
          486.1716309785843,
          486.6716359853745,
          487.1714500188828,
          487.67172598838806,
          488.1716660261154,
          488.6716560125351,
          489.1716809272766,
          489.6717319488525,
          490.1716899871826,
          490.6715309619904,
          491.1716820001602,
          491.671707034111,
          492.17175698280334,
          492.67171895504,
          493.171728014946,
          493.67167699337006,
          494.1717460155487,
          494.6712349653244,
          495.1716920137405,
          495.6717439889908,
          496.17179894447327,
          496.6717439889908,
          497.1717439889908,
          497.671767950058,
          498.1718330383301,
          498.67176699638367,
          499.17177295684814,
          499.67178201675415,
          500.1717759370804,
          500.6718620061874,
          501.1717939376831,
          501.6719009876251,
          502.1709280014038,
          502.6718089580536,
          503.1718729734421,
          503.6718029975891,
          504.1718189716339,
          504.670961022377,
          505.1718839406967,
          505.67184698581696,
          506.1718569993973,
          506.67191100120544,
          507.1718699932098,
          507.67197597026825,
          508.17188000679016,
          508.6718729734421,
          509.17192792892456,
          509.6711069345474,
          510.17124700546265,
          510.6712499856949,
          511.1719089746475,
          511.67125701904297,
          512.1712709665298,
          512.6712769269943,
          513.1712679862976,
          513.6713110208511,
          514.1712859869003,
          514.6712800264359,
          515.1719390153885,
          515.6719599962234,
          516.1719969511032,
          516.6720600128174,
          517.171257019043,
          517.6720509529114,
          518.1719949245453,
          518.6720290184021,
          519.1719679832458,
          519.6720080375671,
          520.1720039844513,
          520.6711519956589,
          521.171236038208,
          521.67103099823,
          522.1729530096054,
          522.6730319261551,
          523.1731209754944,
          523.6759029626846,
          524.1755219697952,
          524.6768109798431,
          525.1719650030136,
          525.6720319986343,
          526.1720869541168,
          526.6713129281998,
          527.1714589595795,
          527.6715530157089,
          528.1715550422668,
          528.6711419820786,
          529.1716749668121,
          529.6721769571304,
          530.1722170114517,
          530.6732549667358,
          531.1739169359207,
          531.6736899614334,
          532.1765979528427,
          532.6783649921417,
          533.171991944313,
          533.671895980835,
          534.1717319488525,
          534.6717109680176,
          535.1721240282059,
          535.671581029892,
          536.1721580028534,
          536.6712589263916,
          537.1734999418259,
          537.6729159355164,
          538.1728860139847,
          538.6741839647293,
          539.1755789518356,
          539.6772519350052,
          540.1786680221558,
          540.6722019910812,
          541.1720139980316,
          541.6719709634781,
          542.1722090244293,
          542.671618938446,
          543.1713149547577,
          543.6713819503784,
          544.1716269254684,
          544.671294927597,
          545.1740080118179,
          545.6764830350876,
          546.1768629550934,
          546.6754679679871,
          547.1776750087738,
          547.6715159416199,
          548.1715459823608,
          548.6715279817581,
          549.1715739965439,
          549.6715389490128,
          550.1715580224991,
          550.671581029892,
          551.1714290380478,
          551.6714389324188,
          552.1724109649658,
          552.6748099327087,
          553.1741290092468,
          553.6749449968338,
          554.1767109632492,
          554.6723419427872,
          555.1722990274429,
          555.672219991684,
          556.1716549396515,
          556.6716530323029,
          557.1719340085983,
          557.6717200279236,
          558.1715480089188,
          558.6716229915619,
          559.173231959343,
          559.6737049818039,
          560.1742830276489,
          560.6758049726486,
          561.1752959489822,
          561.6775439977646,
          562.1718150377274,
          562.6723539829254,
          563.1721270084381,
          563.6720609664917,
          564.1717759370804,
          564.671481013298,
          565.1715140342712,
          565.6714019775391,
          566.1714029312134,
          566.6718440055847,
          567.1720509529114,
          567.6759029626846,
          568.1752289533615,
          568.6772439479828,
          569.1724189519882,
          569.6722409725189,
          570.1718319654465,
          570.671923995018,
          571.1720019578934,
          571.671667933464,
          572.1715589761734,
          572.6713379621506,
          573.1714359521866,
          573.6712919473648,
          574.1724449396133,
          574.6741650104523,
          575.1742689609528,
          575.6758929491043,
          576.1713229417801,
          576.6722400188446,
          577.1719869375229,
          577.6720089912415,
          578.1722519397736,
          578.6717669963837,
          579.171424984932,
          579.6714290380478,
          580.1715469360352,
          580.6713359355927,
          581.1735129356384,
          581.6735849380493,
          582.1760770082474,
          582.6758929491043,
          583.177060008049,
          583.678375005722,
          584.1722320318222,
          584.6721539497375,
          585.1717590093613,
          585.6716459989548,
          586.1716569662094,
          586.6714969873428,
          587.1722790002823,
          587.6713689565659,
          588.173436999321,
          588.6736619472504,
          589.1732720136642,
          589.6757650375366,
          590.1762599945068,
          590.6787519454956,
          591.1722129583359,
          591.6723229885101,
          592.1717419624329,
          592.6716959476471,
          593.1722559928894,
          593.671569943428,
          594.171854019165,
          594.6714060306549,
          595.1720229387283,
          595.6733490228653,
          596.1733419895172,
          596.676803946495,
          597.1766610145569,
          597.6719850301743,
          598.1717330217361,
          598.671805024147,
          599.1723079681396,
          599.6716940402985,
          600.1716710329056,
          600.6715580224991,
          601.1717649698257,
          601.6716419458389,
          602.1713689565659,
          602.6734039783478,
          603.1738560199738,
          603.6755119562149,
          604.1766179800034,
          604.6774269342422,
          605.1719290018082,
          605.6722940206528,
          606.1720370054245,
          606.6721659898758,
          607.1720550060272,
          607.6718039512634,
          608.1724050045013,
          608.6718369722366,
          609.1715070009232,
          609.6716350317001,
          610.176941037178,
          610.6734009981155,
          611.177307009697,
          611.677384018898,
          612.1720669269562,
          612.6724239587784,
          613.1723029613495,
          613.6723029613495,
          614.1724239587784,
          614.67196393013,
          615.1717989444733,
          615.6716510057449,
          616.1715829372406,
          616.6715940237045,
          617.1739640235901,
          617.6735589504242,
          618.1742709875107,
          618.676069021225,
          619.1763190031052,
          619.6725100278854,
          620.1723359823227,
          620.6723510026932,
          621.1719599962234,
          621.6719850301743,
          622.1717449426651,
          622.671767950058,
          623.1715159416199,
          623.6715860366821,
          624.1735470294952,
          624.6745649576187,
          625.1730560064316,
          625.6760859489441,
          626.1766159534454,
          626.6782029867172,
          627.17256295681,
          627.6717039346695,
          628.1720980405807,
          628.6721459627151,
          629.1715929508209,
          629.6716139316559,
          630.1716239452362,
          630.6716239452362,
          631.1716289520264,
          631.6737200021744,
          632.1757159233093,
          632.6748570203781,
          633.1757969856262,
          633.6775399446487,
          634.1725590229034,
          634.6726269721985,
          635.1724660396576,
          635.6723289489746,
          636.1723079681396,
          636.6720759868622,
          637.1721349954605,
          637.6718640327454,
          638.1726570129395,
          638.674085021019,
          639.174085021019,
          639.6738089323044,
          640.1756489276886,
          640.677160024643,
          641.1823999881744,
          641.6720199584961,
          642.1725089550018,
          642.6725150346756,
          643.172681927681,
          643.6722680330276,
          644.1722730398178,
          644.6718319654465,
          645.1726969480515,
          645.6717709302902,
          646.1728550195694,
          646.6744320392609,
          647.174378991127,
          647.6764630079269,
          648.1768889427185,
          648.6789749860764,
          649.1728019714355,
          649.6727739572525,
          650.1727719306946,
          650.6722040176392,
          651.1722359657288,
          651.6728049516678,
          652.1727830171585,
          652.6727830171585,
          653.172865986824,
          653.6728179454803,
          654.172896027565,
          654.6728520393372,
          655.1728539466858,
          655.672856926918,
          656.1728529930115,
          656.6728579998016,
          657.1729159355164,
          657.672896027565,
          658.1728769540787,
          658.6729170084,
          659.172924041748,
          659.6728910207748,
          660.1729040145874,
          660.6729289293289,
          661.1729109287262,
          661.6728090047836,
          662.1728789806366,
          662.6729829311371,
          663.1729860305786,
          663.672865986824,
          664.1720190048218,
          664.6729509830475,
          665.1730350255966,
          665.6729760169983,
          666.172966003418,
          666.6729769706726,
          667.1730009317398,
          667.6729919910431,
          668.1727279424667,
          668.6729869842529,
          669.1729840040207,
          669.6730079650879,
          670.1730979681015,
          670.6720930337906,
          671.1730090379715,
          671.6730699539185,
          672.1730690002441,
          672.6730459928513,
          673.173043012619,
          673.6730619668961,
          674.1730749607086,
          674.6730959415436,
          675.1730139255524,
          675.6730459928513,
          676.1740069389343,
          676.6749529838562,
          677.175714969635,
          677.6781939268112,
          678.1782610416412,
          678.6729680299759,
          679.1731259822845,
          679.6729309558868,
          680.1729619503021,
          680.672572016716,
          681.1724129915237,
          681.6723109483719,
          682.1722079515457,
          682.6721470355988,
          683.1736849546432,
          683.6746460199356,
          684.1761469841003,
          684.6766890287399,
          685.1778839826584,
          685.6801509857178,
          686.1730300188065,
          686.6730530261993,
          687.1731269359589,
          687.6726649999619,
          688.1728730201721,
          688.6724870204926,
          689.1722320318222,
          689.6721760034561,
          690.1731079816818,
          690.6738690137863,
          691.1731759309769,
          691.6751070022583,
          692.1755720376968,
          692.6767579317093,
          693.1773639917374,
          693.6731350421906,
          694.1730459928513,
          694.6730480194092,
          695.1727839708328,
          695.6725870370865,
          696.1723920106888,
          696.6723769903183,
          697.1730929613113,
          697.6722509860992,
          698.1742169857025,
          698.6744469404221,
          699.1735509634018,
          699.6751539707184,
          700.1768349409103,
          700.6790599822998,
          701.1778709888458,
          701.6722289323807,
          702.172924041748,
          702.6729170084,
          703.1731380224228,
          703.6726269721985,
          704.1723729372025,
          704.6723660230637,
          705.1724489927292,
          705.6722680330276,
          706.1745409965515,
          706.6743249893188,
          707.1748819351196,
          707.6767389774323,
          708.1775579452515,
          708.6730660200119,
          709.173131942749,
          709.6729270219803,
          710.1727800369263,
          710.6727240085602,
          711.172495007515,
          711.6723840236664,
          712.1721979379654,
          712.6726379394531,
          713.1721869707108,
          713.6734730005264,
          714.1754549741745,
          714.6765329837799,
          715.1773220300674,
          715.6793240308762,
          716.1731859445572,
          716.6732629537582,
          717.1730469465256,
          717.6726649999619,
          718.1728039979935,
          718.6732479333878,
          719.1732699871063,
          719.6732429265976,
          720.1732649803162,
          720.6732659339905,
          721.1733410358429,
          721.6733019351959,
          722.1732629537582,
          722.673329949379,
          723.1733540296555,
          723.6732720136642,
          724.1732759475708,
          724.673278927803,
          725.1733260154724,
          725.6733199357986,
          726.1732939481735,
          726.6733410358429,
          727.1733599901199,
          727.6733469963074,
          728.1733119487762,
          728.6733139753342,
          729.1733310222626,
          729.6734620332718,
          730.1733139753342,
          730.6791620254517,
          731.173054933548,
          731.6732360124588,
          732.1729699373245,
          732.6729389429092,
          733.1725029945374,
          733.6725679636002,
          734.1723489761353,
          734.6723589897156,
          735.1723769903183,
          735.6733980178833,
          736.177806019783,
          736.6762709617615,
          737.176658987999,
          737.6794389486313,
          738.1733360290527,
          738.6733559370041,
          739.1733429431915,
          739.6731189489365,
          740.1725739240646,
          740.67256295681,
          741.1728110313416,
          741.672544002533,
          742.1726390123367,
          742.6725059747696,
          743.1730309724808,
          743.6756409406662,
          744.174898982048,
          744.6774649620056,
          745.1727849245071,
          745.673378944397,
          746.1731380224228,
          746.6731690168381,
          747.173014998436,
          747.6730329990387,
          748.17296397686,
          748.6726189851761,
          749.1734189987183,
          749.6724449396133,
          750.1726340055466,
          750.6752009391785,
          751.1778110265732,
          751.6763960123062,
          752.1778619289398,
          752.6792219877243,
          753.1733629703522,
          753.673455953598,
          754.1734679937363,
          754.6730139255524,
          755.1734269857407,
          755.6728329658508,
          756.1724779605865,
          756.6726310253143,
          757.1744070053101,
          757.6747839450836,
          758.1741459369659,
          758.6764849424362,
          759.1767349243164,
          759.6783479452133,
          760.1803380250931,
          760.6726529598236,
          761.1727130413055,
          761.6732629537582,
          762.1735409498215,
          762.6730909347534,
          763.1726429462433,
          763.672660946846,
          764.1726880073547,
          764.6726479530334,
          765.1730170249939,
          765.674950003624,
          766.1759929656982,
          766.6772969961166,
          767.1789230108261,
          767.6735949516296,
          768.1733679771423,
          768.6728039979935,
          769.1731159687042,
          769.6730480194092,
          770.172935962677,
          770.6745319366455,
          771.1736069917679,
          771.672690987587,
          772.1736869812012,
          772.6751339435577,
          773.1752189397812,
          773.6781829595566,
          774.1779010295868,
          774.6736829280853,
          775.1736500263214,
          775.6736179590225,
          776.1736469268799,
          776.673182964325,
          777.172809958458,
          777.6730329990387,
          778.1727819442749,
          778.6727709770203,
          779.1747249364853,
          779.6740069389343,
          780.1752109527588,
          780.6764149665833,
          781.1790969371796,
          781.6795690059662,
          782.1735099554062,
          782.6735979318619,
          783.1737779378891,
          783.6734440326691,
          784.173702955246,
          784.6730699539185,
          785.1738319396973,
          785.6729509830475,
          786.172816991806,
          786.6737599372864,
          787.1742910146713,
          787.6759330034256,
          788.1782950162888,
          788.6786730289459,
          789.1801129579544,
          789.6737679243088,
          790.1737209558487,
          790.6735869646072,
          791.173789024353,
          791.6730539798737,
          792.1729279756546,
          792.6729760169983,
          793.1731100082397,
          793.6729099750519,
          794.1738109588623,
          794.6766710281372,
          795.1771929264069,
          795.6776280403137,
          796.1789529323578,
          796.6738510131836,
          797.1738339662552,
          797.6735420227051,
          798.173879981041,
          798.6733649969101,
          799.173094034195,
          799.6731050014496,
          800.1729669570923,
          800.672856926918,
          801.173907995224,
          801.6760269403458,
          802.176234960556,
          802.6780480146408,
          803.1786459684372,
          803.6802250146866,
          804.1738840341568,
          804.6730779409409,
          805.1730270385742,
          805.6730189323425,
          806.1739000082016,
          806.6731749773026,
          807.1732529401779,
          807.6730200052261,
          808.1746479272842,
          808.6740649938583,
          809.1746380329132,
          809.6762499809265,
          810.1778290271759,
          810.6734290122986,
          811.1734390258789,
          811.6738759279251,
          812.1735700368881,
          812.6736999750137,
          813.173192024231,
          813.6732000112534,
          814.1735270023346,
          814.6731179952621,
          815.1751909255981,
          815.6746439933777,
          816.1749759912491,
          816.6765249967575,
          817.1766059398651,
          817.6788269281387,
          818.1732720136642,
          818.6739209890366,
          819.1739389896393,
          819.6736550331116,
          820.1739460229874,
          820.6732989549637,
          821.1739629507065,
          821.6730309724808,
          822.1744419336319,
          822.6740969419479,
          823.1746759414673,
          823.6767929792404,
          824.1773999929428,
          824.6786249876022,
          825.1784249544144,
          825.6739740371704,
          826.1732439994812,
          826.6737319231033,
          827.1740169525146,
          827.6735889911652,
          828.1733219623566,
          828.6732609272003,
          829.1729749441147,
          829.6730040311813,
          830.1731569766998,
          830.6746549606323,
          831.1762210130692,
          831.6777249574661,
          832.1775009632111,
          832.67400598526,
          833.1738239526749,
          833.6739139556885,
          834.1739950180054,
          834.6736530065536,
          835.1733080148697,
          835.673378944397,
          836.1733800172806,
          836.6731089353561,
          837.1732620000839,
          837.6749839782715,
          838.1764520406723,
          838.6767909526825,
          839.1787979602814,
          839.679762005806,
          840.1741080284119,
          840.6740019321442,
          841.1737480163574,
          841.673712015152,
          842.1733130216599,
          842.6733869314194,
          843.1735579967499,
          843.6732369661331,
          844.1732399463654,
          844.6731369495392,
          845.1779609918594,
          845.6782859563828,
          846.1777909994125,
          846.6737899780273,
          847.1740720272064,
          847.6735999584198,
          848.1734730005264,
          848.6737200021744,
          849.1736069917679,
          849.6732259988785,
          850.1731189489365,
          850.6732259988785,
          851.1731309890747,
          851.6749769449234,
          852.1731079816818,
          852.6767289638519,
          853.1774009466171,
          853.6788400411606,
          854.1741329431534,
          854.6741499900818,
          855.1736810207367,
          855.6737259626389,
          856.1734570264816,
          856.6734700202942,
          857.1734179258347,
          857.673329949379,
          858.1733280420303,
          858.6732230186462,
          859.1754109859467,
          859.6764960289001,
          860.1770459413528,
          860.6786439418793,
          861.1789629459381,
          861.6741759777069,
          862.1735589504242,
          862.674026966095,
          863.1737869977951,
          863.6738049983978,
          864.1733149290085,
          864.673336982727,
          865.1732989549637,
          865.6737530231476,
          866.1737639904022,
          866.6743669509888,
          867.177209019661,
          867.6779680252075,
          868.1786479949951,
          868.6742259263992,
          869.1743049621582,
          869.6738939285278,
          870.1738829612732,
          870.67436003685,
          871.173879981041,
          871.6743179559708,
          872.1743370294571,
          872.6743259429932,
          873.174350976944,
          873.6742990016937,
          874.1778849363327,
          874.6743890047073,
          875.1743289232254,
          875.6740299463272,
          876.1743919849396,
          876.6743619441986,
          877.174350976944,
          877.6743289232254,
          878.17436003685,
          878.6743849515915,
          879.1744179725647,
          879.6743680238724,
          880.1745389699936,
          880.675969004631,
          881.1776180267334,
          881.6772969961166,
          882.1785759925842,
          882.6741869449615,
          883.1740349531174,
          883.6743559837341,
          884.1741839647293,
          884.6739909648895,
          885.1739820241928,
          885.6737129688263,
          886.1736439466476,
          886.6733959913254,
          887.1734379529953,
          887.6751909255981,
          888.1759779453278,
          888.6780899763107,
          889.178544998169,
          889.6798889636993,
          890.174309015274,
          890.6736869812012,
          891.1741420030594,
          891.6740659475327,
          892.1738369464874,
          892.6738430261612,
          893.173700928688,
          893.6734809875488,
          894.1736569404602,
          894.674682021141,
          895.1754280328751,
          895.6781170368195,
          896.1776429414749,
          896.6795079708099,
          897.1744959354401,
          897.6744649410248,
          898.1743500232697,
          898.6742520332336,
          899.1739549636841,
          899.6738480329514,
          900.1739529371262,
          900.6736789941788,
          901.174955010414,
          901.6749830245972,
          902.1753050088882,
          902.6770980358124,
          903.1782839298248,
          903.6802649497986,
          904.174502968788,
          904.6745330095292,
          905.1745430231094,
          905.6741909980774,
          906.174567937851,
          906.6738729476928,
          907.1739419698716,
          907.6740319728852,
          908.1752970218658,
          908.6745589971542,
          909.1748160123824,
          909.6779429912568,
          910.177572965622,
          910.6809649467468,
          911.1743960380554,
          911.6744229793547,
          912.173866033554,
          912.6744699478148,
          913.1739439964294,
          913.6739599704742,
          914.1737419366837,
          914.673817038536,
          915.1755409240724,
          915.6746339797974,
          916.1754109859468,
          916.6765630245208,
          917.1781200170516,
          917.6795380115508,
          918.1745510101318,
          918.6741069555284,
          919.1746230125428,
          919.6744029521942,
          920.1742500066756,
          920.674160003662,
          921.1747080087662,
          921.6737940311432,
          922.1738109588624,
          922.6736969947816,
          923.1761889457704,
          923.6765630245208,
          924.1761629581453,
          924.6789330244064,
          925.1787059307098,
          925.674703001976,
          926.1745250225068,
          926.6744220256804,
          927.1742240190506,
          927.6741299629213,
          928.1739560365676,
          928.67400598526,
          929.1750279664992,
          929.6747150421144,
          930.1753430366516,
          930.674968957901,
          931.1756210327148,
          931.6790900230408,
          932.1744680404664,
          932.6747349500656,
          933.1747440099716,
          933.6745220422744,
          934.1740859746932,
          934.6741919517516,
          935.1747570037842,
          935.673956990242,
          936.175362944603,
          936.6748839616776,
          937.1743400096892,
          937.6779749393464,
          938.1765829324722,
          938.680755019188,
          939.1748249530792,
          939.6747909784316,
          940.1748639345168,
          940.674597978592,
          941.1748859882356,
          941.6742930412292,
          942.1743869781494,
          942.6749349832536,
          943.17480802536,
          943.6748700141908,
          944.1749439239502,
          944.6749559640884,
          945.1790109872818,
          945.679656982422,
          946.1749039888382,
          946.6749140024184,
          947.1749279499054,
          947.674903035164,
          948.1748999357224,
          948.6749069690704,
          949.1749709844588,
          949.6749539375304,
          950.1748600006104,
          950.6749140024184,
          951.1749449968338,
          951.6749629974364,
          952.1749219894408,
          952.6749349832536,
          953.1750279664992,
          953.674994945526,
          954.1749390363692,
          954.6749349832536,
          955.1749719381332,
          955.674346923828,
          956.1741369962692,
          956.6741789579391,
          957.1739629507064,
          957.6746970415116,
          958.1762679815292,
          958.677278995514,
          959.1783039569856,
          959.6795330047609,
          960.1749190092088,
          960.6749329566956,
          961.1740189790726,
          961.6747039556504,
          962.1744920015336,
          962.6742379665376,
          963.174479007721,
          963.6741859912872,
          964.1740829944612,
          964.67445397377,
          965.1758159399031,
          965.6772530078888,
          966.1784889698029,
          966.680410027504,
          967.1804180145264,
          967.6750069856644,
          968.1747130155564,
          968.6747249364852,
          969.174945950508,
          969.6744079589844,
          970.1744949817656,
          970.6742099523544,
          971.1744639873504,
          971.675066947937,
          972.1760779619216,
          972.6772600412368,
          973.177619934082,
          973.6772010326384,
          974.1745790243148,
          974.6750619411469,
          975.1749210357666,
          975.6747399568558,
          976.1745100021362,
          976.674595952034,
          977.1743190288544,
          977.6742190122604,
          978.1743389368056,
          978.6743969917296,
          979.1757290363312,
          979.676903963089,
          980.1772630214692,
          980.6797800064088,
          981.1799529790878,
          981.675164937973,
          982.1749329566956,
          982.6749589443208,
          983.1747000217438,
          983.6746809482574,
          984.1751379966736,
          984.6744270324708,
          985.1750049591064,
          985.6743329763412,
          986.1756110191344,
          986.6764589548112,
          987.1771650314332,
          987.678467988968,
          988.1798000335692,
          988.6810380220412,
          989.1748440265656,
          989.6745640039444,
          990.1746079921722,
          990.67460501194,
          991.1744929552078,
          991.674497961998,
          992.1745629310608,
          992.6742520332336,
          993.176393032074,
          993.6761159896852,
          994.1793060302734,
          994.6786979436874,
          995.1797529459,
          995.680724978447,
          996.1752669811248,
          996.6748459339142,
          997.1749470233916,
          997.6748509407043,
          998.1752209663392,
          998.6745989322662,
          999.1745009422302,
          999.6746649742126,
          1000.1786580085754,
          1000.6760820150377,
          1001.1763739585876,
          1001.6773879528046,
          1002.1786049604416,
          1002.6808730363846,
          1003.1751500368118,
          1003.6743459701538,
          1004.174880027771,
          1004.6748919487,
          1005.1752729415894,
          1005.6745649576188,
          1006.1744899749756,
          1006.6745209693908,
          1007.1765940189362,
          1007.6759350299836,
          1008.1783839464188,
          1008.6794090270996,
          1009.17930996418,
          1009.675274014473,
          1010.17533493042,
          1010.6753120422364,
          1011.1753939390182,
          1011.674952030182,
          1012.1744569540024,
          1012.6746000051498,
          1013.1743869781494,
          1013.6743769645692,
          1014.1753640174866,
          1014.675701022148,
          1015.1785529851912,
          1015.679316997528,
          1016.1816359758376,
          1016.6809350252151,
          1017.1753529310226,
          1017.6753799915314,
          1018.1746269464492,
          1018.6749249696732,
          1019.1753970384598,
          1019.6745480298996,
          1020.1747069358826,
          1020.6746549606324,
          1021.1768749952316,
          1021.6769149303436,
          1022.1786159276962,
          1022.6788209676744,
          1023.1797959804536,
          1023.6805210113524,
          1024.1755249500277,
          1024.675190925598,
          1025.17489695549,
          1025.6750110387802,
          1026.175441980362,
          1026.6747089624405,
          1027.1747230291369,
          1027.6748229265213,
          1028.1755520105362,
          1028.6764199733734,
          1029.1768720149994,
          1029.679500937462,
          1030.1804980039597,
          1030.6754850149157,
          1031.1753089427948,
          1031.6753799915314,
          1032.17549097538,
          1032.6751660108566,
          1033.1755709648132,
          1033.6746250391006,
          1034.1747349500656,
          1034.6745740175247,
          1035.1746230125427,
          1035.6755739450457,
          1036.1777729988098,
          1036.6778149604795,
          1037.1804809570312,
          1037.6812160015106,
          1038.1755479574203,
          1038.6753239631653,
          1039.1751409769058,
          1039.675557971001,
          1040.1750519275663,
          1040.674791932106,
          1041.1747230291369,
          1041.6747349500656,
          1042.174908041954,
          1042.676115989685,
          1043.1795279979706,
          1043.6790820360184,
          1044.179957985878,
          1044.6817660331726,
          1045.175609946251,
          1045.6756899356842,
          1046.1757019758224,
          1046.6752009391785,
          1047.174793958664,
          1047.6756620407104,
          1048.1756570339203,
          1048.6756709814072,
          1049.1756809949875,
          1049.6757550239563,
          1050.175696015358,
          1050.6798239946363,
          1051.180559039116,
          1051.6815170049667,
          1052.1757060289383,
          1052.675617933273,
          1053.1752480268478,
          1053.675701022148,
          1054.1751149892807,
          1054.675712943077,
          1055.1757019758224,
          1055.6757459640503,
          1056.1757309436798,
          1056.6757910251615,
          1057.175745010376,
          1057.6757439374924,
          1058.1799739599228,
          1058.680703997612,
          1059.1756780147552,
          1059.6755880117416,
          1060.1753610372543,
          1060.6751990318298,
          1061.1752079725266,
          1061.675187945366,
          1062.1748509407043,
          1062.6748679876328,
          1063.1757749319077,
          1063.675364971161,
          1064.1757259368896,
          1064.6783089637756,
          1065.1769930124285,
          1065.679888963699,
          1066.174947977066,
          1066.6758249998093,
          1067.1757600307465,
          1067.6754429340365,
          1068.1756039857864,
          1068.6748819351196,
          1069.1752989292145,
          1069.6751689910889,
          1070.175614953041,
          1070.674847960472,
          1071.1777440309525,
          1071.6767610311508,
          1072.1795179843905,
          1072.6808429956436,
          1073.1806169748306,
          1073.6812460422516,
          1074.1756629943848,
          1074.675770998001,
          1075.1757140159607,
          1075.6754579544067,
          1076.174989938736,
          1076.6749849319458,
          1077.174988031387,
          1077.6748650074005,
          1078.17787194252,
          1078.6778680086136,
          1079.177565932274,
          1079.6795510053637,
          1080.1795790195465,
          1080.682582974434,
          1081.175799012184,
          1081.675004005432,
          1082.1754670143127,
          1082.6755019426346,
          1083.1751070022583,
          1083.6752289533615,
          1084.174958944321,
          1084.6750379800797,
          1085.175675034523,
          1085.6759760379791,
          1086.1767480373385,
          1086.6784479618073,
          1087.1796139478683,
          1087.680927991867,
          1088.1757589578629,
          1088.6758239269257,
          1089.1753900051117,
          1089.6755030155182,
          1090.175575017929,
          1090.6753599643707,
          1091.174952030182,
          1091.6750429868698,
          1092.1775690317154,
          1092.67589199543,
          1093.1786439418793,
          1093.678519964218,
          1094.1802319288254,
          1094.6809389591217,
          1095.1757060289383,
          1095.6758979558945,
          1096.1758890151978,
          1096.6757719516754,
          1097.175346016884,
          1097.675372004509,
          1098.1752729415894,
          1098.675096988678,
          1099.1749939918518,
          1099.6759330034256,
          1100.1770219802856,
          1100.677492976189,
          1101.1788939237597,
          1101.6811839342115,
          1102.1809990406036,
          1102.675997018814,
          1103.1759819984436,
          1103.6756839752195,
          1104.1759499311447,
          1104.6754299402237,
          1105.175164937973,
          1105.6753150224686,
          1106.175971031189,
          1106.6760560274124,
          1107.1761870384216,
          1107.6777039766312,
          1108.1795129776,
          1108.6803200244904,
          1109.1812720298767,
          1109.6759749650955,
          1110.175982952118,
          1110.675626993179,
          1111.1752220392227,
          1111.6751090288162,
          1112.1754089593887,
          1112.6752489805222,
          1113.17509496212,
          1113.6754180192947,
          1114.1767189502716,
          1114.6773689985275,
          1115.1784249544144,
          1115.6809779405594,
          1116.1758170127869,
          1116.676097035408,
          1117.1759400367737,
          1117.6760050058365,
          1118.1752259731293,
          1118.6755549907684,
          1119.1755459308624,
          1119.6752729415894,
          1120.1751769781113,
          1120.6765940189362,
          1121.1767519712448,
          1121.6784620285034,
          1122.1791670322418,
          1122.6810309886932,
          1123.1809539794922,
          1123.676110982895,
          1124.1757600307465,
          1124.6757589578629,
          1125.1757789850235,
          1125.6755369901657,
          1126.1753129959106,
          1126.6753050088882,
          1127.1773400306702,
          1127.6763719320295,
          1128.1777930259705,
          1128.6779730319977,
          1129.1794389486313,
          1129.680815935135,
          1130.1761130094528,
          1130.6761100292206,
          1131.175707936287,
          1131.6757600307465,
          1132.176157951355,
          1132.675372004509,
          1133.1755110025406,
          1133.6753640174866,
          1134.1751890182495,
          1134.6759870052338,
          1135.1775360107422,
          1135.6786760091782,
          1136.1797280311584,
          1136.681093931198,
          1137.1762019395828,
          1137.676187992096,
          1138.1760449409485,
          1138.6759539842606,
          1139.1759309768677,
          1139.6757179498672,
          1140.1762039661407,
          1140.6753709316254,
          1141.1752890348434,
          1141.6764659881592,
          1142.177230000496,
          1142.6773940324783,
          1143.1779479980469,
          1143.6804139614103,
          1144.1819080114365,
          1144.6762759685516,
          1145.176241993904,
          1145.6756910085678,
          1146.176254987717,
          1146.6757389307022,
          1147.1756329536438,
          1147.6763089895248,
          1148.17553794384,
          1148.6763520240784,
          1149.1768659353256,
          1149.677363038063,
          1150.1792899370191,
          1150.6812119483948,
          1151.1819410324097,
          1151.676311969757,
          1152.1763499975204,
          1152.6760339736938,
          1153.1757839918137,
          1153.6758190393448,
          1154.1755110025406,
          1154.675439953804,
          1155.1766159534454,
          1155.6760889291763,
          1156.17628800869,
          1156.6795979738235,
          1157.1790889501572,
          1157.681079030037,
          1158.1817779541016,
          1158.6764340400696,
          1159.1762360334396,
          1159.6762639284134,
          1160.1762410402298,
          1160.6757810115814,
          1161.175840973854,
          1161.6756899356842,
          1162.1755720376968,
          1162.677649021149,
          1163.1769609451294,
          1163.678565979004,
          1164.1789259910583,
          1164.6818779706955,
          1165.181872010231,
          1165.676393032074,
          1166.176262974739,
          1166.6761770248413,
          1167.1757299900055,
          1167.675770998001,
          1168.1754640340805,
          1168.675541996956,
          1169.1755110025406,
          1169.67649102211,
          1170.1767820119858,
          1170.6785830259323,
          1171.1795970201492,
          1171.6820769309998,
          1172.1761659383774,
          1172.6763429641724,
          1173.176463007927,
          1173.6758970022202,
          1174.1761360168457,
          1174.6760979890823,
          1175.175863981247,
          1175.6756039857864,
          1176.1778359413147,
          1176.6770819425583,
          1177.1782460212708,
          1177.678563952446,
          1178.1802459955215,
          1178.6813980340958,
          1179.176353931427,
          1179.6763409376144,
          1180.176560997963,
          1180.6763780117035,
          1181.1761529445648,
          1181.6760339736938,
          1182.1757110357285,
          1182.675714969635,
          1183.1756459474564,
          1183.6767239570618,
          1184.1775380373,
          1184.6781959533691,
          1185.1779860258102,
          1185.6805869340897,
          1186.1814399957657,
          1186.6756719350817,
          1187.1765480041504,
          1187.6762989759443,
          1188.1763830184937,
          1188.676164984703,
          1189.1760889291763,
          1189.6757910251615,
          1190.1758320331571,
          1190.6766760349274,
          1191.1758140325546,
          1191.677003979683,
          1192.1800359487534,
          1192.681077957153,
          1193.180832028389,
          1193.6767029762268,
          1194.1766740083694,
          1194.6763550043106,
          1195.1760889291763,
          1195.6760560274124,
          1196.1761339902878,
          1196.6758040189743,
          1197.1765339374542,
          1197.6767020225525,
          1198.1771529912949,
          1198.6779969930649,
          1199.1791369915009,
          1199.681053996086,
          1200.1813850402832,
          1200.6767719984057,
          1201.1766979694366,
          1201.6766979694366,
          1202.1765010356903,
          1202.676605939865,
          1203.17609500885,
          1203.6758959293363,
          1204.1758630275726,
          1204.6758350133896,
          1205.1767970323565,
          1205.6780430078506,
          1206.1788400411606,
          1206.6800359487534,
          1207.180776000023,
          1207.676295042038,
          1208.1767599582672,
          1208.6767039299011,
          1209.1762969493866,
          1209.6763570308683,
          1210.176365017891,
          1210.6760849952698,
          1211.176059961319,
          1211.6758559942243,
          1212.17629301548,
          1212.677565932274,
          1213.178584933281,
          1213.679242014885,
          1214.1804410219193,
          1214.681977033615,
          1215.1768089532852,
          1215.67673099041,
          1216.1765999794006,
          1216.6764240264893,
          1217.1758719682691,
          1217.6760150194168,
          1218.1761050224304,
          1218.6759760379791,
          1219.1776280403135,
          1219.6777039766312,
          1220.1781219244003,
          1220.6791039705276,
          1221.180647969246,
          1221.6765539646149,
          1222.176864027977,
          1222.676803946495,
          1223.176856994629,
          1223.6765459775925,
          1224.17633998394,
          1224.676313996315,
          1225.1768599748611,
          1225.6762249469757,
          1226.1759020090103,
          1226.677165031433,
          1227.1780669689178,
          1227.679790019989,
          1228.1801170110705,
          1228.6818679571152,
          1229.1770349740982,
          1229.6770049333572,
          1230.1767159700394,
          1230.6768399477005,
          1231.1765129566193,
          1231.6763340234756,
          1232.1769449710846,
          1232.6759749650955,
          1233.178197979927,
          1233.6785089969635,
          1234.1780270338058,
          1234.6796180009842,
          1235.1806859970093,
          1235.6833950281143,
          1236.1766970157623,
          1236.6767369508743,
          1237.1767790317535,
          1237.6768009662628,
          1238.1767679452896,
          1238.67628800869,
          1239.1762869358065,
          1239.676192998886,
          1240.1765370368958,
          1240.6771700382233,
          1241.177749991417,
          1241.6802220344543,
          1242.180298924446,
          1242.676218032837,
          1243.176749944687,
          1243.6767770051956,
          1244.1765010356903,
          1244.6767529249191,
          1245.1764899492264,
          1245.6764780282974,
          1246.176453948021,
          1246.6761449575424,
          1247.176159977913,
          1247.677402973175,
          1248.176432967186,
          1248.6786450147629,
          1249.1803489923475,
          1249.6816819906237,
          1250.1770750284195,
          1250.6767809391022,
          1251.1768670082092,
          1251.6768429279327,
          1252.176523923874,
          1252.676589012146,
          1253.1764960289,
          1253.6763899326324,
          1254.1761989593506,
          1254.6761360168457,
          1255.17826294899,
          1255.678920030594,
          1256.1805540323255,
          1256.6818100214005,
          1257.1816539764404,
          1257.6771429777143,
          1258.1764730215073,
          1258.676890015602,
          1259.176458954811,
          1259.6763880252838,
          1260.1766090393066,
          1260.6764270067215,
          1261.176440000534,
          1261.6761870384216,
          1262.1771680116651,
          1262.677767038345,
          1263.1792219877243,
          1263.6795729398727,
          1264.1809549331665,
          1264.6821279525757,
          1265.177060961723,
          1265.677067041397,
          1266.1769770383837,
          1266.676890015602,
          1267.1768260002136,
          1267.6766649484634,
          1268.1765320301056,
          1268.676385998726,
          1269.1765159368515,
          1269.6773029565811,
          1270.17738199234,
          1270.6799669265747,
          1271.18060195446,
          1271.6818100214005,
          1272.177232980728,
          1272.6772409677503,
          1273.177253961563,
          1273.6774480342865,
          1274.1770379543304,
          1274.6767419576645,
          1275.176535964012,
          1275.676411986351,
          1276.176373004913,
          1276.6772969961166,
          1277.178102016449,
          1277.6794129610062,
          1278.1814849376678,
          1278.6808890104294,
          1279.181928038597,
          1279.677295923233,
          1280.1771969795227,
          1280.6771539449692,
          1281.1769279241562,
          1281.676847934723,
          1282.176658987999,
          1282.6766129732132,
          1283.176530957222,
          1283.6766819953918,
          1284.1775670051577,
          1284.678202033043,
          1285.1803560256958,
          1285.6820629835129,
          1286.17702293396,
          1286.6773589849472,
          1287.176991939545,
          1287.6770260334015,
          1288.176530957222,
          1288.6769329309464,
          1289.176862001419,
          1289.6765789985657,
          1290.1765010356903,
          1290.677593946457,
          1291.1778299808502,
          1291.6793060302734,
          1292.1802599430084,
          1292.681934952736,
          1293.1766279935837,
          1293.6774250268936,
          1294.1766959428787,
          1294.677230000496,
          1295.1772829294205,
          1295.6769310235975,
          1296.1766859292984,
          1296.6765879392624,
          1297.1777229309082,
          1297.6777930259705,
          1298.1779879331589,
          1298.6799309253693,
          1299.1805670261383,
          1299.681478023529,
          1300.183110952377,
          1300.677235007286,
          1301.1771420240402,
          1301.6771240234375,
          1302.176962018013,
          1302.676999926567,
          1303.1766649484634,
          1303.6766439676285,
          1304.1767039299011,
          1304.6764929294586,
          1305.177721977234,
          1305.6789549589157,
          1306.1800960302353,
          1306.6818709373474,
          1307.182058930397,
          1307.6775159835815,
          1308.177559018135,
          1308.677477002144,
          1309.1773400306702,
          1309.677034020424,
          1310.177060008049,
          1310.6768419742584,
          1311.1768189668655,
          1311.676581978798,
          1312.176698923111,
          1312.6779400110245,
          1313.1792719364166,
          1313.6814359426498,
          1314.181946992874,
          1314.6776169538498,
          1315.1775839328766,
          1315.6775280237198,
          1316.177467942238,
          1316.6772730350494,
          1317.1772109270096,
          1317.676978945732,
          1318.176941037178,
          1318.676684975624,
          1319.1770290136335,
          1319.6776649951937,
          1320.1782759428024,
          1320.680554986,
          1321.1812609434128,
          1321.682865023613,
          1322.177050948143,
          1322.677523970604,
          1323.1772600412369,
          1323.677286028862,
          1324.1772899627686,
          1324.6771129369736,
          1325.1772099733353,
          1325.676838040352,
          1326.1767599582672,
          1326.6785739660263,
          1327.1778639554975,
          1327.6792110204697,
          1328.1805419921875,
          1328.681983947754,
          1329.1830849647522,
          1329.6773120164871,
          1330.1770190000534,
          1330.6775850057602,
          1331.1777509450912,
          1331.6772929430008,
          1332.176924943924,
          1332.6769570112228,
          1333.1769649982452,
          1333.6772899627686,
          1334.177789926529,
          1334.6791249513626,
          1335.179690003395,
          1335.6815400123596,
          1336.1816549301147,
          1336.6778849363327,
          1337.1777639389038,
          1337.6777030229568,
          1338.177372932434,
          1338.676962971687,
          1339.1778450012207,
          1339.6773079633713,
          1340.1771029233932,
          1340.6769819259644,
          1341.1772159337995,
          1341.6782159805298,
          1342.1794749498367,
          1342.6803970336914,
          1343.1824790239334,
          1343.683228969574,
          1344.177855014801,
          1344.6779689788818,
          1345.1776440143583,
          1345.677565932274,
          1346.177502036095,
          1346.677181005478,
          1347.177125930786,
          1347.6770160198212,
          1348.1771359443665,
          1348.679155945778,
          1349.1791479587555,
          1349.680806040764,
          1350.1808840036392,
          1350.6824289560318,
          1351.177971959114,
          1351.6778919696808,
          1352.177927017212,
          1352.677906036377,
          1353.1779990196228,
          1353.6774499416351,
          1354.1773899793625,
          1354.677073955536,
          1355.1771960258484,
          1355.6772990226746,
          1356.181349992752,
          1356.6794790029526,
          1357.1818189620972,
          1357.6812340021131,
          1358.1779860258102,
          1358.6780350208282,
          1359.1775139570236,
          1359.6778210401535,
          1360.1797440052032,
          1360.6772619485855,
          1361.1773610115051,
          1361.6772829294205,
          1362.1803560256958,
          1362.6780689954758,
          1363.183506011963,
          1363.6801619529724,
          1364.1813249588013,
          1364.682433962822,
          1365.1853139400482,
          1365.6780920028689,
          1366.1780799627304,
          1366.677878022194,
          1367.1771340370178,
          1367.677610993385,
          1368.177531003952,
          1368.6773530244827,
          1369.1794929504397,
          1369.6773289442062,
          1370.178524017334,
          1370.6792179346085,
          1371.1804950237274,
          1371.6817319393158,
          1372.1835719347,
          1372.6781840324402,
          1373.1781829595566,
          1373.6782319545746,
          1374.1781820058825,
          1374.6781989336014,
          1375.178167939186,
          1375.6782100200653,
          1376.1782369613647,
          1376.6782159805298,
          1377.1773719787598,
          1377.67822599411,
          1378.178223013878,
          1378.678218960762,
          1379.17787194252,
          1379.6781669855118,
          1380.1781809329989,
          1380.6782369613647,
          1381.178115963936,
          1381.6778509616852,
          1382.1779140233994,
          1382.677659034729,
          1383.1782100200653,
          1383.6773719787598,
          1384.1782549619677,
          1384.6795029640198,
          1385.1794559955597,
          1385.6808680295944,
          1386.1814049482346,
          1386.6834399700165,
          1387.1782039403915,
          1387.6782330274582,
          1388.177878022194,
          1388.677966952324,
          1389.1778259277344,
          1389.6776410341265,
          1390.177593946457,
          1390.6773499250412,
          1391.1773389577866,
          1391.6783349514008,
          1392.1801450252533,
          1392.680892944336,
          1393.1810950040815,
          1393.6828210353851,
          1394.1834089756012,
          1394.678207039833,
          1395.178192973137,
          1395.6780059337616,
          1396.1780489683151,
          1396.6778470277786,
          1397.1778019666672,
          1397.677647948265,
          1398.1774909496307,
          1398.677402973175,
          1399.1787869930267,
          1399.6793559789658,
          1400.1793389320374,
          1400.6831740140915,
          1401.1833879947662,
          1401.6779299974442,
          1402.1773949861526,
          1402.678125023842,
          1403.1783629655838,
          1403.6776180267334,
          1404.1776629686356,
          1404.677649974823,
          1405.1775549650192,
          1405.677482008934,
          1406.178486943245,
          1406.6800129413605,
          1407.181990981102,
          1407.6819549798963,
          1408.1843320131302,
          1408.678442955017,
          1409.178452014923,
          1409.6783100366592,
          1410.1782929897308,
          1410.6780799627304,
          1411.1778210401535,
          1411.6777999401093,
          1412.17762196064,
          1412.6775039434433,
          1413.1786400079727,
          1413.67950797081,
          1414.1801619529724,
          1414.6817539930344,
          1415.1819109916687,
          1415.678200006485,
          1416.1777110099792,
          1416.6784759759903,
          1417.1784930229187,
          1417.6781610250473,
          1418.1778309345243,
          1418.67781996727,
          1419.1777639389038,
          1419.6776210069656,
          1420.177598953247,
          1420.6796020269394,
          1421.1789289712906,
          1421.6799969673157,
          1422.1823400259018,
          1422.6840590238571,
          1423.1784980297089,
          1423.6785379648209,
          1424.178388953209,
          1424.6782920360563,
          1425.1783130168917,
          1425.6780669689178,
          1426.1778979301453,
          1426.677847981453,
          1427.177708983421,
          1427.6788499355316,
          1428.17954993248,
          1428.6807609796524,
          1429.180946946144,
          1429.6836429834366,
          1430.181293964386,
          1430.6785910129547,
          1431.178638935089,
          1431.678431034088,
          1432.1780569553375,
          1432.6780669689178,
          1433.1780279874802,
          1433.677834033966,
          1434.1777049303057,
          1434.6792570352554,
          1435.17866897583,
          1435.6804230213163,
          1436.1812369823456,
          1436.6826479434967,
          1437.1784909963608,
          1437.678218960762,
          1438.1786580085754,
          1438.678480029106,
          1439.1782430410385,
          1439.6781849861145,
          1440.1782130002975,
          1440.6778450012207,
          1441.177927017212,
          1441.678966999054,
          1442.1790820360184,
          1442.6804119348526,
          1443.1835290193558,
          1443.6808969974518,
          1444.1787450313568,
          1444.6787040233612,
          1445.1786849498749,
          1445.6784499883652,
          1446.17841899395,
          1446.6781890392303,
          1447.1780599355698,
          1447.6779489517212,
          1448.1797729730606,
          1448.6793780326843,
          1449.179885983467,
          1449.6812950372696,
          1450.182510972023,
          1450.6833000183103,
          1451.1787439584732,
          1451.678748011589,
          1452.1787749528885,
          1452.678486943245,
          1453.1787729263306,
          1453.6780630350113,
          1454.1778399944303,
          1454.677822947502,
          1455.1779129505155,
          1455.678840994835,
          1456.182121038437,
          1456.6815910339355,
          1457.18452501297,
          1457.684944987297,
          1458.1787940263748,
          1458.6787869930267,
          1459.1785370111463,
          1459.6785949468613,
          1460.17826294899,
          1460.6782100200653,
          1461.1780220270157,
          1461.6780329942703,
          1462.1781219244003,
          1462.679535031319,
          1463.180722951889,
          1463.6818319559095,
          1464.182618021965,
          1464.6845589876175,
          1465.1788849830627,
          1465.6788330078125,
          1466.1787419319153,
          1466.678444981575,
          1467.1781219244003,
          1467.6781269311905,
          1468.1780959367752,
          1468.6779199838638,
          1469.1788719892502,
          1469.678885936737,
          1470.180034995079,
          1470.6803929805756,
          1471.1835119724274,
          1471.683786034584,
          1472.17882502079,
          1472.6788679361343,
          1473.1783779859545,
          1473.6785279512403,
          1474.1784509420395,
          1474.6782820224762,
          1475.1781480312347,
          1475.67806494236,
          1476.1781120300293,
          1476.6792719364166,
          1477.1805679798126,
          1477.6812329292295,
          1478.1825749874115,
          1478.684002995491,
          1479.1789239645004,
          1479.678943991661,
          1480.1787890195849,
          1480.6786940097809,
          1481.1785700321198,
          1481.6784089803696,
          1482.178151011467,
          1482.6781369447708,
          1483.1781179904938,
          1483.6794049739838,
          1484.1799290180206,
          1484.6806539297104,
          1485.1831089258194,
          1485.6839159727097,
          1486.1790019273758,
          1486.6790260076525,
          1487.1782430410385,
          1487.6787120103836,
          1488.1785259246826,
          1488.6785579919815,
          1489.178444981575,
          1489.6783139705658,
          1490.179073929787,
          1490.679563999176,
          1491.1813099384308,
          1491.6817120313644,
          1492.1791479587555,
          1492.6782219409945,
          1493.1790490150452,
          1493.6782269477844,
          1494.1786140203476,
          1494.6791379451752,
          1495.1784080266953,
          1495.679116010666,
          1496.17915892601,
          1496.7096680402756
         ],
         "y": [
          "x",
          "l",
          "l",
          "l",
          "l",
          "l",
          "l",
          "l",
          "l",
          "l",
          "l",
          "l",
          "l",
          "r",
          "r",
          "l",
          "l",
          "l",
          "l",
          "l",
          "l",
          "l",
          "l",
          "l",
          "l",
          "l",
          "l",
          "l",
          "l",
          "l",
          "l",
          "l",
          "l",
          "l",
          "l",
          "l",
          "l",
          "l",
          "l",
          "l",
          "l",
          "l",
          "l",
          "l",
          "l",
          "l",
          "l",
          "l",
          "l",
          "l",
          "l",
          "l",
          "l",
          "l",
          "l",
          "l",
          "l",
          "l",
          "l",
          "l",
          "l",
          "l",
          "l",
          "l",
          "l",
          "l",
          "l",
          "l",
          "l",
          "l",
          "l",
          "l",
          "l",
          "l",
          "l",
          "r",
          "r",
          "r",
          "r",
          "r",
          "l",
          "r",
          "r",
          "r",
          "r",
          "r",
          "r",
          "r",
          "r",
          "r",
          "r",
          "r",
          "l",
          "l",
          "l",
          "l",
          "l",
          "l",
          "l",
          "l",
          "l",
          "l",
          "l",
          "l",
          "l",
          "l",
          "l",
          "l",
          "l",
          "l",
          "l",
          "l",
          "l",
          "l",
          "l",
          "l",
          "l",
          "l",
          "l",
          "r",
          "r",
          "l",
          "l",
          "l",
          "l",
          "l",
          "l",
          "l",
          "l",
          "l",
          "l",
          "l",
          "l",
          "l",
          "l",
          "l",
          "l",
          "l",
          "l",
          "l",
          "l",
          "l",
          "l",
          "l",
          "l",
          "l",
          "l",
          "l",
          "l",
          "l",
          "r",
          "r",
          "l",
          "l",
          "l",
          "l",
          "r",
          "r",
          "r",
          "r",
          "r",
          "r",
          "r",
          "r",
          "l",
          "r",
          "r",
          "r",
          "l",
          "l",
          "l",
          "l",
          "l",
          "l",
          "l",
          "l",
          "l",
          "l",
          "l",
          "l",
          "l",
          "l",
          "l",
          "l",
          "r",
          "r",
          "r",
          "r",
          "l",
          "l",
          "l",
          "l",
          "l",
          "l",
          "l",
          "l",
          "l",
          "l",
          "l",
          "l",
          "l",
          "l",
          "l",
          "l",
          "l",
          "l",
          "l",
          "l",
          "l",
          "l",
          "l",
          "l",
          "l",
          "l",
          "l",
          "l",
          "l",
          "l",
          "l",
          "l",
          "l",
          "l",
          "l",
          "l",
          "l",
          "l",
          "l",
          "l",
          "l",
          "l",
          "l",
          "l",
          "l",
          "l",
          "l",
          "l",
          "l",
          "l",
          "l",
          "l",
          "l",
          "l",
          "l",
          "l",
          "l",
          "l",
          "l",
          "l",
          "l",
          "l",
          "l",
          "l",
          "l",
          "l",
          "l",
          "l",
          "l",
          "l",
          "l",
          "l",
          "l",
          "r",
          "r",
          "r",
          "r",
          "l",
          "l",
          "l",
          "l",
          "l",
          "l",
          "l",
          "l",
          "l",
          "l",
          "l",
          "l",
          "l",
          "l",
          "l",
          "l",
          "l",
          "l",
          "l",
          "l",
          "l",
          "l",
          "l",
          "l",
          "l",
          "l",
          "l",
          "l",
          "l",
          "l",
          "l",
          "l",
          "l",
          "l",
          "l",
          "l",
          "l",
          "l",
          "l",
          "l",
          "l",
          "l",
          "l",
          "l",
          "l",
          "l",
          "l",
          "l",
          "l",
          "l",
          "l",
          "l",
          "l",
          "l",
          "l",
          "l",
          "l",
          "l",
          "l",
          "l",
          "l",
          "l",
          "l",
          "l",
          "l",
          "l",
          "l",
          "l",
          "l",
          "l",
          "l",
          "l",
          "l",
          "l",
          "l",
          "l",
          "l",
          "l",
          "l",
          "l",
          "l",
          "l",
          "l",
          "l",
          "l",
          "l",
          "l",
          "l",
          "l",
          "l",
          "l",
          "l",
          "l",
          "l",
          "r",
          "l",
          "l",
          "l",
          "l",
          "l",
          "l",
          "l",
          "l",
          "l",
          "l",
          "l",
          "l",
          "l",
          "l",
          "r",
          "r",
          "r",
          "r",
          "r",
          "r",
          "r",
          "r",
          "l",
          "l",
          "l",
          "l",
          "r",
          "r",
          "l",
          "l",
          "l",
          "l",
          "l",
          "l",
          "l",
          "r",
          "l",
          "l",
          "l",
          "l",
          "l",
          "l",
          "l",
          "l",
          "l",
          "l",
          "l",
          "l",
          "r",
          "r",
          "r",
          "l",
          "l",
          "l",
          "l",
          "r",
          "r",
          "r",
          "r",
          "r",
          "l",
          "l",
          "l",
          "l",
          "l",
          "l",
          "l",
          "l",
          "l",
          "l",
          "l",
          "l",
          "l",
          "l",
          "l",
          "l",
          "l",
          "l",
          "l",
          "l",
          "l",
          "l",
          "l",
          "l",
          "l",
          "l",
          "l",
          "l",
          "l",
          "l",
          "l",
          "l",
          "l",
          "l",
          "l",
          "l",
          "l",
          "l",
          "l",
          "l",
          "l",
          "l",
          "l",
          "l",
          "l",
          "l",
          "l",
          "r",
          "r",
          "r",
          "r",
          "r",
          "r",
          "l",
          "l",
          "l",
          "l",
          "l",
          "l",
          "l",
          "l",
          "l",
          "l",
          "l",
          "l",
          "l",
          "l",
          "l",
          "l",
          "l",
          "l",
          "l",
          "l",
          "l",
          "l",
          "l",
          "l",
          "l",
          "l",
          "l",
          "l",
          "l",
          "r",
          "r",
          "r",
          "r",
          "r",
          "l",
          "l",
          "l",
          "l",
          "l",
          "l",
          "l",
          "l",
          "l",
          "l",
          "l",
          "l",
          "l",
          "l",
          "l",
          "l",
          "l",
          "l",
          "l",
          "l",
          "l",
          "l",
          "l",
          "l",
          "l",
          "l",
          "l",
          "l",
          "l",
          "l",
          "l",
          "l",
          "l",
          "r",
          "r",
          "l",
          "r",
          "l",
          "l",
          "l",
          "l",
          "l",
          "l",
          "l",
          "l",
          "l",
          "l",
          "l",
          "l",
          "l",
          "l",
          "l",
          "l",
          "l",
          "l",
          "l",
          "l",
          "l",
          "l",
          "l",
          "l",
          "l",
          "l",
          "l",
          "l",
          "l",
          "l",
          "l",
          "l",
          "l",
          "l",
          "l",
          "l",
          "l",
          "l",
          "r",
          "r",
          "r",
          "l",
          "l",
          "l",
          "l",
          "l",
          "l",
          "l",
          "l",
          "l",
          "l",
          "l",
          "l",
          "l",
          "l",
          "l",
          "l",
          "l",
          "l",
          "l",
          "l",
          "l",
          "l",
          "l",
          "l",
          "l",
          "l",
          "l",
          "l",
          "l",
          "l",
          "l",
          "l",
          "l",
          "l",
          "l",
          "l",
          "l",
          "l",
          "l",
          "l",
          "l",
          "l",
          "l",
          "l",
          "r",
          "r",
          "l",
          "l",
          "l",
          "r",
          "l",
          "l",
          "l",
          "l",
          "l",
          "l",
          "l",
          "l",
          "l",
          "l",
          "l",
          "l",
          "l",
          "l",
          "l",
          "l",
          "l",
          "l",
          "l",
          "l",
          "l",
          "l",
          "l",
          "l",
          "l",
          "l",
          "l",
          "l",
          "l",
          "l",
          "l",
          "l",
          "l",
          "r",
          "r",
          "l",
          "l",
          "l",
          "l",
          "l",
          "l",
          "l",
          "l",
          "l",
          "l",
          "l",
          "l",
          "l",
          "l",
          "l",
          "l",
          "l",
          "l",
          "l",
          "l",
          "l",
          "l",
          "r",
          "l",
          "l",
          "l",
          "r",
          "r",
          "r",
          "l",
          "l",
          "l",
          "l",
          "l",
          "l",
          "l",
          "l",
          "l",
          "l",
          "l",
          "l",
          "l",
          "l",
          "l",
          "l",
          "l",
          "l",
          "l",
          "l",
          "l",
          "l",
          "l",
          "l",
          "l",
          "l",
          "l",
          "l",
          "l",
          "l",
          "l",
          "l",
          "l",
          "l",
          "l",
          "l",
          "l",
          "l",
          "l",
          "l",
          "l",
          "l",
          "l",
          "l",
          "l",
          "l",
          "l",
          "l",
          "l",
          "l",
          "l",
          "l",
          "l",
          "l",
          "l",
          "l",
          "l",
          "l",
          "l",
          "l",
          "l",
          "l",
          "l",
          "l",
          "l",
          "l",
          "l",
          "l",
          "l",
          "l",
          "l",
          "l",
          "r",
          "r",
          "r",
          "r",
          "l",
          "l",
          "l",
          "l",
          "l",
          "l",
          "l",
          "l",
          "l",
          "l",
          "l",
          "l",
          "l",
          "l",
          "l",
          "l",
          "l",
          "l",
          "l",
          "l",
          "l",
          "l",
          "l",
          "l",
          "l",
          "l",
          "l",
          "l",
          "l",
          "l",
          "l",
          "l",
          "l",
          "l",
          "l",
          "l",
          "l",
          "l",
          "l",
          "l",
          "l",
          "l",
          "l",
          "l",
          "l",
          "l",
          "l",
          "l",
          "l",
          "l",
          "l",
          "l",
          "l",
          "l",
          "l",
          "l",
          "l",
          "l",
          "l",
          "l",
          "l",
          "l",
          "l",
          "l",
          "l",
          "l",
          "l",
          "l",
          "l",
          "l",
          "l",
          "l",
          "l",
          "l",
          "l",
          "l",
          "l",
          "l",
          "l",
          "l",
          "l",
          "l",
          "l",
          "l",
          "l",
          "l",
          "l",
          "l",
          "l",
          "l",
          "l",
          "l",
          "l",
          "l",
          "l",
          "l",
          "l",
          "l",
          "l",
          "l",
          "l",
          "l",
          "l",
          "l",
          "l",
          "l",
          "l",
          "l",
          "l",
          "l",
          "l",
          "l",
          "l",
          "l",
          "l",
          "l",
          "l",
          "l",
          "l",
          "l",
          "l",
          "l",
          "l",
          "l",
          "l",
          "l",
          "l",
          "l",
          "l",
          "l",
          "l",
          "l",
          "l",
          "l",
          "l",
          "l",
          "l",
          "l",
          "l",
          "l",
          "l",
          "l",
          "l",
          "l",
          "l",
          "l",
          "l",
          "l",
          "l",
          "l",
          "l",
          "l",
          "l",
          "l",
          "l",
          "l",
          "l",
          "l",
          "l",
          "l",
          "l",
          "l",
          "l",
          "l",
          "l",
          "l",
          "l",
          "l",
          "l",
          "l",
          "l",
          "l",
          "l",
          "l",
          "l",
          "l",
          "l",
          "l",
          "l",
          "l",
          "l",
          "l",
          "l",
          "l",
          "l",
          "l",
          "l",
          "l",
          "l",
          "l",
          "l",
          "l",
          "l",
          "l",
          "l",
          "l",
          "l",
          "l",
          "l",
          "l",
          "l",
          "l",
          "l",
          "l",
          "l",
          "l",
          "l",
          "l",
          "l",
          "l",
          "l",
          "l",
          "l",
          "l",
          "l",
          "l",
          "l",
          "l",
          "l",
          "l",
          "l",
          "l",
          "l",
          "l",
          "l",
          "l",
          "l",
          "l",
          "l",
          "l",
          "l",
          "l",
          "l",
          "l",
          "l",
          "l",
          "l",
          "l",
          "l",
          "l",
          "l",
          "l",
          "l",
          "l",
          "l",
          "l",
          "l",
          "l",
          "l",
          "l",
          "l",
          "l",
          "l",
          "l",
          "l",
          "l",
          "l",
          "l",
          "l",
          "l",
          "l",
          "l",
          "l",
          "l",
          "l",
          "l",
          "l",
          "l",
          "l",
          "l",
          "l",
          "l",
          "l",
          "l",
          "l",
          "l",
          "l",
          "r",
          "r",
          "l",
          "r",
          "l",
          "l",
          "l",
          "l",
          "l",
          "l",
          "l",
          "l",
          "l",
          "l",
          "l",
          "l",
          "l",
          "l",
          "l",
          "l",
          "l",
          "l",
          "l",
          "l",
          "l",
          "l",
          "l",
          "l",
          "l",
          "l",
          "l",
          "l",
          "l",
          "l",
          "l",
          "l",
          "l",
          "l",
          "l",
          "l",
          "l",
          "l",
          "l",
          "l",
          "l",
          "l",
          "l",
          "l",
          "l",
          "l",
          "l",
          "l",
          "l",
          "l",
          "l",
          "l",
          "l",
          "l",
          "l",
          "l",
          "l",
          "l",
          "l",
          "l",
          "l",
          "l",
          "l",
          "l",
          "l",
          "l",
          "l",
          "l",
          "l",
          "l",
          "l",
          "l",
          "l",
          "l",
          "l",
          "l",
          "l",
          "l",
          "l",
          "l",
          "l",
          "l",
          "l",
          "l",
          "l",
          "l",
          "l",
          "l",
          "l",
          "l",
          "l",
          "l",
          "l",
          "l",
          "l",
          "l",
          "l",
          "l",
          "l",
          "l",
          "l",
          "l",
          "l",
          "l",
          "l",
          "l",
          "l",
          "r",
          "r",
          "r",
          "l",
          "l",
          "l",
          "l",
          "l",
          "l",
          "l",
          "l",
          "l",
          "l",
          "l",
          "l",
          "l",
          "l",
          "l",
          "l",
          "l",
          "l",
          "l",
          "l",
          "l",
          "l",
          "l",
          "l",
          "l",
          "l",
          "l",
          "l",
          "l",
          "l",
          "l",
          "l",
          "l",
          "l",
          "l",
          "l",
          "l",
          "l",
          "l",
          "l",
          "l",
          "l",
          "l",
          "l",
          "l",
          "r",
          "r",
          "r",
          "r",
          "r",
          "l",
          "l",
          "l",
          "l",
          "l",
          "l",
          "l",
          "l",
          "l",
          "l",
          "l",
          "l",
          "l",
          "l",
          "l",
          "l",
          "l",
          "l",
          "l",
          "l",
          "l",
          "l",
          "l",
          "l",
          "l",
          "l",
          "l",
          "l",
          "l",
          "l",
          "l",
          "l",
          "l",
          "l",
          "l",
          "l",
          "l",
          "l",
          "l",
          "l",
          "l",
          "l",
          "l",
          "l",
          "l",
          "l",
          "l",
          "r",
          "r",
          "r",
          "l",
          "l",
          "l",
          "l",
          "l",
          "l",
          "l",
          "l",
          "l",
          "l",
          "l",
          "l",
          "l",
          "l",
          "l",
          "l",
          "l",
          "l",
          "l",
          "l",
          "l",
          "l",
          "l",
          "l",
          "l",
          "l",
          "l",
          "l",
          "l",
          "l",
          "l",
          "l",
          "l",
          "l",
          "l",
          "l",
          "l",
          "l",
          "l",
          "l",
          "l",
          "l",
          "l",
          "l",
          "l",
          "r",
          "r",
          "l",
          "l",
          "l",
          "l",
          "l",
          "l",
          "l",
          "l",
          "l",
          "l",
          "l",
          "l",
          "l",
          "l",
          "l",
          "l",
          "l",
          "l",
          "l",
          "l",
          "l",
          "l",
          "l",
          "l",
          "l",
          "l",
          "l",
          "l",
          "l",
          "l",
          "l",
          "l",
          "l",
          "l",
          "l",
          "l",
          "l",
          "l",
          "l",
          "l",
          "l",
          "l",
          "l",
          "l",
          "l",
          "l",
          "l",
          "l",
          "l",
          "l",
          "l",
          "r",
          "r",
          "l",
          "l",
          "l",
          "l",
          "l",
          "l",
          "l",
          "l",
          "l",
          "l",
          "l",
          "l",
          "l",
          "l",
          "r",
          "r",
          "r",
          "r",
          "r",
          "r",
          "r",
          "r",
          "r",
          "r",
          "r",
          "r",
          "r",
          "r",
          "r",
          "r",
          "r",
          "r",
          "r",
          "r",
          "r",
          "r",
          "l",
          "r",
          "r",
          "r",
          "r",
          "r",
          "r",
          "l",
          "l",
          "r",
          "r",
          "r",
          "r",
          "r",
          "r",
          "l",
          "l",
          "r",
          "r",
          "l",
          "l",
          "r",
          "r",
          "r",
          "l",
          "l",
          "l",
          "l",
          "l",
          "l",
          "l",
          "l",
          "l",
          "l",
          "l",
          "l",
          "l",
          "l",
          "l",
          "l",
          "l",
          "l",
          "l",
          "l",
          "l",
          "l",
          "l",
          "l",
          "l",
          "l",
          "l",
          "l",
          "l",
          "l",
          "r",
          "l",
          "l",
          "l",
          "l",
          "r",
          "r",
          "r",
          "r",
          "r",
          "r",
          "r",
          "r",
          "l",
          "r",
          "l",
          "r",
          "r",
          "r",
          "r",
          "r",
          "r",
          "r",
          "r",
          "r",
          "r",
          "r",
          "r",
          "r",
          "r",
          "r",
          "r",
          "r",
          "r",
          "r",
          "r",
          "r",
          "r",
          "r",
          "r",
          "r",
          "r",
          "r",
          "r",
          "l",
          "l",
          "l",
          "l",
          "l",
          "l",
          "l",
          "l",
          "l",
          "l",
          "l",
          "l",
          "l",
          "l",
          "l",
          "l",
          "l",
          "l",
          "l",
          "l",
          "l",
          "l",
          "l",
          "l",
          "l",
          "l",
          "l",
          "l",
          "l",
          "l",
          "l",
          "l",
          "l",
          "l",
          "l",
          "l",
          "l",
          "l",
          "l",
          "l",
          "l",
          "l",
          "l",
          "l",
          "l",
          "l",
          "l",
          "l",
          "l",
          "l",
          "l",
          "l",
          "l",
          "l",
          "l",
          "l",
          "l",
          "l",
          "l",
          "l",
          "l",
          "l",
          "l",
          "l",
          "l",
          "l",
          "l",
          "l",
          "l",
          "l",
          "l",
          "l",
          "l",
          "l",
          "l",
          "l",
          "l",
          "r",
          "r",
          "r",
          "r",
          "l",
          "l",
          "r",
          "r",
          "l",
          "l",
          "l",
          "l",
          "l",
          "l",
          "l",
          "l",
          "l",
          "l",
          "l",
          "l",
          "l",
          "l",
          "l",
          "l",
          "l",
          "l",
          "l",
          "l",
          "l",
          "l",
          "l",
          "l",
          "l",
          "l",
          "l",
          "l",
          "l",
          "l",
          "l",
          "l",
          "l",
          "r",
          "l",
          "l",
          "l",
          "l",
          "l",
          "l",
          "l",
          "l",
          "l",
          "l",
          "l",
          "l",
          "l",
          "l",
          "l",
          "l",
          "l",
          "l",
          "l",
          "l",
          "l",
          "r",
          "l",
          "l",
          "l",
          "l",
          "l",
          "l",
          "l",
          "l",
          "l",
          "l",
          "l",
          "l",
          "l",
          "l",
          "l",
          "l",
          "l",
          "l",
          "l",
          "l",
          "l",
          "l",
          "l",
          "l",
          "l",
          "l",
          "l",
          "r",
          "l",
          "l",
          "r",
          "r",
          "r",
          "l",
          "l",
          "l",
          "l",
          "l",
          "l",
          "l",
          "l",
          "l",
          "l",
          "l",
          "l",
          "l",
          "l",
          "l",
          "l",
          "l",
          "r",
          "r",
          "r",
          "r",
          "l",
          "l",
          "l",
          "l",
          "l",
          "l",
          "l",
          "l",
          "l",
          "l",
          "l",
          "l",
          "l",
          "l",
          "l",
          "l",
          "l",
          "l",
          "l",
          "l",
          "l",
          "l",
          "l",
          "l",
          "l",
          "l",
          "r",
          "r",
          "r",
          "l",
          "l",
          "l",
          "l",
          "l",
          "l",
          "l",
          "l",
          "l",
          "l",
          "l",
          "l",
          "l",
          "r",
          "r",
          "r",
          "l",
          "l",
          "l",
          "l",
          "l",
          "r",
          "r",
          "r",
          "r",
          "r",
          "r",
          "r",
          "r",
          "r",
          "r",
          "l",
          "r",
          "r",
          "r",
          "r",
          "l",
          "r",
          "r",
          "l",
          "l",
          "l",
          "l",
          "l",
          "l",
          "l",
          "l",
          "l",
          "l",
          "l",
          "l",
          "l",
          "l",
          "l",
          "l",
          "l",
          "l",
          "l",
          "l",
          "l",
          "l",
          "l",
          "l",
          "l",
          "l",
          "l",
          "l",
          "l",
          "l",
          "l",
          "l",
          "l",
          "l",
          "l",
          "l",
          "l",
          "l",
          "l",
          "l",
          "l",
          "l",
          "l",
          "l",
          "l",
          "l",
          "l",
          "l",
          "l",
          "l",
          "l",
          "l",
          "l",
          "l",
          "l",
          "l",
          "l",
          "l",
          "l",
          "l",
          "l",
          "l",
          "l",
          "l",
          "l",
          "l",
          "l",
          "l",
          "l",
          "l",
          "l",
          "l",
          "l",
          "l",
          "l",
          "l",
          "l",
          "l",
          "l",
          "l",
          "l",
          "l",
          "l",
          "l",
          "l",
          "l",
          "l",
          "l",
          "l",
          "l",
          "l",
          "l",
          "l",
          "l",
          "l",
          "l",
          "l",
          "l",
          "l",
          "l",
          "l",
          "l",
          "l",
          "l",
          "l",
          "l",
          "l",
          "l",
          "l",
          "l",
          "l",
          "l",
          "l",
          "l",
          "l",
          "l",
          "l",
          "l",
          "l",
          "l",
          "l",
          "l",
          "l",
          "r",
          "r",
          "r",
          "l",
          "l",
          "l",
          "l",
          "l",
          "l",
          "l",
          "l",
          "l",
          "l",
          "l",
          "l",
          "l",
          "l",
          "l",
          "l",
          "l",
          "l",
          "l",
          "l",
          "l",
          "l",
          "l",
          "l",
          "l",
          "l",
          "l",
          "l",
          "l",
          "l",
          "l",
          "l",
          "l",
          "l",
          "l",
          "l",
          "l",
          "l",
          "l",
          "l",
          "l",
          "l",
          "l",
          "l",
          "l",
          "l",
          "l",
          "l",
          "l",
          "l",
          "l",
          "l",
          "l",
          "l",
          "l",
          "l",
          "l",
          "l",
          "l",
          "l",
          "l",
          "l",
          "l",
          "r",
          "l",
          "l",
          "l",
          "r",
          "r",
          "r",
          "l",
          "l",
          "l",
          "l",
          "l",
          "l",
          "l",
          "l",
          "l",
          "l",
          "l",
          "l",
          "l",
          "l",
          "l",
          "l",
          "l",
          "l",
          "l",
          "l",
          "l",
          "l",
          "l",
          "l",
          "l",
          "l",
          "l",
          "l",
          "l",
          "l",
          "l",
          "l",
          "l",
          "l",
          "l",
          "l",
          "l",
          "l",
          "l",
          "l",
          "l",
          "l",
          "l",
          "l",
          "l",
          "l",
          "l",
          "l",
          "l",
          "l",
          "l",
          "l",
          "l",
          "l",
          "l",
          "l",
          "l",
          "l",
          "l",
          "l",
          "l",
          "r",
          "r",
          "r",
          "r",
          "r",
          "r",
          "l",
          "l",
          "l",
          "l",
          "l",
          "l",
          "l",
          "l",
          "l",
          "l",
          "l",
          "l",
          "l",
          "l",
          "l",
          "l",
          "l",
          "l",
          "l",
          "l",
          "l",
          "l",
          "l",
          "l",
          "l",
          "l",
          "l",
          "l",
          "l",
          "l",
          "l",
          "l",
          "l",
          "l",
          "l",
          "l",
          "l",
          "l",
          "l",
          "l",
          "l",
          "l",
          "l",
          "l",
          "l",
          "l",
          "l",
          "l",
          "l",
          "l",
          "r",
          "r",
          "l",
          "l",
          "l",
          "l",
          "r",
          "r",
          "r",
          "l",
          "l",
          "l",
          "r",
          "r",
          "r",
          "r",
          "r",
          "r",
          "r",
          "r",
          "r",
          "r",
          "r",
          "l",
          "l",
          "l",
          "l",
          "l",
          "l",
          "r",
          "r",
          "r",
          "r",
          "r",
          "r",
          "r",
          "r",
          "r",
          "l",
          "l",
          "l",
          "l",
          "l",
          "l",
          "l",
          "l",
          "l",
          "l",
          "l",
          "l",
          "l",
          "l",
          "l",
          "l",
          "l",
          "l",
          "l",
          "l",
          "l",
          "l",
          "l",
          "l",
          "l",
          "l",
          "l",
          "l",
          "l",
          "l",
          "l",
          "l",
          "l",
          "l",
          "l",
          "l",
          "l",
          "l",
          "l",
          "l",
          "l",
          "l",
          "l",
          "l",
          "l",
          "l",
          "l",
          "l",
          "l",
          "l",
          "l",
          "l",
          "l",
          "l",
          "l",
          "l",
          "l",
          "l",
          "l",
          "l",
          "l",
          "l",
          "l",
          "l",
          "l",
          "l",
          "l",
          "l",
          "l",
          "l",
          "l",
          "l",
          "l",
          "l",
          "l",
          "l",
          "l",
          "l",
          "l",
          "l",
          "l",
          "r",
          "l",
          "l",
          "l",
          "l",
          "l",
          "l",
          "l",
          "l",
          "l",
          "l",
          "l",
          "l",
          "l",
          "l",
          "l",
          "l",
          "l",
          "l",
          "l",
          "l",
          "l",
          "l",
          "l",
          "l",
          "l",
          "l",
          "l",
          "l",
          "l",
          "l",
          "l",
          "l",
          "l",
          "l",
          "l",
          "l",
          "l",
          "l",
          "l",
          "l",
          "l",
          "l",
          "l",
          "l",
          "l",
          "l",
          "l",
          "l",
          "l",
          "l",
          "l",
          "l",
          "l",
          "l",
          "l",
          "l",
          "l",
          "l",
          "l",
          "l",
          "l",
          "l",
          "l",
          "l",
          "l",
          "l",
          "l",
          "l",
          "r",
          "l",
          "l",
          "l",
          "l",
          "l",
          "l",
          "l",
          "l",
          "l",
          "l",
          "l",
          "l",
          "l",
          "l",
          "l",
          "l",
          "l",
          "l",
          "l",
          "l",
          "l",
          "l",
          "l",
          "l",
          "l",
          "l",
          "l",
          "l",
          "l",
          "l",
          "l",
          "l",
          "l",
          "l",
          "l",
          "l",
          "l",
          "l",
          "l",
          "l",
          "l",
          "l",
          "l",
          "l",
          "l",
          "l",
          "l",
          "l",
          "l",
          "l",
          "l",
          "l",
          "l",
          "l",
          "l",
          "l",
          "l",
          "l",
          "l",
          "l",
          "l",
          "l",
          "l",
          "l",
          "l",
          "l",
          "l",
          "l",
          "l",
          "l",
          "l",
          "l",
          "l",
          "l",
          "l",
          "l",
          "l",
          "l",
          "l",
          "l",
          "l",
          "l",
          "l",
          "l",
          "l",
          "l",
          "l",
          "l",
          "l",
          "l",
          "l",
          "l",
          "l",
          "l",
          "l",
          "l",
          "l",
          "l",
          "l",
          "l",
          "l",
          "l",
          "l",
          "l",
          "l",
          "l",
          "l",
          "l",
          "l",
          "l",
          "l",
          "l",
          "l",
          "l",
          "l",
          "l",
          "l",
          "l",
          "l",
          "l",
          "l",
          "l",
          "l",
          "l",
          "l",
          "l",
          "l",
          "l",
          "l",
          "l",
          "l",
          "l",
          "l",
          "r",
          "r",
          "l",
          "l",
          "l",
          "l",
          "l",
          "l",
          "l",
          "l",
          "l",
          "l",
          "l",
          "l",
          "l",
          "l",
          "l",
          "l",
          "l",
          "l",
          "l",
          "l",
          "l",
          "l",
          "l",
          "l",
          "l",
          "l",
          "l",
          "l",
          "r",
          "l",
          "l",
          "l",
          "l",
          "l",
          "l",
          "l",
          "l",
          "l",
          "r",
          "l",
          "l",
          "l",
          "l",
          "l",
          "l",
          "l",
          "l",
          "l",
          "l",
          "l",
          "l",
          "l",
          "l",
          "l",
          "l",
          "l",
          "l",
          "l",
          "l",
          "l",
          "l",
          "l",
          "l",
          "l",
          "l",
          "l",
          "l",
          "l",
          "l",
          "l",
          "l",
          "l",
          "l",
          "l",
          "l",
          "l",
          "l",
          "l",
          "l",
          "l",
          "l",
          "l",
          "l",
          "l",
          "l",
          "l",
          "l",
          "l",
          "l",
          "l",
          "l",
          "l",
          "l",
          "l",
          "l",
          "l",
          "l",
          "l",
          "l",
          "l",
          "l",
          "l",
          "l",
          "l",
          "l",
          "l",
          "l",
          "l",
          "l",
          "l",
          "l",
          "l",
          "r",
          "l",
          "l",
          "l",
          "l",
          "l",
          "l",
          "l",
          "l",
          "l",
          "l",
          "l",
          "l",
          "l",
          "l",
          "l",
          "l",
          "l",
          "l",
          "l",
          "l",
          "l",
          "l",
          "l",
          "l",
          "l",
          "l",
          "l",
          "l",
          "l",
          "l",
          "l",
          "l",
          "l",
          "l",
          "l",
          "l",
          "l",
          "l",
          "l",
          "l",
          "l",
          "l",
          "l",
          "l",
          "l",
          "l",
          "l",
          "l",
          "l",
          "l",
          "r",
          "r",
          "r",
          "r",
          "l",
          "l",
          "l",
          "l",
          "l",
          "l",
          "l",
          "l",
          "l",
          "l",
          "l",
          "l",
          "l",
          "l",
          "l",
          "l",
          "l",
          "l",
          "l",
          "l",
          "l",
          "l",
          "l",
          "l",
          "l",
          "l",
          "l",
          "l",
          "l",
          "l",
          "l",
          "l",
          "l",
          "l",
          "l",
          "l",
          "l",
          "l",
          "l",
          "l",
          "l",
          "l",
          "l",
          "l",
          "l",
          "l",
          "l",
          "l",
          "l",
          "l",
          "l",
          "l",
          "l",
          "l",
          "l",
          "l",
          "l",
          "l",
          "l",
          "l",
          "l",
          "l",
          "l",
          "l",
          "l",
          "l",
          "l",
          "l",
          "l",
          "l",
          "l",
          "l",
          "l",
          "l",
          "l",
          "l",
          "l",
          "l",
          "l",
          "r",
          "l",
          "l",
          "l",
          "l",
          "r",
          "l",
          "l",
          "l",
          "l",
          "l",
          "l",
          "l",
          "l",
          "l",
          "l",
          "l",
          "l",
          "l",
          "l",
          "l",
          "l",
          "l",
          "l",
          "l",
          "l",
          "l",
          "l",
          "l",
          "l",
          "l",
          "l",
          "l",
          "l",
          "l",
          "l",
          "l",
          "l",
          "l",
          "l",
          "l",
          "l",
          "l",
          "l",
          "l",
          "l",
          "l",
          "l",
          "l",
          "l",
          "l",
          "l",
          "l",
          "l",
          "l",
          "l",
          "l",
          "l",
          "l",
          "l",
          "l",
          "l",
          "l",
          "l",
          "l",
          "l",
          "l",
          "l",
          "l",
          "l",
          "l",
          "l",
          "l",
          "l",
          "l",
          "l",
          "l",
          "l",
          "l",
          "l",
          "l",
          "l",
          "l",
          "l",
          "l",
          "l",
          "l",
          "l",
          "l",
          "l",
          "l",
          "l",
          "l",
          "l",
          "l",
          "l",
          "l",
          "l",
          "l",
          "l",
          "l",
          "l",
          "l",
          "l",
          "l",
          "l",
          "l",
          "l",
          "l",
          "l",
          "l",
          "l",
          "l",
          "l",
          "l",
          "l",
          "l",
          "l",
          "l",
          "l",
          "l",
          "l",
          "l",
          "l",
          "l",
          "l",
          "l",
          "l",
          "l",
          "l",
          "l",
          "l",
          "l",
          "l",
          "l",
          "l",
          "l",
          "l",
          "l",
          "l",
          "l",
          "l",
          "l",
          "l",
          "l",
          "l",
          "l",
          "l",
          "l",
          "l",
          "l",
          "l",
          "l",
          "l",
          "l",
          "l",
          "l",
          "l",
          "l",
          "r",
          "l",
          "l",
          "r",
          "r",
          "r",
          "r",
          "r",
          "r",
          "r",
          "l",
          "l",
          "l",
          "l",
          "r",
          "l",
          "l",
          "l",
          "l",
          "l",
          "l",
          "l",
          "l",
          "l",
          "l",
          "l",
          "l",
          "l",
          "l",
          "l",
          "l",
          "l",
          "l",
          "l",
          "l",
          "l",
          "l",
          "l",
          "l",
          "l",
          "l",
          "l",
          "l",
          "l",
          "l",
          "l",
          "l",
          "l",
          "l",
          "l",
          "l",
          "l",
          "l",
          "l",
          "l",
          "l",
          "l",
          "l",
          "l",
          "l",
          "l",
          "l",
          "l",
          "l",
          "l",
          "l",
          "l",
          "l",
          "l",
          "l",
          "l",
          "l",
          "l",
          "l",
          "l",
          "l",
          "l",
          "l",
          "l",
          "l",
          "l",
          "r",
          "r",
          "r",
          "l",
          "l",
          "l",
          "l",
          "l",
          "l",
          "l",
          "l",
          "l",
          "l",
          "l",
          "l",
          "l",
          "l",
          "l",
          "l",
          "l",
          "l",
          "l",
          "l",
          "l",
          "l",
          "l",
          "l",
          "l",
          "l",
          "l",
          "l",
          "l",
          "l",
          "l",
          "l",
          "l",
          "l",
          "l",
          "l",
          "l",
          "l",
          "l",
          "l",
          "l",
          "l",
          "l",
          "l",
          "l",
          "l",
          "l",
          "l",
          "l",
          "l",
          "l",
          "l",
          "l",
          "l",
          "l",
          "l",
          "l",
          "l",
          "l",
          "l",
          "l",
          "l",
          "l",
          "l",
          "l",
          "l",
          "l",
          "l",
          "l",
          "l",
          "l",
          "l",
          "l",
          "l",
          "l",
          "l",
          "l",
          "l",
          "l",
          "l",
          "l",
          "l",
          "l",
          "l",
          "l",
          "l",
          "l",
          "l",
          "l",
          "l",
          "l",
          "l",
          "l",
          "l",
          "r",
          "r",
          "r",
          "r",
          "l",
          "l",
          "l",
          "l",
          "l",
          "l"
         ]
        }
       ],
       "layout": {
        "font": {
         "family": "Lato, sans-serif",
         "size": 14
        },
        "hoverlabel": {
         "font": {
          "family": "Lato, sans-serif",
          "size": 13
         }
        },
        "hovermode": "y unified",
        "legend": {
         "orientation": "h",
         "x": 0.5,
         "xanchor": "center",
         "y": 1,
         "yanchor": "bottom"
        },
        "margin": {
         "b": 0,
         "l": 70,
         "r": 40,
         "t": 80
        },
        "template": {
         "data": {
          "bar": [
           {
            "error_x": {
             "color": "#2a3f5f"
            },
            "error_y": {
             "color": "#2a3f5f"
            },
            "marker": {
             "line": {
              "color": "#E5ECF6",
              "width": 0.5
             },
             "pattern": {
              "fillmode": "overlay",
              "size": 10,
              "solidity": 0.2
             }
            },
            "type": "bar"
           }
          ],
          "barpolar": [
           {
            "marker": {
             "line": {
              "color": "#E5ECF6",
              "width": 0.5
             },
             "pattern": {
              "fillmode": "overlay",
              "size": 10,
              "solidity": 0.2
             }
            },
            "type": "barpolar"
           }
          ],
          "carpet": [
           {
            "aaxis": {
             "endlinecolor": "#2a3f5f",
             "gridcolor": "white",
             "linecolor": "white",
             "minorgridcolor": "white",
             "startlinecolor": "#2a3f5f"
            },
            "baxis": {
             "endlinecolor": "#2a3f5f",
             "gridcolor": "white",
             "linecolor": "white",
             "minorgridcolor": "white",
             "startlinecolor": "#2a3f5f"
            },
            "type": "carpet"
           }
          ],
          "choropleth": [
           {
            "colorbar": {
             "outlinewidth": 0,
             "ticks": ""
            },
            "type": "choropleth"
           }
          ],
          "contour": [
           {
            "colorbar": {
             "outlinewidth": 0,
             "ticks": ""
            },
            "colorscale": [
             [
              0,
              "#0d0887"
             ],
             [
              0.1111111111111111,
              "#46039f"
             ],
             [
              0.2222222222222222,
              "#7201a8"
             ],
             [
              0.3333333333333333,
              "#9c179e"
             ],
             [
              0.4444444444444444,
              "#bd3786"
             ],
             [
              0.5555555555555556,
              "#d8576b"
             ],
             [
              0.6666666666666666,
              "#ed7953"
             ],
             [
              0.7777777777777778,
              "#fb9f3a"
             ],
             [
              0.8888888888888888,
              "#fdca26"
             ],
             [
              1,
              "#f0f921"
             ]
            ],
            "type": "contour"
           }
          ],
          "contourcarpet": [
           {
            "colorbar": {
             "outlinewidth": 0,
             "ticks": ""
            },
            "type": "contourcarpet"
           }
          ],
          "heatmap": [
           {
            "colorbar": {
             "outlinewidth": 0,
             "ticks": ""
            },
            "colorscale": [
             [
              0,
              "#0d0887"
             ],
             [
              0.1111111111111111,
              "#46039f"
             ],
             [
              0.2222222222222222,
              "#7201a8"
             ],
             [
              0.3333333333333333,
              "#9c179e"
             ],
             [
              0.4444444444444444,
              "#bd3786"
             ],
             [
              0.5555555555555556,
              "#d8576b"
             ],
             [
              0.6666666666666666,
              "#ed7953"
             ],
             [
              0.7777777777777778,
              "#fb9f3a"
             ],
             [
              0.8888888888888888,
              "#fdca26"
             ],
             [
              1,
              "#f0f921"
             ]
            ],
            "type": "heatmap"
           }
          ],
          "heatmapgl": [
           {
            "colorbar": {
             "outlinewidth": 0,
             "ticks": ""
            },
            "colorscale": [
             [
              0,
              "#0d0887"
             ],
             [
              0.1111111111111111,
              "#46039f"
             ],
             [
              0.2222222222222222,
              "#7201a8"
             ],
             [
              0.3333333333333333,
              "#9c179e"
             ],
             [
              0.4444444444444444,
              "#bd3786"
             ],
             [
              0.5555555555555556,
              "#d8576b"
             ],
             [
              0.6666666666666666,
              "#ed7953"
             ],
             [
              0.7777777777777778,
              "#fb9f3a"
             ],
             [
              0.8888888888888888,
              "#fdca26"
             ],
             [
              1,
              "#f0f921"
             ]
            ],
            "type": "heatmapgl"
           }
          ],
          "histogram": [
           {
            "marker": {
             "pattern": {
              "fillmode": "overlay",
              "size": 10,
              "solidity": 0.2
             }
            },
            "type": "histogram"
           }
          ],
          "histogram2d": [
           {
            "colorbar": {
             "outlinewidth": 0,
             "ticks": ""
            },
            "colorscale": [
             [
              0,
              "#0d0887"
             ],
             [
              0.1111111111111111,
              "#46039f"
             ],
             [
              0.2222222222222222,
              "#7201a8"
             ],
             [
              0.3333333333333333,
              "#9c179e"
             ],
             [
              0.4444444444444444,
              "#bd3786"
             ],
             [
              0.5555555555555556,
              "#d8576b"
             ],
             [
              0.6666666666666666,
              "#ed7953"
             ],
             [
              0.7777777777777778,
              "#fb9f3a"
             ],
             [
              0.8888888888888888,
              "#fdca26"
             ],
             [
              1,
              "#f0f921"
             ]
            ],
            "type": "histogram2d"
           }
          ],
          "histogram2dcontour": [
           {
            "colorbar": {
             "outlinewidth": 0,
             "ticks": ""
            },
            "colorscale": [
             [
              0,
              "#0d0887"
             ],
             [
              0.1111111111111111,
              "#46039f"
             ],
             [
              0.2222222222222222,
              "#7201a8"
             ],
             [
              0.3333333333333333,
              "#9c179e"
             ],
             [
              0.4444444444444444,
              "#bd3786"
             ],
             [
              0.5555555555555556,
              "#d8576b"
             ],
             [
              0.6666666666666666,
              "#ed7953"
             ],
             [
              0.7777777777777778,
              "#fb9f3a"
             ],
             [
              0.8888888888888888,
              "#fdca26"
             ],
             [
              1,
              "#f0f921"
             ]
            ],
            "type": "histogram2dcontour"
           }
          ],
          "mesh3d": [
           {
            "colorbar": {
             "outlinewidth": 0,
             "ticks": ""
            },
            "type": "mesh3d"
           }
          ],
          "parcoords": [
           {
            "line": {
             "colorbar": {
              "outlinewidth": 0,
              "ticks": ""
             }
            },
            "type": "parcoords"
           }
          ],
          "pie": [
           {
            "automargin": true,
            "type": "pie"
           }
          ],
          "scatter": [
           {
            "fillpattern": {
             "fillmode": "overlay",
             "size": 10,
             "solidity": 0.2
            },
            "type": "scatter"
           }
          ],
          "scatter3d": [
           {
            "line": {
             "colorbar": {
              "outlinewidth": 0,
              "ticks": ""
             }
            },
            "marker": {
             "colorbar": {
              "outlinewidth": 0,
              "ticks": ""
             }
            },
            "type": "scatter3d"
           }
          ],
          "scattercarpet": [
           {
            "marker": {
             "colorbar": {
              "outlinewidth": 0,
              "ticks": ""
             }
            },
            "type": "scattercarpet"
           }
          ],
          "scattergeo": [
           {
            "marker": {
             "colorbar": {
              "outlinewidth": 0,
              "ticks": ""
             }
            },
            "type": "scattergeo"
           }
          ],
          "scattergl": [
           {
            "marker": {
             "colorbar": {
              "outlinewidth": 0,
              "ticks": ""
             }
            },
            "type": "scattergl"
           }
          ],
          "scattermapbox": [
           {
            "marker": {
             "colorbar": {
              "outlinewidth": 0,
              "ticks": ""
             }
            },
            "type": "scattermapbox"
           }
          ],
          "scatterpolar": [
           {
            "marker": {
             "colorbar": {
              "outlinewidth": 0,
              "ticks": ""
             }
            },
            "type": "scatterpolar"
           }
          ],
          "scatterpolargl": [
           {
            "marker": {
             "colorbar": {
              "outlinewidth": 0,
              "ticks": ""
             }
            },
            "type": "scatterpolargl"
           }
          ],
          "scatterternary": [
           {
            "marker": {
             "colorbar": {
              "outlinewidth": 0,
              "ticks": ""
             }
            },
            "type": "scatterternary"
           }
          ],
          "surface": [
           {
            "colorbar": {
             "outlinewidth": 0,
             "ticks": ""
            },
            "colorscale": [
             [
              0,
              "#0d0887"
             ],
             [
              0.1111111111111111,
              "#46039f"
             ],
             [
              0.2222222222222222,
              "#7201a8"
             ],
             [
              0.3333333333333333,
              "#9c179e"
             ],
             [
              0.4444444444444444,
              "#bd3786"
             ],
             [
              0.5555555555555556,
              "#d8576b"
             ],
             [
              0.6666666666666666,
              "#ed7953"
             ],
             [
              0.7777777777777778,
              "#fb9f3a"
             ],
             [
              0.8888888888888888,
              "#fdca26"
             ],
             [
              1,
              "#f0f921"
             ]
            ],
            "type": "surface"
           }
          ],
          "table": [
           {
            "cells": {
             "fill": {
              "color": "#EBF0F8"
             },
             "line": {
              "color": "white"
             }
            },
            "header": {
             "fill": {
              "color": "#C8D4E3"
             },
             "line": {
              "color": "white"
             }
            },
            "type": "table"
           }
          ]
         },
         "layout": {
          "annotationdefaults": {
           "arrowcolor": "#2a3f5f",
           "arrowhead": 0,
           "arrowwidth": 1
          },
          "autotypenumbers": "strict",
          "coloraxis": {
           "colorbar": {
            "outlinewidth": 0,
            "ticks": ""
           }
          },
          "colorscale": {
           "diverging": [
            [
             0,
             "#8e0152"
            ],
            [
             0.1,
             "#c51b7d"
            ],
            [
             0.2,
             "#de77ae"
            ],
            [
             0.3,
             "#f1b6da"
            ],
            [
             0.4,
             "#fde0ef"
            ],
            [
             0.5,
             "#f7f7f7"
            ],
            [
             0.6,
             "#e6f5d0"
            ],
            [
             0.7,
             "#b8e186"
            ],
            [
             0.8,
             "#7fbc41"
            ],
            [
             0.9,
             "#4d9221"
            ],
            [
             1,
             "#276419"
            ]
           ],
           "sequential": [
            [
             0,
             "#0d0887"
            ],
            [
             0.1111111111111111,
             "#46039f"
            ],
            [
             0.2222222222222222,
             "#7201a8"
            ],
            [
             0.3333333333333333,
             "#9c179e"
            ],
            [
             0.4444444444444444,
             "#bd3786"
            ],
            [
             0.5555555555555556,
             "#d8576b"
            ],
            [
             0.6666666666666666,
             "#ed7953"
            ],
            [
             0.7777777777777778,
             "#fb9f3a"
            ],
            [
             0.8888888888888888,
             "#fdca26"
            ],
            [
             1,
             "#f0f921"
            ]
           ],
           "sequentialminus": [
            [
             0,
             "#0d0887"
            ],
            [
             0.1111111111111111,
             "#46039f"
            ],
            [
             0.2222222222222222,
             "#7201a8"
            ],
            [
             0.3333333333333333,
             "#9c179e"
            ],
            [
             0.4444444444444444,
             "#bd3786"
            ],
            [
             0.5555555555555556,
             "#d8576b"
            ],
            [
             0.6666666666666666,
             "#ed7953"
            ],
            [
             0.7777777777777778,
             "#fb9f3a"
            ],
            [
             0.8888888888888888,
             "#fdca26"
            ],
            [
             1,
             "#f0f921"
            ]
           ]
          },
          "colorway": [
           "#636efa",
           "#EF553B",
           "#00cc96",
           "#ab63fa",
           "#FFA15A",
           "#19d3f3",
           "#FF6692",
           "#B6E880",
           "#FF97FF",
           "#FECB52"
          ],
          "font": {
           "color": "#2a3f5f"
          },
          "geo": {
           "bgcolor": "white",
           "lakecolor": "white",
           "landcolor": "#E5ECF6",
           "showlakes": true,
           "showland": true,
           "subunitcolor": "white"
          },
          "hoverlabel": {
           "align": "left"
          },
          "hovermode": "closest",
          "mapbox": {
           "style": "light"
          },
          "paper_bgcolor": "white",
          "plot_bgcolor": "#E5ECF6",
          "polar": {
           "angularaxis": {
            "gridcolor": "white",
            "linecolor": "white",
            "ticks": ""
           },
           "bgcolor": "#E5ECF6",
           "radialaxis": {
            "gridcolor": "white",
            "linecolor": "white",
            "ticks": ""
           }
          },
          "scene": {
           "xaxis": {
            "backgroundcolor": "#E5ECF6",
            "gridcolor": "white",
            "gridwidth": 2,
            "linecolor": "white",
            "showbackground": true,
            "ticks": "",
            "zerolinecolor": "white"
           },
           "yaxis": {
            "backgroundcolor": "#E5ECF6",
            "gridcolor": "white",
            "gridwidth": 2,
            "linecolor": "white",
            "showbackground": true,
            "ticks": "",
            "zerolinecolor": "white"
           },
           "zaxis": {
            "backgroundcolor": "#E5ECF6",
            "gridcolor": "white",
            "gridwidth": 2,
            "linecolor": "white",
            "showbackground": true,
            "ticks": "",
            "zerolinecolor": "white"
           }
          },
          "shapedefaults": {
           "line": {
            "color": "#2a3f5f"
           }
          },
          "ternary": {
           "aaxis": {
            "gridcolor": "white",
            "linecolor": "white",
            "ticks": ""
           },
           "baxis": {
            "gridcolor": "white",
            "linecolor": "white",
            "ticks": ""
           },
           "bgcolor": "#E5ECF6",
           "caxis": {
            "gridcolor": "white",
            "linecolor": "white",
            "ticks": ""
           }
          },
          "title": {
           "x": 0.05
          },
          "xaxis": {
           "automargin": true,
           "gridcolor": "white",
           "linecolor": "white",
           "ticks": "",
           "title": {
            "standoff": 15
           },
           "zerolinecolor": "white",
           "zerolinewidth": 2
          },
          "yaxis": {
           "automargin": true,
           "gridcolor": "white",
           "linecolor": "white",
           "ticks": "",
           "title": {
            "standoff": 15
           },
           "zerolinecolor": "white",
           "zerolinewidth": 2
          }
         }
        },
        "xaxis": {
         "showgrid": false,
         "title": {
          "text": "Threshhold"
         }
        },
        "yaxis": {
         "categoryorder": "category descending",
         "showgrid": false,
         "showline": false,
         "ticksuffix": " ",
         "title": {
          "text": "Lossrate Percentage"
         }
        }
       }
      }
     },
     "metadata": {},
     "output_type": "display_data"
    }
   ],
   "source": [
    "display(df_subject2.loc[df_subject2.rotation == \"l\"])\n",
    "\n",
    "\n",
    "\n",
    "fig_duration = go.Figure()\n",
    "fig_duration.add_trace(go.Scatter(mode=\"markers\",x=df_subject2.index, y=df_subject2.rotation, showlegend=True, text=np.round(df_lossrates.lossrate_left,decimals = 0), name='Lossrate Left', marker_color= marking_red))\n",
    "fig_duration.update_xaxes(showgrid=False)\n",
    "fig_duration.update_yaxes(showgrid=False, categoryorder=\"category descending\",\n",
    "                 ticksuffix=' ', showline=False)\n",
    "fig_duration.update_traces(hovertemplate=None)\n",
    "fig_duration.update_layout(\n",
    "#    title='Mean of Duration & Standingtimes per Situation (Seconds)(Field)',\n",
    "    margin=dict(t=80, b=0, l=70, r=40),\n",
    "    hovermode=\"y unified\", \n",
    "    xaxis_title='Threshhold', yaxis_title=\"Lossrate Percentage\",\n",
    "    font=dict(family=\"Lato, sans-serif\",size=14),\n",
    "    legend=dict(orientation=\"h\", yanchor=\"bottom\",y=1, xanchor=\"center\", x=0.5),\n",
    "    hoverlabel=dict(font_size=13, font_family=\"Lato, sans-serif\")\n",
    "    #paper_bgcolor='rgba(0,0,0,0)',\n",
    "    #plot_bgcolor='rgba(0,0,0,0)'\n",
    "    )"
   ]
  }
 ],
 "metadata": {
  "kernelspec": {
   "display_name": "Python 3",
   "language": "python",
   "name": "python3"
  },
  "language_info": {
   "codemirror_mode": {
    "name": "ipython",
    "version": 3
   },
   "file_extension": ".py",
   "mimetype": "text/x-python",
   "name": "python",
   "nbconvert_exporter": "python",
   "pygments_lexer": "ipython3",
   "version": "3.11.1"
  },
  "orig_nbformat": 4,
  "vscode": {
   "interpreter": {
    "hash": "aee8b7b246df8f9039afb4144a1f6fd8d2ca17a180786b69acc140d282b71a49"
   }
  }
 },
 "nbformat": 4,
 "nbformat_minor": 2
}
