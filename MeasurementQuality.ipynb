{
 "cells": [
  {
   "cell_type": "code",
   "execution_count": 1,
   "metadata": {},
   "outputs": [],
   "source": [
    "import pandas as pd\n",
    "import numpy as np\n",
    "import plotly.express as px\n",
    "import plotly.graph_objects as go\n",
    "from jupyter_dash import JupyterDash\n",
    "from dash import dcc\n",
    "from dash import html\n",
    "from dash.dependencies import Input, Output\n",
    "import dash.dependencies\n",
    "import plotly.io as pio\n",
    "import math\n",
    "import pysrt\n",
    "from plotly.subplots import make_subplots\n",
    "from plotly.graph_objs import *\n",
    "from scipy.stats import spearmanr\n",
    "import json"
   ]
  },
  {
   "attachments": {},
   "cell_type": "markdown",
   "metadata": {},
   "source": [
    "## Functions"
   ]
  },
  {
   "cell_type": "code",
   "execution_count": 2,
   "metadata": {},
   "outputs": [],
   "source": [
    "def include_euler_angles(df):\n",
    "    # Rotation Matrix Phone and Airpods\n",
    "    mRotPhone = []\n",
    "    mRotAir = []\n",
    "    for index, row in df.iterrows():\n",
    "        rotPhone_first = row[[\"phoneMotionData.rotationMatrix.m1.1\",\"phoneMotionData.rotationMatrix.m1.2\",\"phoneMotionData.rotationMatrix.m1.3\",]]\n",
    "        rotPhone_second = row[[\"phoneMotionData.rotationMatrix.m2.1\",\"phoneMotionData.rotationMatrix.m2.2\",\"phoneMotionData.rotationMatrix.m2.3\"]]\n",
    "        rotPhone_third =  row[[\"phoneMotionData.rotationMatrix.m3.1\",\"phoneMotionData.rotationMatrix.m3.2\",\"phoneMotionData.rotationMatrix.m3.3\"]]\n",
    "        rotPhone_nump = np.array([rotPhone_first.to_numpy(),rotPhone_second.to_numpy(),rotPhone_third.to_numpy()])\n",
    "        mRotPhone.append(rotPhone_nump)\n",
    "\n",
    "        rotAir_first = row[[\"airpodMotionData.rotationMatrix.m1.1\",\"airpodMotionData.rotationMatrix.m1.2\",\"airpodMotionData.rotationMatrix.m1.3\",]]\n",
    "        rotAir_second = row[[\"airpodMotionData.rotationMatrix.m2.1\",\"airpodMotionData.rotationMatrix.m2.2\",\"airpodMotionData.rotationMatrix.m2.3\"]]\n",
    "        rotAir_third =  row[[\"airpodMotionData.rotationMatrix.m3.1\",\"airpodMotionData.rotationMatrix.m3.2\",\"airpodMotionData.rotationMatrix.m3.3\"]]\n",
    "        rotAir_nump = np.array([rotAir_first.to_numpy(),rotAir_second.to_numpy(),rotAir_third.to_numpy()])\n",
    "        mRotAir.append(rotAir_nump)\n",
    "\n",
    "    # Relative Rotations\n",
    "    mRotRelatives = []\n",
    "    for index, rotPhone in enumerate(mRotPhone):\n",
    "        mRotRelatives.append(rotPhone.dot(mRotAir[index].transpose()))\n",
    "\n",
    "    # Yaw Values\n",
    "    relativeYaws = []\n",
    "    relativeRoll = []\n",
    "    relativePitch = []\n",
    "    for index, rotRelative in enumerate(mRotRelatives):\n",
    "        relativeYaws.append(math.atan2(rotRelative[0,1],rotRelative[0,0])) #Indexes shifted because starting at 0\n",
    "        relativeRoll.append(math.atan2(rotRelative[1,2],rotRelative[2,2])) #Indexes shifted because starting at 0\n",
    "        relativePitch.append(- math.asin(rotRelative[0,2]))                #Indexes shifted because starting at 0\n",
    "\n",
    "    #Convert Radians to Degree\n",
    "    realtiveYawsDegree = np.degrees(relativeYaws)\n",
    "    relativeRollDegree = np.degrees(relativeRoll)\n",
    "    relativePitchDegree = np.degrees(relativePitch)\n",
    "    \n",
    "    #import into frame\n",
    "    df[\"relativeYaw\"] = realtiveYawsDegree.tolist()\n",
    "    df[\"relativeRoll\"] = relativeRollDegree.tolist()\n",
    "    df[\"relativePitch\"] = relativePitchDegree.tolist()\n",
    "\n",
    "def read_data(url):\n",
    "    with open(url,'r') as f:\n",
    "        data = json.loads(f.read())\n",
    "    \n",
    "    #get infos and delete theme from json\n",
    "    #infos = data.pop(\"infos\")\n",
    "    #df[\"motionTimestampDiff\"] = df.apply(lambda x: x[\"airpodMotionData.timestamp\"] - x[\"phoneMotionData.timestamp\"],axis=1)\n",
    "\n",
    "    # normalize json to readable frame\n",
    "    df = pd.json_normalize(data,record_path=[\"timestamps\"])\n",
    "\n",
    "    # convert objects to floats\n",
    "    df = df.apply(pd.to_numeric, errors='coerce')\n",
    "\n",
    "    #set timestamp as index\n",
    "    df.set_index('timestamp',inplace=True)\n",
    "        \n",
    "    #Velocity m/s to km/h\n",
    "    if 'locationData.velocity' in df.columns:\n",
    "        df[\"locationData.velocity\"] = df[\"locationData.velocity\"].apply(lambda x: x * 3.6)\n",
    "    #calculate Headrotation\n",
    "    df[\"headRotY\"] = df.apply(lambda x: x[\"airpodMotionData.yaw\"] - x[\"phoneMotionData.yaw\"],axis=1)\n",
    "    df[\"headRotY\"] = np.degrees(df[\"headRotY\"]).tolist()\n",
    "    df[\"airpodsYawDegrees\"] = np.degrees(df[\"airpodMotionData.yaw\"]).tolist()\n",
    "    df[\"phoneYawDegrees\"] = np.degrees(df[\"phoneMotionData.yaw\"]).tolist()\n",
    "    \n",
    "    df[\"airpodsRollDegrees\"] = np.degrees(df[\"airpodMotionData.roll\"]).tolist()\n",
    "    df[\"phoneRollDegrees\"] = np.degrees(df[\"phoneMotionData.roll\"]).tolist()\n",
    "    \n",
    "    df[\"airpodsPitchDegrees\"] = np.degrees(df[\"airpodMotionData.pitch\"]).tolist()\n",
    "    df[\"phonePitchDegrees\"] = np.degrees(df[\"phoneMotionData.pitch\"]).tolist()\n",
    "    \n",
    "    include_euler_angles(df)\n",
    "    addMeanRotations(df)\n",
    "    addRotations(df)\n",
    "    \n",
    "    return df\n",
    "def read_srt(url):\n",
    "    subs = pysrt.open(url)\n",
    "    return subs\n",
    "def add_conditions(subject,fig,propertyName): #To-Do use times instead of iterating srts again\n",
    "    subs = srts[subject]\n",
    "    shapes = []\n",
    "    for sub in subs:\n",
    "        # If Log was writte before video, add the delay to the times to get correct times\n",
    "        if srt_delays[subject] < 0:\n",
    "            start = sub.start.minutes * 60 + sub.start.seconds + abs(srt_delays[subject])\n",
    "            end = sub.end.minutes * 60 + sub.end.seconds + abs(srt_delays[subject])\n",
    "        else:\n",
    "            start = sub.start.minutes * 60 + sub.start.seconds - abs(srt_delays[subject])\n",
    "            end = sub.end.minutes * 60 + sub.end.seconds - abs(srt_delays[subject])\n",
    "        #display(\"Condition lasted from {} to {}\".format(start,end))#\n",
    "        color = \"#FFFFFF\"\n",
    "        if \"Condition Start\" in sub.text:\n",
    "            color = COLOR_SIT_X_HEX\n",
    "        elif \"Condition X\" in sub.text:\n",
    "            color = COLOR_SIT_X_HEX\n",
    "        elif \"Condition A\" in sub.text:\n",
    "            color = COLOR_SIT_A_HEX\n",
    "        elif \"Condition B\" in sub.text:\n",
    "            color = COLOR_SIT_B_HEX\n",
    "        elif \"Condition C\" in sub.text:\n",
    "            color = COLOR_SIT_C_HEX\n",
    "        elif \"Condition D\" in sub.text:\n",
    "            color = COLOR_SIT_D_HEX\n",
    "        elif \"Condition E\" in sub.text:\n",
    "            color = COLOR_SIT_E_HEX\n",
    "        else:\n",
    "            color = COLOR_SIT_X_HEX\n",
    "        shapes.append({\n",
    "            'type': 'rect',\n",
    "#            xref: 'x',\n",
    "#            yref: 'paper',\n",
    "            'x0': start,\n",
    "            'y0': subjects[subject][propertyName].min(),\n",
    "            'x1': end,\n",
    "            'y1': subjects[subject][propertyName].max(),\n",
    "            'fillcolor': color,\n",
    "            'opacity': 0.5,\n",
    "            'line': {\n",
    "                'width': 0\n",
    "            }\n",
    "        })\n",
    "    fig.update_layout(shapes = shapes)\n",
    "def getTimes(subject):\n",
    "    subs = srts[subject]\n",
    "    situations = []\n",
    "    iterations = [0,0,0,0,0]\n",
    "    for sub in subs:\n",
    "        # If Log was writte before video, add the delay to the times to get correct times\n",
    "        if srt_delays[subject] < 0:\n",
    "            start = sub.start.minutes * 60 + sub.start.seconds + abs(srt_delays[subject])\n",
    "            end = sub.end.minutes * 60 + sub.end.seconds + abs(srt_delays[subject])\n",
    "        else:\n",
    "            start = sub.start.minutes * 60 + sub.start.seconds - abs(srt_delays[subject])\n",
    "            end = sub.end.minutes * 60 + sub.end.seconds - abs(srt_delays[subject])\n",
    "        #if \"Condition Start\" in sub.text:\n",
    "        #elif \"Condition X\" in sub.text:\n",
    "        #elif \"Condition D\" in sub.text:\n",
    "        condition = \"x\"\n",
    "        iteration = 0\n",
    "        if \"Condition A\" in sub.text:\n",
    "            iterations[0] += 1\n",
    "            iteration = iterations[0]\n",
    "            condition = \"a\"\n",
    "        elif \"Condition B\" in sub.text:\n",
    "            iterations[1] += 1\n",
    "            iteration = iterations[1]\n",
    "            condition = \"b\"\n",
    "        elif \"Condition C\" in sub.text:\n",
    "            iterations[2] += 1\n",
    "            iteration = iterations[2]\n",
    "            condition = \"c\"\n",
    "        elif \"Condition E\" in sub.text:\n",
    "            iterations[4] += 1\n",
    "            iteration = iterations[4]\n",
    "            condition = \"e\"\n",
    "        else:\n",
    "            continue\n",
    "        subjects[subject].loc[((subjects[subject].index >= start) & (subjects[subject].index <= end)),\"situation\"] = condition\n",
    "        result = subjects[subject].loc[((subjects[subject].index >= start) & (subjects[subject].index <= end))]\n",
    "        situations.append((condition,iteration,result.index[0],result.index[-1]))\n",
    "    return np.array(situations,dtype = ([('situation', 'U10'),('iteration', 'i4'), ('start_index', 'f4'),('end_index', 'f4')]))\n",
    "def extractSrtGazes(subject):\n",
    "    subs = gaze_srts[subject]\n",
    "    gaze_count = [0,0]\n",
    "    for sub in subs:\n",
    "        # If Log was writte before video, add the delay to the times to get correct times\n",
    "        if srt_delays[subject] < 0:\n",
    "            start = sub.start.minutes * 60 + sub.start.seconds + abs(srt_delays[subject])\n",
    "            end = sub.end.minutes * 60 + sub.end.seconds + abs(srt_delays[subject])\n",
    "        else:\n",
    "            start = sub.start.minutes * 60 + sub.start.seconds - abs(srt_delays[subject])\n",
    "            end = sub.end.minutes * 60 + sub.end.seconds - abs(srt_delays[subject])\n",
    "        if \"Gaze Right\" in sub.text:\n",
    "            gaze_count[1] += 1\n",
    "        elif \"Gaze Left\" in sub.text:\n",
    "            gaze_count[0] += 1\n",
    "        else:\n",
    "            continue\n",
    "        #subjects[subject].loc[((subjects[subject].index >= start) & (subjects[subject].index <= end)),\"situation\"] = condition\n",
    "        #result = subjects[subject].loc[((subjects[subject].index >= start) & (subjects[subject].index <= end))]\n",
    "    return gaze_count\n",
    "def get_meanDuration(times,situation):\n",
    "    durations = []\n",
    "    for iteration in times[times[\"situation\"] == situation]:\n",
    "        durations.append(iteration[\"end_index\"] - iteration[\"start_index\"])\n",
    "    return np.mean(durations)\n",
    "def get_sdDuration(times,situation):\n",
    "    durations = []\n",
    "    for iteration in times[times[\"situation\"] == situation]:\n",
    "        durations.append(iteration[\"end_index\"] - iteration[\"start_index\"])\n",
    "    return np.std(durations)\n",
    "def splitDf(listElement,df,chunksize):\n",
    "    df_1 = df.iloc[:chunksize,:]\n",
    "    df_2 = df.iloc[chunksize:,:]\n",
    "    listElement.append(df_1)\n",
    "    return df_2\n",
    "\n",
    "# Splits the df into chunks (size defined globally) and adds \"mean_rotation\" for the chunk,wich is the mean of the \"relativeYaw\"\n",
    "def addMeanRotations(df):\n",
    "    splittableDf = df\n",
    "    chunks = []\n",
    "\n",
    "    while len(splittableDf) > 0:\n",
    "        splittableDf = splitDf(chunks,splittableDf,60)\n",
    "\n",
    "    for chunk_df in chunks:\n",
    "        df.loc[chunk_df.iloc[0].name:chunk_df.iloc[-1].name,\"mean_rotation\"] = np.mean(chunk_df[\"relativeYaw\"])\n",
    "\n",
    "# adds two rows to the dataframe. rotations which indicates the rotation for each row, group_index which indicates to which look count the row is sorted (1 group = 1 look)\n",
    "def addRotations(df):\n",
    "\n",
    "    df[\"rotation\"] = \"x\"\n",
    "    #Every value which is above the mean_rotation + threshhold is a right headrotation, below its a left headrotation.\n",
    "    df.loc[(df[\"relativeYaw\"] - df[\"mean_rotation\"] > rotation_threshhold),\"rotation\"] = \"r\"\n",
    "    df.loc[(df[\"relativeYaw\"] - df[\"mean_rotation\"] < - rotation_threshhold),\"rotation\"] = \"l\"\n",
    "    df['group_index'] = (df['rotation'] != df['rotation'].shift()).cumsum()\n",
    "    \n",
    "#Returns the rotations for each situation for given subject\n",
    "def getRotations(subject,times):\n",
    "    rotations = {\n",
    "        \"a\" : [],\n",
    "        \"b\" : [],\n",
    "        \"c\" : [],\n",
    "        \"d\" : [],\n",
    "        \"e\" : []\n",
    "    }    \n",
    "    # For Each situaiton\n",
    "    for key,values in rotations.items():\n",
    "        # For each iteration of situation\n",
    "        for split_sit in times[times[\"situation\"] == key]:\n",
    "            # group by rotation\n",
    "            rot_groups = subjects[subject][split_sit[\"start_index\"]:split_sit[\"end_index\"]].groupby(['rotation'])[\"group_index\"]\n",
    "            # get unqiue groups to count amount\n",
    "            rots = subjects[subject][split_sit[\"start_index\"]:split_sit[\"end_index\"]].groupby(['rotation'])[\"group_index\"].nunique()\n",
    "            values.append((rots.get(\"l\" , 0),rots.get(\"r\" , 0)))\n",
    "    return rotations\n",
    "\n",
    "def getRotationCount(df):\n",
    "    # group by rotation\n",
    "    rot_groups = df.groupby(['rotation'])[\"group_index\"]\n",
    "    # get unqiue groups to count amount\n",
    "    rots = rot_groups.nunique()\n",
    "    display(rots)\n",
    "    return [rots.get(\"l\" , 0),rots.get(\"r\" , 0)]\n",
    "def getAngles(subject,times):\n",
    "    situation_angles = []\n",
    "    # For every Situation...\n",
    "    for key in [\"a\",\"b\",\"c\",\"d\",\"e\"]:\n",
    "        #for every iteration of this situation\n",
    "        for index,split_sit in enumerate(times[times[\"situation\"] == key]):\n",
    "            #group by rotations\n",
    "            rot_groups = subjects[subject][split_sit[\"start_index\"]:split_sit[\"end_index\"]][[\"mean_rotation\",\"rotation\",\"relativeYaw\",\"group_index\"]]#.groupby(['rotation'])[\"group_index\"]\n",
    "            rot_groups.groupby(['rotation'])\n",
    "\n",
    "            # for every found headrotation in iteration\n",
    "            for group in rot_groups[\"group_index\"].unique():\n",
    "                df_group = rot_groups.loc[rot_groups[\"group_index\"] == group]\n",
    "                # left rotation\n",
    "                if 'l' in df_group[\"rotation\"].unique():\n",
    "                    #get index of lowest angle in group\n",
    "                    minIndex = df_group[\"relativeYaw\"].idxmin()\n",
    "                    #if (df_group.loc[minIndex][\"relativeYaw\"] - df_group.loc[minIndex][\"mean_rotation\"]) < -180:\n",
    "                        #display(\"Found huge angle from {} with mean {}\".format(df_group.loc[minIndex][\"relativeYaw\"],df_group.loc[minIndex][\"mean_rotation\"]))\n",
    "                        #continue\n",
    "                    situation_angles.append((key,index,\"left\",df_group.loc[minIndex][\"relativeYaw\"] - df_group.loc[minIndex][\"mean_rotation\"]))\n",
    "                #right rotation\n",
    "                elif 'r' in df_group[\"rotation\"].unique():\n",
    "                    #get index of highest angle in group\n",
    "                    maxIndex = df_group[\"relativeYaw\"].idxmax()\n",
    "                    #calculate angle in relation to mean rotation\n",
    "                    #if (df_group.loc[maxIndex][\"relativeYaw\"] - df_group.loc[maxIndex][\"mean_rotation\"]) > 180:\n",
    "                        #display(\"Found huge angle from {} with mean {}\".format(df_group.loc[maxIndex][\"relativeYaw\"],df_group.loc[maxIndex][\"mean_rotation\"]))\n",
    "                        #continue\n",
    "                    situation_angles.append((key,index,\"right\",df_group.loc[maxIndex][\"relativeYaw\"] - df_group.loc[maxIndex][\"mean_rotation\"]))\n",
    "    return np.array(situation_angles,dtype = ([('situation', 'U10'),('iteration', 'i4'),('direction', 'U10'), ('angle', 'f4')]))\n",
    "\n",
    "def getStandtimes(subject,times):\n",
    "    situation_stands = []\n",
    "    for situation in [\"a\",\"b\",\"c\",\"e\"]:\n",
    "        #for every iteration of this situation\n",
    "        for index,split_sit in enumerate(times[times[\"situation\"] == situation]):\n",
    "            df_timeslice = subjects[subject].loc[split_sit[\"start_index\"]:split_sit[\"end_index\"]][\"locationData.velocity\"]\n",
    "            group_index = (df_timeslice != df_timeslice.shift()).cumsum()\n",
    "            # for every found headrotation\n",
    "            standedInIteration = False\n",
    "            for stand_sit_group in group_index.unique():\n",
    "                df_sit = group_index.loc[group_index == stand_sit_group]\n",
    "                if df_timeslice[df_sit.index[0]] == 0.0:\n",
    "                    situation_stands.append((situation,index,df_sit.index[-1] - df_sit.index[0]))\n",
    "                    standedInIteration = True\n",
    "            if not standedInIteration:\n",
    "                # This iteration no one stand. Adding 0 to account for in mean calculations\n",
    "                situation_stands.append((situation,index,0.00))\n",
    "    return np.array(situation_stands,dtype = ([('situation', 'U10'),('iteration', 'i4'), ('seconds', 'f4')]))\n",
    "# builds sum over all iterations of one situation, returns mean of this sum\n",
    "def getMeanOfStandSituation(times,situation):\n",
    "    sit_times = times[times[\"situation\"] == situation]\n",
    "    sit_sums = []\n",
    "    for iteration in np.unique(sit_times[\"iteration\"]):\n",
    "        sit_sums.append(np.sum(sit_times[sit_times[\"iteration\"] == iteration][\"seconds\"]))\n",
    "    return np.mean(sit_sums)\n",
    "def getSdOfStandSituation(times,situation):\n",
    "    sit_times = times[times[\"situation\"] == situation]\n",
    "    sit_sums = []\n",
    "    for iteration in np.unique(sit_times[\"iteration\"]):\n",
    "        sit_sums.append(np.sum(sit_times[sit_times[\"iteration\"] == iteration][\"seconds\"]))\n",
    "    return np.std(sit_sums)"
   ]
  },
  {
   "attachments": {},
   "cell_type": "markdown",
   "metadata": {},
   "source": [
    "## Plots"
   ]
  },
  {
   "cell_type": "code",
   "execution_count": 3,
   "metadata": {},
   "outputs": [],
   "source": [
    "# Headrotation interpretation Settings\n",
    "# ChunkSize defines how the mean value is build to handle the drift in rotation data. \n",
    "# 120 would build the mean over 120 log entries which results in chunks of 60 seconds\n",
    "chunkSize = 120\n",
    "# Rotation threshhold defines which degree has to be reached to count as rotation. \n",
    "# Every rotation which overcomes this value will be counted as headrotation\n",
    "rotation_threshhold = 20.0\n",
    "\n",
    "#Subjects\n",
    "df_subject1 = read_data(\"./logs/participants/2022-10-17 124155-logfile-subject-1.json\")\n",
    "df_subject2 = read_data(\"./logs/participants/2022-10-20 111557-logfile-subject-2.json\")\n",
    "df_subject3 = read_data(\"./logs/participants/2022-11-04 113121-logfile-subject-3.1.json\")\n",
    "df_subject4 = read_data(\"./logs/participants/2022-10-25 142229-logfile-subject-4.json\")\n",
    "df_subject5 = read_data(\"./logs/participants/2022-10-27 165339-logfile-subject-5.json\")\n",
    "df_subject6 = read_data(\"./logs/participants/2022-10-28 101829-logfile-subject-6.json\")\n",
    "df_subject7 = read_data(\"./logs/participants/2022-10-28 154837-logfile-subject-7.json\")\n",
    "df_subject8 = read_data(\"./logs/participants/2022-11-04 122345-logfile-subject-8.json\")\n",
    "\n",
    "\n",
    "# TO-DO: Streamline into one dictionary\n",
    "subjects = {\n",
    "    \"Subject 1\" : df_subject1,\n",
    "    \"Subject 2\" : df_subject2,\n",
    "    \"Subject 3\" : df_subject3,\n",
    "    \"Subject 4\" : df_subject4,\n",
    "    \"Subject 5\" : df_subject5,\n",
    "    \"Subject 6\" : df_subject6,\n",
    "    \"Subject 7\" : df_subject7,\n",
    "    \"Subject 8\" : df_subject8\n",
    "}\n",
    "# Adding rotations where mean_rotation + threshhold as a identifier field to the dataframes\n",
    "for df in subjects.values():\n",
    "    addRotations(df)\n",
    "\n",
    "\n",
    "rotation_threshhold = 25.0\n",
    "\n",
    "#Subjects\n",
    "df_subject1_25 = read_data(\"./logs/participants/2022-10-17 124155-logfile-subject-1.json\")\n",
    "df_subject2_25 = read_data(\"./logs/participants/2022-10-20 111557-logfile-subject-2.json\")\n",
    "df_subject3_25 = read_data(\"./logs/participants/2022-11-04 113121-logfile-subject-3.1.json\")\n",
    "df_subject4_25 = read_data(\"./logs/participants/2022-10-25 142229-logfile-subject-4.json\")\n",
    "df_subject5_25 = read_data(\"./logs/participants/2022-10-27 165339-logfile-subject-5.json\")\n",
    "df_subject6_25 = read_data(\"./logs/participants/2022-10-28 101829-logfile-subject-6.json\")\n",
    "df_subject7_25 = read_data(\"./logs/participants/2022-10-28 154837-logfile-subject-7.json\")\n",
    "df_subject8_25 = read_data(\"./logs/participants/2022-11-04 122345-logfile-subject-8.json\")\n",
    "\n",
    "subjects_25 = {\n",
    "    \"Subject 1\" : df_subject1_25,\n",
    "    \"Subject 2\" : df_subject2_25,\n",
    "    \"Subject 3\" : df_subject3_25,\n",
    "    \"Subject 4\" : df_subject4_25,\n",
    "    \"Subject 5\" : df_subject5_25,\n",
    "    \"Subject 6\" : df_subject6_25,\n",
    "    \"Subject 7\" : df_subject7_25,\n",
    "    \"Subject 8\" : df_subject8_25\n",
    "}\n",
    "for df in subjects_25.values():\n",
    "    addRotations(df)\n",
    "\n",
    "\n",
    "rotation_threshhold = 30.0\n",
    "\n",
    "#Subjects\n",
    "df_subject1_30 = read_data(\"./logs/participants/2022-10-17 124155-logfile-subject-1.json\")\n",
    "df_subject2_30 = read_data(\"./logs/participants/2022-10-20 111557-logfile-subject-2.json\")\n",
    "df_subject3_30 = read_data(\"./logs/participants/2022-11-04 113121-logfile-subject-3.1.json\")\n",
    "df_subject4_30 = read_data(\"./logs/participants/2022-10-25 142229-logfile-subject-4.json\")\n",
    "df_subject5_30 = read_data(\"./logs/participants/2022-10-27 165339-logfile-subject-5.json\")\n",
    "df_subject6_30 = read_data(\"./logs/participants/2022-10-28 101829-logfile-subject-6.json\")\n",
    "df_subject7_30 = read_data(\"./logs/participants/2022-10-28 154837-logfile-subject-7.json\")\n",
    "df_subject8_30 = read_data(\"./logs/participants/2022-11-04 122345-logfile-subject-8.json\")\n",
    "\n",
    "subjects_30 = {\n",
    "    \"Subject 1\" : df_subject1_30,\n",
    "    \"Subject 2\" : df_subject2_30,\n",
    "    \"Subject 3\" : df_subject3_30,\n",
    "    \"Subject 4\" : df_subject4_30,\n",
    "    \"Subject 5\" : df_subject5_30,\n",
    "    \"Subject 6\" : df_subject6_30,\n",
    "    \"Subject 7\" : df_subject7_30,\n",
    "    \"Subject 8\" : df_subject8_30\n",
    "}\n",
    "for df in subjects_30.values():\n",
    "    addRotations(df)\n",
    "    \n",
    "#SRTs\n",
    "srt_subject1 = read_srt(\"./logs/participants/srts/subs_participant_1.srt\")\n",
    "srt_subject2 = read_srt(\"./logs/participants/srts/subs_participant_2.srt\")\n",
    "srt_subject3 = read_srt(\"./logs/participants/srts/subs_participant_3.srt\")\n",
    "srt_subject4 = read_srt(\"./logs/participants/srts/subs_participant_4.srt\")\n",
    "srt_subject5 = read_srt(\"./logs/participants/srts/subs_participant_5.srt\")\n",
    "srt_subject6 = read_srt(\"./logs/participants/srts/subs_participant_6.srt\")\n",
    "srt_subject7 = read_srt(\"./logs/participants/srts/subs_participant_7.srt\")\n",
    "srt_subject8 = read_srt(\"./logs/participants/srts/subs_participant_8.srt\")\n",
    "\n",
    "#Gazes\n",
    "gaze_srt_subject1 = read_srt(\"./logs/participants/srts/gazes/gazes_p1.srt\")\n",
    "gaze_srt_subject2 = read_srt(\"./logs/participants/srts/gazes/gazes_p2.srt\")\n",
    "gaze_srt_subject3 = read_srt(\"./logs/participants/srts/gazes/gazes_p3.srt\")\n",
    "gaze_srt_subject4 = read_srt(\"./logs/participants/srts/gazes/gazes_p4.srt\")\n",
    "gaze_srt_subject5 = read_srt(\"./logs/participants/srts/gazes/gazes_p5.srt\")\n",
    "gaze_srt_subject6 = read_srt(\"./logs/participants/srts/gazes/gazes_p6.srt\")\n",
    "gaze_srt_subject7 = read_srt(\"./logs/participants/srts/gazes/gazes_p7.srt\")\n",
    "gaze_srt_subject8 = read_srt(\"./logs/participants/srts/gazes/gazes_p8.srt\")"
   ]
  },
  {
   "cell_type": "code",
   "execution_count": 9,
   "metadata": {},
   "outputs": [],
   "source": [
    "\n",
    "\n",
    "srts = {\n",
    "    \"Subject 1\" : srt_subject1,\n",
    "    \"Subject 2\" : srt_subject2,\n",
    "    \"Subject 3\" : srt_subject3,\n",
    "    \"Subject 4\" : srt_subject4,\n",
    "    \"Subject 5\" : srt_subject5,\n",
    "    \"Subject 6\" : srt_subject6,\n",
    "    \"Subject 7\" : srt_subject7,\n",
    "    \"Subject 8\" : srt_subject8\n",
    "}\n",
    "gaze_srts = {\n",
    "    \"Subject 1\" : gaze_srt_subject1,\n",
    "    \"Subject 2\" : gaze_srt_subject2,\n",
    "    \"Subject 3\" : gaze_srt_subject3,\n",
    "    \"Subject 4\" : gaze_srt_subject4,\n",
    "    \"Subject 5\" : gaze_srt_subject5,\n",
    "    \"Subject 6\" : gaze_srt_subject6,\n",
    "    \"Subject 7\" : gaze_srt_subject7,\n",
    "    \"Subject 8\" : gaze_srt_subject8\n",
    "}\n",
    "# If negative, the app was running before the camera. Little inconsistency in the study design \n",
    "srt_delays = {\n",
    "    \"Subject 1\" : - 8.0,\n",
    "    \"Subject 2\" : - 29.0,\n",
    "    \"Subject 3\" : 12.0 ,\n",
    "    \"Subject 4\" : -10.0,\n",
    "    \"Subject 5\" : 9.0,\n",
    "    \"Subject 6\" : -32.0,\n",
    "    \"Subject 7\" : 490.0,\n",
    "    \"Subject 8\" : 14.0\n",
    "}\n",
    "#[difficulty,safety]\n",
    "subjects_perceived = {\n",
    "    \"Subject 1\" : [[5,1,3,1,1],[3,4,4,5,5]],\n",
    "    \"Subject 2\" : [[2,1,1,1,1],[5,5,4,5,5]],\n",
    "    \"Subject 3\" : [[1,1,4,3,2],[4,5,2,4,4]],\n",
    "    \"Subject 4\" : [[2,3,3,3,3],[4,4,3,4,3]],\n",
    "    \"Subject 5\" : [[1,4,3,1,2],[4,2,3,4,3]],\n",
    "    \"Subject 6\" : [[1,1,2,3,2],[4,5,3,4,4]],\n",
    "    \"Subject 7\" : [[2,1,3,1,1],[5,5,5,5,5]],\n",
    "    \"Subject 8\" : [[1,3,2,4,1],[5,4,5,2,5]]\n",
    "}\n",
    "# Labels for the plots\n",
    "available_data_labels = list(subjects.keys())"
   ]
  },
  {
   "cell_type": "code",
   "execution_count": 10,
   "metadata": {},
   "outputs": [
    {
     "data": {
      "text/plain": [
       "rotation\n",
       "l    145\n",
       "r    130\n",
       "x    201\n",
       "Name: group_index, dtype: int64"
      ]
     },
     "metadata": {},
     "output_type": "display_data"
    },
    {
     "data": {
      "text/plain": [
       "rotation\n",
       "l     83\n",
       "r     61\n",
       "x    133\n",
       "Name: group_index, dtype: int64"
      ]
     },
     "metadata": {},
     "output_type": "display_data"
    },
    {
     "data": {
      "text/plain": [
       "rotation\n",
       "l    55\n",
       "r    29\n",
       "x    75\n",
       "Name: group_index, dtype: int64"
      ]
     },
     "metadata": {},
     "output_type": "display_data"
    },
    {
     "data": {
      "text/plain": [
       "rotation\n",
       "l    131\n",
       "r     87\n",
       "x    188\n",
       "Name: group_index, dtype: int64"
      ]
     },
     "metadata": {},
     "output_type": "display_data"
    },
    {
     "data": {
      "text/plain": [
       "rotation\n",
       "l    113\n",
       "r     91\n",
       "x    171\n",
       "Name: group_index, dtype: int64"
      ]
     },
     "metadata": {},
     "output_type": "display_data"
    },
    {
     "data": {
      "text/plain": [
       "rotation\n",
       "l    71\n",
       "r    60\n",
       "x    99\n",
       "Name: group_index, dtype: int64"
      ]
     },
     "metadata": {},
     "output_type": "display_data"
    },
    {
     "data": {
      "text/plain": [
       "rotation\n",
       "l    186\n",
       "r     88\n",
       "x    246\n",
       "Name: group_index, dtype: int64"
      ]
     },
     "metadata": {},
     "output_type": "display_data"
    },
    {
     "data": {
      "text/plain": [
       "rotation\n",
       "l     87\n",
       "r     52\n",
       "x    132\n",
       "Name: group_index, dtype: int64"
      ]
     },
     "metadata": {},
     "output_type": "display_data"
    },
    {
     "data": {
      "text/plain": [
       "rotation\n",
       "l    145\n",
       "r    130\n",
       "x    201\n",
       "Name: group_index, dtype: int64"
      ]
     },
     "metadata": {},
     "output_type": "display_data"
    },
    {
     "data": {
      "text/plain": [
       "rotation\n",
       "l     83\n",
       "r     61\n",
       "x    133\n",
       "Name: group_index, dtype: int64"
      ]
     },
     "metadata": {},
     "output_type": "display_data"
    },
    {
     "data": {
      "text/plain": [
       "rotation\n",
       "l    55\n",
       "r    29\n",
       "x    75\n",
       "Name: group_index, dtype: int64"
      ]
     },
     "metadata": {},
     "output_type": "display_data"
    },
    {
     "data": {
      "text/plain": [
       "rotation\n",
       "l    131\n",
       "r     87\n",
       "x    188\n",
       "Name: group_index, dtype: int64"
      ]
     },
     "metadata": {},
     "output_type": "display_data"
    },
    {
     "data": {
      "text/plain": [
       "rotation\n",
       "l    113\n",
       "r     91\n",
       "x    171\n",
       "Name: group_index, dtype: int64"
      ]
     },
     "metadata": {},
     "output_type": "display_data"
    },
    {
     "data": {
      "text/plain": [
       "rotation\n",
       "l    71\n",
       "r    60\n",
       "x    99\n",
       "Name: group_index, dtype: int64"
      ]
     },
     "metadata": {},
     "output_type": "display_data"
    },
    {
     "data": {
      "text/plain": [
       "rotation\n",
       "l    186\n",
       "r     88\n",
       "x    246\n",
       "Name: group_index, dtype: int64"
      ]
     },
     "metadata": {},
     "output_type": "display_data"
    },
    {
     "data": {
      "text/plain": [
       "rotation\n",
       "l     87\n",
       "r     52\n",
       "x    132\n",
       "Name: group_index, dtype: int64"
      ]
     },
     "metadata": {},
     "output_type": "display_data"
    },
    {
     "data": {
      "text/plain": [
       "rotation\n",
       "l    145\n",
       "r    130\n",
       "x    201\n",
       "Name: group_index, dtype: int64"
      ]
     },
     "metadata": {},
     "output_type": "display_data"
    },
    {
     "data": {
      "text/plain": [
       "rotation\n",
       "l     83\n",
       "r     61\n",
       "x    133\n",
       "Name: group_index, dtype: int64"
      ]
     },
     "metadata": {},
     "output_type": "display_data"
    },
    {
     "data": {
      "text/plain": [
       "rotation\n",
       "l    55\n",
       "r    29\n",
       "x    75\n",
       "Name: group_index, dtype: int64"
      ]
     },
     "metadata": {},
     "output_type": "display_data"
    },
    {
     "data": {
      "text/plain": [
       "rotation\n",
       "l    131\n",
       "r     87\n",
       "x    188\n",
       "Name: group_index, dtype: int64"
      ]
     },
     "metadata": {},
     "output_type": "display_data"
    },
    {
     "data": {
      "text/plain": [
       "rotation\n",
       "l    113\n",
       "r     91\n",
       "x    171\n",
       "Name: group_index, dtype: int64"
      ]
     },
     "metadata": {},
     "output_type": "display_data"
    },
    {
     "data": {
      "text/plain": [
       "rotation\n",
       "l    71\n",
       "r    60\n",
       "x    99\n",
       "Name: group_index, dtype: int64"
      ]
     },
     "metadata": {},
     "output_type": "display_data"
    },
    {
     "data": {
      "text/plain": [
       "rotation\n",
       "l    186\n",
       "r     88\n",
       "x    246\n",
       "Name: group_index, dtype: int64"
      ]
     },
     "metadata": {},
     "output_type": "display_data"
    },
    {
     "data": {
      "text/plain": [
       "rotation\n",
       "l     87\n",
       "r     52\n",
       "x    132\n",
       "Name: group_index, dtype: int64"
      ]
     },
     "metadata": {},
     "output_type": "display_data"
    }
   ],
   "source": [
    "# Get mean values per subject, per situation\n",
    "data = []\n",
    "for key,value in subjects.items():\n",
    "    real_gazes = extractSrtGazes(key)\n",
    "    rotation_count = getRotationCount(value)\n",
    "    data.append([\n",
    "        key,\n",
    "        value[\"relativeYaw\"].mean(axis=0),\n",
    "        value[\"locationData.velocity\"].mean(axis=0),\n",
    "        value.index[-1],\n",
    "        real_gazes[0],\n",
    "        real_gazes[1],\n",
    "        rotation_count[0],\n",
    "        rotation_count[1]\n",
    "    ])\n",
    "df_all = pd.DataFrame(data, columns=[\n",
    "    'subject', \n",
    "    'mean_rotation',\n",
    "    'mean_speed',\n",
    "    \"duration\",\n",
    "    \"gaze_left_count\", #real gazes, manually marked in video\n",
    "    \"gaze_right_count\",\n",
    "    \"rotation_left_count\", #measured rotations\n",
    "    \"rotation_right_count\",\n",
    "])\n",
    "df_all.loc['Total'] = df_all.mean(numeric_only=True)\n",
    "#df_all.loc['SD'] = df_all.std(numeric_only=True)\n",
    "\n",
    "\n",
    "\n",
    "# Get mean values per subject, per situation\n",
    "data = []\n",
    "for key,value in subjects_25.items():\n",
    "    real_gazes = extractSrtGazes(key)\n",
    "    rotation_count = getRotationCount(value)\n",
    "    data.append([\n",
    "        key,\n",
    "        value[\"relativeYaw\"].mean(axis=0),\n",
    "        value[\"locationData.velocity\"].mean(axis=0),\n",
    "        value.index[-1],\n",
    "        real_gazes[0],\n",
    "        real_gazes[1],\n",
    "        rotation_count[0],\n",
    "        rotation_count[1]\n",
    "    ])\n",
    "df_all_25 = pd.DataFrame(data, columns=[\n",
    "    'subject', \n",
    "    'mean_rotation',\n",
    "    'mean_speed',\n",
    "    \"duration\",\n",
    "    \"gaze_left_count\", #real gazes, manually marked in video\n",
    "    \"gaze_right_count\",\n",
    "    \"rotation_left_count\", #measured rotations\n",
    "    \"rotation_right_count\",\n",
    "])\n",
    "df_all_25.loc['Total'] = df_all_25.mean(numeric_only=True)\n",
    "#df_all.loc['SD'] = df_all.std(numeric_only=True)\n",
    "\n",
    "\n",
    "\n",
    "\n",
    "# Get mean values per subject, per situation\n",
    "data = []\n",
    "for key,value in subjects_30.items():\n",
    "    real_gazes = extractSrtGazes(key)\n",
    "    rotation_count = getRotationCount(value)\n",
    "    data.append([\n",
    "        key,\n",
    "        value[\"relativeYaw\"].mean(axis=0),\n",
    "        value[\"locationData.velocity\"].mean(axis=0),\n",
    "        value.index[-1],\n",
    "        real_gazes[0],\n",
    "        real_gazes[1],\n",
    "        rotation_count[0],\n",
    "        rotation_count[1]\n",
    "    ])\n",
    "df_all_30 = pd.DataFrame(data, columns=[\n",
    "    'subject', \n",
    "    'mean_rotation',\n",
    "    'mean_speed',\n",
    "    \"duration\",\n",
    "    \"gaze_left_count\", #real gazes, manually marked in video\n",
    "    \"gaze_right_count\",\n",
    "    \"rotation_left_count\", #measured rotations\n",
    "    \"rotation_right_count\",\n",
    "])\n",
    "df_all_30.loc['Total'] = df_all_30.mean(numeric_only=True)\n",
    "#df_all.loc['SD'] = df_all.std(numeric_only=True)"
   ]
  },
  {
   "cell_type": "code",
   "execution_count": 11,
   "metadata": {},
   "outputs": [
    {
     "data": {
      "application/vnd.plotly.v1+json": {
       "config": {
        "plotlyServerURL": "https://plot.ly"
       },
       "data": [
        {
         "marker": {
          "color": "#961C26"
         },
         "name": "Real Left Gazes",
         "orientation": "h",
         "showlegend": true,
         "text": [
          134,
          112,
          62,
          146,
          92,
          90,
          171,
          135,
          118
         ],
         "type": "bar",
         "x": [
          134,
          112,
          62,
          146,
          92,
          90,
          171,
          135,
          117.75
         ],
         "y": [
          "Subject 1",
          "Subject 2",
          "Subject 3",
          "Subject 4",
          "Subject 5",
          "Subject 6",
          "Subject 7",
          "Subject 8",
          null
         ]
        },
        {
         "marker": {
          "color": "#000000"
         },
         "name": "Measured Left Rotations",
         "orientation": "h",
         "showlegend": true,
         "text": [
          145,
          83,
          55,
          131,
          113,
          71,
          186,
          87,
          109
         ],
         "type": "bar",
         "x": [
          145,
          83,
          55,
          131,
          113,
          71,
          186,
          87,
          108.875
         ],
         "y": [
          "Subject 1",
          "Subject 2",
          "Subject 3",
          "Subject 4",
          "Subject 5",
          "Subject 6",
          "Subject 7",
          "Subject 8",
          null
         ]
        }
       ],
       "layout": {
        "font": {
         "family": "Lato, sans-serif",
         "size": 14
        },
        "height": 320,
        "hoverlabel": {
         "font": {
          "family": "Lato, sans-serif",
          "size": 13
         }
        },
        "hovermode": "y unified",
        "legend": {
         "orientation": "h",
         "x": 0.5,
         "xanchor": "center",
         "y": 1,
         "yanchor": "bottom"
        },
        "margin": {
         "b": 0,
         "l": 70,
         "r": 40,
         "t": 80
        },
        "template": {
         "data": {
          "bar": [
           {
            "error_x": {
             "color": "#2a3f5f"
            },
            "error_y": {
             "color": "#2a3f5f"
            },
            "marker": {
             "line": {
              "color": "#E5ECF6",
              "width": 0.5
             },
             "pattern": {
              "fillmode": "overlay",
              "size": 10,
              "solidity": 0.2
             }
            },
            "type": "bar"
           }
          ],
          "barpolar": [
           {
            "marker": {
             "line": {
              "color": "#E5ECF6",
              "width": 0.5
             },
             "pattern": {
              "fillmode": "overlay",
              "size": 10,
              "solidity": 0.2
             }
            },
            "type": "barpolar"
           }
          ],
          "carpet": [
           {
            "aaxis": {
             "endlinecolor": "#2a3f5f",
             "gridcolor": "white",
             "linecolor": "white",
             "minorgridcolor": "white",
             "startlinecolor": "#2a3f5f"
            },
            "baxis": {
             "endlinecolor": "#2a3f5f",
             "gridcolor": "white",
             "linecolor": "white",
             "minorgridcolor": "white",
             "startlinecolor": "#2a3f5f"
            },
            "type": "carpet"
           }
          ],
          "choropleth": [
           {
            "colorbar": {
             "outlinewidth": 0,
             "ticks": ""
            },
            "type": "choropleth"
           }
          ],
          "contour": [
           {
            "colorbar": {
             "outlinewidth": 0,
             "ticks": ""
            },
            "colorscale": [
             [
              0,
              "#0d0887"
             ],
             [
              0.1111111111111111,
              "#46039f"
             ],
             [
              0.2222222222222222,
              "#7201a8"
             ],
             [
              0.3333333333333333,
              "#9c179e"
             ],
             [
              0.4444444444444444,
              "#bd3786"
             ],
             [
              0.5555555555555556,
              "#d8576b"
             ],
             [
              0.6666666666666666,
              "#ed7953"
             ],
             [
              0.7777777777777778,
              "#fb9f3a"
             ],
             [
              0.8888888888888888,
              "#fdca26"
             ],
             [
              1,
              "#f0f921"
             ]
            ],
            "type": "contour"
           }
          ],
          "contourcarpet": [
           {
            "colorbar": {
             "outlinewidth": 0,
             "ticks": ""
            },
            "type": "contourcarpet"
           }
          ],
          "heatmap": [
           {
            "colorbar": {
             "outlinewidth": 0,
             "ticks": ""
            },
            "colorscale": [
             [
              0,
              "#0d0887"
             ],
             [
              0.1111111111111111,
              "#46039f"
             ],
             [
              0.2222222222222222,
              "#7201a8"
             ],
             [
              0.3333333333333333,
              "#9c179e"
             ],
             [
              0.4444444444444444,
              "#bd3786"
             ],
             [
              0.5555555555555556,
              "#d8576b"
             ],
             [
              0.6666666666666666,
              "#ed7953"
             ],
             [
              0.7777777777777778,
              "#fb9f3a"
             ],
             [
              0.8888888888888888,
              "#fdca26"
             ],
             [
              1,
              "#f0f921"
             ]
            ],
            "type": "heatmap"
           }
          ],
          "heatmapgl": [
           {
            "colorbar": {
             "outlinewidth": 0,
             "ticks": ""
            },
            "colorscale": [
             [
              0,
              "#0d0887"
             ],
             [
              0.1111111111111111,
              "#46039f"
             ],
             [
              0.2222222222222222,
              "#7201a8"
             ],
             [
              0.3333333333333333,
              "#9c179e"
             ],
             [
              0.4444444444444444,
              "#bd3786"
             ],
             [
              0.5555555555555556,
              "#d8576b"
             ],
             [
              0.6666666666666666,
              "#ed7953"
             ],
             [
              0.7777777777777778,
              "#fb9f3a"
             ],
             [
              0.8888888888888888,
              "#fdca26"
             ],
             [
              1,
              "#f0f921"
             ]
            ],
            "type": "heatmapgl"
           }
          ],
          "histogram": [
           {
            "marker": {
             "pattern": {
              "fillmode": "overlay",
              "size": 10,
              "solidity": 0.2
             }
            },
            "type": "histogram"
           }
          ],
          "histogram2d": [
           {
            "colorbar": {
             "outlinewidth": 0,
             "ticks": ""
            },
            "colorscale": [
             [
              0,
              "#0d0887"
             ],
             [
              0.1111111111111111,
              "#46039f"
             ],
             [
              0.2222222222222222,
              "#7201a8"
             ],
             [
              0.3333333333333333,
              "#9c179e"
             ],
             [
              0.4444444444444444,
              "#bd3786"
             ],
             [
              0.5555555555555556,
              "#d8576b"
             ],
             [
              0.6666666666666666,
              "#ed7953"
             ],
             [
              0.7777777777777778,
              "#fb9f3a"
             ],
             [
              0.8888888888888888,
              "#fdca26"
             ],
             [
              1,
              "#f0f921"
             ]
            ],
            "type": "histogram2d"
           }
          ],
          "histogram2dcontour": [
           {
            "colorbar": {
             "outlinewidth": 0,
             "ticks": ""
            },
            "colorscale": [
             [
              0,
              "#0d0887"
             ],
             [
              0.1111111111111111,
              "#46039f"
             ],
             [
              0.2222222222222222,
              "#7201a8"
             ],
             [
              0.3333333333333333,
              "#9c179e"
             ],
             [
              0.4444444444444444,
              "#bd3786"
             ],
             [
              0.5555555555555556,
              "#d8576b"
             ],
             [
              0.6666666666666666,
              "#ed7953"
             ],
             [
              0.7777777777777778,
              "#fb9f3a"
             ],
             [
              0.8888888888888888,
              "#fdca26"
             ],
             [
              1,
              "#f0f921"
             ]
            ],
            "type": "histogram2dcontour"
           }
          ],
          "mesh3d": [
           {
            "colorbar": {
             "outlinewidth": 0,
             "ticks": ""
            },
            "type": "mesh3d"
           }
          ],
          "parcoords": [
           {
            "line": {
             "colorbar": {
              "outlinewidth": 0,
              "ticks": ""
             }
            },
            "type": "parcoords"
           }
          ],
          "pie": [
           {
            "automargin": true,
            "type": "pie"
           }
          ],
          "scatter": [
           {
            "fillpattern": {
             "fillmode": "overlay",
             "size": 10,
             "solidity": 0.2
            },
            "type": "scatter"
           }
          ],
          "scatter3d": [
           {
            "line": {
             "colorbar": {
              "outlinewidth": 0,
              "ticks": ""
             }
            },
            "marker": {
             "colorbar": {
              "outlinewidth": 0,
              "ticks": ""
             }
            },
            "type": "scatter3d"
           }
          ],
          "scattercarpet": [
           {
            "marker": {
             "colorbar": {
              "outlinewidth": 0,
              "ticks": ""
             }
            },
            "type": "scattercarpet"
           }
          ],
          "scattergeo": [
           {
            "marker": {
             "colorbar": {
              "outlinewidth": 0,
              "ticks": ""
             }
            },
            "type": "scattergeo"
           }
          ],
          "scattergl": [
           {
            "marker": {
             "colorbar": {
              "outlinewidth": 0,
              "ticks": ""
             }
            },
            "type": "scattergl"
           }
          ],
          "scattermapbox": [
           {
            "marker": {
             "colorbar": {
              "outlinewidth": 0,
              "ticks": ""
             }
            },
            "type": "scattermapbox"
           }
          ],
          "scatterpolar": [
           {
            "marker": {
             "colorbar": {
              "outlinewidth": 0,
              "ticks": ""
             }
            },
            "type": "scatterpolar"
           }
          ],
          "scatterpolargl": [
           {
            "marker": {
             "colorbar": {
              "outlinewidth": 0,
              "ticks": ""
             }
            },
            "type": "scatterpolargl"
           }
          ],
          "scatterternary": [
           {
            "marker": {
             "colorbar": {
              "outlinewidth": 0,
              "ticks": ""
             }
            },
            "type": "scatterternary"
           }
          ],
          "surface": [
           {
            "colorbar": {
             "outlinewidth": 0,
             "ticks": ""
            },
            "colorscale": [
             [
              0,
              "#0d0887"
             ],
             [
              0.1111111111111111,
              "#46039f"
             ],
             [
              0.2222222222222222,
              "#7201a8"
             ],
             [
              0.3333333333333333,
              "#9c179e"
             ],
             [
              0.4444444444444444,
              "#bd3786"
             ],
             [
              0.5555555555555556,
              "#d8576b"
             ],
             [
              0.6666666666666666,
              "#ed7953"
             ],
             [
              0.7777777777777778,
              "#fb9f3a"
             ],
             [
              0.8888888888888888,
              "#fdca26"
             ],
             [
              1,
              "#f0f921"
             ]
            ],
            "type": "surface"
           }
          ],
          "table": [
           {
            "cells": {
             "fill": {
              "color": "#EBF0F8"
             },
             "line": {
              "color": "white"
             }
            },
            "header": {
             "fill": {
              "color": "#C8D4E3"
             },
             "line": {
              "color": "white"
             }
            },
            "type": "table"
           }
          ]
         },
         "layout": {
          "annotationdefaults": {
           "arrowcolor": "#2a3f5f",
           "arrowhead": 0,
           "arrowwidth": 1
          },
          "autotypenumbers": "strict",
          "coloraxis": {
           "colorbar": {
            "outlinewidth": 0,
            "ticks": ""
           }
          },
          "colorscale": {
           "diverging": [
            [
             0,
             "#8e0152"
            ],
            [
             0.1,
             "#c51b7d"
            ],
            [
             0.2,
             "#de77ae"
            ],
            [
             0.3,
             "#f1b6da"
            ],
            [
             0.4,
             "#fde0ef"
            ],
            [
             0.5,
             "#f7f7f7"
            ],
            [
             0.6,
             "#e6f5d0"
            ],
            [
             0.7,
             "#b8e186"
            ],
            [
             0.8,
             "#7fbc41"
            ],
            [
             0.9,
             "#4d9221"
            ],
            [
             1,
             "#276419"
            ]
           ],
           "sequential": [
            [
             0,
             "#0d0887"
            ],
            [
             0.1111111111111111,
             "#46039f"
            ],
            [
             0.2222222222222222,
             "#7201a8"
            ],
            [
             0.3333333333333333,
             "#9c179e"
            ],
            [
             0.4444444444444444,
             "#bd3786"
            ],
            [
             0.5555555555555556,
             "#d8576b"
            ],
            [
             0.6666666666666666,
             "#ed7953"
            ],
            [
             0.7777777777777778,
             "#fb9f3a"
            ],
            [
             0.8888888888888888,
             "#fdca26"
            ],
            [
             1,
             "#f0f921"
            ]
           ],
           "sequentialminus": [
            [
             0,
             "#0d0887"
            ],
            [
             0.1111111111111111,
             "#46039f"
            ],
            [
             0.2222222222222222,
             "#7201a8"
            ],
            [
             0.3333333333333333,
             "#9c179e"
            ],
            [
             0.4444444444444444,
             "#bd3786"
            ],
            [
             0.5555555555555556,
             "#d8576b"
            ],
            [
             0.6666666666666666,
             "#ed7953"
            ],
            [
             0.7777777777777778,
             "#fb9f3a"
            ],
            [
             0.8888888888888888,
             "#fdca26"
            ],
            [
             1,
             "#f0f921"
            ]
           ]
          },
          "colorway": [
           "#636efa",
           "#EF553B",
           "#00cc96",
           "#ab63fa",
           "#FFA15A",
           "#19d3f3",
           "#FF6692",
           "#B6E880",
           "#FF97FF",
           "#FECB52"
          ],
          "font": {
           "color": "#2a3f5f"
          },
          "geo": {
           "bgcolor": "white",
           "lakecolor": "white",
           "landcolor": "#E5ECF6",
           "showlakes": true,
           "showland": true,
           "subunitcolor": "white"
          },
          "hoverlabel": {
           "align": "left"
          },
          "hovermode": "closest",
          "mapbox": {
           "style": "light"
          },
          "paper_bgcolor": "white",
          "plot_bgcolor": "#E5ECF6",
          "polar": {
           "angularaxis": {
            "gridcolor": "white",
            "linecolor": "white",
            "ticks": ""
           },
           "bgcolor": "#E5ECF6",
           "radialaxis": {
            "gridcolor": "white",
            "linecolor": "white",
            "ticks": ""
           }
          },
          "scene": {
           "xaxis": {
            "backgroundcolor": "#E5ECF6",
            "gridcolor": "white",
            "gridwidth": 2,
            "linecolor": "white",
            "showbackground": true,
            "ticks": "",
            "zerolinecolor": "white"
           },
           "yaxis": {
            "backgroundcolor": "#E5ECF6",
            "gridcolor": "white",
            "gridwidth": 2,
            "linecolor": "white",
            "showbackground": true,
            "ticks": "",
            "zerolinecolor": "white"
           },
           "zaxis": {
            "backgroundcolor": "#E5ECF6",
            "gridcolor": "white",
            "gridwidth": 2,
            "linecolor": "white",
            "showbackground": true,
            "ticks": "",
            "zerolinecolor": "white"
           }
          },
          "shapedefaults": {
           "line": {
            "color": "#2a3f5f"
           }
          },
          "ternary": {
           "aaxis": {
            "gridcolor": "white",
            "linecolor": "white",
            "ticks": ""
           },
           "baxis": {
            "gridcolor": "white",
            "linecolor": "white",
            "ticks": ""
           },
           "bgcolor": "#E5ECF6",
           "caxis": {
            "gridcolor": "white",
            "linecolor": "white",
            "ticks": ""
           }
          },
          "title": {
           "x": 0.05
          },
          "xaxis": {
           "automargin": true,
           "gridcolor": "white",
           "linecolor": "white",
           "ticks": "",
           "title": {
            "standoff": 15
           },
           "zerolinecolor": "white",
           "zerolinewidth": 2
          },
          "yaxis": {
           "automargin": true,
           "gridcolor": "white",
           "linecolor": "white",
           "ticks": "",
           "title": {
            "standoff": 15
           },
           "zerolinecolor": "white",
           "zerolinewidth": 2
          }
         }
        },
        "width": 500,
        "xaxis": {
         "showgrid": false,
         "title": {
          "text": " "
         }
        },
        "yaxis": {
         "categoryorder": "category descending",
         "showgrid": false,
         "showline": false,
         "ticksuffix": " ",
         "title": {
          "text": " "
         }
        }
       }
      }
     },
     "metadata": {},
     "output_type": "display_data"
    }
   ],
   "source": [
    "marking_red = \"#961C26\"\n",
    "\n",
    "#\"gaze_left_count\", \"gaze_right_count\", \"rotation_left_count\", \"rotation_right_count\"\n",
    "fig_duration = go.Figure()\n",
    "fig_duration.add_trace(go.Bar(x=df_all.gaze_left_count, y=df_all.subject, \n",
    "                        orientation='h', showlegend=True,\n",
    "                        text=np.round(df_all.gaze_left_count,decimals = 0),\n",
    "                        name='Real Left Gazes', marker_color= marking_red))\n",
    "fig_duration.add_trace(go.Bar(x=df_all.rotation_left_count, y=df_all.subject, \n",
    "                        orientation='h', showlegend=True,\n",
    "                        text=np.round(df_all.rotation_left_count,decimals = 0),\n",
    "                        name='Measured Left Rotations', marker_color='#000000'))\n",
    "fig_duration.update_xaxes(showgrid=False)\n",
    "fig_duration.update_yaxes(showgrid=False, categoryorder=\"category descending\",\n",
    "                 ticksuffix=' ', showline=False)\n",
    "fig_duration.update_traces(hovertemplate=None)\n",
    "fig_duration.update_layout(\n",
    "#    title='Mean of Duration & Standingtimes per Situation (Seconds)(Field)',\n",
    "    margin=dict(t=80, b=0, l=70, r=40),\n",
    "    hovermode=\"y unified\", \n",
    "    xaxis_title=' ', yaxis_title=\" \",\n",
    "    width=500, height=320,\n",
    "    font=dict(family=\"Lato, sans-serif\",size=14),\n",
    "    legend=dict(orientation=\"h\", yanchor=\"bottom\",y=1, xanchor=\"center\", x=0.5),\n",
    "    hoverlabel=dict(font_size=13, font_family=\"Lato, sans-serif\")\n",
    "    #paper_bgcolor='rgba(0,0,0,0)',\n",
    "    #plot_bgcolor='rgba(0,0,0,0)'\n",
    ")"
   ]
  },
  {
   "cell_type": "code",
   "execution_count": 12,
   "metadata": {},
   "outputs": [
    {
     "data": {
      "application/vnd.plotly.v1+json": {
       "config": {
        "plotlyServerURL": "https://plot.ly"
       },
       "data": [
        {
         "marker": {
          "color": "#961C26"
         },
         "name": "Real Right Gazes",
         "orientation": "h",
         "showlegend": true,
         "text": [
          98,
          71,
          40,
          107,
          89,
          78,
          97,
          85,
          83
         ],
         "type": "bar",
         "x": [
          98,
          71,
          40,
          107,
          89,
          78,
          97,
          85,
          83.125
         ],
         "y": [
          "Subject 1",
          "Subject 2",
          "Subject 3",
          "Subject 4",
          "Subject 5",
          "Subject 6",
          "Subject 7",
          "Subject 8",
          null
         ]
        },
        {
         "marker": {
          "color": "#000000"
         },
         "name": "Measured Right Rotations",
         "orientation": "h",
         "showlegend": true,
         "text": [
          130,
          61,
          29,
          87,
          91,
          60,
          88,
          52,
          75
         ],
         "type": "bar",
         "x": [
          130,
          61,
          29,
          87,
          91,
          60,
          88,
          52,
          74.75
         ],
         "y": [
          "Subject 1",
          "Subject 2",
          "Subject 3",
          "Subject 4",
          "Subject 5",
          "Subject 6",
          "Subject 7",
          "Subject 8",
          null
         ]
        }
       ],
       "layout": {
        "font": {
         "family": "Lato, sans-serif",
         "size": 14
        },
        "height": 320,
        "hoverlabel": {
         "font": {
          "family": "Lato, sans-serif",
          "size": 13
         }
        },
        "hovermode": "y unified",
        "legend": {
         "orientation": "h",
         "x": 0.5,
         "xanchor": "center",
         "y": 1,
         "yanchor": "bottom"
        },
        "margin": {
         "b": 0,
         "l": 70,
         "r": 40,
         "t": 80
        },
        "template": {
         "data": {
          "bar": [
           {
            "error_x": {
             "color": "#2a3f5f"
            },
            "error_y": {
             "color": "#2a3f5f"
            },
            "marker": {
             "line": {
              "color": "#E5ECF6",
              "width": 0.5
             },
             "pattern": {
              "fillmode": "overlay",
              "size": 10,
              "solidity": 0.2
             }
            },
            "type": "bar"
           }
          ],
          "barpolar": [
           {
            "marker": {
             "line": {
              "color": "#E5ECF6",
              "width": 0.5
             },
             "pattern": {
              "fillmode": "overlay",
              "size": 10,
              "solidity": 0.2
             }
            },
            "type": "barpolar"
           }
          ],
          "carpet": [
           {
            "aaxis": {
             "endlinecolor": "#2a3f5f",
             "gridcolor": "white",
             "linecolor": "white",
             "minorgridcolor": "white",
             "startlinecolor": "#2a3f5f"
            },
            "baxis": {
             "endlinecolor": "#2a3f5f",
             "gridcolor": "white",
             "linecolor": "white",
             "minorgridcolor": "white",
             "startlinecolor": "#2a3f5f"
            },
            "type": "carpet"
           }
          ],
          "choropleth": [
           {
            "colorbar": {
             "outlinewidth": 0,
             "ticks": ""
            },
            "type": "choropleth"
           }
          ],
          "contour": [
           {
            "colorbar": {
             "outlinewidth": 0,
             "ticks": ""
            },
            "colorscale": [
             [
              0,
              "#0d0887"
             ],
             [
              0.1111111111111111,
              "#46039f"
             ],
             [
              0.2222222222222222,
              "#7201a8"
             ],
             [
              0.3333333333333333,
              "#9c179e"
             ],
             [
              0.4444444444444444,
              "#bd3786"
             ],
             [
              0.5555555555555556,
              "#d8576b"
             ],
             [
              0.6666666666666666,
              "#ed7953"
             ],
             [
              0.7777777777777778,
              "#fb9f3a"
             ],
             [
              0.8888888888888888,
              "#fdca26"
             ],
             [
              1,
              "#f0f921"
             ]
            ],
            "type": "contour"
           }
          ],
          "contourcarpet": [
           {
            "colorbar": {
             "outlinewidth": 0,
             "ticks": ""
            },
            "type": "contourcarpet"
           }
          ],
          "heatmap": [
           {
            "colorbar": {
             "outlinewidth": 0,
             "ticks": ""
            },
            "colorscale": [
             [
              0,
              "#0d0887"
             ],
             [
              0.1111111111111111,
              "#46039f"
             ],
             [
              0.2222222222222222,
              "#7201a8"
             ],
             [
              0.3333333333333333,
              "#9c179e"
             ],
             [
              0.4444444444444444,
              "#bd3786"
             ],
             [
              0.5555555555555556,
              "#d8576b"
             ],
             [
              0.6666666666666666,
              "#ed7953"
             ],
             [
              0.7777777777777778,
              "#fb9f3a"
             ],
             [
              0.8888888888888888,
              "#fdca26"
             ],
             [
              1,
              "#f0f921"
             ]
            ],
            "type": "heatmap"
           }
          ],
          "heatmapgl": [
           {
            "colorbar": {
             "outlinewidth": 0,
             "ticks": ""
            },
            "colorscale": [
             [
              0,
              "#0d0887"
             ],
             [
              0.1111111111111111,
              "#46039f"
             ],
             [
              0.2222222222222222,
              "#7201a8"
             ],
             [
              0.3333333333333333,
              "#9c179e"
             ],
             [
              0.4444444444444444,
              "#bd3786"
             ],
             [
              0.5555555555555556,
              "#d8576b"
             ],
             [
              0.6666666666666666,
              "#ed7953"
             ],
             [
              0.7777777777777778,
              "#fb9f3a"
             ],
             [
              0.8888888888888888,
              "#fdca26"
             ],
             [
              1,
              "#f0f921"
             ]
            ],
            "type": "heatmapgl"
           }
          ],
          "histogram": [
           {
            "marker": {
             "pattern": {
              "fillmode": "overlay",
              "size": 10,
              "solidity": 0.2
             }
            },
            "type": "histogram"
           }
          ],
          "histogram2d": [
           {
            "colorbar": {
             "outlinewidth": 0,
             "ticks": ""
            },
            "colorscale": [
             [
              0,
              "#0d0887"
             ],
             [
              0.1111111111111111,
              "#46039f"
             ],
             [
              0.2222222222222222,
              "#7201a8"
             ],
             [
              0.3333333333333333,
              "#9c179e"
             ],
             [
              0.4444444444444444,
              "#bd3786"
             ],
             [
              0.5555555555555556,
              "#d8576b"
             ],
             [
              0.6666666666666666,
              "#ed7953"
             ],
             [
              0.7777777777777778,
              "#fb9f3a"
             ],
             [
              0.8888888888888888,
              "#fdca26"
             ],
             [
              1,
              "#f0f921"
             ]
            ],
            "type": "histogram2d"
           }
          ],
          "histogram2dcontour": [
           {
            "colorbar": {
             "outlinewidth": 0,
             "ticks": ""
            },
            "colorscale": [
             [
              0,
              "#0d0887"
             ],
             [
              0.1111111111111111,
              "#46039f"
             ],
             [
              0.2222222222222222,
              "#7201a8"
             ],
             [
              0.3333333333333333,
              "#9c179e"
             ],
             [
              0.4444444444444444,
              "#bd3786"
             ],
             [
              0.5555555555555556,
              "#d8576b"
             ],
             [
              0.6666666666666666,
              "#ed7953"
             ],
             [
              0.7777777777777778,
              "#fb9f3a"
             ],
             [
              0.8888888888888888,
              "#fdca26"
             ],
             [
              1,
              "#f0f921"
             ]
            ],
            "type": "histogram2dcontour"
           }
          ],
          "mesh3d": [
           {
            "colorbar": {
             "outlinewidth": 0,
             "ticks": ""
            },
            "type": "mesh3d"
           }
          ],
          "parcoords": [
           {
            "line": {
             "colorbar": {
              "outlinewidth": 0,
              "ticks": ""
             }
            },
            "type": "parcoords"
           }
          ],
          "pie": [
           {
            "automargin": true,
            "type": "pie"
           }
          ],
          "scatter": [
           {
            "fillpattern": {
             "fillmode": "overlay",
             "size": 10,
             "solidity": 0.2
            },
            "type": "scatter"
           }
          ],
          "scatter3d": [
           {
            "line": {
             "colorbar": {
              "outlinewidth": 0,
              "ticks": ""
             }
            },
            "marker": {
             "colorbar": {
              "outlinewidth": 0,
              "ticks": ""
             }
            },
            "type": "scatter3d"
           }
          ],
          "scattercarpet": [
           {
            "marker": {
             "colorbar": {
              "outlinewidth": 0,
              "ticks": ""
             }
            },
            "type": "scattercarpet"
           }
          ],
          "scattergeo": [
           {
            "marker": {
             "colorbar": {
              "outlinewidth": 0,
              "ticks": ""
             }
            },
            "type": "scattergeo"
           }
          ],
          "scattergl": [
           {
            "marker": {
             "colorbar": {
              "outlinewidth": 0,
              "ticks": ""
             }
            },
            "type": "scattergl"
           }
          ],
          "scattermapbox": [
           {
            "marker": {
             "colorbar": {
              "outlinewidth": 0,
              "ticks": ""
             }
            },
            "type": "scattermapbox"
           }
          ],
          "scatterpolar": [
           {
            "marker": {
             "colorbar": {
              "outlinewidth": 0,
              "ticks": ""
             }
            },
            "type": "scatterpolar"
           }
          ],
          "scatterpolargl": [
           {
            "marker": {
             "colorbar": {
              "outlinewidth": 0,
              "ticks": ""
             }
            },
            "type": "scatterpolargl"
           }
          ],
          "scatterternary": [
           {
            "marker": {
             "colorbar": {
              "outlinewidth": 0,
              "ticks": ""
             }
            },
            "type": "scatterternary"
           }
          ],
          "surface": [
           {
            "colorbar": {
             "outlinewidth": 0,
             "ticks": ""
            },
            "colorscale": [
             [
              0,
              "#0d0887"
             ],
             [
              0.1111111111111111,
              "#46039f"
             ],
             [
              0.2222222222222222,
              "#7201a8"
             ],
             [
              0.3333333333333333,
              "#9c179e"
             ],
             [
              0.4444444444444444,
              "#bd3786"
             ],
             [
              0.5555555555555556,
              "#d8576b"
             ],
             [
              0.6666666666666666,
              "#ed7953"
             ],
             [
              0.7777777777777778,
              "#fb9f3a"
             ],
             [
              0.8888888888888888,
              "#fdca26"
             ],
             [
              1,
              "#f0f921"
             ]
            ],
            "type": "surface"
           }
          ],
          "table": [
           {
            "cells": {
             "fill": {
              "color": "#EBF0F8"
             },
             "line": {
              "color": "white"
             }
            },
            "header": {
             "fill": {
              "color": "#C8D4E3"
             },
             "line": {
              "color": "white"
             }
            },
            "type": "table"
           }
          ]
         },
         "layout": {
          "annotationdefaults": {
           "arrowcolor": "#2a3f5f",
           "arrowhead": 0,
           "arrowwidth": 1
          },
          "autotypenumbers": "strict",
          "coloraxis": {
           "colorbar": {
            "outlinewidth": 0,
            "ticks": ""
           }
          },
          "colorscale": {
           "diverging": [
            [
             0,
             "#8e0152"
            ],
            [
             0.1,
             "#c51b7d"
            ],
            [
             0.2,
             "#de77ae"
            ],
            [
             0.3,
             "#f1b6da"
            ],
            [
             0.4,
             "#fde0ef"
            ],
            [
             0.5,
             "#f7f7f7"
            ],
            [
             0.6,
             "#e6f5d0"
            ],
            [
             0.7,
             "#b8e186"
            ],
            [
             0.8,
             "#7fbc41"
            ],
            [
             0.9,
             "#4d9221"
            ],
            [
             1,
             "#276419"
            ]
           ],
           "sequential": [
            [
             0,
             "#0d0887"
            ],
            [
             0.1111111111111111,
             "#46039f"
            ],
            [
             0.2222222222222222,
             "#7201a8"
            ],
            [
             0.3333333333333333,
             "#9c179e"
            ],
            [
             0.4444444444444444,
             "#bd3786"
            ],
            [
             0.5555555555555556,
             "#d8576b"
            ],
            [
             0.6666666666666666,
             "#ed7953"
            ],
            [
             0.7777777777777778,
             "#fb9f3a"
            ],
            [
             0.8888888888888888,
             "#fdca26"
            ],
            [
             1,
             "#f0f921"
            ]
           ],
           "sequentialminus": [
            [
             0,
             "#0d0887"
            ],
            [
             0.1111111111111111,
             "#46039f"
            ],
            [
             0.2222222222222222,
             "#7201a8"
            ],
            [
             0.3333333333333333,
             "#9c179e"
            ],
            [
             0.4444444444444444,
             "#bd3786"
            ],
            [
             0.5555555555555556,
             "#d8576b"
            ],
            [
             0.6666666666666666,
             "#ed7953"
            ],
            [
             0.7777777777777778,
             "#fb9f3a"
            ],
            [
             0.8888888888888888,
             "#fdca26"
            ],
            [
             1,
             "#f0f921"
            ]
           ]
          },
          "colorway": [
           "#636efa",
           "#EF553B",
           "#00cc96",
           "#ab63fa",
           "#FFA15A",
           "#19d3f3",
           "#FF6692",
           "#B6E880",
           "#FF97FF",
           "#FECB52"
          ],
          "font": {
           "color": "#2a3f5f"
          },
          "geo": {
           "bgcolor": "white",
           "lakecolor": "white",
           "landcolor": "#E5ECF6",
           "showlakes": true,
           "showland": true,
           "subunitcolor": "white"
          },
          "hoverlabel": {
           "align": "left"
          },
          "hovermode": "closest",
          "mapbox": {
           "style": "light"
          },
          "paper_bgcolor": "white",
          "plot_bgcolor": "#E5ECF6",
          "polar": {
           "angularaxis": {
            "gridcolor": "white",
            "linecolor": "white",
            "ticks": ""
           },
           "bgcolor": "#E5ECF6",
           "radialaxis": {
            "gridcolor": "white",
            "linecolor": "white",
            "ticks": ""
           }
          },
          "scene": {
           "xaxis": {
            "backgroundcolor": "#E5ECF6",
            "gridcolor": "white",
            "gridwidth": 2,
            "linecolor": "white",
            "showbackground": true,
            "ticks": "",
            "zerolinecolor": "white"
           },
           "yaxis": {
            "backgroundcolor": "#E5ECF6",
            "gridcolor": "white",
            "gridwidth": 2,
            "linecolor": "white",
            "showbackground": true,
            "ticks": "",
            "zerolinecolor": "white"
           },
           "zaxis": {
            "backgroundcolor": "#E5ECF6",
            "gridcolor": "white",
            "gridwidth": 2,
            "linecolor": "white",
            "showbackground": true,
            "ticks": "",
            "zerolinecolor": "white"
           }
          },
          "shapedefaults": {
           "line": {
            "color": "#2a3f5f"
           }
          },
          "ternary": {
           "aaxis": {
            "gridcolor": "white",
            "linecolor": "white",
            "ticks": ""
           },
           "baxis": {
            "gridcolor": "white",
            "linecolor": "white",
            "ticks": ""
           },
           "bgcolor": "#E5ECF6",
           "caxis": {
            "gridcolor": "white",
            "linecolor": "white",
            "ticks": ""
           }
          },
          "title": {
           "x": 0.05
          },
          "xaxis": {
           "automargin": true,
           "gridcolor": "white",
           "linecolor": "white",
           "ticks": "",
           "title": {
            "standoff": 15
           },
           "zerolinecolor": "white",
           "zerolinewidth": 2
          },
          "yaxis": {
           "automargin": true,
           "gridcolor": "white",
           "linecolor": "white",
           "ticks": "",
           "title": {
            "standoff": 15
           },
           "zerolinecolor": "white",
           "zerolinewidth": 2
          }
         }
        },
        "width": 500,
        "xaxis": {
         "showgrid": false,
         "title": {
          "text": " "
         }
        },
        "yaxis": {
         "categoryorder": "category descending",
         "showgrid": false,
         "showline": false,
         "ticksuffix": " ",
         "title": {
          "text": " "
         }
        }
       }
      }
     },
     "metadata": {},
     "output_type": "display_data"
    }
   ],
   "source": [
    "#\"gaze_left_count\", \"gaze_right_count\", \"rotation_left_count\", \"rotation_right_count\"\n",
    "fig_duration = go.Figure()\n",
    "fig_duration.add_trace(go.Bar(x=df_all.gaze_right_count, y=df_all.subject, \n",
    "                        orientation='h', showlegend=True,\n",
    "                        text=np.round(df_all.gaze_right_count,decimals = 0),\n",
    "                        name='Real Right Gazes', marker_color= marking_red))\n",
    "fig_duration.add_trace(go.Bar(x=df_all.rotation_right_count, y=df_all.subject, \n",
    "                        orientation='h', showlegend=True,\n",
    "                        text=np.round(df_all.rotation_right_count,decimals = 0),\n",
    "                        name='Measured Right Rotations', marker_color='#000000'))\n",
    "fig_duration.update_xaxes(showgrid=False)\n",
    "fig_duration.update_yaxes(showgrid=False, categoryorder=\"category descending\",\n",
    "                 ticksuffix=' ', showline=False)\n",
    "fig_duration.update_traces(hovertemplate=None)\n",
    "fig_duration.update_layout(\n",
    "#    title='Mean of Duration & Standingtimes per Situation (Seconds)(Field)',\n",
    "    margin=dict(t=80, b=0, l=70, r=40),\n",
    "    hovermode=\"y unified\", \n",
    "    xaxis_title=' ', yaxis_title=\" \",\n",
    "    width=500, height=320,\n",
    "    font=dict(family=\"Lato, sans-serif\",size=14),\n",
    "    legend=dict(orientation=\"h\", yanchor=\"bottom\",y=1, xanchor=\"center\", x=0.5),\n",
    "    hoverlabel=dict(font_size=13, font_family=\"Lato, sans-serif\")\n",
    "    #paper_bgcolor='rgba(0,0,0,0)',\n",
    "    #plot_bgcolor='rgba(0,0,0,0)'\n",
    ")"
   ]
  },
  {
   "cell_type": "code",
   "execution_count": 13,
   "metadata": {},
   "outputs": [
    {
     "data": {
      "text/plain": [
       "'The Mean of real gazes to the left was 117.75, compared to 108.875 measured gazes. Which gives us a 92.46284501061571 % loss rate'"
      ]
     },
     "metadata": {},
     "output_type": "display_data"
    },
    {
     "data": {
      "text/plain": [
       "'The Mean of real gazes to the right was 83.125, compared to 74.75 measured gazes. Which gives us a 89.92481203007519 % loss rate'"
      ]
     },
     "metadata": {},
     "output_type": "display_data"
    },
    {
     "data": {
      "text/plain": [
       "'The Mean of real gazes to the left was 117.75, compared to 108.875 measured gazes. Which gives us a 92.46284501061571 % loss rate'"
      ]
     },
     "metadata": {},
     "output_type": "display_data"
    },
    {
     "data": {
      "text/plain": [
       "'The Mean of real gazes to the right was 83.125, compared to 74.75 measured gazes. Which gives us a 89.92481203007519 % loss rate'"
      ]
     },
     "metadata": {},
     "output_type": "display_data"
    },
    {
     "data": {
      "text/plain": [
       "'The Mean of real gazes to the left was 117.75, compared to 108.875 measured gazes. Which gives us a 92.46284501061571 % loss rate'"
      ]
     },
     "metadata": {},
     "output_type": "display_data"
    },
    {
     "data": {
      "text/plain": [
       "'The Mean of real gazes to the right was 83.125, compared to 74.75 measured gazes. Which gives us a 89.92481203007519 % loss rate'"
      ]
     },
     "metadata": {},
     "output_type": "display_data"
    },
    {
     "data": {
      "application/vnd.plotly.v1+json": {
       "config": {
        "plotlyServerURL": "https://plot.ly"
       },
       "data": [
        {
         "marker": {
          "color": "#961C26"
         },
         "name": "Lossrate Left",
         "showlegend": true,
         "text": [
          92,
          92,
          92
         ],
         "type": "bar",
         "x": [
          20,
          25,
          30
         ],
         "y": [
          92.46284501061571,
          92.46284501061571,
          92.46284501061571
         ]
        },
        {
         "marker": {
          "color": "#000000"
         },
         "name": "Lossrate Right",
         "showlegend": true,
         "text": [
          90,
          90,
          90
         ],
         "type": "bar",
         "x": [
          20,
          25,
          30
         ],
         "y": [
          89.92481203007519,
          89.92481203007519,
          89.92481203007519
         ]
        }
       ],
       "layout": {
        "font": {
         "family": "Lato, sans-serif",
         "size": 14
        },
        "hoverlabel": {
         "font": {
          "family": "Lato, sans-serif",
          "size": 13
         }
        },
        "hovermode": "y unified",
        "legend": {
         "orientation": "h",
         "x": 0.5,
         "xanchor": "center",
         "y": 1,
         "yanchor": "bottom"
        },
        "margin": {
         "b": 0,
         "l": 70,
         "r": 40,
         "t": 80
        },
        "template": {
         "data": {
          "bar": [
           {
            "error_x": {
             "color": "#2a3f5f"
            },
            "error_y": {
             "color": "#2a3f5f"
            },
            "marker": {
             "line": {
              "color": "#E5ECF6",
              "width": 0.5
             },
             "pattern": {
              "fillmode": "overlay",
              "size": 10,
              "solidity": 0.2
             }
            },
            "type": "bar"
           }
          ],
          "barpolar": [
           {
            "marker": {
             "line": {
              "color": "#E5ECF6",
              "width": 0.5
             },
             "pattern": {
              "fillmode": "overlay",
              "size": 10,
              "solidity": 0.2
             }
            },
            "type": "barpolar"
           }
          ],
          "carpet": [
           {
            "aaxis": {
             "endlinecolor": "#2a3f5f",
             "gridcolor": "white",
             "linecolor": "white",
             "minorgridcolor": "white",
             "startlinecolor": "#2a3f5f"
            },
            "baxis": {
             "endlinecolor": "#2a3f5f",
             "gridcolor": "white",
             "linecolor": "white",
             "minorgridcolor": "white",
             "startlinecolor": "#2a3f5f"
            },
            "type": "carpet"
           }
          ],
          "choropleth": [
           {
            "colorbar": {
             "outlinewidth": 0,
             "ticks": ""
            },
            "type": "choropleth"
           }
          ],
          "contour": [
           {
            "colorbar": {
             "outlinewidth": 0,
             "ticks": ""
            },
            "colorscale": [
             [
              0,
              "#0d0887"
             ],
             [
              0.1111111111111111,
              "#46039f"
             ],
             [
              0.2222222222222222,
              "#7201a8"
             ],
             [
              0.3333333333333333,
              "#9c179e"
             ],
             [
              0.4444444444444444,
              "#bd3786"
             ],
             [
              0.5555555555555556,
              "#d8576b"
             ],
             [
              0.6666666666666666,
              "#ed7953"
             ],
             [
              0.7777777777777778,
              "#fb9f3a"
             ],
             [
              0.8888888888888888,
              "#fdca26"
             ],
             [
              1,
              "#f0f921"
             ]
            ],
            "type": "contour"
           }
          ],
          "contourcarpet": [
           {
            "colorbar": {
             "outlinewidth": 0,
             "ticks": ""
            },
            "type": "contourcarpet"
           }
          ],
          "heatmap": [
           {
            "colorbar": {
             "outlinewidth": 0,
             "ticks": ""
            },
            "colorscale": [
             [
              0,
              "#0d0887"
             ],
             [
              0.1111111111111111,
              "#46039f"
             ],
             [
              0.2222222222222222,
              "#7201a8"
             ],
             [
              0.3333333333333333,
              "#9c179e"
             ],
             [
              0.4444444444444444,
              "#bd3786"
             ],
             [
              0.5555555555555556,
              "#d8576b"
             ],
             [
              0.6666666666666666,
              "#ed7953"
             ],
             [
              0.7777777777777778,
              "#fb9f3a"
             ],
             [
              0.8888888888888888,
              "#fdca26"
             ],
             [
              1,
              "#f0f921"
             ]
            ],
            "type": "heatmap"
           }
          ],
          "heatmapgl": [
           {
            "colorbar": {
             "outlinewidth": 0,
             "ticks": ""
            },
            "colorscale": [
             [
              0,
              "#0d0887"
             ],
             [
              0.1111111111111111,
              "#46039f"
             ],
             [
              0.2222222222222222,
              "#7201a8"
             ],
             [
              0.3333333333333333,
              "#9c179e"
             ],
             [
              0.4444444444444444,
              "#bd3786"
             ],
             [
              0.5555555555555556,
              "#d8576b"
             ],
             [
              0.6666666666666666,
              "#ed7953"
             ],
             [
              0.7777777777777778,
              "#fb9f3a"
             ],
             [
              0.8888888888888888,
              "#fdca26"
             ],
             [
              1,
              "#f0f921"
             ]
            ],
            "type": "heatmapgl"
           }
          ],
          "histogram": [
           {
            "marker": {
             "pattern": {
              "fillmode": "overlay",
              "size": 10,
              "solidity": 0.2
             }
            },
            "type": "histogram"
           }
          ],
          "histogram2d": [
           {
            "colorbar": {
             "outlinewidth": 0,
             "ticks": ""
            },
            "colorscale": [
             [
              0,
              "#0d0887"
             ],
             [
              0.1111111111111111,
              "#46039f"
             ],
             [
              0.2222222222222222,
              "#7201a8"
             ],
             [
              0.3333333333333333,
              "#9c179e"
             ],
             [
              0.4444444444444444,
              "#bd3786"
             ],
             [
              0.5555555555555556,
              "#d8576b"
             ],
             [
              0.6666666666666666,
              "#ed7953"
             ],
             [
              0.7777777777777778,
              "#fb9f3a"
             ],
             [
              0.8888888888888888,
              "#fdca26"
             ],
             [
              1,
              "#f0f921"
             ]
            ],
            "type": "histogram2d"
           }
          ],
          "histogram2dcontour": [
           {
            "colorbar": {
             "outlinewidth": 0,
             "ticks": ""
            },
            "colorscale": [
             [
              0,
              "#0d0887"
             ],
             [
              0.1111111111111111,
              "#46039f"
             ],
             [
              0.2222222222222222,
              "#7201a8"
             ],
             [
              0.3333333333333333,
              "#9c179e"
             ],
             [
              0.4444444444444444,
              "#bd3786"
             ],
             [
              0.5555555555555556,
              "#d8576b"
             ],
             [
              0.6666666666666666,
              "#ed7953"
             ],
             [
              0.7777777777777778,
              "#fb9f3a"
             ],
             [
              0.8888888888888888,
              "#fdca26"
             ],
             [
              1,
              "#f0f921"
             ]
            ],
            "type": "histogram2dcontour"
           }
          ],
          "mesh3d": [
           {
            "colorbar": {
             "outlinewidth": 0,
             "ticks": ""
            },
            "type": "mesh3d"
           }
          ],
          "parcoords": [
           {
            "line": {
             "colorbar": {
              "outlinewidth": 0,
              "ticks": ""
             }
            },
            "type": "parcoords"
           }
          ],
          "pie": [
           {
            "automargin": true,
            "type": "pie"
           }
          ],
          "scatter": [
           {
            "fillpattern": {
             "fillmode": "overlay",
             "size": 10,
             "solidity": 0.2
            },
            "type": "scatter"
           }
          ],
          "scatter3d": [
           {
            "line": {
             "colorbar": {
              "outlinewidth": 0,
              "ticks": ""
             }
            },
            "marker": {
             "colorbar": {
              "outlinewidth": 0,
              "ticks": ""
             }
            },
            "type": "scatter3d"
           }
          ],
          "scattercarpet": [
           {
            "marker": {
             "colorbar": {
              "outlinewidth": 0,
              "ticks": ""
             }
            },
            "type": "scattercarpet"
           }
          ],
          "scattergeo": [
           {
            "marker": {
             "colorbar": {
              "outlinewidth": 0,
              "ticks": ""
             }
            },
            "type": "scattergeo"
           }
          ],
          "scattergl": [
           {
            "marker": {
             "colorbar": {
              "outlinewidth": 0,
              "ticks": ""
             }
            },
            "type": "scattergl"
           }
          ],
          "scattermapbox": [
           {
            "marker": {
             "colorbar": {
              "outlinewidth": 0,
              "ticks": ""
             }
            },
            "type": "scattermapbox"
           }
          ],
          "scatterpolar": [
           {
            "marker": {
             "colorbar": {
              "outlinewidth": 0,
              "ticks": ""
             }
            },
            "type": "scatterpolar"
           }
          ],
          "scatterpolargl": [
           {
            "marker": {
             "colorbar": {
              "outlinewidth": 0,
              "ticks": ""
             }
            },
            "type": "scatterpolargl"
           }
          ],
          "scatterternary": [
           {
            "marker": {
             "colorbar": {
              "outlinewidth": 0,
              "ticks": ""
             }
            },
            "type": "scatterternary"
           }
          ],
          "surface": [
           {
            "colorbar": {
             "outlinewidth": 0,
             "ticks": ""
            },
            "colorscale": [
             [
              0,
              "#0d0887"
             ],
             [
              0.1111111111111111,
              "#46039f"
             ],
             [
              0.2222222222222222,
              "#7201a8"
             ],
             [
              0.3333333333333333,
              "#9c179e"
             ],
             [
              0.4444444444444444,
              "#bd3786"
             ],
             [
              0.5555555555555556,
              "#d8576b"
             ],
             [
              0.6666666666666666,
              "#ed7953"
             ],
             [
              0.7777777777777778,
              "#fb9f3a"
             ],
             [
              0.8888888888888888,
              "#fdca26"
             ],
             [
              1,
              "#f0f921"
             ]
            ],
            "type": "surface"
           }
          ],
          "table": [
           {
            "cells": {
             "fill": {
              "color": "#EBF0F8"
             },
             "line": {
              "color": "white"
             }
            },
            "header": {
             "fill": {
              "color": "#C8D4E3"
             },
             "line": {
              "color": "white"
             }
            },
            "type": "table"
           }
          ]
         },
         "layout": {
          "annotationdefaults": {
           "arrowcolor": "#2a3f5f",
           "arrowhead": 0,
           "arrowwidth": 1
          },
          "autotypenumbers": "strict",
          "coloraxis": {
           "colorbar": {
            "outlinewidth": 0,
            "ticks": ""
           }
          },
          "colorscale": {
           "diverging": [
            [
             0,
             "#8e0152"
            ],
            [
             0.1,
             "#c51b7d"
            ],
            [
             0.2,
             "#de77ae"
            ],
            [
             0.3,
             "#f1b6da"
            ],
            [
             0.4,
             "#fde0ef"
            ],
            [
             0.5,
             "#f7f7f7"
            ],
            [
             0.6,
             "#e6f5d0"
            ],
            [
             0.7,
             "#b8e186"
            ],
            [
             0.8,
             "#7fbc41"
            ],
            [
             0.9,
             "#4d9221"
            ],
            [
             1,
             "#276419"
            ]
           ],
           "sequential": [
            [
             0,
             "#0d0887"
            ],
            [
             0.1111111111111111,
             "#46039f"
            ],
            [
             0.2222222222222222,
             "#7201a8"
            ],
            [
             0.3333333333333333,
             "#9c179e"
            ],
            [
             0.4444444444444444,
             "#bd3786"
            ],
            [
             0.5555555555555556,
             "#d8576b"
            ],
            [
             0.6666666666666666,
             "#ed7953"
            ],
            [
             0.7777777777777778,
             "#fb9f3a"
            ],
            [
             0.8888888888888888,
             "#fdca26"
            ],
            [
             1,
             "#f0f921"
            ]
           ],
           "sequentialminus": [
            [
             0,
             "#0d0887"
            ],
            [
             0.1111111111111111,
             "#46039f"
            ],
            [
             0.2222222222222222,
             "#7201a8"
            ],
            [
             0.3333333333333333,
             "#9c179e"
            ],
            [
             0.4444444444444444,
             "#bd3786"
            ],
            [
             0.5555555555555556,
             "#d8576b"
            ],
            [
             0.6666666666666666,
             "#ed7953"
            ],
            [
             0.7777777777777778,
             "#fb9f3a"
            ],
            [
             0.8888888888888888,
             "#fdca26"
            ],
            [
             1,
             "#f0f921"
            ]
           ]
          },
          "colorway": [
           "#636efa",
           "#EF553B",
           "#00cc96",
           "#ab63fa",
           "#FFA15A",
           "#19d3f3",
           "#FF6692",
           "#B6E880",
           "#FF97FF",
           "#FECB52"
          ],
          "font": {
           "color": "#2a3f5f"
          },
          "geo": {
           "bgcolor": "white",
           "lakecolor": "white",
           "landcolor": "#E5ECF6",
           "showlakes": true,
           "showland": true,
           "subunitcolor": "white"
          },
          "hoverlabel": {
           "align": "left"
          },
          "hovermode": "closest",
          "mapbox": {
           "style": "light"
          },
          "paper_bgcolor": "white",
          "plot_bgcolor": "#E5ECF6",
          "polar": {
           "angularaxis": {
            "gridcolor": "white",
            "linecolor": "white",
            "ticks": ""
           },
           "bgcolor": "#E5ECF6",
           "radialaxis": {
            "gridcolor": "white",
            "linecolor": "white",
            "ticks": ""
           }
          },
          "scene": {
           "xaxis": {
            "backgroundcolor": "#E5ECF6",
            "gridcolor": "white",
            "gridwidth": 2,
            "linecolor": "white",
            "showbackground": true,
            "ticks": "",
            "zerolinecolor": "white"
           },
           "yaxis": {
            "backgroundcolor": "#E5ECF6",
            "gridcolor": "white",
            "gridwidth": 2,
            "linecolor": "white",
            "showbackground": true,
            "ticks": "",
            "zerolinecolor": "white"
           },
           "zaxis": {
            "backgroundcolor": "#E5ECF6",
            "gridcolor": "white",
            "gridwidth": 2,
            "linecolor": "white",
            "showbackground": true,
            "ticks": "",
            "zerolinecolor": "white"
           }
          },
          "shapedefaults": {
           "line": {
            "color": "#2a3f5f"
           }
          },
          "ternary": {
           "aaxis": {
            "gridcolor": "white",
            "linecolor": "white",
            "ticks": ""
           },
           "baxis": {
            "gridcolor": "white",
            "linecolor": "white",
            "ticks": ""
           },
           "bgcolor": "#E5ECF6",
           "caxis": {
            "gridcolor": "white",
            "linecolor": "white",
            "ticks": ""
           }
          },
          "title": {
           "x": 0.05
          },
          "xaxis": {
           "automargin": true,
           "gridcolor": "white",
           "linecolor": "white",
           "ticks": "",
           "title": {
            "standoff": 15
           },
           "zerolinecolor": "white",
           "zerolinewidth": 2
          },
          "yaxis": {
           "automargin": true,
           "gridcolor": "white",
           "linecolor": "white",
           "ticks": "",
           "title": {
            "standoff": 15
           },
           "zerolinecolor": "white",
           "zerolinewidth": 2
          }
         }
        },
        "xaxis": {
         "showgrid": false,
         "title": {
          "text": "Threshhold"
         }
        },
        "yaxis": {
         "categoryorder": "category descending",
         "showgrid": false,
         "showline": false,
         "ticksuffix": " ",
         "title": {
          "text": "Lossrate Percentage"
         }
        }
       }
      }
     },
     "metadata": {},
     "output_type": "display_data"
    }
   ],
   "source": [
    "left_loss = df_all.loc[\"Total\"].rotation_left_count / df_all.loc[\"Total\"].gaze_left_count * 100\n",
    "right_loss = df_all.loc[\"Total\"].rotation_right_count / df_all.loc[\"Total\"].gaze_right_count * 100\n",
    "\n",
    "left_loss_25 = df_all_25.loc[\"Total\"].rotation_left_count / df_all_25.loc[\"Total\"].gaze_left_count * 100\n",
    "right_loss_25 = df_all_25.loc[\"Total\"].rotation_right_count / df_all_25.loc[\"Total\"].gaze_right_count * 100\n",
    "\n",
    "left_loss_30 = df_all_30.loc[\"Total\"].rotation_left_count / df_all_30.loc[\"Total\"].gaze_left_count * 100\n",
    "right_loss_30 = df_all_30.loc[\"Total\"].rotation_right_count / df_all_30.loc[\"Total\"].gaze_right_count * 100\n",
    "\n",
    "display(\"The Mean of real gazes to the left was {}, compared to {} measured gazes. Which gives us a {} % loss rate\".format(df_all.loc[\"Total\"].gaze_left_count,df_all.loc[\"Total\"].rotation_left_count,left_loss))\n",
    "display(\"The Mean of real gazes to the right was {}, compared to {} measured gazes. Which gives us a {} % loss rate\".format(df_all.loc[\"Total\"].gaze_right_count,df_all.loc[\"Total\"].rotation_right_count,right_loss))\n",
    "\n",
    "display(\"The Mean of real gazes to the left was {}, compared to {} measured gazes. Which gives us a {} % loss rate\".format(df_all_25.loc[\"Total\"].gaze_left_count,df_all_25.loc[\"Total\"].rotation_left_count,left_loss_25))\n",
    "display(\"The Mean of real gazes to the right was {}, compared to {} measured gazes. Which gives us a {} % loss rate\".format(df_all_25.loc[\"Total\"].gaze_right_count,df_all_25.loc[\"Total\"].rotation_right_count,right_loss_25))\n",
    "\n",
    "display(\"The Mean of real gazes to the left was {}, compared to {} measured gazes. Which gives us a {} % loss rate\".format(df_all_30.loc[\"Total\"].gaze_left_count,df_all_30.loc[\"Total\"].rotation_left_count,left_loss_30))\n",
    "display(\"The Mean of real gazes to the right was {}, compared to {} measured gazes. Which gives us a {} % loss rate\".format(df_all_30.loc[\"Total\"].gaze_right_count,df_all_30.loc[\"Total\"].rotation_right_count,right_loss_30))\n",
    "\n",
    "d = {'threshhold': [20,25,30], 'lossrate_left': [left_loss,left_loss_25,left_loss_30],'lossrate_right':[right_loss,right_loss_25,right_loss_30]}\n",
    "df_lossrates = pd.DataFrame(data=d)\n",
    "\n",
    "fig_duration = go.Figure()\n",
    "fig_duration.add_trace(go.Bar(x=df_lossrates.threshhold, y=df_lossrates.lossrate_left, showlegend=True, text=np.round(df_lossrates.lossrate_left,decimals = 0), name='Lossrate Left', marker_color= marking_red))\n",
    "fig_duration.add_trace(go.Bar(x=df_lossrates.threshhold, y=df_lossrates.lossrate_right, showlegend=True, text=np.round(df_lossrates.lossrate_right,decimals = 0), name='Lossrate Right', marker_color='#000000'))\n",
    "fig_duration.update_xaxes(showgrid=False)\n",
    "fig_duration.update_yaxes(showgrid=False, categoryorder=\"category descending\",\n",
    "                 ticksuffix=' ', showline=False)\n",
    "fig_duration.update_traces(hovertemplate=None)\n",
    "fig_duration.update_layout(\n",
    "#    title='Mean of Duration & Standingtimes per Situation (Seconds)(Field)',\n",
    "    margin=dict(t=80, b=0, l=70, r=40),\n",
    "    hovermode=\"y unified\", \n",
    "    xaxis_title='Threshhold', yaxis_title=\"Lossrate Percentage\",\n",
    "    font=dict(family=\"Lato, sans-serif\",size=14),\n",
    "    legend=dict(orientation=\"h\", yanchor=\"bottom\",y=1, xanchor=\"center\", x=0.5),\n",
    "    hoverlabel=dict(font_size=13, font_family=\"Lato, sans-serif\")\n",
    "    #paper_bgcolor='rgba(0,0,0,0)',\n",
    "    #plot_bgcolor='rgba(0,0,0,0)'\n",
    ")"
   ]
  }
 ],
 "metadata": {
  "kernelspec": {
   "display_name": "Python 3",
   "language": "python",
   "name": "python3"
  },
  "language_info": {
   "codemirror_mode": {
    "name": "ipython",
    "version": 3
   },
   "file_extension": ".py",
   "mimetype": "text/x-python",
   "name": "python",
   "nbconvert_exporter": "python",
   "pygments_lexer": "ipython3",
   "version": "3.11.1"
  },
  "orig_nbformat": 4,
  "vscode": {
   "interpreter": {
    "hash": "aee8b7b246df8f9039afb4144a1f6fd8d2ca17a180786b69acc140d282b71a49"
   }
  }
 },
 "nbformat": 4,
 "nbformat_minor": 2
}
