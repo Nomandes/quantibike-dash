{
 "cells": [
  {
   "cell_type": "markdown",
   "id": "c10d4467-ffd0-48d3-8a47-c5d3453f8760",
   "metadata": {},
   "source": [
    "# Realworld Study Dashboard"
   ]
  },
  {
   "cell_type": "markdown",
   "id": "0747b450-db09-4609-8c21-a3857c415025",
   "metadata": {
    "tags": []
   },
   "source": [
    "## Imports, Settings and Functions"
   ]
  },
  {
   "cell_type": "markdown",
   "id": "66d80ff3-5ef9-45eb-88d2-926d5c07ed8c",
   "metadata": {
    "jp-MarkdownHeadingCollapsed": true,
    "tags": []
   },
   "source": [
    "### Imports"
   ]
  },
  {
   "cell_type": "code",
   "execution_count": 5,
   "id": "9d42d3d4-37e7-42bc-9d96-52c035d49c5b",
   "metadata": {},
   "outputs": [],
   "source": [
    "import pandas as pd\n",
    "import numpy as np\n",
    "import plotly.express as px\n",
    "import plotly.graph_objects as go\n",
    "from jupyter_dash import JupyterDash\n",
    "from dash import dcc\n",
    "from dash import html\n",
    "from dash.dependencies import Input, Output\n",
    "import dash.dependencies\n",
    "import plotly.io as pio\n",
    "import math\n",
    "import pysrt\n",
    "from plotly.subplots import make_subplots\n",
    "from plotly.graph_objs import *\n",
    "from scipy.stats import spearmanr\n",
    "import json\n",
    "from datetime import datetime\n",
    "from pathlib import Path\n"
   ]
  },
  {
   "cell_type": "markdown",
   "id": "42a1a550-8dff-498f-bfe3-0bcef66ba0b0",
   "metadata": {},
   "source": [
    "### Settings"
   ]
  },
  {
   "cell_type": "code",
   "execution_count": 6,
   "id": "4a662e5b-4b82-4a14-9342-549829fb4640",
   "metadata": {},
   "outputs": [],
   "source": [
    "# Visuals\n",
    "pd.options.plotting.backend = \"plotly\"\n",
    "external_stylesheets = ['https://bootswatch.com/5/flatly/bootstrap.min.css']\n",
    "pio.templates.default = \"simple_white\" #seaborn plotly_dark\n",
    "\n",
    "#Colors\n",
    "COLOR_SIT_A_HEX = \"#7a5b7b\"\n",
    "COLOR_SIT_B_HEX = \"#f9dbbd\"\n",
    "COLOR_SIT_C_HEX = \"#fca17d\"\n",
    "COLOR_SIT_D_HEX = \"#68534d\"\n",
    "COLOR_SIT_E_HEX = \"#5b7b7a\"\n",
    "COLOR_SIT_X_HEX = \"#8f2d41\"\n",
    "marking_red = \"#961C26\"\n",
    "\n",
    "# No Background\n",
    "layout = Layout(\n",
    "    paper_bgcolor='rgba(0,0,0,0)',\n",
    "    plot_bgcolor='rgba(0,0,0,0)'\n",
    ")\n",
    "\n",
    "plot_width = 1024;\n",
    "plot_height = 768;\n",
    "\n",
    "layout = Layout(\n",
    "    paper_bgcolor='rgba(255,255,255,1)',\n",
    "    plot_bgcolor='rgba(0,0,0,0)'\n",
    ")\n",
    "\n",
    "# Headrotation interpretation Settings\n",
    "# ChunkSize defines how the mean value is build to handle the drift in rotation data. \n",
    "# 120 would build the mean over 120 log entries which results in chunks of 60 seconds\n",
    "chunkSize = 120\n",
    "# Rotation threshhold defines which degree has to be reached to count as rotation. \n",
    "# Every rotation which overcomes this value will be counted as headrotation\n",
    "rotation_threshhold = 20.0\n",
    "\n",
    "# Dash App\n",
    "app = JupyterDash(__name__, external_stylesheets=external_stylesheets)"
   ]
  },
  {
   "cell_type": "markdown",
   "id": "60b68b3a-e715-4ba8-95c8-84aa6fd3775b",
   "metadata": {},
   "source": [
    "### Functions"
   ]
  },
  {
   "cell_type": "code",
   "execution_count": 47,
   "id": "c60a0f0a-b746-4639-9bff-a98b44f6a536",
   "metadata": {},
   "outputs": [],
   "source": [
    "def include_euler_angles(df):\n",
    "    # Rotation Matrix Phone and Airpods\n",
    "    mRotPhone = []\n",
    "    mRotAir = []\n",
    "    for index, row in df.iterrows():\n",
    "        rotPhone_first = row[[\"phoneMotionData.rotationMatrix.m1.1\",\"phoneMotionData.rotationMatrix.m1.2\",\"phoneMotionData.rotationMatrix.m1.3\",]]\n",
    "        rotPhone_second = row[[\"phoneMotionData.rotationMatrix.m2.1\",\"phoneMotionData.rotationMatrix.m2.2\",\"phoneMotionData.rotationMatrix.m2.3\"]]\n",
    "        rotPhone_third =  row[[\"phoneMotionData.rotationMatrix.m3.1\",\"phoneMotionData.rotationMatrix.m3.2\",\"phoneMotionData.rotationMatrix.m3.3\"]]\n",
    "        rotPhone_nump = np.array([rotPhone_first.to_numpy(),rotPhone_second.to_numpy(),rotPhone_third.to_numpy()])\n",
    "        mRotPhone.append(rotPhone_nump)\n",
    "\n",
    "        rotAir_first = row[[\"airpodMotionData.rotationMatrix.m1.1\",\"airpodMotionData.rotationMatrix.m1.2\",\"airpodMotionData.rotationMatrix.m1.3\",]]\n",
    "        rotAir_second = row[[\"airpodMotionData.rotationMatrix.m2.1\",\"airpodMotionData.rotationMatrix.m2.2\",\"airpodMotionData.rotationMatrix.m2.3\"]]\n",
    "        rotAir_third =  row[[\"airpodMotionData.rotationMatrix.m3.1\",\"airpodMotionData.rotationMatrix.m3.2\",\"airpodMotionData.rotationMatrix.m3.3\"]]\n",
    "        rotAir_nump = np.array([rotAir_first.to_numpy(),rotAir_second.to_numpy(),rotAir_third.to_numpy()])\n",
    "        mRotAir.append(rotAir_nump)\n",
    "\n",
    "    # Relative Rotations\n",
    "    mRotRelatives = []\n",
    "    for index, rotPhone in enumerate(mRotPhone):\n",
    "        mRotRelatives.append(rotPhone.dot(mRotAir[index].transpose()))\n",
    "\n",
    "    # Yaw Values\n",
    "    relativeYaws = []\n",
    "    relativeRoll = []\n",
    "    relativePitch = []\n",
    "    for index, rotRelative in enumerate(mRotRelatives):\n",
    "        relativeYaws.append(math.atan2(rotRelative[0,1],rotRelative[0,0])) #Indexes shifted because starting at 0\n",
    "        relativeRoll.append(math.atan2(rotRelative[1,2],rotRelative[2,2])) #Indexes shifted because starting at 0\n",
    "        relativePitch.append(- math.asin(rotRelative[0,2]))                #Indexes shifted because starting at 0\n",
    "\n",
    "    #Convert Radians to Degree\n",
    "    realtiveYawsDegree = np.degrees(relativeYaws)\n",
    "    relativeRollDegree = np.degrees(relativeRoll)\n",
    "    relativePitchDegree = np.degrees(relativePitch)\n",
    "    \n",
    "    #import into frame\n",
    "    df[\"relativeYaw\"] = realtiveYawsDegree.tolist()\n",
    "    df[\"relativeRoll\"] = relativeRollDegree.tolist()\n",
    "    df[\"relativePitch\"] = relativePitchDegree.tolist()\n",
    "\n",
    "def read_data(url):\n",
    "    with open(url,'r') as f:\n",
    "        data = json.loads(f.read())\n",
    "    \n",
    "    #get infos and delete theme from json\n",
    "    #infos = data.pop(\"infos\")\n",
    "    #df[\"motionTimestampDiff\"] = df.apply(lambda x: x[\"airpodMotionData.timestamp\"] - x[\"phoneMotionData.timestamp\"],axis=1)\n",
    "\n",
    "    # normalize json to readable frame\n",
    "    df = pd.json_normalize(data,record_path=[\"timestamps\"])\n",
    "\n",
    "    # convert objects to floats\n",
    "    df = df.apply(pd.to_numeric, errors='coerce')\n",
    "\n",
    "    #set timestamp as index\n",
    "    df.set_index('timestamp',inplace=True)\n",
    "        \n",
    "    #Velocity m/s to km/h\n",
    "    if 'locationData.velocity' in df.columns:\n",
    "        df[\"locationData.velocity\"] = df[\"locationData.velocity\"].apply(lambda x: x * 3.6)\n",
    "    #calculate Headrotation\n",
    "    df[\"headRotY\"] = df.apply(lambda x: x[\"airpodMotionData.yaw\"] - x[\"phoneMotionData.yaw\"],axis=1)\n",
    "    df[\"headRotY\"] = np.degrees(df[\"headRotY\"]).tolist()\n",
    "    df[\"airpodsYawDegrees\"] = np.degrees(df[\"airpodMotionData.yaw\"]).tolist()\n",
    "    df[\"phoneYawDegrees\"] = np.degrees(df[\"phoneMotionData.yaw\"]).tolist()\n",
    "    \n",
    "    df[\"airpodsRollDegrees\"] = np.degrees(df[\"airpodMotionData.roll\"]).tolist()\n",
    "    df[\"phoneRollDegrees\"] = np.degrees(df[\"phoneMotionData.roll\"]).tolist()\n",
    "    \n",
    "    df[\"airpodsPitchDegrees\"] = np.degrees(df[\"airpodMotionData.pitch\"]).tolist()\n",
    "    df[\"phonePitchDegrees\"] = np.degrees(df[\"phoneMotionData.pitch\"]).tolist()\n",
    "    \n",
    "    include_euler_angles(df)\n",
    "    addMeanRotations(df)\n",
    "    addRotations(df)\n",
    "    \n",
    "    return df\n",
    "def read_srt(url):\n",
    "    subs = pysrt.open(url)\n",
    "    return subs\n",
    "def add_conditions(subject,fig,propertyName): #To-Do use times instead of iterating srts again\n",
    "    subs = srts[subject]\n",
    "    shapes = []\n",
    "    for sub in subs:\n",
    "        # If Log was writte before video, add the delay to the times to get correct times\n",
    "        if srt_delays[subject] < 0:\n",
    "            start = sub.start.minutes * 60 + sub.start.seconds + abs(srt_delays[subject])\n",
    "            end = sub.end.minutes * 60 + sub.end.seconds + abs(srt_delays[subject])\n",
    "        else:\n",
    "            start = sub.start.minutes * 60 + sub.start.seconds - abs(srt_delays[subject])\n",
    "            end = sub.end.minutes * 60 + sub.end.seconds - abs(srt_delays[subject])\n",
    "        #display(\"Condition lasted from {} to {}\".format(start,end))#\n",
    "        color = \"#FFFFFF\"\n",
    "        if \"Condition Start\" in sub.text:\n",
    "            color = COLOR_SIT_X_HEX\n",
    "        elif \"Condition X\" in sub.text:\n",
    "            color = COLOR_SIT_X_HEX\n",
    "        elif \"Condition A\" in sub.text:\n",
    "            color = COLOR_SIT_A_HEX\n",
    "        elif \"Condition B\" in sub.text:\n",
    "            color = COLOR_SIT_B_HEX\n",
    "        elif \"Condition C\" in sub.text:\n",
    "            color = COLOR_SIT_C_HEX\n",
    "        elif \"Condition D\" in sub.text:\n",
    "            color = COLOR_SIT_D_HEX\n",
    "        elif \"Condition E\" in sub.text:\n",
    "            color = COLOR_SIT_E_HEX\n",
    "        else:\n",
    "            color = COLOR_SIT_X_HEX\n",
    "        shapes.append({\n",
    "            'type': 'rect',\n",
    "#            xref: 'x',\n",
    "#            yref: 'paper',\n",
    "            'x0': start,\n",
    "            'y0': subjects[subject][propertyName].min(),\n",
    "            'x1': end,\n",
    "            'y1': subjects[subject][propertyName].max(),\n",
    "            'fillcolor': color,\n",
    "            'opacity': 0.5,\n",
    "            'line': {\n",
    "                'width': 0\n",
    "            }\n",
    "        })\n",
    "    fig.update_layout(shapes = shapes)\n",
    "def getTimes(subject):\n",
    "    subs = srts[subject]\n",
    "    situations = []\n",
    "    iterations = [0,0,0,0,0]\n",
    "    for sub in subs:\n",
    "        # If Log was writte before video, add the delay to the times to get correct times\n",
    "        if srt_delays[subject] < 0:\n",
    "            start = sub.start.minutes * 60 + sub.start.seconds + abs(srt_delays[subject])\n",
    "            end = sub.end.minutes * 60 + sub.end.seconds + abs(srt_delays[subject])\n",
    "        else:\n",
    "            start = sub.start.minutes * 60 + sub.start.seconds - abs(srt_delays[subject])\n",
    "            end = sub.end.minutes * 60 + sub.end.seconds - abs(srt_delays[subject])\n",
    "        #if \"Condition Start\" in sub.text:\n",
    "        #elif \"Condition X\" in sub.text:\n",
    "        #elif \"Condition D\" in sub.text:\n",
    "        condition = \"x\"\n",
    "        iteration = 0\n",
    "        if \"Condition A\" in sub.text:\n",
    "            iterations[0] += 1\n",
    "            iteration = iterations[0]\n",
    "            condition = \"a\"\n",
    "        elif \"Condition B\" in sub.text:\n",
    "            iterations[1] += 1\n",
    "            iteration = iterations[1]\n",
    "            condition = \"b\"\n",
    "        elif \"Condition C\" in sub.text:\n",
    "            iterations[2] += 1\n",
    "            iteration = iterations[2]\n",
    "            condition = \"c\"\n",
    "        elif \"Condition E\" in sub.text:\n",
    "            iterations[4] += 1\n",
    "            iteration = iterations[4]\n",
    "            condition = \"e\"\n",
    "        else:\n",
    "            continue\n",
    "        subjects[subject].loc[((subjects[subject].index >= start) & (subjects[subject].index <= end)),\"situation\"] = condition\n",
    "        result = subjects[subject].loc[((subjects[subject].index >= start) & (subjects[subject].index <= end))]\n",
    "        situations.append((condition,iteration,result.index[0],result.index[-1]))\n",
    "    return np.array(situations,dtype = ([('situation', 'U10'),('iteration', 'i4'), ('start_index', 'f4'),('end_index', 'f4')]))\n",
    "def extractSrtGazes(subject):\n",
    "    subs = gaze_srts[subject]\n",
    "    gaze_count = [0,0]\n",
    "    for sub in subs:\n",
    "        # If Log was writte before video, add the delay to the times to get correct times\n",
    "        if srt_delays[subject] < 0:\n",
    "            start = sub.start.minutes * 60 + sub.start.seconds + abs(srt_delays[subject])\n",
    "            end = sub.end.minutes * 60 + sub.end.seconds + abs(srt_delays[subject])\n",
    "        else:\n",
    "            start = sub.start.minutes * 60 + sub.start.seconds - abs(srt_delays[subject])\n",
    "            end = sub.end.minutes * 60 + sub.end.seconds - abs(srt_delays[subject])\n",
    "        if \"Gaze Right\" in sub.text:\n",
    "            gaze_count[1] += 1\n",
    "        elif \"Gaze Left\" in sub.text:\n",
    "            gaze_count[0] += 1\n",
    "        else:\n",
    "            continue\n",
    "        #subjects[subject].loc[((subjects[subject].index >= start) & (subjects[subject].index <= end)),\"situation\"] = condition\n",
    "        #result = subjects[subject].loc[((subjects[subject].index >= start) & (subjects[subject].index <= end))]\n",
    "    return gaze_count\n",
    "def get_meanDuration(times,situation):\n",
    "    durations = []\n",
    "    for iteration in times[times[\"situation\"] == situation]:\n",
    "        durations.append(iteration[\"end_index\"] - iteration[\"start_index\"])\n",
    "    return np.mean(durations)\n",
    "def get_sdDuration(times,situation):\n",
    "    durations = []\n",
    "    for iteration in times[times[\"situation\"] == situation]:\n",
    "        durations.append(iteration[\"end_index\"] - iteration[\"start_index\"])\n",
    "    return np.std(durations)\n",
    "def splitDf(listElement,df,chunksize):\n",
    "    df_1 = df.iloc[:chunksize,:]\n",
    "    df_2 = df.iloc[chunksize:,:]\n",
    "    listElement.append(df_1)\n",
    "    return df_2\n",
    "\n",
    "# Splits the df into chunks (size defined globally) and adds \"mean_rotation\" for the chunk,wich is the mean of the \"relativeYaw\"\n",
    "def addMeanRotations(df):\n",
    "    splittableDf = df\n",
    "    chunks = []\n",
    "\n",
    "    while len(splittableDf) > 0:\n",
    "        splittableDf = splitDf(chunks,splittableDf,60)\n",
    "\n",
    "    for chunk_df in chunks:\n",
    "        df.loc[chunk_df.iloc[0].name:chunk_df.iloc[-1].name,\"mean_rotation\"] = np.mean(chunk_df[\"relativeYaw\"])\n",
    "\n",
    "# adds two rows to the dataframe. rotations which indicates the rotation for each row, group_index which indicates to which look count the row is sorted (1 group = 1 look)\n",
    "def addRotations(df):\n",
    "\n",
    "    df[\"rotation\"] = \"x\"\n",
    "    #Every value which is above the mean_rotation + threshhold is a right headrotation, below its a left headrotation.\n",
    "    df.loc[(df[\"relativeYaw\"] - df[\"mean_rotation\"] > rotation_threshhold),\"rotation\"] = \"r\"\n",
    "    df.loc[(df[\"relativeYaw\"] - df[\"mean_rotation\"] < - rotation_threshhold),\"rotation\"] = \"l\"\n",
    "    df['group_index'] = (df['rotation'] != df['rotation'].shift()).cumsum()\n",
    "    \n",
    "#Returns the rotations for each situation for given subject\n",
    "def getRotations(subject,times):\n",
    "    rotations = {\n",
    "        \"a\" : [],\n",
    "        \"b\" : [],\n",
    "        \"c\" : [],\n",
    "        \"d\" : [],\n",
    "        \"e\" : []\n",
    "    }    \n",
    "    # For Each situaiton\n",
    "    for key,values in rotations.items():\n",
    "        # For each iteration of situation\n",
    "        for split_sit in times[times[\"situation\"] == key]:\n",
    "            # group by rotation\n",
    "            rot_groups = subjects[subject][split_sit[\"start_index\"]:split_sit[\"end_index\"]].groupby(['rotation'])[\"group_index\"]\n",
    "            # get unqiue groups to count amount\n",
    "            rots = subjects[subject][split_sit[\"start_index\"]:split_sit[\"end_index\"]].groupby(['rotation'])[\"group_index\"].nunique()\n",
    "            values.append((rots.get(\"l\" , 0),rots.get(\"r\" , 0)))\n",
    "    return rotations\n",
    "\n",
    "def getRotationCount(subject):\n",
    "    # group by rotation\n",
    "    rot_groups = subjects[subject].groupby(['rotation'])[\"group_index\"]\n",
    "    # get unqiue groups to count amount\n",
    "    rots = rot_groups.nunique()\n",
    "    display(rots)\n",
    "    return [rots.get(\"l\" , 0),rots.get(\"r\" , 0)]\n",
    "def getRotationDurations(subject,times):\n",
    "    situation_durations = []\n",
    "    # For every Situation...\n",
    "    for key in [\"a\",\"b\",\"c\",\"d\",\"e\"]:\n",
    "        #for every iteration of this situation\n",
    "        for index,split_sit in enumerate(times[times[\"situation\"] == key]):\n",
    "            #group by rotations\n",
    "            rot_groups = subjects[subject][split_sit[\"start_index\"]:split_sit[\"end_index\"]][[\"mean_rotation\",\"rotation\",\"relativeYaw\",\"group_index\"]]\n",
    "            rot_groups.groupby(['rotation'])\n",
    "\n",
    "            # for every found headrotation in iteration\n",
    "            for group in rot_groups[\"group_index\"].unique():\n",
    "                df_group = rot_groups.loc[rot_groups[\"group_index\"] == group]\n",
    "                #only proceed if rotation is annotated as left or right rotation\n",
    "                if 'l' in df_group[\"rotation\"].unique() or 'r' in df_group[\"rotation\"].unique():\n",
    "                    # Get first and last timestamp and calculate time (Note: Loggingrate was ever 500ms, so a length of 0 will be a real below 500ms rotation)\n",
    "                    startPoint = df_group.iloc[0]\n",
    "                    endPoint = df_group.iloc[-1]\n",
    "                    length = endPoint.name - startPoint.name\n",
    "                    #display(\"Found Length {} for Start {} and End {}\".format(length,startPoint.name,endPoint.name))\n",
    "                    #display(df_group)\n",
    "                    if 'l' in df_group[\"rotation\"].unique():\n",
    "                        situation_durations.append((key,index,\"left\",length))\n",
    "                    elif 'r' in df_group[\"rotation\"].unique():\n",
    "                        situation_durations.append((key,index,\"right\",length))\n",
    "    return np.array(situation_durations,dtype = ([('situation', 'U10'),('iteration', 'i4'),('direction', 'U10'), ('duration', 'f4')]))\n",
    "def getAngles(subject,times):\n",
    "    situation_angles = []\n",
    "    # For every Situation...\n",
    "    for key in [\"a\",\"b\",\"c\",\"d\",\"e\"]:\n",
    "        #for every iteration of this situation\n",
    "        for index,split_sit in enumerate(times[times[\"situation\"] == key]):\n",
    "            #group by rotations\n",
    "            rot_groups = subjects[subject][split_sit[\"start_index\"]:split_sit[\"end_index\"]][[\"mean_rotation\",\"rotation\",\"relativeYaw\",\"group_index\"]]\n",
    "            rot_groups.groupby(['rotation'])\n",
    "\n",
    "            # for every found headrotation in iteration\n",
    "            for group in rot_groups[\"group_index\"].unique():\n",
    "                df_group = rot_groups.loc[rot_groups[\"group_index\"] == group]\n",
    "                # left rotation\n",
    "                if 'l' in df_group[\"rotation\"].unique():\n",
    "                    #get index of lowest angle in group\n",
    "                    minIndex = df_group[\"relativeYaw\"].idxmin()\n",
    "                    #if (df_group.loc[minIndex][\"relativeYaw\"] - df_group.loc[minIndex][\"mean_rotation\"]) < -180:\n",
    "                        #display(\"Found huge angle from {} with mean {}\".format(df_group.loc[minIndex][\"relativeYaw\"],df_group.loc[minIndex][\"mean_rotation\"]))\n",
    "                        #continue\n",
    "                    situation_angles.append((key,index,\"left\",df_group.loc[minIndex][\"relativeYaw\"] - df_group.loc[minIndex][\"mean_rotation\"]))\n",
    "                #right rotation\n",
    "                elif 'r' in df_group[\"rotation\"].unique():\n",
    "                    #get index of highest angle in group\n",
    "                    maxIndex = df_group[\"relativeYaw\"].idxmax()\n",
    "                    #calculate angle in relation to mean rotation\n",
    "                    #if (df_group.loc[maxIndex][\"relativeYaw\"] - df_group.loc[maxIndex][\"mean_rotation\"]) > 180:\n",
    "                        #display(\"Found huge angle from {} with mean {}\".format(df_group.loc[maxIndex][\"relativeYaw\"],df_group.loc[maxIndex][\"mean_rotation\"]))\n",
    "                        #continue\n",
    "                    situation_angles.append((key,index,\"right\",df_group.loc[maxIndex][\"relativeYaw\"] - df_group.loc[maxIndex][\"mean_rotation\"]))\n",
    "    return np.array(situation_angles,dtype = ([('situation', 'U10'),('iteration', 'i4'),('direction', 'U10'), ('angle', 'f4')]))\n",
    "\n",
    "def getStandtimes(subject,times):\n",
    "    situation_stands = []\n",
    "    for situation in [\"a\",\"b\",\"c\",\"e\"]:\n",
    "        #for every iteration of this situation\n",
    "        for index,split_sit in enumerate(times[times[\"situation\"] == situation]):\n",
    "            df_timeslice = subjects[subject].loc[split_sit[\"start_index\"]:split_sit[\"end_index\"]][\"locationData.velocity\"]\n",
    "            group_index = (df_timeslice != df_timeslice.shift()).cumsum()\n",
    "            # for every found headrotation\n",
    "            standedInIteration = False\n",
    "            for stand_sit_group in group_index.unique():\n",
    "                df_sit = group_index.loc[group_index == stand_sit_group]\n",
    "                if df_timeslice[df_sit.index[0]] == 0.0:\n",
    "                    situation_stands.append((situation,index,df_sit.index[-1] - df_sit.index[0]))\n",
    "                    standedInIteration = True\n",
    "            if not standedInIteration:\n",
    "                # This iteration no one stand. Adding 0 to account for in mean calculations\n",
    "                situation_stands.append((situation,index,0.00))\n",
    "    return np.array(situation_stands,dtype = ([('situation', 'U10'),('iteration', 'i4'), ('seconds', 'f4')]))\n",
    "# builds sum over all iterations of one situation, returns mean of this sum\n",
    "def getMeanOfStandSituation(times,situation):\n",
    "    sit_times = times[times[\"situation\"] == situation]\n",
    "    sit_sums = []\n",
    "    for iteration in np.unique(sit_times[\"iteration\"]):\n",
    "        sit_sums.append(np.sum(sit_times[sit_times[\"iteration\"] == iteration][\"seconds\"]))\n",
    "    return np.mean(sit_sums)\n",
    "def getSdOfStandSituation(times,situation):\n",
    "    sit_times = times[times[\"situation\"] == situation]\n",
    "    sit_sums = []\n",
    "    for iteration in np.unique(sit_times[\"iteration\"]):\n",
    "        sit_sums.append(np.sum(sit_times[sit_times[\"iteration\"] == iteration][\"seconds\"]))\n",
    "    return np.std(sit_sums)\n",
    "def exportDataframeAsCsv(df,name):\n",
    "    now = datetime.now()\n",
    "    str_date_time = now.strftime(\"%d-%m-%Y_%H:%M:%S\")\n",
    "    filepath = Path('./exports/{}_{}.csv'.format(str_date_time,name)) \n",
    "    df.to_csv(filepath);"
   ]
  },
  {
   "cell_type": "markdown",
   "id": "72dbc470-1a22-4fa0-9b07-2fca0519b109",
   "metadata": {
    "tags": []
   },
   "source": [
    "## Data Read"
   ]
  },
  {
   "cell_type": "code",
   "execution_count": 8,
   "id": "d33cacbd-ef5e-4a57-a880-e7e7754a5fb1",
   "metadata": {},
   "outputs": [],
   "source": [
    "# Questionaire Data\n",
    "age = [24,26,22,23,25,28]\n",
    "#display(np.std(age))\n",
    "\n",
    "#difficulty,safety\n",
    "#5 = hard\n",
    "difficulty = {\n",
    "    \"a\" : [5,2,1,2,1,1,2,1],\n",
    "    \"b\" : [1,1,1,3,4,1,1,3],\n",
    "    \"c\" : [3,1,4,3,3,2,3,2],\n",
    "    \"d\" : [1,1,3,3,1,3,1,4],\n",
    "    \"e\" : [1,1,2,3,2,2,1,1]\n",
    "}\n",
    "safety = {\n",
    "    \"a\" : [3,5,4,4,4,4,5,5],\n",
    "    \"b\" : [4,5,5,4,2,5,5,4],\n",
    "    \"c\" : [4,4,2,3,3,3,5,5],\n",
    "    \"d\" : [5,5,4,4,4,4,5,2],\n",
    "    \"e\" : [5,5,4,3,3,4,5,5] \n",
    "}\n",
    "means = []\n",
    "iqrs = []\n",
    "for situation,values in difficulty.items():\n",
    "    means.append(np.mean(values))\n",
    "    q75, q25 = np.percentile(values, [75 ,25])\n",
    "    iqr = q75 - q25\n",
    "    iqrs.append(iqr)\n",
    "\n",
    "#5 = Safe, Flipped Data\n",
    "means = []\n",
    "iqrs = []\n",
    "for situation,values in safety.items():\n",
    "    means.append(np.mean(values))\n",
    "    q75, q25 = np.percentile(values, [75 ,25])\n",
    "    iqr = q75 - q25\n",
    "    iqrs.append(iqr)"
   ]
  },
  {
   "cell_type": "code",
   "execution_count": 9,
   "id": "71880a93-5fdc-490d-bf6e-85f2dee32661",
   "metadata": {},
   "outputs": [],
   "source": [
    "#Subjects\n",
    "df_subject1 = read_data(\"./logs/participants/2022-10-17 124155-logfile-subject-1.json\")\n",
    "df_subject2 = read_data(\"./logs/participants/2022-10-20 111557-logfile-subject-2.json\")\n",
    "#df_subject3 = read_data(\"./logs/participants/2022-10-25 124003-logfile-subject-3.json\")\n",
    "df_subject3_1 = read_data(\"./logs/participants/2022-11-04 113121-logfile-subject-3.1.json\")\n",
    "df_subject4 = read_data(\"./logs/participants/2022-10-25 142229-logfile-subject-4.json\")\n",
    "df_subject5 = read_data(\"./logs/participants/2022-10-27 165339-logfile-subject-5.json\")\n",
    "df_subject6 = read_data(\"./logs/participants/2022-10-28 101829-logfile-subject-6.json\")\n",
    "df_subject7 = read_data(\"./logs/participants/2022-10-28 154837-logfile-subject-7.json\")\n",
    "df_subject8 = read_data(\"./logs/participants/2022-11-04 122345-logfile-subject-8.json\")\n",
    "\n",
    "#SRTs\n",
    "srt_subject1 = read_srt(\"./logs/participants/srts/subs_participant_1.srt\")\n",
    "srt_subject2 = read_srt(\"./logs/participants/srts/subs_participant_2.srt\")\n",
    "srt_subject3 = read_srt(\"./logs/participants/srts/subs_participant_3.srt\")\n",
    "srt_subject4 = read_srt(\"./logs/participants/srts/subs_participant_4.srt\")\n",
    "srt_subject5 = read_srt(\"./logs/participants/srts/subs_participant_5.srt\")\n",
    "srt_subject6 = read_srt(\"./logs/participants/srts/subs_participant_6.srt\")\n",
    "srt_subject7 = read_srt(\"./logs/participants/srts/subs_participant_7.srt\")\n",
    "srt_subject8 = read_srt(\"./logs/participants/srts/subs_participant_8.srt\")\n",
    "\n",
    "#Gazes\n",
    "gaze_srt_subject1 = read_srt(\"./logs/participants/srts/gazes/gazes_p1.srt\")\n",
    "gaze_srt_subject2 = read_srt(\"./logs/participants/srts/gazes/gazes_p2.srt\")\n",
    "gaze_srt_subject3 = read_srt(\"./logs/participants/srts/gazes/gazes_p3.srt\")\n",
    "gaze_srt_subject4 = read_srt(\"./logs/participants/srts/gazes/gazes_p4.srt\")\n",
    "gaze_srt_subject5 = read_srt(\"./logs/participants/srts/gazes/gazes_p5.srt\")\n",
    "gaze_srt_subject6 = read_srt(\"./logs/participants/srts/gazes/gazes_p6.srt\")\n",
    "gaze_srt_subject7 = read_srt(\"./logs/participants/srts/gazes/gazes_p7.srt\")\n",
    "gaze_srt_subject8 = read_srt(\"./logs/participants/srts/gazes/gazes_p8.srt\")"
   ]
  },
  {
   "cell_type": "code",
   "execution_count": 10,
   "id": "2a386199-acad-411b-b8f0-c873b3486ad9",
   "metadata": {},
   "outputs": [],
   "source": [
    "# TO-DO: Streamline into one dictionary\n",
    "subjects = {\n",
    "    \"Subject 1\" : df_subject1,\n",
    "    \"Subject 2\" : df_subject2,\n",
    "    \"Subject 3\" : df_subject3_1,\n",
    "    \"Subject 4\" : df_subject4,\n",
    "    \"Subject 5\" : df_subject5,\n",
    "    \"Subject 6\" : df_subject6,\n",
    "    \"Subject 7\" : df_subject7,\n",
    "    \"Subject 8\" : df_subject8\n",
    "}\n",
    "srts = {\n",
    "    \"Subject 1\" : srt_subject1,\n",
    "    \"Subject 2\" : srt_subject2,\n",
    "    \"Subject 3\" : srt_subject3,\n",
    "    \"Subject 4\" : srt_subject4,\n",
    "    \"Subject 5\" : srt_subject5,\n",
    "    \"Subject 6\" : srt_subject6,\n",
    "    \"Subject 7\" : srt_subject7,\n",
    "    \"Subject 8\" : srt_subject8\n",
    "}\n",
    "gaze_srts = {\n",
    "    \"Subject 1\" : gaze_srt_subject1,\n",
    "    \"Subject 2\" : gaze_srt_subject2,\n",
    "    \"Subject 3\" : gaze_srt_subject3,\n",
    "    \"Subject 4\" : gaze_srt_subject4,\n",
    "    \"Subject 5\" : gaze_srt_subject5,\n",
    "    \"Subject 6\" : gaze_srt_subject6,\n",
    "    \"Subject 7\" : gaze_srt_subject7,\n",
    "    \"Subject 8\" : gaze_srt_subject8\n",
    "}\n",
    "# If negative, the app was running before the camera. Little inconsistency in the study design \n",
    "srt_delays = {\n",
    "    \"Subject 1\" : - 8.0,\n",
    "    \"Subject 2\" : - 29.0,\n",
    "    \"Subject 3\" : 12.0 ,\n",
    "    \"Subject 4\" : -10.0,\n",
    "    \"Subject 5\" : 9.0,\n",
    "    \"Subject 6\" : -32.0,\n",
    "    \"Subject 7\" : 490.0,\n",
    "    \"Subject 8\" : 14.0\n",
    "}\n",
    "#[difficulty,safety]\n",
    "subjects_perceived = {\n",
    "    \"Subject 1\" : [[5,1,3,1,1],[3,4,4,5,5]],\n",
    "    \"Subject 2\" : [[2,1,1,1,1],[5,5,4,5,5]],\n",
    "    \"Subject 3\" : [[1,1,4,3,2],[4,5,2,4,4]],\n",
    "    \"Subject 4\" : [[2,3,3,3,3],[4,4,3,4,3]],\n",
    "    \"Subject 5\" : [[1,4,3,1,2],[4,2,3,4,3]],\n",
    "    \"Subject 6\" : [[1,1,2,3,2],[4,5,3,4,4]],\n",
    "    \"Subject 7\" : [[2,1,3,1,1],[5,5,5,5,5]],\n",
    "    \"Subject 8\" : [[1,3,2,4,1],[5,4,5,2,5]]\n",
    "}\n",
    "\n",
    "# Adding rotations where mean_rotation + threshhold as a identifier field to the dataframes\n",
    "for df in subjects.values():\n",
    "    addRotations(df)\n",
    "\n",
    "# Labels for the plots\n",
    "available_data_labels = list(subjects.keys())"
   ]
  },
  {
   "cell_type": "code",
   "execution_count": 49,
   "id": "74df92e1-afdf-4d50-afb8-ef8d7e012179",
   "metadata": {},
   "outputs": [
    {
     "data": {
      "text/plain": [
       "rotation\n",
       "l    214\n",
       "r    161\n",
       "x    266\n",
       "Name: group_index, dtype: int64"
      ]
     },
     "metadata": {},
     "output_type": "display_data"
    },
    {
     "name": "stderr",
     "output_type": "stream",
     "text": [
      "/Library/Frameworks/Python.framework/Versions/3.11/lib/python3.11/site-packages/numpy/core/fromnumeric.py:3464: RuntimeWarning:\n",
      "\n",
      "Mean of empty slice.\n",
      "\n",
      "/Library/Frameworks/Python.framework/Versions/3.11/lib/python3.11/site-packages/numpy/core/_methods.py:192: RuntimeWarning:\n",
      "\n",
      "invalid value encountered in scalar divide\n",
      "\n",
      "/var/folders/dq/2dn0y4q57nzg9w8bsvw5zv800000gn/T/ipykernel_1463/3046312988.py:34: RuntimeWarning:\n",
      "\n",
      "invalid value encountered in scalar divide\n",
      "\n",
      "/var/folders/dq/2dn0y4q57nzg9w8bsvw5zv800000gn/T/ipykernel_1463/3046312988.py:39: RuntimeWarning:\n",
      "\n",
      "invalid value encountered in scalar divide\n",
      "\n",
      "/Library/Frameworks/Python.framework/Versions/3.11/lib/python3.11/site-packages/numpy/core/_methods.py:192: RuntimeWarning:\n",
      "\n",
      "invalid value encountered in divide\n",
      "\n"
     ]
    },
    {
     "data": {
      "text/plain": [
       "rotation\n",
       "l     99\n",
       "r     76\n",
       "x    147\n",
       "Name: group_index, dtype: int64"
      ]
     },
     "metadata": {},
     "output_type": "display_data"
    },
    {
     "name": "stderr",
     "output_type": "stream",
     "text": [
      "/Library/Frameworks/Python.framework/Versions/3.11/lib/python3.11/site-packages/numpy/core/fromnumeric.py:3464: RuntimeWarning:\n",
      "\n",
      "Mean of empty slice.\n",
      "\n",
      "/Library/Frameworks/Python.framework/Versions/3.11/lib/python3.11/site-packages/numpy/core/_methods.py:192: RuntimeWarning:\n",
      "\n",
      "invalid value encountered in scalar divide\n",
      "\n",
      "/var/folders/dq/2dn0y4q57nzg9w8bsvw5zv800000gn/T/ipykernel_1463/3046312988.py:34: RuntimeWarning:\n",
      "\n",
      "invalid value encountered in scalar divide\n",
      "\n",
      "/var/folders/dq/2dn0y4q57nzg9w8bsvw5zv800000gn/T/ipykernel_1463/3046312988.py:39: RuntimeWarning:\n",
      "\n",
      "invalid value encountered in scalar divide\n",
      "\n",
      "/Library/Frameworks/Python.framework/Versions/3.11/lib/python3.11/site-packages/numpy/core/_methods.py:192: RuntimeWarning:\n",
      "\n",
      "invalid value encountered in divide\n",
      "\n"
     ]
    },
    {
     "data": {
      "text/plain": [
       "rotation\n",
       "l     72\n",
       "r     51\n",
       "x    104\n",
       "Name: group_index, dtype: int64"
      ]
     },
     "metadata": {},
     "output_type": "display_data"
    },
    {
     "name": "stderr",
     "output_type": "stream",
     "text": [
      "/Library/Frameworks/Python.framework/Versions/3.11/lib/python3.11/site-packages/numpy/core/fromnumeric.py:3464: RuntimeWarning:\n",
      "\n",
      "Mean of empty slice.\n",
      "\n",
      "/Library/Frameworks/Python.framework/Versions/3.11/lib/python3.11/site-packages/numpy/core/_methods.py:192: RuntimeWarning:\n",
      "\n",
      "invalid value encountered in scalar divide\n",
      "\n",
      "/var/folders/dq/2dn0y4q57nzg9w8bsvw5zv800000gn/T/ipykernel_1463/3046312988.py:34: RuntimeWarning:\n",
      "\n",
      "invalid value encountered in scalar divide\n",
      "\n",
      "/var/folders/dq/2dn0y4q57nzg9w8bsvw5zv800000gn/T/ipykernel_1463/3046312988.py:39: RuntimeWarning:\n",
      "\n",
      "invalid value encountered in scalar divide\n",
      "\n",
      "/Library/Frameworks/Python.framework/Versions/3.11/lib/python3.11/site-packages/numpy/core/_methods.py:192: RuntimeWarning:\n",
      "\n",
      "invalid value encountered in divide\n",
      "\n"
     ]
    },
    {
     "data": {
      "text/plain": [
       "rotation\n",
       "l    169\n",
       "r    130\n",
       "x    248\n",
       "Name: group_index, dtype: int64"
      ]
     },
     "metadata": {},
     "output_type": "display_data"
    },
    {
     "name": "stderr",
     "output_type": "stream",
     "text": [
      "/Library/Frameworks/Python.framework/Versions/3.11/lib/python3.11/site-packages/numpy/core/fromnumeric.py:3464: RuntimeWarning:\n",
      "\n",
      "Mean of empty slice.\n",
      "\n",
      "/Library/Frameworks/Python.framework/Versions/3.11/lib/python3.11/site-packages/numpy/core/_methods.py:192: RuntimeWarning:\n",
      "\n",
      "invalid value encountered in scalar divide\n",
      "\n",
      "/var/folders/dq/2dn0y4q57nzg9w8bsvw5zv800000gn/T/ipykernel_1463/3046312988.py:34: RuntimeWarning:\n",
      "\n",
      "invalid value encountered in scalar divide\n",
      "\n",
      "/var/folders/dq/2dn0y4q57nzg9w8bsvw5zv800000gn/T/ipykernel_1463/3046312988.py:39: RuntimeWarning:\n",
      "\n",
      "invalid value encountered in scalar divide\n",
      "\n",
      "/Library/Frameworks/Python.framework/Versions/3.11/lib/python3.11/site-packages/numpy/core/_methods.py:192: RuntimeWarning:\n",
      "\n",
      "invalid value encountered in divide\n",
      "\n"
     ]
    },
    {
     "data": {
      "text/plain": [
       "rotation\n",
       "l    148\n",
       "r    159\n",
       "x    256\n",
       "Name: group_index, dtype: int64"
      ]
     },
     "metadata": {},
     "output_type": "display_data"
    },
    {
     "name": "stderr",
     "output_type": "stream",
     "text": [
      "/Library/Frameworks/Python.framework/Versions/3.11/lib/python3.11/site-packages/numpy/core/fromnumeric.py:3464: RuntimeWarning:\n",
      "\n",
      "Mean of empty slice.\n",
      "\n",
      "/Library/Frameworks/Python.framework/Versions/3.11/lib/python3.11/site-packages/numpy/core/_methods.py:192: RuntimeWarning:\n",
      "\n",
      "invalid value encountered in scalar divide\n",
      "\n",
      "/var/folders/dq/2dn0y4q57nzg9w8bsvw5zv800000gn/T/ipykernel_1463/3046312988.py:34: RuntimeWarning:\n",
      "\n",
      "invalid value encountered in scalar divide\n",
      "\n",
      "/var/folders/dq/2dn0y4q57nzg9w8bsvw5zv800000gn/T/ipykernel_1463/3046312988.py:39: RuntimeWarning:\n",
      "\n",
      "invalid value encountered in scalar divide\n",
      "\n",
      "/Library/Frameworks/Python.framework/Versions/3.11/lib/python3.11/site-packages/numpy/core/_methods.py:192: RuntimeWarning:\n",
      "\n",
      "invalid value encountered in divide\n",
      "\n"
     ]
    },
    {
     "data": {
      "text/plain": [
       "rotation\n",
       "l     90\n",
       "r     84\n",
       "x    130\n",
       "Name: group_index, dtype: int64"
      ]
     },
     "metadata": {},
     "output_type": "display_data"
    },
    {
     "name": "stderr",
     "output_type": "stream",
     "text": [
      "/Library/Frameworks/Python.framework/Versions/3.11/lib/python3.11/site-packages/numpy/core/fromnumeric.py:3464: RuntimeWarning:\n",
      "\n",
      "Mean of empty slice.\n",
      "\n",
      "/Library/Frameworks/Python.framework/Versions/3.11/lib/python3.11/site-packages/numpy/core/_methods.py:192: RuntimeWarning:\n",
      "\n",
      "invalid value encountered in scalar divide\n",
      "\n",
      "/var/folders/dq/2dn0y4q57nzg9w8bsvw5zv800000gn/T/ipykernel_1463/3046312988.py:34: RuntimeWarning:\n",
      "\n",
      "invalid value encountered in scalar divide\n",
      "\n",
      "/var/folders/dq/2dn0y4q57nzg9w8bsvw5zv800000gn/T/ipykernel_1463/3046312988.py:39: RuntimeWarning:\n",
      "\n",
      "invalid value encountered in scalar divide\n",
      "\n",
      "/Library/Frameworks/Python.framework/Versions/3.11/lib/python3.11/site-packages/numpy/core/_methods.py:192: RuntimeWarning:\n",
      "\n",
      "invalid value encountered in divide\n",
      "\n"
     ]
    },
    {
     "data": {
      "text/plain": [
       "rotation\n",
       "l    206\n",
       "r    129\n",
       "x    286\n",
       "Name: group_index, dtype: int64"
      ]
     },
     "metadata": {},
     "output_type": "display_data"
    },
    {
     "name": "stderr",
     "output_type": "stream",
     "text": [
      "/Library/Frameworks/Python.framework/Versions/3.11/lib/python3.11/site-packages/numpy/core/fromnumeric.py:3464: RuntimeWarning:\n",
      "\n",
      "Mean of empty slice.\n",
      "\n",
      "/Library/Frameworks/Python.framework/Versions/3.11/lib/python3.11/site-packages/numpy/core/_methods.py:192: RuntimeWarning:\n",
      "\n",
      "invalid value encountered in scalar divide\n",
      "\n",
      "/var/folders/dq/2dn0y4q57nzg9w8bsvw5zv800000gn/T/ipykernel_1463/3046312988.py:34: RuntimeWarning:\n",
      "\n",
      "invalid value encountered in scalar divide\n",
      "\n",
      "/var/folders/dq/2dn0y4q57nzg9w8bsvw5zv800000gn/T/ipykernel_1463/3046312988.py:39: RuntimeWarning:\n",
      "\n",
      "invalid value encountered in scalar divide\n",
      "\n",
      "/Library/Frameworks/Python.framework/Versions/3.11/lib/python3.11/site-packages/numpy/core/_methods.py:192: RuntimeWarning:\n",
      "\n",
      "invalid value encountered in divide\n",
      "\n"
     ]
    },
    {
     "data": {
      "text/plain": [
       "rotation\n",
       "l    116\n",
       "r     84\n",
       "x    182\n",
       "Name: group_index, dtype: int64"
      ]
     },
     "metadata": {},
     "output_type": "display_data"
    },
    {
     "name": "stderr",
     "output_type": "stream",
     "text": [
      "/Library/Frameworks/Python.framework/Versions/3.11/lib/python3.11/site-packages/numpy/core/fromnumeric.py:3464: RuntimeWarning:\n",
      "\n",
      "Mean of empty slice.\n",
      "\n",
      "/Library/Frameworks/Python.framework/Versions/3.11/lib/python3.11/site-packages/numpy/core/_methods.py:192: RuntimeWarning:\n",
      "\n",
      "invalid value encountered in scalar divide\n",
      "\n",
      "/var/folders/dq/2dn0y4q57nzg9w8bsvw5zv800000gn/T/ipykernel_1463/3046312988.py:34: RuntimeWarning:\n",
      "\n",
      "invalid value encountered in scalar divide\n",
      "\n",
      "/var/folders/dq/2dn0y4q57nzg9w8bsvw5zv800000gn/T/ipykernel_1463/3046312988.py:39: RuntimeWarning:\n",
      "\n",
      "invalid value encountered in scalar divide\n",
      "\n",
      "/Library/Frameworks/Python.framework/Versions/3.11/lib/python3.11/site-packages/numpy/core/_methods.py:192: RuntimeWarning:\n",
      "\n",
      "invalid value encountered in divide\n",
      "\n"
     ]
    }
   ],
   "source": [
    "# Get mean values per subject, per situation\n",
    "data = []\n",
    "for key,value in subjects.items():\n",
    "    times = getTimes(key)\n",
    "    real_gazes = extractSrtGazes(key)\n",
    "    rotation_count = getRotationCount(key)\n",
    "    rotations = getRotations(key,times)\n",
    "    rotation_duration = getRotationDurations(key,times)\n",
    "    standtimes = getStandtimes(key,times)\n",
    "    angles = getAngles(key,times)\n",
    "    left_angles = angles[(angles[\"situation\"] == key) & (angles[\"direction\"] == \"left\")][\"angle\"]\n",
    "    right_angles = angles[(angles[\"situation\"] == key) & (angles[\"direction\"] == \"right\")][\"angle\"]\n",
    "    data.append([\n",
    "        key,\n",
    "        value[\"relativeYaw\"].mean(axis=0),\n",
    "        value[\"locationData.velocity\"].mean(axis=0),\n",
    "        value.index[-1],\n",
    "        real_gazes[0],\n",
    "        real_gazes[1],\n",
    "        rotation_count[0],\n",
    "        rotation_count[1],\n",
    "        get_meanDuration(times,\"a\"),\n",
    "        get_meanDuration(times,\"b\"),\n",
    "        get_meanDuration(times,\"c\"),\n",
    "        0,\n",
    "        get_meanDuration(times,\"e\"),\n",
    "        getMeanOfStandSituation(standtimes,\"a\"),\n",
    "        getMeanOfStandSituation(standtimes,\"b\"),\n",
    "        getMeanOfStandSituation(standtimes,\"c\"),\n",
    "        0,\n",
    "        getMeanOfStandSituation(standtimes,\"e\"),\n",
    "        #Rotations have to be divided by the iterations. We need amount\n",
    "        np.sum([i[0] for i in rotations[\"a\"]]) / len(rotations[\"a\"]),\n",
    "        np.sum([i[0] for i in rotations[\"b\"]]) / len(rotations[\"b\"]),\n",
    "        np.sum([i[0] for i in rotations[\"c\"]]) / len(rotations[\"c\"]),\n",
    "        0,\n",
    "        np.sum([i[0] for i in rotations[\"e\"]]) / len(rotations[\"e\"]),\n",
    "        np.sum([i[1] for i in rotations[\"a\"]]) / len(rotations[\"a\"]),\n",
    "        np.sum([i[1] for i in rotations[\"b\"]]) / len(rotations[\"b\"]),\n",
    "        np.sum([i[1] for i in rotations[\"c\"]]) / len(rotations[\"c\"]),\n",
    "        0,\n",
    "        np.sum([i[1] for i in rotations[\"e\"]]) / len(rotations[\"e\"]),\n",
    "        np.mean(angles[(angles[\"situation\"] == \"a\") & (angles[\"direction\"] == \"left\")][\"angle\"]),\n",
    "        np.mean(angles[(angles[\"situation\"] == \"b\") & (angles[\"direction\"] == \"left\")][\"angle\"]),\n",
    "        np.mean(angles[(angles[\"situation\"] == \"c\") & (angles[\"direction\"] == \"left\")][\"angle\"]),\n",
    "        0,\n",
    "        np.mean(angles[(angles[\"situation\"] == \"e\") & (angles[\"direction\"] == \"left\")][\"angle\"]),\n",
    "        np.mean(angles[(angles[\"situation\"] == \"a\") & (angles[\"direction\"] == \"right\")][\"angle\"]),\n",
    "        np.mean(angles[(angles[\"situation\"] == \"b\") & (angles[\"direction\"] == \"right\")][\"angle\"]),\n",
    "        np.mean(angles[(angles[\"situation\"] == \"c\") & (angles[\"direction\"] == \"right\")][\"angle\"]),\n",
    "        0,\n",
    "        np.mean(angles[(angles[\"situation\"] == \"e\") & (angles[\"direction\"] == \"right\")][\"angle\"]),\n",
    "        np.mean(rotation_duration[(rotation_duration[\"situation\"] == \"a\") & (rotation_duration[\"direction\"] == \"left\")][\"duration\"]),\n",
    "        np.mean(rotation_duration[(rotation_duration[\"situation\"] == \"b\") & (rotation_duration[\"direction\"] == \"left\")][\"duration\"]),\n",
    "        np.mean(rotation_duration[(rotation_duration[\"situation\"] == \"c\") & (rotation_duration[\"direction\"] == \"left\")][\"duration\"]),\n",
    "        0,\n",
    "        np.mean(rotation_duration[(rotation_duration[\"situation\"] == \"e\") & (rotation_duration[\"direction\"] == \"left\")][\"duration\"]),\n",
    "        np.mean(rotation_duration[(rotation_duration[\"situation\"] == \"a\") & (rotation_duration[\"direction\"] == \"right\")][\"duration\"]),\n",
    "        np.mean(rotation_duration[(rotation_duration[\"situation\"] == \"b\") & (rotation_duration[\"direction\"] == \"right\")][\"duration\"]),\n",
    "        np.mean(rotation_duration[(rotation_duration[\"situation\"] == \"c\") & (rotation_duration[\"direction\"] == \"right\")][\"duration\"]),\n",
    "        0,\n",
    "        np.mean(rotation_duration[(rotation_duration[\"situation\"] == \"e\") & (rotation_duration[\"direction\"] == \"right\")][\"duration\"]),\n",
    "        #safety\n",
    "        subjects_perceived[key][1][0],\n",
    "        subjects_perceived[key][1][1],\n",
    "        subjects_perceived[key][1][2],\n",
    "        subjects_perceived[key][1][3],\n",
    "        subjects_perceived[key][1][4],\n",
    "        #difficulty\n",
    "        subjects_perceived[key][0][0],\n",
    "        subjects_perceived[key][0][1],\n",
    "        subjects_perceived[key][0][2],\n",
    "        subjects_perceived[key][0][3],\n",
    "        subjects_perceived[key][0][4]\n",
    "    ])\n",
    "df_all = pd.DataFrame(data, columns=[\n",
    "    'subject', \n",
    "    'mean_rotation',\n",
    "    'mean_speed',\n",
    "    \"duration\",\n",
    "    \"gaze_left_count\", #real gazes, manually marked in video\n",
    "    \"gaze_right_count\",\n",
    "    \"rotation_left_count\", #measured rotations\n",
    "    \"rotation_right_count\",\n",
    "    'sit_a_duration',\n",
    "    'sit_b_duration',\n",
    "    'sit_c_duration',\n",
    "    'sit_d_duration',\n",
    "    'sit_e_duration',\n",
    "    'sit_a_standtime',\n",
    "    'sit_b_standtime',\n",
    "    'sit_c_standtime',\n",
    "    'sit_d_standtime',\n",
    "    'sit_e_standtime',\n",
    "    'sit_a_left_rotations',\n",
    "    'sit_b_left_rotations',\n",
    "    'sit_c_left_rotations',\n",
    "    'sit_d_left_rotations',\n",
    "    'sit_e_left_rotations',\n",
    "    'sit_a_right_rotations',\n",
    "    'sit_b_right_rotations',\n",
    "    'sit_c_right_rotations',\n",
    "    'sit_d_right_rotations',\n",
    "    'sit_e_right_rotations',\n",
    "    'sit_a_left_angle',\n",
    "    'sit_b_left_angle',\n",
    "    'sit_c_left_angle',\n",
    "    'sit_d_left_angle',\n",
    "    'sit_e_left_angle',\n",
    "    'sit_a_right_angle',\n",
    "    'sit_b_right_angle',\n",
    "    'sit_c_right_angle',\n",
    "    'sit_d_right_angle',\n",
    "    'sit_e_right_angle',\n",
    "    'sit_a_left_duration',\n",
    "    'sit_b_left_duration',\n",
    "    'sit_c_left_duration',\n",
    "    'sit_d_left_duration',\n",
    "    'sit_e_left_duration',\n",
    "    'sit_a_right_duration',\n",
    "    'sit_b_right_duration',\n",
    "    'sit_c_right_duration',\n",
    "    'sit_d_right_duration',\n",
    "    'sit_e_right_duration',\n",
    "    \"sit_a_safety\",\n",
    "    \"sit_b_safety\",\n",
    "    \"sit_c_safety\",\n",
    "    \"sit_d_safety\",\n",
    "    \"sit_e_safety\",\n",
    "    \"sit_a_difficulty\",\n",
    "    \"sit_b_difficulty\",\n",
    "    \"sit_c_difficulty\",\n",
    "    \"sit_d_difficulty\",\n",
    "    \"sit_e_difficulty\"\n",
    "])\n",
    "df_all.loc['Total'] = df_all.mean(numeric_only=True)\n",
    "#df_all.loc['SD'] = df_all.std(numeric_only=True)"
   ]
  },
  {
   "cell_type": "code",
   "execution_count": 12,
   "id": "7ba6ace0",
   "metadata": {},
   "outputs": [],
   "source": [
    "#exportDataframeAsCsv(df_all,\"field_subjects\")"
   ]
  },
  {
   "cell_type": "code",
   "execution_count": 13,
   "id": "d7b09f93-8db9-43f7-89f7-5c38d790e86a",
   "metadata": {},
   "outputs": [
    {
     "name": "stderr",
     "output_type": "stream",
     "text": [
      "/Library/Frameworks/Python.framework/Versions/3.11/lib/python3.11/site-packages/numpy/core/fromnumeric.py:3464: RuntimeWarning: Mean of empty slice.\n",
      "  return _methods._mean(a, axis=axis, dtype=dtype,\n",
      "/Library/Frameworks/Python.framework/Versions/3.11/lib/python3.11/site-packages/numpy/core/_methods.py:192: RuntimeWarning: invalid value encountered in scalar divide\n",
      "  ret = ret.dtype.type(ret / rcount)\n",
      "/Library/Frameworks/Python.framework/Versions/3.11/lib/python3.11/site-packages/numpy/core/fromnumeric.py:3464: RuntimeWarning: Mean of empty slice.\n",
      "  return _methods._mean(a, axis=axis, dtype=dtype,\n",
      "/Library/Frameworks/Python.framework/Versions/3.11/lib/python3.11/site-packages/numpy/core/_methods.py:192: RuntimeWarning: invalid value encountered in scalar divide\n",
      "  ret = ret.dtype.type(ret / rcount)\n",
      "/Library/Frameworks/Python.framework/Versions/3.11/lib/python3.11/site-packages/numpy/core/fromnumeric.py:3464: RuntimeWarning: Mean of empty slice.\n",
      "  return _methods._mean(a, axis=axis, dtype=dtype,\n",
      "/Library/Frameworks/Python.framework/Versions/3.11/lib/python3.11/site-packages/numpy/core/_methods.py:192: RuntimeWarning: invalid value encountered in scalar divide\n",
      "  ret = ret.dtype.type(ret / rcount)\n",
      "/Library/Frameworks/Python.framework/Versions/3.11/lib/python3.11/site-packages/numpy/core/fromnumeric.py:3464: RuntimeWarning: Mean of empty slice.\n",
      "  return _methods._mean(a, axis=axis, dtype=dtype,\n",
      "/Library/Frameworks/Python.framework/Versions/3.11/lib/python3.11/site-packages/numpy/core/_methods.py:192: RuntimeWarning: invalid value encountered in scalar divide\n",
      "  ret = ret.dtype.type(ret / rcount)\n",
      "/Library/Frameworks/Python.framework/Versions/3.11/lib/python3.11/site-packages/numpy/core/fromnumeric.py:3464: RuntimeWarning: Mean of empty slice.\n",
      "  return _methods._mean(a, axis=axis, dtype=dtype,\n",
      "/Library/Frameworks/Python.framework/Versions/3.11/lib/python3.11/site-packages/numpy/core/_methods.py:192: RuntimeWarning: invalid value encountered in scalar divide\n",
      "  ret = ret.dtype.type(ret / rcount)\n",
      "/Library/Frameworks/Python.framework/Versions/3.11/lib/python3.11/site-packages/numpy/core/fromnumeric.py:3464: RuntimeWarning: Mean of empty slice.\n",
      "  return _methods._mean(a, axis=axis, dtype=dtype,\n",
      "/Library/Frameworks/Python.framework/Versions/3.11/lib/python3.11/site-packages/numpy/core/_methods.py:192: RuntimeWarning: invalid value encountered in scalar divide\n",
      "  ret = ret.dtype.type(ret / rcount)\n",
      "/Library/Frameworks/Python.framework/Versions/3.11/lib/python3.11/site-packages/numpy/core/fromnumeric.py:3464: RuntimeWarning: Mean of empty slice.\n",
      "  return _methods._mean(a, axis=axis, dtype=dtype,\n",
      "/Library/Frameworks/Python.framework/Versions/3.11/lib/python3.11/site-packages/numpy/core/_methods.py:192: RuntimeWarning: invalid value encountered in scalar divide\n",
      "  ret = ret.dtype.type(ret / rcount)\n",
      "/Library/Frameworks/Python.framework/Versions/3.11/lib/python3.11/site-packages/numpy/core/fromnumeric.py:3464: RuntimeWarning: Mean of empty slice.\n",
      "  return _methods._mean(a, axis=axis, dtype=dtype,\n",
      "/Library/Frameworks/Python.framework/Versions/3.11/lib/python3.11/site-packages/numpy/core/_methods.py:192: RuntimeWarning: invalid value encountered in scalar divide\n",
      "  ret = ret.dtype.type(ret / rcount)\n"
     ]
    }
   ],
   "source": [
    "#Correlations\n",
    "#TO-DOs: Find Empty Slice producer and prevent mean value from empty values\n",
    "data = []\n",
    "for key,value in subjects.items():\n",
    "    times = getTimes(key)\n",
    "    rotations = getRotations(key,times)\n",
    "    standtimes = getStandtimes(key,times)\n",
    "    angles = getAngles(key,times)\n",
    "    left_angles = angles[(angles[\"situation\"] == key) & (angles[\"direction\"] == \"left\")][\"angle\"]\n",
    "    right_angles = angles[(angles[\"situation\"] == key) & (angles[\"direction\"] == \"right\")][\"angle\"]\n",
    "    data.append([\n",
    "        key,\n",
    "        value[\"relativeYaw\"].mean(axis=0),\n",
    "        value[\"locationData.velocity\"].mean(axis=0),\n",
    "        value.index[-1],\n",
    "        get_meanDuration(times,\"a\"),\n",
    "        get_meanDuration(times,\"b\"),\n",
    "       get_meanDuration(times,\"c\"),\n",
    "        0,\n",
    "        get_meanDuration(times,\"e\"),\n",
    "        getMeanOfStandSituation(standtimes,\"a\"),\n",
    "        getMeanOfStandSituation(standtimes,\"b\"),\n",
    "        getMeanOfStandSituation(standtimes,\"c\"),\n",
    "        0,\n",
    "        getMeanOfStandSituation(standtimes,\"e\"),\n",
    "        #Rotations have to be divided by the iterations. We need amount\n",
    "        [i[0] for i in rotations[\"a\"]],\n",
    "        [i[0] for i in rotations[\"b\"]],\n",
    "        [i[0] for i in rotations[\"c\"]],\n",
    "        0,\n",
    "        [i[0] for i in rotations[\"e\"]],\n",
    "        [i[1] for i in rotations[\"a\"]],\n",
    "        [i[1] for i in rotations[\"b\"]],\n",
    "        [i[1] for i in rotations[\"c\"]],\n",
    "        0,\n",
    "        [i[1] for i in rotations[\"e\"]],\n",
    "        angles[(angles[\"situation\"] == \"a\") & (angles[\"direction\"] == \"left\")][\"angle\"],\n",
    "        angles[(angles[\"situation\"] == \"b\") & (angles[\"direction\"] == \"left\")][\"angle\"],\n",
    "        angles[(angles[\"situation\"] == \"c\") & (angles[\"direction\"] == \"left\")][\"angle\"],\n",
    "        0,\n",
    "        angles[(angles[\"situation\"] == \"e\") & (angles[\"direction\"] == \"left\")][\"angle\"],\n",
    "        angles[(angles[\"situation\"] == \"a\") & (angles[\"direction\"] == \"right\")][\"angle\"],\n",
    "        angles[(angles[\"situation\"] == \"b\") & (angles[\"direction\"] == \"right\")][\"angle\"],\n",
    "        angles[(angles[\"situation\"] == \"c\") & (angles[\"direction\"] == \"right\")][\"angle\"],\n",
    "        0,\n",
    "        angles[(angles[\"situation\"] == \"e\") & (angles[\"direction\"] == \"right\")][\"angle\"],\n",
    "        #safety\n",
    "        subjects_perceived[key][1][0],\n",
    "        subjects_perceived[key][1][1],\n",
    "        subjects_perceived[key][1][2],\n",
    "        subjects_perceived[key][1][3],\n",
    "        subjects_perceived[key][1][4],\n",
    "        #difficulty\n",
    "        subjects_perceived[key][0][0],\n",
    "        subjects_perceived[key][0][1],\n",
    "        subjects_perceived[key][0][2],\n",
    "        subjects_perceived[key][0][3],\n",
    "        subjects_perceived[key][0][4]\n",
    "    ])\n",
    "df_corr = pd.DataFrame(data, columns=[\n",
    "    'subject', \n",
    "    'mean_rotation',\n",
    "    'mean_speed',\n",
    "    \"duration\",\n",
    "    'sit_a_duration',\n",
    "    'sit_b_duration',\n",
    "    'sit_c_duration',\n",
    "    'sit_d_duration',\n",
    "    'sit_e_duration',\n",
    "    'sit_a_standtime',\n",
    "    'sit_b_standtime',\n",
    "    'sit_c_standtime',\n",
    "    'sit_d_standtime',\n",
    "    'sit_e_standtime',\n",
    "    'sit_a_left_rotations',\n",
    "    'sit_b_left_rotations',\n",
    "    'sit_c_left_rotations',\n",
    "    'sit_d_left_rotations',\n",
    "    'sit_e_left_rotations',\n",
    "    'sit_a_right_rotations',\n",
    "    'sit_b_right_rotations',\n",
    "    'sit_c_right_rotations',\n",
    "    'sit_d_right_rotations',\n",
    "    'sit_e_right_rotations',\n",
    "    'sit_a_left_angle',\n",
    "    'sit_b_left_angle',\n",
    "    'sit_c_left_angle',\n",
    "    'sit_d_left_angle',\n",
    "    'sit_e_left_angle',\n",
    "    'sit_a_right_angle',\n",
    "    'sit_b_right_angle',\n",
    "    'sit_c_right_angle',\n",
    "    'sit_d_right_angle',\n",
    "    'sit_e_right_angle',\n",
    "    \"sit_a_safety\",\n",
    "    \"sit_b_safety\",\n",
    "    \"sit_c_safety\",\n",
    "    \"sit_d_safety\",\n",
    "    \"sit_e_safety\",\n",
    "    \"sit_a_difficulty\",\n",
    "    \"sit_b_difficulty\",\n",
    "    \"sit_c_difficulty\",\n",
    "    \"sit_d_difficulty\",\n",
    "    \"sit_e_difficulty\"\n",
    "])\n",
    "#df_corr.loc['Total'] = df_all.mean(numeric_only=True)"
   ]
  },
  {
   "cell_type": "code",
   "execution_count": 14,
   "id": "195c50a6-5c50-4b30-820b-b622d8a6f68a",
   "metadata": {},
   "outputs": [],
   "source": [
    "# raw values for correlations per situation\n",
    "data = [\n",
    "    [\"A\",\n",
    "        np.concatenate( df_corr[\"sit_a_left_rotations\"].values, axis=0),\n",
    "        np.concatenate( df_corr[\"sit_a_right_rotations\"].values, axis=0),\n",
    "        np.concatenate( df_corr[\"sit_a_left_angle\"].values, axis=0),\n",
    "        np.concatenate( df_corr[\"sit_a_right_angle\"].values, axis=0),\n",
    "        df_corr[\"sit_a_safety\"].values,\n",
    "        df_corr[\"sit_a_difficulty\"].values\n",
    "    ],\n",
    "    [\"C\",\n",
    "        np.concatenate( df_corr[\"sit_c_left_rotations\"].values, axis=0),\n",
    "        np.concatenate( df_corr[\"sit_c_right_rotations\"].values, axis=0),\n",
    "        np.concatenate( df_corr[\"sit_c_left_angle\"].values, axis=0),\n",
    "        np.concatenate( df_corr[\"sit_c_right_angle\"].values, axis=0),\n",
    "        df_corr[\"sit_c_safety\"].values,\n",
    "        df_corr[\"sit_c_difficulty\"].values\n",
    "    ],\n",
    "    [\"D\",\n",
    "        np.concatenate( df_corr[\"sit_e_left_rotations\"].values, axis=0),\n",
    "        np.concatenate( df_corr[\"sit_e_right_rotations\"].values, axis=0),\n",
    "        np.concatenate( df_corr[\"sit_e_left_angle\"].values, axis=0),\n",
    "        np.concatenate( df_corr[\"sit_e_right_angle\"].values, axis=0),\n",
    "        df_corr[\"sit_e_safety\"].values,\n",
    "        df_corr[\"sit_e_difficulty\"].values\n",
    "    ],\n",
    "]\n",
    "df_means_corrs = pd.DataFrame(data, columns=[\n",
    "    'situation',\n",
    "    'left_looks',\n",
    "    'right_looks',\n",
    "    'left_angles',\n",
    "    'right_angles',\n",
    "    'safety',\n",
    "    'difficulty'\n",
    "])"
   ]
  },
  {
   "cell_type": "code",
   "execution_count": 15,
   "id": "4a50c2de-9078-4860-a392-db98deaeb630",
   "metadata": {},
   "outputs": [],
   "source": [
    "left_rots = []\n",
    "safety_left_rots = []\n",
    "right_rots = []\n",
    "safety_right_rots = []\n",
    "left_angles = []\n",
    "safety_left_angles = []\n",
    "right_angles = []\n",
    "safety_right_angles = []\n",
    "\n",
    "safety = []\n",
    "difficulty = []\n",
    "for index,participant in df_corr.iterrows():\n",
    "    for situation in [\"a\",\"c\",\"e\"]:\n",
    "        #Rotations\n",
    "        for left_rot in participant[\"sit_\"+situation+\"_left_rotations\"]:\n",
    "            left_rots.append(left_rot)\n",
    "            safety_left_rots.append(participant[\"sit_\"+situation+\"_safety\"])\n",
    "        \n",
    "        for right_rot in participant[\"sit_\"+situation+\"_right_rotations\"]:\n",
    "            right_rots.append(right_rot)\n",
    "            safety_right_rots.append(participant[\"sit_\"+situation+\"_safety\"])\n",
    "\n",
    "        #Angles\n",
    "        for left_angle in participant[\"sit_\"+situation+\"_left_angle\"]:\n",
    "            left_angles.append(left_angle)\n",
    "            safety_left_angles.append(participant[\"sit_\"+situation+\"_safety\"])\n",
    "        \n",
    "        for right_angle in participant[\"sit_\"+situation+\"_right_angle\"]:\n",
    "            right_angles.append(right_angle)\n",
    "            safety_right_angles.append(participant[\"sit_\"+situation+\"_safety\"])\n",
    "        \n",
    "        safety.append(participant[\"sit_\"+situation+\"_safety\"])\n",
    "        difficulty.append(participant[\"sit_\"+situation+\"_difficulty\"])"
   ]
  },
  {
   "cell_type": "code",
   "execution_count": 50,
   "id": "09ec912d-6d83-4a10-b9b2-0da65f0c005f",
   "metadata": {},
   "outputs": [],
   "source": [
    "totals = df_all.loc[\"Total\"]\n",
    "data = [\n",
    "    [\"A\",\n",
    "     totals[\"sit_a_duration\"],\n",
    "     totals[\"sit_a_standtime\"],\n",
    "     0,\n",
    "     totals[\"sit_a_left_rotations\"],\n",
    "     totals[\"sit_a_right_rotations\"],\n",
    "     totals[\"sit_a_left_angle\"],\n",
    "     totals[\"sit_a_right_angle\"],\n",
    "     totals[\"sit_a_left_duration\"],\n",
    "     totals[\"sit_a_right_duration\"],\n",
    "     totals[\"sit_a_safety\"],\n",
    "     totals[\"sit_a_difficulty\"]\n",
    "    ],\n",
    "#    [\"b\",totals[\"sit_b_duration\"],totals[\"sit_b_standtime\"],0,totals[\"sit_b_left_rotations\"],totals[\"sit_b_right_rotations\"],totals[\"sit_b_left_angle\"],totals[\"sit_b_right_angle\"]],\n",
    "    [\"C\",\n",
    "     totals[\"sit_c_duration\"],\n",
    "     totals[\"sit_c_standtime\"],\n",
    "     0,\n",
    "     totals[\"sit_c_left_rotations\"],\n",
    "     totals[\"sit_c_right_rotations\"],\n",
    "     totals[\"sit_c_left_angle\"],\n",
    "     totals[\"sit_c_right_angle\"],\n",
    "     totals[\"sit_c_left_duration\"],\n",
    "     totals[\"sit_c_right_duration\"],\n",
    "     totals[\"sit_c_safety\"],\n",
    "     totals[\"sit_c_difficulty\"]\n",
    "    ],\n",
    "#    [\"d\",totals[\"sit_d_duration\"],totals[\"sit_d_standtime\"],0,totals[\"sit_d_left_rotations\"],totals[\"sit_d_right_rotations\"],totals[\"sit_d_left_angle\"],totals[\"sit_d_right_angle\"],totals[\"sit_d_collisions\"]],\n",
    "    [\"D\",\n",
    "     totals[\"sit_e_duration\"],\n",
    "     totals[\"sit_e_standtime\"],\n",
    "     0,\n",
    "     totals[\"sit_e_left_rotations\"],\n",
    "     totals[\"sit_e_right_rotations\"],\n",
    "     totals[\"sit_e_left_angle\"],\n",
    "     totals[\"sit_e_right_angle\"],\n",
    "     totals[\"sit_e_left_duration\"],\n",
    "     totals[\"sit_e_right_duration\"],\n",
    "     totals[\"sit_e_safety\"],\n",
    "     totals[\"sit_e_difficulty\"]\n",
    "    ]\n",
    "]\n",
    "df_means_situations = pd.DataFrame(data, columns=[\n",
    "    'situation',\n",
    "    'duration', \n",
    "    'standtime',\n",
    "    'speed',\n",
    "    'left_looks',\n",
    "    'right_looks',\n",
    "    'left_angles',\n",
    "    'right_angles',\n",
    "    'left_durations',\n",
    "    'right_durations',\n",
    "    'safety',\n",
    "    'difficulty'\n",
    "])"
   ]
  },
  {
   "cell_type": "code",
   "execution_count": 45,
   "id": "f40046b7",
   "metadata": {},
   "outputs": [
    {
     "data": {
      "text/plain": [
       "48.72163772583008"
      ]
     },
     "metadata": {},
     "output_type": "display_data"
    },
    {
     "data": {
      "text/plain": [
       "0     1.435904\n",
       "1     0.204897\n",
       "2    48.721638\n",
       "Name: right_durations, dtype: float64"
      ]
     },
     "metadata": {},
     "output_type": "display_data"
    }
   ],
   "source": [
    "display(totals[\"sit_e_right_duration\"])\n",
    "#display(df_means_situations[\"right_durations\"])"
   ]
  },
  {
   "attachments": {},
   "cell_type": "markdown",
   "id": "48815d96-4a00-410f-8202-dad4068eb5cd",
   "metadata": {},
   "source": [
    "## Mean Plots"
   ]
  },
  {
   "cell_type": "markdown",
   "id": "62cd56bf-26c9-4cc2-99c3-02e19b9c1509",
   "metadata": {},
   "source": [
    "#### Headrotation Angles"
   ]
  },
  {
   "cell_type": "code",
   "execution_count": 17,
   "id": "ef5fb785-7e7c-4fcd-825a-26e7f0204b91",
   "metadata": {},
   "outputs": [
    {
     "data": {
      "application/vnd.plotly.v1+json": {
       "config": {
        "plotlyServerURL": "https://plot.ly"
       },
       "data": [
        {
         "base": 0,
         "marker": {
          "color": "#961C26"
         },
         "name": "Left Angles",
         "offsetgroup": "1",
         "orientation": "h",
         "showlegend": true,
         "text": [
          -47,
          -52,
          -49
         ],
         "type": "bar",
         "x": [
          -46.776039123535156,
          -52.3704948425293,
          -48.78428649902344
         ],
         "xaxis": "x",
         "y": [
          "A",
          "C",
          "D"
         ],
         "yaxis": "y"
        },
        {
         "base": 0,
         "marker": {
          "color": "#000000"
         },
         "name": "Right Angles",
         "offsetgroup": "1",
         "orientation": "h",
         "showlegend": true,
         "text": [
          48,
          56,
          49
         ],
         "type": "bar",
         "x": [
          47.63672637939453,
          56.33606719970703,
          48.72163772583008
         ],
         "xaxis": "x2",
         "y": [
          "A",
          "C",
          "D"
         ],
         "yaxis": "y2"
        }
       ],
       "layout": {
        "font": {
         "family": "Lato, sans-serif",
         "size": 14
        },
        "height": 768,
        "hoverlabel": {
         "font": {
          "family": "Lato, sans-serif",
          "size": 13
         }
        },
        "hovermode": "y unified",
        "legend": {
         "orientation": "h",
         "x": 0.5,
         "xanchor": "center",
         "y": 1,
         "yanchor": "bottom"
        },
        "margin": {
         "b": 0,
         "l": 70,
         "r": 40,
         "t": 80
        },
        "paper_bgcolor": "rgba(0,0,0,0)",
        "plot_bgcolor": "rgba(0,0,0,0)",
        "template": {
         "data": {
          "bar": [
           {
            "error_x": {
             "color": "rgb(36,36,36)"
            },
            "error_y": {
             "color": "rgb(36,36,36)"
            },
            "marker": {
             "line": {
              "color": "white",
              "width": 0.5
             },
             "pattern": {
              "fillmode": "overlay",
              "size": 10,
              "solidity": 0.2
             }
            },
            "type": "bar"
           }
          ],
          "barpolar": [
           {
            "marker": {
             "line": {
              "color": "white",
              "width": 0.5
             },
             "pattern": {
              "fillmode": "overlay",
              "size": 10,
              "solidity": 0.2
             }
            },
            "type": "barpolar"
           }
          ],
          "carpet": [
           {
            "aaxis": {
             "endlinecolor": "rgb(36,36,36)",
             "gridcolor": "white",
             "linecolor": "white",
             "minorgridcolor": "white",
             "startlinecolor": "rgb(36,36,36)"
            },
            "baxis": {
             "endlinecolor": "rgb(36,36,36)",
             "gridcolor": "white",
             "linecolor": "white",
             "minorgridcolor": "white",
             "startlinecolor": "rgb(36,36,36)"
            },
            "type": "carpet"
           }
          ],
          "choropleth": [
           {
            "colorbar": {
             "outlinewidth": 1,
             "tickcolor": "rgb(36,36,36)",
             "ticks": "outside"
            },
            "type": "choropleth"
           }
          ],
          "contour": [
           {
            "colorbar": {
             "outlinewidth": 1,
             "tickcolor": "rgb(36,36,36)",
             "ticks": "outside"
            },
            "colorscale": [
             [
              0,
              "#440154"
             ],
             [
              0.1111111111111111,
              "#482878"
             ],
             [
              0.2222222222222222,
              "#3e4989"
             ],
             [
              0.3333333333333333,
              "#31688e"
             ],
             [
              0.4444444444444444,
              "#26828e"
             ],
             [
              0.5555555555555556,
              "#1f9e89"
             ],
             [
              0.6666666666666666,
              "#35b779"
             ],
             [
              0.7777777777777778,
              "#6ece58"
             ],
             [
              0.8888888888888888,
              "#b5de2b"
             ],
             [
              1,
              "#fde725"
             ]
            ],
            "type": "contour"
           }
          ],
          "contourcarpet": [
           {
            "colorbar": {
             "outlinewidth": 1,
             "tickcolor": "rgb(36,36,36)",
             "ticks": "outside"
            },
            "type": "contourcarpet"
           }
          ],
          "heatmap": [
           {
            "colorbar": {
             "outlinewidth": 1,
             "tickcolor": "rgb(36,36,36)",
             "ticks": "outside"
            },
            "colorscale": [
             [
              0,
              "#440154"
             ],
             [
              0.1111111111111111,
              "#482878"
             ],
             [
              0.2222222222222222,
              "#3e4989"
             ],
             [
              0.3333333333333333,
              "#31688e"
             ],
             [
              0.4444444444444444,
              "#26828e"
             ],
             [
              0.5555555555555556,
              "#1f9e89"
             ],
             [
              0.6666666666666666,
              "#35b779"
             ],
             [
              0.7777777777777778,
              "#6ece58"
             ],
             [
              0.8888888888888888,
              "#b5de2b"
             ],
             [
              1,
              "#fde725"
             ]
            ],
            "type": "heatmap"
           }
          ],
          "heatmapgl": [
           {
            "colorbar": {
             "outlinewidth": 1,
             "tickcolor": "rgb(36,36,36)",
             "ticks": "outside"
            },
            "colorscale": [
             [
              0,
              "#440154"
             ],
             [
              0.1111111111111111,
              "#482878"
             ],
             [
              0.2222222222222222,
              "#3e4989"
             ],
             [
              0.3333333333333333,
              "#31688e"
             ],
             [
              0.4444444444444444,
              "#26828e"
             ],
             [
              0.5555555555555556,
              "#1f9e89"
             ],
             [
              0.6666666666666666,
              "#35b779"
             ],
             [
              0.7777777777777778,
              "#6ece58"
             ],
             [
              0.8888888888888888,
              "#b5de2b"
             ],
             [
              1,
              "#fde725"
             ]
            ],
            "type": "heatmapgl"
           }
          ],
          "histogram": [
           {
            "marker": {
             "line": {
              "color": "white",
              "width": 0.6
             }
            },
            "type": "histogram"
           }
          ],
          "histogram2d": [
           {
            "colorbar": {
             "outlinewidth": 1,
             "tickcolor": "rgb(36,36,36)",
             "ticks": "outside"
            },
            "colorscale": [
             [
              0,
              "#440154"
             ],
             [
              0.1111111111111111,
              "#482878"
             ],
             [
              0.2222222222222222,
              "#3e4989"
             ],
             [
              0.3333333333333333,
              "#31688e"
             ],
             [
              0.4444444444444444,
              "#26828e"
             ],
             [
              0.5555555555555556,
              "#1f9e89"
             ],
             [
              0.6666666666666666,
              "#35b779"
             ],
             [
              0.7777777777777778,
              "#6ece58"
             ],
             [
              0.8888888888888888,
              "#b5de2b"
             ],
             [
              1,
              "#fde725"
             ]
            ],
            "type": "histogram2d"
           }
          ],
          "histogram2dcontour": [
           {
            "colorbar": {
             "outlinewidth": 1,
             "tickcolor": "rgb(36,36,36)",
             "ticks": "outside"
            },
            "colorscale": [
             [
              0,
              "#440154"
             ],
             [
              0.1111111111111111,
              "#482878"
             ],
             [
              0.2222222222222222,
              "#3e4989"
             ],
             [
              0.3333333333333333,
              "#31688e"
             ],
             [
              0.4444444444444444,
              "#26828e"
             ],
             [
              0.5555555555555556,
              "#1f9e89"
             ],
             [
              0.6666666666666666,
              "#35b779"
             ],
             [
              0.7777777777777778,
              "#6ece58"
             ],
             [
              0.8888888888888888,
              "#b5de2b"
             ],
             [
              1,
              "#fde725"
             ]
            ],
            "type": "histogram2dcontour"
           }
          ],
          "mesh3d": [
           {
            "colorbar": {
             "outlinewidth": 1,
             "tickcolor": "rgb(36,36,36)",
             "ticks": "outside"
            },
            "type": "mesh3d"
           }
          ],
          "parcoords": [
           {
            "line": {
             "colorbar": {
              "outlinewidth": 1,
              "tickcolor": "rgb(36,36,36)",
              "ticks": "outside"
             }
            },
            "type": "parcoords"
           }
          ],
          "pie": [
           {
            "automargin": true,
            "type": "pie"
           }
          ],
          "scatter": [
           {
            "fillpattern": {
             "fillmode": "overlay",
             "size": 10,
             "solidity": 0.2
            },
            "type": "scatter"
           }
          ],
          "scatter3d": [
           {
            "line": {
             "colorbar": {
              "outlinewidth": 1,
              "tickcolor": "rgb(36,36,36)",
              "ticks": "outside"
             }
            },
            "marker": {
             "colorbar": {
              "outlinewidth": 1,
              "tickcolor": "rgb(36,36,36)",
              "ticks": "outside"
             }
            },
            "type": "scatter3d"
           }
          ],
          "scattercarpet": [
           {
            "marker": {
             "colorbar": {
              "outlinewidth": 1,
              "tickcolor": "rgb(36,36,36)",
              "ticks": "outside"
             }
            },
            "type": "scattercarpet"
           }
          ],
          "scattergeo": [
           {
            "marker": {
             "colorbar": {
              "outlinewidth": 1,
              "tickcolor": "rgb(36,36,36)",
              "ticks": "outside"
             }
            },
            "type": "scattergeo"
           }
          ],
          "scattergl": [
           {
            "marker": {
             "colorbar": {
              "outlinewidth": 1,
              "tickcolor": "rgb(36,36,36)",
              "ticks": "outside"
             }
            },
            "type": "scattergl"
           }
          ],
          "scattermapbox": [
           {
            "marker": {
             "colorbar": {
              "outlinewidth": 1,
              "tickcolor": "rgb(36,36,36)",
              "ticks": "outside"
             }
            },
            "type": "scattermapbox"
           }
          ],
          "scatterpolar": [
           {
            "marker": {
             "colorbar": {
              "outlinewidth": 1,
              "tickcolor": "rgb(36,36,36)",
              "ticks": "outside"
             }
            },
            "type": "scatterpolar"
           }
          ],
          "scatterpolargl": [
           {
            "marker": {
             "colorbar": {
              "outlinewidth": 1,
              "tickcolor": "rgb(36,36,36)",
              "ticks": "outside"
             }
            },
            "type": "scatterpolargl"
           }
          ],
          "scatterternary": [
           {
            "marker": {
             "colorbar": {
              "outlinewidth": 1,
              "tickcolor": "rgb(36,36,36)",
              "ticks": "outside"
             }
            },
            "type": "scatterternary"
           }
          ],
          "surface": [
           {
            "colorbar": {
             "outlinewidth": 1,
             "tickcolor": "rgb(36,36,36)",
             "ticks": "outside"
            },
            "colorscale": [
             [
              0,
              "#440154"
             ],
             [
              0.1111111111111111,
              "#482878"
             ],
             [
              0.2222222222222222,
              "#3e4989"
             ],
             [
              0.3333333333333333,
              "#31688e"
             ],
             [
              0.4444444444444444,
              "#26828e"
             ],
             [
              0.5555555555555556,
              "#1f9e89"
             ],
             [
              0.6666666666666666,
              "#35b779"
             ],
             [
              0.7777777777777778,
              "#6ece58"
             ],
             [
              0.8888888888888888,
              "#b5de2b"
             ],
             [
              1,
              "#fde725"
             ]
            ],
            "type": "surface"
           }
          ],
          "table": [
           {
            "cells": {
             "fill": {
              "color": "rgb(237,237,237)"
             },
             "line": {
              "color": "white"
             }
            },
            "header": {
             "fill": {
              "color": "rgb(217,217,217)"
             },
             "line": {
              "color": "white"
             }
            },
            "type": "table"
           }
          ]
         },
         "layout": {
          "annotationdefaults": {
           "arrowhead": 0,
           "arrowwidth": 1
          },
          "autotypenumbers": "strict",
          "coloraxis": {
           "colorbar": {
            "outlinewidth": 1,
            "tickcolor": "rgb(36,36,36)",
            "ticks": "outside"
           }
          },
          "colorscale": {
           "diverging": [
            [
             0,
             "rgb(103,0,31)"
            ],
            [
             0.1,
             "rgb(178,24,43)"
            ],
            [
             0.2,
             "rgb(214,96,77)"
            ],
            [
             0.3,
             "rgb(244,165,130)"
            ],
            [
             0.4,
             "rgb(253,219,199)"
            ],
            [
             0.5,
             "rgb(247,247,247)"
            ],
            [
             0.6,
             "rgb(209,229,240)"
            ],
            [
             0.7,
             "rgb(146,197,222)"
            ],
            [
             0.8,
             "rgb(67,147,195)"
            ],
            [
             0.9,
             "rgb(33,102,172)"
            ],
            [
             1,
             "rgb(5,48,97)"
            ]
           ],
           "sequential": [
            [
             0,
             "#440154"
            ],
            [
             0.1111111111111111,
             "#482878"
            ],
            [
             0.2222222222222222,
             "#3e4989"
            ],
            [
             0.3333333333333333,
             "#31688e"
            ],
            [
             0.4444444444444444,
             "#26828e"
            ],
            [
             0.5555555555555556,
             "#1f9e89"
            ],
            [
             0.6666666666666666,
             "#35b779"
            ],
            [
             0.7777777777777778,
             "#6ece58"
            ],
            [
             0.8888888888888888,
             "#b5de2b"
            ],
            [
             1,
             "#fde725"
            ]
           ],
           "sequentialminus": [
            [
             0,
             "#440154"
            ],
            [
             0.1111111111111111,
             "#482878"
            ],
            [
             0.2222222222222222,
             "#3e4989"
            ],
            [
             0.3333333333333333,
             "#31688e"
            ],
            [
             0.4444444444444444,
             "#26828e"
            ],
            [
             0.5555555555555556,
             "#1f9e89"
            ],
            [
             0.6666666666666666,
             "#35b779"
            ],
            [
             0.7777777777777778,
             "#6ece58"
            ],
            [
             0.8888888888888888,
             "#b5de2b"
            ],
            [
             1,
             "#fde725"
            ]
           ]
          },
          "colorway": [
           "#1F77B4",
           "#FF7F0E",
           "#2CA02C",
           "#D62728",
           "#9467BD",
           "#8C564B",
           "#E377C2",
           "#7F7F7F",
           "#BCBD22",
           "#17BECF"
          ],
          "font": {
           "color": "rgb(36,36,36)"
          },
          "geo": {
           "bgcolor": "white",
           "lakecolor": "white",
           "landcolor": "white",
           "showlakes": true,
           "showland": true,
           "subunitcolor": "white"
          },
          "hoverlabel": {
           "align": "left"
          },
          "hovermode": "closest",
          "mapbox": {
           "style": "light"
          },
          "paper_bgcolor": "white",
          "plot_bgcolor": "white",
          "polar": {
           "angularaxis": {
            "gridcolor": "rgb(232,232,232)",
            "linecolor": "rgb(36,36,36)",
            "showgrid": false,
            "showline": true,
            "ticks": "outside"
           },
           "bgcolor": "white",
           "radialaxis": {
            "gridcolor": "rgb(232,232,232)",
            "linecolor": "rgb(36,36,36)",
            "showgrid": false,
            "showline": true,
            "ticks": "outside"
           }
          },
          "scene": {
           "xaxis": {
            "backgroundcolor": "white",
            "gridcolor": "rgb(232,232,232)",
            "gridwidth": 2,
            "linecolor": "rgb(36,36,36)",
            "showbackground": true,
            "showgrid": false,
            "showline": true,
            "ticks": "outside",
            "zeroline": false,
            "zerolinecolor": "rgb(36,36,36)"
           },
           "yaxis": {
            "backgroundcolor": "white",
            "gridcolor": "rgb(232,232,232)",
            "gridwidth": 2,
            "linecolor": "rgb(36,36,36)",
            "showbackground": true,
            "showgrid": false,
            "showline": true,
            "ticks": "outside",
            "zeroline": false,
            "zerolinecolor": "rgb(36,36,36)"
           },
           "zaxis": {
            "backgroundcolor": "white",
            "gridcolor": "rgb(232,232,232)",
            "gridwidth": 2,
            "linecolor": "rgb(36,36,36)",
            "showbackground": true,
            "showgrid": false,
            "showline": true,
            "ticks": "outside",
            "zeroline": false,
            "zerolinecolor": "rgb(36,36,36)"
           }
          },
          "shapedefaults": {
           "fillcolor": "black",
           "line": {
            "width": 0
           },
           "opacity": 0.3
          },
          "ternary": {
           "aaxis": {
            "gridcolor": "rgb(232,232,232)",
            "linecolor": "rgb(36,36,36)",
            "showgrid": false,
            "showline": true,
            "ticks": "outside"
           },
           "baxis": {
            "gridcolor": "rgb(232,232,232)",
            "linecolor": "rgb(36,36,36)",
            "showgrid": false,
            "showline": true,
            "ticks": "outside"
           },
           "bgcolor": "white",
           "caxis": {
            "gridcolor": "rgb(232,232,232)",
            "linecolor": "rgb(36,36,36)",
            "showgrid": false,
            "showline": true,
            "ticks": "outside"
           }
          },
          "title": {
           "x": 0.05
          },
          "xaxis": {
           "automargin": true,
           "gridcolor": "rgb(232,232,232)",
           "linecolor": "rgb(36,36,36)",
           "showgrid": false,
           "showline": true,
           "ticks": "outside",
           "title": {
            "standoff": 15
           },
           "zeroline": false,
           "zerolinecolor": "rgb(36,36,36)"
          },
          "yaxis": {
           "automargin": true,
           "gridcolor": "rgb(232,232,232)",
           "linecolor": "rgb(36,36,36)",
           "showgrid": false,
           "showline": true,
           "ticks": "outside",
           "title": {
            "standoff": 15
           },
           "zeroline": false,
           "zerolinecolor": "rgb(36,36,36)"
          }
         }
        },
        "width": 1024,
        "xaxis": {
         "anchor": "y",
         "domain": [
          0,
          0.5
         ],
         "range": [
          -58,
          0
         ],
         "showgrid": false,
         "title": {
          "text": " "
         }
        },
        "xaxis2": {
         "anchor": "y2",
         "domain": [
          0.5,
          1
         ],
         "range": [
          0,
          58
         ],
         "showgrid": false
        },
        "yaxis": {
         "anchor": "x",
         "categoryorder": "category descending",
         "domain": [
          0,
          1
         ],
         "showgrid": false,
         "showline": false,
         "ticksuffix": " ",
         "title": {
          "text": " "
         }
        },
        "yaxis2": {
         "anchor": "x2",
         "categoryorder": "category descending",
         "domain": [
          0,
          1
         ],
         "matches": "y",
         "showgrid": false,
         "showline": false,
         "showticklabels": false,
         "ticksuffix": " "
        }
       }
      }
     },
     "metadata": {},
     "output_type": "display_data"
    }
   ],
   "source": [
    "fig_angles = make_subplots(rows=1, cols=2, specs=[[{}, {}]], shared_yaxes=True, horizontal_spacing=0)\n",
    "fig_angles.append_trace(go.Bar(x= df_means_situations.left_angles, y=df_means_situations.situation,\n",
    "                        orientation='h', showlegend=True, \n",
    "                        text= np.round(df_means_situations.left_angles,decimals = 0), \n",
    "                        name='Left Angles',\n",
    "                        base=0,\n",
    "                        offsetgroup = 1,\n",
    "                        marker_color= marking_red), 1, 1)\n",
    "fig_angles.append_trace(go.Bar(x=df_means_situations.right_angles, y=df_means_situations.situation, \n",
    "                        orientation='h', showlegend=True,\n",
    "                        base=0,\n",
    "                        offsetgroup = 1,\n",
    "                        text=np.round(df_means_situations.right_angles,decimals = 0),\n",
    "                        name='Right Angles', marker_color='#000000'), 1, 2)\n",
    "fig_angles.update_xaxes(showgrid=False,range=[-58,0],row=1, col=1)\n",
    "fig_angles.update_xaxes(showgrid=False,range=[0,58],row=1, col=2)\n",
    "fig_angles.update_yaxes(showgrid=False, categoryorder=\"category descending\", \n",
    "                 ticksuffix=' ', showline=False)\n",
    "fig_angles.update_traces(hovertemplate=None)\n",
    "fig_angles.update_layout(\n",
    "#    title='Mean Headrotation Angles per Situation (Field)',\n",
    "    margin=dict(t=80, b=0, l=70, r=40),\n",
    "    hovermode=\"y unified\", \n",
    "    xaxis_title=' ', yaxis_title=\" \",\n",
    "    width=plot_width, height=plot_height,\n",
    "    font=dict(family=\"Lato, sans-serif\",size=14),\n",
    "    legend=dict(orientation=\"h\", yanchor=\"bottom\",y=1, xanchor=\"center\", x=0.5),\n",
    "    hoverlabel=dict(font_size=13, font_family=\"Lato, sans-serif\"),\n",
    "    paper_bgcolor='rgba(0,0,0,0)',\n",
    "    plot_bgcolor='rgba(0,0,0,0)'\n",
    ")"
   ]
  },
  {
   "cell_type": "code",
   "execution_count": 18,
   "id": "88d576a7-f737-4573-ac3b-c9b0ff0950ea",
   "metadata": {},
   "outputs": [
    {
     "data": {
      "application/vnd.plotly.v1+json": {
       "config": {
        "plotlyServerURL": "https://plot.ly"
       },
       "data": [
        {
         "base": 0,
         "marker": {
          "color": "#961C26"
         },
         "name": "Left Rotations",
         "offsetgroup": "1",
         "orientation": "h",
         "showlegend": true,
         "text": [
          7,
          5,
          3
         ],
         "type": "bar",
         "x": [
          -6.625,
          -4.6875,
          -3.2100694444444446
         ],
         "xaxis": "x",
         "y": [
          "A",
          "C",
          "D"
         ],
         "yaxis": "y"
        },
        {
         "base": 0,
         "marker": {
          "color": "#000000"
         },
         "name": "Right Rotations",
         "offsetgroup": "1",
         "orientation": "h",
         "showlegend": true,
         "text": [
          4,
          2,
          2
         ],
         "type": "bar",
         "x": [
          3.875,
          1.875,
          1.9913194444444442
         ],
         "xaxis": "x2",
         "y": [
          "A",
          "C",
          "D"
         ],
         "yaxis": "y2"
        }
       ],
       "layout": {
        "font": {
         "family": "Lato, sans-serif",
         "size": 14
        },
        "height": 768,
        "hoverlabel": {
         "font": {
          "family": "Lato, sans-serif",
          "size": 13
         }
        },
        "hovermode": "y unified",
        "legend": {
         "orientation": "h",
         "x": 0.5,
         "xanchor": "center",
         "y": 1,
         "yanchor": "bottom"
        },
        "margin": {
         "b": 0,
         "l": 70,
         "r": 40,
         "t": 80
        },
        "paper_bgcolor": "rgba(0,0,0,0)",
        "plot_bgcolor": "rgba(0,0,0,0)",
        "template": {
         "data": {
          "bar": [
           {
            "error_x": {
             "color": "rgb(36,36,36)"
            },
            "error_y": {
             "color": "rgb(36,36,36)"
            },
            "marker": {
             "line": {
              "color": "white",
              "width": 0.5
             },
             "pattern": {
              "fillmode": "overlay",
              "size": 10,
              "solidity": 0.2
             }
            },
            "type": "bar"
           }
          ],
          "barpolar": [
           {
            "marker": {
             "line": {
              "color": "white",
              "width": 0.5
             },
             "pattern": {
              "fillmode": "overlay",
              "size": 10,
              "solidity": 0.2
             }
            },
            "type": "barpolar"
           }
          ],
          "carpet": [
           {
            "aaxis": {
             "endlinecolor": "rgb(36,36,36)",
             "gridcolor": "white",
             "linecolor": "white",
             "minorgridcolor": "white",
             "startlinecolor": "rgb(36,36,36)"
            },
            "baxis": {
             "endlinecolor": "rgb(36,36,36)",
             "gridcolor": "white",
             "linecolor": "white",
             "minorgridcolor": "white",
             "startlinecolor": "rgb(36,36,36)"
            },
            "type": "carpet"
           }
          ],
          "choropleth": [
           {
            "colorbar": {
             "outlinewidth": 1,
             "tickcolor": "rgb(36,36,36)",
             "ticks": "outside"
            },
            "type": "choropleth"
           }
          ],
          "contour": [
           {
            "colorbar": {
             "outlinewidth": 1,
             "tickcolor": "rgb(36,36,36)",
             "ticks": "outside"
            },
            "colorscale": [
             [
              0,
              "#440154"
             ],
             [
              0.1111111111111111,
              "#482878"
             ],
             [
              0.2222222222222222,
              "#3e4989"
             ],
             [
              0.3333333333333333,
              "#31688e"
             ],
             [
              0.4444444444444444,
              "#26828e"
             ],
             [
              0.5555555555555556,
              "#1f9e89"
             ],
             [
              0.6666666666666666,
              "#35b779"
             ],
             [
              0.7777777777777778,
              "#6ece58"
             ],
             [
              0.8888888888888888,
              "#b5de2b"
             ],
             [
              1,
              "#fde725"
             ]
            ],
            "type": "contour"
           }
          ],
          "contourcarpet": [
           {
            "colorbar": {
             "outlinewidth": 1,
             "tickcolor": "rgb(36,36,36)",
             "ticks": "outside"
            },
            "type": "contourcarpet"
           }
          ],
          "heatmap": [
           {
            "colorbar": {
             "outlinewidth": 1,
             "tickcolor": "rgb(36,36,36)",
             "ticks": "outside"
            },
            "colorscale": [
             [
              0,
              "#440154"
             ],
             [
              0.1111111111111111,
              "#482878"
             ],
             [
              0.2222222222222222,
              "#3e4989"
             ],
             [
              0.3333333333333333,
              "#31688e"
             ],
             [
              0.4444444444444444,
              "#26828e"
             ],
             [
              0.5555555555555556,
              "#1f9e89"
             ],
             [
              0.6666666666666666,
              "#35b779"
             ],
             [
              0.7777777777777778,
              "#6ece58"
             ],
             [
              0.8888888888888888,
              "#b5de2b"
             ],
             [
              1,
              "#fde725"
             ]
            ],
            "type": "heatmap"
           }
          ],
          "heatmapgl": [
           {
            "colorbar": {
             "outlinewidth": 1,
             "tickcolor": "rgb(36,36,36)",
             "ticks": "outside"
            },
            "colorscale": [
             [
              0,
              "#440154"
             ],
             [
              0.1111111111111111,
              "#482878"
             ],
             [
              0.2222222222222222,
              "#3e4989"
             ],
             [
              0.3333333333333333,
              "#31688e"
             ],
             [
              0.4444444444444444,
              "#26828e"
             ],
             [
              0.5555555555555556,
              "#1f9e89"
             ],
             [
              0.6666666666666666,
              "#35b779"
             ],
             [
              0.7777777777777778,
              "#6ece58"
             ],
             [
              0.8888888888888888,
              "#b5de2b"
             ],
             [
              1,
              "#fde725"
             ]
            ],
            "type": "heatmapgl"
           }
          ],
          "histogram": [
           {
            "marker": {
             "line": {
              "color": "white",
              "width": 0.6
             }
            },
            "type": "histogram"
           }
          ],
          "histogram2d": [
           {
            "colorbar": {
             "outlinewidth": 1,
             "tickcolor": "rgb(36,36,36)",
             "ticks": "outside"
            },
            "colorscale": [
             [
              0,
              "#440154"
             ],
             [
              0.1111111111111111,
              "#482878"
             ],
             [
              0.2222222222222222,
              "#3e4989"
             ],
             [
              0.3333333333333333,
              "#31688e"
             ],
             [
              0.4444444444444444,
              "#26828e"
             ],
             [
              0.5555555555555556,
              "#1f9e89"
             ],
             [
              0.6666666666666666,
              "#35b779"
             ],
             [
              0.7777777777777778,
              "#6ece58"
             ],
             [
              0.8888888888888888,
              "#b5de2b"
             ],
             [
              1,
              "#fde725"
             ]
            ],
            "type": "histogram2d"
           }
          ],
          "histogram2dcontour": [
           {
            "colorbar": {
             "outlinewidth": 1,
             "tickcolor": "rgb(36,36,36)",
             "ticks": "outside"
            },
            "colorscale": [
             [
              0,
              "#440154"
             ],
             [
              0.1111111111111111,
              "#482878"
             ],
             [
              0.2222222222222222,
              "#3e4989"
             ],
             [
              0.3333333333333333,
              "#31688e"
             ],
             [
              0.4444444444444444,
              "#26828e"
             ],
             [
              0.5555555555555556,
              "#1f9e89"
             ],
             [
              0.6666666666666666,
              "#35b779"
             ],
             [
              0.7777777777777778,
              "#6ece58"
             ],
             [
              0.8888888888888888,
              "#b5de2b"
             ],
             [
              1,
              "#fde725"
             ]
            ],
            "type": "histogram2dcontour"
           }
          ],
          "mesh3d": [
           {
            "colorbar": {
             "outlinewidth": 1,
             "tickcolor": "rgb(36,36,36)",
             "ticks": "outside"
            },
            "type": "mesh3d"
           }
          ],
          "parcoords": [
           {
            "line": {
             "colorbar": {
              "outlinewidth": 1,
              "tickcolor": "rgb(36,36,36)",
              "ticks": "outside"
             }
            },
            "type": "parcoords"
           }
          ],
          "pie": [
           {
            "automargin": true,
            "type": "pie"
           }
          ],
          "scatter": [
           {
            "fillpattern": {
             "fillmode": "overlay",
             "size": 10,
             "solidity": 0.2
            },
            "type": "scatter"
           }
          ],
          "scatter3d": [
           {
            "line": {
             "colorbar": {
              "outlinewidth": 1,
              "tickcolor": "rgb(36,36,36)",
              "ticks": "outside"
             }
            },
            "marker": {
             "colorbar": {
              "outlinewidth": 1,
              "tickcolor": "rgb(36,36,36)",
              "ticks": "outside"
             }
            },
            "type": "scatter3d"
           }
          ],
          "scattercarpet": [
           {
            "marker": {
             "colorbar": {
              "outlinewidth": 1,
              "tickcolor": "rgb(36,36,36)",
              "ticks": "outside"
             }
            },
            "type": "scattercarpet"
           }
          ],
          "scattergeo": [
           {
            "marker": {
             "colorbar": {
              "outlinewidth": 1,
              "tickcolor": "rgb(36,36,36)",
              "ticks": "outside"
             }
            },
            "type": "scattergeo"
           }
          ],
          "scattergl": [
           {
            "marker": {
             "colorbar": {
              "outlinewidth": 1,
              "tickcolor": "rgb(36,36,36)",
              "ticks": "outside"
             }
            },
            "type": "scattergl"
           }
          ],
          "scattermapbox": [
           {
            "marker": {
             "colorbar": {
              "outlinewidth": 1,
              "tickcolor": "rgb(36,36,36)",
              "ticks": "outside"
             }
            },
            "type": "scattermapbox"
           }
          ],
          "scatterpolar": [
           {
            "marker": {
             "colorbar": {
              "outlinewidth": 1,
              "tickcolor": "rgb(36,36,36)",
              "ticks": "outside"
             }
            },
            "type": "scatterpolar"
           }
          ],
          "scatterpolargl": [
           {
            "marker": {
             "colorbar": {
              "outlinewidth": 1,
              "tickcolor": "rgb(36,36,36)",
              "ticks": "outside"
             }
            },
            "type": "scatterpolargl"
           }
          ],
          "scatterternary": [
           {
            "marker": {
             "colorbar": {
              "outlinewidth": 1,
              "tickcolor": "rgb(36,36,36)",
              "ticks": "outside"
             }
            },
            "type": "scatterternary"
           }
          ],
          "surface": [
           {
            "colorbar": {
             "outlinewidth": 1,
             "tickcolor": "rgb(36,36,36)",
             "ticks": "outside"
            },
            "colorscale": [
             [
              0,
              "#440154"
             ],
             [
              0.1111111111111111,
              "#482878"
             ],
             [
              0.2222222222222222,
              "#3e4989"
             ],
             [
              0.3333333333333333,
              "#31688e"
             ],
             [
              0.4444444444444444,
              "#26828e"
             ],
             [
              0.5555555555555556,
              "#1f9e89"
             ],
             [
              0.6666666666666666,
              "#35b779"
             ],
             [
              0.7777777777777778,
              "#6ece58"
             ],
             [
              0.8888888888888888,
              "#b5de2b"
             ],
             [
              1,
              "#fde725"
             ]
            ],
            "type": "surface"
           }
          ],
          "table": [
           {
            "cells": {
             "fill": {
              "color": "rgb(237,237,237)"
             },
             "line": {
              "color": "white"
             }
            },
            "header": {
             "fill": {
              "color": "rgb(217,217,217)"
             },
             "line": {
              "color": "white"
             }
            },
            "type": "table"
           }
          ]
         },
         "layout": {
          "annotationdefaults": {
           "arrowhead": 0,
           "arrowwidth": 1
          },
          "autotypenumbers": "strict",
          "coloraxis": {
           "colorbar": {
            "outlinewidth": 1,
            "tickcolor": "rgb(36,36,36)",
            "ticks": "outside"
           }
          },
          "colorscale": {
           "diverging": [
            [
             0,
             "rgb(103,0,31)"
            ],
            [
             0.1,
             "rgb(178,24,43)"
            ],
            [
             0.2,
             "rgb(214,96,77)"
            ],
            [
             0.3,
             "rgb(244,165,130)"
            ],
            [
             0.4,
             "rgb(253,219,199)"
            ],
            [
             0.5,
             "rgb(247,247,247)"
            ],
            [
             0.6,
             "rgb(209,229,240)"
            ],
            [
             0.7,
             "rgb(146,197,222)"
            ],
            [
             0.8,
             "rgb(67,147,195)"
            ],
            [
             0.9,
             "rgb(33,102,172)"
            ],
            [
             1,
             "rgb(5,48,97)"
            ]
           ],
           "sequential": [
            [
             0,
             "#440154"
            ],
            [
             0.1111111111111111,
             "#482878"
            ],
            [
             0.2222222222222222,
             "#3e4989"
            ],
            [
             0.3333333333333333,
             "#31688e"
            ],
            [
             0.4444444444444444,
             "#26828e"
            ],
            [
             0.5555555555555556,
             "#1f9e89"
            ],
            [
             0.6666666666666666,
             "#35b779"
            ],
            [
             0.7777777777777778,
             "#6ece58"
            ],
            [
             0.8888888888888888,
             "#b5de2b"
            ],
            [
             1,
             "#fde725"
            ]
           ],
           "sequentialminus": [
            [
             0,
             "#440154"
            ],
            [
             0.1111111111111111,
             "#482878"
            ],
            [
             0.2222222222222222,
             "#3e4989"
            ],
            [
             0.3333333333333333,
             "#31688e"
            ],
            [
             0.4444444444444444,
             "#26828e"
            ],
            [
             0.5555555555555556,
             "#1f9e89"
            ],
            [
             0.6666666666666666,
             "#35b779"
            ],
            [
             0.7777777777777778,
             "#6ece58"
            ],
            [
             0.8888888888888888,
             "#b5de2b"
            ],
            [
             1,
             "#fde725"
            ]
           ]
          },
          "colorway": [
           "#1F77B4",
           "#FF7F0E",
           "#2CA02C",
           "#D62728",
           "#9467BD",
           "#8C564B",
           "#E377C2",
           "#7F7F7F",
           "#BCBD22",
           "#17BECF"
          ],
          "font": {
           "color": "rgb(36,36,36)"
          },
          "geo": {
           "bgcolor": "white",
           "lakecolor": "white",
           "landcolor": "white",
           "showlakes": true,
           "showland": true,
           "subunitcolor": "white"
          },
          "hoverlabel": {
           "align": "left"
          },
          "hovermode": "closest",
          "mapbox": {
           "style": "light"
          },
          "paper_bgcolor": "white",
          "plot_bgcolor": "white",
          "polar": {
           "angularaxis": {
            "gridcolor": "rgb(232,232,232)",
            "linecolor": "rgb(36,36,36)",
            "showgrid": false,
            "showline": true,
            "ticks": "outside"
           },
           "bgcolor": "white",
           "radialaxis": {
            "gridcolor": "rgb(232,232,232)",
            "linecolor": "rgb(36,36,36)",
            "showgrid": false,
            "showline": true,
            "ticks": "outside"
           }
          },
          "scene": {
           "xaxis": {
            "backgroundcolor": "white",
            "gridcolor": "rgb(232,232,232)",
            "gridwidth": 2,
            "linecolor": "rgb(36,36,36)",
            "showbackground": true,
            "showgrid": false,
            "showline": true,
            "ticks": "outside",
            "zeroline": false,
            "zerolinecolor": "rgb(36,36,36)"
           },
           "yaxis": {
            "backgroundcolor": "white",
            "gridcolor": "rgb(232,232,232)",
            "gridwidth": 2,
            "linecolor": "rgb(36,36,36)",
            "showbackground": true,
            "showgrid": false,
            "showline": true,
            "ticks": "outside",
            "zeroline": false,
            "zerolinecolor": "rgb(36,36,36)"
           },
           "zaxis": {
            "backgroundcolor": "white",
            "gridcolor": "rgb(232,232,232)",
            "gridwidth": 2,
            "linecolor": "rgb(36,36,36)",
            "showbackground": true,
            "showgrid": false,
            "showline": true,
            "ticks": "outside",
            "zeroline": false,
            "zerolinecolor": "rgb(36,36,36)"
           }
          },
          "shapedefaults": {
           "fillcolor": "black",
           "line": {
            "width": 0
           },
           "opacity": 0.3
          },
          "ternary": {
           "aaxis": {
            "gridcolor": "rgb(232,232,232)",
            "linecolor": "rgb(36,36,36)",
            "showgrid": false,
            "showline": true,
            "ticks": "outside"
           },
           "baxis": {
            "gridcolor": "rgb(232,232,232)",
            "linecolor": "rgb(36,36,36)",
            "showgrid": false,
            "showline": true,
            "ticks": "outside"
           },
           "bgcolor": "white",
           "caxis": {
            "gridcolor": "rgb(232,232,232)",
            "linecolor": "rgb(36,36,36)",
            "showgrid": false,
            "showline": true,
            "ticks": "outside"
           }
          },
          "title": {
           "x": 0.05
          },
          "xaxis": {
           "automargin": true,
           "gridcolor": "rgb(232,232,232)",
           "linecolor": "rgb(36,36,36)",
           "showgrid": false,
           "showline": true,
           "ticks": "outside",
           "title": {
            "standoff": 15
           },
           "zeroline": false,
           "zerolinecolor": "rgb(36,36,36)"
          },
          "yaxis": {
           "automargin": true,
           "gridcolor": "rgb(232,232,232)",
           "linecolor": "rgb(36,36,36)",
           "showgrid": false,
           "showline": true,
           "ticks": "outside",
           "title": {
            "standoff": 15
           },
           "zeroline": false,
           "zerolinecolor": "rgb(36,36,36)"
          }
         }
        },
        "width": 1024,
        "xaxis": {
         "anchor": "y",
         "domain": [
          0,
          0.5
         ],
         "range": [
          -7,
          0
         ],
         "showgrid": false,
         "title": {
          "text": " "
         }
        },
        "xaxis2": {
         "anchor": "y2",
         "domain": [
          0.5,
          1
         ],
         "range": [
          0,
          5
         ],
         "showgrid": false
        },
        "yaxis": {
         "anchor": "x",
         "categoryorder": "category descending",
         "domain": [
          0,
          1
         ],
         "showgrid": false,
         "showline": false,
         "ticksuffix": " ",
         "title": {
          "text": " "
         }
        },
        "yaxis2": {
         "anchor": "x2",
         "categoryorder": "category descending",
         "domain": [
          0,
          1
         ],
         "matches": "y",
         "showgrid": false,
         "showline": false,
         "showticklabels": false,
         "ticksuffix": " "
        }
       }
      }
     },
     "metadata": {},
     "output_type": "display_data"
    }
   ],
   "source": [
    "fig_looks = make_subplots(rows=1, cols=2, specs=[[{}, {}]], shared_yaxes=True, horizontal_spacing=0)\n",
    "fig_looks.append_trace(go.Bar(x= - df_means_situations.left_looks, y=df_means_situations.situation,\n",
    "                        orientation='h', showlegend=True, \n",
    "                        text= np.round(df_means_situations.left_looks,decimals = 0), \n",
    "                        name='Left Rotations',\n",
    "                        base=0,\n",
    "                        offsetgroup = 1,\n",
    "                        marker_color= marking_red), 1, 1)\n",
    "fig_looks.append_trace(go.Bar(x=df_means_situations.right_looks, y=df_means_situations.situation, \n",
    "                        orientation='h', showlegend=True,\n",
    "                        base=0,\n",
    "                        offsetgroup = 1,\n",
    "                        text=np.round(df_means_situations.right_looks,decimals = 0),\n",
    "                        name='Right Rotations', marker_color='#000000'), 1, 2)\n",
    "fig_looks.update_xaxes(showgrid=False,range=[-7,0],row=1, col=1)\n",
    "fig_looks.update_xaxes(showgrid=False,range=[0,5],row=1, col=2)\n",
    "fig_looks.update_yaxes(showgrid=False, categoryorder=\"category descending\", \n",
    "                 ticksuffix=' ', showline=False)\n",
    "fig_looks.update_traces(hovertemplate=None)\n",
    "fig_looks.update_layout(\n",
    "#    title='Mean of Headrotations per Situation(Field)',\n",
    "    margin=dict(t=80, b=0, l=70, r=40),\n",
    "    hovermode=\"y unified\", \n",
    "    xaxis_title=' ', yaxis_title=\" \",\n",
    "    width=plot_width, height=plot_height,\n",
    "    font=dict(family=\"Lato, sans-serif\",size=14),\n",
    "    legend=dict(orientation=\"h\", yanchor=\"bottom\",y=1, xanchor=\"center\", x=0.5),\n",
    "    hoverlabel=dict(font_size=13, font_family=\"Lato, sans-serif\"),\n",
    "    paper_bgcolor='rgba(0,0,0,0)',\n",
    "    plot_bgcolor='rgba(0,0,0,0)'\n",
    ")"
   ]
  },
  {
   "cell_type": "code",
   "execution_count": 53,
   "id": "6c65eb83",
   "metadata": {},
   "outputs": [
    {
     "data": {
      "application/vnd.plotly.v1+json": {
       "config": {
        "plotlyServerURL": "https://plot.ly"
       },
       "data": [
        {
         "base": 0,
         "marker": {
          "color": "#961C26"
         },
         "name": "Left Rotation Durations (seconds)",
         "offsetgroup": "1",
         "orientation": "h",
         "showlegend": true,
         "text": [
          1.11,
          0.51,
          0.75
         ],
         "type": "bar",
         "x": [
          -1.1082088947296143,
          -0.5069200396537781,
          -0.7528462409973145
         ],
         "xaxis": "x",
         "y": [
          "A",
          "C",
          "D"
         ],
         "yaxis": "y"
        },
        {
         "base": 0,
         "marker": {
          "color": "#000000"
         },
         "name": "Right Rotation Durations (seconds)",
         "offsetgroup": "1",
         "orientation": "h",
         "showlegend": true,
         "text": [
          1.44,
          0.2,
          0.74
         ],
         "type": "bar",
         "x": [
          1.4359042644500732,
          0.2048971951007843,
          0.7434584498405457
         ],
         "xaxis": "x2",
         "y": [
          "A",
          "C",
          "D"
         ],
         "yaxis": "y2"
        }
       ],
       "layout": {
        "font": {
         "family": "Lato, sans-serif",
         "size": 14
        },
        "height": 768,
        "hoverlabel": {
         "font": {
          "family": "Lato, sans-serif",
          "size": 13
         }
        },
        "hovermode": "y unified",
        "legend": {
         "orientation": "h",
         "x": 0.5,
         "xanchor": "center",
         "y": 1,
         "yanchor": "bottom"
        },
        "margin": {
         "b": 0,
         "l": 70,
         "r": 40,
         "t": 80
        },
        "paper_bgcolor": "rgba(0,0,0,0)",
        "plot_bgcolor": "rgba(0,0,0,0)",
        "template": {
         "data": {
          "bar": [
           {
            "error_x": {
             "color": "rgb(36,36,36)"
            },
            "error_y": {
             "color": "rgb(36,36,36)"
            },
            "marker": {
             "line": {
              "color": "white",
              "width": 0.5
             },
             "pattern": {
              "fillmode": "overlay",
              "size": 10,
              "solidity": 0.2
             }
            },
            "type": "bar"
           }
          ],
          "barpolar": [
           {
            "marker": {
             "line": {
              "color": "white",
              "width": 0.5
             },
             "pattern": {
              "fillmode": "overlay",
              "size": 10,
              "solidity": 0.2
             }
            },
            "type": "barpolar"
           }
          ],
          "carpet": [
           {
            "aaxis": {
             "endlinecolor": "rgb(36,36,36)",
             "gridcolor": "white",
             "linecolor": "white",
             "minorgridcolor": "white",
             "startlinecolor": "rgb(36,36,36)"
            },
            "baxis": {
             "endlinecolor": "rgb(36,36,36)",
             "gridcolor": "white",
             "linecolor": "white",
             "minorgridcolor": "white",
             "startlinecolor": "rgb(36,36,36)"
            },
            "type": "carpet"
           }
          ],
          "choropleth": [
           {
            "colorbar": {
             "outlinewidth": 1,
             "tickcolor": "rgb(36,36,36)",
             "ticks": "outside"
            },
            "type": "choropleth"
           }
          ],
          "contour": [
           {
            "colorbar": {
             "outlinewidth": 1,
             "tickcolor": "rgb(36,36,36)",
             "ticks": "outside"
            },
            "colorscale": [
             [
              0,
              "#440154"
             ],
             [
              0.1111111111111111,
              "#482878"
             ],
             [
              0.2222222222222222,
              "#3e4989"
             ],
             [
              0.3333333333333333,
              "#31688e"
             ],
             [
              0.4444444444444444,
              "#26828e"
             ],
             [
              0.5555555555555556,
              "#1f9e89"
             ],
             [
              0.6666666666666666,
              "#35b779"
             ],
             [
              0.7777777777777778,
              "#6ece58"
             ],
             [
              0.8888888888888888,
              "#b5de2b"
             ],
             [
              1,
              "#fde725"
             ]
            ],
            "type": "contour"
           }
          ],
          "contourcarpet": [
           {
            "colorbar": {
             "outlinewidth": 1,
             "tickcolor": "rgb(36,36,36)",
             "ticks": "outside"
            },
            "type": "contourcarpet"
           }
          ],
          "heatmap": [
           {
            "colorbar": {
             "outlinewidth": 1,
             "tickcolor": "rgb(36,36,36)",
             "ticks": "outside"
            },
            "colorscale": [
             [
              0,
              "#440154"
             ],
             [
              0.1111111111111111,
              "#482878"
             ],
             [
              0.2222222222222222,
              "#3e4989"
             ],
             [
              0.3333333333333333,
              "#31688e"
             ],
             [
              0.4444444444444444,
              "#26828e"
             ],
             [
              0.5555555555555556,
              "#1f9e89"
             ],
             [
              0.6666666666666666,
              "#35b779"
             ],
             [
              0.7777777777777778,
              "#6ece58"
             ],
             [
              0.8888888888888888,
              "#b5de2b"
             ],
             [
              1,
              "#fde725"
             ]
            ],
            "type": "heatmap"
           }
          ],
          "heatmapgl": [
           {
            "colorbar": {
             "outlinewidth": 1,
             "tickcolor": "rgb(36,36,36)",
             "ticks": "outside"
            },
            "colorscale": [
             [
              0,
              "#440154"
             ],
             [
              0.1111111111111111,
              "#482878"
             ],
             [
              0.2222222222222222,
              "#3e4989"
             ],
             [
              0.3333333333333333,
              "#31688e"
             ],
             [
              0.4444444444444444,
              "#26828e"
             ],
             [
              0.5555555555555556,
              "#1f9e89"
             ],
             [
              0.6666666666666666,
              "#35b779"
             ],
             [
              0.7777777777777778,
              "#6ece58"
             ],
             [
              0.8888888888888888,
              "#b5de2b"
             ],
             [
              1,
              "#fde725"
             ]
            ],
            "type": "heatmapgl"
           }
          ],
          "histogram": [
           {
            "marker": {
             "line": {
              "color": "white",
              "width": 0.6
             }
            },
            "type": "histogram"
           }
          ],
          "histogram2d": [
           {
            "colorbar": {
             "outlinewidth": 1,
             "tickcolor": "rgb(36,36,36)",
             "ticks": "outside"
            },
            "colorscale": [
             [
              0,
              "#440154"
             ],
             [
              0.1111111111111111,
              "#482878"
             ],
             [
              0.2222222222222222,
              "#3e4989"
             ],
             [
              0.3333333333333333,
              "#31688e"
             ],
             [
              0.4444444444444444,
              "#26828e"
             ],
             [
              0.5555555555555556,
              "#1f9e89"
             ],
             [
              0.6666666666666666,
              "#35b779"
             ],
             [
              0.7777777777777778,
              "#6ece58"
             ],
             [
              0.8888888888888888,
              "#b5de2b"
             ],
             [
              1,
              "#fde725"
             ]
            ],
            "type": "histogram2d"
           }
          ],
          "histogram2dcontour": [
           {
            "colorbar": {
             "outlinewidth": 1,
             "tickcolor": "rgb(36,36,36)",
             "ticks": "outside"
            },
            "colorscale": [
             [
              0,
              "#440154"
             ],
             [
              0.1111111111111111,
              "#482878"
             ],
             [
              0.2222222222222222,
              "#3e4989"
             ],
             [
              0.3333333333333333,
              "#31688e"
             ],
             [
              0.4444444444444444,
              "#26828e"
             ],
             [
              0.5555555555555556,
              "#1f9e89"
             ],
             [
              0.6666666666666666,
              "#35b779"
             ],
             [
              0.7777777777777778,
              "#6ece58"
             ],
             [
              0.8888888888888888,
              "#b5de2b"
             ],
             [
              1,
              "#fde725"
             ]
            ],
            "type": "histogram2dcontour"
           }
          ],
          "mesh3d": [
           {
            "colorbar": {
             "outlinewidth": 1,
             "tickcolor": "rgb(36,36,36)",
             "ticks": "outside"
            },
            "type": "mesh3d"
           }
          ],
          "parcoords": [
           {
            "line": {
             "colorbar": {
              "outlinewidth": 1,
              "tickcolor": "rgb(36,36,36)",
              "ticks": "outside"
             }
            },
            "type": "parcoords"
           }
          ],
          "pie": [
           {
            "automargin": true,
            "type": "pie"
           }
          ],
          "scatter": [
           {
            "fillpattern": {
             "fillmode": "overlay",
             "size": 10,
             "solidity": 0.2
            },
            "type": "scatter"
           }
          ],
          "scatter3d": [
           {
            "line": {
             "colorbar": {
              "outlinewidth": 1,
              "tickcolor": "rgb(36,36,36)",
              "ticks": "outside"
             }
            },
            "marker": {
             "colorbar": {
              "outlinewidth": 1,
              "tickcolor": "rgb(36,36,36)",
              "ticks": "outside"
             }
            },
            "type": "scatter3d"
           }
          ],
          "scattercarpet": [
           {
            "marker": {
             "colorbar": {
              "outlinewidth": 1,
              "tickcolor": "rgb(36,36,36)",
              "ticks": "outside"
             }
            },
            "type": "scattercarpet"
           }
          ],
          "scattergeo": [
           {
            "marker": {
             "colorbar": {
              "outlinewidth": 1,
              "tickcolor": "rgb(36,36,36)",
              "ticks": "outside"
             }
            },
            "type": "scattergeo"
           }
          ],
          "scattergl": [
           {
            "marker": {
             "colorbar": {
              "outlinewidth": 1,
              "tickcolor": "rgb(36,36,36)",
              "ticks": "outside"
             }
            },
            "type": "scattergl"
           }
          ],
          "scattermapbox": [
           {
            "marker": {
             "colorbar": {
              "outlinewidth": 1,
              "tickcolor": "rgb(36,36,36)",
              "ticks": "outside"
             }
            },
            "type": "scattermapbox"
           }
          ],
          "scatterpolar": [
           {
            "marker": {
             "colorbar": {
              "outlinewidth": 1,
              "tickcolor": "rgb(36,36,36)",
              "ticks": "outside"
             }
            },
            "type": "scatterpolar"
           }
          ],
          "scatterpolargl": [
           {
            "marker": {
             "colorbar": {
              "outlinewidth": 1,
              "tickcolor": "rgb(36,36,36)",
              "ticks": "outside"
             }
            },
            "type": "scatterpolargl"
           }
          ],
          "scatterternary": [
           {
            "marker": {
             "colorbar": {
              "outlinewidth": 1,
              "tickcolor": "rgb(36,36,36)",
              "ticks": "outside"
             }
            },
            "type": "scatterternary"
           }
          ],
          "surface": [
           {
            "colorbar": {
             "outlinewidth": 1,
             "tickcolor": "rgb(36,36,36)",
             "ticks": "outside"
            },
            "colorscale": [
             [
              0,
              "#440154"
             ],
             [
              0.1111111111111111,
              "#482878"
             ],
             [
              0.2222222222222222,
              "#3e4989"
             ],
             [
              0.3333333333333333,
              "#31688e"
             ],
             [
              0.4444444444444444,
              "#26828e"
             ],
             [
              0.5555555555555556,
              "#1f9e89"
             ],
             [
              0.6666666666666666,
              "#35b779"
             ],
             [
              0.7777777777777778,
              "#6ece58"
             ],
             [
              0.8888888888888888,
              "#b5de2b"
             ],
             [
              1,
              "#fde725"
             ]
            ],
            "type": "surface"
           }
          ],
          "table": [
           {
            "cells": {
             "fill": {
              "color": "rgb(237,237,237)"
             },
             "line": {
              "color": "white"
             }
            },
            "header": {
             "fill": {
              "color": "rgb(217,217,217)"
             },
             "line": {
              "color": "white"
             }
            },
            "type": "table"
           }
          ]
         },
         "layout": {
          "annotationdefaults": {
           "arrowhead": 0,
           "arrowwidth": 1
          },
          "autotypenumbers": "strict",
          "coloraxis": {
           "colorbar": {
            "outlinewidth": 1,
            "tickcolor": "rgb(36,36,36)",
            "ticks": "outside"
           }
          },
          "colorscale": {
           "diverging": [
            [
             0,
             "rgb(103,0,31)"
            ],
            [
             0.1,
             "rgb(178,24,43)"
            ],
            [
             0.2,
             "rgb(214,96,77)"
            ],
            [
             0.3,
             "rgb(244,165,130)"
            ],
            [
             0.4,
             "rgb(253,219,199)"
            ],
            [
             0.5,
             "rgb(247,247,247)"
            ],
            [
             0.6,
             "rgb(209,229,240)"
            ],
            [
             0.7,
             "rgb(146,197,222)"
            ],
            [
             0.8,
             "rgb(67,147,195)"
            ],
            [
             0.9,
             "rgb(33,102,172)"
            ],
            [
             1,
             "rgb(5,48,97)"
            ]
           ],
           "sequential": [
            [
             0,
             "#440154"
            ],
            [
             0.1111111111111111,
             "#482878"
            ],
            [
             0.2222222222222222,
             "#3e4989"
            ],
            [
             0.3333333333333333,
             "#31688e"
            ],
            [
             0.4444444444444444,
             "#26828e"
            ],
            [
             0.5555555555555556,
             "#1f9e89"
            ],
            [
             0.6666666666666666,
             "#35b779"
            ],
            [
             0.7777777777777778,
             "#6ece58"
            ],
            [
             0.8888888888888888,
             "#b5de2b"
            ],
            [
             1,
             "#fde725"
            ]
           ],
           "sequentialminus": [
            [
             0,
             "#440154"
            ],
            [
             0.1111111111111111,
             "#482878"
            ],
            [
             0.2222222222222222,
             "#3e4989"
            ],
            [
             0.3333333333333333,
             "#31688e"
            ],
            [
             0.4444444444444444,
             "#26828e"
            ],
            [
             0.5555555555555556,
             "#1f9e89"
            ],
            [
             0.6666666666666666,
             "#35b779"
            ],
            [
             0.7777777777777778,
             "#6ece58"
            ],
            [
             0.8888888888888888,
             "#b5de2b"
            ],
            [
             1,
             "#fde725"
            ]
           ]
          },
          "colorway": [
           "#1F77B4",
           "#FF7F0E",
           "#2CA02C",
           "#D62728",
           "#9467BD",
           "#8C564B",
           "#E377C2",
           "#7F7F7F",
           "#BCBD22",
           "#17BECF"
          ],
          "font": {
           "color": "rgb(36,36,36)"
          },
          "geo": {
           "bgcolor": "white",
           "lakecolor": "white",
           "landcolor": "white",
           "showlakes": true,
           "showland": true,
           "subunitcolor": "white"
          },
          "hoverlabel": {
           "align": "left"
          },
          "hovermode": "closest",
          "mapbox": {
           "style": "light"
          },
          "paper_bgcolor": "white",
          "plot_bgcolor": "white",
          "polar": {
           "angularaxis": {
            "gridcolor": "rgb(232,232,232)",
            "linecolor": "rgb(36,36,36)",
            "showgrid": false,
            "showline": true,
            "ticks": "outside"
           },
           "bgcolor": "white",
           "radialaxis": {
            "gridcolor": "rgb(232,232,232)",
            "linecolor": "rgb(36,36,36)",
            "showgrid": false,
            "showline": true,
            "ticks": "outside"
           }
          },
          "scene": {
           "xaxis": {
            "backgroundcolor": "white",
            "gridcolor": "rgb(232,232,232)",
            "gridwidth": 2,
            "linecolor": "rgb(36,36,36)",
            "showbackground": true,
            "showgrid": false,
            "showline": true,
            "ticks": "outside",
            "zeroline": false,
            "zerolinecolor": "rgb(36,36,36)"
           },
           "yaxis": {
            "backgroundcolor": "white",
            "gridcolor": "rgb(232,232,232)",
            "gridwidth": 2,
            "linecolor": "rgb(36,36,36)",
            "showbackground": true,
            "showgrid": false,
            "showline": true,
            "ticks": "outside",
            "zeroline": false,
            "zerolinecolor": "rgb(36,36,36)"
           },
           "zaxis": {
            "backgroundcolor": "white",
            "gridcolor": "rgb(232,232,232)",
            "gridwidth": 2,
            "linecolor": "rgb(36,36,36)",
            "showbackground": true,
            "showgrid": false,
            "showline": true,
            "ticks": "outside",
            "zeroline": false,
            "zerolinecolor": "rgb(36,36,36)"
           }
          },
          "shapedefaults": {
           "fillcolor": "black",
           "line": {
            "width": 0
           },
           "opacity": 0.3
          },
          "ternary": {
           "aaxis": {
            "gridcolor": "rgb(232,232,232)",
            "linecolor": "rgb(36,36,36)",
            "showgrid": false,
            "showline": true,
            "ticks": "outside"
           },
           "baxis": {
            "gridcolor": "rgb(232,232,232)",
            "linecolor": "rgb(36,36,36)",
            "showgrid": false,
            "showline": true,
            "ticks": "outside"
           },
           "bgcolor": "white",
           "caxis": {
            "gridcolor": "rgb(232,232,232)",
            "linecolor": "rgb(36,36,36)",
            "showgrid": false,
            "showline": true,
            "ticks": "outside"
           }
          },
          "title": {
           "x": 0.05
          },
          "xaxis": {
           "automargin": true,
           "gridcolor": "rgb(232,232,232)",
           "linecolor": "rgb(36,36,36)",
           "showgrid": false,
           "showline": true,
           "ticks": "outside",
           "title": {
            "standoff": 15
           },
           "zeroline": false,
           "zerolinecolor": "rgb(36,36,36)"
          },
          "yaxis": {
           "automargin": true,
           "gridcolor": "rgb(232,232,232)",
           "linecolor": "rgb(36,36,36)",
           "showgrid": false,
           "showline": true,
           "ticks": "outside",
           "title": {
            "standoff": 15
           },
           "zeroline": false,
           "zerolinecolor": "rgb(36,36,36)"
          }
         }
        },
        "width": 1024,
        "xaxis": {
         "anchor": "y",
         "domain": [
          0,
          0.5
         ],
         "range": [
          -1.5,
          0
         ],
         "showgrid": false,
         "title": {
          "text": " "
         }
        },
        "xaxis2": {
         "anchor": "y2",
         "domain": [
          0.5,
          1
         ],
         "range": [
          0,
          1.5
         ],
         "showgrid": false
        },
        "yaxis": {
         "anchor": "x",
         "categoryorder": "category descending",
         "domain": [
          0,
          1
         ],
         "showgrid": false,
         "showline": false,
         "ticksuffix": " ",
         "title": {
          "text": " "
         }
        },
        "yaxis2": {
         "anchor": "x2",
         "categoryorder": "category descending",
         "domain": [
          0,
          1
         ],
         "matches": "y",
         "showgrid": false,
         "showline": false,
         "showticklabels": false,
         "ticksuffix": " "
        }
       }
      }
     },
     "metadata": {},
     "output_type": "display_data"
    }
   ],
   "source": [
    "fig_durations = make_subplots(rows=1, cols=2, specs=[[{}, {}]], shared_yaxes=True, horizontal_spacing=0)\n",
    "fig_durations.append_trace(go.Bar(x= - df_means_situations.left_durations, y=df_means_situations.situation,\n",
    "                        orientation='h', showlegend=True, \n",
    "                        text= np.round(df_means_situations.left_durations,decimals = 2), \n",
    "                        name='Left Rotation Durations (seconds)',\n",
    "                        base=0,\n",
    "                        offsetgroup = 1,\n",
    "                        marker_color= marking_red), 1, 1)\n",
    "fig_durations.append_trace(go.Bar(x=df_means_situations.right_durations, y=df_means_situations.situation, \n",
    "                        orientation='h', showlegend=True,\n",
    "                        base=0,\n",
    "                        offsetgroup = 1,\n",
    "                        text=np.round(df_means_situations.right_durations,decimals = 2),\n",
    "                        name='Right Rotation Durations (seconds)', marker_color='#000000'), 1, 2)\n",
    "fig_durations.update_xaxes(showgrid=False,range=[-1.5,0],row=1, col=1)\n",
    "fig_durations.update_xaxes(showgrid=False,range=[0,1.5],row=1, col=2)\n",
    "fig_durations.update_yaxes(showgrid=False, categoryorder=\"category descending\", \n",
    "                 ticksuffix=' ', showline=False)\n",
    "fig_durations.update_traces(hovertemplate=None)\n",
    "fig_durations.update_layout(\n",
    "#    title='Mean of Headrotations per Situation(Field)',\n",
    "    margin=dict(t=80, b=0, l=70, r=40),\n",
    "    hovermode=\"y unified\", \n",
    "    xaxis_title=' ', yaxis_title=\" \",\n",
    "    width=plot_width, height=plot_height,\n",
    "    font=dict(family=\"Lato, sans-serif\",size=14),\n",
    "    legend=dict(orientation=\"h\", yanchor=\"bottom\",y=1, xanchor=\"center\", x=0.5),\n",
    "    hoverlabel=dict(font_size=13, font_family=\"Lato, sans-serif\"),\n",
    "    paper_bgcolor='rgba(0,0,0,0)',\n",
    "    plot_bgcolor='rgba(0,0,0,0)'\n",
    ")"
   ]
  },
  {
   "cell_type": "markdown",
   "id": "e87635b0-9234-4302-a139-45cf4a0b97e4",
   "metadata": {},
   "source": [
    "### Preceived Safety"
   ]
  },
  {
   "cell_type": "code",
   "execution_count": 20,
   "id": "4d2d4078-852c-4683-bde3-6814b8747b2c",
   "metadata": {},
   "outputs": [
    {
     "data": {
      "application/vnd.plotly.v1+json": {
       "config": {
        "plotlyServerURL": "https://plot.ly"
       },
       "data": [
        {
         "marker": {
          "color": "#961C26"
         },
         "name": "Perceived Safety",
         "orientation": "h",
         "showlegend": true,
         "text": [
          4.2,
          3.6,
          4.2
         ],
         "type": "bar",
         "x": [
          4.25,
          3.625,
          4.25
         ],
         "y": [
          "A",
          "C",
          "D"
         ]
        }
       ],
       "layout": {
        "font": {
         "family": "Lato, sans-serif",
         "size": 14
        },
        "height": 768,
        "hoverlabel": {
         "font": {
          "family": "Lato, sans-serif",
          "size": 13
         }
        },
        "hovermode": "y unified",
        "legend": {
         "orientation": "h",
         "x": 0.5,
         "xanchor": "center",
         "y": 1,
         "yanchor": "bottom"
        },
        "margin": {
         "b": 0,
         "l": 70,
         "r": 40,
         "t": 80
        },
        "paper_bgcolor": "rgba(0,0,0,0)",
        "plot_bgcolor": "rgba(0,0,0,0)",
        "template": {
         "data": {
          "bar": [
           {
            "error_x": {
             "color": "rgb(36,36,36)"
            },
            "error_y": {
             "color": "rgb(36,36,36)"
            },
            "marker": {
             "line": {
              "color": "white",
              "width": 0.5
             },
             "pattern": {
              "fillmode": "overlay",
              "size": 10,
              "solidity": 0.2
             }
            },
            "type": "bar"
           }
          ],
          "barpolar": [
           {
            "marker": {
             "line": {
              "color": "white",
              "width": 0.5
             },
             "pattern": {
              "fillmode": "overlay",
              "size": 10,
              "solidity": 0.2
             }
            },
            "type": "barpolar"
           }
          ],
          "carpet": [
           {
            "aaxis": {
             "endlinecolor": "rgb(36,36,36)",
             "gridcolor": "white",
             "linecolor": "white",
             "minorgridcolor": "white",
             "startlinecolor": "rgb(36,36,36)"
            },
            "baxis": {
             "endlinecolor": "rgb(36,36,36)",
             "gridcolor": "white",
             "linecolor": "white",
             "minorgridcolor": "white",
             "startlinecolor": "rgb(36,36,36)"
            },
            "type": "carpet"
           }
          ],
          "choropleth": [
           {
            "colorbar": {
             "outlinewidth": 1,
             "tickcolor": "rgb(36,36,36)",
             "ticks": "outside"
            },
            "type": "choropleth"
           }
          ],
          "contour": [
           {
            "colorbar": {
             "outlinewidth": 1,
             "tickcolor": "rgb(36,36,36)",
             "ticks": "outside"
            },
            "colorscale": [
             [
              0,
              "#440154"
             ],
             [
              0.1111111111111111,
              "#482878"
             ],
             [
              0.2222222222222222,
              "#3e4989"
             ],
             [
              0.3333333333333333,
              "#31688e"
             ],
             [
              0.4444444444444444,
              "#26828e"
             ],
             [
              0.5555555555555556,
              "#1f9e89"
             ],
             [
              0.6666666666666666,
              "#35b779"
             ],
             [
              0.7777777777777778,
              "#6ece58"
             ],
             [
              0.8888888888888888,
              "#b5de2b"
             ],
             [
              1,
              "#fde725"
             ]
            ],
            "type": "contour"
           }
          ],
          "contourcarpet": [
           {
            "colorbar": {
             "outlinewidth": 1,
             "tickcolor": "rgb(36,36,36)",
             "ticks": "outside"
            },
            "type": "contourcarpet"
           }
          ],
          "heatmap": [
           {
            "colorbar": {
             "outlinewidth": 1,
             "tickcolor": "rgb(36,36,36)",
             "ticks": "outside"
            },
            "colorscale": [
             [
              0,
              "#440154"
             ],
             [
              0.1111111111111111,
              "#482878"
             ],
             [
              0.2222222222222222,
              "#3e4989"
             ],
             [
              0.3333333333333333,
              "#31688e"
             ],
             [
              0.4444444444444444,
              "#26828e"
             ],
             [
              0.5555555555555556,
              "#1f9e89"
             ],
             [
              0.6666666666666666,
              "#35b779"
             ],
             [
              0.7777777777777778,
              "#6ece58"
             ],
             [
              0.8888888888888888,
              "#b5de2b"
             ],
             [
              1,
              "#fde725"
             ]
            ],
            "type": "heatmap"
           }
          ],
          "heatmapgl": [
           {
            "colorbar": {
             "outlinewidth": 1,
             "tickcolor": "rgb(36,36,36)",
             "ticks": "outside"
            },
            "colorscale": [
             [
              0,
              "#440154"
             ],
             [
              0.1111111111111111,
              "#482878"
             ],
             [
              0.2222222222222222,
              "#3e4989"
             ],
             [
              0.3333333333333333,
              "#31688e"
             ],
             [
              0.4444444444444444,
              "#26828e"
             ],
             [
              0.5555555555555556,
              "#1f9e89"
             ],
             [
              0.6666666666666666,
              "#35b779"
             ],
             [
              0.7777777777777778,
              "#6ece58"
             ],
             [
              0.8888888888888888,
              "#b5de2b"
             ],
             [
              1,
              "#fde725"
             ]
            ],
            "type": "heatmapgl"
           }
          ],
          "histogram": [
           {
            "marker": {
             "line": {
              "color": "white",
              "width": 0.6
             }
            },
            "type": "histogram"
           }
          ],
          "histogram2d": [
           {
            "colorbar": {
             "outlinewidth": 1,
             "tickcolor": "rgb(36,36,36)",
             "ticks": "outside"
            },
            "colorscale": [
             [
              0,
              "#440154"
             ],
             [
              0.1111111111111111,
              "#482878"
             ],
             [
              0.2222222222222222,
              "#3e4989"
             ],
             [
              0.3333333333333333,
              "#31688e"
             ],
             [
              0.4444444444444444,
              "#26828e"
             ],
             [
              0.5555555555555556,
              "#1f9e89"
             ],
             [
              0.6666666666666666,
              "#35b779"
             ],
             [
              0.7777777777777778,
              "#6ece58"
             ],
             [
              0.8888888888888888,
              "#b5de2b"
             ],
             [
              1,
              "#fde725"
             ]
            ],
            "type": "histogram2d"
           }
          ],
          "histogram2dcontour": [
           {
            "colorbar": {
             "outlinewidth": 1,
             "tickcolor": "rgb(36,36,36)",
             "ticks": "outside"
            },
            "colorscale": [
             [
              0,
              "#440154"
             ],
             [
              0.1111111111111111,
              "#482878"
             ],
             [
              0.2222222222222222,
              "#3e4989"
             ],
             [
              0.3333333333333333,
              "#31688e"
             ],
             [
              0.4444444444444444,
              "#26828e"
             ],
             [
              0.5555555555555556,
              "#1f9e89"
             ],
             [
              0.6666666666666666,
              "#35b779"
             ],
             [
              0.7777777777777778,
              "#6ece58"
             ],
             [
              0.8888888888888888,
              "#b5de2b"
             ],
             [
              1,
              "#fde725"
             ]
            ],
            "type": "histogram2dcontour"
           }
          ],
          "mesh3d": [
           {
            "colorbar": {
             "outlinewidth": 1,
             "tickcolor": "rgb(36,36,36)",
             "ticks": "outside"
            },
            "type": "mesh3d"
           }
          ],
          "parcoords": [
           {
            "line": {
             "colorbar": {
              "outlinewidth": 1,
              "tickcolor": "rgb(36,36,36)",
              "ticks": "outside"
             }
            },
            "type": "parcoords"
           }
          ],
          "pie": [
           {
            "automargin": true,
            "type": "pie"
           }
          ],
          "scatter": [
           {
            "fillpattern": {
             "fillmode": "overlay",
             "size": 10,
             "solidity": 0.2
            },
            "type": "scatter"
           }
          ],
          "scatter3d": [
           {
            "line": {
             "colorbar": {
              "outlinewidth": 1,
              "tickcolor": "rgb(36,36,36)",
              "ticks": "outside"
             }
            },
            "marker": {
             "colorbar": {
              "outlinewidth": 1,
              "tickcolor": "rgb(36,36,36)",
              "ticks": "outside"
             }
            },
            "type": "scatter3d"
           }
          ],
          "scattercarpet": [
           {
            "marker": {
             "colorbar": {
              "outlinewidth": 1,
              "tickcolor": "rgb(36,36,36)",
              "ticks": "outside"
             }
            },
            "type": "scattercarpet"
           }
          ],
          "scattergeo": [
           {
            "marker": {
             "colorbar": {
              "outlinewidth": 1,
              "tickcolor": "rgb(36,36,36)",
              "ticks": "outside"
             }
            },
            "type": "scattergeo"
           }
          ],
          "scattergl": [
           {
            "marker": {
             "colorbar": {
              "outlinewidth": 1,
              "tickcolor": "rgb(36,36,36)",
              "ticks": "outside"
             }
            },
            "type": "scattergl"
           }
          ],
          "scattermapbox": [
           {
            "marker": {
             "colorbar": {
              "outlinewidth": 1,
              "tickcolor": "rgb(36,36,36)",
              "ticks": "outside"
             }
            },
            "type": "scattermapbox"
           }
          ],
          "scatterpolar": [
           {
            "marker": {
             "colorbar": {
              "outlinewidth": 1,
              "tickcolor": "rgb(36,36,36)",
              "ticks": "outside"
             }
            },
            "type": "scatterpolar"
           }
          ],
          "scatterpolargl": [
           {
            "marker": {
             "colorbar": {
              "outlinewidth": 1,
              "tickcolor": "rgb(36,36,36)",
              "ticks": "outside"
             }
            },
            "type": "scatterpolargl"
           }
          ],
          "scatterternary": [
           {
            "marker": {
             "colorbar": {
              "outlinewidth": 1,
              "tickcolor": "rgb(36,36,36)",
              "ticks": "outside"
             }
            },
            "type": "scatterternary"
           }
          ],
          "surface": [
           {
            "colorbar": {
             "outlinewidth": 1,
             "tickcolor": "rgb(36,36,36)",
             "ticks": "outside"
            },
            "colorscale": [
             [
              0,
              "#440154"
             ],
             [
              0.1111111111111111,
              "#482878"
             ],
             [
              0.2222222222222222,
              "#3e4989"
             ],
             [
              0.3333333333333333,
              "#31688e"
             ],
             [
              0.4444444444444444,
              "#26828e"
             ],
             [
              0.5555555555555556,
              "#1f9e89"
             ],
             [
              0.6666666666666666,
              "#35b779"
             ],
             [
              0.7777777777777778,
              "#6ece58"
             ],
             [
              0.8888888888888888,
              "#b5de2b"
             ],
             [
              1,
              "#fde725"
             ]
            ],
            "type": "surface"
           }
          ],
          "table": [
           {
            "cells": {
             "fill": {
              "color": "rgb(237,237,237)"
             },
             "line": {
              "color": "white"
             }
            },
            "header": {
             "fill": {
              "color": "rgb(217,217,217)"
             },
             "line": {
              "color": "white"
             }
            },
            "type": "table"
           }
          ]
         },
         "layout": {
          "annotationdefaults": {
           "arrowhead": 0,
           "arrowwidth": 1
          },
          "autotypenumbers": "strict",
          "coloraxis": {
           "colorbar": {
            "outlinewidth": 1,
            "tickcolor": "rgb(36,36,36)",
            "ticks": "outside"
           }
          },
          "colorscale": {
           "diverging": [
            [
             0,
             "rgb(103,0,31)"
            ],
            [
             0.1,
             "rgb(178,24,43)"
            ],
            [
             0.2,
             "rgb(214,96,77)"
            ],
            [
             0.3,
             "rgb(244,165,130)"
            ],
            [
             0.4,
             "rgb(253,219,199)"
            ],
            [
             0.5,
             "rgb(247,247,247)"
            ],
            [
             0.6,
             "rgb(209,229,240)"
            ],
            [
             0.7,
             "rgb(146,197,222)"
            ],
            [
             0.8,
             "rgb(67,147,195)"
            ],
            [
             0.9,
             "rgb(33,102,172)"
            ],
            [
             1,
             "rgb(5,48,97)"
            ]
           ],
           "sequential": [
            [
             0,
             "#440154"
            ],
            [
             0.1111111111111111,
             "#482878"
            ],
            [
             0.2222222222222222,
             "#3e4989"
            ],
            [
             0.3333333333333333,
             "#31688e"
            ],
            [
             0.4444444444444444,
             "#26828e"
            ],
            [
             0.5555555555555556,
             "#1f9e89"
            ],
            [
             0.6666666666666666,
             "#35b779"
            ],
            [
             0.7777777777777778,
             "#6ece58"
            ],
            [
             0.8888888888888888,
             "#b5de2b"
            ],
            [
             1,
             "#fde725"
            ]
           ],
           "sequentialminus": [
            [
             0,
             "#440154"
            ],
            [
             0.1111111111111111,
             "#482878"
            ],
            [
             0.2222222222222222,
             "#3e4989"
            ],
            [
             0.3333333333333333,
             "#31688e"
            ],
            [
             0.4444444444444444,
             "#26828e"
            ],
            [
             0.5555555555555556,
             "#1f9e89"
            ],
            [
             0.6666666666666666,
             "#35b779"
            ],
            [
             0.7777777777777778,
             "#6ece58"
            ],
            [
             0.8888888888888888,
             "#b5de2b"
            ],
            [
             1,
             "#fde725"
            ]
           ]
          },
          "colorway": [
           "#1F77B4",
           "#FF7F0E",
           "#2CA02C",
           "#D62728",
           "#9467BD",
           "#8C564B",
           "#E377C2",
           "#7F7F7F",
           "#BCBD22",
           "#17BECF"
          ],
          "font": {
           "color": "rgb(36,36,36)"
          },
          "geo": {
           "bgcolor": "white",
           "lakecolor": "white",
           "landcolor": "white",
           "showlakes": true,
           "showland": true,
           "subunitcolor": "white"
          },
          "hoverlabel": {
           "align": "left"
          },
          "hovermode": "closest",
          "mapbox": {
           "style": "light"
          },
          "paper_bgcolor": "white",
          "plot_bgcolor": "white",
          "polar": {
           "angularaxis": {
            "gridcolor": "rgb(232,232,232)",
            "linecolor": "rgb(36,36,36)",
            "showgrid": false,
            "showline": true,
            "ticks": "outside"
           },
           "bgcolor": "white",
           "radialaxis": {
            "gridcolor": "rgb(232,232,232)",
            "linecolor": "rgb(36,36,36)",
            "showgrid": false,
            "showline": true,
            "ticks": "outside"
           }
          },
          "scene": {
           "xaxis": {
            "backgroundcolor": "white",
            "gridcolor": "rgb(232,232,232)",
            "gridwidth": 2,
            "linecolor": "rgb(36,36,36)",
            "showbackground": true,
            "showgrid": false,
            "showline": true,
            "ticks": "outside",
            "zeroline": false,
            "zerolinecolor": "rgb(36,36,36)"
           },
           "yaxis": {
            "backgroundcolor": "white",
            "gridcolor": "rgb(232,232,232)",
            "gridwidth": 2,
            "linecolor": "rgb(36,36,36)",
            "showbackground": true,
            "showgrid": false,
            "showline": true,
            "ticks": "outside",
            "zeroline": false,
            "zerolinecolor": "rgb(36,36,36)"
           },
           "zaxis": {
            "backgroundcolor": "white",
            "gridcolor": "rgb(232,232,232)",
            "gridwidth": 2,
            "linecolor": "rgb(36,36,36)",
            "showbackground": true,
            "showgrid": false,
            "showline": true,
            "ticks": "outside",
            "zeroline": false,
            "zerolinecolor": "rgb(36,36,36)"
           }
          },
          "shapedefaults": {
           "fillcolor": "black",
           "line": {
            "width": 0
           },
           "opacity": 0.3
          },
          "ternary": {
           "aaxis": {
            "gridcolor": "rgb(232,232,232)",
            "linecolor": "rgb(36,36,36)",
            "showgrid": false,
            "showline": true,
            "ticks": "outside"
           },
           "baxis": {
            "gridcolor": "rgb(232,232,232)",
            "linecolor": "rgb(36,36,36)",
            "showgrid": false,
            "showline": true,
            "ticks": "outside"
           },
           "bgcolor": "white",
           "caxis": {
            "gridcolor": "rgb(232,232,232)",
            "linecolor": "rgb(36,36,36)",
            "showgrid": false,
            "showline": true,
            "ticks": "outside"
           }
          },
          "title": {
           "x": 0.05
          },
          "xaxis": {
           "automargin": true,
           "gridcolor": "rgb(232,232,232)",
           "linecolor": "rgb(36,36,36)",
           "showgrid": false,
           "showline": true,
           "ticks": "outside",
           "title": {
            "standoff": 15
           },
           "zeroline": false,
           "zerolinecolor": "rgb(36,36,36)"
          },
          "yaxis": {
           "automargin": true,
           "gridcolor": "rgb(232,232,232)",
           "linecolor": "rgb(36,36,36)",
           "showgrid": false,
           "showline": true,
           "ticks": "outside",
           "title": {
            "standoff": 15
           },
           "zeroline": false,
           "zerolinecolor": "rgb(36,36,36)"
          }
         }
        },
        "width": 1024,
        "xaxis": {
         "showgrid": false,
         "title": {
          "text": " "
         }
        },
        "yaxis": {
         "categoryorder": "category descending",
         "showgrid": false,
         "showline": false,
         "ticksuffix": " ",
         "title": {
          "text": " "
         }
        }
       }
      }
     },
     "metadata": {},
     "output_type": "display_data"
    }
   ],
   "source": [
    "fig_duration = go.Figure()\n",
    "fig_duration.add_trace(go.Bar(x=df_means_situations.safety, y=df_means_situations.situation, \n",
    "                        orientation='h', showlegend=True,\n",
    "                        text=np.round(df_means_situations.safety,decimals = 1),\n",
    "                        name='Perceived Safety', marker_color= marking_red))\n",
    "fig_duration.update_xaxes(showgrid=False)\n",
    "fig_duration.update_yaxes(showgrid=False, categoryorder=\"category descending\",\n",
    "                 ticksuffix=' ', showline=False)\n",
    "fig_duration.update_traces(hovertemplate=None)\n",
    "fig_duration.update_layout(\n",
    "#    title='Mean of Duration & Standingtimes per Situation (Seconds)(Field)',\n",
    "    margin=dict(t=80, b=0, l=70, r=40),\n",
    "    hovermode=\"y unified\", \n",
    "    xaxis_title=' ', yaxis_title=\" \",\n",
    "    width=plot_width, height=plot_height,\n",
    "    font=dict(family=\"Lato, sans-serif\",size=14),\n",
    "    legend=dict(orientation=\"h\", yanchor=\"bottom\",y=1, xanchor=\"center\", x=0.5),\n",
    "    hoverlabel=dict(font_size=13, font_family=\"Lato, sans-serif\"),\n",
    "    paper_bgcolor='rgba(0,0,0,0)',\n",
    "    plot_bgcolor='rgba(0,0,0,0)'\n",
    ")\n",
    "display(fig_duration)"
   ]
  },
  {
   "cell_type": "markdown",
   "id": "b14153ad-d438-47df-9ada-377dab559253",
   "metadata": {},
   "source": [
    "#### Duration per Subject"
   ]
  },
  {
   "cell_type": "code",
   "execution_count": 21,
   "id": "13ca89ad-8c78-48e5-85d7-c793f1bca214",
   "metadata": {},
   "outputs": [
    {
     "data": {
      "application/vnd.plotly.v1+json": {
       "config": {
        "plotlyServerURL": "https://plot.ly"
       },
       "data": [
        {
         "marker": {
          "color": "#961C26"
         },
         "name": "Duration",
         "orientation": "h",
         "showlegend": true,
         "text": [
          55,
          35,
          22
         ],
         "type": "bar",
         "x": [
          54.6884651184082,
          34.62575912475586,
          22.172016143798828
         ],
         "y": [
          "A",
          "C",
          "D"
         ]
        },
        {
         "marker": {
          "color": "#000000"
         },
         "name": "Standtime",
         "orientation": "h",
         "showlegend": true,
         "text": [
          31,
          8,
          6
         ],
         "type": "bar",
         "x": [
          30.500028610229492,
          8.124380111694336,
          5.820295333862305
         ],
         "y": [
          "A",
          "C",
          "D"
         ]
        }
       ],
       "layout": {
        "font": {
         "family": "Lato, sans-serif",
         "size": 14
        },
        "height": 768,
        "hoverlabel": {
         "font": {
          "family": "Lato, sans-serif",
          "size": 13
         }
        },
        "hovermode": "y unified",
        "legend": {
         "orientation": "h",
         "x": 0.5,
         "xanchor": "center",
         "y": 1,
         "yanchor": "bottom"
        },
        "margin": {
         "b": 0,
         "l": 70,
         "r": 40,
         "t": 80
        },
        "paper_bgcolor": "rgba(0,0,0,0)",
        "plot_bgcolor": "rgba(0,0,0,0)",
        "template": {
         "data": {
          "bar": [
           {
            "error_x": {
             "color": "rgb(36,36,36)"
            },
            "error_y": {
             "color": "rgb(36,36,36)"
            },
            "marker": {
             "line": {
              "color": "white",
              "width": 0.5
             },
             "pattern": {
              "fillmode": "overlay",
              "size": 10,
              "solidity": 0.2
             }
            },
            "type": "bar"
           }
          ],
          "barpolar": [
           {
            "marker": {
             "line": {
              "color": "white",
              "width": 0.5
             },
             "pattern": {
              "fillmode": "overlay",
              "size": 10,
              "solidity": 0.2
             }
            },
            "type": "barpolar"
           }
          ],
          "carpet": [
           {
            "aaxis": {
             "endlinecolor": "rgb(36,36,36)",
             "gridcolor": "white",
             "linecolor": "white",
             "minorgridcolor": "white",
             "startlinecolor": "rgb(36,36,36)"
            },
            "baxis": {
             "endlinecolor": "rgb(36,36,36)",
             "gridcolor": "white",
             "linecolor": "white",
             "minorgridcolor": "white",
             "startlinecolor": "rgb(36,36,36)"
            },
            "type": "carpet"
           }
          ],
          "choropleth": [
           {
            "colorbar": {
             "outlinewidth": 1,
             "tickcolor": "rgb(36,36,36)",
             "ticks": "outside"
            },
            "type": "choropleth"
           }
          ],
          "contour": [
           {
            "colorbar": {
             "outlinewidth": 1,
             "tickcolor": "rgb(36,36,36)",
             "ticks": "outside"
            },
            "colorscale": [
             [
              0,
              "#440154"
             ],
             [
              0.1111111111111111,
              "#482878"
             ],
             [
              0.2222222222222222,
              "#3e4989"
             ],
             [
              0.3333333333333333,
              "#31688e"
             ],
             [
              0.4444444444444444,
              "#26828e"
             ],
             [
              0.5555555555555556,
              "#1f9e89"
             ],
             [
              0.6666666666666666,
              "#35b779"
             ],
             [
              0.7777777777777778,
              "#6ece58"
             ],
             [
              0.8888888888888888,
              "#b5de2b"
             ],
             [
              1,
              "#fde725"
             ]
            ],
            "type": "contour"
           }
          ],
          "contourcarpet": [
           {
            "colorbar": {
             "outlinewidth": 1,
             "tickcolor": "rgb(36,36,36)",
             "ticks": "outside"
            },
            "type": "contourcarpet"
           }
          ],
          "heatmap": [
           {
            "colorbar": {
             "outlinewidth": 1,
             "tickcolor": "rgb(36,36,36)",
             "ticks": "outside"
            },
            "colorscale": [
             [
              0,
              "#440154"
             ],
             [
              0.1111111111111111,
              "#482878"
             ],
             [
              0.2222222222222222,
              "#3e4989"
             ],
             [
              0.3333333333333333,
              "#31688e"
             ],
             [
              0.4444444444444444,
              "#26828e"
             ],
             [
              0.5555555555555556,
              "#1f9e89"
             ],
             [
              0.6666666666666666,
              "#35b779"
             ],
             [
              0.7777777777777778,
              "#6ece58"
             ],
             [
              0.8888888888888888,
              "#b5de2b"
             ],
             [
              1,
              "#fde725"
             ]
            ],
            "type": "heatmap"
           }
          ],
          "heatmapgl": [
           {
            "colorbar": {
             "outlinewidth": 1,
             "tickcolor": "rgb(36,36,36)",
             "ticks": "outside"
            },
            "colorscale": [
             [
              0,
              "#440154"
             ],
             [
              0.1111111111111111,
              "#482878"
             ],
             [
              0.2222222222222222,
              "#3e4989"
             ],
             [
              0.3333333333333333,
              "#31688e"
             ],
             [
              0.4444444444444444,
              "#26828e"
             ],
             [
              0.5555555555555556,
              "#1f9e89"
             ],
             [
              0.6666666666666666,
              "#35b779"
             ],
             [
              0.7777777777777778,
              "#6ece58"
             ],
             [
              0.8888888888888888,
              "#b5de2b"
             ],
             [
              1,
              "#fde725"
             ]
            ],
            "type": "heatmapgl"
           }
          ],
          "histogram": [
           {
            "marker": {
             "line": {
              "color": "white",
              "width": 0.6
             }
            },
            "type": "histogram"
           }
          ],
          "histogram2d": [
           {
            "colorbar": {
             "outlinewidth": 1,
             "tickcolor": "rgb(36,36,36)",
             "ticks": "outside"
            },
            "colorscale": [
             [
              0,
              "#440154"
             ],
             [
              0.1111111111111111,
              "#482878"
             ],
             [
              0.2222222222222222,
              "#3e4989"
             ],
             [
              0.3333333333333333,
              "#31688e"
             ],
             [
              0.4444444444444444,
              "#26828e"
             ],
             [
              0.5555555555555556,
              "#1f9e89"
             ],
             [
              0.6666666666666666,
              "#35b779"
             ],
             [
              0.7777777777777778,
              "#6ece58"
             ],
             [
              0.8888888888888888,
              "#b5de2b"
             ],
             [
              1,
              "#fde725"
             ]
            ],
            "type": "histogram2d"
           }
          ],
          "histogram2dcontour": [
           {
            "colorbar": {
             "outlinewidth": 1,
             "tickcolor": "rgb(36,36,36)",
             "ticks": "outside"
            },
            "colorscale": [
             [
              0,
              "#440154"
             ],
             [
              0.1111111111111111,
              "#482878"
             ],
             [
              0.2222222222222222,
              "#3e4989"
             ],
             [
              0.3333333333333333,
              "#31688e"
             ],
             [
              0.4444444444444444,
              "#26828e"
             ],
             [
              0.5555555555555556,
              "#1f9e89"
             ],
             [
              0.6666666666666666,
              "#35b779"
             ],
             [
              0.7777777777777778,
              "#6ece58"
             ],
             [
              0.8888888888888888,
              "#b5de2b"
             ],
             [
              1,
              "#fde725"
             ]
            ],
            "type": "histogram2dcontour"
           }
          ],
          "mesh3d": [
           {
            "colorbar": {
             "outlinewidth": 1,
             "tickcolor": "rgb(36,36,36)",
             "ticks": "outside"
            },
            "type": "mesh3d"
           }
          ],
          "parcoords": [
           {
            "line": {
             "colorbar": {
              "outlinewidth": 1,
              "tickcolor": "rgb(36,36,36)",
              "ticks": "outside"
             }
            },
            "type": "parcoords"
           }
          ],
          "pie": [
           {
            "automargin": true,
            "type": "pie"
           }
          ],
          "scatter": [
           {
            "fillpattern": {
             "fillmode": "overlay",
             "size": 10,
             "solidity": 0.2
            },
            "type": "scatter"
           }
          ],
          "scatter3d": [
           {
            "line": {
             "colorbar": {
              "outlinewidth": 1,
              "tickcolor": "rgb(36,36,36)",
              "ticks": "outside"
             }
            },
            "marker": {
             "colorbar": {
              "outlinewidth": 1,
              "tickcolor": "rgb(36,36,36)",
              "ticks": "outside"
             }
            },
            "type": "scatter3d"
           }
          ],
          "scattercarpet": [
           {
            "marker": {
             "colorbar": {
              "outlinewidth": 1,
              "tickcolor": "rgb(36,36,36)",
              "ticks": "outside"
             }
            },
            "type": "scattercarpet"
           }
          ],
          "scattergeo": [
           {
            "marker": {
             "colorbar": {
              "outlinewidth": 1,
              "tickcolor": "rgb(36,36,36)",
              "ticks": "outside"
             }
            },
            "type": "scattergeo"
           }
          ],
          "scattergl": [
           {
            "marker": {
             "colorbar": {
              "outlinewidth": 1,
              "tickcolor": "rgb(36,36,36)",
              "ticks": "outside"
             }
            },
            "type": "scattergl"
           }
          ],
          "scattermapbox": [
           {
            "marker": {
             "colorbar": {
              "outlinewidth": 1,
              "tickcolor": "rgb(36,36,36)",
              "ticks": "outside"
             }
            },
            "type": "scattermapbox"
           }
          ],
          "scatterpolar": [
           {
            "marker": {
             "colorbar": {
              "outlinewidth": 1,
              "tickcolor": "rgb(36,36,36)",
              "ticks": "outside"
             }
            },
            "type": "scatterpolar"
           }
          ],
          "scatterpolargl": [
           {
            "marker": {
             "colorbar": {
              "outlinewidth": 1,
              "tickcolor": "rgb(36,36,36)",
              "ticks": "outside"
             }
            },
            "type": "scatterpolargl"
           }
          ],
          "scatterternary": [
           {
            "marker": {
             "colorbar": {
              "outlinewidth": 1,
              "tickcolor": "rgb(36,36,36)",
              "ticks": "outside"
             }
            },
            "type": "scatterternary"
           }
          ],
          "surface": [
           {
            "colorbar": {
             "outlinewidth": 1,
             "tickcolor": "rgb(36,36,36)",
             "ticks": "outside"
            },
            "colorscale": [
             [
              0,
              "#440154"
             ],
             [
              0.1111111111111111,
              "#482878"
             ],
             [
              0.2222222222222222,
              "#3e4989"
             ],
             [
              0.3333333333333333,
              "#31688e"
             ],
             [
              0.4444444444444444,
              "#26828e"
             ],
             [
              0.5555555555555556,
              "#1f9e89"
             ],
             [
              0.6666666666666666,
              "#35b779"
             ],
             [
              0.7777777777777778,
              "#6ece58"
             ],
             [
              0.8888888888888888,
              "#b5de2b"
             ],
             [
              1,
              "#fde725"
             ]
            ],
            "type": "surface"
           }
          ],
          "table": [
           {
            "cells": {
             "fill": {
              "color": "rgb(237,237,237)"
             },
             "line": {
              "color": "white"
             }
            },
            "header": {
             "fill": {
              "color": "rgb(217,217,217)"
             },
             "line": {
              "color": "white"
             }
            },
            "type": "table"
           }
          ]
         },
         "layout": {
          "annotationdefaults": {
           "arrowhead": 0,
           "arrowwidth": 1
          },
          "autotypenumbers": "strict",
          "coloraxis": {
           "colorbar": {
            "outlinewidth": 1,
            "tickcolor": "rgb(36,36,36)",
            "ticks": "outside"
           }
          },
          "colorscale": {
           "diverging": [
            [
             0,
             "rgb(103,0,31)"
            ],
            [
             0.1,
             "rgb(178,24,43)"
            ],
            [
             0.2,
             "rgb(214,96,77)"
            ],
            [
             0.3,
             "rgb(244,165,130)"
            ],
            [
             0.4,
             "rgb(253,219,199)"
            ],
            [
             0.5,
             "rgb(247,247,247)"
            ],
            [
             0.6,
             "rgb(209,229,240)"
            ],
            [
             0.7,
             "rgb(146,197,222)"
            ],
            [
             0.8,
             "rgb(67,147,195)"
            ],
            [
             0.9,
             "rgb(33,102,172)"
            ],
            [
             1,
             "rgb(5,48,97)"
            ]
           ],
           "sequential": [
            [
             0,
             "#440154"
            ],
            [
             0.1111111111111111,
             "#482878"
            ],
            [
             0.2222222222222222,
             "#3e4989"
            ],
            [
             0.3333333333333333,
             "#31688e"
            ],
            [
             0.4444444444444444,
             "#26828e"
            ],
            [
             0.5555555555555556,
             "#1f9e89"
            ],
            [
             0.6666666666666666,
             "#35b779"
            ],
            [
             0.7777777777777778,
             "#6ece58"
            ],
            [
             0.8888888888888888,
             "#b5de2b"
            ],
            [
             1,
             "#fde725"
            ]
           ],
           "sequentialminus": [
            [
             0,
             "#440154"
            ],
            [
             0.1111111111111111,
             "#482878"
            ],
            [
             0.2222222222222222,
             "#3e4989"
            ],
            [
             0.3333333333333333,
             "#31688e"
            ],
            [
             0.4444444444444444,
             "#26828e"
            ],
            [
             0.5555555555555556,
             "#1f9e89"
            ],
            [
             0.6666666666666666,
             "#35b779"
            ],
            [
             0.7777777777777778,
             "#6ece58"
            ],
            [
             0.8888888888888888,
             "#b5de2b"
            ],
            [
             1,
             "#fde725"
            ]
           ]
          },
          "colorway": [
           "#1F77B4",
           "#FF7F0E",
           "#2CA02C",
           "#D62728",
           "#9467BD",
           "#8C564B",
           "#E377C2",
           "#7F7F7F",
           "#BCBD22",
           "#17BECF"
          ],
          "font": {
           "color": "rgb(36,36,36)"
          },
          "geo": {
           "bgcolor": "white",
           "lakecolor": "white",
           "landcolor": "white",
           "showlakes": true,
           "showland": true,
           "subunitcolor": "white"
          },
          "hoverlabel": {
           "align": "left"
          },
          "hovermode": "closest",
          "mapbox": {
           "style": "light"
          },
          "paper_bgcolor": "white",
          "plot_bgcolor": "white",
          "polar": {
           "angularaxis": {
            "gridcolor": "rgb(232,232,232)",
            "linecolor": "rgb(36,36,36)",
            "showgrid": false,
            "showline": true,
            "ticks": "outside"
           },
           "bgcolor": "white",
           "radialaxis": {
            "gridcolor": "rgb(232,232,232)",
            "linecolor": "rgb(36,36,36)",
            "showgrid": false,
            "showline": true,
            "ticks": "outside"
           }
          },
          "scene": {
           "xaxis": {
            "backgroundcolor": "white",
            "gridcolor": "rgb(232,232,232)",
            "gridwidth": 2,
            "linecolor": "rgb(36,36,36)",
            "showbackground": true,
            "showgrid": false,
            "showline": true,
            "ticks": "outside",
            "zeroline": false,
            "zerolinecolor": "rgb(36,36,36)"
           },
           "yaxis": {
            "backgroundcolor": "white",
            "gridcolor": "rgb(232,232,232)",
            "gridwidth": 2,
            "linecolor": "rgb(36,36,36)",
            "showbackground": true,
            "showgrid": false,
            "showline": true,
            "ticks": "outside",
            "zeroline": false,
            "zerolinecolor": "rgb(36,36,36)"
           },
           "zaxis": {
            "backgroundcolor": "white",
            "gridcolor": "rgb(232,232,232)",
            "gridwidth": 2,
            "linecolor": "rgb(36,36,36)",
            "showbackground": true,
            "showgrid": false,
            "showline": true,
            "ticks": "outside",
            "zeroline": false,
            "zerolinecolor": "rgb(36,36,36)"
           }
          },
          "shapedefaults": {
           "fillcolor": "black",
           "line": {
            "width": 0
           },
           "opacity": 0.3
          },
          "ternary": {
           "aaxis": {
            "gridcolor": "rgb(232,232,232)",
            "linecolor": "rgb(36,36,36)",
            "showgrid": false,
            "showline": true,
            "ticks": "outside"
           },
           "baxis": {
            "gridcolor": "rgb(232,232,232)",
            "linecolor": "rgb(36,36,36)",
            "showgrid": false,
            "showline": true,
            "ticks": "outside"
           },
           "bgcolor": "white",
           "caxis": {
            "gridcolor": "rgb(232,232,232)",
            "linecolor": "rgb(36,36,36)",
            "showgrid": false,
            "showline": true,
            "ticks": "outside"
           }
          },
          "title": {
           "x": 0.05
          },
          "xaxis": {
           "automargin": true,
           "gridcolor": "rgb(232,232,232)",
           "linecolor": "rgb(36,36,36)",
           "showgrid": false,
           "showline": true,
           "ticks": "outside",
           "title": {
            "standoff": 15
           },
           "zeroline": false,
           "zerolinecolor": "rgb(36,36,36)"
          },
          "yaxis": {
           "automargin": true,
           "gridcolor": "rgb(232,232,232)",
           "linecolor": "rgb(36,36,36)",
           "showgrid": false,
           "showline": true,
           "ticks": "outside",
           "title": {
            "standoff": 15
           },
           "zeroline": false,
           "zerolinecolor": "rgb(36,36,36)"
          }
         }
        },
        "width": 1024,
        "xaxis": {
         "showgrid": false,
         "title": {
          "text": " "
         }
        },
        "yaxis": {
         "categoryorder": "category descending",
         "showgrid": false,
         "showline": false,
         "ticksuffix": " ",
         "title": {
          "text": " "
         }
        }
       }
      }
     },
     "metadata": {},
     "output_type": "display_data"
    }
   ],
   "source": [
    "fig_duration = go.Figure()\n",
    "fig_duration.add_trace(go.Bar(x=df_means_situations.duration, y=df_means_situations.situation, \n",
    "                        orientation='h', showlegend=True,\n",
    "                        text=np.round(df_means_situations.duration,decimals = 0),\n",
    "                        name='Duration', marker_color= marking_red))\n",
    "fig_duration.add_trace(go.Bar(x=df_means_situations.standtime, y=df_means_situations.situation, \n",
    "                        orientation='h', showlegend=True,\n",
    "                        text=np.round(df_means_situations.standtime,decimals = 0),\n",
    "                        name='Standtime', marker_color='#000000'))\n",
    "fig_duration.update_xaxes(showgrid=False)\n",
    "fig_duration.update_yaxes(showgrid=False, categoryorder=\"category descending\",\n",
    "                 ticksuffix=' ', showline=False)\n",
    "fig_duration.update_traces(hovertemplate=None)\n",
    "fig_duration.update_layout(\n",
    "#    title='Mean of Duration & Standingtimes per Situation (Seconds)(Field)',\n",
    "    margin=dict(t=80, b=0, l=70, r=40),\n",
    "    hovermode=\"y unified\", \n",
    "    xaxis_title=' ', yaxis_title=\" \",\n",
    "    width=plot_width, height=plot_height,\n",
    "    font=dict(family=\"Lato, sans-serif\",size=14),\n",
    "    legend=dict(orientation=\"h\", yanchor=\"bottom\",y=1, xanchor=\"center\", x=0.5),\n",
    "    hoverlabel=dict(font_size=13, font_family=\"Lato, sans-serif\"),\n",
    "    paper_bgcolor='rgba(0,0,0,0)',\n",
    "    plot_bgcolor='rgba(0,0,0,0)'\n",
    ")"
   ]
  },
  {
   "cell_type": "code",
   "execution_count": 22,
   "id": "7d29dcd6-d763-4dc1-ac9f-08ee19222870",
   "metadata": {},
   "outputs": [
    {
     "data": {
      "application/vnd.plotly.v1+json": {
       "config": {
        "plotlyServerURL": "https://plot.ly"
       },
       "data": [
        {
         "marker": {
          "color": "#961C26"
         },
         "name": "Duration",
         "orientation": "h",
         "showlegend": true,
         "text": [
          1402,
          1497,
          1333,
          1568,
          1713,
          1484,
          1465,
          1439,
          1487
         ],
         "type": "bar",
         "x": [
          1402.066792011261,
          1496.7096680402756,
          1333.0554070472715,
          1567.5608431100843,
          1712.5643739700315,
          1483.615329027176,
          1464.6618000268936,
          1439.0566629171371,
          1487.4113595187664
         ],
         "y": [
          "Subject 1",
          "Subject 2",
          "Subject 3",
          "Subject 4",
          "Subject 5",
          "Subject 6",
          "Subject 7",
          "Subject 8",
          null
         ]
        }
       ],
       "layout": {
        "font": {
         "family": "Lato, sans-serif",
         "size": 14
        },
        "height": 768,
        "hoverlabel": {
         "font": {
          "family": "Lato, sans-serif",
          "size": 13
         }
        },
        "hovermode": "y unified",
        "legend": {
         "orientation": "h",
         "x": 0.5,
         "xanchor": "center",
         "y": 1,
         "yanchor": "bottom"
        },
        "margin": {
         "b": 0,
         "l": 70,
         "r": 40,
         "t": 80
        },
        "paper_bgcolor": "rgba(0,0,0,0)",
        "plot_bgcolor": "rgba(0,0,0,0)",
        "template": {
         "data": {
          "bar": [
           {
            "error_x": {
             "color": "rgb(36,36,36)"
            },
            "error_y": {
             "color": "rgb(36,36,36)"
            },
            "marker": {
             "line": {
              "color": "white",
              "width": 0.5
             },
             "pattern": {
              "fillmode": "overlay",
              "size": 10,
              "solidity": 0.2
             }
            },
            "type": "bar"
           }
          ],
          "barpolar": [
           {
            "marker": {
             "line": {
              "color": "white",
              "width": 0.5
             },
             "pattern": {
              "fillmode": "overlay",
              "size": 10,
              "solidity": 0.2
             }
            },
            "type": "barpolar"
           }
          ],
          "carpet": [
           {
            "aaxis": {
             "endlinecolor": "rgb(36,36,36)",
             "gridcolor": "white",
             "linecolor": "white",
             "minorgridcolor": "white",
             "startlinecolor": "rgb(36,36,36)"
            },
            "baxis": {
             "endlinecolor": "rgb(36,36,36)",
             "gridcolor": "white",
             "linecolor": "white",
             "minorgridcolor": "white",
             "startlinecolor": "rgb(36,36,36)"
            },
            "type": "carpet"
           }
          ],
          "choropleth": [
           {
            "colorbar": {
             "outlinewidth": 1,
             "tickcolor": "rgb(36,36,36)",
             "ticks": "outside"
            },
            "type": "choropleth"
           }
          ],
          "contour": [
           {
            "colorbar": {
             "outlinewidth": 1,
             "tickcolor": "rgb(36,36,36)",
             "ticks": "outside"
            },
            "colorscale": [
             [
              0,
              "#440154"
             ],
             [
              0.1111111111111111,
              "#482878"
             ],
             [
              0.2222222222222222,
              "#3e4989"
             ],
             [
              0.3333333333333333,
              "#31688e"
             ],
             [
              0.4444444444444444,
              "#26828e"
             ],
             [
              0.5555555555555556,
              "#1f9e89"
             ],
             [
              0.6666666666666666,
              "#35b779"
             ],
             [
              0.7777777777777778,
              "#6ece58"
             ],
             [
              0.8888888888888888,
              "#b5de2b"
             ],
             [
              1,
              "#fde725"
             ]
            ],
            "type": "contour"
           }
          ],
          "contourcarpet": [
           {
            "colorbar": {
             "outlinewidth": 1,
             "tickcolor": "rgb(36,36,36)",
             "ticks": "outside"
            },
            "type": "contourcarpet"
           }
          ],
          "heatmap": [
           {
            "colorbar": {
             "outlinewidth": 1,
             "tickcolor": "rgb(36,36,36)",
             "ticks": "outside"
            },
            "colorscale": [
             [
              0,
              "#440154"
             ],
             [
              0.1111111111111111,
              "#482878"
             ],
             [
              0.2222222222222222,
              "#3e4989"
             ],
             [
              0.3333333333333333,
              "#31688e"
             ],
             [
              0.4444444444444444,
              "#26828e"
             ],
             [
              0.5555555555555556,
              "#1f9e89"
             ],
             [
              0.6666666666666666,
              "#35b779"
             ],
             [
              0.7777777777777778,
              "#6ece58"
             ],
             [
              0.8888888888888888,
              "#b5de2b"
             ],
             [
              1,
              "#fde725"
             ]
            ],
            "type": "heatmap"
           }
          ],
          "heatmapgl": [
           {
            "colorbar": {
             "outlinewidth": 1,
             "tickcolor": "rgb(36,36,36)",
             "ticks": "outside"
            },
            "colorscale": [
             [
              0,
              "#440154"
             ],
             [
              0.1111111111111111,
              "#482878"
             ],
             [
              0.2222222222222222,
              "#3e4989"
             ],
             [
              0.3333333333333333,
              "#31688e"
             ],
             [
              0.4444444444444444,
              "#26828e"
             ],
             [
              0.5555555555555556,
              "#1f9e89"
             ],
             [
              0.6666666666666666,
              "#35b779"
             ],
             [
              0.7777777777777778,
              "#6ece58"
             ],
             [
              0.8888888888888888,
              "#b5de2b"
             ],
             [
              1,
              "#fde725"
             ]
            ],
            "type": "heatmapgl"
           }
          ],
          "histogram": [
           {
            "marker": {
             "line": {
              "color": "white",
              "width": 0.6
             }
            },
            "type": "histogram"
           }
          ],
          "histogram2d": [
           {
            "colorbar": {
             "outlinewidth": 1,
             "tickcolor": "rgb(36,36,36)",
             "ticks": "outside"
            },
            "colorscale": [
             [
              0,
              "#440154"
             ],
             [
              0.1111111111111111,
              "#482878"
             ],
             [
              0.2222222222222222,
              "#3e4989"
             ],
             [
              0.3333333333333333,
              "#31688e"
             ],
             [
              0.4444444444444444,
              "#26828e"
             ],
             [
              0.5555555555555556,
              "#1f9e89"
             ],
             [
              0.6666666666666666,
              "#35b779"
             ],
             [
              0.7777777777777778,
              "#6ece58"
             ],
             [
              0.8888888888888888,
              "#b5de2b"
             ],
             [
              1,
              "#fde725"
             ]
            ],
            "type": "histogram2d"
           }
          ],
          "histogram2dcontour": [
           {
            "colorbar": {
             "outlinewidth": 1,
             "tickcolor": "rgb(36,36,36)",
             "ticks": "outside"
            },
            "colorscale": [
             [
              0,
              "#440154"
             ],
             [
              0.1111111111111111,
              "#482878"
             ],
             [
              0.2222222222222222,
              "#3e4989"
             ],
             [
              0.3333333333333333,
              "#31688e"
             ],
             [
              0.4444444444444444,
              "#26828e"
             ],
             [
              0.5555555555555556,
              "#1f9e89"
             ],
             [
              0.6666666666666666,
              "#35b779"
             ],
             [
              0.7777777777777778,
              "#6ece58"
             ],
             [
              0.8888888888888888,
              "#b5de2b"
             ],
             [
              1,
              "#fde725"
             ]
            ],
            "type": "histogram2dcontour"
           }
          ],
          "mesh3d": [
           {
            "colorbar": {
             "outlinewidth": 1,
             "tickcolor": "rgb(36,36,36)",
             "ticks": "outside"
            },
            "type": "mesh3d"
           }
          ],
          "parcoords": [
           {
            "line": {
             "colorbar": {
              "outlinewidth": 1,
              "tickcolor": "rgb(36,36,36)",
              "ticks": "outside"
             }
            },
            "type": "parcoords"
           }
          ],
          "pie": [
           {
            "automargin": true,
            "type": "pie"
           }
          ],
          "scatter": [
           {
            "fillpattern": {
             "fillmode": "overlay",
             "size": 10,
             "solidity": 0.2
            },
            "type": "scatter"
           }
          ],
          "scatter3d": [
           {
            "line": {
             "colorbar": {
              "outlinewidth": 1,
              "tickcolor": "rgb(36,36,36)",
              "ticks": "outside"
             }
            },
            "marker": {
             "colorbar": {
              "outlinewidth": 1,
              "tickcolor": "rgb(36,36,36)",
              "ticks": "outside"
             }
            },
            "type": "scatter3d"
           }
          ],
          "scattercarpet": [
           {
            "marker": {
             "colorbar": {
              "outlinewidth": 1,
              "tickcolor": "rgb(36,36,36)",
              "ticks": "outside"
             }
            },
            "type": "scattercarpet"
           }
          ],
          "scattergeo": [
           {
            "marker": {
             "colorbar": {
              "outlinewidth": 1,
              "tickcolor": "rgb(36,36,36)",
              "ticks": "outside"
             }
            },
            "type": "scattergeo"
           }
          ],
          "scattergl": [
           {
            "marker": {
             "colorbar": {
              "outlinewidth": 1,
              "tickcolor": "rgb(36,36,36)",
              "ticks": "outside"
             }
            },
            "type": "scattergl"
           }
          ],
          "scattermapbox": [
           {
            "marker": {
             "colorbar": {
              "outlinewidth": 1,
              "tickcolor": "rgb(36,36,36)",
              "ticks": "outside"
             }
            },
            "type": "scattermapbox"
           }
          ],
          "scatterpolar": [
           {
            "marker": {
             "colorbar": {
              "outlinewidth": 1,
              "tickcolor": "rgb(36,36,36)",
              "ticks": "outside"
             }
            },
            "type": "scatterpolar"
           }
          ],
          "scatterpolargl": [
           {
            "marker": {
             "colorbar": {
              "outlinewidth": 1,
              "tickcolor": "rgb(36,36,36)",
              "ticks": "outside"
             }
            },
            "type": "scatterpolargl"
           }
          ],
          "scatterternary": [
           {
            "marker": {
             "colorbar": {
              "outlinewidth": 1,
              "tickcolor": "rgb(36,36,36)",
              "ticks": "outside"
             }
            },
            "type": "scatterternary"
           }
          ],
          "surface": [
           {
            "colorbar": {
             "outlinewidth": 1,
             "tickcolor": "rgb(36,36,36)",
             "ticks": "outside"
            },
            "colorscale": [
             [
              0,
              "#440154"
             ],
             [
              0.1111111111111111,
              "#482878"
             ],
             [
              0.2222222222222222,
              "#3e4989"
             ],
             [
              0.3333333333333333,
              "#31688e"
             ],
             [
              0.4444444444444444,
              "#26828e"
             ],
             [
              0.5555555555555556,
              "#1f9e89"
             ],
             [
              0.6666666666666666,
              "#35b779"
             ],
             [
              0.7777777777777778,
              "#6ece58"
             ],
             [
              0.8888888888888888,
              "#b5de2b"
             ],
             [
              1,
              "#fde725"
             ]
            ],
            "type": "surface"
           }
          ],
          "table": [
           {
            "cells": {
             "fill": {
              "color": "rgb(237,237,237)"
             },
             "line": {
              "color": "white"
             }
            },
            "header": {
             "fill": {
              "color": "rgb(217,217,217)"
             },
             "line": {
              "color": "white"
             }
            },
            "type": "table"
           }
          ]
         },
         "layout": {
          "annotationdefaults": {
           "arrowhead": 0,
           "arrowwidth": 1
          },
          "autotypenumbers": "strict",
          "coloraxis": {
           "colorbar": {
            "outlinewidth": 1,
            "tickcolor": "rgb(36,36,36)",
            "ticks": "outside"
           }
          },
          "colorscale": {
           "diverging": [
            [
             0,
             "rgb(103,0,31)"
            ],
            [
             0.1,
             "rgb(178,24,43)"
            ],
            [
             0.2,
             "rgb(214,96,77)"
            ],
            [
             0.3,
             "rgb(244,165,130)"
            ],
            [
             0.4,
             "rgb(253,219,199)"
            ],
            [
             0.5,
             "rgb(247,247,247)"
            ],
            [
             0.6,
             "rgb(209,229,240)"
            ],
            [
             0.7,
             "rgb(146,197,222)"
            ],
            [
             0.8,
             "rgb(67,147,195)"
            ],
            [
             0.9,
             "rgb(33,102,172)"
            ],
            [
             1,
             "rgb(5,48,97)"
            ]
           ],
           "sequential": [
            [
             0,
             "#440154"
            ],
            [
             0.1111111111111111,
             "#482878"
            ],
            [
             0.2222222222222222,
             "#3e4989"
            ],
            [
             0.3333333333333333,
             "#31688e"
            ],
            [
             0.4444444444444444,
             "#26828e"
            ],
            [
             0.5555555555555556,
             "#1f9e89"
            ],
            [
             0.6666666666666666,
             "#35b779"
            ],
            [
             0.7777777777777778,
             "#6ece58"
            ],
            [
             0.8888888888888888,
             "#b5de2b"
            ],
            [
             1,
             "#fde725"
            ]
           ],
           "sequentialminus": [
            [
             0,
             "#440154"
            ],
            [
             0.1111111111111111,
             "#482878"
            ],
            [
             0.2222222222222222,
             "#3e4989"
            ],
            [
             0.3333333333333333,
             "#31688e"
            ],
            [
             0.4444444444444444,
             "#26828e"
            ],
            [
             0.5555555555555556,
             "#1f9e89"
            ],
            [
             0.6666666666666666,
             "#35b779"
            ],
            [
             0.7777777777777778,
             "#6ece58"
            ],
            [
             0.8888888888888888,
             "#b5de2b"
            ],
            [
             1,
             "#fde725"
            ]
           ]
          },
          "colorway": [
           "#1F77B4",
           "#FF7F0E",
           "#2CA02C",
           "#D62728",
           "#9467BD",
           "#8C564B",
           "#E377C2",
           "#7F7F7F",
           "#BCBD22",
           "#17BECF"
          ],
          "font": {
           "color": "rgb(36,36,36)"
          },
          "geo": {
           "bgcolor": "white",
           "lakecolor": "white",
           "landcolor": "white",
           "showlakes": true,
           "showland": true,
           "subunitcolor": "white"
          },
          "hoverlabel": {
           "align": "left"
          },
          "hovermode": "closest",
          "mapbox": {
           "style": "light"
          },
          "paper_bgcolor": "white",
          "plot_bgcolor": "white",
          "polar": {
           "angularaxis": {
            "gridcolor": "rgb(232,232,232)",
            "linecolor": "rgb(36,36,36)",
            "showgrid": false,
            "showline": true,
            "ticks": "outside"
           },
           "bgcolor": "white",
           "radialaxis": {
            "gridcolor": "rgb(232,232,232)",
            "linecolor": "rgb(36,36,36)",
            "showgrid": false,
            "showline": true,
            "ticks": "outside"
           }
          },
          "scene": {
           "xaxis": {
            "backgroundcolor": "white",
            "gridcolor": "rgb(232,232,232)",
            "gridwidth": 2,
            "linecolor": "rgb(36,36,36)",
            "showbackground": true,
            "showgrid": false,
            "showline": true,
            "ticks": "outside",
            "zeroline": false,
            "zerolinecolor": "rgb(36,36,36)"
           },
           "yaxis": {
            "backgroundcolor": "white",
            "gridcolor": "rgb(232,232,232)",
            "gridwidth": 2,
            "linecolor": "rgb(36,36,36)",
            "showbackground": true,
            "showgrid": false,
            "showline": true,
            "ticks": "outside",
            "zeroline": false,
            "zerolinecolor": "rgb(36,36,36)"
           },
           "zaxis": {
            "backgroundcolor": "white",
            "gridcolor": "rgb(232,232,232)",
            "gridwidth": 2,
            "linecolor": "rgb(36,36,36)",
            "showbackground": true,
            "showgrid": false,
            "showline": true,
            "ticks": "outside",
            "zeroline": false,
            "zerolinecolor": "rgb(36,36,36)"
           }
          },
          "shapedefaults": {
           "fillcolor": "black",
           "line": {
            "width": 0
           },
           "opacity": 0.3
          },
          "ternary": {
           "aaxis": {
            "gridcolor": "rgb(232,232,232)",
            "linecolor": "rgb(36,36,36)",
            "showgrid": false,
            "showline": true,
            "ticks": "outside"
           },
           "baxis": {
            "gridcolor": "rgb(232,232,232)",
            "linecolor": "rgb(36,36,36)",
            "showgrid": false,
            "showline": true,
            "ticks": "outside"
           },
           "bgcolor": "white",
           "caxis": {
            "gridcolor": "rgb(232,232,232)",
            "linecolor": "rgb(36,36,36)",
            "showgrid": false,
            "showline": true,
            "ticks": "outside"
           }
          },
          "title": {
           "x": 0.05
          },
          "xaxis": {
           "automargin": true,
           "gridcolor": "rgb(232,232,232)",
           "linecolor": "rgb(36,36,36)",
           "showgrid": false,
           "showline": true,
           "ticks": "outside",
           "title": {
            "standoff": 15
           },
           "zeroline": false,
           "zerolinecolor": "rgb(36,36,36)"
          },
          "yaxis": {
           "automargin": true,
           "gridcolor": "rgb(232,232,232)",
           "linecolor": "rgb(36,36,36)",
           "showgrid": false,
           "showline": true,
           "ticks": "outside",
           "title": {
            "standoff": 15
           },
           "zeroline": false,
           "zerolinecolor": "rgb(36,36,36)"
          }
         }
        },
        "width": 1024,
        "xaxis": {
         "showgrid": false,
         "title": {
          "text": " "
         }
        },
        "yaxis": {
         "categoryarray": [
          "Subject 12",
          "Subject 11",
          "Subject 10",
          "Subject 9",
          "Subject 8",
          "Subject 7",
          "Subject 6",
          "Subject 5",
          "Subject 4",
          "Subject 3",
          "Subject 2",
          "Subject 1"
         ],
         "categoryorder": "array",
         "showgrid": false,
         "showline": false,
         "ticksuffix": " ",
         "title": {
          "text": " "
         }
        }
       }
      }
     },
     "metadata": {},
     "output_type": "display_data"
    }
   ],
   "source": [
    "fig_duration_subject = go.Figure()\n",
    "fig_duration_subject.add_trace(go.Bar(x = df_all.duration, y = df_all.subject, \n",
    "                        orientation='h', showlegend=True,\n",
    "                        text=np.round(df_all.duration,decimals = 0),\n",
    "                        name='Duration', marker_color=marking_red))\n",
    "fig_duration_subject.update_xaxes(showgrid=False)\n",
    "fig_duration_subject.update_yaxes(showgrid=False, categoryorder='array', categoryarray= [\"Subject 12\",\"Subject 11\",\"Subject 10\",\"Subject 9\",\"Subject 8\",\"Subject 7\",\"Subject 6\",\"Subject 5\",\"Subject 4\",\"Subject 3\",\"Subject 2\",\"Subject 1\"],\n",
    "                 ticksuffix=' ', showline=False)\n",
    "fig_duration_subject.update_traces(hovertemplate=None)\n",
    "fig_duration_subject.update_layout(\n",
    "#    title='Duration per Subject (Seconds)(Field)',\n",
    "    margin=dict(t=80, b=0, l=70, r=40),\n",
    "    hovermode=\"y unified\", \n",
    "    xaxis_title=' ', yaxis_title=\" \",\n",
    "    width=plot_width, height=plot_height,\n",
    "    font=dict(family=\"Lato, sans-serif\",size=14),\n",
    "    legend=dict(orientation=\"h\", yanchor=\"bottom\",y=1, xanchor=\"center\", x=0.5),\n",
    "    hoverlabel=dict(font_size=13, font_family=\"Lato, sans-serif\"),\n",
    "    paper_bgcolor='rgba(0,0,0,0)',\n",
    "    plot_bgcolor='rgba(0,0,0,0)'\n",
    ")"
   ]
  },
  {
   "attachments": {},
   "cell_type": "markdown",
   "id": "3a7e4c2d",
   "metadata": {},
   "source": [
    "### Combined Plot"
   ]
  },
  {
   "cell_type": "code",
   "execution_count": 23,
   "id": "81d88f54",
   "metadata": {},
   "outputs": [
    {
     "data": {
      "application/vnd.plotly.v1+json": {
       "config": {
        "plotlyServerURL": "https://plot.ly"
       },
       "data": [
        {
         "base": 0,
         "marker": {
          "color": "#961C26"
         },
         "name": "Left Rotations",
         "offsetgroup": "1",
         "orientation": "h",
         "showlegend": true,
         "text": [
          7,
          5,
          3
         ],
         "type": "bar",
         "x": [
          -6.625,
          -4.6875,
          -3.2100694444444446
         ],
         "xaxis": "x",
         "y": [
          "A",
          "C",
          "D"
         ],
         "yaxis": "y"
        },
        {
         "base": 0,
         "marker": {
          "color": "#000000"
         },
         "name": "Right Rotations",
         "offsetgroup": "1",
         "orientation": "h",
         "showlegend": true,
         "text": [
          4,
          2,
          2
         ],
         "type": "bar",
         "x": [
          3.875,
          1.875,
          1.9913194444444442
         ],
         "xaxis": "x",
         "y": [
          "A",
          "C",
          "D"
         ],
         "yaxis": "y"
        },
        {
         "base": 0,
         "marker": {
          "color": "#961C26"
         },
         "name": "Left Angles",
         "offsetgroup": "1",
         "orientation": "h",
         "showlegend": true,
         "text": [
          -47,
          -52,
          -49
         ],
         "type": "bar",
         "x": [
          -46.776039123535156,
          -52.3704948425293,
          -48.78428649902344
         ],
         "xaxis": "x2",
         "y": [
          "A",
          "C",
          "D"
         ],
         "yaxis": "y2"
        },
        {
         "base": 0,
         "marker": {
          "color": "#000000"
         },
         "name": "Right Angles",
         "offsetgroup": "1",
         "orientation": "h",
         "showlegend": true,
         "text": [
          48,
          56,
          49
         ],
         "type": "bar",
         "x": [
          47.63672637939453,
          56.33606719970703,
          48.72163772583008
         ],
         "xaxis": "x2",
         "y": [
          "A",
          "C",
          "D"
         ],
         "yaxis": "y2"
        },
        {
         "marker": {
          "color": "#961C26"
         },
         "name": "Duration",
         "orientation": "h",
         "showlegend": true,
         "text": [
          55,
          35,
          22
         ],
         "type": "bar",
         "x": [
          54.6884651184082,
          34.62575912475586,
          22.172016143798828
         ],
         "xaxis": "x3",
         "y": [
          "A",
          "C",
          "D"
         ],
         "yaxis": "y3"
        },
        {
         "marker": {
          "color": "#000000"
         },
         "name": "Standtime",
         "orientation": "h",
         "showlegend": true,
         "text": [
          31,
          8,
          6
         ],
         "type": "bar",
         "x": [
          30.500028610229492,
          8.124380111694336,
          5.820295333862305
         ],
         "xaxis": "x3",
         "y": [
          "A",
          "C",
          "D"
         ],
         "yaxis": "y3"
        }
       ],
       "layout": {
        "annotations": [
         {
          "font": {
           "size": 26
          },
          "showarrow": false,
          "text": "Head rotation frequency",
          "x": 0.15,
          "xanchor": "center",
          "xref": "paper",
          "y": 1,
          "yanchor": "bottom",
          "yref": "paper"
         },
         {
          "font": {
           "size": 26
          },
          "showarrow": false,
          "text": "Head rotation angles",
          "x": 0.49999999999999994,
          "xanchor": "center",
          "xref": "paper",
          "y": 1,
          "yanchor": "bottom",
          "yref": "paper"
         },
         {
          "font": {
           "size": 26
          },
          "showarrow": false,
          "text": "Time spent at situations",
          "x": 0.85,
          "xanchor": "center",
          "xref": "paper",
          "y": 1,
          "yanchor": "bottom",
          "yref": "paper"
         }
        ],
        "font": {
         "family": "Lato, sans-serif",
         "size": 20
        },
        "height": 512,
        "hoverlabel": {
         "font": {
          "family": "Lato, sans-serif",
          "size": 20
         }
        },
        "hovermode": "y unified",
        "paper_bgcolor": "rgba(255,255,255,1)",
        "plot_bgcolor": "rgba(255,255,255,1)",
        "showlegend": false,
        "template": {
         "data": {
          "bar": [
           {
            "error_x": {
             "color": "rgb(36,36,36)"
            },
            "error_y": {
             "color": "rgb(36,36,36)"
            },
            "marker": {
             "line": {
              "color": "white",
              "width": 0.5
             },
             "pattern": {
              "fillmode": "overlay",
              "size": 10,
              "solidity": 0.2
             }
            },
            "type": "bar"
           }
          ],
          "barpolar": [
           {
            "marker": {
             "line": {
              "color": "white",
              "width": 0.5
             },
             "pattern": {
              "fillmode": "overlay",
              "size": 10,
              "solidity": 0.2
             }
            },
            "type": "barpolar"
           }
          ],
          "carpet": [
           {
            "aaxis": {
             "endlinecolor": "rgb(36,36,36)",
             "gridcolor": "white",
             "linecolor": "white",
             "minorgridcolor": "white",
             "startlinecolor": "rgb(36,36,36)"
            },
            "baxis": {
             "endlinecolor": "rgb(36,36,36)",
             "gridcolor": "white",
             "linecolor": "white",
             "minorgridcolor": "white",
             "startlinecolor": "rgb(36,36,36)"
            },
            "type": "carpet"
           }
          ],
          "choropleth": [
           {
            "colorbar": {
             "outlinewidth": 1,
             "tickcolor": "rgb(36,36,36)",
             "ticks": "outside"
            },
            "type": "choropleth"
           }
          ],
          "contour": [
           {
            "colorbar": {
             "outlinewidth": 1,
             "tickcolor": "rgb(36,36,36)",
             "ticks": "outside"
            },
            "colorscale": [
             [
              0,
              "#440154"
             ],
             [
              0.1111111111111111,
              "#482878"
             ],
             [
              0.2222222222222222,
              "#3e4989"
             ],
             [
              0.3333333333333333,
              "#31688e"
             ],
             [
              0.4444444444444444,
              "#26828e"
             ],
             [
              0.5555555555555556,
              "#1f9e89"
             ],
             [
              0.6666666666666666,
              "#35b779"
             ],
             [
              0.7777777777777778,
              "#6ece58"
             ],
             [
              0.8888888888888888,
              "#b5de2b"
             ],
             [
              1,
              "#fde725"
             ]
            ],
            "type": "contour"
           }
          ],
          "contourcarpet": [
           {
            "colorbar": {
             "outlinewidth": 1,
             "tickcolor": "rgb(36,36,36)",
             "ticks": "outside"
            },
            "type": "contourcarpet"
           }
          ],
          "heatmap": [
           {
            "colorbar": {
             "outlinewidth": 1,
             "tickcolor": "rgb(36,36,36)",
             "ticks": "outside"
            },
            "colorscale": [
             [
              0,
              "#440154"
             ],
             [
              0.1111111111111111,
              "#482878"
             ],
             [
              0.2222222222222222,
              "#3e4989"
             ],
             [
              0.3333333333333333,
              "#31688e"
             ],
             [
              0.4444444444444444,
              "#26828e"
             ],
             [
              0.5555555555555556,
              "#1f9e89"
             ],
             [
              0.6666666666666666,
              "#35b779"
             ],
             [
              0.7777777777777778,
              "#6ece58"
             ],
             [
              0.8888888888888888,
              "#b5de2b"
             ],
             [
              1,
              "#fde725"
             ]
            ],
            "type": "heatmap"
           }
          ],
          "heatmapgl": [
           {
            "colorbar": {
             "outlinewidth": 1,
             "tickcolor": "rgb(36,36,36)",
             "ticks": "outside"
            },
            "colorscale": [
             [
              0,
              "#440154"
             ],
             [
              0.1111111111111111,
              "#482878"
             ],
             [
              0.2222222222222222,
              "#3e4989"
             ],
             [
              0.3333333333333333,
              "#31688e"
             ],
             [
              0.4444444444444444,
              "#26828e"
             ],
             [
              0.5555555555555556,
              "#1f9e89"
             ],
             [
              0.6666666666666666,
              "#35b779"
             ],
             [
              0.7777777777777778,
              "#6ece58"
             ],
             [
              0.8888888888888888,
              "#b5de2b"
             ],
             [
              1,
              "#fde725"
             ]
            ],
            "type": "heatmapgl"
           }
          ],
          "histogram": [
           {
            "marker": {
             "line": {
              "color": "white",
              "width": 0.6
             }
            },
            "type": "histogram"
           }
          ],
          "histogram2d": [
           {
            "colorbar": {
             "outlinewidth": 1,
             "tickcolor": "rgb(36,36,36)",
             "ticks": "outside"
            },
            "colorscale": [
             [
              0,
              "#440154"
             ],
             [
              0.1111111111111111,
              "#482878"
             ],
             [
              0.2222222222222222,
              "#3e4989"
             ],
             [
              0.3333333333333333,
              "#31688e"
             ],
             [
              0.4444444444444444,
              "#26828e"
             ],
             [
              0.5555555555555556,
              "#1f9e89"
             ],
             [
              0.6666666666666666,
              "#35b779"
             ],
             [
              0.7777777777777778,
              "#6ece58"
             ],
             [
              0.8888888888888888,
              "#b5de2b"
             ],
             [
              1,
              "#fde725"
             ]
            ],
            "type": "histogram2d"
           }
          ],
          "histogram2dcontour": [
           {
            "colorbar": {
             "outlinewidth": 1,
             "tickcolor": "rgb(36,36,36)",
             "ticks": "outside"
            },
            "colorscale": [
             [
              0,
              "#440154"
             ],
             [
              0.1111111111111111,
              "#482878"
             ],
             [
              0.2222222222222222,
              "#3e4989"
             ],
             [
              0.3333333333333333,
              "#31688e"
             ],
             [
              0.4444444444444444,
              "#26828e"
             ],
             [
              0.5555555555555556,
              "#1f9e89"
             ],
             [
              0.6666666666666666,
              "#35b779"
             ],
             [
              0.7777777777777778,
              "#6ece58"
             ],
             [
              0.8888888888888888,
              "#b5de2b"
             ],
             [
              1,
              "#fde725"
             ]
            ],
            "type": "histogram2dcontour"
           }
          ],
          "mesh3d": [
           {
            "colorbar": {
             "outlinewidth": 1,
             "tickcolor": "rgb(36,36,36)",
             "ticks": "outside"
            },
            "type": "mesh3d"
           }
          ],
          "parcoords": [
           {
            "line": {
             "colorbar": {
              "outlinewidth": 1,
              "tickcolor": "rgb(36,36,36)",
              "ticks": "outside"
             }
            },
            "type": "parcoords"
           }
          ],
          "pie": [
           {
            "automargin": true,
            "type": "pie"
           }
          ],
          "scatter": [
           {
            "fillpattern": {
             "fillmode": "overlay",
             "size": 10,
             "solidity": 0.2
            },
            "type": "scatter"
           }
          ],
          "scatter3d": [
           {
            "line": {
             "colorbar": {
              "outlinewidth": 1,
              "tickcolor": "rgb(36,36,36)",
              "ticks": "outside"
             }
            },
            "marker": {
             "colorbar": {
              "outlinewidth": 1,
              "tickcolor": "rgb(36,36,36)",
              "ticks": "outside"
             }
            },
            "type": "scatter3d"
           }
          ],
          "scattercarpet": [
           {
            "marker": {
             "colorbar": {
              "outlinewidth": 1,
              "tickcolor": "rgb(36,36,36)",
              "ticks": "outside"
             }
            },
            "type": "scattercarpet"
           }
          ],
          "scattergeo": [
           {
            "marker": {
             "colorbar": {
              "outlinewidth": 1,
              "tickcolor": "rgb(36,36,36)",
              "ticks": "outside"
             }
            },
            "type": "scattergeo"
           }
          ],
          "scattergl": [
           {
            "marker": {
             "colorbar": {
              "outlinewidth": 1,
              "tickcolor": "rgb(36,36,36)",
              "ticks": "outside"
             }
            },
            "type": "scattergl"
           }
          ],
          "scattermapbox": [
           {
            "marker": {
             "colorbar": {
              "outlinewidth": 1,
              "tickcolor": "rgb(36,36,36)",
              "ticks": "outside"
             }
            },
            "type": "scattermapbox"
           }
          ],
          "scatterpolar": [
           {
            "marker": {
             "colorbar": {
              "outlinewidth": 1,
              "tickcolor": "rgb(36,36,36)",
              "ticks": "outside"
             }
            },
            "type": "scatterpolar"
           }
          ],
          "scatterpolargl": [
           {
            "marker": {
             "colorbar": {
              "outlinewidth": 1,
              "tickcolor": "rgb(36,36,36)",
              "ticks": "outside"
             }
            },
            "type": "scatterpolargl"
           }
          ],
          "scatterternary": [
           {
            "marker": {
             "colorbar": {
              "outlinewidth": 1,
              "tickcolor": "rgb(36,36,36)",
              "ticks": "outside"
             }
            },
            "type": "scatterternary"
           }
          ],
          "surface": [
           {
            "colorbar": {
             "outlinewidth": 1,
             "tickcolor": "rgb(36,36,36)",
             "ticks": "outside"
            },
            "colorscale": [
             [
              0,
              "#440154"
             ],
             [
              0.1111111111111111,
              "#482878"
             ],
             [
              0.2222222222222222,
              "#3e4989"
             ],
             [
              0.3333333333333333,
              "#31688e"
             ],
             [
              0.4444444444444444,
              "#26828e"
             ],
             [
              0.5555555555555556,
              "#1f9e89"
             ],
             [
              0.6666666666666666,
              "#35b779"
             ],
             [
              0.7777777777777778,
              "#6ece58"
             ],
             [
              0.8888888888888888,
              "#b5de2b"
             ],
             [
              1,
              "#fde725"
             ]
            ],
            "type": "surface"
           }
          ],
          "table": [
           {
            "cells": {
             "fill": {
              "color": "rgb(237,237,237)"
             },
             "line": {
              "color": "white"
             }
            },
            "header": {
             "fill": {
              "color": "rgb(217,217,217)"
             },
             "line": {
              "color": "white"
             }
            },
            "type": "table"
           }
          ]
         },
         "layout": {
          "annotationdefaults": {
           "arrowhead": 0,
           "arrowwidth": 1
          },
          "autotypenumbers": "strict",
          "coloraxis": {
           "colorbar": {
            "outlinewidth": 1,
            "tickcolor": "rgb(36,36,36)",
            "ticks": "outside"
           }
          },
          "colorscale": {
           "diverging": [
            [
             0,
             "rgb(103,0,31)"
            ],
            [
             0.1,
             "rgb(178,24,43)"
            ],
            [
             0.2,
             "rgb(214,96,77)"
            ],
            [
             0.3,
             "rgb(244,165,130)"
            ],
            [
             0.4,
             "rgb(253,219,199)"
            ],
            [
             0.5,
             "rgb(247,247,247)"
            ],
            [
             0.6,
             "rgb(209,229,240)"
            ],
            [
             0.7,
             "rgb(146,197,222)"
            ],
            [
             0.8,
             "rgb(67,147,195)"
            ],
            [
             0.9,
             "rgb(33,102,172)"
            ],
            [
             1,
             "rgb(5,48,97)"
            ]
           ],
           "sequential": [
            [
             0,
             "#440154"
            ],
            [
             0.1111111111111111,
             "#482878"
            ],
            [
             0.2222222222222222,
             "#3e4989"
            ],
            [
             0.3333333333333333,
             "#31688e"
            ],
            [
             0.4444444444444444,
             "#26828e"
            ],
            [
             0.5555555555555556,
             "#1f9e89"
            ],
            [
             0.6666666666666666,
             "#35b779"
            ],
            [
             0.7777777777777778,
             "#6ece58"
            ],
            [
             0.8888888888888888,
             "#b5de2b"
            ],
            [
             1,
             "#fde725"
            ]
           ],
           "sequentialminus": [
            [
             0,
             "#440154"
            ],
            [
             0.1111111111111111,
             "#482878"
            ],
            [
             0.2222222222222222,
             "#3e4989"
            ],
            [
             0.3333333333333333,
             "#31688e"
            ],
            [
             0.4444444444444444,
             "#26828e"
            ],
            [
             0.5555555555555556,
             "#1f9e89"
            ],
            [
             0.6666666666666666,
             "#35b779"
            ],
            [
             0.7777777777777778,
             "#6ece58"
            ],
            [
             0.8888888888888888,
             "#b5de2b"
            ],
            [
             1,
             "#fde725"
            ]
           ]
          },
          "colorway": [
           "#1F77B4",
           "#FF7F0E",
           "#2CA02C",
           "#D62728",
           "#9467BD",
           "#8C564B",
           "#E377C2",
           "#7F7F7F",
           "#BCBD22",
           "#17BECF"
          ],
          "font": {
           "color": "rgb(36,36,36)"
          },
          "geo": {
           "bgcolor": "white",
           "lakecolor": "white",
           "landcolor": "white",
           "showlakes": true,
           "showland": true,
           "subunitcolor": "white"
          },
          "hoverlabel": {
           "align": "left"
          },
          "hovermode": "closest",
          "mapbox": {
           "style": "light"
          },
          "paper_bgcolor": "white",
          "plot_bgcolor": "white",
          "polar": {
           "angularaxis": {
            "gridcolor": "rgb(232,232,232)",
            "linecolor": "rgb(36,36,36)",
            "showgrid": false,
            "showline": true,
            "ticks": "outside"
           },
           "bgcolor": "white",
           "radialaxis": {
            "gridcolor": "rgb(232,232,232)",
            "linecolor": "rgb(36,36,36)",
            "showgrid": false,
            "showline": true,
            "ticks": "outside"
           }
          },
          "scene": {
           "xaxis": {
            "backgroundcolor": "white",
            "gridcolor": "rgb(232,232,232)",
            "gridwidth": 2,
            "linecolor": "rgb(36,36,36)",
            "showbackground": true,
            "showgrid": false,
            "showline": true,
            "ticks": "outside",
            "zeroline": false,
            "zerolinecolor": "rgb(36,36,36)"
           },
           "yaxis": {
            "backgroundcolor": "white",
            "gridcolor": "rgb(232,232,232)",
            "gridwidth": 2,
            "linecolor": "rgb(36,36,36)",
            "showbackground": true,
            "showgrid": false,
            "showline": true,
            "ticks": "outside",
            "zeroline": false,
            "zerolinecolor": "rgb(36,36,36)"
           },
           "zaxis": {
            "backgroundcolor": "white",
            "gridcolor": "rgb(232,232,232)",
            "gridwidth": 2,
            "linecolor": "rgb(36,36,36)",
            "showbackground": true,
            "showgrid": false,
            "showline": true,
            "ticks": "outside",
            "zeroline": false,
            "zerolinecolor": "rgb(36,36,36)"
           }
          },
          "shapedefaults": {
           "fillcolor": "black",
           "line": {
            "width": 0
           },
           "opacity": 0.3
          },
          "ternary": {
           "aaxis": {
            "gridcolor": "rgb(232,232,232)",
            "linecolor": "rgb(36,36,36)",
            "showgrid": false,
            "showline": true,
            "ticks": "outside"
           },
           "baxis": {
            "gridcolor": "rgb(232,232,232)",
            "linecolor": "rgb(36,36,36)",
            "showgrid": false,
            "showline": true,
            "ticks": "outside"
           },
           "bgcolor": "white",
           "caxis": {
            "gridcolor": "rgb(232,232,232)",
            "linecolor": "rgb(36,36,36)",
            "showgrid": false,
            "showline": true,
            "ticks": "outside"
           }
          },
          "title": {
           "x": 0.05
          },
          "xaxis": {
           "automargin": true,
           "gridcolor": "rgb(232,232,232)",
           "linecolor": "rgb(36,36,36)",
           "showgrid": false,
           "showline": true,
           "ticks": "outside",
           "title": {
            "standoff": 15
           },
           "zeroline": false,
           "zerolinecolor": "rgb(36,36,36)"
          },
          "yaxis": {
           "automargin": true,
           "gridcolor": "rgb(232,232,232)",
           "linecolor": "rgb(36,36,36)",
           "showgrid": false,
           "showline": true,
           "ticks": "outside",
           "title": {
            "standoff": 15
           },
           "zeroline": false,
           "zerolinecolor": "rgb(36,36,36)"
          }
         }
        },
        "width": 2048,
        "xaxis": {
         "anchor": "y",
         "domain": [
          0,
          0.3
         ],
         "dtick": 1,
         "showgrid": false,
         "ticksuffix": " "
        },
        "xaxis2": {
         "anchor": "y2",
         "domain": [
          0.35,
          0.6499999999999999
         ],
         "ticksuffix": "°"
        },
        "xaxis3": {
         "anchor": "y3",
         "domain": [
          0.7,
          1
         ],
         "ticksuffix": "s"
        },
        "yaxis": {
         "anchor": "x",
         "domain": [
          0,
          1
         ]
        },
        "yaxis2": {
         "anchor": "x2",
         "domain": [
          0,
          1
         ]
        },
        "yaxis3": {
         "anchor": "x3",
         "domain": [
          0,
          1
         ]
        }
       }
      }
     },
     "metadata": {},
     "output_type": "display_data"
    }
   ],
   "source": [
    "fig_combined = make_subplots(\n",
    "    rows=1, \n",
    "    cols=3, \n",
    "    specs=[[{}, {},{}]], \n",
    "    shared_yaxes=False, \n",
    "    horizontal_spacing=0.05,\n",
    "    vertical_spacing=0.1,\n",
    "    subplot_titles=(\"Head rotation frequency\", \"Head rotation angles\", \"Time spent at situations\")\n",
    ")\n",
    "# Plots for correlations. Trendline generated as linear trendline via https://plotly.com/python/linear-fits/\n",
    "\n",
    "\n",
    "#Rotations\n",
    "fig_combined.append_trace(fig_looks['data'][0],1,1)\n",
    "fig_combined.append_trace(fig_looks['data'][1],1,1)\n",
    "fig_combined.layout[\"xaxis1\"].update(showgrid=False).update(ticksuffix=' ')\n",
    "#fig_duration.update_yaxes(showgrid=False, categoryorder=\"category descending\",\n",
    "#                 ticksuffix=' ', showline=False)\n",
    "fig_combined.update_traces(hovertemplate=None)\n",
    "#Angles\n",
    "fig_combined.append_trace(fig_angles['data'][0],1,2)\n",
    "fig_combined.append_trace(fig_angles['data'][1],1,2)\n",
    "\n",
    "#Duration\n",
    "fig_combined.append_trace(fig_duration['data'][0],1,3)\n",
    "fig_combined.append_trace(fig_duration['data'][1],1,3)\n",
    "\n",
    "\n",
    "fig_combined.update_layout(\n",
    "        hovermode=\"y unified\", \n",
    "        xaxis_dtick = 1,\n",
    "        width= plot_width * 2, height=plot_height / 1.5,\n",
    "        font=dict(family=\"Lato, sans-serif\",size=20),\n",
    "        hoverlabel=dict(font_size=20, font_family=\"Lato, sans-serif\"),\n",
    "        paper_bgcolor='rgba(255,255,255,1)',\n",
    "        showlegend=False,\n",
    "        plot_bgcolor='rgba(255,255,255,1)')\n",
    "fig_combined.layout[\"xaxis2\"].update(ticksuffix = \"°\")\n",
    "fig_combined.layout[\"xaxis3\"].update(ticksuffix = \"s\")\n",
    "#Set Headline size\n",
    "fig_combined.update_annotations(font_size=26)\n",
    "display(fig_combined)"
   ]
  },
  {
   "cell_type": "code",
   "execution_count": 24,
   "id": "502c6b64",
   "metadata": {},
   "outputs": [
    {
     "data": {
      "application/vnd.plotly.v1+json": {
       "config": {
        "plotlyServerURL": "https://plot.ly"
       },
       "data": [
        {
         "marker": {
          "color": "#000000"
         },
         "mode": "markers",
         "name": "Safety X Left Rotations",
         "showlegend": false,
         "type": "scatter",
         "x": [
          3,
          3,
          4,
          4,
          5,
          5,
          5,
          5,
          5,
          5,
          5,
          5,
          5,
          5,
          5,
          4,
          4,
          5,
          5,
          5,
          5,
          5,
          5,
          5,
          5,
          5,
          4,
          4,
          2,
          2,
          4,
          4,
          4,
          4,
          4,
          4,
          4,
          4,
          4,
          4,
          4,
          3,
          3,
          3,
          3,
          3,
          3,
          3,
          3,
          3,
          3,
          3,
          4,
          3,
          3,
          3,
          3,
          3,
          3,
          3,
          3,
          3,
          4,
          4,
          3,
          3,
          4,
          4,
          4,
          4,
          4,
          4,
          4,
          4,
          4,
          5,
          5,
          5,
          5,
          5,
          5,
          5,
          5,
          5,
          5,
          5,
          5,
          5,
          5,
          5,
          5,
          5,
          5,
          5,
          5,
          5,
          5,
          5,
          5,
          5
         ],
         "xaxis": "x",
         "y": [
          15,
          17,
          4,
          9,
          3,
          1,
          2,
          11,
          2,
          3,
          14,
          5,
          3,
          4,
          2,
          3,
          4,
          2,
          2,
          1,
          4,
          1,
          3,
          5,
          3,
          2,
          5,
          2,
          3,
          8,
          1,
          0,
          1,
          2,
          3,
          2,
          6,
          4,
          1,
          5,
          5,
          3,
          2,
          1,
          1,
          3,
          2,
          3,
          3,
          8,
          0,
          5,
          7,
          3,
          2,
          1,
          1,
          8,
          3,
          3,
          3,
          4,
          5,
          5,
          2,
          3,
          1,
          1,
          0,
          2,
          3,
          2,
          12,
          4,
          2,
          6,
          5,
          13,
          3,
          1,
          3,
          10,
          4,
          4,
          7,
          5,
          2,
          6,
          9,
          3,
          7,
          1,
          2,
          2,
          3,
          3,
          4,
          2,
          5,
          2
         ],
         "yaxis": "y"
        },
        {
         "hovertemplate": "<b>OLS trendline</b><br>y = 0.00256376 * x + 3.91931<br>R<sup>2</sup>=0.000000<br><br>x=%{x}<br>y=%{y} <b>(trend)</b><extra></extra>",
         "legendgroup": "",
         "marker": {
          "color": "#961C26",
          "symbol": "circle"
         },
         "mode": "lines",
         "name": "",
         "showlegend": false,
         "type": "scatter",
         "x": [
          2,
          2,
          3,
          3,
          3,
          3,
          3,
          3,
          3,
          3,
          3,
          3,
          3,
          3,
          3,
          3,
          3,
          3,
          3,
          3,
          3,
          3,
          3,
          3,
          3,
          3,
          4,
          4,
          4,
          4,
          4,
          4,
          4,
          4,
          4,
          4,
          4,
          4,
          4,
          4,
          4,
          4,
          4,
          4,
          4,
          4,
          4,
          4,
          4,
          4,
          4,
          4,
          4,
          4,
          4,
          5,
          5,
          5,
          5,
          5,
          5,
          5,
          5,
          5,
          5,
          5,
          5,
          5,
          5,
          5,
          5,
          5,
          5,
          5,
          5,
          5,
          5,
          5,
          5,
          5,
          5,
          5,
          5,
          5,
          5,
          5,
          5,
          5,
          5,
          5,
          5,
          5,
          5,
          5,
          5,
          5,
          5,
          5,
          5,
          5
         ],
         "xaxis": "x",
         "y": [
          3.924436648225611,
          3.924436648225611,
          3.927000404803671,
          3.927000404803671,
          3.927000404803671,
          3.927000404803671,
          3.927000404803671,
          3.927000404803671,
          3.927000404803671,
          3.927000404803671,
          3.927000404803671,
          3.927000404803671,
          3.927000404803671,
          3.927000404803671,
          3.927000404803671,
          3.927000404803671,
          3.927000404803671,
          3.927000404803671,
          3.927000404803671,
          3.927000404803671,
          3.927000404803671,
          3.927000404803671,
          3.927000404803671,
          3.927000404803671,
          3.927000404803671,
          3.927000404803671,
          3.929564161381731,
          3.929564161381731,
          3.929564161381731,
          3.929564161381731,
          3.929564161381731,
          3.929564161381731,
          3.929564161381731,
          3.929564161381731,
          3.929564161381731,
          3.929564161381731,
          3.929564161381731,
          3.929564161381731,
          3.929564161381731,
          3.929564161381731,
          3.929564161381731,
          3.929564161381731,
          3.929564161381731,
          3.929564161381731,
          3.929564161381731,
          3.929564161381731,
          3.929564161381731,
          3.929564161381731,
          3.929564161381731,
          3.929564161381731,
          3.929564161381731,
          3.929564161381731,
          3.929564161381731,
          3.929564161381731,
          3.929564161381731,
          3.932127917959791,
          3.932127917959791,
          3.932127917959791,
          3.932127917959791,
          3.932127917959791,
          3.932127917959791,
          3.932127917959791,
          3.932127917959791,
          3.932127917959791,
          3.932127917959791,
          3.932127917959791,
          3.932127917959791,
          3.932127917959791,
          3.932127917959791,
          3.932127917959791,
          3.932127917959791,
          3.932127917959791,
          3.932127917959791,
          3.932127917959791,
          3.932127917959791,
          3.932127917959791,
          3.932127917959791,
          3.932127917959791,
          3.932127917959791,
          3.932127917959791,
          3.932127917959791,
          3.932127917959791,
          3.932127917959791,
          3.932127917959791,
          3.932127917959791,
          3.932127917959791,
          3.932127917959791,
          3.932127917959791,
          3.932127917959791,
          3.932127917959791,
          3.932127917959791,
          3.932127917959791,
          3.932127917959791,
          3.932127917959791,
          3.932127917959791,
          3.932127917959791,
          3.932127917959791,
          3.932127917959791,
          3.932127917959791,
          3.932127917959791
         ],
         "yaxis": "y"
        },
        {
         "marker": {
          "color": "#000000"
         },
         "mode": "markers",
         "name": "Safety X Left Rotations",
         "showlegend": false,
         "type": "scatter",
         "x": [
          3,
          3,
          4,
          4,
          5,
          5,
          5,
          5,
          5,
          5,
          5,
          5,
          5,
          5,
          5,
          4,
          4,
          5,
          5,
          5,
          5,
          5,
          5,
          5,
          5,
          5,
          4,
          4,
          2,
          2,
          4,
          4,
          4,
          4,
          4,
          4,
          4,
          4,
          4,
          4,
          4,
          3,
          3,
          3,
          3,
          3,
          3,
          3,
          3,
          3,
          3,
          3,
          4,
          3,
          3,
          3,
          3,
          3,
          3,
          3,
          3,
          3,
          4,
          4,
          3,
          3,
          4,
          4,
          4,
          4,
          4,
          4,
          4,
          4,
          4,
          5,
          5,
          5,
          5,
          5,
          5,
          5,
          5,
          5,
          5,
          5,
          5,
          5,
          5,
          5,
          5,
          5,
          5,
          5,
          5,
          5,
          5,
          5,
          5,
          5
         ],
         "xaxis": "x2",
         "y": [
          10,
          11,
          3,
          6,
          0,
          0,
          2,
          7,
          0,
          2,
          9,
          2,
          1,
          1,
          0,
          0,
          1,
          2,
          1,
          2,
          1,
          0,
          1,
          5,
          1,
          1,
          1,
          0,
          0,
          0,
          1,
          1,
          1,
          1,
          0,
          1,
          8,
          0,
          0,
          5,
          3,
          1,
          2,
          1,
          3,
          1,
          5,
          3,
          1,
          8,
          2,
          1,
          5,
          1,
          1,
          1,
          1,
          7,
          0,
          2,
          7,
          0,
          3,
          5,
          0,
          1,
          0,
          2,
          2,
          2,
          0,
          1,
          10,
          0,
          0,
          3,
          2,
          9,
          2,
          2,
          1,
          3,
          1,
          2,
          4,
          0,
          1,
          4,
          3,
          1,
          2,
          0,
          2,
          1,
          3,
          4,
          1,
          2,
          0,
          1
         ],
         "yaxis": "y2"
        },
        {
         "hovertemplate": "<b>OLS trendline</b><br>y = -0.216975 * x + 3.14478<br>R<sup>2</sup>=0.005366<br><br>x=%{x}<br>y=%{y} <b>(trend)</b><extra></extra>",
         "legendgroup": "",
         "marker": {
          "color": "#961C26",
          "symbol": "circle"
         },
         "mode": "lines",
         "name": "",
         "showlegend": false,
         "type": "scatter",
         "x": [
          2,
          2,
          3,
          3,
          3,
          3,
          3,
          3,
          3,
          3,
          3,
          3,
          3,
          3,
          3,
          3,
          3,
          3,
          3,
          3,
          3,
          3,
          3,
          3,
          3,
          3,
          4,
          4,
          4,
          4,
          4,
          4,
          4,
          4,
          4,
          4,
          4,
          4,
          4,
          4,
          4,
          4,
          4,
          4,
          4,
          4,
          4,
          4,
          4,
          4,
          4,
          4,
          4,
          4,
          4,
          5,
          5,
          5,
          5,
          5,
          5,
          5,
          5,
          5,
          5,
          5,
          5,
          5,
          5,
          5,
          5,
          5,
          5,
          5,
          5,
          5,
          5,
          5,
          5,
          5,
          5,
          5,
          5,
          5,
          5,
          5,
          5,
          5,
          5,
          5,
          5,
          5,
          5,
          5,
          5,
          5,
          5,
          5,
          5,
          5
         ],
         "xaxis": "x2",
         "y": [
          2.710835244906221,
          2.710835244906221,
          2.4938604776683317,
          2.4938604776683317,
          2.4938604776683317,
          2.4938604776683317,
          2.4938604776683317,
          2.4938604776683317,
          2.4938604776683317,
          2.4938604776683317,
          2.4938604776683317,
          2.4938604776683317,
          2.4938604776683317,
          2.4938604776683317,
          2.4938604776683317,
          2.4938604776683317,
          2.4938604776683317,
          2.4938604776683317,
          2.4938604776683317,
          2.4938604776683317,
          2.4938604776683317,
          2.4938604776683317,
          2.4938604776683317,
          2.4938604776683317,
          2.4938604776683317,
          2.4938604776683317,
          2.2768857104304425,
          2.2768857104304425,
          2.2768857104304425,
          2.2768857104304425,
          2.2768857104304425,
          2.2768857104304425,
          2.2768857104304425,
          2.2768857104304425,
          2.2768857104304425,
          2.2768857104304425,
          2.2768857104304425,
          2.2768857104304425,
          2.2768857104304425,
          2.2768857104304425,
          2.2768857104304425,
          2.2768857104304425,
          2.2768857104304425,
          2.2768857104304425,
          2.2768857104304425,
          2.2768857104304425,
          2.2768857104304425,
          2.2768857104304425,
          2.2768857104304425,
          2.2768857104304425,
          2.2768857104304425,
          2.2768857104304425,
          2.2768857104304425,
          2.2768857104304425,
          2.2768857104304425,
          2.0599109431925533,
          2.0599109431925533,
          2.0599109431925533,
          2.0599109431925533,
          2.0599109431925533,
          2.0599109431925533,
          2.0599109431925533,
          2.0599109431925533,
          2.0599109431925533,
          2.0599109431925533,
          2.0599109431925533,
          2.0599109431925533,
          2.0599109431925533,
          2.0599109431925533,
          2.0599109431925533,
          2.0599109431925533,
          2.0599109431925533,
          2.0599109431925533,
          2.0599109431925533,
          2.0599109431925533,
          2.0599109431925533,
          2.0599109431925533,
          2.0599109431925533,
          2.0599109431925533,
          2.0599109431925533,
          2.0599109431925533,
          2.0599109431925533,
          2.0599109431925533,
          2.0599109431925533,
          2.0599109431925533,
          2.0599109431925533,
          2.0599109431925533,
          2.0599109431925533,
          2.0599109431925533,
          2.0599109431925533,
          2.0599109431925533,
          2.0599109431925533,
          2.0599109431925533,
          2.0599109431925533,
          2.0599109431925533,
          2.0599109431925533,
          2.0599109431925533,
          2.0599109431925533,
          2.0599109431925533,
          2.0599109431925533
         ],
         "yaxis": "y2"
        },
        {
         "marker": {
          "color": "#000000"
         },
         "mode": "markers",
         "name": "Safety X Left Angles",
         "showlegend": false,
         "type": "scatter",
         "x": [
          3,
          3,
          3,
          3,
          3,
          3,
          3,
          3,
          3,
          3,
          3,
          3,
          3,
          3,
          3,
          3,
          3,
          3,
          3,
          3,
          3,
          3,
          3,
          3,
          3,
          3,
          3,
          3,
          3,
          3,
          3,
          3,
          4,
          4,
          4,
          4,
          4,
          4,
          4,
          4,
          4,
          4,
          4,
          4,
          4,
          5,
          5,
          5,
          5,
          5,
          5,
          5,
          5,
          5,
          5,
          5,
          5,
          5,
          5,
          5,
          5,
          5,
          5,
          5,
          5,
          5,
          5,
          5,
          5,
          5,
          5,
          5,
          5,
          5,
          5,
          5,
          5,
          5,
          5,
          5,
          5,
          5,
          5,
          5,
          5,
          5,
          5,
          5,
          5,
          5,
          5,
          5,
          5,
          5,
          5,
          4,
          4,
          4,
          4,
          4,
          4,
          4,
          5,
          5,
          5,
          5,
          5,
          5,
          5,
          5,
          5,
          5,
          5,
          5,
          5,
          5,
          5,
          5,
          5,
          5,
          5,
          5,
          5,
          5,
          5,
          4,
          4,
          4,
          4,
          4,
          4,
          4,
          2,
          2,
          2,
          2,
          2,
          2,
          2,
          2,
          2,
          2,
          2,
          4,
          4,
          4,
          4,
          4,
          4,
          4,
          4,
          4,
          4,
          4,
          4,
          4,
          4,
          4,
          4,
          4,
          4,
          4,
          4,
          4,
          4,
          4,
          4,
          4,
          4,
          4,
          4,
          4,
          4,
          3,
          3,
          3,
          3,
          3,
          3,
          3,
          3,
          3,
          3,
          3,
          3,
          3,
          3,
          3,
          3,
          3,
          3,
          3,
          3,
          3,
          3,
          3,
          3,
          3,
          3,
          3,
          3,
          3,
          3,
          3,
          4,
          4,
          4,
          4,
          4,
          4,
          4,
          3,
          3,
          3,
          3,
          3,
          3,
          3,
          3,
          3,
          3,
          3,
          3,
          3,
          3,
          3,
          3,
          3,
          3,
          3,
          3,
          3,
          3,
          3,
          3,
          3,
          3,
          3,
          3,
          4,
          4,
          4,
          4,
          4,
          4,
          4,
          4,
          4,
          4,
          3,
          3,
          3,
          3,
          3,
          4,
          4,
          4,
          4,
          4,
          4,
          4,
          4,
          4,
          4,
          4,
          4,
          4,
          4,
          4,
          4,
          4,
          4,
          4,
          4,
          4,
          4,
          4,
          4,
          4,
          4,
          4,
          5,
          5,
          5,
          5,
          5,
          5,
          5,
          5,
          5,
          5,
          5,
          5,
          5,
          5,
          5,
          5,
          5,
          5,
          5,
          5,
          5,
          5,
          5,
          5,
          5,
          5,
          5,
          5,
          5,
          5,
          5,
          5,
          5,
          5,
          5,
          5,
          5,
          5,
          5,
          5,
          5,
          5,
          5,
          5,
          5,
          5,
          5,
          5,
          5,
          5,
          5,
          5,
          5,
          5,
          5,
          5,
          5,
          5,
          5,
          5,
          5,
          5,
          5,
          5,
          5,
          5,
          5,
          5,
          5,
          5,
          5,
          5,
          5,
          5,
          5,
          5,
          5,
          5,
          5,
          5,
          5,
          5,
          5,
          5,
          5,
          5,
          5,
          5,
          5,
          5,
          5,
          5,
          5,
          5,
          5,
          5,
          5,
          5,
          5,
          5,
          5,
          5,
          5,
          5,
          5,
          5,
          5,
          5,
          5,
          5,
          5,
          5
         ],
         "xaxis": "x3",
         "y": [
          -47.666526794433594,
          -21.484336853027344,
          -36.794795989990234,
          -52.08001708984375,
          -51.668216705322266,
          -44.17696762084961,
          -40.55561828613281,
          -34.63263702392578,
          -40.531646728515625,
          -42.54372024536133,
          -41.69244384765625,
          -42.9048957824707,
          -43.97016525268555,
          -44.64515686035156,
          -21.19561767578125,
          -22.651601791381836,
          -43.18262481689453,
          -47.14550018310547,
          -30.267179489135742,
          -20.26311683654785,
          -67.28480529785156,
          -67.14232635498047,
          -87.30918884277344,
          -72.42951965332031,
          -70.80634307861328,
          -70.86859130859375,
          -107.44425964355469,
          -117.33729553222656,
          -43.293678283691406,
          -36.36376190185547,
          -57.349266052246094,
          -22.33453941345215,
          -98.76146697998047,
          -88.41048431396484,
          -49.645870208740234,
          -93.32574462890625,
          -29.30659294128418,
          -47.709495544433594,
          -21.661296844482422,
          -28.91233253479004,
          -32.03322219848633,
          -49.77845764160156,
          -42.66351318359375,
          -49.29237365722656,
          -24.09793472290039,
          -69.60320281982422,
          -43.853450775146484,
          -20.250789642333984,
          -27.80133819580078,
          -30.78321075439453,
          -46.92949295043945,
          -24.746618270874023,
          -88.69931030273438,
          -23.954275131225586,
          -23.72650146484375,
          -25.54481315612793,
          -37.90719985961914,
          -20.497570037841797,
          -42.93614196777344,
          -27.87035369873047,
          -29.758010864257812,
          -41.2688102722168,
          -37.337947845458984,
          -36.72073745727539,
          -30.46440315246582,
          -31.06214141845703,
          -60.56392288208008,
          -26.677549362182617,
          -20.265811920166016,
          -25.806743621826172,
          -24.327043533325195,
          -40.79499053955078,
          -36.75479507446289,
          -35.21482849121094,
          -47.43341827392578,
          -57.33213806152344,
          -57.729888916015625,
          -72.64678955078125,
          -66.55276489257812,
          -64.12899017333984,
          -63.40641403198242,
          -25.382492065429688,
          -55.836307525634766,
          -24.32160758972168,
          -46.622920989990234,
          -51.435333251953125,
          -23.947940826416016,
          -37.49431610107422,
          -59.1222038269043,
          -38.351341247558594,
          -48.7518424987793,
          -34.124794006347656,
          -70.91096496582031,
          -56.6480712890625,
          -55.06576919555664,
          -74.47863006591797,
          -66.48492431640625,
          -70.85111999511719,
          -24.08404541015625,
          -25.652376174926758,
          -23.795825958251953,
          -39.9722785949707,
          -76.22904968261719,
          -36.36790466308594,
          -25.718503952026367,
          -30.800867080688477,
          -42.472530364990234,
          -21.359464645385742,
          -79.26457977294922,
          -21.87656021118164,
          -24.1875,
          -62.70814895629883,
          -76.25226593017578,
          -93.99514770507812,
          -55.89223861694336,
          -23.2946834564209,
          -58.42012405395508,
          -62.31448745727539,
          -72.19010162353516,
          -46.059051513671875,
          -35.68299102783203,
          -62.874351501464844,
          -49.13117599487305,
          -32.49879837036133,
          -47.78541946411133,
          -20.111499786376953,
          -49.19326400756836,
          -25.851306915283203,
          -46.56504821777344,
          -22.68629264831543,
          -53.7322998046875,
          -33.834110260009766,
          -79.10801696777344,
          -33.09008026123047,
          -20.200084686279297,
          -100.48797607421875,
          -28.305498123168945,
          -21.001073837280273,
          -33.67699432373047,
          -33.46222686767578,
          -34.06425094604492,
          -80.84832000732422,
          -23.009248733520508,
          -36.07480239868164,
          -42.35624694824219,
          -126.48091125488281,
          -81.86786651611328,
          -52.749847412109375,
          -33.073421478271484,
          -25.34535026550293,
          -64.84943389892578,
          -45.4056396484375,
          -21.288436889648438,
          -20.373600006103516,
          -27.635095596313477,
          -76.70243072509766,
          -98.96235656738281,
          -36.03885269165039,
          -53.45205307006836,
          -36.62709426879883,
          -32.61851119995117,
          -21.614282608032227,
          -89.00562286376953,
          -21.262483596801758,
          -37.99697494506836,
          -100.37846374511719,
          -102.0451431274414,
          -69.77191925048828,
          -39.31749725341797,
          -52.31996536254883,
          -21.4235897064209,
          -45.92110824584961,
          -53.26644515991211,
          -56.629859924316406,
          -61.03288269042969,
          -39.7336311340332,
          -78.63274383544922,
          -38.512943267822266,
          -61.21343231201172,
          -70.42141723632812,
          -92.27782440185547,
          -96.12755584716797,
          -62.08799743652344,
          -39.28007888793945,
          -38.80401611328125,
          -67.2330322265625,
          -102.31486511230469,
          -61.53478240966797,
          -26.84272003173828,
          -62.94279861450195,
          -26.000810623168945,
          -60.798038482666016,
          -35.9769287109375,
          -40.47431564331055,
          -38.455780029296875,
          -39.4749870300293,
          -49.93796920776367,
          -52.29314041137695,
          -21.029985427856445,
          -26.969722747802734,
          -47.74819564819336,
          -62.361602783203125,
          -46.45425796508789,
          -20.389081954956055,
          -22.232223510742188,
          -45.74385070800781,
          -37.851051330566406,
          -41.021087646484375,
          -59.32514572143555,
          -84.78738403320312,
          -64.70120239257812,
          -57.0521354675293,
          -63.29587936401367,
          -47.92859649658203,
          -20.440696716308594,
          -31.895008087158203,
          -26.515199661254883,
          -36.640804290771484,
          -32.765380859375,
          -21.26105499267578,
          -20.41128921508789,
          -36.01387023925781,
          -42.11653137207031,
          -24.157033920288086,
          -39.559383392333984,
          -23.765403747558594,
          -49.13495635986328,
          -84.98915100097656,
          -34.22925567626953,
          -56.47740936279297,
          -63.06930923461914,
          -46.16357421875,
          -58.11908721923828,
          -45.25000762939453,
          -39.59261703491211,
          -39.779090881347656,
          -68.0080795288086,
          -64.59273529052734,
          -24.282115936279297,
          -29.410398483276367,
          -32.70701217651367,
          -42.155311584472656,
          -96.25011444091797,
          -38.40529251098633,
          -55.020633697509766,
          -30.85947608947754,
          -36.37262725830078,
          -27.617107391357422,
          -50.84975051879883,
          -80.93260955810547,
          -37.41346740722656,
          -88.94500732421875,
          -21.647489547729492,
          -22.3696346282959,
          -43.628562927246094,
          -33.33858871459961,
          -56.813316345214844,
          -20.200359344482422,
          -80.74800872802734,
          -23.596817016601562,
          -30.56528663635254,
          -34.561317443847656,
          -48.28153991699219,
          -22.459667205810547,
          -46.36096954345703,
          -50.33646774291992,
          -51.195770263671875,
          -51.6278190612793,
          -47.11191940307617,
          -50.45098114013672,
          -43.53103256225586,
          -45.32652282714844,
          -26.398746490478516,
          -20.51887321472168,
          -87.34780883789062,
          -48.994937896728516,
          -106.83561706542969,
          -23.047109603881836,
          -38.52191162109375,
          -34.54970932006836,
          -56.384029388427734,
          -90.17524719238281,
          -28.13671112060547,
          -33.53044891357422,
          -33.84953308105469,
          -72.91547393798828,
          -52.58467483520508,
          -47.21274185180664,
          -62.328121185302734,
          -65.58775329589844,
          -80.13521575927734,
          -32.24687576293945,
          -63.008514404296875,
          -87.40037536621094,
          -45.96516418457031,
          -77.57595825195312,
          -57.91930389404297,
          -37.488651275634766,
          -48.179874420166016,
          -54.31241226196289,
          -64.29418182373047,
          -60.21290969848633,
          -55.22676086425781,
          -76.22150421142578,
          -26.938671112060547,
          -95.06999969482422,
          -36.20745849609375,
          -35.08584213256836,
          -91.92755126953125,
          -94.32137298583984,
          -49.935020446777344,
          -25.287824630737305,
          -36.38284683227539,
          -43.88005828857422,
          -21.851730346679688,
          -62.46355438232422,
          -63.03584671020508,
          -57.683406829833984,
          -60.569190979003906,
          -21.835725784301758,
          -55.68415832519531,
          -67.6316909790039,
          -60.14436340332031,
          -93.4038314819336,
          -36.60471725463867,
          -59.0208625793457,
          -59.804203033447266,
          -73.7621841430664,
          -92.2616958618164,
          -71.10051727294922,
          -33.15530776977539,
          -57.787776947021484,
          -26.87387466430664,
          -63.193668365478516,
          -27.776948928833008,
          -37.35963439941406,
          -47.05863571166992,
          -54.047630310058594,
          -45.38882064819336,
          -83.78319549560547,
          -32.589515686035156,
          -21.693988800048828,
          -20.911314010620117,
          -51.811283111572266,
          -38.31684112548828,
          -26.550048828125,
          -49.21003341674805,
          -51.14552688598633,
          -29.56390380859375,
          -21.985158920288086,
          -20.8553524017334,
          -41.134490966796875,
          -32.676536560058594,
          -45.99222183227539,
          -58.85171127319336,
          -46.6821174621582,
          -20.68837547302246,
          -47.7024040222168,
          -21.73375129699707,
          -123.4444580078125,
          -28.17323112487793,
          -36.532310485839844,
          -113.36212158203125,
          -22.652910232543945,
          -49.83147048950195,
          -26.97781753540039,
          -32.25593948364258,
          -65.08733367919922,
          -87.66224670410156,
          -79.4736328125,
          -69.27359771728516,
          -20.219133377075195,
          -98.14337158203125,
          -32.20651626586914,
          -21.84103012084961,
          -80.16746520996094,
          -87.07392120361328,
          -70.31099700927734,
          -63.458831787109375,
          -103.50304412841797,
          -52.1144905090332,
          -71.31498718261719,
          -45.22321701049805,
          -20.710725784301758,
          -65.7237319946289,
          -25.51755714416504,
          -99.66796112060547,
          -61.01495361328125,
          -56.907142639160156,
          -46.309391021728516,
          -67.21751403808594,
          -24.24735450744629,
          -23.74151611328125
         ],
         "yaxis": "y3"
        },
        {
         "hovertemplate": "<b>OLS trendline</b><br>y = -0.869341 * x + -45.0774<br>R<sup>2</sup>=0.001188<br><br>x=%{x}<br>y=%{y} <b>(trend)</b><extra></extra>",
         "legendgroup": "",
         "marker": {
          "color": "#961C26",
          "symbol": "circle"
         },
         "mode": "lines",
         "name": "",
         "showlegend": false,
         "type": "scatter",
         "x": [
          2,
          2,
          2,
          2,
          2,
          2,
          2,
          2,
          2,
          2,
          2,
          3,
          3,
          3,
          3,
          3,
          3,
          3,
          3,
          3,
          3,
          3,
          3,
          3,
          3,
          3,
          3,
          3,
          3,
          3,
          3,
          3,
          3,
          3,
          3,
          3,
          3,
          3,
          3,
          3,
          3,
          3,
          3,
          3,
          3,
          3,
          3,
          3,
          3,
          3,
          3,
          3,
          3,
          3,
          3,
          3,
          3,
          3,
          3,
          3,
          3,
          3,
          3,
          3,
          3,
          3,
          3,
          3,
          3,
          3,
          3,
          3,
          3,
          3,
          3,
          3,
          3,
          3,
          3,
          3,
          3,
          3,
          3,
          3,
          3,
          3,
          3,
          3,
          3,
          3,
          3,
          3,
          3,
          3,
          3,
          3,
          3,
          3,
          3,
          3,
          3,
          3,
          3,
          3,
          3,
          3,
          3,
          4,
          4,
          4,
          4,
          4,
          4,
          4,
          4,
          4,
          4,
          4,
          4,
          4,
          4,
          4,
          4,
          4,
          4,
          4,
          4,
          4,
          4,
          4,
          4,
          4,
          4,
          4,
          4,
          4,
          4,
          4,
          4,
          4,
          4,
          4,
          4,
          4,
          4,
          4,
          4,
          4,
          4,
          4,
          4,
          4,
          4,
          4,
          4,
          4,
          4,
          4,
          4,
          4,
          4,
          4,
          4,
          4,
          4,
          4,
          4,
          4,
          4,
          4,
          4,
          4,
          4,
          4,
          4,
          4,
          4,
          4,
          4,
          4,
          4,
          4,
          4,
          4,
          4,
          4,
          4,
          4,
          4,
          4,
          4,
          4,
          4,
          4,
          4,
          4,
          4,
          4,
          4,
          4,
          4,
          4,
          4,
          4,
          4,
          4,
          4,
          4,
          5,
          5,
          5,
          5,
          5,
          5,
          5,
          5,
          5,
          5,
          5,
          5,
          5,
          5,
          5,
          5,
          5,
          5,
          5,
          5,
          5,
          5,
          5,
          5,
          5,
          5,
          5,
          5,
          5,
          5,
          5,
          5,
          5,
          5,
          5,
          5,
          5,
          5,
          5,
          5,
          5,
          5,
          5,
          5,
          5,
          5,
          5,
          5,
          5,
          5,
          5,
          5,
          5,
          5,
          5,
          5,
          5,
          5,
          5,
          5,
          5,
          5,
          5,
          5,
          5,
          5,
          5,
          5,
          5,
          5,
          5,
          5,
          5,
          5,
          5,
          5,
          5,
          5,
          5,
          5,
          5,
          5,
          5,
          5,
          5,
          5,
          5,
          5,
          5,
          5,
          5,
          5,
          5,
          5,
          5,
          5,
          5,
          5,
          5,
          5,
          5,
          5,
          5,
          5,
          5,
          5,
          5,
          5,
          5,
          5,
          5,
          5,
          5,
          5,
          5,
          5,
          5,
          5,
          5,
          5,
          5,
          5,
          5,
          5,
          5,
          5,
          5,
          5,
          5,
          5,
          5,
          5,
          5,
          5,
          5,
          5,
          5,
          5,
          5,
          5,
          5,
          5,
          5,
          5,
          5,
          5,
          5,
          5,
          5,
          5,
          5,
          5,
          5,
          5,
          5,
          5,
          5,
          5,
          5,
          5,
          5,
          5,
          5,
          5,
          5,
          5,
          5,
          5,
          5,
          5,
          5,
          5,
          5,
          5,
          5,
          5,
          5,
          5,
          5,
          5,
          5,
          5,
          5,
          5,
          5
         ],
         "xaxis": "x3",
         "y": [
          -46.81606380652149,
          -46.81606380652149,
          -46.81606380652149,
          -46.81606380652149,
          -46.81606380652149,
          -46.81606380652149,
          -46.81606380652149,
          -46.81606380652149,
          -46.81606380652149,
          -46.81606380652149,
          -46.81606380652149,
          -47.68540486150617,
          -47.68540486150617,
          -47.68540486150617,
          -47.68540486150617,
          -47.68540486150617,
          -47.68540486150617,
          -47.68540486150617,
          -47.68540486150617,
          -47.68540486150617,
          -47.68540486150617,
          -47.68540486150617,
          -47.68540486150617,
          -47.68540486150617,
          -47.68540486150617,
          -47.68540486150617,
          -47.68540486150617,
          -47.68540486150617,
          -47.68540486150617,
          -47.68540486150617,
          -47.68540486150617,
          -47.68540486150617,
          -47.68540486150617,
          -47.68540486150617,
          -47.68540486150617,
          -47.68540486150617,
          -47.68540486150617,
          -47.68540486150617,
          -47.68540486150617,
          -47.68540486150617,
          -47.68540486150617,
          -47.68540486150617,
          -47.68540486150617,
          -47.68540486150617,
          -47.68540486150617,
          -47.68540486150617,
          -47.68540486150617,
          -47.68540486150617,
          -47.68540486150617,
          -47.68540486150617,
          -47.68540486150617,
          -47.68540486150617,
          -47.68540486150617,
          -47.68540486150617,
          -47.68540486150617,
          -47.68540486150617,
          -47.68540486150617,
          -47.68540486150617,
          -47.68540486150617,
          -47.68540486150617,
          -47.68540486150617,
          -47.68540486150617,
          -47.68540486150617,
          -47.68540486150617,
          -47.68540486150617,
          -47.68540486150617,
          -47.68540486150617,
          -47.68540486150617,
          -47.68540486150617,
          -47.68540486150617,
          -47.68540486150617,
          -47.68540486150617,
          -47.68540486150617,
          -47.68540486150617,
          -47.68540486150617,
          -47.68540486150617,
          -47.68540486150617,
          -47.68540486150617,
          -47.68540486150617,
          -47.68540486150617,
          -47.68540486150617,
          -47.68540486150617,
          -47.68540486150617,
          -47.68540486150617,
          -47.68540486150617,
          -47.68540486150617,
          -47.68540486150617,
          -47.68540486150617,
          -47.68540486150617,
          -47.68540486150617,
          -47.68540486150617,
          -47.68540486150617,
          -47.68540486150617,
          -47.68540486150617,
          -47.68540486150617,
          -47.68540486150617,
          -47.68540486150617,
          -47.68540486150617,
          -47.68540486150617,
          -47.68540486150617,
          -47.68540486150617,
          -47.68540486150617,
          -47.68540486150617,
          -47.68540486150617,
          -47.68540486150617,
          -47.68540486150617,
          -47.68540486150617,
          -48.55474591649085,
          -48.55474591649085,
          -48.55474591649085,
          -48.55474591649085,
          -48.55474591649085,
          -48.55474591649085,
          -48.55474591649085,
          -48.55474591649085,
          -48.55474591649085,
          -48.55474591649085,
          -48.55474591649085,
          -48.55474591649085,
          -48.55474591649085,
          -48.55474591649085,
          -48.55474591649085,
          -48.55474591649085,
          -48.55474591649085,
          -48.55474591649085,
          -48.55474591649085,
          -48.55474591649085,
          -48.55474591649085,
          -48.55474591649085,
          -48.55474591649085,
          -48.55474591649085,
          -48.55474591649085,
          -48.55474591649085,
          -48.55474591649085,
          -48.55474591649085,
          -48.55474591649085,
          -48.55474591649085,
          -48.55474591649085,
          -48.55474591649085,
          -48.55474591649085,
          -48.55474591649085,
          -48.55474591649085,
          -48.55474591649085,
          -48.55474591649085,
          -48.55474591649085,
          -48.55474591649085,
          -48.55474591649085,
          -48.55474591649085,
          -48.55474591649085,
          -48.55474591649085,
          -48.55474591649085,
          -48.55474591649085,
          -48.55474591649085,
          -48.55474591649085,
          -48.55474591649085,
          -48.55474591649085,
          -48.55474591649085,
          -48.55474591649085,
          -48.55474591649085,
          -48.55474591649085,
          -48.55474591649085,
          -48.55474591649085,
          -48.55474591649085,
          -48.55474591649085,
          -48.55474591649085,
          -48.55474591649085,
          -48.55474591649085,
          -48.55474591649085,
          -48.55474591649085,
          -48.55474591649085,
          -48.55474591649085,
          -48.55474591649085,
          -48.55474591649085,
          -48.55474591649085,
          -48.55474591649085,
          -48.55474591649085,
          -48.55474591649085,
          -48.55474591649085,
          -48.55474591649085,
          -48.55474591649085,
          -48.55474591649085,
          -48.55474591649085,
          -48.55474591649085,
          -48.55474591649085,
          -48.55474591649085,
          -48.55474591649085,
          -48.55474591649085,
          -48.55474591649085,
          -48.55474591649085,
          -48.55474591649085,
          -48.55474591649085,
          -48.55474591649085,
          -48.55474591649085,
          -48.55474591649085,
          -48.55474591649085,
          -48.55474591649085,
          -48.55474591649085,
          -48.55474591649085,
          -48.55474591649085,
          -48.55474591649085,
          -48.55474591649085,
          -48.55474591649085,
          -48.55474591649085,
          -48.55474591649085,
          -48.55474591649085,
          -48.55474591649085,
          -48.55474591649085,
          -48.55474591649085,
          -49.424086971475525,
          -49.424086971475525,
          -49.424086971475525,
          -49.424086971475525,
          -49.424086971475525,
          -49.424086971475525,
          -49.424086971475525,
          -49.424086971475525,
          -49.424086971475525,
          -49.424086971475525,
          -49.424086971475525,
          -49.424086971475525,
          -49.424086971475525,
          -49.424086971475525,
          -49.424086971475525,
          -49.424086971475525,
          -49.424086971475525,
          -49.424086971475525,
          -49.424086971475525,
          -49.424086971475525,
          -49.424086971475525,
          -49.424086971475525,
          -49.424086971475525,
          -49.424086971475525,
          -49.424086971475525,
          -49.424086971475525,
          -49.424086971475525,
          -49.424086971475525,
          -49.424086971475525,
          -49.424086971475525,
          -49.424086971475525,
          -49.424086971475525,
          -49.424086971475525,
          -49.424086971475525,
          -49.424086971475525,
          -49.424086971475525,
          -49.424086971475525,
          -49.424086971475525,
          -49.424086971475525,
          -49.424086971475525,
          -49.424086971475525,
          -49.424086971475525,
          -49.424086971475525,
          -49.424086971475525,
          -49.424086971475525,
          -49.424086971475525,
          -49.424086971475525,
          -49.424086971475525,
          -49.424086971475525,
          -49.424086971475525,
          -49.424086971475525,
          -49.424086971475525,
          -49.424086971475525,
          -49.424086971475525,
          -49.424086971475525,
          -49.424086971475525,
          -49.424086971475525,
          -49.424086971475525,
          -49.424086971475525,
          -49.424086971475525,
          -49.424086971475525,
          -49.424086971475525,
          -49.424086971475525,
          -49.424086971475525,
          -49.424086971475525,
          -49.424086971475525,
          -49.424086971475525,
          -49.424086971475525,
          -49.424086971475525,
          -49.424086971475525,
          -49.424086971475525,
          -49.424086971475525,
          -49.424086971475525,
          -49.424086971475525,
          -49.424086971475525,
          -49.424086971475525,
          -49.424086971475525,
          -49.424086971475525,
          -49.424086971475525,
          -49.424086971475525,
          -49.424086971475525,
          -49.424086971475525,
          -49.424086971475525,
          -49.424086971475525,
          -49.424086971475525,
          -49.424086971475525,
          -49.424086971475525,
          -49.424086971475525,
          -49.424086971475525,
          -49.424086971475525,
          -49.424086971475525,
          -49.424086971475525,
          -49.424086971475525,
          -49.424086971475525,
          -49.424086971475525,
          -49.424086971475525,
          -49.424086971475525,
          -49.424086971475525,
          -49.424086971475525,
          -49.424086971475525,
          -49.424086971475525,
          -49.424086971475525,
          -49.424086971475525,
          -49.424086971475525,
          -49.424086971475525,
          -49.424086971475525,
          -49.424086971475525,
          -49.424086971475525,
          -49.424086971475525,
          -49.424086971475525,
          -49.424086971475525,
          -49.424086971475525,
          -49.424086971475525,
          -49.424086971475525,
          -49.424086971475525,
          -49.424086971475525,
          -49.424086971475525,
          -49.424086971475525,
          -49.424086971475525,
          -49.424086971475525,
          -49.424086971475525,
          -49.424086971475525,
          -49.424086971475525,
          -49.424086971475525,
          -49.424086971475525,
          -49.424086971475525,
          -49.424086971475525,
          -49.424086971475525,
          -49.424086971475525,
          -49.424086971475525,
          -49.424086971475525,
          -49.424086971475525,
          -49.424086971475525,
          -49.424086971475525,
          -49.424086971475525,
          -49.424086971475525,
          -49.424086971475525,
          -49.424086971475525,
          -49.424086971475525,
          -49.424086971475525,
          -49.424086971475525,
          -49.424086971475525,
          -49.424086971475525,
          -49.424086971475525,
          -49.424086971475525,
          -49.424086971475525,
          -49.424086971475525,
          -49.424086971475525,
          -49.424086971475525,
          -49.424086971475525,
          -49.424086971475525,
          -49.424086971475525,
          -49.424086971475525,
          -49.424086971475525,
          -49.424086971475525,
          -49.424086971475525,
          -49.424086971475525,
          -49.424086971475525,
          -49.424086971475525,
          -49.424086971475525,
          -49.424086971475525,
          -49.424086971475525,
          -49.424086971475525,
          -49.424086971475525,
          -49.424086971475525,
          -49.424086971475525,
          -49.424086971475525,
          -49.424086971475525,
          -49.424086971475525,
          -49.424086971475525,
          -49.424086971475525,
          -49.424086971475525,
          -49.424086971475525,
          -49.424086971475525,
          -49.424086971475525,
          -49.424086971475525,
          -49.424086971475525,
          -49.424086971475525,
          -49.424086971475525,
          -49.424086971475525,
          -49.424086971475525,
          -49.424086971475525,
          -49.424086971475525,
          -49.424086971475525,
          -49.424086971475525
         ],
         "yaxis": "y3"
        },
        {
         "marker": {
          "color": "#000000"
         },
         "mode": "markers",
         "name": "Safety X Left Angles",
         "showlegend": false,
         "type": "scatter",
         "x": [
          3,
          3,
          3,
          3,
          3,
          3,
          3,
          3,
          3,
          3,
          3,
          3,
          3,
          3,
          3,
          3,
          3,
          3,
          3,
          3,
          3,
          4,
          4,
          4,
          4,
          4,
          4,
          4,
          4,
          4,
          5,
          5,
          5,
          5,
          5,
          5,
          5,
          5,
          5,
          5,
          5,
          5,
          5,
          5,
          5,
          5,
          5,
          5,
          5,
          5,
          5,
          5,
          5,
          5,
          4,
          5,
          5,
          5,
          5,
          5,
          5,
          5,
          5,
          5,
          5,
          5,
          5,
          5,
          5,
          4,
          4,
          4,
          4,
          4,
          4,
          4,
          4,
          4,
          4,
          4,
          4,
          4,
          4,
          4,
          4,
          4,
          4,
          4,
          4,
          4,
          4,
          3,
          3,
          3,
          3,
          3,
          3,
          3,
          3,
          3,
          3,
          3,
          3,
          3,
          3,
          3,
          3,
          3,
          3,
          3,
          3,
          3,
          3,
          3,
          3,
          3,
          3,
          3,
          3,
          4,
          4,
          4,
          4,
          4,
          3,
          3,
          3,
          3,
          3,
          3,
          3,
          3,
          3,
          3,
          3,
          3,
          3,
          3,
          3,
          3,
          3,
          3,
          3,
          3,
          4,
          4,
          4,
          4,
          4,
          4,
          4,
          4,
          3,
          4,
          4,
          4,
          4,
          4,
          4,
          4,
          4,
          4,
          4,
          4,
          4,
          4,
          4,
          4,
          4,
          4,
          5,
          5,
          5,
          5,
          5,
          5,
          5,
          5,
          5,
          5,
          5,
          5,
          5,
          5,
          5,
          5,
          5,
          5,
          5,
          5,
          5,
          5,
          5,
          5,
          5,
          5,
          5,
          5,
          5,
          5,
          5,
          5,
          5,
          5,
          5,
          5,
          5,
          5,
          5,
          5,
          5,
          5,
          5,
          5,
          5,
          5,
          5,
          5,
          5,
          5,
          5,
          5,
          5,
          5
         ],
         "xaxis": "x4",
         "y": [
          26.673675537109375,
          72.265625,
          111.22623443603516,
          49.788509368896484,
          44.71192169189453,
          32.488624572753906,
          20.258432388305664,
          96.38427734375,
          48.27286148071289,
          20.13835334777832,
          225.80804443359375,
          203.05657958984375,
          258.9930114746094,
          261.3008117675781,
          194.58656311035156,
          223.38250732421875,
          181.5327606201172,
          180.31680297851562,
          206.16738891601562,
          204.732666015625,
          281.55584716796875,
          221.26687622070312,
          251.13230895996094,
          76.35710906982422,
          215.99075317382812,
          22.319337844848633,
          27.27208709716797,
          300.0000305175781,
          29.049692153930664,
          38.867088317871094,
          23.361164093017578,
          37.726593017578125,
          20.088041305541992,
          60.376426696777344,
          24.291542053222656,
          124.17807006835938,
          25.801008224487305,
          23.51451301574707,
          32.38871383666992,
          243.71946716308594,
          41.1047477722168,
          291.0025329589844,
          269.7626647949219,
          27.8388671875,
          34.930686950683594,
          59.95955276489258,
          51.88886260986328,
          115.97518157958984,
          45.398193359375,
          49.276702880859375,
          239.26988220214844,
          40.89011764526367,
          237.89048767089844,
          39.61357116699219,
          25.352497100830078,
          47.67856979370117,
          25.356094360351562,
          50.94615936279297,
          31.992883682250977,
          56.188331604003906,
          69.94208526611328,
          60.835819244384766,
          30.772294998168945,
          60.177528381347656,
          48.781471252441406,
          47.35771942138672,
          53.67286682128906,
          54.13275909423828,
          20.848623275756836,
          40.457923889160156,
          29.738380432128906,
          20.0419979095459,
          36.48262405395508,
          43.8958625793457,
          44.71098709106445,
          60.26375198364258,
          23.82597541809082,
          31.006017684936523,
          34.99159622192383,
          74.45995330810547,
          62.6185188293457,
          26.9796085357666,
          28.857576370239258,
          51.09992980957031,
          27.458959579467773,
          22.61515235900879,
          21.049476623535156,
          33.90752029418945,
          20.539581298828125,
          41.11008834838867,
          40.73923873901367,
          21.47239875793457,
          29.249980926513672,
          43.51893615722656,
          30.170398712158203,
          22.820053100585938,
          54.27970886230469,
          48.56462860107422,
          35.44611358642578,
          24.69158172607422,
          24.110013961791992,
          27.434206008911133,
          25.77639389038086,
          25.145544052124023,
          21.286645889282227,
          25.115835189819336,
          37.82069778442383,
          55.944358825683594,
          23.123119354248047,
          26.5007381439209,
          43.50901794433594,
          65.61656951904297,
          64.35028076171875,
          63.88309860229492,
          43.8466911315918,
          110.99566650390625,
          48.78110122680664,
          21.248367309570312,
          246.5771942138672,
          27.007707595825195,
          24.108232498168945,
          44.726558685302734,
          31.391603469848633,
          25.383878707885742,
          20.000442504882812,
          36.21195602416992,
          45.5235481262207,
          44.73889923095703,
          47.746822357177734,
          43.952754974365234,
          20.948606491088867,
          29.484193801879883,
          29.060014724731445,
          23.444185256958008,
          28.254146575927734,
          28.813451766967773,
          33.169830322265625,
          21.37665557861328,
          20.154767990112305,
          23.28439712524414,
          40.8826904296875,
          37.50126647949219,
          35.30916213989258,
          29.3981876373291,
          33.81668472290039,
          20.437763214111328,
          23.510929107666016,
          28.416759490966797,
          27.29709815979004,
          30.73431968688965,
          31.273895263671875,
          28.787094116210938,
          28.502439498901367,
          35.49028396606445,
          47.75333023071289,
          42.78274917602539,
          31.453590393066406,
          25.423912048339844,
          35.929603576660156,
          52.841331481933594,
          24.457942962646484,
          40.933197021484375,
          55.25414276123047,
          66.11962890625,
          65.31642150878906,
          67.63290405273438,
          69.23448181152344,
          60.70447540283203,
          78.62028503417969,
          23.396949768066406,
          39.067440032958984,
          49.098941802978516,
          45.820125579833984,
          255.46002197265625,
          40.73073959350586,
          72.20929718017578,
          40.400516510009766,
          47.827457427978516,
          31.4644718170166,
          275.9725646972656,
          35.211185455322266,
          59.847816467285156,
          29.7293701171875,
          76.4751205444336,
          39.412376403808594,
          33.28114318847656,
          35.07647705078125,
          58.83646011352539,
          45.08977508544922,
          41.325130462646484,
          36.724369049072266,
          34.0559196472168,
          30.144521713256836,
          58.21169662475586,
          47.78072738647461,
          22.977081298828125,
          68.44070434570312,
          25.064472198486328,
          20.142480850219727,
          26.57387351989746,
          22.67227554321289,
          22.51879119873047,
          42.09779739379883,
          22.689451217651367,
          26.140445709228516,
          20.295621871948242,
          20.782255172729492,
          54.43113327026367,
          128.5784454345703,
          26.883895874023438,
          31.871196746826172,
          56.44002151489258,
          51.72858810424805,
          58.306819915771484,
          46.61920928955078,
          68.14509582519531,
          21.038497924804688,
          20.31439971923828,
          20.331287384033203,
          24.37416648864746,
          66.16350555419922,
          35.35976028442383,
          64.99497985839844,
          22.793550491333008
         ],
         "yaxis": "y4"
        },
        {
         "hovertemplate": "<b>OLS trendline</b><br>y = -4.67818 * x + 80.1737<br>R<sup>2</sup>=0.003863<br><br>x=%{x}<br>y=%{y} <b>(trend)</b><extra></extra>",
         "legendgroup": "",
         "marker": {
          "color": "#961C26",
          "symbol": "circle"
         },
         "mode": "lines",
         "name": "",
         "showlegend": false,
         "type": "scatter",
         "x": [
          3,
          3,
          3,
          3,
          3,
          3,
          3,
          3,
          3,
          3,
          3,
          3,
          3,
          3,
          3,
          3,
          3,
          3,
          3,
          3,
          3,
          3,
          3,
          3,
          3,
          3,
          3,
          3,
          3,
          3,
          3,
          3,
          3,
          3,
          3,
          3,
          3,
          3,
          3,
          3,
          3,
          3,
          3,
          3,
          3,
          3,
          3,
          3,
          3,
          3,
          3,
          3,
          3,
          3,
          3,
          3,
          3,
          3,
          3,
          3,
          3,
          3,
          3,
          3,
          3,
          3,
          3,
          3,
          3,
          3,
          4,
          4,
          4,
          4,
          4,
          4,
          4,
          4,
          4,
          4,
          4,
          4,
          4,
          4,
          4,
          4,
          4,
          4,
          4,
          4,
          4,
          4,
          4,
          4,
          4,
          4,
          4,
          4,
          4,
          4,
          4,
          4,
          4,
          4,
          4,
          4,
          4,
          4,
          4,
          4,
          4,
          4,
          4,
          4,
          4,
          4,
          4,
          4,
          4,
          4,
          4,
          4,
          4,
          4,
          4,
          4,
          4,
          4,
          4,
          4,
          4,
          4,
          5,
          5,
          5,
          5,
          5,
          5,
          5,
          5,
          5,
          5,
          5,
          5,
          5,
          5,
          5,
          5,
          5,
          5,
          5,
          5,
          5,
          5,
          5,
          5,
          5,
          5,
          5,
          5,
          5,
          5,
          5,
          5,
          5,
          5,
          5,
          5,
          5,
          5,
          5,
          5,
          5,
          5,
          5,
          5,
          5,
          5,
          5,
          5,
          5,
          5,
          5,
          5,
          5,
          5,
          5,
          5,
          5,
          5,
          5,
          5,
          5,
          5,
          5,
          5,
          5,
          5,
          5,
          5,
          5,
          5,
          5,
          5,
          5,
          5,
          5,
          5,
          5,
          5,
          5,
          5,
          5,
          5,
          5,
          5,
          5,
          5,
          5,
          5,
          5,
          5,
          5,
          5
         ],
         "xaxis": "x4",
         "y": [
          66.13911930860303,
          66.13911930860303,
          66.13911930860303,
          66.13911930860303,
          66.13911930860303,
          66.13911930860303,
          66.13911930860303,
          66.13911930860303,
          66.13911930860303,
          66.13911930860303,
          66.13911930860303,
          66.13911930860303,
          66.13911930860303,
          66.13911930860303,
          66.13911930860303,
          66.13911930860303,
          66.13911930860303,
          66.13911930860303,
          66.13911930860303,
          66.13911930860303,
          66.13911930860303,
          66.13911930860303,
          66.13911930860303,
          66.13911930860303,
          66.13911930860303,
          66.13911930860303,
          66.13911930860303,
          66.13911930860303,
          66.13911930860303,
          66.13911930860303,
          66.13911930860303,
          66.13911930860303,
          66.13911930860303,
          66.13911930860303,
          66.13911930860303,
          66.13911930860303,
          66.13911930860303,
          66.13911930860303,
          66.13911930860303,
          66.13911930860303,
          66.13911930860303,
          66.13911930860303,
          66.13911930860303,
          66.13911930860303,
          66.13911930860303,
          66.13911930860303,
          66.13911930860303,
          66.13911930860303,
          66.13911930860303,
          66.13911930860303,
          66.13911930860303,
          66.13911930860303,
          66.13911930860303,
          66.13911930860303,
          66.13911930860303,
          66.13911930860303,
          66.13911930860303,
          66.13911930860303,
          66.13911930860303,
          66.13911930860303,
          66.13911930860303,
          66.13911930860303,
          66.13911930860303,
          66.13911930860303,
          66.13911930860303,
          66.13911930860303,
          66.13911930860303,
          66.13911930860303,
          66.13911930860303,
          66.13911930860303,
          61.460936614940024,
          61.460936614940024,
          61.460936614940024,
          61.460936614940024,
          61.460936614940024,
          61.460936614940024,
          61.460936614940024,
          61.460936614940024,
          61.460936614940024,
          61.460936614940024,
          61.460936614940024,
          61.460936614940024,
          61.460936614940024,
          61.460936614940024,
          61.460936614940024,
          61.460936614940024,
          61.460936614940024,
          61.460936614940024,
          61.460936614940024,
          61.460936614940024,
          61.460936614940024,
          61.460936614940024,
          61.460936614940024,
          61.460936614940024,
          61.460936614940024,
          61.460936614940024,
          61.460936614940024,
          61.460936614940024,
          61.460936614940024,
          61.460936614940024,
          61.460936614940024,
          61.460936614940024,
          61.460936614940024,
          61.460936614940024,
          61.460936614940024,
          61.460936614940024,
          61.460936614940024,
          61.460936614940024,
          61.460936614940024,
          61.460936614940024,
          61.460936614940024,
          61.460936614940024,
          61.460936614940024,
          61.460936614940024,
          61.460936614940024,
          61.460936614940024,
          61.460936614940024,
          61.460936614940024,
          61.460936614940024,
          61.460936614940024,
          61.460936614940024,
          61.460936614940024,
          61.460936614940024,
          61.460936614940024,
          61.460936614940024,
          61.460936614940024,
          61.460936614940024,
          61.460936614940024,
          61.460936614940024,
          61.460936614940024,
          61.460936614940024,
          61.460936614940024,
          56.78275392127702,
          56.78275392127702,
          56.78275392127702,
          56.78275392127702,
          56.78275392127702,
          56.78275392127702,
          56.78275392127702,
          56.78275392127702,
          56.78275392127702,
          56.78275392127702,
          56.78275392127702,
          56.78275392127702,
          56.78275392127702,
          56.78275392127702,
          56.78275392127702,
          56.78275392127702,
          56.78275392127702,
          56.78275392127702,
          56.78275392127702,
          56.78275392127702,
          56.78275392127702,
          56.78275392127702,
          56.78275392127702,
          56.78275392127702,
          56.78275392127702,
          56.78275392127702,
          56.78275392127702,
          56.78275392127702,
          56.78275392127702,
          56.78275392127702,
          56.78275392127702,
          56.78275392127702,
          56.78275392127702,
          56.78275392127702,
          56.78275392127702,
          56.78275392127702,
          56.78275392127702,
          56.78275392127702,
          56.78275392127702,
          56.78275392127702,
          56.78275392127702,
          56.78275392127702,
          56.78275392127702,
          56.78275392127702,
          56.78275392127702,
          56.78275392127702,
          56.78275392127702,
          56.78275392127702,
          56.78275392127702,
          56.78275392127702,
          56.78275392127702,
          56.78275392127702,
          56.78275392127702,
          56.78275392127702,
          56.78275392127702,
          56.78275392127702,
          56.78275392127702,
          56.78275392127702,
          56.78275392127702,
          56.78275392127702,
          56.78275392127702,
          56.78275392127702,
          56.78275392127702,
          56.78275392127702,
          56.78275392127702,
          56.78275392127702,
          56.78275392127702,
          56.78275392127702,
          56.78275392127702,
          56.78275392127702,
          56.78275392127702,
          56.78275392127702,
          56.78275392127702,
          56.78275392127702,
          56.78275392127702,
          56.78275392127702,
          56.78275392127702,
          56.78275392127702,
          56.78275392127702,
          56.78275392127702,
          56.78275392127702,
          56.78275392127702,
          56.78275392127702,
          56.78275392127702,
          56.78275392127702,
          56.78275392127702,
          56.78275392127702,
          56.78275392127702,
          56.78275392127702,
          56.78275392127702,
          56.78275392127702,
          56.78275392127702
         ],
         "yaxis": "y4"
        }
       ],
       "layout": {
        "annotations": [
         {
          "font": {
           "size": 24
          },
          "showarrow": false,
          "text": "Head rotation frequency left",
          "x": 0.10625,
          "xanchor": "center",
          "xref": "paper",
          "y": 1,
          "yanchor": "bottom",
          "yref": "paper"
         },
         {
          "font": {
           "size": 24
          },
          "showarrow": false,
          "text": "Head rotation frequency right",
          "x": 0.36875,
          "xanchor": "center",
          "xref": "paper",
          "y": 1,
          "yanchor": "bottom",
          "yref": "paper"
         },
         {
          "font": {
           "size": 24
          },
          "showarrow": false,
          "text": "Head rotation angles left",
          "x": 0.6312500000000001,
          "xanchor": "center",
          "xref": "paper",
          "y": 1,
          "yanchor": "bottom",
          "yref": "paper"
         },
         {
          "font": {
           "size": 24
          },
          "showarrow": false,
          "text": "Head rotation angles right",
          "x": 0.89375,
          "xanchor": "center",
          "xref": "paper",
          "y": 1,
          "yanchor": "bottom",
          "yref": "paper"
         }
        ],
        "font": {
         "family": "Lato, sans-serif",
         "size": 14
        },
        "height": 384,
        "hoverlabel": {
         "font": {
          "family": "Lato, sans-serif",
          "size": 13
         }
        },
        "hovermode": "y unified",
        "legend": {
         "orientation": "h",
         "x": 0.5,
         "xanchor": "center",
         "y": 1,
         "yanchor": "bottom"
        },
        "paper_bgcolor": "rgba(255,255,255,1)",
        "plot_bgcolor": "rgba(255,255,255,1)",
        "template": {
         "data": {
          "bar": [
           {
            "error_x": {
             "color": "rgb(36,36,36)"
            },
            "error_y": {
             "color": "rgb(36,36,36)"
            },
            "marker": {
             "line": {
              "color": "white",
              "width": 0.5
             },
             "pattern": {
              "fillmode": "overlay",
              "size": 10,
              "solidity": 0.2
             }
            },
            "type": "bar"
           }
          ],
          "barpolar": [
           {
            "marker": {
             "line": {
              "color": "white",
              "width": 0.5
             },
             "pattern": {
              "fillmode": "overlay",
              "size": 10,
              "solidity": 0.2
             }
            },
            "type": "barpolar"
           }
          ],
          "carpet": [
           {
            "aaxis": {
             "endlinecolor": "rgb(36,36,36)",
             "gridcolor": "white",
             "linecolor": "white",
             "minorgridcolor": "white",
             "startlinecolor": "rgb(36,36,36)"
            },
            "baxis": {
             "endlinecolor": "rgb(36,36,36)",
             "gridcolor": "white",
             "linecolor": "white",
             "minorgridcolor": "white",
             "startlinecolor": "rgb(36,36,36)"
            },
            "type": "carpet"
           }
          ],
          "choropleth": [
           {
            "colorbar": {
             "outlinewidth": 1,
             "tickcolor": "rgb(36,36,36)",
             "ticks": "outside"
            },
            "type": "choropleth"
           }
          ],
          "contour": [
           {
            "colorbar": {
             "outlinewidth": 1,
             "tickcolor": "rgb(36,36,36)",
             "ticks": "outside"
            },
            "colorscale": [
             [
              0,
              "#440154"
             ],
             [
              0.1111111111111111,
              "#482878"
             ],
             [
              0.2222222222222222,
              "#3e4989"
             ],
             [
              0.3333333333333333,
              "#31688e"
             ],
             [
              0.4444444444444444,
              "#26828e"
             ],
             [
              0.5555555555555556,
              "#1f9e89"
             ],
             [
              0.6666666666666666,
              "#35b779"
             ],
             [
              0.7777777777777778,
              "#6ece58"
             ],
             [
              0.8888888888888888,
              "#b5de2b"
             ],
             [
              1,
              "#fde725"
             ]
            ],
            "type": "contour"
           }
          ],
          "contourcarpet": [
           {
            "colorbar": {
             "outlinewidth": 1,
             "tickcolor": "rgb(36,36,36)",
             "ticks": "outside"
            },
            "type": "contourcarpet"
           }
          ],
          "heatmap": [
           {
            "colorbar": {
             "outlinewidth": 1,
             "tickcolor": "rgb(36,36,36)",
             "ticks": "outside"
            },
            "colorscale": [
             [
              0,
              "#440154"
             ],
             [
              0.1111111111111111,
              "#482878"
             ],
             [
              0.2222222222222222,
              "#3e4989"
             ],
             [
              0.3333333333333333,
              "#31688e"
             ],
             [
              0.4444444444444444,
              "#26828e"
             ],
             [
              0.5555555555555556,
              "#1f9e89"
             ],
             [
              0.6666666666666666,
              "#35b779"
             ],
             [
              0.7777777777777778,
              "#6ece58"
             ],
             [
              0.8888888888888888,
              "#b5de2b"
             ],
             [
              1,
              "#fde725"
             ]
            ],
            "type": "heatmap"
           }
          ],
          "heatmapgl": [
           {
            "colorbar": {
             "outlinewidth": 1,
             "tickcolor": "rgb(36,36,36)",
             "ticks": "outside"
            },
            "colorscale": [
             [
              0,
              "#440154"
             ],
             [
              0.1111111111111111,
              "#482878"
             ],
             [
              0.2222222222222222,
              "#3e4989"
             ],
             [
              0.3333333333333333,
              "#31688e"
             ],
             [
              0.4444444444444444,
              "#26828e"
             ],
             [
              0.5555555555555556,
              "#1f9e89"
             ],
             [
              0.6666666666666666,
              "#35b779"
             ],
             [
              0.7777777777777778,
              "#6ece58"
             ],
             [
              0.8888888888888888,
              "#b5de2b"
             ],
             [
              1,
              "#fde725"
             ]
            ],
            "type": "heatmapgl"
           }
          ],
          "histogram": [
           {
            "marker": {
             "line": {
              "color": "white",
              "width": 0.6
             }
            },
            "type": "histogram"
           }
          ],
          "histogram2d": [
           {
            "colorbar": {
             "outlinewidth": 1,
             "tickcolor": "rgb(36,36,36)",
             "ticks": "outside"
            },
            "colorscale": [
             [
              0,
              "#440154"
             ],
             [
              0.1111111111111111,
              "#482878"
             ],
             [
              0.2222222222222222,
              "#3e4989"
             ],
             [
              0.3333333333333333,
              "#31688e"
             ],
             [
              0.4444444444444444,
              "#26828e"
             ],
             [
              0.5555555555555556,
              "#1f9e89"
             ],
             [
              0.6666666666666666,
              "#35b779"
             ],
             [
              0.7777777777777778,
              "#6ece58"
             ],
             [
              0.8888888888888888,
              "#b5de2b"
             ],
             [
              1,
              "#fde725"
             ]
            ],
            "type": "histogram2d"
           }
          ],
          "histogram2dcontour": [
           {
            "colorbar": {
             "outlinewidth": 1,
             "tickcolor": "rgb(36,36,36)",
             "ticks": "outside"
            },
            "colorscale": [
             [
              0,
              "#440154"
             ],
             [
              0.1111111111111111,
              "#482878"
             ],
             [
              0.2222222222222222,
              "#3e4989"
             ],
             [
              0.3333333333333333,
              "#31688e"
             ],
             [
              0.4444444444444444,
              "#26828e"
             ],
             [
              0.5555555555555556,
              "#1f9e89"
             ],
             [
              0.6666666666666666,
              "#35b779"
             ],
             [
              0.7777777777777778,
              "#6ece58"
             ],
             [
              0.8888888888888888,
              "#b5de2b"
             ],
             [
              1,
              "#fde725"
             ]
            ],
            "type": "histogram2dcontour"
           }
          ],
          "mesh3d": [
           {
            "colorbar": {
             "outlinewidth": 1,
             "tickcolor": "rgb(36,36,36)",
             "ticks": "outside"
            },
            "type": "mesh3d"
           }
          ],
          "parcoords": [
           {
            "line": {
             "colorbar": {
              "outlinewidth": 1,
              "tickcolor": "rgb(36,36,36)",
              "ticks": "outside"
             }
            },
            "type": "parcoords"
           }
          ],
          "pie": [
           {
            "automargin": true,
            "type": "pie"
           }
          ],
          "scatter": [
           {
            "fillpattern": {
             "fillmode": "overlay",
             "size": 10,
             "solidity": 0.2
            },
            "type": "scatter"
           }
          ],
          "scatter3d": [
           {
            "line": {
             "colorbar": {
              "outlinewidth": 1,
              "tickcolor": "rgb(36,36,36)",
              "ticks": "outside"
             }
            },
            "marker": {
             "colorbar": {
              "outlinewidth": 1,
              "tickcolor": "rgb(36,36,36)",
              "ticks": "outside"
             }
            },
            "type": "scatter3d"
           }
          ],
          "scattercarpet": [
           {
            "marker": {
             "colorbar": {
              "outlinewidth": 1,
              "tickcolor": "rgb(36,36,36)",
              "ticks": "outside"
             }
            },
            "type": "scattercarpet"
           }
          ],
          "scattergeo": [
           {
            "marker": {
             "colorbar": {
              "outlinewidth": 1,
              "tickcolor": "rgb(36,36,36)",
              "ticks": "outside"
             }
            },
            "type": "scattergeo"
           }
          ],
          "scattergl": [
           {
            "marker": {
             "colorbar": {
              "outlinewidth": 1,
              "tickcolor": "rgb(36,36,36)",
              "ticks": "outside"
             }
            },
            "type": "scattergl"
           }
          ],
          "scattermapbox": [
           {
            "marker": {
             "colorbar": {
              "outlinewidth": 1,
              "tickcolor": "rgb(36,36,36)",
              "ticks": "outside"
             }
            },
            "type": "scattermapbox"
           }
          ],
          "scatterpolar": [
           {
            "marker": {
             "colorbar": {
              "outlinewidth": 1,
              "tickcolor": "rgb(36,36,36)",
              "ticks": "outside"
             }
            },
            "type": "scatterpolar"
           }
          ],
          "scatterpolargl": [
           {
            "marker": {
             "colorbar": {
              "outlinewidth": 1,
              "tickcolor": "rgb(36,36,36)",
              "ticks": "outside"
             }
            },
            "type": "scatterpolargl"
           }
          ],
          "scatterternary": [
           {
            "marker": {
             "colorbar": {
              "outlinewidth": 1,
              "tickcolor": "rgb(36,36,36)",
              "ticks": "outside"
             }
            },
            "type": "scatterternary"
           }
          ],
          "surface": [
           {
            "colorbar": {
             "outlinewidth": 1,
             "tickcolor": "rgb(36,36,36)",
             "ticks": "outside"
            },
            "colorscale": [
             [
              0,
              "#440154"
             ],
             [
              0.1111111111111111,
              "#482878"
             ],
             [
              0.2222222222222222,
              "#3e4989"
             ],
             [
              0.3333333333333333,
              "#31688e"
             ],
             [
              0.4444444444444444,
              "#26828e"
             ],
             [
              0.5555555555555556,
              "#1f9e89"
             ],
             [
              0.6666666666666666,
              "#35b779"
             ],
             [
              0.7777777777777778,
              "#6ece58"
             ],
             [
              0.8888888888888888,
              "#b5de2b"
             ],
             [
              1,
              "#fde725"
             ]
            ],
            "type": "surface"
           }
          ],
          "table": [
           {
            "cells": {
             "fill": {
              "color": "rgb(237,237,237)"
             },
             "line": {
              "color": "white"
             }
            },
            "header": {
             "fill": {
              "color": "rgb(217,217,217)"
             },
             "line": {
              "color": "white"
             }
            },
            "type": "table"
           }
          ]
         },
         "layout": {
          "annotationdefaults": {
           "arrowhead": 0,
           "arrowwidth": 1
          },
          "autotypenumbers": "strict",
          "coloraxis": {
           "colorbar": {
            "outlinewidth": 1,
            "tickcolor": "rgb(36,36,36)",
            "ticks": "outside"
           }
          },
          "colorscale": {
           "diverging": [
            [
             0,
             "rgb(103,0,31)"
            ],
            [
             0.1,
             "rgb(178,24,43)"
            ],
            [
             0.2,
             "rgb(214,96,77)"
            ],
            [
             0.3,
             "rgb(244,165,130)"
            ],
            [
             0.4,
             "rgb(253,219,199)"
            ],
            [
             0.5,
             "rgb(247,247,247)"
            ],
            [
             0.6,
             "rgb(209,229,240)"
            ],
            [
             0.7,
             "rgb(146,197,222)"
            ],
            [
             0.8,
             "rgb(67,147,195)"
            ],
            [
             0.9,
             "rgb(33,102,172)"
            ],
            [
             1,
             "rgb(5,48,97)"
            ]
           ],
           "sequential": [
            [
             0,
             "#440154"
            ],
            [
             0.1111111111111111,
             "#482878"
            ],
            [
             0.2222222222222222,
             "#3e4989"
            ],
            [
             0.3333333333333333,
             "#31688e"
            ],
            [
             0.4444444444444444,
             "#26828e"
            ],
            [
             0.5555555555555556,
             "#1f9e89"
            ],
            [
             0.6666666666666666,
             "#35b779"
            ],
            [
             0.7777777777777778,
             "#6ece58"
            ],
            [
             0.8888888888888888,
             "#b5de2b"
            ],
            [
             1,
             "#fde725"
            ]
           ],
           "sequentialminus": [
            [
             0,
             "#440154"
            ],
            [
             0.1111111111111111,
             "#482878"
            ],
            [
             0.2222222222222222,
             "#3e4989"
            ],
            [
             0.3333333333333333,
             "#31688e"
            ],
            [
             0.4444444444444444,
             "#26828e"
            ],
            [
             0.5555555555555556,
             "#1f9e89"
            ],
            [
             0.6666666666666666,
             "#35b779"
            ],
            [
             0.7777777777777778,
             "#6ece58"
            ],
            [
             0.8888888888888888,
             "#b5de2b"
            ],
            [
             1,
             "#fde725"
            ]
           ]
          },
          "colorway": [
           "#1F77B4",
           "#FF7F0E",
           "#2CA02C",
           "#D62728",
           "#9467BD",
           "#8C564B",
           "#E377C2",
           "#7F7F7F",
           "#BCBD22",
           "#17BECF"
          ],
          "font": {
           "color": "rgb(36,36,36)"
          },
          "geo": {
           "bgcolor": "white",
           "lakecolor": "white",
           "landcolor": "white",
           "showlakes": true,
           "showland": true,
           "subunitcolor": "white"
          },
          "hoverlabel": {
           "align": "left"
          },
          "hovermode": "closest",
          "mapbox": {
           "style": "light"
          },
          "paper_bgcolor": "white",
          "plot_bgcolor": "white",
          "polar": {
           "angularaxis": {
            "gridcolor": "rgb(232,232,232)",
            "linecolor": "rgb(36,36,36)",
            "showgrid": false,
            "showline": true,
            "ticks": "outside"
           },
           "bgcolor": "white",
           "radialaxis": {
            "gridcolor": "rgb(232,232,232)",
            "linecolor": "rgb(36,36,36)",
            "showgrid": false,
            "showline": true,
            "ticks": "outside"
           }
          },
          "scene": {
           "xaxis": {
            "backgroundcolor": "white",
            "gridcolor": "rgb(232,232,232)",
            "gridwidth": 2,
            "linecolor": "rgb(36,36,36)",
            "showbackground": true,
            "showgrid": false,
            "showline": true,
            "ticks": "outside",
            "zeroline": false,
            "zerolinecolor": "rgb(36,36,36)"
           },
           "yaxis": {
            "backgroundcolor": "white",
            "gridcolor": "rgb(232,232,232)",
            "gridwidth": 2,
            "linecolor": "rgb(36,36,36)",
            "showbackground": true,
            "showgrid": false,
            "showline": true,
            "ticks": "outside",
            "zeroline": false,
            "zerolinecolor": "rgb(36,36,36)"
           },
           "zaxis": {
            "backgroundcolor": "white",
            "gridcolor": "rgb(232,232,232)",
            "gridwidth": 2,
            "linecolor": "rgb(36,36,36)",
            "showbackground": true,
            "showgrid": false,
            "showline": true,
            "ticks": "outside",
            "zeroline": false,
            "zerolinecolor": "rgb(36,36,36)"
           }
          },
          "shapedefaults": {
           "fillcolor": "black",
           "line": {
            "width": 0
           },
           "opacity": 0.3
          },
          "ternary": {
           "aaxis": {
            "gridcolor": "rgb(232,232,232)",
            "linecolor": "rgb(36,36,36)",
            "showgrid": false,
            "showline": true,
            "ticks": "outside"
           },
           "baxis": {
            "gridcolor": "rgb(232,232,232)",
            "linecolor": "rgb(36,36,36)",
            "showgrid": false,
            "showline": true,
            "ticks": "outside"
           },
           "bgcolor": "white",
           "caxis": {
            "gridcolor": "rgb(232,232,232)",
            "linecolor": "rgb(36,36,36)",
            "showgrid": false,
            "showline": true,
            "ticks": "outside"
           }
          },
          "title": {
           "x": 0.05
          },
          "xaxis": {
           "automargin": true,
           "gridcolor": "rgb(232,232,232)",
           "linecolor": "rgb(36,36,36)",
           "showgrid": false,
           "showline": true,
           "ticks": "outside",
           "title": {
            "standoff": 15
           },
           "zeroline": false,
           "zerolinecolor": "rgb(36,36,36)"
          },
          "yaxis": {
           "automargin": true,
           "gridcolor": "rgb(232,232,232)",
           "linecolor": "rgb(36,36,36)",
           "showgrid": false,
           "showline": true,
           "ticks": "outside",
           "title": {
            "standoff": 15
           },
           "zeroline": false,
           "zerolinecolor": "rgb(36,36,36)"
          }
         }
        },
        "width": 2048,
        "xaxis": {
         "anchor": "y",
         "domain": [
          0,
          0.2125
         ],
         "dtick": 1
        },
        "xaxis2": {
         "anchor": "y2",
         "domain": [
          0.2625,
          0.475
         ]
        },
        "xaxis3": {
         "anchor": "y3",
         "domain": [
          0.525,
          0.7375
         ]
        },
        "xaxis4": {
         "anchor": "y4",
         "domain": [
          0.7875,
          1
         ],
         "dtick": 1,
         "tick0": 0
        },
        "yaxis": {
         "anchor": "x",
         "domain": [
          0,
          1
         ]
        },
        "yaxis2": {
         "anchor": "x2",
         "domain": [
          0,
          1
         ]
        },
        "yaxis3": {
         "anchor": "x3",
         "domain": [
          0,
          1
         ],
         "ticksuffix": "°"
        },
        "yaxis4": {
         "anchor": "x4",
         "domain": [
          0,
          1
         ],
         "ticksuffix": "°"
        }
       }
      }
     },
     "metadata": {},
     "output_type": "display_data"
    }
   ],
   "source": [
    "#fig_master = make_subplots(\n",
    "#    rows=1, \n",
    "#    cols=5, \n",
    "#    specs=[[{}, {},{},{},{}]], \n",
    "#    shared_yaxes=False, \n",
    "#    horizontal_spacing=0.05,\n",
    "#    vertical_spacing=0.1,\n",
    "#    subplot_titles=(\"Headrotation frequency left\", \"Headrotation frequency right\", \"Headrotation angles left\", \"Headrotation angles right\",\"Difficulty\")\n",
    "#)\n",
    "# Plots for correlations. Trendline generated as linear trendline via https://plotly.com/python/linear-fits/\n",
    "\n",
    "fig_master = make_subplots(\n",
    "    rows=1, \n",
    "    cols=4, \n",
    "    specs=[[{},{},{},{}]], \n",
    "    shared_yaxes=False, \n",
    "    horizontal_spacing=0.05,\n",
    "    vertical_spacing=0.1,\n",
    "    subplot_titles=(\"Head rotation frequency left\", \"Head rotation frequency right\", \"Head rotation angles left\", \"Head rotation angles right\")\n",
    ")\n",
    "\n",
    "#Rotations\n",
    "fig_master.append_trace(go.Scatter(mode='markers',x = safety_left_rots,y = left_rots,showlegend=False,name='Safety X Left Rotations', marker_color='#000000'),1,1)\n",
    "trend_rotations = px.scatter(y=left_rots, x= safety_left_rots, trendline=\"ols\")\n",
    "trendline = trend_rotations.data[1]\n",
    "trendline.marker.color = marking_red\n",
    "fig_master.append_trace(trendline,1,1)\n",
    "\n",
    "\n",
    "fig_master.append_trace(go.Scatter(mode='markers',x = safety_right_rots,y = right_rots,showlegend=False,name='Safety X Left Rotations', marker_color='#000000'),1,2)\n",
    "trend_rotations = px.scatter(y=right_rots, x= safety_right_rots, trendline=\"ols\")\n",
    "trendline = trend_rotations.data[1]\n",
    "trendline.marker.color = marking_red\n",
    "fig_master.append_trace(trendline,1,2)\n",
    "\n",
    "#Angles\n",
    "fig_master.append_trace(go.Scatter(mode='markers',x = safety_left_angles,y = left_angles,showlegend=False,name='Safety X Left Angles', marker_color='#000000'),1,3)\n",
    "trend_angles = px.scatter(y=left_angles, x= safety_left_angles, trendline=\"ols\")\n",
    "trendline = trend_angles.data[1]\n",
    "trendline.marker.color = marking_red\n",
    "fig_master.append_trace(trendline,1,3)\n",
    "\n",
    "\n",
    "fig_master.append_trace(go.Scatter(mode='markers',x = safety_right_angles,y = right_angles,showlegend=False,name='Safety X Left Angles', marker_color='#000000'),1,4)\n",
    "trend_angles = px.scatter(y=right_angles, x= safety_right_angles, trendline=\"ols\")\n",
    "trendline = trend_angles.data[1]\n",
    "trendline.marker.color = marking_red\n",
    "fig_master.append_trace(trendline,1,4)\n",
    "\n",
    "#fig_master.append_trace(go.Scatter(mode='markers',x = safety,y = difficulty,showlegend=False,name='Safety X Difficulty', marker_color='#000000'),1,5)\n",
    "#trend_difficulty = px.scatter(y=difficulty, x= safety, trendline=\"ols\")\n",
    "#trendline = trend_difficulty.data[1]\n",
    "#trendline.marker.color = marking_red\n",
    "#fig_master.append_trace(trendline,1,5)\n",
    "\n",
    "#yaxis = [\"Difficulty\",\"Left Rotations\",\"Right Rotations\",\"Left Angles\",\"Right Angles\"]\n",
    "yaxis = [\"Left Rotations\",\"Right Rotations\",\"Left Angles\",\"Right Angles\"]\n",
    "yFormat = [\"\",\"\",\"°\",\"°\"]\n",
    "fig_master.update_layout(\n",
    "        hovermode=\"y unified\", \n",
    "        xaxis_dtick = 1,\n",
    "        width=plot_width * 2, height=plot_height / 2,\n",
    "        font=dict(family=\"Lato, sans-serif\",size=14),\n",
    "        legend=dict(orientation=\"h\", yanchor=\"bottom\",y=1, xanchor=\"center\", x=0.5),\n",
    "        hoverlabel=dict(font_size=13, font_family=\"Lato, sans-serif\"),\n",
    "        paper_bgcolor='rgba(255,255,255,1)',\n",
    "        plot_bgcolor='rgba(255,255,255,1)')\n",
    "#fig_master.layout[\"yaxis3\"].update(ticksuffix = \"°\")\n",
    "#fig_master.layout[\"yaxis4\"].update(ticksuffix = \"°\")\n",
    "#fig_master.layout[\"xaxis5\"].update(tick0 = 0).update(dtick = 1)\n",
    "fig_master.layout[\"yaxis3\"].update(ticksuffix = \"°\")\n",
    "fig_master.layout[\"yaxis4\"].update(ticksuffix = \"°\")\n",
    "\n",
    "fig_master.layout[\"xaxis4\"].update(tick0 = 0).update(dtick = 1)\n",
    "#Set Headline size\n",
    "fig_master.update_annotations(font_size=24)\n",
    "display(fig_master)"
   ]
  },
  {
   "attachments": {},
   "cell_type": "markdown",
   "id": "e569c1de",
   "metadata": {},
   "source": [
    "#### Real Gazes vs. Measured Gazes"
   ]
  },
  {
   "cell_type": "code",
   "execution_count": 25,
   "id": "e625878e",
   "metadata": {},
   "outputs": [
    {
     "data": {
      "application/vnd.plotly.v1+json": {
       "config": {
        "plotlyServerURL": "https://plot.ly"
       },
       "data": [
        {
         "marker": {
          "color": "#961C26"
         },
         "name": "Real Left Gazes",
         "orientation": "h",
         "showlegend": true,
         "text": [
          134,
          112,
          62,
          146,
          92,
          90,
          171,
          135,
          118
         ],
         "type": "bar",
         "x": [
          134,
          112,
          62,
          146,
          92,
          90,
          171,
          135,
          117.75
         ],
         "y": [
          "Subject 1",
          "Subject 2",
          "Subject 3",
          "Subject 4",
          "Subject 5",
          "Subject 6",
          "Subject 7",
          "Subject 8",
          null
         ]
        },
        {
         "marker": {
          "color": "#000000"
         },
         "name": "Measured Left Rotations",
         "orientation": "h",
         "showlegend": true,
         "text": [
          214,
          99,
          72,
          169,
          148,
          90,
          206,
          116,
          139
         ],
         "type": "bar",
         "x": [
          214,
          99,
          72,
          169,
          148,
          90,
          206,
          116,
          139.25
         ],
         "y": [
          "Subject 1",
          "Subject 2",
          "Subject 3",
          "Subject 4",
          "Subject 5",
          "Subject 6",
          "Subject 7",
          "Subject 8",
          null
         ]
        }
       ],
       "layout": {
        "font": {
         "family": "Lato, sans-serif",
         "size": 14
        },
        "height": 768,
        "hoverlabel": {
         "font": {
          "family": "Lato, sans-serif",
          "size": 13
         }
        },
        "hovermode": "y unified",
        "legend": {
         "orientation": "h",
         "x": 0.5,
         "xanchor": "center",
         "y": 1,
         "yanchor": "bottom"
        },
        "margin": {
         "b": 0,
         "l": 70,
         "r": 40,
         "t": 80
        },
        "template": {
         "data": {
          "bar": [
           {
            "error_x": {
             "color": "rgb(36,36,36)"
            },
            "error_y": {
             "color": "rgb(36,36,36)"
            },
            "marker": {
             "line": {
              "color": "white",
              "width": 0.5
             },
             "pattern": {
              "fillmode": "overlay",
              "size": 10,
              "solidity": 0.2
             }
            },
            "type": "bar"
           }
          ],
          "barpolar": [
           {
            "marker": {
             "line": {
              "color": "white",
              "width": 0.5
             },
             "pattern": {
              "fillmode": "overlay",
              "size": 10,
              "solidity": 0.2
             }
            },
            "type": "barpolar"
           }
          ],
          "carpet": [
           {
            "aaxis": {
             "endlinecolor": "rgb(36,36,36)",
             "gridcolor": "white",
             "linecolor": "white",
             "minorgridcolor": "white",
             "startlinecolor": "rgb(36,36,36)"
            },
            "baxis": {
             "endlinecolor": "rgb(36,36,36)",
             "gridcolor": "white",
             "linecolor": "white",
             "minorgridcolor": "white",
             "startlinecolor": "rgb(36,36,36)"
            },
            "type": "carpet"
           }
          ],
          "choropleth": [
           {
            "colorbar": {
             "outlinewidth": 1,
             "tickcolor": "rgb(36,36,36)",
             "ticks": "outside"
            },
            "type": "choropleth"
           }
          ],
          "contour": [
           {
            "colorbar": {
             "outlinewidth": 1,
             "tickcolor": "rgb(36,36,36)",
             "ticks": "outside"
            },
            "colorscale": [
             [
              0,
              "#440154"
             ],
             [
              0.1111111111111111,
              "#482878"
             ],
             [
              0.2222222222222222,
              "#3e4989"
             ],
             [
              0.3333333333333333,
              "#31688e"
             ],
             [
              0.4444444444444444,
              "#26828e"
             ],
             [
              0.5555555555555556,
              "#1f9e89"
             ],
             [
              0.6666666666666666,
              "#35b779"
             ],
             [
              0.7777777777777778,
              "#6ece58"
             ],
             [
              0.8888888888888888,
              "#b5de2b"
             ],
             [
              1,
              "#fde725"
             ]
            ],
            "type": "contour"
           }
          ],
          "contourcarpet": [
           {
            "colorbar": {
             "outlinewidth": 1,
             "tickcolor": "rgb(36,36,36)",
             "ticks": "outside"
            },
            "type": "contourcarpet"
           }
          ],
          "heatmap": [
           {
            "colorbar": {
             "outlinewidth": 1,
             "tickcolor": "rgb(36,36,36)",
             "ticks": "outside"
            },
            "colorscale": [
             [
              0,
              "#440154"
             ],
             [
              0.1111111111111111,
              "#482878"
             ],
             [
              0.2222222222222222,
              "#3e4989"
             ],
             [
              0.3333333333333333,
              "#31688e"
             ],
             [
              0.4444444444444444,
              "#26828e"
             ],
             [
              0.5555555555555556,
              "#1f9e89"
             ],
             [
              0.6666666666666666,
              "#35b779"
             ],
             [
              0.7777777777777778,
              "#6ece58"
             ],
             [
              0.8888888888888888,
              "#b5de2b"
             ],
             [
              1,
              "#fde725"
             ]
            ],
            "type": "heatmap"
           }
          ],
          "heatmapgl": [
           {
            "colorbar": {
             "outlinewidth": 1,
             "tickcolor": "rgb(36,36,36)",
             "ticks": "outside"
            },
            "colorscale": [
             [
              0,
              "#440154"
             ],
             [
              0.1111111111111111,
              "#482878"
             ],
             [
              0.2222222222222222,
              "#3e4989"
             ],
             [
              0.3333333333333333,
              "#31688e"
             ],
             [
              0.4444444444444444,
              "#26828e"
             ],
             [
              0.5555555555555556,
              "#1f9e89"
             ],
             [
              0.6666666666666666,
              "#35b779"
             ],
             [
              0.7777777777777778,
              "#6ece58"
             ],
             [
              0.8888888888888888,
              "#b5de2b"
             ],
             [
              1,
              "#fde725"
             ]
            ],
            "type": "heatmapgl"
           }
          ],
          "histogram": [
           {
            "marker": {
             "line": {
              "color": "white",
              "width": 0.6
             }
            },
            "type": "histogram"
           }
          ],
          "histogram2d": [
           {
            "colorbar": {
             "outlinewidth": 1,
             "tickcolor": "rgb(36,36,36)",
             "ticks": "outside"
            },
            "colorscale": [
             [
              0,
              "#440154"
             ],
             [
              0.1111111111111111,
              "#482878"
             ],
             [
              0.2222222222222222,
              "#3e4989"
             ],
             [
              0.3333333333333333,
              "#31688e"
             ],
             [
              0.4444444444444444,
              "#26828e"
             ],
             [
              0.5555555555555556,
              "#1f9e89"
             ],
             [
              0.6666666666666666,
              "#35b779"
             ],
             [
              0.7777777777777778,
              "#6ece58"
             ],
             [
              0.8888888888888888,
              "#b5de2b"
             ],
             [
              1,
              "#fde725"
             ]
            ],
            "type": "histogram2d"
           }
          ],
          "histogram2dcontour": [
           {
            "colorbar": {
             "outlinewidth": 1,
             "tickcolor": "rgb(36,36,36)",
             "ticks": "outside"
            },
            "colorscale": [
             [
              0,
              "#440154"
             ],
             [
              0.1111111111111111,
              "#482878"
             ],
             [
              0.2222222222222222,
              "#3e4989"
             ],
             [
              0.3333333333333333,
              "#31688e"
             ],
             [
              0.4444444444444444,
              "#26828e"
             ],
             [
              0.5555555555555556,
              "#1f9e89"
             ],
             [
              0.6666666666666666,
              "#35b779"
             ],
             [
              0.7777777777777778,
              "#6ece58"
             ],
             [
              0.8888888888888888,
              "#b5de2b"
             ],
             [
              1,
              "#fde725"
             ]
            ],
            "type": "histogram2dcontour"
           }
          ],
          "mesh3d": [
           {
            "colorbar": {
             "outlinewidth": 1,
             "tickcolor": "rgb(36,36,36)",
             "ticks": "outside"
            },
            "type": "mesh3d"
           }
          ],
          "parcoords": [
           {
            "line": {
             "colorbar": {
              "outlinewidth": 1,
              "tickcolor": "rgb(36,36,36)",
              "ticks": "outside"
             }
            },
            "type": "parcoords"
           }
          ],
          "pie": [
           {
            "automargin": true,
            "type": "pie"
           }
          ],
          "scatter": [
           {
            "fillpattern": {
             "fillmode": "overlay",
             "size": 10,
             "solidity": 0.2
            },
            "type": "scatter"
           }
          ],
          "scatter3d": [
           {
            "line": {
             "colorbar": {
              "outlinewidth": 1,
              "tickcolor": "rgb(36,36,36)",
              "ticks": "outside"
             }
            },
            "marker": {
             "colorbar": {
              "outlinewidth": 1,
              "tickcolor": "rgb(36,36,36)",
              "ticks": "outside"
             }
            },
            "type": "scatter3d"
           }
          ],
          "scattercarpet": [
           {
            "marker": {
             "colorbar": {
              "outlinewidth": 1,
              "tickcolor": "rgb(36,36,36)",
              "ticks": "outside"
             }
            },
            "type": "scattercarpet"
           }
          ],
          "scattergeo": [
           {
            "marker": {
             "colorbar": {
              "outlinewidth": 1,
              "tickcolor": "rgb(36,36,36)",
              "ticks": "outside"
             }
            },
            "type": "scattergeo"
           }
          ],
          "scattergl": [
           {
            "marker": {
             "colorbar": {
              "outlinewidth": 1,
              "tickcolor": "rgb(36,36,36)",
              "ticks": "outside"
             }
            },
            "type": "scattergl"
           }
          ],
          "scattermapbox": [
           {
            "marker": {
             "colorbar": {
              "outlinewidth": 1,
              "tickcolor": "rgb(36,36,36)",
              "ticks": "outside"
             }
            },
            "type": "scattermapbox"
           }
          ],
          "scatterpolar": [
           {
            "marker": {
             "colorbar": {
              "outlinewidth": 1,
              "tickcolor": "rgb(36,36,36)",
              "ticks": "outside"
             }
            },
            "type": "scatterpolar"
           }
          ],
          "scatterpolargl": [
           {
            "marker": {
             "colorbar": {
              "outlinewidth": 1,
              "tickcolor": "rgb(36,36,36)",
              "ticks": "outside"
             }
            },
            "type": "scatterpolargl"
           }
          ],
          "scatterternary": [
           {
            "marker": {
             "colorbar": {
              "outlinewidth": 1,
              "tickcolor": "rgb(36,36,36)",
              "ticks": "outside"
             }
            },
            "type": "scatterternary"
           }
          ],
          "surface": [
           {
            "colorbar": {
             "outlinewidth": 1,
             "tickcolor": "rgb(36,36,36)",
             "ticks": "outside"
            },
            "colorscale": [
             [
              0,
              "#440154"
             ],
             [
              0.1111111111111111,
              "#482878"
             ],
             [
              0.2222222222222222,
              "#3e4989"
             ],
             [
              0.3333333333333333,
              "#31688e"
             ],
             [
              0.4444444444444444,
              "#26828e"
             ],
             [
              0.5555555555555556,
              "#1f9e89"
             ],
             [
              0.6666666666666666,
              "#35b779"
             ],
             [
              0.7777777777777778,
              "#6ece58"
             ],
             [
              0.8888888888888888,
              "#b5de2b"
             ],
             [
              1,
              "#fde725"
             ]
            ],
            "type": "surface"
           }
          ],
          "table": [
           {
            "cells": {
             "fill": {
              "color": "rgb(237,237,237)"
             },
             "line": {
              "color": "white"
             }
            },
            "header": {
             "fill": {
              "color": "rgb(217,217,217)"
             },
             "line": {
              "color": "white"
             }
            },
            "type": "table"
           }
          ]
         },
         "layout": {
          "annotationdefaults": {
           "arrowhead": 0,
           "arrowwidth": 1
          },
          "autotypenumbers": "strict",
          "coloraxis": {
           "colorbar": {
            "outlinewidth": 1,
            "tickcolor": "rgb(36,36,36)",
            "ticks": "outside"
           }
          },
          "colorscale": {
           "diverging": [
            [
             0,
             "rgb(103,0,31)"
            ],
            [
             0.1,
             "rgb(178,24,43)"
            ],
            [
             0.2,
             "rgb(214,96,77)"
            ],
            [
             0.3,
             "rgb(244,165,130)"
            ],
            [
             0.4,
             "rgb(253,219,199)"
            ],
            [
             0.5,
             "rgb(247,247,247)"
            ],
            [
             0.6,
             "rgb(209,229,240)"
            ],
            [
             0.7,
             "rgb(146,197,222)"
            ],
            [
             0.8,
             "rgb(67,147,195)"
            ],
            [
             0.9,
             "rgb(33,102,172)"
            ],
            [
             1,
             "rgb(5,48,97)"
            ]
           ],
           "sequential": [
            [
             0,
             "#440154"
            ],
            [
             0.1111111111111111,
             "#482878"
            ],
            [
             0.2222222222222222,
             "#3e4989"
            ],
            [
             0.3333333333333333,
             "#31688e"
            ],
            [
             0.4444444444444444,
             "#26828e"
            ],
            [
             0.5555555555555556,
             "#1f9e89"
            ],
            [
             0.6666666666666666,
             "#35b779"
            ],
            [
             0.7777777777777778,
             "#6ece58"
            ],
            [
             0.8888888888888888,
             "#b5de2b"
            ],
            [
             1,
             "#fde725"
            ]
           ],
           "sequentialminus": [
            [
             0,
             "#440154"
            ],
            [
             0.1111111111111111,
             "#482878"
            ],
            [
             0.2222222222222222,
             "#3e4989"
            ],
            [
             0.3333333333333333,
             "#31688e"
            ],
            [
             0.4444444444444444,
             "#26828e"
            ],
            [
             0.5555555555555556,
             "#1f9e89"
            ],
            [
             0.6666666666666666,
             "#35b779"
            ],
            [
             0.7777777777777778,
             "#6ece58"
            ],
            [
             0.8888888888888888,
             "#b5de2b"
            ],
            [
             1,
             "#fde725"
            ]
           ]
          },
          "colorway": [
           "#1F77B4",
           "#FF7F0E",
           "#2CA02C",
           "#D62728",
           "#9467BD",
           "#8C564B",
           "#E377C2",
           "#7F7F7F",
           "#BCBD22",
           "#17BECF"
          ],
          "font": {
           "color": "rgb(36,36,36)"
          },
          "geo": {
           "bgcolor": "white",
           "lakecolor": "white",
           "landcolor": "white",
           "showlakes": true,
           "showland": true,
           "subunitcolor": "white"
          },
          "hoverlabel": {
           "align": "left"
          },
          "hovermode": "closest",
          "mapbox": {
           "style": "light"
          },
          "paper_bgcolor": "white",
          "plot_bgcolor": "white",
          "polar": {
           "angularaxis": {
            "gridcolor": "rgb(232,232,232)",
            "linecolor": "rgb(36,36,36)",
            "showgrid": false,
            "showline": true,
            "ticks": "outside"
           },
           "bgcolor": "white",
           "radialaxis": {
            "gridcolor": "rgb(232,232,232)",
            "linecolor": "rgb(36,36,36)",
            "showgrid": false,
            "showline": true,
            "ticks": "outside"
           }
          },
          "scene": {
           "xaxis": {
            "backgroundcolor": "white",
            "gridcolor": "rgb(232,232,232)",
            "gridwidth": 2,
            "linecolor": "rgb(36,36,36)",
            "showbackground": true,
            "showgrid": false,
            "showline": true,
            "ticks": "outside",
            "zeroline": false,
            "zerolinecolor": "rgb(36,36,36)"
           },
           "yaxis": {
            "backgroundcolor": "white",
            "gridcolor": "rgb(232,232,232)",
            "gridwidth": 2,
            "linecolor": "rgb(36,36,36)",
            "showbackground": true,
            "showgrid": false,
            "showline": true,
            "ticks": "outside",
            "zeroline": false,
            "zerolinecolor": "rgb(36,36,36)"
           },
           "zaxis": {
            "backgroundcolor": "white",
            "gridcolor": "rgb(232,232,232)",
            "gridwidth": 2,
            "linecolor": "rgb(36,36,36)",
            "showbackground": true,
            "showgrid": false,
            "showline": true,
            "ticks": "outside",
            "zeroline": false,
            "zerolinecolor": "rgb(36,36,36)"
           }
          },
          "shapedefaults": {
           "fillcolor": "black",
           "line": {
            "width": 0
           },
           "opacity": 0.3
          },
          "ternary": {
           "aaxis": {
            "gridcolor": "rgb(232,232,232)",
            "linecolor": "rgb(36,36,36)",
            "showgrid": false,
            "showline": true,
            "ticks": "outside"
           },
           "baxis": {
            "gridcolor": "rgb(232,232,232)",
            "linecolor": "rgb(36,36,36)",
            "showgrid": false,
            "showline": true,
            "ticks": "outside"
           },
           "bgcolor": "white",
           "caxis": {
            "gridcolor": "rgb(232,232,232)",
            "linecolor": "rgb(36,36,36)",
            "showgrid": false,
            "showline": true,
            "ticks": "outside"
           }
          },
          "title": {
           "x": 0.05
          },
          "xaxis": {
           "automargin": true,
           "gridcolor": "rgb(232,232,232)",
           "linecolor": "rgb(36,36,36)",
           "showgrid": false,
           "showline": true,
           "ticks": "outside",
           "title": {
            "standoff": 15
           },
           "zeroline": false,
           "zerolinecolor": "rgb(36,36,36)"
          },
          "yaxis": {
           "automargin": true,
           "gridcolor": "rgb(232,232,232)",
           "linecolor": "rgb(36,36,36)",
           "showgrid": false,
           "showline": true,
           "ticks": "outside",
           "title": {
            "standoff": 15
           },
           "zeroline": false,
           "zerolinecolor": "rgb(36,36,36)"
          }
         }
        },
        "width": 1024,
        "xaxis": {
         "showgrid": false,
         "title": {
          "text": " "
         }
        },
        "yaxis": {
         "categoryorder": "category descending",
         "showgrid": false,
         "showline": false,
         "ticksuffix": " ",
         "title": {
          "text": " "
         }
        }
       }
      }
     },
     "metadata": {},
     "output_type": "display_data"
    }
   ],
   "source": [
    "#\"gaze_left_count\", \"gaze_right_count\", \"rotation_left_count\", \"rotation_right_count\"\n",
    "fig_gazes = go.Figure()\n",
    "fig_gazes.add_trace(go.Bar(x=df_all.gaze_left_count, y=df_all.subject, \n",
    "                        orientation='h', showlegend=True,\n",
    "                        text=np.round(df_all.gaze_left_count,decimals = 0),\n",
    "                        name='Real Left Gazes', marker_color= marking_red))\n",
    "fig_gazes.add_trace(go.Bar(x=df_all.rotation_left_count, y=df_all.subject, \n",
    "                        orientation='h', showlegend=True,\n",
    "                        text=np.round(df_all.rotation_left_count,decimals = 0),\n",
    "                        name='Measured Left Rotations', marker_color='#000000'))\n",
    "fig_gazes.update_xaxes(showgrid=False)\n",
    "fig_gazes.update_yaxes(showgrid=False, categoryorder=\"category descending\",\n",
    "                 ticksuffix=' ', showline=False)\n",
    "fig_gazes.update_traces(hovertemplate=None)\n",
    "fig_gazes.update_layout(\n",
    "#    title='Mean of Duration & Standingtimes per Situation (Seconds)(Field)',\n",
    "    margin=dict(t=80, b=0, l=70, r=40),\n",
    "    hovermode=\"y unified\", \n",
    "    xaxis_title=' ', yaxis_title=\" \",\n",
    "    width=plot_width, height=plot_height,\n",
    "    font=dict(family=\"Lato, sans-serif\",size=14),\n",
    "    legend=dict(orientation=\"h\", yanchor=\"bottom\",y=1, xanchor=\"center\", x=0.5),\n",
    "    hoverlabel=dict(font_size=13, font_family=\"Lato, sans-serif\")\n",
    "    #paper_bgcolor='rgba(0,0,0,0)',\n",
    "    #plot_bgcolor='rgba(0,0,0,0)'\n",
    ")"
   ]
  },
  {
   "cell_type": "code",
   "execution_count": 26,
   "id": "3b94b69b",
   "metadata": {},
   "outputs": [
    {
     "data": {
      "application/vnd.plotly.v1+json": {
       "config": {
        "plotlyServerURL": "https://plot.ly"
       },
       "data": [
        {
         "marker": {
          "color": "#961C26"
         },
         "name": "Real Right Gazes",
         "orientation": "h",
         "showlegend": true,
         "text": [
          98,
          71,
          40,
          107,
          89,
          78,
          97,
          85,
          83
         ],
         "type": "bar",
         "x": [
          98,
          71,
          40,
          107,
          89,
          78,
          97,
          85,
          83.125
         ],
         "y": [
          "Subject 1",
          "Subject 2",
          "Subject 3",
          "Subject 4",
          "Subject 5",
          "Subject 6",
          "Subject 7",
          "Subject 8",
          null
         ]
        },
        {
         "marker": {
          "color": "#000000"
         },
         "name": "Measured Right Rotations",
         "orientation": "h",
         "showlegend": true,
         "text": [
          161,
          76,
          51,
          130,
          159,
          84,
          129,
          84,
          109
         ],
         "type": "bar",
         "x": [
          161,
          76,
          51,
          130,
          159,
          84,
          129,
          84,
          109.25
         ],
         "y": [
          "Subject 1",
          "Subject 2",
          "Subject 3",
          "Subject 4",
          "Subject 5",
          "Subject 6",
          "Subject 7",
          "Subject 8",
          null
         ]
        }
       ],
       "layout": {
        "font": {
         "family": "Lato, sans-serif",
         "size": 14
        },
        "height": 768,
        "hoverlabel": {
         "font": {
          "family": "Lato, sans-serif",
          "size": 13
         }
        },
        "hovermode": "y unified",
        "legend": {
         "orientation": "h",
         "x": 0.5,
         "xanchor": "center",
         "y": 1,
         "yanchor": "bottom"
        },
        "margin": {
         "b": 0,
         "l": 70,
         "r": 40,
         "t": 80
        },
        "template": {
         "data": {
          "bar": [
           {
            "error_x": {
             "color": "rgb(36,36,36)"
            },
            "error_y": {
             "color": "rgb(36,36,36)"
            },
            "marker": {
             "line": {
              "color": "white",
              "width": 0.5
             },
             "pattern": {
              "fillmode": "overlay",
              "size": 10,
              "solidity": 0.2
             }
            },
            "type": "bar"
           }
          ],
          "barpolar": [
           {
            "marker": {
             "line": {
              "color": "white",
              "width": 0.5
             },
             "pattern": {
              "fillmode": "overlay",
              "size": 10,
              "solidity": 0.2
             }
            },
            "type": "barpolar"
           }
          ],
          "carpet": [
           {
            "aaxis": {
             "endlinecolor": "rgb(36,36,36)",
             "gridcolor": "white",
             "linecolor": "white",
             "minorgridcolor": "white",
             "startlinecolor": "rgb(36,36,36)"
            },
            "baxis": {
             "endlinecolor": "rgb(36,36,36)",
             "gridcolor": "white",
             "linecolor": "white",
             "minorgridcolor": "white",
             "startlinecolor": "rgb(36,36,36)"
            },
            "type": "carpet"
           }
          ],
          "choropleth": [
           {
            "colorbar": {
             "outlinewidth": 1,
             "tickcolor": "rgb(36,36,36)",
             "ticks": "outside"
            },
            "type": "choropleth"
           }
          ],
          "contour": [
           {
            "colorbar": {
             "outlinewidth": 1,
             "tickcolor": "rgb(36,36,36)",
             "ticks": "outside"
            },
            "colorscale": [
             [
              0,
              "#440154"
             ],
             [
              0.1111111111111111,
              "#482878"
             ],
             [
              0.2222222222222222,
              "#3e4989"
             ],
             [
              0.3333333333333333,
              "#31688e"
             ],
             [
              0.4444444444444444,
              "#26828e"
             ],
             [
              0.5555555555555556,
              "#1f9e89"
             ],
             [
              0.6666666666666666,
              "#35b779"
             ],
             [
              0.7777777777777778,
              "#6ece58"
             ],
             [
              0.8888888888888888,
              "#b5de2b"
             ],
             [
              1,
              "#fde725"
             ]
            ],
            "type": "contour"
           }
          ],
          "contourcarpet": [
           {
            "colorbar": {
             "outlinewidth": 1,
             "tickcolor": "rgb(36,36,36)",
             "ticks": "outside"
            },
            "type": "contourcarpet"
           }
          ],
          "heatmap": [
           {
            "colorbar": {
             "outlinewidth": 1,
             "tickcolor": "rgb(36,36,36)",
             "ticks": "outside"
            },
            "colorscale": [
             [
              0,
              "#440154"
             ],
             [
              0.1111111111111111,
              "#482878"
             ],
             [
              0.2222222222222222,
              "#3e4989"
             ],
             [
              0.3333333333333333,
              "#31688e"
             ],
             [
              0.4444444444444444,
              "#26828e"
             ],
             [
              0.5555555555555556,
              "#1f9e89"
             ],
             [
              0.6666666666666666,
              "#35b779"
             ],
             [
              0.7777777777777778,
              "#6ece58"
             ],
             [
              0.8888888888888888,
              "#b5de2b"
             ],
             [
              1,
              "#fde725"
             ]
            ],
            "type": "heatmap"
           }
          ],
          "heatmapgl": [
           {
            "colorbar": {
             "outlinewidth": 1,
             "tickcolor": "rgb(36,36,36)",
             "ticks": "outside"
            },
            "colorscale": [
             [
              0,
              "#440154"
             ],
             [
              0.1111111111111111,
              "#482878"
             ],
             [
              0.2222222222222222,
              "#3e4989"
             ],
             [
              0.3333333333333333,
              "#31688e"
             ],
             [
              0.4444444444444444,
              "#26828e"
             ],
             [
              0.5555555555555556,
              "#1f9e89"
             ],
             [
              0.6666666666666666,
              "#35b779"
             ],
             [
              0.7777777777777778,
              "#6ece58"
             ],
             [
              0.8888888888888888,
              "#b5de2b"
             ],
             [
              1,
              "#fde725"
             ]
            ],
            "type": "heatmapgl"
           }
          ],
          "histogram": [
           {
            "marker": {
             "line": {
              "color": "white",
              "width": 0.6
             }
            },
            "type": "histogram"
           }
          ],
          "histogram2d": [
           {
            "colorbar": {
             "outlinewidth": 1,
             "tickcolor": "rgb(36,36,36)",
             "ticks": "outside"
            },
            "colorscale": [
             [
              0,
              "#440154"
             ],
             [
              0.1111111111111111,
              "#482878"
             ],
             [
              0.2222222222222222,
              "#3e4989"
             ],
             [
              0.3333333333333333,
              "#31688e"
             ],
             [
              0.4444444444444444,
              "#26828e"
             ],
             [
              0.5555555555555556,
              "#1f9e89"
             ],
             [
              0.6666666666666666,
              "#35b779"
             ],
             [
              0.7777777777777778,
              "#6ece58"
             ],
             [
              0.8888888888888888,
              "#b5de2b"
             ],
             [
              1,
              "#fde725"
             ]
            ],
            "type": "histogram2d"
           }
          ],
          "histogram2dcontour": [
           {
            "colorbar": {
             "outlinewidth": 1,
             "tickcolor": "rgb(36,36,36)",
             "ticks": "outside"
            },
            "colorscale": [
             [
              0,
              "#440154"
             ],
             [
              0.1111111111111111,
              "#482878"
             ],
             [
              0.2222222222222222,
              "#3e4989"
             ],
             [
              0.3333333333333333,
              "#31688e"
             ],
             [
              0.4444444444444444,
              "#26828e"
             ],
             [
              0.5555555555555556,
              "#1f9e89"
             ],
             [
              0.6666666666666666,
              "#35b779"
             ],
             [
              0.7777777777777778,
              "#6ece58"
             ],
             [
              0.8888888888888888,
              "#b5de2b"
             ],
             [
              1,
              "#fde725"
             ]
            ],
            "type": "histogram2dcontour"
           }
          ],
          "mesh3d": [
           {
            "colorbar": {
             "outlinewidth": 1,
             "tickcolor": "rgb(36,36,36)",
             "ticks": "outside"
            },
            "type": "mesh3d"
           }
          ],
          "parcoords": [
           {
            "line": {
             "colorbar": {
              "outlinewidth": 1,
              "tickcolor": "rgb(36,36,36)",
              "ticks": "outside"
             }
            },
            "type": "parcoords"
           }
          ],
          "pie": [
           {
            "automargin": true,
            "type": "pie"
           }
          ],
          "scatter": [
           {
            "fillpattern": {
             "fillmode": "overlay",
             "size": 10,
             "solidity": 0.2
            },
            "type": "scatter"
           }
          ],
          "scatter3d": [
           {
            "line": {
             "colorbar": {
              "outlinewidth": 1,
              "tickcolor": "rgb(36,36,36)",
              "ticks": "outside"
             }
            },
            "marker": {
             "colorbar": {
              "outlinewidth": 1,
              "tickcolor": "rgb(36,36,36)",
              "ticks": "outside"
             }
            },
            "type": "scatter3d"
           }
          ],
          "scattercarpet": [
           {
            "marker": {
             "colorbar": {
              "outlinewidth": 1,
              "tickcolor": "rgb(36,36,36)",
              "ticks": "outside"
             }
            },
            "type": "scattercarpet"
           }
          ],
          "scattergeo": [
           {
            "marker": {
             "colorbar": {
              "outlinewidth": 1,
              "tickcolor": "rgb(36,36,36)",
              "ticks": "outside"
             }
            },
            "type": "scattergeo"
           }
          ],
          "scattergl": [
           {
            "marker": {
             "colorbar": {
              "outlinewidth": 1,
              "tickcolor": "rgb(36,36,36)",
              "ticks": "outside"
             }
            },
            "type": "scattergl"
           }
          ],
          "scattermapbox": [
           {
            "marker": {
             "colorbar": {
              "outlinewidth": 1,
              "tickcolor": "rgb(36,36,36)",
              "ticks": "outside"
             }
            },
            "type": "scattermapbox"
           }
          ],
          "scatterpolar": [
           {
            "marker": {
             "colorbar": {
              "outlinewidth": 1,
              "tickcolor": "rgb(36,36,36)",
              "ticks": "outside"
             }
            },
            "type": "scatterpolar"
           }
          ],
          "scatterpolargl": [
           {
            "marker": {
             "colorbar": {
              "outlinewidth": 1,
              "tickcolor": "rgb(36,36,36)",
              "ticks": "outside"
             }
            },
            "type": "scatterpolargl"
           }
          ],
          "scatterternary": [
           {
            "marker": {
             "colorbar": {
              "outlinewidth": 1,
              "tickcolor": "rgb(36,36,36)",
              "ticks": "outside"
             }
            },
            "type": "scatterternary"
           }
          ],
          "surface": [
           {
            "colorbar": {
             "outlinewidth": 1,
             "tickcolor": "rgb(36,36,36)",
             "ticks": "outside"
            },
            "colorscale": [
             [
              0,
              "#440154"
             ],
             [
              0.1111111111111111,
              "#482878"
             ],
             [
              0.2222222222222222,
              "#3e4989"
             ],
             [
              0.3333333333333333,
              "#31688e"
             ],
             [
              0.4444444444444444,
              "#26828e"
             ],
             [
              0.5555555555555556,
              "#1f9e89"
             ],
             [
              0.6666666666666666,
              "#35b779"
             ],
             [
              0.7777777777777778,
              "#6ece58"
             ],
             [
              0.8888888888888888,
              "#b5de2b"
             ],
             [
              1,
              "#fde725"
             ]
            ],
            "type": "surface"
           }
          ],
          "table": [
           {
            "cells": {
             "fill": {
              "color": "rgb(237,237,237)"
             },
             "line": {
              "color": "white"
             }
            },
            "header": {
             "fill": {
              "color": "rgb(217,217,217)"
             },
             "line": {
              "color": "white"
             }
            },
            "type": "table"
           }
          ]
         },
         "layout": {
          "annotationdefaults": {
           "arrowhead": 0,
           "arrowwidth": 1
          },
          "autotypenumbers": "strict",
          "coloraxis": {
           "colorbar": {
            "outlinewidth": 1,
            "tickcolor": "rgb(36,36,36)",
            "ticks": "outside"
           }
          },
          "colorscale": {
           "diverging": [
            [
             0,
             "rgb(103,0,31)"
            ],
            [
             0.1,
             "rgb(178,24,43)"
            ],
            [
             0.2,
             "rgb(214,96,77)"
            ],
            [
             0.3,
             "rgb(244,165,130)"
            ],
            [
             0.4,
             "rgb(253,219,199)"
            ],
            [
             0.5,
             "rgb(247,247,247)"
            ],
            [
             0.6,
             "rgb(209,229,240)"
            ],
            [
             0.7,
             "rgb(146,197,222)"
            ],
            [
             0.8,
             "rgb(67,147,195)"
            ],
            [
             0.9,
             "rgb(33,102,172)"
            ],
            [
             1,
             "rgb(5,48,97)"
            ]
           ],
           "sequential": [
            [
             0,
             "#440154"
            ],
            [
             0.1111111111111111,
             "#482878"
            ],
            [
             0.2222222222222222,
             "#3e4989"
            ],
            [
             0.3333333333333333,
             "#31688e"
            ],
            [
             0.4444444444444444,
             "#26828e"
            ],
            [
             0.5555555555555556,
             "#1f9e89"
            ],
            [
             0.6666666666666666,
             "#35b779"
            ],
            [
             0.7777777777777778,
             "#6ece58"
            ],
            [
             0.8888888888888888,
             "#b5de2b"
            ],
            [
             1,
             "#fde725"
            ]
           ],
           "sequentialminus": [
            [
             0,
             "#440154"
            ],
            [
             0.1111111111111111,
             "#482878"
            ],
            [
             0.2222222222222222,
             "#3e4989"
            ],
            [
             0.3333333333333333,
             "#31688e"
            ],
            [
             0.4444444444444444,
             "#26828e"
            ],
            [
             0.5555555555555556,
             "#1f9e89"
            ],
            [
             0.6666666666666666,
             "#35b779"
            ],
            [
             0.7777777777777778,
             "#6ece58"
            ],
            [
             0.8888888888888888,
             "#b5de2b"
            ],
            [
             1,
             "#fde725"
            ]
           ]
          },
          "colorway": [
           "#1F77B4",
           "#FF7F0E",
           "#2CA02C",
           "#D62728",
           "#9467BD",
           "#8C564B",
           "#E377C2",
           "#7F7F7F",
           "#BCBD22",
           "#17BECF"
          ],
          "font": {
           "color": "rgb(36,36,36)"
          },
          "geo": {
           "bgcolor": "white",
           "lakecolor": "white",
           "landcolor": "white",
           "showlakes": true,
           "showland": true,
           "subunitcolor": "white"
          },
          "hoverlabel": {
           "align": "left"
          },
          "hovermode": "closest",
          "mapbox": {
           "style": "light"
          },
          "paper_bgcolor": "white",
          "plot_bgcolor": "white",
          "polar": {
           "angularaxis": {
            "gridcolor": "rgb(232,232,232)",
            "linecolor": "rgb(36,36,36)",
            "showgrid": false,
            "showline": true,
            "ticks": "outside"
           },
           "bgcolor": "white",
           "radialaxis": {
            "gridcolor": "rgb(232,232,232)",
            "linecolor": "rgb(36,36,36)",
            "showgrid": false,
            "showline": true,
            "ticks": "outside"
           }
          },
          "scene": {
           "xaxis": {
            "backgroundcolor": "white",
            "gridcolor": "rgb(232,232,232)",
            "gridwidth": 2,
            "linecolor": "rgb(36,36,36)",
            "showbackground": true,
            "showgrid": false,
            "showline": true,
            "ticks": "outside",
            "zeroline": false,
            "zerolinecolor": "rgb(36,36,36)"
           },
           "yaxis": {
            "backgroundcolor": "white",
            "gridcolor": "rgb(232,232,232)",
            "gridwidth": 2,
            "linecolor": "rgb(36,36,36)",
            "showbackground": true,
            "showgrid": false,
            "showline": true,
            "ticks": "outside",
            "zeroline": false,
            "zerolinecolor": "rgb(36,36,36)"
           },
           "zaxis": {
            "backgroundcolor": "white",
            "gridcolor": "rgb(232,232,232)",
            "gridwidth": 2,
            "linecolor": "rgb(36,36,36)",
            "showbackground": true,
            "showgrid": false,
            "showline": true,
            "ticks": "outside",
            "zeroline": false,
            "zerolinecolor": "rgb(36,36,36)"
           }
          },
          "shapedefaults": {
           "fillcolor": "black",
           "line": {
            "width": 0
           },
           "opacity": 0.3
          },
          "ternary": {
           "aaxis": {
            "gridcolor": "rgb(232,232,232)",
            "linecolor": "rgb(36,36,36)",
            "showgrid": false,
            "showline": true,
            "ticks": "outside"
           },
           "baxis": {
            "gridcolor": "rgb(232,232,232)",
            "linecolor": "rgb(36,36,36)",
            "showgrid": false,
            "showline": true,
            "ticks": "outside"
           },
           "bgcolor": "white",
           "caxis": {
            "gridcolor": "rgb(232,232,232)",
            "linecolor": "rgb(36,36,36)",
            "showgrid": false,
            "showline": true,
            "ticks": "outside"
           }
          },
          "title": {
           "x": 0.05
          },
          "xaxis": {
           "automargin": true,
           "gridcolor": "rgb(232,232,232)",
           "linecolor": "rgb(36,36,36)",
           "showgrid": false,
           "showline": true,
           "ticks": "outside",
           "title": {
            "standoff": 15
           },
           "zeroline": false,
           "zerolinecolor": "rgb(36,36,36)"
          },
          "yaxis": {
           "automargin": true,
           "gridcolor": "rgb(232,232,232)",
           "linecolor": "rgb(36,36,36)",
           "showgrid": false,
           "showline": true,
           "ticks": "outside",
           "title": {
            "standoff": 15
           },
           "zeroline": false,
           "zerolinecolor": "rgb(36,36,36)"
          }
         }
        },
        "width": 1024,
        "xaxis": {
         "showgrid": false,
         "title": {
          "text": " "
         }
        },
        "yaxis": {
         "categoryorder": "category descending",
         "showgrid": false,
         "showline": false,
         "ticksuffix": " ",
         "title": {
          "text": " "
         }
        }
       }
      }
     },
     "metadata": {},
     "output_type": "display_data"
    }
   ],
   "source": [
    "#\"gaze_left_count\", \"gaze_right_count\", \"rotation_left_count\", \"rotation_right_count\"\n",
    "fig_gazes_right = go.Figure()\n",
    "fig_gazes_right.add_trace(go.Bar(x=df_all.gaze_right_count, y=df_all.subject, \n",
    "                        orientation='h', showlegend=True,\n",
    "                        text=np.round(df_all.gaze_right_count,decimals = 0),\n",
    "                        name='Real Right Gazes', marker_color= marking_red))\n",
    "fig_gazes_right.add_trace(go.Bar(x=df_all.rotation_right_count, y=df_all.subject, \n",
    "                        orientation='h', showlegend=True,\n",
    "                        text=np.round(df_all.rotation_right_count,decimals = 0),\n",
    "                        name='Measured Right Rotations', marker_color='#000000'))\n",
    "fig_gazes_right.update_xaxes(showgrid=False)\n",
    "fig_gazes_right.update_yaxes(showgrid=False, categoryorder=\"category descending\",\n",
    "                 ticksuffix=' ', showline=False)\n",
    "fig_gazes_right.update_traces(hovertemplate=None)\n",
    "fig_gazes_right.update_layout(\n",
    "#    title='Mean of Duration & Standingtimes per Situation (Seconds)(Field)',\n",
    "    margin=dict(t=80, b=0, l=70, r=40),\n",
    "    hovermode=\"y unified\", \n",
    "    xaxis_title=' ', yaxis_title=\" \",\n",
    "    width=plot_width, height=plot_height,\n",
    "    font=dict(family=\"Lato, sans-serif\",size=14),\n",
    "    legend=dict(orientation=\"h\", yanchor=\"bottom\",y=1, xanchor=\"center\", x=0.5),\n",
    "    hoverlabel=dict(font_size=13, font_family=\"Lato, sans-serif\")\n",
    "    #paper_bgcolor='rgba(0,0,0,0)',\n",
    "    #plot_bgcolor='rgba(0,0,0,0)'\n",
    ")"
   ]
  },
  {
   "cell_type": "code",
   "execution_count": 27,
   "id": "0d785ee6",
   "metadata": {},
   "outputs": [
    {
     "data": {
      "text/plain": [
       "'The Mean of real gazes to the left was 117.75, compared to 139.25 measured gazes. Which gives us a 118.25902335456475 % loss rate'"
      ]
     },
     "metadata": {},
     "output_type": "display_data"
    },
    {
     "data": {
      "text/plain": [
       "'The Mean of real gazes to the right was 83.125, compared to 109.25 measured gazes. Which gives us a 131.42857142857142 % loss rate'"
      ]
     },
     "metadata": {},
     "output_type": "display_data"
    },
    {
     "data": {
      "text/plain": [
       "117.75"
      ]
     },
     "metadata": {},
     "output_type": "display_data"
    },
    {
     "data": {
      "text/plain": [
       "83.125"
      ]
     },
     "metadata": {},
     "output_type": "display_data"
    },
    {
     "data": {
      "text/plain": [
       "139.25"
      ]
     },
     "metadata": {},
     "output_type": "display_data"
    },
    {
     "data": {
      "text/plain": [
       "109.25"
      ]
     },
     "metadata": {},
     "output_type": "display_data"
    }
   ],
   "source": [
    "left_loss = df_all.loc[\"Total\"].rotation_left_count / df_all.loc[\"Total\"].gaze_left_count * 100\n",
    "right_loss = df_all.loc[\"Total\"].rotation_right_count / df_all.loc[\"Total\"].gaze_right_count * 100\n",
    "display(\"The Mean of real gazes to the left was {}, compared to {} measured gazes. Which gives us a {} % loss rate\".format(df_all.loc[\"Total\"].gaze_left_count,df_all.loc[\"Total\"].rotation_left_count,left_loss))\n",
    "display(\"The Mean of real gazes to the right was {}, compared to {} measured gazes. Which gives us a {} % loss rate\".format(df_all.loc[\"Total\"].gaze_right_count,df_all.loc[\"Total\"].rotation_right_count,right_loss))\n",
    "\n",
    "display(df_all.loc[\"Total\"].gaze_left_count)\n",
    "display(df_all.loc[\"Total\"].gaze_right_count)\n",
    "display(df_all.loc[\"Total\"].rotation_left_count)\n",
    "display(df_all.loc[\"Total\"].rotation_right_count)"
   ]
  },
  {
   "cell_type": "markdown",
   "id": "8ac80f92-3425-4134-8069-4c22ef59d3b9",
   "metadata": {},
   "source": [
    "### Correlations"
   ]
  },
  {
   "cell_type": "code",
   "execution_count": 28,
   "id": "b78f67b2",
   "metadata": {},
   "outputs": [
    {
     "data": {
      "text/plain": [
       "'Difficulty SpearmanrResult(correlation=-0.5721574955484239, pvalue=0.003484415825772726)'"
      ]
     },
     "metadata": {},
     "output_type": "display_data"
    },
    {
     "data": {
      "text/plain": [
       "'Left Looks SpearmanrResult(correlation=0.06856854918713358, pvalue=0.49785845365850157)'"
      ]
     },
     "metadata": {},
     "output_type": "display_data"
    },
    {
     "data": {
      "text/plain": [
       "'Right Looks SpearmanrResult(correlation=0.024260619285036342, pvalue=0.8106471202430714)'"
      ]
     },
     "metadata": {},
     "output_type": "display_data"
    },
    {
     "data": {
      "text/plain": [
       "'Left angles SpearmanrResult(correlation=-0.04572775057692038, pvalue=0.365940895981854)'"
      ]
     },
     "metadata": {},
     "output_type": "display_data"
    },
    {
     "data": {
      "text/plain": [
       "'Right Angles SpearmanrResult(correlation=0.04328015650171581, pvalue=0.5192926884058173)'"
      ]
     },
     "metadata": {},
     "output_type": "display_data"
    }
   ],
   "source": [
    "# Spearman correlations and p-values\n",
    "display(\"Difficulty {}\".format(spearmanr(difficulty,safety)))\n",
    "display(\"Left Looks {}\".format(spearmanr(safety_left_rots, left_rots)))\n",
    "display(\"Right Looks {}\".format(spearmanr(safety_right_rots, right_rots)))\n",
    "display(\"Left angles {}\".format(spearmanr(safety_left_angles, left_angles)))\n",
    "display(\"Right Angles {}\".format(spearmanr(safety_right_angles, right_angles)))"
   ]
  },
  {
   "cell_type": "code",
   "execution_count": 29,
   "id": "00cd5591-5d74-442a-b20a-46f76b451c39",
   "metadata": {},
   "outputs": [
    {
     "data": {
      "application/vnd.plotly.v1+json": {
       "config": {
        "plotlyServerURL": "https://plot.ly"
       },
       "data": [
        {
         "marker": {
          "color": "#000000"
         },
         "mode": "markers",
         "name": "Safety X Difficulty",
         "showlegend": false,
         "type": "scatter",
         "x": [
          3,
          4,
          5,
          5,
          4,
          5,
          4,
          2,
          4,
          4,
          3,
          3,
          4,
          3,
          3,
          4,
          3,
          4,
          5,
          5,
          5,
          5,
          5,
          5
         ],
         "y": [
          5,
          3,
          1,
          2,
          1,
          1,
          1,
          4,
          2,
          2,
          3,
          3,
          1,
          3,
          2,
          1,
          2,
          2,
          2,
          3,
          1,
          1,
          2,
          1
         ]
        },
        {
         "hovertemplate": "<b>OLS trendline</b><br>y = -0.740659 * x + 5.03516<br>R<sup>2</sup>=0.385784<br><br>x=%{x}<br>y=%{y} <b>(trend)</b><extra></extra>",
         "legendgroup": "",
         "marker": {
          "color": "#961C26",
          "symbol": "circle"
         },
         "mode": "lines",
         "name": "",
         "showlegend": false,
         "type": "scatter",
         "x": [
          2,
          3,
          3,
          3,
          3,
          3,
          3,
          4,
          4,
          4,
          4,
          4,
          4,
          4,
          4,
          5,
          5,
          5,
          5,
          5,
          5,
          5,
          5,
          5
         ],
         "xaxis": "x",
         "y": [
          3.553846153846157,
          2.813186813186816,
          2.813186813186816,
          2.813186813186816,
          2.813186813186816,
          2.813186813186816,
          2.813186813186816,
          2.0725274725274745,
          2.0725274725274745,
          2.0725274725274745,
          2.0725274725274745,
          2.0725274725274745,
          2.0725274725274745,
          2.0725274725274745,
          2.0725274725274745,
          1.331868131868133,
          1.331868131868133,
          1.331868131868133,
          1.331868131868133,
          1.331868131868133,
          1.331868131868133,
          1.331868131868133,
          1.331868131868133,
          1.331868131868133
         ],
         "yaxis": "y"
        }
       ],
       "layout": {
        "font": {
         "family": "Lato, sans-serif",
         "size": 14
        },
        "height": 768,
        "hoverlabel": {
         "font": {
          "family": "Lato, sans-serif",
          "size": 13
         }
        },
        "hovermode": "y unified",
        "legend": {
         "orientation": "h",
         "x": 0.5,
         "xanchor": "center",
         "y": 1,
         "yanchor": "bottom"
        },
        "margin": {
         "b": 0,
         "l": 70,
         "r": 40,
         "t": 20
        },
        "paper_bgcolor": "rgba(0,0,0,0)",
        "plot_bgcolor": "rgba(0,0,0,0)",
        "template": {
         "data": {
          "bar": [
           {
            "error_x": {
             "color": "rgb(36,36,36)"
            },
            "error_y": {
             "color": "rgb(36,36,36)"
            },
            "marker": {
             "line": {
              "color": "white",
              "width": 0.5
             },
             "pattern": {
              "fillmode": "overlay",
              "size": 10,
              "solidity": 0.2
             }
            },
            "type": "bar"
           }
          ],
          "barpolar": [
           {
            "marker": {
             "line": {
              "color": "white",
              "width": 0.5
             },
             "pattern": {
              "fillmode": "overlay",
              "size": 10,
              "solidity": 0.2
             }
            },
            "type": "barpolar"
           }
          ],
          "carpet": [
           {
            "aaxis": {
             "endlinecolor": "rgb(36,36,36)",
             "gridcolor": "white",
             "linecolor": "white",
             "minorgridcolor": "white",
             "startlinecolor": "rgb(36,36,36)"
            },
            "baxis": {
             "endlinecolor": "rgb(36,36,36)",
             "gridcolor": "white",
             "linecolor": "white",
             "minorgridcolor": "white",
             "startlinecolor": "rgb(36,36,36)"
            },
            "type": "carpet"
           }
          ],
          "choropleth": [
           {
            "colorbar": {
             "outlinewidth": 1,
             "tickcolor": "rgb(36,36,36)",
             "ticks": "outside"
            },
            "type": "choropleth"
           }
          ],
          "contour": [
           {
            "colorbar": {
             "outlinewidth": 1,
             "tickcolor": "rgb(36,36,36)",
             "ticks": "outside"
            },
            "colorscale": [
             [
              0,
              "#440154"
             ],
             [
              0.1111111111111111,
              "#482878"
             ],
             [
              0.2222222222222222,
              "#3e4989"
             ],
             [
              0.3333333333333333,
              "#31688e"
             ],
             [
              0.4444444444444444,
              "#26828e"
             ],
             [
              0.5555555555555556,
              "#1f9e89"
             ],
             [
              0.6666666666666666,
              "#35b779"
             ],
             [
              0.7777777777777778,
              "#6ece58"
             ],
             [
              0.8888888888888888,
              "#b5de2b"
             ],
             [
              1,
              "#fde725"
             ]
            ],
            "type": "contour"
           }
          ],
          "contourcarpet": [
           {
            "colorbar": {
             "outlinewidth": 1,
             "tickcolor": "rgb(36,36,36)",
             "ticks": "outside"
            },
            "type": "contourcarpet"
           }
          ],
          "heatmap": [
           {
            "colorbar": {
             "outlinewidth": 1,
             "tickcolor": "rgb(36,36,36)",
             "ticks": "outside"
            },
            "colorscale": [
             [
              0,
              "#440154"
             ],
             [
              0.1111111111111111,
              "#482878"
             ],
             [
              0.2222222222222222,
              "#3e4989"
             ],
             [
              0.3333333333333333,
              "#31688e"
             ],
             [
              0.4444444444444444,
              "#26828e"
             ],
             [
              0.5555555555555556,
              "#1f9e89"
             ],
             [
              0.6666666666666666,
              "#35b779"
             ],
             [
              0.7777777777777778,
              "#6ece58"
             ],
             [
              0.8888888888888888,
              "#b5de2b"
             ],
             [
              1,
              "#fde725"
             ]
            ],
            "type": "heatmap"
           }
          ],
          "heatmapgl": [
           {
            "colorbar": {
             "outlinewidth": 1,
             "tickcolor": "rgb(36,36,36)",
             "ticks": "outside"
            },
            "colorscale": [
             [
              0,
              "#440154"
             ],
             [
              0.1111111111111111,
              "#482878"
             ],
             [
              0.2222222222222222,
              "#3e4989"
             ],
             [
              0.3333333333333333,
              "#31688e"
             ],
             [
              0.4444444444444444,
              "#26828e"
             ],
             [
              0.5555555555555556,
              "#1f9e89"
             ],
             [
              0.6666666666666666,
              "#35b779"
             ],
             [
              0.7777777777777778,
              "#6ece58"
             ],
             [
              0.8888888888888888,
              "#b5de2b"
             ],
             [
              1,
              "#fde725"
             ]
            ],
            "type": "heatmapgl"
           }
          ],
          "histogram": [
           {
            "marker": {
             "line": {
              "color": "white",
              "width": 0.6
             }
            },
            "type": "histogram"
           }
          ],
          "histogram2d": [
           {
            "colorbar": {
             "outlinewidth": 1,
             "tickcolor": "rgb(36,36,36)",
             "ticks": "outside"
            },
            "colorscale": [
             [
              0,
              "#440154"
             ],
             [
              0.1111111111111111,
              "#482878"
             ],
             [
              0.2222222222222222,
              "#3e4989"
             ],
             [
              0.3333333333333333,
              "#31688e"
             ],
             [
              0.4444444444444444,
              "#26828e"
             ],
             [
              0.5555555555555556,
              "#1f9e89"
             ],
             [
              0.6666666666666666,
              "#35b779"
             ],
             [
              0.7777777777777778,
              "#6ece58"
             ],
             [
              0.8888888888888888,
              "#b5de2b"
             ],
             [
              1,
              "#fde725"
             ]
            ],
            "type": "histogram2d"
           }
          ],
          "histogram2dcontour": [
           {
            "colorbar": {
             "outlinewidth": 1,
             "tickcolor": "rgb(36,36,36)",
             "ticks": "outside"
            },
            "colorscale": [
             [
              0,
              "#440154"
             ],
             [
              0.1111111111111111,
              "#482878"
             ],
             [
              0.2222222222222222,
              "#3e4989"
             ],
             [
              0.3333333333333333,
              "#31688e"
             ],
             [
              0.4444444444444444,
              "#26828e"
             ],
             [
              0.5555555555555556,
              "#1f9e89"
             ],
             [
              0.6666666666666666,
              "#35b779"
             ],
             [
              0.7777777777777778,
              "#6ece58"
             ],
             [
              0.8888888888888888,
              "#b5de2b"
             ],
             [
              1,
              "#fde725"
             ]
            ],
            "type": "histogram2dcontour"
           }
          ],
          "mesh3d": [
           {
            "colorbar": {
             "outlinewidth": 1,
             "tickcolor": "rgb(36,36,36)",
             "ticks": "outside"
            },
            "type": "mesh3d"
           }
          ],
          "parcoords": [
           {
            "line": {
             "colorbar": {
              "outlinewidth": 1,
              "tickcolor": "rgb(36,36,36)",
              "ticks": "outside"
             }
            },
            "type": "parcoords"
           }
          ],
          "pie": [
           {
            "automargin": true,
            "type": "pie"
           }
          ],
          "scatter": [
           {
            "fillpattern": {
             "fillmode": "overlay",
             "size": 10,
             "solidity": 0.2
            },
            "type": "scatter"
           }
          ],
          "scatter3d": [
           {
            "line": {
             "colorbar": {
              "outlinewidth": 1,
              "tickcolor": "rgb(36,36,36)",
              "ticks": "outside"
             }
            },
            "marker": {
             "colorbar": {
              "outlinewidth": 1,
              "tickcolor": "rgb(36,36,36)",
              "ticks": "outside"
             }
            },
            "type": "scatter3d"
           }
          ],
          "scattercarpet": [
           {
            "marker": {
             "colorbar": {
              "outlinewidth": 1,
              "tickcolor": "rgb(36,36,36)",
              "ticks": "outside"
             }
            },
            "type": "scattercarpet"
           }
          ],
          "scattergeo": [
           {
            "marker": {
             "colorbar": {
              "outlinewidth": 1,
              "tickcolor": "rgb(36,36,36)",
              "ticks": "outside"
             }
            },
            "type": "scattergeo"
           }
          ],
          "scattergl": [
           {
            "marker": {
             "colorbar": {
              "outlinewidth": 1,
              "tickcolor": "rgb(36,36,36)",
              "ticks": "outside"
             }
            },
            "type": "scattergl"
           }
          ],
          "scattermapbox": [
           {
            "marker": {
             "colorbar": {
              "outlinewidth": 1,
              "tickcolor": "rgb(36,36,36)",
              "ticks": "outside"
             }
            },
            "type": "scattermapbox"
           }
          ],
          "scatterpolar": [
           {
            "marker": {
             "colorbar": {
              "outlinewidth": 1,
              "tickcolor": "rgb(36,36,36)",
              "ticks": "outside"
             }
            },
            "type": "scatterpolar"
           }
          ],
          "scatterpolargl": [
           {
            "marker": {
             "colorbar": {
              "outlinewidth": 1,
              "tickcolor": "rgb(36,36,36)",
              "ticks": "outside"
             }
            },
            "type": "scatterpolargl"
           }
          ],
          "scatterternary": [
           {
            "marker": {
             "colorbar": {
              "outlinewidth": 1,
              "tickcolor": "rgb(36,36,36)",
              "ticks": "outside"
             }
            },
            "type": "scatterternary"
           }
          ],
          "surface": [
           {
            "colorbar": {
             "outlinewidth": 1,
             "tickcolor": "rgb(36,36,36)",
             "ticks": "outside"
            },
            "colorscale": [
             [
              0,
              "#440154"
             ],
             [
              0.1111111111111111,
              "#482878"
             ],
             [
              0.2222222222222222,
              "#3e4989"
             ],
             [
              0.3333333333333333,
              "#31688e"
             ],
             [
              0.4444444444444444,
              "#26828e"
             ],
             [
              0.5555555555555556,
              "#1f9e89"
             ],
             [
              0.6666666666666666,
              "#35b779"
             ],
             [
              0.7777777777777778,
              "#6ece58"
             ],
             [
              0.8888888888888888,
              "#b5de2b"
             ],
             [
              1,
              "#fde725"
             ]
            ],
            "type": "surface"
           }
          ],
          "table": [
           {
            "cells": {
             "fill": {
              "color": "rgb(237,237,237)"
             },
             "line": {
              "color": "white"
             }
            },
            "header": {
             "fill": {
              "color": "rgb(217,217,217)"
             },
             "line": {
              "color": "white"
             }
            },
            "type": "table"
           }
          ]
         },
         "layout": {
          "annotationdefaults": {
           "arrowhead": 0,
           "arrowwidth": 1
          },
          "autotypenumbers": "strict",
          "coloraxis": {
           "colorbar": {
            "outlinewidth": 1,
            "tickcolor": "rgb(36,36,36)",
            "ticks": "outside"
           }
          },
          "colorscale": {
           "diverging": [
            [
             0,
             "rgb(103,0,31)"
            ],
            [
             0.1,
             "rgb(178,24,43)"
            ],
            [
             0.2,
             "rgb(214,96,77)"
            ],
            [
             0.3,
             "rgb(244,165,130)"
            ],
            [
             0.4,
             "rgb(253,219,199)"
            ],
            [
             0.5,
             "rgb(247,247,247)"
            ],
            [
             0.6,
             "rgb(209,229,240)"
            ],
            [
             0.7,
             "rgb(146,197,222)"
            ],
            [
             0.8,
             "rgb(67,147,195)"
            ],
            [
             0.9,
             "rgb(33,102,172)"
            ],
            [
             1,
             "rgb(5,48,97)"
            ]
           ],
           "sequential": [
            [
             0,
             "#440154"
            ],
            [
             0.1111111111111111,
             "#482878"
            ],
            [
             0.2222222222222222,
             "#3e4989"
            ],
            [
             0.3333333333333333,
             "#31688e"
            ],
            [
             0.4444444444444444,
             "#26828e"
            ],
            [
             0.5555555555555556,
             "#1f9e89"
            ],
            [
             0.6666666666666666,
             "#35b779"
            ],
            [
             0.7777777777777778,
             "#6ece58"
            ],
            [
             0.8888888888888888,
             "#b5de2b"
            ],
            [
             1,
             "#fde725"
            ]
           ],
           "sequentialminus": [
            [
             0,
             "#440154"
            ],
            [
             0.1111111111111111,
             "#482878"
            ],
            [
             0.2222222222222222,
             "#3e4989"
            ],
            [
             0.3333333333333333,
             "#31688e"
            ],
            [
             0.4444444444444444,
             "#26828e"
            ],
            [
             0.5555555555555556,
             "#1f9e89"
            ],
            [
             0.6666666666666666,
             "#35b779"
            ],
            [
             0.7777777777777778,
             "#6ece58"
            ],
            [
             0.8888888888888888,
             "#b5de2b"
            ],
            [
             1,
             "#fde725"
            ]
           ]
          },
          "colorway": [
           "#1F77B4",
           "#FF7F0E",
           "#2CA02C",
           "#D62728",
           "#9467BD",
           "#8C564B",
           "#E377C2",
           "#7F7F7F",
           "#BCBD22",
           "#17BECF"
          ],
          "font": {
           "color": "rgb(36,36,36)"
          },
          "geo": {
           "bgcolor": "white",
           "lakecolor": "white",
           "landcolor": "white",
           "showlakes": true,
           "showland": true,
           "subunitcolor": "white"
          },
          "hoverlabel": {
           "align": "left"
          },
          "hovermode": "closest",
          "mapbox": {
           "style": "light"
          },
          "paper_bgcolor": "white",
          "plot_bgcolor": "white",
          "polar": {
           "angularaxis": {
            "gridcolor": "rgb(232,232,232)",
            "linecolor": "rgb(36,36,36)",
            "showgrid": false,
            "showline": true,
            "ticks": "outside"
           },
           "bgcolor": "white",
           "radialaxis": {
            "gridcolor": "rgb(232,232,232)",
            "linecolor": "rgb(36,36,36)",
            "showgrid": false,
            "showline": true,
            "ticks": "outside"
           }
          },
          "scene": {
           "xaxis": {
            "backgroundcolor": "white",
            "gridcolor": "rgb(232,232,232)",
            "gridwidth": 2,
            "linecolor": "rgb(36,36,36)",
            "showbackground": true,
            "showgrid": false,
            "showline": true,
            "ticks": "outside",
            "zeroline": false,
            "zerolinecolor": "rgb(36,36,36)"
           },
           "yaxis": {
            "backgroundcolor": "white",
            "gridcolor": "rgb(232,232,232)",
            "gridwidth": 2,
            "linecolor": "rgb(36,36,36)",
            "showbackground": true,
            "showgrid": false,
            "showline": true,
            "ticks": "outside",
            "zeroline": false,
            "zerolinecolor": "rgb(36,36,36)"
           },
           "zaxis": {
            "backgroundcolor": "white",
            "gridcolor": "rgb(232,232,232)",
            "gridwidth": 2,
            "linecolor": "rgb(36,36,36)",
            "showbackground": true,
            "showgrid": false,
            "showline": true,
            "ticks": "outside",
            "zeroline": false,
            "zerolinecolor": "rgb(36,36,36)"
           }
          },
          "shapedefaults": {
           "fillcolor": "black",
           "line": {
            "width": 0
           },
           "opacity": 0.3
          },
          "ternary": {
           "aaxis": {
            "gridcolor": "rgb(232,232,232)",
            "linecolor": "rgb(36,36,36)",
            "showgrid": false,
            "showline": true,
            "ticks": "outside"
           },
           "baxis": {
            "gridcolor": "rgb(232,232,232)",
            "linecolor": "rgb(36,36,36)",
            "showgrid": false,
            "showline": true,
            "ticks": "outside"
           },
           "bgcolor": "white",
           "caxis": {
            "gridcolor": "rgb(232,232,232)",
            "linecolor": "rgb(36,36,36)",
            "showgrid": false,
            "showline": true,
            "ticks": "outside"
           }
          },
          "title": {
           "x": 0.05
          },
          "xaxis": {
           "automargin": true,
           "gridcolor": "rgb(232,232,232)",
           "linecolor": "rgb(36,36,36)",
           "showgrid": false,
           "showline": true,
           "ticks": "outside",
           "title": {
            "standoff": 15
           },
           "zeroline": false,
           "zerolinecolor": "rgb(36,36,36)"
          },
          "yaxis": {
           "automargin": true,
           "gridcolor": "rgb(232,232,232)",
           "linecolor": "rgb(36,36,36)",
           "showgrid": false,
           "showline": true,
           "ticks": "outside",
           "title": {
            "standoff": 15
           },
           "zeroline": false,
           "zerolinecolor": "rgb(36,36,36)"
          }
         }
        },
        "width": 1024,
        "xaxis": {
         "dtick": 1,
         "title": {
          "text": "Safety"
         }
        },
        "yaxis": {
         "ticksuffix": "",
         "title": {
          "text": "Difficulty"
         }
        }
       }
      }
     },
     "metadata": {},
     "output_type": "display_data"
    },
    {
     "data": {
      "application/vnd.plotly.v1+json": {
       "config": {
        "plotlyServerURL": "https://plot.ly"
       },
       "data": [
        {
         "marker": {
          "color": "#000000"
         },
         "mode": "markers",
         "name": "Safety X Left Rotations",
         "showlegend": false,
         "type": "scatter",
         "x": [
          3,
          3,
          4,
          4,
          5,
          5,
          5,
          5,
          5,
          5,
          5,
          5,
          5,
          5,
          5,
          4,
          4,
          5,
          5,
          5,
          5,
          5,
          5,
          5,
          5,
          5,
          4,
          4,
          2,
          2,
          4,
          4,
          4,
          4,
          4,
          4,
          4,
          4,
          4,
          4,
          4,
          3,
          3,
          3,
          3,
          3,
          3,
          3,
          3,
          3,
          3,
          3,
          4,
          3,
          3,
          3,
          3,
          3,
          3,
          3,
          3,
          3,
          4,
          4,
          3,
          3,
          4,
          4,
          4,
          4,
          4,
          4,
          4,
          4,
          4,
          5,
          5,
          5,
          5,
          5,
          5,
          5,
          5,
          5,
          5,
          5,
          5,
          5,
          5,
          5,
          5,
          5,
          5,
          5,
          5,
          5,
          5,
          5,
          5,
          5
         ],
         "y": [
          15,
          17,
          4,
          9,
          3,
          1,
          2,
          11,
          2,
          3,
          14,
          5,
          3,
          4,
          2,
          3,
          4,
          2,
          2,
          1,
          4,
          1,
          3,
          5,
          3,
          2,
          5,
          2,
          3,
          8,
          1,
          0,
          1,
          2,
          3,
          2,
          6,
          4,
          1,
          5,
          5,
          3,
          2,
          1,
          1,
          3,
          2,
          3,
          3,
          8,
          0,
          5,
          7,
          3,
          2,
          1,
          1,
          8,
          3,
          3,
          3,
          4,
          5,
          5,
          2,
          3,
          1,
          1,
          0,
          2,
          3,
          2,
          12,
          4,
          2,
          6,
          5,
          13,
          3,
          1,
          3,
          10,
          4,
          4,
          7,
          5,
          2,
          6,
          9,
          3,
          7,
          1,
          2,
          2,
          3,
          3,
          4,
          2,
          5,
          2
         ]
        },
        {
         "hovertemplate": "<b>OLS trendline</b><br>y = 0.00256376 * x + 3.91931<br>R<sup>2</sup>=0.000000<br><br>x=%{x}<br>y=%{y} <b>(trend)</b><extra></extra>",
         "legendgroup": "",
         "marker": {
          "color": "#961C26",
          "symbol": "circle"
         },
         "mode": "lines",
         "name": "",
         "showlegend": false,
         "type": "scatter",
         "x": [
          2,
          2,
          3,
          3,
          3,
          3,
          3,
          3,
          3,
          3,
          3,
          3,
          3,
          3,
          3,
          3,
          3,
          3,
          3,
          3,
          3,
          3,
          3,
          3,
          3,
          3,
          4,
          4,
          4,
          4,
          4,
          4,
          4,
          4,
          4,
          4,
          4,
          4,
          4,
          4,
          4,
          4,
          4,
          4,
          4,
          4,
          4,
          4,
          4,
          4,
          4,
          4,
          4,
          4,
          4,
          5,
          5,
          5,
          5,
          5,
          5,
          5,
          5,
          5,
          5,
          5,
          5,
          5,
          5,
          5,
          5,
          5,
          5,
          5,
          5,
          5,
          5,
          5,
          5,
          5,
          5,
          5,
          5,
          5,
          5,
          5,
          5,
          5,
          5,
          5,
          5,
          5,
          5,
          5,
          5,
          5,
          5,
          5,
          5,
          5
         ],
         "xaxis": "x",
         "y": [
          3.924436648225611,
          3.924436648225611,
          3.927000404803671,
          3.927000404803671,
          3.927000404803671,
          3.927000404803671,
          3.927000404803671,
          3.927000404803671,
          3.927000404803671,
          3.927000404803671,
          3.927000404803671,
          3.927000404803671,
          3.927000404803671,
          3.927000404803671,
          3.927000404803671,
          3.927000404803671,
          3.927000404803671,
          3.927000404803671,
          3.927000404803671,
          3.927000404803671,
          3.927000404803671,
          3.927000404803671,
          3.927000404803671,
          3.927000404803671,
          3.927000404803671,
          3.927000404803671,
          3.929564161381731,
          3.929564161381731,
          3.929564161381731,
          3.929564161381731,
          3.929564161381731,
          3.929564161381731,
          3.929564161381731,
          3.929564161381731,
          3.929564161381731,
          3.929564161381731,
          3.929564161381731,
          3.929564161381731,
          3.929564161381731,
          3.929564161381731,
          3.929564161381731,
          3.929564161381731,
          3.929564161381731,
          3.929564161381731,
          3.929564161381731,
          3.929564161381731,
          3.929564161381731,
          3.929564161381731,
          3.929564161381731,
          3.929564161381731,
          3.929564161381731,
          3.929564161381731,
          3.929564161381731,
          3.929564161381731,
          3.929564161381731,
          3.932127917959791,
          3.932127917959791,
          3.932127917959791,
          3.932127917959791,
          3.932127917959791,
          3.932127917959791,
          3.932127917959791,
          3.932127917959791,
          3.932127917959791,
          3.932127917959791,
          3.932127917959791,
          3.932127917959791,
          3.932127917959791,
          3.932127917959791,
          3.932127917959791,
          3.932127917959791,
          3.932127917959791,
          3.932127917959791,
          3.932127917959791,
          3.932127917959791,
          3.932127917959791,
          3.932127917959791,
          3.932127917959791,
          3.932127917959791,
          3.932127917959791,
          3.932127917959791,
          3.932127917959791,
          3.932127917959791,
          3.932127917959791,
          3.932127917959791,
          3.932127917959791,
          3.932127917959791,
          3.932127917959791,
          3.932127917959791,
          3.932127917959791,
          3.932127917959791,
          3.932127917959791,
          3.932127917959791,
          3.932127917959791,
          3.932127917959791,
          3.932127917959791,
          3.932127917959791,
          3.932127917959791,
          3.932127917959791,
          3.932127917959791
         ],
         "yaxis": "y"
        }
       ],
       "layout": {
        "font": {
         "family": "Lato, sans-serif",
         "size": 14
        },
        "height": 768,
        "hoverlabel": {
         "font": {
          "family": "Lato, sans-serif",
          "size": 13
         }
        },
        "hovermode": "y unified",
        "legend": {
         "orientation": "h",
         "x": 0.5,
         "xanchor": "center",
         "y": 1,
         "yanchor": "bottom"
        },
        "margin": {
         "b": 0,
         "l": 70,
         "r": 40,
         "t": 20
        },
        "paper_bgcolor": "rgba(0,0,0,0)",
        "plot_bgcolor": "rgba(0,0,0,0)",
        "template": {
         "data": {
          "bar": [
           {
            "error_x": {
             "color": "rgb(36,36,36)"
            },
            "error_y": {
             "color": "rgb(36,36,36)"
            },
            "marker": {
             "line": {
              "color": "white",
              "width": 0.5
             },
             "pattern": {
              "fillmode": "overlay",
              "size": 10,
              "solidity": 0.2
             }
            },
            "type": "bar"
           }
          ],
          "barpolar": [
           {
            "marker": {
             "line": {
              "color": "white",
              "width": 0.5
             },
             "pattern": {
              "fillmode": "overlay",
              "size": 10,
              "solidity": 0.2
             }
            },
            "type": "barpolar"
           }
          ],
          "carpet": [
           {
            "aaxis": {
             "endlinecolor": "rgb(36,36,36)",
             "gridcolor": "white",
             "linecolor": "white",
             "minorgridcolor": "white",
             "startlinecolor": "rgb(36,36,36)"
            },
            "baxis": {
             "endlinecolor": "rgb(36,36,36)",
             "gridcolor": "white",
             "linecolor": "white",
             "minorgridcolor": "white",
             "startlinecolor": "rgb(36,36,36)"
            },
            "type": "carpet"
           }
          ],
          "choropleth": [
           {
            "colorbar": {
             "outlinewidth": 1,
             "tickcolor": "rgb(36,36,36)",
             "ticks": "outside"
            },
            "type": "choropleth"
           }
          ],
          "contour": [
           {
            "colorbar": {
             "outlinewidth": 1,
             "tickcolor": "rgb(36,36,36)",
             "ticks": "outside"
            },
            "colorscale": [
             [
              0,
              "#440154"
             ],
             [
              0.1111111111111111,
              "#482878"
             ],
             [
              0.2222222222222222,
              "#3e4989"
             ],
             [
              0.3333333333333333,
              "#31688e"
             ],
             [
              0.4444444444444444,
              "#26828e"
             ],
             [
              0.5555555555555556,
              "#1f9e89"
             ],
             [
              0.6666666666666666,
              "#35b779"
             ],
             [
              0.7777777777777778,
              "#6ece58"
             ],
             [
              0.8888888888888888,
              "#b5de2b"
             ],
             [
              1,
              "#fde725"
             ]
            ],
            "type": "contour"
           }
          ],
          "contourcarpet": [
           {
            "colorbar": {
             "outlinewidth": 1,
             "tickcolor": "rgb(36,36,36)",
             "ticks": "outside"
            },
            "type": "contourcarpet"
           }
          ],
          "heatmap": [
           {
            "colorbar": {
             "outlinewidth": 1,
             "tickcolor": "rgb(36,36,36)",
             "ticks": "outside"
            },
            "colorscale": [
             [
              0,
              "#440154"
             ],
             [
              0.1111111111111111,
              "#482878"
             ],
             [
              0.2222222222222222,
              "#3e4989"
             ],
             [
              0.3333333333333333,
              "#31688e"
             ],
             [
              0.4444444444444444,
              "#26828e"
             ],
             [
              0.5555555555555556,
              "#1f9e89"
             ],
             [
              0.6666666666666666,
              "#35b779"
             ],
             [
              0.7777777777777778,
              "#6ece58"
             ],
             [
              0.8888888888888888,
              "#b5de2b"
             ],
             [
              1,
              "#fde725"
             ]
            ],
            "type": "heatmap"
           }
          ],
          "heatmapgl": [
           {
            "colorbar": {
             "outlinewidth": 1,
             "tickcolor": "rgb(36,36,36)",
             "ticks": "outside"
            },
            "colorscale": [
             [
              0,
              "#440154"
             ],
             [
              0.1111111111111111,
              "#482878"
             ],
             [
              0.2222222222222222,
              "#3e4989"
             ],
             [
              0.3333333333333333,
              "#31688e"
             ],
             [
              0.4444444444444444,
              "#26828e"
             ],
             [
              0.5555555555555556,
              "#1f9e89"
             ],
             [
              0.6666666666666666,
              "#35b779"
             ],
             [
              0.7777777777777778,
              "#6ece58"
             ],
             [
              0.8888888888888888,
              "#b5de2b"
             ],
             [
              1,
              "#fde725"
             ]
            ],
            "type": "heatmapgl"
           }
          ],
          "histogram": [
           {
            "marker": {
             "line": {
              "color": "white",
              "width": 0.6
             }
            },
            "type": "histogram"
           }
          ],
          "histogram2d": [
           {
            "colorbar": {
             "outlinewidth": 1,
             "tickcolor": "rgb(36,36,36)",
             "ticks": "outside"
            },
            "colorscale": [
             [
              0,
              "#440154"
             ],
             [
              0.1111111111111111,
              "#482878"
             ],
             [
              0.2222222222222222,
              "#3e4989"
             ],
             [
              0.3333333333333333,
              "#31688e"
             ],
             [
              0.4444444444444444,
              "#26828e"
             ],
             [
              0.5555555555555556,
              "#1f9e89"
             ],
             [
              0.6666666666666666,
              "#35b779"
             ],
             [
              0.7777777777777778,
              "#6ece58"
             ],
             [
              0.8888888888888888,
              "#b5de2b"
             ],
             [
              1,
              "#fde725"
             ]
            ],
            "type": "histogram2d"
           }
          ],
          "histogram2dcontour": [
           {
            "colorbar": {
             "outlinewidth": 1,
             "tickcolor": "rgb(36,36,36)",
             "ticks": "outside"
            },
            "colorscale": [
             [
              0,
              "#440154"
             ],
             [
              0.1111111111111111,
              "#482878"
             ],
             [
              0.2222222222222222,
              "#3e4989"
             ],
             [
              0.3333333333333333,
              "#31688e"
             ],
             [
              0.4444444444444444,
              "#26828e"
             ],
             [
              0.5555555555555556,
              "#1f9e89"
             ],
             [
              0.6666666666666666,
              "#35b779"
             ],
             [
              0.7777777777777778,
              "#6ece58"
             ],
             [
              0.8888888888888888,
              "#b5de2b"
             ],
             [
              1,
              "#fde725"
             ]
            ],
            "type": "histogram2dcontour"
           }
          ],
          "mesh3d": [
           {
            "colorbar": {
             "outlinewidth": 1,
             "tickcolor": "rgb(36,36,36)",
             "ticks": "outside"
            },
            "type": "mesh3d"
           }
          ],
          "parcoords": [
           {
            "line": {
             "colorbar": {
              "outlinewidth": 1,
              "tickcolor": "rgb(36,36,36)",
              "ticks": "outside"
             }
            },
            "type": "parcoords"
           }
          ],
          "pie": [
           {
            "automargin": true,
            "type": "pie"
           }
          ],
          "scatter": [
           {
            "fillpattern": {
             "fillmode": "overlay",
             "size": 10,
             "solidity": 0.2
            },
            "type": "scatter"
           }
          ],
          "scatter3d": [
           {
            "line": {
             "colorbar": {
              "outlinewidth": 1,
              "tickcolor": "rgb(36,36,36)",
              "ticks": "outside"
             }
            },
            "marker": {
             "colorbar": {
              "outlinewidth": 1,
              "tickcolor": "rgb(36,36,36)",
              "ticks": "outside"
             }
            },
            "type": "scatter3d"
           }
          ],
          "scattercarpet": [
           {
            "marker": {
             "colorbar": {
              "outlinewidth": 1,
              "tickcolor": "rgb(36,36,36)",
              "ticks": "outside"
             }
            },
            "type": "scattercarpet"
           }
          ],
          "scattergeo": [
           {
            "marker": {
             "colorbar": {
              "outlinewidth": 1,
              "tickcolor": "rgb(36,36,36)",
              "ticks": "outside"
             }
            },
            "type": "scattergeo"
           }
          ],
          "scattergl": [
           {
            "marker": {
             "colorbar": {
              "outlinewidth": 1,
              "tickcolor": "rgb(36,36,36)",
              "ticks": "outside"
             }
            },
            "type": "scattergl"
           }
          ],
          "scattermapbox": [
           {
            "marker": {
             "colorbar": {
              "outlinewidth": 1,
              "tickcolor": "rgb(36,36,36)",
              "ticks": "outside"
             }
            },
            "type": "scattermapbox"
           }
          ],
          "scatterpolar": [
           {
            "marker": {
             "colorbar": {
              "outlinewidth": 1,
              "tickcolor": "rgb(36,36,36)",
              "ticks": "outside"
             }
            },
            "type": "scatterpolar"
           }
          ],
          "scatterpolargl": [
           {
            "marker": {
             "colorbar": {
              "outlinewidth": 1,
              "tickcolor": "rgb(36,36,36)",
              "ticks": "outside"
             }
            },
            "type": "scatterpolargl"
           }
          ],
          "scatterternary": [
           {
            "marker": {
             "colorbar": {
              "outlinewidth": 1,
              "tickcolor": "rgb(36,36,36)",
              "ticks": "outside"
             }
            },
            "type": "scatterternary"
           }
          ],
          "surface": [
           {
            "colorbar": {
             "outlinewidth": 1,
             "tickcolor": "rgb(36,36,36)",
             "ticks": "outside"
            },
            "colorscale": [
             [
              0,
              "#440154"
             ],
             [
              0.1111111111111111,
              "#482878"
             ],
             [
              0.2222222222222222,
              "#3e4989"
             ],
             [
              0.3333333333333333,
              "#31688e"
             ],
             [
              0.4444444444444444,
              "#26828e"
             ],
             [
              0.5555555555555556,
              "#1f9e89"
             ],
             [
              0.6666666666666666,
              "#35b779"
             ],
             [
              0.7777777777777778,
              "#6ece58"
             ],
             [
              0.8888888888888888,
              "#b5de2b"
             ],
             [
              1,
              "#fde725"
             ]
            ],
            "type": "surface"
           }
          ],
          "table": [
           {
            "cells": {
             "fill": {
              "color": "rgb(237,237,237)"
             },
             "line": {
              "color": "white"
             }
            },
            "header": {
             "fill": {
              "color": "rgb(217,217,217)"
             },
             "line": {
              "color": "white"
             }
            },
            "type": "table"
           }
          ]
         },
         "layout": {
          "annotationdefaults": {
           "arrowhead": 0,
           "arrowwidth": 1
          },
          "autotypenumbers": "strict",
          "coloraxis": {
           "colorbar": {
            "outlinewidth": 1,
            "tickcolor": "rgb(36,36,36)",
            "ticks": "outside"
           }
          },
          "colorscale": {
           "diverging": [
            [
             0,
             "rgb(103,0,31)"
            ],
            [
             0.1,
             "rgb(178,24,43)"
            ],
            [
             0.2,
             "rgb(214,96,77)"
            ],
            [
             0.3,
             "rgb(244,165,130)"
            ],
            [
             0.4,
             "rgb(253,219,199)"
            ],
            [
             0.5,
             "rgb(247,247,247)"
            ],
            [
             0.6,
             "rgb(209,229,240)"
            ],
            [
             0.7,
             "rgb(146,197,222)"
            ],
            [
             0.8,
             "rgb(67,147,195)"
            ],
            [
             0.9,
             "rgb(33,102,172)"
            ],
            [
             1,
             "rgb(5,48,97)"
            ]
           ],
           "sequential": [
            [
             0,
             "#440154"
            ],
            [
             0.1111111111111111,
             "#482878"
            ],
            [
             0.2222222222222222,
             "#3e4989"
            ],
            [
             0.3333333333333333,
             "#31688e"
            ],
            [
             0.4444444444444444,
             "#26828e"
            ],
            [
             0.5555555555555556,
             "#1f9e89"
            ],
            [
             0.6666666666666666,
             "#35b779"
            ],
            [
             0.7777777777777778,
             "#6ece58"
            ],
            [
             0.8888888888888888,
             "#b5de2b"
            ],
            [
             1,
             "#fde725"
            ]
           ],
           "sequentialminus": [
            [
             0,
             "#440154"
            ],
            [
             0.1111111111111111,
             "#482878"
            ],
            [
             0.2222222222222222,
             "#3e4989"
            ],
            [
             0.3333333333333333,
             "#31688e"
            ],
            [
             0.4444444444444444,
             "#26828e"
            ],
            [
             0.5555555555555556,
             "#1f9e89"
            ],
            [
             0.6666666666666666,
             "#35b779"
            ],
            [
             0.7777777777777778,
             "#6ece58"
            ],
            [
             0.8888888888888888,
             "#b5de2b"
            ],
            [
             1,
             "#fde725"
            ]
           ]
          },
          "colorway": [
           "#1F77B4",
           "#FF7F0E",
           "#2CA02C",
           "#D62728",
           "#9467BD",
           "#8C564B",
           "#E377C2",
           "#7F7F7F",
           "#BCBD22",
           "#17BECF"
          ],
          "font": {
           "color": "rgb(36,36,36)"
          },
          "geo": {
           "bgcolor": "white",
           "lakecolor": "white",
           "landcolor": "white",
           "showlakes": true,
           "showland": true,
           "subunitcolor": "white"
          },
          "hoverlabel": {
           "align": "left"
          },
          "hovermode": "closest",
          "mapbox": {
           "style": "light"
          },
          "paper_bgcolor": "white",
          "plot_bgcolor": "white",
          "polar": {
           "angularaxis": {
            "gridcolor": "rgb(232,232,232)",
            "linecolor": "rgb(36,36,36)",
            "showgrid": false,
            "showline": true,
            "ticks": "outside"
           },
           "bgcolor": "white",
           "radialaxis": {
            "gridcolor": "rgb(232,232,232)",
            "linecolor": "rgb(36,36,36)",
            "showgrid": false,
            "showline": true,
            "ticks": "outside"
           }
          },
          "scene": {
           "xaxis": {
            "backgroundcolor": "white",
            "gridcolor": "rgb(232,232,232)",
            "gridwidth": 2,
            "linecolor": "rgb(36,36,36)",
            "showbackground": true,
            "showgrid": false,
            "showline": true,
            "ticks": "outside",
            "zeroline": false,
            "zerolinecolor": "rgb(36,36,36)"
           },
           "yaxis": {
            "backgroundcolor": "white",
            "gridcolor": "rgb(232,232,232)",
            "gridwidth": 2,
            "linecolor": "rgb(36,36,36)",
            "showbackground": true,
            "showgrid": false,
            "showline": true,
            "ticks": "outside",
            "zeroline": false,
            "zerolinecolor": "rgb(36,36,36)"
           },
           "zaxis": {
            "backgroundcolor": "white",
            "gridcolor": "rgb(232,232,232)",
            "gridwidth": 2,
            "linecolor": "rgb(36,36,36)",
            "showbackground": true,
            "showgrid": false,
            "showline": true,
            "ticks": "outside",
            "zeroline": false,
            "zerolinecolor": "rgb(36,36,36)"
           }
          },
          "shapedefaults": {
           "fillcolor": "black",
           "line": {
            "width": 0
           },
           "opacity": 0.3
          },
          "ternary": {
           "aaxis": {
            "gridcolor": "rgb(232,232,232)",
            "linecolor": "rgb(36,36,36)",
            "showgrid": false,
            "showline": true,
            "ticks": "outside"
           },
           "baxis": {
            "gridcolor": "rgb(232,232,232)",
            "linecolor": "rgb(36,36,36)",
            "showgrid": false,
            "showline": true,
            "ticks": "outside"
           },
           "bgcolor": "white",
           "caxis": {
            "gridcolor": "rgb(232,232,232)",
            "linecolor": "rgb(36,36,36)",
            "showgrid": false,
            "showline": true,
            "ticks": "outside"
           }
          },
          "title": {
           "x": 0.05
          },
          "xaxis": {
           "automargin": true,
           "gridcolor": "rgb(232,232,232)",
           "linecolor": "rgb(36,36,36)",
           "showgrid": false,
           "showline": true,
           "ticks": "outside",
           "title": {
            "standoff": 15
           },
           "zeroline": false,
           "zerolinecolor": "rgb(36,36,36)"
          },
          "yaxis": {
           "automargin": true,
           "gridcolor": "rgb(232,232,232)",
           "linecolor": "rgb(36,36,36)",
           "showgrid": false,
           "showline": true,
           "ticks": "outside",
           "title": {
            "standoff": 15
           },
           "zeroline": false,
           "zerolinecolor": "rgb(36,36,36)"
          }
         }
        },
        "width": 1024,
        "xaxis": {
         "dtick": 1,
         "title": {
          "text": "Safety"
         }
        },
        "yaxis": {
         "ticksuffix": "",
         "title": {
          "text": "Left Rotations"
         }
        }
       }
      }
     },
     "metadata": {},
     "output_type": "display_data"
    },
    {
     "data": {
      "application/vnd.plotly.v1+json": {
       "config": {
        "plotlyServerURL": "https://plot.ly"
       },
       "data": [
        {
         "marker": {
          "color": "#000000"
         },
         "mode": "markers",
         "name": "Safety X Left Rotations",
         "showlegend": false,
         "type": "scatter",
         "x": [
          3,
          3,
          4,
          4,
          5,
          5,
          5,
          5,
          5,
          5,
          5,
          5,
          5,
          5,
          5,
          4,
          4,
          5,
          5,
          5,
          5,
          5,
          5,
          5,
          5,
          5,
          4,
          4,
          2,
          2,
          4,
          4,
          4,
          4,
          4,
          4,
          4,
          4,
          4,
          4,
          4,
          3,
          3,
          3,
          3,
          3,
          3,
          3,
          3,
          3,
          3,
          3,
          4,
          3,
          3,
          3,
          3,
          3,
          3,
          3,
          3,
          3,
          4,
          4,
          3,
          3,
          4,
          4,
          4,
          4,
          4,
          4,
          4,
          4,
          4,
          5,
          5,
          5,
          5,
          5,
          5,
          5,
          5,
          5,
          5,
          5,
          5,
          5,
          5,
          5,
          5,
          5,
          5,
          5,
          5,
          5,
          5,
          5,
          5,
          5
         ],
         "y": [
          10,
          11,
          3,
          6,
          0,
          0,
          2,
          7,
          0,
          2,
          9,
          2,
          1,
          1,
          0,
          0,
          1,
          2,
          1,
          2,
          1,
          0,
          1,
          5,
          1,
          1,
          1,
          0,
          0,
          0,
          1,
          1,
          1,
          1,
          0,
          1,
          8,
          0,
          0,
          5,
          3,
          1,
          2,
          1,
          3,
          1,
          5,
          3,
          1,
          8,
          2,
          1,
          5,
          1,
          1,
          1,
          1,
          7,
          0,
          2,
          7,
          0,
          3,
          5,
          0,
          1,
          0,
          2,
          2,
          2,
          0,
          1,
          10,
          0,
          0,
          3,
          2,
          9,
          2,
          2,
          1,
          3,
          1,
          2,
          4,
          0,
          1,
          4,
          3,
          1,
          2,
          0,
          2,
          1,
          3,
          4,
          1,
          2,
          0,
          1
         ]
        },
        {
         "hovertemplate": "<b>OLS trendline</b><br>y = -0.216975 * x + 3.14478<br>R<sup>2</sup>=0.005366<br><br>x=%{x}<br>y=%{y} <b>(trend)</b><extra></extra>",
         "legendgroup": "",
         "marker": {
          "color": "#961C26",
          "symbol": "circle"
         },
         "mode": "lines",
         "name": "",
         "showlegend": false,
         "type": "scatter",
         "x": [
          2,
          2,
          3,
          3,
          3,
          3,
          3,
          3,
          3,
          3,
          3,
          3,
          3,
          3,
          3,
          3,
          3,
          3,
          3,
          3,
          3,
          3,
          3,
          3,
          3,
          3,
          4,
          4,
          4,
          4,
          4,
          4,
          4,
          4,
          4,
          4,
          4,
          4,
          4,
          4,
          4,
          4,
          4,
          4,
          4,
          4,
          4,
          4,
          4,
          4,
          4,
          4,
          4,
          4,
          4,
          5,
          5,
          5,
          5,
          5,
          5,
          5,
          5,
          5,
          5,
          5,
          5,
          5,
          5,
          5,
          5,
          5,
          5,
          5,
          5,
          5,
          5,
          5,
          5,
          5,
          5,
          5,
          5,
          5,
          5,
          5,
          5,
          5,
          5,
          5,
          5,
          5,
          5,
          5,
          5,
          5,
          5,
          5,
          5,
          5
         ],
         "xaxis": "x",
         "y": [
          2.710835244906221,
          2.710835244906221,
          2.4938604776683317,
          2.4938604776683317,
          2.4938604776683317,
          2.4938604776683317,
          2.4938604776683317,
          2.4938604776683317,
          2.4938604776683317,
          2.4938604776683317,
          2.4938604776683317,
          2.4938604776683317,
          2.4938604776683317,
          2.4938604776683317,
          2.4938604776683317,
          2.4938604776683317,
          2.4938604776683317,
          2.4938604776683317,
          2.4938604776683317,
          2.4938604776683317,
          2.4938604776683317,
          2.4938604776683317,
          2.4938604776683317,
          2.4938604776683317,
          2.4938604776683317,
          2.4938604776683317,
          2.2768857104304425,
          2.2768857104304425,
          2.2768857104304425,
          2.2768857104304425,
          2.2768857104304425,
          2.2768857104304425,
          2.2768857104304425,
          2.2768857104304425,
          2.2768857104304425,
          2.2768857104304425,
          2.2768857104304425,
          2.2768857104304425,
          2.2768857104304425,
          2.2768857104304425,
          2.2768857104304425,
          2.2768857104304425,
          2.2768857104304425,
          2.2768857104304425,
          2.2768857104304425,
          2.2768857104304425,
          2.2768857104304425,
          2.2768857104304425,
          2.2768857104304425,
          2.2768857104304425,
          2.2768857104304425,
          2.2768857104304425,
          2.2768857104304425,
          2.2768857104304425,
          2.2768857104304425,
          2.0599109431925533,
          2.0599109431925533,
          2.0599109431925533,
          2.0599109431925533,
          2.0599109431925533,
          2.0599109431925533,
          2.0599109431925533,
          2.0599109431925533,
          2.0599109431925533,
          2.0599109431925533,
          2.0599109431925533,
          2.0599109431925533,
          2.0599109431925533,
          2.0599109431925533,
          2.0599109431925533,
          2.0599109431925533,
          2.0599109431925533,
          2.0599109431925533,
          2.0599109431925533,
          2.0599109431925533,
          2.0599109431925533,
          2.0599109431925533,
          2.0599109431925533,
          2.0599109431925533,
          2.0599109431925533,
          2.0599109431925533,
          2.0599109431925533,
          2.0599109431925533,
          2.0599109431925533,
          2.0599109431925533,
          2.0599109431925533,
          2.0599109431925533,
          2.0599109431925533,
          2.0599109431925533,
          2.0599109431925533,
          2.0599109431925533,
          2.0599109431925533,
          2.0599109431925533,
          2.0599109431925533,
          2.0599109431925533,
          2.0599109431925533,
          2.0599109431925533,
          2.0599109431925533,
          2.0599109431925533,
          2.0599109431925533
         ],
         "yaxis": "y"
        }
       ],
       "layout": {
        "font": {
         "family": "Lato, sans-serif",
         "size": 14
        },
        "height": 768,
        "hoverlabel": {
         "font": {
          "family": "Lato, sans-serif",
          "size": 13
         }
        },
        "hovermode": "y unified",
        "legend": {
         "orientation": "h",
         "x": 0.5,
         "xanchor": "center",
         "y": 1,
         "yanchor": "bottom"
        },
        "margin": {
         "b": 0,
         "l": 70,
         "r": 40,
         "t": 20
        },
        "paper_bgcolor": "rgba(0,0,0,0)",
        "plot_bgcolor": "rgba(0,0,0,0)",
        "template": {
         "data": {
          "bar": [
           {
            "error_x": {
             "color": "rgb(36,36,36)"
            },
            "error_y": {
             "color": "rgb(36,36,36)"
            },
            "marker": {
             "line": {
              "color": "white",
              "width": 0.5
             },
             "pattern": {
              "fillmode": "overlay",
              "size": 10,
              "solidity": 0.2
             }
            },
            "type": "bar"
           }
          ],
          "barpolar": [
           {
            "marker": {
             "line": {
              "color": "white",
              "width": 0.5
             },
             "pattern": {
              "fillmode": "overlay",
              "size": 10,
              "solidity": 0.2
             }
            },
            "type": "barpolar"
           }
          ],
          "carpet": [
           {
            "aaxis": {
             "endlinecolor": "rgb(36,36,36)",
             "gridcolor": "white",
             "linecolor": "white",
             "minorgridcolor": "white",
             "startlinecolor": "rgb(36,36,36)"
            },
            "baxis": {
             "endlinecolor": "rgb(36,36,36)",
             "gridcolor": "white",
             "linecolor": "white",
             "minorgridcolor": "white",
             "startlinecolor": "rgb(36,36,36)"
            },
            "type": "carpet"
           }
          ],
          "choropleth": [
           {
            "colorbar": {
             "outlinewidth": 1,
             "tickcolor": "rgb(36,36,36)",
             "ticks": "outside"
            },
            "type": "choropleth"
           }
          ],
          "contour": [
           {
            "colorbar": {
             "outlinewidth": 1,
             "tickcolor": "rgb(36,36,36)",
             "ticks": "outside"
            },
            "colorscale": [
             [
              0,
              "#440154"
             ],
             [
              0.1111111111111111,
              "#482878"
             ],
             [
              0.2222222222222222,
              "#3e4989"
             ],
             [
              0.3333333333333333,
              "#31688e"
             ],
             [
              0.4444444444444444,
              "#26828e"
             ],
             [
              0.5555555555555556,
              "#1f9e89"
             ],
             [
              0.6666666666666666,
              "#35b779"
             ],
             [
              0.7777777777777778,
              "#6ece58"
             ],
             [
              0.8888888888888888,
              "#b5de2b"
             ],
             [
              1,
              "#fde725"
             ]
            ],
            "type": "contour"
           }
          ],
          "contourcarpet": [
           {
            "colorbar": {
             "outlinewidth": 1,
             "tickcolor": "rgb(36,36,36)",
             "ticks": "outside"
            },
            "type": "contourcarpet"
           }
          ],
          "heatmap": [
           {
            "colorbar": {
             "outlinewidth": 1,
             "tickcolor": "rgb(36,36,36)",
             "ticks": "outside"
            },
            "colorscale": [
             [
              0,
              "#440154"
             ],
             [
              0.1111111111111111,
              "#482878"
             ],
             [
              0.2222222222222222,
              "#3e4989"
             ],
             [
              0.3333333333333333,
              "#31688e"
             ],
             [
              0.4444444444444444,
              "#26828e"
             ],
             [
              0.5555555555555556,
              "#1f9e89"
             ],
             [
              0.6666666666666666,
              "#35b779"
             ],
             [
              0.7777777777777778,
              "#6ece58"
             ],
             [
              0.8888888888888888,
              "#b5de2b"
             ],
             [
              1,
              "#fde725"
             ]
            ],
            "type": "heatmap"
           }
          ],
          "heatmapgl": [
           {
            "colorbar": {
             "outlinewidth": 1,
             "tickcolor": "rgb(36,36,36)",
             "ticks": "outside"
            },
            "colorscale": [
             [
              0,
              "#440154"
             ],
             [
              0.1111111111111111,
              "#482878"
             ],
             [
              0.2222222222222222,
              "#3e4989"
             ],
             [
              0.3333333333333333,
              "#31688e"
             ],
             [
              0.4444444444444444,
              "#26828e"
             ],
             [
              0.5555555555555556,
              "#1f9e89"
             ],
             [
              0.6666666666666666,
              "#35b779"
             ],
             [
              0.7777777777777778,
              "#6ece58"
             ],
             [
              0.8888888888888888,
              "#b5de2b"
             ],
             [
              1,
              "#fde725"
             ]
            ],
            "type": "heatmapgl"
           }
          ],
          "histogram": [
           {
            "marker": {
             "line": {
              "color": "white",
              "width": 0.6
             }
            },
            "type": "histogram"
           }
          ],
          "histogram2d": [
           {
            "colorbar": {
             "outlinewidth": 1,
             "tickcolor": "rgb(36,36,36)",
             "ticks": "outside"
            },
            "colorscale": [
             [
              0,
              "#440154"
             ],
             [
              0.1111111111111111,
              "#482878"
             ],
             [
              0.2222222222222222,
              "#3e4989"
             ],
             [
              0.3333333333333333,
              "#31688e"
             ],
             [
              0.4444444444444444,
              "#26828e"
             ],
             [
              0.5555555555555556,
              "#1f9e89"
             ],
             [
              0.6666666666666666,
              "#35b779"
             ],
             [
              0.7777777777777778,
              "#6ece58"
             ],
             [
              0.8888888888888888,
              "#b5de2b"
             ],
             [
              1,
              "#fde725"
             ]
            ],
            "type": "histogram2d"
           }
          ],
          "histogram2dcontour": [
           {
            "colorbar": {
             "outlinewidth": 1,
             "tickcolor": "rgb(36,36,36)",
             "ticks": "outside"
            },
            "colorscale": [
             [
              0,
              "#440154"
             ],
             [
              0.1111111111111111,
              "#482878"
             ],
             [
              0.2222222222222222,
              "#3e4989"
             ],
             [
              0.3333333333333333,
              "#31688e"
             ],
             [
              0.4444444444444444,
              "#26828e"
             ],
             [
              0.5555555555555556,
              "#1f9e89"
             ],
             [
              0.6666666666666666,
              "#35b779"
             ],
             [
              0.7777777777777778,
              "#6ece58"
             ],
             [
              0.8888888888888888,
              "#b5de2b"
             ],
             [
              1,
              "#fde725"
             ]
            ],
            "type": "histogram2dcontour"
           }
          ],
          "mesh3d": [
           {
            "colorbar": {
             "outlinewidth": 1,
             "tickcolor": "rgb(36,36,36)",
             "ticks": "outside"
            },
            "type": "mesh3d"
           }
          ],
          "parcoords": [
           {
            "line": {
             "colorbar": {
              "outlinewidth": 1,
              "tickcolor": "rgb(36,36,36)",
              "ticks": "outside"
             }
            },
            "type": "parcoords"
           }
          ],
          "pie": [
           {
            "automargin": true,
            "type": "pie"
           }
          ],
          "scatter": [
           {
            "fillpattern": {
             "fillmode": "overlay",
             "size": 10,
             "solidity": 0.2
            },
            "type": "scatter"
           }
          ],
          "scatter3d": [
           {
            "line": {
             "colorbar": {
              "outlinewidth": 1,
              "tickcolor": "rgb(36,36,36)",
              "ticks": "outside"
             }
            },
            "marker": {
             "colorbar": {
              "outlinewidth": 1,
              "tickcolor": "rgb(36,36,36)",
              "ticks": "outside"
             }
            },
            "type": "scatter3d"
           }
          ],
          "scattercarpet": [
           {
            "marker": {
             "colorbar": {
              "outlinewidth": 1,
              "tickcolor": "rgb(36,36,36)",
              "ticks": "outside"
             }
            },
            "type": "scattercarpet"
           }
          ],
          "scattergeo": [
           {
            "marker": {
             "colorbar": {
              "outlinewidth": 1,
              "tickcolor": "rgb(36,36,36)",
              "ticks": "outside"
             }
            },
            "type": "scattergeo"
           }
          ],
          "scattergl": [
           {
            "marker": {
             "colorbar": {
              "outlinewidth": 1,
              "tickcolor": "rgb(36,36,36)",
              "ticks": "outside"
             }
            },
            "type": "scattergl"
           }
          ],
          "scattermapbox": [
           {
            "marker": {
             "colorbar": {
              "outlinewidth": 1,
              "tickcolor": "rgb(36,36,36)",
              "ticks": "outside"
             }
            },
            "type": "scattermapbox"
           }
          ],
          "scatterpolar": [
           {
            "marker": {
             "colorbar": {
              "outlinewidth": 1,
              "tickcolor": "rgb(36,36,36)",
              "ticks": "outside"
             }
            },
            "type": "scatterpolar"
           }
          ],
          "scatterpolargl": [
           {
            "marker": {
             "colorbar": {
              "outlinewidth": 1,
              "tickcolor": "rgb(36,36,36)",
              "ticks": "outside"
             }
            },
            "type": "scatterpolargl"
           }
          ],
          "scatterternary": [
           {
            "marker": {
             "colorbar": {
              "outlinewidth": 1,
              "tickcolor": "rgb(36,36,36)",
              "ticks": "outside"
             }
            },
            "type": "scatterternary"
           }
          ],
          "surface": [
           {
            "colorbar": {
             "outlinewidth": 1,
             "tickcolor": "rgb(36,36,36)",
             "ticks": "outside"
            },
            "colorscale": [
             [
              0,
              "#440154"
             ],
             [
              0.1111111111111111,
              "#482878"
             ],
             [
              0.2222222222222222,
              "#3e4989"
             ],
             [
              0.3333333333333333,
              "#31688e"
             ],
             [
              0.4444444444444444,
              "#26828e"
             ],
             [
              0.5555555555555556,
              "#1f9e89"
             ],
             [
              0.6666666666666666,
              "#35b779"
             ],
             [
              0.7777777777777778,
              "#6ece58"
             ],
             [
              0.8888888888888888,
              "#b5de2b"
             ],
             [
              1,
              "#fde725"
             ]
            ],
            "type": "surface"
           }
          ],
          "table": [
           {
            "cells": {
             "fill": {
              "color": "rgb(237,237,237)"
             },
             "line": {
              "color": "white"
             }
            },
            "header": {
             "fill": {
              "color": "rgb(217,217,217)"
             },
             "line": {
              "color": "white"
             }
            },
            "type": "table"
           }
          ]
         },
         "layout": {
          "annotationdefaults": {
           "arrowhead": 0,
           "arrowwidth": 1
          },
          "autotypenumbers": "strict",
          "coloraxis": {
           "colorbar": {
            "outlinewidth": 1,
            "tickcolor": "rgb(36,36,36)",
            "ticks": "outside"
           }
          },
          "colorscale": {
           "diverging": [
            [
             0,
             "rgb(103,0,31)"
            ],
            [
             0.1,
             "rgb(178,24,43)"
            ],
            [
             0.2,
             "rgb(214,96,77)"
            ],
            [
             0.3,
             "rgb(244,165,130)"
            ],
            [
             0.4,
             "rgb(253,219,199)"
            ],
            [
             0.5,
             "rgb(247,247,247)"
            ],
            [
             0.6,
             "rgb(209,229,240)"
            ],
            [
             0.7,
             "rgb(146,197,222)"
            ],
            [
             0.8,
             "rgb(67,147,195)"
            ],
            [
             0.9,
             "rgb(33,102,172)"
            ],
            [
             1,
             "rgb(5,48,97)"
            ]
           ],
           "sequential": [
            [
             0,
             "#440154"
            ],
            [
             0.1111111111111111,
             "#482878"
            ],
            [
             0.2222222222222222,
             "#3e4989"
            ],
            [
             0.3333333333333333,
             "#31688e"
            ],
            [
             0.4444444444444444,
             "#26828e"
            ],
            [
             0.5555555555555556,
             "#1f9e89"
            ],
            [
             0.6666666666666666,
             "#35b779"
            ],
            [
             0.7777777777777778,
             "#6ece58"
            ],
            [
             0.8888888888888888,
             "#b5de2b"
            ],
            [
             1,
             "#fde725"
            ]
           ],
           "sequentialminus": [
            [
             0,
             "#440154"
            ],
            [
             0.1111111111111111,
             "#482878"
            ],
            [
             0.2222222222222222,
             "#3e4989"
            ],
            [
             0.3333333333333333,
             "#31688e"
            ],
            [
             0.4444444444444444,
             "#26828e"
            ],
            [
             0.5555555555555556,
             "#1f9e89"
            ],
            [
             0.6666666666666666,
             "#35b779"
            ],
            [
             0.7777777777777778,
             "#6ece58"
            ],
            [
             0.8888888888888888,
             "#b5de2b"
            ],
            [
             1,
             "#fde725"
            ]
           ]
          },
          "colorway": [
           "#1F77B4",
           "#FF7F0E",
           "#2CA02C",
           "#D62728",
           "#9467BD",
           "#8C564B",
           "#E377C2",
           "#7F7F7F",
           "#BCBD22",
           "#17BECF"
          ],
          "font": {
           "color": "rgb(36,36,36)"
          },
          "geo": {
           "bgcolor": "white",
           "lakecolor": "white",
           "landcolor": "white",
           "showlakes": true,
           "showland": true,
           "subunitcolor": "white"
          },
          "hoverlabel": {
           "align": "left"
          },
          "hovermode": "closest",
          "mapbox": {
           "style": "light"
          },
          "paper_bgcolor": "white",
          "plot_bgcolor": "white",
          "polar": {
           "angularaxis": {
            "gridcolor": "rgb(232,232,232)",
            "linecolor": "rgb(36,36,36)",
            "showgrid": false,
            "showline": true,
            "ticks": "outside"
           },
           "bgcolor": "white",
           "radialaxis": {
            "gridcolor": "rgb(232,232,232)",
            "linecolor": "rgb(36,36,36)",
            "showgrid": false,
            "showline": true,
            "ticks": "outside"
           }
          },
          "scene": {
           "xaxis": {
            "backgroundcolor": "white",
            "gridcolor": "rgb(232,232,232)",
            "gridwidth": 2,
            "linecolor": "rgb(36,36,36)",
            "showbackground": true,
            "showgrid": false,
            "showline": true,
            "ticks": "outside",
            "zeroline": false,
            "zerolinecolor": "rgb(36,36,36)"
           },
           "yaxis": {
            "backgroundcolor": "white",
            "gridcolor": "rgb(232,232,232)",
            "gridwidth": 2,
            "linecolor": "rgb(36,36,36)",
            "showbackground": true,
            "showgrid": false,
            "showline": true,
            "ticks": "outside",
            "zeroline": false,
            "zerolinecolor": "rgb(36,36,36)"
           },
           "zaxis": {
            "backgroundcolor": "white",
            "gridcolor": "rgb(232,232,232)",
            "gridwidth": 2,
            "linecolor": "rgb(36,36,36)",
            "showbackground": true,
            "showgrid": false,
            "showline": true,
            "ticks": "outside",
            "zeroline": false,
            "zerolinecolor": "rgb(36,36,36)"
           }
          },
          "shapedefaults": {
           "fillcolor": "black",
           "line": {
            "width": 0
           },
           "opacity": 0.3
          },
          "ternary": {
           "aaxis": {
            "gridcolor": "rgb(232,232,232)",
            "linecolor": "rgb(36,36,36)",
            "showgrid": false,
            "showline": true,
            "ticks": "outside"
           },
           "baxis": {
            "gridcolor": "rgb(232,232,232)",
            "linecolor": "rgb(36,36,36)",
            "showgrid": false,
            "showline": true,
            "ticks": "outside"
           },
           "bgcolor": "white",
           "caxis": {
            "gridcolor": "rgb(232,232,232)",
            "linecolor": "rgb(36,36,36)",
            "showgrid": false,
            "showline": true,
            "ticks": "outside"
           }
          },
          "title": {
           "x": 0.05
          },
          "xaxis": {
           "automargin": true,
           "gridcolor": "rgb(232,232,232)",
           "linecolor": "rgb(36,36,36)",
           "showgrid": false,
           "showline": true,
           "ticks": "outside",
           "title": {
            "standoff": 15
           },
           "zeroline": false,
           "zerolinecolor": "rgb(36,36,36)"
          },
          "yaxis": {
           "automargin": true,
           "gridcolor": "rgb(232,232,232)",
           "linecolor": "rgb(36,36,36)",
           "showgrid": false,
           "showline": true,
           "ticks": "outside",
           "title": {
            "standoff": 15
           },
           "zeroline": false,
           "zerolinecolor": "rgb(36,36,36)"
          }
         }
        },
        "width": 1024,
        "xaxis": {
         "dtick": 1,
         "title": {
          "text": "Safety"
         }
        },
        "yaxis": {
         "ticksuffix": "",
         "title": {
          "text": "Right Rotations"
         }
        }
       }
      }
     },
     "metadata": {},
     "output_type": "display_data"
    },
    {
     "data": {
      "application/vnd.plotly.v1+json": {
       "config": {
        "plotlyServerURL": "https://plot.ly"
       },
       "data": [
        {
         "marker": {
          "color": "#000000"
         },
         "mode": "markers",
         "name": "Safety X Left Angles",
         "showlegend": false,
         "type": "scatter",
         "x": [
          3,
          3,
          3,
          3,
          3,
          3,
          3,
          3,
          3,
          3,
          3,
          3,
          3,
          3,
          3,
          3,
          3,
          3,
          3,
          3,
          3,
          3,
          3,
          3,
          3,
          3,
          3,
          3,
          3,
          3,
          3,
          3,
          4,
          4,
          4,
          4,
          4,
          4,
          4,
          4,
          4,
          4,
          4,
          4,
          4,
          5,
          5,
          5,
          5,
          5,
          5,
          5,
          5,
          5,
          5,
          5,
          5,
          5,
          5,
          5,
          5,
          5,
          5,
          5,
          5,
          5,
          5,
          5,
          5,
          5,
          5,
          5,
          5,
          5,
          5,
          5,
          5,
          5,
          5,
          5,
          5,
          5,
          5,
          5,
          5,
          5,
          5,
          5,
          5,
          5,
          5,
          5,
          5,
          5,
          5,
          4,
          4,
          4,
          4,
          4,
          4,
          4,
          5,
          5,
          5,
          5,
          5,
          5,
          5,
          5,
          5,
          5,
          5,
          5,
          5,
          5,
          5,
          5,
          5,
          5,
          5,
          5,
          5,
          5,
          5,
          4,
          4,
          4,
          4,
          4,
          4,
          4,
          2,
          2,
          2,
          2,
          2,
          2,
          2,
          2,
          2,
          2,
          2,
          4,
          4,
          4,
          4,
          4,
          4,
          4,
          4,
          4,
          4,
          4,
          4,
          4,
          4,
          4,
          4,
          4,
          4,
          4,
          4,
          4,
          4,
          4,
          4,
          4,
          4,
          4,
          4,
          4,
          4,
          3,
          3,
          3,
          3,
          3,
          3,
          3,
          3,
          3,
          3,
          3,
          3,
          3,
          3,
          3,
          3,
          3,
          3,
          3,
          3,
          3,
          3,
          3,
          3,
          3,
          3,
          3,
          3,
          3,
          3,
          3,
          4,
          4,
          4,
          4,
          4,
          4,
          4,
          3,
          3,
          3,
          3,
          3,
          3,
          3,
          3,
          3,
          3,
          3,
          3,
          3,
          3,
          3,
          3,
          3,
          3,
          3,
          3,
          3,
          3,
          3,
          3,
          3,
          3,
          3,
          3,
          4,
          4,
          4,
          4,
          4,
          4,
          4,
          4,
          4,
          4,
          3,
          3,
          3,
          3,
          3,
          4,
          4,
          4,
          4,
          4,
          4,
          4,
          4,
          4,
          4,
          4,
          4,
          4,
          4,
          4,
          4,
          4,
          4,
          4,
          4,
          4,
          4,
          4,
          4,
          4,
          4,
          4,
          5,
          5,
          5,
          5,
          5,
          5,
          5,
          5,
          5,
          5,
          5,
          5,
          5,
          5,
          5,
          5,
          5,
          5,
          5,
          5,
          5,
          5,
          5,
          5,
          5,
          5,
          5,
          5,
          5,
          5,
          5,
          5,
          5,
          5,
          5,
          5,
          5,
          5,
          5,
          5,
          5,
          5,
          5,
          5,
          5,
          5,
          5,
          5,
          5,
          5,
          5,
          5,
          5,
          5,
          5,
          5,
          5,
          5,
          5,
          5,
          5,
          5,
          5,
          5,
          5,
          5,
          5,
          5,
          5,
          5,
          5,
          5,
          5,
          5,
          5,
          5,
          5,
          5,
          5,
          5,
          5,
          5,
          5,
          5,
          5,
          5,
          5,
          5,
          5,
          5,
          5,
          5,
          5,
          5,
          5,
          5,
          5,
          5,
          5,
          5,
          5,
          5,
          5,
          5,
          5,
          5,
          5,
          5,
          5,
          5,
          5,
          5
         ],
         "y": [
          -47.666526794433594,
          -21.484336853027344,
          -36.794795989990234,
          -52.08001708984375,
          -51.668216705322266,
          -44.17696762084961,
          -40.55561828613281,
          -34.63263702392578,
          -40.531646728515625,
          -42.54372024536133,
          -41.69244384765625,
          -42.9048957824707,
          -43.97016525268555,
          -44.64515686035156,
          -21.19561767578125,
          -22.651601791381836,
          -43.18262481689453,
          -47.14550018310547,
          -30.267179489135742,
          -20.26311683654785,
          -67.28480529785156,
          -67.14232635498047,
          -87.30918884277344,
          -72.42951965332031,
          -70.80634307861328,
          -70.86859130859375,
          -107.44425964355469,
          -117.33729553222656,
          -43.293678283691406,
          -36.36376190185547,
          -57.349266052246094,
          -22.33453941345215,
          -98.76146697998047,
          -88.41048431396484,
          -49.645870208740234,
          -93.32574462890625,
          -29.30659294128418,
          -47.709495544433594,
          -21.661296844482422,
          -28.91233253479004,
          -32.03322219848633,
          -49.77845764160156,
          -42.66351318359375,
          -49.29237365722656,
          -24.09793472290039,
          -69.60320281982422,
          -43.853450775146484,
          -20.250789642333984,
          -27.80133819580078,
          -30.78321075439453,
          -46.92949295043945,
          -24.746618270874023,
          -88.69931030273438,
          -23.954275131225586,
          -23.72650146484375,
          -25.54481315612793,
          -37.90719985961914,
          -20.497570037841797,
          -42.93614196777344,
          -27.87035369873047,
          -29.758010864257812,
          -41.2688102722168,
          -37.337947845458984,
          -36.72073745727539,
          -30.46440315246582,
          -31.06214141845703,
          -60.56392288208008,
          -26.677549362182617,
          -20.265811920166016,
          -25.806743621826172,
          -24.327043533325195,
          -40.79499053955078,
          -36.75479507446289,
          -35.21482849121094,
          -47.43341827392578,
          -57.33213806152344,
          -57.729888916015625,
          -72.64678955078125,
          -66.55276489257812,
          -64.12899017333984,
          -63.40641403198242,
          -25.382492065429688,
          -55.836307525634766,
          -24.32160758972168,
          -46.622920989990234,
          -51.435333251953125,
          -23.947940826416016,
          -37.49431610107422,
          -59.1222038269043,
          -38.351341247558594,
          -48.7518424987793,
          -34.124794006347656,
          -70.91096496582031,
          -56.6480712890625,
          -55.06576919555664,
          -74.47863006591797,
          -66.48492431640625,
          -70.85111999511719,
          -24.08404541015625,
          -25.652376174926758,
          -23.795825958251953,
          -39.9722785949707,
          -76.22904968261719,
          -36.36790466308594,
          -25.718503952026367,
          -30.800867080688477,
          -42.472530364990234,
          -21.359464645385742,
          -79.26457977294922,
          -21.87656021118164,
          -24.1875,
          -62.70814895629883,
          -76.25226593017578,
          -93.99514770507812,
          -55.89223861694336,
          -23.2946834564209,
          -58.42012405395508,
          -62.31448745727539,
          -72.19010162353516,
          -46.059051513671875,
          -35.68299102783203,
          -62.874351501464844,
          -49.13117599487305,
          -32.49879837036133,
          -47.78541946411133,
          -20.111499786376953,
          -49.19326400756836,
          -25.851306915283203,
          -46.56504821777344,
          -22.68629264831543,
          -53.7322998046875,
          -33.834110260009766,
          -79.10801696777344,
          -33.09008026123047,
          -20.200084686279297,
          -100.48797607421875,
          -28.305498123168945,
          -21.001073837280273,
          -33.67699432373047,
          -33.46222686767578,
          -34.06425094604492,
          -80.84832000732422,
          -23.009248733520508,
          -36.07480239868164,
          -42.35624694824219,
          -126.48091125488281,
          -81.86786651611328,
          -52.749847412109375,
          -33.073421478271484,
          -25.34535026550293,
          -64.84943389892578,
          -45.4056396484375,
          -21.288436889648438,
          -20.373600006103516,
          -27.635095596313477,
          -76.70243072509766,
          -98.96235656738281,
          -36.03885269165039,
          -53.45205307006836,
          -36.62709426879883,
          -32.61851119995117,
          -21.614282608032227,
          -89.00562286376953,
          -21.262483596801758,
          -37.99697494506836,
          -100.37846374511719,
          -102.0451431274414,
          -69.77191925048828,
          -39.31749725341797,
          -52.31996536254883,
          -21.4235897064209,
          -45.92110824584961,
          -53.26644515991211,
          -56.629859924316406,
          -61.03288269042969,
          -39.7336311340332,
          -78.63274383544922,
          -38.512943267822266,
          -61.21343231201172,
          -70.42141723632812,
          -92.27782440185547,
          -96.12755584716797,
          -62.08799743652344,
          -39.28007888793945,
          -38.80401611328125,
          -67.2330322265625,
          -102.31486511230469,
          -61.53478240966797,
          -26.84272003173828,
          -62.94279861450195,
          -26.000810623168945,
          -60.798038482666016,
          -35.9769287109375,
          -40.47431564331055,
          -38.455780029296875,
          -39.4749870300293,
          -49.93796920776367,
          -52.29314041137695,
          -21.029985427856445,
          -26.969722747802734,
          -47.74819564819336,
          -62.361602783203125,
          -46.45425796508789,
          -20.389081954956055,
          -22.232223510742188,
          -45.74385070800781,
          -37.851051330566406,
          -41.021087646484375,
          -59.32514572143555,
          -84.78738403320312,
          -64.70120239257812,
          -57.0521354675293,
          -63.29587936401367,
          -47.92859649658203,
          -20.440696716308594,
          -31.895008087158203,
          -26.515199661254883,
          -36.640804290771484,
          -32.765380859375,
          -21.26105499267578,
          -20.41128921508789,
          -36.01387023925781,
          -42.11653137207031,
          -24.157033920288086,
          -39.559383392333984,
          -23.765403747558594,
          -49.13495635986328,
          -84.98915100097656,
          -34.22925567626953,
          -56.47740936279297,
          -63.06930923461914,
          -46.16357421875,
          -58.11908721923828,
          -45.25000762939453,
          -39.59261703491211,
          -39.779090881347656,
          -68.0080795288086,
          -64.59273529052734,
          -24.282115936279297,
          -29.410398483276367,
          -32.70701217651367,
          -42.155311584472656,
          -96.25011444091797,
          -38.40529251098633,
          -55.020633697509766,
          -30.85947608947754,
          -36.37262725830078,
          -27.617107391357422,
          -50.84975051879883,
          -80.93260955810547,
          -37.41346740722656,
          -88.94500732421875,
          -21.647489547729492,
          -22.3696346282959,
          -43.628562927246094,
          -33.33858871459961,
          -56.813316345214844,
          -20.200359344482422,
          -80.74800872802734,
          -23.596817016601562,
          -30.56528663635254,
          -34.561317443847656,
          -48.28153991699219,
          -22.459667205810547,
          -46.36096954345703,
          -50.33646774291992,
          -51.195770263671875,
          -51.6278190612793,
          -47.11191940307617,
          -50.45098114013672,
          -43.53103256225586,
          -45.32652282714844,
          -26.398746490478516,
          -20.51887321472168,
          -87.34780883789062,
          -48.994937896728516,
          -106.83561706542969,
          -23.047109603881836,
          -38.52191162109375,
          -34.54970932006836,
          -56.384029388427734,
          -90.17524719238281,
          -28.13671112060547,
          -33.53044891357422,
          -33.84953308105469,
          -72.91547393798828,
          -52.58467483520508,
          -47.21274185180664,
          -62.328121185302734,
          -65.58775329589844,
          -80.13521575927734,
          -32.24687576293945,
          -63.008514404296875,
          -87.40037536621094,
          -45.96516418457031,
          -77.57595825195312,
          -57.91930389404297,
          -37.488651275634766,
          -48.179874420166016,
          -54.31241226196289,
          -64.29418182373047,
          -60.21290969848633,
          -55.22676086425781,
          -76.22150421142578,
          -26.938671112060547,
          -95.06999969482422,
          -36.20745849609375,
          -35.08584213256836,
          -91.92755126953125,
          -94.32137298583984,
          -49.935020446777344,
          -25.287824630737305,
          -36.38284683227539,
          -43.88005828857422,
          -21.851730346679688,
          -62.46355438232422,
          -63.03584671020508,
          -57.683406829833984,
          -60.569190979003906,
          -21.835725784301758,
          -55.68415832519531,
          -67.6316909790039,
          -60.14436340332031,
          -93.4038314819336,
          -36.60471725463867,
          -59.0208625793457,
          -59.804203033447266,
          -73.7621841430664,
          -92.2616958618164,
          -71.10051727294922,
          -33.15530776977539,
          -57.787776947021484,
          -26.87387466430664,
          -63.193668365478516,
          -27.776948928833008,
          -37.35963439941406,
          -47.05863571166992,
          -54.047630310058594,
          -45.38882064819336,
          -83.78319549560547,
          -32.589515686035156,
          -21.693988800048828,
          -20.911314010620117,
          -51.811283111572266,
          -38.31684112548828,
          -26.550048828125,
          -49.21003341674805,
          -51.14552688598633,
          -29.56390380859375,
          -21.985158920288086,
          -20.8553524017334,
          -41.134490966796875,
          -32.676536560058594,
          -45.99222183227539,
          -58.85171127319336,
          -46.6821174621582,
          -20.68837547302246,
          -47.7024040222168,
          -21.73375129699707,
          -123.4444580078125,
          -28.17323112487793,
          -36.532310485839844,
          -113.36212158203125,
          -22.652910232543945,
          -49.83147048950195,
          -26.97781753540039,
          -32.25593948364258,
          -65.08733367919922,
          -87.66224670410156,
          -79.4736328125,
          -69.27359771728516,
          -20.219133377075195,
          -98.14337158203125,
          -32.20651626586914,
          -21.84103012084961,
          -80.16746520996094,
          -87.07392120361328,
          -70.31099700927734,
          -63.458831787109375,
          -103.50304412841797,
          -52.1144905090332,
          -71.31498718261719,
          -45.22321701049805,
          -20.710725784301758,
          -65.7237319946289,
          -25.51755714416504,
          -99.66796112060547,
          -61.01495361328125,
          -56.907142639160156,
          -46.309391021728516,
          -67.21751403808594,
          -24.24735450744629,
          -23.74151611328125
         ]
        },
        {
         "hovertemplate": "<b>OLS trendline</b><br>y = -0.869341 * x + -45.0774<br>R<sup>2</sup>=0.001188<br><br>x=%{x}<br>y=%{y} <b>(trend)</b><extra></extra>",
         "legendgroup": "",
         "marker": {
          "color": "#961C26",
          "symbol": "circle"
         },
         "mode": "lines",
         "name": "",
         "showlegend": false,
         "type": "scatter",
         "x": [
          2,
          2,
          2,
          2,
          2,
          2,
          2,
          2,
          2,
          2,
          2,
          3,
          3,
          3,
          3,
          3,
          3,
          3,
          3,
          3,
          3,
          3,
          3,
          3,
          3,
          3,
          3,
          3,
          3,
          3,
          3,
          3,
          3,
          3,
          3,
          3,
          3,
          3,
          3,
          3,
          3,
          3,
          3,
          3,
          3,
          3,
          3,
          3,
          3,
          3,
          3,
          3,
          3,
          3,
          3,
          3,
          3,
          3,
          3,
          3,
          3,
          3,
          3,
          3,
          3,
          3,
          3,
          3,
          3,
          3,
          3,
          3,
          3,
          3,
          3,
          3,
          3,
          3,
          3,
          3,
          3,
          3,
          3,
          3,
          3,
          3,
          3,
          3,
          3,
          3,
          3,
          3,
          3,
          3,
          3,
          3,
          3,
          3,
          3,
          3,
          3,
          3,
          3,
          3,
          3,
          3,
          3,
          4,
          4,
          4,
          4,
          4,
          4,
          4,
          4,
          4,
          4,
          4,
          4,
          4,
          4,
          4,
          4,
          4,
          4,
          4,
          4,
          4,
          4,
          4,
          4,
          4,
          4,
          4,
          4,
          4,
          4,
          4,
          4,
          4,
          4,
          4,
          4,
          4,
          4,
          4,
          4,
          4,
          4,
          4,
          4,
          4,
          4,
          4,
          4,
          4,
          4,
          4,
          4,
          4,
          4,
          4,
          4,
          4,
          4,
          4,
          4,
          4,
          4,
          4,
          4,
          4,
          4,
          4,
          4,
          4,
          4,
          4,
          4,
          4,
          4,
          4,
          4,
          4,
          4,
          4,
          4,
          4,
          4,
          4,
          4,
          4,
          4,
          4,
          4,
          4,
          4,
          4,
          4,
          4,
          4,
          4,
          4,
          4,
          4,
          4,
          4,
          4,
          5,
          5,
          5,
          5,
          5,
          5,
          5,
          5,
          5,
          5,
          5,
          5,
          5,
          5,
          5,
          5,
          5,
          5,
          5,
          5,
          5,
          5,
          5,
          5,
          5,
          5,
          5,
          5,
          5,
          5,
          5,
          5,
          5,
          5,
          5,
          5,
          5,
          5,
          5,
          5,
          5,
          5,
          5,
          5,
          5,
          5,
          5,
          5,
          5,
          5,
          5,
          5,
          5,
          5,
          5,
          5,
          5,
          5,
          5,
          5,
          5,
          5,
          5,
          5,
          5,
          5,
          5,
          5,
          5,
          5,
          5,
          5,
          5,
          5,
          5,
          5,
          5,
          5,
          5,
          5,
          5,
          5,
          5,
          5,
          5,
          5,
          5,
          5,
          5,
          5,
          5,
          5,
          5,
          5,
          5,
          5,
          5,
          5,
          5,
          5,
          5,
          5,
          5,
          5,
          5,
          5,
          5,
          5,
          5,
          5,
          5,
          5,
          5,
          5,
          5,
          5,
          5,
          5,
          5,
          5,
          5,
          5,
          5,
          5,
          5,
          5,
          5,
          5,
          5,
          5,
          5,
          5,
          5,
          5,
          5,
          5,
          5,
          5,
          5,
          5,
          5,
          5,
          5,
          5,
          5,
          5,
          5,
          5,
          5,
          5,
          5,
          5,
          5,
          5,
          5,
          5,
          5,
          5,
          5,
          5,
          5,
          5,
          5,
          5,
          5,
          5,
          5,
          5,
          5,
          5,
          5,
          5,
          5,
          5,
          5,
          5,
          5,
          5,
          5,
          5,
          5,
          5,
          5,
          5,
          5
         ],
         "xaxis": "x",
         "y": [
          -46.81606380652149,
          -46.81606380652149,
          -46.81606380652149,
          -46.81606380652149,
          -46.81606380652149,
          -46.81606380652149,
          -46.81606380652149,
          -46.81606380652149,
          -46.81606380652149,
          -46.81606380652149,
          -46.81606380652149,
          -47.68540486150617,
          -47.68540486150617,
          -47.68540486150617,
          -47.68540486150617,
          -47.68540486150617,
          -47.68540486150617,
          -47.68540486150617,
          -47.68540486150617,
          -47.68540486150617,
          -47.68540486150617,
          -47.68540486150617,
          -47.68540486150617,
          -47.68540486150617,
          -47.68540486150617,
          -47.68540486150617,
          -47.68540486150617,
          -47.68540486150617,
          -47.68540486150617,
          -47.68540486150617,
          -47.68540486150617,
          -47.68540486150617,
          -47.68540486150617,
          -47.68540486150617,
          -47.68540486150617,
          -47.68540486150617,
          -47.68540486150617,
          -47.68540486150617,
          -47.68540486150617,
          -47.68540486150617,
          -47.68540486150617,
          -47.68540486150617,
          -47.68540486150617,
          -47.68540486150617,
          -47.68540486150617,
          -47.68540486150617,
          -47.68540486150617,
          -47.68540486150617,
          -47.68540486150617,
          -47.68540486150617,
          -47.68540486150617,
          -47.68540486150617,
          -47.68540486150617,
          -47.68540486150617,
          -47.68540486150617,
          -47.68540486150617,
          -47.68540486150617,
          -47.68540486150617,
          -47.68540486150617,
          -47.68540486150617,
          -47.68540486150617,
          -47.68540486150617,
          -47.68540486150617,
          -47.68540486150617,
          -47.68540486150617,
          -47.68540486150617,
          -47.68540486150617,
          -47.68540486150617,
          -47.68540486150617,
          -47.68540486150617,
          -47.68540486150617,
          -47.68540486150617,
          -47.68540486150617,
          -47.68540486150617,
          -47.68540486150617,
          -47.68540486150617,
          -47.68540486150617,
          -47.68540486150617,
          -47.68540486150617,
          -47.68540486150617,
          -47.68540486150617,
          -47.68540486150617,
          -47.68540486150617,
          -47.68540486150617,
          -47.68540486150617,
          -47.68540486150617,
          -47.68540486150617,
          -47.68540486150617,
          -47.68540486150617,
          -47.68540486150617,
          -47.68540486150617,
          -47.68540486150617,
          -47.68540486150617,
          -47.68540486150617,
          -47.68540486150617,
          -47.68540486150617,
          -47.68540486150617,
          -47.68540486150617,
          -47.68540486150617,
          -47.68540486150617,
          -47.68540486150617,
          -47.68540486150617,
          -47.68540486150617,
          -47.68540486150617,
          -47.68540486150617,
          -47.68540486150617,
          -47.68540486150617,
          -48.55474591649085,
          -48.55474591649085,
          -48.55474591649085,
          -48.55474591649085,
          -48.55474591649085,
          -48.55474591649085,
          -48.55474591649085,
          -48.55474591649085,
          -48.55474591649085,
          -48.55474591649085,
          -48.55474591649085,
          -48.55474591649085,
          -48.55474591649085,
          -48.55474591649085,
          -48.55474591649085,
          -48.55474591649085,
          -48.55474591649085,
          -48.55474591649085,
          -48.55474591649085,
          -48.55474591649085,
          -48.55474591649085,
          -48.55474591649085,
          -48.55474591649085,
          -48.55474591649085,
          -48.55474591649085,
          -48.55474591649085,
          -48.55474591649085,
          -48.55474591649085,
          -48.55474591649085,
          -48.55474591649085,
          -48.55474591649085,
          -48.55474591649085,
          -48.55474591649085,
          -48.55474591649085,
          -48.55474591649085,
          -48.55474591649085,
          -48.55474591649085,
          -48.55474591649085,
          -48.55474591649085,
          -48.55474591649085,
          -48.55474591649085,
          -48.55474591649085,
          -48.55474591649085,
          -48.55474591649085,
          -48.55474591649085,
          -48.55474591649085,
          -48.55474591649085,
          -48.55474591649085,
          -48.55474591649085,
          -48.55474591649085,
          -48.55474591649085,
          -48.55474591649085,
          -48.55474591649085,
          -48.55474591649085,
          -48.55474591649085,
          -48.55474591649085,
          -48.55474591649085,
          -48.55474591649085,
          -48.55474591649085,
          -48.55474591649085,
          -48.55474591649085,
          -48.55474591649085,
          -48.55474591649085,
          -48.55474591649085,
          -48.55474591649085,
          -48.55474591649085,
          -48.55474591649085,
          -48.55474591649085,
          -48.55474591649085,
          -48.55474591649085,
          -48.55474591649085,
          -48.55474591649085,
          -48.55474591649085,
          -48.55474591649085,
          -48.55474591649085,
          -48.55474591649085,
          -48.55474591649085,
          -48.55474591649085,
          -48.55474591649085,
          -48.55474591649085,
          -48.55474591649085,
          -48.55474591649085,
          -48.55474591649085,
          -48.55474591649085,
          -48.55474591649085,
          -48.55474591649085,
          -48.55474591649085,
          -48.55474591649085,
          -48.55474591649085,
          -48.55474591649085,
          -48.55474591649085,
          -48.55474591649085,
          -48.55474591649085,
          -48.55474591649085,
          -48.55474591649085,
          -48.55474591649085,
          -48.55474591649085,
          -48.55474591649085,
          -48.55474591649085,
          -48.55474591649085,
          -48.55474591649085,
          -49.424086971475525,
          -49.424086971475525,
          -49.424086971475525,
          -49.424086971475525,
          -49.424086971475525,
          -49.424086971475525,
          -49.424086971475525,
          -49.424086971475525,
          -49.424086971475525,
          -49.424086971475525,
          -49.424086971475525,
          -49.424086971475525,
          -49.424086971475525,
          -49.424086971475525,
          -49.424086971475525,
          -49.424086971475525,
          -49.424086971475525,
          -49.424086971475525,
          -49.424086971475525,
          -49.424086971475525,
          -49.424086971475525,
          -49.424086971475525,
          -49.424086971475525,
          -49.424086971475525,
          -49.424086971475525,
          -49.424086971475525,
          -49.424086971475525,
          -49.424086971475525,
          -49.424086971475525,
          -49.424086971475525,
          -49.424086971475525,
          -49.424086971475525,
          -49.424086971475525,
          -49.424086971475525,
          -49.424086971475525,
          -49.424086971475525,
          -49.424086971475525,
          -49.424086971475525,
          -49.424086971475525,
          -49.424086971475525,
          -49.424086971475525,
          -49.424086971475525,
          -49.424086971475525,
          -49.424086971475525,
          -49.424086971475525,
          -49.424086971475525,
          -49.424086971475525,
          -49.424086971475525,
          -49.424086971475525,
          -49.424086971475525,
          -49.424086971475525,
          -49.424086971475525,
          -49.424086971475525,
          -49.424086971475525,
          -49.424086971475525,
          -49.424086971475525,
          -49.424086971475525,
          -49.424086971475525,
          -49.424086971475525,
          -49.424086971475525,
          -49.424086971475525,
          -49.424086971475525,
          -49.424086971475525,
          -49.424086971475525,
          -49.424086971475525,
          -49.424086971475525,
          -49.424086971475525,
          -49.424086971475525,
          -49.424086971475525,
          -49.424086971475525,
          -49.424086971475525,
          -49.424086971475525,
          -49.424086971475525,
          -49.424086971475525,
          -49.424086971475525,
          -49.424086971475525,
          -49.424086971475525,
          -49.424086971475525,
          -49.424086971475525,
          -49.424086971475525,
          -49.424086971475525,
          -49.424086971475525,
          -49.424086971475525,
          -49.424086971475525,
          -49.424086971475525,
          -49.424086971475525,
          -49.424086971475525,
          -49.424086971475525,
          -49.424086971475525,
          -49.424086971475525,
          -49.424086971475525,
          -49.424086971475525,
          -49.424086971475525,
          -49.424086971475525,
          -49.424086971475525,
          -49.424086971475525,
          -49.424086971475525,
          -49.424086971475525,
          -49.424086971475525,
          -49.424086971475525,
          -49.424086971475525,
          -49.424086971475525,
          -49.424086971475525,
          -49.424086971475525,
          -49.424086971475525,
          -49.424086971475525,
          -49.424086971475525,
          -49.424086971475525,
          -49.424086971475525,
          -49.424086971475525,
          -49.424086971475525,
          -49.424086971475525,
          -49.424086971475525,
          -49.424086971475525,
          -49.424086971475525,
          -49.424086971475525,
          -49.424086971475525,
          -49.424086971475525,
          -49.424086971475525,
          -49.424086971475525,
          -49.424086971475525,
          -49.424086971475525,
          -49.424086971475525,
          -49.424086971475525,
          -49.424086971475525,
          -49.424086971475525,
          -49.424086971475525,
          -49.424086971475525,
          -49.424086971475525,
          -49.424086971475525,
          -49.424086971475525,
          -49.424086971475525,
          -49.424086971475525,
          -49.424086971475525,
          -49.424086971475525,
          -49.424086971475525,
          -49.424086971475525,
          -49.424086971475525,
          -49.424086971475525,
          -49.424086971475525,
          -49.424086971475525,
          -49.424086971475525,
          -49.424086971475525,
          -49.424086971475525,
          -49.424086971475525,
          -49.424086971475525,
          -49.424086971475525,
          -49.424086971475525,
          -49.424086971475525,
          -49.424086971475525,
          -49.424086971475525,
          -49.424086971475525,
          -49.424086971475525,
          -49.424086971475525,
          -49.424086971475525,
          -49.424086971475525,
          -49.424086971475525,
          -49.424086971475525,
          -49.424086971475525,
          -49.424086971475525,
          -49.424086971475525,
          -49.424086971475525,
          -49.424086971475525,
          -49.424086971475525,
          -49.424086971475525,
          -49.424086971475525,
          -49.424086971475525,
          -49.424086971475525,
          -49.424086971475525,
          -49.424086971475525,
          -49.424086971475525,
          -49.424086971475525,
          -49.424086971475525,
          -49.424086971475525,
          -49.424086971475525,
          -49.424086971475525,
          -49.424086971475525,
          -49.424086971475525,
          -49.424086971475525,
          -49.424086971475525,
          -49.424086971475525,
          -49.424086971475525,
          -49.424086971475525,
          -49.424086971475525,
          -49.424086971475525
         ],
         "yaxis": "y"
        }
       ],
       "layout": {
        "font": {
         "family": "Lato, sans-serif",
         "size": 14
        },
        "height": 768,
        "hoverlabel": {
         "font": {
          "family": "Lato, sans-serif",
          "size": 13
         }
        },
        "hovermode": "y unified",
        "legend": {
         "orientation": "h",
         "x": 0.5,
         "xanchor": "center",
         "y": 1,
         "yanchor": "bottom"
        },
        "margin": {
         "b": 0,
         "l": 70,
         "r": 40,
         "t": 20
        },
        "paper_bgcolor": "rgba(0,0,0,0)",
        "plot_bgcolor": "rgba(0,0,0,0)",
        "template": {
         "data": {
          "bar": [
           {
            "error_x": {
             "color": "rgb(36,36,36)"
            },
            "error_y": {
             "color": "rgb(36,36,36)"
            },
            "marker": {
             "line": {
              "color": "white",
              "width": 0.5
             },
             "pattern": {
              "fillmode": "overlay",
              "size": 10,
              "solidity": 0.2
             }
            },
            "type": "bar"
           }
          ],
          "barpolar": [
           {
            "marker": {
             "line": {
              "color": "white",
              "width": 0.5
             },
             "pattern": {
              "fillmode": "overlay",
              "size": 10,
              "solidity": 0.2
             }
            },
            "type": "barpolar"
           }
          ],
          "carpet": [
           {
            "aaxis": {
             "endlinecolor": "rgb(36,36,36)",
             "gridcolor": "white",
             "linecolor": "white",
             "minorgridcolor": "white",
             "startlinecolor": "rgb(36,36,36)"
            },
            "baxis": {
             "endlinecolor": "rgb(36,36,36)",
             "gridcolor": "white",
             "linecolor": "white",
             "minorgridcolor": "white",
             "startlinecolor": "rgb(36,36,36)"
            },
            "type": "carpet"
           }
          ],
          "choropleth": [
           {
            "colorbar": {
             "outlinewidth": 1,
             "tickcolor": "rgb(36,36,36)",
             "ticks": "outside"
            },
            "type": "choropleth"
           }
          ],
          "contour": [
           {
            "colorbar": {
             "outlinewidth": 1,
             "tickcolor": "rgb(36,36,36)",
             "ticks": "outside"
            },
            "colorscale": [
             [
              0,
              "#440154"
             ],
             [
              0.1111111111111111,
              "#482878"
             ],
             [
              0.2222222222222222,
              "#3e4989"
             ],
             [
              0.3333333333333333,
              "#31688e"
             ],
             [
              0.4444444444444444,
              "#26828e"
             ],
             [
              0.5555555555555556,
              "#1f9e89"
             ],
             [
              0.6666666666666666,
              "#35b779"
             ],
             [
              0.7777777777777778,
              "#6ece58"
             ],
             [
              0.8888888888888888,
              "#b5de2b"
             ],
             [
              1,
              "#fde725"
             ]
            ],
            "type": "contour"
           }
          ],
          "contourcarpet": [
           {
            "colorbar": {
             "outlinewidth": 1,
             "tickcolor": "rgb(36,36,36)",
             "ticks": "outside"
            },
            "type": "contourcarpet"
           }
          ],
          "heatmap": [
           {
            "colorbar": {
             "outlinewidth": 1,
             "tickcolor": "rgb(36,36,36)",
             "ticks": "outside"
            },
            "colorscale": [
             [
              0,
              "#440154"
             ],
             [
              0.1111111111111111,
              "#482878"
             ],
             [
              0.2222222222222222,
              "#3e4989"
             ],
             [
              0.3333333333333333,
              "#31688e"
             ],
             [
              0.4444444444444444,
              "#26828e"
             ],
             [
              0.5555555555555556,
              "#1f9e89"
             ],
             [
              0.6666666666666666,
              "#35b779"
             ],
             [
              0.7777777777777778,
              "#6ece58"
             ],
             [
              0.8888888888888888,
              "#b5de2b"
             ],
             [
              1,
              "#fde725"
             ]
            ],
            "type": "heatmap"
           }
          ],
          "heatmapgl": [
           {
            "colorbar": {
             "outlinewidth": 1,
             "tickcolor": "rgb(36,36,36)",
             "ticks": "outside"
            },
            "colorscale": [
             [
              0,
              "#440154"
             ],
             [
              0.1111111111111111,
              "#482878"
             ],
             [
              0.2222222222222222,
              "#3e4989"
             ],
             [
              0.3333333333333333,
              "#31688e"
             ],
             [
              0.4444444444444444,
              "#26828e"
             ],
             [
              0.5555555555555556,
              "#1f9e89"
             ],
             [
              0.6666666666666666,
              "#35b779"
             ],
             [
              0.7777777777777778,
              "#6ece58"
             ],
             [
              0.8888888888888888,
              "#b5de2b"
             ],
             [
              1,
              "#fde725"
             ]
            ],
            "type": "heatmapgl"
           }
          ],
          "histogram": [
           {
            "marker": {
             "line": {
              "color": "white",
              "width": 0.6
             }
            },
            "type": "histogram"
           }
          ],
          "histogram2d": [
           {
            "colorbar": {
             "outlinewidth": 1,
             "tickcolor": "rgb(36,36,36)",
             "ticks": "outside"
            },
            "colorscale": [
             [
              0,
              "#440154"
             ],
             [
              0.1111111111111111,
              "#482878"
             ],
             [
              0.2222222222222222,
              "#3e4989"
             ],
             [
              0.3333333333333333,
              "#31688e"
             ],
             [
              0.4444444444444444,
              "#26828e"
             ],
             [
              0.5555555555555556,
              "#1f9e89"
             ],
             [
              0.6666666666666666,
              "#35b779"
             ],
             [
              0.7777777777777778,
              "#6ece58"
             ],
             [
              0.8888888888888888,
              "#b5de2b"
             ],
             [
              1,
              "#fde725"
             ]
            ],
            "type": "histogram2d"
           }
          ],
          "histogram2dcontour": [
           {
            "colorbar": {
             "outlinewidth": 1,
             "tickcolor": "rgb(36,36,36)",
             "ticks": "outside"
            },
            "colorscale": [
             [
              0,
              "#440154"
             ],
             [
              0.1111111111111111,
              "#482878"
             ],
             [
              0.2222222222222222,
              "#3e4989"
             ],
             [
              0.3333333333333333,
              "#31688e"
             ],
             [
              0.4444444444444444,
              "#26828e"
             ],
             [
              0.5555555555555556,
              "#1f9e89"
             ],
             [
              0.6666666666666666,
              "#35b779"
             ],
             [
              0.7777777777777778,
              "#6ece58"
             ],
             [
              0.8888888888888888,
              "#b5de2b"
             ],
             [
              1,
              "#fde725"
             ]
            ],
            "type": "histogram2dcontour"
           }
          ],
          "mesh3d": [
           {
            "colorbar": {
             "outlinewidth": 1,
             "tickcolor": "rgb(36,36,36)",
             "ticks": "outside"
            },
            "type": "mesh3d"
           }
          ],
          "parcoords": [
           {
            "line": {
             "colorbar": {
              "outlinewidth": 1,
              "tickcolor": "rgb(36,36,36)",
              "ticks": "outside"
             }
            },
            "type": "parcoords"
           }
          ],
          "pie": [
           {
            "automargin": true,
            "type": "pie"
           }
          ],
          "scatter": [
           {
            "fillpattern": {
             "fillmode": "overlay",
             "size": 10,
             "solidity": 0.2
            },
            "type": "scatter"
           }
          ],
          "scatter3d": [
           {
            "line": {
             "colorbar": {
              "outlinewidth": 1,
              "tickcolor": "rgb(36,36,36)",
              "ticks": "outside"
             }
            },
            "marker": {
             "colorbar": {
              "outlinewidth": 1,
              "tickcolor": "rgb(36,36,36)",
              "ticks": "outside"
             }
            },
            "type": "scatter3d"
           }
          ],
          "scattercarpet": [
           {
            "marker": {
             "colorbar": {
              "outlinewidth": 1,
              "tickcolor": "rgb(36,36,36)",
              "ticks": "outside"
             }
            },
            "type": "scattercarpet"
           }
          ],
          "scattergeo": [
           {
            "marker": {
             "colorbar": {
              "outlinewidth": 1,
              "tickcolor": "rgb(36,36,36)",
              "ticks": "outside"
             }
            },
            "type": "scattergeo"
           }
          ],
          "scattergl": [
           {
            "marker": {
             "colorbar": {
              "outlinewidth": 1,
              "tickcolor": "rgb(36,36,36)",
              "ticks": "outside"
             }
            },
            "type": "scattergl"
           }
          ],
          "scattermapbox": [
           {
            "marker": {
             "colorbar": {
              "outlinewidth": 1,
              "tickcolor": "rgb(36,36,36)",
              "ticks": "outside"
             }
            },
            "type": "scattermapbox"
           }
          ],
          "scatterpolar": [
           {
            "marker": {
             "colorbar": {
              "outlinewidth": 1,
              "tickcolor": "rgb(36,36,36)",
              "ticks": "outside"
             }
            },
            "type": "scatterpolar"
           }
          ],
          "scatterpolargl": [
           {
            "marker": {
             "colorbar": {
              "outlinewidth": 1,
              "tickcolor": "rgb(36,36,36)",
              "ticks": "outside"
             }
            },
            "type": "scatterpolargl"
           }
          ],
          "scatterternary": [
           {
            "marker": {
             "colorbar": {
              "outlinewidth": 1,
              "tickcolor": "rgb(36,36,36)",
              "ticks": "outside"
             }
            },
            "type": "scatterternary"
           }
          ],
          "surface": [
           {
            "colorbar": {
             "outlinewidth": 1,
             "tickcolor": "rgb(36,36,36)",
             "ticks": "outside"
            },
            "colorscale": [
             [
              0,
              "#440154"
             ],
             [
              0.1111111111111111,
              "#482878"
             ],
             [
              0.2222222222222222,
              "#3e4989"
             ],
             [
              0.3333333333333333,
              "#31688e"
             ],
             [
              0.4444444444444444,
              "#26828e"
             ],
             [
              0.5555555555555556,
              "#1f9e89"
             ],
             [
              0.6666666666666666,
              "#35b779"
             ],
             [
              0.7777777777777778,
              "#6ece58"
             ],
             [
              0.8888888888888888,
              "#b5de2b"
             ],
             [
              1,
              "#fde725"
             ]
            ],
            "type": "surface"
           }
          ],
          "table": [
           {
            "cells": {
             "fill": {
              "color": "rgb(237,237,237)"
             },
             "line": {
              "color": "white"
             }
            },
            "header": {
             "fill": {
              "color": "rgb(217,217,217)"
             },
             "line": {
              "color": "white"
             }
            },
            "type": "table"
           }
          ]
         },
         "layout": {
          "annotationdefaults": {
           "arrowhead": 0,
           "arrowwidth": 1
          },
          "autotypenumbers": "strict",
          "coloraxis": {
           "colorbar": {
            "outlinewidth": 1,
            "tickcolor": "rgb(36,36,36)",
            "ticks": "outside"
           }
          },
          "colorscale": {
           "diverging": [
            [
             0,
             "rgb(103,0,31)"
            ],
            [
             0.1,
             "rgb(178,24,43)"
            ],
            [
             0.2,
             "rgb(214,96,77)"
            ],
            [
             0.3,
             "rgb(244,165,130)"
            ],
            [
             0.4,
             "rgb(253,219,199)"
            ],
            [
             0.5,
             "rgb(247,247,247)"
            ],
            [
             0.6,
             "rgb(209,229,240)"
            ],
            [
             0.7,
             "rgb(146,197,222)"
            ],
            [
             0.8,
             "rgb(67,147,195)"
            ],
            [
             0.9,
             "rgb(33,102,172)"
            ],
            [
             1,
             "rgb(5,48,97)"
            ]
           ],
           "sequential": [
            [
             0,
             "#440154"
            ],
            [
             0.1111111111111111,
             "#482878"
            ],
            [
             0.2222222222222222,
             "#3e4989"
            ],
            [
             0.3333333333333333,
             "#31688e"
            ],
            [
             0.4444444444444444,
             "#26828e"
            ],
            [
             0.5555555555555556,
             "#1f9e89"
            ],
            [
             0.6666666666666666,
             "#35b779"
            ],
            [
             0.7777777777777778,
             "#6ece58"
            ],
            [
             0.8888888888888888,
             "#b5de2b"
            ],
            [
             1,
             "#fde725"
            ]
           ],
           "sequentialminus": [
            [
             0,
             "#440154"
            ],
            [
             0.1111111111111111,
             "#482878"
            ],
            [
             0.2222222222222222,
             "#3e4989"
            ],
            [
             0.3333333333333333,
             "#31688e"
            ],
            [
             0.4444444444444444,
             "#26828e"
            ],
            [
             0.5555555555555556,
             "#1f9e89"
            ],
            [
             0.6666666666666666,
             "#35b779"
            ],
            [
             0.7777777777777778,
             "#6ece58"
            ],
            [
             0.8888888888888888,
             "#b5de2b"
            ],
            [
             1,
             "#fde725"
            ]
           ]
          },
          "colorway": [
           "#1F77B4",
           "#FF7F0E",
           "#2CA02C",
           "#D62728",
           "#9467BD",
           "#8C564B",
           "#E377C2",
           "#7F7F7F",
           "#BCBD22",
           "#17BECF"
          ],
          "font": {
           "color": "rgb(36,36,36)"
          },
          "geo": {
           "bgcolor": "white",
           "lakecolor": "white",
           "landcolor": "white",
           "showlakes": true,
           "showland": true,
           "subunitcolor": "white"
          },
          "hoverlabel": {
           "align": "left"
          },
          "hovermode": "closest",
          "mapbox": {
           "style": "light"
          },
          "paper_bgcolor": "white",
          "plot_bgcolor": "white",
          "polar": {
           "angularaxis": {
            "gridcolor": "rgb(232,232,232)",
            "linecolor": "rgb(36,36,36)",
            "showgrid": false,
            "showline": true,
            "ticks": "outside"
           },
           "bgcolor": "white",
           "radialaxis": {
            "gridcolor": "rgb(232,232,232)",
            "linecolor": "rgb(36,36,36)",
            "showgrid": false,
            "showline": true,
            "ticks": "outside"
           }
          },
          "scene": {
           "xaxis": {
            "backgroundcolor": "white",
            "gridcolor": "rgb(232,232,232)",
            "gridwidth": 2,
            "linecolor": "rgb(36,36,36)",
            "showbackground": true,
            "showgrid": false,
            "showline": true,
            "ticks": "outside",
            "zeroline": false,
            "zerolinecolor": "rgb(36,36,36)"
           },
           "yaxis": {
            "backgroundcolor": "white",
            "gridcolor": "rgb(232,232,232)",
            "gridwidth": 2,
            "linecolor": "rgb(36,36,36)",
            "showbackground": true,
            "showgrid": false,
            "showline": true,
            "ticks": "outside",
            "zeroline": false,
            "zerolinecolor": "rgb(36,36,36)"
           },
           "zaxis": {
            "backgroundcolor": "white",
            "gridcolor": "rgb(232,232,232)",
            "gridwidth": 2,
            "linecolor": "rgb(36,36,36)",
            "showbackground": true,
            "showgrid": false,
            "showline": true,
            "ticks": "outside",
            "zeroline": false,
            "zerolinecolor": "rgb(36,36,36)"
           }
          },
          "shapedefaults": {
           "fillcolor": "black",
           "line": {
            "width": 0
           },
           "opacity": 0.3
          },
          "ternary": {
           "aaxis": {
            "gridcolor": "rgb(232,232,232)",
            "linecolor": "rgb(36,36,36)",
            "showgrid": false,
            "showline": true,
            "ticks": "outside"
           },
           "baxis": {
            "gridcolor": "rgb(232,232,232)",
            "linecolor": "rgb(36,36,36)",
            "showgrid": false,
            "showline": true,
            "ticks": "outside"
           },
           "bgcolor": "white",
           "caxis": {
            "gridcolor": "rgb(232,232,232)",
            "linecolor": "rgb(36,36,36)",
            "showgrid": false,
            "showline": true,
            "ticks": "outside"
           }
          },
          "title": {
           "x": 0.05
          },
          "xaxis": {
           "automargin": true,
           "gridcolor": "rgb(232,232,232)",
           "linecolor": "rgb(36,36,36)",
           "showgrid": false,
           "showline": true,
           "ticks": "outside",
           "title": {
            "standoff": 15
           },
           "zeroline": false,
           "zerolinecolor": "rgb(36,36,36)"
          },
          "yaxis": {
           "automargin": true,
           "gridcolor": "rgb(232,232,232)",
           "linecolor": "rgb(36,36,36)",
           "showgrid": false,
           "showline": true,
           "ticks": "outside",
           "title": {
            "standoff": 15
           },
           "zeroline": false,
           "zerolinecolor": "rgb(36,36,36)"
          }
         }
        },
        "width": 1024,
        "xaxis": {
         "dtick": 1,
         "title": {
          "text": "Safety"
         }
        },
        "yaxis": {
         "ticksuffix": "°",
         "title": {
          "text": "Left Angles"
         }
        }
       }
      }
     },
     "metadata": {},
     "output_type": "display_data"
    },
    {
     "data": {
      "application/vnd.plotly.v1+json": {
       "config": {
        "plotlyServerURL": "https://plot.ly"
       },
       "data": [
        {
         "marker": {
          "color": "#000000"
         },
         "mode": "markers",
         "name": "Safety X Left Angles",
         "showlegend": false,
         "type": "scatter",
         "x": [
          3,
          3,
          3,
          3,
          3,
          3,
          3,
          3,
          3,
          3,
          3,
          3,
          3,
          3,
          3,
          3,
          3,
          3,
          3,
          3,
          3,
          4,
          4,
          4,
          4,
          4,
          4,
          4,
          4,
          4,
          5,
          5,
          5,
          5,
          5,
          5,
          5,
          5,
          5,
          5,
          5,
          5,
          5,
          5,
          5,
          5,
          5,
          5,
          5,
          5,
          5,
          5,
          5,
          5,
          4,
          5,
          5,
          5,
          5,
          5,
          5,
          5,
          5,
          5,
          5,
          5,
          5,
          5,
          5,
          4,
          4,
          4,
          4,
          4,
          4,
          4,
          4,
          4,
          4,
          4,
          4,
          4,
          4,
          4,
          4,
          4,
          4,
          4,
          4,
          4,
          4,
          3,
          3,
          3,
          3,
          3,
          3,
          3,
          3,
          3,
          3,
          3,
          3,
          3,
          3,
          3,
          3,
          3,
          3,
          3,
          3,
          3,
          3,
          3,
          3,
          3,
          3,
          3,
          3,
          4,
          4,
          4,
          4,
          4,
          3,
          3,
          3,
          3,
          3,
          3,
          3,
          3,
          3,
          3,
          3,
          3,
          3,
          3,
          3,
          3,
          3,
          3,
          3,
          3,
          4,
          4,
          4,
          4,
          4,
          4,
          4,
          4,
          3,
          4,
          4,
          4,
          4,
          4,
          4,
          4,
          4,
          4,
          4,
          4,
          4,
          4,
          4,
          4,
          4,
          4,
          5,
          5,
          5,
          5,
          5,
          5,
          5,
          5,
          5,
          5,
          5,
          5,
          5,
          5,
          5,
          5,
          5,
          5,
          5,
          5,
          5,
          5,
          5,
          5,
          5,
          5,
          5,
          5,
          5,
          5,
          5,
          5,
          5,
          5,
          5,
          5,
          5,
          5,
          5,
          5,
          5,
          5,
          5,
          5,
          5,
          5,
          5,
          5,
          5,
          5,
          5,
          5,
          5,
          5
         ],
         "y": [
          26.673675537109375,
          72.265625,
          111.22623443603516,
          49.788509368896484,
          44.71192169189453,
          32.488624572753906,
          20.258432388305664,
          96.38427734375,
          48.27286148071289,
          20.13835334777832,
          225.80804443359375,
          203.05657958984375,
          258.9930114746094,
          261.3008117675781,
          194.58656311035156,
          223.38250732421875,
          181.5327606201172,
          180.31680297851562,
          206.16738891601562,
          204.732666015625,
          281.55584716796875,
          221.26687622070312,
          251.13230895996094,
          76.35710906982422,
          215.99075317382812,
          22.319337844848633,
          27.27208709716797,
          300.0000305175781,
          29.049692153930664,
          38.867088317871094,
          23.361164093017578,
          37.726593017578125,
          20.088041305541992,
          60.376426696777344,
          24.291542053222656,
          124.17807006835938,
          25.801008224487305,
          23.51451301574707,
          32.38871383666992,
          243.71946716308594,
          41.1047477722168,
          291.0025329589844,
          269.7626647949219,
          27.8388671875,
          34.930686950683594,
          59.95955276489258,
          51.88886260986328,
          115.97518157958984,
          45.398193359375,
          49.276702880859375,
          239.26988220214844,
          40.89011764526367,
          237.89048767089844,
          39.61357116699219,
          25.352497100830078,
          47.67856979370117,
          25.356094360351562,
          50.94615936279297,
          31.992883682250977,
          56.188331604003906,
          69.94208526611328,
          60.835819244384766,
          30.772294998168945,
          60.177528381347656,
          48.781471252441406,
          47.35771942138672,
          53.67286682128906,
          54.13275909423828,
          20.848623275756836,
          40.457923889160156,
          29.738380432128906,
          20.0419979095459,
          36.48262405395508,
          43.8958625793457,
          44.71098709106445,
          60.26375198364258,
          23.82597541809082,
          31.006017684936523,
          34.99159622192383,
          74.45995330810547,
          62.6185188293457,
          26.9796085357666,
          28.857576370239258,
          51.09992980957031,
          27.458959579467773,
          22.61515235900879,
          21.049476623535156,
          33.90752029418945,
          20.539581298828125,
          41.11008834838867,
          40.73923873901367,
          21.47239875793457,
          29.249980926513672,
          43.51893615722656,
          30.170398712158203,
          22.820053100585938,
          54.27970886230469,
          48.56462860107422,
          35.44611358642578,
          24.69158172607422,
          24.110013961791992,
          27.434206008911133,
          25.77639389038086,
          25.145544052124023,
          21.286645889282227,
          25.115835189819336,
          37.82069778442383,
          55.944358825683594,
          23.123119354248047,
          26.5007381439209,
          43.50901794433594,
          65.61656951904297,
          64.35028076171875,
          63.88309860229492,
          43.8466911315918,
          110.99566650390625,
          48.78110122680664,
          21.248367309570312,
          246.5771942138672,
          27.007707595825195,
          24.108232498168945,
          44.726558685302734,
          31.391603469848633,
          25.383878707885742,
          20.000442504882812,
          36.21195602416992,
          45.5235481262207,
          44.73889923095703,
          47.746822357177734,
          43.952754974365234,
          20.948606491088867,
          29.484193801879883,
          29.060014724731445,
          23.444185256958008,
          28.254146575927734,
          28.813451766967773,
          33.169830322265625,
          21.37665557861328,
          20.154767990112305,
          23.28439712524414,
          40.8826904296875,
          37.50126647949219,
          35.30916213989258,
          29.3981876373291,
          33.81668472290039,
          20.437763214111328,
          23.510929107666016,
          28.416759490966797,
          27.29709815979004,
          30.73431968688965,
          31.273895263671875,
          28.787094116210938,
          28.502439498901367,
          35.49028396606445,
          47.75333023071289,
          42.78274917602539,
          31.453590393066406,
          25.423912048339844,
          35.929603576660156,
          52.841331481933594,
          24.457942962646484,
          40.933197021484375,
          55.25414276123047,
          66.11962890625,
          65.31642150878906,
          67.63290405273438,
          69.23448181152344,
          60.70447540283203,
          78.62028503417969,
          23.396949768066406,
          39.067440032958984,
          49.098941802978516,
          45.820125579833984,
          255.46002197265625,
          40.73073959350586,
          72.20929718017578,
          40.400516510009766,
          47.827457427978516,
          31.4644718170166,
          275.9725646972656,
          35.211185455322266,
          59.847816467285156,
          29.7293701171875,
          76.4751205444336,
          39.412376403808594,
          33.28114318847656,
          35.07647705078125,
          58.83646011352539,
          45.08977508544922,
          41.325130462646484,
          36.724369049072266,
          34.0559196472168,
          30.144521713256836,
          58.21169662475586,
          47.78072738647461,
          22.977081298828125,
          68.44070434570312,
          25.064472198486328,
          20.142480850219727,
          26.57387351989746,
          22.67227554321289,
          22.51879119873047,
          42.09779739379883,
          22.689451217651367,
          26.140445709228516,
          20.295621871948242,
          20.782255172729492,
          54.43113327026367,
          128.5784454345703,
          26.883895874023438,
          31.871196746826172,
          56.44002151489258,
          51.72858810424805,
          58.306819915771484,
          46.61920928955078,
          68.14509582519531,
          21.038497924804688,
          20.31439971923828,
          20.331287384033203,
          24.37416648864746,
          66.16350555419922,
          35.35976028442383,
          64.99497985839844,
          22.793550491333008
         ]
        },
        {
         "hovertemplate": "<b>OLS trendline</b><br>y = -4.67818 * x + 80.1737<br>R<sup>2</sup>=0.003863<br><br>x=%{x}<br>y=%{y} <b>(trend)</b><extra></extra>",
         "legendgroup": "",
         "marker": {
          "color": "#961C26",
          "symbol": "circle"
         },
         "mode": "lines",
         "name": "",
         "showlegend": false,
         "type": "scatter",
         "x": [
          3,
          3,
          3,
          3,
          3,
          3,
          3,
          3,
          3,
          3,
          3,
          3,
          3,
          3,
          3,
          3,
          3,
          3,
          3,
          3,
          3,
          3,
          3,
          3,
          3,
          3,
          3,
          3,
          3,
          3,
          3,
          3,
          3,
          3,
          3,
          3,
          3,
          3,
          3,
          3,
          3,
          3,
          3,
          3,
          3,
          3,
          3,
          3,
          3,
          3,
          3,
          3,
          3,
          3,
          3,
          3,
          3,
          3,
          3,
          3,
          3,
          3,
          3,
          3,
          3,
          3,
          3,
          3,
          3,
          3,
          4,
          4,
          4,
          4,
          4,
          4,
          4,
          4,
          4,
          4,
          4,
          4,
          4,
          4,
          4,
          4,
          4,
          4,
          4,
          4,
          4,
          4,
          4,
          4,
          4,
          4,
          4,
          4,
          4,
          4,
          4,
          4,
          4,
          4,
          4,
          4,
          4,
          4,
          4,
          4,
          4,
          4,
          4,
          4,
          4,
          4,
          4,
          4,
          4,
          4,
          4,
          4,
          4,
          4,
          4,
          4,
          4,
          4,
          4,
          4,
          4,
          4,
          5,
          5,
          5,
          5,
          5,
          5,
          5,
          5,
          5,
          5,
          5,
          5,
          5,
          5,
          5,
          5,
          5,
          5,
          5,
          5,
          5,
          5,
          5,
          5,
          5,
          5,
          5,
          5,
          5,
          5,
          5,
          5,
          5,
          5,
          5,
          5,
          5,
          5,
          5,
          5,
          5,
          5,
          5,
          5,
          5,
          5,
          5,
          5,
          5,
          5,
          5,
          5,
          5,
          5,
          5,
          5,
          5,
          5,
          5,
          5,
          5,
          5,
          5,
          5,
          5,
          5,
          5,
          5,
          5,
          5,
          5,
          5,
          5,
          5,
          5,
          5,
          5,
          5,
          5,
          5,
          5,
          5,
          5,
          5,
          5,
          5,
          5,
          5,
          5,
          5,
          5,
          5
         ],
         "xaxis": "x",
         "y": [
          66.13911930860303,
          66.13911930860303,
          66.13911930860303,
          66.13911930860303,
          66.13911930860303,
          66.13911930860303,
          66.13911930860303,
          66.13911930860303,
          66.13911930860303,
          66.13911930860303,
          66.13911930860303,
          66.13911930860303,
          66.13911930860303,
          66.13911930860303,
          66.13911930860303,
          66.13911930860303,
          66.13911930860303,
          66.13911930860303,
          66.13911930860303,
          66.13911930860303,
          66.13911930860303,
          66.13911930860303,
          66.13911930860303,
          66.13911930860303,
          66.13911930860303,
          66.13911930860303,
          66.13911930860303,
          66.13911930860303,
          66.13911930860303,
          66.13911930860303,
          66.13911930860303,
          66.13911930860303,
          66.13911930860303,
          66.13911930860303,
          66.13911930860303,
          66.13911930860303,
          66.13911930860303,
          66.13911930860303,
          66.13911930860303,
          66.13911930860303,
          66.13911930860303,
          66.13911930860303,
          66.13911930860303,
          66.13911930860303,
          66.13911930860303,
          66.13911930860303,
          66.13911930860303,
          66.13911930860303,
          66.13911930860303,
          66.13911930860303,
          66.13911930860303,
          66.13911930860303,
          66.13911930860303,
          66.13911930860303,
          66.13911930860303,
          66.13911930860303,
          66.13911930860303,
          66.13911930860303,
          66.13911930860303,
          66.13911930860303,
          66.13911930860303,
          66.13911930860303,
          66.13911930860303,
          66.13911930860303,
          66.13911930860303,
          66.13911930860303,
          66.13911930860303,
          66.13911930860303,
          66.13911930860303,
          66.13911930860303,
          61.460936614940024,
          61.460936614940024,
          61.460936614940024,
          61.460936614940024,
          61.460936614940024,
          61.460936614940024,
          61.460936614940024,
          61.460936614940024,
          61.460936614940024,
          61.460936614940024,
          61.460936614940024,
          61.460936614940024,
          61.460936614940024,
          61.460936614940024,
          61.460936614940024,
          61.460936614940024,
          61.460936614940024,
          61.460936614940024,
          61.460936614940024,
          61.460936614940024,
          61.460936614940024,
          61.460936614940024,
          61.460936614940024,
          61.460936614940024,
          61.460936614940024,
          61.460936614940024,
          61.460936614940024,
          61.460936614940024,
          61.460936614940024,
          61.460936614940024,
          61.460936614940024,
          61.460936614940024,
          61.460936614940024,
          61.460936614940024,
          61.460936614940024,
          61.460936614940024,
          61.460936614940024,
          61.460936614940024,
          61.460936614940024,
          61.460936614940024,
          61.460936614940024,
          61.460936614940024,
          61.460936614940024,
          61.460936614940024,
          61.460936614940024,
          61.460936614940024,
          61.460936614940024,
          61.460936614940024,
          61.460936614940024,
          61.460936614940024,
          61.460936614940024,
          61.460936614940024,
          61.460936614940024,
          61.460936614940024,
          61.460936614940024,
          61.460936614940024,
          61.460936614940024,
          61.460936614940024,
          61.460936614940024,
          61.460936614940024,
          61.460936614940024,
          61.460936614940024,
          56.78275392127702,
          56.78275392127702,
          56.78275392127702,
          56.78275392127702,
          56.78275392127702,
          56.78275392127702,
          56.78275392127702,
          56.78275392127702,
          56.78275392127702,
          56.78275392127702,
          56.78275392127702,
          56.78275392127702,
          56.78275392127702,
          56.78275392127702,
          56.78275392127702,
          56.78275392127702,
          56.78275392127702,
          56.78275392127702,
          56.78275392127702,
          56.78275392127702,
          56.78275392127702,
          56.78275392127702,
          56.78275392127702,
          56.78275392127702,
          56.78275392127702,
          56.78275392127702,
          56.78275392127702,
          56.78275392127702,
          56.78275392127702,
          56.78275392127702,
          56.78275392127702,
          56.78275392127702,
          56.78275392127702,
          56.78275392127702,
          56.78275392127702,
          56.78275392127702,
          56.78275392127702,
          56.78275392127702,
          56.78275392127702,
          56.78275392127702,
          56.78275392127702,
          56.78275392127702,
          56.78275392127702,
          56.78275392127702,
          56.78275392127702,
          56.78275392127702,
          56.78275392127702,
          56.78275392127702,
          56.78275392127702,
          56.78275392127702,
          56.78275392127702,
          56.78275392127702,
          56.78275392127702,
          56.78275392127702,
          56.78275392127702,
          56.78275392127702,
          56.78275392127702,
          56.78275392127702,
          56.78275392127702,
          56.78275392127702,
          56.78275392127702,
          56.78275392127702,
          56.78275392127702,
          56.78275392127702,
          56.78275392127702,
          56.78275392127702,
          56.78275392127702,
          56.78275392127702,
          56.78275392127702,
          56.78275392127702,
          56.78275392127702,
          56.78275392127702,
          56.78275392127702,
          56.78275392127702,
          56.78275392127702,
          56.78275392127702,
          56.78275392127702,
          56.78275392127702,
          56.78275392127702,
          56.78275392127702,
          56.78275392127702,
          56.78275392127702,
          56.78275392127702,
          56.78275392127702,
          56.78275392127702,
          56.78275392127702,
          56.78275392127702,
          56.78275392127702,
          56.78275392127702,
          56.78275392127702,
          56.78275392127702,
          56.78275392127702
         ],
         "yaxis": "y"
        }
       ],
       "layout": {
        "font": {
         "family": "Lato, sans-serif",
         "size": 14
        },
        "height": 768,
        "hoverlabel": {
         "font": {
          "family": "Lato, sans-serif",
          "size": 13
         }
        },
        "hovermode": "y unified",
        "legend": {
         "orientation": "h",
         "x": 0.5,
         "xanchor": "center",
         "y": 1,
         "yanchor": "bottom"
        },
        "margin": {
         "b": 0,
         "l": 70,
         "r": 40,
         "t": 20
        },
        "paper_bgcolor": "rgba(0,0,0,0)",
        "plot_bgcolor": "rgba(0,0,0,0)",
        "template": {
         "data": {
          "bar": [
           {
            "error_x": {
             "color": "rgb(36,36,36)"
            },
            "error_y": {
             "color": "rgb(36,36,36)"
            },
            "marker": {
             "line": {
              "color": "white",
              "width": 0.5
             },
             "pattern": {
              "fillmode": "overlay",
              "size": 10,
              "solidity": 0.2
             }
            },
            "type": "bar"
           }
          ],
          "barpolar": [
           {
            "marker": {
             "line": {
              "color": "white",
              "width": 0.5
             },
             "pattern": {
              "fillmode": "overlay",
              "size": 10,
              "solidity": 0.2
             }
            },
            "type": "barpolar"
           }
          ],
          "carpet": [
           {
            "aaxis": {
             "endlinecolor": "rgb(36,36,36)",
             "gridcolor": "white",
             "linecolor": "white",
             "minorgridcolor": "white",
             "startlinecolor": "rgb(36,36,36)"
            },
            "baxis": {
             "endlinecolor": "rgb(36,36,36)",
             "gridcolor": "white",
             "linecolor": "white",
             "minorgridcolor": "white",
             "startlinecolor": "rgb(36,36,36)"
            },
            "type": "carpet"
           }
          ],
          "choropleth": [
           {
            "colorbar": {
             "outlinewidth": 1,
             "tickcolor": "rgb(36,36,36)",
             "ticks": "outside"
            },
            "type": "choropleth"
           }
          ],
          "contour": [
           {
            "colorbar": {
             "outlinewidth": 1,
             "tickcolor": "rgb(36,36,36)",
             "ticks": "outside"
            },
            "colorscale": [
             [
              0,
              "#440154"
             ],
             [
              0.1111111111111111,
              "#482878"
             ],
             [
              0.2222222222222222,
              "#3e4989"
             ],
             [
              0.3333333333333333,
              "#31688e"
             ],
             [
              0.4444444444444444,
              "#26828e"
             ],
             [
              0.5555555555555556,
              "#1f9e89"
             ],
             [
              0.6666666666666666,
              "#35b779"
             ],
             [
              0.7777777777777778,
              "#6ece58"
             ],
             [
              0.8888888888888888,
              "#b5de2b"
             ],
             [
              1,
              "#fde725"
             ]
            ],
            "type": "contour"
           }
          ],
          "contourcarpet": [
           {
            "colorbar": {
             "outlinewidth": 1,
             "tickcolor": "rgb(36,36,36)",
             "ticks": "outside"
            },
            "type": "contourcarpet"
           }
          ],
          "heatmap": [
           {
            "colorbar": {
             "outlinewidth": 1,
             "tickcolor": "rgb(36,36,36)",
             "ticks": "outside"
            },
            "colorscale": [
             [
              0,
              "#440154"
             ],
             [
              0.1111111111111111,
              "#482878"
             ],
             [
              0.2222222222222222,
              "#3e4989"
             ],
             [
              0.3333333333333333,
              "#31688e"
             ],
             [
              0.4444444444444444,
              "#26828e"
             ],
             [
              0.5555555555555556,
              "#1f9e89"
             ],
             [
              0.6666666666666666,
              "#35b779"
             ],
             [
              0.7777777777777778,
              "#6ece58"
             ],
             [
              0.8888888888888888,
              "#b5de2b"
             ],
             [
              1,
              "#fde725"
             ]
            ],
            "type": "heatmap"
           }
          ],
          "heatmapgl": [
           {
            "colorbar": {
             "outlinewidth": 1,
             "tickcolor": "rgb(36,36,36)",
             "ticks": "outside"
            },
            "colorscale": [
             [
              0,
              "#440154"
             ],
             [
              0.1111111111111111,
              "#482878"
             ],
             [
              0.2222222222222222,
              "#3e4989"
             ],
             [
              0.3333333333333333,
              "#31688e"
             ],
             [
              0.4444444444444444,
              "#26828e"
             ],
             [
              0.5555555555555556,
              "#1f9e89"
             ],
             [
              0.6666666666666666,
              "#35b779"
             ],
             [
              0.7777777777777778,
              "#6ece58"
             ],
             [
              0.8888888888888888,
              "#b5de2b"
             ],
             [
              1,
              "#fde725"
             ]
            ],
            "type": "heatmapgl"
           }
          ],
          "histogram": [
           {
            "marker": {
             "line": {
              "color": "white",
              "width": 0.6
             }
            },
            "type": "histogram"
           }
          ],
          "histogram2d": [
           {
            "colorbar": {
             "outlinewidth": 1,
             "tickcolor": "rgb(36,36,36)",
             "ticks": "outside"
            },
            "colorscale": [
             [
              0,
              "#440154"
             ],
             [
              0.1111111111111111,
              "#482878"
             ],
             [
              0.2222222222222222,
              "#3e4989"
             ],
             [
              0.3333333333333333,
              "#31688e"
             ],
             [
              0.4444444444444444,
              "#26828e"
             ],
             [
              0.5555555555555556,
              "#1f9e89"
             ],
             [
              0.6666666666666666,
              "#35b779"
             ],
             [
              0.7777777777777778,
              "#6ece58"
             ],
             [
              0.8888888888888888,
              "#b5de2b"
             ],
             [
              1,
              "#fde725"
             ]
            ],
            "type": "histogram2d"
           }
          ],
          "histogram2dcontour": [
           {
            "colorbar": {
             "outlinewidth": 1,
             "tickcolor": "rgb(36,36,36)",
             "ticks": "outside"
            },
            "colorscale": [
             [
              0,
              "#440154"
             ],
             [
              0.1111111111111111,
              "#482878"
             ],
             [
              0.2222222222222222,
              "#3e4989"
             ],
             [
              0.3333333333333333,
              "#31688e"
             ],
             [
              0.4444444444444444,
              "#26828e"
             ],
             [
              0.5555555555555556,
              "#1f9e89"
             ],
             [
              0.6666666666666666,
              "#35b779"
             ],
             [
              0.7777777777777778,
              "#6ece58"
             ],
             [
              0.8888888888888888,
              "#b5de2b"
             ],
             [
              1,
              "#fde725"
             ]
            ],
            "type": "histogram2dcontour"
           }
          ],
          "mesh3d": [
           {
            "colorbar": {
             "outlinewidth": 1,
             "tickcolor": "rgb(36,36,36)",
             "ticks": "outside"
            },
            "type": "mesh3d"
           }
          ],
          "parcoords": [
           {
            "line": {
             "colorbar": {
              "outlinewidth": 1,
              "tickcolor": "rgb(36,36,36)",
              "ticks": "outside"
             }
            },
            "type": "parcoords"
           }
          ],
          "pie": [
           {
            "automargin": true,
            "type": "pie"
           }
          ],
          "scatter": [
           {
            "fillpattern": {
             "fillmode": "overlay",
             "size": 10,
             "solidity": 0.2
            },
            "type": "scatter"
           }
          ],
          "scatter3d": [
           {
            "line": {
             "colorbar": {
              "outlinewidth": 1,
              "tickcolor": "rgb(36,36,36)",
              "ticks": "outside"
             }
            },
            "marker": {
             "colorbar": {
              "outlinewidth": 1,
              "tickcolor": "rgb(36,36,36)",
              "ticks": "outside"
             }
            },
            "type": "scatter3d"
           }
          ],
          "scattercarpet": [
           {
            "marker": {
             "colorbar": {
              "outlinewidth": 1,
              "tickcolor": "rgb(36,36,36)",
              "ticks": "outside"
             }
            },
            "type": "scattercarpet"
           }
          ],
          "scattergeo": [
           {
            "marker": {
             "colorbar": {
              "outlinewidth": 1,
              "tickcolor": "rgb(36,36,36)",
              "ticks": "outside"
             }
            },
            "type": "scattergeo"
           }
          ],
          "scattergl": [
           {
            "marker": {
             "colorbar": {
              "outlinewidth": 1,
              "tickcolor": "rgb(36,36,36)",
              "ticks": "outside"
             }
            },
            "type": "scattergl"
           }
          ],
          "scattermapbox": [
           {
            "marker": {
             "colorbar": {
              "outlinewidth": 1,
              "tickcolor": "rgb(36,36,36)",
              "ticks": "outside"
             }
            },
            "type": "scattermapbox"
           }
          ],
          "scatterpolar": [
           {
            "marker": {
             "colorbar": {
              "outlinewidth": 1,
              "tickcolor": "rgb(36,36,36)",
              "ticks": "outside"
             }
            },
            "type": "scatterpolar"
           }
          ],
          "scatterpolargl": [
           {
            "marker": {
             "colorbar": {
              "outlinewidth": 1,
              "tickcolor": "rgb(36,36,36)",
              "ticks": "outside"
             }
            },
            "type": "scatterpolargl"
           }
          ],
          "scatterternary": [
           {
            "marker": {
             "colorbar": {
              "outlinewidth": 1,
              "tickcolor": "rgb(36,36,36)",
              "ticks": "outside"
             }
            },
            "type": "scatterternary"
           }
          ],
          "surface": [
           {
            "colorbar": {
             "outlinewidth": 1,
             "tickcolor": "rgb(36,36,36)",
             "ticks": "outside"
            },
            "colorscale": [
             [
              0,
              "#440154"
             ],
             [
              0.1111111111111111,
              "#482878"
             ],
             [
              0.2222222222222222,
              "#3e4989"
             ],
             [
              0.3333333333333333,
              "#31688e"
             ],
             [
              0.4444444444444444,
              "#26828e"
             ],
             [
              0.5555555555555556,
              "#1f9e89"
             ],
             [
              0.6666666666666666,
              "#35b779"
             ],
             [
              0.7777777777777778,
              "#6ece58"
             ],
             [
              0.8888888888888888,
              "#b5de2b"
             ],
             [
              1,
              "#fde725"
             ]
            ],
            "type": "surface"
           }
          ],
          "table": [
           {
            "cells": {
             "fill": {
              "color": "rgb(237,237,237)"
             },
             "line": {
              "color": "white"
             }
            },
            "header": {
             "fill": {
              "color": "rgb(217,217,217)"
             },
             "line": {
              "color": "white"
             }
            },
            "type": "table"
           }
          ]
         },
         "layout": {
          "annotationdefaults": {
           "arrowhead": 0,
           "arrowwidth": 1
          },
          "autotypenumbers": "strict",
          "coloraxis": {
           "colorbar": {
            "outlinewidth": 1,
            "tickcolor": "rgb(36,36,36)",
            "ticks": "outside"
           }
          },
          "colorscale": {
           "diverging": [
            [
             0,
             "rgb(103,0,31)"
            ],
            [
             0.1,
             "rgb(178,24,43)"
            ],
            [
             0.2,
             "rgb(214,96,77)"
            ],
            [
             0.3,
             "rgb(244,165,130)"
            ],
            [
             0.4,
             "rgb(253,219,199)"
            ],
            [
             0.5,
             "rgb(247,247,247)"
            ],
            [
             0.6,
             "rgb(209,229,240)"
            ],
            [
             0.7,
             "rgb(146,197,222)"
            ],
            [
             0.8,
             "rgb(67,147,195)"
            ],
            [
             0.9,
             "rgb(33,102,172)"
            ],
            [
             1,
             "rgb(5,48,97)"
            ]
           ],
           "sequential": [
            [
             0,
             "#440154"
            ],
            [
             0.1111111111111111,
             "#482878"
            ],
            [
             0.2222222222222222,
             "#3e4989"
            ],
            [
             0.3333333333333333,
             "#31688e"
            ],
            [
             0.4444444444444444,
             "#26828e"
            ],
            [
             0.5555555555555556,
             "#1f9e89"
            ],
            [
             0.6666666666666666,
             "#35b779"
            ],
            [
             0.7777777777777778,
             "#6ece58"
            ],
            [
             0.8888888888888888,
             "#b5de2b"
            ],
            [
             1,
             "#fde725"
            ]
           ],
           "sequentialminus": [
            [
             0,
             "#440154"
            ],
            [
             0.1111111111111111,
             "#482878"
            ],
            [
             0.2222222222222222,
             "#3e4989"
            ],
            [
             0.3333333333333333,
             "#31688e"
            ],
            [
             0.4444444444444444,
             "#26828e"
            ],
            [
             0.5555555555555556,
             "#1f9e89"
            ],
            [
             0.6666666666666666,
             "#35b779"
            ],
            [
             0.7777777777777778,
             "#6ece58"
            ],
            [
             0.8888888888888888,
             "#b5de2b"
            ],
            [
             1,
             "#fde725"
            ]
           ]
          },
          "colorway": [
           "#1F77B4",
           "#FF7F0E",
           "#2CA02C",
           "#D62728",
           "#9467BD",
           "#8C564B",
           "#E377C2",
           "#7F7F7F",
           "#BCBD22",
           "#17BECF"
          ],
          "font": {
           "color": "rgb(36,36,36)"
          },
          "geo": {
           "bgcolor": "white",
           "lakecolor": "white",
           "landcolor": "white",
           "showlakes": true,
           "showland": true,
           "subunitcolor": "white"
          },
          "hoverlabel": {
           "align": "left"
          },
          "hovermode": "closest",
          "mapbox": {
           "style": "light"
          },
          "paper_bgcolor": "white",
          "plot_bgcolor": "white",
          "polar": {
           "angularaxis": {
            "gridcolor": "rgb(232,232,232)",
            "linecolor": "rgb(36,36,36)",
            "showgrid": false,
            "showline": true,
            "ticks": "outside"
           },
           "bgcolor": "white",
           "radialaxis": {
            "gridcolor": "rgb(232,232,232)",
            "linecolor": "rgb(36,36,36)",
            "showgrid": false,
            "showline": true,
            "ticks": "outside"
           }
          },
          "scene": {
           "xaxis": {
            "backgroundcolor": "white",
            "gridcolor": "rgb(232,232,232)",
            "gridwidth": 2,
            "linecolor": "rgb(36,36,36)",
            "showbackground": true,
            "showgrid": false,
            "showline": true,
            "ticks": "outside",
            "zeroline": false,
            "zerolinecolor": "rgb(36,36,36)"
           },
           "yaxis": {
            "backgroundcolor": "white",
            "gridcolor": "rgb(232,232,232)",
            "gridwidth": 2,
            "linecolor": "rgb(36,36,36)",
            "showbackground": true,
            "showgrid": false,
            "showline": true,
            "ticks": "outside",
            "zeroline": false,
            "zerolinecolor": "rgb(36,36,36)"
           },
           "zaxis": {
            "backgroundcolor": "white",
            "gridcolor": "rgb(232,232,232)",
            "gridwidth": 2,
            "linecolor": "rgb(36,36,36)",
            "showbackground": true,
            "showgrid": false,
            "showline": true,
            "ticks": "outside",
            "zeroline": false,
            "zerolinecolor": "rgb(36,36,36)"
           }
          },
          "shapedefaults": {
           "fillcolor": "black",
           "line": {
            "width": 0
           },
           "opacity": 0.3
          },
          "ternary": {
           "aaxis": {
            "gridcolor": "rgb(232,232,232)",
            "linecolor": "rgb(36,36,36)",
            "showgrid": false,
            "showline": true,
            "ticks": "outside"
           },
           "baxis": {
            "gridcolor": "rgb(232,232,232)",
            "linecolor": "rgb(36,36,36)",
            "showgrid": false,
            "showline": true,
            "ticks": "outside"
           },
           "bgcolor": "white",
           "caxis": {
            "gridcolor": "rgb(232,232,232)",
            "linecolor": "rgb(36,36,36)",
            "showgrid": false,
            "showline": true,
            "ticks": "outside"
           }
          },
          "title": {
           "x": 0.05
          },
          "xaxis": {
           "automargin": true,
           "gridcolor": "rgb(232,232,232)",
           "linecolor": "rgb(36,36,36)",
           "showgrid": false,
           "showline": true,
           "ticks": "outside",
           "title": {
            "standoff": 15
           },
           "zeroline": false,
           "zerolinecolor": "rgb(36,36,36)"
          },
          "yaxis": {
           "automargin": true,
           "gridcolor": "rgb(232,232,232)",
           "linecolor": "rgb(36,36,36)",
           "showgrid": false,
           "showline": true,
           "ticks": "outside",
           "title": {
            "standoff": 15
           },
           "zeroline": false,
           "zerolinecolor": "rgb(36,36,36)"
          }
         }
        },
        "width": 1024,
        "xaxis": {
         "dtick": 1,
         "title": {
          "text": "Safety"
         }
        },
        "yaxis": {
         "ticksuffix": "°",
         "title": {
          "text": "Right Angles"
         }
        }
       }
      }
     },
     "metadata": {},
     "output_type": "display_data"
    }
   ],
   "source": [
    "# Plots for correlations. Trendline generated as linear trendline via https://plotly.com/python/linear-fits/\n",
    "fig_corr_diff = go.Figure(layout=layout)\n",
    "fig_corr_diff.add_trace(go.Scatter(mode='markers',x = safety,y = difficulty,showlegend=False,name='Safety X Difficulty', marker_color='#000000'))\n",
    "trend_difficulty = px.scatter(y=difficulty, x= safety, trendline=\"ols\")\n",
    "trendline = trend_difficulty.data[1]\n",
    "trendline.marker.color = marking_red\n",
    "fig_corr_diff.add_trace(trendline)\n",
    "\n",
    "#Rotations\n",
    "fig_corr_rleft = go.Figure(layout=layout)\n",
    "fig_corr_rleft.add_trace(go.Scatter(mode='markers',x = safety_left_rots,y = left_rots,showlegend=False,name='Safety X Left Rotations', marker_color='#000000'))\n",
    "trend_rotations = px.scatter(y=left_rots, x= safety_left_rots, trendline=\"ols\")\n",
    "trendline = trend_rotations.data[1]\n",
    "trendline.marker.color = marking_red\n",
    "fig_corr_rleft.add_trace(trendline)\n",
    "\n",
    "fig_corr_rRight = go.Figure(layout=layout)\n",
    "fig_corr_rRight.add_trace(go.Scatter(mode='markers',x = safety_right_rots,y = right_rots,showlegend=False,name='Safety X Left Rotations', marker_color='#000000'))\n",
    "trend_rotations = px.scatter(y=right_rots, x= safety_right_rots, trendline=\"ols\")\n",
    "trendline = trend_rotations.data[1]\n",
    "trendline.marker.color = marking_red\n",
    "fig_corr_rRight.add_trace(trendline)\n",
    "\n",
    "#Angles\n",
    "fig_corr_aLeft = go.Figure(layout=layout)\n",
    "fig_corr_aLeft.add_trace(go.Scatter(mode='markers',x = safety_left_angles,y = left_angles,showlegend=False,name='Safety X Left Angles', marker_color='#000000'))\n",
    "trend_angles = px.scatter(y=left_angles, x= safety_left_angles, trendline=\"ols\")\n",
    "trendline = trend_angles.data[1]\n",
    "trendline.marker.color = marking_red\n",
    "fig_corr_aLeft.add_trace(trendline)\n",
    "\n",
    "fig_corr_aRight = go.Figure(layout=layout)\n",
    "fig_corr_aRight.add_trace(go.Scatter(mode='markers',x = safety_right_angles,y = right_angles,showlegend=False,name='Safety X Left Angles', marker_color='#000000'))\n",
    "trend_angles = px.scatter(y=right_angles, x= safety_right_angles, trendline=\"ols\")\n",
    "trendline = trend_angles.data[1]\n",
    "trendline.marker.color = marking_red\n",
    "fig_corr_aRight.add_trace(trendline)\n",
    "\n",
    "\n",
    "yaxis = [\"Difficulty\",\"Left Rotations\",\"Right Rotations\",\"Left Angles\",\"Right Angles\"]\n",
    "yFormat = [\"\",\"\",\"\",\"°\",\"°\"]\n",
    "for index,fig in enumerate([fig_corr_diff,fig_corr_rleft,fig_corr_rRight,fig_corr_aLeft,fig_corr_aRight]):\n",
    "    fig.update_layout(\n",
    "    #    title='Mean of Headrotations per Situation(Field)',\n",
    "        margin=dict(t=20, b=0, l=70, r=40),\n",
    "        hovermode=\"y unified\", \n",
    "        xaxis_title='Safety', \n",
    "        xaxis_dtick = 1,\n",
    "        yaxis_title=yaxis[index],\n",
    "        yaxis_ticksuffix = yFormat[index],\n",
    "        width=plot_width, height=plot_height,\n",
    "        font=dict(family=\"Lato, sans-serif\",size=14),\n",
    "        legend=dict(orientation=\"h\", yanchor=\"bottom\",y=1, xanchor=\"center\", x=0.5),\n",
    "        hoverlabel=dict(font_size=13, font_family=\"Lato, sans-serif\"),\n",
    "        paper_bgcolor='rgba(0,0,0,0)',\n",
    "        plot_bgcolor='rgba(0,0,0,0)')\n",
    "    display(fig)"
   ]
  },
  {
   "cell_type": "code",
   "execution_count": 30,
   "id": "a2fbb558",
   "metadata": {},
   "outputs": [
    {
     "data": {
      "application/vnd.plotly.v1+json": {
       "config": {
        "plotlyServerURL": "https://plot.ly"
       },
       "data": [
        {
         "marker": {
          "color": "#000000"
         },
         "mode": "markers",
         "name": "Safety X Left Rotations",
         "showlegend": false,
         "type": "scatter",
         "x": [
          3,
          3,
          4,
          4,
          5,
          5,
          5,
          5,
          5,
          5,
          5,
          5,
          5,
          5,
          5,
          4,
          4,
          5,
          5,
          5,
          5,
          5,
          5,
          5,
          5,
          5,
          4,
          4,
          2,
          2,
          4,
          4,
          4,
          4,
          4,
          4,
          4,
          4,
          4,
          4,
          4,
          3,
          3,
          3,
          3,
          3,
          3,
          3,
          3,
          3,
          3,
          3,
          4,
          3,
          3,
          3,
          3,
          3,
          3,
          3,
          3,
          3,
          4,
          4,
          3,
          3,
          4,
          4,
          4,
          4,
          4,
          4,
          4,
          4,
          4,
          5,
          5,
          5,
          5,
          5,
          5,
          5,
          5,
          5,
          5,
          5,
          5,
          5,
          5,
          5,
          5,
          5,
          5,
          5,
          5,
          5,
          5,
          5,
          5,
          5
         ],
         "xaxis": "x",
         "y": [
          15,
          17,
          4,
          9,
          3,
          1,
          2,
          11,
          2,
          3,
          14,
          5,
          3,
          4,
          2,
          3,
          4,
          2,
          2,
          1,
          4,
          1,
          3,
          5,
          3,
          2,
          5,
          2,
          3,
          8,
          1,
          0,
          1,
          2,
          3,
          2,
          6,
          4,
          1,
          5,
          5,
          3,
          2,
          1,
          1,
          3,
          2,
          3,
          3,
          8,
          0,
          5,
          7,
          3,
          2,
          1,
          1,
          8,
          3,
          3,
          3,
          4,
          5,
          5,
          2,
          3,
          1,
          1,
          0,
          2,
          3,
          2,
          12,
          4,
          2,
          6,
          5,
          13,
          3,
          1,
          3,
          10,
          4,
          4,
          7,
          5,
          2,
          6,
          9,
          3,
          7,
          1,
          2,
          2,
          3,
          3,
          4,
          2,
          5,
          2
         ],
         "yaxis": "y"
        },
        {
         "hovertemplate": "<b>OLS trendline</b><br>y = 0.00256376 * x + 3.91931<br>R<sup>2</sup>=0.000000<br><br>x=%{x}<br>y=%{y} <b>(trend)</b><extra></extra>",
         "legendgroup": "",
         "marker": {
          "color": "#961C26",
          "symbol": "circle"
         },
         "mode": "lines",
         "name": "",
         "showlegend": false,
         "type": "scatter",
         "x": [
          2,
          2,
          3,
          3,
          3,
          3,
          3,
          3,
          3,
          3,
          3,
          3,
          3,
          3,
          3,
          3,
          3,
          3,
          3,
          3,
          3,
          3,
          3,
          3,
          3,
          3,
          4,
          4,
          4,
          4,
          4,
          4,
          4,
          4,
          4,
          4,
          4,
          4,
          4,
          4,
          4,
          4,
          4,
          4,
          4,
          4,
          4,
          4,
          4,
          4,
          4,
          4,
          4,
          4,
          4,
          5,
          5,
          5,
          5,
          5,
          5,
          5,
          5,
          5,
          5,
          5,
          5,
          5,
          5,
          5,
          5,
          5,
          5,
          5,
          5,
          5,
          5,
          5,
          5,
          5,
          5,
          5,
          5,
          5,
          5,
          5,
          5,
          5,
          5,
          5,
          5,
          5,
          5,
          5,
          5,
          5,
          5,
          5,
          5,
          5
         ],
         "xaxis": "x",
         "y": [
          3.924436648225611,
          3.924436648225611,
          3.927000404803671,
          3.927000404803671,
          3.927000404803671,
          3.927000404803671,
          3.927000404803671,
          3.927000404803671,
          3.927000404803671,
          3.927000404803671,
          3.927000404803671,
          3.927000404803671,
          3.927000404803671,
          3.927000404803671,
          3.927000404803671,
          3.927000404803671,
          3.927000404803671,
          3.927000404803671,
          3.927000404803671,
          3.927000404803671,
          3.927000404803671,
          3.927000404803671,
          3.927000404803671,
          3.927000404803671,
          3.927000404803671,
          3.927000404803671,
          3.929564161381731,
          3.929564161381731,
          3.929564161381731,
          3.929564161381731,
          3.929564161381731,
          3.929564161381731,
          3.929564161381731,
          3.929564161381731,
          3.929564161381731,
          3.929564161381731,
          3.929564161381731,
          3.929564161381731,
          3.929564161381731,
          3.929564161381731,
          3.929564161381731,
          3.929564161381731,
          3.929564161381731,
          3.929564161381731,
          3.929564161381731,
          3.929564161381731,
          3.929564161381731,
          3.929564161381731,
          3.929564161381731,
          3.929564161381731,
          3.929564161381731,
          3.929564161381731,
          3.929564161381731,
          3.929564161381731,
          3.929564161381731,
          3.932127917959791,
          3.932127917959791,
          3.932127917959791,
          3.932127917959791,
          3.932127917959791,
          3.932127917959791,
          3.932127917959791,
          3.932127917959791,
          3.932127917959791,
          3.932127917959791,
          3.932127917959791,
          3.932127917959791,
          3.932127917959791,
          3.932127917959791,
          3.932127917959791,
          3.932127917959791,
          3.932127917959791,
          3.932127917959791,
          3.932127917959791,
          3.932127917959791,
          3.932127917959791,
          3.932127917959791,
          3.932127917959791,
          3.932127917959791,
          3.932127917959791,
          3.932127917959791,
          3.932127917959791,
          3.932127917959791,
          3.932127917959791,
          3.932127917959791,
          3.932127917959791,
          3.932127917959791,
          3.932127917959791,
          3.932127917959791,
          3.932127917959791,
          3.932127917959791,
          3.932127917959791,
          3.932127917959791,
          3.932127917959791,
          3.932127917959791,
          3.932127917959791,
          3.932127917959791,
          3.932127917959791,
          3.932127917959791,
          3.932127917959791
         ],
         "yaxis": "y"
        },
        {
         "marker": {
          "color": "#000000"
         },
         "mode": "markers",
         "name": "Safety X Left Rotations",
         "showlegend": false,
         "type": "scatter",
         "x": [
          3,
          3,
          4,
          4,
          5,
          5,
          5,
          5,
          5,
          5,
          5,
          5,
          5,
          5,
          5,
          4,
          4,
          5,
          5,
          5,
          5,
          5,
          5,
          5,
          5,
          5,
          4,
          4,
          2,
          2,
          4,
          4,
          4,
          4,
          4,
          4,
          4,
          4,
          4,
          4,
          4,
          3,
          3,
          3,
          3,
          3,
          3,
          3,
          3,
          3,
          3,
          3,
          4,
          3,
          3,
          3,
          3,
          3,
          3,
          3,
          3,
          3,
          4,
          4,
          3,
          3,
          4,
          4,
          4,
          4,
          4,
          4,
          4,
          4,
          4,
          5,
          5,
          5,
          5,
          5,
          5,
          5,
          5,
          5,
          5,
          5,
          5,
          5,
          5,
          5,
          5,
          5,
          5,
          5,
          5,
          5,
          5,
          5,
          5,
          5
         ],
         "xaxis": "x2",
         "y": [
          10,
          11,
          3,
          6,
          0,
          0,
          2,
          7,
          0,
          2,
          9,
          2,
          1,
          1,
          0,
          0,
          1,
          2,
          1,
          2,
          1,
          0,
          1,
          5,
          1,
          1,
          1,
          0,
          0,
          0,
          1,
          1,
          1,
          1,
          0,
          1,
          8,
          0,
          0,
          5,
          3,
          1,
          2,
          1,
          3,
          1,
          5,
          3,
          1,
          8,
          2,
          1,
          5,
          1,
          1,
          1,
          1,
          7,
          0,
          2,
          7,
          0,
          3,
          5,
          0,
          1,
          0,
          2,
          2,
          2,
          0,
          1,
          10,
          0,
          0,
          3,
          2,
          9,
          2,
          2,
          1,
          3,
          1,
          2,
          4,
          0,
          1,
          4,
          3,
          1,
          2,
          0,
          2,
          1,
          3,
          4,
          1,
          2,
          0,
          1
         ],
         "yaxis": "y2"
        },
        {
         "hovertemplate": "<b>OLS trendline</b><br>y = -0.216975 * x + 3.14478<br>R<sup>2</sup>=0.005366<br><br>x=%{x}<br>y=%{y} <b>(trend)</b><extra></extra>",
         "legendgroup": "",
         "marker": {
          "color": "#961C26",
          "symbol": "circle"
         },
         "mode": "lines",
         "name": "",
         "showlegend": false,
         "type": "scatter",
         "x": [
          2,
          2,
          3,
          3,
          3,
          3,
          3,
          3,
          3,
          3,
          3,
          3,
          3,
          3,
          3,
          3,
          3,
          3,
          3,
          3,
          3,
          3,
          3,
          3,
          3,
          3,
          4,
          4,
          4,
          4,
          4,
          4,
          4,
          4,
          4,
          4,
          4,
          4,
          4,
          4,
          4,
          4,
          4,
          4,
          4,
          4,
          4,
          4,
          4,
          4,
          4,
          4,
          4,
          4,
          4,
          5,
          5,
          5,
          5,
          5,
          5,
          5,
          5,
          5,
          5,
          5,
          5,
          5,
          5,
          5,
          5,
          5,
          5,
          5,
          5,
          5,
          5,
          5,
          5,
          5,
          5,
          5,
          5,
          5,
          5,
          5,
          5,
          5,
          5,
          5,
          5,
          5,
          5,
          5,
          5,
          5,
          5,
          5,
          5,
          5
         ],
         "xaxis": "x2",
         "y": [
          2.710835244906221,
          2.710835244906221,
          2.4938604776683317,
          2.4938604776683317,
          2.4938604776683317,
          2.4938604776683317,
          2.4938604776683317,
          2.4938604776683317,
          2.4938604776683317,
          2.4938604776683317,
          2.4938604776683317,
          2.4938604776683317,
          2.4938604776683317,
          2.4938604776683317,
          2.4938604776683317,
          2.4938604776683317,
          2.4938604776683317,
          2.4938604776683317,
          2.4938604776683317,
          2.4938604776683317,
          2.4938604776683317,
          2.4938604776683317,
          2.4938604776683317,
          2.4938604776683317,
          2.4938604776683317,
          2.4938604776683317,
          2.2768857104304425,
          2.2768857104304425,
          2.2768857104304425,
          2.2768857104304425,
          2.2768857104304425,
          2.2768857104304425,
          2.2768857104304425,
          2.2768857104304425,
          2.2768857104304425,
          2.2768857104304425,
          2.2768857104304425,
          2.2768857104304425,
          2.2768857104304425,
          2.2768857104304425,
          2.2768857104304425,
          2.2768857104304425,
          2.2768857104304425,
          2.2768857104304425,
          2.2768857104304425,
          2.2768857104304425,
          2.2768857104304425,
          2.2768857104304425,
          2.2768857104304425,
          2.2768857104304425,
          2.2768857104304425,
          2.2768857104304425,
          2.2768857104304425,
          2.2768857104304425,
          2.2768857104304425,
          2.0599109431925533,
          2.0599109431925533,
          2.0599109431925533,
          2.0599109431925533,
          2.0599109431925533,
          2.0599109431925533,
          2.0599109431925533,
          2.0599109431925533,
          2.0599109431925533,
          2.0599109431925533,
          2.0599109431925533,
          2.0599109431925533,
          2.0599109431925533,
          2.0599109431925533,
          2.0599109431925533,
          2.0599109431925533,
          2.0599109431925533,
          2.0599109431925533,
          2.0599109431925533,
          2.0599109431925533,
          2.0599109431925533,
          2.0599109431925533,
          2.0599109431925533,
          2.0599109431925533,
          2.0599109431925533,
          2.0599109431925533,
          2.0599109431925533,
          2.0599109431925533,
          2.0599109431925533,
          2.0599109431925533,
          2.0599109431925533,
          2.0599109431925533,
          2.0599109431925533,
          2.0599109431925533,
          2.0599109431925533,
          2.0599109431925533,
          2.0599109431925533,
          2.0599109431925533,
          2.0599109431925533,
          2.0599109431925533,
          2.0599109431925533,
          2.0599109431925533,
          2.0599109431925533,
          2.0599109431925533,
          2.0599109431925533
         ],
         "yaxis": "y2"
        },
        {
         "marker": {
          "color": "#000000"
         },
         "mode": "markers",
         "name": "Safety X Left Angles",
         "showlegend": false,
         "type": "scatter",
         "x": [
          3,
          3,
          3,
          3,
          3,
          3,
          3,
          3,
          3,
          3,
          3,
          3,
          3,
          3,
          3,
          3,
          3,
          3,
          3,
          3,
          3,
          3,
          3,
          3,
          3,
          3,
          3,
          3,
          3,
          3,
          3,
          3,
          4,
          4,
          4,
          4,
          4,
          4,
          4,
          4,
          4,
          4,
          4,
          4,
          4,
          5,
          5,
          5,
          5,
          5,
          5,
          5,
          5,
          5,
          5,
          5,
          5,
          5,
          5,
          5,
          5,
          5,
          5,
          5,
          5,
          5,
          5,
          5,
          5,
          5,
          5,
          5,
          5,
          5,
          5,
          5,
          5,
          5,
          5,
          5,
          5,
          5,
          5,
          5,
          5,
          5,
          5,
          5,
          5,
          5,
          5,
          5,
          5,
          5,
          5,
          4,
          4,
          4,
          4,
          4,
          4,
          4,
          5,
          5,
          5,
          5,
          5,
          5,
          5,
          5,
          5,
          5,
          5,
          5,
          5,
          5,
          5,
          5,
          5,
          5,
          5,
          5,
          5,
          5,
          5,
          4,
          4,
          4,
          4,
          4,
          4,
          4,
          2,
          2,
          2,
          2,
          2,
          2,
          2,
          2,
          2,
          2,
          2,
          4,
          4,
          4,
          4,
          4,
          4,
          4,
          4,
          4,
          4,
          4,
          4,
          4,
          4,
          4,
          4,
          4,
          4,
          4,
          4,
          4,
          4,
          4,
          4,
          4,
          4,
          4,
          4,
          4,
          4,
          3,
          3,
          3,
          3,
          3,
          3,
          3,
          3,
          3,
          3,
          3,
          3,
          3,
          3,
          3,
          3,
          3,
          3,
          3,
          3,
          3,
          3,
          3,
          3,
          3,
          3,
          3,
          3,
          3,
          3,
          3,
          4,
          4,
          4,
          4,
          4,
          4,
          4,
          3,
          3,
          3,
          3,
          3,
          3,
          3,
          3,
          3,
          3,
          3,
          3,
          3,
          3,
          3,
          3,
          3,
          3,
          3,
          3,
          3,
          3,
          3,
          3,
          3,
          3,
          3,
          3,
          4,
          4,
          4,
          4,
          4,
          4,
          4,
          4,
          4,
          4,
          3,
          3,
          3,
          3,
          3,
          4,
          4,
          4,
          4,
          4,
          4,
          4,
          4,
          4,
          4,
          4,
          4,
          4,
          4,
          4,
          4,
          4,
          4,
          4,
          4,
          4,
          4,
          4,
          4,
          4,
          4,
          4,
          5,
          5,
          5,
          5,
          5,
          5,
          5,
          5,
          5,
          5,
          5,
          5,
          5,
          5,
          5,
          5,
          5,
          5,
          5,
          5,
          5,
          5,
          5,
          5,
          5,
          5,
          5,
          5,
          5,
          5,
          5,
          5,
          5,
          5,
          5,
          5,
          5,
          5,
          5,
          5,
          5,
          5,
          5,
          5,
          5,
          5,
          5,
          5,
          5,
          5,
          5,
          5,
          5,
          5,
          5,
          5,
          5,
          5,
          5,
          5,
          5,
          5,
          5,
          5,
          5,
          5,
          5,
          5,
          5,
          5,
          5,
          5,
          5,
          5,
          5,
          5,
          5,
          5,
          5,
          5,
          5,
          5,
          5,
          5,
          5,
          5,
          5,
          5,
          5,
          5,
          5,
          5,
          5,
          5,
          5,
          5,
          5,
          5,
          5,
          5,
          5,
          5,
          5,
          5,
          5,
          5,
          5,
          5,
          5,
          5,
          5,
          5
         ],
         "xaxis": "x3",
         "y": [
          -47.666526794433594,
          -21.484336853027344,
          -36.794795989990234,
          -52.08001708984375,
          -51.668216705322266,
          -44.17696762084961,
          -40.55561828613281,
          -34.63263702392578,
          -40.531646728515625,
          -42.54372024536133,
          -41.69244384765625,
          -42.9048957824707,
          -43.97016525268555,
          -44.64515686035156,
          -21.19561767578125,
          -22.651601791381836,
          -43.18262481689453,
          -47.14550018310547,
          -30.267179489135742,
          -20.26311683654785,
          -67.28480529785156,
          -67.14232635498047,
          -87.30918884277344,
          -72.42951965332031,
          -70.80634307861328,
          -70.86859130859375,
          -107.44425964355469,
          -117.33729553222656,
          -43.293678283691406,
          -36.36376190185547,
          -57.349266052246094,
          -22.33453941345215,
          -98.76146697998047,
          -88.41048431396484,
          -49.645870208740234,
          -93.32574462890625,
          -29.30659294128418,
          -47.709495544433594,
          -21.661296844482422,
          -28.91233253479004,
          -32.03322219848633,
          -49.77845764160156,
          -42.66351318359375,
          -49.29237365722656,
          -24.09793472290039,
          -69.60320281982422,
          -43.853450775146484,
          -20.250789642333984,
          -27.80133819580078,
          -30.78321075439453,
          -46.92949295043945,
          -24.746618270874023,
          -88.69931030273438,
          -23.954275131225586,
          -23.72650146484375,
          -25.54481315612793,
          -37.90719985961914,
          -20.497570037841797,
          -42.93614196777344,
          -27.87035369873047,
          -29.758010864257812,
          -41.2688102722168,
          -37.337947845458984,
          -36.72073745727539,
          -30.46440315246582,
          -31.06214141845703,
          -60.56392288208008,
          -26.677549362182617,
          -20.265811920166016,
          -25.806743621826172,
          -24.327043533325195,
          -40.79499053955078,
          -36.75479507446289,
          -35.21482849121094,
          -47.43341827392578,
          -57.33213806152344,
          -57.729888916015625,
          -72.64678955078125,
          -66.55276489257812,
          -64.12899017333984,
          -63.40641403198242,
          -25.382492065429688,
          -55.836307525634766,
          -24.32160758972168,
          -46.622920989990234,
          -51.435333251953125,
          -23.947940826416016,
          -37.49431610107422,
          -59.1222038269043,
          -38.351341247558594,
          -48.7518424987793,
          -34.124794006347656,
          -70.91096496582031,
          -56.6480712890625,
          -55.06576919555664,
          -74.47863006591797,
          -66.48492431640625,
          -70.85111999511719,
          -24.08404541015625,
          -25.652376174926758,
          -23.795825958251953,
          -39.9722785949707,
          -76.22904968261719,
          -36.36790466308594,
          -25.718503952026367,
          -30.800867080688477,
          -42.472530364990234,
          -21.359464645385742,
          -79.26457977294922,
          -21.87656021118164,
          -24.1875,
          -62.70814895629883,
          -76.25226593017578,
          -93.99514770507812,
          -55.89223861694336,
          -23.2946834564209,
          -58.42012405395508,
          -62.31448745727539,
          -72.19010162353516,
          -46.059051513671875,
          -35.68299102783203,
          -62.874351501464844,
          -49.13117599487305,
          -32.49879837036133,
          -47.78541946411133,
          -20.111499786376953,
          -49.19326400756836,
          -25.851306915283203,
          -46.56504821777344,
          -22.68629264831543,
          -53.7322998046875,
          -33.834110260009766,
          -79.10801696777344,
          -33.09008026123047,
          -20.200084686279297,
          -100.48797607421875,
          -28.305498123168945,
          -21.001073837280273,
          -33.67699432373047,
          -33.46222686767578,
          -34.06425094604492,
          -80.84832000732422,
          -23.009248733520508,
          -36.07480239868164,
          -42.35624694824219,
          -126.48091125488281,
          -81.86786651611328,
          -52.749847412109375,
          -33.073421478271484,
          -25.34535026550293,
          -64.84943389892578,
          -45.4056396484375,
          -21.288436889648438,
          -20.373600006103516,
          -27.635095596313477,
          -76.70243072509766,
          -98.96235656738281,
          -36.03885269165039,
          -53.45205307006836,
          -36.62709426879883,
          -32.61851119995117,
          -21.614282608032227,
          -89.00562286376953,
          -21.262483596801758,
          -37.99697494506836,
          -100.37846374511719,
          -102.0451431274414,
          -69.77191925048828,
          -39.31749725341797,
          -52.31996536254883,
          -21.4235897064209,
          -45.92110824584961,
          -53.26644515991211,
          -56.629859924316406,
          -61.03288269042969,
          -39.7336311340332,
          -78.63274383544922,
          -38.512943267822266,
          -61.21343231201172,
          -70.42141723632812,
          -92.27782440185547,
          -96.12755584716797,
          -62.08799743652344,
          -39.28007888793945,
          -38.80401611328125,
          -67.2330322265625,
          -102.31486511230469,
          -61.53478240966797,
          -26.84272003173828,
          -62.94279861450195,
          -26.000810623168945,
          -60.798038482666016,
          -35.9769287109375,
          -40.47431564331055,
          -38.455780029296875,
          -39.4749870300293,
          -49.93796920776367,
          -52.29314041137695,
          -21.029985427856445,
          -26.969722747802734,
          -47.74819564819336,
          -62.361602783203125,
          -46.45425796508789,
          -20.389081954956055,
          -22.232223510742188,
          -45.74385070800781,
          -37.851051330566406,
          -41.021087646484375,
          -59.32514572143555,
          -84.78738403320312,
          -64.70120239257812,
          -57.0521354675293,
          -63.29587936401367,
          -47.92859649658203,
          -20.440696716308594,
          -31.895008087158203,
          -26.515199661254883,
          -36.640804290771484,
          -32.765380859375,
          -21.26105499267578,
          -20.41128921508789,
          -36.01387023925781,
          -42.11653137207031,
          -24.157033920288086,
          -39.559383392333984,
          -23.765403747558594,
          -49.13495635986328,
          -84.98915100097656,
          -34.22925567626953,
          -56.47740936279297,
          -63.06930923461914,
          -46.16357421875,
          -58.11908721923828,
          -45.25000762939453,
          -39.59261703491211,
          -39.779090881347656,
          -68.0080795288086,
          -64.59273529052734,
          -24.282115936279297,
          -29.410398483276367,
          -32.70701217651367,
          -42.155311584472656,
          -96.25011444091797,
          -38.40529251098633,
          -55.020633697509766,
          -30.85947608947754,
          -36.37262725830078,
          -27.617107391357422,
          -50.84975051879883,
          -80.93260955810547,
          -37.41346740722656,
          -88.94500732421875,
          -21.647489547729492,
          -22.3696346282959,
          -43.628562927246094,
          -33.33858871459961,
          -56.813316345214844,
          -20.200359344482422,
          -80.74800872802734,
          -23.596817016601562,
          -30.56528663635254,
          -34.561317443847656,
          -48.28153991699219,
          -22.459667205810547,
          -46.36096954345703,
          -50.33646774291992,
          -51.195770263671875,
          -51.6278190612793,
          -47.11191940307617,
          -50.45098114013672,
          -43.53103256225586,
          -45.32652282714844,
          -26.398746490478516,
          -20.51887321472168,
          -87.34780883789062,
          -48.994937896728516,
          -106.83561706542969,
          -23.047109603881836,
          -38.52191162109375,
          -34.54970932006836,
          -56.384029388427734,
          -90.17524719238281,
          -28.13671112060547,
          -33.53044891357422,
          -33.84953308105469,
          -72.91547393798828,
          -52.58467483520508,
          -47.21274185180664,
          -62.328121185302734,
          -65.58775329589844,
          -80.13521575927734,
          -32.24687576293945,
          -63.008514404296875,
          -87.40037536621094,
          -45.96516418457031,
          -77.57595825195312,
          -57.91930389404297,
          -37.488651275634766,
          -48.179874420166016,
          -54.31241226196289,
          -64.29418182373047,
          -60.21290969848633,
          -55.22676086425781,
          -76.22150421142578,
          -26.938671112060547,
          -95.06999969482422,
          -36.20745849609375,
          -35.08584213256836,
          -91.92755126953125,
          -94.32137298583984,
          -49.935020446777344,
          -25.287824630737305,
          -36.38284683227539,
          -43.88005828857422,
          -21.851730346679688,
          -62.46355438232422,
          -63.03584671020508,
          -57.683406829833984,
          -60.569190979003906,
          -21.835725784301758,
          -55.68415832519531,
          -67.6316909790039,
          -60.14436340332031,
          -93.4038314819336,
          -36.60471725463867,
          -59.0208625793457,
          -59.804203033447266,
          -73.7621841430664,
          -92.2616958618164,
          -71.10051727294922,
          -33.15530776977539,
          -57.787776947021484,
          -26.87387466430664,
          -63.193668365478516,
          -27.776948928833008,
          -37.35963439941406,
          -47.05863571166992,
          -54.047630310058594,
          -45.38882064819336,
          -83.78319549560547,
          -32.589515686035156,
          -21.693988800048828,
          -20.911314010620117,
          -51.811283111572266,
          -38.31684112548828,
          -26.550048828125,
          -49.21003341674805,
          -51.14552688598633,
          -29.56390380859375,
          -21.985158920288086,
          -20.8553524017334,
          -41.134490966796875,
          -32.676536560058594,
          -45.99222183227539,
          -58.85171127319336,
          -46.6821174621582,
          -20.68837547302246,
          -47.7024040222168,
          -21.73375129699707,
          -123.4444580078125,
          -28.17323112487793,
          -36.532310485839844,
          -113.36212158203125,
          -22.652910232543945,
          -49.83147048950195,
          -26.97781753540039,
          -32.25593948364258,
          -65.08733367919922,
          -87.66224670410156,
          -79.4736328125,
          -69.27359771728516,
          -20.219133377075195,
          -98.14337158203125,
          -32.20651626586914,
          -21.84103012084961,
          -80.16746520996094,
          -87.07392120361328,
          -70.31099700927734,
          -63.458831787109375,
          -103.50304412841797,
          -52.1144905090332,
          -71.31498718261719,
          -45.22321701049805,
          -20.710725784301758,
          -65.7237319946289,
          -25.51755714416504,
          -99.66796112060547,
          -61.01495361328125,
          -56.907142639160156,
          -46.309391021728516,
          -67.21751403808594,
          -24.24735450744629,
          -23.74151611328125
         ],
         "yaxis": "y3"
        },
        {
         "hovertemplate": "<b>OLS trendline</b><br>y = -0.869341 * x + -45.0774<br>R<sup>2</sup>=0.001188<br><br>x=%{x}<br>y=%{y} <b>(trend)</b><extra></extra>",
         "legendgroup": "",
         "marker": {
          "color": "#961C26",
          "symbol": "circle"
         },
         "mode": "lines",
         "name": "",
         "showlegend": false,
         "type": "scatter",
         "x": [
          2,
          2,
          2,
          2,
          2,
          2,
          2,
          2,
          2,
          2,
          2,
          3,
          3,
          3,
          3,
          3,
          3,
          3,
          3,
          3,
          3,
          3,
          3,
          3,
          3,
          3,
          3,
          3,
          3,
          3,
          3,
          3,
          3,
          3,
          3,
          3,
          3,
          3,
          3,
          3,
          3,
          3,
          3,
          3,
          3,
          3,
          3,
          3,
          3,
          3,
          3,
          3,
          3,
          3,
          3,
          3,
          3,
          3,
          3,
          3,
          3,
          3,
          3,
          3,
          3,
          3,
          3,
          3,
          3,
          3,
          3,
          3,
          3,
          3,
          3,
          3,
          3,
          3,
          3,
          3,
          3,
          3,
          3,
          3,
          3,
          3,
          3,
          3,
          3,
          3,
          3,
          3,
          3,
          3,
          3,
          3,
          3,
          3,
          3,
          3,
          3,
          3,
          3,
          3,
          3,
          3,
          3,
          4,
          4,
          4,
          4,
          4,
          4,
          4,
          4,
          4,
          4,
          4,
          4,
          4,
          4,
          4,
          4,
          4,
          4,
          4,
          4,
          4,
          4,
          4,
          4,
          4,
          4,
          4,
          4,
          4,
          4,
          4,
          4,
          4,
          4,
          4,
          4,
          4,
          4,
          4,
          4,
          4,
          4,
          4,
          4,
          4,
          4,
          4,
          4,
          4,
          4,
          4,
          4,
          4,
          4,
          4,
          4,
          4,
          4,
          4,
          4,
          4,
          4,
          4,
          4,
          4,
          4,
          4,
          4,
          4,
          4,
          4,
          4,
          4,
          4,
          4,
          4,
          4,
          4,
          4,
          4,
          4,
          4,
          4,
          4,
          4,
          4,
          4,
          4,
          4,
          4,
          4,
          4,
          4,
          4,
          4,
          4,
          4,
          4,
          4,
          4,
          4,
          5,
          5,
          5,
          5,
          5,
          5,
          5,
          5,
          5,
          5,
          5,
          5,
          5,
          5,
          5,
          5,
          5,
          5,
          5,
          5,
          5,
          5,
          5,
          5,
          5,
          5,
          5,
          5,
          5,
          5,
          5,
          5,
          5,
          5,
          5,
          5,
          5,
          5,
          5,
          5,
          5,
          5,
          5,
          5,
          5,
          5,
          5,
          5,
          5,
          5,
          5,
          5,
          5,
          5,
          5,
          5,
          5,
          5,
          5,
          5,
          5,
          5,
          5,
          5,
          5,
          5,
          5,
          5,
          5,
          5,
          5,
          5,
          5,
          5,
          5,
          5,
          5,
          5,
          5,
          5,
          5,
          5,
          5,
          5,
          5,
          5,
          5,
          5,
          5,
          5,
          5,
          5,
          5,
          5,
          5,
          5,
          5,
          5,
          5,
          5,
          5,
          5,
          5,
          5,
          5,
          5,
          5,
          5,
          5,
          5,
          5,
          5,
          5,
          5,
          5,
          5,
          5,
          5,
          5,
          5,
          5,
          5,
          5,
          5,
          5,
          5,
          5,
          5,
          5,
          5,
          5,
          5,
          5,
          5,
          5,
          5,
          5,
          5,
          5,
          5,
          5,
          5,
          5,
          5,
          5,
          5,
          5,
          5,
          5,
          5,
          5,
          5,
          5,
          5,
          5,
          5,
          5,
          5,
          5,
          5,
          5,
          5,
          5,
          5,
          5,
          5,
          5,
          5,
          5,
          5,
          5,
          5,
          5,
          5,
          5,
          5,
          5,
          5,
          5,
          5,
          5,
          5,
          5,
          5,
          5
         ],
         "xaxis": "x3",
         "y": [
          -46.81606380652149,
          -46.81606380652149,
          -46.81606380652149,
          -46.81606380652149,
          -46.81606380652149,
          -46.81606380652149,
          -46.81606380652149,
          -46.81606380652149,
          -46.81606380652149,
          -46.81606380652149,
          -46.81606380652149,
          -47.68540486150617,
          -47.68540486150617,
          -47.68540486150617,
          -47.68540486150617,
          -47.68540486150617,
          -47.68540486150617,
          -47.68540486150617,
          -47.68540486150617,
          -47.68540486150617,
          -47.68540486150617,
          -47.68540486150617,
          -47.68540486150617,
          -47.68540486150617,
          -47.68540486150617,
          -47.68540486150617,
          -47.68540486150617,
          -47.68540486150617,
          -47.68540486150617,
          -47.68540486150617,
          -47.68540486150617,
          -47.68540486150617,
          -47.68540486150617,
          -47.68540486150617,
          -47.68540486150617,
          -47.68540486150617,
          -47.68540486150617,
          -47.68540486150617,
          -47.68540486150617,
          -47.68540486150617,
          -47.68540486150617,
          -47.68540486150617,
          -47.68540486150617,
          -47.68540486150617,
          -47.68540486150617,
          -47.68540486150617,
          -47.68540486150617,
          -47.68540486150617,
          -47.68540486150617,
          -47.68540486150617,
          -47.68540486150617,
          -47.68540486150617,
          -47.68540486150617,
          -47.68540486150617,
          -47.68540486150617,
          -47.68540486150617,
          -47.68540486150617,
          -47.68540486150617,
          -47.68540486150617,
          -47.68540486150617,
          -47.68540486150617,
          -47.68540486150617,
          -47.68540486150617,
          -47.68540486150617,
          -47.68540486150617,
          -47.68540486150617,
          -47.68540486150617,
          -47.68540486150617,
          -47.68540486150617,
          -47.68540486150617,
          -47.68540486150617,
          -47.68540486150617,
          -47.68540486150617,
          -47.68540486150617,
          -47.68540486150617,
          -47.68540486150617,
          -47.68540486150617,
          -47.68540486150617,
          -47.68540486150617,
          -47.68540486150617,
          -47.68540486150617,
          -47.68540486150617,
          -47.68540486150617,
          -47.68540486150617,
          -47.68540486150617,
          -47.68540486150617,
          -47.68540486150617,
          -47.68540486150617,
          -47.68540486150617,
          -47.68540486150617,
          -47.68540486150617,
          -47.68540486150617,
          -47.68540486150617,
          -47.68540486150617,
          -47.68540486150617,
          -47.68540486150617,
          -47.68540486150617,
          -47.68540486150617,
          -47.68540486150617,
          -47.68540486150617,
          -47.68540486150617,
          -47.68540486150617,
          -47.68540486150617,
          -47.68540486150617,
          -47.68540486150617,
          -47.68540486150617,
          -47.68540486150617,
          -48.55474591649085,
          -48.55474591649085,
          -48.55474591649085,
          -48.55474591649085,
          -48.55474591649085,
          -48.55474591649085,
          -48.55474591649085,
          -48.55474591649085,
          -48.55474591649085,
          -48.55474591649085,
          -48.55474591649085,
          -48.55474591649085,
          -48.55474591649085,
          -48.55474591649085,
          -48.55474591649085,
          -48.55474591649085,
          -48.55474591649085,
          -48.55474591649085,
          -48.55474591649085,
          -48.55474591649085,
          -48.55474591649085,
          -48.55474591649085,
          -48.55474591649085,
          -48.55474591649085,
          -48.55474591649085,
          -48.55474591649085,
          -48.55474591649085,
          -48.55474591649085,
          -48.55474591649085,
          -48.55474591649085,
          -48.55474591649085,
          -48.55474591649085,
          -48.55474591649085,
          -48.55474591649085,
          -48.55474591649085,
          -48.55474591649085,
          -48.55474591649085,
          -48.55474591649085,
          -48.55474591649085,
          -48.55474591649085,
          -48.55474591649085,
          -48.55474591649085,
          -48.55474591649085,
          -48.55474591649085,
          -48.55474591649085,
          -48.55474591649085,
          -48.55474591649085,
          -48.55474591649085,
          -48.55474591649085,
          -48.55474591649085,
          -48.55474591649085,
          -48.55474591649085,
          -48.55474591649085,
          -48.55474591649085,
          -48.55474591649085,
          -48.55474591649085,
          -48.55474591649085,
          -48.55474591649085,
          -48.55474591649085,
          -48.55474591649085,
          -48.55474591649085,
          -48.55474591649085,
          -48.55474591649085,
          -48.55474591649085,
          -48.55474591649085,
          -48.55474591649085,
          -48.55474591649085,
          -48.55474591649085,
          -48.55474591649085,
          -48.55474591649085,
          -48.55474591649085,
          -48.55474591649085,
          -48.55474591649085,
          -48.55474591649085,
          -48.55474591649085,
          -48.55474591649085,
          -48.55474591649085,
          -48.55474591649085,
          -48.55474591649085,
          -48.55474591649085,
          -48.55474591649085,
          -48.55474591649085,
          -48.55474591649085,
          -48.55474591649085,
          -48.55474591649085,
          -48.55474591649085,
          -48.55474591649085,
          -48.55474591649085,
          -48.55474591649085,
          -48.55474591649085,
          -48.55474591649085,
          -48.55474591649085,
          -48.55474591649085,
          -48.55474591649085,
          -48.55474591649085,
          -48.55474591649085,
          -48.55474591649085,
          -48.55474591649085,
          -48.55474591649085,
          -48.55474591649085,
          -48.55474591649085,
          -49.424086971475525,
          -49.424086971475525,
          -49.424086971475525,
          -49.424086971475525,
          -49.424086971475525,
          -49.424086971475525,
          -49.424086971475525,
          -49.424086971475525,
          -49.424086971475525,
          -49.424086971475525,
          -49.424086971475525,
          -49.424086971475525,
          -49.424086971475525,
          -49.424086971475525,
          -49.424086971475525,
          -49.424086971475525,
          -49.424086971475525,
          -49.424086971475525,
          -49.424086971475525,
          -49.424086971475525,
          -49.424086971475525,
          -49.424086971475525,
          -49.424086971475525,
          -49.424086971475525,
          -49.424086971475525,
          -49.424086971475525,
          -49.424086971475525,
          -49.424086971475525,
          -49.424086971475525,
          -49.424086971475525,
          -49.424086971475525,
          -49.424086971475525,
          -49.424086971475525,
          -49.424086971475525,
          -49.424086971475525,
          -49.424086971475525,
          -49.424086971475525,
          -49.424086971475525,
          -49.424086971475525,
          -49.424086971475525,
          -49.424086971475525,
          -49.424086971475525,
          -49.424086971475525,
          -49.424086971475525,
          -49.424086971475525,
          -49.424086971475525,
          -49.424086971475525,
          -49.424086971475525,
          -49.424086971475525,
          -49.424086971475525,
          -49.424086971475525,
          -49.424086971475525,
          -49.424086971475525,
          -49.424086971475525,
          -49.424086971475525,
          -49.424086971475525,
          -49.424086971475525,
          -49.424086971475525,
          -49.424086971475525,
          -49.424086971475525,
          -49.424086971475525,
          -49.424086971475525,
          -49.424086971475525,
          -49.424086971475525,
          -49.424086971475525,
          -49.424086971475525,
          -49.424086971475525,
          -49.424086971475525,
          -49.424086971475525,
          -49.424086971475525,
          -49.424086971475525,
          -49.424086971475525,
          -49.424086971475525,
          -49.424086971475525,
          -49.424086971475525,
          -49.424086971475525,
          -49.424086971475525,
          -49.424086971475525,
          -49.424086971475525,
          -49.424086971475525,
          -49.424086971475525,
          -49.424086971475525,
          -49.424086971475525,
          -49.424086971475525,
          -49.424086971475525,
          -49.424086971475525,
          -49.424086971475525,
          -49.424086971475525,
          -49.424086971475525,
          -49.424086971475525,
          -49.424086971475525,
          -49.424086971475525,
          -49.424086971475525,
          -49.424086971475525,
          -49.424086971475525,
          -49.424086971475525,
          -49.424086971475525,
          -49.424086971475525,
          -49.424086971475525,
          -49.424086971475525,
          -49.424086971475525,
          -49.424086971475525,
          -49.424086971475525,
          -49.424086971475525,
          -49.424086971475525,
          -49.424086971475525,
          -49.424086971475525,
          -49.424086971475525,
          -49.424086971475525,
          -49.424086971475525,
          -49.424086971475525,
          -49.424086971475525,
          -49.424086971475525,
          -49.424086971475525,
          -49.424086971475525,
          -49.424086971475525,
          -49.424086971475525,
          -49.424086971475525,
          -49.424086971475525,
          -49.424086971475525,
          -49.424086971475525,
          -49.424086971475525,
          -49.424086971475525,
          -49.424086971475525,
          -49.424086971475525,
          -49.424086971475525,
          -49.424086971475525,
          -49.424086971475525,
          -49.424086971475525,
          -49.424086971475525,
          -49.424086971475525,
          -49.424086971475525,
          -49.424086971475525,
          -49.424086971475525,
          -49.424086971475525,
          -49.424086971475525,
          -49.424086971475525,
          -49.424086971475525,
          -49.424086971475525,
          -49.424086971475525,
          -49.424086971475525,
          -49.424086971475525,
          -49.424086971475525,
          -49.424086971475525,
          -49.424086971475525,
          -49.424086971475525,
          -49.424086971475525,
          -49.424086971475525,
          -49.424086971475525,
          -49.424086971475525,
          -49.424086971475525,
          -49.424086971475525,
          -49.424086971475525,
          -49.424086971475525,
          -49.424086971475525,
          -49.424086971475525,
          -49.424086971475525,
          -49.424086971475525,
          -49.424086971475525,
          -49.424086971475525,
          -49.424086971475525,
          -49.424086971475525,
          -49.424086971475525,
          -49.424086971475525,
          -49.424086971475525,
          -49.424086971475525,
          -49.424086971475525,
          -49.424086971475525,
          -49.424086971475525,
          -49.424086971475525,
          -49.424086971475525,
          -49.424086971475525,
          -49.424086971475525,
          -49.424086971475525,
          -49.424086971475525,
          -49.424086971475525,
          -49.424086971475525,
          -49.424086971475525,
          -49.424086971475525,
          -49.424086971475525,
          -49.424086971475525,
          -49.424086971475525,
          -49.424086971475525,
          -49.424086971475525,
          -49.424086971475525
         ],
         "yaxis": "y3"
        },
        {
         "marker": {
          "color": "#000000"
         },
         "mode": "markers",
         "name": "Safety X Left Angles",
         "showlegend": false,
         "type": "scatter",
         "x": [
          3,
          3,
          3,
          3,
          3,
          3,
          3,
          3,
          3,
          3,
          3,
          3,
          3,
          3,
          3,
          3,
          3,
          3,
          3,
          3,
          3,
          4,
          4,
          4,
          4,
          4,
          4,
          4,
          4,
          4,
          5,
          5,
          5,
          5,
          5,
          5,
          5,
          5,
          5,
          5,
          5,
          5,
          5,
          5,
          5,
          5,
          5,
          5,
          5,
          5,
          5,
          5,
          5,
          5,
          4,
          5,
          5,
          5,
          5,
          5,
          5,
          5,
          5,
          5,
          5,
          5,
          5,
          5,
          5,
          4,
          4,
          4,
          4,
          4,
          4,
          4,
          4,
          4,
          4,
          4,
          4,
          4,
          4,
          4,
          4,
          4,
          4,
          4,
          4,
          4,
          4,
          3,
          3,
          3,
          3,
          3,
          3,
          3,
          3,
          3,
          3,
          3,
          3,
          3,
          3,
          3,
          3,
          3,
          3,
          3,
          3,
          3,
          3,
          3,
          3,
          3,
          3,
          3,
          3,
          4,
          4,
          4,
          4,
          4,
          3,
          3,
          3,
          3,
          3,
          3,
          3,
          3,
          3,
          3,
          3,
          3,
          3,
          3,
          3,
          3,
          3,
          3,
          3,
          3,
          4,
          4,
          4,
          4,
          4,
          4,
          4,
          4,
          3,
          4,
          4,
          4,
          4,
          4,
          4,
          4,
          4,
          4,
          4,
          4,
          4,
          4,
          4,
          4,
          4,
          4,
          5,
          5,
          5,
          5,
          5,
          5,
          5,
          5,
          5,
          5,
          5,
          5,
          5,
          5,
          5,
          5,
          5,
          5,
          5,
          5,
          5,
          5,
          5,
          5,
          5,
          5,
          5,
          5,
          5,
          5,
          5,
          5,
          5,
          5,
          5,
          5,
          5,
          5,
          5,
          5,
          5,
          5,
          5,
          5,
          5,
          5,
          5,
          5,
          5,
          5,
          5,
          5,
          5,
          5
         ],
         "xaxis": "x4",
         "y": [
          26.673675537109375,
          72.265625,
          111.22623443603516,
          49.788509368896484,
          44.71192169189453,
          32.488624572753906,
          20.258432388305664,
          96.38427734375,
          48.27286148071289,
          20.13835334777832,
          225.80804443359375,
          203.05657958984375,
          258.9930114746094,
          261.3008117675781,
          194.58656311035156,
          223.38250732421875,
          181.5327606201172,
          180.31680297851562,
          206.16738891601562,
          204.732666015625,
          281.55584716796875,
          221.26687622070312,
          251.13230895996094,
          76.35710906982422,
          215.99075317382812,
          22.319337844848633,
          27.27208709716797,
          300.0000305175781,
          29.049692153930664,
          38.867088317871094,
          23.361164093017578,
          37.726593017578125,
          20.088041305541992,
          60.376426696777344,
          24.291542053222656,
          124.17807006835938,
          25.801008224487305,
          23.51451301574707,
          32.38871383666992,
          243.71946716308594,
          41.1047477722168,
          291.0025329589844,
          269.7626647949219,
          27.8388671875,
          34.930686950683594,
          59.95955276489258,
          51.88886260986328,
          115.97518157958984,
          45.398193359375,
          49.276702880859375,
          239.26988220214844,
          40.89011764526367,
          237.89048767089844,
          39.61357116699219,
          25.352497100830078,
          47.67856979370117,
          25.356094360351562,
          50.94615936279297,
          31.992883682250977,
          56.188331604003906,
          69.94208526611328,
          60.835819244384766,
          30.772294998168945,
          60.177528381347656,
          48.781471252441406,
          47.35771942138672,
          53.67286682128906,
          54.13275909423828,
          20.848623275756836,
          40.457923889160156,
          29.738380432128906,
          20.0419979095459,
          36.48262405395508,
          43.8958625793457,
          44.71098709106445,
          60.26375198364258,
          23.82597541809082,
          31.006017684936523,
          34.99159622192383,
          74.45995330810547,
          62.6185188293457,
          26.9796085357666,
          28.857576370239258,
          51.09992980957031,
          27.458959579467773,
          22.61515235900879,
          21.049476623535156,
          33.90752029418945,
          20.539581298828125,
          41.11008834838867,
          40.73923873901367,
          21.47239875793457,
          29.249980926513672,
          43.51893615722656,
          30.170398712158203,
          22.820053100585938,
          54.27970886230469,
          48.56462860107422,
          35.44611358642578,
          24.69158172607422,
          24.110013961791992,
          27.434206008911133,
          25.77639389038086,
          25.145544052124023,
          21.286645889282227,
          25.115835189819336,
          37.82069778442383,
          55.944358825683594,
          23.123119354248047,
          26.5007381439209,
          43.50901794433594,
          65.61656951904297,
          64.35028076171875,
          63.88309860229492,
          43.8466911315918,
          110.99566650390625,
          48.78110122680664,
          21.248367309570312,
          246.5771942138672,
          27.007707595825195,
          24.108232498168945,
          44.726558685302734,
          31.391603469848633,
          25.383878707885742,
          20.000442504882812,
          36.21195602416992,
          45.5235481262207,
          44.73889923095703,
          47.746822357177734,
          43.952754974365234,
          20.948606491088867,
          29.484193801879883,
          29.060014724731445,
          23.444185256958008,
          28.254146575927734,
          28.813451766967773,
          33.169830322265625,
          21.37665557861328,
          20.154767990112305,
          23.28439712524414,
          40.8826904296875,
          37.50126647949219,
          35.30916213989258,
          29.3981876373291,
          33.81668472290039,
          20.437763214111328,
          23.510929107666016,
          28.416759490966797,
          27.29709815979004,
          30.73431968688965,
          31.273895263671875,
          28.787094116210938,
          28.502439498901367,
          35.49028396606445,
          47.75333023071289,
          42.78274917602539,
          31.453590393066406,
          25.423912048339844,
          35.929603576660156,
          52.841331481933594,
          24.457942962646484,
          40.933197021484375,
          55.25414276123047,
          66.11962890625,
          65.31642150878906,
          67.63290405273438,
          69.23448181152344,
          60.70447540283203,
          78.62028503417969,
          23.396949768066406,
          39.067440032958984,
          49.098941802978516,
          45.820125579833984,
          255.46002197265625,
          40.73073959350586,
          72.20929718017578,
          40.400516510009766,
          47.827457427978516,
          31.4644718170166,
          275.9725646972656,
          35.211185455322266,
          59.847816467285156,
          29.7293701171875,
          76.4751205444336,
          39.412376403808594,
          33.28114318847656,
          35.07647705078125,
          58.83646011352539,
          45.08977508544922,
          41.325130462646484,
          36.724369049072266,
          34.0559196472168,
          30.144521713256836,
          58.21169662475586,
          47.78072738647461,
          22.977081298828125,
          68.44070434570312,
          25.064472198486328,
          20.142480850219727,
          26.57387351989746,
          22.67227554321289,
          22.51879119873047,
          42.09779739379883,
          22.689451217651367,
          26.140445709228516,
          20.295621871948242,
          20.782255172729492,
          54.43113327026367,
          128.5784454345703,
          26.883895874023438,
          31.871196746826172,
          56.44002151489258,
          51.72858810424805,
          58.306819915771484,
          46.61920928955078,
          68.14509582519531,
          21.038497924804688,
          20.31439971923828,
          20.331287384033203,
          24.37416648864746,
          66.16350555419922,
          35.35976028442383,
          64.99497985839844,
          22.793550491333008
         ],
         "yaxis": "y4"
        },
        {
         "hovertemplate": "<b>OLS trendline</b><br>y = -4.67818 * x + 80.1737<br>R<sup>2</sup>=0.003863<br><br>x=%{x}<br>y=%{y} <b>(trend)</b><extra></extra>",
         "legendgroup": "",
         "marker": {
          "color": "#961C26",
          "symbol": "circle"
         },
         "mode": "lines",
         "name": "",
         "showlegend": false,
         "type": "scatter",
         "x": [
          3,
          3,
          3,
          3,
          3,
          3,
          3,
          3,
          3,
          3,
          3,
          3,
          3,
          3,
          3,
          3,
          3,
          3,
          3,
          3,
          3,
          3,
          3,
          3,
          3,
          3,
          3,
          3,
          3,
          3,
          3,
          3,
          3,
          3,
          3,
          3,
          3,
          3,
          3,
          3,
          3,
          3,
          3,
          3,
          3,
          3,
          3,
          3,
          3,
          3,
          3,
          3,
          3,
          3,
          3,
          3,
          3,
          3,
          3,
          3,
          3,
          3,
          3,
          3,
          3,
          3,
          3,
          3,
          3,
          3,
          4,
          4,
          4,
          4,
          4,
          4,
          4,
          4,
          4,
          4,
          4,
          4,
          4,
          4,
          4,
          4,
          4,
          4,
          4,
          4,
          4,
          4,
          4,
          4,
          4,
          4,
          4,
          4,
          4,
          4,
          4,
          4,
          4,
          4,
          4,
          4,
          4,
          4,
          4,
          4,
          4,
          4,
          4,
          4,
          4,
          4,
          4,
          4,
          4,
          4,
          4,
          4,
          4,
          4,
          4,
          4,
          4,
          4,
          4,
          4,
          4,
          4,
          5,
          5,
          5,
          5,
          5,
          5,
          5,
          5,
          5,
          5,
          5,
          5,
          5,
          5,
          5,
          5,
          5,
          5,
          5,
          5,
          5,
          5,
          5,
          5,
          5,
          5,
          5,
          5,
          5,
          5,
          5,
          5,
          5,
          5,
          5,
          5,
          5,
          5,
          5,
          5,
          5,
          5,
          5,
          5,
          5,
          5,
          5,
          5,
          5,
          5,
          5,
          5,
          5,
          5,
          5,
          5,
          5,
          5,
          5,
          5,
          5,
          5,
          5,
          5,
          5,
          5,
          5,
          5,
          5,
          5,
          5,
          5,
          5,
          5,
          5,
          5,
          5,
          5,
          5,
          5,
          5,
          5,
          5,
          5,
          5,
          5,
          5,
          5,
          5,
          5,
          5,
          5
         ],
         "xaxis": "x4",
         "y": [
          66.13911930860303,
          66.13911930860303,
          66.13911930860303,
          66.13911930860303,
          66.13911930860303,
          66.13911930860303,
          66.13911930860303,
          66.13911930860303,
          66.13911930860303,
          66.13911930860303,
          66.13911930860303,
          66.13911930860303,
          66.13911930860303,
          66.13911930860303,
          66.13911930860303,
          66.13911930860303,
          66.13911930860303,
          66.13911930860303,
          66.13911930860303,
          66.13911930860303,
          66.13911930860303,
          66.13911930860303,
          66.13911930860303,
          66.13911930860303,
          66.13911930860303,
          66.13911930860303,
          66.13911930860303,
          66.13911930860303,
          66.13911930860303,
          66.13911930860303,
          66.13911930860303,
          66.13911930860303,
          66.13911930860303,
          66.13911930860303,
          66.13911930860303,
          66.13911930860303,
          66.13911930860303,
          66.13911930860303,
          66.13911930860303,
          66.13911930860303,
          66.13911930860303,
          66.13911930860303,
          66.13911930860303,
          66.13911930860303,
          66.13911930860303,
          66.13911930860303,
          66.13911930860303,
          66.13911930860303,
          66.13911930860303,
          66.13911930860303,
          66.13911930860303,
          66.13911930860303,
          66.13911930860303,
          66.13911930860303,
          66.13911930860303,
          66.13911930860303,
          66.13911930860303,
          66.13911930860303,
          66.13911930860303,
          66.13911930860303,
          66.13911930860303,
          66.13911930860303,
          66.13911930860303,
          66.13911930860303,
          66.13911930860303,
          66.13911930860303,
          66.13911930860303,
          66.13911930860303,
          66.13911930860303,
          66.13911930860303,
          61.460936614940024,
          61.460936614940024,
          61.460936614940024,
          61.460936614940024,
          61.460936614940024,
          61.460936614940024,
          61.460936614940024,
          61.460936614940024,
          61.460936614940024,
          61.460936614940024,
          61.460936614940024,
          61.460936614940024,
          61.460936614940024,
          61.460936614940024,
          61.460936614940024,
          61.460936614940024,
          61.460936614940024,
          61.460936614940024,
          61.460936614940024,
          61.460936614940024,
          61.460936614940024,
          61.460936614940024,
          61.460936614940024,
          61.460936614940024,
          61.460936614940024,
          61.460936614940024,
          61.460936614940024,
          61.460936614940024,
          61.460936614940024,
          61.460936614940024,
          61.460936614940024,
          61.460936614940024,
          61.460936614940024,
          61.460936614940024,
          61.460936614940024,
          61.460936614940024,
          61.460936614940024,
          61.460936614940024,
          61.460936614940024,
          61.460936614940024,
          61.460936614940024,
          61.460936614940024,
          61.460936614940024,
          61.460936614940024,
          61.460936614940024,
          61.460936614940024,
          61.460936614940024,
          61.460936614940024,
          61.460936614940024,
          61.460936614940024,
          61.460936614940024,
          61.460936614940024,
          61.460936614940024,
          61.460936614940024,
          61.460936614940024,
          61.460936614940024,
          61.460936614940024,
          61.460936614940024,
          61.460936614940024,
          61.460936614940024,
          61.460936614940024,
          61.460936614940024,
          56.78275392127702,
          56.78275392127702,
          56.78275392127702,
          56.78275392127702,
          56.78275392127702,
          56.78275392127702,
          56.78275392127702,
          56.78275392127702,
          56.78275392127702,
          56.78275392127702,
          56.78275392127702,
          56.78275392127702,
          56.78275392127702,
          56.78275392127702,
          56.78275392127702,
          56.78275392127702,
          56.78275392127702,
          56.78275392127702,
          56.78275392127702,
          56.78275392127702,
          56.78275392127702,
          56.78275392127702,
          56.78275392127702,
          56.78275392127702,
          56.78275392127702,
          56.78275392127702,
          56.78275392127702,
          56.78275392127702,
          56.78275392127702,
          56.78275392127702,
          56.78275392127702,
          56.78275392127702,
          56.78275392127702,
          56.78275392127702,
          56.78275392127702,
          56.78275392127702,
          56.78275392127702,
          56.78275392127702,
          56.78275392127702,
          56.78275392127702,
          56.78275392127702,
          56.78275392127702,
          56.78275392127702,
          56.78275392127702,
          56.78275392127702,
          56.78275392127702,
          56.78275392127702,
          56.78275392127702,
          56.78275392127702,
          56.78275392127702,
          56.78275392127702,
          56.78275392127702,
          56.78275392127702,
          56.78275392127702,
          56.78275392127702,
          56.78275392127702,
          56.78275392127702,
          56.78275392127702,
          56.78275392127702,
          56.78275392127702,
          56.78275392127702,
          56.78275392127702,
          56.78275392127702,
          56.78275392127702,
          56.78275392127702,
          56.78275392127702,
          56.78275392127702,
          56.78275392127702,
          56.78275392127702,
          56.78275392127702,
          56.78275392127702,
          56.78275392127702,
          56.78275392127702,
          56.78275392127702,
          56.78275392127702,
          56.78275392127702,
          56.78275392127702,
          56.78275392127702,
          56.78275392127702,
          56.78275392127702,
          56.78275392127702,
          56.78275392127702,
          56.78275392127702,
          56.78275392127702,
          56.78275392127702,
          56.78275392127702,
          56.78275392127702,
          56.78275392127702,
          56.78275392127702,
          56.78275392127702,
          56.78275392127702,
          56.78275392127702
         ],
         "yaxis": "y4"
        },
        {
         "marker": {
          "color": "#000000"
         },
         "mode": "markers",
         "name": "Safety X Difficulty",
         "showlegend": false,
         "type": "scatter",
         "x": [
          3,
          4,
          5,
          5,
          4,
          5,
          4,
          2,
          4,
          4,
          3,
          3,
          4,
          3,
          3,
          4,
          3,
          4,
          5,
          5,
          5,
          5,
          5,
          5
         ],
         "xaxis": "x5",
         "y": [
          5,
          3,
          1,
          2,
          1,
          1,
          1,
          4,
          2,
          2,
          3,
          3,
          1,
          3,
          2,
          1,
          2,
          2,
          2,
          3,
          1,
          1,
          2,
          1
         ],
         "yaxis": "y5"
        },
        {
         "hovertemplate": "<b>OLS trendline</b><br>y = -0.740659 * x + 5.03516<br>R<sup>2</sup>=0.385784<br><br>x=%{x}<br>y=%{y} <b>(trend)</b><extra></extra>",
         "legendgroup": "",
         "marker": {
          "color": "#961C26",
          "symbol": "circle"
         },
         "mode": "lines",
         "name": "",
         "showlegend": false,
         "type": "scatter",
         "x": [
          2,
          3,
          3,
          3,
          3,
          3,
          3,
          4,
          4,
          4,
          4,
          4,
          4,
          4,
          4,
          5,
          5,
          5,
          5,
          5,
          5,
          5,
          5,
          5
         ],
         "xaxis": "x5",
         "y": [
          3.553846153846157,
          2.813186813186816,
          2.813186813186816,
          2.813186813186816,
          2.813186813186816,
          2.813186813186816,
          2.813186813186816,
          2.0725274725274745,
          2.0725274725274745,
          2.0725274725274745,
          2.0725274725274745,
          2.0725274725274745,
          2.0725274725274745,
          2.0725274725274745,
          2.0725274725274745,
          1.331868131868133,
          1.331868131868133,
          1.331868131868133,
          1.331868131868133,
          1.331868131868133,
          1.331868131868133,
          1.331868131868133,
          1.331868131868133,
          1.331868131868133
         ],
         "yaxis": "y5"
        }
       ],
       "layout": {
        "annotations": [
         {
          "font": {
           "size": 24
          },
          "showarrow": false,
          "text": "Headrotation frequency left",
          "x": 0.08,
          "xanchor": "center",
          "xref": "paper",
          "y": 1,
          "yanchor": "bottom",
          "yref": "paper"
         },
         {
          "font": {
           "size": 24
          },
          "showarrow": false,
          "text": "Headrotation frequency right",
          "x": 0.29000000000000004,
          "xanchor": "center",
          "xref": "paper",
          "y": 1,
          "yanchor": "bottom",
          "yref": "paper"
         },
         {
          "font": {
           "size": 24
          },
          "showarrow": false,
          "text": "Headrotation angles left",
          "x": 0.5,
          "xanchor": "center",
          "xref": "paper",
          "y": 1,
          "yanchor": "bottom",
          "yref": "paper"
         },
         {
          "font": {
           "size": 24
          },
          "showarrow": false,
          "text": "Headrotation angles right",
          "x": 0.71,
          "xanchor": "center",
          "xref": "paper",
          "y": 1,
          "yanchor": "bottom",
          "yref": "paper"
         },
         {
          "font": {
           "size": 24
          },
          "showarrow": false,
          "text": "Difficulty",
          "x": 0.92,
          "xanchor": "center",
          "xref": "paper",
          "y": 1,
          "yanchor": "bottom",
          "yref": "paper"
         }
        ],
        "font": {
         "family": "Lato, sans-serif",
         "size": 20
        },
        "height": 384,
        "hoverlabel": {
         "font": {
          "family": "Lato, sans-serif",
          "size": 13
         }
        },
        "hovermode": "y unified",
        "legend": {
         "orientation": "h",
         "x": 0.5,
         "xanchor": "center",
         "y": 1,
         "yanchor": "bottom"
        },
        "paper_bgcolor": "rgba(255,255,255,1)",
        "plot_bgcolor": "rgba(255,255,255,1)",
        "template": {
         "data": {
          "bar": [
           {
            "error_x": {
             "color": "rgb(36,36,36)"
            },
            "error_y": {
             "color": "rgb(36,36,36)"
            },
            "marker": {
             "line": {
              "color": "white",
              "width": 0.5
             },
             "pattern": {
              "fillmode": "overlay",
              "size": 10,
              "solidity": 0.2
             }
            },
            "type": "bar"
           }
          ],
          "barpolar": [
           {
            "marker": {
             "line": {
              "color": "white",
              "width": 0.5
             },
             "pattern": {
              "fillmode": "overlay",
              "size": 10,
              "solidity": 0.2
             }
            },
            "type": "barpolar"
           }
          ],
          "carpet": [
           {
            "aaxis": {
             "endlinecolor": "rgb(36,36,36)",
             "gridcolor": "white",
             "linecolor": "white",
             "minorgridcolor": "white",
             "startlinecolor": "rgb(36,36,36)"
            },
            "baxis": {
             "endlinecolor": "rgb(36,36,36)",
             "gridcolor": "white",
             "linecolor": "white",
             "minorgridcolor": "white",
             "startlinecolor": "rgb(36,36,36)"
            },
            "type": "carpet"
           }
          ],
          "choropleth": [
           {
            "colorbar": {
             "outlinewidth": 1,
             "tickcolor": "rgb(36,36,36)",
             "ticks": "outside"
            },
            "type": "choropleth"
           }
          ],
          "contour": [
           {
            "colorbar": {
             "outlinewidth": 1,
             "tickcolor": "rgb(36,36,36)",
             "ticks": "outside"
            },
            "colorscale": [
             [
              0,
              "#440154"
             ],
             [
              0.1111111111111111,
              "#482878"
             ],
             [
              0.2222222222222222,
              "#3e4989"
             ],
             [
              0.3333333333333333,
              "#31688e"
             ],
             [
              0.4444444444444444,
              "#26828e"
             ],
             [
              0.5555555555555556,
              "#1f9e89"
             ],
             [
              0.6666666666666666,
              "#35b779"
             ],
             [
              0.7777777777777778,
              "#6ece58"
             ],
             [
              0.8888888888888888,
              "#b5de2b"
             ],
             [
              1,
              "#fde725"
             ]
            ],
            "type": "contour"
           }
          ],
          "contourcarpet": [
           {
            "colorbar": {
             "outlinewidth": 1,
             "tickcolor": "rgb(36,36,36)",
             "ticks": "outside"
            },
            "type": "contourcarpet"
           }
          ],
          "heatmap": [
           {
            "colorbar": {
             "outlinewidth": 1,
             "tickcolor": "rgb(36,36,36)",
             "ticks": "outside"
            },
            "colorscale": [
             [
              0,
              "#440154"
             ],
             [
              0.1111111111111111,
              "#482878"
             ],
             [
              0.2222222222222222,
              "#3e4989"
             ],
             [
              0.3333333333333333,
              "#31688e"
             ],
             [
              0.4444444444444444,
              "#26828e"
             ],
             [
              0.5555555555555556,
              "#1f9e89"
             ],
             [
              0.6666666666666666,
              "#35b779"
             ],
             [
              0.7777777777777778,
              "#6ece58"
             ],
             [
              0.8888888888888888,
              "#b5de2b"
             ],
             [
              1,
              "#fde725"
             ]
            ],
            "type": "heatmap"
           }
          ],
          "heatmapgl": [
           {
            "colorbar": {
             "outlinewidth": 1,
             "tickcolor": "rgb(36,36,36)",
             "ticks": "outside"
            },
            "colorscale": [
             [
              0,
              "#440154"
             ],
             [
              0.1111111111111111,
              "#482878"
             ],
             [
              0.2222222222222222,
              "#3e4989"
             ],
             [
              0.3333333333333333,
              "#31688e"
             ],
             [
              0.4444444444444444,
              "#26828e"
             ],
             [
              0.5555555555555556,
              "#1f9e89"
             ],
             [
              0.6666666666666666,
              "#35b779"
             ],
             [
              0.7777777777777778,
              "#6ece58"
             ],
             [
              0.8888888888888888,
              "#b5de2b"
             ],
             [
              1,
              "#fde725"
             ]
            ],
            "type": "heatmapgl"
           }
          ],
          "histogram": [
           {
            "marker": {
             "line": {
              "color": "white",
              "width": 0.6
             }
            },
            "type": "histogram"
           }
          ],
          "histogram2d": [
           {
            "colorbar": {
             "outlinewidth": 1,
             "tickcolor": "rgb(36,36,36)",
             "ticks": "outside"
            },
            "colorscale": [
             [
              0,
              "#440154"
             ],
             [
              0.1111111111111111,
              "#482878"
             ],
             [
              0.2222222222222222,
              "#3e4989"
             ],
             [
              0.3333333333333333,
              "#31688e"
             ],
             [
              0.4444444444444444,
              "#26828e"
             ],
             [
              0.5555555555555556,
              "#1f9e89"
             ],
             [
              0.6666666666666666,
              "#35b779"
             ],
             [
              0.7777777777777778,
              "#6ece58"
             ],
             [
              0.8888888888888888,
              "#b5de2b"
             ],
             [
              1,
              "#fde725"
             ]
            ],
            "type": "histogram2d"
           }
          ],
          "histogram2dcontour": [
           {
            "colorbar": {
             "outlinewidth": 1,
             "tickcolor": "rgb(36,36,36)",
             "ticks": "outside"
            },
            "colorscale": [
             [
              0,
              "#440154"
             ],
             [
              0.1111111111111111,
              "#482878"
             ],
             [
              0.2222222222222222,
              "#3e4989"
             ],
             [
              0.3333333333333333,
              "#31688e"
             ],
             [
              0.4444444444444444,
              "#26828e"
             ],
             [
              0.5555555555555556,
              "#1f9e89"
             ],
             [
              0.6666666666666666,
              "#35b779"
             ],
             [
              0.7777777777777778,
              "#6ece58"
             ],
             [
              0.8888888888888888,
              "#b5de2b"
             ],
             [
              1,
              "#fde725"
             ]
            ],
            "type": "histogram2dcontour"
           }
          ],
          "mesh3d": [
           {
            "colorbar": {
             "outlinewidth": 1,
             "tickcolor": "rgb(36,36,36)",
             "ticks": "outside"
            },
            "type": "mesh3d"
           }
          ],
          "parcoords": [
           {
            "line": {
             "colorbar": {
              "outlinewidth": 1,
              "tickcolor": "rgb(36,36,36)",
              "ticks": "outside"
             }
            },
            "type": "parcoords"
           }
          ],
          "pie": [
           {
            "automargin": true,
            "type": "pie"
           }
          ],
          "scatter": [
           {
            "fillpattern": {
             "fillmode": "overlay",
             "size": 10,
             "solidity": 0.2
            },
            "type": "scatter"
           }
          ],
          "scatter3d": [
           {
            "line": {
             "colorbar": {
              "outlinewidth": 1,
              "tickcolor": "rgb(36,36,36)",
              "ticks": "outside"
             }
            },
            "marker": {
             "colorbar": {
              "outlinewidth": 1,
              "tickcolor": "rgb(36,36,36)",
              "ticks": "outside"
             }
            },
            "type": "scatter3d"
           }
          ],
          "scattercarpet": [
           {
            "marker": {
             "colorbar": {
              "outlinewidth": 1,
              "tickcolor": "rgb(36,36,36)",
              "ticks": "outside"
             }
            },
            "type": "scattercarpet"
           }
          ],
          "scattergeo": [
           {
            "marker": {
             "colorbar": {
              "outlinewidth": 1,
              "tickcolor": "rgb(36,36,36)",
              "ticks": "outside"
             }
            },
            "type": "scattergeo"
           }
          ],
          "scattergl": [
           {
            "marker": {
             "colorbar": {
              "outlinewidth": 1,
              "tickcolor": "rgb(36,36,36)",
              "ticks": "outside"
             }
            },
            "type": "scattergl"
           }
          ],
          "scattermapbox": [
           {
            "marker": {
             "colorbar": {
              "outlinewidth": 1,
              "tickcolor": "rgb(36,36,36)",
              "ticks": "outside"
             }
            },
            "type": "scattermapbox"
           }
          ],
          "scatterpolar": [
           {
            "marker": {
             "colorbar": {
              "outlinewidth": 1,
              "tickcolor": "rgb(36,36,36)",
              "ticks": "outside"
             }
            },
            "type": "scatterpolar"
           }
          ],
          "scatterpolargl": [
           {
            "marker": {
             "colorbar": {
              "outlinewidth": 1,
              "tickcolor": "rgb(36,36,36)",
              "ticks": "outside"
             }
            },
            "type": "scatterpolargl"
           }
          ],
          "scatterternary": [
           {
            "marker": {
             "colorbar": {
              "outlinewidth": 1,
              "tickcolor": "rgb(36,36,36)",
              "ticks": "outside"
             }
            },
            "type": "scatterternary"
           }
          ],
          "surface": [
           {
            "colorbar": {
             "outlinewidth": 1,
             "tickcolor": "rgb(36,36,36)",
             "ticks": "outside"
            },
            "colorscale": [
             [
              0,
              "#440154"
             ],
             [
              0.1111111111111111,
              "#482878"
             ],
             [
              0.2222222222222222,
              "#3e4989"
             ],
             [
              0.3333333333333333,
              "#31688e"
             ],
             [
              0.4444444444444444,
              "#26828e"
             ],
             [
              0.5555555555555556,
              "#1f9e89"
             ],
             [
              0.6666666666666666,
              "#35b779"
             ],
             [
              0.7777777777777778,
              "#6ece58"
             ],
             [
              0.8888888888888888,
              "#b5de2b"
             ],
             [
              1,
              "#fde725"
             ]
            ],
            "type": "surface"
           }
          ],
          "table": [
           {
            "cells": {
             "fill": {
              "color": "rgb(237,237,237)"
             },
             "line": {
              "color": "white"
             }
            },
            "header": {
             "fill": {
              "color": "rgb(217,217,217)"
             },
             "line": {
              "color": "white"
             }
            },
            "type": "table"
           }
          ]
         },
         "layout": {
          "annotationdefaults": {
           "arrowhead": 0,
           "arrowwidth": 1
          },
          "autotypenumbers": "strict",
          "coloraxis": {
           "colorbar": {
            "outlinewidth": 1,
            "tickcolor": "rgb(36,36,36)",
            "ticks": "outside"
           }
          },
          "colorscale": {
           "diverging": [
            [
             0,
             "rgb(103,0,31)"
            ],
            [
             0.1,
             "rgb(178,24,43)"
            ],
            [
             0.2,
             "rgb(214,96,77)"
            ],
            [
             0.3,
             "rgb(244,165,130)"
            ],
            [
             0.4,
             "rgb(253,219,199)"
            ],
            [
             0.5,
             "rgb(247,247,247)"
            ],
            [
             0.6,
             "rgb(209,229,240)"
            ],
            [
             0.7,
             "rgb(146,197,222)"
            ],
            [
             0.8,
             "rgb(67,147,195)"
            ],
            [
             0.9,
             "rgb(33,102,172)"
            ],
            [
             1,
             "rgb(5,48,97)"
            ]
           ],
           "sequential": [
            [
             0,
             "#440154"
            ],
            [
             0.1111111111111111,
             "#482878"
            ],
            [
             0.2222222222222222,
             "#3e4989"
            ],
            [
             0.3333333333333333,
             "#31688e"
            ],
            [
             0.4444444444444444,
             "#26828e"
            ],
            [
             0.5555555555555556,
             "#1f9e89"
            ],
            [
             0.6666666666666666,
             "#35b779"
            ],
            [
             0.7777777777777778,
             "#6ece58"
            ],
            [
             0.8888888888888888,
             "#b5de2b"
            ],
            [
             1,
             "#fde725"
            ]
           ],
           "sequentialminus": [
            [
             0,
             "#440154"
            ],
            [
             0.1111111111111111,
             "#482878"
            ],
            [
             0.2222222222222222,
             "#3e4989"
            ],
            [
             0.3333333333333333,
             "#31688e"
            ],
            [
             0.4444444444444444,
             "#26828e"
            ],
            [
             0.5555555555555556,
             "#1f9e89"
            ],
            [
             0.6666666666666666,
             "#35b779"
            ],
            [
             0.7777777777777778,
             "#6ece58"
            ],
            [
             0.8888888888888888,
             "#b5de2b"
            ],
            [
             1,
             "#fde725"
            ]
           ]
          },
          "colorway": [
           "#1F77B4",
           "#FF7F0E",
           "#2CA02C",
           "#D62728",
           "#9467BD",
           "#8C564B",
           "#E377C2",
           "#7F7F7F",
           "#BCBD22",
           "#17BECF"
          ],
          "font": {
           "color": "rgb(36,36,36)"
          },
          "geo": {
           "bgcolor": "white",
           "lakecolor": "white",
           "landcolor": "white",
           "showlakes": true,
           "showland": true,
           "subunitcolor": "white"
          },
          "hoverlabel": {
           "align": "left"
          },
          "hovermode": "closest",
          "mapbox": {
           "style": "light"
          },
          "paper_bgcolor": "white",
          "plot_bgcolor": "white",
          "polar": {
           "angularaxis": {
            "gridcolor": "rgb(232,232,232)",
            "linecolor": "rgb(36,36,36)",
            "showgrid": false,
            "showline": true,
            "ticks": "outside"
           },
           "bgcolor": "white",
           "radialaxis": {
            "gridcolor": "rgb(232,232,232)",
            "linecolor": "rgb(36,36,36)",
            "showgrid": false,
            "showline": true,
            "ticks": "outside"
           }
          },
          "scene": {
           "xaxis": {
            "backgroundcolor": "white",
            "gridcolor": "rgb(232,232,232)",
            "gridwidth": 2,
            "linecolor": "rgb(36,36,36)",
            "showbackground": true,
            "showgrid": false,
            "showline": true,
            "ticks": "outside",
            "zeroline": false,
            "zerolinecolor": "rgb(36,36,36)"
           },
           "yaxis": {
            "backgroundcolor": "white",
            "gridcolor": "rgb(232,232,232)",
            "gridwidth": 2,
            "linecolor": "rgb(36,36,36)",
            "showbackground": true,
            "showgrid": false,
            "showline": true,
            "ticks": "outside",
            "zeroline": false,
            "zerolinecolor": "rgb(36,36,36)"
           },
           "zaxis": {
            "backgroundcolor": "white",
            "gridcolor": "rgb(232,232,232)",
            "gridwidth": 2,
            "linecolor": "rgb(36,36,36)",
            "showbackground": true,
            "showgrid": false,
            "showline": true,
            "ticks": "outside",
            "zeroline": false,
            "zerolinecolor": "rgb(36,36,36)"
           }
          },
          "shapedefaults": {
           "fillcolor": "black",
           "line": {
            "width": 0
           },
           "opacity": 0.3
          },
          "ternary": {
           "aaxis": {
            "gridcolor": "rgb(232,232,232)",
            "linecolor": "rgb(36,36,36)",
            "showgrid": false,
            "showline": true,
            "ticks": "outside"
           },
           "baxis": {
            "gridcolor": "rgb(232,232,232)",
            "linecolor": "rgb(36,36,36)",
            "showgrid": false,
            "showline": true,
            "ticks": "outside"
           },
           "bgcolor": "white",
           "caxis": {
            "gridcolor": "rgb(232,232,232)",
            "linecolor": "rgb(36,36,36)",
            "showgrid": false,
            "showline": true,
            "ticks": "outside"
           }
          },
          "title": {
           "x": 0.05
          },
          "xaxis": {
           "automargin": true,
           "gridcolor": "rgb(232,232,232)",
           "linecolor": "rgb(36,36,36)",
           "showgrid": false,
           "showline": true,
           "ticks": "outside",
           "title": {
            "standoff": 15
           },
           "zeroline": false,
           "zerolinecolor": "rgb(36,36,36)"
          },
          "yaxis": {
           "automargin": true,
           "gridcolor": "rgb(232,232,232)",
           "linecolor": "rgb(36,36,36)",
           "showgrid": false,
           "showline": true,
           "ticks": "outside",
           "title": {
            "standoff": 15
           },
           "zeroline": false,
           "zerolinecolor": "rgb(36,36,36)"
          }
         }
        },
        "width": 2048,
        "xaxis": {
         "anchor": "y",
         "domain": [
          0,
          0.16
         ],
         "dtick": 1
        },
        "xaxis2": {
         "anchor": "y2",
         "domain": [
          0.21000000000000002,
          0.37
         ]
        },
        "xaxis3": {
         "anchor": "y3",
         "domain": [
          0.42000000000000004,
          0.5800000000000001
         ]
        },
        "xaxis4": {
         "anchor": "y4",
         "domain": [
          0.63,
          0.79
         ]
        },
        "xaxis5": {
         "anchor": "y5",
         "domain": [
          0.8400000000000001,
          1
         ],
         "dtick": 1,
         "tick0": 0
        },
        "yaxis": {
         "anchor": "x",
         "domain": [
          0,
          1
         ]
        },
        "yaxis2": {
         "anchor": "x2",
         "domain": [
          0,
          1
         ]
        },
        "yaxis3": {
         "anchor": "x3",
         "domain": [
          0,
          1
         ],
         "ticksuffix": "°"
        },
        "yaxis4": {
         "anchor": "x4",
         "domain": [
          0,
          1
         ],
         "ticksuffix": "°"
        },
        "yaxis5": {
         "anchor": "x5",
         "domain": [
          0,
          1
         ]
        }
       }
      }
     },
     "metadata": {},
     "output_type": "display_data"
    }
   ],
   "source": [
    "fig_master = make_subplots(\n",
    "    rows=1, \n",
    "    cols=5, \n",
    "    specs=[[{}, {},{},{},{}]], \n",
    "    shared_yaxes=False, \n",
    "    horizontal_spacing=0.05,\n",
    "    vertical_spacing=0.1,\n",
    "    subplot_titles=(\"Headrotation frequency left\", \"Headrotation frequency right\", \"Headrotation angles left\", \"Headrotation angles right\",\"Difficulty\")\n",
    ")\n",
    "# Plots for correlations. Trendline generated as linear trendline via https://plotly.com/python/linear-fits/\n",
    "\n",
    "\n",
    "#Rotations\n",
    "fig_master.append_trace(go.Scatter(mode='markers',x = safety_left_rots,y = left_rots,showlegend=False,name='Safety X Left Rotations', marker_color='#000000'),1,1)\n",
    "trend_rotations = px.scatter(y=left_rots, x= safety_left_rots, trendline=\"ols\")\n",
    "trendline = trend_rotations.data[1]\n",
    "trendline.marker.color = marking_red\n",
    "fig_master.append_trace(trendline,1,1)\n",
    "\n",
    "\n",
    "fig_master.append_trace(go.Scatter(mode='markers',x = safety_right_rots,y = right_rots,showlegend=False,name='Safety X Left Rotations', marker_color='#000000'),1,2)\n",
    "trend_rotations = px.scatter(y=right_rots, x= safety_right_rots, trendline=\"ols\")\n",
    "trendline = trend_rotations.data[1]\n",
    "trendline.marker.color = marking_red\n",
    "fig_master.append_trace(trendline,1,2)\n",
    "\n",
    "#Angles\n",
    "fig_master.append_trace(go.Scatter(mode='markers',x = safety_left_angles,y = left_angles,showlegend=False,name='Safety X Left Angles', marker_color='#000000'),1,3)\n",
    "trend_angles = px.scatter(y=left_angles, x= safety_left_angles, trendline=\"ols\")\n",
    "trendline = trend_angles.data[1]\n",
    "trendline.marker.color = marking_red\n",
    "fig_master.append_trace(trendline,1,3)\n",
    "\n",
    "\n",
    "fig_master.append_trace(go.Scatter(mode='markers',x = safety_right_angles,y = right_angles,showlegend=False,name='Safety X Left Angles', marker_color='#000000'),1,4)\n",
    "trend_angles = px.scatter(y=right_angles, x= safety_right_angles, trendline=\"ols\")\n",
    "trendline = trend_angles.data[1]\n",
    "trendline.marker.color = marking_red\n",
    "fig_master.append_trace(trendline,1,4)\n",
    "\n",
    "fig_master.append_trace(go.Scatter(mode='markers',x = safety,y = difficulty,showlegend=False,name='Safety X Difficulty', marker_color='#000000'),1,5)\n",
    "trend_difficulty = px.scatter(y=difficulty, x= safety, trendline=\"ols\")\n",
    "trendline = trend_difficulty.data[1]\n",
    "trendline.marker.color = marking_red\n",
    "fig_master.append_trace(trendline,1,5)\n",
    "\n",
    "yaxis = [\"Difficulty\",\"Left Rotations\",\"Right Rotations\",\"Left Angles\",\"Right Angles\"]\n",
    "yFormat = [\"\",\"\",\"\",\"°\",\"°\"]\n",
    "fig_master.update_layout(\n",
    "        hovermode=\"y unified\", \n",
    "        xaxis_dtick = 1,\n",
    "        width=plot_width * 2, height=plot_height / 2,\n",
    "        font=dict(family=\"Lato, sans-serif\",size=20),\n",
    "        legend=dict(orientation=\"h\", yanchor=\"bottom\",y=1, xanchor=\"center\", x=0.5),\n",
    "        hoverlabel=dict(font_size=13, font_family=\"Lato, sans-serif\"),\n",
    "        paper_bgcolor='rgba(255,255,255,1)',\n",
    "        plot_bgcolor='rgba(255,255,255,1)')\n",
    "fig_master.layout[\"yaxis3\"].update(ticksuffix = \"°\")\n",
    "fig_master.layout[\"yaxis4\"].update(ticksuffix = \"°\")\n",
    "\n",
    "fig_master.layout[\"xaxis5\"].update(tick0 = 0).update(dtick = 1)\n",
    "#Set Headline size\n",
    "fig_master.update_annotations(font_size=24)\n",
    "display(fig_master)"
   ]
  },
  {
   "cell_type": "markdown",
   "id": "cec45b82-58d2-4871-8c73-e3db14a90746",
   "metadata": {},
   "source": [
    "## App Layout"
   ]
  },
  {
   "cell_type": "code",
   "execution_count": 31,
   "id": "5bfaa013-db3f-4a86-8e91-0f5e9882d4e5",
   "metadata": {},
   "outputs": [],
   "source": [
    "app.layout = html.Div([\n",
    "    html.Div([dcc.Markdown('''### Realworld Study''',id='headline_subject')],style={'width': '100%', 'display': 'block'}),\n",
    "    html.Div([dcc.Markdown('''#### General Plots \n",
    "    > This data represents the mean values from ALL Subjects''')],style={'width': '100%', 'display': 'block'}),\n",
    "    html.Div([dcc.Graph(figure = fig_looks)], style={'width': '40%', 'display': 'inline-block'}),\n",
    "    html.Div([dcc.Graph(figure = fig_angles)], style={'width': '40%', 'display': 'inline-block'}),\n",
    "    html.Div([dcc.Graph(figure = fig_duration)], style={'width': '40%', 'display': 'inline-block'}),\n",
    "    html.Div([dcc.Graph(figure = fig_duration_subject)], style={'width': '40%', 'display': 'inline-block'}),\n",
    "        html.Div([dcc.Markdown('''#### Subject Specific Plots\n",
    "    > This data represents the selected subject only''')],style={'width': '100%', 'display': 'block'}),\n",
    "    html.Div([\n",
    "        html.Label('Subject'),\n",
    "        dcc.Dropdown(\n",
    "            id='filter_subject',\n",
    "            options=[{'label': i, 'value': i} for i in available_data_labels],\n",
    "            value='Choose Subject '\n",
    "    )],style={'width': '100%', 'display': 'inline-block'}),\n",
    "    html.Div([\n",
    "        html.Label('Timestamp (Seconds)'),\n",
    "        dcc.Slider(\n",
    "            id='filter-slider-timestamp',\n",
    "            min=0,\n",
    "            max=0,\n",
    "            value=0,\n",
    "            tooltip={\"placement\": \"bottom\", \"always_visible\": True},\n",
    "            step=60\n",
    "        )\n",
    "    ], style={'width': '100%', 'display': 'inline-block'}),\n",
    "    html.Div([\n",
    "        html.Label('NO Condition',style={'backgroundColor' : COLOR_SIT_X_HEX,'color': \"#FFFFFF\",'borderRadius':'5px','marginLeft':'10px','padding': '10px'}),\n",
    "        html.Label('Condition A',style={'backgroundColor' : COLOR_SIT_A_HEX,'color': \"#FFFFFF\",'borderRadius':'5px','marginLeft':'10px','padding': '10px'}),\n",
    "        html.Label('Condition B',style={'backgroundColor' : COLOR_SIT_B_HEX,'color': \"#FFFFFF\",'borderRadius':'5px','marginLeft':'10px','padding': '10px'}),\n",
    "        html.Label('Condition C',style={'backgroundColor' : COLOR_SIT_C_HEX,'color': \"#FFFFFF\",'borderRadius':'5px','marginLeft':'10px','padding': '10px'}),\n",
    "        html.Label('Condition D',style={'backgroundColor' : COLOR_SIT_D_HEX,'color': \"#FFFFFF\",'borderRadius':'5px','marginLeft':'10px','padding': '10px'}),\n",
    "        html.Label('Condition E',style={'backgroundColor' : COLOR_SIT_E_HEX,'color': \"#FFFFFF\",'borderRadius':'5px','marginLeft':'10px','padding': '10px'}),\n",
    "    ], style={'width': '100%', 'display': 'inline-block'}),\n",
    "    html.Div([dcc.Graph(id='headmovement-scatter',hoverData={'points': [{'x': 0}]})], style={'width': '100%', 'display': 'block'}),\n",
    "    html.Div([dcc.Graph(id='gps-coords')], style={'display': 'inline-block', 'width': '100%'}),\n",
    "    html.Div([dcc.Graph(id='yaws-scatter',hoverData={'points': [{'x': 0}]})], style={'width': '100%', 'display': 'block'}),\n",
    "    html.Div([dcc.Graph(id='rolls-scatter',hoverData={'points': [{'x': 0}]})], style={'width': '100%', 'display': 'block'}),\n",
    "    html.Div([dcc.Graph(id='pitchs-scatter',hoverData={'points': [{'x': 0}]})], style={'width': '100%', 'display': 'block'}),\n",
    "    html.Div([dcc.Graph(id='velocity')], style={'display': 'inline-block', 'width': '50%'}),\n",
    "    html.Div([dcc.Graph(id='acceleration')], style={'display': 'inline-block', 'width': '50%'}),\n",
    "    html.Div([dcc.Graph(id='altitude')], style={'display': 'inline-block', 'width': '50%'}),\n",
    "    html.Div([dcc.Graph(id='phone_battery')], style={'display': 'inline-block', 'width': '50%'}),\n",
    "    #html.Div([dcc.Graph(id='headMesh')], style={'display': 'inline-block', 'width': '25%'}),\n",
    "])"
   ]
  },
  {
   "cell_type": "markdown",
   "id": "d2eec76a-7249-45ce-924e-cbb8367284ac",
   "metadata": {},
   "source": [
    "## Live Interactions"
   ]
  },
  {
   "cell_type": "markdown",
   "id": "273fd380-24bc-41ce-bc9e-bd1e335eb8b7",
   "metadata": {},
   "source": [
    "### Timestamps"
   ]
  },
  {
   "cell_type": "code",
   "execution_count": 32,
   "id": "d7efc98b-9bfa-4690-b47b-2c97024afd0d",
   "metadata": {},
   "outputs": [],
   "source": [
    "@app.callback(\n",
    "    dash.dependencies.Output('filter-slider-timestamp', 'value'),\n",
    "    [dash.dependencies.Input('filter_subject', 'value'),\n",
    "    dash.dependencies.Input('headmovement-scatter', 'hoverData')])\n",
    "def update_timestampValue(subject,hoverdata):\n",
    "    if not subject in subjects:\n",
    "        return 0\n",
    "    # TO-DO!! -> Timestamp und steps dynamisch holen\n",
    "    lastTimestamp = float(subjects[subject].iloc[-1].name)\n",
    "    #display(\"The experiment from subject \"+infos[\"subject\"]+\" lasted \" + str(lastTimestamp) + \" seconds and started at \" + infos[\"starttime\"])\n",
    "    halfminuteSteps = np.arange(0,lastTimestamp,30)\n",
    "    halfminuteStepLabels = list(map(lambda x: str(int(x)), halfminuteSteps))\n",
    "    if \"x\" in hoverdata['points'][0]:\n",
    "        return hoverdata['points'][0][\"x\"]\n",
    "    else:\n",
    "        return 0\n",
    "@app.callback(\n",
    "    dash.dependencies.Output('filter-slider-timestamp', 'min'),\n",
    "    [dash.dependencies.Input('filter_subject', 'value')])\n",
    "def update_timestampMin(subject):\n",
    "    if not subject in subjects:\n",
    "        return 0\n",
    "    return subjects[subject].index.min()\n",
    "@app.callback(\n",
    "    dash.dependencies.Output('filter-slider-timestamp', 'max'),\n",
    "    [dash.dependencies.Input('filter_subject', 'value')])\n",
    "def update_timestampMax(subject):\n",
    "    if not subject in subjects:\n",
    "        return 0\n",
    "    return subjects[subject].index.max()"
   ]
  },
  {
   "cell_type": "markdown",
   "id": "b338515f-892e-4e13-8c10-a04028fabf64",
   "metadata": {
    "tags": []
   },
   "source": [
    "### Headmovement"
   ]
  },
  {
   "cell_type": "code",
   "execution_count": 33,
   "id": "433e3d48-f50b-40e1-80b3-5958331d1cbf",
   "metadata": {},
   "outputs": [],
   "source": [
    "@app.callback(\n",
    "    dash.dependencies.Output('headmovement-scatter', 'figure'),\n",
    "    [dash.dependencies.Input('filter_subject', 'value')])\n",
    "def update_headrotation(subject):\n",
    "    if not subject in subjects:\n",
    "        return go.Figure()\n",
    "    fig = go.Figure()\n",
    "    fig.add_trace(go.Scatter(\n",
    "        x=subjects[subject].index,\n",
    "        y=subjects[subject][\"relativeYaw\"],\n",
    "        mode=\"lines\",\n",
    "        name=\"Headrotation (relative Yaw)\")\n",
    "    )\n",
    "#    fig.add_annotation(\n",
    "#        x=timestamp, \n",
    "#        y=subjects[subject][\"relativeYaw\"].max(),\n",
    "#        text=\"Chosen Time \" + str(timestamp),\n",
    "#        showarrow=False,\n",
    "#        yshift=10\n",
    "#    )\n",
    "    fig.update_layout(\n",
    "        title_text=\"Headmovement\",\n",
    "        autosize=True,\n",
    "        hovermode='closest'\n",
    "        # Optional visualization of threshhold\n",
    "        #shapes = [\n",
    "            # Line Horizontal\n",
    "        #    {\n",
    "        #        'type': 'line',\n",
    "        #        'x0': subjects[subject].index.min(),\n",
    "        #        'y0': -rotation_threshhold,\n",
    "        #        'x1': subjects[subject].index.max(),\n",
    "        #        'y1': -rotation_threshhold,\n",
    "        #        'line': {\n",
    "        #            'color': 'rgb(50, 171, 96)',\n",
    "        #            'width': 2,\n",
    "        #            'dash' : \"dot\"\n",
    "        #        },\n",
    "        #    },\n",
    "        #    {\n",
    "        #        'type': 'line',\n",
    "        #        'x0': subjects[subject].index.min(),\n",
    "        #        'y0': rotation_threshhold,\n",
    "        #        'x1': subjects[subject].index.max(),\n",
    "        #        'y1': rotation_threshhold,\n",
    "        #        'line': {\n",
    "        #            'color': 'rgb(50, 171, 96)',\n",
    "        #            'width': 2,\n",
    "        #            'dash' : \"dot\"\n",
    "        #        },\n",
    "        #    }\n",
    "        #]\n",
    "    )\n",
    "    #add_conditions(subject,fig,\"relativeYaw\")\n",
    "    fig.update_xaxes(title_text='Time(seconds)')\n",
    "    fig.update_yaxes(title_text='Headrotation (Degrees)')\n",
    "\n",
    "    return fig"
   ]
  },
  {
   "cell_type": "markdown",
   "id": "c9cb2559-b6c0-4e42-be94-cc33a54c0d32",
   "metadata": {},
   "source": [
    "#### GPS Coordinates"
   ]
  },
  {
   "cell_type": "code",
   "execution_count": 34,
   "id": "7568f230-ddd6-4ab2-a3d3-feca335ea543",
   "metadata": {},
   "outputs": [],
   "source": [
    "@app.callback(\n",
    "    dash.dependencies.Output('gps-coords', 'figure'),\n",
    "    [dash.dependencies.Input('filter_subject', 'value'),\n",
    "     dash.dependencies.Input('filter-slider-timestamp', 'value')])\n",
    "def update_gps_coords(subject, timestamp):\n",
    "    if not subject in subjects:\n",
    "        return go.Figure()\n",
    "    \n",
    "    fig = go.Figure()\n",
    "    print(\"got timestamp \" + str(timestamp))\n",
    "    #Add all Points\n",
    "    fig.add_trace(go.Scattermapbox(\n",
    "        lon = subjects[subject][\"locationData.longitude\"],\n",
    "        lat = subjects[subject][\"locationData.latitude\"],\n",
    "        mode = 'lines',\n",
    "        name = \"Track\"\n",
    "    ))\n",
    "\n",
    "    #Highlight current point\n",
    "    fig.add_trace(go.Scattermapbox(\n",
    "        lon=subjects[subject].iloc[[timestamp]][\"locationData.longitude\"],\n",
    "        lat=subjects[subject].iloc[[timestamp]][\"locationData.latitude\"],\n",
    "        mode = 'markers',\n",
    "        name = \"Position at Timestamp\",\n",
    "        marker = go.scattermapbox.Marker(\n",
    "            size = 12,\n",
    "            color = 'rgb(50, 171, 96)',\n",
    "            opacity = 0.9,\n",
    "            #symbol = \"bicycle\"\n",
    "        )\n",
    "    ))\n",
    "\n",
    "    fig.update_layout(\n",
    "        title_text = \"GPS Coordinates\",\n",
    "        autosize = True,\n",
    "        hovermode = 'closest',\n",
    "        mapbox = dict(\n",
    "            accesstoken = \"pk.eyJ1Ijoibm9tYW5kZXMiLCJhIjoiY2w3cmticXRhMGc0OTN3cDJ5Y2pqcnZ3YiJ9.R8snls4l3IE8Z2cgQ5Ti3g\",\n",
    "            #bearing=0,\n",
    "            #pitch=0,\n",
    "            center = dict(\n",
    "                lat = subjects[subject].iloc[subjects[subject].shape[0]//2][\"locationData.latitude\"], #middle point of the log\n",
    "                lon = subjects[subject].iloc[subjects[subject].shape[0]//2][\"locationData.longitude\"]\n",
    "            ),\n",
    "            zoom=13.5\n",
    "    ))\n",
    "\n",
    "    return fig"
   ]
  },
  {
   "cell_type": "markdown",
   "id": "9f4de5af-740c-4b07-8138-38906a6db6f9",
   "metadata": {},
   "source": [
    "#### Yaws"
   ]
  },
  {
   "cell_type": "code",
   "execution_count": 35,
   "id": "1e8e005f-91a3-4bf6-9ba1-3d727b309be8",
   "metadata": {},
   "outputs": [],
   "source": [
    "@app.callback(\n",
    "    dash.dependencies.Output('yaws-scatter', 'figure'),\n",
    "    [dash.dependencies.Input('filter_subject', 'value'),\n",
    "     dash.dependencies.Input('filter-slider-timestamp', 'value')])\n",
    "def update_yaws(subject, timestamp):\n",
    "    if not subject in subjects:\n",
    "        return go.Figure()\n",
    "    fig = go.Figure()\n",
    "    fig.add_trace(go.Scatter(\n",
    "        x=subjects[subject].index,\n",
    "        y=subjects[subject][\"relativeYaw\"],\n",
    "        mode=\"lines\",\n",
    "        name=\"Relative Yaw\")\n",
    "    )\n",
    "    fig.add_trace(go.Scatter(\n",
    "        x=subjects[subject].index,\n",
    "        y=subjects[subject][\"airpodsYawDegrees\"],\n",
    "        mode=\"lines\",\n",
    "        name=\"Raw Yaw Airpods\")\n",
    "    )\n",
    "    fig.add_trace(go.Scatter(\n",
    "        x=subjects[subject].index,\n",
    "        y=subjects[subject][\"phoneYawDegrees\"],\n",
    "        mode=\"lines\",\n",
    "        name=\"Raw Yaw iPhone\")\n",
    "    )\n",
    "    fig.add_annotation(\n",
    "        x=timestamp, \n",
    "        y=subjects[subject][\"relativeYaw\"].max(),\n",
    "        text=\"Chosen Time \" + str(timestamp),\n",
    "        showarrow=False,\n",
    "        yshift=10\n",
    "    )\n",
    "    fig.update_layout(\n",
    "        title_text=\"Yaws\",\n",
    "        autosize=True,\n",
    "        hovermode='closest',\n",
    "        shapes = [\n",
    "            # Line Horizontal\n",
    "            {\n",
    "                'type': 'line',\n",
    "                'x0': timestamp,\n",
    "                'y0': subjects[subject][\"relativeYaw\"].min(),\n",
    "                'x1': timestamp,\n",
    "                'y1': subjects[subject][\"relativeYaw\"].max(),\n",
    "                'line': {\n",
    "                    'color': 'rgb(50, 171, 96)',\n",
    "                    'width': 2\n",
    "                },\n",
    "            }\n",
    "        ]\n",
    "    )\n",
    "    add_conditions(subject,fig,\"airpodsYawDegrees\")\n",
    "    fig.update_xaxes(title_text='Time(seconds)')\n",
    "    fig.update_yaxes(title_text='Yaw (Degrees)')\n",
    "\n",
    "    return fig"
   ]
  },
  {
   "cell_type": "markdown",
   "id": "ce10996b-dc66-4d42-871d-e3d66a9c6a75",
   "metadata": {
    "tags": []
   },
   "source": [
    "#### Rolls"
   ]
  },
  {
   "cell_type": "code",
   "execution_count": 36,
   "id": "e90d33b4-da3d-4506-93d8-e7bf927725fb",
   "metadata": {},
   "outputs": [],
   "source": [
    "@app.callback(\n",
    "    dash.dependencies.Output('rolls-scatter', 'figure'),\n",
    "    [dash.dependencies.Input('filter_subject', 'value'),\n",
    "     dash.dependencies.Input('filter-slider-timestamp', 'value')])\n",
    "def update_rolls(subject, timestamp):\n",
    "    if not subject in subjects:\n",
    "        return go.Figure()\n",
    "    fig = go.Figure()\n",
    "    fig.add_trace(go.Scatter(\n",
    "        x=subjects[subject].index,\n",
    "        y=subjects[subject][\"relativeRoll\"],\n",
    "        mode=\"lines\",\n",
    "        name=\"Relative Roll\")\n",
    "    )\n",
    "    fig.add_trace(go.Scatter(\n",
    "        x=subjects[subject].index,\n",
    "        y=subjects[subject][\"airpodsRollDegrees\"],\n",
    "        mode=\"lines\",\n",
    "        name=\"Raw Roll Airpods\")\n",
    "    )\n",
    "    fig.add_trace(go.Scatter(\n",
    "        x=subjects[subject].index,\n",
    "        y=subjects[subject][\"phoneRollDegrees\"],\n",
    "        mode=\"lines\",\n",
    "        name=\"Raw Roll iPhone\")\n",
    "    )\n",
    "    fig.add_annotation(\n",
    "        x=timestamp, \n",
    "        y=subjects[subject][\"relativeRoll\"].max(),\n",
    "        text=\"Chosen Time \" + str(timestamp),\n",
    "        showarrow=False,\n",
    "        yshift=10\n",
    "    )\n",
    "    fig.update_layout(\n",
    "        title_text=\"Rolls (Body/Bike Tilt Angle ?)\",\n",
    "        autosize=True,\n",
    "        hovermode='closest',\n",
    "        shapes = [\n",
    "            # Line Horizontal\n",
    "            {\n",
    "                'type': 'line',\n",
    "                'x0': timestamp,\n",
    "                'y0': subjects[subject][\"relativeRoll\"].min(),\n",
    "                'x1': timestamp,\n",
    "                'y1': subjects[subject][\"relativeRoll\"].max(),\n",
    "                'line': {\n",
    "                    'color': 'rgb(50, 171, 96)',\n",
    "                    'width': 2\n",
    "                },\n",
    "            }\n",
    "        ]\n",
    "    )\n",
    "    add_conditions(subject,fig,\"airpodsRollDegrees\")\n",
    "    fig.update_xaxes(title_text='Time(seconds)')\n",
    "    fig.update_yaxes(title_text='Roll (Degrees)')\n",
    "\n",
    "    return fig"
   ]
  },
  {
   "cell_type": "markdown",
   "id": "feb9c13a-e679-417a-b10b-985d4349b04b",
   "metadata": {},
   "source": [
    "#### Pitchs"
   ]
  },
  {
   "cell_type": "code",
   "execution_count": 37,
   "id": "2c866c55-3c9b-4ca3-9667-d237cabf3c6a",
   "metadata": {},
   "outputs": [],
   "source": [
    "@app.callback(\n",
    "    dash.dependencies.Output('pitchs-scatter', 'figure'),\n",
    "    [dash.dependencies.Input('filter_subject', 'value'),\n",
    "     dash.dependencies.Input('filter-slider-timestamp', 'value')])\n",
    "def update_pitchs(subject, timestamp):\n",
    "    if not subject in subjects:\n",
    "        return go.Figure()\n",
    "    fig = go.Figure()\n",
    "    fig.add_trace(go.Scatter(\n",
    "        x=subjects[subject].index,\n",
    "        y=subjects[subject][\"relativePitch\"],\n",
    "        mode=\"lines\",\n",
    "        name=\"Relative Pitch\")\n",
    "    )\n",
    "    fig.add_trace(go.Scatter(\n",
    "        x=subjects[subject].index,\n",
    "        y=subjects[subject][\"airpodsPitchDegrees\"],\n",
    "        mode=\"lines\",\n",
    "        name=\"Raw Pitch Airpods\")\n",
    "    )\n",
    "    fig.add_trace(go.Scatter(\n",
    "        x=subjects[subject].index,\n",
    "        y=subjects[subject][\"phonePitchDegrees\"],\n",
    "        mode=\"lines\",\n",
    "        name=\"Raw Pitch iPhone\")\n",
    "    )\n",
    "    fig.add_annotation(\n",
    "        x=timestamp, \n",
    "        y=subjects[subject][\"relativePitch\"].max(),\n",
    "        text=\"Chosen Time \" + str(timestamp),\n",
    "        showarrow=False,\n",
    "        yshift=10\n",
    "    )\n",
    "    fig.update_layout(\n",
    "        title_text=\"Pitchs (Bike Altitude / Look at Phone ?)\",\n",
    "        autosize=True,\n",
    "        hovermode='closest',\n",
    "        shapes = [\n",
    "            # Line Horizontal\n",
    "            {\n",
    "                'type': 'line',\n",
    "                'x0': timestamp,\n",
    "                'y0': subjects[subject][\"relativePitch\"].min(),\n",
    "                'x1': timestamp,\n",
    "                'y1': subjects[subject][\"relativePitch\"].max(),\n",
    "                'line': {\n",
    "                    'color': 'rgb(50, 171, 96)',\n",
    "                    'width': 2\n",
    "                },\n",
    "            }\n",
    "        ]\n",
    "    )\n",
    "    add_conditions(subject,fig,\"airpodsPitchDegrees\")\n",
    "    fig.update_xaxes(title_text='Time(seconds)')\n",
    "    fig.update_yaxes(title_text='Pitch (Degrees)')\n",
    "\n",
    "    return fig"
   ]
  },
  {
   "cell_type": "markdown",
   "id": "dad7844b-a717-4a56-ad07-15ccb14c766a",
   "metadata": {},
   "source": [
    "#### Altitude"
   ]
  },
  {
   "cell_type": "code",
   "execution_count": 38,
   "id": "cd5db160-1d37-488c-8ea9-2dc66dd8e8de",
   "metadata": {},
   "outputs": [],
   "source": [
    "@app.callback(\n",
    "    dash.dependencies.Output('altitude', 'figure'),\n",
    "    [dash.dependencies.Input('filter_subject', 'value'),\n",
    "     dash.dependencies.Input('filter-slider-timestamp', 'value')])\n",
    "def update_altitude(subject, timestamp):\n",
    "    if not subject in subjects:\n",
    "        return go.Figure()\n",
    "    fig = go.Figure()\n",
    "    fig.add_trace(go.Scatter(\n",
    "        x=subjects[subject].index,\n",
    "        y=subjects[subject][\"locationData.altitude\"],\n",
    "        mode=\"lines\",fill=\"tozeroy\")\n",
    "    )\n",
    "    fig.add_annotation(\n",
    "        x=timestamp, \n",
    "        y=subjects[subject][\"locationData.altitude\"].max(),\n",
    "        text=\"Chosen Time \" + str(timestamp),\n",
    "        showarrow=False,\n",
    "        yshift=10\n",
    "    )\n",
    "    fig.update_layout(\n",
    "        title_text=\"Altitude\",\n",
    "        autosize=True,\n",
    "        hovermode='closest',\n",
    "        shapes = [\n",
    "        # Line Horizontal\n",
    "        {\n",
    "            'type': 'line',\n",
    "            'x0': timestamp,\n",
    "            'y0': subjects[subject][\"locationData.altitude\"].min(),\n",
    "            'x1': timestamp,\n",
    "            'y1': subjects[subject][\"locationData.altitude\"].max(),\n",
    "            'line': {\n",
    "                'color': 'rgb(50, 171, 96)',\n",
    "                'width': 2\n",
    "            },\n",
    "        }]\n",
    "    )\n",
    "    add_conditions(subject,fig,\"locationData.altitude\")\n",
    "    fig.update_xaxes(title_text='Time (seconds)')\n",
    "    fig.update_yaxes(\n",
    "        title_text='Altitude (meters)',\n",
    "        range = [subjects[subject][\"locationData.altitude\"].min(),subjects[subject][\"locationData.altitude\"].max()]\n",
    "    )\n",
    "\n",
    "    return fig"
   ]
  },
  {
   "cell_type": "markdown",
   "id": "e9da554f-48dd-43c4-bb8a-51531dd6b944",
   "metadata": {},
   "source": [
    "#### Acceleration"
   ]
  },
  {
   "cell_type": "code",
   "execution_count": 39,
   "id": "40134f35-3fbd-4382-8467-e8c79f0f22f5",
   "metadata": {},
   "outputs": [],
   "source": [
    "@app.callback(\n",
    "    dash.dependencies.Output('acceleration', 'figure'),\n",
    "    [dash.dependencies.Input('filter_subject', 'value'),\n",
    "     dash.dependencies.Input('filter-slider-timestamp', 'value')])\n",
    "def update_acceleration(subject, timestamp):\n",
    "    if not subject in subjects:\n",
    "        return go.Figure()\n",
    "    fig = go.Figure()\n",
    "    fig.add_trace(go.Scatter(\n",
    "        x=subjects[subject].index,\n",
    "        y=subjects[subject][\"phoneAcceleration.y\"],\n",
    "        mode=\"lines\")\n",
    "    )\n",
    "    fig.add_annotation(\n",
    "        x=timestamp, \n",
    "        y=subjects[subject][\"phoneAcceleration.y\"].max(),\n",
    "        text=\"Chosen Time \" + str(timestamp),\n",
    "        showarrow=False,\n",
    "        yshift=10\n",
    "    )\n",
    "    fig.update_layout(\n",
    "        title_text=\"Acceleration\",\n",
    "        autosize=True,\n",
    "        hovermode='closest',\n",
    "        shapes = [\n",
    "        # Line Horizontal\n",
    "        {\n",
    "            'type': 'line',\n",
    "            'x0': timestamp,\n",
    "            'y0': subjects[subject][\"phoneAcceleration.y\"].min(),\n",
    "            'x1': timestamp,\n",
    "            'y1': subjects[subject][\"phoneAcceleration.y\"].max(),\n",
    "            'line': {\n",
    "                'color': 'rgb(50, 171, 96)',\n",
    "                'width': 2\n",
    "            },\n",
    "        }]\n",
    "    )\n",
    "    add_conditions(subject,fig,\"phoneAcceleration.y\")\n",
    "    fig.update_xaxes(title_text='Time (seconds)')\n",
    "    fig.update_yaxes(title_text='Acceleration Y')\n",
    "    return fig"
   ]
  },
  {
   "cell_type": "markdown",
   "id": "d2e428a3-6c77-4b41-b916-c2106d68ee1e",
   "metadata": {},
   "source": [
    "#### Velocity"
   ]
  },
  {
   "cell_type": "code",
   "execution_count": 40,
   "id": "426f8662-ac71-480d-ac11-2456d6a7e0c1",
   "metadata": {},
   "outputs": [],
   "source": [
    "@app.callback(\n",
    "    dash.dependencies.Output('velocity', 'figure'),\n",
    "    [dash.dependencies.Input('filter_subject', 'value'),\n",
    "     dash.dependencies.Input('filter-slider-timestamp', 'value')])\n",
    "def update_velocity(subject, timestamp):\n",
    "    if not subject in subjects:\n",
    "        return go.Figure()\n",
    "    \n",
    "    fig = go.Figure()\n",
    "    fig.add_trace(go.Scatter(\n",
    "        x=subjects[subject].index,\n",
    "        y=subjects[subject][\"locationData.velocity\"],\n",
    "        mode=\"lines\")\n",
    "    )\n",
    "    fig.add_annotation(\n",
    "        x=timestamp, \n",
    "        y=subjects[subject][\"locationData.velocity\"].max(),\n",
    "        text=\"Chosen Time \" + str(timestamp),\n",
    "        showarrow=False,\n",
    "        yshift=10\n",
    "    )\n",
    "    fig.update_layout(\n",
    "        title_text=\"Velocity\",\n",
    "        autosize=True,\n",
    "        hovermode='closest',\n",
    "        shapes = [\n",
    "        # Line Horizontal\n",
    "        {\n",
    "            'type': 'line',\n",
    "            'x0': timestamp,\n",
    "            'y0': subjects[subject][\"locationData.velocity\"].min(),\n",
    "            'x1': timestamp,\n",
    "            'y1': subjects[subject][\"locationData.velocity\"].max(),\n",
    "            'line': {\n",
    "                'color': 'rgb(50, 171, 96)',\n",
    "                'width': 2\n",
    "            },\n",
    "        }]\n",
    "    )\n",
    "    add_conditions(subject,fig,\"locationData.velocity\")\n",
    "    fig.update_xaxes(title_text='Time (seconds)')\n",
    "    fig.update_yaxes(title_text='Velocity (km/h)')\n",
    "\n",
    "    return fig"
   ]
  },
  {
   "cell_type": "markdown",
   "id": "20eec85e-53d3-4a7e-ae71-e4324de406ab",
   "metadata": {
    "tags": []
   },
   "source": [
    "#### Headline"
   ]
  },
  {
   "cell_type": "code",
   "execution_count": 41,
   "id": "6e697ae5-2651-44e1-908a-0db66949598f",
   "metadata": {},
   "outputs": [],
   "source": [
    "@app.callback(\n",
    "    dash.dependencies.Output('headline_subject', 'children'),\n",
    "    [dash.dependencies.Input('filter_subject', 'value')])\n",
    "def update_headline(subject):\n",
    "    return \"### Realworld Study - \" + subject"
   ]
  },
  {
   "cell_type": "markdown",
   "id": "2dc29460-2c1b-4a53-b8f2-9db64edc91e8",
   "metadata": {},
   "source": [
    "#### Phone Battery"
   ]
  },
  {
   "cell_type": "code",
   "execution_count": 42,
   "id": "d32a0bfb-108e-4c0e-b0e9-363800773b50",
   "metadata": {},
   "outputs": [],
   "source": [
    "@app.callback(\n",
    "    dash.dependencies.Output('phone_battery', 'figure'),\n",
    "    [dash.dependencies.Input('filter_subject', 'value')])\n",
    "def update_battery(subject):\n",
    "    if not subject in subjects:\n",
    "        return go.Figure()\n",
    "    \n",
    "    fig = go.Figure()\n",
    "    fig.add_trace(go.Scatter(\n",
    "        x=subjects[subject].index, \n",
    "        y=subjects[subject][\"phoneBattery\"],\n",
    "        fill=\"tozeroy\")\n",
    "    )\n",
    "    fig.add_annotation(\n",
    "        x=timestamp, \n",
    "        y=subjects[subject][\"phoneBattery\"].max(),\n",
    "        text=\"Chosen Time \" + str(timestamp),\n",
    "        showarrow=False,\n",
    "        yshift=10\n",
    "    )\n",
    "    fig.update_layout(\n",
    "        title_text=\"Phone Battery\",\n",
    "        autosize=True,\n",
    "        hovermode='y unified',\n",
    "        shapes = [\n",
    "        # Line Horizontal\n",
    "        {\n",
    "            'type': 'line',\n",
    "            'x0': timestamp,\n",
    "            'y0': subjects[subject][\"phoneBattery\"].min(),\n",
    "            'x1': timestamp,\n",
    "            'y1': subjects[subject][\"phoneBattery\"].max(),\n",
    "            'line': {\n",
    "                'color': 'rgb(50, 171, 96)',\n",
    "                'width': 2\n",
    "            },\n",
    "        }]\n",
    "    )\n",
    "    fig.update_xaxes(title_text='Time (seconds)')\n",
    "    fig.update_yaxes(title_text='Battery level %')\n",
    "\n",
    "    return fig"
   ]
  },
  {
   "cell_type": "markdown",
   "id": "9d16c216-e549-48fd-b897-743d98452fe9",
   "metadata": {},
   "source": [
    "### Server Start"
   ]
  },
  {
   "cell_type": "code",
   "execution_count": 43,
   "id": "f231e4b1-871c-4e95-bc8c-11e113c8c3ca",
   "metadata": {},
   "outputs": [
    {
     "name": "stdout",
     "output_type": "stream",
     "text": [
      "Dash app running on http://127.0.0.1:8090/\n"
     ]
    }
   ],
   "source": [
    "app.run_server(mode='external', port = 8090, dev_tools_ui=True, debug=True,dev_tools_hot_reload =True, threaded=True)"
   ]
  }
 ],
 "metadata": {
  "kernelspec": {
   "display_name": "Python 3",
   "language": "python",
   "name": "python3"
  },
  "language_info": {
   "codemirror_mode": {
    "name": "ipython",
    "version": 3
   },
   "file_extension": ".py",
   "mimetype": "text/x-python",
   "name": "python",
   "nbconvert_exporter": "python",
   "pygments_lexer": "ipython3",
   "version": "3.11.1"
  },
  "vscode": {
   "interpreter": {
    "hash": "aee8b7b246df8f9039afb4144a1f6fd8d2ca17a180786b69acc140d282b71a49"
   }
  }
 },
 "nbformat": 4,
 "nbformat_minor": 5
}
