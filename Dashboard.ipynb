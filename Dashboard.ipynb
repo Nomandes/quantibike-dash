{
 "cells": [
  {
   "cell_type": "markdown",
   "id": "c10d4467-ffd0-48d3-8a47-c5d3453f8760",
   "metadata": {},
   "source": [
    "# Realworld Study Dashboard"
   ]
  },
  {
   "cell_type": "markdown",
   "id": "0747b450-db09-4609-8c21-a3857c415025",
   "metadata": {
    "tags": []
   },
   "source": [
    "## Imports, Settings and Functions"
   ]
  },
  {
   "cell_type": "markdown",
   "id": "66d80ff3-5ef9-45eb-88d2-926d5c07ed8c",
   "metadata": {
    "jp-MarkdownHeadingCollapsed": true,
    "tags": []
   },
   "source": [
    "### Imports"
   ]
  },
  {
   "cell_type": "code",
   "execution_count": 1,
   "id": "9d42d3d4-37e7-42bc-9d96-52c035d49c5b",
   "metadata": {},
   "outputs": [],
   "source": [
    "import pandas as pd\n",
    "import numpy as np\n",
    "import plotly.express as px\n",
    "import plotly.graph_objects as go\n",
    "from jupyter_dash import JupyterDash\n",
    "from dash import dcc\n",
    "from dash import html\n",
    "from dash.dependencies import Input, Output\n",
    "import dash.dependencies\n",
    "import plotly.io as pio\n",
    "import math\n",
    "import pysrt\n",
    "from plotly.subplots import make_subplots\n",
    "from plotly.graph_objs import *\n",
    "from scipy.stats import spearmanr\n",
    "import json"
   ]
  },
  {
   "cell_type": "markdown",
   "id": "42a1a550-8dff-498f-bfe3-0bcef66ba0b0",
   "metadata": {},
   "source": [
    "### Settings"
   ]
  },
  {
   "cell_type": "code",
   "execution_count": 2,
   "id": "4a662e5b-4b82-4a14-9342-549829fb4640",
   "metadata": {},
   "outputs": [],
   "source": [
    "# Visuals\n",
    "pd.options.plotting.backend = \"plotly\"\n",
    "external_stylesheets = ['https://bootswatch.com/5/flatly/bootstrap.min.css']\n",
    "pio.templates.default = \"simple_white\" #seaborn plotly_dark\n",
    "\n",
    "#Colors\n",
    "COLOR_SIT_A_HEX = \"#7a5b7b\"\n",
    "COLOR_SIT_B_HEX = \"#f9dbbd\"\n",
    "COLOR_SIT_C_HEX = \"#fca17d\"\n",
    "COLOR_SIT_D_HEX = \"#68534d\"\n",
    "COLOR_SIT_E_HEX = \"#5b7b7a\"\n",
    "COLOR_SIT_X_HEX = \"#8f2d41\"\n",
    "marking_red = \"#961C26\"\n",
    "\n",
    "layout = Layout(\n",
    "    paper_bgcolor='rgba(0,0,0,0)',\n",
    "    plot_bgcolor='rgba(0,0,0,0)'\n",
    ")\n",
    "\n",
    "# Headrotation interpretation Settings\n",
    "# ChunkSize defines how the mean value is build to handle the drift in rotation data. \n",
    "# 120 would build the mean over 120 log entries which results in chunks of 60 seconds\n",
    "chunkSize = 120\n",
    "# Rotation threshhold defines which degree has to be reached to count as rotation. \n",
    "# Every rotation which overcomes this value will be counted as headrotation\n",
    "rotation_threshhold = 20.0\n",
    "\n",
    "# Dash App\n",
    "app = JupyterDash(__name__, external_stylesheets=external_stylesheets)"
   ]
  },
  {
   "cell_type": "markdown",
   "id": "60b68b3a-e715-4ba8-95c8-84aa6fd3775b",
   "metadata": {},
   "source": [
    "### Functions"
   ]
  },
  {
   "cell_type": "code",
   "execution_count": 3,
   "id": "c60a0f0a-b746-4639-9bff-a98b44f6a536",
   "metadata": {},
   "outputs": [],
   "source": [
    "def include_euler_angles(df):\n",
    "    # Rotation Matrix Phone and Airpods\n",
    "    mRotPhone = []\n",
    "    mRotAir = []\n",
    "    for index, row in df.iterrows():\n",
    "        rotPhone_first = row[[\"phoneMotionData.rotationMatrix.m1.1\",\"phoneMotionData.rotationMatrix.m1.2\",\"phoneMotionData.rotationMatrix.m1.3\",]]\n",
    "        rotPhone_second = row[[\"phoneMotionData.rotationMatrix.m2.1\",\"phoneMotionData.rotationMatrix.m2.2\",\"phoneMotionData.rotationMatrix.m2.3\"]]\n",
    "        rotPhone_third =  row[[\"phoneMotionData.rotationMatrix.m3.1\",\"phoneMotionData.rotationMatrix.m3.2\",\"phoneMotionData.rotationMatrix.m3.3\"]]\n",
    "        rotPhone_nump = np.array([rotPhone_first.to_numpy(),rotPhone_second.to_numpy(),rotPhone_third.to_numpy()])\n",
    "        mRotPhone.append(rotPhone_nump)\n",
    "\n",
    "        rotAir_first = row[[\"airpodMotionData.rotationMatrix.m1.1\",\"airpodMotionData.rotationMatrix.m1.2\",\"airpodMotionData.rotationMatrix.m1.3\",]]\n",
    "        rotAir_second = row[[\"airpodMotionData.rotationMatrix.m2.1\",\"airpodMotionData.rotationMatrix.m2.2\",\"airpodMotionData.rotationMatrix.m2.3\"]]\n",
    "        rotAir_third =  row[[\"airpodMotionData.rotationMatrix.m3.1\",\"airpodMotionData.rotationMatrix.m3.2\",\"airpodMotionData.rotationMatrix.m3.3\"]]\n",
    "        rotAir_nump = np.array([rotAir_first.to_numpy(),rotAir_second.to_numpy(),rotAir_third.to_numpy()])\n",
    "        mRotAir.append(rotAir_nump)\n",
    "\n",
    "    # Relative Rotations\n",
    "    mRotRelatives = []\n",
    "    for index, rotPhone in enumerate(mRotPhone):\n",
    "        mRotRelatives.append(rotPhone.dot(mRotAir[index].transpose()))\n",
    "\n",
    "    # Yaw Values\n",
    "    relativeYaws = []\n",
    "    relativeRoll = []\n",
    "    relativePitch = []\n",
    "    for index, rotRelative in enumerate(mRotRelatives):\n",
    "        relativeYaws.append(math.atan2(rotRelative[0,1],rotRelative[0,0])) #Indexes shifted because starting at 0\n",
    "        relativeRoll.append(math.atan2(rotRelative[1,2],rotRelative[2,2])) #Indexes shifted because starting at 0\n",
    "        relativePitch.append(- math.asin(rotRelative[0,2]))                #Indexes shifted because starting at 0\n",
    "\n",
    "    #Convert Radians to Degree\n",
    "    realtiveYawsDegree = np.degrees(relativeYaws)\n",
    "    relativeRollDegree = np.degrees(relativeRoll)\n",
    "    relativePitchDegree = np.degrees(relativePitch)\n",
    "    \n",
    "    #import into frame\n",
    "    df[\"relativeYaw\"] = realtiveYawsDegree.tolist()\n",
    "    df[\"relativeRoll\"] = relativeRollDegree.tolist()\n",
    "    df[\"relativePitch\"] = relativePitchDegree.tolist()\n",
    "\n",
    "def read_data(url):\n",
    "    with open(url,'r') as f:\n",
    "        data = json.loads(f.read())\n",
    "    \n",
    "    #get infos and delete theme from json\n",
    "    #infos = data.pop(\"infos\")\n",
    "    #df[\"motionTimestampDiff\"] = df.apply(lambda x: x[\"airpodMotionData.timestamp\"] - x[\"phoneMotionData.timestamp\"],axis=1)\n",
    "\n",
    "    # normalize json to readable frame\n",
    "    df = pd.json_normalize(data,record_path=[\"timestamps\"])\n",
    "\n",
    "    # convert objects to floats\n",
    "    df = df.apply(pd.to_numeric, errors='coerce')\n",
    "\n",
    "    #set timestamp as index\n",
    "    df.set_index('timestamp',inplace=True)\n",
    "        \n",
    "    #Velocity m/s to km/h\n",
    "    if 'locationData.velocity' in df.columns:\n",
    "        df[\"locationData.velocity\"] = df[\"locationData.velocity\"].apply(lambda x: x * 3.6)\n",
    "    #calculate Headrotation\n",
    "    df[\"headRotY\"] = df.apply(lambda x: x[\"airpodMotionData.yaw\"] - x[\"phoneMotionData.yaw\"],axis=1)\n",
    "    df[\"headRotY\"] = np.degrees(df[\"headRotY\"]).tolist()\n",
    "    df[\"airpodsYawDegrees\"] = np.degrees(df[\"airpodMotionData.yaw\"]).tolist()\n",
    "    df[\"phoneYawDegrees\"] = np.degrees(df[\"phoneMotionData.yaw\"]).tolist()\n",
    "    \n",
    "    df[\"airpodsRollDegrees\"] = np.degrees(df[\"airpodMotionData.roll\"]).tolist()\n",
    "    df[\"phoneRollDegrees\"] = np.degrees(df[\"phoneMotionData.roll\"]).tolist()\n",
    "    \n",
    "    df[\"airpodsPitchDegrees\"] = np.degrees(df[\"airpodMotionData.pitch\"]).tolist()\n",
    "    df[\"phonePitchDegrees\"] = np.degrees(df[\"phoneMotionData.pitch\"]).tolist()\n",
    "    \n",
    "    include_euler_angles(df)\n",
    "    addMeanRotations(df)\n",
    "    addRotations(df)\n",
    "    \n",
    "    return df\n",
    "def read_srt(url):\n",
    "    subs = pysrt.open(url)\n",
    "    return subs\n",
    "def add_conditions(subject,fig,propertyName): #To-Do use times instead of iterating srts again\n",
    "    subs = srts[subject]\n",
    "    shapes = []\n",
    "    for sub in subs:\n",
    "        # If Log was writte before video, add the delay to the times to get correct times\n",
    "        if srt_delays[subject] < 0:\n",
    "            start = sub.start.minutes * 60 + sub.start.seconds + abs(srt_delays[subject])\n",
    "            end = sub.end.minutes * 60 + sub.end.seconds + abs(srt_delays[subject])\n",
    "        else:\n",
    "            start = sub.start.minutes * 60 + sub.start.seconds - abs(srt_delays[subject])\n",
    "            end = sub.end.minutes * 60 + sub.end.seconds - abs(srt_delays[subject])\n",
    "        #display(\"Condition lasted from {} to {}\".format(start,end))#\n",
    "        color = \"#FFFFFF\"\n",
    "        if \"Condition Start\" in sub.text:\n",
    "            color = COLOR_SIT_X_HEX\n",
    "        elif \"Condition X\" in sub.text:\n",
    "            color = COLOR_SIT_X_HEX\n",
    "        elif \"Condition A\" in sub.text:\n",
    "            color = COLOR_SIT_A_HEX\n",
    "        elif \"Condition B\" in sub.text:\n",
    "            color = COLOR_SIT_B_HEX\n",
    "        elif \"Condition C\" in sub.text:\n",
    "            color = COLOR_SIT_C_HEX\n",
    "        elif \"Condition D\" in sub.text:\n",
    "            color = COLOR_SIT_D_HEX\n",
    "        elif \"Condition E\" in sub.text:\n",
    "            color = COLOR_SIT_E_HEX\n",
    "        else:\n",
    "            color = COLOR_SIT_X_HEX\n",
    "        shapes.append({\n",
    "            'type': 'rect',\n",
    "#            xref: 'x',\n",
    "#            yref: 'paper',\n",
    "            'x0': start,\n",
    "            'y0': subjects[subject][propertyName].min(),\n",
    "            'x1': end,\n",
    "            'y1': subjects[subject][propertyName].max(),\n",
    "            'fillcolor': color,\n",
    "            'opacity': 0.5,\n",
    "            'line': {\n",
    "                'width': 0\n",
    "            }\n",
    "        })\n",
    "    fig.update_layout(shapes = shapes)\n",
    "def getTimes(subject):\n",
    "    subs = srts[subject]\n",
    "    situations = []\n",
    "    iterations = [0,0,0,0,0]\n",
    "    for sub in subs:\n",
    "        # If Log was writte before video, add the delay to the times to get correct times\n",
    "        if srt_delays[subject] < 0:\n",
    "            start = sub.start.minutes * 60 + sub.start.seconds + abs(srt_delays[subject])\n",
    "            end = sub.end.minutes * 60 + sub.end.seconds + abs(srt_delays[subject])\n",
    "        else:\n",
    "            start = sub.start.minutes * 60 + sub.start.seconds - abs(srt_delays[subject])\n",
    "            end = sub.end.minutes * 60 + sub.end.seconds - abs(srt_delays[subject])\n",
    "        #if \"Condition Start\" in sub.text:\n",
    "        #elif \"Condition X\" in sub.text:\n",
    "        #elif \"Condition D\" in sub.text:\n",
    "        condition = \"x\"\n",
    "        iteration = 0\n",
    "        if \"Condition A\" in sub.text:\n",
    "            iterations[0] += 1\n",
    "            iteration = iterations[0]\n",
    "            condition = \"a\"\n",
    "        elif \"Condition B\" in sub.text:\n",
    "            iterations[1] += 1\n",
    "            iteration = iterations[1]\n",
    "            condition = \"b\"\n",
    "        elif \"Condition C\" in sub.text:\n",
    "            iterations[2] += 1\n",
    "            iteration = iterations[2]\n",
    "            condition = \"c\"\n",
    "        elif \"Condition E\" in sub.text:\n",
    "            iterations[4] += 1\n",
    "            iteration = iterations[4]\n",
    "            condition = \"e\"\n",
    "        else:\n",
    "            continue\n",
    "        subjects[subject].loc[((subjects[subject].index >= start) & (subjects[subject].index <= end)),\"situation\"] = condition\n",
    "        result = subjects[subject].loc[((subjects[subject].index >= start) & (subjects[subject].index <= end))]\n",
    "        situations.append((condition,iteration,result.index[0],result.index[-1]))\n",
    "    return np.array(situations,dtype = ([('situation', 'U10'),('iteration', 'i4'), ('start_index', 'f4'),('end_index', 'f4')]))\n",
    "\n",
    "def get_meanDuration(times,situation):\n",
    "    durations = []\n",
    "    for iteration in times[times[\"situation\"] == situation]:\n",
    "        durations.append(iteration[\"end_index\"] - iteration[\"start_index\"])\n",
    "    return np.mean(durations)\n",
    "def get_sdDuration(times,situation):\n",
    "    durations = []\n",
    "    for iteration in times[times[\"situation\"] == situation]:\n",
    "        durations.append(iteration[\"end_index\"] - iteration[\"start_index\"])\n",
    "    return np.std(durations)\n",
    "def splitDf(listElement,df,chunksize):\n",
    "    df_1 = df.iloc[:chunksize,:]\n",
    "    df_2 = df.iloc[chunksize:,:]\n",
    "    listElement.append(df_1)\n",
    "    return df_2\n",
    "\n",
    "# Splits the df into chunks (size defined globally) and adds \"mean_rotation\" for the chunk,wich is the mean of the \"relativeYaw\"\n",
    "def addMeanRotations(df):\n",
    "    splittableDf = df\n",
    "    chunks = []\n",
    "\n",
    "    while len(splittableDf) > 0:\n",
    "        splittableDf = splitDf(chunks,splittableDf,60)\n",
    "\n",
    "    for chunk_df in chunks:\n",
    "        df.loc[chunk_df.iloc[0].name:chunk_df.iloc[-1].name,\"mean_rotation\"] = np.mean(chunk_df[\"relativeYaw\"])\n",
    "\n",
    "# adds two rows to the dataframe. rotations which indicates the rotation for each row, group_index which indicates to which look count the row is sorted (1 group = 1 look)\n",
    "def addRotations(df):\n",
    "\n",
    "    df[\"rotation\"] = \"x\"\n",
    "    #Every value which is above the mean_rotation + threshhold is a right headrotation, below its a left headrotation.\n",
    "    df.loc[(df[\"relativeYaw\"] - df[\"mean_rotation\"] > rotation_threshhold),\"rotation\"] = \"r\"\n",
    "    df.loc[(df[\"relativeYaw\"] - df[\"mean_rotation\"]< rotation_threshhold),\"rotation\"] = \"l\"\n",
    "    df['group_index'] = (df['rotation'] != df['rotation'].shift()).cumsum()\n",
    "    \n",
    "#Returns the rotations for each situation for given subject\n",
    "def getRotations(subject,times):\n",
    "    rotations = {\n",
    "        \"a\" : [],\n",
    "        \"b\" : [],\n",
    "        \"c\" : [],\n",
    "        \"d\" : [],\n",
    "        \"e\" : []\n",
    "    }    \n",
    "    # For Each situaiton\n",
    "    for key,values in rotations.items():\n",
    "        # For each iteration of situation\n",
    "        for split_sit in times[times[\"situation\"] == key]:\n",
    "            # group by rotation\n",
    "            rot_groups = subjects[subject][split_sit[\"start_index\"]:split_sit[\"end_index\"]].groupby(['rotation'])[\"group_index\"]\n",
    "            # get unqiue groups to count amount\n",
    "            rots = subjects[subject][split_sit[\"start_index\"]:split_sit[\"end_index\"]].groupby(['rotation'])[\"group_index\"].nunique()\n",
    "            values.append((rots.get(\"l\" , 0),rots.get(\"r\" , 0)))\n",
    "    return rotations\n",
    "\n",
    "def getAngles(subject,times):\n",
    "    situation_angles = []\n",
    "    # For every Situation...\n",
    "    for key in [\"a\",\"b\",\"c\",\"d\",\"e\"]:\n",
    "        #for every iteration of this situation\n",
    "        for index,split_sit in enumerate(times[times[\"situation\"] == key]):\n",
    "            #group by rotations\n",
    "            rot_groups = subjects[subject][split_sit[\"start_index\"]:split_sit[\"end_index\"]][[\"mean_rotation\",\"rotation\",\"relativeYaw\",\"group_index\"]]#.groupby(['rotation'])[\"group_index\"]\n",
    "            rot_groups.groupby(['rotation'])\n",
    "\n",
    "            # for every found headrotation in iteration\n",
    "            for group in rot_groups[\"group_index\"].unique():\n",
    "                df_group = rot_groups.loc[rot_groups[\"group_index\"] == group]\n",
    "                # left rotation\n",
    "                if 'l' in df_group[\"rotation\"].unique():\n",
    "                    #get index of lowest angle in group\n",
    "                    minIndex = df_group[\"relativeYaw\"].idxmin()\n",
    "                    #if (df_group.loc[minIndex][\"relativeYaw\"] - df_group.loc[minIndex][\"mean_rotation\"]) < -180:\n",
    "                        #display(\"Found huge angle from {} with mean {}\".format(df_group.loc[minIndex][\"relativeYaw\"],df_group.loc[minIndex][\"mean_rotation\"]))\n",
    "                        #continue\n",
    "                    situation_angles.append((key,index,\"left\",df_group.loc[minIndex][\"relativeYaw\"] - df_group.loc[minIndex][\"mean_rotation\"]))\n",
    "                #right rotation\n",
    "                elif 'r' in df_group[\"rotation\"].unique():\n",
    "                    #get index of highest angle in group\n",
    "                    maxIndex = df_group[\"relativeYaw\"].idxmax()\n",
    "                    #calculate angle in relation to mean rotation\n",
    "                    #if (df_group.loc[maxIndex][\"relativeYaw\"] - df_group.loc[maxIndex][\"mean_rotation\"]) > 180:\n",
    "                        #display(\"Found huge angle from {} with mean {}\".format(df_group.loc[maxIndex][\"relativeYaw\"],df_group.loc[maxIndex][\"mean_rotation\"]))\n",
    "                        #continue\n",
    "                    situation_angles.append((key,index,\"right\",df_group.loc[maxIndex][\"relativeYaw\"] - df_group.loc[maxIndex][\"mean_rotation\"]))\n",
    "    return np.array(situation_angles,dtype = ([('situation', 'U10'),('iteration', 'i4'),('direction', 'U10'), ('angle', 'f4')]))\n",
    "\n",
    "def getStandtimes(subject,times):\n",
    "    situation_stands = []\n",
    "    for situation in [\"a\",\"b\",\"c\",\"e\"]:\n",
    "        #for every iteration of this situation\n",
    "        for index,split_sit in enumerate(times[times[\"situation\"] == situation]):\n",
    "            df_timeslice = subjects[subject].loc[split_sit[\"start_index\"]:split_sit[\"end_index\"]][\"locationData.velocity\"]\n",
    "            group_index = (df_timeslice != df_timeslice.shift()).cumsum()\n",
    "            # for every found headrotation\n",
    "            standedInIteration = False\n",
    "            for stand_sit_group in group_index.unique():\n",
    "                df_sit = group_index.loc[group_index == stand_sit_group]\n",
    "                if df_timeslice[df_sit.index[0]] == 0.0:\n",
    "                    situation_stands.append((situation,index,df_sit.index[-1] - df_sit.index[0]))\n",
    "                    standedInIteration = True\n",
    "            if not standedInIteration:\n",
    "                # This iteration no one stand. Adding 0 to account for in mean calculations\n",
    "                situation_stands.append((situation,index,0.00))\n",
    "    return np.array(situation_stands,dtype = ([('situation', 'U10'),('iteration', 'i4'), ('seconds', 'f4')]))\n",
    "# builds sum over all iterations of one situation, returns mean of this sum\n",
    "def getMeanOfStandSituation(times,situation):\n",
    "    sit_times = times[times[\"situation\"] == situation]\n",
    "    sit_sums = []\n",
    "    for iteration in np.unique(sit_times[\"iteration\"]):\n",
    "        sit_sums.append(np.sum(sit_times[sit_times[\"iteration\"] == iteration][\"seconds\"]))\n",
    "    return np.mean(sit_sums)\n",
    "def getSdOfStandSituation(times,situation):\n",
    "    sit_times = times[times[\"situation\"] == situation]\n",
    "    sit_sums = []\n",
    "    for iteration in np.unique(sit_times[\"iteration\"]):\n",
    "        sit_sums.append(np.sum(sit_times[sit_times[\"iteration\"] == iteration][\"seconds\"]))\n",
    "    return np.std(sit_sums)"
   ]
  },
  {
   "cell_type": "markdown",
   "id": "72dbc470-1a22-4fa0-9b07-2fca0519b109",
   "metadata": {
    "tags": []
   },
   "source": [
    "## Data Read"
   ]
  },
  {
   "cell_type": "code",
   "execution_count": 4,
   "id": "d33cacbd-ef5e-4a57-a880-e7e7754a5fb1",
   "metadata": {},
   "outputs": [],
   "source": [
    "# Questionaire Data\n",
    "age = [24,26,22,23,25,28]\n",
    "#display(np.std(age))\n",
    "\n",
    "#difficulty,safety\n",
    "#5 = hard\n",
    "difficulty = {\n",
    "    \"a\" : [5,2,1,2,1,1,2,1],\n",
    "    \"b\" : [1,1,1,3,4,1,1,3],\n",
    "    \"c\" : [3,1,4,3,3,2,3,2],\n",
    "    \"d\" : [1,1,3,3,1,3,1,4],\n",
    "    \"e\" : [1,1,2,3,2,2,1,1]\n",
    "}\n",
    "safety = {\n",
    "    \"a\" : [3,5,4,4,4,4,5,5],\n",
    "    \"b\" : [4,5,5,4,2,5,5,4],\n",
    "    \"c\" : [4,4,2,3,3,3,5,5],\n",
    "    \"d\" : [5,5,4,4,4,4,5,2],\n",
    "    \"e\" : [5,5,4,3,3,4,5,5] \n",
    "}\n",
    "means = []\n",
    "iqrs = []\n",
    "for situation,values in difficulty.items():\n",
    "    means.append(np.mean(values))\n",
    "    q75, q25 = np.percentile(values, [75 ,25])\n",
    "    iqr = q75 - q25\n",
    "    iqrs.append(iqr)\n",
    "\n",
    "#5 = Safe, Flipped Data\n",
    "means = []\n",
    "iqrs = []\n",
    "for situation,values in safety.items():\n",
    "    means.append(np.mean(values))\n",
    "    q75, q25 = np.percentile(values, [75 ,25])\n",
    "    iqr = q75 - q25\n",
    "    iqrs.append(iqr)"
   ]
  },
  {
   "cell_type": "code",
   "execution_count": 5,
   "id": "71880a93-5fdc-490d-bf6e-85f2dee32661",
   "metadata": {},
   "outputs": [],
   "source": [
    "#Subjects\n",
    "df_subject1 = read_data(\"./logs/participants/2022-10-17 124155-logfile-subject-1.json\")\n",
    "df_subject2 = read_data(\"./logs/participants/2022-10-20 111557-logfile-subject-2.json\")\n",
    "#df_subject3 = read_data(\"./logs/participants/2022-10-25 124003-logfile-subject-3.json\")\n",
    "df_subject3_1 = read_data(\"./logs/participants/2022-11-04 113121-logfile-subject-3.1.json\")\n",
    "df_subject4 = read_data(\"./logs/participants/2022-10-25 142229-logfile-subject-4.json\")\n",
    "df_subject5 = read_data(\"./logs/participants/2022-10-27 165339-logfile-subject-5.json\")\n",
    "df_subject6 = read_data(\"./logs/participants/2022-10-28 101829-logfile-subject-6.json\")\n",
    "df_subject7 = read_data(\"./logs/participants/2022-10-28 154837-logfile-subject-7.json\")\n",
    "df_subject8 = read_data(\"./logs/participants/2022-11-04 122345-logfile-subject-8.json\")\n",
    "\n",
    "#SRTs\n",
    "srt_subject1 = read_srt(\"./logs/participants/srts/subs_participant_1.srt\")\n",
    "srt_subject2 = read_srt(\"./logs/participants/srts/subs_participant_2.srt\")\n",
    "srt_subject3 = read_srt(\"./logs/participants/srts/subs_participant_3.srt\")\n",
    "srt_subject4 = read_srt(\"./logs/participants/srts/subs_participant_4.srt\")\n",
    "srt_subject5 = read_srt(\"./logs/participants/srts/subs_participant_5.srt\")\n",
    "srt_subject6 = read_srt(\"./logs/participants/srts/subs_participant_6.srt\")\n",
    "srt_subject7 = read_srt(\"./logs/participants/srts/subs_participant_7.srt\")\n",
    "srt_subject8 = read_srt(\"./logs/participants/srts/subs_participant_8.srt\")"
   ]
  },
  {
   "cell_type": "code",
   "execution_count": 6,
   "id": "2a386199-acad-411b-b8f0-c873b3486ad9",
   "metadata": {},
   "outputs": [],
   "source": [
    "# TO-DO: Streamline into one dictionary\n",
    "subjects = {\n",
    "    \"Subject 1\" : df_subject1,\n",
    "    \"Subject 2\" : df_subject2,\n",
    "    \"Subject 3\" : df_subject3_1,\n",
    "    \"Subject 4\" : df_subject4,\n",
    "    \"Subject 5\" : df_subject5,\n",
    "    \"Subject 6\" : df_subject6,\n",
    "    \"Subject 7\" : df_subject7,\n",
    "    \"Subject 8\" : df_subject8\n",
    "}\n",
    "srts = {\n",
    "    \"Subject 1\" : srt_subject1,\n",
    "    \"Subject 2\" : srt_subject2,\n",
    "    \"Subject 3\" : srt_subject3,\n",
    "    \"Subject 4\" : srt_subject4,\n",
    "    \"Subject 5\" : srt_subject5,\n",
    "    \"Subject 6\" : srt_subject6,\n",
    "    \"Subject 7\" : srt_subject7,\n",
    "    \"Subject 8\" : srt_subject8\n",
    "}\n",
    "# If negative, the app was running before the camera. Little inconsistency in the study design \n",
    "srt_delays = {\n",
    "    \"Subject 1\" : - 8.0,\n",
    "    \"Subject 2\" : - 29.0,\n",
    "    \"Subject 3\" : 12.0 ,\n",
    "    \"Subject 4\" : -10.0,\n",
    "    \"Subject 5\" : 9.0,\n",
    "    \"Subject 6\" : -32.0,\n",
    "    \"Subject 7\" : 490.0,\n",
    "    \"Subject 8\" : 14.0\n",
    "}\n",
    "#[difficulty,safety]\n",
    "subjects_perceived = {\n",
    "    \"Subject 1\" : [[5,1,3,1,1],[3,4,4,5,5]],\n",
    "    \"Subject 2\" : [[2,1,1,1,1],[5,5,4,5,5]],\n",
    "    \"Subject 3\" : [[1,1,4,3,2],[4,5,2,4,4]],\n",
    "    \"Subject 4\" : [[2,3,3,3,3],[4,4,3,4,3]],\n",
    "    \"Subject 5\" : [[1,4,3,1,2],[4,2,3,4,3]],\n",
    "    \"Subject 6\" : [[1,1,2,3,2],[4,5,3,4,4]],\n",
    "    \"Subject 7\" : [[2,1,3,1,1],[5,5,5,5,5]],\n",
    "    \"Subject 8\" : [[1,3,2,4,1],[5,4,5,2,5]]\n",
    "}\n",
    "\n",
    "# Adding rotations where mean_rotation + threshhold as a identifier field to the dataframes\n",
    "for df in subjects.values():\n",
    "    addRotations(df)\n",
    "\n",
    "# Labels for the plots\n",
    "available_data_labels = list(subjects.keys())"
   ]
  },
  {
   "cell_type": "code",
   "execution_count": 7,
   "id": "74df92e1-afdf-4d50-afb8-ef8d7e012179",
   "metadata": {},
   "outputs": [
    {
     "name": "stderr",
     "output_type": "stream",
     "text": [
      "/Library/Frameworks/Python.framework/Versions/3.11/lib/python3.11/site-packages/numpy/core/fromnumeric.py:3464: RuntimeWarning: Mean of empty slice.\n",
      "  return _methods._mean(a, axis=axis, dtype=dtype,\n",
      "/Library/Frameworks/Python.framework/Versions/3.11/lib/python3.11/site-packages/numpy/core/_methods.py:192: RuntimeWarning: invalid value encountered in scalar divide\n",
      "  ret = ret.dtype.type(ret / rcount)\n",
      "/var/folders/dq/2dn0y4q57nzg9w8bsvw5zv800000gn/T/ipykernel_77339/567311847.py:27: RuntimeWarning: invalid value encountered in scalar divide\n",
      "  np.sum([i[0] for i in rotations[\"b\"]]) / len(rotations[\"b\"]),\n",
      "/var/folders/dq/2dn0y4q57nzg9w8bsvw5zv800000gn/T/ipykernel_77339/567311847.py:32: RuntimeWarning: invalid value encountered in scalar divide\n",
      "  np.sum([i[1] for i in rotations[\"b\"]]) / len(rotations[\"b\"]),\n",
      "/Library/Frameworks/Python.framework/Versions/3.11/lib/python3.11/site-packages/numpy/core/_methods.py:192: RuntimeWarning: invalid value encountered in divide\n",
      "  ret = ret.dtype.type(ret / rcount)\n",
      "/Library/Frameworks/Python.framework/Versions/3.11/lib/python3.11/site-packages/numpy/core/fromnumeric.py:3464: RuntimeWarning: Mean of empty slice.\n",
      "  return _methods._mean(a, axis=axis, dtype=dtype,\n",
      "/Library/Frameworks/Python.framework/Versions/3.11/lib/python3.11/site-packages/numpy/core/_methods.py:192: RuntimeWarning: invalid value encountered in scalar divide\n",
      "  ret = ret.dtype.type(ret / rcount)\n",
      "/var/folders/dq/2dn0y4q57nzg9w8bsvw5zv800000gn/T/ipykernel_77339/567311847.py:27: RuntimeWarning: invalid value encountered in scalar divide\n",
      "  np.sum([i[0] for i in rotations[\"b\"]]) / len(rotations[\"b\"]),\n",
      "/var/folders/dq/2dn0y4q57nzg9w8bsvw5zv800000gn/T/ipykernel_77339/567311847.py:32: RuntimeWarning: invalid value encountered in scalar divide\n",
      "  np.sum([i[1] for i in rotations[\"b\"]]) / len(rotations[\"b\"]),\n",
      "/Library/Frameworks/Python.framework/Versions/3.11/lib/python3.11/site-packages/numpy/core/_methods.py:192: RuntimeWarning: invalid value encountered in divide\n",
      "  ret = ret.dtype.type(ret / rcount)\n",
      "/Library/Frameworks/Python.framework/Versions/3.11/lib/python3.11/site-packages/numpy/core/fromnumeric.py:3464: RuntimeWarning: Mean of empty slice.\n",
      "  return _methods._mean(a, axis=axis, dtype=dtype,\n",
      "/Library/Frameworks/Python.framework/Versions/3.11/lib/python3.11/site-packages/numpy/core/_methods.py:192: RuntimeWarning: invalid value encountered in scalar divide\n",
      "  ret = ret.dtype.type(ret / rcount)\n",
      "/var/folders/dq/2dn0y4q57nzg9w8bsvw5zv800000gn/T/ipykernel_77339/567311847.py:27: RuntimeWarning: invalid value encountered in scalar divide\n",
      "  np.sum([i[0] for i in rotations[\"b\"]]) / len(rotations[\"b\"]),\n",
      "/var/folders/dq/2dn0y4q57nzg9w8bsvw5zv800000gn/T/ipykernel_77339/567311847.py:32: RuntimeWarning: invalid value encountered in scalar divide\n",
      "  np.sum([i[1] for i in rotations[\"b\"]]) / len(rotations[\"b\"]),\n",
      "/Library/Frameworks/Python.framework/Versions/3.11/lib/python3.11/site-packages/numpy/core/_methods.py:192: RuntimeWarning: invalid value encountered in divide\n",
      "  ret = ret.dtype.type(ret / rcount)\n",
      "/Library/Frameworks/Python.framework/Versions/3.11/lib/python3.11/site-packages/numpy/core/fromnumeric.py:3464: RuntimeWarning: Mean of empty slice.\n",
      "  return _methods._mean(a, axis=axis, dtype=dtype,\n",
      "/Library/Frameworks/Python.framework/Versions/3.11/lib/python3.11/site-packages/numpy/core/_methods.py:192: RuntimeWarning: invalid value encountered in scalar divide\n",
      "  ret = ret.dtype.type(ret / rcount)\n",
      "/var/folders/dq/2dn0y4q57nzg9w8bsvw5zv800000gn/T/ipykernel_77339/567311847.py:27: RuntimeWarning: invalid value encountered in scalar divide\n",
      "  np.sum([i[0] for i in rotations[\"b\"]]) / len(rotations[\"b\"]),\n",
      "/var/folders/dq/2dn0y4q57nzg9w8bsvw5zv800000gn/T/ipykernel_77339/567311847.py:32: RuntimeWarning: invalid value encountered in scalar divide\n",
      "  np.sum([i[1] for i in rotations[\"b\"]]) / len(rotations[\"b\"]),\n",
      "/Library/Frameworks/Python.framework/Versions/3.11/lib/python3.11/site-packages/numpy/core/_methods.py:192: RuntimeWarning: invalid value encountered in divide\n",
      "  ret = ret.dtype.type(ret / rcount)\n",
      "/Library/Frameworks/Python.framework/Versions/3.11/lib/python3.11/site-packages/numpy/core/fromnumeric.py:3464: RuntimeWarning: Mean of empty slice.\n",
      "  return _methods._mean(a, axis=axis, dtype=dtype,\n",
      "/Library/Frameworks/Python.framework/Versions/3.11/lib/python3.11/site-packages/numpy/core/_methods.py:192: RuntimeWarning: invalid value encountered in scalar divide\n",
      "  ret = ret.dtype.type(ret / rcount)\n",
      "/var/folders/dq/2dn0y4q57nzg9w8bsvw5zv800000gn/T/ipykernel_77339/567311847.py:27: RuntimeWarning: invalid value encountered in scalar divide\n",
      "  np.sum([i[0] for i in rotations[\"b\"]]) / len(rotations[\"b\"]),\n",
      "/var/folders/dq/2dn0y4q57nzg9w8bsvw5zv800000gn/T/ipykernel_77339/567311847.py:32: RuntimeWarning: invalid value encountered in scalar divide\n",
      "  np.sum([i[1] for i in rotations[\"b\"]]) / len(rotations[\"b\"]),\n",
      "/Library/Frameworks/Python.framework/Versions/3.11/lib/python3.11/site-packages/numpy/core/_methods.py:192: RuntimeWarning: invalid value encountered in divide\n",
      "  ret = ret.dtype.type(ret / rcount)\n",
      "/Library/Frameworks/Python.framework/Versions/3.11/lib/python3.11/site-packages/numpy/core/fromnumeric.py:3464: RuntimeWarning: Mean of empty slice.\n",
      "  return _methods._mean(a, axis=axis, dtype=dtype,\n",
      "/Library/Frameworks/Python.framework/Versions/3.11/lib/python3.11/site-packages/numpy/core/_methods.py:192: RuntimeWarning: invalid value encountered in scalar divide\n",
      "  ret = ret.dtype.type(ret / rcount)\n",
      "/var/folders/dq/2dn0y4q57nzg9w8bsvw5zv800000gn/T/ipykernel_77339/567311847.py:27: RuntimeWarning: invalid value encountered in scalar divide\n",
      "  np.sum([i[0] for i in rotations[\"b\"]]) / len(rotations[\"b\"]),\n",
      "/var/folders/dq/2dn0y4q57nzg9w8bsvw5zv800000gn/T/ipykernel_77339/567311847.py:32: RuntimeWarning: invalid value encountered in scalar divide\n",
      "  np.sum([i[1] for i in rotations[\"b\"]]) / len(rotations[\"b\"]),\n",
      "/Library/Frameworks/Python.framework/Versions/3.11/lib/python3.11/site-packages/numpy/core/_methods.py:192: RuntimeWarning: invalid value encountered in divide\n",
      "  ret = ret.dtype.type(ret / rcount)\n",
      "/Library/Frameworks/Python.framework/Versions/3.11/lib/python3.11/site-packages/numpy/core/fromnumeric.py:3464: RuntimeWarning: Mean of empty slice.\n",
      "  return _methods._mean(a, axis=axis, dtype=dtype,\n",
      "/Library/Frameworks/Python.framework/Versions/3.11/lib/python3.11/site-packages/numpy/core/_methods.py:192: RuntimeWarning: invalid value encountered in scalar divide\n",
      "  ret = ret.dtype.type(ret / rcount)\n",
      "/var/folders/dq/2dn0y4q57nzg9w8bsvw5zv800000gn/T/ipykernel_77339/567311847.py:27: RuntimeWarning: invalid value encountered in scalar divide\n",
      "  np.sum([i[0] for i in rotations[\"b\"]]) / len(rotations[\"b\"]),\n",
      "/var/folders/dq/2dn0y4q57nzg9w8bsvw5zv800000gn/T/ipykernel_77339/567311847.py:32: RuntimeWarning: invalid value encountered in scalar divide\n",
      "  np.sum([i[1] for i in rotations[\"b\"]]) / len(rotations[\"b\"]),\n",
      "/Library/Frameworks/Python.framework/Versions/3.11/lib/python3.11/site-packages/numpy/core/_methods.py:192: RuntimeWarning: invalid value encountered in divide\n",
      "  ret = ret.dtype.type(ret / rcount)\n",
      "/Library/Frameworks/Python.framework/Versions/3.11/lib/python3.11/site-packages/numpy/core/fromnumeric.py:3464: RuntimeWarning: Mean of empty slice.\n",
      "  return _methods._mean(a, axis=axis, dtype=dtype,\n",
      "/Library/Frameworks/Python.framework/Versions/3.11/lib/python3.11/site-packages/numpy/core/_methods.py:192: RuntimeWarning: invalid value encountered in scalar divide\n",
      "  ret = ret.dtype.type(ret / rcount)\n",
      "/var/folders/dq/2dn0y4q57nzg9w8bsvw5zv800000gn/T/ipykernel_77339/567311847.py:27: RuntimeWarning: invalid value encountered in scalar divide\n",
      "  np.sum([i[0] for i in rotations[\"b\"]]) / len(rotations[\"b\"]),\n",
      "/var/folders/dq/2dn0y4q57nzg9w8bsvw5zv800000gn/T/ipykernel_77339/567311847.py:32: RuntimeWarning: invalid value encountered in scalar divide\n",
      "  np.sum([i[1] for i in rotations[\"b\"]]) / len(rotations[\"b\"]),\n",
      "/Library/Frameworks/Python.framework/Versions/3.11/lib/python3.11/site-packages/numpy/core/_methods.py:192: RuntimeWarning: invalid value encountered in divide\n",
      "  ret = ret.dtype.type(ret / rcount)\n"
     ]
    }
   ],
   "source": [
    "# Get mean values per subject, per situation\n",
    "data = []\n",
    "for key,value in subjects.items():\n",
    "    times = getTimes(key)\n",
    "    rotations = getRotations(key,times)\n",
    "    standtimes = getStandtimes(key,times)\n",
    "    angles = getAngles(key,times)\n",
    "    left_angles = angles[(angles[\"situation\"] == key) & (angles[\"direction\"] == \"left\")][\"angle\"]\n",
    "    right_angles = angles[(angles[\"situation\"] == key) & (angles[\"direction\"] == \"right\")][\"angle\"]\n",
    "    data.append([\n",
    "        key,\n",
    "        value[\"relativeYaw\"].mean(axis=0),\n",
    "        value[\"locationData.velocity\"].mean(axis=0),\n",
    "        value.index[-1],\n",
    "        get_meanDuration(times,\"a\"),\n",
    "        get_meanDuration(times,\"b\"),\n",
    "        get_meanDuration(times,\"c\"),\n",
    "        0,\n",
    "        get_meanDuration(times,\"e\"),\n",
    "        getMeanOfStandSituation(standtimes,\"a\"),\n",
    "        getMeanOfStandSituation(standtimes,\"b\"),\n",
    "        getMeanOfStandSituation(standtimes,\"c\"),\n",
    "        0,\n",
    "        getMeanOfStandSituation(standtimes,\"e\"),\n",
    "        #Rotations have to be divided by the iterations. We need amount\n",
    "        np.sum([i[0] for i in rotations[\"a\"]]) / len(rotations[\"a\"]),\n",
    "        np.sum([i[0] for i in rotations[\"b\"]]) / len(rotations[\"b\"]),\n",
    "        np.sum([i[0] for i in rotations[\"c\"]]) / len(rotations[\"c\"]),\n",
    "        0,\n",
    "        np.sum([i[0] for i in rotations[\"e\"]]) / len(rotations[\"e\"]),\n",
    "        np.sum([i[1] for i in rotations[\"a\"]]) / len(rotations[\"a\"]),\n",
    "        np.sum([i[1] for i in rotations[\"b\"]]) / len(rotations[\"b\"]),\n",
    "        np.sum([i[1] for i in rotations[\"c\"]]) / len(rotations[\"c\"]),\n",
    "        0,\n",
    "        np.sum([i[1] for i in rotations[\"e\"]]) / len(rotations[\"e\"]),\n",
    "        np.mean(angles[(angles[\"situation\"] == \"a\") & (angles[\"direction\"] == \"left\")][\"angle\"]),\n",
    "        np.mean(angles[(angles[\"situation\"] == \"b\") & (angles[\"direction\"] == \"left\")][\"angle\"]),\n",
    "        np.mean(angles[(angles[\"situation\"] == \"c\") & (angles[\"direction\"] == \"left\")][\"angle\"]),\n",
    "        0,\n",
    "        np.mean(angles[(angles[\"situation\"] == \"e\") & (angles[\"direction\"] == \"left\")][\"angle\"]),\n",
    "        np.mean(angles[(angles[\"situation\"] == \"a\") & (angles[\"direction\"] == \"right\")][\"angle\"]),\n",
    "        np.mean(angles[(angles[\"situation\"] == \"b\") & (angles[\"direction\"] == \"right\")][\"angle\"]),\n",
    "        np.mean(angles[(angles[\"situation\"] == \"c\") & (angles[\"direction\"] == \"right\")][\"angle\"]),\n",
    "        0,\n",
    "        np.mean(angles[(angles[\"situation\"] == \"e\") & (angles[\"direction\"] == \"right\")][\"angle\"]),\n",
    "        #safety\n",
    "        subjects_perceived[key][1][0],\n",
    "        subjects_perceived[key][1][1],\n",
    "        subjects_perceived[key][1][2],\n",
    "        subjects_perceived[key][1][3],\n",
    "        subjects_perceived[key][1][4],\n",
    "        #difficulty\n",
    "        subjects_perceived[key][0][0],\n",
    "        subjects_perceived[key][0][1],\n",
    "        subjects_perceived[key][0][2],\n",
    "        subjects_perceived[key][0][3],\n",
    "        subjects_perceived[key][0][4]\n",
    "    ])\n",
    "df_all = pd.DataFrame(data, columns=[\n",
    "    'subject', \n",
    "    'mean_rotation',\n",
    "    'mean_speed',\n",
    "    \"duration\",\n",
    "    'sit_a_duration',\n",
    "    'sit_b_duration',\n",
    "    'sit_c_duration',\n",
    "    'sit_d_duration',\n",
    "    'sit_e_duration',\n",
    "    'sit_a_standtime',\n",
    "    'sit_b_standtime',\n",
    "    'sit_c_standtime',\n",
    "    'sit_d_standtime',\n",
    "    'sit_e_standtime',\n",
    "    'sit_a_left_rotations',\n",
    "    'sit_b_left_rotations',\n",
    "    'sit_c_left_rotations',\n",
    "    'sit_d_left_rotations',\n",
    "    'sit_e_left_rotations',\n",
    "    'sit_a_right_rotations',\n",
    "    'sit_b_right_rotations',\n",
    "    'sit_c_right_rotations',\n",
    "    'sit_d_right_rotations',\n",
    "    'sit_e_right_rotations',\n",
    "    'sit_a_left_angle',\n",
    "    'sit_b_left_angle',\n",
    "    'sit_c_left_angle',\n",
    "    'sit_d_left_angle',\n",
    "    'sit_e_left_angle',\n",
    "    'sit_a_right_angle',\n",
    "    'sit_b_right_angle',\n",
    "    'sit_c_right_angle',\n",
    "    'sit_d_right_angle',\n",
    "    'sit_e_right_angle',\n",
    "    \"sit_a_safety\",\n",
    "    \"sit_b_safety\",\n",
    "    \"sit_c_safety\",\n",
    "    \"sit_d_safety\",\n",
    "    \"sit_e_safety\",\n",
    "    \"sit_a_difficulty\",\n",
    "    \"sit_b_difficulty\",\n",
    "    \"sit_c_difficulty\",\n",
    "    \"sit_d_difficulty\",\n",
    "    \"sit_e_difficulty\"\n",
    "])\n",
    "df_all.loc['Total'] = df_all.mean(numeric_only=True)\n",
    "#df_all.loc['SD'] = df_all.std(numeric_only=True)"
   ]
  },
  {
   "cell_type": "code",
   "execution_count": 8,
   "id": "d7b09f93-8db9-43f7-89f7-5c38d790e86a",
   "metadata": {},
   "outputs": [
    {
     "name": "stderr",
     "output_type": "stream",
     "text": [
      "/Library/Frameworks/Python.framework/Versions/3.11/lib/python3.11/site-packages/numpy/core/fromnumeric.py:3464: RuntimeWarning: Mean of empty slice.\n",
      "  return _methods._mean(a, axis=axis, dtype=dtype,\n",
      "/Library/Frameworks/Python.framework/Versions/3.11/lib/python3.11/site-packages/numpy/core/_methods.py:192: RuntimeWarning: invalid value encountered in scalar divide\n",
      "  ret = ret.dtype.type(ret / rcount)\n",
      "/Library/Frameworks/Python.framework/Versions/3.11/lib/python3.11/site-packages/numpy/core/fromnumeric.py:3464: RuntimeWarning: Mean of empty slice.\n",
      "  return _methods._mean(a, axis=axis, dtype=dtype,\n",
      "/Library/Frameworks/Python.framework/Versions/3.11/lib/python3.11/site-packages/numpy/core/_methods.py:192: RuntimeWarning: invalid value encountered in scalar divide\n",
      "  ret = ret.dtype.type(ret / rcount)\n",
      "/Library/Frameworks/Python.framework/Versions/3.11/lib/python3.11/site-packages/numpy/core/fromnumeric.py:3464: RuntimeWarning: Mean of empty slice.\n",
      "  return _methods._mean(a, axis=axis, dtype=dtype,\n",
      "/Library/Frameworks/Python.framework/Versions/3.11/lib/python3.11/site-packages/numpy/core/_methods.py:192: RuntimeWarning: invalid value encountered in scalar divide\n",
      "  ret = ret.dtype.type(ret / rcount)\n",
      "/Library/Frameworks/Python.framework/Versions/3.11/lib/python3.11/site-packages/numpy/core/fromnumeric.py:3464: RuntimeWarning: Mean of empty slice.\n",
      "  return _methods._mean(a, axis=axis, dtype=dtype,\n",
      "/Library/Frameworks/Python.framework/Versions/3.11/lib/python3.11/site-packages/numpy/core/_methods.py:192: RuntimeWarning: invalid value encountered in scalar divide\n",
      "  ret = ret.dtype.type(ret / rcount)\n",
      "/Library/Frameworks/Python.framework/Versions/3.11/lib/python3.11/site-packages/numpy/core/fromnumeric.py:3464: RuntimeWarning: Mean of empty slice.\n",
      "  return _methods._mean(a, axis=axis, dtype=dtype,\n",
      "/Library/Frameworks/Python.framework/Versions/3.11/lib/python3.11/site-packages/numpy/core/_methods.py:192: RuntimeWarning: invalid value encountered in scalar divide\n",
      "  ret = ret.dtype.type(ret / rcount)\n",
      "/Library/Frameworks/Python.framework/Versions/3.11/lib/python3.11/site-packages/numpy/core/fromnumeric.py:3464: RuntimeWarning: Mean of empty slice.\n",
      "  return _methods._mean(a, axis=axis, dtype=dtype,\n",
      "/Library/Frameworks/Python.framework/Versions/3.11/lib/python3.11/site-packages/numpy/core/_methods.py:192: RuntimeWarning: invalid value encountered in scalar divide\n",
      "  ret = ret.dtype.type(ret / rcount)\n",
      "/Library/Frameworks/Python.framework/Versions/3.11/lib/python3.11/site-packages/numpy/core/fromnumeric.py:3464: RuntimeWarning: Mean of empty slice.\n",
      "  return _methods._mean(a, axis=axis, dtype=dtype,\n",
      "/Library/Frameworks/Python.framework/Versions/3.11/lib/python3.11/site-packages/numpy/core/_methods.py:192: RuntimeWarning: invalid value encountered in scalar divide\n",
      "  ret = ret.dtype.type(ret / rcount)\n",
      "/Library/Frameworks/Python.framework/Versions/3.11/lib/python3.11/site-packages/numpy/core/fromnumeric.py:3464: RuntimeWarning: Mean of empty slice.\n",
      "  return _methods._mean(a, axis=axis, dtype=dtype,\n",
      "/Library/Frameworks/Python.framework/Versions/3.11/lib/python3.11/site-packages/numpy/core/_methods.py:192: RuntimeWarning: invalid value encountered in scalar divide\n",
      "  ret = ret.dtype.type(ret / rcount)\n"
     ]
    }
   ],
   "source": [
    "#Correlations\n",
    "#TO-DOs: Find Empty Slice producer and prevent mean value from empty values\n",
    "data = []\n",
    "for key,value in subjects.items():\n",
    "    times = getTimes(key)\n",
    "    rotations = getRotations(key,times)\n",
    "    standtimes = getStandtimes(key,times)\n",
    "    angles = getAngles(key,times)\n",
    "    left_angles = angles[(angles[\"situation\"] == key) & (angles[\"direction\"] == \"left\")][\"angle\"]\n",
    "    right_angles = angles[(angles[\"situation\"] == key) & (angles[\"direction\"] == \"right\")][\"angle\"]\n",
    "    data.append([\n",
    "        key,\n",
    "        value[\"relativeYaw\"].mean(axis=0),\n",
    "        value[\"locationData.velocity\"].mean(axis=0),\n",
    "        value.index[-1],\n",
    "        get_meanDuration(times,\"a\"),\n",
    "        get_meanDuration(times,\"b\"),\n",
    "       get_meanDuration(times,\"c\"),\n",
    "        0,\n",
    "        get_meanDuration(times,\"e\"),\n",
    "        getMeanOfStandSituation(standtimes,\"a\"),\n",
    "        getMeanOfStandSituation(standtimes,\"b\"),\n",
    "        getMeanOfStandSituation(standtimes,\"c\"),\n",
    "        0,\n",
    "        getMeanOfStandSituation(standtimes,\"e\"),\n",
    "        #Rotations have to be divided by the iterations. We need amount\n",
    "        [i[0] for i in rotations[\"a\"]],\n",
    "        [i[0] for i in rotations[\"b\"]],\n",
    "        [i[0] for i in rotations[\"c\"]],\n",
    "        0,\n",
    "        [i[0] for i in rotations[\"e\"]],\n",
    "        [i[1] for i in rotations[\"a\"]],\n",
    "        [i[1] for i in rotations[\"b\"]],\n",
    "        [i[1] for i in rotations[\"c\"]],\n",
    "        0,\n",
    "        [i[1] for i in rotations[\"e\"]],\n",
    "        angles[(angles[\"situation\"] == \"a\") & (angles[\"direction\"] == \"left\")][\"angle\"],\n",
    "        angles[(angles[\"situation\"] == \"b\") & (angles[\"direction\"] == \"left\")][\"angle\"],\n",
    "        angles[(angles[\"situation\"] == \"c\") & (angles[\"direction\"] == \"left\")][\"angle\"],\n",
    "        0,\n",
    "        angles[(angles[\"situation\"] == \"e\") & (angles[\"direction\"] == \"left\")][\"angle\"],\n",
    "        angles[(angles[\"situation\"] == \"a\") & (angles[\"direction\"] == \"right\")][\"angle\"],\n",
    "        angles[(angles[\"situation\"] == \"b\") & (angles[\"direction\"] == \"right\")][\"angle\"],\n",
    "        angles[(angles[\"situation\"] == \"c\") & (angles[\"direction\"] == \"right\")][\"angle\"],\n",
    "        0,\n",
    "        angles[(angles[\"situation\"] == \"e\") & (angles[\"direction\"] == \"right\")][\"angle\"],\n",
    "        #safety\n",
    "        subjects_perceived[key][1][0],\n",
    "        subjects_perceived[key][1][1],\n",
    "        subjects_perceived[key][1][2],\n",
    "        subjects_perceived[key][1][3],\n",
    "        subjects_perceived[key][1][4],\n",
    "        #difficulty\n",
    "        subjects_perceived[key][0][0],\n",
    "        subjects_perceived[key][0][1],\n",
    "        subjects_perceived[key][0][2],\n",
    "        subjects_perceived[key][0][3],\n",
    "        subjects_perceived[key][0][4]\n",
    "    ])\n",
    "df_corr = pd.DataFrame(data, columns=[\n",
    "    'subject', \n",
    "    'mean_rotation',\n",
    "    'mean_speed',\n",
    "    \"duration\",\n",
    "    'sit_a_duration',\n",
    "    'sit_b_duration',\n",
    "    'sit_c_duration',\n",
    "    'sit_d_duration',\n",
    "    'sit_e_duration',\n",
    "    'sit_a_standtime',\n",
    "    'sit_b_standtime',\n",
    "    'sit_c_standtime',\n",
    "    'sit_d_standtime',\n",
    "    'sit_e_standtime',\n",
    "    'sit_a_left_rotations',\n",
    "    'sit_b_left_rotations',\n",
    "    'sit_c_left_rotations',\n",
    "    'sit_d_left_rotations',\n",
    "    'sit_e_left_rotations',\n",
    "    'sit_a_right_rotations',\n",
    "    'sit_b_right_rotations',\n",
    "    'sit_c_right_rotations',\n",
    "    'sit_d_right_rotations',\n",
    "    'sit_e_right_rotations',\n",
    "    'sit_a_left_angle',\n",
    "    'sit_b_left_angle',\n",
    "    'sit_c_left_angle',\n",
    "    'sit_d_left_angle',\n",
    "    'sit_e_left_angle',\n",
    "    'sit_a_right_angle',\n",
    "    'sit_b_right_angle',\n",
    "    'sit_c_right_angle',\n",
    "    'sit_d_right_angle',\n",
    "    'sit_e_right_angle',\n",
    "    \"sit_a_safety\",\n",
    "    \"sit_b_safety\",\n",
    "    \"sit_c_safety\",\n",
    "    \"sit_d_safety\",\n",
    "    \"sit_e_safety\",\n",
    "    \"sit_a_difficulty\",\n",
    "    \"sit_b_difficulty\",\n",
    "    \"sit_c_difficulty\",\n",
    "    \"sit_d_difficulty\",\n",
    "    \"sit_e_difficulty\"\n",
    "])\n",
    "#df_corr.loc['Total'] = df_all.mean(numeric_only=True)"
   ]
  },
  {
   "cell_type": "code",
   "execution_count": 9,
   "id": "195c50a6-5c50-4b30-820b-b622d8a6f68a",
   "metadata": {},
   "outputs": [],
   "source": [
    "# raw values for correlations per situation\n",
    "data = [\n",
    "    [\"A\",\n",
    "        np.concatenate( df_corr[\"sit_a_left_rotations\"].values, axis=0),\n",
    "        np.concatenate( df_corr[\"sit_a_right_rotations\"].values, axis=0),\n",
    "        np.concatenate( df_corr[\"sit_a_left_angle\"].values, axis=0),\n",
    "        np.concatenate( df_corr[\"sit_a_right_angle\"].values, axis=0),\n",
    "        df_corr[\"sit_a_safety\"].values,\n",
    "        df_corr[\"sit_a_difficulty\"].values\n",
    "    ],\n",
    "    [\"C\",\n",
    "        np.concatenate( df_corr[\"sit_c_left_rotations\"].values, axis=0),\n",
    "        np.concatenate( df_corr[\"sit_c_right_rotations\"].values, axis=0),\n",
    "        np.concatenate( df_corr[\"sit_c_left_angle\"].values, axis=0),\n",
    "        np.concatenate( df_corr[\"sit_c_right_angle\"].values, axis=0),\n",
    "        df_corr[\"sit_c_safety\"].values,\n",
    "        df_corr[\"sit_c_difficulty\"].values\n",
    "    ],\n",
    "    [\"D\",\n",
    "        np.concatenate( df_corr[\"sit_e_left_rotations\"].values, axis=0),\n",
    "        np.concatenate( df_corr[\"sit_e_right_rotations\"].values, axis=0),\n",
    "        np.concatenate( df_corr[\"sit_e_left_angle\"].values, axis=0),\n",
    "        np.concatenate( df_corr[\"sit_e_right_angle\"].values, axis=0),\n",
    "        df_corr[\"sit_e_safety\"].values,\n",
    "        df_corr[\"sit_e_difficulty\"].values\n",
    "    ],\n",
    "]\n",
    "df_means_corrs = pd.DataFrame(data, columns=[\n",
    "    'situation',\n",
    "    'left_looks',\n",
    "    'right_looks',\n",
    "    'left_angles',\n",
    "    'right_angles',\n",
    "    'safety',\n",
    "    'difficulty'\n",
    "])"
   ]
  },
  {
   "cell_type": "code",
   "execution_count": 10,
   "id": "4a50c2de-9078-4860-a392-db98deaeb630",
   "metadata": {},
   "outputs": [],
   "source": [
    "left_rots = []\n",
    "safety_left_rots = []\n",
    "right_rots = []\n",
    "safety_right_rots = []\n",
    "left_angles = []\n",
    "safety_left_angles = []\n",
    "right_angles = []\n",
    "safety_right_angles = []\n",
    "\n",
    "safety = []\n",
    "difficulty = []\n",
    "for index,participant in df_corr.iterrows():\n",
    "    for situation in [\"a\",\"c\",\"e\"]:\n",
    "        #Rotations\n",
    "        for left_rot in participant[\"sit_\"+situation+\"_left_rotations\"]:\n",
    "            left_rots.append(left_rot)\n",
    "            safety_left_rots.append(participant[\"sit_\"+situation+\"_safety\"])\n",
    "        \n",
    "        for right_rot in participant[\"sit_\"+situation+\"_right_rotations\"]:\n",
    "            right_rots.append(right_rot)\n",
    "            safety_right_rots.append(participant[\"sit_\"+situation+\"_safety\"])\n",
    "\n",
    "        #Angles\n",
    "        for left_angle in participant[\"sit_\"+situation+\"_left_angle\"]:\n",
    "            left_angles.append(left_angle)\n",
    "            safety_left_angles.append(participant[\"sit_\"+situation+\"_safety\"])\n",
    "        \n",
    "        for right_angle in participant[\"sit_\"+situation+\"_right_angle\"]:\n",
    "            right_angles.append(right_angle)\n",
    "            safety_right_angles.append(participant[\"sit_\"+situation+\"_safety\"])\n",
    "        \n",
    "        safety.append(participant[\"sit_\"+situation+\"_safety\"])\n",
    "        difficulty.append(participant[\"sit_\"+situation+\"_difficulty\"])"
   ]
  },
  {
   "cell_type": "code",
   "execution_count": 11,
   "id": "09ec912d-6d83-4a10-b9b2-0da65f0c005f",
   "metadata": {},
   "outputs": [],
   "source": [
    "totals = df_all.loc[\"Total\"]\n",
    "data = [\n",
    "    [\"A\",totals[\"sit_a_duration\"],totals[\"sit_a_standtime\"],0,totals[\"sit_a_left_rotations\"],totals[\"sit_a_right_rotations\"],totals[\"sit_a_left_angle\"],totals[\"sit_a_right_angle\"],totals[\"sit_a_safety\"],totals[\"sit_a_difficulty\"]],\n",
    "#    [\"b\",totals[\"sit_b_duration\"],totals[\"sit_b_standtime\"],0,totals[\"sit_b_left_rotations\"],totals[\"sit_b_right_rotations\"],totals[\"sit_b_left_angle\"],totals[\"sit_b_right_angle\"]],\n",
    "    [\"C\",totals[\"sit_c_duration\"],totals[\"sit_c_standtime\"],0,totals[\"sit_c_left_rotations\"],totals[\"sit_c_right_rotations\"],totals[\"sit_c_left_angle\"],totals[\"sit_c_right_angle\"],totals[\"sit_c_safety\"],totals[\"sit_c_difficulty\"]],\n",
    "#    [\"d\",totals[\"sit_d_duration\"],totals[\"sit_d_standtime\"],0,totals[\"sit_d_left_rotations\"],totals[\"sit_d_right_rotations\"],totals[\"sit_d_left_angle\"],totals[\"sit_d_right_angle\"],totals[\"sit_d_collisions\"]],\n",
    "    [\"D\",totals[\"sit_e_duration\"],totals[\"sit_e_standtime\"],0,totals[\"sit_e_left_rotations\"],totals[\"sit_e_right_rotations\"],totals[\"sit_e_left_angle\"],totals[\"sit_e_right_angle\"],totals[\"sit_e_safety\"],totals[\"sit_e_difficulty\"]],\n",
    "]\n",
    "df_means_situations = pd.DataFrame(data, columns=[\n",
    "    'situation',\n",
    "    'duration', \n",
    "    'standtime',\n",
    "    'speed',\n",
    "    'left_looks',\n",
    "    'right_looks',\n",
    "    'left_angles',\n",
    "    'right_angles',\n",
    "    'safety',\n",
    "    'difficulty'\n",
    "])"
   ]
  },
  {
   "cell_type": "code",
   "execution_count": 12,
   "id": "e0e54fb2-3f4f-458f-9df5-7dbea83e0ebd",
   "metadata": {},
   "outputs": [
    {
     "data": {
      "text/html": [
       "<div>\n",
       "<style scoped>\n",
       "    .dataframe tbody tr th:only-of-type {\n",
       "        vertical-align: middle;\n",
       "    }\n",
       "\n",
       "    .dataframe tbody tr th {\n",
       "        vertical-align: top;\n",
       "    }\n",
       "\n",
       "    .dataframe thead th {\n",
       "        text-align: right;\n",
       "    }\n",
       "</style>\n",
       "<table border=\"1\" class=\"dataframe\">\n",
       "  <thead>\n",
       "    <tr style=\"text-align: right;\">\n",
       "      <th></th>\n",
       "      <th>situation</th>\n",
       "      <th>duration</th>\n",
       "      <th>standtime</th>\n",
       "      <th>speed</th>\n",
       "      <th>left_looks</th>\n",
       "      <th>right_looks</th>\n",
       "      <th>left_angles</th>\n",
       "      <th>right_angles</th>\n",
       "      <th>safety</th>\n",
       "      <th>difficulty</th>\n",
       "    </tr>\n",
       "  </thead>\n",
       "  <tbody>\n",
       "    <tr>\n",
       "      <th>0</th>\n",
       "      <td>A</td>\n",
       "      <td>54.688465</td>\n",
       "      <td>30.500029</td>\n",
       "      <td>0</td>\n",
       "      <td>4.812500</td>\n",
       "      <td>3.875000</td>\n",
       "      <td>-42.217636</td>\n",
       "      <td>47.636726</td>\n",
       "      <td>4.250</td>\n",
       "      <td>1.875</td>\n",
       "    </tr>\n",
       "    <tr>\n",
       "      <th>1</th>\n",
       "      <td>C</td>\n",
       "      <td>34.625759</td>\n",
       "      <td>8.124380</td>\n",
       "      <td>0</td>\n",
       "      <td>2.687500</td>\n",
       "      <td>1.875000</td>\n",
       "      <td>-53.048115</td>\n",
       "      <td>56.336067</td>\n",
       "      <td>3.625</td>\n",
       "      <td>2.625</td>\n",
       "    </tr>\n",
       "    <tr>\n",
       "      <th>2</th>\n",
       "      <td>D</td>\n",
       "      <td>22.172016</td>\n",
       "      <td>5.820295</td>\n",
       "      <td>0</td>\n",
       "      <td>2.892361</td>\n",
       "      <td>1.991319</td>\n",
       "      <td>-38.700855</td>\n",
       "      <td>48.721638</td>\n",
       "      <td>4.250</td>\n",
       "      <td>1.625</td>\n",
       "    </tr>\n",
       "  </tbody>\n",
       "</table>\n",
       "</div>"
      ],
      "text/plain": [
       "  situation   duration  standtime  speed  left_looks  right_looks  \\\n",
       "0         A  54.688465  30.500029      0    4.812500     3.875000   \n",
       "1         C  34.625759   8.124380      0    2.687500     1.875000   \n",
       "2         D  22.172016   5.820295      0    2.892361     1.991319   \n",
       "\n",
       "   left_angles  right_angles  safety  difficulty  \n",
       "0   -42.217636     47.636726   4.250       1.875  \n",
       "1   -53.048115     56.336067   3.625       2.625  \n",
       "2   -38.700855     48.721638   4.250       1.625  "
      ]
     },
     "metadata": {},
     "output_type": "display_data"
    }
   ],
   "source": [
    "display(df_means_situations)"
   ]
  },
  {
   "cell_type": "markdown",
   "id": "48815d96-4a00-410f-8202-dad4068eb5cd",
   "metadata": {},
   "source": [
    "### Mean Plots"
   ]
  },
  {
   "cell_type": "markdown",
   "id": "62cd56bf-26c9-4cc2-99c3-02e19b9c1509",
   "metadata": {},
   "source": [
    "#### Headrotation Angles"
   ]
  },
  {
   "cell_type": "code",
   "execution_count": 13,
   "id": "ef5fb785-7e7c-4fcd-825a-26e7f0204b91",
   "metadata": {},
   "outputs": [
    {
     "data": {
      "application/vnd.plotly.v1+json": {
       "config": {
        "plotlyServerURL": "https://plot.ly"
       },
       "data": [
        {
         "marker": {
          "color": "#961C26"
         },
         "name": "Left Angles",
         "orientation": "h",
         "showlegend": true,
         "text": [
          -42,
          -53,
          -39
         ],
         "type": "bar",
         "x": [
          -42.21763610839844,
          -53.04811477661133,
          -38.70085525512695
         ],
         "xaxis": "x",
         "y": [
          "A",
          "C",
          "D"
         ],
         "yaxis": "y"
        },
        {
         "marker": {
          "color": "#000000"
         },
         "name": "Right Angles",
         "orientation": "h",
         "showlegend": true,
         "text": [
          48,
          56,
          49
         ],
         "type": "bar",
         "x": [
          47.63672637939453,
          56.33606719970703,
          48.72163772583008
         ],
         "xaxis": "x2",
         "y": [
          "A",
          "C",
          "D"
         ],
         "yaxis": "y2"
        }
       ],
       "layout": {
        "font": {
         "family": "Lato, sans-serif",
         "size": 14
        },
        "height": 300,
        "hoverlabel": {
         "font": {
          "family": "Lato, sans-serif",
          "size": 13
         }
        },
        "hovermode": "y unified",
        "legend": {
         "orientation": "h",
         "x": 0.5,
         "xanchor": "center",
         "y": 1,
         "yanchor": "bottom"
        },
        "margin": {
         "b": 0,
         "l": 70,
         "r": 40,
         "t": 80
        },
        "paper_bgcolor": "rgba(0,0,0,0)",
        "plot_bgcolor": "rgba(0,0,0,0)",
        "template": {
         "data": {
          "bar": [
           {
            "error_x": {
             "color": "rgb(36,36,36)"
            },
            "error_y": {
             "color": "rgb(36,36,36)"
            },
            "marker": {
             "line": {
              "color": "white",
              "width": 0.5
             },
             "pattern": {
              "fillmode": "overlay",
              "size": 10,
              "solidity": 0.2
             }
            },
            "type": "bar"
           }
          ],
          "barpolar": [
           {
            "marker": {
             "line": {
              "color": "white",
              "width": 0.5
             },
             "pattern": {
              "fillmode": "overlay",
              "size": 10,
              "solidity": 0.2
             }
            },
            "type": "barpolar"
           }
          ],
          "carpet": [
           {
            "aaxis": {
             "endlinecolor": "rgb(36,36,36)",
             "gridcolor": "white",
             "linecolor": "white",
             "minorgridcolor": "white",
             "startlinecolor": "rgb(36,36,36)"
            },
            "baxis": {
             "endlinecolor": "rgb(36,36,36)",
             "gridcolor": "white",
             "linecolor": "white",
             "minorgridcolor": "white",
             "startlinecolor": "rgb(36,36,36)"
            },
            "type": "carpet"
           }
          ],
          "choropleth": [
           {
            "colorbar": {
             "outlinewidth": 1,
             "tickcolor": "rgb(36,36,36)",
             "ticks": "outside"
            },
            "type": "choropleth"
           }
          ],
          "contour": [
           {
            "colorbar": {
             "outlinewidth": 1,
             "tickcolor": "rgb(36,36,36)",
             "ticks": "outside"
            },
            "colorscale": [
             [
              0,
              "#440154"
             ],
             [
              0.1111111111111111,
              "#482878"
             ],
             [
              0.2222222222222222,
              "#3e4989"
             ],
             [
              0.3333333333333333,
              "#31688e"
             ],
             [
              0.4444444444444444,
              "#26828e"
             ],
             [
              0.5555555555555556,
              "#1f9e89"
             ],
             [
              0.6666666666666666,
              "#35b779"
             ],
             [
              0.7777777777777778,
              "#6ece58"
             ],
             [
              0.8888888888888888,
              "#b5de2b"
             ],
             [
              1,
              "#fde725"
             ]
            ],
            "type": "contour"
           }
          ],
          "contourcarpet": [
           {
            "colorbar": {
             "outlinewidth": 1,
             "tickcolor": "rgb(36,36,36)",
             "ticks": "outside"
            },
            "type": "contourcarpet"
           }
          ],
          "heatmap": [
           {
            "colorbar": {
             "outlinewidth": 1,
             "tickcolor": "rgb(36,36,36)",
             "ticks": "outside"
            },
            "colorscale": [
             [
              0,
              "#440154"
             ],
             [
              0.1111111111111111,
              "#482878"
             ],
             [
              0.2222222222222222,
              "#3e4989"
             ],
             [
              0.3333333333333333,
              "#31688e"
             ],
             [
              0.4444444444444444,
              "#26828e"
             ],
             [
              0.5555555555555556,
              "#1f9e89"
             ],
             [
              0.6666666666666666,
              "#35b779"
             ],
             [
              0.7777777777777778,
              "#6ece58"
             ],
             [
              0.8888888888888888,
              "#b5de2b"
             ],
             [
              1,
              "#fde725"
             ]
            ],
            "type": "heatmap"
           }
          ],
          "heatmapgl": [
           {
            "colorbar": {
             "outlinewidth": 1,
             "tickcolor": "rgb(36,36,36)",
             "ticks": "outside"
            },
            "colorscale": [
             [
              0,
              "#440154"
             ],
             [
              0.1111111111111111,
              "#482878"
             ],
             [
              0.2222222222222222,
              "#3e4989"
             ],
             [
              0.3333333333333333,
              "#31688e"
             ],
             [
              0.4444444444444444,
              "#26828e"
             ],
             [
              0.5555555555555556,
              "#1f9e89"
             ],
             [
              0.6666666666666666,
              "#35b779"
             ],
             [
              0.7777777777777778,
              "#6ece58"
             ],
             [
              0.8888888888888888,
              "#b5de2b"
             ],
             [
              1,
              "#fde725"
             ]
            ],
            "type": "heatmapgl"
           }
          ],
          "histogram": [
           {
            "marker": {
             "line": {
              "color": "white",
              "width": 0.6
             }
            },
            "type": "histogram"
           }
          ],
          "histogram2d": [
           {
            "colorbar": {
             "outlinewidth": 1,
             "tickcolor": "rgb(36,36,36)",
             "ticks": "outside"
            },
            "colorscale": [
             [
              0,
              "#440154"
             ],
             [
              0.1111111111111111,
              "#482878"
             ],
             [
              0.2222222222222222,
              "#3e4989"
             ],
             [
              0.3333333333333333,
              "#31688e"
             ],
             [
              0.4444444444444444,
              "#26828e"
             ],
             [
              0.5555555555555556,
              "#1f9e89"
             ],
             [
              0.6666666666666666,
              "#35b779"
             ],
             [
              0.7777777777777778,
              "#6ece58"
             ],
             [
              0.8888888888888888,
              "#b5de2b"
             ],
             [
              1,
              "#fde725"
             ]
            ],
            "type": "histogram2d"
           }
          ],
          "histogram2dcontour": [
           {
            "colorbar": {
             "outlinewidth": 1,
             "tickcolor": "rgb(36,36,36)",
             "ticks": "outside"
            },
            "colorscale": [
             [
              0,
              "#440154"
             ],
             [
              0.1111111111111111,
              "#482878"
             ],
             [
              0.2222222222222222,
              "#3e4989"
             ],
             [
              0.3333333333333333,
              "#31688e"
             ],
             [
              0.4444444444444444,
              "#26828e"
             ],
             [
              0.5555555555555556,
              "#1f9e89"
             ],
             [
              0.6666666666666666,
              "#35b779"
             ],
             [
              0.7777777777777778,
              "#6ece58"
             ],
             [
              0.8888888888888888,
              "#b5de2b"
             ],
             [
              1,
              "#fde725"
             ]
            ],
            "type": "histogram2dcontour"
           }
          ],
          "mesh3d": [
           {
            "colorbar": {
             "outlinewidth": 1,
             "tickcolor": "rgb(36,36,36)",
             "ticks": "outside"
            },
            "type": "mesh3d"
           }
          ],
          "parcoords": [
           {
            "line": {
             "colorbar": {
              "outlinewidth": 1,
              "tickcolor": "rgb(36,36,36)",
              "ticks": "outside"
             }
            },
            "type": "parcoords"
           }
          ],
          "pie": [
           {
            "automargin": true,
            "type": "pie"
           }
          ],
          "scatter": [
           {
            "fillpattern": {
             "fillmode": "overlay",
             "size": 10,
             "solidity": 0.2
            },
            "type": "scatter"
           }
          ],
          "scatter3d": [
           {
            "line": {
             "colorbar": {
              "outlinewidth": 1,
              "tickcolor": "rgb(36,36,36)",
              "ticks": "outside"
             }
            },
            "marker": {
             "colorbar": {
              "outlinewidth": 1,
              "tickcolor": "rgb(36,36,36)",
              "ticks": "outside"
             }
            },
            "type": "scatter3d"
           }
          ],
          "scattercarpet": [
           {
            "marker": {
             "colorbar": {
              "outlinewidth": 1,
              "tickcolor": "rgb(36,36,36)",
              "ticks": "outside"
             }
            },
            "type": "scattercarpet"
           }
          ],
          "scattergeo": [
           {
            "marker": {
             "colorbar": {
              "outlinewidth": 1,
              "tickcolor": "rgb(36,36,36)",
              "ticks": "outside"
             }
            },
            "type": "scattergeo"
           }
          ],
          "scattergl": [
           {
            "marker": {
             "colorbar": {
              "outlinewidth": 1,
              "tickcolor": "rgb(36,36,36)",
              "ticks": "outside"
             }
            },
            "type": "scattergl"
           }
          ],
          "scattermapbox": [
           {
            "marker": {
             "colorbar": {
              "outlinewidth": 1,
              "tickcolor": "rgb(36,36,36)",
              "ticks": "outside"
             }
            },
            "type": "scattermapbox"
           }
          ],
          "scatterpolar": [
           {
            "marker": {
             "colorbar": {
              "outlinewidth": 1,
              "tickcolor": "rgb(36,36,36)",
              "ticks": "outside"
             }
            },
            "type": "scatterpolar"
           }
          ],
          "scatterpolargl": [
           {
            "marker": {
             "colorbar": {
              "outlinewidth": 1,
              "tickcolor": "rgb(36,36,36)",
              "ticks": "outside"
             }
            },
            "type": "scatterpolargl"
           }
          ],
          "scatterternary": [
           {
            "marker": {
             "colorbar": {
              "outlinewidth": 1,
              "tickcolor": "rgb(36,36,36)",
              "ticks": "outside"
             }
            },
            "type": "scatterternary"
           }
          ],
          "surface": [
           {
            "colorbar": {
             "outlinewidth": 1,
             "tickcolor": "rgb(36,36,36)",
             "ticks": "outside"
            },
            "colorscale": [
             [
              0,
              "#440154"
             ],
             [
              0.1111111111111111,
              "#482878"
             ],
             [
              0.2222222222222222,
              "#3e4989"
             ],
             [
              0.3333333333333333,
              "#31688e"
             ],
             [
              0.4444444444444444,
              "#26828e"
             ],
             [
              0.5555555555555556,
              "#1f9e89"
             ],
             [
              0.6666666666666666,
              "#35b779"
             ],
             [
              0.7777777777777778,
              "#6ece58"
             ],
             [
              0.8888888888888888,
              "#b5de2b"
             ],
             [
              1,
              "#fde725"
             ]
            ],
            "type": "surface"
           }
          ],
          "table": [
           {
            "cells": {
             "fill": {
              "color": "rgb(237,237,237)"
             },
             "line": {
              "color": "white"
             }
            },
            "header": {
             "fill": {
              "color": "rgb(217,217,217)"
             },
             "line": {
              "color": "white"
             }
            },
            "type": "table"
           }
          ]
         },
         "layout": {
          "annotationdefaults": {
           "arrowhead": 0,
           "arrowwidth": 1
          },
          "autotypenumbers": "strict",
          "coloraxis": {
           "colorbar": {
            "outlinewidth": 1,
            "tickcolor": "rgb(36,36,36)",
            "ticks": "outside"
           }
          },
          "colorscale": {
           "diverging": [
            [
             0,
             "rgb(103,0,31)"
            ],
            [
             0.1,
             "rgb(178,24,43)"
            ],
            [
             0.2,
             "rgb(214,96,77)"
            ],
            [
             0.3,
             "rgb(244,165,130)"
            ],
            [
             0.4,
             "rgb(253,219,199)"
            ],
            [
             0.5,
             "rgb(247,247,247)"
            ],
            [
             0.6,
             "rgb(209,229,240)"
            ],
            [
             0.7,
             "rgb(146,197,222)"
            ],
            [
             0.8,
             "rgb(67,147,195)"
            ],
            [
             0.9,
             "rgb(33,102,172)"
            ],
            [
             1,
             "rgb(5,48,97)"
            ]
           ],
           "sequential": [
            [
             0,
             "#440154"
            ],
            [
             0.1111111111111111,
             "#482878"
            ],
            [
             0.2222222222222222,
             "#3e4989"
            ],
            [
             0.3333333333333333,
             "#31688e"
            ],
            [
             0.4444444444444444,
             "#26828e"
            ],
            [
             0.5555555555555556,
             "#1f9e89"
            ],
            [
             0.6666666666666666,
             "#35b779"
            ],
            [
             0.7777777777777778,
             "#6ece58"
            ],
            [
             0.8888888888888888,
             "#b5de2b"
            ],
            [
             1,
             "#fde725"
            ]
           ],
           "sequentialminus": [
            [
             0,
             "#440154"
            ],
            [
             0.1111111111111111,
             "#482878"
            ],
            [
             0.2222222222222222,
             "#3e4989"
            ],
            [
             0.3333333333333333,
             "#31688e"
            ],
            [
             0.4444444444444444,
             "#26828e"
            ],
            [
             0.5555555555555556,
             "#1f9e89"
            ],
            [
             0.6666666666666666,
             "#35b779"
            ],
            [
             0.7777777777777778,
             "#6ece58"
            ],
            [
             0.8888888888888888,
             "#b5de2b"
            ],
            [
             1,
             "#fde725"
            ]
           ]
          },
          "colorway": [
           "#1F77B4",
           "#FF7F0E",
           "#2CA02C",
           "#D62728",
           "#9467BD",
           "#8C564B",
           "#E377C2",
           "#7F7F7F",
           "#BCBD22",
           "#17BECF"
          ],
          "font": {
           "color": "rgb(36,36,36)"
          },
          "geo": {
           "bgcolor": "white",
           "lakecolor": "white",
           "landcolor": "white",
           "showlakes": true,
           "showland": true,
           "subunitcolor": "white"
          },
          "hoverlabel": {
           "align": "left"
          },
          "hovermode": "closest",
          "mapbox": {
           "style": "light"
          },
          "paper_bgcolor": "white",
          "plot_bgcolor": "white",
          "polar": {
           "angularaxis": {
            "gridcolor": "rgb(232,232,232)",
            "linecolor": "rgb(36,36,36)",
            "showgrid": false,
            "showline": true,
            "ticks": "outside"
           },
           "bgcolor": "white",
           "radialaxis": {
            "gridcolor": "rgb(232,232,232)",
            "linecolor": "rgb(36,36,36)",
            "showgrid": false,
            "showline": true,
            "ticks": "outside"
           }
          },
          "scene": {
           "xaxis": {
            "backgroundcolor": "white",
            "gridcolor": "rgb(232,232,232)",
            "gridwidth": 2,
            "linecolor": "rgb(36,36,36)",
            "showbackground": true,
            "showgrid": false,
            "showline": true,
            "ticks": "outside",
            "zeroline": false,
            "zerolinecolor": "rgb(36,36,36)"
           },
           "yaxis": {
            "backgroundcolor": "white",
            "gridcolor": "rgb(232,232,232)",
            "gridwidth": 2,
            "linecolor": "rgb(36,36,36)",
            "showbackground": true,
            "showgrid": false,
            "showline": true,
            "ticks": "outside",
            "zeroline": false,
            "zerolinecolor": "rgb(36,36,36)"
           },
           "zaxis": {
            "backgroundcolor": "white",
            "gridcolor": "rgb(232,232,232)",
            "gridwidth": 2,
            "linecolor": "rgb(36,36,36)",
            "showbackground": true,
            "showgrid": false,
            "showline": true,
            "ticks": "outside",
            "zeroline": false,
            "zerolinecolor": "rgb(36,36,36)"
           }
          },
          "shapedefaults": {
           "fillcolor": "black",
           "line": {
            "width": 0
           },
           "opacity": 0.3
          },
          "ternary": {
           "aaxis": {
            "gridcolor": "rgb(232,232,232)",
            "linecolor": "rgb(36,36,36)",
            "showgrid": false,
            "showline": true,
            "ticks": "outside"
           },
           "baxis": {
            "gridcolor": "rgb(232,232,232)",
            "linecolor": "rgb(36,36,36)",
            "showgrid": false,
            "showline": true,
            "ticks": "outside"
           },
           "bgcolor": "white",
           "caxis": {
            "gridcolor": "rgb(232,232,232)",
            "linecolor": "rgb(36,36,36)",
            "showgrid": false,
            "showline": true,
            "ticks": "outside"
           }
          },
          "title": {
           "x": 0.05
          },
          "xaxis": {
           "automargin": true,
           "gridcolor": "rgb(232,232,232)",
           "linecolor": "rgb(36,36,36)",
           "showgrid": false,
           "showline": true,
           "ticks": "outside",
           "title": {
            "standoff": 15
           },
           "zeroline": false,
           "zerolinecolor": "rgb(36,36,36)"
          },
          "yaxis": {
           "automargin": true,
           "gridcolor": "rgb(232,232,232)",
           "linecolor": "rgb(36,36,36)",
           "showgrid": false,
           "showline": true,
           "ticks": "outside",
           "title": {
            "standoff": 15
           },
           "zeroline": false,
           "zerolinecolor": "rgb(36,36,36)"
          }
         }
        },
        "width": 500,
        "xaxis": {
         "anchor": "y",
         "domain": [
          0,
          0.5
         ],
         "range": [
          -58,
          0
         ],
         "showgrid": false,
         "title": {
          "text": " "
         }
        },
        "xaxis2": {
         "anchor": "y2",
         "domain": [
          0.5,
          1
         ],
         "range": [
          0,
          58
         ],
         "showgrid": false
        },
        "yaxis": {
         "anchor": "x",
         "categoryorder": "category descending",
         "domain": [
          0,
          1
         ],
         "showgrid": false,
         "showline": false,
         "ticksuffix": " ",
         "title": {
          "text": " "
         }
        },
        "yaxis2": {
         "anchor": "x2",
         "categoryorder": "category descending",
         "domain": [
          0,
          1
         ],
         "matches": "y",
         "showgrid": false,
         "showline": false,
         "showticklabels": false,
         "ticksuffix": " "
        }
       }
      }
     },
     "metadata": {},
     "output_type": "display_data"
    }
   ],
   "source": [
    "fig_angles = make_subplots(rows=1, cols=2, specs=[[{}, {}]], shared_yaxes=True, horizontal_spacing=0)\n",
    "fig_angles.append_trace(go.Bar(x= df_means_situations.left_angles, y=df_means_situations.situation,\n",
    "                        orientation='h', showlegend=True, \n",
    "                        text= np.round(df_means_situations.left_angles,decimals = 0), \n",
    "                        name='Left Angles',\n",
    "                        marker_color= marking_red), 1, 1)\n",
    "fig_angles.append_trace(go.Bar(x=df_means_situations.right_angles, y=df_means_situations.situation, \n",
    "                        orientation='h', showlegend=True,\n",
    "                        text=np.round(df_means_situations.right_angles,decimals = 0),\n",
    "                        name='Right Angles', marker_color='#000000'), 1, 2)\n",
    "fig_angles.update_xaxes(showgrid=False,range=[-58,0],row=1, col=1)\n",
    "fig_angles.update_xaxes(showgrid=False,range=[0,58],row=1, col=2)\n",
    "fig_angles.update_yaxes(showgrid=False, categoryorder=\"category descending\", \n",
    "                 ticksuffix=' ', showline=False)\n",
    "fig_angles.update_traces(hovertemplate=None)\n",
    "fig_angles.update_layout(\n",
    "#    title='Mean Headrotation Angles per Situation (Field)',\n",
    "    margin=dict(t=80, b=0, l=70, r=40),\n",
    "    hovermode=\"y unified\", \n",
    "    xaxis_title=' ', yaxis_title=\" \",\n",
    "    width=500, height=300,\n",
    "    font=dict(family=\"Lato, sans-serif\",size=14),\n",
    "    legend=dict(orientation=\"h\", yanchor=\"bottom\",y=1, xanchor=\"center\", x=0.5),\n",
    "    hoverlabel=dict(font_size=13, font_family=\"Lato, sans-serif\"),\n",
    "    paper_bgcolor='rgba(0,0,0,0)',\n",
    "    plot_bgcolor='rgba(0,0,0,0)'\n",
    ")"
   ]
  },
  {
   "cell_type": "code",
   "execution_count": 14,
   "id": "88d576a7-f737-4573-ac3b-c9b0ff0950ea",
   "metadata": {},
   "outputs": [
    {
     "data": {
      "application/vnd.plotly.v1+json": {
       "config": {
        "plotlyServerURL": "https://plot.ly"
       },
       "data": [
        {
         "marker": {
          "color": "#961C26"
         },
         "name": "Left Rotations",
         "orientation": "h",
         "showlegend": true,
         "text": [
          5,
          3,
          3
         ],
         "type": "bar",
         "x": [
          -4.8125,
          -2.6875,
          -2.892361111111111
         ],
         "xaxis": "x",
         "y": [
          "A",
          "C",
          "D"
         ],
         "yaxis": "y"
        },
        {
         "marker": {
          "color": "#000000"
         },
         "name": "Right Rotations",
         "orientation": "h",
         "showlegend": true,
         "text": [
          4,
          2,
          2
         ],
         "type": "bar",
         "x": [
          3.875,
          1.875,
          1.9913194444444442
         ],
         "xaxis": "x2",
         "y": [
          "A",
          "C",
          "D"
         ],
         "yaxis": "y2"
        }
       ],
       "layout": {
        "font": {
         "family": "Lato, sans-serif",
         "size": 14
        },
        "height": 300,
        "hoverlabel": {
         "font": {
          "family": "Lato, sans-serif",
          "size": 13
         }
        },
        "hovermode": "y unified",
        "legend": {
         "orientation": "h",
         "x": 0.5,
         "xanchor": "center",
         "y": 1,
         "yanchor": "bottom"
        },
        "margin": {
         "b": 0,
         "l": 70,
         "r": 40,
         "t": 80
        },
        "paper_bgcolor": "rgba(0,0,0,0)",
        "plot_bgcolor": "rgba(0,0,0,0)",
        "template": {
         "data": {
          "bar": [
           {
            "error_x": {
             "color": "rgb(36,36,36)"
            },
            "error_y": {
             "color": "rgb(36,36,36)"
            },
            "marker": {
             "line": {
              "color": "white",
              "width": 0.5
             },
             "pattern": {
              "fillmode": "overlay",
              "size": 10,
              "solidity": 0.2
             }
            },
            "type": "bar"
           }
          ],
          "barpolar": [
           {
            "marker": {
             "line": {
              "color": "white",
              "width": 0.5
             },
             "pattern": {
              "fillmode": "overlay",
              "size": 10,
              "solidity": 0.2
             }
            },
            "type": "barpolar"
           }
          ],
          "carpet": [
           {
            "aaxis": {
             "endlinecolor": "rgb(36,36,36)",
             "gridcolor": "white",
             "linecolor": "white",
             "minorgridcolor": "white",
             "startlinecolor": "rgb(36,36,36)"
            },
            "baxis": {
             "endlinecolor": "rgb(36,36,36)",
             "gridcolor": "white",
             "linecolor": "white",
             "minorgridcolor": "white",
             "startlinecolor": "rgb(36,36,36)"
            },
            "type": "carpet"
           }
          ],
          "choropleth": [
           {
            "colorbar": {
             "outlinewidth": 1,
             "tickcolor": "rgb(36,36,36)",
             "ticks": "outside"
            },
            "type": "choropleth"
           }
          ],
          "contour": [
           {
            "colorbar": {
             "outlinewidth": 1,
             "tickcolor": "rgb(36,36,36)",
             "ticks": "outside"
            },
            "colorscale": [
             [
              0,
              "#440154"
             ],
             [
              0.1111111111111111,
              "#482878"
             ],
             [
              0.2222222222222222,
              "#3e4989"
             ],
             [
              0.3333333333333333,
              "#31688e"
             ],
             [
              0.4444444444444444,
              "#26828e"
             ],
             [
              0.5555555555555556,
              "#1f9e89"
             ],
             [
              0.6666666666666666,
              "#35b779"
             ],
             [
              0.7777777777777778,
              "#6ece58"
             ],
             [
              0.8888888888888888,
              "#b5de2b"
             ],
             [
              1,
              "#fde725"
             ]
            ],
            "type": "contour"
           }
          ],
          "contourcarpet": [
           {
            "colorbar": {
             "outlinewidth": 1,
             "tickcolor": "rgb(36,36,36)",
             "ticks": "outside"
            },
            "type": "contourcarpet"
           }
          ],
          "heatmap": [
           {
            "colorbar": {
             "outlinewidth": 1,
             "tickcolor": "rgb(36,36,36)",
             "ticks": "outside"
            },
            "colorscale": [
             [
              0,
              "#440154"
             ],
             [
              0.1111111111111111,
              "#482878"
             ],
             [
              0.2222222222222222,
              "#3e4989"
             ],
             [
              0.3333333333333333,
              "#31688e"
             ],
             [
              0.4444444444444444,
              "#26828e"
             ],
             [
              0.5555555555555556,
              "#1f9e89"
             ],
             [
              0.6666666666666666,
              "#35b779"
             ],
             [
              0.7777777777777778,
              "#6ece58"
             ],
             [
              0.8888888888888888,
              "#b5de2b"
             ],
             [
              1,
              "#fde725"
             ]
            ],
            "type": "heatmap"
           }
          ],
          "heatmapgl": [
           {
            "colorbar": {
             "outlinewidth": 1,
             "tickcolor": "rgb(36,36,36)",
             "ticks": "outside"
            },
            "colorscale": [
             [
              0,
              "#440154"
             ],
             [
              0.1111111111111111,
              "#482878"
             ],
             [
              0.2222222222222222,
              "#3e4989"
             ],
             [
              0.3333333333333333,
              "#31688e"
             ],
             [
              0.4444444444444444,
              "#26828e"
             ],
             [
              0.5555555555555556,
              "#1f9e89"
             ],
             [
              0.6666666666666666,
              "#35b779"
             ],
             [
              0.7777777777777778,
              "#6ece58"
             ],
             [
              0.8888888888888888,
              "#b5de2b"
             ],
             [
              1,
              "#fde725"
             ]
            ],
            "type": "heatmapgl"
           }
          ],
          "histogram": [
           {
            "marker": {
             "line": {
              "color": "white",
              "width": 0.6
             }
            },
            "type": "histogram"
           }
          ],
          "histogram2d": [
           {
            "colorbar": {
             "outlinewidth": 1,
             "tickcolor": "rgb(36,36,36)",
             "ticks": "outside"
            },
            "colorscale": [
             [
              0,
              "#440154"
             ],
             [
              0.1111111111111111,
              "#482878"
             ],
             [
              0.2222222222222222,
              "#3e4989"
             ],
             [
              0.3333333333333333,
              "#31688e"
             ],
             [
              0.4444444444444444,
              "#26828e"
             ],
             [
              0.5555555555555556,
              "#1f9e89"
             ],
             [
              0.6666666666666666,
              "#35b779"
             ],
             [
              0.7777777777777778,
              "#6ece58"
             ],
             [
              0.8888888888888888,
              "#b5de2b"
             ],
             [
              1,
              "#fde725"
             ]
            ],
            "type": "histogram2d"
           }
          ],
          "histogram2dcontour": [
           {
            "colorbar": {
             "outlinewidth": 1,
             "tickcolor": "rgb(36,36,36)",
             "ticks": "outside"
            },
            "colorscale": [
             [
              0,
              "#440154"
             ],
             [
              0.1111111111111111,
              "#482878"
             ],
             [
              0.2222222222222222,
              "#3e4989"
             ],
             [
              0.3333333333333333,
              "#31688e"
             ],
             [
              0.4444444444444444,
              "#26828e"
             ],
             [
              0.5555555555555556,
              "#1f9e89"
             ],
             [
              0.6666666666666666,
              "#35b779"
             ],
             [
              0.7777777777777778,
              "#6ece58"
             ],
             [
              0.8888888888888888,
              "#b5de2b"
             ],
             [
              1,
              "#fde725"
             ]
            ],
            "type": "histogram2dcontour"
           }
          ],
          "mesh3d": [
           {
            "colorbar": {
             "outlinewidth": 1,
             "tickcolor": "rgb(36,36,36)",
             "ticks": "outside"
            },
            "type": "mesh3d"
           }
          ],
          "parcoords": [
           {
            "line": {
             "colorbar": {
              "outlinewidth": 1,
              "tickcolor": "rgb(36,36,36)",
              "ticks": "outside"
             }
            },
            "type": "parcoords"
           }
          ],
          "pie": [
           {
            "automargin": true,
            "type": "pie"
           }
          ],
          "scatter": [
           {
            "fillpattern": {
             "fillmode": "overlay",
             "size": 10,
             "solidity": 0.2
            },
            "type": "scatter"
           }
          ],
          "scatter3d": [
           {
            "line": {
             "colorbar": {
              "outlinewidth": 1,
              "tickcolor": "rgb(36,36,36)",
              "ticks": "outside"
             }
            },
            "marker": {
             "colorbar": {
              "outlinewidth": 1,
              "tickcolor": "rgb(36,36,36)",
              "ticks": "outside"
             }
            },
            "type": "scatter3d"
           }
          ],
          "scattercarpet": [
           {
            "marker": {
             "colorbar": {
              "outlinewidth": 1,
              "tickcolor": "rgb(36,36,36)",
              "ticks": "outside"
             }
            },
            "type": "scattercarpet"
           }
          ],
          "scattergeo": [
           {
            "marker": {
             "colorbar": {
              "outlinewidth": 1,
              "tickcolor": "rgb(36,36,36)",
              "ticks": "outside"
             }
            },
            "type": "scattergeo"
           }
          ],
          "scattergl": [
           {
            "marker": {
             "colorbar": {
              "outlinewidth": 1,
              "tickcolor": "rgb(36,36,36)",
              "ticks": "outside"
             }
            },
            "type": "scattergl"
           }
          ],
          "scattermapbox": [
           {
            "marker": {
             "colorbar": {
              "outlinewidth": 1,
              "tickcolor": "rgb(36,36,36)",
              "ticks": "outside"
             }
            },
            "type": "scattermapbox"
           }
          ],
          "scatterpolar": [
           {
            "marker": {
             "colorbar": {
              "outlinewidth": 1,
              "tickcolor": "rgb(36,36,36)",
              "ticks": "outside"
             }
            },
            "type": "scatterpolar"
           }
          ],
          "scatterpolargl": [
           {
            "marker": {
             "colorbar": {
              "outlinewidth": 1,
              "tickcolor": "rgb(36,36,36)",
              "ticks": "outside"
             }
            },
            "type": "scatterpolargl"
           }
          ],
          "scatterternary": [
           {
            "marker": {
             "colorbar": {
              "outlinewidth": 1,
              "tickcolor": "rgb(36,36,36)",
              "ticks": "outside"
             }
            },
            "type": "scatterternary"
           }
          ],
          "surface": [
           {
            "colorbar": {
             "outlinewidth": 1,
             "tickcolor": "rgb(36,36,36)",
             "ticks": "outside"
            },
            "colorscale": [
             [
              0,
              "#440154"
             ],
             [
              0.1111111111111111,
              "#482878"
             ],
             [
              0.2222222222222222,
              "#3e4989"
             ],
             [
              0.3333333333333333,
              "#31688e"
             ],
             [
              0.4444444444444444,
              "#26828e"
             ],
             [
              0.5555555555555556,
              "#1f9e89"
             ],
             [
              0.6666666666666666,
              "#35b779"
             ],
             [
              0.7777777777777778,
              "#6ece58"
             ],
             [
              0.8888888888888888,
              "#b5de2b"
             ],
             [
              1,
              "#fde725"
             ]
            ],
            "type": "surface"
           }
          ],
          "table": [
           {
            "cells": {
             "fill": {
              "color": "rgb(237,237,237)"
             },
             "line": {
              "color": "white"
             }
            },
            "header": {
             "fill": {
              "color": "rgb(217,217,217)"
             },
             "line": {
              "color": "white"
             }
            },
            "type": "table"
           }
          ]
         },
         "layout": {
          "annotationdefaults": {
           "arrowhead": 0,
           "arrowwidth": 1
          },
          "autotypenumbers": "strict",
          "coloraxis": {
           "colorbar": {
            "outlinewidth": 1,
            "tickcolor": "rgb(36,36,36)",
            "ticks": "outside"
           }
          },
          "colorscale": {
           "diverging": [
            [
             0,
             "rgb(103,0,31)"
            ],
            [
             0.1,
             "rgb(178,24,43)"
            ],
            [
             0.2,
             "rgb(214,96,77)"
            ],
            [
             0.3,
             "rgb(244,165,130)"
            ],
            [
             0.4,
             "rgb(253,219,199)"
            ],
            [
             0.5,
             "rgb(247,247,247)"
            ],
            [
             0.6,
             "rgb(209,229,240)"
            ],
            [
             0.7,
             "rgb(146,197,222)"
            ],
            [
             0.8,
             "rgb(67,147,195)"
            ],
            [
             0.9,
             "rgb(33,102,172)"
            ],
            [
             1,
             "rgb(5,48,97)"
            ]
           ],
           "sequential": [
            [
             0,
             "#440154"
            ],
            [
             0.1111111111111111,
             "#482878"
            ],
            [
             0.2222222222222222,
             "#3e4989"
            ],
            [
             0.3333333333333333,
             "#31688e"
            ],
            [
             0.4444444444444444,
             "#26828e"
            ],
            [
             0.5555555555555556,
             "#1f9e89"
            ],
            [
             0.6666666666666666,
             "#35b779"
            ],
            [
             0.7777777777777778,
             "#6ece58"
            ],
            [
             0.8888888888888888,
             "#b5de2b"
            ],
            [
             1,
             "#fde725"
            ]
           ],
           "sequentialminus": [
            [
             0,
             "#440154"
            ],
            [
             0.1111111111111111,
             "#482878"
            ],
            [
             0.2222222222222222,
             "#3e4989"
            ],
            [
             0.3333333333333333,
             "#31688e"
            ],
            [
             0.4444444444444444,
             "#26828e"
            ],
            [
             0.5555555555555556,
             "#1f9e89"
            ],
            [
             0.6666666666666666,
             "#35b779"
            ],
            [
             0.7777777777777778,
             "#6ece58"
            ],
            [
             0.8888888888888888,
             "#b5de2b"
            ],
            [
             1,
             "#fde725"
            ]
           ]
          },
          "colorway": [
           "#1F77B4",
           "#FF7F0E",
           "#2CA02C",
           "#D62728",
           "#9467BD",
           "#8C564B",
           "#E377C2",
           "#7F7F7F",
           "#BCBD22",
           "#17BECF"
          ],
          "font": {
           "color": "rgb(36,36,36)"
          },
          "geo": {
           "bgcolor": "white",
           "lakecolor": "white",
           "landcolor": "white",
           "showlakes": true,
           "showland": true,
           "subunitcolor": "white"
          },
          "hoverlabel": {
           "align": "left"
          },
          "hovermode": "closest",
          "mapbox": {
           "style": "light"
          },
          "paper_bgcolor": "white",
          "plot_bgcolor": "white",
          "polar": {
           "angularaxis": {
            "gridcolor": "rgb(232,232,232)",
            "linecolor": "rgb(36,36,36)",
            "showgrid": false,
            "showline": true,
            "ticks": "outside"
           },
           "bgcolor": "white",
           "radialaxis": {
            "gridcolor": "rgb(232,232,232)",
            "linecolor": "rgb(36,36,36)",
            "showgrid": false,
            "showline": true,
            "ticks": "outside"
           }
          },
          "scene": {
           "xaxis": {
            "backgroundcolor": "white",
            "gridcolor": "rgb(232,232,232)",
            "gridwidth": 2,
            "linecolor": "rgb(36,36,36)",
            "showbackground": true,
            "showgrid": false,
            "showline": true,
            "ticks": "outside",
            "zeroline": false,
            "zerolinecolor": "rgb(36,36,36)"
           },
           "yaxis": {
            "backgroundcolor": "white",
            "gridcolor": "rgb(232,232,232)",
            "gridwidth": 2,
            "linecolor": "rgb(36,36,36)",
            "showbackground": true,
            "showgrid": false,
            "showline": true,
            "ticks": "outside",
            "zeroline": false,
            "zerolinecolor": "rgb(36,36,36)"
           },
           "zaxis": {
            "backgroundcolor": "white",
            "gridcolor": "rgb(232,232,232)",
            "gridwidth": 2,
            "linecolor": "rgb(36,36,36)",
            "showbackground": true,
            "showgrid": false,
            "showline": true,
            "ticks": "outside",
            "zeroline": false,
            "zerolinecolor": "rgb(36,36,36)"
           }
          },
          "shapedefaults": {
           "fillcolor": "black",
           "line": {
            "width": 0
           },
           "opacity": 0.3
          },
          "ternary": {
           "aaxis": {
            "gridcolor": "rgb(232,232,232)",
            "linecolor": "rgb(36,36,36)",
            "showgrid": false,
            "showline": true,
            "ticks": "outside"
           },
           "baxis": {
            "gridcolor": "rgb(232,232,232)",
            "linecolor": "rgb(36,36,36)",
            "showgrid": false,
            "showline": true,
            "ticks": "outside"
           },
           "bgcolor": "white",
           "caxis": {
            "gridcolor": "rgb(232,232,232)",
            "linecolor": "rgb(36,36,36)",
            "showgrid": false,
            "showline": true,
            "ticks": "outside"
           }
          },
          "title": {
           "x": 0.05
          },
          "xaxis": {
           "automargin": true,
           "gridcolor": "rgb(232,232,232)",
           "linecolor": "rgb(36,36,36)",
           "showgrid": false,
           "showline": true,
           "ticks": "outside",
           "title": {
            "standoff": 15
           },
           "zeroline": false,
           "zerolinecolor": "rgb(36,36,36)"
          },
          "yaxis": {
           "automargin": true,
           "gridcolor": "rgb(232,232,232)",
           "linecolor": "rgb(36,36,36)",
           "showgrid": false,
           "showline": true,
           "ticks": "outside",
           "title": {
            "standoff": 15
           },
           "zeroline": false,
           "zerolinecolor": "rgb(36,36,36)"
          }
         }
        },
        "width": 500,
        "xaxis": {
         "anchor": "y",
         "domain": [
          0,
          0.5
         ],
         "range": [
          -5,
          0
         ],
         "showgrid": false,
         "title": {
          "text": " "
         }
        },
        "xaxis2": {
         "anchor": "y2",
         "domain": [
          0.5,
          1
         ],
         "range": [
          0,
          5
         ],
         "showgrid": false
        },
        "yaxis": {
         "anchor": "x",
         "categoryorder": "category descending",
         "domain": [
          0,
          1
         ],
         "showgrid": false,
         "showline": false,
         "ticksuffix": " ",
         "title": {
          "text": " "
         }
        },
        "yaxis2": {
         "anchor": "x2",
         "categoryorder": "category descending",
         "domain": [
          0,
          1
         ],
         "matches": "y",
         "showgrid": false,
         "showline": false,
         "showticklabels": false,
         "ticksuffix": " "
        }
       }
      }
     },
     "metadata": {},
     "output_type": "display_data"
    }
   ],
   "source": [
    "fig_looks = make_subplots(rows=1, cols=2, specs=[[{}, {}]], shared_yaxes=True, horizontal_spacing=0)\n",
    "fig_looks.append_trace(go.Bar(x= - df_means_situations.left_looks, y=df_means_situations.situation,\n",
    "                        orientation='h', showlegend=True, \n",
    "                        text= np.round(df_means_situations.left_looks,decimals = 0), \n",
    "                        name='Left Rotations',\n",
    "                        marker_color= marking_red), 1, 1)\n",
    "fig_looks.append_trace(go.Bar(x=df_means_situations.right_looks, y=df_means_situations.situation, \n",
    "                        orientation='h', showlegend=True,\n",
    "                        text=np.round(df_means_situations.right_looks,decimals = 0),\n",
    "                        name='Right Rotations', marker_color='#000000'), 1, 2)\n",
    "fig_looks.update_xaxes(showgrid=False,range=[-5,0],row=1, col=1)\n",
    "fig_looks.update_xaxes(showgrid=False,range=[0,5],row=1, col=2)\n",
    "fig_looks.update_yaxes(showgrid=False, categoryorder=\"category descending\", \n",
    "                 ticksuffix=' ', showline=False)\n",
    "fig_looks.update_traces(hovertemplate=None)\n",
    "fig_looks.update_layout(\n",
    "#    title='Mean of Headrotations per Situation(Field)',\n",
    "    margin=dict(t=80, b=0, l=70, r=40),\n",
    "    hovermode=\"y unified\", \n",
    "    xaxis_title=' ', yaxis_title=\" \",\n",
    "    width=500, height=300,\n",
    "    font=dict(family=\"Lato, sans-serif\",size=14),\n",
    "    legend=dict(orientation=\"h\", yanchor=\"bottom\",y=1, xanchor=\"center\", x=0.5),\n",
    "    hoverlabel=dict(font_size=13, font_family=\"Lato, sans-serif\"),\n",
    "    paper_bgcolor='rgba(0,0,0,0)',\n",
    "    plot_bgcolor='rgba(0,0,0,0)'\n",
    ")"
   ]
  },
  {
   "cell_type": "code",
   "execution_count": 15,
   "id": "e87635b0-9234-4302-a139-45cf4a0b97e4",
   "metadata": {},
   "outputs": [],
   "source": [
    "### Preceived Safety"
   ]
  },
  {
   "cell_type": "code",
   "execution_count": 16,
   "id": "4d2d4078-852c-4683-bde3-6814b8747b2c",
   "metadata": {},
   "outputs": [
    {
     "data": {
      "application/vnd.plotly.v1+json": {
       "config": {
        "plotlyServerURL": "https://plot.ly"
       },
       "data": [
        {
         "marker": {
          "color": "#961C26"
         },
         "name": "Perceived Safety",
         "orientation": "h",
         "showlegend": true,
         "text": [
          4.2,
          3.6,
          4.2
         ],
         "type": "bar",
         "x": [
          4.25,
          3.625,
          4.25
         ],
         "y": [
          "A",
          "C",
          "D"
         ]
        }
       ],
       "layout": {
        "font": {
         "family": "Lato, sans-serif",
         "size": 14
        },
        "height": 300,
        "hoverlabel": {
         "font": {
          "family": "Lato, sans-serif",
          "size": 13
         }
        },
        "hovermode": "y unified",
        "legend": {
         "orientation": "h",
         "x": 0.5,
         "xanchor": "center",
         "y": 1,
         "yanchor": "bottom"
        },
        "margin": {
         "b": 0,
         "l": 70,
         "r": 40,
         "t": 80
        },
        "paper_bgcolor": "rgba(0,0,0,0)",
        "plot_bgcolor": "rgba(0,0,0,0)",
        "template": {
         "data": {
          "bar": [
           {
            "error_x": {
             "color": "rgb(36,36,36)"
            },
            "error_y": {
             "color": "rgb(36,36,36)"
            },
            "marker": {
             "line": {
              "color": "white",
              "width": 0.5
             },
             "pattern": {
              "fillmode": "overlay",
              "size": 10,
              "solidity": 0.2
             }
            },
            "type": "bar"
           }
          ],
          "barpolar": [
           {
            "marker": {
             "line": {
              "color": "white",
              "width": 0.5
             },
             "pattern": {
              "fillmode": "overlay",
              "size": 10,
              "solidity": 0.2
             }
            },
            "type": "barpolar"
           }
          ],
          "carpet": [
           {
            "aaxis": {
             "endlinecolor": "rgb(36,36,36)",
             "gridcolor": "white",
             "linecolor": "white",
             "minorgridcolor": "white",
             "startlinecolor": "rgb(36,36,36)"
            },
            "baxis": {
             "endlinecolor": "rgb(36,36,36)",
             "gridcolor": "white",
             "linecolor": "white",
             "minorgridcolor": "white",
             "startlinecolor": "rgb(36,36,36)"
            },
            "type": "carpet"
           }
          ],
          "choropleth": [
           {
            "colorbar": {
             "outlinewidth": 1,
             "tickcolor": "rgb(36,36,36)",
             "ticks": "outside"
            },
            "type": "choropleth"
           }
          ],
          "contour": [
           {
            "colorbar": {
             "outlinewidth": 1,
             "tickcolor": "rgb(36,36,36)",
             "ticks": "outside"
            },
            "colorscale": [
             [
              0,
              "#440154"
             ],
             [
              0.1111111111111111,
              "#482878"
             ],
             [
              0.2222222222222222,
              "#3e4989"
             ],
             [
              0.3333333333333333,
              "#31688e"
             ],
             [
              0.4444444444444444,
              "#26828e"
             ],
             [
              0.5555555555555556,
              "#1f9e89"
             ],
             [
              0.6666666666666666,
              "#35b779"
             ],
             [
              0.7777777777777778,
              "#6ece58"
             ],
             [
              0.8888888888888888,
              "#b5de2b"
             ],
             [
              1,
              "#fde725"
             ]
            ],
            "type": "contour"
           }
          ],
          "contourcarpet": [
           {
            "colorbar": {
             "outlinewidth": 1,
             "tickcolor": "rgb(36,36,36)",
             "ticks": "outside"
            },
            "type": "contourcarpet"
           }
          ],
          "heatmap": [
           {
            "colorbar": {
             "outlinewidth": 1,
             "tickcolor": "rgb(36,36,36)",
             "ticks": "outside"
            },
            "colorscale": [
             [
              0,
              "#440154"
             ],
             [
              0.1111111111111111,
              "#482878"
             ],
             [
              0.2222222222222222,
              "#3e4989"
             ],
             [
              0.3333333333333333,
              "#31688e"
             ],
             [
              0.4444444444444444,
              "#26828e"
             ],
             [
              0.5555555555555556,
              "#1f9e89"
             ],
             [
              0.6666666666666666,
              "#35b779"
             ],
             [
              0.7777777777777778,
              "#6ece58"
             ],
             [
              0.8888888888888888,
              "#b5de2b"
             ],
             [
              1,
              "#fde725"
             ]
            ],
            "type": "heatmap"
           }
          ],
          "heatmapgl": [
           {
            "colorbar": {
             "outlinewidth": 1,
             "tickcolor": "rgb(36,36,36)",
             "ticks": "outside"
            },
            "colorscale": [
             [
              0,
              "#440154"
             ],
             [
              0.1111111111111111,
              "#482878"
             ],
             [
              0.2222222222222222,
              "#3e4989"
             ],
             [
              0.3333333333333333,
              "#31688e"
             ],
             [
              0.4444444444444444,
              "#26828e"
             ],
             [
              0.5555555555555556,
              "#1f9e89"
             ],
             [
              0.6666666666666666,
              "#35b779"
             ],
             [
              0.7777777777777778,
              "#6ece58"
             ],
             [
              0.8888888888888888,
              "#b5de2b"
             ],
             [
              1,
              "#fde725"
             ]
            ],
            "type": "heatmapgl"
           }
          ],
          "histogram": [
           {
            "marker": {
             "line": {
              "color": "white",
              "width": 0.6
             }
            },
            "type": "histogram"
           }
          ],
          "histogram2d": [
           {
            "colorbar": {
             "outlinewidth": 1,
             "tickcolor": "rgb(36,36,36)",
             "ticks": "outside"
            },
            "colorscale": [
             [
              0,
              "#440154"
             ],
             [
              0.1111111111111111,
              "#482878"
             ],
             [
              0.2222222222222222,
              "#3e4989"
             ],
             [
              0.3333333333333333,
              "#31688e"
             ],
             [
              0.4444444444444444,
              "#26828e"
             ],
             [
              0.5555555555555556,
              "#1f9e89"
             ],
             [
              0.6666666666666666,
              "#35b779"
             ],
             [
              0.7777777777777778,
              "#6ece58"
             ],
             [
              0.8888888888888888,
              "#b5de2b"
             ],
             [
              1,
              "#fde725"
             ]
            ],
            "type": "histogram2d"
           }
          ],
          "histogram2dcontour": [
           {
            "colorbar": {
             "outlinewidth": 1,
             "tickcolor": "rgb(36,36,36)",
             "ticks": "outside"
            },
            "colorscale": [
             [
              0,
              "#440154"
             ],
             [
              0.1111111111111111,
              "#482878"
             ],
             [
              0.2222222222222222,
              "#3e4989"
             ],
             [
              0.3333333333333333,
              "#31688e"
             ],
             [
              0.4444444444444444,
              "#26828e"
             ],
             [
              0.5555555555555556,
              "#1f9e89"
             ],
             [
              0.6666666666666666,
              "#35b779"
             ],
             [
              0.7777777777777778,
              "#6ece58"
             ],
             [
              0.8888888888888888,
              "#b5de2b"
             ],
             [
              1,
              "#fde725"
             ]
            ],
            "type": "histogram2dcontour"
           }
          ],
          "mesh3d": [
           {
            "colorbar": {
             "outlinewidth": 1,
             "tickcolor": "rgb(36,36,36)",
             "ticks": "outside"
            },
            "type": "mesh3d"
           }
          ],
          "parcoords": [
           {
            "line": {
             "colorbar": {
              "outlinewidth": 1,
              "tickcolor": "rgb(36,36,36)",
              "ticks": "outside"
             }
            },
            "type": "parcoords"
           }
          ],
          "pie": [
           {
            "automargin": true,
            "type": "pie"
           }
          ],
          "scatter": [
           {
            "fillpattern": {
             "fillmode": "overlay",
             "size": 10,
             "solidity": 0.2
            },
            "type": "scatter"
           }
          ],
          "scatter3d": [
           {
            "line": {
             "colorbar": {
              "outlinewidth": 1,
              "tickcolor": "rgb(36,36,36)",
              "ticks": "outside"
             }
            },
            "marker": {
             "colorbar": {
              "outlinewidth": 1,
              "tickcolor": "rgb(36,36,36)",
              "ticks": "outside"
             }
            },
            "type": "scatter3d"
           }
          ],
          "scattercarpet": [
           {
            "marker": {
             "colorbar": {
              "outlinewidth": 1,
              "tickcolor": "rgb(36,36,36)",
              "ticks": "outside"
             }
            },
            "type": "scattercarpet"
           }
          ],
          "scattergeo": [
           {
            "marker": {
             "colorbar": {
              "outlinewidth": 1,
              "tickcolor": "rgb(36,36,36)",
              "ticks": "outside"
             }
            },
            "type": "scattergeo"
           }
          ],
          "scattergl": [
           {
            "marker": {
             "colorbar": {
              "outlinewidth": 1,
              "tickcolor": "rgb(36,36,36)",
              "ticks": "outside"
             }
            },
            "type": "scattergl"
           }
          ],
          "scattermapbox": [
           {
            "marker": {
             "colorbar": {
              "outlinewidth": 1,
              "tickcolor": "rgb(36,36,36)",
              "ticks": "outside"
             }
            },
            "type": "scattermapbox"
           }
          ],
          "scatterpolar": [
           {
            "marker": {
             "colorbar": {
              "outlinewidth": 1,
              "tickcolor": "rgb(36,36,36)",
              "ticks": "outside"
             }
            },
            "type": "scatterpolar"
           }
          ],
          "scatterpolargl": [
           {
            "marker": {
             "colorbar": {
              "outlinewidth": 1,
              "tickcolor": "rgb(36,36,36)",
              "ticks": "outside"
             }
            },
            "type": "scatterpolargl"
           }
          ],
          "scatterternary": [
           {
            "marker": {
             "colorbar": {
              "outlinewidth": 1,
              "tickcolor": "rgb(36,36,36)",
              "ticks": "outside"
             }
            },
            "type": "scatterternary"
           }
          ],
          "surface": [
           {
            "colorbar": {
             "outlinewidth": 1,
             "tickcolor": "rgb(36,36,36)",
             "ticks": "outside"
            },
            "colorscale": [
             [
              0,
              "#440154"
             ],
             [
              0.1111111111111111,
              "#482878"
             ],
             [
              0.2222222222222222,
              "#3e4989"
             ],
             [
              0.3333333333333333,
              "#31688e"
             ],
             [
              0.4444444444444444,
              "#26828e"
             ],
             [
              0.5555555555555556,
              "#1f9e89"
             ],
             [
              0.6666666666666666,
              "#35b779"
             ],
             [
              0.7777777777777778,
              "#6ece58"
             ],
             [
              0.8888888888888888,
              "#b5de2b"
             ],
             [
              1,
              "#fde725"
             ]
            ],
            "type": "surface"
           }
          ],
          "table": [
           {
            "cells": {
             "fill": {
              "color": "rgb(237,237,237)"
             },
             "line": {
              "color": "white"
             }
            },
            "header": {
             "fill": {
              "color": "rgb(217,217,217)"
             },
             "line": {
              "color": "white"
             }
            },
            "type": "table"
           }
          ]
         },
         "layout": {
          "annotationdefaults": {
           "arrowhead": 0,
           "arrowwidth": 1
          },
          "autotypenumbers": "strict",
          "coloraxis": {
           "colorbar": {
            "outlinewidth": 1,
            "tickcolor": "rgb(36,36,36)",
            "ticks": "outside"
           }
          },
          "colorscale": {
           "diverging": [
            [
             0,
             "rgb(103,0,31)"
            ],
            [
             0.1,
             "rgb(178,24,43)"
            ],
            [
             0.2,
             "rgb(214,96,77)"
            ],
            [
             0.3,
             "rgb(244,165,130)"
            ],
            [
             0.4,
             "rgb(253,219,199)"
            ],
            [
             0.5,
             "rgb(247,247,247)"
            ],
            [
             0.6,
             "rgb(209,229,240)"
            ],
            [
             0.7,
             "rgb(146,197,222)"
            ],
            [
             0.8,
             "rgb(67,147,195)"
            ],
            [
             0.9,
             "rgb(33,102,172)"
            ],
            [
             1,
             "rgb(5,48,97)"
            ]
           ],
           "sequential": [
            [
             0,
             "#440154"
            ],
            [
             0.1111111111111111,
             "#482878"
            ],
            [
             0.2222222222222222,
             "#3e4989"
            ],
            [
             0.3333333333333333,
             "#31688e"
            ],
            [
             0.4444444444444444,
             "#26828e"
            ],
            [
             0.5555555555555556,
             "#1f9e89"
            ],
            [
             0.6666666666666666,
             "#35b779"
            ],
            [
             0.7777777777777778,
             "#6ece58"
            ],
            [
             0.8888888888888888,
             "#b5de2b"
            ],
            [
             1,
             "#fde725"
            ]
           ],
           "sequentialminus": [
            [
             0,
             "#440154"
            ],
            [
             0.1111111111111111,
             "#482878"
            ],
            [
             0.2222222222222222,
             "#3e4989"
            ],
            [
             0.3333333333333333,
             "#31688e"
            ],
            [
             0.4444444444444444,
             "#26828e"
            ],
            [
             0.5555555555555556,
             "#1f9e89"
            ],
            [
             0.6666666666666666,
             "#35b779"
            ],
            [
             0.7777777777777778,
             "#6ece58"
            ],
            [
             0.8888888888888888,
             "#b5de2b"
            ],
            [
             1,
             "#fde725"
            ]
           ]
          },
          "colorway": [
           "#1F77B4",
           "#FF7F0E",
           "#2CA02C",
           "#D62728",
           "#9467BD",
           "#8C564B",
           "#E377C2",
           "#7F7F7F",
           "#BCBD22",
           "#17BECF"
          ],
          "font": {
           "color": "rgb(36,36,36)"
          },
          "geo": {
           "bgcolor": "white",
           "lakecolor": "white",
           "landcolor": "white",
           "showlakes": true,
           "showland": true,
           "subunitcolor": "white"
          },
          "hoverlabel": {
           "align": "left"
          },
          "hovermode": "closest",
          "mapbox": {
           "style": "light"
          },
          "paper_bgcolor": "white",
          "plot_bgcolor": "white",
          "polar": {
           "angularaxis": {
            "gridcolor": "rgb(232,232,232)",
            "linecolor": "rgb(36,36,36)",
            "showgrid": false,
            "showline": true,
            "ticks": "outside"
           },
           "bgcolor": "white",
           "radialaxis": {
            "gridcolor": "rgb(232,232,232)",
            "linecolor": "rgb(36,36,36)",
            "showgrid": false,
            "showline": true,
            "ticks": "outside"
           }
          },
          "scene": {
           "xaxis": {
            "backgroundcolor": "white",
            "gridcolor": "rgb(232,232,232)",
            "gridwidth": 2,
            "linecolor": "rgb(36,36,36)",
            "showbackground": true,
            "showgrid": false,
            "showline": true,
            "ticks": "outside",
            "zeroline": false,
            "zerolinecolor": "rgb(36,36,36)"
           },
           "yaxis": {
            "backgroundcolor": "white",
            "gridcolor": "rgb(232,232,232)",
            "gridwidth": 2,
            "linecolor": "rgb(36,36,36)",
            "showbackground": true,
            "showgrid": false,
            "showline": true,
            "ticks": "outside",
            "zeroline": false,
            "zerolinecolor": "rgb(36,36,36)"
           },
           "zaxis": {
            "backgroundcolor": "white",
            "gridcolor": "rgb(232,232,232)",
            "gridwidth": 2,
            "linecolor": "rgb(36,36,36)",
            "showbackground": true,
            "showgrid": false,
            "showline": true,
            "ticks": "outside",
            "zeroline": false,
            "zerolinecolor": "rgb(36,36,36)"
           }
          },
          "shapedefaults": {
           "fillcolor": "black",
           "line": {
            "width": 0
           },
           "opacity": 0.3
          },
          "ternary": {
           "aaxis": {
            "gridcolor": "rgb(232,232,232)",
            "linecolor": "rgb(36,36,36)",
            "showgrid": false,
            "showline": true,
            "ticks": "outside"
           },
           "baxis": {
            "gridcolor": "rgb(232,232,232)",
            "linecolor": "rgb(36,36,36)",
            "showgrid": false,
            "showline": true,
            "ticks": "outside"
           },
           "bgcolor": "white",
           "caxis": {
            "gridcolor": "rgb(232,232,232)",
            "linecolor": "rgb(36,36,36)",
            "showgrid": false,
            "showline": true,
            "ticks": "outside"
           }
          },
          "title": {
           "x": 0.05
          },
          "xaxis": {
           "automargin": true,
           "gridcolor": "rgb(232,232,232)",
           "linecolor": "rgb(36,36,36)",
           "showgrid": false,
           "showline": true,
           "ticks": "outside",
           "title": {
            "standoff": 15
           },
           "zeroline": false,
           "zerolinecolor": "rgb(36,36,36)"
          },
          "yaxis": {
           "automargin": true,
           "gridcolor": "rgb(232,232,232)",
           "linecolor": "rgb(36,36,36)",
           "showgrid": false,
           "showline": true,
           "ticks": "outside",
           "title": {
            "standoff": 15
           },
           "zeroline": false,
           "zerolinecolor": "rgb(36,36,36)"
          }
         }
        },
        "width": 500,
        "xaxis": {
         "showgrid": false,
         "title": {
          "text": " "
         }
        },
        "yaxis": {
         "categoryorder": "category descending",
         "showgrid": false,
         "showline": false,
         "ticksuffix": " ",
         "title": {
          "text": " "
         }
        }
       }
      }
     },
     "metadata": {},
     "output_type": "display_data"
    }
   ],
   "source": [
    "fig_duration = go.Figure()\n",
    "fig_duration.add_trace(go.Bar(x=df_means_situations.safety, y=df_means_situations.situation, \n",
    "                        orientation='h', showlegend=True,\n",
    "                        text=np.round(df_means_situations.safety,decimals = 1),\n",
    "                        name='Perceived Safety', marker_color= marking_red))\n",
    "fig_duration.update_xaxes(showgrid=False)\n",
    "fig_duration.update_yaxes(showgrid=False, categoryorder=\"category descending\",\n",
    "                 ticksuffix=' ', showline=False)\n",
    "fig_duration.update_traces(hovertemplate=None)\n",
    "fig_duration.update_layout(\n",
    "#    title='Mean of Duration & Standingtimes per Situation (Seconds)(Field)',\n",
    "    margin=dict(t=80, b=0, l=70, r=40),\n",
    "    hovermode=\"y unified\", \n",
    "    xaxis_title=' ', yaxis_title=\" \",\n",
    "    width=500, height=300,\n",
    "    font=dict(family=\"Lato, sans-serif\",size=14),\n",
    "    legend=dict(orientation=\"h\", yanchor=\"bottom\",y=1, xanchor=\"center\", x=0.5),\n",
    "    hoverlabel=dict(font_size=13, font_family=\"Lato, sans-serif\"),\n",
    "    paper_bgcolor='rgba(0,0,0,0)',\n",
    "    plot_bgcolor='rgba(0,0,0,0)'\n",
    ")\n",
    "display(fig_duration)"
   ]
  },
  {
   "cell_type": "markdown",
   "id": "b14153ad-d438-47df-9ada-377dab559253",
   "metadata": {},
   "source": [
    "#### Duration per Subject"
   ]
  },
  {
   "cell_type": "code",
   "execution_count": 17,
   "id": "13ca89ad-8c78-48e5-85d7-c793f1bca214",
   "metadata": {},
   "outputs": [
    {
     "data": {
      "application/vnd.plotly.v1+json": {
       "config": {
        "plotlyServerURL": "https://plot.ly"
       },
       "data": [
        {
         "marker": {
          "color": "#961C26"
         },
         "name": "Duration",
         "orientation": "h",
         "showlegend": true,
         "text": [
          55,
          35,
          22
         ],
         "type": "bar",
         "x": [
          54.6884651184082,
          34.62575912475586,
          22.172016143798828
         ],
         "y": [
          "A",
          "C",
          "D"
         ]
        },
        {
         "marker": {
          "color": "#000000"
         },
         "name": "Standtime",
         "orientation": "h",
         "showlegend": true,
         "text": [
          31,
          8,
          6
         ],
         "type": "bar",
         "x": [
          30.500028610229492,
          8.124380111694336,
          5.820295333862305
         ],
         "y": [
          "A",
          "C",
          "D"
         ]
        }
       ],
       "layout": {
        "font": {
         "family": "Lato, sans-serif",
         "size": 14
        },
        "height": 300,
        "hoverlabel": {
         "font": {
          "family": "Lato, sans-serif",
          "size": 13
         }
        },
        "hovermode": "y unified",
        "legend": {
         "orientation": "h",
         "x": 0.5,
         "xanchor": "center",
         "y": 1,
         "yanchor": "bottom"
        },
        "margin": {
         "b": 0,
         "l": 70,
         "r": 40,
         "t": 80
        },
        "paper_bgcolor": "rgba(0,0,0,0)",
        "plot_bgcolor": "rgba(0,0,0,0)",
        "template": {
         "data": {
          "bar": [
           {
            "error_x": {
             "color": "rgb(36,36,36)"
            },
            "error_y": {
             "color": "rgb(36,36,36)"
            },
            "marker": {
             "line": {
              "color": "white",
              "width": 0.5
             },
             "pattern": {
              "fillmode": "overlay",
              "size": 10,
              "solidity": 0.2
             }
            },
            "type": "bar"
           }
          ],
          "barpolar": [
           {
            "marker": {
             "line": {
              "color": "white",
              "width": 0.5
             },
             "pattern": {
              "fillmode": "overlay",
              "size": 10,
              "solidity": 0.2
             }
            },
            "type": "barpolar"
           }
          ],
          "carpet": [
           {
            "aaxis": {
             "endlinecolor": "rgb(36,36,36)",
             "gridcolor": "white",
             "linecolor": "white",
             "minorgridcolor": "white",
             "startlinecolor": "rgb(36,36,36)"
            },
            "baxis": {
             "endlinecolor": "rgb(36,36,36)",
             "gridcolor": "white",
             "linecolor": "white",
             "minorgridcolor": "white",
             "startlinecolor": "rgb(36,36,36)"
            },
            "type": "carpet"
           }
          ],
          "choropleth": [
           {
            "colorbar": {
             "outlinewidth": 1,
             "tickcolor": "rgb(36,36,36)",
             "ticks": "outside"
            },
            "type": "choropleth"
           }
          ],
          "contour": [
           {
            "colorbar": {
             "outlinewidth": 1,
             "tickcolor": "rgb(36,36,36)",
             "ticks": "outside"
            },
            "colorscale": [
             [
              0,
              "#440154"
             ],
             [
              0.1111111111111111,
              "#482878"
             ],
             [
              0.2222222222222222,
              "#3e4989"
             ],
             [
              0.3333333333333333,
              "#31688e"
             ],
             [
              0.4444444444444444,
              "#26828e"
             ],
             [
              0.5555555555555556,
              "#1f9e89"
             ],
             [
              0.6666666666666666,
              "#35b779"
             ],
             [
              0.7777777777777778,
              "#6ece58"
             ],
             [
              0.8888888888888888,
              "#b5de2b"
             ],
             [
              1,
              "#fde725"
             ]
            ],
            "type": "contour"
           }
          ],
          "contourcarpet": [
           {
            "colorbar": {
             "outlinewidth": 1,
             "tickcolor": "rgb(36,36,36)",
             "ticks": "outside"
            },
            "type": "contourcarpet"
           }
          ],
          "heatmap": [
           {
            "colorbar": {
             "outlinewidth": 1,
             "tickcolor": "rgb(36,36,36)",
             "ticks": "outside"
            },
            "colorscale": [
             [
              0,
              "#440154"
             ],
             [
              0.1111111111111111,
              "#482878"
             ],
             [
              0.2222222222222222,
              "#3e4989"
             ],
             [
              0.3333333333333333,
              "#31688e"
             ],
             [
              0.4444444444444444,
              "#26828e"
             ],
             [
              0.5555555555555556,
              "#1f9e89"
             ],
             [
              0.6666666666666666,
              "#35b779"
             ],
             [
              0.7777777777777778,
              "#6ece58"
             ],
             [
              0.8888888888888888,
              "#b5de2b"
             ],
             [
              1,
              "#fde725"
             ]
            ],
            "type": "heatmap"
           }
          ],
          "heatmapgl": [
           {
            "colorbar": {
             "outlinewidth": 1,
             "tickcolor": "rgb(36,36,36)",
             "ticks": "outside"
            },
            "colorscale": [
             [
              0,
              "#440154"
             ],
             [
              0.1111111111111111,
              "#482878"
             ],
             [
              0.2222222222222222,
              "#3e4989"
             ],
             [
              0.3333333333333333,
              "#31688e"
             ],
             [
              0.4444444444444444,
              "#26828e"
             ],
             [
              0.5555555555555556,
              "#1f9e89"
             ],
             [
              0.6666666666666666,
              "#35b779"
             ],
             [
              0.7777777777777778,
              "#6ece58"
             ],
             [
              0.8888888888888888,
              "#b5de2b"
             ],
             [
              1,
              "#fde725"
             ]
            ],
            "type": "heatmapgl"
           }
          ],
          "histogram": [
           {
            "marker": {
             "line": {
              "color": "white",
              "width": 0.6
             }
            },
            "type": "histogram"
           }
          ],
          "histogram2d": [
           {
            "colorbar": {
             "outlinewidth": 1,
             "tickcolor": "rgb(36,36,36)",
             "ticks": "outside"
            },
            "colorscale": [
             [
              0,
              "#440154"
             ],
             [
              0.1111111111111111,
              "#482878"
             ],
             [
              0.2222222222222222,
              "#3e4989"
             ],
             [
              0.3333333333333333,
              "#31688e"
             ],
             [
              0.4444444444444444,
              "#26828e"
             ],
             [
              0.5555555555555556,
              "#1f9e89"
             ],
             [
              0.6666666666666666,
              "#35b779"
             ],
             [
              0.7777777777777778,
              "#6ece58"
             ],
             [
              0.8888888888888888,
              "#b5de2b"
             ],
             [
              1,
              "#fde725"
             ]
            ],
            "type": "histogram2d"
           }
          ],
          "histogram2dcontour": [
           {
            "colorbar": {
             "outlinewidth": 1,
             "tickcolor": "rgb(36,36,36)",
             "ticks": "outside"
            },
            "colorscale": [
             [
              0,
              "#440154"
             ],
             [
              0.1111111111111111,
              "#482878"
             ],
             [
              0.2222222222222222,
              "#3e4989"
             ],
             [
              0.3333333333333333,
              "#31688e"
             ],
             [
              0.4444444444444444,
              "#26828e"
             ],
             [
              0.5555555555555556,
              "#1f9e89"
             ],
             [
              0.6666666666666666,
              "#35b779"
             ],
             [
              0.7777777777777778,
              "#6ece58"
             ],
             [
              0.8888888888888888,
              "#b5de2b"
             ],
             [
              1,
              "#fde725"
             ]
            ],
            "type": "histogram2dcontour"
           }
          ],
          "mesh3d": [
           {
            "colorbar": {
             "outlinewidth": 1,
             "tickcolor": "rgb(36,36,36)",
             "ticks": "outside"
            },
            "type": "mesh3d"
           }
          ],
          "parcoords": [
           {
            "line": {
             "colorbar": {
              "outlinewidth": 1,
              "tickcolor": "rgb(36,36,36)",
              "ticks": "outside"
             }
            },
            "type": "parcoords"
           }
          ],
          "pie": [
           {
            "automargin": true,
            "type": "pie"
           }
          ],
          "scatter": [
           {
            "fillpattern": {
             "fillmode": "overlay",
             "size": 10,
             "solidity": 0.2
            },
            "type": "scatter"
           }
          ],
          "scatter3d": [
           {
            "line": {
             "colorbar": {
              "outlinewidth": 1,
              "tickcolor": "rgb(36,36,36)",
              "ticks": "outside"
             }
            },
            "marker": {
             "colorbar": {
              "outlinewidth": 1,
              "tickcolor": "rgb(36,36,36)",
              "ticks": "outside"
             }
            },
            "type": "scatter3d"
           }
          ],
          "scattercarpet": [
           {
            "marker": {
             "colorbar": {
              "outlinewidth": 1,
              "tickcolor": "rgb(36,36,36)",
              "ticks": "outside"
             }
            },
            "type": "scattercarpet"
           }
          ],
          "scattergeo": [
           {
            "marker": {
             "colorbar": {
              "outlinewidth": 1,
              "tickcolor": "rgb(36,36,36)",
              "ticks": "outside"
             }
            },
            "type": "scattergeo"
           }
          ],
          "scattergl": [
           {
            "marker": {
             "colorbar": {
              "outlinewidth": 1,
              "tickcolor": "rgb(36,36,36)",
              "ticks": "outside"
             }
            },
            "type": "scattergl"
           }
          ],
          "scattermapbox": [
           {
            "marker": {
             "colorbar": {
              "outlinewidth": 1,
              "tickcolor": "rgb(36,36,36)",
              "ticks": "outside"
             }
            },
            "type": "scattermapbox"
           }
          ],
          "scatterpolar": [
           {
            "marker": {
             "colorbar": {
              "outlinewidth": 1,
              "tickcolor": "rgb(36,36,36)",
              "ticks": "outside"
             }
            },
            "type": "scatterpolar"
           }
          ],
          "scatterpolargl": [
           {
            "marker": {
             "colorbar": {
              "outlinewidth": 1,
              "tickcolor": "rgb(36,36,36)",
              "ticks": "outside"
             }
            },
            "type": "scatterpolargl"
           }
          ],
          "scatterternary": [
           {
            "marker": {
             "colorbar": {
              "outlinewidth": 1,
              "tickcolor": "rgb(36,36,36)",
              "ticks": "outside"
             }
            },
            "type": "scatterternary"
           }
          ],
          "surface": [
           {
            "colorbar": {
             "outlinewidth": 1,
             "tickcolor": "rgb(36,36,36)",
             "ticks": "outside"
            },
            "colorscale": [
             [
              0,
              "#440154"
             ],
             [
              0.1111111111111111,
              "#482878"
             ],
             [
              0.2222222222222222,
              "#3e4989"
             ],
             [
              0.3333333333333333,
              "#31688e"
             ],
             [
              0.4444444444444444,
              "#26828e"
             ],
             [
              0.5555555555555556,
              "#1f9e89"
             ],
             [
              0.6666666666666666,
              "#35b779"
             ],
             [
              0.7777777777777778,
              "#6ece58"
             ],
             [
              0.8888888888888888,
              "#b5de2b"
             ],
             [
              1,
              "#fde725"
             ]
            ],
            "type": "surface"
           }
          ],
          "table": [
           {
            "cells": {
             "fill": {
              "color": "rgb(237,237,237)"
             },
             "line": {
              "color": "white"
             }
            },
            "header": {
             "fill": {
              "color": "rgb(217,217,217)"
             },
             "line": {
              "color": "white"
             }
            },
            "type": "table"
           }
          ]
         },
         "layout": {
          "annotationdefaults": {
           "arrowhead": 0,
           "arrowwidth": 1
          },
          "autotypenumbers": "strict",
          "coloraxis": {
           "colorbar": {
            "outlinewidth": 1,
            "tickcolor": "rgb(36,36,36)",
            "ticks": "outside"
           }
          },
          "colorscale": {
           "diverging": [
            [
             0,
             "rgb(103,0,31)"
            ],
            [
             0.1,
             "rgb(178,24,43)"
            ],
            [
             0.2,
             "rgb(214,96,77)"
            ],
            [
             0.3,
             "rgb(244,165,130)"
            ],
            [
             0.4,
             "rgb(253,219,199)"
            ],
            [
             0.5,
             "rgb(247,247,247)"
            ],
            [
             0.6,
             "rgb(209,229,240)"
            ],
            [
             0.7,
             "rgb(146,197,222)"
            ],
            [
             0.8,
             "rgb(67,147,195)"
            ],
            [
             0.9,
             "rgb(33,102,172)"
            ],
            [
             1,
             "rgb(5,48,97)"
            ]
           ],
           "sequential": [
            [
             0,
             "#440154"
            ],
            [
             0.1111111111111111,
             "#482878"
            ],
            [
             0.2222222222222222,
             "#3e4989"
            ],
            [
             0.3333333333333333,
             "#31688e"
            ],
            [
             0.4444444444444444,
             "#26828e"
            ],
            [
             0.5555555555555556,
             "#1f9e89"
            ],
            [
             0.6666666666666666,
             "#35b779"
            ],
            [
             0.7777777777777778,
             "#6ece58"
            ],
            [
             0.8888888888888888,
             "#b5de2b"
            ],
            [
             1,
             "#fde725"
            ]
           ],
           "sequentialminus": [
            [
             0,
             "#440154"
            ],
            [
             0.1111111111111111,
             "#482878"
            ],
            [
             0.2222222222222222,
             "#3e4989"
            ],
            [
             0.3333333333333333,
             "#31688e"
            ],
            [
             0.4444444444444444,
             "#26828e"
            ],
            [
             0.5555555555555556,
             "#1f9e89"
            ],
            [
             0.6666666666666666,
             "#35b779"
            ],
            [
             0.7777777777777778,
             "#6ece58"
            ],
            [
             0.8888888888888888,
             "#b5de2b"
            ],
            [
             1,
             "#fde725"
            ]
           ]
          },
          "colorway": [
           "#1F77B4",
           "#FF7F0E",
           "#2CA02C",
           "#D62728",
           "#9467BD",
           "#8C564B",
           "#E377C2",
           "#7F7F7F",
           "#BCBD22",
           "#17BECF"
          ],
          "font": {
           "color": "rgb(36,36,36)"
          },
          "geo": {
           "bgcolor": "white",
           "lakecolor": "white",
           "landcolor": "white",
           "showlakes": true,
           "showland": true,
           "subunitcolor": "white"
          },
          "hoverlabel": {
           "align": "left"
          },
          "hovermode": "closest",
          "mapbox": {
           "style": "light"
          },
          "paper_bgcolor": "white",
          "plot_bgcolor": "white",
          "polar": {
           "angularaxis": {
            "gridcolor": "rgb(232,232,232)",
            "linecolor": "rgb(36,36,36)",
            "showgrid": false,
            "showline": true,
            "ticks": "outside"
           },
           "bgcolor": "white",
           "radialaxis": {
            "gridcolor": "rgb(232,232,232)",
            "linecolor": "rgb(36,36,36)",
            "showgrid": false,
            "showline": true,
            "ticks": "outside"
           }
          },
          "scene": {
           "xaxis": {
            "backgroundcolor": "white",
            "gridcolor": "rgb(232,232,232)",
            "gridwidth": 2,
            "linecolor": "rgb(36,36,36)",
            "showbackground": true,
            "showgrid": false,
            "showline": true,
            "ticks": "outside",
            "zeroline": false,
            "zerolinecolor": "rgb(36,36,36)"
           },
           "yaxis": {
            "backgroundcolor": "white",
            "gridcolor": "rgb(232,232,232)",
            "gridwidth": 2,
            "linecolor": "rgb(36,36,36)",
            "showbackground": true,
            "showgrid": false,
            "showline": true,
            "ticks": "outside",
            "zeroline": false,
            "zerolinecolor": "rgb(36,36,36)"
           },
           "zaxis": {
            "backgroundcolor": "white",
            "gridcolor": "rgb(232,232,232)",
            "gridwidth": 2,
            "linecolor": "rgb(36,36,36)",
            "showbackground": true,
            "showgrid": false,
            "showline": true,
            "ticks": "outside",
            "zeroline": false,
            "zerolinecolor": "rgb(36,36,36)"
           }
          },
          "shapedefaults": {
           "fillcolor": "black",
           "line": {
            "width": 0
           },
           "opacity": 0.3
          },
          "ternary": {
           "aaxis": {
            "gridcolor": "rgb(232,232,232)",
            "linecolor": "rgb(36,36,36)",
            "showgrid": false,
            "showline": true,
            "ticks": "outside"
           },
           "baxis": {
            "gridcolor": "rgb(232,232,232)",
            "linecolor": "rgb(36,36,36)",
            "showgrid": false,
            "showline": true,
            "ticks": "outside"
           },
           "bgcolor": "white",
           "caxis": {
            "gridcolor": "rgb(232,232,232)",
            "linecolor": "rgb(36,36,36)",
            "showgrid": false,
            "showline": true,
            "ticks": "outside"
           }
          },
          "title": {
           "x": 0.05
          },
          "xaxis": {
           "automargin": true,
           "gridcolor": "rgb(232,232,232)",
           "linecolor": "rgb(36,36,36)",
           "showgrid": false,
           "showline": true,
           "ticks": "outside",
           "title": {
            "standoff": 15
           },
           "zeroline": false,
           "zerolinecolor": "rgb(36,36,36)"
          },
          "yaxis": {
           "automargin": true,
           "gridcolor": "rgb(232,232,232)",
           "linecolor": "rgb(36,36,36)",
           "showgrid": false,
           "showline": true,
           "ticks": "outside",
           "title": {
            "standoff": 15
           },
           "zeroline": false,
           "zerolinecolor": "rgb(36,36,36)"
          }
         }
        },
        "width": 500,
        "xaxis": {
         "showgrid": false,
         "title": {
          "text": " "
         }
        },
        "yaxis": {
         "categoryorder": "category descending",
         "showgrid": false,
         "showline": false,
         "ticksuffix": " ",
         "title": {
          "text": " "
         }
        }
       }
      }
     },
     "metadata": {},
     "output_type": "display_data"
    }
   ],
   "source": [
    "fig_duration = go.Figure()\n",
    "fig_duration.add_trace(go.Bar(x=df_means_situations.duration, y=df_means_situations.situation, \n",
    "                        orientation='h', showlegend=True,\n",
    "                        text=np.round(df_means_situations.duration,decimals = 0),\n",
    "                        name='Duration', marker_color= marking_red))\n",
    "fig_duration.add_trace(go.Bar(x=df_means_situations.standtime, y=df_means_situations.situation, \n",
    "                        orientation='h', showlegend=True,\n",
    "                        text=np.round(df_means_situations.standtime,decimals = 0),\n",
    "                        name='Standtime', marker_color='#000000'))\n",
    "fig_duration.update_xaxes(showgrid=False)\n",
    "fig_duration.update_yaxes(showgrid=False, categoryorder=\"category descending\",\n",
    "                 ticksuffix=' ', showline=False)\n",
    "fig_duration.update_traces(hovertemplate=None)\n",
    "fig_duration.update_layout(\n",
    "#    title='Mean of Duration & Standingtimes per Situation (Seconds)(Field)',\n",
    "    margin=dict(t=80, b=0, l=70, r=40),\n",
    "    hovermode=\"y unified\", \n",
    "    xaxis_title=' ', yaxis_title=\" \",\n",
    "    width=500, height=300,\n",
    "    font=dict(family=\"Lato, sans-serif\",size=14),\n",
    "    legend=dict(orientation=\"h\", yanchor=\"bottom\",y=1, xanchor=\"center\", x=0.5),\n",
    "    hoverlabel=dict(font_size=13, font_family=\"Lato, sans-serif\"),\n",
    "    paper_bgcolor='rgba(0,0,0,0)',\n",
    "    plot_bgcolor='rgba(0,0,0,0)'\n",
    ")"
   ]
  },
  {
   "cell_type": "code",
   "execution_count": 18,
   "id": "7d29dcd6-d763-4dc1-ac9f-08ee19222870",
   "metadata": {},
   "outputs": [
    {
     "data": {
      "application/vnd.plotly.v1+json": {
       "config": {
        "plotlyServerURL": "https://plot.ly"
       },
       "data": [
        {
         "marker": {
          "color": "#961C26"
         },
         "name": "Duration",
         "orientation": "h",
         "showlegend": true,
         "text": [
          1402,
          1497,
          1333,
          1568,
          1713,
          1484,
          1465,
          1439,
          1487
         ],
         "type": "bar",
         "x": [
          1402.066792011261,
          1496.7096680402756,
          1333.0554070472715,
          1567.5608431100843,
          1712.5643739700315,
          1483.615329027176,
          1464.6618000268936,
          1439.0566629171371,
          1487.4113595187664
         ],
         "y": [
          "Subject 1",
          "Subject 2",
          "Subject 3",
          "Subject 4",
          "Subject 5",
          "Subject 6",
          "Subject 7",
          "Subject 8",
          null
         ]
        }
       ],
       "layout": {
        "font": {
         "family": "Lato, sans-serif",
         "size": 14
        },
        "height": 400,
        "hoverlabel": {
         "font": {
          "family": "Lato, sans-serif",
          "size": 13
         }
        },
        "hovermode": "y unified",
        "legend": {
         "orientation": "h",
         "x": 0.5,
         "xanchor": "center",
         "y": 1,
         "yanchor": "bottom"
        },
        "margin": {
         "b": 0,
         "l": 70,
         "r": 40,
         "t": 80
        },
        "paper_bgcolor": "rgba(0,0,0,0)",
        "plot_bgcolor": "rgba(0,0,0,0)",
        "template": {
         "data": {
          "bar": [
           {
            "error_x": {
             "color": "rgb(36,36,36)"
            },
            "error_y": {
             "color": "rgb(36,36,36)"
            },
            "marker": {
             "line": {
              "color": "white",
              "width": 0.5
             },
             "pattern": {
              "fillmode": "overlay",
              "size": 10,
              "solidity": 0.2
             }
            },
            "type": "bar"
           }
          ],
          "barpolar": [
           {
            "marker": {
             "line": {
              "color": "white",
              "width": 0.5
             },
             "pattern": {
              "fillmode": "overlay",
              "size": 10,
              "solidity": 0.2
             }
            },
            "type": "barpolar"
           }
          ],
          "carpet": [
           {
            "aaxis": {
             "endlinecolor": "rgb(36,36,36)",
             "gridcolor": "white",
             "linecolor": "white",
             "minorgridcolor": "white",
             "startlinecolor": "rgb(36,36,36)"
            },
            "baxis": {
             "endlinecolor": "rgb(36,36,36)",
             "gridcolor": "white",
             "linecolor": "white",
             "minorgridcolor": "white",
             "startlinecolor": "rgb(36,36,36)"
            },
            "type": "carpet"
           }
          ],
          "choropleth": [
           {
            "colorbar": {
             "outlinewidth": 1,
             "tickcolor": "rgb(36,36,36)",
             "ticks": "outside"
            },
            "type": "choropleth"
           }
          ],
          "contour": [
           {
            "colorbar": {
             "outlinewidth": 1,
             "tickcolor": "rgb(36,36,36)",
             "ticks": "outside"
            },
            "colorscale": [
             [
              0,
              "#440154"
             ],
             [
              0.1111111111111111,
              "#482878"
             ],
             [
              0.2222222222222222,
              "#3e4989"
             ],
             [
              0.3333333333333333,
              "#31688e"
             ],
             [
              0.4444444444444444,
              "#26828e"
             ],
             [
              0.5555555555555556,
              "#1f9e89"
             ],
             [
              0.6666666666666666,
              "#35b779"
             ],
             [
              0.7777777777777778,
              "#6ece58"
             ],
             [
              0.8888888888888888,
              "#b5de2b"
             ],
             [
              1,
              "#fde725"
             ]
            ],
            "type": "contour"
           }
          ],
          "contourcarpet": [
           {
            "colorbar": {
             "outlinewidth": 1,
             "tickcolor": "rgb(36,36,36)",
             "ticks": "outside"
            },
            "type": "contourcarpet"
           }
          ],
          "heatmap": [
           {
            "colorbar": {
             "outlinewidth": 1,
             "tickcolor": "rgb(36,36,36)",
             "ticks": "outside"
            },
            "colorscale": [
             [
              0,
              "#440154"
             ],
             [
              0.1111111111111111,
              "#482878"
             ],
             [
              0.2222222222222222,
              "#3e4989"
             ],
             [
              0.3333333333333333,
              "#31688e"
             ],
             [
              0.4444444444444444,
              "#26828e"
             ],
             [
              0.5555555555555556,
              "#1f9e89"
             ],
             [
              0.6666666666666666,
              "#35b779"
             ],
             [
              0.7777777777777778,
              "#6ece58"
             ],
             [
              0.8888888888888888,
              "#b5de2b"
             ],
             [
              1,
              "#fde725"
             ]
            ],
            "type": "heatmap"
           }
          ],
          "heatmapgl": [
           {
            "colorbar": {
             "outlinewidth": 1,
             "tickcolor": "rgb(36,36,36)",
             "ticks": "outside"
            },
            "colorscale": [
             [
              0,
              "#440154"
             ],
             [
              0.1111111111111111,
              "#482878"
             ],
             [
              0.2222222222222222,
              "#3e4989"
             ],
             [
              0.3333333333333333,
              "#31688e"
             ],
             [
              0.4444444444444444,
              "#26828e"
             ],
             [
              0.5555555555555556,
              "#1f9e89"
             ],
             [
              0.6666666666666666,
              "#35b779"
             ],
             [
              0.7777777777777778,
              "#6ece58"
             ],
             [
              0.8888888888888888,
              "#b5de2b"
             ],
             [
              1,
              "#fde725"
             ]
            ],
            "type": "heatmapgl"
           }
          ],
          "histogram": [
           {
            "marker": {
             "line": {
              "color": "white",
              "width": 0.6
             }
            },
            "type": "histogram"
           }
          ],
          "histogram2d": [
           {
            "colorbar": {
             "outlinewidth": 1,
             "tickcolor": "rgb(36,36,36)",
             "ticks": "outside"
            },
            "colorscale": [
             [
              0,
              "#440154"
             ],
             [
              0.1111111111111111,
              "#482878"
             ],
             [
              0.2222222222222222,
              "#3e4989"
             ],
             [
              0.3333333333333333,
              "#31688e"
             ],
             [
              0.4444444444444444,
              "#26828e"
             ],
             [
              0.5555555555555556,
              "#1f9e89"
             ],
             [
              0.6666666666666666,
              "#35b779"
             ],
             [
              0.7777777777777778,
              "#6ece58"
             ],
             [
              0.8888888888888888,
              "#b5de2b"
             ],
             [
              1,
              "#fde725"
             ]
            ],
            "type": "histogram2d"
           }
          ],
          "histogram2dcontour": [
           {
            "colorbar": {
             "outlinewidth": 1,
             "tickcolor": "rgb(36,36,36)",
             "ticks": "outside"
            },
            "colorscale": [
             [
              0,
              "#440154"
             ],
             [
              0.1111111111111111,
              "#482878"
             ],
             [
              0.2222222222222222,
              "#3e4989"
             ],
             [
              0.3333333333333333,
              "#31688e"
             ],
             [
              0.4444444444444444,
              "#26828e"
             ],
             [
              0.5555555555555556,
              "#1f9e89"
             ],
             [
              0.6666666666666666,
              "#35b779"
             ],
             [
              0.7777777777777778,
              "#6ece58"
             ],
             [
              0.8888888888888888,
              "#b5de2b"
             ],
             [
              1,
              "#fde725"
             ]
            ],
            "type": "histogram2dcontour"
           }
          ],
          "mesh3d": [
           {
            "colorbar": {
             "outlinewidth": 1,
             "tickcolor": "rgb(36,36,36)",
             "ticks": "outside"
            },
            "type": "mesh3d"
           }
          ],
          "parcoords": [
           {
            "line": {
             "colorbar": {
              "outlinewidth": 1,
              "tickcolor": "rgb(36,36,36)",
              "ticks": "outside"
             }
            },
            "type": "parcoords"
           }
          ],
          "pie": [
           {
            "automargin": true,
            "type": "pie"
           }
          ],
          "scatter": [
           {
            "fillpattern": {
             "fillmode": "overlay",
             "size": 10,
             "solidity": 0.2
            },
            "type": "scatter"
           }
          ],
          "scatter3d": [
           {
            "line": {
             "colorbar": {
              "outlinewidth": 1,
              "tickcolor": "rgb(36,36,36)",
              "ticks": "outside"
             }
            },
            "marker": {
             "colorbar": {
              "outlinewidth": 1,
              "tickcolor": "rgb(36,36,36)",
              "ticks": "outside"
             }
            },
            "type": "scatter3d"
           }
          ],
          "scattercarpet": [
           {
            "marker": {
             "colorbar": {
              "outlinewidth": 1,
              "tickcolor": "rgb(36,36,36)",
              "ticks": "outside"
             }
            },
            "type": "scattercarpet"
           }
          ],
          "scattergeo": [
           {
            "marker": {
             "colorbar": {
              "outlinewidth": 1,
              "tickcolor": "rgb(36,36,36)",
              "ticks": "outside"
             }
            },
            "type": "scattergeo"
           }
          ],
          "scattergl": [
           {
            "marker": {
             "colorbar": {
              "outlinewidth": 1,
              "tickcolor": "rgb(36,36,36)",
              "ticks": "outside"
             }
            },
            "type": "scattergl"
           }
          ],
          "scattermapbox": [
           {
            "marker": {
             "colorbar": {
              "outlinewidth": 1,
              "tickcolor": "rgb(36,36,36)",
              "ticks": "outside"
             }
            },
            "type": "scattermapbox"
           }
          ],
          "scatterpolar": [
           {
            "marker": {
             "colorbar": {
              "outlinewidth": 1,
              "tickcolor": "rgb(36,36,36)",
              "ticks": "outside"
             }
            },
            "type": "scatterpolar"
           }
          ],
          "scatterpolargl": [
           {
            "marker": {
             "colorbar": {
              "outlinewidth": 1,
              "tickcolor": "rgb(36,36,36)",
              "ticks": "outside"
             }
            },
            "type": "scatterpolargl"
           }
          ],
          "scatterternary": [
           {
            "marker": {
             "colorbar": {
              "outlinewidth": 1,
              "tickcolor": "rgb(36,36,36)",
              "ticks": "outside"
             }
            },
            "type": "scatterternary"
           }
          ],
          "surface": [
           {
            "colorbar": {
             "outlinewidth": 1,
             "tickcolor": "rgb(36,36,36)",
             "ticks": "outside"
            },
            "colorscale": [
             [
              0,
              "#440154"
             ],
             [
              0.1111111111111111,
              "#482878"
             ],
             [
              0.2222222222222222,
              "#3e4989"
             ],
             [
              0.3333333333333333,
              "#31688e"
             ],
             [
              0.4444444444444444,
              "#26828e"
             ],
             [
              0.5555555555555556,
              "#1f9e89"
             ],
             [
              0.6666666666666666,
              "#35b779"
             ],
             [
              0.7777777777777778,
              "#6ece58"
             ],
             [
              0.8888888888888888,
              "#b5de2b"
             ],
             [
              1,
              "#fde725"
             ]
            ],
            "type": "surface"
           }
          ],
          "table": [
           {
            "cells": {
             "fill": {
              "color": "rgb(237,237,237)"
             },
             "line": {
              "color": "white"
             }
            },
            "header": {
             "fill": {
              "color": "rgb(217,217,217)"
             },
             "line": {
              "color": "white"
             }
            },
            "type": "table"
           }
          ]
         },
         "layout": {
          "annotationdefaults": {
           "arrowhead": 0,
           "arrowwidth": 1
          },
          "autotypenumbers": "strict",
          "coloraxis": {
           "colorbar": {
            "outlinewidth": 1,
            "tickcolor": "rgb(36,36,36)",
            "ticks": "outside"
           }
          },
          "colorscale": {
           "diverging": [
            [
             0,
             "rgb(103,0,31)"
            ],
            [
             0.1,
             "rgb(178,24,43)"
            ],
            [
             0.2,
             "rgb(214,96,77)"
            ],
            [
             0.3,
             "rgb(244,165,130)"
            ],
            [
             0.4,
             "rgb(253,219,199)"
            ],
            [
             0.5,
             "rgb(247,247,247)"
            ],
            [
             0.6,
             "rgb(209,229,240)"
            ],
            [
             0.7,
             "rgb(146,197,222)"
            ],
            [
             0.8,
             "rgb(67,147,195)"
            ],
            [
             0.9,
             "rgb(33,102,172)"
            ],
            [
             1,
             "rgb(5,48,97)"
            ]
           ],
           "sequential": [
            [
             0,
             "#440154"
            ],
            [
             0.1111111111111111,
             "#482878"
            ],
            [
             0.2222222222222222,
             "#3e4989"
            ],
            [
             0.3333333333333333,
             "#31688e"
            ],
            [
             0.4444444444444444,
             "#26828e"
            ],
            [
             0.5555555555555556,
             "#1f9e89"
            ],
            [
             0.6666666666666666,
             "#35b779"
            ],
            [
             0.7777777777777778,
             "#6ece58"
            ],
            [
             0.8888888888888888,
             "#b5de2b"
            ],
            [
             1,
             "#fde725"
            ]
           ],
           "sequentialminus": [
            [
             0,
             "#440154"
            ],
            [
             0.1111111111111111,
             "#482878"
            ],
            [
             0.2222222222222222,
             "#3e4989"
            ],
            [
             0.3333333333333333,
             "#31688e"
            ],
            [
             0.4444444444444444,
             "#26828e"
            ],
            [
             0.5555555555555556,
             "#1f9e89"
            ],
            [
             0.6666666666666666,
             "#35b779"
            ],
            [
             0.7777777777777778,
             "#6ece58"
            ],
            [
             0.8888888888888888,
             "#b5de2b"
            ],
            [
             1,
             "#fde725"
            ]
           ]
          },
          "colorway": [
           "#1F77B4",
           "#FF7F0E",
           "#2CA02C",
           "#D62728",
           "#9467BD",
           "#8C564B",
           "#E377C2",
           "#7F7F7F",
           "#BCBD22",
           "#17BECF"
          ],
          "font": {
           "color": "rgb(36,36,36)"
          },
          "geo": {
           "bgcolor": "white",
           "lakecolor": "white",
           "landcolor": "white",
           "showlakes": true,
           "showland": true,
           "subunitcolor": "white"
          },
          "hoverlabel": {
           "align": "left"
          },
          "hovermode": "closest",
          "mapbox": {
           "style": "light"
          },
          "paper_bgcolor": "white",
          "plot_bgcolor": "white",
          "polar": {
           "angularaxis": {
            "gridcolor": "rgb(232,232,232)",
            "linecolor": "rgb(36,36,36)",
            "showgrid": false,
            "showline": true,
            "ticks": "outside"
           },
           "bgcolor": "white",
           "radialaxis": {
            "gridcolor": "rgb(232,232,232)",
            "linecolor": "rgb(36,36,36)",
            "showgrid": false,
            "showline": true,
            "ticks": "outside"
           }
          },
          "scene": {
           "xaxis": {
            "backgroundcolor": "white",
            "gridcolor": "rgb(232,232,232)",
            "gridwidth": 2,
            "linecolor": "rgb(36,36,36)",
            "showbackground": true,
            "showgrid": false,
            "showline": true,
            "ticks": "outside",
            "zeroline": false,
            "zerolinecolor": "rgb(36,36,36)"
           },
           "yaxis": {
            "backgroundcolor": "white",
            "gridcolor": "rgb(232,232,232)",
            "gridwidth": 2,
            "linecolor": "rgb(36,36,36)",
            "showbackground": true,
            "showgrid": false,
            "showline": true,
            "ticks": "outside",
            "zeroline": false,
            "zerolinecolor": "rgb(36,36,36)"
           },
           "zaxis": {
            "backgroundcolor": "white",
            "gridcolor": "rgb(232,232,232)",
            "gridwidth": 2,
            "linecolor": "rgb(36,36,36)",
            "showbackground": true,
            "showgrid": false,
            "showline": true,
            "ticks": "outside",
            "zeroline": false,
            "zerolinecolor": "rgb(36,36,36)"
           }
          },
          "shapedefaults": {
           "fillcolor": "black",
           "line": {
            "width": 0
           },
           "opacity": 0.3
          },
          "ternary": {
           "aaxis": {
            "gridcolor": "rgb(232,232,232)",
            "linecolor": "rgb(36,36,36)",
            "showgrid": false,
            "showline": true,
            "ticks": "outside"
           },
           "baxis": {
            "gridcolor": "rgb(232,232,232)",
            "linecolor": "rgb(36,36,36)",
            "showgrid": false,
            "showline": true,
            "ticks": "outside"
           },
           "bgcolor": "white",
           "caxis": {
            "gridcolor": "rgb(232,232,232)",
            "linecolor": "rgb(36,36,36)",
            "showgrid": false,
            "showline": true,
            "ticks": "outside"
           }
          },
          "title": {
           "x": 0.05
          },
          "xaxis": {
           "automargin": true,
           "gridcolor": "rgb(232,232,232)",
           "linecolor": "rgb(36,36,36)",
           "showgrid": false,
           "showline": true,
           "ticks": "outside",
           "title": {
            "standoff": 15
           },
           "zeroline": false,
           "zerolinecolor": "rgb(36,36,36)"
          },
          "yaxis": {
           "automargin": true,
           "gridcolor": "rgb(232,232,232)",
           "linecolor": "rgb(36,36,36)",
           "showgrid": false,
           "showline": true,
           "ticks": "outside",
           "title": {
            "standoff": 15
           },
           "zeroline": false,
           "zerolinecolor": "rgb(36,36,36)"
          }
         }
        },
        "width": 500,
        "xaxis": {
         "showgrid": false,
         "title": {
          "text": " "
         }
        },
        "yaxis": {
         "categoryarray": [
          "Subject 12",
          "Subject 11",
          "Subject 10",
          "Subject 9",
          "Subject 8",
          "Subject 7",
          "Subject 6",
          "Subject 5",
          "Subject 4",
          "Subject 3",
          "Subject 2",
          "Subject 1"
         ],
         "categoryorder": "array",
         "showgrid": false,
         "showline": false,
         "ticksuffix": " ",
         "title": {
          "text": " "
         }
        }
       }
      }
     },
     "metadata": {},
     "output_type": "display_data"
    }
   ],
   "source": [
    "fig_duration_subject = go.Figure()\n",
    "fig_duration_subject.add_trace(go.Bar(x = df_all.duration, y = df_all.subject, \n",
    "                        orientation='h', showlegend=True,\n",
    "                        text=np.round(df_all.duration,decimals = 0),\n",
    "                        name='Duration', marker_color=marking_red))\n",
    "fig_duration_subject.update_xaxes(showgrid=False)\n",
    "fig_duration_subject.update_yaxes(showgrid=False, categoryorder='array', categoryarray= [\"Subject 12\",\"Subject 11\",\"Subject 10\",\"Subject 9\",\"Subject 8\",\"Subject 7\",\"Subject 6\",\"Subject 5\",\"Subject 4\",\"Subject 3\",\"Subject 2\",\"Subject 1\"],\n",
    "                 ticksuffix=' ', showline=False)\n",
    "fig_duration_subject.update_traces(hovertemplate=None)\n",
    "fig_duration_subject.update_layout(\n",
    "#    title='Duration per Subject (Seconds)(Field)',\n",
    "    margin=dict(t=80, b=0, l=70, r=40),\n",
    "    hovermode=\"y unified\", \n",
    "    xaxis_title=' ', yaxis_title=\" \",\n",
    "    width=500, height=400,\n",
    "    font=dict(family=\"Lato, sans-serif\",size=14),\n",
    "    legend=dict(orientation=\"h\", yanchor=\"bottom\",y=1, xanchor=\"center\", x=0.5),\n",
    "    hoverlabel=dict(font_size=13, font_family=\"Lato, sans-serif\"),\n",
    "    paper_bgcolor='rgba(0,0,0,0)',\n",
    "    plot_bgcolor='rgba(0,0,0,0)'\n",
    ")"
   ]
  },
  {
   "cell_type": "markdown",
   "id": "8ac80f92-3425-4134-8069-4c22ef59d3b9",
   "metadata": {},
   "source": [
    "### Correlations"
   ]
  },
  {
   "cell_type": "code",
   "execution_count": 19,
   "id": "b78f67b2",
   "metadata": {},
   "outputs": [
    {
     "data": {
      "text/plain": [
       "'Difficulty SpearmanrResult(correlation=-0.5721574955484239, pvalue=0.003484415825772726)'"
      ]
     },
     "metadata": {},
     "output_type": "display_data"
    },
    {
     "data": {
      "text/plain": [
       "'Left Looks SpearmanrResult(correlation=0.029454253694129223, pvalue=0.7711258684692133)'"
      ]
     },
     "metadata": {},
     "output_type": "display_data"
    },
    {
     "data": {
      "text/plain": [
       "'Right Looks SpearmanrResult(correlation=0.024260619285036342, pvalue=0.8106471202430714)'"
      ]
     },
     "metadata": {},
     "output_type": "display_data"
    },
    {
     "data": {
      "text/plain": [
       "'Left angles SpearmanrResult(correlation=-0.12658132809506686, pvalue=0.025122891964864034)'"
      ]
     },
     "metadata": {},
     "output_type": "display_data"
    },
    {
     "data": {
      "text/plain": [
       "'Right Angles SpearmanrResult(correlation=0.04328015650171581, pvalue=0.5192926884058173)'"
      ]
     },
     "metadata": {},
     "output_type": "display_data"
    }
   ],
   "source": [
    "# Spearman correlations and p-values\n",
    "display(\"Difficulty {}\".format(spearmanr(difficulty,safety)))\n",
    "display(\"Left Looks {}\".format(spearmanr(safety_left_rots, left_rots)))\n",
    "display(\"Right Looks {}\".format(spearmanr(safety_right_rots, right_rots)))\n",
    "display(\"Left angles {}\".format(spearmanr(safety_left_angles, left_angles)))\n",
    "display(\"Right Angles {}\".format(spearmanr(safety_right_angles, right_angles)))"
   ]
  },
  {
   "cell_type": "code",
   "execution_count": 20,
   "id": "00cd5591-5d74-442a-b20a-46f76b451c39",
   "metadata": {},
   "outputs": [
    {
     "data": {
      "application/vnd.plotly.v1+json": {
       "config": {
        "plotlyServerURL": "https://plot.ly"
       },
       "data": [
        {
         "marker": {
          "color": "#000000"
         },
         "mode": "markers",
         "name": "Safety X Difficulty",
         "showlegend": false,
         "type": "scatter",
         "x": [
          3,
          4,
          5,
          5,
          4,
          5,
          4,
          2,
          4,
          4,
          3,
          3,
          4,
          3,
          3,
          4,
          3,
          4,
          5,
          5,
          5,
          5,
          5,
          5
         ],
         "y": [
          5,
          3,
          1,
          2,
          1,
          1,
          1,
          4,
          2,
          2,
          3,
          3,
          1,
          3,
          2,
          1,
          2,
          2,
          2,
          3,
          1,
          1,
          2,
          1
         ]
        },
        {
         "hovertemplate": "<b>OLS trendline</b><br>y = -0.740659 * x + 5.03516<br>R<sup>2</sup>=0.385784<br><br>x=%{x}<br>y=%{y} <b>(trend)</b><extra></extra>",
         "legendgroup": "",
         "marker": {
          "color": "#961C26",
          "symbol": "circle"
         },
         "mode": "lines",
         "name": "",
         "showlegend": false,
         "type": "scatter",
         "x": [
          2,
          3,
          3,
          3,
          3,
          3,
          3,
          4,
          4,
          4,
          4,
          4,
          4,
          4,
          4,
          5,
          5,
          5,
          5,
          5,
          5,
          5,
          5,
          5
         ],
         "xaxis": "x",
         "y": [
          3.553846153846157,
          2.813186813186816,
          2.813186813186816,
          2.813186813186816,
          2.813186813186816,
          2.813186813186816,
          2.813186813186816,
          2.0725274725274745,
          2.0725274725274745,
          2.0725274725274745,
          2.0725274725274745,
          2.0725274725274745,
          2.0725274725274745,
          2.0725274725274745,
          2.0725274725274745,
          1.331868131868133,
          1.331868131868133,
          1.331868131868133,
          1.331868131868133,
          1.331868131868133,
          1.331868131868133,
          1.331868131868133,
          1.331868131868133,
          1.331868131868133
         ],
         "yaxis": "y"
        }
       ],
       "layout": {
        "font": {
         "family": "Lato, sans-serif",
         "size": 14
        },
        "height": 400,
        "hoverlabel": {
         "font": {
          "family": "Lato, sans-serif",
          "size": 13
         }
        },
        "hovermode": "y unified",
        "legend": {
         "orientation": "h",
         "x": 0.5,
         "xanchor": "center",
         "y": 1,
         "yanchor": "bottom"
        },
        "margin": {
         "b": 0,
         "l": 70,
         "r": 40,
         "t": 20
        },
        "paper_bgcolor": "rgba(0,0,0,0)",
        "plot_bgcolor": "rgba(0,0,0,0)",
        "template": {
         "data": {
          "bar": [
           {
            "error_x": {
             "color": "rgb(36,36,36)"
            },
            "error_y": {
             "color": "rgb(36,36,36)"
            },
            "marker": {
             "line": {
              "color": "white",
              "width": 0.5
             },
             "pattern": {
              "fillmode": "overlay",
              "size": 10,
              "solidity": 0.2
             }
            },
            "type": "bar"
           }
          ],
          "barpolar": [
           {
            "marker": {
             "line": {
              "color": "white",
              "width": 0.5
             },
             "pattern": {
              "fillmode": "overlay",
              "size": 10,
              "solidity": 0.2
             }
            },
            "type": "barpolar"
           }
          ],
          "carpet": [
           {
            "aaxis": {
             "endlinecolor": "rgb(36,36,36)",
             "gridcolor": "white",
             "linecolor": "white",
             "minorgridcolor": "white",
             "startlinecolor": "rgb(36,36,36)"
            },
            "baxis": {
             "endlinecolor": "rgb(36,36,36)",
             "gridcolor": "white",
             "linecolor": "white",
             "minorgridcolor": "white",
             "startlinecolor": "rgb(36,36,36)"
            },
            "type": "carpet"
           }
          ],
          "choropleth": [
           {
            "colorbar": {
             "outlinewidth": 1,
             "tickcolor": "rgb(36,36,36)",
             "ticks": "outside"
            },
            "type": "choropleth"
           }
          ],
          "contour": [
           {
            "colorbar": {
             "outlinewidth": 1,
             "tickcolor": "rgb(36,36,36)",
             "ticks": "outside"
            },
            "colorscale": [
             [
              0,
              "#440154"
             ],
             [
              0.1111111111111111,
              "#482878"
             ],
             [
              0.2222222222222222,
              "#3e4989"
             ],
             [
              0.3333333333333333,
              "#31688e"
             ],
             [
              0.4444444444444444,
              "#26828e"
             ],
             [
              0.5555555555555556,
              "#1f9e89"
             ],
             [
              0.6666666666666666,
              "#35b779"
             ],
             [
              0.7777777777777778,
              "#6ece58"
             ],
             [
              0.8888888888888888,
              "#b5de2b"
             ],
             [
              1,
              "#fde725"
             ]
            ],
            "type": "contour"
           }
          ],
          "contourcarpet": [
           {
            "colorbar": {
             "outlinewidth": 1,
             "tickcolor": "rgb(36,36,36)",
             "ticks": "outside"
            },
            "type": "contourcarpet"
           }
          ],
          "heatmap": [
           {
            "colorbar": {
             "outlinewidth": 1,
             "tickcolor": "rgb(36,36,36)",
             "ticks": "outside"
            },
            "colorscale": [
             [
              0,
              "#440154"
             ],
             [
              0.1111111111111111,
              "#482878"
             ],
             [
              0.2222222222222222,
              "#3e4989"
             ],
             [
              0.3333333333333333,
              "#31688e"
             ],
             [
              0.4444444444444444,
              "#26828e"
             ],
             [
              0.5555555555555556,
              "#1f9e89"
             ],
             [
              0.6666666666666666,
              "#35b779"
             ],
             [
              0.7777777777777778,
              "#6ece58"
             ],
             [
              0.8888888888888888,
              "#b5de2b"
             ],
             [
              1,
              "#fde725"
             ]
            ],
            "type": "heatmap"
           }
          ],
          "heatmapgl": [
           {
            "colorbar": {
             "outlinewidth": 1,
             "tickcolor": "rgb(36,36,36)",
             "ticks": "outside"
            },
            "colorscale": [
             [
              0,
              "#440154"
             ],
             [
              0.1111111111111111,
              "#482878"
             ],
             [
              0.2222222222222222,
              "#3e4989"
             ],
             [
              0.3333333333333333,
              "#31688e"
             ],
             [
              0.4444444444444444,
              "#26828e"
             ],
             [
              0.5555555555555556,
              "#1f9e89"
             ],
             [
              0.6666666666666666,
              "#35b779"
             ],
             [
              0.7777777777777778,
              "#6ece58"
             ],
             [
              0.8888888888888888,
              "#b5de2b"
             ],
             [
              1,
              "#fde725"
             ]
            ],
            "type": "heatmapgl"
           }
          ],
          "histogram": [
           {
            "marker": {
             "line": {
              "color": "white",
              "width": 0.6
             }
            },
            "type": "histogram"
           }
          ],
          "histogram2d": [
           {
            "colorbar": {
             "outlinewidth": 1,
             "tickcolor": "rgb(36,36,36)",
             "ticks": "outside"
            },
            "colorscale": [
             [
              0,
              "#440154"
             ],
             [
              0.1111111111111111,
              "#482878"
             ],
             [
              0.2222222222222222,
              "#3e4989"
             ],
             [
              0.3333333333333333,
              "#31688e"
             ],
             [
              0.4444444444444444,
              "#26828e"
             ],
             [
              0.5555555555555556,
              "#1f9e89"
             ],
             [
              0.6666666666666666,
              "#35b779"
             ],
             [
              0.7777777777777778,
              "#6ece58"
             ],
             [
              0.8888888888888888,
              "#b5de2b"
             ],
             [
              1,
              "#fde725"
             ]
            ],
            "type": "histogram2d"
           }
          ],
          "histogram2dcontour": [
           {
            "colorbar": {
             "outlinewidth": 1,
             "tickcolor": "rgb(36,36,36)",
             "ticks": "outside"
            },
            "colorscale": [
             [
              0,
              "#440154"
             ],
             [
              0.1111111111111111,
              "#482878"
             ],
             [
              0.2222222222222222,
              "#3e4989"
             ],
             [
              0.3333333333333333,
              "#31688e"
             ],
             [
              0.4444444444444444,
              "#26828e"
             ],
             [
              0.5555555555555556,
              "#1f9e89"
             ],
             [
              0.6666666666666666,
              "#35b779"
             ],
             [
              0.7777777777777778,
              "#6ece58"
             ],
             [
              0.8888888888888888,
              "#b5de2b"
             ],
             [
              1,
              "#fde725"
             ]
            ],
            "type": "histogram2dcontour"
           }
          ],
          "mesh3d": [
           {
            "colorbar": {
             "outlinewidth": 1,
             "tickcolor": "rgb(36,36,36)",
             "ticks": "outside"
            },
            "type": "mesh3d"
           }
          ],
          "parcoords": [
           {
            "line": {
             "colorbar": {
              "outlinewidth": 1,
              "tickcolor": "rgb(36,36,36)",
              "ticks": "outside"
             }
            },
            "type": "parcoords"
           }
          ],
          "pie": [
           {
            "automargin": true,
            "type": "pie"
           }
          ],
          "scatter": [
           {
            "fillpattern": {
             "fillmode": "overlay",
             "size": 10,
             "solidity": 0.2
            },
            "type": "scatter"
           }
          ],
          "scatter3d": [
           {
            "line": {
             "colorbar": {
              "outlinewidth": 1,
              "tickcolor": "rgb(36,36,36)",
              "ticks": "outside"
             }
            },
            "marker": {
             "colorbar": {
              "outlinewidth": 1,
              "tickcolor": "rgb(36,36,36)",
              "ticks": "outside"
             }
            },
            "type": "scatter3d"
           }
          ],
          "scattercarpet": [
           {
            "marker": {
             "colorbar": {
              "outlinewidth": 1,
              "tickcolor": "rgb(36,36,36)",
              "ticks": "outside"
             }
            },
            "type": "scattercarpet"
           }
          ],
          "scattergeo": [
           {
            "marker": {
             "colorbar": {
              "outlinewidth": 1,
              "tickcolor": "rgb(36,36,36)",
              "ticks": "outside"
             }
            },
            "type": "scattergeo"
           }
          ],
          "scattergl": [
           {
            "marker": {
             "colorbar": {
              "outlinewidth": 1,
              "tickcolor": "rgb(36,36,36)",
              "ticks": "outside"
             }
            },
            "type": "scattergl"
           }
          ],
          "scattermapbox": [
           {
            "marker": {
             "colorbar": {
              "outlinewidth": 1,
              "tickcolor": "rgb(36,36,36)",
              "ticks": "outside"
             }
            },
            "type": "scattermapbox"
           }
          ],
          "scatterpolar": [
           {
            "marker": {
             "colorbar": {
              "outlinewidth": 1,
              "tickcolor": "rgb(36,36,36)",
              "ticks": "outside"
             }
            },
            "type": "scatterpolar"
           }
          ],
          "scatterpolargl": [
           {
            "marker": {
             "colorbar": {
              "outlinewidth": 1,
              "tickcolor": "rgb(36,36,36)",
              "ticks": "outside"
             }
            },
            "type": "scatterpolargl"
           }
          ],
          "scatterternary": [
           {
            "marker": {
             "colorbar": {
              "outlinewidth": 1,
              "tickcolor": "rgb(36,36,36)",
              "ticks": "outside"
             }
            },
            "type": "scatterternary"
           }
          ],
          "surface": [
           {
            "colorbar": {
             "outlinewidth": 1,
             "tickcolor": "rgb(36,36,36)",
             "ticks": "outside"
            },
            "colorscale": [
             [
              0,
              "#440154"
             ],
             [
              0.1111111111111111,
              "#482878"
             ],
             [
              0.2222222222222222,
              "#3e4989"
             ],
             [
              0.3333333333333333,
              "#31688e"
             ],
             [
              0.4444444444444444,
              "#26828e"
             ],
             [
              0.5555555555555556,
              "#1f9e89"
             ],
             [
              0.6666666666666666,
              "#35b779"
             ],
             [
              0.7777777777777778,
              "#6ece58"
             ],
             [
              0.8888888888888888,
              "#b5de2b"
             ],
             [
              1,
              "#fde725"
             ]
            ],
            "type": "surface"
           }
          ],
          "table": [
           {
            "cells": {
             "fill": {
              "color": "rgb(237,237,237)"
             },
             "line": {
              "color": "white"
             }
            },
            "header": {
             "fill": {
              "color": "rgb(217,217,217)"
             },
             "line": {
              "color": "white"
             }
            },
            "type": "table"
           }
          ]
         },
         "layout": {
          "annotationdefaults": {
           "arrowhead": 0,
           "arrowwidth": 1
          },
          "autotypenumbers": "strict",
          "coloraxis": {
           "colorbar": {
            "outlinewidth": 1,
            "tickcolor": "rgb(36,36,36)",
            "ticks": "outside"
           }
          },
          "colorscale": {
           "diverging": [
            [
             0,
             "rgb(103,0,31)"
            ],
            [
             0.1,
             "rgb(178,24,43)"
            ],
            [
             0.2,
             "rgb(214,96,77)"
            ],
            [
             0.3,
             "rgb(244,165,130)"
            ],
            [
             0.4,
             "rgb(253,219,199)"
            ],
            [
             0.5,
             "rgb(247,247,247)"
            ],
            [
             0.6,
             "rgb(209,229,240)"
            ],
            [
             0.7,
             "rgb(146,197,222)"
            ],
            [
             0.8,
             "rgb(67,147,195)"
            ],
            [
             0.9,
             "rgb(33,102,172)"
            ],
            [
             1,
             "rgb(5,48,97)"
            ]
           ],
           "sequential": [
            [
             0,
             "#440154"
            ],
            [
             0.1111111111111111,
             "#482878"
            ],
            [
             0.2222222222222222,
             "#3e4989"
            ],
            [
             0.3333333333333333,
             "#31688e"
            ],
            [
             0.4444444444444444,
             "#26828e"
            ],
            [
             0.5555555555555556,
             "#1f9e89"
            ],
            [
             0.6666666666666666,
             "#35b779"
            ],
            [
             0.7777777777777778,
             "#6ece58"
            ],
            [
             0.8888888888888888,
             "#b5de2b"
            ],
            [
             1,
             "#fde725"
            ]
           ],
           "sequentialminus": [
            [
             0,
             "#440154"
            ],
            [
             0.1111111111111111,
             "#482878"
            ],
            [
             0.2222222222222222,
             "#3e4989"
            ],
            [
             0.3333333333333333,
             "#31688e"
            ],
            [
             0.4444444444444444,
             "#26828e"
            ],
            [
             0.5555555555555556,
             "#1f9e89"
            ],
            [
             0.6666666666666666,
             "#35b779"
            ],
            [
             0.7777777777777778,
             "#6ece58"
            ],
            [
             0.8888888888888888,
             "#b5de2b"
            ],
            [
             1,
             "#fde725"
            ]
           ]
          },
          "colorway": [
           "#1F77B4",
           "#FF7F0E",
           "#2CA02C",
           "#D62728",
           "#9467BD",
           "#8C564B",
           "#E377C2",
           "#7F7F7F",
           "#BCBD22",
           "#17BECF"
          ],
          "font": {
           "color": "rgb(36,36,36)"
          },
          "geo": {
           "bgcolor": "white",
           "lakecolor": "white",
           "landcolor": "white",
           "showlakes": true,
           "showland": true,
           "subunitcolor": "white"
          },
          "hoverlabel": {
           "align": "left"
          },
          "hovermode": "closest",
          "mapbox": {
           "style": "light"
          },
          "paper_bgcolor": "white",
          "plot_bgcolor": "white",
          "polar": {
           "angularaxis": {
            "gridcolor": "rgb(232,232,232)",
            "linecolor": "rgb(36,36,36)",
            "showgrid": false,
            "showline": true,
            "ticks": "outside"
           },
           "bgcolor": "white",
           "radialaxis": {
            "gridcolor": "rgb(232,232,232)",
            "linecolor": "rgb(36,36,36)",
            "showgrid": false,
            "showline": true,
            "ticks": "outside"
           }
          },
          "scene": {
           "xaxis": {
            "backgroundcolor": "white",
            "gridcolor": "rgb(232,232,232)",
            "gridwidth": 2,
            "linecolor": "rgb(36,36,36)",
            "showbackground": true,
            "showgrid": false,
            "showline": true,
            "ticks": "outside",
            "zeroline": false,
            "zerolinecolor": "rgb(36,36,36)"
           },
           "yaxis": {
            "backgroundcolor": "white",
            "gridcolor": "rgb(232,232,232)",
            "gridwidth": 2,
            "linecolor": "rgb(36,36,36)",
            "showbackground": true,
            "showgrid": false,
            "showline": true,
            "ticks": "outside",
            "zeroline": false,
            "zerolinecolor": "rgb(36,36,36)"
           },
           "zaxis": {
            "backgroundcolor": "white",
            "gridcolor": "rgb(232,232,232)",
            "gridwidth": 2,
            "linecolor": "rgb(36,36,36)",
            "showbackground": true,
            "showgrid": false,
            "showline": true,
            "ticks": "outside",
            "zeroline": false,
            "zerolinecolor": "rgb(36,36,36)"
           }
          },
          "shapedefaults": {
           "fillcolor": "black",
           "line": {
            "width": 0
           },
           "opacity": 0.3
          },
          "ternary": {
           "aaxis": {
            "gridcolor": "rgb(232,232,232)",
            "linecolor": "rgb(36,36,36)",
            "showgrid": false,
            "showline": true,
            "ticks": "outside"
           },
           "baxis": {
            "gridcolor": "rgb(232,232,232)",
            "linecolor": "rgb(36,36,36)",
            "showgrid": false,
            "showline": true,
            "ticks": "outside"
           },
           "bgcolor": "white",
           "caxis": {
            "gridcolor": "rgb(232,232,232)",
            "linecolor": "rgb(36,36,36)",
            "showgrid": false,
            "showline": true,
            "ticks": "outside"
           }
          },
          "title": {
           "x": 0.05
          },
          "xaxis": {
           "automargin": true,
           "gridcolor": "rgb(232,232,232)",
           "linecolor": "rgb(36,36,36)",
           "showgrid": false,
           "showline": true,
           "ticks": "outside",
           "title": {
            "standoff": 15
           },
           "zeroline": false,
           "zerolinecolor": "rgb(36,36,36)"
          },
          "yaxis": {
           "automargin": true,
           "gridcolor": "rgb(232,232,232)",
           "linecolor": "rgb(36,36,36)",
           "showgrid": false,
           "showline": true,
           "ticks": "outside",
           "title": {
            "standoff": 15
           },
           "zeroline": false,
           "zerolinecolor": "rgb(36,36,36)"
          }
         }
        },
        "width": 600,
        "xaxis": {
         "dtick": 1,
         "title": {
          "text": "Safety"
         }
        },
        "yaxis": {
         "ticksuffix": "",
         "title": {
          "text": "Difficulty"
         }
        }
       }
      }
     },
     "metadata": {},
     "output_type": "display_data"
    },
    {
     "data": {
      "application/vnd.plotly.v1+json": {
       "config": {
        "plotlyServerURL": "https://plot.ly"
       },
       "data": [
        {
         "marker": {
          "color": "#000000"
         },
         "mode": "markers",
         "name": "Safety X Left Rotations",
         "showlegend": false,
         "type": "scatter",
         "x": [
          3,
          3,
          4,
          4,
          5,
          5,
          5,
          5,
          5,
          5,
          5,
          5,
          5,
          5,
          5,
          4,
          4,
          5,
          5,
          5,
          5,
          5,
          5,
          5,
          5,
          5,
          4,
          4,
          2,
          2,
          4,
          4,
          4,
          4,
          4,
          4,
          4,
          4,
          4,
          4,
          4,
          3,
          3,
          3,
          3,
          3,
          3,
          3,
          3,
          3,
          3,
          3,
          4,
          3,
          3,
          3,
          3,
          3,
          3,
          3,
          3,
          3,
          4,
          4,
          3,
          3,
          4,
          4,
          4,
          4,
          4,
          4,
          4,
          4,
          4,
          5,
          5,
          5,
          5,
          5,
          5,
          5,
          5,
          5,
          5,
          5,
          5,
          5,
          5,
          5,
          5,
          5,
          5,
          5,
          5,
          5,
          5,
          5,
          5,
          5
         ],
         "y": [
          11,
          12,
          3,
          7,
          1,
          1,
          2,
          8,
          1,
          3,
          10,
          3,
          2,
          2,
          1,
          1,
          2,
          3,
          2,
          3,
          2,
          1,
          2,
          6,
          2,
          2,
          2,
          1,
          1,
          1,
          2,
          2,
          2,
          2,
          1,
          2,
          8,
          1,
          1,
          6,
          4,
          1,
          3,
          2,
          4,
          2,
          6,
          4,
          2,
          9,
          2,
          2,
          6,
          2,
          2,
          2,
          2,
          8,
          1,
          3,
          7,
          1,
          4,
          6,
          1,
          2,
          1,
          3,
          3,
          3,
          1,
          2,
          11,
          1,
          1,
          4,
          3,
          9,
          3,
          3,
          2,
          4,
          2,
          3,
          4,
          1,
          1,
          4,
          4,
          2,
          3,
          1,
          3,
          2,
          4,
          4,
          2,
          3,
          1,
          2
         ]
        },
        {
         "hovertemplate": "<b>OLS trendline</b><br>y = -0.232222 * x + 4.09837<br>R<sup>2</sup>=0.006453<br><br>x=%{x}<br>y=%{y} <b>(trend)</b><extra></extra>",
         "legendgroup": "",
         "marker": {
          "color": "#961C26",
          "symbol": "circle"
         },
         "mode": "lines",
         "name": "",
         "showlegend": false,
         "type": "scatter",
         "x": [
          2,
          2,
          3,
          3,
          3,
          3,
          3,
          3,
          3,
          3,
          3,
          3,
          3,
          3,
          3,
          3,
          3,
          3,
          3,
          3,
          3,
          3,
          3,
          3,
          3,
          3,
          4,
          4,
          4,
          4,
          4,
          4,
          4,
          4,
          4,
          4,
          4,
          4,
          4,
          4,
          4,
          4,
          4,
          4,
          4,
          4,
          4,
          4,
          4,
          4,
          4,
          4,
          4,
          4,
          4,
          5,
          5,
          5,
          5,
          5,
          5,
          5,
          5,
          5,
          5,
          5,
          5,
          5,
          5,
          5,
          5,
          5,
          5,
          5,
          5,
          5,
          5,
          5,
          5,
          5,
          5,
          5,
          5,
          5,
          5,
          5,
          5,
          5,
          5,
          5,
          5,
          5,
          5,
          5,
          5,
          5,
          5,
          5,
          5,
          5
         ],
         "xaxis": "x",
         "y": [
          3.6339225475644312,
          3.6339225475644312,
          3.4017001754149243,
          3.4017001754149243,
          3.4017001754149243,
          3.4017001754149243,
          3.4017001754149243,
          3.4017001754149243,
          3.4017001754149243,
          3.4017001754149243,
          3.4017001754149243,
          3.4017001754149243,
          3.4017001754149243,
          3.4017001754149243,
          3.4017001754149243,
          3.4017001754149243,
          3.4017001754149243,
          3.4017001754149243,
          3.4017001754149243,
          3.4017001754149243,
          3.4017001754149243,
          3.4017001754149243,
          3.4017001754149243,
          3.4017001754149243,
          3.4017001754149243,
          3.4017001754149243,
          3.1694778032654174,
          3.1694778032654174,
          3.1694778032654174,
          3.1694778032654174,
          3.1694778032654174,
          3.1694778032654174,
          3.1694778032654174,
          3.1694778032654174,
          3.1694778032654174,
          3.1694778032654174,
          3.1694778032654174,
          3.1694778032654174,
          3.1694778032654174,
          3.1694778032654174,
          3.1694778032654174,
          3.1694778032654174,
          3.1694778032654174,
          3.1694778032654174,
          3.1694778032654174,
          3.1694778032654174,
          3.1694778032654174,
          3.1694778032654174,
          3.1694778032654174,
          3.1694778032654174,
          3.1694778032654174,
          3.1694778032654174,
          3.1694778032654174,
          3.1694778032654174,
          3.1694778032654174,
          2.9372554311159105,
          2.9372554311159105,
          2.9372554311159105,
          2.9372554311159105,
          2.9372554311159105,
          2.9372554311159105,
          2.9372554311159105,
          2.9372554311159105,
          2.9372554311159105,
          2.9372554311159105,
          2.9372554311159105,
          2.9372554311159105,
          2.9372554311159105,
          2.9372554311159105,
          2.9372554311159105,
          2.9372554311159105,
          2.9372554311159105,
          2.9372554311159105,
          2.9372554311159105,
          2.9372554311159105,
          2.9372554311159105,
          2.9372554311159105,
          2.9372554311159105,
          2.9372554311159105,
          2.9372554311159105,
          2.9372554311159105,
          2.9372554311159105,
          2.9372554311159105,
          2.9372554311159105,
          2.9372554311159105,
          2.9372554311159105,
          2.9372554311159105,
          2.9372554311159105,
          2.9372554311159105,
          2.9372554311159105,
          2.9372554311159105,
          2.9372554311159105,
          2.9372554311159105,
          2.9372554311159105,
          2.9372554311159105,
          2.9372554311159105,
          2.9372554311159105,
          2.9372554311159105,
          2.9372554311159105,
          2.9372554311159105
         ],
         "yaxis": "y"
        }
       ],
       "layout": {
        "font": {
         "family": "Lato, sans-serif",
         "size": 14
        },
        "height": 400,
        "hoverlabel": {
         "font": {
          "family": "Lato, sans-serif",
          "size": 13
         }
        },
        "hovermode": "y unified",
        "legend": {
         "orientation": "h",
         "x": 0.5,
         "xanchor": "center",
         "y": 1,
         "yanchor": "bottom"
        },
        "margin": {
         "b": 0,
         "l": 70,
         "r": 40,
         "t": 20
        },
        "paper_bgcolor": "rgba(0,0,0,0)",
        "plot_bgcolor": "rgba(0,0,0,0)",
        "template": {
         "data": {
          "bar": [
           {
            "error_x": {
             "color": "rgb(36,36,36)"
            },
            "error_y": {
             "color": "rgb(36,36,36)"
            },
            "marker": {
             "line": {
              "color": "white",
              "width": 0.5
             },
             "pattern": {
              "fillmode": "overlay",
              "size": 10,
              "solidity": 0.2
             }
            },
            "type": "bar"
           }
          ],
          "barpolar": [
           {
            "marker": {
             "line": {
              "color": "white",
              "width": 0.5
             },
             "pattern": {
              "fillmode": "overlay",
              "size": 10,
              "solidity": 0.2
             }
            },
            "type": "barpolar"
           }
          ],
          "carpet": [
           {
            "aaxis": {
             "endlinecolor": "rgb(36,36,36)",
             "gridcolor": "white",
             "linecolor": "white",
             "minorgridcolor": "white",
             "startlinecolor": "rgb(36,36,36)"
            },
            "baxis": {
             "endlinecolor": "rgb(36,36,36)",
             "gridcolor": "white",
             "linecolor": "white",
             "minorgridcolor": "white",
             "startlinecolor": "rgb(36,36,36)"
            },
            "type": "carpet"
           }
          ],
          "choropleth": [
           {
            "colorbar": {
             "outlinewidth": 1,
             "tickcolor": "rgb(36,36,36)",
             "ticks": "outside"
            },
            "type": "choropleth"
           }
          ],
          "contour": [
           {
            "colorbar": {
             "outlinewidth": 1,
             "tickcolor": "rgb(36,36,36)",
             "ticks": "outside"
            },
            "colorscale": [
             [
              0,
              "#440154"
             ],
             [
              0.1111111111111111,
              "#482878"
             ],
             [
              0.2222222222222222,
              "#3e4989"
             ],
             [
              0.3333333333333333,
              "#31688e"
             ],
             [
              0.4444444444444444,
              "#26828e"
             ],
             [
              0.5555555555555556,
              "#1f9e89"
             ],
             [
              0.6666666666666666,
              "#35b779"
             ],
             [
              0.7777777777777778,
              "#6ece58"
             ],
             [
              0.8888888888888888,
              "#b5de2b"
             ],
             [
              1,
              "#fde725"
             ]
            ],
            "type": "contour"
           }
          ],
          "contourcarpet": [
           {
            "colorbar": {
             "outlinewidth": 1,
             "tickcolor": "rgb(36,36,36)",
             "ticks": "outside"
            },
            "type": "contourcarpet"
           }
          ],
          "heatmap": [
           {
            "colorbar": {
             "outlinewidth": 1,
             "tickcolor": "rgb(36,36,36)",
             "ticks": "outside"
            },
            "colorscale": [
             [
              0,
              "#440154"
             ],
             [
              0.1111111111111111,
              "#482878"
             ],
             [
              0.2222222222222222,
              "#3e4989"
             ],
             [
              0.3333333333333333,
              "#31688e"
             ],
             [
              0.4444444444444444,
              "#26828e"
             ],
             [
              0.5555555555555556,
              "#1f9e89"
             ],
             [
              0.6666666666666666,
              "#35b779"
             ],
             [
              0.7777777777777778,
              "#6ece58"
             ],
             [
              0.8888888888888888,
              "#b5de2b"
             ],
             [
              1,
              "#fde725"
             ]
            ],
            "type": "heatmap"
           }
          ],
          "heatmapgl": [
           {
            "colorbar": {
             "outlinewidth": 1,
             "tickcolor": "rgb(36,36,36)",
             "ticks": "outside"
            },
            "colorscale": [
             [
              0,
              "#440154"
             ],
             [
              0.1111111111111111,
              "#482878"
             ],
             [
              0.2222222222222222,
              "#3e4989"
             ],
             [
              0.3333333333333333,
              "#31688e"
             ],
             [
              0.4444444444444444,
              "#26828e"
             ],
             [
              0.5555555555555556,
              "#1f9e89"
             ],
             [
              0.6666666666666666,
              "#35b779"
             ],
             [
              0.7777777777777778,
              "#6ece58"
             ],
             [
              0.8888888888888888,
              "#b5de2b"
             ],
             [
              1,
              "#fde725"
             ]
            ],
            "type": "heatmapgl"
           }
          ],
          "histogram": [
           {
            "marker": {
             "line": {
              "color": "white",
              "width": 0.6
             }
            },
            "type": "histogram"
           }
          ],
          "histogram2d": [
           {
            "colorbar": {
             "outlinewidth": 1,
             "tickcolor": "rgb(36,36,36)",
             "ticks": "outside"
            },
            "colorscale": [
             [
              0,
              "#440154"
             ],
             [
              0.1111111111111111,
              "#482878"
             ],
             [
              0.2222222222222222,
              "#3e4989"
             ],
             [
              0.3333333333333333,
              "#31688e"
             ],
             [
              0.4444444444444444,
              "#26828e"
             ],
             [
              0.5555555555555556,
              "#1f9e89"
             ],
             [
              0.6666666666666666,
              "#35b779"
             ],
             [
              0.7777777777777778,
              "#6ece58"
             ],
             [
              0.8888888888888888,
              "#b5de2b"
             ],
             [
              1,
              "#fde725"
             ]
            ],
            "type": "histogram2d"
           }
          ],
          "histogram2dcontour": [
           {
            "colorbar": {
             "outlinewidth": 1,
             "tickcolor": "rgb(36,36,36)",
             "ticks": "outside"
            },
            "colorscale": [
             [
              0,
              "#440154"
             ],
             [
              0.1111111111111111,
              "#482878"
             ],
             [
              0.2222222222222222,
              "#3e4989"
             ],
             [
              0.3333333333333333,
              "#31688e"
             ],
             [
              0.4444444444444444,
              "#26828e"
             ],
             [
              0.5555555555555556,
              "#1f9e89"
             ],
             [
              0.6666666666666666,
              "#35b779"
             ],
             [
              0.7777777777777778,
              "#6ece58"
             ],
             [
              0.8888888888888888,
              "#b5de2b"
             ],
             [
              1,
              "#fde725"
             ]
            ],
            "type": "histogram2dcontour"
           }
          ],
          "mesh3d": [
           {
            "colorbar": {
             "outlinewidth": 1,
             "tickcolor": "rgb(36,36,36)",
             "ticks": "outside"
            },
            "type": "mesh3d"
           }
          ],
          "parcoords": [
           {
            "line": {
             "colorbar": {
              "outlinewidth": 1,
              "tickcolor": "rgb(36,36,36)",
              "ticks": "outside"
             }
            },
            "type": "parcoords"
           }
          ],
          "pie": [
           {
            "automargin": true,
            "type": "pie"
           }
          ],
          "scatter": [
           {
            "fillpattern": {
             "fillmode": "overlay",
             "size": 10,
             "solidity": 0.2
            },
            "type": "scatter"
           }
          ],
          "scatter3d": [
           {
            "line": {
             "colorbar": {
              "outlinewidth": 1,
              "tickcolor": "rgb(36,36,36)",
              "ticks": "outside"
             }
            },
            "marker": {
             "colorbar": {
              "outlinewidth": 1,
              "tickcolor": "rgb(36,36,36)",
              "ticks": "outside"
             }
            },
            "type": "scatter3d"
           }
          ],
          "scattercarpet": [
           {
            "marker": {
             "colorbar": {
              "outlinewidth": 1,
              "tickcolor": "rgb(36,36,36)",
              "ticks": "outside"
             }
            },
            "type": "scattercarpet"
           }
          ],
          "scattergeo": [
           {
            "marker": {
             "colorbar": {
              "outlinewidth": 1,
              "tickcolor": "rgb(36,36,36)",
              "ticks": "outside"
             }
            },
            "type": "scattergeo"
           }
          ],
          "scattergl": [
           {
            "marker": {
             "colorbar": {
              "outlinewidth": 1,
              "tickcolor": "rgb(36,36,36)",
              "ticks": "outside"
             }
            },
            "type": "scattergl"
           }
          ],
          "scattermapbox": [
           {
            "marker": {
             "colorbar": {
              "outlinewidth": 1,
              "tickcolor": "rgb(36,36,36)",
              "ticks": "outside"
             }
            },
            "type": "scattermapbox"
           }
          ],
          "scatterpolar": [
           {
            "marker": {
             "colorbar": {
              "outlinewidth": 1,
              "tickcolor": "rgb(36,36,36)",
              "ticks": "outside"
             }
            },
            "type": "scatterpolar"
           }
          ],
          "scatterpolargl": [
           {
            "marker": {
             "colorbar": {
              "outlinewidth": 1,
              "tickcolor": "rgb(36,36,36)",
              "ticks": "outside"
             }
            },
            "type": "scatterpolargl"
           }
          ],
          "scatterternary": [
           {
            "marker": {
             "colorbar": {
              "outlinewidth": 1,
              "tickcolor": "rgb(36,36,36)",
              "ticks": "outside"
             }
            },
            "type": "scatterternary"
           }
          ],
          "surface": [
           {
            "colorbar": {
             "outlinewidth": 1,
             "tickcolor": "rgb(36,36,36)",
             "ticks": "outside"
            },
            "colorscale": [
             [
              0,
              "#440154"
             ],
             [
              0.1111111111111111,
              "#482878"
             ],
             [
              0.2222222222222222,
              "#3e4989"
             ],
             [
              0.3333333333333333,
              "#31688e"
             ],
             [
              0.4444444444444444,
              "#26828e"
             ],
             [
              0.5555555555555556,
              "#1f9e89"
             ],
             [
              0.6666666666666666,
              "#35b779"
             ],
             [
              0.7777777777777778,
              "#6ece58"
             ],
             [
              0.8888888888888888,
              "#b5de2b"
             ],
             [
              1,
              "#fde725"
             ]
            ],
            "type": "surface"
           }
          ],
          "table": [
           {
            "cells": {
             "fill": {
              "color": "rgb(237,237,237)"
             },
             "line": {
              "color": "white"
             }
            },
            "header": {
             "fill": {
              "color": "rgb(217,217,217)"
             },
             "line": {
              "color": "white"
             }
            },
            "type": "table"
           }
          ]
         },
         "layout": {
          "annotationdefaults": {
           "arrowhead": 0,
           "arrowwidth": 1
          },
          "autotypenumbers": "strict",
          "coloraxis": {
           "colorbar": {
            "outlinewidth": 1,
            "tickcolor": "rgb(36,36,36)",
            "ticks": "outside"
           }
          },
          "colorscale": {
           "diverging": [
            [
             0,
             "rgb(103,0,31)"
            ],
            [
             0.1,
             "rgb(178,24,43)"
            ],
            [
             0.2,
             "rgb(214,96,77)"
            ],
            [
             0.3,
             "rgb(244,165,130)"
            ],
            [
             0.4,
             "rgb(253,219,199)"
            ],
            [
             0.5,
             "rgb(247,247,247)"
            ],
            [
             0.6,
             "rgb(209,229,240)"
            ],
            [
             0.7,
             "rgb(146,197,222)"
            ],
            [
             0.8,
             "rgb(67,147,195)"
            ],
            [
             0.9,
             "rgb(33,102,172)"
            ],
            [
             1,
             "rgb(5,48,97)"
            ]
           ],
           "sequential": [
            [
             0,
             "#440154"
            ],
            [
             0.1111111111111111,
             "#482878"
            ],
            [
             0.2222222222222222,
             "#3e4989"
            ],
            [
             0.3333333333333333,
             "#31688e"
            ],
            [
             0.4444444444444444,
             "#26828e"
            ],
            [
             0.5555555555555556,
             "#1f9e89"
            ],
            [
             0.6666666666666666,
             "#35b779"
            ],
            [
             0.7777777777777778,
             "#6ece58"
            ],
            [
             0.8888888888888888,
             "#b5de2b"
            ],
            [
             1,
             "#fde725"
            ]
           ],
           "sequentialminus": [
            [
             0,
             "#440154"
            ],
            [
             0.1111111111111111,
             "#482878"
            ],
            [
             0.2222222222222222,
             "#3e4989"
            ],
            [
             0.3333333333333333,
             "#31688e"
            ],
            [
             0.4444444444444444,
             "#26828e"
            ],
            [
             0.5555555555555556,
             "#1f9e89"
            ],
            [
             0.6666666666666666,
             "#35b779"
            ],
            [
             0.7777777777777778,
             "#6ece58"
            ],
            [
             0.8888888888888888,
             "#b5de2b"
            ],
            [
             1,
             "#fde725"
            ]
           ]
          },
          "colorway": [
           "#1F77B4",
           "#FF7F0E",
           "#2CA02C",
           "#D62728",
           "#9467BD",
           "#8C564B",
           "#E377C2",
           "#7F7F7F",
           "#BCBD22",
           "#17BECF"
          ],
          "font": {
           "color": "rgb(36,36,36)"
          },
          "geo": {
           "bgcolor": "white",
           "lakecolor": "white",
           "landcolor": "white",
           "showlakes": true,
           "showland": true,
           "subunitcolor": "white"
          },
          "hoverlabel": {
           "align": "left"
          },
          "hovermode": "closest",
          "mapbox": {
           "style": "light"
          },
          "paper_bgcolor": "white",
          "plot_bgcolor": "white",
          "polar": {
           "angularaxis": {
            "gridcolor": "rgb(232,232,232)",
            "linecolor": "rgb(36,36,36)",
            "showgrid": false,
            "showline": true,
            "ticks": "outside"
           },
           "bgcolor": "white",
           "radialaxis": {
            "gridcolor": "rgb(232,232,232)",
            "linecolor": "rgb(36,36,36)",
            "showgrid": false,
            "showline": true,
            "ticks": "outside"
           }
          },
          "scene": {
           "xaxis": {
            "backgroundcolor": "white",
            "gridcolor": "rgb(232,232,232)",
            "gridwidth": 2,
            "linecolor": "rgb(36,36,36)",
            "showbackground": true,
            "showgrid": false,
            "showline": true,
            "ticks": "outside",
            "zeroline": false,
            "zerolinecolor": "rgb(36,36,36)"
           },
           "yaxis": {
            "backgroundcolor": "white",
            "gridcolor": "rgb(232,232,232)",
            "gridwidth": 2,
            "linecolor": "rgb(36,36,36)",
            "showbackground": true,
            "showgrid": false,
            "showline": true,
            "ticks": "outside",
            "zeroline": false,
            "zerolinecolor": "rgb(36,36,36)"
           },
           "zaxis": {
            "backgroundcolor": "white",
            "gridcolor": "rgb(232,232,232)",
            "gridwidth": 2,
            "linecolor": "rgb(36,36,36)",
            "showbackground": true,
            "showgrid": false,
            "showline": true,
            "ticks": "outside",
            "zeroline": false,
            "zerolinecolor": "rgb(36,36,36)"
           }
          },
          "shapedefaults": {
           "fillcolor": "black",
           "line": {
            "width": 0
           },
           "opacity": 0.3
          },
          "ternary": {
           "aaxis": {
            "gridcolor": "rgb(232,232,232)",
            "linecolor": "rgb(36,36,36)",
            "showgrid": false,
            "showline": true,
            "ticks": "outside"
           },
           "baxis": {
            "gridcolor": "rgb(232,232,232)",
            "linecolor": "rgb(36,36,36)",
            "showgrid": false,
            "showline": true,
            "ticks": "outside"
           },
           "bgcolor": "white",
           "caxis": {
            "gridcolor": "rgb(232,232,232)",
            "linecolor": "rgb(36,36,36)",
            "showgrid": false,
            "showline": true,
            "ticks": "outside"
           }
          },
          "title": {
           "x": 0.05
          },
          "xaxis": {
           "automargin": true,
           "gridcolor": "rgb(232,232,232)",
           "linecolor": "rgb(36,36,36)",
           "showgrid": false,
           "showline": true,
           "ticks": "outside",
           "title": {
            "standoff": 15
           },
           "zeroline": false,
           "zerolinecolor": "rgb(36,36,36)"
          },
          "yaxis": {
           "automargin": true,
           "gridcolor": "rgb(232,232,232)",
           "linecolor": "rgb(36,36,36)",
           "showgrid": false,
           "showline": true,
           "ticks": "outside",
           "title": {
            "standoff": 15
           },
           "zeroline": false,
           "zerolinecolor": "rgb(36,36,36)"
          }
         }
        },
        "width": 600,
        "xaxis": {
         "dtick": 1,
         "title": {
          "text": "Safety"
         }
        },
        "yaxis": {
         "ticksuffix": "",
         "title": {
          "text": "Left Rotations"
         }
        }
       }
      }
     },
     "metadata": {},
     "output_type": "display_data"
    },
    {
     "data": {
      "application/vnd.plotly.v1+json": {
       "config": {
        "plotlyServerURL": "https://plot.ly"
       },
       "data": [
        {
         "marker": {
          "color": "#000000"
         },
         "mode": "markers",
         "name": "Safety X Left Rotations",
         "showlegend": false,
         "type": "scatter",
         "x": [
          3,
          3,
          4,
          4,
          5,
          5,
          5,
          5,
          5,
          5,
          5,
          5,
          5,
          5,
          5,
          4,
          4,
          5,
          5,
          5,
          5,
          5,
          5,
          5,
          5,
          5,
          4,
          4,
          2,
          2,
          4,
          4,
          4,
          4,
          4,
          4,
          4,
          4,
          4,
          4,
          4,
          3,
          3,
          3,
          3,
          3,
          3,
          3,
          3,
          3,
          3,
          3,
          4,
          3,
          3,
          3,
          3,
          3,
          3,
          3,
          3,
          3,
          4,
          4,
          3,
          3,
          4,
          4,
          4,
          4,
          4,
          4,
          4,
          4,
          4,
          5,
          5,
          5,
          5,
          5,
          5,
          5,
          5,
          5,
          5,
          5,
          5,
          5,
          5,
          5,
          5,
          5,
          5,
          5,
          5,
          5,
          5,
          5,
          5,
          5
         ],
         "y": [
          10,
          11,
          3,
          6,
          0,
          0,
          2,
          7,
          0,
          2,
          9,
          2,
          1,
          1,
          0,
          0,
          1,
          2,
          1,
          2,
          1,
          0,
          1,
          5,
          1,
          1,
          1,
          0,
          0,
          0,
          1,
          1,
          1,
          1,
          0,
          1,
          8,
          0,
          0,
          5,
          3,
          1,
          2,
          1,
          3,
          1,
          5,
          3,
          1,
          8,
          2,
          1,
          5,
          1,
          1,
          1,
          1,
          7,
          0,
          2,
          7,
          0,
          3,
          5,
          0,
          1,
          0,
          2,
          2,
          2,
          0,
          1,
          10,
          0,
          0,
          3,
          2,
          9,
          2,
          2,
          1,
          3,
          1,
          2,
          4,
          0,
          1,
          4,
          3,
          1,
          2,
          0,
          2,
          1,
          3,
          4,
          1,
          2,
          0,
          1
         ]
        },
        {
         "hovertemplate": "<b>OLS trendline</b><br>y = -0.216975 * x + 3.14478<br>R<sup>2</sup>=0.005366<br><br>x=%{x}<br>y=%{y} <b>(trend)</b><extra></extra>",
         "legendgroup": "",
         "marker": {
          "color": "#961C26",
          "symbol": "circle"
         },
         "mode": "lines",
         "name": "",
         "showlegend": false,
         "type": "scatter",
         "x": [
          2,
          2,
          3,
          3,
          3,
          3,
          3,
          3,
          3,
          3,
          3,
          3,
          3,
          3,
          3,
          3,
          3,
          3,
          3,
          3,
          3,
          3,
          3,
          3,
          3,
          3,
          4,
          4,
          4,
          4,
          4,
          4,
          4,
          4,
          4,
          4,
          4,
          4,
          4,
          4,
          4,
          4,
          4,
          4,
          4,
          4,
          4,
          4,
          4,
          4,
          4,
          4,
          4,
          4,
          4,
          5,
          5,
          5,
          5,
          5,
          5,
          5,
          5,
          5,
          5,
          5,
          5,
          5,
          5,
          5,
          5,
          5,
          5,
          5,
          5,
          5,
          5,
          5,
          5,
          5,
          5,
          5,
          5,
          5,
          5,
          5,
          5,
          5,
          5,
          5,
          5,
          5,
          5,
          5,
          5,
          5,
          5,
          5,
          5,
          5
         ],
         "xaxis": "x",
         "y": [
          2.710835244906221,
          2.710835244906221,
          2.4938604776683317,
          2.4938604776683317,
          2.4938604776683317,
          2.4938604776683317,
          2.4938604776683317,
          2.4938604776683317,
          2.4938604776683317,
          2.4938604776683317,
          2.4938604776683317,
          2.4938604776683317,
          2.4938604776683317,
          2.4938604776683317,
          2.4938604776683317,
          2.4938604776683317,
          2.4938604776683317,
          2.4938604776683317,
          2.4938604776683317,
          2.4938604776683317,
          2.4938604776683317,
          2.4938604776683317,
          2.4938604776683317,
          2.4938604776683317,
          2.4938604776683317,
          2.4938604776683317,
          2.2768857104304425,
          2.2768857104304425,
          2.2768857104304425,
          2.2768857104304425,
          2.2768857104304425,
          2.2768857104304425,
          2.2768857104304425,
          2.2768857104304425,
          2.2768857104304425,
          2.2768857104304425,
          2.2768857104304425,
          2.2768857104304425,
          2.2768857104304425,
          2.2768857104304425,
          2.2768857104304425,
          2.2768857104304425,
          2.2768857104304425,
          2.2768857104304425,
          2.2768857104304425,
          2.2768857104304425,
          2.2768857104304425,
          2.2768857104304425,
          2.2768857104304425,
          2.2768857104304425,
          2.2768857104304425,
          2.2768857104304425,
          2.2768857104304425,
          2.2768857104304425,
          2.2768857104304425,
          2.0599109431925533,
          2.0599109431925533,
          2.0599109431925533,
          2.0599109431925533,
          2.0599109431925533,
          2.0599109431925533,
          2.0599109431925533,
          2.0599109431925533,
          2.0599109431925533,
          2.0599109431925533,
          2.0599109431925533,
          2.0599109431925533,
          2.0599109431925533,
          2.0599109431925533,
          2.0599109431925533,
          2.0599109431925533,
          2.0599109431925533,
          2.0599109431925533,
          2.0599109431925533,
          2.0599109431925533,
          2.0599109431925533,
          2.0599109431925533,
          2.0599109431925533,
          2.0599109431925533,
          2.0599109431925533,
          2.0599109431925533,
          2.0599109431925533,
          2.0599109431925533,
          2.0599109431925533,
          2.0599109431925533,
          2.0599109431925533,
          2.0599109431925533,
          2.0599109431925533,
          2.0599109431925533,
          2.0599109431925533,
          2.0599109431925533,
          2.0599109431925533,
          2.0599109431925533,
          2.0599109431925533,
          2.0599109431925533,
          2.0599109431925533,
          2.0599109431925533,
          2.0599109431925533,
          2.0599109431925533,
          2.0599109431925533
         ],
         "yaxis": "y"
        }
       ],
       "layout": {
        "font": {
         "family": "Lato, sans-serif",
         "size": 14
        },
        "height": 400,
        "hoverlabel": {
         "font": {
          "family": "Lato, sans-serif",
          "size": 13
         }
        },
        "hovermode": "y unified",
        "legend": {
         "orientation": "h",
         "x": 0.5,
         "xanchor": "center",
         "y": 1,
         "yanchor": "bottom"
        },
        "margin": {
         "b": 0,
         "l": 70,
         "r": 40,
         "t": 20
        },
        "paper_bgcolor": "rgba(0,0,0,0)",
        "plot_bgcolor": "rgba(0,0,0,0)",
        "template": {
         "data": {
          "bar": [
           {
            "error_x": {
             "color": "rgb(36,36,36)"
            },
            "error_y": {
             "color": "rgb(36,36,36)"
            },
            "marker": {
             "line": {
              "color": "white",
              "width": 0.5
             },
             "pattern": {
              "fillmode": "overlay",
              "size": 10,
              "solidity": 0.2
             }
            },
            "type": "bar"
           }
          ],
          "barpolar": [
           {
            "marker": {
             "line": {
              "color": "white",
              "width": 0.5
             },
             "pattern": {
              "fillmode": "overlay",
              "size": 10,
              "solidity": 0.2
             }
            },
            "type": "barpolar"
           }
          ],
          "carpet": [
           {
            "aaxis": {
             "endlinecolor": "rgb(36,36,36)",
             "gridcolor": "white",
             "linecolor": "white",
             "minorgridcolor": "white",
             "startlinecolor": "rgb(36,36,36)"
            },
            "baxis": {
             "endlinecolor": "rgb(36,36,36)",
             "gridcolor": "white",
             "linecolor": "white",
             "minorgridcolor": "white",
             "startlinecolor": "rgb(36,36,36)"
            },
            "type": "carpet"
           }
          ],
          "choropleth": [
           {
            "colorbar": {
             "outlinewidth": 1,
             "tickcolor": "rgb(36,36,36)",
             "ticks": "outside"
            },
            "type": "choropleth"
           }
          ],
          "contour": [
           {
            "colorbar": {
             "outlinewidth": 1,
             "tickcolor": "rgb(36,36,36)",
             "ticks": "outside"
            },
            "colorscale": [
             [
              0,
              "#440154"
             ],
             [
              0.1111111111111111,
              "#482878"
             ],
             [
              0.2222222222222222,
              "#3e4989"
             ],
             [
              0.3333333333333333,
              "#31688e"
             ],
             [
              0.4444444444444444,
              "#26828e"
             ],
             [
              0.5555555555555556,
              "#1f9e89"
             ],
             [
              0.6666666666666666,
              "#35b779"
             ],
             [
              0.7777777777777778,
              "#6ece58"
             ],
             [
              0.8888888888888888,
              "#b5de2b"
             ],
             [
              1,
              "#fde725"
             ]
            ],
            "type": "contour"
           }
          ],
          "contourcarpet": [
           {
            "colorbar": {
             "outlinewidth": 1,
             "tickcolor": "rgb(36,36,36)",
             "ticks": "outside"
            },
            "type": "contourcarpet"
           }
          ],
          "heatmap": [
           {
            "colorbar": {
             "outlinewidth": 1,
             "tickcolor": "rgb(36,36,36)",
             "ticks": "outside"
            },
            "colorscale": [
             [
              0,
              "#440154"
             ],
             [
              0.1111111111111111,
              "#482878"
             ],
             [
              0.2222222222222222,
              "#3e4989"
             ],
             [
              0.3333333333333333,
              "#31688e"
             ],
             [
              0.4444444444444444,
              "#26828e"
             ],
             [
              0.5555555555555556,
              "#1f9e89"
             ],
             [
              0.6666666666666666,
              "#35b779"
             ],
             [
              0.7777777777777778,
              "#6ece58"
             ],
             [
              0.8888888888888888,
              "#b5de2b"
             ],
             [
              1,
              "#fde725"
             ]
            ],
            "type": "heatmap"
           }
          ],
          "heatmapgl": [
           {
            "colorbar": {
             "outlinewidth": 1,
             "tickcolor": "rgb(36,36,36)",
             "ticks": "outside"
            },
            "colorscale": [
             [
              0,
              "#440154"
             ],
             [
              0.1111111111111111,
              "#482878"
             ],
             [
              0.2222222222222222,
              "#3e4989"
             ],
             [
              0.3333333333333333,
              "#31688e"
             ],
             [
              0.4444444444444444,
              "#26828e"
             ],
             [
              0.5555555555555556,
              "#1f9e89"
             ],
             [
              0.6666666666666666,
              "#35b779"
             ],
             [
              0.7777777777777778,
              "#6ece58"
             ],
             [
              0.8888888888888888,
              "#b5de2b"
             ],
             [
              1,
              "#fde725"
             ]
            ],
            "type": "heatmapgl"
           }
          ],
          "histogram": [
           {
            "marker": {
             "line": {
              "color": "white",
              "width": 0.6
             }
            },
            "type": "histogram"
           }
          ],
          "histogram2d": [
           {
            "colorbar": {
             "outlinewidth": 1,
             "tickcolor": "rgb(36,36,36)",
             "ticks": "outside"
            },
            "colorscale": [
             [
              0,
              "#440154"
             ],
             [
              0.1111111111111111,
              "#482878"
             ],
             [
              0.2222222222222222,
              "#3e4989"
             ],
             [
              0.3333333333333333,
              "#31688e"
             ],
             [
              0.4444444444444444,
              "#26828e"
             ],
             [
              0.5555555555555556,
              "#1f9e89"
             ],
             [
              0.6666666666666666,
              "#35b779"
             ],
             [
              0.7777777777777778,
              "#6ece58"
             ],
             [
              0.8888888888888888,
              "#b5de2b"
             ],
             [
              1,
              "#fde725"
             ]
            ],
            "type": "histogram2d"
           }
          ],
          "histogram2dcontour": [
           {
            "colorbar": {
             "outlinewidth": 1,
             "tickcolor": "rgb(36,36,36)",
             "ticks": "outside"
            },
            "colorscale": [
             [
              0,
              "#440154"
             ],
             [
              0.1111111111111111,
              "#482878"
             ],
             [
              0.2222222222222222,
              "#3e4989"
             ],
             [
              0.3333333333333333,
              "#31688e"
             ],
             [
              0.4444444444444444,
              "#26828e"
             ],
             [
              0.5555555555555556,
              "#1f9e89"
             ],
             [
              0.6666666666666666,
              "#35b779"
             ],
             [
              0.7777777777777778,
              "#6ece58"
             ],
             [
              0.8888888888888888,
              "#b5de2b"
             ],
             [
              1,
              "#fde725"
             ]
            ],
            "type": "histogram2dcontour"
           }
          ],
          "mesh3d": [
           {
            "colorbar": {
             "outlinewidth": 1,
             "tickcolor": "rgb(36,36,36)",
             "ticks": "outside"
            },
            "type": "mesh3d"
           }
          ],
          "parcoords": [
           {
            "line": {
             "colorbar": {
              "outlinewidth": 1,
              "tickcolor": "rgb(36,36,36)",
              "ticks": "outside"
             }
            },
            "type": "parcoords"
           }
          ],
          "pie": [
           {
            "automargin": true,
            "type": "pie"
           }
          ],
          "scatter": [
           {
            "fillpattern": {
             "fillmode": "overlay",
             "size": 10,
             "solidity": 0.2
            },
            "type": "scatter"
           }
          ],
          "scatter3d": [
           {
            "line": {
             "colorbar": {
              "outlinewidth": 1,
              "tickcolor": "rgb(36,36,36)",
              "ticks": "outside"
             }
            },
            "marker": {
             "colorbar": {
              "outlinewidth": 1,
              "tickcolor": "rgb(36,36,36)",
              "ticks": "outside"
             }
            },
            "type": "scatter3d"
           }
          ],
          "scattercarpet": [
           {
            "marker": {
             "colorbar": {
              "outlinewidth": 1,
              "tickcolor": "rgb(36,36,36)",
              "ticks": "outside"
             }
            },
            "type": "scattercarpet"
           }
          ],
          "scattergeo": [
           {
            "marker": {
             "colorbar": {
              "outlinewidth": 1,
              "tickcolor": "rgb(36,36,36)",
              "ticks": "outside"
             }
            },
            "type": "scattergeo"
           }
          ],
          "scattergl": [
           {
            "marker": {
             "colorbar": {
              "outlinewidth": 1,
              "tickcolor": "rgb(36,36,36)",
              "ticks": "outside"
             }
            },
            "type": "scattergl"
           }
          ],
          "scattermapbox": [
           {
            "marker": {
             "colorbar": {
              "outlinewidth": 1,
              "tickcolor": "rgb(36,36,36)",
              "ticks": "outside"
             }
            },
            "type": "scattermapbox"
           }
          ],
          "scatterpolar": [
           {
            "marker": {
             "colorbar": {
              "outlinewidth": 1,
              "tickcolor": "rgb(36,36,36)",
              "ticks": "outside"
             }
            },
            "type": "scatterpolar"
           }
          ],
          "scatterpolargl": [
           {
            "marker": {
             "colorbar": {
              "outlinewidth": 1,
              "tickcolor": "rgb(36,36,36)",
              "ticks": "outside"
             }
            },
            "type": "scatterpolargl"
           }
          ],
          "scatterternary": [
           {
            "marker": {
             "colorbar": {
              "outlinewidth": 1,
              "tickcolor": "rgb(36,36,36)",
              "ticks": "outside"
             }
            },
            "type": "scatterternary"
           }
          ],
          "surface": [
           {
            "colorbar": {
             "outlinewidth": 1,
             "tickcolor": "rgb(36,36,36)",
             "ticks": "outside"
            },
            "colorscale": [
             [
              0,
              "#440154"
             ],
             [
              0.1111111111111111,
              "#482878"
             ],
             [
              0.2222222222222222,
              "#3e4989"
             ],
             [
              0.3333333333333333,
              "#31688e"
             ],
             [
              0.4444444444444444,
              "#26828e"
             ],
             [
              0.5555555555555556,
              "#1f9e89"
             ],
             [
              0.6666666666666666,
              "#35b779"
             ],
             [
              0.7777777777777778,
              "#6ece58"
             ],
             [
              0.8888888888888888,
              "#b5de2b"
             ],
             [
              1,
              "#fde725"
             ]
            ],
            "type": "surface"
           }
          ],
          "table": [
           {
            "cells": {
             "fill": {
              "color": "rgb(237,237,237)"
             },
             "line": {
              "color": "white"
             }
            },
            "header": {
             "fill": {
              "color": "rgb(217,217,217)"
             },
             "line": {
              "color": "white"
             }
            },
            "type": "table"
           }
          ]
         },
         "layout": {
          "annotationdefaults": {
           "arrowhead": 0,
           "arrowwidth": 1
          },
          "autotypenumbers": "strict",
          "coloraxis": {
           "colorbar": {
            "outlinewidth": 1,
            "tickcolor": "rgb(36,36,36)",
            "ticks": "outside"
           }
          },
          "colorscale": {
           "diverging": [
            [
             0,
             "rgb(103,0,31)"
            ],
            [
             0.1,
             "rgb(178,24,43)"
            ],
            [
             0.2,
             "rgb(214,96,77)"
            ],
            [
             0.3,
             "rgb(244,165,130)"
            ],
            [
             0.4,
             "rgb(253,219,199)"
            ],
            [
             0.5,
             "rgb(247,247,247)"
            ],
            [
             0.6,
             "rgb(209,229,240)"
            ],
            [
             0.7,
             "rgb(146,197,222)"
            ],
            [
             0.8,
             "rgb(67,147,195)"
            ],
            [
             0.9,
             "rgb(33,102,172)"
            ],
            [
             1,
             "rgb(5,48,97)"
            ]
           ],
           "sequential": [
            [
             0,
             "#440154"
            ],
            [
             0.1111111111111111,
             "#482878"
            ],
            [
             0.2222222222222222,
             "#3e4989"
            ],
            [
             0.3333333333333333,
             "#31688e"
            ],
            [
             0.4444444444444444,
             "#26828e"
            ],
            [
             0.5555555555555556,
             "#1f9e89"
            ],
            [
             0.6666666666666666,
             "#35b779"
            ],
            [
             0.7777777777777778,
             "#6ece58"
            ],
            [
             0.8888888888888888,
             "#b5de2b"
            ],
            [
             1,
             "#fde725"
            ]
           ],
           "sequentialminus": [
            [
             0,
             "#440154"
            ],
            [
             0.1111111111111111,
             "#482878"
            ],
            [
             0.2222222222222222,
             "#3e4989"
            ],
            [
             0.3333333333333333,
             "#31688e"
            ],
            [
             0.4444444444444444,
             "#26828e"
            ],
            [
             0.5555555555555556,
             "#1f9e89"
            ],
            [
             0.6666666666666666,
             "#35b779"
            ],
            [
             0.7777777777777778,
             "#6ece58"
            ],
            [
             0.8888888888888888,
             "#b5de2b"
            ],
            [
             1,
             "#fde725"
            ]
           ]
          },
          "colorway": [
           "#1F77B4",
           "#FF7F0E",
           "#2CA02C",
           "#D62728",
           "#9467BD",
           "#8C564B",
           "#E377C2",
           "#7F7F7F",
           "#BCBD22",
           "#17BECF"
          ],
          "font": {
           "color": "rgb(36,36,36)"
          },
          "geo": {
           "bgcolor": "white",
           "lakecolor": "white",
           "landcolor": "white",
           "showlakes": true,
           "showland": true,
           "subunitcolor": "white"
          },
          "hoverlabel": {
           "align": "left"
          },
          "hovermode": "closest",
          "mapbox": {
           "style": "light"
          },
          "paper_bgcolor": "white",
          "plot_bgcolor": "white",
          "polar": {
           "angularaxis": {
            "gridcolor": "rgb(232,232,232)",
            "linecolor": "rgb(36,36,36)",
            "showgrid": false,
            "showline": true,
            "ticks": "outside"
           },
           "bgcolor": "white",
           "radialaxis": {
            "gridcolor": "rgb(232,232,232)",
            "linecolor": "rgb(36,36,36)",
            "showgrid": false,
            "showline": true,
            "ticks": "outside"
           }
          },
          "scene": {
           "xaxis": {
            "backgroundcolor": "white",
            "gridcolor": "rgb(232,232,232)",
            "gridwidth": 2,
            "linecolor": "rgb(36,36,36)",
            "showbackground": true,
            "showgrid": false,
            "showline": true,
            "ticks": "outside",
            "zeroline": false,
            "zerolinecolor": "rgb(36,36,36)"
           },
           "yaxis": {
            "backgroundcolor": "white",
            "gridcolor": "rgb(232,232,232)",
            "gridwidth": 2,
            "linecolor": "rgb(36,36,36)",
            "showbackground": true,
            "showgrid": false,
            "showline": true,
            "ticks": "outside",
            "zeroline": false,
            "zerolinecolor": "rgb(36,36,36)"
           },
           "zaxis": {
            "backgroundcolor": "white",
            "gridcolor": "rgb(232,232,232)",
            "gridwidth": 2,
            "linecolor": "rgb(36,36,36)",
            "showbackground": true,
            "showgrid": false,
            "showline": true,
            "ticks": "outside",
            "zeroline": false,
            "zerolinecolor": "rgb(36,36,36)"
           }
          },
          "shapedefaults": {
           "fillcolor": "black",
           "line": {
            "width": 0
           },
           "opacity": 0.3
          },
          "ternary": {
           "aaxis": {
            "gridcolor": "rgb(232,232,232)",
            "linecolor": "rgb(36,36,36)",
            "showgrid": false,
            "showline": true,
            "ticks": "outside"
           },
           "baxis": {
            "gridcolor": "rgb(232,232,232)",
            "linecolor": "rgb(36,36,36)",
            "showgrid": false,
            "showline": true,
            "ticks": "outside"
           },
           "bgcolor": "white",
           "caxis": {
            "gridcolor": "rgb(232,232,232)",
            "linecolor": "rgb(36,36,36)",
            "showgrid": false,
            "showline": true,
            "ticks": "outside"
           }
          },
          "title": {
           "x": 0.05
          },
          "xaxis": {
           "automargin": true,
           "gridcolor": "rgb(232,232,232)",
           "linecolor": "rgb(36,36,36)",
           "showgrid": false,
           "showline": true,
           "ticks": "outside",
           "title": {
            "standoff": 15
           },
           "zeroline": false,
           "zerolinecolor": "rgb(36,36,36)"
          },
          "yaxis": {
           "automargin": true,
           "gridcolor": "rgb(232,232,232)",
           "linecolor": "rgb(36,36,36)",
           "showgrid": false,
           "showline": true,
           "ticks": "outside",
           "title": {
            "standoff": 15
           },
           "zeroline": false,
           "zerolinecolor": "rgb(36,36,36)"
          }
         }
        },
        "width": 600,
        "xaxis": {
         "dtick": 1,
         "title": {
          "text": "Safety"
         }
        },
        "yaxis": {
         "ticksuffix": "",
         "title": {
          "text": "Right Rotations"
         }
        }
       }
      }
     },
     "metadata": {},
     "output_type": "display_data"
    },
    {
     "data": {
      "application/vnd.plotly.v1+json": {
       "config": {
        "plotlyServerURL": "https://plot.ly"
       },
       "data": [
        {
         "marker": {
          "color": "#000000"
         },
         "mode": "markers",
         "name": "Safety X Left Angles",
         "showlegend": false,
         "type": "scatter",
         "x": [
          3,
          3,
          3,
          3,
          3,
          3,
          3,
          3,
          3,
          3,
          3,
          3,
          3,
          3,
          3,
          3,
          3,
          3,
          3,
          3,
          3,
          3,
          3,
          4,
          4,
          4,
          4,
          4,
          4,
          4,
          4,
          4,
          4,
          5,
          5,
          5,
          5,
          5,
          5,
          5,
          5,
          5,
          5,
          5,
          5,
          5,
          5,
          5,
          5,
          5,
          5,
          5,
          5,
          5,
          5,
          5,
          5,
          5,
          5,
          5,
          5,
          5,
          5,
          5,
          5,
          5,
          5,
          4,
          4,
          4,
          5,
          5,
          5,
          5,
          5,
          5,
          5,
          5,
          5,
          5,
          5,
          5,
          5,
          5,
          5,
          5,
          5,
          5,
          5,
          5,
          5,
          5,
          5,
          4,
          4,
          4,
          2,
          2,
          4,
          4,
          4,
          4,
          4,
          4,
          4,
          4,
          4,
          4,
          4,
          4,
          4,
          4,
          4,
          4,
          4,
          4,
          4,
          4,
          4,
          4,
          4,
          4,
          4,
          4,
          4,
          4,
          4,
          4,
          4,
          3,
          3,
          3,
          3,
          3,
          3,
          3,
          3,
          3,
          3,
          3,
          3,
          3,
          3,
          3,
          3,
          3,
          3,
          3,
          3,
          3,
          3,
          3,
          3,
          3,
          3,
          3,
          3,
          3,
          3,
          3,
          3,
          3,
          3,
          3,
          3,
          3,
          4,
          4,
          4,
          4,
          4,
          4,
          3,
          3,
          3,
          3,
          3,
          3,
          3,
          3,
          3,
          3,
          3,
          3,
          3,
          3,
          3,
          3,
          3,
          3,
          3,
          3,
          3,
          3,
          3,
          3,
          3,
          3,
          3,
          3,
          4,
          4,
          4,
          4,
          4,
          4,
          4,
          4,
          4,
          4,
          3,
          3,
          3,
          4,
          4,
          4,
          4,
          4,
          4,
          4,
          4,
          4,
          4,
          4,
          4,
          4,
          4,
          4,
          4,
          4,
          4,
          4,
          4,
          4,
          4,
          4,
          4,
          4,
          4,
          5,
          5,
          5,
          5,
          5,
          5,
          5,
          5,
          5,
          5,
          5,
          5,
          5,
          5,
          5,
          5,
          5,
          5,
          5,
          5,
          5,
          5,
          5,
          5,
          5,
          5,
          5,
          5,
          5,
          5,
          5,
          5,
          5,
          5,
          5,
          5,
          5,
          5,
          5,
          5,
          5,
          5,
          5,
          5,
          5,
          5,
          5,
          5,
          5,
          5,
          5,
          5,
          5,
          5,
          5,
          5,
          5,
          5,
          5,
          5,
          5,
          5,
          5,
          5,
          5,
          5,
          5,
          5,
          5,
          5,
          5,
          5,
          5,
          5
         ],
         "y": [
          -47.666526794433594,
          -21.484336853027344,
          -52.08001708984375,
          -44.17696762084961,
          -40.55561828613281,
          0.030233843252062798,
          11.208019256591797,
          -44.64515686035156,
          19.494455337524414,
          -6.3136210441589355,
          -21.19561767578125,
          -22.651601791381836,
          -43.18262481689453,
          -67.28480529785156,
          -67.14232635498047,
          -87.30918884277344,
          -72.42951965332031,
          -70.80634307861328,
          -70.86859130859375,
          -107.44425964355469,
          -117.33729553222656,
          -43.293678283691406,
          -57.349266052246094,
          -98.76146697998047,
          -88.41048431396484,
          -93.32574462890625,
          -47.709495544433594,
          -49.77845764160156,
          -6.747420787811279,
          -17.066957473754883,
          -42.66351318359375,
          -49.29237365722656,
          -3.592883348464966,
          -69.60320281982422,
          -27.80133819580078,
          -7.810462474822998,
          -46.92949295043945,
          -24.746618270874023,
          11.110490798950195,
          -88.69931030273438,
          -23.954275131225586,
          0.056504152715206146,
          -23.72650146484375,
          -37.90719985961914,
          -42.93614196777344,
          -36.72073745727539,
          -30.46440315246582,
          -31.06214141845703,
          -60.56392288208008,
          -26.677549362182617,
          -40.79499053955078,
          10.83975887298584,
          -47.43341827392578,
          -57.33213806152344,
          -57.729888916015625,
          -72.64678955078125,
          -66.55276489257812,
          -64.12899017333984,
          -63.40641403198242,
          -25.382492065429688,
          -55.836307525634766,
          -8.11599063873291,
          -37.49431610107422,
          -59.1222038269043,
          -48.7518424987793,
          -70.91096496582031,
          -56.6480712890625,
          -74.47863006591797,
          1.3156938552856445,
          -39.9722785949707,
          -14.421642303466797,
          -76.22904968261719,
          -36.36790466308594,
          -3.573413610458374,
          -30.800867080688477,
          3.8067100048065186,
          -9.751428604125977,
          -42.472530364990234,
          -79.26457977294922,
          -24.1875,
          -62.70814895629883,
          -76.25226593017578,
          -93.99514770507812,
          -23.2946834564209,
          -62.31448745727539,
          -72.19010162353516,
          14.038477897644043,
          -13.492558479309082,
          -46.059051513671875,
          -35.68299102783203,
          -62.874351501464844,
          -32.49879837036133,
          -47.78541946411133,
          -49.19326400756836,
          -22.68629264831543,
          -53.7322998046875,
          -79.10801696777344,
          -100.48797607421875,
          3.999875068664551,
          -36.07480239868164,
          5.554980278015137,
          -12.615080833435059,
          -5.8006205558776855,
          -42.35624694824219,
          0.925977885723114,
          -126.48091125488281,
          -52.749847412109375,
          -64.84943389892578,
          -45.4056396484375,
          -21.288436889648438,
          -27.635095596313477,
          18.967451095581055,
          -76.70243072509766,
          -98.96235656738281,
          -36.03885269165039,
          -15.000401496887207,
          18.21295928955078,
          -53.45205307006836,
          -89.00562286376953,
          -2.2601568698883057,
          -37.99697494506836,
          -100.37846374511719,
          -102.0451431274414,
          9.439838409423828,
          -69.77191925048828,
          6.187804698944092,
          -39.31749725341797,
          -52.31996536254883,
          -53.26644515991211,
          -61.03288269042969,
          -78.63274383544922,
          -11.48770523071289,
          -16.666423797607422,
          -2.704305648803711,
          -61.21343231201172,
          15.936623573303223,
          11.364770889282227,
          -70.42141723632812,
          6.241062641143799,
          -96.12755584716797,
          -62.08799743652344,
          -9.053289413452148,
          -39.28007888793945,
          4.375420093536377,
          -38.80401611328125,
          -7.527509689331055,
          -13.956463813781738,
          -102.31486511230469,
          9.002178192138672,
          3.7069575786590576,
          -1.2619194984436035,
          -62.94279861450195,
          -26.000810623168945,
          5.853392601013184,
          19.218812942504883,
          -60.798038482666016,
          -40.47431564331055,
          -38.455780029296875,
          -49.93796920776367,
          -52.29314041137695,
          -0.7420507669448853,
          -21.029985427856445,
          18.202098846435547,
          -7.293451309204102,
          -26.969722747802734,
          -62.361602783203125,
          -6.733705520629883,
          17.174423217773438,
          0.7448379993438721,
          -45.74385070800781,
          -37.851051330566406,
          -84.78738403320312,
          -63.29587936401367,
          16.291959762573242,
          -20.440696716308594,
          -31.895008087158203,
          -14.816988945007324,
          -26.515199661254883,
          -18.372404098510742,
          -36.640804290771484,
          -32.765380859375,
          -36.01387023925781,
          -13.271905899047852,
          17.36100196838379,
          -42.11653137207031,
          4.234806060791016,
          -39.559383392333984,
          -23.765403747558594,
          -84.98915100097656,
          -56.47740936279297,
          -63.06930923461914,
          -46.16357421875,
          10.695073127746582,
          19.67763328552246,
          -14.193706512451172,
          -58.11908721923828,
          -45.25000762939453,
          -39.59261703491211,
          -12.513779640197754,
          -68.0080795288086,
          -29.410398483276367,
          -96.25011444091797,
          18.06802749633789,
          -38.40529251098633,
          -2.5891103744506836,
          -55.020633697509766,
          -30.85947608947754,
          -36.37262725830078,
          -15.443717956542969,
          -50.84975051879883,
          -80.93260955810547,
          -88.94500732421875,
          -22.3696346282959,
          -43.628562927246094,
          1.6786779165267944,
          -33.33858871459961,
          -18.64057731628418,
          -10.614986419677734,
          -6.394985198974609,
          2.3585028648376465,
          -56.813316345214844,
          -8.856441497802734,
          -20.200359344482422,
          -80.74800872802734,
          -34.561317443847656,
          -48.28153991699219,
          -5.619624137878418,
          -50.33646774291992,
          -51.195770263671875,
          -51.6278190612793,
          -47.11191940307617,
          -50.45098114013672,
          -43.53103256225586,
          -45.32652282714844,
          -26.398746490478516,
          -87.34780883789062,
          -6.849315166473389,
          -106.83561706542969,
          -56.384029388427734,
          -90.17524719238281,
          -33.84953308105469,
          -72.91547393798828,
          -52.58467483520508,
          -80.13521575927734,
          -32.24687576293945,
          -9.215455055236816,
          -87.40037536621094,
          -77.57595825195312,
          -6.1892571449279785,
          -57.91930389404297,
          -64.29418182373047,
          -76.22150421142578,
          -0.6950284838676453,
          -12.994169235229492,
          -26.938671112060547,
          -95.06999969482422,
          -36.20745849609375,
          3.831845998764038,
          -4.478933334350586,
          -91.92755126953125,
          -11.82938289642334,
          -94.32137298583984,
          -49.935020446777344,
          -62.46355438232422,
          -63.03584671020508,
          -60.569190979003906,
          -67.6316909790039,
          -93.4038314819336,
          -59.0208625793457,
          -73.7621841430664,
          -92.2616958618164,
          -71.10051727294922,
          -16.75372314453125,
          -57.787776947021484,
          -63.193668365478516,
          -47.05863571166992,
          -83.78319549560547,
          -51.811283111572266,
          14.962462425231934,
          -51.14552688598633,
          -29.56390380859375,
          9.438980102539062,
          -58.85171127319336,
          18.211641311645508,
          -46.6821174621582,
          -47.7024040222168,
          -123.4444580078125,
          -36.532310485839844,
          -113.36212158203125,
          -87.66224670410156,
          -5.409582614898682,
          -79.4736328125,
          11.05355167388916,
          15.97214126586914,
          -69.27359771728516,
          -98.14337158203125,
          -32.20651626586914,
          -21.84103012084961,
          -80.16746520996094,
          -87.07392120361328,
          -13.356024742126465,
          -70.31099700927734,
          -103.50304412841797,
          13.040742874145508,
          12.276388168334961,
          -71.31498718261719,
          -20.710725784301758,
          -65.7237319946289,
          -17.0720157623291,
          -25.51755714416504,
          -99.66796112060547,
          5.475353717803955,
          -24.24735450744629
         ]
        },
        {
         "hovertemplate": "<b>OLS trendline</b><br>y = -4.41108 * x + -22.208<br>R<sup>2</sup>=0.012688<br><br>x=%{x}<br>y=%{y} <b>(trend)</b><extra></extra>",
         "legendgroup": "",
         "marker": {
          "color": "#961C26",
          "symbol": "circle"
         },
         "mode": "lines",
         "name": "",
         "showlegend": false,
         "type": "scatter",
         "x": [
          2,
          2,
          3,
          3,
          3,
          3,
          3,
          3,
          3,
          3,
          3,
          3,
          3,
          3,
          3,
          3,
          3,
          3,
          3,
          3,
          3,
          3,
          3,
          3,
          3,
          3,
          3,
          3,
          3,
          3,
          3,
          3,
          3,
          3,
          3,
          3,
          3,
          3,
          3,
          3,
          3,
          3,
          3,
          3,
          3,
          3,
          3,
          3,
          3,
          3,
          3,
          3,
          3,
          3,
          3,
          3,
          3,
          3,
          3,
          3,
          3,
          3,
          3,
          3,
          3,
          3,
          3,
          3,
          3,
          3,
          3,
          3,
          3,
          3,
          3,
          3,
          3,
          3,
          3,
          3,
          3,
          3,
          3,
          3,
          3,
          3,
          3,
          3,
          3,
          3,
          3,
          3,
          3,
          4,
          4,
          4,
          4,
          4,
          4,
          4,
          4,
          4,
          4,
          4,
          4,
          4,
          4,
          4,
          4,
          4,
          4,
          4,
          4,
          4,
          4,
          4,
          4,
          4,
          4,
          4,
          4,
          4,
          4,
          4,
          4,
          4,
          4,
          4,
          4,
          4,
          4,
          4,
          4,
          4,
          4,
          4,
          4,
          4,
          4,
          4,
          4,
          4,
          4,
          4,
          4,
          4,
          4,
          4,
          4,
          4,
          4,
          4,
          4,
          4,
          4,
          4,
          4,
          4,
          4,
          4,
          4,
          4,
          4,
          4,
          4,
          4,
          4,
          4,
          4,
          4,
          4,
          4,
          4,
          4,
          4,
          4,
          4,
          4,
          4,
          4,
          4,
          4,
          5,
          5,
          5,
          5,
          5,
          5,
          5,
          5,
          5,
          5,
          5,
          5,
          5,
          5,
          5,
          5,
          5,
          5,
          5,
          5,
          5,
          5,
          5,
          5,
          5,
          5,
          5,
          5,
          5,
          5,
          5,
          5,
          5,
          5,
          5,
          5,
          5,
          5,
          5,
          5,
          5,
          5,
          5,
          5,
          5,
          5,
          5,
          5,
          5,
          5,
          5,
          5,
          5,
          5,
          5,
          5,
          5,
          5,
          5,
          5,
          5,
          5,
          5,
          5,
          5,
          5,
          5,
          5,
          5,
          5,
          5,
          5,
          5,
          5,
          5,
          5,
          5,
          5,
          5,
          5,
          5,
          5,
          5,
          5,
          5,
          5,
          5,
          5,
          5,
          5,
          5,
          5,
          5,
          5,
          5,
          5,
          5,
          5,
          5,
          5,
          5,
          5,
          5,
          5,
          5,
          5,
          5,
          5,
          5,
          5,
          5,
          5,
          5,
          5,
          5,
          5,
          5,
          5,
          5,
          5,
          5,
          5,
          5,
          5,
          5,
          5,
          5,
          5,
          5,
          5,
          5
         ],
         "xaxis": "x",
         "y": [
          -31.030124378841222,
          -31.030124378841222,
          -35.44120498532213,
          -35.44120498532213,
          -35.44120498532213,
          -35.44120498532213,
          -35.44120498532213,
          -35.44120498532213,
          -35.44120498532213,
          -35.44120498532213,
          -35.44120498532213,
          -35.44120498532213,
          -35.44120498532213,
          -35.44120498532213,
          -35.44120498532213,
          -35.44120498532213,
          -35.44120498532213,
          -35.44120498532213,
          -35.44120498532213,
          -35.44120498532213,
          -35.44120498532213,
          -35.44120498532213,
          -35.44120498532213,
          -35.44120498532213,
          -35.44120498532213,
          -35.44120498532213,
          -35.44120498532213,
          -35.44120498532213,
          -35.44120498532213,
          -35.44120498532213,
          -35.44120498532213,
          -35.44120498532213,
          -35.44120498532213,
          -35.44120498532213,
          -35.44120498532213,
          -35.44120498532213,
          -35.44120498532213,
          -35.44120498532213,
          -35.44120498532213,
          -35.44120498532213,
          -35.44120498532213,
          -35.44120498532213,
          -35.44120498532213,
          -35.44120498532213,
          -35.44120498532213,
          -35.44120498532213,
          -35.44120498532213,
          -35.44120498532213,
          -35.44120498532213,
          -35.44120498532213,
          -35.44120498532213,
          -35.44120498532213,
          -35.44120498532213,
          -35.44120498532213,
          -35.44120498532213,
          -35.44120498532213,
          -35.44120498532213,
          -35.44120498532213,
          -35.44120498532213,
          -35.44120498532213,
          -35.44120498532213,
          -35.44120498532213,
          -35.44120498532213,
          -35.44120498532213,
          -35.44120498532213,
          -35.44120498532213,
          -35.44120498532213,
          -35.44120498532213,
          -35.44120498532213,
          -35.44120498532213,
          -35.44120498532213,
          -35.44120498532213,
          -35.44120498532213,
          -35.44120498532213,
          -35.44120498532213,
          -35.44120498532213,
          -35.44120498532213,
          -35.44120498532213,
          -35.44120498532213,
          -35.44120498532213,
          -35.44120498532213,
          -35.44120498532213,
          -35.44120498532213,
          -35.44120498532213,
          -35.44120498532213,
          -35.44120498532213,
          -35.44120498532213,
          -35.44120498532213,
          -35.44120498532213,
          -35.44120498532213,
          -35.44120498532213,
          -35.44120498532213,
          -35.44120498532213,
          -39.85228559180304,
          -39.85228559180304,
          -39.85228559180304,
          -39.85228559180304,
          -39.85228559180304,
          -39.85228559180304,
          -39.85228559180304,
          -39.85228559180304,
          -39.85228559180304,
          -39.85228559180304,
          -39.85228559180304,
          -39.85228559180304,
          -39.85228559180304,
          -39.85228559180304,
          -39.85228559180304,
          -39.85228559180304,
          -39.85228559180304,
          -39.85228559180304,
          -39.85228559180304,
          -39.85228559180304,
          -39.85228559180304,
          -39.85228559180304,
          -39.85228559180304,
          -39.85228559180304,
          -39.85228559180304,
          -39.85228559180304,
          -39.85228559180304,
          -39.85228559180304,
          -39.85228559180304,
          -39.85228559180304,
          -39.85228559180304,
          -39.85228559180304,
          -39.85228559180304,
          -39.85228559180304,
          -39.85228559180304,
          -39.85228559180304,
          -39.85228559180304,
          -39.85228559180304,
          -39.85228559180304,
          -39.85228559180304,
          -39.85228559180304,
          -39.85228559180304,
          -39.85228559180304,
          -39.85228559180304,
          -39.85228559180304,
          -39.85228559180304,
          -39.85228559180304,
          -39.85228559180304,
          -39.85228559180304,
          -39.85228559180304,
          -39.85228559180304,
          -39.85228559180304,
          -39.85228559180304,
          -39.85228559180304,
          -39.85228559180304,
          -39.85228559180304,
          -39.85228559180304,
          -39.85228559180304,
          -39.85228559180304,
          -39.85228559180304,
          -39.85228559180304,
          -39.85228559180304,
          -39.85228559180304,
          -39.85228559180304,
          -39.85228559180304,
          -39.85228559180304,
          -39.85228559180304,
          -39.85228559180304,
          -39.85228559180304,
          -39.85228559180304,
          -39.85228559180304,
          -39.85228559180304,
          -39.85228559180304,
          -39.85228559180304,
          -39.85228559180304,
          -39.85228559180304,
          -39.85228559180304,
          -39.85228559180304,
          -39.85228559180304,
          -39.85228559180304,
          -39.85228559180304,
          -39.85228559180304,
          -39.85228559180304,
          -39.85228559180304,
          -39.85228559180304,
          -39.85228559180304,
          -39.85228559180304,
          -39.85228559180304,
          -39.85228559180304,
          -44.26336619828394,
          -44.26336619828394,
          -44.26336619828394,
          -44.26336619828394,
          -44.26336619828394,
          -44.26336619828394,
          -44.26336619828394,
          -44.26336619828394,
          -44.26336619828394,
          -44.26336619828394,
          -44.26336619828394,
          -44.26336619828394,
          -44.26336619828394,
          -44.26336619828394,
          -44.26336619828394,
          -44.26336619828394,
          -44.26336619828394,
          -44.26336619828394,
          -44.26336619828394,
          -44.26336619828394,
          -44.26336619828394,
          -44.26336619828394,
          -44.26336619828394,
          -44.26336619828394,
          -44.26336619828394,
          -44.26336619828394,
          -44.26336619828394,
          -44.26336619828394,
          -44.26336619828394,
          -44.26336619828394,
          -44.26336619828394,
          -44.26336619828394,
          -44.26336619828394,
          -44.26336619828394,
          -44.26336619828394,
          -44.26336619828394,
          -44.26336619828394,
          -44.26336619828394,
          -44.26336619828394,
          -44.26336619828394,
          -44.26336619828394,
          -44.26336619828394,
          -44.26336619828394,
          -44.26336619828394,
          -44.26336619828394,
          -44.26336619828394,
          -44.26336619828394,
          -44.26336619828394,
          -44.26336619828394,
          -44.26336619828394,
          -44.26336619828394,
          -44.26336619828394,
          -44.26336619828394,
          -44.26336619828394,
          -44.26336619828394,
          -44.26336619828394,
          -44.26336619828394,
          -44.26336619828394,
          -44.26336619828394,
          -44.26336619828394,
          -44.26336619828394,
          -44.26336619828394,
          -44.26336619828394,
          -44.26336619828394,
          -44.26336619828394,
          -44.26336619828394,
          -44.26336619828394,
          -44.26336619828394,
          -44.26336619828394,
          -44.26336619828394,
          -44.26336619828394,
          -44.26336619828394,
          -44.26336619828394,
          -44.26336619828394,
          -44.26336619828394,
          -44.26336619828394,
          -44.26336619828394,
          -44.26336619828394,
          -44.26336619828394,
          -44.26336619828394,
          -44.26336619828394,
          -44.26336619828394,
          -44.26336619828394,
          -44.26336619828394,
          -44.26336619828394,
          -44.26336619828394,
          -44.26336619828394,
          -44.26336619828394,
          -44.26336619828394,
          -44.26336619828394,
          -44.26336619828394,
          -44.26336619828394,
          -44.26336619828394,
          -44.26336619828394,
          -44.26336619828394,
          -44.26336619828394,
          -44.26336619828394,
          -44.26336619828394,
          -44.26336619828394,
          -44.26336619828394,
          -44.26336619828394,
          -44.26336619828394,
          -44.26336619828394,
          -44.26336619828394,
          -44.26336619828394,
          -44.26336619828394,
          -44.26336619828394,
          -44.26336619828394,
          -44.26336619828394,
          -44.26336619828394,
          -44.26336619828394,
          -44.26336619828394,
          -44.26336619828394,
          -44.26336619828394,
          -44.26336619828394,
          -44.26336619828394,
          -44.26336619828394,
          -44.26336619828394,
          -44.26336619828394,
          -44.26336619828394,
          -44.26336619828394,
          -44.26336619828394,
          -44.26336619828394,
          -44.26336619828394,
          -44.26336619828394,
          -44.26336619828394,
          -44.26336619828394,
          -44.26336619828394,
          -44.26336619828394,
          -44.26336619828394,
          -44.26336619828394
         ],
         "yaxis": "y"
        }
       ],
       "layout": {
        "font": {
         "family": "Lato, sans-serif",
         "size": 14
        },
        "height": 400,
        "hoverlabel": {
         "font": {
          "family": "Lato, sans-serif",
          "size": 13
         }
        },
        "hovermode": "y unified",
        "legend": {
         "orientation": "h",
         "x": 0.5,
         "xanchor": "center",
         "y": 1,
         "yanchor": "bottom"
        },
        "margin": {
         "b": 0,
         "l": 70,
         "r": 40,
         "t": 20
        },
        "paper_bgcolor": "rgba(0,0,0,0)",
        "plot_bgcolor": "rgba(0,0,0,0)",
        "template": {
         "data": {
          "bar": [
           {
            "error_x": {
             "color": "rgb(36,36,36)"
            },
            "error_y": {
             "color": "rgb(36,36,36)"
            },
            "marker": {
             "line": {
              "color": "white",
              "width": 0.5
             },
             "pattern": {
              "fillmode": "overlay",
              "size": 10,
              "solidity": 0.2
             }
            },
            "type": "bar"
           }
          ],
          "barpolar": [
           {
            "marker": {
             "line": {
              "color": "white",
              "width": 0.5
             },
             "pattern": {
              "fillmode": "overlay",
              "size": 10,
              "solidity": 0.2
             }
            },
            "type": "barpolar"
           }
          ],
          "carpet": [
           {
            "aaxis": {
             "endlinecolor": "rgb(36,36,36)",
             "gridcolor": "white",
             "linecolor": "white",
             "minorgridcolor": "white",
             "startlinecolor": "rgb(36,36,36)"
            },
            "baxis": {
             "endlinecolor": "rgb(36,36,36)",
             "gridcolor": "white",
             "linecolor": "white",
             "minorgridcolor": "white",
             "startlinecolor": "rgb(36,36,36)"
            },
            "type": "carpet"
           }
          ],
          "choropleth": [
           {
            "colorbar": {
             "outlinewidth": 1,
             "tickcolor": "rgb(36,36,36)",
             "ticks": "outside"
            },
            "type": "choropleth"
           }
          ],
          "contour": [
           {
            "colorbar": {
             "outlinewidth": 1,
             "tickcolor": "rgb(36,36,36)",
             "ticks": "outside"
            },
            "colorscale": [
             [
              0,
              "#440154"
             ],
             [
              0.1111111111111111,
              "#482878"
             ],
             [
              0.2222222222222222,
              "#3e4989"
             ],
             [
              0.3333333333333333,
              "#31688e"
             ],
             [
              0.4444444444444444,
              "#26828e"
             ],
             [
              0.5555555555555556,
              "#1f9e89"
             ],
             [
              0.6666666666666666,
              "#35b779"
             ],
             [
              0.7777777777777778,
              "#6ece58"
             ],
             [
              0.8888888888888888,
              "#b5de2b"
             ],
             [
              1,
              "#fde725"
             ]
            ],
            "type": "contour"
           }
          ],
          "contourcarpet": [
           {
            "colorbar": {
             "outlinewidth": 1,
             "tickcolor": "rgb(36,36,36)",
             "ticks": "outside"
            },
            "type": "contourcarpet"
           }
          ],
          "heatmap": [
           {
            "colorbar": {
             "outlinewidth": 1,
             "tickcolor": "rgb(36,36,36)",
             "ticks": "outside"
            },
            "colorscale": [
             [
              0,
              "#440154"
             ],
             [
              0.1111111111111111,
              "#482878"
             ],
             [
              0.2222222222222222,
              "#3e4989"
             ],
             [
              0.3333333333333333,
              "#31688e"
             ],
             [
              0.4444444444444444,
              "#26828e"
             ],
             [
              0.5555555555555556,
              "#1f9e89"
             ],
             [
              0.6666666666666666,
              "#35b779"
             ],
             [
              0.7777777777777778,
              "#6ece58"
             ],
             [
              0.8888888888888888,
              "#b5de2b"
             ],
             [
              1,
              "#fde725"
             ]
            ],
            "type": "heatmap"
           }
          ],
          "heatmapgl": [
           {
            "colorbar": {
             "outlinewidth": 1,
             "tickcolor": "rgb(36,36,36)",
             "ticks": "outside"
            },
            "colorscale": [
             [
              0,
              "#440154"
             ],
             [
              0.1111111111111111,
              "#482878"
             ],
             [
              0.2222222222222222,
              "#3e4989"
             ],
             [
              0.3333333333333333,
              "#31688e"
             ],
             [
              0.4444444444444444,
              "#26828e"
             ],
             [
              0.5555555555555556,
              "#1f9e89"
             ],
             [
              0.6666666666666666,
              "#35b779"
             ],
             [
              0.7777777777777778,
              "#6ece58"
             ],
             [
              0.8888888888888888,
              "#b5de2b"
             ],
             [
              1,
              "#fde725"
             ]
            ],
            "type": "heatmapgl"
           }
          ],
          "histogram": [
           {
            "marker": {
             "line": {
              "color": "white",
              "width": 0.6
             }
            },
            "type": "histogram"
           }
          ],
          "histogram2d": [
           {
            "colorbar": {
             "outlinewidth": 1,
             "tickcolor": "rgb(36,36,36)",
             "ticks": "outside"
            },
            "colorscale": [
             [
              0,
              "#440154"
             ],
             [
              0.1111111111111111,
              "#482878"
             ],
             [
              0.2222222222222222,
              "#3e4989"
             ],
             [
              0.3333333333333333,
              "#31688e"
             ],
             [
              0.4444444444444444,
              "#26828e"
             ],
             [
              0.5555555555555556,
              "#1f9e89"
             ],
             [
              0.6666666666666666,
              "#35b779"
             ],
             [
              0.7777777777777778,
              "#6ece58"
             ],
             [
              0.8888888888888888,
              "#b5de2b"
             ],
             [
              1,
              "#fde725"
             ]
            ],
            "type": "histogram2d"
           }
          ],
          "histogram2dcontour": [
           {
            "colorbar": {
             "outlinewidth": 1,
             "tickcolor": "rgb(36,36,36)",
             "ticks": "outside"
            },
            "colorscale": [
             [
              0,
              "#440154"
             ],
             [
              0.1111111111111111,
              "#482878"
             ],
             [
              0.2222222222222222,
              "#3e4989"
             ],
             [
              0.3333333333333333,
              "#31688e"
             ],
             [
              0.4444444444444444,
              "#26828e"
             ],
             [
              0.5555555555555556,
              "#1f9e89"
             ],
             [
              0.6666666666666666,
              "#35b779"
             ],
             [
              0.7777777777777778,
              "#6ece58"
             ],
             [
              0.8888888888888888,
              "#b5de2b"
             ],
             [
              1,
              "#fde725"
             ]
            ],
            "type": "histogram2dcontour"
           }
          ],
          "mesh3d": [
           {
            "colorbar": {
             "outlinewidth": 1,
             "tickcolor": "rgb(36,36,36)",
             "ticks": "outside"
            },
            "type": "mesh3d"
           }
          ],
          "parcoords": [
           {
            "line": {
             "colorbar": {
              "outlinewidth": 1,
              "tickcolor": "rgb(36,36,36)",
              "ticks": "outside"
             }
            },
            "type": "parcoords"
           }
          ],
          "pie": [
           {
            "automargin": true,
            "type": "pie"
           }
          ],
          "scatter": [
           {
            "fillpattern": {
             "fillmode": "overlay",
             "size": 10,
             "solidity": 0.2
            },
            "type": "scatter"
           }
          ],
          "scatter3d": [
           {
            "line": {
             "colorbar": {
              "outlinewidth": 1,
              "tickcolor": "rgb(36,36,36)",
              "ticks": "outside"
             }
            },
            "marker": {
             "colorbar": {
              "outlinewidth": 1,
              "tickcolor": "rgb(36,36,36)",
              "ticks": "outside"
             }
            },
            "type": "scatter3d"
           }
          ],
          "scattercarpet": [
           {
            "marker": {
             "colorbar": {
              "outlinewidth": 1,
              "tickcolor": "rgb(36,36,36)",
              "ticks": "outside"
             }
            },
            "type": "scattercarpet"
           }
          ],
          "scattergeo": [
           {
            "marker": {
             "colorbar": {
              "outlinewidth": 1,
              "tickcolor": "rgb(36,36,36)",
              "ticks": "outside"
             }
            },
            "type": "scattergeo"
           }
          ],
          "scattergl": [
           {
            "marker": {
             "colorbar": {
              "outlinewidth": 1,
              "tickcolor": "rgb(36,36,36)",
              "ticks": "outside"
             }
            },
            "type": "scattergl"
           }
          ],
          "scattermapbox": [
           {
            "marker": {
             "colorbar": {
              "outlinewidth": 1,
              "tickcolor": "rgb(36,36,36)",
              "ticks": "outside"
             }
            },
            "type": "scattermapbox"
           }
          ],
          "scatterpolar": [
           {
            "marker": {
             "colorbar": {
              "outlinewidth": 1,
              "tickcolor": "rgb(36,36,36)",
              "ticks": "outside"
             }
            },
            "type": "scatterpolar"
           }
          ],
          "scatterpolargl": [
           {
            "marker": {
             "colorbar": {
              "outlinewidth": 1,
              "tickcolor": "rgb(36,36,36)",
              "ticks": "outside"
             }
            },
            "type": "scatterpolargl"
           }
          ],
          "scatterternary": [
           {
            "marker": {
             "colorbar": {
              "outlinewidth": 1,
              "tickcolor": "rgb(36,36,36)",
              "ticks": "outside"
             }
            },
            "type": "scatterternary"
           }
          ],
          "surface": [
           {
            "colorbar": {
             "outlinewidth": 1,
             "tickcolor": "rgb(36,36,36)",
             "ticks": "outside"
            },
            "colorscale": [
             [
              0,
              "#440154"
             ],
             [
              0.1111111111111111,
              "#482878"
             ],
             [
              0.2222222222222222,
              "#3e4989"
             ],
             [
              0.3333333333333333,
              "#31688e"
             ],
             [
              0.4444444444444444,
              "#26828e"
             ],
             [
              0.5555555555555556,
              "#1f9e89"
             ],
             [
              0.6666666666666666,
              "#35b779"
             ],
             [
              0.7777777777777778,
              "#6ece58"
             ],
             [
              0.8888888888888888,
              "#b5de2b"
             ],
             [
              1,
              "#fde725"
             ]
            ],
            "type": "surface"
           }
          ],
          "table": [
           {
            "cells": {
             "fill": {
              "color": "rgb(237,237,237)"
             },
             "line": {
              "color": "white"
             }
            },
            "header": {
             "fill": {
              "color": "rgb(217,217,217)"
             },
             "line": {
              "color": "white"
             }
            },
            "type": "table"
           }
          ]
         },
         "layout": {
          "annotationdefaults": {
           "arrowhead": 0,
           "arrowwidth": 1
          },
          "autotypenumbers": "strict",
          "coloraxis": {
           "colorbar": {
            "outlinewidth": 1,
            "tickcolor": "rgb(36,36,36)",
            "ticks": "outside"
           }
          },
          "colorscale": {
           "diverging": [
            [
             0,
             "rgb(103,0,31)"
            ],
            [
             0.1,
             "rgb(178,24,43)"
            ],
            [
             0.2,
             "rgb(214,96,77)"
            ],
            [
             0.3,
             "rgb(244,165,130)"
            ],
            [
             0.4,
             "rgb(253,219,199)"
            ],
            [
             0.5,
             "rgb(247,247,247)"
            ],
            [
             0.6,
             "rgb(209,229,240)"
            ],
            [
             0.7,
             "rgb(146,197,222)"
            ],
            [
             0.8,
             "rgb(67,147,195)"
            ],
            [
             0.9,
             "rgb(33,102,172)"
            ],
            [
             1,
             "rgb(5,48,97)"
            ]
           ],
           "sequential": [
            [
             0,
             "#440154"
            ],
            [
             0.1111111111111111,
             "#482878"
            ],
            [
             0.2222222222222222,
             "#3e4989"
            ],
            [
             0.3333333333333333,
             "#31688e"
            ],
            [
             0.4444444444444444,
             "#26828e"
            ],
            [
             0.5555555555555556,
             "#1f9e89"
            ],
            [
             0.6666666666666666,
             "#35b779"
            ],
            [
             0.7777777777777778,
             "#6ece58"
            ],
            [
             0.8888888888888888,
             "#b5de2b"
            ],
            [
             1,
             "#fde725"
            ]
           ],
           "sequentialminus": [
            [
             0,
             "#440154"
            ],
            [
             0.1111111111111111,
             "#482878"
            ],
            [
             0.2222222222222222,
             "#3e4989"
            ],
            [
             0.3333333333333333,
             "#31688e"
            ],
            [
             0.4444444444444444,
             "#26828e"
            ],
            [
             0.5555555555555556,
             "#1f9e89"
            ],
            [
             0.6666666666666666,
             "#35b779"
            ],
            [
             0.7777777777777778,
             "#6ece58"
            ],
            [
             0.8888888888888888,
             "#b5de2b"
            ],
            [
             1,
             "#fde725"
            ]
           ]
          },
          "colorway": [
           "#1F77B4",
           "#FF7F0E",
           "#2CA02C",
           "#D62728",
           "#9467BD",
           "#8C564B",
           "#E377C2",
           "#7F7F7F",
           "#BCBD22",
           "#17BECF"
          ],
          "font": {
           "color": "rgb(36,36,36)"
          },
          "geo": {
           "bgcolor": "white",
           "lakecolor": "white",
           "landcolor": "white",
           "showlakes": true,
           "showland": true,
           "subunitcolor": "white"
          },
          "hoverlabel": {
           "align": "left"
          },
          "hovermode": "closest",
          "mapbox": {
           "style": "light"
          },
          "paper_bgcolor": "white",
          "plot_bgcolor": "white",
          "polar": {
           "angularaxis": {
            "gridcolor": "rgb(232,232,232)",
            "linecolor": "rgb(36,36,36)",
            "showgrid": false,
            "showline": true,
            "ticks": "outside"
           },
           "bgcolor": "white",
           "radialaxis": {
            "gridcolor": "rgb(232,232,232)",
            "linecolor": "rgb(36,36,36)",
            "showgrid": false,
            "showline": true,
            "ticks": "outside"
           }
          },
          "scene": {
           "xaxis": {
            "backgroundcolor": "white",
            "gridcolor": "rgb(232,232,232)",
            "gridwidth": 2,
            "linecolor": "rgb(36,36,36)",
            "showbackground": true,
            "showgrid": false,
            "showline": true,
            "ticks": "outside",
            "zeroline": false,
            "zerolinecolor": "rgb(36,36,36)"
           },
           "yaxis": {
            "backgroundcolor": "white",
            "gridcolor": "rgb(232,232,232)",
            "gridwidth": 2,
            "linecolor": "rgb(36,36,36)",
            "showbackground": true,
            "showgrid": false,
            "showline": true,
            "ticks": "outside",
            "zeroline": false,
            "zerolinecolor": "rgb(36,36,36)"
           },
           "zaxis": {
            "backgroundcolor": "white",
            "gridcolor": "rgb(232,232,232)",
            "gridwidth": 2,
            "linecolor": "rgb(36,36,36)",
            "showbackground": true,
            "showgrid": false,
            "showline": true,
            "ticks": "outside",
            "zeroline": false,
            "zerolinecolor": "rgb(36,36,36)"
           }
          },
          "shapedefaults": {
           "fillcolor": "black",
           "line": {
            "width": 0
           },
           "opacity": 0.3
          },
          "ternary": {
           "aaxis": {
            "gridcolor": "rgb(232,232,232)",
            "linecolor": "rgb(36,36,36)",
            "showgrid": false,
            "showline": true,
            "ticks": "outside"
           },
           "baxis": {
            "gridcolor": "rgb(232,232,232)",
            "linecolor": "rgb(36,36,36)",
            "showgrid": false,
            "showline": true,
            "ticks": "outside"
           },
           "bgcolor": "white",
           "caxis": {
            "gridcolor": "rgb(232,232,232)",
            "linecolor": "rgb(36,36,36)",
            "showgrid": false,
            "showline": true,
            "ticks": "outside"
           }
          },
          "title": {
           "x": 0.05
          },
          "xaxis": {
           "automargin": true,
           "gridcolor": "rgb(232,232,232)",
           "linecolor": "rgb(36,36,36)",
           "showgrid": false,
           "showline": true,
           "ticks": "outside",
           "title": {
            "standoff": 15
           },
           "zeroline": false,
           "zerolinecolor": "rgb(36,36,36)"
          },
          "yaxis": {
           "automargin": true,
           "gridcolor": "rgb(232,232,232)",
           "linecolor": "rgb(36,36,36)",
           "showgrid": false,
           "showline": true,
           "ticks": "outside",
           "title": {
            "standoff": 15
           },
           "zeroline": false,
           "zerolinecolor": "rgb(36,36,36)"
          }
         }
        },
        "width": 600,
        "xaxis": {
         "dtick": 1,
         "title": {
          "text": "Safety"
         }
        },
        "yaxis": {
         "ticksuffix": "°",
         "title": {
          "text": "Left Angles"
         }
        }
       }
      }
     },
     "metadata": {},
     "output_type": "display_data"
    },
    {
     "data": {
      "application/vnd.plotly.v1+json": {
       "config": {
        "plotlyServerURL": "https://plot.ly"
       },
       "data": [
        {
         "marker": {
          "color": "#000000"
         },
         "mode": "markers",
         "name": "Safety X Left Angles",
         "showlegend": false,
         "type": "scatter",
         "x": [
          3,
          3,
          3,
          3,
          3,
          3,
          3,
          3,
          3,
          3,
          3,
          3,
          3,
          3,
          3,
          3,
          3,
          3,
          3,
          3,
          3,
          4,
          4,
          4,
          4,
          4,
          4,
          4,
          4,
          4,
          5,
          5,
          5,
          5,
          5,
          5,
          5,
          5,
          5,
          5,
          5,
          5,
          5,
          5,
          5,
          5,
          5,
          5,
          5,
          5,
          5,
          5,
          5,
          5,
          4,
          5,
          5,
          5,
          5,
          5,
          5,
          5,
          5,
          5,
          5,
          5,
          5,
          5,
          5,
          4,
          4,
          4,
          4,
          4,
          4,
          4,
          4,
          4,
          4,
          4,
          4,
          4,
          4,
          4,
          4,
          4,
          4,
          4,
          4,
          4,
          4,
          3,
          3,
          3,
          3,
          3,
          3,
          3,
          3,
          3,
          3,
          3,
          3,
          3,
          3,
          3,
          3,
          3,
          3,
          3,
          3,
          3,
          3,
          3,
          3,
          3,
          3,
          3,
          3,
          4,
          4,
          4,
          4,
          4,
          3,
          3,
          3,
          3,
          3,
          3,
          3,
          3,
          3,
          3,
          3,
          3,
          3,
          3,
          3,
          3,
          3,
          3,
          3,
          3,
          4,
          4,
          4,
          4,
          4,
          4,
          4,
          4,
          3,
          4,
          4,
          4,
          4,
          4,
          4,
          4,
          4,
          4,
          4,
          4,
          4,
          4,
          4,
          4,
          4,
          4,
          5,
          5,
          5,
          5,
          5,
          5,
          5,
          5,
          5,
          5,
          5,
          5,
          5,
          5,
          5,
          5,
          5,
          5,
          5,
          5,
          5,
          5,
          5,
          5,
          5,
          5,
          5,
          5,
          5,
          5,
          5,
          5,
          5,
          5,
          5,
          5,
          5,
          5,
          5,
          5,
          5,
          5,
          5,
          5,
          5,
          5,
          5,
          5,
          5,
          5,
          5,
          5,
          5,
          5
         ],
         "y": [
          26.673675537109375,
          72.265625,
          111.22623443603516,
          49.788509368896484,
          44.71192169189453,
          32.488624572753906,
          20.258432388305664,
          96.38427734375,
          48.27286148071289,
          20.13835334777832,
          225.80804443359375,
          203.05657958984375,
          258.9930114746094,
          261.3008117675781,
          194.58656311035156,
          223.38250732421875,
          181.5327606201172,
          180.31680297851562,
          206.16738891601562,
          204.732666015625,
          281.55584716796875,
          221.26687622070312,
          251.13230895996094,
          76.35710906982422,
          215.99075317382812,
          22.319337844848633,
          27.27208709716797,
          300.0000305175781,
          29.049692153930664,
          38.867088317871094,
          23.361164093017578,
          37.726593017578125,
          20.088041305541992,
          60.376426696777344,
          24.291542053222656,
          124.17807006835938,
          25.801008224487305,
          23.51451301574707,
          32.38871383666992,
          243.71946716308594,
          41.1047477722168,
          291.0025329589844,
          269.7626647949219,
          27.8388671875,
          34.930686950683594,
          59.95955276489258,
          51.88886260986328,
          115.97518157958984,
          45.398193359375,
          49.276702880859375,
          239.26988220214844,
          40.89011764526367,
          237.89048767089844,
          39.61357116699219,
          25.352497100830078,
          47.67856979370117,
          25.356094360351562,
          50.94615936279297,
          31.992883682250977,
          56.188331604003906,
          69.94208526611328,
          60.835819244384766,
          30.772294998168945,
          60.177528381347656,
          48.781471252441406,
          47.35771942138672,
          53.67286682128906,
          54.13275909423828,
          20.848623275756836,
          40.457923889160156,
          29.738380432128906,
          20.0419979095459,
          36.48262405395508,
          43.8958625793457,
          44.71098709106445,
          60.26375198364258,
          23.82597541809082,
          31.006017684936523,
          34.99159622192383,
          74.45995330810547,
          62.6185188293457,
          26.9796085357666,
          28.857576370239258,
          51.09992980957031,
          27.458959579467773,
          22.61515235900879,
          21.049476623535156,
          33.90752029418945,
          20.539581298828125,
          41.11008834838867,
          40.73923873901367,
          21.47239875793457,
          29.249980926513672,
          43.51893615722656,
          30.170398712158203,
          22.820053100585938,
          54.27970886230469,
          48.56462860107422,
          35.44611358642578,
          24.69158172607422,
          24.110013961791992,
          27.434206008911133,
          25.77639389038086,
          25.145544052124023,
          21.286645889282227,
          25.115835189819336,
          37.82069778442383,
          55.944358825683594,
          23.123119354248047,
          26.5007381439209,
          43.50901794433594,
          65.61656951904297,
          64.35028076171875,
          63.88309860229492,
          43.8466911315918,
          110.99566650390625,
          48.78110122680664,
          21.248367309570312,
          246.5771942138672,
          27.007707595825195,
          24.108232498168945,
          44.726558685302734,
          31.391603469848633,
          25.383878707885742,
          20.000442504882812,
          36.21195602416992,
          45.5235481262207,
          44.73889923095703,
          47.746822357177734,
          43.952754974365234,
          20.948606491088867,
          29.484193801879883,
          29.060014724731445,
          23.444185256958008,
          28.254146575927734,
          28.813451766967773,
          33.169830322265625,
          21.37665557861328,
          20.154767990112305,
          23.28439712524414,
          40.8826904296875,
          37.50126647949219,
          35.30916213989258,
          29.3981876373291,
          33.81668472290039,
          20.437763214111328,
          23.510929107666016,
          28.416759490966797,
          27.29709815979004,
          30.73431968688965,
          31.273895263671875,
          28.787094116210938,
          28.502439498901367,
          35.49028396606445,
          47.75333023071289,
          42.78274917602539,
          31.453590393066406,
          25.423912048339844,
          35.929603576660156,
          52.841331481933594,
          24.457942962646484,
          40.933197021484375,
          55.25414276123047,
          66.11962890625,
          65.31642150878906,
          67.63290405273438,
          69.23448181152344,
          60.70447540283203,
          78.62028503417969,
          23.396949768066406,
          39.067440032958984,
          49.098941802978516,
          45.820125579833984,
          255.46002197265625,
          40.73073959350586,
          72.20929718017578,
          40.400516510009766,
          47.827457427978516,
          31.4644718170166,
          275.9725646972656,
          35.211185455322266,
          59.847816467285156,
          29.7293701171875,
          76.4751205444336,
          39.412376403808594,
          33.28114318847656,
          35.07647705078125,
          58.83646011352539,
          45.08977508544922,
          41.325130462646484,
          36.724369049072266,
          34.0559196472168,
          30.144521713256836,
          58.21169662475586,
          47.78072738647461,
          22.977081298828125,
          68.44070434570312,
          25.064472198486328,
          20.142480850219727,
          26.57387351989746,
          22.67227554321289,
          22.51879119873047,
          42.09779739379883,
          22.689451217651367,
          26.140445709228516,
          20.295621871948242,
          20.782255172729492,
          54.43113327026367,
          128.5784454345703,
          26.883895874023438,
          31.871196746826172,
          56.44002151489258,
          51.72858810424805,
          58.306819915771484,
          46.61920928955078,
          68.14509582519531,
          21.038497924804688,
          20.31439971923828,
          20.331287384033203,
          24.37416648864746,
          66.16350555419922,
          35.35976028442383,
          64.99497985839844,
          22.793550491333008
         ]
        },
        {
         "hovertemplate": "<b>OLS trendline</b><br>y = -4.67818 * x + 80.1737<br>R<sup>2</sup>=0.003863<br><br>x=%{x}<br>y=%{y} <b>(trend)</b><extra></extra>",
         "legendgroup": "",
         "marker": {
          "color": "#961C26",
          "symbol": "circle"
         },
         "mode": "lines",
         "name": "",
         "showlegend": false,
         "type": "scatter",
         "x": [
          3,
          3,
          3,
          3,
          3,
          3,
          3,
          3,
          3,
          3,
          3,
          3,
          3,
          3,
          3,
          3,
          3,
          3,
          3,
          3,
          3,
          3,
          3,
          3,
          3,
          3,
          3,
          3,
          3,
          3,
          3,
          3,
          3,
          3,
          3,
          3,
          3,
          3,
          3,
          3,
          3,
          3,
          3,
          3,
          3,
          3,
          3,
          3,
          3,
          3,
          3,
          3,
          3,
          3,
          3,
          3,
          3,
          3,
          3,
          3,
          3,
          3,
          3,
          3,
          3,
          3,
          3,
          3,
          3,
          3,
          4,
          4,
          4,
          4,
          4,
          4,
          4,
          4,
          4,
          4,
          4,
          4,
          4,
          4,
          4,
          4,
          4,
          4,
          4,
          4,
          4,
          4,
          4,
          4,
          4,
          4,
          4,
          4,
          4,
          4,
          4,
          4,
          4,
          4,
          4,
          4,
          4,
          4,
          4,
          4,
          4,
          4,
          4,
          4,
          4,
          4,
          4,
          4,
          4,
          4,
          4,
          4,
          4,
          4,
          4,
          4,
          4,
          4,
          4,
          4,
          4,
          4,
          5,
          5,
          5,
          5,
          5,
          5,
          5,
          5,
          5,
          5,
          5,
          5,
          5,
          5,
          5,
          5,
          5,
          5,
          5,
          5,
          5,
          5,
          5,
          5,
          5,
          5,
          5,
          5,
          5,
          5,
          5,
          5,
          5,
          5,
          5,
          5,
          5,
          5,
          5,
          5,
          5,
          5,
          5,
          5,
          5,
          5,
          5,
          5,
          5,
          5,
          5,
          5,
          5,
          5,
          5,
          5,
          5,
          5,
          5,
          5,
          5,
          5,
          5,
          5,
          5,
          5,
          5,
          5,
          5,
          5,
          5,
          5,
          5,
          5,
          5,
          5,
          5,
          5,
          5,
          5,
          5,
          5,
          5,
          5,
          5,
          5,
          5,
          5,
          5,
          5,
          5,
          5
         ],
         "xaxis": "x",
         "y": [
          66.13911930860303,
          66.13911930860303,
          66.13911930860303,
          66.13911930860303,
          66.13911930860303,
          66.13911930860303,
          66.13911930860303,
          66.13911930860303,
          66.13911930860303,
          66.13911930860303,
          66.13911930860303,
          66.13911930860303,
          66.13911930860303,
          66.13911930860303,
          66.13911930860303,
          66.13911930860303,
          66.13911930860303,
          66.13911930860303,
          66.13911930860303,
          66.13911930860303,
          66.13911930860303,
          66.13911930860303,
          66.13911930860303,
          66.13911930860303,
          66.13911930860303,
          66.13911930860303,
          66.13911930860303,
          66.13911930860303,
          66.13911930860303,
          66.13911930860303,
          66.13911930860303,
          66.13911930860303,
          66.13911930860303,
          66.13911930860303,
          66.13911930860303,
          66.13911930860303,
          66.13911930860303,
          66.13911930860303,
          66.13911930860303,
          66.13911930860303,
          66.13911930860303,
          66.13911930860303,
          66.13911930860303,
          66.13911930860303,
          66.13911930860303,
          66.13911930860303,
          66.13911930860303,
          66.13911930860303,
          66.13911930860303,
          66.13911930860303,
          66.13911930860303,
          66.13911930860303,
          66.13911930860303,
          66.13911930860303,
          66.13911930860303,
          66.13911930860303,
          66.13911930860303,
          66.13911930860303,
          66.13911930860303,
          66.13911930860303,
          66.13911930860303,
          66.13911930860303,
          66.13911930860303,
          66.13911930860303,
          66.13911930860303,
          66.13911930860303,
          66.13911930860303,
          66.13911930860303,
          66.13911930860303,
          66.13911930860303,
          61.460936614940024,
          61.460936614940024,
          61.460936614940024,
          61.460936614940024,
          61.460936614940024,
          61.460936614940024,
          61.460936614940024,
          61.460936614940024,
          61.460936614940024,
          61.460936614940024,
          61.460936614940024,
          61.460936614940024,
          61.460936614940024,
          61.460936614940024,
          61.460936614940024,
          61.460936614940024,
          61.460936614940024,
          61.460936614940024,
          61.460936614940024,
          61.460936614940024,
          61.460936614940024,
          61.460936614940024,
          61.460936614940024,
          61.460936614940024,
          61.460936614940024,
          61.460936614940024,
          61.460936614940024,
          61.460936614940024,
          61.460936614940024,
          61.460936614940024,
          61.460936614940024,
          61.460936614940024,
          61.460936614940024,
          61.460936614940024,
          61.460936614940024,
          61.460936614940024,
          61.460936614940024,
          61.460936614940024,
          61.460936614940024,
          61.460936614940024,
          61.460936614940024,
          61.460936614940024,
          61.460936614940024,
          61.460936614940024,
          61.460936614940024,
          61.460936614940024,
          61.460936614940024,
          61.460936614940024,
          61.460936614940024,
          61.460936614940024,
          61.460936614940024,
          61.460936614940024,
          61.460936614940024,
          61.460936614940024,
          61.460936614940024,
          61.460936614940024,
          61.460936614940024,
          61.460936614940024,
          61.460936614940024,
          61.460936614940024,
          61.460936614940024,
          61.460936614940024,
          56.78275392127702,
          56.78275392127702,
          56.78275392127702,
          56.78275392127702,
          56.78275392127702,
          56.78275392127702,
          56.78275392127702,
          56.78275392127702,
          56.78275392127702,
          56.78275392127702,
          56.78275392127702,
          56.78275392127702,
          56.78275392127702,
          56.78275392127702,
          56.78275392127702,
          56.78275392127702,
          56.78275392127702,
          56.78275392127702,
          56.78275392127702,
          56.78275392127702,
          56.78275392127702,
          56.78275392127702,
          56.78275392127702,
          56.78275392127702,
          56.78275392127702,
          56.78275392127702,
          56.78275392127702,
          56.78275392127702,
          56.78275392127702,
          56.78275392127702,
          56.78275392127702,
          56.78275392127702,
          56.78275392127702,
          56.78275392127702,
          56.78275392127702,
          56.78275392127702,
          56.78275392127702,
          56.78275392127702,
          56.78275392127702,
          56.78275392127702,
          56.78275392127702,
          56.78275392127702,
          56.78275392127702,
          56.78275392127702,
          56.78275392127702,
          56.78275392127702,
          56.78275392127702,
          56.78275392127702,
          56.78275392127702,
          56.78275392127702,
          56.78275392127702,
          56.78275392127702,
          56.78275392127702,
          56.78275392127702,
          56.78275392127702,
          56.78275392127702,
          56.78275392127702,
          56.78275392127702,
          56.78275392127702,
          56.78275392127702,
          56.78275392127702,
          56.78275392127702,
          56.78275392127702,
          56.78275392127702,
          56.78275392127702,
          56.78275392127702,
          56.78275392127702,
          56.78275392127702,
          56.78275392127702,
          56.78275392127702,
          56.78275392127702,
          56.78275392127702,
          56.78275392127702,
          56.78275392127702,
          56.78275392127702,
          56.78275392127702,
          56.78275392127702,
          56.78275392127702,
          56.78275392127702,
          56.78275392127702,
          56.78275392127702,
          56.78275392127702,
          56.78275392127702,
          56.78275392127702,
          56.78275392127702,
          56.78275392127702,
          56.78275392127702,
          56.78275392127702,
          56.78275392127702,
          56.78275392127702,
          56.78275392127702,
          56.78275392127702
         ],
         "yaxis": "y"
        }
       ],
       "layout": {
        "font": {
         "family": "Lato, sans-serif",
         "size": 14
        },
        "height": 400,
        "hoverlabel": {
         "font": {
          "family": "Lato, sans-serif",
          "size": 13
         }
        },
        "hovermode": "y unified",
        "legend": {
         "orientation": "h",
         "x": 0.5,
         "xanchor": "center",
         "y": 1,
         "yanchor": "bottom"
        },
        "margin": {
         "b": 0,
         "l": 70,
         "r": 40,
         "t": 20
        },
        "paper_bgcolor": "rgba(0,0,0,0)",
        "plot_bgcolor": "rgba(0,0,0,0)",
        "template": {
         "data": {
          "bar": [
           {
            "error_x": {
             "color": "rgb(36,36,36)"
            },
            "error_y": {
             "color": "rgb(36,36,36)"
            },
            "marker": {
             "line": {
              "color": "white",
              "width": 0.5
             },
             "pattern": {
              "fillmode": "overlay",
              "size": 10,
              "solidity": 0.2
             }
            },
            "type": "bar"
           }
          ],
          "barpolar": [
           {
            "marker": {
             "line": {
              "color": "white",
              "width": 0.5
             },
             "pattern": {
              "fillmode": "overlay",
              "size": 10,
              "solidity": 0.2
             }
            },
            "type": "barpolar"
           }
          ],
          "carpet": [
           {
            "aaxis": {
             "endlinecolor": "rgb(36,36,36)",
             "gridcolor": "white",
             "linecolor": "white",
             "minorgridcolor": "white",
             "startlinecolor": "rgb(36,36,36)"
            },
            "baxis": {
             "endlinecolor": "rgb(36,36,36)",
             "gridcolor": "white",
             "linecolor": "white",
             "minorgridcolor": "white",
             "startlinecolor": "rgb(36,36,36)"
            },
            "type": "carpet"
           }
          ],
          "choropleth": [
           {
            "colorbar": {
             "outlinewidth": 1,
             "tickcolor": "rgb(36,36,36)",
             "ticks": "outside"
            },
            "type": "choropleth"
           }
          ],
          "contour": [
           {
            "colorbar": {
             "outlinewidth": 1,
             "tickcolor": "rgb(36,36,36)",
             "ticks": "outside"
            },
            "colorscale": [
             [
              0,
              "#440154"
             ],
             [
              0.1111111111111111,
              "#482878"
             ],
             [
              0.2222222222222222,
              "#3e4989"
             ],
             [
              0.3333333333333333,
              "#31688e"
             ],
             [
              0.4444444444444444,
              "#26828e"
             ],
             [
              0.5555555555555556,
              "#1f9e89"
             ],
             [
              0.6666666666666666,
              "#35b779"
             ],
             [
              0.7777777777777778,
              "#6ece58"
             ],
             [
              0.8888888888888888,
              "#b5de2b"
             ],
             [
              1,
              "#fde725"
             ]
            ],
            "type": "contour"
           }
          ],
          "contourcarpet": [
           {
            "colorbar": {
             "outlinewidth": 1,
             "tickcolor": "rgb(36,36,36)",
             "ticks": "outside"
            },
            "type": "contourcarpet"
           }
          ],
          "heatmap": [
           {
            "colorbar": {
             "outlinewidth": 1,
             "tickcolor": "rgb(36,36,36)",
             "ticks": "outside"
            },
            "colorscale": [
             [
              0,
              "#440154"
             ],
             [
              0.1111111111111111,
              "#482878"
             ],
             [
              0.2222222222222222,
              "#3e4989"
             ],
             [
              0.3333333333333333,
              "#31688e"
             ],
             [
              0.4444444444444444,
              "#26828e"
             ],
             [
              0.5555555555555556,
              "#1f9e89"
             ],
             [
              0.6666666666666666,
              "#35b779"
             ],
             [
              0.7777777777777778,
              "#6ece58"
             ],
             [
              0.8888888888888888,
              "#b5de2b"
             ],
             [
              1,
              "#fde725"
             ]
            ],
            "type": "heatmap"
           }
          ],
          "heatmapgl": [
           {
            "colorbar": {
             "outlinewidth": 1,
             "tickcolor": "rgb(36,36,36)",
             "ticks": "outside"
            },
            "colorscale": [
             [
              0,
              "#440154"
             ],
             [
              0.1111111111111111,
              "#482878"
             ],
             [
              0.2222222222222222,
              "#3e4989"
             ],
             [
              0.3333333333333333,
              "#31688e"
             ],
             [
              0.4444444444444444,
              "#26828e"
             ],
             [
              0.5555555555555556,
              "#1f9e89"
             ],
             [
              0.6666666666666666,
              "#35b779"
             ],
             [
              0.7777777777777778,
              "#6ece58"
             ],
             [
              0.8888888888888888,
              "#b5de2b"
             ],
             [
              1,
              "#fde725"
             ]
            ],
            "type": "heatmapgl"
           }
          ],
          "histogram": [
           {
            "marker": {
             "line": {
              "color": "white",
              "width": 0.6
             }
            },
            "type": "histogram"
           }
          ],
          "histogram2d": [
           {
            "colorbar": {
             "outlinewidth": 1,
             "tickcolor": "rgb(36,36,36)",
             "ticks": "outside"
            },
            "colorscale": [
             [
              0,
              "#440154"
             ],
             [
              0.1111111111111111,
              "#482878"
             ],
             [
              0.2222222222222222,
              "#3e4989"
             ],
             [
              0.3333333333333333,
              "#31688e"
             ],
             [
              0.4444444444444444,
              "#26828e"
             ],
             [
              0.5555555555555556,
              "#1f9e89"
             ],
             [
              0.6666666666666666,
              "#35b779"
             ],
             [
              0.7777777777777778,
              "#6ece58"
             ],
             [
              0.8888888888888888,
              "#b5de2b"
             ],
             [
              1,
              "#fde725"
             ]
            ],
            "type": "histogram2d"
           }
          ],
          "histogram2dcontour": [
           {
            "colorbar": {
             "outlinewidth": 1,
             "tickcolor": "rgb(36,36,36)",
             "ticks": "outside"
            },
            "colorscale": [
             [
              0,
              "#440154"
             ],
             [
              0.1111111111111111,
              "#482878"
             ],
             [
              0.2222222222222222,
              "#3e4989"
             ],
             [
              0.3333333333333333,
              "#31688e"
             ],
             [
              0.4444444444444444,
              "#26828e"
             ],
             [
              0.5555555555555556,
              "#1f9e89"
             ],
             [
              0.6666666666666666,
              "#35b779"
             ],
             [
              0.7777777777777778,
              "#6ece58"
             ],
             [
              0.8888888888888888,
              "#b5de2b"
             ],
             [
              1,
              "#fde725"
             ]
            ],
            "type": "histogram2dcontour"
           }
          ],
          "mesh3d": [
           {
            "colorbar": {
             "outlinewidth": 1,
             "tickcolor": "rgb(36,36,36)",
             "ticks": "outside"
            },
            "type": "mesh3d"
           }
          ],
          "parcoords": [
           {
            "line": {
             "colorbar": {
              "outlinewidth": 1,
              "tickcolor": "rgb(36,36,36)",
              "ticks": "outside"
             }
            },
            "type": "parcoords"
           }
          ],
          "pie": [
           {
            "automargin": true,
            "type": "pie"
           }
          ],
          "scatter": [
           {
            "fillpattern": {
             "fillmode": "overlay",
             "size": 10,
             "solidity": 0.2
            },
            "type": "scatter"
           }
          ],
          "scatter3d": [
           {
            "line": {
             "colorbar": {
              "outlinewidth": 1,
              "tickcolor": "rgb(36,36,36)",
              "ticks": "outside"
             }
            },
            "marker": {
             "colorbar": {
              "outlinewidth": 1,
              "tickcolor": "rgb(36,36,36)",
              "ticks": "outside"
             }
            },
            "type": "scatter3d"
           }
          ],
          "scattercarpet": [
           {
            "marker": {
             "colorbar": {
              "outlinewidth": 1,
              "tickcolor": "rgb(36,36,36)",
              "ticks": "outside"
             }
            },
            "type": "scattercarpet"
           }
          ],
          "scattergeo": [
           {
            "marker": {
             "colorbar": {
              "outlinewidth": 1,
              "tickcolor": "rgb(36,36,36)",
              "ticks": "outside"
             }
            },
            "type": "scattergeo"
           }
          ],
          "scattergl": [
           {
            "marker": {
             "colorbar": {
              "outlinewidth": 1,
              "tickcolor": "rgb(36,36,36)",
              "ticks": "outside"
             }
            },
            "type": "scattergl"
           }
          ],
          "scattermapbox": [
           {
            "marker": {
             "colorbar": {
              "outlinewidth": 1,
              "tickcolor": "rgb(36,36,36)",
              "ticks": "outside"
             }
            },
            "type": "scattermapbox"
           }
          ],
          "scatterpolar": [
           {
            "marker": {
             "colorbar": {
              "outlinewidth": 1,
              "tickcolor": "rgb(36,36,36)",
              "ticks": "outside"
             }
            },
            "type": "scatterpolar"
           }
          ],
          "scatterpolargl": [
           {
            "marker": {
             "colorbar": {
              "outlinewidth": 1,
              "tickcolor": "rgb(36,36,36)",
              "ticks": "outside"
             }
            },
            "type": "scatterpolargl"
           }
          ],
          "scatterternary": [
           {
            "marker": {
             "colorbar": {
              "outlinewidth": 1,
              "tickcolor": "rgb(36,36,36)",
              "ticks": "outside"
             }
            },
            "type": "scatterternary"
           }
          ],
          "surface": [
           {
            "colorbar": {
             "outlinewidth": 1,
             "tickcolor": "rgb(36,36,36)",
             "ticks": "outside"
            },
            "colorscale": [
             [
              0,
              "#440154"
             ],
             [
              0.1111111111111111,
              "#482878"
             ],
             [
              0.2222222222222222,
              "#3e4989"
             ],
             [
              0.3333333333333333,
              "#31688e"
             ],
             [
              0.4444444444444444,
              "#26828e"
             ],
             [
              0.5555555555555556,
              "#1f9e89"
             ],
             [
              0.6666666666666666,
              "#35b779"
             ],
             [
              0.7777777777777778,
              "#6ece58"
             ],
             [
              0.8888888888888888,
              "#b5de2b"
             ],
             [
              1,
              "#fde725"
             ]
            ],
            "type": "surface"
           }
          ],
          "table": [
           {
            "cells": {
             "fill": {
              "color": "rgb(237,237,237)"
             },
             "line": {
              "color": "white"
             }
            },
            "header": {
             "fill": {
              "color": "rgb(217,217,217)"
             },
             "line": {
              "color": "white"
             }
            },
            "type": "table"
           }
          ]
         },
         "layout": {
          "annotationdefaults": {
           "arrowhead": 0,
           "arrowwidth": 1
          },
          "autotypenumbers": "strict",
          "coloraxis": {
           "colorbar": {
            "outlinewidth": 1,
            "tickcolor": "rgb(36,36,36)",
            "ticks": "outside"
           }
          },
          "colorscale": {
           "diverging": [
            [
             0,
             "rgb(103,0,31)"
            ],
            [
             0.1,
             "rgb(178,24,43)"
            ],
            [
             0.2,
             "rgb(214,96,77)"
            ],
            [
             0.3,
             "rgb(244,165,130)"
            ],
            [
             0.4,
             "rgb(253,219,199)"
            ],
            [
             0.5,
             "rgb(247,247,247)"
            ],
            [
             0.6,
             "rgb(209,229,240)"
            ],
            [
             0.7,
             "rgb(146,197,222)"
            ],
            [
             0.8,
             "rgb(67,147,195)"
            ],
            [
             0.9,
             "rgb(33,102,172)"
            ],
            [
             1,
             "rgb(5,48,97)"
            ]
           ],
           "sequential": [
            [
             0,
             "#440154"
            ],
            [
             0.1111111111111111,
             "#482878"
            ],
            [
             0.2222222222222222,
             "#3e4989"
            ],
            [
             0.3333333333333333,
             "#31688e"
            ],
            [
             0.4444444444444444,
             "#26828e"
            ],
            [
             0.5555555555555556,
             "#1f9e89"
            ],
            [
             0.6666666666666666,
             "#35b779"
            ],
            [
             0.7777777777777778,
             "#6ece58"
            ],
            [
             0.8888888888888888,
             "#b5de2b"
            ],
            [
             1,
             "#fde725"
            ]
           ],
           "sequentialminus": [
            [
             0,
             "#440154"
            ],
            [
             0.1111111111111111,
             "#482878"
            ],
            [
             0.2222222222222222,
             "#3e4989"
            ],
            [
             0.3333333333333333,
             "#31688e"
            ],
            [
             0.4444444444444444,
             "#26828e"
            ],
            [
             0.5555555555555556,
             "#1f9e89"
            ],
            [
             0.6666666666666666,
             "#35b779"
            ],
            [
             0.7777777777777778,
             "#6ece58"
            ],
            [
             0.8888888888888888,
             "#b5de2b"
            ],
            [
             1,
             "#fde725"
            ]
           ]
          },
          "colorway": [
           "#1F77B4",
           "#FF7F0E",
           "#2CA02C",
           "#D62728",
           "#9467BD",
           "#8C564B",
           "#E377C2",
           "#7F7F7F",
           "#BCBD22",
           "#17BECF"
          ],
          "font": {
           "color": "rgb(36,36,36)"
          },
          "geo": {
           "bgcolor": "white",
           "lakecolor": "white",
           "landcolor": "white",
           "showlakes": true,
           "showland": true,
           "subunitcolor": "white"
          },
          "hoverlabel": {
           "align": "left"
          },
          "hovermode": "closest",
          "mapbox": {
           "style": "light"
          },
          "paper_bgcolor": "white",
          "plot_bgcolor": "white",
          "polar": {
           "angularaxis": {
            "gridcolor": "rgb(232,232,232)",
            "linecolor": "rgb(36,36,36)",
            "showgrid": false,
            "showline": true,
            "ticks": "outside"
           },
           "bgcolor": "white",
           "radialaxis": {
            "gridcolor": "rgb(232,232,232)",
            "linecolor": "rgb(36,36,36)",
            "showgrid": false,
            "showline": true,
            "ticks": "outside"
           }
          },
          "scene": {
           "xaxis": {
            "backgroundcolor": "white",
            "gridcolor": "rgb(232,232,232)",
            "gridwidth": 2,
            "linecolor": "rgb(36,36,36)",
            "showbackground": true,
            "showgrid": false,
            "showline": true,
            "ticks": "outside",
            "zeroline": false,
            "zerolinecolor": "rgb(36,36,36)"
           },
           "yaxis": {
            "backgroundcolor": "white",
            "gridcolor": "rgb(232,232,232)",
            "gridwidth": 2,
            "linecolor": "rgb(36,36,36)",
            "showbackground": true,
            "showgrid": false,
            "showline": true,
            "ticks": "outside",
            "zeroline": false,
            "zerolinecolor": "rgb(36,36,36)"
           },
           "zaxis": {
            "backgroundcolor": "white",
            "gridcolor": "rgb(232,232,232)",
            "gridwidth": 2,
            "linecolor": "rgb(36,36,36)",
            "showbackground": true,
            "showgrid": false,
            "showline": true,
            "ticks": "outside",
            "zeroline": false,
            "zerolinecolor": "rgb(36,36,36)"
           }
          },
          "shapedefaults": {
           "fillcolor": "black",
           "line": {
            "width": 0
           },
           "opacity": 0.3
          },
          "ternary": {
           "aaxis": {
            "gridcolor": "rgb(232,232,232)",
            "linecolor": "rgb(36,36,36)",
            "showgrid": false,
            "showline": true,
            "ticks": "outside"
           },
           "baxis": {
            "gridcolor": "rgb(232,232,232)",
            "linecolor": "rgb(36,36,36)",
            "showgrid": false,
            "showline": true,
            "ticks": "outside"
           },
           "bgcolor": "white",
           "caxis": {
            "gridcolor": "rgb(232,232,232)",
            "linecolor": "rgb(36,36,36)",
            "showgrid": false,
            "showline": true,
            "ticks": "outside"
           }
          },
          "title": {
           "x": 0.05
          },
          "xaxis": {
           "automargin": true,
           "gridcolor": "rgb(232,232,232)",
           "linecolor": "rgb(36,36,36)",
           "showgrid": false,
           "showline": true,
           "ticks": "outside",
           "title": {
            "standoff": 15
           },
           "zeroline": false,
           "zerolinecolor": "rgb(36,36,36)"
          },
          "yaxis": {
           "automargin": true,
           "gridcolor": "rgb(232,232,232)",
           "linecolor": "rgb(36,36,36)",
           "showgrid": false,
           "showline": true,
           "ticks": "outside",
           "title": {
            "standoff": 15
           },
           "zeroline": false,
           "zerolinecolor": "rgb(36,36,36)"
          }
         }
        },
        "width": 600,
        "xaxis": {
         "dtick": 1,
         "title": {
          "text": "Safety"
         }
        },
        "yaxis": {
         "ticksuffix": "°",
         "title": {
          "text": "Right Angles"
         }
        }
       }
      }
     },
     "metadata": {},
     "output_type": "display_data"
    }
   ],
   "source": [
    "# Plots for correlations. Trendline generated as linear trendline via https://plotly.com/python/linear-fits/\n",
    "fig_corr_diff = go.Figure(layout=layout)\n",
    "fig_corr_diff.add_trace(go.Scatter(mode='markers',x = safety,y = difficulty,showlegend=False,name='Safety X Difficulty', marker_color='#000000'))\n",
    "trend_difficulty = px.scatter(y=difficulty, x= safety, trendline=\"ols\")\n",
    "trendline = trend_difficulty.data[1]\n",
    "trendline.marker.color = marking_red\n",
    "fig_corr_diff.add_trace(trendline)\n",
    "\n",
    "#Rotations\n",
    "fig_corr_rleft = go.Figure(layout=layout)\n",
    "fig_corr_rleft.add_trace(go.Scatter(mode='markers',x = safety_left_rots,y = left_rots,showlegend=False,name='Safety X Left Rotations', marker_color='#000000'))\n",
    "trend_rotations = fig = px.scatter(y=left_rots, x= safety_left_rots, trendline=\"ols\")\n",
    "trendline = trend_rotations.data[1]\n",
    "trendline.marker.color = marking_red\n",
    "fig_corr_rleft.add_trace(trendline)\n",
    "\n",
    "fig_corr_rRight = go.Figure(layout=layout)\n",
    "fig_corr_rRight.add_trace(go.Scatter(mode='markers',x = safety_right_rots,y = right_rots,showlegend=False,name='Safety X Left Rotations', marker_color='#000000'))\n",
    "trend_rotations = fig = px.scatter(y=right_rots, x= safety_right_rots, trendline=\"ols\")\n",
    "trendline = trend_rotations.data[1]\n",
    "trendline.marker.color = marking_red\n",
    "fig_corr_rRight.add_trace(trendline)\n",
    "\n",
    "#Angles\n",
    "fig_corr_aLeft = go.Figure(layout=layout)\n",
    "fig_corr_aLeft.add_trace(go.Scatter(mode='markers',x = safety_left_angles,y = left_angles,showlegend=False,name='Safety X Left Angles', marker_color='#000000'))\n",
    "trend_angles = fig = px.scatter(y=left_angles, x= safety_left_angles, trendline=\"ols\")\n",
    "trendline = trend_angles.data[1]\n",
    "trendline.marker.color = marking_red\n",
    "fig_corr_aLeft.add_trace(trendline)\n",
    "\n",
    "fig_corr_aRight = go.Figure(layout=layout)\n",
    "fig_corr_aRight.add_trace(go.Scatter(mode='markers',x = safety_right_angles,y = right_angles,showlegend=False,name='Safety X Left Angles', marker_color='#000000'))\n",
    "trend_angles = fig = px.scatter(y=right_angles, x= safety_right_angles, trendline=\"ols\")\n",
    "trendline = trend_angles.data[1]\n",
    "trendline.marker.color = marking_red\n",
    "fig_corr_aRight.add_trace(trendline)\n",
    "\n",
    "\n",
    "yaxis = [\"Difficulty\",\"Left Rotations\",\"Right Rotations\",\"Left Angles\",\"Right Angles\"]\n",
    "yFormat = [\"\",\"\",\"\",\"°\",\"°\"]\n",
    "for index,fig in enumerate([fig_corr_diff,fig_corr_rleft,fig_corr_rRight,fig_corr_aLeft,fig_corr_aRight]):\n",
    "    fig.update_layout(\n",
    "    #    title='Mean of Headrotations per Situation(Field)',\n",
    "        margin=dict(t=20, b=0, l=70, r=40),\n",
    "        hovermode=\"y unified\", \n",
    "        xaxis_title='Safety', \n",
    "        xaxis_dtick = 1,\n",
    "        yaxis_title=yaxis[index],\n",
    "        yaxis_ticksuffix = yFormat[index],\n",
    "        width=600, height=400,\n",
    "        font=dict(family=\"Lato, sans-serif\",size=14),\n",
    "        legend=dict(orientation=\"h\", yanchor=\"bottom\",y=1, xanchor=\"center\", x=0.5),\n",
    "        hoverlabel=dict(font_size=13, font_family=\"Lato, sans-serif\"))\n",
    "    display(fig)"
   ]
  },
  {
   "cell_type": "markdown",
   "id": "cec45b82-58d2-4871-8c73-e3db14a90746",
   "metadata": {},
   "source": [
    "## App Layout"
   ]
  },
  {
   "cell_type": "code",
   "execution_count": 21,
   "id": "5bfaa013-db3f-4a86-8e91-0f5e9882d4e5",
   "metadata": {},
   "outputs": [],
   "source": [
    "app.layout = html.Div([\n",
    "    html.Div([dcc.Markdown('''### Realworld Study''',id='headline_subject')],style={'width': '100%', 'display': 'block'}),\n",
    "    html.Div([dcc.Markdown('''#### General Plots \n",
    "    > This data represents the mean values from ALL Subjects''')],style={'width': '100%', 'display': 'block'}),\n",
    "    html.Div([dcc.Graph(figure = fig_looks)], style={'width': '40%', 'display': 'inline-block'}),\n",
    "    html.Div([dcc.Graph(figure = fig_angles)], style={'width': '40%', 'display': 'inline-block'}),\n",
    "    html.Div([dcc.Graph(figure = fig_duration)], style={'width': '40%', 'display': 'inline-block'}),\n",
    "    html.Div([dcc.Graph(figure = fig_duration_subject)], style={'width': '40%', 'display': 'inline-block'}),\n",
    "        html.Div([dcc.Markdown('''#### Subject Specific Plots\n",
    "    > This data represents the selected subject only''')],style={'width': '100%', 'display': 'block'}),\n",
    "    html.Div([\n",
    "        html.Label('Subject'),\n",
    "        dcc.Dropdown(\n",
    "            id='filter_subject',\n",
    "            options=[{'label': i, 'value': i} for i in available_data_labels],\n",
    "            value='Choose Subject '\n",
    "    )],style={'width': '100%', 'display': 'inline-block'}),\n",
    "    html.Div([\n",
    "        html.Label('Timestamp (Seconds)'),\n",
    "        dcc.Slider(\n",
    "            id='filter-slider-timestamp',\n",
    "            min=0,\n",
    "            max=0,\n",
    "            value=0,\n",
    "            tooltip={\"placement\": \"bottom\", \"always_visible\": True},\n",
    "            step=60\n",
    "        )\n",
    "    ], style={'width': '100%', 'display': 'inline-block'}),\n",
    "    html.Div([\n",
    "        html.Label('NO Condition',style={'backgroundColor' : COLOR_SIT_X_HEX,'color': \"#FFFFFF\",'borderRadius':'5px','marginLeft':'10px','padding': '10px'}),\n",
    "        html.Label('Condition A',style={'backgroundColor' : COLOR_SIT_A_HEX,'color': \"#FFFFFF\",'borderRadius':'5px','marginLeft':'10px','padding': '10px'}),\n",
    "        html.Label('Condition B',style={'backgroundColor' : COLOR_SIT_B_HEX,'color': \"#FFFFFF\",'borderRadius':'5px','marginLeft':'10px','padding': '10px'}),\n",
    "        html.Label('Condition C',style={'backgroundColor' : COLOR_SIT_C_HEX,'color': \"#FFFFFF\",'borderRadius':'5px','marginLeft':'10px','padding': '10px'}),\n",
    "        html.Label('Condition D',style={'backgroundColor' : COLOR_SIT_D_HEX,'color': \"#FFFFFF\",'borderRadius':'5px','marginLeft':'10px','padding': '10px'}),\n",
    "        html.Label('Condition E',style={'backgroundColor' : COLOR_SIT_E_HEX,'color': \"#FFFFFF\",'borderRadius':'5px','marginLeft':'10px','padding': '10px'}),\n",
    "    ], style={'width': '100%', 'display': 'inline-block'}),\n",
    "    html.Div([dcc.Graph(id='headmovement-scatter',hoverData={'points': [{'x': 0}]})], style={'width': '100%', 'display': 'block'}),\n",
    "    html.Div([dcc.Graph(id='gps-coords')], style={'display': 'inline-block', 'width': '100%'}),\n",
    "    html.Div([dcc.Graph(id='yaws-scatter',hoverData={'points': [{'x': 0}]})], style={'width': '100%', 'display': 'block'}),\n",
    "    html.Div([dcc.Graph(id='rolls-scatter',hoverData={'points': [{'x': 0}]})], style={'width': '100%', 'display': 'block'}),\n",
    "    html.Div([dcc.Graph(id='pitchs-scatter',hoverData={'points': [{'x': 0}]})], style={'width': '100%', 'display': 'block'}),\n",
    "    html.Div([dcc.Graph(id='velocity')], style={'display': 'inline-block', 'width': '50%'}),\n",
    "    html.Div([dcc.Graph(id='acceleration')], style={'display': 'inline-block', 'width': '50%'}),\n",
    "    html.Div([dcc.Graph(id='altitude')], style={'display': 'inline-block', 'width': '50%'}),\n",
    "    html.Div([dcc.Graph(id='phone_battery')], style={'display': 'inline-block', 'width': '50%'}),\n",
    "    #html.Div([dcc.Graph(id='headMesh')], style={'display': 'inline-block', 'width': '25%'}),\n",
    "])"
   ]
  },
  {
   "cell_type": "markdown",
   "id": "d2eec76a-7249-45ce-924e-cbb8367284ac",
   "metadata": {},
   "source": [
    "## Live Interactions"
   ]
  },
  {
   "cell_type": "markdown",
   "id": "273fd380-24bc-41ce-bc9e-bd1e335eb8b7",
   "metadata": {},
   "source": [
    "### Timestamps"
   ]
  },
  {
   "cell_type": "code",
   "execution_count": 22,
   "id": "d7efc98b-9bfa-4690-b47b-2c97024afd0d",
   "metadata": {},
   "outputs": [],
   "source": [
    "@app.callback(\n",
    "    dash.dependencies.Output('filter-slider-timestamp', 'value'),\n",
    "    [dash.dependencies.Input('filter_subject', 'value'),\n",
    "    dash.dependencies.Input('headmovement-scatter', 'hoverData')])\n",
    "def update_timestampValue(subject,hoverdata):\n",
    "    if not subject in subjects:\n",
    "        return 0\n",
    "    # TO-DO!! -> Timestamp und steps dynamisch holen\n",
    "    lastTimestamp = float(subjects[subject].iloc[-1].name)\n",
    "    #display(\"The experiment from subject \"+infos[\"subject\"]+\" lasted \" + str(lastTimestamp) + \" seconds and started at \" + infos[\"starttime\"])\n",
    "    halfminuteSteps = np.arange(0,lastTimestamp,30)\n",
    "    halfminuteStepLabels = list(map(lambda x: str(int(x)), halfminuteSteps))\n",
    "    if \"x\" in hoverdata['points'][0]:\n",
    "        return hoverdata['points'][0][\"x\"]\n",
    "    else:\n",
    "        return 0\n",
    "@app.callback(\n",
    "    dash.dependencies.Output('filter-slider-timestamp', 'min'),\n",
    "    [dash.dependencies.Input('filter_subject', 'value')])\n",
    "def update_timestampMin(subject):\n",
    "    if not subject in subjects:\n",
    "        return 0\n",
    "    return subjects[subject].index.min()\n",
    "@app.callback(\n",
    "    dash.dependencies.Output('filter-slider-timestamp', 'max'),\n",
    "    [dash.dependencies.Input('filter_subject', 'value')])\n",
    "def update_timestampMax(subject):\n",
    "    if not subject in subjects:\n",
    "        return 0\n",
    "    return subjects[subject].index.max()"
   ]
  },
  {
   "cell_type": "markdown",
   "id": "b338515f-892e-4e13-8c10-a04028fabf64",
   "metadata": {
    "tags": []
   },
   "source": [
    "### Headmovement"
   ]
  },
  {
   "cell_type": "code",
   "execution_count": 23,
   "id": "433e3d48-f50b-40e1-80b3-5958331d1cbf",
   "metadata": {},
   "outputs": [],
   "source": [
    "@app.callback(\n",
    "    dash.dependencies.Output('headmovement-scatter', 'figure'),\n",
    "    [dash.dependencies.Input('filter_subject', 'value')])\n",
    "def update_headrotation(subject):\n",
    "    if not subject in subjects:\n",
    "        return go.Figure()\n",
    "    fig = go.Figure()\n",
    "    fig.add_trace(go.Scatter(\n",
    "        x=subjects[subject].index,\n",
    "        y=subjects[subject][\"relativeYaw\"],\n",
    "        mode=\"lines\",\n",
    "        name=\"Headrotation (relative Yaw)\")\n",
    "    )\n",
    "#    fig.add_annotation(\n",
    "#        x=timestamp, \n",
    "#        y=subjects[subject][\"relativeYaw\"].max(),\n",
    "#        text=\"Chosen Time \" + str(timestamp),\n",
    "#        showarrow=False,\n",
    "#        yshift=10\n",
    "#    )\n",
    "    fig.update_layout(\n",
    "        title_text=\"Headmovement\",\n",
    "        autosize=True,\n",
    "        hovermode='closest'\n",
    "        # Optional visualization of threshhold\n",
    "        #shapes = [\n",
    "            # Line Horizontal\n",
    "        #    {\n",
    "        #        'type': 'line',\n",
    "        #        'x0': subjects[subject].index.min(),\n",
    "        #        'y0': -rotation_threshhold,\n",
    "        #        'x1': subjects[subject].index.max(),\n",
    "        #        'y1': -rotation_threshhold,\n",
    "        #        'line': {\n",
    "        #            'color': 'rgb(50, 171, 96)',\n",
    "        #            'width': 2,\n",
    "        #            'dash' : \"dot\"\n",
    "        #        },\n",
    "        #    },\n",
    "        #    {\n",
    "        #        'type': 'line',\n",
    "        #        'x0': subjects[subject].index.min(),\n",
    "        #        'y0': rotation_threshhold,\n",
    "        #        'x1': subjects[subject].index.max(),\n",
    "        #        'y1': rotation_threshhold,\n",
    "        #        'line': {\n",
    "        #            'color': 'rgb(50, 171, 96)',\n",
    "        #            'width': 2,\n",
    "        #            'dash' : \"dot\"\n",
    "        #        },\n",
    "        #    }\n",
    "        #]\n",
    "    )\n",
    "    #add_conditions(subject,fig,\"relativeYaw\")\n",
    "    fig.update_xaxes(title_text='Time(seconds)')\n",
    "    fig.update_yaxes(title_text='Headrotation (Degrees)')\n",
    "\n",
    "    return fig"
   ]
  },
  {
   "cell_type": "markdown",
   "id": "c9cb2559-b6c0-4e42-be94-cc33a54c0d32",
   "metadata": {},
   "source": [
    "#### GPS Coordinates"
   ]
  },
  {
   "cell_type": "code",
   "execution_count": 24,
   "id": "7568f230-ddd6-4ab2-a3d3-feca335ea543",
   "metadata": {},
   "outputs": [],
   "source": [
    "@app.callback(\n",
    "    dash.dependencies.Output('gps-coords', 'figure'),\n",
    "    [dash.dependencies.Input('filter_subject', 'value'),\n",
    "     dash.dependencies.Input('filter-slider-timestamp', 'value')])\n",
    "def update_gps_coords(subject, timestamp):\n",
    "    if not subject in subjects:\n",
    "        return go.Figure()\n",
    "    \n",
    "    fig = go.Figure()\n",
    "    print(\"got timestamp \" + str(timestamp))\n",
    "    #Add all Points\n",
    "    fig.add_trace(go.Scattermapbox(\n",
    "        lon = subjects[subject][\"locationData.longitude\"],\n",
    "        lat = subjects[subject][\"locationData.latitude\"],\n",
    "        mode = 'lines',\n",
    "        name = \"Track\"\n",
    "    ))\n",
    "\n",
    "    #Highlight current point\n",
    "    fig.add_trace(go.Scattermapbox(\n",
    "        lon=subjects[subject].iloc[[timestamp]][\"locationData.longitude\"],\n",
    "        lat=subjects[subject].iloc[[timestamp]][\"locationData.latitude\"],\n",
    "        mode = 'markers',\n",
    "        name = \"Position at Timestamp\",\n",
    "        marker = go.scattermapbox.Marker(\n",
    "            size = 12,\n",
    "            color = 'rgb(50, 171, 96)',\n",
    "            opacity = 0.9,\n",
    "            #symbol = \"bicycle\"\n",
    "        )\n",
    "    ))\n",
    "\n",
    "    fig.update_layout(\n",
    "        title_text = \"GPS Coordinates\",\n",
    "        autosize = True,\n",
    "        hovermode = 'closest',\n",
    "        mapbox = dict(\n",
    "            accesstoken = \"pk.eyJ1Ijoibm9tYW5kZXMiLCJhIjoiY2w3cmticXRhMGc0OTN3cDJ5Y2pqcnZ3YiJ9.R8snls4l3IE8Z2cgQ5Ti3g\",\n",
    "            #bearing=0,\n",
    "            #pitch=0,\n",
    "            center = dict(\n",
    "                lat = subjects[subject].iloc[subjects[subject].shape[0]//2][\"locationData.latitude\"], #middle point of the log\n",
    "                lon = subjects[subject].iloc[subjects[subject].shape[0]//2][\"locationData.longitude\"]\n",
    "            ),\n",
    "            zoom=13.5\n",
    "    ))\n",
    "\n",
    "    return fig"
   ]
  },
  {
   "cell_type": "markdown",
   "id": "9f4de5af-740c-4b07-8138-38906a6db6f9",
   "metadata": {},
   "source": [
    "#### Yaws"
   ]
  },
  {
   "cell_type": "code",
   "execution_count": 25,
   "id": "1e8e005f-91a3-4bf6-9ba1-3d727b309be8",
   "metadata": {},
   "outputs": [],
   "source": [
    "@app.callback(\n",
    "    dash.dependencies.Output('yaws-scatter', 'figure'),\n",
    "    [dash.dependencies.Input('filter_subject', 'value'),\n",
    "     dash.dependencies.Input('filter-slider-timestamp', 'value')])\n",
    "def update_yaws(subject, timestamp):\n",
    "    if not subject in subjects:\n",
    "        return go.Figure()\n",
    "    fig = go.Figure()\n",
    "    fig.add_trace(go.Scatter(\n",
    "        x=subjects[subject].index,\n",
    "        y=subjects[subject][\"relativeYaw\"],\n",
    "        mode=\"lines\",\n",
    "        name=\"Relative Yaw\")\n",
    "    )\n",
    "    fig.add_trace(go.Scatter(\n",
    "        x=subjects[subject].index,\n",
    "        y=subjects[subject][\"airpodsYawDegrees\"],\n",
    "        mode=\"lines\",\n",
    "        name=\"Raw Yaw Airpods\")\n",
    "    )\n",
    "    fig.add_trace(go.Scatter(\n",
    "        x=subjects[subject].index,\n",
    "        y=subjects[subject][\"phoneYawDegrees\"],\n",
    "        mode=\"lines\",\n",
    "        name=\"Raw Yaw iPhone\")\n",
    "    )\n",
    "    fig.add_annotation(\n",
    "        x=timestamp, \n",
    "        y=subjects[subject][\"relativeYaw\"].max(),\n",
    "        text=\"Chosen Time \" + str(timestamp),\n",
    "        showarrow=False,\n",
    "        yshift=10\n",
    "    )\n",
    "    fig.update_layout(\n",
    "        title_text=\"Yaws\",\n",
    "        autosize=True,\n",
    "        hovermode='closest',\n",
    "        shapes = [\n",
    "            # Line Horizontal\n",
    "            {\n",
    "                'type': 'line',\n",
    "                'x0': timestamp,\n",
    "                'y0': subjects[subject][\"relativeYaw\"].min(),\n",
    "                'x1': timestamp,\n",
    "                'y1': subjects[subject][\"relativeYaw\"].max(),\n",
    "                'line': {\n",
    "                    'color': 'rgb(50, 171, 96)',\n",
    "                    'width': 2\n",
    "                },\n",
    "            }\n",
    "        ]\n",
    "    )\n",
    "    add_conditions(subject,fig,\"airpodsYawDegrees\")\n",
    "    fig.update_xaxes(title_text='Time(seconds)')\n",
    "    fig.update_yaxes(title_text='Yaw (Degrees)')\n",
    "\n",
    "    return fig"
   ]
  },
  {
   "cell_type": "markdown",
   "id": "ce10996b-dc66-4d42-871d-e3d66a9c6a75",
   "metadata": {
    "tags": []
   },
   "source": [
    "#### Rolls"
   ]
  },
  {
   "cell_type": "code",
   "execution_count": 26,
   "id": "e90d33b4-da3d-4506-93d8-e7bf927725fb",
   "metadata": {},
   "outputs": [],
   "source": [
    "@app.callback(\n",
    "    dash.dependencies.Output('rolls-scatter', 'figure'),\n",
    "    [dash.dependencies.Input('filter_subject', 'value'),\n",
    "     dash.dependencies.Input('filter-slider-timestamp', 'value')])\n",
    "def update_rolls(subject, timestamp):\n",
    "    if not subject in subjects:\n",
    "        return go.Figure()\n",
    "    fig = go.Figure()\n",
    "    fig.add_trace(go.Scatter(\n",
    "        x=subjects[subject].index,\n",
    "        y=subjects[subject][\"relativeRoll\"],\n",
    "        mode=\"lines\",\n",
    "        name=\"Relative Roll\")\n",
    "    )\n",
    "    fig.add_trace(go.Scatter(\n",
    "        x=subjects[subject].index,\n",
    "        y=subjects[subject][\"airpodsRollDegrees\"],\n",
    "        mode=\"lines\",\n",
    "        name=\"Raw Roll Airpods\")\n",
    "    )\n",
    "    fig.add_trace(go.Scatter(\n",
    "        x=subjects[subject].index,\n",
    "        y=subjects[subject][\"phoneRollDegrees\"],\n",
    "        mode=\"lines\",\n",
    "        name=\"Raw Roll iPhone\")\n",
    "    )\n",
    "    fig.add_annotation(\n",
    "        x=timestamp, \n",
    "        y=subjects[subject][\"relativeRoll\"].max(),\n",
    "        text=\"Chosen Time \" + str(timestamp),\n",
    "        showarrow=False,\n",
    "        yshift=10\n",
    "    )\n",
    "    fig.update_layout(\n",
    "        title_text=\"Rolls (Body/Bike Tilt Angle ?)\",\n",
    "        autosize=True,\n",
    "        hovermode='closest',\n",
    "        shapes = [\n",
    "            # Line Horizontal\n",
    "            {\n",
    "                'type': 'line',\n",
    "                'x0': timestamp,\n",
    "                'y0': subjects[subject][\"relativeRoll\"].min(),\n",
    "                'x1': timestamp,\n",
    "                'y1': subjects[subject][\"relativeRoll\"].max(),\n",
    "                'line': {\n",
    "                    'color': 'rgb(50, 171, 96)',\n",
    "                    'width': 2\n",
    "                },\n",
    "            }\n",
    "        ]\n",
    "    )\n",
    "    add_conditions(subject,fig,\"airpodsRollDegrees\")\n",
    "    fig.update_xaxes(title_text='Time(seconds)')\n",
    "    fig.update_yaxes(title_text='Roll (Degrees)')\n",
    "\n",
    "    return fig"
   ]
  },
  {
   "cell_type": "markdown",
   "id": "feb9c13a-e679-417a-b10b-985d4349b04b",
   "metadata": {},
   "source": [
    "#### Pitchs"
   ]
  },
  {
   "cell_type": "code",
   "execution_count": 27,
   "id": "2c866c55-3c9b-4ca3-9667-d237cabf3c6a",
   "metadata": {},
   "outputs": [],
   "source": [
    "@app.callback(\n",
    "    dash.dependencies.Output('pitchs-scatter', 'figure'),\n",
    "    [dash.dependencies.Input('filter_subject', 'value'),\n",
    "     dash.dependencies.Input('filter-slider-timestamp', 'value')])\n",
    "def update_pitchs(subject, timestamp):\n",
    "    if not subject in subjects:\n",
    "        return go.Figure()\n",
    "    fig = go.Figure()\n",
    "    fig.add_trace(go.Scatter(\n",
    "        x=subjects[subject].index,\n",
    "        y=subjects[subject][\"relativePitch\"],\n",
    "        mode=\"lines\",\n",
    "        name=\"Relative Pitch\")\n",
    "    )\n",
    "    fig.add_trace(go.Scatter(\n",
    "        x=subjects[subject].index,\n",
    "        y=subjects[subject][\"airpodsPitchDegrees\"],\n",
    "        mode=\"lines\",\n",
    "        name=\"Raw Pitch Airpods\")\n",
    "    )\n",
    "    fig.add_trace(go.Scatter(\n",
    "        x=subjects[subject].index,\n",
    "        y=subjects[subject][\"phonePitchDegrees\"],\n",
    "        mode=\"lines\",\n",
    "        name=\"Raw Pitch iPhone\")\n",
    "    )\n",
    "    fig.add_annotation(\n",
    "        x=timestamp, \n",
    "        y=subjects[subject][\"relativePitch\"].max(),\n",
    "        text=\"Chosen Time \" + str(timestamp),\n",
    "        showarrow=False,\n",
    "        yshift=10\n",
    "    )\n",
    "    fig.update_layout(\n",
    "        title_text=\"Pitchs (Bike Altitude / Look at Phone ?)\",\n",
    "        autosize=True,\n",
    "        hovermode='closest',\n",
    "        shapes = [\n",
    "            # Line Horizontal\n",
    "            {\n",
    "                'type': 'line',\n",
    "                'x0': timestamp,\n",
    "                'y0': subjects[subject][\"relativePitch\"].min(),\n",
    "                'x1': timestamp,\n",
    "                'y1': subjects[subject][\"relativePitch\"].max(),\n",
    "                'line': {\n",
    "                    'color': 'rgb(50, 171, 96)',\n",
    "                    'width': 2\n",
    "                },\n",
    "            }\n",
    "        ]\n",
    "    )\n",
    "    add_conditions(subject,fig,\"airpodsPitchDegrees\")\n",
    "    fig.update_xaxes(title_text='Time(seconds)')\n",
    "    fig.update_yaxes(title_text='Pitch (Degrees)')\n",
    "\n",
    "    return fig"
   ]
  },
  {
   "cell_type": "markdown",
   "id": "dad7844b-a717-4a56-ad07-15ccb14c766a",
   "metadata": {},
   "source": [
    "#### Altitude"
   ]
  },
  {
   "cell_type": "code",
   "execution_count": 28,
   "id": "cd5db160-1d37-488c-8ea9-2dc66dd8e8de",
   "metadata": {},
   "outputs": [],
   "source": [
    "@app.callback(\n",
    "    dash.dependencies.Output('altitude', 'figure'),\n",
    "    [dash.dependencies.Input('filter_subject', 'value'),\n",
    "     dash.dependencies.Input('filter-slider-timestamp', 'value')])\n",
    "def update_altitude(subject, timestamp):\n",
    "    if not subject in subjects:\n",
    "        return go.Figure()\n",
    "    fig = go.Figure()\n",
    "    fig.add_trace(go.Scatter(\n",
    "        x=subjects[subject].index,\n",
    "        y=subjects[subject][\"locationData.altitude\"],\n",
    "        mode=\"lines\",fill=\"tozeroy\")\n",
    "    )\n",
    "    fig.add_annotation(\n",
    "        x=timestamp, \n",
    "        y=subjects[subject][\"locationData.altitude\"].max(),\n",
    "        text=\"Chosen Time \" + str(timestamp),\n",
    "        showarrow=False,\n",
    "        yshift=10\n",
    "    )\n",
    "    fig.update_layout(\n",
    "        title_text=\"Altitude\",\n",
    "        autosize=True,\n",
    "        hovermode='closest',\n",
    "        shapes = [\n",
    "        # Line Horizontal\n",
    "        {\n",
    "            'type': 'line',\n",
    "            'x0': timestamp,\n",
    "            'y0': subjects[subject][\"locationData.altitude\"].min(),\n",
    "            'x1': timestamp,\n",
    "            'y1': subjects[subject][\"locationData.altitude\"].max(),\n",
    "            'line': {\n",
    "                'color': 'rgb(50, 171, 96)',\n",
    "                'width': 2\n",
    "            },\n",
    "        }]\n",
    "    )\n",
    "    add_conditions(subject,fig,\"locationData.altitude\")\n",
    "    fig.update_xaxes(title_text='Time (seconds)')\n",
    "    fig.update_yaxes(\n",
    "        title_text='Altitude (meters)',\n",
    "        range = [subjects[subject][\"locationData.altitude\"].min(),subjects[subject][\"locationData.altitude\"].max()]\n",
    "    )\n",
    "\n",
    "    return fig"
   ]
  },
  {
   "cell_type": "markdown",
   "id": "e9da554f-48dd-43c4-bb8a-51531dd6b944",
   "metadata": {},
   "source": [
    "#### Acceleration"
   ]
  },
  {
   "cell_type": "code",
   "execution_count": 29,
   "id": "40134f35-3fbd-4382-8467-e8c79f0f22f5",
   "metadata": {},
   "outputs": [],
   "source": [
    "@app.callback(\n",
    "    dash.dependencies.Output('acceleration', 'figure'),\n",
    "    [dash.dependencies.Input('filter_subject', 'value'),\n",
    "     dash.dependencies.Input('filter-slider-timestamp', 'value')])\n",
    "def update_acceleration(subject, timestamp):\n",
    "    if not subject in subjects:\n",
    "        return go.Figure()\n",
    "    fig = go.Figure()\n",
    "    fig.add_trace(go.Scatter(\n",
    "        x=subjects[subject].index,\n",
    "        y=subjects[subject][\"phoneAcceleration.y\"],\n",
    "        mode=\"lines\")\n",
    "    )\n",
    "    fig.add_annotation(\n",
    "        x=timestamp, \n",
    "        y=subjects[subject][\"phoneAcceleration.y\"].max(),\n",
    "        text=\"Chosen Time \" + str(timestamp),\n",
    "        showarrow=False,\n",
    "        yshift=10\n",
    "    )\n",
    "    fig.update_layout(\n",
    "        title_text=\"Acceleration\",\n",
    "        autosize=True,\n",
    "        hovermode='closest',\n",
    "        shapes = [\n",
    "        # Line Horizontal\n",
    "        {\n",
    "            'type': 'line',\n",
    "            'x0': timestamp,\n",
    "            'y0': subjects[subject][\"phoneAcceleration.y\"].min(),\n",
    "            'x1': timestamp,\n",
    "            'y1': subjects[subject][\"phoneAcceleration.y\"].max(),\n",
    "            'line': {\n",
    "                'color': 'rgb(50, 171, 96)',\n",
    "                'width': 2\n",
    "            },\n",
    "        }]\n",
    "    )\n",
    "    add_conditions(subject,fig,\"phoneAcceleration.y\")\n",
    "    fig.update_xaxes(title_text='Time (seconds)')\n",
    "    fig.update_yaxes(title_text='Acceleration Y')\n",
    "    return fig"
   ]
  },
  {
   "cell_type": "markdown",
   "id": "d2e428a3-6c77-4b41-b916-c2106d68ee1e",
   "metadata": {},
   "source": [
    "#### Velocity"
   ]
  },
  {
   "cell_type": "code",
   "execution_count": 30,
   "id": "426f8662-ac71-480d-ac11-2456d6a7e0c1",
   "metadata": {},
   "outputs": [],
   "source": [
    "@app.callback(\n",
    "    dash.dependencies.Output('velocity', 'figure'),\n",
    "    [dash.dependencies.Input('filter_subject', 'value'),\n",
    "     dash.dependencies.Input('filter-slider-timestamp', 'value')])\n",
    "def update_velocity(subject, timestamp):\n",
    "    if not subject in subjects:\n",
    "        return go.Figure()\n",
    "    \n",
    "    fig = go.Figure()\n",
    "    fig.add_trace(go.Scatter(\n",
    "        x=subjects[subject].index,\n",
    "        y=subjects[subject][\"locationData.velocity\"],\n",
    "        mode=\"lines\")\n",
    "    )\n",
    "    fig.add_annotation(\n",
    "        x=timestamp, \n",
    "        y=subjects[subject][\"locationData.velocity\"].max(),\n",
    "        text=\"Chosen Time \" + str(timestamp),\n",
    "        showarrow=False,\n",
    "        yshift=10\n",
    "    )\n",
    "    fig.update_layout(\n",
    "        title_text=\"Velocity\",\n",
    "        autosize=True,\n",
    "        hovermode='closest',\n",
    "        shapes = [\n",
    "        # Line Horizontal\n",
    "        {\n",
    "            'type': 'line',\n",
    "            'x0': timestamp,\n",
    "            'y0': subjects[subject][\"locationData.velocity\"].min(),\n",
    "            'x1': timestamp,\n",
    "            'y1': subjects[subject][\"locationData.velocity\"].max(),\n",
    "            'line': {\n",
    "                'color': 'rgb(50, 171, 96)',\n",
    "                'width': 2\n",
    "            },\n",
    "        }]\n",
    "    )\n",
    "    add_conditions(subject,fig,\"locationData.velocity\")\n",
    "    fig.update_xaxes(title_text='Time (seconds)')\n",
    "    fig.update_yaxes(title_text='Velocity (km/h)')\n",
    "\n",
    "    return fig"
   ]
  },
  {
   "cell_type": "markdown",
   "id": "20eec85e-53d3-4a7e-ae71-e4324de406ab",
   "metadata": {
    "tags": []
   },
   "source": [
    "#### Headline"
   ]
  },
  {
   "cell_type": "code",
   "execution_count": 31,
   "id": "6e697ae5-2651-44e1-908a-0db66949598f",
   "metadata": {},
   "outputs": [],
   "source": [
    "@app.callback(\n",
    "    dash.dependencies.Output('headline_subject', 'children'),\n",
    "    [dash.dependencies.Input('filter_subject', 'value')])\n",
    "def update_headline(subject):\n",
    "    return \"### Realworld Study - \" + subject"
   ]
  },
  {
   "cell_type": "markdown",
   "id": "2dc29460-2c1b-4a53-b8f2-9db64edc91e8",
   "metadata": {},
   "source": [
    "#### Phone Battery"
   ]
  },
  {
   "cell_type": "code",
   "execution_count": 32,
   "id": "d32a0bfb-108e-4c0e-b0e9-363800773b50",
   "metadata": {},
   "outputs": [],
   "source": [
    "@app.callback(\n",
    "    dash.dependencies.Output('phone_battery', 'figure'),\n",
    "    [dash.dependencies.Input('filter_subject', 'value')])\n",
    "def update_battery(subject):\n",
    "    if not subject in subjects:\n",
    "        return go.Figure()\n",
    "    \n",
    "    fig = go.Figure()\n",
    "    fig.add_trace(go.Scatter(\n",
    "        x=subjects[subject].index, \n",
    "        y=subjects[subject][\"phoneBattery\"],\n",
    "        fill=\"tozeroy\")\n",
    "    )\n",
    "    fig.add_annotation(\n",
    "        x=timestamp, \n",
    "        y=subjects[subject][\"phoneBattery\"].max(),\n",
    "        text=\"Chosen Time \" + str(timestamp),\n",
    "        showarrow=False,\n",
    "        yshift=10\n",
    "    )\n",
    "    fig.update_layout(\n",
    "        title_text=\"Phone Battery\",\n",
    "        autosize=True,\n",
    "        hovermode='y unified',\n",
    "        shapes = [\n",
    "        # Line Horizontal\n",
    "        {\n",
    "            'type': 'line',\n",
    "            'x0': timestamp,\n",
    "            'y0': subjects[subject][\"phoneBattery\"].min(),\n",
    "            'x1': timestamp,\n",
    "            'y1': subjects[subject][\"phoneBattery\"].max(),\n",
    "            'line': {\n",
    "                'color': 'rgb(50, 171, 96)',\n",
    "                'width': 2\n",
    "            },\n",
    "        }]\n",
    "    )\n",
    "    fig.update_xaxes(title_text='Time (seconds)')\n",
    "    fig.update_yaxes(title_text='Battery level %')\n",
    "\n",
    "    return fig"
   ]
  },
  {
   "cell_type": "markdown",
   "id": "9d16c216-e549-48fd-b897-743d98452fe9",
   "metadata": {},
   "source": [
    "### Server Start"
   ]
  },
  {
   "cell_type": "code",
   "execution_count": 33,
   "id": "f231e4b1-871c-4e95-bc8c-11e113c8c3ca",
   "metadata": {},
   "outputs": [
    {
     "name": "stdout",
     "output_type": "stream",
     "text": [
      "Dash app running on http://127.0.0.1:8090/\n"
     ]
    },
    {
     "name": "stderr",
     "output_type": "stream",
     "text": [
      "127.0.0.1 - - [12/Jan/2023 13:51:46] code 400, message Bad request version ('\\x81Ôw]õøëÓRP\\x98ÚrsÇªê\\x19¿ýÛ)¯Ë¥ð.¼\\x11\\x97Ð{\\x00*ªª\\x13\\x01\\x13\\x02\\x13\\x03À,À+Ì©À0À/Ì¨À')\n",
      "127.0.0.1 - - [12/Jan/2023 13:51:46] code 400, message Bad request version ('\\x9de7\\x889Ñ\\x99DÓ\\x80ÿ\\x94aoTÕz\\x7f')\n",
      "127.0.0.1 - - [12/Jan/2023 13:51:46] code 400, message Bad request syntax ('\\x16\\x03\\x01\\x00}\\x01\\x00\\x00y\\x03\\x01Ø#£3Ì±vã/5*CPkÓ\"\\x14îí\\x16¬·W¹¹²\\x7fËÏdï/\\x00\\x00\\x14À')\n"
     ]
    }
   ],
   "source": [
    "app.run_server(mode='external', port = 8090, dev_tools_ui=True, debug=True,dev_tools_hot_reload =True, threaded=True)"
   ]
  }
 ],
 "metadata": {
  "kernelspec": {
   "display_name": "Python 3",
   "language": "python",
   "name": "python3"
  },
  "language_info": {
   "codemirror_mode": {
    "name": "ipython",
    "version": 3
   },
   "file_extension": ".py",
   "mimetype": "text/x-python",
   "name": "python",
   "nbconvert_exporter": "python",
   "pygments_lexer": "ipython3",
   "version": "3.11.1"
  },
  "vscode": {
   "interpreter": {
    "hash": "aee8b7b246df8f9039afb4144a1f6fd8d2ca17a180786b69acc140d282b71a49"
   }
  }
 },
 "nbformat": 4,
 "nbformat_minor": 5
}
