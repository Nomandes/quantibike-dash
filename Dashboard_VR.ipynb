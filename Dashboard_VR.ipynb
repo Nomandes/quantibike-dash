{
 "cells": [
  {
   "cell_type": "markdown",
   "id": "33169cc8-4cad-4a41-b580-5d84e23b1756",
   "metadata": {
    "tags": []
   },
   "source": [
    "# VR Study Dashboard"
   ]
  },
  {
   "cell_type": "markdown",
   "id": "02b28e8a-8280-420f-b9a2-e574d30e1f67",
   "metadata": {
    "tags": []
   },
   "source": [
    "## Imports, Settings & Functions"
   ]
  },
  {
   "attachments": {},
   "cell_type": "markdown",
   "id": "353a2ba4",
   "metadata": {},
   "source": [
    "### Imports"
   ]
  },
  {
   "cell_type": "code",
   "execution_count": 1,
   "id": "4db98b63",
   "metadata": {},
   "outputs": [],
   "source": [
    "import pandas as pd\n",
    "import numpy as np\n",
    "import plotly.express as px\n",
    "import plotly.graph_objects as go\n",
    "from jupyter_dash import JupyterDash\n",
    "from dash import dash_table\n",
    "from dash import dcc\n",
    "from dash import html\n",
    "from dash.dependencies import Input, Output\n",
    "import dash.dependencies\n",
    "import plotly.io as pio\n",
    "import math\n",
    "from plotly.subplots import make_subplots\n",
    "from plotly.graph_objs import *\n",
    "import json"
   ]
  },
  {
   "attachments": {},
   "cell_type": "markdown",
   "id": "893b5f0c",
   "metadata": {},
   "source": [
    "### Settings"
   ]
  },
  {
   "cell_type": "code",
   "execution_count": 2,
   "id": "da4c4231-a1ec-4397-9016-346f6aafcd19",
   "metadata": {},
   "outputs": [],
   "source": [
    "# code and plot setup\n",
    "pd.options.plotting.backend = \"plotly\"\n",
    "external_stylesheets = ['https://bootswatch.com/5/flatly/bootstrap.min.css']\n",
    "pio.templates.default = \"simple_white\"#seaborn plotly_dark\n",
    "\n",
    "COLOR_SIT_N_HEX = \"#FFFFFF\"\n",
    "COLOR_SIT_A_HEX = \"#7a5b7b\"\n",
    "COLOR_SIT_B_HEX = \"#f9dbbd\"\n",
    "COLOR_SIT_C_HEX = \"#fca17d\"\n",
    "COLOR_SIT_D_HEX = \"#68534d\"\n",
    "COLOR_SIT_E_HEX = \"#5b7b7a\"\n",
    "COLOR_SIT_X_HEX = \"#8f2d41\"\n",
    "\n",
    "marking_red = \"#961C26\"   #'#B90F22'\n",
    "\n",
    "plot_width = 1024;\n",
    "plot_height = 768;\n",
    "\n",
    "#Plot Layout for no background\n",
    "layout = Layout(\n",
    "    paper_bgcolor='rgba(0,0,0,0)',\n",
    "    plot_bgcolor='rgba(0,0,0,0)'\n",
    ")\n",
    "# Rotation threshhold defines which degree has to be reached to count as rotation. \n",
    "# Every rotation which overcomes this value will be counted as headrotation\n",
    "rotation_threshhold = 20.0\n",
    "\n",
    "app = JupyterDash(__name__, external_stylesheets=external_stylesheets)"
   ]
  },
  {
   "attachments": {},
   "cell_type": "markdown",
   "id": "afaa64eb",
   "metadata": {},
   "source": [
    "### Functions"
   ]
  },
  {
   "cell_type": "code",
   "execution_count": 3,
   "id": "c495395d-e6ca-4db3-92fe-44ea00d91661",
   "metadata": {},
   "outputs": [],
   "source": [
    "# functions\n",
    "def load_tsv(path):\n",
    "    df = pd.read_csv(path,sep='\\t');\n",
    "    # dframe.drop(dframe[dframe.type.str.contains(\"_ex\")].index, inplace=True) -> TO Drop specific lines!\n",
    "    return df\n",
    "def load_csv(path):\n",
    "    df = pd.read_csv(path,sep=';');\n",
    "    return df\n",
    "\n",
    "def read_data(path):\n",
    "    df = load_tsv(path)\n",
    "    \n",
    "    # normalize timestamp to start at 0\n",
    "    firstTimestamp = df[\"timestamp\"].iloc[0]\n",
    "    df[\"timestamp\"] = df.apply(lambda x: x[\"timestamp\"] - firstTimestamp,axis=1)\n",
    "    \n",
    "    # Timestamps from miliseconds to seconds\n",
    "    df[\"timestamp\"] = df.apply(lambda x: x[\"timestamp\"] / 1000,axis=1)\n",
    "    \n",
    "    #Timestamps as index\n",
    "    df.set_index('timestamp',inplace=True)\n",
    "    \n",
    "    #Cutting 0 FPS columns because irrelevant\n",
    "#    df = df.loc[df['fps'] > 0]\n",
    "    \n",
    "#    df = df.apply(pd.to_numeric, errors='coerce')\n",
    "    #rework boolean for plotting\n",
    "    df.replace({False: 0, True: 1}, inplace=True)\n",
    "    \n",
    "    addRotations(df)\n",
    "    return df\n",
    "def add_conditions(subject,fig,propertyName):\n",
    "    shapes = []\n",
    "    intersections = subjects[subject][[\"intersection\"]]\n",
    "    #mark the rows where the content changes\n",
    "    changes = intersections[\"intersection\"].shift() != intersections[\"intersection\"]\n",
    "    #get the rows where the change happens\n",
    "    changeRows = intersections.loc[changes[changes].index, :]\n",
    "    lastElem = intersections.iloc[0]\n",
    "\n",
    "    #create axspan for each\n",
    "    for index, row in changeRows.iterrows():\n",
    "        if index > 0:\n",
    "            condition = conditions.loc[conditions[\"intersection\"] == lastElem[1][\"intersection\"]]    \n",
    "            #Colors..\n",
    "            if lastElem[1][\"intersection\"] == \"NONE\":\n",
    "                lastElem = [index,row]\n",
    "                continue\n",
    "            elif  condition.empty:\n",
    "                color = COLOR_SIT_X_HEX\n",
    "            elif  condition[\"condition\"].values[0] == 'x':\n",
    "                color = COLOR_SIT_X_HEX\n",
    "            elif  condition[\"condition\"].values[0] == 'a':\n",
    "                color = COLOR_SIT_A_HEX\n",
    "            elif  condition[\"condition\"].values[0] == 'b':\n",
    "                color = COLOR_SIT_B_HEX\n",
    "            elif  condition[\"condition\"].values[0] == 'c':\n",
    "                color = COLOR_SIT_C_HEX\n",
    "            elif  condition[\"condition\"].values[0] == 'd':\n",
    "                color = COLOR_SIT_D_HEX\n",
    "            elif  condition[\"condition\"].values[0] == 'e':\n",
    "                color = COLOR_SIT_E_HEX\n",
    "            shapes.append({\n",
    "                'type': 'rect',\n",
    "    #            xref: 'x',\n",
    "    #            yref: 'paper',\n",
    "                'x0': lastElem[0],\n",
    "                'y0': subjects[subject][propertyName].min(),\n",
    "                'x1': index,\n",
    "                'y1': subjects[subject][propertyName].max(),\n",
    "                'fillcolor': color,\n",
    "                'opacity': 0.5,\n",
    "                'line': {\n",
    "                    'width': 0\n",
    "                }\n",
    "            })\n",
    "        lastElem = [index,row]\n",
    "    fig.update_layout(shapes = shapes)\n",
    "#Creates a dict containing every situation. For every situation containing a list with tuples of start and endpoints per single situation\n",
    "def getSituationSplits(df):\n",
    "    intersections = df[[\"intersection\"]]\n",
    "    #mark the rows where the content changes\n",
    "    changes = intersections[\"intersection\"].shift() != intersections[\"intersection\"]\n",
    "    #get the rows where the change happens\n",
    "    changeRows = intersections.loc[changes[changes].index, :]\n",
    "    lastElem = intersections.iloc[0]\n",
    "    \n",
    "    times = {\n",
    "        \"none\" : [],\n",
    "        \"x\" : [],\n",
    "        \"a\" : [],\n",
    "        \"b\" : [],\n",
    "        \"c\" : [],\n",
    "        \"d\" : [],\n",
    "        \"e\" : []\n",
    "    }\n",
    "    \n",
    "    #create axspan for each\n",
    "    for index, row in changeRows.iterrows():\n",
    "        if index > 0:\n",
    "            condition = conditions.loc[conditions[\"intersection\"] == lastElem[1][\"intersection\"]]    \n",
    "            if lastElem[1][\"intersection\"] == \"NONE\":\n",
    "                times[\"none\"].append((lastElem[0],index))\n",
    "            elif  condition.empty:\n",
    "                times[\"none\"].append((lastElem[0],index))\n",
    "            elif  condition[\"condition\"].values[0] == 'x':\n",
    "                times[\"x\"].append((lastElem[0],index))\n",
    "            elif  condition[\"condition\"].values[0] == 'a':\n",
    "                times[\"a\"].append((lastElem[0],index))\n",
    "            elif  condition[\"condition\"].values[0] == 'b':\n",
    "                times[\"b\"].append((lastElem[0],index))\n",
    "            elif  condition[\"condition\"].values[0] == 'c':\n",
    "                times[\"c\"].append((lastElem[0],index))\n",
    "            elif  condition[\"condition\"].values[0] == 'd':\n",
    "                times[\"d\"].append((lastElem[0],index))\n",
    "            elif  condition[\"condition\"].values[0] == 'e':\n",
    "                times[\"e\"].append((lastElem[0],index))\n",
    "        lastElem = [index,row]\n",
    "    return times\n",
    "def getAverageOfSplit(situation,subject):\n",
    "    #display([\n",
    "    #    subject_splits[subject][situation][0][1] - subject_splits[subject][situation][0][0],\n",
    "    #    subject_splits[subject][situation][1][1] - subject_splits[subject][situation][1][0],\n",
    "    #    subject_splits[subject][situation][2][1] - subject_splits[subject][situation][2][0]\n",
    "    #])\n",
    "    return np.mean([\n",
    "        subject_splits[subject][situation][0][1] - subject_splits[subject][situation][0][0],\n",
    "        subject_splits[subject][situation][1][1] - subject_splits[subject][situation][1][0],\n",
    "        subject_splits[subject][situation][2][1] - subject_splits[subject][situation][2][0]\n",
    "    ])\n",
    "# adds two rows to the dataframe. rotations which indicates the rotation for each row, group_index which indicates to which look count the row is sorted (1 group = 1 look)\n",
    "def addRotations(df):\n",
    "    df[\"rotation\"] = \"x\"\n",
    "    df.loc[(df[\"hmdRotationY\"] > rotation_threshhold),\"rotation\"] = \"r\"\n",
    "    df.loc[(df[\"hmdRotationY\"] < -rotation_threshhold),\"rotation\"] = \"l\"\n",
    "    df['group_index'] = (df['rotation'] != df['rotation'].shift()).cumsum()\n",
    "    \n",
    "#Returns the rotations for each situation for given subject\n",
    "def getRotations(subject):\n",
    "    rotations = {\n",
    "        \"a\" : [],\n",
    "        \"b\" : [],\n",
    "        \"c\" : [],\n",
    "        \"d\" : [],\n",
    "        \"e\" : []\n",
    "    }    \n",
    "    for key,values in rotations.items():\n",
    "        for split_sit in subject_splits[subject][key]:\n",
    "            rot_groups = subjects[subject][split_sit[0]:split_sit[1]].groupby(['rotation'])[\"group_index\"]\n",
    "            rots = subjects[subject][split_sit[0]:split_sit[1]].groupby(['rotation'])[\"group_index\"].nunique()\n",
    "            values.append((rots.get(\"l\" , 0),rots.get(\"r\" , 0)))\n",
    "    return rotations\n",
    "def getAngles(subject):\n",
    "    situation_angles = []\n",
    "    # For every Situation...\n",
    "    for key in [\"a\",\"b\",\"c\",\"d\",\"e\"]:\n",
    "        #for every iteration of this situation\n",
    "        for index,split_sit in enumerate(subject_splits[subject][key]):\n",
    "            rot_groups = subjects[subject][split_sit[0]:split_sit[1]][[\"rotation\",\"hmdRotationY\",\"group_index\"]]#.groupby(['rotation'])[\"group_index\"]\n",
    "            rot_groups.groupby(['rotation'])\n",
    "            # for every found headrotation\n",
    "            for group in rot_groups[\"group_index\"].unique():\n",
    "                df_group = rot_groups.loc[rot_groups[\"group_index\"] == group]\n",
    "                if 'l' in df_group[\"rotation\"].unique():\n",
    "                    situation_angles.append((key,index,\"left\",df_group[\"hmdRotationY\"].min()))\n",
    "                elif 'r' in df_group[\"rotation\"].unique():\n",
    "                    situation_angles.append((key,index,\"right\",df_group[\"hmdRotationY\"].max()))\n",
    "    return np.array(situation_angles,dtype = ([('situation', 'U10'),('iteration', 'i4'),('direction', 'U10'), ('angle', 'f4')]))\n",
    "def getCollisions(subject):\n",
    "    crashCount = {\n",
    "        \"none\" : 0,\n",
    "        \"x\" : 0,\n",
    "        \"a\" : 0,\n",
    "        \"b\" : 0,\n",
    "        \"c\" : 0,\n",
    "        \"d\" : 0,\n",
    "        \"e\" : 0\n",
    "    }\n",
    "    crashes = subjects[subject][[\"collisions\",\"intersection\"]].loc[subjects[subject][\"collisions\"] != 0]   \n",
    "    for index,row in crashes.iterrows():\n",
    "        if row[\"intersection\"] in conditions[\"intersection\"].unique():\n",
    "            condition = conditions.loc[conditions[\"intersection\"] == row[\"intersection\"]][\"condition\"].iloc[0]\n",
    "            crashCount[condition] = crashCount[condition] + 1\n",
    "    return crashCount\n",
    "# Returns per situation the mean of all (3) situations which contain the sum of all occured stand incidents (speedsensor = 0) in the situation\n",
    "def getStandtimes(subject):\n",
    "    situation_stands = []\n",
    "    for situation in [\"a\",\"b\",\"c\",\"e\"]:\n",
    "        #for every iteration of this situation\n",
    "        for index,split_sit in enumerate(subject_splits[subject][situation]):\n",
    "            df_timeslice = subjects[subject].loc[split_sit[0]:split_sit[1]][\"speed\"]\n",
    "            group_index = (df_timeslice != df_timeslice.shift()).cumsum()\n",
    "            # for every found headrotation\n",
    "            standedInIteration = False\n",
    "            for stand_sit_group in group_index.unique():\n",
    "                df_sit = group_index.loc[group_index == stand_sit_group]\n",
    "                if df_timeslice[df_sit.index[0]] == 0.0:\n",
    "                    situation_stands.append((situation,index,df_sit.index[-1] - df_sit.index[0]))\n",
    "                    standedInIteration = True\n",
    "            if not standedInIteration:\n",
    "                # This iteration no one stand. Adding 0 to account for in mean calculations\n",
    "                situation_stands.append((situation,index,0.00))\n",
    "    return np.array(situation_stands,dtype = ([('situation', 'U10'),('iteration', 'i4'), ('seconds', 'f4')]))\n",
    "\n",
    "# builds sum over all iterations of one situation, returns mean of this sum\n",
    "def getMeanOfStandSituation(times,situation):\n",
    "    sit_times = times[times[\"situation\"] == situation]\n",
    "    sit_sums = []\n",
    "    for iteration in np.unique(sit_times[\"iteration\"]):\n",
    "        sit_sums.append(np.sum(sit_times[sit_times[\"iteration\"] == iteration][\"seconds\"]))\n",
    "    return np.mean(sit_sums)"
   ]
  },
  {
   "cell_type": "markdown",
   "id": "d03103e1-8424-4987-a362-32bd8d70956d",
   "metadata": {},
   "source": [
    "## Data Read"
   ]
  },
  {
   "cell_type": "code",
   "execution_count": 4,
   "id": "72b7522f-a96f-4082-8ce1-83cf15c2fcb0",
   "metadata": {},
   "outputs": [
    {
     "name": "stderr",
     "output_type": "stream",
     "text": [
      "/var/folders/dq/2dn0y4q57nzg9w8bsvw5zv800000gn/T/ipykernel_43890/3518786591.py:3: DtypeWarning: Columns (5) have mixed types. Specify dtype option on import or set low_memory=False.\n",
      "  df = pd.read_csv(path,sep='\\t');\n"
     ]
    }
   ],
   "source": [
    "#Global read conditions\n",
    "conditions = load_csv(\"./logs_vr/conditions.csv\")\n",
    "\n",
    "df_subject1 = read_data('./logs_vr/subject1_2022-06-28_103935_Condition_0.tsv')\n",
    "df_subject2 = read_data('./logs_vr/subject2_2022-06-28_152542_Condition_0.tsv')\n",
    "df_subject3 = read_data('./logs_vr/subject3_2022-06-28_164830_Condition_0.tsv')\n",
    "df_subject4 = read_data('./logs_vr/subject4_2022-06-29_134215_Condition_0.tsv')\n",
    "df_subject5 = read_data('./logs_vr/subject5_2022-06-29_143922_Condition_0.tsv')\n",
    "df_subject6 = read_data('./logs_vr/subject6_2022-06-29_153217_Condition_0.tsv')\n",
    "df_subject7 = read_data('./logs_vr/subject7_2022-06-30_133951_Condition_0.tsv')\n",
    "df_subject8= read_data('./logs_vr/subject8_2022-07-05_161117_Condition_0.tsv')\n",
    "df_subject9= read_data('./logs_vr/subject9_2022-07-05_171811_Condition_0.tsv')\n",
    "df_subject10 = read_data('./logs_vr/subject10_2022-07-05_175819_Condition_0.tsv')\n",
    "df_subject11 = read_data('./logs_vr/subject11_2022-07-06_134238_Condition_0.tsv')\n",
    "df_subject12 = read_data('./logs_vr/subject12_2022-07-08_111356_Condition_0.tsv')"
   ]
  },
  {
   "cell_type": "code",
   "execution_count": 5,
   "id": "0bf07d79-f7b2-450b-b5d3-23df51b93bfd",
   "metadata": {},
   "outputs": [],
   "source": [
    "subjects = {\n",
    "    \"Subject 1\" : df_subject1,\n",
    "    \"Subject 2\" : df_subject2,\n",
    "    \"Subject 3\" : df_subject3,\n",
    "    \"Subject 4\" : df_subject4,\n",
    "    \"Subject 5\" : df_subject5,\n",
    "    \"Subject 6\" : df_subject6,\n",
    "    \"Subject 7\" : df_subject7,\n",
    "    \"Subject 8\" : df_subject8,\n",
    "    \"Subject 9\" : df_subject9,\n",
    "    \"Subject 10\" : df_subject10,\n",
    "    \"Subject 11\" : df_subject11,\n",
    "    \"Subject 12\" : df_subject12\n",
    "}\n",
    "subject_splits = {\n",
    "    \"Subject 1\" : getSituationSplits(df_subject1),\n",
    "    \"Subject 2\" : getSituationSplits(df_subject2),\n",
    "    \"Subject 3\" : getSituationSplits(df_subject3),\n",
    "    \"Subject 4\" : getSituationSplits(df_subject4),\n",
    "    \"Subject 5\" : getSituationSplits(df_subject5),\n",
    "    \"Subject 6\" : getSituationSplits(df_subject6),\n",
    "    \"Subject 7\" : getSituationSplits(df_subject7),\n",
    "    \"Subject 8\" : getSituationSplits(df_subject8),\n",
    "    \"Subject 9\" : getSituationSplits(df_subject9),\n",
    "    \"Subject 10\" : getSituationSplits(df_subject10),\n",
    "    \"Subject 11\" : getSituationSplits(df_subject11),\n",
    "    \"Subject 12\" : getSituationSplits(df_subject12)\n",
    "}\n",
    "#[difficulty,safety]\n",
    "subjects_perceived = {\n",
    "    \"Subject 1\" :  [[5,1,3,3,1],[4,4,3,3,5]],\n",
    "    \"Subject 2\" :  [[2,3,2,2,4],[4,2,4,2,1]],\n",
    "    \"Subject 3\" :  [[3,1,2,2,4],[2,5,4,4,3]],\n",
    "    \"Subject 4\" :  [[2,2,5,4,3],[4,4,1,1,2]],\n",
    "    \"Subject 5\" :  [[2,2,3,4,4],[4,5,2,4,2]],\n",
    "    \"Subject 6\" :  [[2,1,1,5,5],[2,2,4,5,1]],\n",
    "    \"Subject 7\" :  [[4,1,3,4,2],[4,5,3,2,4]],\n",
    "    \"Subject 8\" :  [[4,1,4,2,5],[1,4,2,5,1]],\n",
    "    \"Subject 9\" :  [[2,1,4,5,5],[4,3,2,2,2]],\n",
    "    \"Subject 10\" : [[1,3,2,4,4],[5,3,4,3,2]],\n",
    "    \"Subject 11\" : [[4,2,3,5,3],[2,4,4,1,3]],\n",
    "    \"Subject 12\" : [[4,2,5,3,2],[1,5,1,3,4]],\n",
    "}\n",
    "\n",
    "available_data_labels = list(subjects.keys())"
   ]
  },
  {
   "cell_type": "code",
   "execution_count": 6,
   "id": "f7c57f85-718d-4541-8839-bd8ed7af892e",
   "metadata": {},
   "outputs": [
    {
     "name": "stderr",
     "output_type": "stream",
     "text": [
      "/Library/Frameworks/Python.framework/Versions/3.11/lib/python3.11/site-packages/numpy/core/fromnumeric.py:3464: RuntimeWarning: Mean of empty slice.\n",
      "  return _methods._mean(a, axis=axis, dtype=dtype,\n",
      "/Library/Frameworks/Python.framework/Versions/3.11/lib/python3.11/site-packages/numpy/core/_methods.py:192: RuntimeWarning: invalid value encountered in divide\n",
      "  ret = ret.dtype.type(ret / rcount)\n",
      "/Library/Frameworks/Python.framework/Versions/3.11/lib/python3.11/site-packages/numpy/core/fromnumeric.py:3464: RuntimeWarning: Mean of empty slice.\n",
      "  return _methods._mean(a, axis=axis, dtype=dtype,\n",
      "/Library/Frameworks/Python.framework/Versions/3.11/lib/python3.11/site-packages/numpy/core/_methods.py:192: RuntimeWarning: invalid value encountered in divide\n",
      "  ret = ret.dtype.type(ret / rcount)\n",
      "/Library/Frameworks/Python.framework/Versions/3.11/lib/python3.11/site-packages/numpy/core/fromnumeric.py:3464: RuntimeWarning: Mean of empty slice.\n",
      "  return _methods._mean(a, axis=axis, dtype=dtype,\n",
      "/Library/Frameworks/Python.framework/Versions/3.11/lib/python3.11/site-packages/numpy/core/_methods.py:192: RuntimeWarning: invalid value encountered in divide\n",
      "  ret = ret.dtype.type(ret / rcount)\n",
      "/Library/Frameworks/Python.framework/Versions/3.11/lib/python3.11/site-packages/numpy/core/fromnumeric.py:3464: RuntimeWarning: Mean of empty slice.\n",
      "  return _methods._mean(a, axis=axis, dtype=dtype,\n",
      "/Library/Frameworks/Python.framework/Versions/3.11/lib/python3.11/site-packages/numpy/core/_methods.py:192: RuntimeWarning: invalid value encountered in divide\n",
      "  ret = ret.dtype.type(ret / rcount)\n",
      "/Library/Frameworks/Python.framework/Versions/3.11/lib/python3.11/site-packages/numpy/core/fromnumeric.py:3464: RuntimeWarning: Mean of empty slice.\n",
      "  return _methods._mean(a, axis=axis, dtype=dtype,\n",
      "/Library/Frameworks/Python.framework/Versions/3.11/lib/python3.11/site-packages/numpy/core/_methods.py:192: RuntimeWarning: invalid value encountered in divide\n",
      "  ret = ret.dtype.type(ret / rcount)\n",
      "/Library/Frameworks/Python.framework/Versions/3.11/lib/python3.11/site-packages/numpy/core/fromnumeric.py:3464: RuntimeWarning: Mean of empty slice.\n",
      "  return _methods._mean(a, axis=axis, dtype=dtype,\n",
      "/Library/Frameworks/Python.framework/Versions/3.11/lib/python3.11/site-packages/numpy/core/_methods.py:192: RuntimeWarning: invalid value encountered in divide\n",
      "  ret = ret.dtype.type(ret / rcount)\n",
      "/Library/Frameworks/Python.framework/Versions/3.11/lib/python3.11/site-packages/numpy/core/fromnumeric.py:3464: RuntimeWarning: Mean of empty slice.\n",
      "  return _methods._mean(a, axis=axis, dtype=dtype,\n",
      "/Library/Frameworks/Python.framework/Versions/3.11/lib/python3.11/site-packages/numpy/core/_methods.py:192: RuntimeWarning: invalid value encountered in divide\n",
      "  ret = ret.dtype.type(ret / rcount)\n"
     ]
    }
   ],
   "source": [
    "# Dataframe with meanvalues per subject, fields for situations\n",
    "data = []\n",
    "for key,value in subjects.items():\n",
    "    rotations = getRotations(key)\n",
    "    collisions = getCollisions(key)\n",
    "    standtimes = getStandtimes(key)\n",
    "    angles = getAngles(key)\n",
    "    left_angles = angles[(angles[\"situation\"] == key) & (angles[\"direction\"] == \"left\")][\"angle\"]\n",
    "    right_angles = angles[(angles[\"situation\"] == key) & (angles[\"direction\"] == \"right\")][\"angle\"]\n",
    "    data.append([\n",
    "        key,\n",
    "        value[\"hmdRotationY\"].mean(axis=0),\n",
    "        value[\"speed\"].mean(axis=0),\n",
    "        value.index[-1],\n",
    "        getAverageOfSplit(\"a\",key),\n",
    "        getAverageOfSplit(\"b\",key),\n",
    "        getAverageOfSplit(\"c\",key),\n",
    "        0,\n",
    "        getAverageOfSplit(\"e\",key),\n",
    "        getMeanOfStandSituation(standtimes,\"a\"),\n",
    "        getMeanOfStandSituation(standtimes,\"b\"),\n",
    "        getMeanOfStandSituation(standtimes,\"c\"),\n",
    "        0,\n",
    "        getMeanOfStandSituation(standtimes,\"e\"),\n",
    "        collisions[\"a\"],\n",
    "        collisions[\"b\"],\n",
    "        collisions[\"c\"],\n",
    "        0,\n",
    "        collisions[\"e\"],\n",
    "        np.sum([i[0] for i in rotations[\"a\"]]) / len(rotations[\"a\"]),\n",
    "        np.sum([i[0] for i in rotations[\"b\"]])/ len(rotations[\"a\"]),\n",
    "        np.sum([i[0] for i in rotations[\"c\"]])/ len(rotations[\"a\"]),\n",
    "        0,\n",
    "        np.sum([i[0] for i in rotations[\"e\"]])/ len(rotations[\"a\"]),\n",
    "        np.sum([i[1] for i in rotations[\"a\"]])/ len(rotations[\"a\"]),\n",
    "        np.sum([i[1] for i in rotations[\"b\"]])/ len(rotations[\"a\"]),\n",
    "        np.sum([i[1] for i in rotations[\"c\"]])/ len(rotations[\"a\"]),\n",
    "        0,\n",
    "        np.sum([i[1] for i in rotations[\"e\"]])/ len(rotations[\"a\"]),\n",
    "        np.mean(angles[(angles[\"situation\"] == \"a\") & (angles[\"direction\"] == \"left\")][\"angle\"]),\n",
    "        np.mean(angles[(angles[\"situation\"] == \"b\") & (angles[\"direction\"] == \"left\")][\"angle\"]),\n",
    "        np.mean(angles[(angles[\"situation\"] == \"c\") & (angles[\"direction\"] == \"left\")][\"angle\"]),\n",
    "        0,\n",
    "        np.mean(angles[(angles[\"situation\"] == \"e\") & (angles[\"direction\"] == \"left\")][\"angle\"]),\n",
    "        np.mean(angles[(angles[\"situation\"] == \"a\") & (angles[\"direction\"] == \"right\")][\"angle\"]),\n",
    "        np.mean(angles[(angles[\"situation\"] == \"b\") & (angles[\"direction\"] == \"right\")][\"angle\"]),\n",
    "        np.mean(angles[(angles[\"situation\"] == \"c\") & (angles[\"direction\"] == \"right\")][\"angle\"]),\n",
    "        0,\n",
    "        np.mean(angles[(angles[\"situation\"] == \"e\") & (angles[\"direction\"] == \"right\")][\"angle\"]),\n",
    "        #safety\n",
    "        subjects_perceived[key][1][0],\n",
    "        subjects_perceived[key][1][1],\n",
    "        subjects_perceived[key][1][2],\n",
    "        subjects_perceived[key][1][3],\n",
    "        subjects_perceived[key][1][4],\n",
    "        #difficulty\n",
    "        subjects_perceived[key][0][0],\n",
    "        subjects_perceived[key][0][1],\n",
    "        subjects_perceived[key][0][2],\n",
    "        subjects_perceived[key][0][3],\n",
    "        subjects_perceived[key][0][4]\n",
    "    ])\n",
    "df_all = pd.DataFrame(data, columns=[\n",
    "    'subject', \n",
    "    'mean_rotation',\n",
    "    'mean_speed',\n",
    "    \"duration\",\n",
    "    'sit_a_duration',\n",
    "    'sit_b_duration',\n",
    "    'sit_c_duration',\n",
    "    'sit_d_duration',\n",
    "    'sit_e_duration',\n",
    "    'sit_a_standtime',\n",
    "    'sit_b_standtime',\n",
    "    'sit_c_standtime',\n",
    "    'sit_d_standtime',\n",
    "    'sit_e_standtime',\n",
    "    'sit_a_collisions',\n",
    "    'sit_b_collisions',\n",
    "    'sit_c_collisions',\n",
    "    'sit_d_collisions',\n",
    "    'sit_e_collisions',\n",
    "    'sit_a_left_rotations',\n",
    "    'sit_b_left_rotations',\n",
    "    'sit_c_left_rotations',\n",
    "    'sit_d_left_rotations',\n",
    "    'sit_e_left_rotations',\n",
    "    'sit_a_right_rotations',\n",
    "    'sit_b_right_rotations',\n",
    "    'sit_c_right_rotations',\n",
    "    'sit_d_right_rotations',\n",
    "    'sit_e_right_rotations',\n",
    "    'sit_a_left_angle',\n",
    "    'sit_b_left_angle',\n",
    "    'sit_c_left_angle',\n",
    "    'sit_d_left_angle',\n",
    "    'sit_e_left_angle',\n",
    "    'sit_a_right_angle',\n",
    "    'sit_b_right_angle',\n",
    "    'sit_c_right_angle',\n",
    "    'sit_d_right_angle',\n",
    "    'sit_e_right_angle',\n",
    "    \"sit_a_safety\",\n",
    "    \"sit_b_safety\",\n",
    "    \"sit_c_safety\",\n",
    "    \"sit_d_safety\",\n",
    "    \"sit_e_safety\",\n",
    "    \"sit_a_difficulty\",\n",
    "    \"sit_b_difficulty\",\n",
    "    \"sit_c_difficulty\",\n",
    "    \"sit_d_difficulty\",\n",
    "    \"sit_e_difficulty\"\n",
    "])\n",
    "df_all.loc['Total'] = df_all.mean(numeric_only=True)\n",
    "#df_all.loc['SD'] = df_all.std(numeric_only=True)"
   ]
  },
  {
   "cell_type": "code",
   "execution_count": 7,
   "id": "d7ba1ad6-c5da-4e21-b72c-56abd0ce60ef",
   "metadata": {},
   "outputs": [],
   "source": [
    "#Correlations\n",
    "data = []\n",
    "for key,value in subjects.items():\n",
    "    rotations = getRotations(key)\n",
    "    collisions = getCollisions(key)\n",
    "    standtimes = getStandtimes(key)\n",
    "    angles = getAngles(key)\n",
    "    left_angles = angles[(angles[\"situation\"] == key) & (angles[\"direction\"] == \"left\")][\"angle\"]\n",
    "    right_angles = angles[(angles[\"situation\"] == key) & (angles[\"direction\"] == \"right\")][\"angle\"]\n",
    "    data.append([\n",
    "        key,\n",
    "        #Rotations have to be divided by the iterations. We need amount\n",
    "        [i[0] for i in rotations[\"a\"]],\n",
    "        [i[0] for i in rotations[\"b\"]],\n",
    "        [i[0] for i in rotations[\"c\"]],\n",
    "        0,\n",
    "        [i[0] for i in rotations[\"e\"]],\n",
    "        [i[1] for i in rotations[\"a\"]],\n",
    "        [i[1] for i in rotations[\"b\"]],\n",
    "        [i[1] for i in rotations[\"c\"]],\n",
    "        0,\n",
    "        [i[1] for i in rotations[\"e\"]],\n",
    "        angles[(angles[\"situation\"] == \"a\") & (angles[\"direction\"] == \"left\")][\"angle\"],\n",
    "        angles[(angles[\"situation\"] == \"b\") & (angles[\"direction\"] == \"left\")][\"angle\"],\n",
    "        angles[(angles[\"situation\"] == \"c\") & (angles[\"direction\"] == \"left\")][\"angle\"],\n",
    "        0,\n",
    "        angles[(angles[\"situation\"] == \"e\") & (angles[\"direction\"] == \"left\")][\"angle\"],\n",
    "        angles[(angles[\"situation\"] == \"a\") & (angles[\"direction\"] == \"right\")][\"angle\"],\n",
    "        angles[(angles[\"situation\"] == \"b\") & (angles[\"direction\"] == \"right\")][\"angle\"],\n",
    "        angles[(angles[\"situation\"] == \"c\") & (angles[\"direction\"] == \"right\")][\"angle\"],\n",
    "        0,\n",
    "        angles[(angles[\"situation\"] == \"e\") & (angles[\"direction\"] == \"right\")][\"angle\"],\n",
    "        #safety\n",
    "        subjects_perceived[key][1][0],\n",
    "        subjects_perceived[key][1][1],\n",
    "        subjects_perceived[key][1][2],\n",
    "        subjects_perceived[key][1][3],\n",
    "        subjects_perceived[key][1][4],\n",
    "        #difficulty\n",
    "        subjects_perceived[key][0][0],\n",
    "        subjects_perceived[key][0][1],\n",
    "        subjects_perceived[key][0][2],\n",
    "        subjects_perceived[key][0][3],\n",
    "        subjects_perceived[key][0][4]\n",
    "    ])\n",
    "df_corr = pd.DataFrame(data, columns=[\n",
    "    'subject', \n",
    "    'sit_a_left_rotations',\n",
    "    'sit_b_left_rotations',\n",
    "    'sit_c_left_rotations',\n",
    "    'sit_d_left_rotations',\n",
    "    'sit_e_left_rotations',\n",
    "    'sit_a_right_rotations',\n",
    "    'sit_b_right_rotations',\n",
    "    'sit_c_right_rotations',\n",
    "    'sit_d_right_rotations',\n",
    "    'sit_e_right_rotations',\n",
    "    'sit_a_left_angle',\n",
    "    'sit_b_left_angle',\n",
    "    'sit_c_left_angle',\n",
    "    'sit_d_left_angle',\n",
    "    'sit_e_left_angle',\n",
    "    'sit_a_right_angle',\n",
    "    'sit_b_right_angle',\n",
    "    'sit_c_right_angle',\n",
    "    'sit_d_right_angle',\n",
    "    'sit_e_right_angle',\n",
    "    \"sit_a_safety\",\n",
    "    \"sit_b_safety\",\n",
    "    \"sit_c_safety\",\n",
    "    \"sit_d_safety\",\n",
    "    \"sit_e_safety\",\n",
    "    \"sit_a_difficulty\",\n",
    "    \"sit_b_difficulty\",\n",
    "    \"sit_c_difficulty\",\n",
    "    \"sit_d_difficulty\",\n",
    "    \"sit_e_difficulty\"\n",
    "])\n",
    "\n",
    "from scipy.stats import pearsonr\n",
    "from scipy.stats import spearmanr\n",
    "from scipy.stats import kendalltau\n",
    "\n",
    "left_rots = []\n",
    "safety_left_rots = []\n",
    "right_rots = []\n",
    "safety_right_rots = []\n",
    "left_angles = []\n",
    "safety_left_angles = []\n",
    "right_angles = []\n",
    "safety_right_angles = []\n",
    "\n",
    "safety = []\n",
    "difficulty = []\n",
    "for index,participant in df_corr.iterrows():\n",
    "    for situation in [\"a\",\"c\",\"e\"]:\n",
    "        #Rotations\n",
    "        for left_rot in participant[\"sit_\"+situation+\"_left_rotations\"]:\n",
    "            left_rots.append(left_rot)\n",
    "            safety_left_rots.append(participant[\"sit_\"+situation+\"_safety\"])\n",
    "        \n",
    "        for right_rot in participant[\"sit_\"+situation+\"_right_rotations\"]:\n",
    "            right_rots.append(right_rot)\n",
    "            safety_right_rots.append(participant[\"sit_\"+situation+\"_safety\"])\n",
    "\n",
    "        #Angles\n",
    "        for left_angle in participant[\"sit_\"+situation+\"_left_angle\"]:\n",
    "            left_angles.append(left_angle)\n",
    "            safety_left_angles.append(participant[\"sit_\"+situation+\"_safety\"])\n",
    "        \n",
    "        for right_angle in participant[\"sit_\"+situation+\"_right_angle\"]:\n",
    "            right_angles.append(right_angle)\n",
    "            safety_right_angles.append(participant[\"sit_\"+situation+\"_safety\"])\n",
    "        \n",
    "        safety.append(participant[\"sit_\"+situation+\"_safety\"])\n",
    "        difficulty.append(participant[\"sit_\"+situation+\"_difficulty\"])"
   ]
  },
  {
   "cell_type": "code",
   "execution_count": 8,
   "id": "ebe64869-11f8-4f9e-98ba-d4b1eec86444",
   "metadata": {},
   "outputs": [],
   "source": [
    "# Dataframe with mean values of the mean values per situation\n",
    "totals = df_all.loc[\"Total\"]\n",
    "data = [\n",
    "    [\"A\",totals[\"sit_a_duration\"],totals[\"sit_a_standtime\"],0,totals[\"sit_a_left_rotations\"],totals[\"sit_a_right_rotations\"],totals[\"sit_a_left_angle\"],totals[\"sit_a_right_angle\"],totals[\"sit_a_collisions\"],totals[\"sit_a_safety\"],totals[\"sit_a_difficulty\"]],\n",
    "    [\"B\",totals[\"sit_b_duration\"],totals[\"sit_b_standtime\"],0,totals[\"sit_b_left_rotations\"],totals[\"sit_b_right_rotations\"],totals[\"sit_b_left_angle\"],totals[\"sit_b_right_angle\"],totals[\"sit_b_collisions\"],totals[\"sit_b_safety\"],totals[\"sit_b_difficulty\"]],\n",
    "    [\"C\",totals[\"sit_c_duration\"],totals[\"sit_c_standtime\"],0,totals[\"sit_c_left_rotations\"],totals[\"sit_c_right_rotations\"],totals[\"sit_c_left_angle\"],totals[\"sit_c_right_angle\"],totals[\"sit_c_collisions\"],totals[\"sit_c_safety\"],totals[\"sit_c_difficulty\"]],\n",
    "#    [\"d\",totals[\"sit_d_duration\"],totals[\"sit_d_standtime\"],0,totals[\"sit_d_left_rotations\"],totals[\"sit_d_right_rotations\"],totals[\"sit_d_left_angle\"],totals[\"sit_d_right_angle\"],totals[\"sit_d_collisions\"]],\n",
    "    [\"D\",totals[\"sit_e_duration\"],totals[\"sit_e_standtime\"],0,totals[\"sit_e_left_rotations\"],totals[\"sit_e_right_rotations\"],totals[\"sit_e_left_angle\"],totals[\"sit_e_right_angle\"],totals[\"sit_e_collisions\"],totals[\"sit_e_safety\"],totals[\"sit_e_difficulty\"]]\n",
    "]\n",
    "df_means_situations = pd.DataFrame(data, columns=[\n",
    "    'situation',\n",
    "    'duration', \n",
    "    'standtime',\n",
    "    'speed',\n",
    "    'left_looks',\n",
    "    'right_looks',\n",
    "    'left_angles',\n",
    "    'right_angles',\n",
    "    'collisions',\n",
    "    'safety',\n",
    "    'difficulty'\n",
    "])"
   ]
  },
  {
   "cell_type": "markdown",
   "id": "594b87b3-e21d-4f26-a0a8-aff0daea1a9a",
   "metadata": {
    "tags": []
   },
   "source": [
    "### Mean Plots"
   ]
  },
  {
   "cell_type": "markdown",
   "id": "e05f029c-debe-4965-86ba-dbf94b2b2b40",
   "metadata": {},
   "source": [
    "#### Headrotation Count"
   ]
  },
  {
   "cell_type": "code",
   "execution_count": 9,
   "id": "afbb1bfc-c116-41ea-9f7d-258863b32162",
   "metadata": {},
   "outputs": [
    {
     "data": {
      "application/vnd.plotly.v1+json": {
       "config": {
        "plotlyServerURL": "https://plot.ly"
       },
       "data": [
        {
         "marker": {
          "color": "#961C26"
         },
         "name": "Left Rotations",
         "orientation": "h",
         "showlegend": true,
         "text": [
          4,
          1,
          3,
          4
         ],
         "type": "bar",
         "x": [
          -3.5833333333333335,
          -0.7222222222222222,
          -3.0611111111111113,
          -3.6222222222222222
         ],
         "xaxis": "x",
         "y": [
          "A",
          "B",
          "C",
          "D"
         ],
         "yaxis": "y"
        },
        {
         "marker": {
          "color": "#000000"
         },
         "name": "Right Rotations",
         "orientation": "h",
         "showlegend": true,
         "text": [
          1,
          0,
          1,
          3
         ],
         "type": "bar",
         "x": [
          1.4666666666666668,
          0.43333333333333335,
          1.0888888888888888,
          2.777777777777778
         ],
         "xaxis": "x2",
         "y": [
          "A",
          "B",
          "C",
          "D"
         ],
         "yaxis": "y2"
        }
       ],
       "layout": {
        "font": {
         "family": "Lato, sans-serif",
         "size": 14
        },
        "height": 768,
        "hoverlabel": {
         "font": {
          "family": "Lato, sans-serif",
          "size": 13
         }
        },
        "hovermode": "y unified",
        "legend": {
         "orientation": "h",
         "x": 0.5,
         "xanchor": "center",
         "y": 1,
         "yanchor": "bottom"
        },
        "margin": {
         "b": 0,
         "l": 70,
         "r": 40,
         "t": 80
        },
        "paper_bgcolor": "rgba(0,0,0,0)",
        "plot_bgcolor": "rgba(0,0,0,0)",
        "template": {
         "data": {
          "bar": [
           {
            "error_x": {
             "color": "rgb(36,36,36)"
            },
            "error_y": {
             "color": "rgb(36,36,36)"
            },
            "marker": {
             "line": {
              "color": "white",
              "width": 0.5
             },
             "pattern": {
              "fillmode": "overlay",
              "size": 10,
              "solidity": 0.2
             }
            },
            "type": "bar"
           }
          ],
          "barpolar": [
           {
            "marker": {
             "line": {
              "color": "white",
              "width": 0.5
             },
             "pattern": {
              "fillmode": "overlay",
              "size": 10,
              "solidity": 0.2
             }
            },
            "type": "barpolar"
           }
          ],
          "carpet": [
           {
            "aaxis": {
             "endlinecolor": "rgb(36,36,36)",
             "gridcolor": "white",
             "linecolor": "white",
             "minorgridcolor": "white",
             "startlinecolor": "rgb(36,36,36)"
            },
            "baxis": {
             "endlinecolor": "rgb(36,36,36)",
             "gridcolor": "white",
             "linecolor": "white",
             "minorgridcolor": "white",
             "startlinecolor": "rgb(36,36,36)"
            },
            "type": "carpet"
           }
          ],
          "choropleth": [
           {
            "colorbar": {
             "outlinewidth": 1,
             "tickcolor": "rgb(36,36,36)",
             "ticks": "outside"
            },
            "type": "choropleth"
           }
          ],
          "contour": [
           {
            "colorbar": {
             "outlinewidth": 1,
             "tickcolor": "rgb(36,36,36)",
             "ticks": "outside"
            },
            "colorscale": [
             [
              0,
              "#440154"
             ],
             [
              0.1111111111111111,
              "#482878"
             ],
             [
              0.2222222222222222,
              "#3e4989"
             ],
             [
              0.3333333333333333,
              "#31688e"
             ],
             [
              0.4444444444444444,
              "#26828e"
             ],
             [
              0.5555555555555556,
              "#1f9e89"
             ],
             [
              0.6666666666666666,
              "#35b779"
             ],
             [
              0.7777777777777778,
              "#6ece58"
             ],
             [
              0.8888888888888888,
              "#b5de2b"
             ],
             [
              1,
              "#fde725"
             ]
            ],
            "type": "contour"
           }
          ],
          "contourcarpet": [
           {
            "colorbar": {
             "outlinewidth": 1,
             "tickcolor": "rgb(36,36,36)",
             "ticks": "outside"
            },
            "type": "contourcarpet"
           }
          ],
          "heatmap": [
           {
            "colorbar": {
             "outlinewidth": 1,
             "tickcolor": "rgb(36,36,36)",
             "ticks": "outside"
            },
            "colorscale": [
             [
              0,
              "#440154"
             ],
             [
              0.1111111111111111,
              "#482878"
             ],
             [
              0.2222222222222222,
              "#3e4989"
             ],
             [
              0.3333333333333333,
              "#31688e"
             ],
             [
              0.4444444444444444,
              "#26828e"
             ],
             [
              0.5555555555555556,
              "#1f9e89"
             ],
             [
              0.6666666666666666,
              "#35b779"
             ],
             [
              0.7777777777777778,
              "#6ece58"
             ],
             [
              0.8888888888888888,
              "#b5de2b"
             ],
             [
              1,
              "#fde725"
             ]
            ],
            "type": "heatmap"
           }
          ],
          "heatmapgl": [
           {
            "colorbar": {
             "outlinewidth": 1,
             "tickcolor": "rgb(36,36,36)",
             "ticks": "outside"
            },
            "colorscale": [
             [
              0,
              "#440154"
             ],
             [
              0.1111111111111111,
              "#482878"
             ],
             [
              0.2222222222222222,
              "#3e4989"
             ],
             [
              0.3333333333333333,
              "#31688e"
             ],
             [
              0.4444444444444444,
              "#26828e"
             ],
             [
              0.5555555555555556,
              "#1f9e89"
             ],
             [
              0.6666666666666666,
              "#35b779"
             ],
             [
              0.7777777777777778,
              "#6ece58"
             ],
             [
              0.8888888888888888,
              "#b5de2b"
             ],
             [
              1,
              "#fde725"
             ]
            ],
            "type": "heatmapgl"
           }
          ],
          "histogram": [
           {
            "marker": {
             "line": {
              "color": "white",
              "width": 0.6
             }
            },
            "type": "histogram"
           }
          ],
          "histogram2d": [
           {
            "colorbar": {
             "outlinewidth": 1,
             "tickcolor": "rgb(36,36,36)",
             "ticks": "outside"
            },
            "colorscale": [
             [
              0,
              "#440154"
             ],
             [
              0.1111111111111111,
              "#482878"
             ],
             [
              0.2222222222222222,
              "#3e4989"
             ],
             [
              0.3333333333333333,
              "#31688e"
             ],
             [
              0.4444444444444444,
              "#26828e"
             ],
             [
              0.5555555555555556,
              "#1f9e89"
             ],
             [
              0.6666666666666666,
              "#35b779"
             ],
             [
              0.7777777777777778,
              "#6ece58"
             ],
             [
              0.8888888888888888,
              "#b5de2b"
             ],
             [
              1,
              "#fde725"
             ]
            ],
            "type": "histogram2d"
           }
          ],
          "histogram2dcontour": [
           {
            "colorbar": {
             "outlinewidth": 1,
             "tickcolor": "rgb(36,36,36)",
             "ticks": "outside"
            },
            "colorscale": [
             [
              0,
              "#440154"
             ],
             [
              0.1111111111111111,
              "#482878"
             ],
             [
              0.2222222222222222,
              "#3e4989"
             ],
             [
              0.3333333333333333,
              "#31688e"
             ],
             [
              0.4444444444444444,
              "#26828e"
             ],
             [
              0.5555555555555556,
              "#1f9e89"
             ],
             [
              0.6666666666666666,
              "#35b779"
             ],
             [
              0.7777777777777778,
              "#6ece58"
             ],
             [
              0.8888888888888888,
              "#b5de2b"
             ],
             [
              1,
              "#fde725"
             ]
            ],
            "type": "histogram2dcontour"
           }
          ],
          "mesh3d": [
           {
            "colorbar": {
             "outlinewidth": 1,
             "tickcolor": "rgb(36,36,36)",
             "ticks": "outside"
            },
            "type": "mesh3d"
           }
          ],
          "parcoords": [
           {
            "line": {
             "colorbar": {
              "outlinewidth": 1,
              "tickcolor": "rgb(36,36,36)",
              "ticks": "outside"
             }
            },
            "type": "parcoords"
           }
          ],
          "pie": [
           {
            "automargin": true,
            "type": "pie"
           }
          ],
          "scatter": [
           {
            "fillpattern": {
             "fillmode": "overlay",
             "size": 10,
             "solidity": 0.2
            },
            "type": "scatter"
           }
          ],
          "scatter3d": [
           {
            "line": {
             "colorbar": {
              "outlinewidth": 1,
              "tickcolor": "rgb(36,36,36)",
              "ticks": "outside"
             }
            },
            "marker": {
             "colorbar": {
              "outlinewidth": 1,
              "tickcolor": "rgb(36,36,36)",
              "ticks": "outside"
             }
            },
            "type": "scatter3d"
           }
          ],
          "scattercarpet": [
           {
            "marker": {
             "colorbar": {
              "outlinewidth": 1,
              "tickcolor": "rgb(36,36,36)",
              "ticks": "outside"
             }
            },
            "type": "scattercarpet"
           }
          ],
          "scattergeo": [
           {
            "marker": {
             "colorbar": {
              "outlinewidth": 1,
              "tickcolor": "rgb(36,36,36)",
              "ticks": "outside"
             }
            },
            "type": "scattergeo"
           }
          ],
          "scattergl": [
           {
            "marker": {
             "colorbar": {
              "outlinewidth": 1,
              "tickcolor": "rgb(36,36,36)",
              "ticks": "outside"
             }
            },
            "type": "scattergl"
           }
          ],
          "scattermapbox": [
           {
            "marker": {
             "colorbar": {
              "outlinewidth": 1,
              "tickcolor": "rgb(36,36,36)",
              "ticks": "outside"
             }
            },
            "type": "scattermapbox"
           }
          ],
          "scatterpolar": [
           {
            "marker": {
             "colorbar": {
              "outlinewidth": 1,
              "tickcolor": "rgb(36,36,36)",
              "ticks": "outside"
             }
            },
            "type": "scatterpolar"
           }
          ],
          "scatterpolargl": [
           {
            "marker": {
             "colorbar": {
              "outlinewidth": 1,
              "tickcolor": "rgb(36,36,36)",
              "ticks": "outside"
             }
            },
            "type": "scatterpolargl"
           }
          ],
          "scatterternary": [
           {
            "marker": {
             "colorbar": {
              "outlinewidth": 1,
              "tickcolor": "rgb(36,36,36)",
              "ticks": "outside"
             }
            },
            "type": "scatterternary"
           }
          ],
          "surface": [
           {
            "colorbar": {
             "outlinewidth": 1,
             "tickcolor": "rgb(36,36,36)",
             "ticks": "outside"
            },
            "colorscale": [
             [
              0,
              "#440154"
             ],
             [
              0.1111111111111111,
              "#482878"
             ],
             [
              0.2222222222222222,
              "#3e4989"
             ],
             [
              0.3333333333333333,
              "#31688e"
             ],
             [
              0.4444444444444444,
              "#26828e"
             ],
             [
              0.5555555555555556,
              "#1f9e89"
             ],
             [
              0.6666666666666666,
              "#35b779"
             ],
             [
              0.7777777777777778,
              "#6ece58"
             ],
             [
              0.8888888888888888,
              "#b5de2b"
             ],
             [
              1,
              "#fde725"
             ]
            ],
            "type": "surface"
           }
          ],
          "table": [
           {
            "cells": {
             "fill": {
              "color": "rgb(237,237,237)"
             },
             "line": {
              "color": "white"
             }
            },
            "header": {
             "fill": {
              "color": "rgb(217,217,217)"
             },
             "line": {
              "color": "white"
             }
            },
            "type": "table"
           }
          ]
         },
         "layout": {
          "annotationdefaults": {
           "arrowhead": 0,
           "arrowwidth": 1
          },
          "autotypenumbers": "strict",
          "coloraxis": {
           "colorbar": {
            "outlinewidth": 1,
            "tickcolor": "rgb(36,36,36)",
            "ticks": "outside"
           }
          },
          "colorscale": {
           "diverging": [
            [
             0,
             "rgb(103,0,31)"
            ],
            [
             0.1,
             "rgb(178,24,43)"
            ],
            [
             0.2,
             "rgb(214,96,77)"
            ],
            [
             0.3,
             "rgb(244,165,130)"
            ],
            [
             0.4,
             "rgb(253,219,199)"
            ],
            [
             0.5,
             "rgb(247,247,247)"
            ],
            [
             0.6,
             "rgb(209,229,240)"
            ],
            [
             0.7,
             "rgb(146,197,222)"
            ],
            [
             0.8,
             "rgb(67,147,195)"
            ],
            [
             0.9,
             "rgb(33,102,172)"
            ],
            [
             1,
             "rgb(5,48,97)"
            ]
           ],
           "sequential": [
            [
             0,
             "#440154"
            ],
            [
             0.1111111111111111,
             "#482878"
            ],
            [
             0.2222222222222222,
             "#3e4989"
            ],
            [
             0.3333333333333333,
             "#31688e"
            ],
            [
             0.4444444444444444,
             "#26828e"
            ],
            [
             0.5555555555555556,
             "#1f9e89"
            ],
            [
             0.6666666666666666,
             "#35b779"
            ],
            [
             0.7777777777777778,
             "#6ece58"
            ],
            [
             0.8888888888888888,
             "#b5de2b"
            ],
            [
             1,
             "#fde725"
            ]
           ],
           "sequentialminus": [
            [
             0,
             "#440154"
            ],
            [
             0.1111111111111111,
             "#482878"
            ],
            [
             0.2222222222222222,
             "#3e4989"
            ],
            [
             0.3333333333333333,
             "#31688e"
            ],
            [
             0.4444444444444444,
             "#26828e"
            ],
            [
             0.5555555555555556,
             "#1f9e89"
            ],
            [
             0.6666666666666666,
             "#35b779"
            ],
            [
             0.7777777777777778,
             "#6ece58"
            ],
            [
             0.8888888888888888,
             "#b5de2b"
            ],
            [
             1,
             "#fde725"
            ]
           ]
          },
          "colorway": [
           "#1F77B4",
           "#FF7F0E",
           "#2CA02C",
           "#D62728",
           "#9467BD",
           "#8C564B",
           "#E377C2",
           "#7F7F7F",
           "#BCBD22",
           "#17BECF"
          ],
          "font": {
           "color": "rgb(36,36,36)"
          },
          "geo": {
           "bgcolor": "white",
           "lakecolor": "white",
           "landcolor": "white",
           "showlakes": true,
           "showland": true,
           "subunitcolor": "white"
          },
          "hoverlabel": {
           "align": "left"
          },
          "hovermode": "closest",
          "mapbox": {
           "style": "light"
          },
          "paper_bgcolor": "white",
          "plot_bgcolor": "white",
          "polar": {
           "angularaxis": {
            "gridcolor": "rgb(232,232,232)",
            "linecolor": "rgb(36,36,36)",
            "showgrid": false,
            "showline": true,
            "ticks": "outside"
           },
           "bgcolor": "white",
           "radialaxis": {
            "gridcolor": "rgb(232,232,232)",
            "linecolor": "rgb(36,36,36)",
            "showgrid": false,
            "showline": true,
            "ticks": "outside"
           }
          },
          "scene": {
           "xaxis": {
            "backgroundcolor": "white",
            "gridcolor": "rgb(232,232,232)",
            "gridwidth": 2,
            "linecolor": "rgb(36,36,36)",
            "showbackground": true,
            "showgrid": false,
            "showline": true,
            "ticks": "outside",
            "zeroline": false,
            "zerolinecolor": "rgb(36,36,36)"
           },
           "yaxis": {
            "backgroundcolor": "white",
            "gridcolor": "rgb(232,232,232)",
            "gridwidth": 2,
            "linecolor": "rgb(36,36,36)",
            "showbackground": true,
            "showgrid": false,
            "showline": true,
            "ticks": "outside",
            "zeroline": false,
            "zerolinecolor": "rgb(36,36,36)"
           },
           "zaxis": {
            "backgroundcolor": "white",
            "gridcolor": "rgb(232,232,232)",
            "gridwidth": 2,
            "linecolor": "rgb(36,36,36)",
            "showbackground": true,
            "showgrid": false,
            "showline": true,
            "ticks": "outside",
            "zeroline": false,
            "zerolinecolor": "rgb(36,36,36)"
           }
          },
          "shapedefaults": {
           "fillcolor": "black",
           "line": {
            "width": 0
           },
           "opacity": 0.3
          },
          "ternary": {
           "aaxis": {
            "gridcolor": "rgb(232,232,232)",
            "linecolor": "rgb(36,36,36)",
            "showgrid": false,
            "showline": true,
            "ticks": "outside"
           },
           "baxis": {
            "gridcolor": "rgb(232,232,232)",
            "linecolor": "rgb(36,36,36)",
            "showgrid": false,
            "showline": true,
            "ticks": "outside"
           },
           "bgcolor": "white",
           "caxis": {
            "gridcolor": "rgb(232,232,232)",
            "linecolor": "rgb(36,36,36)",
            "showgrid": false,
            "showline": true,
            "ticks": "outside"
           }
          },
          "title": {
           "x": 0.05
          },
          "xaxis": {
           "automargin": true,
           "gridcolor": "rgb(232,232,232)",
           "linecolor": "rgb(36,36,36)",
           "showgrid": false,
           "showline": true,
           "ticks": "outside",
           "title": {
            "standoff": 15
           },
           "zeroline": false,
           "zerolinecolor": "rgb(36,36,36)"
          },
          "yaxis": {
           "automargin": true,
           "gridcolor": "rgb(232,232,232)",
           "linecolor": "rgb(36,36,36)",
           "showgrid": false,
           "showline": true,
           "ticks": "outside",
           "title": {
            "standoff": 15
           },
           "zeroline": false,
           "zerolinecolor": "rgb(36,36,36)"
          }
         }
        },
        "width": 1024,
        "xaxis": {
         "anchor": "y",
         "domain": [
          0,
          0.5
         ],
         "range": [
          -4,
          0
         ],
         "showgrid": false,
         "title": {
          "text": ""
         }
        },
        "xaxis2": {
         "anchor": "y2",
         "domain": [
          0.5,
          1
         ],
         "range": [
          0,
          4
         ],
         "showgrid": false
        },
        "yaxis": {
         "anchor": "x",
         "categoryorder": "category descending",
         "domain": [
          0,
          1
         ],
         "showgrid": false,
         "showline": false,
         "ticksuffix": " ",
         "title": {
          "text": ""
         }
        },
        "yaxis2": {
         "anchor": "x2",
         "categoryorder": "category descending",
         "domain": [
          0,
          1
         ],
         "matches": "y",
         "showgrid": false,
         "showline": false,
         "showticklabels": false,
         "ticksuffix": " "
        }
       }
      }
     },
     "metadata": {},
     "output_type": "display_data"
    }
   ],
   "source": [
    "fig_looks = make_subplots(rows=1, cols=2, specs=[[{}, {}]], shared_yaxes=True, horizontal_spacing=0)\n",
    "fig_looks.append_trace(go.Bar(x= - df_means_situations.left_looks, y=df_means_situations.situation,\n",
    "                        orientation='h', showlegend=True, \n",
    "                        text= np.round(df_means_situations.left_looks,decimals = 0), \n",
    "                        name='Left Rotations',\n",
    "                        marker_color=marking_red), 1, 1)\n",
    "fig_looks.append_trace(go.Bar(x=df_means_situations.right_looks, y=df_means_situations.situation, \n",
    "                        orientation='h', showlegend=True,\n",
    "                        text=np.round(df_means_situations.right_looks,decimals = 0),\n",
    "                        name='Right Rotations', marker_color='#000000'), 1, 2)\n",
    "fig_looks.update_xaxes(showgrid=False,range=[-4,0],row=1, col=1)\n",
    "fig_looks.update_xaxes(showgrid=False,range=[0,4],row=1, col=2)\n",
    "fig_looks.update_yaxes(showgrid=False, categoryorder=\"category descending\", ticksuffix=' ', showline=False)\n",
    "fig_looks.update_traces(hovertemplate=None)\n",
    "fig_looks.update_layout(\n",
    "#    title='Mean of Headrotations per Situation',\n",
    "    margin=dict(t=80, b=0, l=70, r=40),\n",
    "    hovermode=\"y unified\", \n",
    "    xaxis_title='', \n",
    "    yaxis_title=\"\",\n",
    "    width=plot_width, height=plot_height,\n",
    "    font=dict(family=\"Lato, sans-serif\",size=14),\n",
    "    legend=dict(orientation=\"h\", yanchor=\"bottom\",y=1, xanchor=\"center\", x=0.5),\n",
    "    hoverlabel=dict(font_size=13, font_family=\"Lato, sans-serif\"),\n",
    "    paper_bgcolor='rgba(0,0,0,0)',\n",
    "    plot_bgcolor='rgba(0,0,0,0)')"
   ]
  },
  {
   "cell_type": "markdown",
   "id": "bad21355-f343-4a71-80d6-36ea2ec529c4",
   "metadata": {},
   "source": [
    "#### Headrotation Angles"
   ]
  },
  {
   "cell_type": "code",
   "execution_count": 10,
   "id": "b84e47fe-34b4-48c9-8354-07ad168d1e12",
   "metadata": {},
   "outputs": [
    {
     "data": {
      "application/vnd.plotly.v1+json": {
       "config": {
        "plotlyServerURL": "https://plot.ly"
       },
       "data": [
        {
         "marker": {
          "color": "#961C26"
         },
         "name": "Left Angles",
         "orientation": "h",
         "showlegend": true,
         "text": [
          -62,
          -105,
          -54,
          -53
         ],
         "type": "bar",
         "x": [
          -62.216243743896484,
          -104.94164276123047,
          -54.42142868041992,
          -53.29060363769531
         ],
         "xaxis": "x",
         "y": [
          "A",
          "B",
          "C",
          "D"
         ],
         "yaxis": "y"
        },
        {
         "marker": {
          "color": "#000000"
         },
         "name": "Right Angles",
         "orientation": "h",
         "showlegend": true,
         "text": [
          42,
          36,
          35,
          39
         ],
         "type": "bar",
         "x": [
          41.72726821899414,
          35.525489807128906,
          34.51746368408203,
          38.67066192626953
         ],
         "xaxis": "x2",
         "y": [
          "A",
          "B",
          "C",
          "D"
         ],
         "yaxis": "y2"
        }
       ],
       "layout": {
        "font": {
         "family": "Lato, sans-serif",
         "size": 14
        },
        "height": 768,
        "hoverlabel": {
         "font": {
          "family": "Lato, sans-serif",
          "size": 13
         }
        },
        "hovermode": "y unified",
        "legend": {
         "orientation": "h",
         "x": 0.5,
         "xanchor": "center",
         "y": 1,
         "yanchor": "bottom"
        },
        "margin": {
         "b": 0,
         "l": 70,
         "r": 40,
         "t": 80
        },
        "paper_bgcolor": "rgba(0,0,0,0)",
        "plot_bgcolor": "rgba(0,0,0,0)",
        "template": {
         "data": {
          "bar": [
           {
            "error_x": {
             "color": "rgb(36,36,36)"
            },
            "error_y": {
             "color": "rgb(36,36,36)"
            },
            "marker": {
             "line": {
              "color": "white",
              "width": 0.5
             },
             "pattern": {
              "fillmode": "overlay",
              "size": 10,
              "solidity": 0.2
             }
            },
            "type": "bar"
           }
          ],
          "barpolar": [
           {
            "marker": {
             "line": {
              "color": "white",
              "width": 0.5
             },
             "pattern": {
              "fillmode": "overlay",
              "size": 10,
              "solidity": 0.2
             }
            },
            "type": "barpolar"
           }
          ],
          "carpet": [
           {
            "aaxis": {
             "endlinecolor": "rgb(36,36,36)",
             "gridcolor": "white",
             "linecolor": "white",
             "minorgridcolor": "white",
             "startlinecolor": "rgb(36,36,36)"
            },
            "baxis": {
             "endlinecolor": "rgb(36,36,36)",
             "gridcolor": "white",
             "linecolor": "white",
             "minorgridcolor": "white",
             "startlinecolor": "rgb(36,36,36)"
            },
            "type": "carpet"
           }
          ],
          "choropleth": [
           {
            "colorbar": {
             "outlinewidth": 1,
             "tickcolor": "rgb(36,36,36)",
             "ticks": "outside"
            },
            "type": "choropleth"
           }
          ],
          "contour": [
           {
            "colorbar": {
             "outlinewidth": 1,
             "tickcolor": "rgb(36,36,36)",
             "ticks": "outside"
            },
            "colorscale": [
             [
              0,
              "#440154"
             ],
             [
              0.1111111111111111,
              "#482878"
             ],
             [
              0.2222222222222222,
              "#3e4989"
             ],
             [
              0.3333333333333333,
              "#31688e"
             ],
             [
              0.4444444444444444,
              "#26828e"
             ],
             [
              0.5555555555555556,
              "#1f9e89"
             ],
             [
              0.6666666666666666,
              "#35b779"
             ],
             [
              0.7777777777777778,
              "#6ece58"
             ],
             [
              0.8888888888888888,
              "#b5de2b"
             ],
             [
              1,
              "#fde725"
             ]
            ],
            "type": "contour"
           }
          ],
          "contourcarpet": [
           {
            "colorbar": {
             "outlinewidth": 1,
             "tickcolor": "rgb(36,36,36)",
             "ticks": "outside"
            },
            "type": "contourcarpet"
           }
          ],
          "heatmap": [
           {
            "colorbar": {
             "outlinewidth": 1,
             "tickcolor": "rgb(36,36,36)",
             "ticks": "outside"
            },
            "colorscale": [
             [
              0,
              "#440154"
             ],
             [
              0.1111111111111111,
              "#482878"
             ],
             [
              0.2222222222222222,
              "#3e4989"
             ],
             [
              0.3333333333333333,
              "#31688e"
             ],
             [
              0.4444444444444444,
              "#26828e"
             ],
             [
              0.5555555555555556,
              "#1f9e89"
             ],
             [
              0.6666666666666666,
              "#35b779"
             ],
             [
              0.7777777777777778,
              "#6ece58"
             ],
             [
              0.8888888888888888,
              "#b5de2b"
             ],
             [
              1,
              "#fde725"
             ]
            ],
            "type": "heatmap"
           }
          ],
          "heatmapgl": [
           {
            "colorbar": {
             "outlinewidth": 1,
             "tickcolor": "rgb(36,36,36)",
             "ticks": "outside"
            },
            "colorscale": [
             [
              0,
              "#440154"
             ],
             [
              0.1111111111111111,
              "#482878"
             ],
             [
              0.2222222222222222,
              "#3e4989"
             ],
             [
              0.3333333333333333,
              "#31688e"
             ],
             [
              0.4444444444444444,
              "#26828e"
             ],
             [
              0.5555555555555556,
              "#1f9e89"
             ],
             [
              0.6666666666666666,
              "#35b779"
             ],
             [
              0.7777777777777778,
              "#6ece58"
             ],
             [
              0.8888888888888888,
              "#b5de2b"
             ],
             [
              1,
              "#fde725"
             ]
            ],
            "type": "heatmapgl"
           }
          ],
          "histogram": [
           {
            "marker": {
             "line": {
              "color": "white",
              "width": 0.6
             }
            },
            "type": "histogram"
           }
          ],
          "histogram2d": [
           {
            "colorbar": {
             "outlinewidth": 1,
             "tickcolor": "rgb(36,36,36)",
             "ticks": "outside"
            },
            "colorscale": [
             [
              0,
              "#440154"
             ],
             [
              0.1111111111111111,
              "#482878"
             ],
             [
              0.2222222222222222,
              "#3e4989"
             ],
             [
              0.3333333333333333,
              "#31688e"
             ],
             [
              0.4444444444444444,
              "#26828e"
             ],
             [
              0.5555555555555556,
              "#1f9e89"
             ],
             [
              0.6666666666666666,
              "#35b779"
             ],
             [
              0.7777777777777778,
              "#6ece58"
             ],
             [
              0.8888888888888888,
              "#b5de2b"
             ],
             [
              1,
              "#fde725"
             ]
            ],
            "type": "histogram2d"
           }
          ],
          "histogram2dcontour": [
           {
            "colorbar": {
             "outlinewidth": 1,
             "tickcolor": "rgb(36,36,36)",
             "ticks": "outside"
            },
            "colorscale": [
             [
              0,
              "#440154"
             ],
             [
              0.1111111111111111,
              "#482878"
             ],
             [
              0.2222222222222222,
              "#3e4989"
             ],
             [
              0.3333333333333333,
              "#31688e"
             ],
             [
              0.4444444444444444,
              "#26828e"
             ],
             [
              0.5555555555555556,
              "#1f9e89"
             ],
             [
              0.6666666666666666,
              "#35b779"
             ],
             [
              0.7777777777777778,
              "#6ece58"
             ],
             [
              0.8888888888888888,
              "#b5de2b"
             ],
             [
              1,
              "#fde725"
             ]
            ],
            "type": "histogram2dcontour"
           }
          ],
          "mesh3d": [
           {
            "colorbar": {
             "outlinewidth": 1,
             "tickcolor": "rgb(36,36,36)",
             "ticks": "outside"
            },
            "type": "mesh3d"
           }
          ],
          "parcoords": [
           {
            "line": {
             "colorbar": {
              "outlinewidth": 1,
              "tickcolor": "rgb(36,36,36)",
              "ticks": "outside"
             }
            },
            "type": "parcoords"
           }
          ],
          "pie": [
           {
            "automargin": true,
            "type": "pie"
           }
          ],
          "scatter": [
           {
            "fillpattern": {
             "fillmode": "overlay",
             "size": 10,
             "solidity": 0.2
            },
            "type": "scatter"
           }
          ],
          "scatter3d": [
           {
            "line": {
             "colorbar": {
              "outlinewidth": 1,
              "tickcolor": "rgb(36,36,36)",
              "ticks": "outside"
             }
            },
            "marker": {
             "colorbar": {
              "outlinewidth": 1,
              "tickcolor": "rgb(36,36,36)",
              "ticks": "outside"
             }
            },
            "type": "scatter3d"
           }
          ],
          "scattercarpet": [
           {
            "marker": {
             "colorbar": {
              "outlinewidth": 1,
              "tickcolor": "rgb(36,36,36)",
              "ticks": "outside"
             }
            },
            "type": "scattercarpet"
           }
          ],
          "scattergeo": [
           {
            "marker": {
             "colorbar": {
              "outlinewidth": 1,
              "tickcolor": "rgb(36,36,36)",
              "ticks": "outside"
             }
            },
            "type": "scattergeo"
           }
          ],
          "scattergl": [
           {
            "marker": {
             "colorbar": {
              "outlinewidth": 1,
              "tickcolor": "rgb(36,36,36)",
              "ticks": "outside"
             }
            },
            "type": "scattergl"
           }
          ],
          "scattermapbox": [
           {
            "marker": {
             "colorbar": {
              "outlinewidth": 1,
              "tickcolor": "rgb(36,36,36)",
              "ticks": "outside"
             }
            },
            "type": "scattermapbox"
           }
          ],
          "scatterpolar": [
           {
            "marker": {
             "colorbar": {
              "outlinewidth": 1,
              "tickcolor": "rgb(36,36,36)",
              "ticks": "outside"
             }
            },
            "type": "scatterpolar"
           }
          ],
          "scatterpolargl": [
           {
            "marker": {
             "colorbar": {
              "outlinewidth": 1,
              "tickcolor": "rgb(36,36,36)",
              "ticks": "outside"
             }
            },
            "type": "scatterpolargl"
           }
          ],
          "scatterternary": [
           {
            "marker": {
             "colorbar": {
              "outlinewidth": 1,
              "tickcolor": "rgb(36,36,36)",
              "ticks": "outside"
             }
            },
            "type": "scatterternary"
           }
          ],
          "surface": [
           {
            "colorbar": {
             "outlinewidth": 1,
             "tickcolor": "rgb(36,36,36)",
             "ticks": "outside"
            },
            "colorscale": [
             [
              0,
              "#440154"
             ],
             [
              0.1111111111111111,
              "#482878"
             ],
             [
              0.2222222222222222,
              "#3e4989"
             ],
             [
              0.3333333333333333,
              "#31688e"
             ],
             [
              0.4444444444444444,
              "#26828e"
             ],
             [
              0.5555555555555556,
              "#1f9e89"
             ],
             [
              0.6666666666666666,
              "#35b779"
             ],
             [
              0.7777777777777778,
              "#6ece58"
             ],
             [
              0.8888888888888888,
              "#b5de2b"
             ],
             [
              1,
              "#fde725"
             ]
            ],
            "type": "surface"
           }
          ],
          "table": [
           {
            "cells": {
             "fill": {
              "color": "rgb(237,237,237)"
             },
             "line": {
              "color": "white"
             }
            },
            "header": {
             "fill": {
              "color": "rgb(217,217,217)"
             },
             "line": {
              "color": "white"
             }
            },
            "type": "table"
           }
          ]
         },
         "layout": {
          "annotationdefaults": {
           "arrowhead": 0,
           "arrowwidth": 1
          },
          "autotypenumbers": "strict",
          "coloraxis": {
           "colorbar": {
            "outlinewidth": 1,
            "tickcolor": "rgb(36,36,36)",
            "ticks": "outside"
           }
          },
          "colorscale": {
           "diverging": [
            [
             0,
             "rgb(103,0,31)"
            ],
            [
             0.1,
             "rgb(178,24,43)"
            ],
            [
             0.2,
             "rgb(214,96,77)"
            ],
            [
             0.3,
             "rgb(244,165,130)"
            ],
            [
             0.4,
             "rgb(253,219,199)"
            ],
            [
             0.5,
             "rgb(247,247,247)"
            ],
            [
             0.6,
             "rgb(209,229,240)"
            ],
            [
             0.7,
             "rgb(146,197,222)"
            ],
            [
             0.8,
             "rgb(67,147,195)"
            ],
            [
             0.9,
             "rgb(33,102,172)"
            ],
            [
             1,
             "rgb(5,48,97)"
            ]
           ],
           "sequential": [
            [
             0,
             "#440154"
            ],
            [
             0.1111111111111111,
             "#482878"
            ],
            [
             0.2222222222222222,
             "#3e4989"
            ],
            [
             0.3333333333333333,
             "#31688e"
            ],
            [
             0.4444444444444444,
             "#26828e"
            ],
            [
             0.5555555555555556,
             "#1f9e89"
            ],
            [
             0.6666666666666666,
             "#35b779"
            ],
            [
             0.7777777777777778,
             "#6ece58"
            ],
            [
             0.8888888888888888,
             "#b5de2b"
            ],
            [
             1,
             "#fde725"
            ]
           ],
           "sequentialminus": [
            [
             0,
             "#440154"
            ],
            [
             0.1111111111111111,
             "#482878"
            ],
            [
             0.2222222222222222,
             "#3e4989"
            ],
            [
             0.3333333333333333,
             "#31688e"
            ],
            [
             0.4444444444444444,
             "#26828e"
            ],
            [
             0.5555555555555556,
             "#1f9e89"
            ],
            [
             0.6666666666666666,
             "#35b779"
            ],
            [
             0.7777777777777778,
             "#6ece58"
            ],
            [
             0.8888888888888888,
             "#b5de2b"
            ],
            [
             1,
             "#fde725"
            ]
           ]
          },
          "colorway": [
           "#1F77B4",
           "#FF7F0E",
           "#2CA02C",
           "#D62728",
           "#9467BD",
           "#8C564B",
           "#E377C2",
           "#7F7F7F",
           "#BCBD22",
           "#17BECF"
          ],
          "font": {
           "color": "rgb(36,36,36)"
          },
          "geo": {
           "bgcolor": "white",
           "lakecolor": "white",
           "landcolor": "white",
           "showlakes": true,
           "showland": true,
           "subunitcolor": "white"
          },
          "hoverlabel": {
           "align": "left"
          },
          "hovermode": "closest",
          "mapbox": {
           "style": "light"
          },
          "paper_bgcolor": "white",
          "plot_bgcolor": "white",
          "polar": {
           "angularaxis": {
            "gridcolor": "rgb(232,232,232)",
            "linecolor": "rgb(36,36,36)",
            "showgrid": false,
            "showline": true,
            "ticks": "outside"
           },
           "bgcolor": "white",
           "radialaxis": {
            "gridcolor": "rgb(232,232,232)",
            "linecolor": "rgb(36,36,36)",
            "showgrid": false,
            "showline": true,
            "ticks": "outside"
           }
          },
          "scene": {
           "xaxis": {
            "backgroundcolor": "white",
            "gridcolor": "rgb(232,232,232)",
            "gridwidth": 2,
            "linecolor": "rgb(36,36,36)",
            "showbackground": true,
            "showgrid": false,
            "showline": true,
            "ticks": "outside",
            "zeroline": false,
            "zerolinecolor": "rgb(36,36,36)"
           },
           "yaxis": {
            "backgroundcolor": "white",
            "gridcolor": "rgb(232,232,232)",
            "gridwidth": 2,
            "linecolor": "rgb(36,36,36)",
            "showbackground": true,
            "showgrid": false,
            "showline": true,
            "ticks": "outside",
            "zeroline": false,
            "zerolinecolor": "rgb(36,36,36)"
           },
           "zaxis": {
            "backgroundcolor": "white",
            "gridcolor": "rgb(232,232,232)",
            "gridwidth": 2,
            "linecolor": "rgb(36,36,36)",
            "showbackground": true,
            "showgrid": false,
            "showline": true,
            "ticks": "outside",
            "zeroline": false,
            "zerolinecolor": "rgb(36,36,36)"
           }
          },
          "shapedefaults": {
           "fillcolor": "black",
           "line": {
            "width": 0
           },
           "opacity": 0.3
          },
          "ternary": {
           "aaxis": {
            "gridcolor": "rgb(232,232,232)",
            "linecolor": "rgb(36,36,36)",
            "showgrid": false,
            "showline": true,
            "ticks": "outside"
           },
           "baxis": {
            "gridcolor": "rgb(232,232,232)",
            "linecolor": "rgb(36,36,36)",
            "showgrid": false,
            "showline": true,
            "ticks": "outside"
           },
           "bgcolor": "white",
           "caxis": {
            "gridcolor": "rgb(232,232,232)",
            "linecolor": "rgb(36,36,36)",
            "showgrid": false,
            "showline": true,
            "ticks": "outside"
           }
          },
          "title": {
           "x": 0.05
          },
          "xaxis": {
           "automargin": true,
           "gridcolor": "rgb(232,232,232)",
           "linecolor": "rgb(36,36,36)",
           "showgrid": false,
           "showline": true,
           "ticks": "outside",
           "title": {
            "standoff": 15
           },
           "zeroline": false,
           "zerolinecolor": "rgb(36,36,36)"
          },
          "yaxis": {
           "automargin": true,
           "gridcolor": "rgb(232,232,232)",
           "linecolor": "rgb(36,36,36)",
           "showgrid": false,
           "showline": true,
           "ticks": "outside",
           "title": {
            "standoff": 15
           },
           "zeroline": false,
           "zerolinecolor": "rgb(36,36,36)"
          }
         }
        },
        "width": 1024,
        "xaxis": {
         "anchor": "y",
         "domain": [
          0,
          0.5
         ],
         "range": [
          -105,
          0
         ],
         "showgrid": false,
         "title": {
          "text": " "
         }
        },
        "xaxis2": {
         "anchor": "y2",
         "domain": [
          0.5,
          1
         ],
         "range": [
          0,
          100
         ],
         "showgrid": false
        },
        "yaxis": {
         "anchor": "x",
         "categoryorder": "category descending",
         "domain": [
          0,
          1
         ],
         "showgrid": false,
         "showline": false,
         "ticksuffix": " ",
         "title": {
          "text": " "
         }
        },
        "yaxis2": {
         "anchor": "x2",
         "categoryorder": "category descending",
         "domain": [
          0,
          1
         ],
         "matches": "y",
         "showgrid": false,
         "showline": false,
         "showticklabels": false,
         "ticksuffix": " "
        }
       }
      }
     },
     "metadata": {},
     "output_type": "display_data"
    }
   ],
   "source": [
    "fig_angles = make_subplots(rows=1, cols=2, specs=[[{}, {}]], shared_yaxes=True, horizontal_spacing=0)\n",
    "fig_angles.append_trace(go.Bar(x= df_means_situations.left_angles, y=df_means_situations.situation,\n",
    "                        orientation='h', showlegend=True, \n",
    "                        text= np.round(df_means_situations.left_angles,decimals = 0), \n",
    "                        name='Left Angles',\n",
    "                        marker_color=marking_red), 1, 1)\n",
    "fig_angles.append_trace(go.Bar(x=df_means_situations.right_angles, y=df_means_situations.situation, \n",
    "                        orientation='h', showlegend=True,\n",
    "                        text=np.round(df_means_situations.right_angles,decimals = 0),\n",
    "                        name='Right Angles', marker_color='#000000'), 1, 2)\n",
    "fig_angles.update_xaxes(showgrid=False,range=[-105,0],row=1, col=1)\n",
    "fig_angles.update_xaxes(showgrid=False,range=[0,100],row=1, col=2)\n",
    "fig_angles.update_yaxes(showgrid=False, categoryorder=\"category descending\", \n",
    "                 ticksuffix=' ', showline=False)\n",
    "fig_angles.update_traces(hovertemplate=None)\n",
    "fig_angles.update_layout(\n",
    "#    title='Mean Headrotation Angles per Situation',\n",
    "    margin=dict(t=80, b=0, l=70, r=40),\n",
    "    hovermode=\"y unified\", \n",
    "    xaxis_title=' ', \n",
    "    yaxis_title=\" \",\n",
    "    width=plot_width, height=plot_height,\n",
    "    font=dict(family=\"Lato, sans-serif\",size=14),\n",
    "    legend=dict(orientation=\"h\", yanchor=\"bottom\",y=1, xanchor=\"center\", x=0.5),\n",
    "    hoverlabel=dict(font_size=13, font_family=\"Lato, sans-serif\"),\n",
    "    paper_bgcolor='rgba(0,0,0,0)',\n",
    "    plot_bgcolor='rgba(0,0,0,0)')"
   ]
  },
  {
   "cell_type": "markdown",
   "id": "39a4a069-c769-4def-9f99-7d7b0b46561d",
   "metadata": {},
   "source": [
    "### Safety"
   ]
  },
  {
   "cell_type": "code",
   "execution_count": 11,
   "id": "fcd5c398-1261-49bb-9298-5ec48ffc9e8d",
   "metadata": {},
   "outputs": [
    {
     "data": {
      "application/vnd.plotly.v1+json": {
       "config": {
        "plotlyServerURL": "https://plot.ly"
       },
       "data": [
        {
         "marker": {
          "color": "#961C26"
         },
         "name": "Perceived Safety",
         "orientation": "h",
         "showlegend": true,
         "text": [
          3.1,
          3.8,
          2.8,
          2.5
         ],
         "type": "bar",
         "x": [
          3.0833333333333335,
          3.8333333333333335,
          2.8333333333333335,
          2.5
         ],
         "y": [
          "A",
          "B",
          "C",
          "D"
         ]
        }
       ],
       "layout": {
        "font": {
         "family": "Lato, sans-serif",
         "size": 14
        },
        "height": 768,
        "hoverlabel": {
         "font": {
          "family": "Lato, sans-serif",
          "size": 13
         }
        },
        "hovermode": "y unified",
        "legend": {
         "orientation": "h",
         "x": 0.5,
         "xanchor": "center",
         "y": 1,
         "yanchor": "bottom"
        },
        "margin": {
         "b": 0,
         "l": 70,
         "r": 40,
         "t": 80
        },
        "paper_bgcolor": "rgba(0,0,0,0)",
        "plot_bgcolor": "rgba(0,0,0,0)",
        "template": {
         "data": {
          "bar": [
           {
            "error_x": {
             "color": "rgb(36,36,36)"
            },
            "error_y": {
             "color": "rgb(36,36,36)"
            },
            "marker": {
             "line": {
              "color": "white",
              "width": 0.5
             },
             "pattern": {
              "fillmode": "overlay",
              "size": 10,
              "solidity": 0.2
             }
            },
            "type": "bar"
           }
          ],
          "barpolar": [
           {
            "marker": {
             "line": {
              "color": "white",
              "width": 0.5
             },
             "pattern": {
              "fillmode": "overlay",
              "size": 10,
              "solidity": 0.2
             }
            },
            "type": "barpolar"
           }
          ],
          "carpet": [
           {
            "aaxis": {
             "endlinecolor": "rgb(36,36,36)",
             "gridcolor": "white",
             "linecolor": "white",
             "minorgridcolor": "white",
             "startlinecolor": "rgb(36,36,36)"
            },
            "baxis": {
             "endlinecolor": "rgb(36,36,36)",
             "gridcolor": "white",
             "linecolor": "white",
             "minorgridcolor": "white",
             "startlinecolor": "rgb(36,36,36)"
            },
            "type": "carpet"
           }
          ],
          "choropleth": [
           {
            "colorbar": {
             "outlinewidth": 1,
             "tickcolor": "rgb(36,36,36)",
             "ticks": "outside"
            },
            "type": "choropleth"
           }
          ],
          "contour": [
           {
            "colorbar": {
             "outlinewidth": 1,
             "tickcolor": "rgb(36,36,36)",
             "ticks": "outside"
            },
            "colorscale": [
             [
              0,
              "#440154"
             ],
             [
              0.1111111111111111,
              "#482878"
             ],
             [
              0.2222222222222222,
              "#3e4989"
             ],
             [
              0.3333333333333333,
              "#31688e"
             ],
             [
              0.4444444444444444,
              "#26828e"
             ],
             [
              0.5555555555555556,
              "#1f9e89"
             ],
             [
              0.6666666666666666,
              "#35b779"
             ],
             [
              0.7777777777777778,
              "#6ece58"
             ],
             [
              0.8888888888888888,
              "#b5de2b"
             ],
             [
              1,
              "#fde725"
             ]
            ],
            "type": "contour"
           }
          ],
          "contourcarpet": [
           {
            "colorbar": {
             "outlinewidth": 1,
             "tickcolor": "rgb(36,36,36)",
             "ticks": "outside"
            },
            "type": "contourcarpet"
           }
          ],
          "heatmap": [
           {
            "colorbar": {
             "outlinewidth": 1,
             "tickcolor": "rgb(36,36,36)",
             "ticks": "outside"
            },
            "colorscale": [
             [
              0,
              "#440154"
             ],
             [
              0.1111111111111111,
              "#482878"
             ],
             [
              0.2222222222222222,
              "#3e4989"
             ],
             [
              0.3333333333333333,
              "#31688e"
             ],
             [
              0.4444444444444444,
              "#26828e"
             ],
             [
              0.5555555555555556,
              "#1f9e89"
             ],
             [
              0.6666666666666666,
              "#35b779"
             ],
             [
              0.7777777777777778,
              "#6ece58"
             ],
             [
              0.8888888888888888,
              "#b5de2b"
             ],
             [
              1,
              "#fde725"
             ]
            ],
            "type": "heatmap"
           }
          ],
          "heatmapgl": [
           {
            "colorbar": {
             "outlinewidth": 1,
             "tickcolor": "rgb(36,36,36)",
             "ticks": "outside"
            },
            "colorscale": [
             [
              0,
              "#440154"
             ],
             [
              0.1111111111111111,
              "#482878"
             ],
             [
              0.2222222222222222,
              "#3e4989"
             ],
             [
              0.3333333333333333,
              "#31688e"
             ],
             [
              0.4444444444444444,
              "#26828e"
             ],
             [
              0.5555555555555556,
              "#1f9e89"
             ],
             [
              0.6666666666666666,
              "#35b779"
             ],
             [
              0.7777777777777778,
              "#6ece58"
             ],
             [
              0.8888888888888888,
              "#b5de2b"
             ],
             [
              1,
              "#fde725"
             ]
            ],
            "type": "heatmapgl"
           }
          ],
          "histogram": [
           {
            "marker": {
             "line": {
              "color": "white",
              "width": 0.6
             }
            },
            "type": "histogram"
           }
          ],
          "histogram2d": [
           {
            "colorbar": {
             "outlinewidth": 1,
             "tickcolor": "rgb(36,36,36)",
             "ticks": "outside"
            },
            "colorscale": [
             [
              0,
              "#440154"
             ],
             [
              0.1111111111111111,
              "#482878"
             ],
             [
              0.2222222222222222,
              "#3e4989"
             ],
             [
              0.3333333333333333,
              "#31688e"
             ],
             [
              0.4444444444444444,
              "#26828e"
             ],
             [
              0.5555555555555556,
              "#1f9e89"
             ],
             [
              0.6666666666666666,
              "#35b779"
             ],
             [
              0.7777777777777778,
              "#6ece58"
             ],
             [
              0.8888888888888888,
              "#b5de2b"
             ],
             [
              1,
              "#fde725"
             ]
            ],
            "type": "histogram2d"
           }
          ],
          "histogram2dcontour": [
           {
            "colorbar": {
             "outlinewidth": 1,
             "tickcolor": "rgb(36,36,36)",
             "ticks": "outside"
            },
            "colorscale": [
             [
              0,
              "#440154"
             ],
             [
              0.1111111111111111,
              "#482878"
             ],
             [
              0.2222222222222222,
              "#3e4989"
             ],
             [
              0.3333333333333333,
              "#31688e"
             ],
             [
              0.4444444444444444,
              "#26828e"
             ],
             [
              0.5555555555555556,
              "#1f9e89"
             ],
             [
              0.6666666666666666,
              "#35b779"
             ],
             [
              0.7777777777777778,
              "#6ece58"
             ],
             [
              0.8888888888888888,
              "#b5de2b"
             ],
             [
              1,
              "#fde725"
             ]
            ],
            "type": "histogram2dcontour"
           }
          ],
          "mesh3d": [
           {
            "colorbar": {
             "outlinewidth": 1,
             "tickcolor": "rgb(36,36,36)",
             "ticks": "outside"
            },
            "type": "mesh3d"
           }
          ],
          "parcoords": [
           {
            "line": {
             "colorbar": {
              "outlinewidth": 1,
              "tickcolor": "rgb(36,36,36)",
              "ticks": "outside"
             }
            },
            "type": "parcoords"
           }
          ],
          "pie": [
           {
            "automargin": true,
            "type": "pie"
           }
          ],
          "scatter": [
           {
            "fillpattern": {
             "fillmode": "overlay",
             "size": 10,
             "solidity": 0.2
            },
            "type": "scatter"
           }
          ],
          "scatter3d": [
           {
            "line": {
             "colorbar": {
              "outlinewidth": 1,
              "tickcolor": "rgb(36,36,36)",
              "ticks": "outside"
             }
            },
            "marker": {
             "colorbar": {
              "outlinewidth": 1,
              "tickcolor": "rgb(36,36,36)",
              "ticks": "outside"
             }
            },
            "type": "scatter3d"
           }
          ],
          "scattercarpet": [
           {
            "marker": {
             "colorbar": {
              "outlinewidth": 1,
              "tickcolor": "rgb(36,36,36)",
              "ticks": "outside"
             }
            },
            "type": "scattercarpet"
           }
          ],
          "scattergeo": [
           {
            "marker": {
             "colorbar": {
              "outlinewidth": 1,
              "tickcolor": "rgb(36,36,36)",
              "ticks": "outside"
             }
            },
            "type": "scattergeo"
           }
          ],
          "scattergl": [
           {
            "marker": {
             "colorbar": {
              "outlinewidth": 1,
              "tickcolor": "rgb(36,36,36)",
              "ticks": "outside"
             }
            },
            "type": "scattergl"
           }
          ],
          "scattermapbox": [
           {
            "marker": {
             "colorbar": {
              "outlinewidth": 1,
              "tickcolor": "rgb(36,36,36)",
              "ticks": "outside"
             }
            },
            "type": "scattermapbox"
           }
          ],
          "scatterpolar": [
           {
            "marker": {
             "colorbar": {
              "outlinewidth": 1,
              "tickcolor": "rgb(36,36,36)",
              "ticks": "outside"
             }
            },
            "type": "scatterpolar"
           }
          ],
          "scatterpolargl": [
           {
            "marker": {
             "colorbar": {
              "outlinewidth": 1,
              "tickcolor": "rgb(36,36,36)",
              "ticks": "outside"
             }
            },
            "type": "scatterpolargl"
           }
          ],
          "scatterternary": [
           {
            "marker": {
             "colorbar": {
              "outlinewidth": 1,
              "tickcolor": "rgb(36,36,36)",
              "ticks": "outside"
             }
            },
            "type": "scatterternary"
           }
          ],
          "surface": [
           {
            "colorbar": {
             "outlinewidth": 1,
             "tickcolor": "rgb(36,36,36)",
             "ticks": "outside"
            },
            "colorscale": [
             [
              0,
              "#440154"
             ],
             [
              0.1111111111111111,
              "#482878"
             ],
             [
              0.2222222222222222,
              "#3e4989"
             ],
             [
              0.3333333333333333,
              "#31688e"
             ],
             [
              0.4444444444444444,
              "#26828e"
             ],
             [
              0.5555555555555556,
              "#1f9e89"
             ],
             [
              0.6666666666666666,
              "#35b779"
             ],
             [
              0.7777777777777778,
              "#6ece58"
             ],
             [
              0.8888888888888888,
              "#b5de2b"
             ],
             [
              1,
              "#fde725"
             ]
            ],
            "type": "surface"
           }
          ],
          "table": [
           {
            "cells": {
             "fill": {
              "color": "rgb(237,237,237)"
             },
             "line": {
              "color": "white"
             }
            },
            "header": {
             "fill": {
              "color": "rgb(217,217,217)"
             },
             "line": {
              "color": "white"
             }
            },
            "type": "table"
           }
          ]
         },
         "layout": {
          "annotationdefaults": {
           "arrowhead": 0,
           "arrowwidth": 1
          },
          "autotypenumbers": "strict",
          "coloraxis": {
           "colorbar": {
            "outlinewidth": 1,
            "tickcolor": "rgb(36,36,36)",
            "ticks": "outside"
           }
          },
          "colorscale": {
           "diverging": [
            [
             0,
             "rgb(103,0,31)"
            ],
            [
             0.1,
             "rgb(178,24,43)"
            ],
            [
             0.2,
             "rgb(214,96,77)"
            ],
            [
             0.3,
             "rgb(244,165,130)"
            ],
            [
             0.4,
             "rgb(253,219,199)"
            ],
            [
             0.5,
             "rgb(247,247,247)"
            ],
            [
             0.6,
             "rgb(209,229,240)"
            ],
            [
             0.7,
             "rgb(146,197,222)"
            ],
            [
             0.8,
             "rgb(67,147,195)"
            ],
            [
             0.9,
             "rgb(33,102,172)"
            ],
            [
             1,
             "rgb(5,48,97)"
            ]
           ],
           "sequential": [
            [
             0,
             "#440154"
            ],
            [
             0.1111111111111111,
             "#482878"
            ],
            [
             0.2222222222222222,
             "#3e4989"
            ],
            [
             0.3333333333333333,
             "#31688e"
            ],
            [
             0.4444444444444444,
             "#26828e"
            ],
            [
             0.5555555555555556,
             "#1f9e89"
            ],
            [
             0.6666666666666666,
             "#35b779"
            ],
            [
             0.7777777777777778,
             "#6ece58"
            ],
            [
             0.8888888888888888,
             "#b5de2b"
            ],
            [
             1,
             "#fde725"
            ]
           ],
           "sequentialminus": [
            [
             0,
             "#440154"
            ],
            [
             0.1111111111111111,
             "#482878"
            ],
            [
             0.2222222222222222,
             "#3e4989"
            ],
            [
             0.3333333333333333,
             "#31688e"
            ],
            [
             0.4444444444444444,
             "#26828e"
            ],
            [
             0.5555555555555556,
             "#1f9e89"
            ],
            [
             0.6666666666666666,
             "#35b779"
            ],
            [
             0.7777777777777778,
             "#6ece58"
            ],
            [
             0.8888888888888888,
             "#b5de2b"
            ],
            [
             1,
             "#fde725"
            ]
           ]
          },
          "colorway": [
           "#1F77B4",
           "#FF7F0E",
           "#2CA02C",
           "#D62728",
           "#9467BD",
           "#8C564B",
           "#E377C2",
           "#7F7F7F",
           "#BCBD22",
           "#17BECF"
          ],
          "font": {
           "color": "rgb(36,36,36)"
          },
          "geo": {
           "bgcolor": "white",
           "lakecolor": "white",
           "landcolor": "white",
           "showlakes": true,
           "showland": true,
           "subunitcolor": "white"
          },
          "hoverlabel": {
           "align": "left"
          },
          "hovermode": "closest",
          "mapbox": {
           "style": "light"
          },
          "paper_bgcolor": "white",
          "plot_bgcolor": "white",
          "polar": {
           "angularaxis": {
            "gridcolor": "rgb(232,232,232)",
            "linecolor": "rgb(36,36,36)",
            "showgrid": false,
            "showline": true,
            "ticks": "outside"
           },
           "bgcolor": "white",
           "radialaxis": {
            "gridcolor": "rgb(232,232,232)",
            "linecolor": "rgb(36,36,36)",
            "showgrid": false,
            "showline": true,
            "ticks": "outside"
           }
          },
          "scene": {
           "xaxis": {
            "backgroundcolor": "white",
            "gridcolor": "rgb(232,232,232)",
            "gridwidth": 2,
            "linecolor": "rgb(36,36,36)",
            "showbackground": true,
            "showgrid": false,
            "showline": true,
            "ticks": "outside",
            "zeroline": false,
            "zerolinecolor": "rgb(36,36,36)"
           },
           "yaxis": {
            "backgroundcolor": "white",
            "gridcolor": "rgb(232,232,232)",
            "gridwidth": 2,
            "linecolor": "rgb(36,36,36)",
            "showbackground": true,
            "showgrid": false,
            "showline": true,
            "ticks": "outside",
            "zeroline": false,
            "zerolinecolor": "rgb(36,36,36)"
           },
           "zaxis": {
            "backgroundcolor": "white",
            "gridcolor": "rgb(232,232,232)",
            "gridwidth": 2,
            "linecolor": "rgb(36,36,36)",
            "showbackground": true,
            "showgrid": false,
            "showline": true,
            "ticks": "outside",
            "zeroline": false,
            "zerolinecolor": "rgb(36,36,36)"
           }
          },
          "shapedefaults": {
           "fillcolor": "black",
           "line": {
            "width": 0
           },
           "opacity": 0.3
          },
          "ternary": {
           "aaxis": {
            "gridcolor": "rgb(232,232,232)",
            "linecolor": "rgb(36,36,36)",
            "showgrid": false,
            "showline": true,
            "ticks": "outside"
           },
           "baxis": {
            "gridcolor": "rgb(232,232,232)",
            "linecolor": "rgb(36,36,36)",
            "showgrid": false,
            "showline": true,
            "ticks": "outside"
           },
           "bgcolor": "white",
           "caxis": {
            "gridcolor": "rgb(232,232,232)",
            "linecolor": "rgb(36,36,36)",
            "showgrid": false,
            "showline": true,
            "ticks": "outside"
           }
          },
          "title": {
           "x": 0.05
          },
          "xaxis": {
           "automargin": true,
           "gridcolor": "rgb(232,232,232)",
           "linecolor": "rgb(36,36,36)",
           "showgrid": false,
           "showline": true,
           "ticks": "outside",
           "title": {
            "standoff": 15
           },
           "zeroline": false,
           "zerolinecolor": "rgb(36,36,36)"
          },
          "yaxis": {
           "automargin": true,
           "gridcolor": "rgb(232,232,232)",
           "linecolor": "rgb(36,36,36)",
           "showgrid": false,
           "showline": true,
           "ticks": "outside",
           "title": {
            "standoff": 15
           },
           "zeroline": false,
           "zerolinecolor": "rgb(36,36,36)"
          }
         }
        },
        "width": 1024,
        "xaxis": {
         "showgrid": false,
         "title": {
          "text": " "
         }
        },
        "yaxis": {
         "categoryorder": "category descending",
         "showgrid": false,
         "showline": false,
         "ticksuffix": " ",
         "title": {
          "text": " "
         }
        }
       }
      }
     },
     "metadata": {},
     "output_type": "display_data"
    }
   ],
   "source": [
    "fig_duration = go.Figure()\n",
    "fig_duration.add_trace(go.Bar(x=df_means_situations.safety, y=df_means_situations.situation, \n",
    "                        orientation='h', showlegend=True,\n",
    "                        text=np.round(df_means_situations.safety,decimals = 1),\n",
    "                        name='Perceived Safety', marker_color= marking_red))\n",
    "fig_duration.update_xaxes(showgrid=False)\n",
    "fig_duration.update_yaxes(showgrid=False, categoryorder=\"category descending\",\n",
    "                 ticksuffix=' ', showline=False)\n",
    "fig_duration.update_traces(hovertemplate=None)\n",
    "fig_duration.update_layout(\n",
    "#    title='Mean of Duration & Standingtimes per Situation (Seconds)(Field)',\n",
    "    margin=dict(t=80, b=0, l=70, r=40),\n",
    "    hovermode=\"y unified\", \n",
    "    xaxis_title=' ', yaxis_title=\" \",\n",
    "    width=plot_width, height=plot_height,\n",
    "    font=dict(family=\"Lato, sans-serif\",size=14),\n",
    "    legend=dict(orientation=\"h\", yanchor=\"bottom\",y=1, xanchor=\"center\", x=0.5),\n",
    "    hoverlabel=dict(font_size=13, font_family=\"Lato, sans-serif\"),\n",
    "    paper_bgcolor='rgba(0,0,0,0)',\n",
    "    plot_bgcolor='rgba(0,0,0,0)'\n",
    ")"
   ]
  },
  {
   "cell_type": "markdown",
   "id": "a9b47c75-db53-494b-9059-81ebf79326a7",
   "metadata": {},
   "source": [
    "#### Collisions"
   ]
  },
  {
   "cell_type": "code",
   "execution_count": 12,
   "id": "f47ad50e-6bc9-4e50-8d66-b0b1d026a7bf",
   "metadata": {},
   "outputs": [
    {
     "data": {
      "application/vnd.plotly.v1+json": {
       "config": {
        "plotlyServerURL": "https://plot.ly"
       },
       "data": [
        {
         "marker": {
          "color": "#961C26"
         },
         "name": "Collisions",
         "orientation": "h",
         "showlegend": true,
         "text": [
          3,
          0,
          2,
          0
         ],
         "type": "bar",
         "x": [
          2.6666666666666665,
          0,
          1.8333333333333333,
          0.3333333333333333
         ],
         "y": [
          "A",
          "B",
          "C",
          "D"
         ]
        }
       ],
       "layout": {
        "font": {
         "family": "Lato, sans-serif",
         "size": 14
        },
        "height": 768,
        "hoverlabel": {
         "font": {
          "family": "Lato, sans-serif",
          "size": 13
         }
        },
        "hovermode": "y unified",
        "legend": {
         "orientation": "h",
         "x": 0.5,
         "xanchor": "center",
         "y": 1,
         "yanchor": "bottom"
        },
        "margin": {
         "b": 0,
         "l": 70,
         "r": 40,
         "t": 80
        },
        "paper_bgcolor": "rgba(0,0,0,0)",
        "plot_bgcolor": "rgba(0,0,0,0)",
        "template": {
         "data": {
          "bar": [
           {
            "error_x": {
             "color": "rgb(36,36,36)"
            },
            "error_y": {
             "color": "rgb(36,36,36)"
            },
            "marker": {
             "line": {
              "color": "white",
              "width": 0.5
             },
             "pattern": {
              "fillmode": "overlay",
              "size": 10,
              "solidity": 0.2
             }
            },
            "type": "bar"
           }
          ],
          "barpolar": [
           {
            "marker": {
             "line": {
              "color": "white",
              "width": 0.5
             },
             "pattern": {
              "fillmode": "overlay",
              "size": 10,
              "solidity": 0.2
             }
            },
            "type": "barpolar"
           }
          ],
          "carpet": [
           {
            "aaxis": {
             "endlinecolor": "rgb(36,36,36)",
             "gridcolor": "white",
             "linecolor": "white",
             "minorgridcolor": "white",
             "startlinecolor": "rgb(36,36,36)"
            },
            "baxis": {
             "endlinecolor": "rgb(36,36,36)",
             "gridcolor": "white",
             "linecolor": "white",
             "minorgridcolor": "white",
             "startlinecolor": "rgb(36,36,36)"
            },
            "type": "carpet"
           }
          ],
          "choropleth": [
           {
            "colorbar": {
             "outlinewidth": 1,
             "tickcolor": "rgb(36,36,36)",
             "ticks": "outside"
            },
            "type": "choropleth"
           }
          ],
          "contour": [
           {
            "colorbar": {
             "outlinewidth": 1,
             "tickcolor": "rgb(36,36,36)",
             "ticks": "outside"
            },
            "colorscale": [
             [
              0,
              "#440154"
             ],
             [
              0.1111111111111111,
              "#482878"
             ],
             [
              0.2222222222222222,
              "#3e4989"
             ],
             [
              0.3333333333333333,
              "#31688e"
             ],
             [
              0.4444444444444444,
              "#26828e"
             ],
             [
              0.5555555555555556,
              "#1f9e89"
             ],
             [
              0.6666666666666666,
              "#35b779"
             ],
             [
              0.7777777777777778,
              "#6ece58"
             ],
             [
              0.8888888888888888,
              "#b5de2b"
             ],
             [
              1,
              "#fde725"
             ]
            ],
            "type": "contour"
           }
          ],
          "contourcarpet": [
           {
            "colorbar": {
             "outlinewidth": 1,
             "tickcolor": "rgb(36,36,36)",
             "ticks": "outside"
            },
            "type": "contourcarpet"
           }
          ],
          "heatmap": [
           {
            "colorbar": {
             "outlinewidth": 1,
             "tickcolor": "rgb(36,36,36)",
             "ticks": "outside"
            },
            "colorscale": [
             [
              0,
              "#440154"
             ],
             [
              0.1111111111111111,
              "#482878"
             ],
             [
              0.2222222222222222,
              "#3e4989"
             ],
             [
              0.3333333333333333,
              "#31688e"
             ],
             [
              0.4444444444444444,
              "#26828e"
             ],
             [
              0.5555555555555556,
              "#1f9e89"
             ],
             [
              0.6666666666666666,
              "#35b779"
             ],
             [
              0.7777777777777778,
              "#6ece58"
             ],
             [
              0.8888888888888888,
              "#b5de2b"
             ],
             [
              1,
              "#fde725"
             ]
            ],
            "type": "heatmap"
           }
          ],
          "heatmapgl": [
           {
            "colorbar": {
             "outlinewidth": 1,
             "tickcolor": "rgb(36,36,36)",
             "ticks": "outside"
            },
            "colorscale": [
             [
              0,
              "#440154"
             ],
             [
              0.1111111111111111,
              "#482878"
             ],
             [
              0.2222222222222222,
              "#3e4989"
             ],
             [
              0.3333333333333333,
              "#31688e"
             ],
             [
              0.4444444444444444,
              "#26828e"
             ],
             [
              0.5555555555555556,
              "#1f9e89"
             ],
             [
              0.6666666666666666,
              "#35b779"
             ],
             [
              0.7777777777777778,
              "#6ece58"
             ],
             [
              0.8888888888888888,
              "#b5de2b"
             ],
             [
              1,
              "#fde725"
             ]
            ],
            "type": "heatmapgl"
           }
          ],
          "histogram": [
           {
            "marker": {
             "line": {
              "color": "white",
              "width": 0.6
             }
            },
            "type": "histogram"
           }
          ],
          "histogram2d": [
           {
            "colorbar": {
             "outlinewidth": 1,
             "tickcolor": "rgb(36,36,36)",
             "ticks": "outside"
            },
            "colorscale": [
             [
              0,
              "#440154"
             ],
             [
              0.1111111111111111,
              "#482878"
             ],
             [
              0.2222222222222222,
              "#3e4989"
             ],
             [
              0.3333333333333333,
              "#31688e"
             ],
             [
              0.4444444444444444,
              "#26828e"
             ],
             [
              0.5555555555555556,
              "#1f9e89"
             ],
             [
              0.6666666666666666,
              "#35b779"
             ],
             [
              0.7777777777777778,
              "#6ece58"
             ],
             [
              0.8888888888888888,
              "#b5de2b"
             ],
             [
              1,
              "#fde725"
             ]
            ],
            "type": "histogram2d"
           }
          ],
          "histogram2dcontour": [
           {
            "colorbar": {
             "outlinewidth": 1,
             "tickcolor": "rgb(36,36,36)",
             "ticks": "outside"
            },
            "colorscale": [
             [
              0,
              "#440154"
             ],
             [
              0.1111111111111111,
              "#482878"
             ],
             [
              0.2222222222222222,
              "#3e4989"
             ],
             [
              0.3333333333333333,
              "#31688e"
             ],
             [
              0.4444444444444444,
              "#26828e"
             ],
             [
              0.5555555555555556,
              "#1f9e89"
             ],
             [
              0.6666666666666666,
              "#35b779"
             ],
             [
              0.7777777777777778,
              "#6ece58"
             ],
             [
              0.8888888888888888,
              "#b5de2b"
             ],
             [
              1,
              "#fde725"
             ]
            ],
            "type": "histogram2dcontour"
           }
          ],
          "mesh3d": [
           {
            "colorbar": {
             "outlinewidth": 1,
             "tickcolor": "rgb(36,36,36)",
             "ticks": "outside"
            },
            "type": "mesh3d"
           }
          ],
          "parcoords": [
           {
            "line": {
             "colorbar": {
              "outlinewidth": 1,
              "tickcolor": "rgb(36,36,36)",
              "ticks": "outside"
             }
            },
            "type": "parcoords"
           }
          ],
          "pie": [
           {
            "automargin": true,
            "type": "pie"
           }
          ],
          "scatter": [
           {
            "fillpattern": {
             "fillmode": "overlay",
             "size": 10,
             "solidity": 0.2
            },
            "type": "scatter"
           }
          ],
          "scatter3d": [
           {
            "line": {
             "colorbar": {
              "outlinewidth": 1,
              "tickcolor": "rgb(36,36,36)",
              "ticks": "outside"
             }
            },
            "marker": {
             "colorbar": {
              "outlinewidth": 1,
              "tickcolor": "rgb(36,36,36)",
              "ticks": "outside"
             }
            },
            "type": "scatter3d"
           }
          ],
          "scattercarpet": [
           {
            "marker": {
             "colorbar": {
              "outlinewidth": 1,
              "tickcolor": "rgb(36,36,36)",
              "ticks": "outside"
             }
            },
            "type": "scattercarpet"
           }
          ],
          "scattergeo": [
           {
            "marker": {
             "colorbar": {
              "outlinewidth": 1,
              "tickcolor": "rgb(36,36,36)",
              "ticks": "outside"
             }
            },
            "type": "scattergeo"
           }
          ],
          "scattergl": [
           {
            "marker": {
             "colorbar": {
              "outlinewidth": 1,
              "tickcolor": "rgb(36,36,36)",
              "ticks": "outside"
             }
            },
            "type": "scattergl"
           }
          ],
          "scattermapbox": [
           {
            "marker": {
             "colorbar": {
              "outlinewidth": 1,
              "tickcolor": "rgb(36,36,36)",
              "ticks": "outside"
             }
            },
            "type": "scattermapbox"
           }
          ],
          "scatterpolar": [
           {
            "marker": {
             "colorbar": {
              "outlinewidth": 1,
              "tickcolor": "rgb(36,36,36)",
              "ticks": "outside"
             }
            },
            "type": "scatterpolar"
           }
          ],
          "scatterpolargl": [
           {
            "marker": {
             "colorbar": {
              "outlinewidth": 1,
              "tickcolor": "rgb(36,36,36)",
              "ticks": "outside"
             }
            },
            "type": "scatterpolargl"
           }
          ],
          "scatterternary": [
           {
            "marker": {
             "colorbar": {
              "outlinewidth": 1,
              "tickcolor": "rgb(36,36,36)",
              "ticks": "outside"
             }
            },
            "type": "scatterternary"
           }
          ],
          "surface": [
           {
            "colorbar": {
             "outlinewidth": 1,
             "tickcolor": "rgb(36,36,36)",
             "ticks": "outside"
            },
            "colorscale": [
             [
              0,
              "#440154"
             ],
             [
              0.1111111111111111,
              "#482878"
             ],
             [
              0.2222222222222222,
              "#3e4989"
             ],
             [
              0.3333333333333333,
              "#31688e"
             ],
             [
              0.4444444444444444,
              "#26828e"
             ],
             [
              0.5555555555555556,
              "#1f9e89"
             ],
             [
              0.6666666666666666,
              "#35b779"
             ],
             [
              0.7777777777777778,
              "#6ece58"
             ],
             [
              0.8888888888888888,
              "#b5de2b"
             ],
             [
              1,
              "#fde725"
             ]
            ],
            "type": "surface"
           }
          ],
          "table": [
           {
            "cells": {
             "fill": {
              "color": "rgb(237,237,237)"
             },
             "line": {
              "color": "white"
             }
            },
            "header": {
             "fill": {
              "color": "rgb(217,217,217)"
             },
             "line": {
              "color": "white"
             }
            },
            "type": "table"
           }
          ]
         },
         "layout": {
          "annotationdefaults": {
           "arrowhead": 0,
           "arrowwidth": 1
          },
          "autotypenumbers": "strict",
          "coloraxis": {
           "colorbar": {
            "outlinewidth": 1,
            "tickcolor": "rgb(36,36,36)",
            "ticks": "outside"
           }
          },
          "colorscale": {
           "diverging": [
            [
             0,
             "rgb(103,0,31)"
            ],
            [
             0.1,
             "rgb(178,24,43)"
            ],
            [
             0.2,
             "rgb(214,96,77)"
            ],
            [
             0.3,
             "rgb(244,165,130)"
            ],
            [
             0.4,
             "rgb(253,219,199)"
            ],
            [
             0.5,
             "rgb(247,247,247)"
            ],
            [
             0.6,
             "rgb(209,229,240)"
            ],
            [
             0.7,
             "rgb(146,197,222)"
            ],
            [
             0.8,
             "rgb(67,147,195)"
            ],
            [
             0.9,
             "rgb(33,102,172)"
            ],
            [
             1,
             "rgb(5,48,97)"
            ]
           ],
           "sequential": [
            [
             0,
             "#440154"
            ],
            [
             0.1111111111111111,
             "#482878"
            ],
            [
             0.2222222222222222,
             "#3e4989"
            ],
            [
             0.3333333333333333,
             "#31688e"
            ],
            [
             0.4444444444444444,
             "#26828e"
            ],
            [
             0.5555555555555556,
             "#1f9e89"
            ],
            [
             0.6666666666666666,
             "#35b779"
            ],
            [
             0.7777777777777778,
             "#6ece58"
            ],
            [
             0.8888888888888888,
             "#b5de2b"
            ],
            [
             1,
             "#fde725"
            ]
           ],
           "sequentialminus": [
            [
             0,
             "#440154"
            ],
            [
             0.1111111111111111,
             "#482878"
            ],
            [
             0.2222222222222222,
             "#3e4989"
            ],
            [
             0.3333333333333333,
             "#31688e"
            ],
            [
             0.4444444444444444,
             "#26828e"
            ],
            [
             0.5555555555555556,
             "#1f9e89"
            ],
            [
             0.6666666666666666,
             "#35b779"
            ],
            [
             0.7777777777777778,
             "#6ece58"
            ],
            [
             0.8888888888888888,
             "#b5de2b"
            ],
            [
             1,
             "#fde725"
            ]
           ]
          },
          "colorway": [
           "#1F77B4",
           "#FF7F0E",
           "#2CA02C",
           "#D62728",
           "#9467BD",
           "#8C564B",
           "#E377C2",
           "#7F7F7F",
           "#BCBD22",
           "#17BECF"
          ],
          "font": {
           "color": "rgb(36,36,36)"
          },
          "geo": {
           "bgcolor": "white",
           "lakecolor": "white",
           "landcolor": "white",
           "showlakes": true,
           "showland": true,
           "subunitcolor": "white"
          },
          "hoverlabel": {
           "align": "left"
          },
          "hovermode": "closest",
          "mapbox": {
           "style": "light"
          },
          "paper_bgcolor": "white",
          "plot_bgcolor": "white",
          "polar": {
           "angularaxis": {
            "gridcolor": "rgb(232,232,232)",
            "linecolor": "rgb(36,36,36)",
            "showgrid": false,
            "showline": true,
            "ticks": "outside"
           },
           "bgcolor": "white",
           "radialaxis": {
            "gridcolor": "rgb(232,232,232)",
            "linecolor": "rgb(36,36,36)",
            "showgrid": false,
            "showline": true,
            "ticks": "outside"
           }
          },
          "scene": {
           "xaxis": {
            "backgroundcolor": "white",
            "gridcolor": "rgb(232,232,232)",
            "gridwidth": 2,
            "linecolor": "rgb(36,36,36)",
            "showbackground": true,
            "showgrid": false,
            "showline": true,
            "ticks": "outside",
            "zeroline": false,
            "zerolinecolor": "rgb(36,36,36)"
           },
           "yaxis": {
            "backgroundcolor": "white",
            "gridcolor": "rgb(232,232,232)",
            "gridwidth": 2,
            "linecolor": "rgb(36,36,36)",
            "showbackground": true,
            "showgrid": false,
            "showline": true,
            "ticks": "outside",
            "zeroline": false,
            "zerolinecolor": "rgb(36,36,36)"
           },
           "zaxis": {
            "backgroundcolor": "white",
            "gridcolor": "rgb(232,232,232)",
            "gridwidth": 2,
            "linecolor": "rgb(36,36,36)",
            "showbackground": true,
            "showgrid": false,
            "showline": true,
            "ticks": "outside",
            "zeroline": false,
            "zerolinecolor": "rgb(36,36,36)"
           }
          },
          "shapedefaults": {
           "fillcolor": "black",
           "line": {
            "width": 0
           },
           "opacity": 0.3
          },
          "ternary": {
           "aaxis": {
            "gridcolor": "rgb(232,232,232)",
            "linecolor": "rgb(36,36,36)",
            "showgrid": false,
            "showline": true,
            "ticks": "outside"
           },
           "baxis": {
            "gridcolor": "rgb(232,232,232)",
            "linecolor": "rgb(36,36,36)",
            "showgrid": false,
            "showline": true,
            "ticks": "outside"
           },
           "bgcolor": "white",
           "caxis": {
            "gridcolor": "rgb(232,232,232)",
            "linecolor": "rgb(36,36,36)",
            "showgrid": false,
            "showline": true,
            "ticks": "outside"
           }
          },
          "title": {
           "x": 0.05
          },
          "xaxis": {
           "automargin": true,
           "gridcolor": "rgb(232,232,232)",
           "linecolor": "rgb(36,36,36)",
           "showgrid": false,
           "showline": true,
           "ticks": "outside",
           "title": {
            "standoff": 15
           },
           "zeroline": false,
           "zerolinecolor": "rgb(36,36,36)"
          },
          "yaxis": {
           "automargin": true,
           "gridcolor": "rgb(232,232,232)",
           "linecolor": "rgb(36,36,36)",
           "showgrid": false,
           "showline": true,
           "ticks": "outside",
           "title": {
            "standoff": 15
           },
           "zeroline": false,
           "zerolinecolor": "rgb(36,36,36)"
          }
         }
        },
        "width": 1024,
        "xaxis": {
         "showgrid": false,
         "title": {
          "text": " "
         }
        },
        "yaxis": {
         "categoryorder": "category descending",
         "showgrid": false,
         "showline": false,
         "ticksuffix": " ",
         "title": {
          "text": " "
         }
        }
       }
      }
     },
     "metadata": {},
     "output_type": "display_data"
    }
   ],
   "source": [
    "fig_collisions = go.Figure(layout=layout)\n",
    "fig_collisions.add_trace(go.Bar(x=df_means_situations.collisions, y=df_means_situations.situation, \n",
    "                        orientation='h', showlegend=True,\n",
    "                        text=np.round(df_means_situations.collisions,decimals = 0),\n",
    "                        name='Collisions', marker_color= marking_red))\n",
    "fig_collisions.update_xaxes(showgrid=False)\n",
    "fig_collisions.update_yaxes(showgrid=False, categoryorder=\"category descending\",\n",
    "                 ticksuffix=' ', showline=False)\n",
    "fig_collisions.update_traces(hovertemplate=None)\n",
    "fig_collisions.update_layout(\n",
    "#    title='Mean of Collisions per Situation',\n",
    "    margin=dict(t=80, b=0, l=70, r=40),\n",
    "    hovermode=\"y unified\", \n",
    "    xaxis_title=' ', \n",
    "    yaxis_title=\" \",\n",
    "    font=dict(family=\"Lato, sans-serif\",size=14),\n",
    "    width=plot_width, height=plot_height,\n",
    "    legend=dict(orientation=\"h\", yanchor=\"bottom\",y=1, xanchor=\"center\", x=0.5),\n",
    "    hoverlabel=dict(font_size=13, font_family=\"Lato, sans-serif\"))"
   ]
  },
  {
   "cell_type": "markdown",
   "id": "a70f0a40-2889-4734-bb8c-5917f0cfde91",
   "metadata": {},
   "source": [
    "#### Duration per Situation"
   ]
  },
  {
   "cell_type": "code",
   "execution_count": 13,
   "id": "57d9cdb5-0d94-4da2-a941-42e075dd747b",
   "metadata": {},
   "outputs": [
    {
     "data": {
      "application/vnd.plotly.v1+json": {
       "config": {
        "plotlyServerURL": "https://plot.ly"
       },
       "data": [
        {
         "marker": {
          "color": "#961C26"
         },
         "name": "Duration",
         "orientation": "h",
         "showlegend": true,
         "text": [
          27,
          8,
          23,
          17
         ],
         "type": "bar",
         "x": [
          27.352944444444443,
          8.420027777777785,
          22.633277777777778,
          17.05402777777778
         ],
         "y": [
          "A",
          "B",
          "C",
          "D"
         ]
        },
        {
         "marker": {
          "color": "#000000"
         },
         "name": "Standtime",
         "orientation": "h",
         "showlegend": true,
         "text": [
          14,
          2,
          10,
          10
         ],
         "type": "bar",
         "x": [
          13.999717712402344,
          1.5052776336669922,
          10.358834266662598,
          9.757722854614258
         ],
         "y": [
          "A",
          "B",
          "C",
          "D"
         ]
        }
       ],
       "layout": {
        "font": {
         "family": "Lato, sans-serif",
         "size": 14
        },
        "height": 768,
        "hoverlabel": {
         "font": {
          "family": "Lato, sans-serif",
          "size": 18
         }
        },
        "hovermode": "y unified",
        "legend": {
         "orientation": "h",
         "x": 0.5,
         "xanchor": "center",
         "y": 1,
         "yanchor": "bottom"
        },
        "margin": {
         "b": 0,
         "l": 70,
         "r": 40,
         "t": 80
        },
        "paper_bgcolor": "rgba(0,0,0,0)",
        "plot_bgcolor": "rgba(0,0,0,0)",
        "template": {
         "data": {
          "bar": [
           {
            "error_x": {
             "color": "rgb(36,36,36)"
            },
            "error_y": {
             "color": "rgb(36,36,36)"
            },
            "marker": {
             "line": {
              "color": "white",
              "width": 0.5
             },
             "pattern": {
              "fillmode": "overlay",
              "size": 10,
              "solidity": 0.2
             }
            },
            "type": "bar"
           }
          ],
          "barpolar": [
           {
            "marker": {
             "line": {
              "color": "white",
              "width": 0.5
             },
             "pattern": {
              "fillmode": "overlay",
              "size": 10,
              "solidity": 0.2
             }
            },
            "type": "barpolar"
           }
          ],
          "carpet": [
           {
            "aaxis": {
             "endlinecolor": "rgb(36,36,36)",
             "gridcolor": "white",
             "linecolor": "white",
             "minorgridcolor": "white",
             "startlinecolor": "rgb(36,36,36)"
            },
            "baxis": {
             "endlinecolor": "rgb(36,36,36)",
             "gridcolor": "white",
             "linecolor": "white",
             "minorgridcolor": "white",
             "startlinecolor": "rgb(36,36,36)"
            },
            "type": "carpet"
           }
          ],
          "choropleth": [
           {
            "colorbar": {
             "outlinewidth": 1,
             "tickcolor": "rgb(36,36,36)",
             "ticks": "outside"
            },
            "type": "choropleth"
           }
          ],
          "contour": [
           {
            "colorbar": {
             "outlinewidth": 1,
             "tickcolor": "rgb(36,36,36)",
             "ticks": "outside"
            },
            "colorscale": [
             [
              0,
              "#440154"
             ],
             [
              0.1111111111111111,
              "#482878"
             ],
             [
              0.2222222222222222,
              "#3e4989"
             ],
             [
              0.3333333333333333,
              "#31688e"
             ],
             [
              0.4444444444444444,
              "#26828e"
             ],
             [
              0.5555555555555556,
              "#1f9e89"
             ],
             [
              0.6666666666666666,
              "#35b779"
             ],
             [
              0.7777777777777778,
              "#6ece58"
             ],
             [
              0.8888888888888888,
              "#b5de2b"
             ],
             [
              1,
              "#fde725"
             ]
            ],
            "type": "contour"
           }
          ],
          "contourcarpet": [
           {
            "colorbar": {
             "outlinewidth": 1,
             "tickcolor": "rgb(36,36,36)",
             "ticks": "outside"
            },
            "type": "contourcarpet"
           }
          ],
          "heatmap": [
           {
            "colorbar": {
             "outlinewidth": 1,
             "tickcolor": "rgb(36,36,36)",
             "ticks": "outside"
            },
            "colorscale": [
             [
              0,
              "#440154"
             ],
             [
              0.1111111111111111,
              "#482878"
             ],
             [
              0.2222222222222222,
              "#3e4989"
             ],
             [
              0.3333333333333333,
              "#31688e"
             ],
             [
              0.4444444444444444,
              "#26828e"
             ],
             [
              0.5555555555555556,
              "#1f9e89"
             ],
             [
              0.6666666666666666,
              "#35b779"
             ],
             [
              0.7777777777777778,
              "#6ece58"
             ],
             [
              0.8888888888888888,
              "#b5de2b"
             ],
             [
              1,
              "#fde725"
             ]
            ],
            "type": "heatmap"
           }
          ],
          "heatmapgl": [
           {
            "colorbar": {
             "outlinewidth": 1,
             "tickcolor": "rgb(36,36,36)",
             "ticks": "outside"
            },
            "colorscale": [
             [
              0,
              "#440154"
             ],
             [
              0.1111111111111111,
              "#482878"
             ],
             [
              0.2222222222222222,
              "#3e4989"
             ],
             [
              0.3333333333333333,
              "#31688e"
             ],
             [
              0.4444444444444444,
              "#26828e"
             ],
             [
              0.5555555555555556,
              "#1f9e89"
             ],
             [
              0.6666666666666666,
              "#35b779"
             ],
             [
              0.7777777777777778,
              "#6ece58"
             ],
             [
              0.8888888888888888,
              "#b5de2b"
             ],
             [
              1,
              "#fde725"
             ]
            ],
            "type": "heatmapgl"
           }
          ],
          "histogram": [
           {
            "marker": {
             "line": {
              "color": "white",
              "width": 0.6
             }
            },
            "type": "histogram"
           }
          ],
          "histogram2d": [
           {
            "colorbar": {
             "outlinewidth": 1,
             "tickcolor": "rgb(36,36,36)",
             "ticks": "outside"
            },
            "colorscale": [
             [
              0,
              "#440154"
             ],
             [
              0.1111111111111111,
              "#482878"
             ],
             [
              0.2222222222222222,
              "#3e4989"
             ],
             [
              0.3333333333333333,
              "#31688e"
             ],
             [
              0.4444444444444444,
              "#26828e"
             ],
             [
              0.5555555555555556,
              "#1f9e89"
             ],
             [
              0.6666666666666666,
              "#35b779"
             ],
             [
              0.7777777777777778,
              "#6ece58"
             ],
             [
              0.8888888888888888,
              "#b5de2b"
             ],
             [
              1,
              "#fde725"
             ]
            ],
            "type": "histogram2d"
           }
          ],
          "histogram2dcontour": [
           {
            "colorbar": {
             "outlinewidth": 1,
             "tickcolor": "rgb(36,36,36)",
             "ticks": "outside"
            },
            "colorscale": [
             [
              0,
              "#440154"
             ],
             [
              0.1111111111111111,
              "#482878"
             ],
             [
              0.2222222222222222,
              "#3e4989"
             ],
             [
              0.3333333333333333,
              "#31688e"
             ],
             [
              0.4444444444444444,
              "#26828e"
             ],
             [
              0.5555555555555556,
              "#1f9e89"
             ],
             [
              0.6666666666666666,
              "#35b779"
             ],
             [
              0.7777777777777778,
              "#6ece58"
             ],
             [
              0.8888888888888888,
              "#b5de2b"
             ],
             [
              1,
              "#fde725"
             ]
            ],
            "type": "histogram2dcontour"
           }
          ],
          "mesh3d": [
           {
            "colorbar": {
             "outlinewidth": 1,
             "tickcolor": "rgb(36,36,36)",
             "ticks": "outside"
            },
            "type": "mesh3d"
           }
          ],
          "parcoords": [
           {
            "line": {
             "colorbar": {
              "outlinewidth": 1,
              "tickcolor": "rgb(36,36,36)",
              "ticks": "outside"
             }
            },
            "type": "parcoords"
           }
          ],
          "pie": [
           {
            "automargin": true,
            "type": "pie"
           }
          ],
          "scatter": [
           {
            "fillpattern": {
             "fillmode": "overlay",
             "size": 10,
             "solidity": 0.2
            },
            "type": "scatter"
           }
          ],
          "scatter3d": [
           {
            "line": {
             "colorbar": {
              "outlinewidth": 1,
              "tickcolor": "rgb(36,36,36)",
              "ticks": "outside"
             }
            },
            "marker": {
             "colorbar": {
              "outlinewidth": 1,
              "tickcolor": "rgb(36,36,36)",
              "ticks": "outside"
             }
            },
            "type": "scatter3d"
           }
          ],
          "scattercarpet": [
           {
            "marker": {
             "colorbar": {
              "outlinewidth": 1,
              "tickcolor": "rgb(36,36,36)",
              "ticks": "outside"
             }
            },
            "type": "scattercarpet"
           }
          ],
          "scattergeo": [
           {
            "marker": {
             "colorbar": {
              "outlinewidth": 1,
              "tickcolor": "rgb(36,36,36)",
              "ticks": "outside"
             }
            },
            "type": "scattergeo"
           }
          ],
          "scattergl": [
           {
            "marker": {
             "colorbar": {
              "outlinewidth": 1,
              "tickcolor": "rgb(36,36,36)",
              "ticks": "outside"
             }
            },
            "type": "scattergl"
           }
          ],
          "scattermapbox": [
           {
            "marker": {
             "colorbar": {
              "outlinewidth": 1,
              "tickcolor": "rgb(36,36,36)",
              "ticks": "outside"
             }
            },
            "type": "scattermapbox"
           }
          ],
          "scatterpolar": [
           {
            "marker": {
             "colorbar": {
              "outlinewidth": 1,
              "tickcolor": "rgb(36,36,36)",
              "ticks": "outside"
             }
            },
            "type": "scatterpolar"
           }
          ],
          "scatterpolargl": [
           {
            "marker": {
             "colorbar": {
              "outlinewidth": 1,
              "tickcolor": "rgb(36,36,36)",
              "ticks": "outside"
             }
            },
            "type": "scatterpolargl"
           }
          ],
          "scatterternary": [
           {
            "marker": {
             "colorbar": {
              "outlinewidth": 1,
              "tickcolor": "rgb(36,36,36)",
              "ticks": "outside"
             }
            },
            "type": "scatterternary"
           }
          ],
          "surface": [
           {
            "colorbar": {
             "outlinewidth": 1,
             "tickcolor": "rgb(36,36,36)",
             "ticks": "outside"
            },
            "colorscale": [
             [
              0,
              "#440154"
             ],
             [
              0.1111111111111111,
              "#482878"
             ],
             [
              0.2222222222222222,
              "#3e4989"
             ],
             [
              0.3333333333333333,
              "#31688e"
             ],
             [
              0.4444444444444444,
              "#26828e"
             ],
             [
              0.5555555555555556,
              "#1f9e89"
             ],
             [
              0.6666666666666666,
              "#35b779"
             ],
             [
              0.7777777777777778,
              "#6ece58"
             ],
             [
              0.8888888888888888,
              "#b5de2b"
             ],
             [
              1,
              "#fde725"
             ]
            ],
            "type": "surface"
           }
          ],
          "table": [
           {
            "cells": {
             "fill": {
              "color": "rgb(237,237,237)"
             },
             "line": {
              "color": "white"
             }
            },
            "header": {
             "fill": {
              "color": "rgb(217,217,217)"
             },
             "line": {
              "color": "white"
             }
            },
            "type": "table"
           }
          ]
         },
         "layout": {
          "annotationdefaults": {
           "arrowhead": 0,
           "arrowwidth": 1
          },
          "autotypenumbers": "strict",
          "coloraxis": {
           "colorbar": {
            "outlinewidth": 1,
            "tickcolor": "rgb(36,36,36)",
            "ticks": "outside"
           }
          },
          "colorscale": {
           "diverging": [
            [
             0,
             "rgb(103,0,31)"
            ],
            [
             0.1,
             "rgb(178,24,43)"
            ],
            [
             0.2,
             "rgb(214,96,77)"
            ],
            [
             0.3,
             "rgb(244,165,130)"
            ],
            [
             0.4,
             "rgb(253,219,199)"
            ],
            [
             0.5,
             "rgb(247,247,247)"
            ],
            [
             0.6,
             "rgb(209,229,240)"
            ],
            [
             0.7,
             "rgb(146,197,222)"
            ],
            [
             0.8,
             "rgb(67,147,195)"
            ],
            [
             0.9,
             "rgb(33,102,172)"
            ],
            [
             1,
             "rgb(5,48,97)"
            ]
           ],
           "sequential": [
            [
             0,
             "#440154"
            ],
            [
             0.1111111111111111,
             "#482878"
            ],
            [
             0.2222222222222222,
             "#3e4989"
            ],
            [
             0.3333333333333333,
             "#31688e"
            ],
            [
             0.4444444444444444,
             "#26828e"
            ],
            [
             0.5555555555555556,
             "#1f9e89"
            ],
            [
             0.6666666666666666,
             "#35b779"
            ],
            [
             0.7777777777777778,
             "#6ece58"
            ],
            [
             0.8888888888888888,
             "#b5de2b"
            ],
            [
             1,
             "#fde725"
            ]
           ],
           "sequentialminus": [
            [
             0,
             "#440154"
            ],
            [
             0.1111111111111111,
             "#482878"
            ],
            [
             0.2222222222222222,
             "#3e4989"
            ],
            [
             0.3333333333333333,
             "#31688e"
            ],
            [
             0.4444444444444444,
             "#26828e"
            ],
            [
             0.5555555555555556,
             "#1f9e89"
            ],
            [
             0.6666666666666666,
             "#35b779"
            ],
            [
             0.7777777777777778,
             "#6ece58"
            ],
            [
             0.8888888888888888,
             "#b5de2b"
            ],
            [
             1,
             "#fde725"
            ]
           ]
          },
          "colorway": [
           "#1F77B4",
           "#FF7F0E",
           "#2CA02C",
           "#D62728",
           "#9467BD",
           "#8C564B",
           "#E377C2",
           "#7F7F7F",
           "#BCBD22",
           "#17BECF"
          ],
          "font": {
           "color": "rgb(36,36,36)"
          },
          "geo": {
           "bgcolor": "white",
           "lakecolor": "white",
           "landcolor": "white",
           "showlakes": true,
           "showland": true,
           "subunitcolor": "white"
          },
          "hoverlabel": {
           "align": "left"
          },
          "hovermode": "closest",
          "mapbox": {
           "style": "light"
          },
          "paper_bgcolor": "white",
          "plot_bgcolor": "white",
          "polar": {
           "angularaxis": {
            "gridcolor": "rgb(232,232,232)",
            "linecolor": "rgb(36,36,36)",
            "showgrid": false,
            "showline": true,
            "ticks": "outside"
           },
           "bgcolor": "white",
           "radialaxis": {
            "gridcolor": "rgb(232,232,232)",
            "linecolor": "rgb(36,36,36)",
            "showgrid": false,
            "showline": true,
            "ticks": "outside"
           }
          },
          "scene": {
           "xaxis": {
            "backgroundcolor": "white",
            "gridcolor": "rgb(232,232,232)",
            "gridwidth": 2,
            "linecolor": "rgb(36,36,36)",
            "showbackground": true,
            "showgrid": false,
            "showline": true,
            "ticks": "outside",
            "zeroline": false,
            "zerolinecolor": "rgb(36,36,36)"
           },
           "yaxis": {
            "backgroundcolor": "white",
            "gridcolor": "rgb(232,232,232)",
            "gridwidth": 2,
            "linecolor": "rgb(36,36,36)",
            "showbackground": true,
            "showgrid": false,
            "showline": true,
            "ticks": "outside",
            "zeroline": false,
            "zerolinecolor": "rgb(36,36,36)"
           },
           "zaxis": {
            "backgroundcolor": "white",
            "gridcolor": "rgb(232,232,232)",
            "gridwidth": 2,
            "linecolor": "rgb(36,36,36)",
            "showbackground": true,
            "showgrid": false,
            "showline": true,
            "ticks": "outside",
            "zeroline": false,
            "zerolinecolor": "rgb(36,36,36)"
           }
          },
          "shapedefaults": {
           "fillcolor": "black",
           "line": {
            "width": 0
           },
           "opacity": 0.3
          },
          "ternary": {
           "aaxis": {
            "gridcolor": "rgb(232,232,232)",
            "linecolor": "rgb(36,36,36)",
            "showgrid": false,
            "showline": true,
            "ticks": "outside"
           },
           "baxis": {
            "gridcolor": "rgb(232,232,232)",
            "linecolor": "rgb(36,36,36)",
            "showgrid": false,
            "showline": true,
            "ticks": "outside"
           },
           "bgcolor": "white",
           "caxis": {
            "gridcolor": "rgb(232,232,232)",
            "linecolor": "rgb(36,36,36)",
            "showgrid": false,
            "showline": true,
            "ticks": "outside"
           }
          },
          "title": {
           "x": 0.05
          },
          "xaxis": {
           "automargin": true,
           "gridcolor": "rgb(232,232,232)",
           "linecolor": "rgb(36,36,36)",
           "showgrid": false,
           "showline": true,
           "ticks": "outside",
           "title": {
            "standoff": 15
           },
           "zeroline": false,
           "zerolinecolor": "rgb(36,36,36)"
          },
          "yaxis": {
           "automargin": true,
           "gridcolor": "rgb(232,232,232)",
           "linecolor": "rgb(36,36,36)",
           "showgrid": false,
           "showline": true,
           "ticks": "outside",
           "title": {
            "standoff": 15
           },
           "zeroline": false,
           "zerolinecolor": "rgb(36,36,36)"
          }
         }
        },
        "width": 1024,
        "xaxis": {
         "showgrid": false,
         "title": {
          "text": " "
         }
        },
        "yaxis": {
         "categoryorder": "category descending",
         "showgrid": false,
         "showline": false,
         "ticksuffix": " ",
         "title": {
          "text": " "
         }
        }
       }
      }
     },
     "metadata": {},
     "output_type": "display_data"
    }
   ],
   "source": [
    "fig_duration = go.Figure(layout=layout)\n",
    "fig_duration.add_trace(go.Bar(x=df_means_situations.duration, y=df_means_situations.situation, \n",
    "                        orientation='h', showlegend=True,\n",
    "                        text= np.round(df_means_situations.duration,decimals = 0),\n",
    "                        name='Duration', marker_color= marking_red))\n",
    "fig_duration.add_trace(go.Bar(x=df_means_situations.standtime, y=df_means_situations.situation, \n",
    "                        orientation='h', showlegend=True,\n",
    "                        text=np.round(df_means_situations.standtime,decimals = 0),\n",
    "                        name='Standtime', marker_color='#000000'))\n",
    "fig_duration.update_xaxes(showgrid=False)\n",
    "fig_duration.update_yaxes(showgrid=False, categoryorder=\"category descending\",\n",
    "                 ticksuffix=' ', showline=False)\n",
    "fig_duration.update_traces(hovertemplate=None)\n",
    "fig_duration.update_layout(\n",
    "#    title='Mean of Duration & Standingtimes per Situation (Seconds)',\n",
    "    margin=dict(t=80, b=0, l=70, r=40),\n",
    "    hovermode=\"y unified\", \n",
    "    xaxis_title=' ', \n",
    "    yaxis_title=\" \",\n",
    "    font=dict(family=\"Lato, sans-serif\",size=14),\n",
    "    width=plot_width, height=plot_height,\n",
    "    legend=dict(orientation=\"h\", yanchor=\"bottom\",y=1, xanchor=\"center\", x=0.5),\n",
    "    hoverlabel=dict(font_size=18, font_family=\"Lato, sans-serif\"))"
   ]
  },
  {
   "cell_type": "markdown",
   "id": "eb282a65-47a3-49aa-bffe-cd0d9cc44d8e",
   "metadata": {},
   "source": [
    "#### Duration per Subject"
   ]
  },
  {
   "cell_type": "code",
   "execution_count": 14,
   "id": "46716830-af4e-4653-8d57-7b4fb0b4e8ed",
   "metadata": {},
   "outputs": [
    {
     "data": {
      "application/vnd.plotly.v1+json": {
       "config": {
        "plotlyServerURL": "https://plot.ly"
       },
       "data": [
        {
         "marker": {
          "color": "#961C26"
         },
         "name": "Duration",
         "orientation": "h",
         "showlegend": true,
         "text": [
          737,
          938,
          735,
          1230,
          1099,
          1132,
          695,
          805,
          1139,
          739,
          753,
          1222,
          935
         ],
         "type": "bar",
         "x": [
          737.215,
          938.168,
          735.346,
          1229.504,
          1098.856,
          1132.151,
          694.91,
          805.424,
          1138.839,
          739.246,
          752.74,
          1222.159,
          935.3798333333333
         ],
         "y": [
          "Subject 1",
          "Subject 2",
          "Subject 3",
          "Subject 4",
          "Subject 5",
          "Subject 6",
          "Subject 7",
          "Subject 8",
          "Subject 9",
          "Subject 10",
          "Subject 11",
          "Subject 12",
          null
         ]
        }
       ],
       "layout": {
        "font": {
         "family": "Lato, sans-serif",
         "size": 14
        },
        "height": 768,
        "hoverlabel": {
         "font": {
          "family": "Lato, sans-serif",
          "size": 13
         }
        },
        "hovermode": "y unified",
        "legend": {
         "orientation": "h",
         "x": 0.5,
         "xanchor": "center",
         "y": 1,
         "yanchor": "bottom"
        },
        "margin": {
         "b": 0,
         "l": 70,
         "r": 40,
         "t": 80
        },
        "paper_bgcolor": "rgba(0,0,0,0)",
        "plot_bgcolor": "rgba(0,0,0,0)",
        "template": {
         "data": {
          "bar": [
           {
            "error_x": {
             "color": "rgb(36,36,36)"
            },
            "error_y": {
             "color": "rgb(36,36,36)"
            },
            "marker": {
             "line": {
              "color": "white",
              "width": 0.5
             },
             "pattern": {
              "fillmode": "overlay",
              "size": 10,
              "solidity": 0.2
             }
            },
            "type": "bar"
           }
          ],
          "barpolar": [
           {
            "marker": {
             "line": {
              "color": "white",
              "width": 0.5
             },
             "pattern": {
              "fillmode": "overlay",
              "size": 10,
              "solidity": 0.2
             }
            },
            "type": "barpolar"
           }
          ],
          "carpet": [
           {
            "aaxis": {
             "endlinecolor": "rgb(36,36,36)",
             "gridcolor": "white",
             "linecolor": "white",
             "minorgridcolor": "white",
             "startlinecolor": "rgb(36,36,36)"
            },
            "baxis": {
             "endlinecolor": "rgb(36,36,36)",
             "gridcolor": "white",
             "linecolor": "white",
             "minorgridcolor": "white",
             "startlinecolor": "rgb(36,36,36)"
            },
            "type": "carpet"
           }
          ],
          "choropleth": [
           {
            "colorbar": {
             "outlinewidth": 1,
             "tickcolor": "rgb(36,36,36)",
             "ticks": "outside"
            },
            "type": "choropleth"
           }
          ],
          "contour": [
           {
            "colorbar": {
             "outlinewidth": 1,
             "tickcolor": "rgb(36,36,36)",
             "ticks": "outside"
            },
            "colorscale": [
             [
              0,
              "#440154"
             ],
             [
              0.1111111111111111,
              "#482878"
             ],
             [
              0.2222222222222222,
              "#3e4989"
             ],
             [
              0.3333333333333333,
              "#31688e"
             ],
             [
              0.4444444444444444,
              "#26828e"
             ],
             [
              0.5555555555555556,
              "#1f9e89"
             ],
             [
              0.6666666666666666,
              "#35b779"
             ],
             [
              0.7777777777777778,
              "#6ece58"
             ],
             [
              0.8888888888888888,
              "#b5de2b"
             ],
             [
              1,
              "#fde725"
             ]
            ],
            "type": "contour"
           }
          ],
          "contourcarpet": [
           {
            "colorbar": {
             "outlinewidth": 1,
             "tickcolor": "rgb(36,36,36)",
             "ticks": "outside"
            },
            "type": "contourcarpet"
           }
          ],
          "heatmap": [
           {
            "colorbar": {
             "outlinewidth": 1,
             "tickcolor": "rgb(36,36,36)",
             "ticks": "outside"
            },
            "colorscale": [
             [
              0,
              "#440154"
             ],
             [
              0.1111111111111111,
              "#482878"
             ],
             [
              0.2222222222222222,
              "#3e4989"
             ],
             [
              0.3333333333333333,
              "#31688e"
             ],
             [
              0.4444444444444444,
              "#26828e"
             ],
             [
              0.5555555555555556,
              "#1f9e89"
             ],
             [
              0.6666666666666666,
              "#35b779"
             ],
             [
              0.7777777777777778,
              "#6ece58"
             ],
             [
              0.8888888888888888,
              "#b5de2b"
             ],
             [
              1,
              "#fde725"
             ]
            ],
            "type": "heatmap"
           }
          ],
          "heatmapgl": [
           {
            "colorbar": {
             "outlinewidth": 1,
             "tickcolor": "rgb(36,36,36)",
             "ticks": "outside"
            },
            "colorscale": [
             [
              0,
              "#440154"
             ],
             [
              0.1111111111111111,
              "#482878"
             ],
             [
              0.2222222222222222,
              "#3e4989"
             ],
             [
              0.3333333333333333,
              "#31688e"
             ],
             [
              0.4444444444444444,
              "#26828e"
             ],
             [
              0.5555555555555556,
              "#1f9e89"
             ],
             [
              0.6666666666666666,
              "#35b779"
             ],
             [
              0.7777777777777778,
              "#6ece58"
             ],
             [
              0.8888888888888888,
              "#b5de2b"
             ],
             [
              1,
              "#fde725"
             ]
            ],
            "type": "heatmapgl"
           }
          ],
          "histogram": [
           {
            "marker": {
             "line": {
              "color": "white",
              "width": 0.6
             }
            },
            "type": "histogram"
           }
          ],
          "histogram2d": [
           {
            "colorbar": {
             "outlinewidth": 1,
             "tickcolor": "rgb(36,36,36)",
             "ticks": "outside"
            },
            "colorscale": [
             [
              0,
              "#440154"
             ],
             [
              0.1111111111111111,
              "#482878"
             ],
             [
              0.2222222222222222,
              "#3e4989"
             ],
             [
              0.3333333333333333,
              "#31688e"
             ],
             [
              0.4444444444444444,
              "#26828e"
             ],
             [
              0.5555555555555556,
              "#1f9e89"
             ],
             [
              0.6666666666666666,
              "#35b779"
             ],
             [
              0.7777777777777778,
              "#6ece58"
             ],
             [
              0.8888888888888888,
              "#b5de2b"
             ],
             [
              1,
              "#fde725"
             ]
            ],
            "type": "histogram2d"
           }
          ],
          "histogram2dcontour": [
           {
            "colorbar": {
             "outlinewidth": 1,
             "tickcolor": "rgb(36,36,36)",
             "ticks": "outside"
            },
            "colorscale": [
             [
              0,
              "#440154"
             ],
             [
              0.1111111111111111,
              "#482878"
             ],
             [
              0.2222222222222222,
              "#3e4989"
             ],
             [
              0.3333333333333333,
              "#31688e"
             ],
             [
              0.4444444444444444,
              "#26828e"
             ],
             [
              0.5555555555555556,
              "#1f9e89"
             ],
             [
              0.6666666666666666,
              "#35b779"
             ],
             [
              0.7777777777777778,
              "#6ece58"
             ],
             [
              0.8888888888888888,
              "#b5de2b"
             ],
             [
              1,
              "#fde725"
             ]
            ],
            "type": "histogram2dcontour"
           }
          ],
          "mesh3d": [
           {
            "colorbar": {
             "outlinewidth": 1,
             "tickcolor": "rgb(36,36,36)",
             "ticks": "outside"
            },
            "type": "mesh3d"
           }
          ],
          "parcoords": [
           {
            "line": {
             "colorbar": {
              "outlinewidth": 1,
              "tickcolor": "rgb(36,36,36)",
              "ticks": "outside"
             }
            },
            "type": "parcoords"
           }
          ],
          "pie": [
           {
            "automargin": true,
            "type": "pie"
           }
          ],
          "scatter": [
           {
            "fillpattern": {
             "fillmode": "overlay",
             "size": 10,
             "solidity": 0.2
            },
            "type": "scatter"
           }
          ],
          "scatter3d": [
           {
            "line": {
             "colorbar": {
              "outlinewidth": 1,
              "tickcolor": "rgb(36,36,36)",
              "ticks": "outside"
             }
            },
            "marker": {
             "colorbar": {
              "outlinewidth": 1,
              "tickcolor": "rgb(36,36,36)",
              "ticks": "outside"
             }
            },
            "type": "scatter3d"
           }
          ],
          "scattercarpet": [
           {
            "marker": {
             "colorbar": {
              "outlinewidth": 1,
              "tickcolor": "rgb(36,36,36)",
              "ticks": "outside"
             }
            },
            "type": "scattercarpet"
           }
          ],
          "scattergeo": [
           {
            "marker": {
             "colorbar": {
              "outlinewidth": 1,
              "tickcolor": "rgb(36,36,36)",
              "ticks": "outside"
             }
            },
            "type": "scattergeo"
           }
          ],
          "scattergl": [
           {
            "marker": {
             "colorbar": {
              "outlinewidth": 1,
              "tickcolor": "rgb(36,36,36)",
              "ticks": "outside"
             }
            },
            "type": "scattergl"
           }
          ],
          "scattermapbox": [
           {
            "marker": {
             "colorbar": {
              "outlinewidth": 1,
              "tickcolor": "rgb(36,36,36)",
              "ticks": "outside"
             }
            },
            "type": "scattermapbox"
           }
          ],
          "scatterpolar": [
           {
            "marker": {
             "colorbar": {
              "outlinewidth": 1,
              "tickcolor": "rgb(36,36,36)",
              "ticks": "outside"
             }
            },
            "type": "scatterpolar"
           }
          ],
          "scatterpolargl": [
           {
            "marker": {
             "colorbar": {
              "outlinewidth": 1,
              "tickcolor": "rgb(36,36,36)",
              "ticks": "outside"
             }
            },
            "type": "scatterpolargl"
           }
          ],
          "scatterternary": [
           {
            "marker": {
             "colorbar": {
              "outlinewidth": 1,
              "tickcolor": "rgb(36,36,36)",
              "ticks": "outside"
             }
            },
            "type": "scatterternary"
           }
          ],
          "surface": [
           {
            "colorbar": {
             "outlinewidth": 1,
             "tickcolor": "rgb(36,36,36)",
             "ticks": "outside"
            },
            "colorscale": [
             [
              0,
              "#440154"
             ],
             [
              0.1111111111111111,
              "#482878"
             ],
             [
              0.2222222222222222,
              "#3e4989"
             ],
             [
              0.3333333333333333,
              "#31688e"
             ],
             [
              0.4444444444444444,
              "#26828e"
             ],
             [
              0.5555555555555556,
              "#1f9e89"
             ],
             [
              0.6666666666666666,
              "#35b779"
             ],
             [
              0.7777777777777778,
              "#6ece58"
             ],
             [
              0.8888888888888888,
              "#b5de2b"
             ],
             [
              1,
              "#fde725"
             ]
            ],
            "type": "surface"
           }
          ],
          "table": [
           {
            "cells": {
             "fill": {
              "color": "rgb(237,237,237)"
             },
             "line": {
              "color": "white"
             }
            },
            "header": {
             "fill": {
              "color": "rgb(217,217,217)"
             },
             "line": {
              "color": "white"
             }
            },
            "type": "table"
           }
          ]
         },
         "layout": {
          "annotationdefaults": {
           "arrowhead": 0,
           "arrowwidth": 1
          },
          "autotypenumbers": "strict",
          "coloraxis": {
           "colorbar": {
            "outlinewidth": 1,
            "tickcolor": "rgb(36,36,36)",
            "ticks": "outside"
           }
          },
          "colorscale": {
           "diverging": [
            [
             0,
             "rgb(103,0,31)"
            ],
            [
             0.1,
             "rgb(178,24,43)"
            ],
            [
             0.2,
             "rgb(214,96,77)"
            ],
            [
             0.3,
             "rgb(244,165,130)"
            ],
            [
             0.4,
             "rgb(253,219,199)"
            ],
            [
             0.5,
             "rgb(247,247,247)"
            ],
            [
             0.6,
             "rgb(209,229,240)"
            ],
            [
             0.7,
             "rgb(146,197,222)"
            ],
            [
             0.8,
             "rgb(67,147,195)"
            ],
            [
             0.9,
             "rgb(33,102,172)"
            ],
            [
             1,
             "rgb(5,48,97)"
            ]
           ],
           "sequential": [
            [
             0,
             "#440154"
            ],
            [
             0.1111111111111111,
             "#482878"
            ],
            [
             0.2222222222222222,
             "#3e4989"
            ],
            [
             0.3333333333333333,
             "#31688e"
            ],
            [
             0.4444444444444444,
             "#26828e"
            ],
            [
             0.5555555555555556,
             "#1f9e89"
            ],
            [
             0.6666666666666666,
             "#35b779"
            ],
            [
             0.7777777777777778,
             "#6ece58"
            ],
            [
             0.8888888888888888,
             "#b5de2b"
            ],
            [
             1,
             "#fde725"
            ]
           ],
           "sequentialminus": [
            [
             0,
             "#440154"
            ],
            [
             0.1111111111111111,
             "#482878"
            ],
            [
             0.2222222222222222,
             "#3e4989"
            ],
            [
             0.3333333333333333,
             "#31688e"
            ],
            [
             0.4444444444444444,
             "#26828e"
            ],
            [
             0.5555555555555556,
             "#1f9e89"
            ],
            [
             0.6666666666666666,
             "#35b779"
            ],
            [
             0.7777777777777778,
             "#6ece58"
            ],
            [
             0.8888888888888888,
             "#b5de2b"
            ],
            [
             1,
             "#fde725"
            ]
           ]
          },
          "colorway": [
           "#1F77B4",
           "#FF7F0E",
           "#2CA02C",
           "#D62728",
           "#9467BD",
           "#8C564B",
           "#E377C2",
           "#7F7F7F",
           "#BCBD22",
           "#17BECF"
          ],
          "font": {
           "color": "rgb(36,36,36)"
          },
          "geo": {
           "bgcolor": "white",
           "lakecolor": "white",
           "landcolor": "white",
           "showlakes": true,
           "showland": true,
           "subunitcolor": "white"
          },
          "hoverlabel": {
           "align": "left"
          },
          "hovermode": "closest",
          "mapbox": {
           "style": "light"
          },
          "paper_bgcolor": "white",
          "plot_bgcolor": "white",
          "polar": {
           "angularaxis": {
            "gridcolor": "rgb(232,232,232)",
            "linecolor": "rgb(36,36,36)",
            "showgrid": false,
            "showline": true,
            "ticks": "outside"
           },
           "bgcolor": "white",
           "radialaxis": {
            "gridcolor": "rgb(232,232,232)",
            "linecolor": "rgb(36,36,36)",
            "showgrid": false,
            "showline": true,
            "ticks": "outside"
           }
          },
          "scene": {
           "xaxis": {
            "backgroundcolor": "white",
            "gridcolor": "rgb(232,232,232)",
            "gridwidth": 2,
            "linecolor": "rgb(36,36,36)",
            "showbackground": true,
            "showgrid": false,
            "showline": true,
            "ticks": "outside",
            "zeroline": false,
            "zerolinecolor": "rgb(36,36,36)"
           },
           "yaxis": {
            "backgroundcolor": "white",
            "gridcolor": "rgb(232,232,232)",
            "gridwidth": 2,
            "linecolor": "rgb(36,36,36)",
            "showbackground": true,
            "showgrid": false,
            "showline": true,
            "ticks": "outside",
            "zeroline": false,
            "zerolinecolor": "rgb(36,36,36)"
           },
           "zaxis": {
            "backgroundcolor": "white",
            "gridcolor": "rgb(232,232,232)",
            "gridwidth": 2,
            "linecolor": "rgb(36,36,36)",
            "showbackground": true,
            "showgrid": false,
            "showline": true,
            "ticks": "outside",
            "zeroline": false,
            "zerolinecolor": "rgb(36,36,36)"
           }
          },
          "shapedefaults": {
           "fillcolor": "black",
           "line": {
            "width": 0
           },
           "opacity": 0.3
          },
          "ternary": {
           "aaxis": {
            "gridcolor": "rgb(232,232,232)",
            "linecolor": "rgb(36,36,36)",
            "showgrid": false,
            "showline": true,
            "ticks": "outside"
           },
           "baxis": {
            "gridcolor": "rgb(232,232,232)",
            "linecolor": "rgb(36,36,36)",
            "showgrid": false,
            "showline": true,
            "ticks": "outside"
           },
           "bgcolor": "white",
           "caxis": {
            "gridcolor": "rgb(232,232,232)",
            "linecolor": "rgb(36,36,36)",
            "showgrid": false,
            "showline": true,
            "ticks": "outside"
           }
          },
          "title": {
           "x": 0.05
          },
          "xaxis": {
           "automargin": true,
           "gridcolor": "rgb(232,232,232)",
           "linecolor": "rgb(36,36,36)",
           "showgrid": false,
           "showline": true,
           "ticks": "outside",
           "title": {
            "standoff": 15
           },
           "zeroline": false,
           "zerolinecolor": "rgb(36,36,36)"
          },
          "yaxis": {
           "automargin": true,
           "gridcolor": "rgb(232,232,232)",
           "linecolor": "rgb(36,36,36)",
           "showgrid": false,
           "showline": true,
           "ticks": "outside",
           "title": {
            "standoff": 15
           },
           "zeroline": false,
           "zerolinecolor": "rgb(36,36,36)"
          }
         }
        },
        "width": 1024,
        "xaxis": {
         "showgrid": false,
         "title": {
          "text": " "
         }
        },
        "yaxis": {
         "categoryarray": [
          "Subject 12",
          "Subject 11",
          "Subject 10",
          "Subject 9",
          "Subject 8",
          "Subject 7",
          "Subject 6",
          "Subject 5",
          "Subject 4",
          "Subject 3",
          "Subject 2",
          "Subject 1"
         ],
         "categoryorder": "array",
         "showgrid": false,
         "showline": false,
         "ticksuffix": " ",
         "title": {
          "text": " "
         }
        }
       }
      }
     },
     "metadata": {},
     "output_type": "display_data"
    }
   ],
   "source": [
    "fig_duration_subject = go.Figure(layout=layout)\n",
    "fig_duration_subject.add_trace(go.Bar(\n",
    "    x = df_all.duration, \n",
    "    y = df_all.subject, \n",
    "    orientation='h', \n",
    "    showlegend=True,\n",
    "    text=np.round(df_all.duration,decimals = 0),\n",
    "    name='Duration', \n",
    "    marker_color= marking_red\n",
    "))\n",
    "fig_duration_subject.update_xaxes(showgrid=False)\n",
    "fig_duration_subject.update_yaxes(showgrid=False, categoryorder='array', categoryarray= [\"Subject 12\",\"Subject 11\",\"Subject 10\",\"Subject 9\",\"Subject 8\",\"Subject 7\",\"Subject 6\",\"Subject 5\",\"Subject 4\",\"Subject 3\",\"Subject 2\",\"Subject 1\"],\n",
    "                 ticksuffix=' ', showline=False)\n",
    "fig_duration_subject.update_traces(hovertemplate=None)\n",
    "fig_duration_subject.update_layout(\n",
    "#    title='Duration per Subject (Seconds)',\n",
    "    margin=dict(t=80, b=0, l=70, r=40),\n",
    "    hovermode=\"y unified\", \n",
    "    xaxis_title=' ',\n",
    "    yaxis_title=\" \",\n",
    "    width=plot_width, height=plot_height,\n",
    "    font=dict(family=\"Lato, sans-serif\",size=14),\n",
    "    legend=dict(orientation=\"h\", yanchor=\"bottom\",y=1, xanchor=\"center\", x=0.5),\n",
    "    hoverlabel=dict(font_size=13, font_family=\"Lato, sans-serif\"))"
   ]
  },
  {
   "attachments": {},
   "cell_type": "markdown",
   "id": "182b5b16",
   "metadata": {},
   "source": [
    "### Correlations"
   ]
  },
  {
   "cell_type": "code",
   "execution_count": 15,
   "id": "6f9f430a",
   "metadata": {},
   "outputs": [
    {
     "data": {
      "text/plain": [
       "'Difficulty SpearmanrResult(correlation=-0.7612622502030594, pvalue=7.026968626460958e-08)'"
      ]
     },
     "metadata": {},
     "output_type": "display_data"
    },
    {
     "data": {
      "text/plain": [
       "'Left Looks SpearmanrResult(correlation=-0.16399735983510189, pvalue=0.08690005728887808)'"
      ]
     },
     "metadata": {},
     "output_type": "display_data"
    },
    {
     "data": {
      "text/plain": [
       "'Right Looks SpearmanrResult(correlation=-0.10119275163338996, pvalue=0.29284658634090194)'"
      ]
     },
     "metadata": {},
     "output_type": "display_data"
    },
    {
     "data": {
      "text/plain": [
       "'Left angles SpearmanrResult(correlation=-0.054636369473177876, pvalue=0.2893603385391448)'"
      ]
     },
     "metadata": {},
     "output_type": "display_data"
    },
    {
     "data": {
      "text/plain": [
       "'Right Angles SpearmanrResult(correlation=-0.11502337613830879, pvalue=0.1084146363761208)'"
      ]
     },
     "metadata": {},
     "output_type": "display_data"
    }
   ],
   "source": [
    "# Spearman correlations and p-values\n",
    "display(\"Difficulty {}\".format(spearmanr(difficulty,safety)))\n",
    "display(\"Left Looks {}\".format(spearmanr(safety_left_rots, left_rots)))\n",
    "display(\"Right Looks {}\".format(spearmanr(safety_right_rots, right_rots)))\n",
    "display(\"Left angles {}\".format(spearmanr(safety_left_angles, left_angles)))\n",
    "display(\"Right Angles {}\".format(spearmanr(safety_right_angles, right_angles)))"
   ]
  },
  {
   "cell_type": "code",
   "execution_count": 16,
   "id": "64ddddaa-aa11-43d9-b03a-e5698cbd3aef",
   "metadata": {},
   "outputs": [
    {
     "data": {
      "application/vnd.plotly.v1+json": {
       "config": {
        "plotlyServerURL": "https://plot.ly"
       },
       "data": [
        {
         "marker": {
          "color": "#000000"
         },
         "mode": "markers",
         "name": "Safety X Difficulty",
         "showlegend": false,
         "type": "scatter",
         "x": [
          4,
          3,
          5,
          4,
          4,
          1,
          2,
          4,
          3,
          4,
          1,
          2,
          4,
          2,
          2,
          2,
          4,
          1,
          4,
          3,
          4,
          1,
          2,
          1,
          4,
          2,
          2,
          5,
          4,
          2,
          2,
          4,
          3,
          1,
          1,
          4
         ],
         "y": [
          5,
          3,
          1,
          2,
          2,
          4,
          3,
          2,
          4,
          2,
          5,
          3,
          2,
          3,
          4,
          2,
          1,
          5,
          4,
          3,
          2,
          4,
          4,
          5,
          2,
          4,
          5,
          1,
          2,
          4,
          4,
          3,
          3,
          4,
          5,
          2
         ]
        },
        {
         "hovertemplate": "<b>OLS trendline</b><br>y = -0.743133 * x + 5.25157<br>R<sup>2</sup>=0.578743<br><br>x=%{x}<br>y=%{y} <b>(trend)</b><extra></extra>",
         "legendgroup": "",
         "marker": {
          "color": "#961C26",
          "symbol": "circle"
         },
         "mode": "lines",
         "name": "",
         "showlegend": false,
         "type": "scatter",
         "x": [
          1,
          1,
          1,
          1,
          1,
          1,
          1,
          2,
          2,
          2,
          2,
          2,
          2,
          2,
          2,
          2,
          2,
          3,
          3,
          3,
          3,
          4,
          4,
          4,
          4,
          4,
          4,
          4,
          4,
          4,
          4,
          4,
          4,
          4,
          5,
          5
         ],
         "xaxis": "x",
         "y": [
          4.508433734939758,
          4.508433734939758,
          4.508433734939758,
          4.508433734939758,
          4.508433734939758,
          4.508433734939758,
          4.508433734939758,
          3.7653012048192758,
          3.7653012048192758,
          3.7653012048192758,
          3.7653012048192758,
          3.7653012048192758,
          3.7653012048192758,
          3.7653012048192758,
          3.7653012048192758,
          3.7653012048192758,
          3.7653012048192758,
          3.0221686746987935,
          3.0221686746987935,
          3.0221686746987935,
          3.0221686746987935,
          2.2790361445783107,
          2.2790361445783107,
          2.2790361445783107,
          2.2790361445783107,
          2.2790361445783107,
          2.2790361445783107,
          2.2790361445783107,
          2.2790361445783107,
          2.2790361445783107,
          2.2790361445783107,
          2.2790361445783107,
          2.2790361445783107,
          2.2790361445783107,
          1.5359036144578282,
          1.5359036144578282
         ],
         "yaxis": "y"
        }
       ],
       "layout": {
        "font": {
         "family": "Lato, sans-serif",
         "size": 14
        },
        "height": 768,
        "hoverlabel": {
         "font": {
          "family": "Lato, sans-serif",
          "size": 13
         }
        },
        "hovermode": "y unified",
        "legend": {
         "orientation": "h",
         "x": 0.5,
         "xanchor": "center",
         "y": 1,
         "yanchor": "bottom"
        },
        "margin": {
         "b": 0,
         "l": 70,
         "r": 40,
         "t": 20
        },
        "paper_bgcolor": "rgba(0,0,0,0)",
        "plot_bgcolor": "rgba(0,0,0,0)",
        "template": {
         "data": {
          "bar": [
           {
            "error_x": {
             "color": "rgb(36,36,36)"
            },
            "error_y": {
             "color": "rgb(36,36,36)"
            },
            "marker": {
             "line": {
              "color": "white",
              "width": 0.5
             },
             "pattern": {
              "fillmode": "overlay",
              "size": 10,
              "solidity": 0.2
             }
            },
            "type": "bar"
           }
          ],
          "barpolar": [
           {
            "marker": {
             "line": {
              "color": "white",
              "width": 0.5
             },
             "pattern": {
              "fillmode": "overlay",
              "size": 10,
              "solidity": 0.2
             }
            },
            "type": "barpolar"
           }
          ],
          "carpet": [
           {
            "aaxis": {
             "endlinecolor": "rgb(36,36,36)",
             "gridcolor": "white",
             "linecolor": "white",
             "minorgridcolor": "white",
             "startlinecolor": "rgb(36,36,36)"
            },
            "baxis": {
             "endlinecolor": "rgb(36,36,36)",
             "gridcolor": "white",
             "linecolor": "white",
             "minorgridcolor": "white",
             "startlinecolor": "rgb(36,36,36)"
            },
            "type": "carpet"
           }
          ],
          "choropleth": [
           {
            "colorbar": {
             "outlinewidth": 1,
             "tickcolor": "rgb(36,36,36)",
             "ticks": "outside"
            },
            "type": "choropleth"
           }
          ],
          "contour": [
           {
            "colorbar": {
             "outlinewidth": 1,
             "tickcolor": "rgb(36,36,36)",
             "ticks": "outside"
            },
            "colorscale": [
             [
              0,
              "#440154"
             ],
             [
              0.1111111111111111,
              "#482878"
             ],
             [
              0.2222222222222222,
              "#3e4989"
             ],
             [
              0.3333333333333333,
              "#31688e"
             ],
             [
              0.4444444444444444,
              "#26828e"
             ],
             [
              0.5555555555555556,
              "#1f9e89"
             ],
             [
              0.6666666666666666,
              "#35b779"
             ],
             [
              0.7777777777777778,
              "#6ece58"
             ],
             [
              0.8888888888888888,
              "#b5de2b"
             ],
             [
              1,
              "#fde725"
             ]
            ],
            "type": "contour"
           }
          ],
          "contourcarpet": [
           {
            "colorbar": {
             "outlinewidth": 1,
             "tickcolor": "rgb(36,36,36)",
             "ticks": "outside"
            },
            "type": "contourcarpet"
           }
          ],
          "heatmap": [
           {
            "colorbar": {
             "outlinewidth": 1,
             "tickcolor": "rgb(36,36,36)",
             "ticks": "outside"
            },
            "colorscale": [
             [
              0,
              "#440154"
             ],
             [
              0.1111111111111111,
              "#482878"
             ],
             [
              0.2222222222222222,
              "#3e4989"
             ],
             [
              0.3333333333333333,
              "#31688e"
             ],
             [
              0.4444444444444444,
              "#26828e"
             ],
             [
              0.5555555555555556,
              "#1f9e89"
             ],
             [
              0.6666666666666666,
              "#35b779"
             ],
             [
              0.7777777777777778,
              "#6ece58"
             ],
             [
              0.8888888888888888,
              "#b5de2b"
             ],
             [
              1,
              "#fde725"
             ]
            ],
            "type": "heatmap"
           }
          ],
          "heatmapgl": [
           {
            "colorbar": {
             "outlinewidth": 1,
             "tickcolor": "rgb(36,36,36)",
             "ticks": "outside"
            },
            "colorscale": [
             [
              0,
              "#440154"
             ],
             [
              0.1111111111111111,
              "#482878"
             ],
             [
              0.2222222222222222,
              "#3e4989"
             ],
             [
              0.3333333333333333,
              "#31688e"
             ],
             [
              0.4444444444444444,
              "#26828e"
             ],
             [
              0.5555555555555556,
              "#1f9e89"
             ],
             [
              0.6666666666666666,
              "#35b779"
             ],
             [
              0.7777777777777778,
              "#6ece58"
             ],
             [
              0.8888888888888888,
              "#b5de2b"
             ],
             [
              1,
              "#fde725"
             ]
            ],
            "type": "heatmapgl"
           }
          ],
          "histogram": [
           {
            "marker": {
             "line": {
              "color": "white",
              "width": 0.6
             }
            },
            "type": "histogram"
           }
          ],
          "histogram2d": [
           {
            "colorbar": {
             "outlinewidth": 1,
             "tickcolor": "rgb(36,36,36)",
             "ticks": "outside"
            },
            "colorscale": [
             [
              0,
              "#440154"
             ],
             [
              0.1111111111111111,
              "#482878"
             ],
             [
              0.2222222222222222,
              "#3e4989"
             ],
             [
              0.3333333333333333,
              "#31688e"
             ],
             [
              0.4444444444444444,
              "#26828e"
             ],
             [
              0.5555555555555556,
              "#1f9e89"
             ],
             [
              0.6666666666666666,
              "#35b779"
             ],
             [
              0.7777777777777778,
              "#6ece58"
             ],
             [
              0.8888888888888888,
              "#b5de2b"
             ],
             [
              1,
              "#fde725"
             ]
            ],
            "type": "histogram2d"
           }
          ],
          "histogram2dcontour": [
           {
            "colorbar": {
             "outlinewidth": 1,
             "tickcolor": "rgb(36,36,36)",
             "ticks": "outside"
            },
            "colorscale": [
             [
              0,
              "#440154"
             ],
             [
              0.1111111111111111,
              "#482878"
             ],
             [
              0.2222222222222222,
              "#3e4989"
             ],
             [
              0.3333333333333333,
              "#31688e"
             ],
             [
              0.4444444444444444,
              "#26828e"
             ],
             [
              0.5555555555555556,
              "#1f9e89"
             ],
             [
              0.6666666666666666,
              "#35b779"
             ],
             [
              0.7777777777777778,
              "#6ece58"
             ],
             [
              0.8888888888888888,
              "#b5de2b"
             ],
             [
              1,
              "#fde725"
             ]
            ],
            "type": "histogram2dcontour"
           }
          ],
          "mesh3d": [
           {
            "colorbar": {
             "outlinewidth": 1,
             "tickcolor": "rgb(36,36,36)",
             "ticks": "outside"
            },
            "type": "mesh3d"
           }
          ],
          "parcoords": [
           {
            "line": {
             "colorbar": {
              "outlinewidth": 1,
              "tickcolor": "rgb(36,36,36)",
              "ticks": "outside"
             }
            },
            "type": "parcoords"
           }
          ],
          "pie": [
           {
            "automargin": true,
            "type": "pie"
           }
          ],
          "scatter": [
           {
            "fillpattern": {
             "fillmode": "overlay",
             "size": 10,
             "solidity": 0.2
            },
            "type": "scatter"
           }
          ],
          "scatter3d": [
           {
            "line": {
             "colorbar": {
              "outlinewidth": 1,
              "tickcolor": "rgb(36,36,36)",
              "ticks": "outside"
             }
            },
            "marker": {
             "colorbar": {
              "outlinewidth": 1,
              "tickcolor": "rgb(36,36,36)",
              "ticks": "outside"
             }
            },
            "type": "scatter3d"
           }
          ],
          "scattercarpet": [
           {
            "marker": {
             "colorbar": {
              "outlinewidth": 1,
              "tickcolor": "rgb(36,36,36)",
              "ticks": "outside"
             }
            },
            "type": "scattercarpet"
           }
          ],
          "scattergeo": [
           {
            "marker": {
             "colorbar": {
              "outlinewidth": 1,
              "tickcolor": "rgb(36,36,36)",
              "ticks": "outside"
             }
            },
            "type": "scattergeo"
           }
          ],
          "scattergl": [
           {
            "marker": {
             "colorbar": {
              "outlinewidth": 1,
              "tickcolor": "rgb(36,36,36)",
              "ticks": "outside"
             }
            },
            "type": "scattergl"
           }
          ],
          "scattermapbox": [
           {
            "marker": {
             "colorbar": {
              "outlinewidth": 1,
              "tickcolor": "rgb(36,36,36)",
              "ticks": "outside"
             }
            },
            "type": "scattermapbox"
           }
          ],
          "scatterpolar": [
           {
            "marker": {
             "colorbar": {
              "outlinewidth": 1,
              "tickcolor": "rgb(36,36,36)",
              "ticks": "outside"
             }
            },
            "type": "scatterpolar"
           }
          ],
          "scatterpolargl": [
           {
            "marker": {
             "colorbar": {
              "outlinewidth": 1,
              "tickcolor": "rgb(36,36,36)",
              "ticks": "outside"
             }
            },
            "type": "scatterpolargl"
           }
          ],
          "scatterternary": [
           {
            "marker": {
             "colorbar": {
              "outlinewidth": 1,
              "tickcolor": "rgb(36,36,36)",
              "ticks": "outside"
             }
            },
            "type": "scatterternary"
           }
          ],
          "surface": [
           {
            "colorbar": {
             "outlinewidth": 1,
             "tickcolor": "rgb(36,36,36)",
             "ticks": "outside"
            },
            "colorscale": [
             [
              0,
              "#440154"
             ],
             [
              0.1111111111111111,
              "#482878"
             ],
             [
              0.2222222222222222,
              "#3e4989"
             ],
             [
              0.3333333333333333,
              "#31688e"
             ],
             [
              0.4444444444444444,
              "#26828e"
             ],
             [
              0.5555555555555556,
              "#1f9e89"
             ],
             [
              0.6666666666666666,
              "#35b779"
             ],
             [
              0.7777777777777778,
              "#6ece58"
             ],
             [
              0.8888888888888888,
              "#b5de2b"
             ],
             [
              1,
              "#fde725"
             ]
            ],
            "type": "surface"
           }
          ],
          "table": [
           {
            "cells": {
             "fill": {
              "color": "rgb(237,237,237)"
             },
             "line": {
              "color": "white"
             }
            },
            "header": {
             "fill": {
              "color": "rgb(217,217,217)"
             },
             "line": {
              "color": "white"
             }
            },
            "type": "table"
           }
          ]
         },
         "layout": {
          "annotationdefaults": {
           "arrowhead": 0,
           "arrowwidth": 1
          },
          "autotypenumbers": "strict",
          "coloraxis": {
           "colorbar": {
            "outlinewidth": 1,
            "tickcolor": "rgb(36,36,36)",
            "ticks": "outside"
           }
          },
          "colorscale": {
           "diverging": [
            [
             0,
             "rgb(103,0,31)"
            ],
            [
             0.1,
             "rgb(178,24,43)"
            ],
            [
             0.2,
             "rgb(214,96,77)"
            ],
            [
             0.3,
             "rgb(244,165,130)"
            ],
            [
             0.4,
             "rgb(253,219,199)"
            ],
            [
             0.5,
             "rgb(247,247,247)"
            ],
            [
             0.6,
             "rgb(209,229,240)"
            ],
            [
             0.7,
             "rgb(146,197,222)"
            ],
            [
             0.8,
             "rgb(67,147,195)"
            ],
            [
             0.9,
             "rgb(33,102,172)"
            ],
            [
             1,
             "rgb(5,48,97)"
            ]
           ],
           "sequential": [
            [
             0,
             "#440154"
            ],
            [
             0.1111111111111111,
             "#482878"
            ],
            [
             0.2222222222222222,
             "#3e4989"
            ],
            [
             0.3333333333333333,
             "#31688e"
            ],
            [
             0.4444444444444444,
             "#26828e"
            ],
            [
             0.5555555555555556,
             "#1f9e89"
            ],
            [
             0.6666666666666666,
             "#35b779"
            ],
            [
             0.7777777777777778,
             "#6ece58"
            ],
            [
             0.8888888888888888,
             "#b5de2b"
            ],
            [
             1,
             "#fde725"
            ]
           ],
           "sequentialminus": [
            [
             0,
             "#440154"
            ],
            [
             0.1111111111111111,
             "#482878"
            ],
            [
             0.2222222222222222,
             "#3e4989"
            ],
            [
             0.3333333333333333,
             "#31688e"
            ],
            [
             0.4444444444444444,
             "#26828e"
            ],
            [
             0.5555555555555556,
             "#1f9e89"
            ],
            [
             0.6666666666666666,
             "#35b779"
            ],
            [
             0.7777777777777778,
             "#6ece58"
            ],
            [
             0.8888888888888888,
             "#b5de2b"
            ],
            [
             1,
             "#fde725"
            ]
           ]
          },
          "colorway": [
           "#1F77B4",
           "#FF7F0E",
           "#2CA02C",
           "#D62728",
           "#9467BD",
           "#8C564B",
           "#E377C2",
           "#7F7F7F",
           "#BCBD22",
           "#17BECF"
          ],
          "font": {
           "color": "rgb(36,36,36)"
          },
          "geo": {
           "bgcolor": "white",
           "lakecolor": "white",
           "landcolor": "white",
           "showlakes": true,
           "showland": true,
           "subunitcolor": "white"
          },
          "hoverlabel": {
           "align": "left"
          },
          "hovermode": "closest",
          "mapbox": {
           "style": "light"
          },
          "paper_bgcolor": "white",
          "plot_bgcolor": "white",
          "polar": {
           "angularaxis": {
            "gridcolor": "rgb(232,232,232)",
            "linecolor": "rgb(36,36,36)",
            "showgrid": false,
            "showline": true,
            "ticks": "outside"
           },
           "bgcolor": "white",
           "radialaxis": {
            "gridcolor": "rgb(232,232,232)",
            "linecolor": "rgb(36,36,36)",
            "showgrid": false,
            "showline": true,
            "ticks": "outside"
           }
          },
          "scene": {
           "xaxis": {
            "backgroundcolor": "white",
            "gridcolor": "rgb(232,232,232)",
            "gridwidth": 2,
            "linecolor": "rgb(36,36,36)",
            "showbackground": true,
            "showgrid": false,
            "showline": true,
            "ticks": "outside",
            "zeroline": false,
            "zerolinecolor": "rgb(36,36,36)"
           },
           "yaxis": {
            "backgroundcolor": "white",
            "gridcolor": "rgb(232,232,232)",
            "gridwidth": 2,
            "linecolor": "rgb(36,36,36)",
            "showbackground": true,
            "showgrid": false,
            "showline": true,
            "ticks": "outside",
            "zeroline": false,
            "zerolinecolor": "rgb(36,36,36)"
           },
           "zaxis": {
            "backgroundcolor": "white",
            "gridcolor": "rgb(232,232,232)",
            "gridwidth": 2,
            "linecolor": "rgb(36,36,36)",
            "showbackground": true,
            "showgrid": false,
            "showline": true,
            "ticks": "outside",
            "zeroline": false,
            "zerolinecolor": "rgb(36,36,36)"
           }
          },
          "shapedefaults": {
           "fillcolor": "black",
           "line": {
            "width": 0
           },
           "opacity": 0.3
          },
          "ternary": {
           "aaxis": {
            "gridcolor": "rgb(232,232,232)",
            "linecolor": "rgb(36,36,36)",
            "showgrid": false,
            "showline": true,
            "ticks": "outside"
           },
           "baxis": {
            "gridcolor": "rgb(232,232,232)",
            "linecolor": "rgb(36,36,36)",
            "showgrid": false,
            "showline": true,
            "ticks": "outside"
           },
           "bgcolor": "white",
           "caxis": {
            "gridcolor": "rgb(232,232,232)",
            "linecolor": "rgb(36,36,36)",
            "showgrid": false,
            "showline": true,
            "ticks": "outside"
           }
          },
          "title": {
           "x": 0.05
          },
          "xaxis": {
           "automargin": true,
           "gridcolor": "rgb(232,232,232)",
           "linecolor": "rgb(36,36,36)",
           "showgrid": false,
           "showline": true,
           "ticks": "outside",
           "title": {
            "standoff": 15
           },
           "zeroline": false,
           "zerolinecolor": "rgb(36,36,36)"
          },
          "yaxis": {
           "automargin": true,
           "gridcolor": "rgb(232,232,232)",
           "linecolor": "rgb(36,36,36)",
           "showgrid": false,
           "showline": true,
           "ticks": "outside",
           "title": {
            "standoff": 15
           },
           "zeroline": false,
           "zerolinecolor": "rgb(36,36,36)"
          }
         }
        },
        "width": 1024,
        "xaxis": {
         "dtick": 1,
         "title": {
          "text": "Safety"
         }
        },
        "yaxis": {
         "ticksuffix": "",
         "title": {
          "text": "Difficulty"
         }
        }
       }
      }
     },
     "metadata": {},
     "output_type": "display_data"
    },
    {
     "data": {
      "application/vnd.plotly.v1+json": {
       "config": {
        "plotlyServerURL": "https://plot.ly"
       },
       "data": [
        {
         "marker": {
          "color": "#000000"
         },
         "mode": "markers",
         "name": "Safety X Left Rotations",
         "showlegend": false,
         "type": "scatter",
         "x": [
          4,
          4,
          4,
          3,
          3,
          3,
          5,
          5,
          5,
          4,
          4,
          4,
          4,
          4,
          4,
          1,
          1,
          1,
          2,
          2,
          2,
          2,
          2,
          4,
          4,
          4,
          3,
          3,
          3,
          4,
          4,
          4,
          1,
          1,
          1,
          2,
          2,
          2,
          4,
          4,
          4,
          2,
          2,
          2,
          2,
          2,
          2,
          2,
          2,
          2,
          4,
          4,
          4,
          1,
          1,
          1,
          4,
          4,
          4,
          3,
          3,
          3,
          4,
          4,
          4,
          1,
          1,
          1,
          2,
          2,
          2,
          1,
          1,
          1,
          4,
          4,
          4,
          2,
          2,
          2,
          2,
          2,
          2,
          5,
          5,
          5,
          4,
          4,
          4,
          2,
          2,
          2,
          2,
          2,
          2,
          4,
          4,
          4,
          3,
          3,
          3,
          1,
          1,
          1,
          1,
          1,
          1,
          4,
          4,
          4
         ],
         "y": [
          2,
          5,
          2,
          6,
          7,
          1,
          1,
          3,
          9,
          5,
          2,
          2,
          1,
          3,
          2,
          11,
          4,
          1,
          4,
          0,
          4,
          1,
          1,
          3,
          2,
          2,
          2,
          1,
          1,
          10,
          12,
          1,
          6,
          11,
          1,
          1,
          6,
          5,
          4,
          7,
          8,
          7,
          2,
          3,
          6,
          10,
          8,
          3,
          4,
          1,
          1,
          1,
          3,
          9,
          1,
          1,
          1,
          1,
          1,
          3,
          0,
          0,
          0,
          0,
          0,
          4,
          4,
          3,
          2,
          2,
          1,
          0,
          0,
          2,
          1,
          6,
          3,
          10,
          6,
          2,
          12,
          8,
          14,
          2,
          4,
          2,
          2,
          2,
          2,
          2,
          2,
          2,
          2,
          2,
          4,
          4,
          1,
          1,
          2,
          2,
          0,
          6,
          1,
          8,
          6,
          3,
          4,
          1,
          5,
          0
         ]
        },
        {
         "hovertemplate": "<b>OLS trendline</b><br>y = -0.453317 * x + 4.70153<br>R<sup>2</sup>=0.033421<br><br>x=%{x}<br>y=%{y} <b>(trend)</b><extra></extra>",
         "legendgroup": "",
         "marker": {
          "color": "#961C26",
          "symbol": "circle"
         },
         "mode": "lines",
         "name": "",
         "showlegend": false,
         "type": "scatter",
         "x": [
          1,
          1,
          1,
          1,
          1,
          1,
          1,
          1,
          1,
          1,
          1,
          1,
          1,
          1,
          1,
          1,
          1,
          1,
          1,
          1,
          1,
          2,
          2,
          2,
          2,
          2,
          2,
          2,
          2,
          2,
          2,
          2,
          2,
          2,
          2,
          2,
          2,
          2,
          2,
          2,
          2,
          2,
          2,
          2,
          2,
          2,
          2,
          2,
          2,
          2,
          2,
          2,
          2,
          3,
          3,
          3,
          3,
          3,
          3,
          3,
          3,
          3,
          3,
          3,
          3,
          4,
          4,
          4,
          4,
          4,
          4,
          4,
          4,
          4,
          4,
          4,
          4,
          4,
          4,
          4,
          4,
          4,
          4,
          4,
          4,
          4,
          4,
          4,
          4,
          4,
          4,
          4,
          4,
          4,
          4,
          4,
          4,
          4,
          4,
          4,
          4,
          4,
          4,
          4,
          5,
          5,
          5,
          5,
          5,
          5
         ],
         "xaxis": "x",
         "y": [
          4.248212515004438,
          4.248212515004438,
          4.248212515004438,
          4.248212515004438,
          4.248212515004438,
          4.248212515004438,
          4.248212515004438,
          4.248212515004438,
          4.248212515004438,
          4.248212515004438,
          4.248212515004438,
          4.248212515004438,
          4.248212515004438,
          4.248212515004438,
          4.248212515004438,
          4.248212515004438,
          4.248212515004438,
          4.248212515004438,
          4.248212515004438,
          4.248212515004438,
          4.248212515004438,
          3.7948958822608434,
          3.7948958822608434,
          3.7948958822608434,
          3.7948958822608434,
          3.7948958822608434,
          3.7948958822608434,
          3.7948958822608434,
          3.7948958822608434,
          3.7948958822608434,
          3.7948958822608434,
          3.7948958822608434,
          3.7948958822608434,
          3.7948958822608434,
          3.7948958822608434,
          3.7948958822608434,
          3.7948958822608434,
          3.7948958822608434,
          3.7948958822608434,
          3.7948958822608434,
          3.7948958822608434,
          3.7948958822608434,
          3.7948958822608434,
          3.7948958822608434,
          3.7948958822608434,
          3.7948958822608434,
          3.7948958822608434,
          3.7948958822608434,
          3.7948958822608434,
          3.7948958822608434,
          3.7948958822608434,
          3.7948958822608434,
          3.7948958822608434,
          3.341579249517249,
          3.341579249517249,
          3.341579249517249,
          3.341579249517249,
          3.341579249517249,
          3.341579249517249,
          3.341579249517249,
          3.341579249517249,
          3.341579249517249,
          3.341579249517249,
          3.341579249517249,
          3.341579249517249,
          2.8882626167736545,
          2.8882626167736545,
          2.8882626167736545,
          2.8882626167736545,
          2.8882626167736545,
          2.8882626167736545,
          2.8882626167736545,
          2.8882626167736545,
          2.8882626167736545,
          2.8882626167736545,
          2.8882626167736545,
          2.8882626167736545,
          2.8882626167736545,
          2.8882626167736545,
          2.8882626167736545,
          2.8882626167736545,
          2.8882626167736545,
          2.8882626167736545,
          2.8882626167736545,
          2.8882626167736545,
          2.8882626167736545,
          2.8882626167736545,
          2.8882626167736545,
          2.8882626167736545,
          2.8882626167736545,
          2.8882626167736545,
          2.8882626167736545,
          2.8882626167736545,
          2.8882626167736545,
          2.8882626167736545,
          2.8882626167736545,
          2.8882626167736545,
          2.8882626167736545,
          2.8882626167736545,
          2.8882626167736545,
          2.8882626167736545,
          2.8882626167736545,
          2.8882626167736545,
          2.8882626167736545,
          2.43494598403006,
          2.43494598403006,
          2.43494598403006,
          2.43494598403006,
          2.43494598403006,
          2.43494598403006
         ],
         "yaxis": "y"
        }
       ],
       "layout": {
        "font": {
         "family": "Lato, sans-serif",
         "size": 14
        },
        "height": 768,
        "hoverlabel": {
         "font": {
          "family": "Lato, sans-serif",
          "size": 13
         }
        },
        "hovermode": "y unified",
        "legend": {
         "orientation": "h",
         "x": 0.5,
         "xanchor": "center",
         "y": 1,
         "yanchor": "bottom"
        },
        "margin": {
         "b": 0,
         "l": 70,
         "r": 40,
         "t": 20
        },
        "paper_bgcolor": "rgba(0,0,0,0)",
        "plot_bgcolor": "rgba(0,0,0,0)",
        "template": {
         "data": {
          "bar": [
           {
            "error_x": {
             "color": "rgb(36,36,36)"
            },
            "error_y": {
             "color": "rgb(36,36,36)"
            },
            "marker": {
             "line": {
              "color": "white",
              "width": 0.5
             },
             "pattern": {
              "fillmode": "overlay",
              "size": 10,
              "solidity": 0.2
             }
            },
            "type": "bar"
           }
          ],
          "barpolar": [
           {
            "marker": {
             "line": {
              "color": "white",
              "width": 0.5
             },
             "pattern": {
              "fillmode": "overlay",
              "size": 10,
              "solidity": 0.2
             }
            },
            "type": "barpolar"
           }
          ],
          "carpet": [
           {
            "aaxis": {
             "endlinecolor": "rgb(36,36,36)",
             "gridcolor": "white",
             "linecolor": "white",
             "minorgridcolor": "white",
             "startlinecolor": "rgb(36,36,36)"
            },
            "baxis": {
             "endlinecolor": "rgb(36,36,36)",
             "gridcolor": "white",
             "linecolor": "white",
             "minorgridcolor": "white",
             "startlinecolor": "rgb(36,36,36)"
            },
            "type": "carpet"
           }
          ],
          "choropleth": [
           {
            "colorbar": {
             "outlinewidth": 1,
             "tickcolor": "rgb(36,36,36)",
             "ticks": "outside"
            },
            "type": "choropleth"
           }
          ],
          "contour": [
           {
            "colorbar": {
             "outlinewidth": 1,
             "tickcolor": "rgb(36,36,36)",
             "ticks": "outside"
            },
            "colorscale": [
             [
              0,
              "#440154"
             ],
             [
              0.1111111111111111,
              "#482878"
             ],
             [
              0.2222222222222222,
              "#3e4989"
             ],
             [
              0.3333333333333333,
              "#31688e"
             ],
             [
              0.4444444444444444,
              "#26828e"
             ],
             [
              0.5555555555555556,
              "#1f9e89"
             ],
             [
              0.6666666666666666,
              "#35b779"
             ],
             [
              0.7777777777777778,
              "#6ece58"
             ],
             [
              0.8888888888888888,
              "#b5de2b"
             ],
             [
              1,
              "#fde725"
             ]
            ],
            "type": "contour"
           }
          ],
          "contourcarpet": [
           {
            "colorbar": {
             "outlinewidth": 1,
             "tickcolor": "rgb(36,36,36)",
             "ticks": "outside"
            },
            "type": "contourcarpet"
           }
          ],
          "heatmap": [
           {
            "colorbar": {
             "outlinewidth": 1,
             "tickcolor": "rgb(36,36,36)",
             "ticks": "outside"
            },
            "colorscale": [
             [
              0,
              "#440154"
             ],
             [
              0.1111111111111111,
              "#482878"
             ],
             [
              0.2222222222222222,
              "#3e4989"
             ],
             [
              0.3333333333333333,
              "#31688e"
             ],
             [
              0.4444444444444444,
              "#26828e"
             ],
             [
              0.5555555555555556,
              "#1f9e89"
             ],
             [
              0.6666666666666666,
              "#35b779"
             ],
             [
              0.7777777777777778,
              "#6ece58"
             ],
             [
              0.8888888888888888,
              "#b5de2b"
             ],
             [
              1,
              "#fde725"
             ]
            ],
            "type": "heatmap"
           }
          ],
          "heatmapgl": [
           {
            "colorbar": {
             "outlinewidth": 1,
             "tickcolor": "rgb(36,36,36)",
             "ticks": "outside"
            },
            "colorscale": [
             [
              0,
              "#440154"
             ],
             [
              0.1111111111111111,
              "#482878"
             ],
             [
              0.2222222222222222,
              "#3e4989"
             ],
             [
              0.3333333333333333,
              "#31688e"
             ],
             [
              0.4444444444444444,
              "#26828e"
             ],
             [
              0.5555555555555556,
              "#1f9e89"
             ],
             [
              0.6666666666666666,
              "#35b779"
             ],
             [
              0.7777777777777778,
              "#6ece58"
             ],
             [
              0.8888888888888888,
              "#b5de2b"
             ],
             [
              1,
              "#fde725"
             ]
            ],
            "type": "heatmapgl"
           }
          ],
          "histogram": [
           {
            "marker": {
             "line": {
              "color": "white",
              "width": 0.6
             }
            },
            "type": "histogram"
           }
          ],
          "histogram2d": [
           {
            "colorbar": {
             "outlinewidth": 1,
             "tickcolor": "rgb(36,36,36)",
             "ticks": "outside"
            },
            "colorscale": [
             [
              0,
              "#440154"
             ],
             [
              0.1111111111111111,
              "#482878"
             ],
             [
              0.2222222222222222,
              "#3e4989"
             ],
             [
              0.3333333333333333,
              "#31688e"
             ],
             [
              0.4444444444444444,
              "#26828e"
             ],
             [
              0.5555555555555556,
              "#1f9e89"
             ],
             [
              0.6666666666666666,
              "#35b779"
             ],
             [
              0.7777777777777778,
              "#6ece58"
             ],
             [
              0.8888888888888888,
              "#b5de2b"
             ],
             [
              1,
              "#fde725"
             ]
            ],
            "type": "histogram2d"
           }
          ],
          "histogram2dcontour": [
           {
            "colorbar": {
             "outlinewidth": 1,
             "tickcolor": "rgb(36,36,36)",
             "ticks": "outside"
            },
            "colorscale": [
             [
              0,
              "#440154"
             ],
             [
              0.1111111111111111,
              "#482878"
             ],
             [
              0.2222222222222222,
              "#3e4989"
             ],
             [
              0.3333333333333333,
              "#31688e"
             ],
             [
              0.4444444444444444,
              "#26828e"
             ],
             [
              0.5555555555555556,
              "#1f9e89"
             ],
             [
              0.6666666666666666,
              "#35b779"
             ],
             [
              0.7777777777777778,
              "#6ece58"
             ],
             [
              0.8888888888888888,
              "#b5de2b"
             ],
             [
              1,
              "#fde725"
             ]
            ],
            "type": "histogram2dcontour"
           }
          ],
          "mesh3d": [
           {
            "colorbar": {
             "outlinewidth": 1,
             "tickcolor": "rgb(36,36,36)",
             "ticks": "outside"
            },
            "type": "mesh3d"
           }
          ],
          "parcoords": [
           {
            "line": {
             "colorbar": {
              "outlinewidth": 1,
              "tickcolor": "rgb(36,36,36)",
              "ticks": "outside"
             }
            },
            "type": "parcoords"
           }
          ],
          "pie": [
           {
            "automargin": true,
            "type": "pie"
           }
          ],
          "scatter": [
           {
            "fillpattern": {
             "fillmode": "overlay",
             "size": 10,
             "solidity": 0.2
            },
            "type": "scatter"
           }
          ],
          "scatter3d": [
           {
            "line": {
             "colorbar": {
              "outlinewidth": 1,
              "tickcolor": "rgb(36,36,36)",
              "ticks": "outside"
             }
            },
            "marker": {
             "colorbar": {
              "outlinewidth": 1,
              "tickcolor": "rgb(36,36,36)",
              "ticks": "outside"
             }
            },
            "type": "scatter3d"
           }
          ],
          "scattercarpet": [
           {
            "marker": {
             "colorbar": {
              "outlinewidth": 1,
              "tickcolor": "rgb(36,36,36)",
              "ticks": "outside"
             }
            },
            "type": "scattercarpet"
           }
          ],
          "scattergeo": [
           {
            "marker": {
             "colorbar": {
              "outlinewidth": 1,
              "tickcolor": "rgb(36,36,36)",
              "ticks": "outside"
             }
            },
            "type": "scattergeo"
           }
          ],
          "scattergl": [
           {
            "marker": {
             "colorbar": {
              "outlinewidth": 1,
              "tickcolor": "rgb(36,36,36)",
              "ticks": "outside"
             }
            },
            "type": "scattergl"
           }
          ],
          "scattermapbox": [
           {
            "marker": {
             "colorbar": {
              "outlinewidth": 1,
              "tickcolor": "rgb(36,36,36)",
              "ticks": "outside"
             }
            },
            "type": "scattermapbox"
           }
          ],
          "scatterpolar": [
           {
            "marker": {
             "colorbar": {
              "outlinewidth": 1,
              "tickcolor": "rgb(36,36,36)",
              "ticks": "outside"
             }
            },
            "type": "scatterpolar"
           }
          ],
          "scatterpolargl": [
           {
            "marker": {
             "colorbar": {
              "outlinewidth": 1,
              "tickcolor": "rgb(36,36,36)",
              "ticks": "outside"
             }
            },
            "type": "scatterpolargl"
           }
          ],
          "scatterternary": [
           {
            "marker": {
             "colorbar": {
              "outlinewidth": 1,
              "tickcolor": "rgb(36,36,36)",
              "ticks": "outside"
             }
            },
            "type": "scatterternary"
           }
          ],
          "surface": [
           {
            "colorbar": {
             "outlinewidth": 1,
             "tickcolor": "rgb(36,36,36)",
             "ticks": "outside"
            },
            "colorscale": [
             [
              0,
              "#440154"
             ],
             [
              0.1111111111111111,
              "#482878"
             ],
             [
              0.2222222222222222,
              "#3e4989"
             ],
             [
              0.3333333333333333,
              "#31688e"
             ],
             [
              0.4444444444444444,
              "#26828e"
             ],
             [
              0.5555555555555556,
              "#1f9e89"
             ],
             [
              0.6666666666666666,
              "#35b779"
             ],
             [
              0.7777777777777778,
              "#6ece58"
             ],
             [
              0.8888888888888888,
              "#b5de2b"
             ],
             [
              1,
              "#fde725"
             ]
            ],
            "type": "surface"
           }
          ],
          "table": [
           {
            "cells": {
             "fill": {
              "color": "rgb(237,237,237)"
             },
             "line": {
              "color": "white"
             }
            },
            "header": {
             "fill": {
              "color": "rgb(217,217,217)"
             },
             "line": {
              "color": "white"
             }
            },
            "type": "table"
           }
          ]
         },
         "layout": {
          "annotationdefaults": {
           "arrowhead": 0,
           "arrowwidth": 1
          },
          "autotypenumbers": "strict",
          "coloraxis": {
           "colorbar": {
            "outlinewidth": 1,
            "tickcolor": "rgb(36,36,36)",
            "ticks": "outside"
           }
          },
          "colorscale": {
           "diverging": [
            [
             0,
             "rgb(103,0,31)"
            ],
            [
             0.1,
             "rgb(178,24,43)"
            ],
            [
             0.2,
             "rgb(214,96,77)"
            ],
            [
             0.3,
             "rgb(244,165,130)"
            ],
            [
             0.4,
             "rgb(253,219,199)"
            ],
            [
             0.5,
             "rgb(247,247,247)"
            ],
            [
             0.6,
             "rgb(209,229,240)"
            ],
            [
             0.7,
             "rgb(146,197,222)"
            ],
            [
             0.8,
             "rgb(67,147,195)"
            ],
            [
             0.9,
             "rgb(33,102,172)"
            ],
            [
             1,
             "rgb(5,48,97)"
            ]
           ],
           "sequential": [
            [
             0,
             "#440154"
            ],
            [
             0.1111111111111111,
             "#482878"
            ],
            [
             0.2222222222222222,
             "#3e4989"
            ],
            [
             0.3333333333333333,
             "#31688e"
            ],
            [
             0.4444444444444444,
             "#26828e"
            ],
            [
             0.5555555555555556,
             "#1f9e89"
            ],
            [
             0.6666666666666666,
             "#35b779"
            ],
            [
             0.7777777777777778,
             "#6ece58"
            ],
            [
             0.8888888888888888,
             "#b5de2b"
            ],
            [
             1,
             "#fde725"
            ]
           ],
           "sequentialminus": [
            [
             0,
             "#440154"
            ],
            [
             0.1111111111111111,
             "#482878"
            ],
            [
             0.2222222222222222,
             "#3e4989"
            ],
            [
             0.3333333333333333,
             "#31688e"
            ],
            [
             0.4444444444444444,
             "#26828e"
            ],
            [
             0.5555555555555556,
             "#1f9e89"
            ],
            [
             0.6666666666666666,
             "#35b779"
            ],
            [
             0.7777777777777778,
             "#6ece58"
            ],
            [
             0.8888888888888888,
             "#b5de2b"
            ],
            [
             1,
             "#fde725"
            ]
           ]
          },
          "colorway": [
           "#1F77B4",
           "#FF7F0E",
           "#2CA02C",
           "#D62728",
           "#9467BD",
           "#8C564B",
           "#E377C2",
           "#7F7F7F",
           "#BCBD22",
           "#17BECF"
          ],
          "font": {
           "color": "rgb(36,36,36)"
          },
          "geo": {
           "bgcolor": "white",
           "lakecolor": "white",
           "landcolor": "white",
           "showlakes": true,
           "showland": true,
           "subunitcolor": "white"
          },
          "hoverlabel": {
           "align": "left"
          },
          "hovermode": "closest",
          "mapbox": {
           "style": "light"
          },
          "paper_bgcolor": "white",
          "plot_bgcolor": "white",
          "polar": {
           "angularaxis": {
            "gridcolor": "rgb(232,232,232)",
            "linecolor": "rgb(36,36,36)",
            "showgrid": false,
            "showline": true,
            "ticks": "outside"
           },
           "bgcolor": "white",
           "radialaxis": {
            "gridcolor": "rgb(232,232,232)",
            "linecolor": "rgb(36,36,36)",
            "showgrid": false,
            "showline": true,
            "ticks": "outside"
           }
          },
          "scene": {
           "xaxis": {
            "backgroundcolor": "white",
            "gridcolor": "rgb(232,232,232)",
            "gridwidth": 2,
            "linecolor": "rgb(36,36,36)",
            "showbackground": true,
            "showgrid": false,
            "showline": true,
            "ticks": "outside",
            "zeroline": false,
            "zerolinecolor": "rgb(36,36,36)"
           },
           "yaxis": {
            "backgroundcolor": "white",
            "gridcolor": "rgb(232,232,232)",
            "gridwidth": 2,
            "linecolor": "rgb(36,36,36)",
            "showbackground": true,
            "showgrid": false,
            "showline": true,
            "ticks": "outside",
            "zeroline": false,
            "zerolinecolor": "rgb(36,36,36)"
           },
           "zaxis": {
            "backgroundcolor": "white",
            "gridcolor": "rgb(232,232,232)",
            "gridwidth": 2,
            "linecolor": "rgb(36,36,36)",
            "showbackground": true,
            "showgrid": false,
            "showline": true,
            "ticks": "outside",
            "zeroline": false,
            "zerolinecolor": "rgb(36,36,36)"
           }
          },
          "shapedefaults": {
           "fillcolor": "black",
           "line": {
            "width": 0
           },
           "opacity": 0.3
          },
          "ternary": {
           "aaxis": {
            "gridcolor": "rgb(232,232,232)",
            "linecolor": "rgb(36,36,36)",
            "showgrid": false,
            "showline": true,
            "ticks": "outside"
           },
           "baxis": {
            "gridcolor": "rgb(232,232,232)",
            "linecolor": "rgb(36,36,36)",
            "showgrid": false,
            "showline": true,
            "ticks": "outside"
           },
           "bgcolor": "white",
           "caxis": {
            "gridcolor": "rgb(232,232,232)",
            "linecolor": "rgb(36,36,36)",
            "showgrid": false,
            "showline": true,
            "ticks": "outside"
           }
          },
          "title": {
           "x": 0.05
          },
          "xaxis": {
           "automargin": true,
           "gridcolor": "rgb(232,232,232)",
           "linecolor": "rgb(36,36,36)",
           "showgrid": false,
           "showline": true,
           "ticks": "outside",
           "title": {
            "standoff": 15
           },
           "zeroline": false,
           "zerolinecolor": "rgb(36,36,36)"
          },
          "yaxis": {
           "automargin": true,
           "gridcolor": "rgb(232,232,232)",
           "linecolor": "rgb(36,36,36)",
           "showgrid": false,
           "showline": true,
           "ticks": "outside",
           "title": {
            "standoff": 15
           },
           "zeroline": false,
           "zerolinecolor": "rgb(36,36,36)"
          }
         }
        },
        "width": 1024,
        "xaxis": {
         "dtick": 1,
         "title": {
          "text": "Safety"
         }
        },
        "yaxis": {
         "ticksuffix": "",
         "title": {
          "text": "Left Rotations"
         }
        }
       }
      }
     },
     "metadata": {},
     "output_type": "display_data"
    },
    {
     "data": {
      "application/vnd.plotly.v1+json": {
       "config": {
        "plotlyServerURL": "https://plot.ly"
       },
       "data": [
        {
         "marker": {
          "color": "#000000"
         },
         "mode": "markers",
         "name": "Safety X Left Rotations",
         "showlegend": false,
         "type": "scatter",
         "x": [
          4,
          4,
          4,
          3,
          3,
          3,
          5,
          5,
          5,
          4,
          4,
          4,
          4,
          4,
          4,
          1,
          1,
          1,
          2,
          2,
          2,
          2,
          2,
          4,
          4,
          4,
          3,
          3,
          3,
          4,
          4,
          4,
          1,
          1,
          1,
          2,
          2,
          2,
          4,
          4,
          4,
          2,
          2,
          2,
          2,
          2,
          2,
          2,
          2,
          2,
          4,
          4,
          4,
          1,
          1,
          1,
          4,
          4,
          4,
          3,
          3,
          3,
          4,
          4,
          4,
          1,
          1,
          1,
          2,
          2,
          2,
          1,
          1,
          1,
          4,
          4,
          4,
          2,
          2,
          2,
          2,
          2,
          2,
          5,
          5,
          5,
          4,
          4,
          4,
          2,
          2,
          2,
          2,
          2,
          2,
          4,
          4,
          4,
          3,
          3,
          3,
          1,
          1,
          1,
          1,
          1,
          1,
          4,
          4,
          4
         ],
         "y": [
          1,
          7,
          1,
          2,
          3,
          0,
          0,
          5,
          5,
          1,
          1,
          0,
          2,
          2,
          1,
          14,
          6,
          1,
          0,
          2,
          5,
          1,
          0,
          0,
          0,
          2,
          0,
          0,
          0,
          2,
          8,
          3,
          1,
          4,
          0,
          0,
          4,
          4,
          1,
          1,
          0,
          4,
          1,
          1,
          5,
          11,
          4,
          1,
          0,
          0,
          0,
          0,
          1,
          6,
          0,
          0,
          0,
          0,
          0,
          0,
          0,
          0,
          0,
          0,
          0,
          1,
          5,
          0,
          1,
          0,
          0,
          0,
          0,
          0,
          0,
          2,
          1,
          2,
          2,
          1,
          8,
          8,
          10,
          0,
          2,
          1,
          0,
          6,
          0,
          0,
          2,
          1,
          0,
          2,
          2,
          0,
          2,
          0,
          1,
          1,
          0,
          2,
          0,
          3,
          0,
          0,
          2,
          0,
          4,
          0
         ]
        },
        {
         "hovertemplate": "<b>OLS trendline</b><br>y = -0.321591 * x + 2.67935<br>R<sup>2</sup>=0.023995<br><br>x=%{x}<br>y=%{y} <b>(trend)</b><extra></extra>",
         "legendgroup": "",
         "marker": {
          "color": "#961C26",
          "symbol": "circle"
         },
         "mode": "lines",
         "name": "",
         "showlegend": false,
         "type": "scatter",
         "x": [
          1,
          1,
          1,
          1,
          1,
          1,
          1,
          1,
          1,
          1,
          1,
          1,
          1,
          1,
          1,
          1,
          1,
          1,
          1,
          1,
          1,
          2,
          2,
          2,
          2,
          2,
          2,
          2,
          2,
          2,
          2,
          2,
          2,
          2,
          2,
          2,
          2,
          2,
          2,
          2,
          2,
          2,
          2,
          2,
          2,
          2,
          2,
          2,
          2,
          2,
          2,
          2,
          2,
          3,
          3,
          3,
          3,
          3,
          3,
          3,
          3,
          3,
          3,
          3,
          3,
          4,
          4,
          4,
          4,
          4,
          4,
          4,
          4,
          4,
          4,
          4,
          4,
          4,
          4,
          4,
          4,
          4,
          4,
          4,
          4,
          4,
          4,
          4,
          4,
          4,
          4,
          4,
          4,
          4,
          4,
          4,
          4,
          4,
          4,
          4,
          4,
          4,
          4,
          4,
          5,
          5,
          5,
          5,
          5,
          5
         ],
         "xaxis": "x",
         "y": [
          2.357757945827464,
          2.357757945827464,
          2.357757945827464,
          2.357757945827464,
          2.357757945827464,
          2.357757945827464,
          2.357757945827464,
          2.357757945827464,
          2.357757945827464,
          2.357757945827464,
          2.357757945827464,
          2.357757945827464,
          2.357757945827464,
          2.357757945827464,
          2.357757945827464,
          2.357757945827464,
          2.357757945827464,
          2.357757945827464,
          2.357757945827464,
          2.357757945827464,
          2.357757945827464,
          2.0361672146547685,
          2.0361672146547685,
          2.0361672146547685,
          2.0361672146547685,
          2.0361672146547685,
          2.0361672146547685,
          2.0361672146547685,
          2.0361672146547685,
          2.0361672146547685,
          2.0361672146547685,
          2.0361672146547685,
          2.0361672146547685,
          2.0361672146547685,
          2.0361672146547685,
          2.0361672146547685,
          2.0361672146547685,
          2.0361672146547685,
          2.0361672146547685,
          2.0361672146547685,
          2.0361672146547685,
          2.0361672146547685,
          2.0361672146547685,
          2.0361672146547685,
          2.0361672146547685,
          2.0361672146547685,
          2.0361672146547685,
          2.0361672146547685,
          2.0361672146547685,
          2.0361672146547685,
          2.0361672146547685,
          2.0361672146547685,
          2.0361672146547685,
          1.7145764834820734,
          1.7145764834820734,
          1.7145764834820734,
          1.7145764834820734,
          1.7145764834820734,
          1.7145764834820734,
          1.7145764834820734,
          1.7145764834820734,
          1.7145764834820734,
          1.7145764834820734,
          1.7145764834820734,
          1.7145764834820734,
          1.3929857523093783,
          1.3929857523093783,
          1.3929857523093783,
          1.3929857523093783,
          1.3929857523093783,
          1.3929857523093783,
          1.3929857523093783,
          1.3929857523093783,
          1.3929857523093783,
          1.3929857523093783,
          1.3929857523093783,
          1.3929857523093783,
          1.3929857523093783,
          1.3929857523093783,
          1.3929857523093783,
          1.3929857523093783,
          1.3929857523093783,
          1.3929857523093783,
          1.3929857523093783,
          1.3929857523093783,
          1.3929857523093783,
          1.3929857523093783,
          1.3929857523093783,
          1.3929857523093783,
          1.3929857523093783,
          1.3929857523093783,
          1.3929857523093783,
          1.3929857523093783,
          1.3929857523093783,
          1.3929857523093783,
          1.3929857523093783,
          1.3929857523093783,
          1.3929857523093783,
          1.3929857523093783,
          1.3929857523093783,
          1.3929857523093783,
          1.3929857523093783,
          1.3929857523093783,
          1.3929857523093783,
          1.0713950211366832,
          1.0713950211366832,
          1.0713950211366832,
          1.0713950211366832,
          1.0713950211366832,
          1.0713950211366832
         ],
         "yaxis": "y"
        }
       ],
       "layout": {
        "font": {
         "family": "Lato, sans-serif",
         "size": 14
        },
        "height": 768,
        "hoverlabel": {
         "font": {
          "family": "Lato, sans-serif",
          "size": 13
         }
        },
        "hovermode": "y unified",
        "legend": {
         "orientation": "h",
         "x": 0.5,
         "xanchor": "center",
         "y": 1,
         "yanchor": "bottom"
        },
        "margin": {
         "b": 0,
         "l": 70,
         "r": 40,
         "t": 20
        },
        "paper_bgcolor": "rgba(0,0,0,0)",
        "plot_bgcolor": "rgba(0,0,0,0)",
        "template": {
         "data": {
          "bar": [
           {
            "error_x": {
             "color": "rgb(36,36,36)"
            },
            "error_y": {
             "color": "rgb(36,36,36)"
            },
            "marker": {
             "line": {
              "color": "white",
              "width": 0.5
             },
             "pattern": {
              "fillmode": "overlay",
              "size": 10,
              "solidity": 0.2
             }
            },
            "type": "bar"
           }
          ],
          "barpolar": [
           {
            "marker": {
             "line": {
              "color": "white",
              "width": 0.5
             },
             "pattern": {
              "fillmode": "overlay",
              "size": 10,
              "solidity": 0.2
             }
            },
            "type": "barpolar"
           }
          ],
          "carpet": [
           {
            "aaxis": {
             "endlinecolor": "rgb(36,36,36)",
             "gridcolor": "white",
             "linecolor": "white",
             "minorgridcolor": "white",
             "startlinecolor": "rgb(36,36,36)"
            },
            "baxis": {
             "endlinecolor": "rgb(36,36,36)",
             "gridcolor": "white",
             "linecolor": "white",
             "minorgridcolor": "white",
             "startlinecolor": "rgb(36,36,36)"
            },
            "type": "carpet"
           }
          ],
          "choropleth": [
           {
            "colorbar": {
             "outlinewidth": 1,
             "tickcolor": "rgb(36,36,36)",
             "ticks": "outside"
            },
            "type": "choropleth"
           }
          ],
          "contour": [
           {
            "colorbar": {
             "outlinewidth": 1,
             "tickcolor": "rgb(36,36,36)",
             "ticks": "outside"
            },
            "colorscale": [
             [
              0,
              "#440154"
             ],
             [
              0.1111111111111111,
              "#482878"
             ],
             [
              0.2222222222222222,
              "#3e4989"
             ],
             [
              0.3333333333333333,
              "#31688e"
             ],
             [
              0.4444444444444444,
              "#26828e"
             ],
             [
              0.5555555555555556,
              "#1f9e89"
             ],
             [
              0.6666666666666666,
              "#35b779"
             ],
             [
              0.7777777777777778,
              "#6ece58"
             ],
             [
              0.8888888888888888,
              "#b5de2b"
             ],
             [
              1,
              "#fde725"
             ]
            ],
            "type": "contour"
           }
          ],
          "contourcarpet": [
           {
            "colorbar": {
             "outlinewidth": 1,
             "tickcolor": "rgb(36,36,36)",
             "ticks": "outside"
            },
            "type": "contourcarpet"
           }
          ],
          "heatmap": [
           {
            "colorbar": {
             "outlinewidth": 1,
             "tickcolor": "rgb(36,36,36)",
             "ticks": "outside"
            },
            "colorscale": [
             [
              0,
              "#440154"
             ],
             [
              0.1111111111111111,
              "#482878"
             ],
             [
              0.2222222222222222,
              "#3e4989"
             ],
             [
              0.3333333333333333,
              "#31688e"
             ],
             [
              0.4444444444444444,
              "#26828e"
             ],
             [
              0.5555555555555556,
              "#1f9e89"
             ],
             [
              0.6666666666666666,
              "#35b779"
             ],
             [
              0.7777777777777778,
              "#6ece58"
             ],
             [
              0.8888888888888888,
              "#b5de2b"
             ],
             [
              1,
              "#fde725"
             ]
            ],
            "type": "heatmap"
           }
          ],
          "heatmapgl": [
           {
            "colorbar": {
             "outlinewidth": 1,
             "tickcolor": "rgb(36,36,36)",
             "ticks": "outside"
            },
            "colorscale": [
             [
              0,
              "#440154"
             ],
             [
              0.1111111111111111,
              "#482878"
             ],
             [
              0.2222222222222222,
              "#3e4989"
             ],
             [
              0.3333333333333333,
              "#31688e"
             ],
             [
              0.4444444444444444,
              "#26828e"
             ],
             [
              0.5555555555555556,
              "#1f9e89"
             ],
             [
              0.6666666666666666,
              "#35b779"
             ],
             [
              0.7777777777777778,
              "#6ece58"
             ],
             [
              0.8888888888888888,
              "#b5de2b"
             ],
             [
              1,
              "#fde725"
             ]
            ],
            "type": "heatmapgl"
           }
          ],
          "histogram": [
           {
            "marker": {
             "line": {
              "color": "white",
              "width": 0.6
             }
            },
            "type": "histogram"
           }
          ],
          "histogram2d": [
           {
            "colorbar": {
             "outlinewidth": 1,
             "tickcolor": "rgb(36,36,36)",
             "ticks": "outside"
            },
            "colorscale": [
             [
              0,
              "#440154"
             ],
             [
              0.1111111111111111,
              "#482878"
             ],
             [
              0.2222222222222222,
              "#3e4989"
             ],
             [
              0.3333333333333333,
              "#31688e"
             ],
             [
              0.4444444444444444,
              "#26828e"
             ],
             [
              0.5555555555555556,
              "#1f9e89"
             ],
             [
              0.6666666666666666,
              "#35b779"
             ],
             [
              0.7777777777777778,
              "#6ece58"
             ],
             [
              0.8888888888888888,
              "#b5de2b"
             ],
             [
              1,
              "#fde725"
             ]
            ],
            "type": "histogram2d"
           }
          ],
          "histogram2dcontour": [
           {
            "colorbar": {
             "outlinewidth": 1,
             "tickcolor": "rgb(36,36,36)",
             "ticks": "outside"
            },
            "colorscale": [
             [
              0,
              "#440154"
             ],
             [
              0.1111111111111111,
              "#482878"
             ],
             [
              0.2222222222222222,
              "#3e4989"
             ],
             [
              0.3333333333333333,
              "#31688e"
             ],
             [
              0.4444444444444444,
              "#26828e"
             ],
             [
              0.5555555555555556,
              "#1f9e89"
             ],
             [
              0.6666666666666666,
              "#35b779"
             ],
             [
              0.7777777777777778,
              "#6ece58"
             ],
             [
              0.8888888888888888,
              "#b5de2b"
             ],
             [
              1,
              "#fde725"
             ]
            ],
            "type": "histogram2dcontour"
           }
          ],
          "mesh3d": [
           {
            "colorbar": {
             "outlinewidth": 1,
             "tickcolor": "rgb(36,36,36)",
             "ticks": "outside"
            },
            "type": "mesh3d"
           }
          ],
          "parcoords": [
           {
            "line": {
             "colorbar": {
              "outlinewidth": 1,
              "tickcolor": "rgb(36,36,36)",
              "ticks": "outside"
             }
            },
            "type": "parcoords"
           }
          ],
          "pie": [
           {
            "automargin": true,
            "type": "pie"
           }
          ],
          "scatter": [
           {
            "fillpattern": {
             "fillmode": "overlay",
             "size": 10,
             "solidity": 0.2
            },
            "type": "scatter"
           }
          ],
          "scatter3d": [
           {
            "line": {
             "colorbar": {
              "outlinewidth": 1,
              "tickcolor": "rgb(36,36,36)",
              "ticks": "outside"
             }
            },
            "marker": {
             "colorbar": {
              "outlinewidth": 1,
              "tickcolor": "rgb(36,36,36)",
              "ticks": "outside"
             }
            },
            "type": "scatter3d"
           }
          ],
          "scattercarpet": [
           {
            "marker": {
             "colorbar": {
              "outlinewidth": 1,
              "tickcolor": "rgb(36,36,36)",
              "ticks": "outside"
             }
            },
            "type": "scattercarpet"
           }
          ],
          "scattergeo": [
           {
            "marker": {
             "colorbar": {
              "outlinewidth": 1,
              "tickcolor": "rgb(36,36,36)",
              "ticks": "outside"
             }
            },
            "type": "scattergeo"
           }
          ],
          "scattergl": [
           {
            "marker": {
             "colorbar": {
              "outlinewidth": 1,
              "tickcolor": "rgb(36,36,36)",
              "ticks": "outside"
             }
            },
            "type": "scattergl"
           }
          ],
          "scattermapbox": [
           {
            "marker": {
             "colorbar": {
              "outlinewidth": 1,
              "tickcolor": "rgb(36,36,36)",
              "ticks": "outside"
             }
            },
            "type": "scattermapbox"
           }
          ],
          "scatterpolar": [
           {
            "marker": {
             "colorbar": {
              "outlinewidth": 1,
              "tickcolor": "rgb(36,36,36)",
              "ticks": "outside"
             }
            },
            "type": "scatterpolar"
           }
          ],
          "scatterpolargl": [
           {
            "marker": {
             "colorbar": {
              "outlinewidth": 1,
              "tickcolor": "rgb(36,36,36)",
              "ticks": "outside"
             }
            },
            "type": "scatterpolargl"
           }
          ],
          "scatterternary": [
           {
            "marker": {
             "colorbar": {
              "outlinewidth": 1,
              "tickcolor": "rgb(36,36,36)",
              "ticks": "outside"
             }
            },
            "type": "scatterternary"
           }
          ],
          "surface": [
           {
            "colorbar": {
             "outlinewidth": 1,
             "tickcolor": "rgb(36,36,36)",
             "ticks": "outside"
            },
            "colorscale": [
             [
              0,
              "#440154"
             ],
             [
              0.1111111111111111,
              "#482878"
             ],
             [
              0.2222222222222222,
              "#3e4989"
             ],
             [
              0.3333333333333333,
              "#31688e"
             ],
             [
              0.4444444444444444,
              "#26828e"
             ],
             [
              0.5555555555555556,
              "#1f9e89"
             ],
             [
              0.6666666666666666,
              "#35b779"
             ],
             [
              0.7777777777777778,
              "#6ece58"
             ],
             [
              0.8888888888888888,
              "#b5de2b"
             ],
             [
              1,
              "#fde725"
             ]
            ],
            "type": "surface"
           }
          ],
          "table": [
           {
            "cells": {
             "fill": {
              "color": "rgb(237,237,237)"
             },
             "line": {
              "color": "white"
             }
            },
            "header": {
             "fill": {
              "color": "rgb(217,217,217)"
             },
             "line": {
              "color": "white"
             }
            },
            "type": "table"
           }
          ]
         },
         "layout": {
          "annotationdefaults": {
           "arrowhead": 0,
           "arrowwidth": 1
          },
          "autotypenumbers": "strict",
          "coloraxis": {
           "colorbar": {
            "outlinewidth": 1,
            "tickcolor": "rgb(36,36,36)",
            "ticks": "outside"
           }
          },
          "colorscale": {
           "diverging": [
            [
             0,
             "rgb(103,0,31)"
            ],
            [
             0.1,
             "rgb(178,24,43)"
            ],
            [
             0.2,
             "rgb(214,96,77)"
            ],
            [
             0.3,
             "rgb(244,165,130)"
            ],
            [
             0.4,
             "rgb(253,219,199)"
            ],
            [
             0.5,
             "rgb(247,247,247)"
            ],
            [
             0.6,
             "rgb(209,229,240)"
            ],
            [
             0.7,
             "rgb(146,197,222)"
            ],
            [
             0.8,
             "rgb(67,147,195)"
            ],
            [
             0.9,
             "rgb(33,102,172)"
            ],
            [
             1,
             "rgb(5,48,97)"
            ]
           ],
           "sequential": [
            [
             0,
             "#440154"
            ],
            [
             0.1111111111111111,
             "#482878"
            ],
            [
             0.2222222222222222,
             "#3e4989"
            ],
            [
             0.3333333333333333,
             "#31688e"
            ],
            [
             0.4444444444444444,
             "#26828e"
            ],
            [
             0.5555555555555556,
             "#1f9e89"
            ],
            [
             0.6666666666666666,
             "#35b779"
            ],
            [
             0.7777777777777778,
             "#6ece58"
            ],
            [
             0.8888888888888888,
             "#b5de2b"
            ],
            [
             1,
             "#fde725"
            ]
           ],
           "sequentialminus": [
            [
             0,
             "#440154"
            ],
            [
             0.1111111111111111,
             "#482878"
            ],
            [
             0.2222222222222222,
             "#3e4989"
            ],
            [
             0.3333333333333333,
             "#31688e"
            ],
            [
             0.4444444444444444,
             "#26828e"
            ],
            [
             0.5555555555555556,
             "#1f9e89"
            ],
            [
             0.6666666666666666,
             "#35b779"
            ],
            [
             0.7777777777777778,
             "#6ece58"
            ],
            [
             0.8888888888888888,
             "#b5de2b"
            ],
            [
             1,
             "#fde725"
            ]
           ]
          },
          "colorway": [
           "#1F77B4",
           "#FF7F0E",
           "#2CA02C",
           "#D62728",
           "#9467BD",
           "#8C564B",
           "#E377C2",
           "#7F7F7F",
           "#BCBD22",
           "#17BECF"
          ],
          "font": {
           "color": "rgb(36,36,36)"
          },
          "geo": {
           "bgcolor": "white",
           "lakecolor": "white",
           "landcolor": "white",
           "showlakes": true,
           "showland": true,
           "subunitcolor": "white"
          },
          "hoverlabel": {
           "align": "left"
          },
          "hovermode": "closest",
          "mapbox": {
           "style": "light"
          },
          "paper_bgcolor": "white",
          "plot_bgcolor": "white",
          "polar": {
           "angularaxis": {
            "gridcolor": "rgb(232,232,232)",
            "linecolor": "rgb(36,36,36)",
            "showgrid": false,
            "showline": true,
            "ticks": "outside"
           },
           "bgcolor": "white",
           "radialaxis": {
            "gridcolor": "rgb(232,232,232)",
            "linecolor": "rgb(36,36,36)",
            "showgrid": false,
            "showline": true,
            "ticks": "outside"
           }
          },
          "scene": {
           "xaxis": {
            "backgroundcolor": "white",
            "gridcolor": "rgb(232,232,232)",
            "gridwidth": 2,
            "linecolor": "rgb(36,36,36)",
            "showbackground": true,
            "showgrid": false,
            "showline": true,
            "ticks": "outside",
            "zeroline": false,
            "zerolinecolor": "rgb(36,36,36)"
           },
           "yaxis": {
            "backgroundcolor": "white",
            "gridcolor": "rgb(232,232,232)",
            "gridwidth": 2,
            "linecolor": "rgb(36,36,36)",
            "showbackground": true,
            "showgrid": false,
            "showline": true,
            "ticks": "outside",
            "zeroline": false,
            "zerolinecolor": "rgb(36,36,36)"
           },
           "zaxis": {
            "backgroundcolor": "white",
            "gridcolor": "rgb(232,232,232)",
            "gridwidth": 2,
            "linecolor": "rgb(36,36,36)",
            "showbackground": true,
            "showgrid": false,
            "showline": true,
            "ticks": "outside",
            "zeroline": false,
            "zerolinecolor": "rgb(36,36,36)"
           }
          },
          "shapedefaults": {
           "fillcolor": "black",
           "line": {
            "width": 0
           },
           "opacity": 0.3
          },
          "ternary": {
           "aaxis": {
            "gridcolor": "rgb(232,232,232)",
            "linecolor": "rgb(36,36,36)",
            "showgrid": false,
            "showline": true,
            "ticks": "outside"
           },
           "baxis": {
            "gridcolor": "rgb(232,232,232)",
            "linecolor": "rgb(36,36,36)",
            "showgrid": false,
            "showline": true,
            "ticks": "outside"
           },
           "bgcolor": "white",
           "caxis": {
            "gridcolor": "rgb(232,232,232)",
            "linecolor": "rgb(36,36,36)",
            "showgrid": false,
            "showline": true,
            "ticks": "outside"
           }
          },
          "title": {
           "x": 0.05
          },
          "xaxis": {
           "automargin": true,
           "gridcolor": "rgb(232,232,232)",
           "linecolor": "rgb(36,36,36)",
           "showgrid": false,
           "showline": true,
           "ticks": "outside",
           "title": {
            "standoff": 15
           },
           "zeroline": false,
           "zerolinecolor": "rgb(36,36,36)"
          },
          "yaxis": {
           "automargin": true,
           "gridcolor": "rgb(232,232,232)",
           "linecolor": "rgb(36,36,36)",
           "showgrid": false,
           "showline": true,
           "ticks": "outside",
           "title": {
            "standoff": 15
           },
           "zeroline": false,
           "zerolinecolor": "rgb(36,36,36)"
          }
         }
        },
        "width": 1024,
        "xaxis": {
         "dtick": 1,
         "title": {
          "text": "Safety"
         }
        },
        "yaxis": {
         "ticksuffix": "",
         "title": {
          "text": "Right Rotations"
         }
        }
       }
      }
     },
     "metadata": {},
     "output_type": "display_data"
    },
    {
     "data": {
      "application/vnd.plotly.v1+json": {
       "config": {
        "plotlyServerURL": "https://plot.ly"
       },
       "data": [
        {
         "marker": {
          "color": "#000000"
         },
         "mode": "markers",
         "name": "Safety X Left Angles",
         "showlegend": false,
         "type": "scatter",
         "x": [
          4,
          4,
          4,
          4,
          4,
          4,
          4,
          4,
          4,
          3,
          3,
          3,
          3,
          3,
          3,
          3,
          3,
          3,
          3,
          3,
          3,
          3,
          3,
          5,
          5,
          5,
          5,
          5,
          5,
          5,
          5,
          5,
          5,
          5,
          5,
          5,
          4,
          4,
          4,
          4,
          4,
          4,
          4,
          4,
          4,
          4,
          4,
          4,
          4,
          4,
          4,
          1,
          1,
          1,
          1,
          1,
          1,
          1,
          1,
          1,
          1,
          1,
          1,
          1,
          1,
          1,
          1,
          2,
          2,
          2,
          2,
          2,
          2,
          2,
          2,
          2,
          2,
          4,
          4,
          4,
          4,
          4,
          4,
          4,
          3,
          3,
          3,
          3,
          4,
          4,
          4,
          4,
          4,
          4,
          4,
          4,
          4,
          4,
          4,
          4,
          4,
          4,
          4,
          4,
          4,
          4,
          4,
          4,
          4,
          4,
          4,
          1,
          1,
          1,
          1,
          1,
          1,
          1,
          1,
          1,
          1,
          1,
          1,
          1,
          1,
          1,
          1,
          1,
          1,
          2,
          2,
          2,
          2,
          2,
          2,
          2,
          2,
          2,
          2,
          2,
          2,
          4,
          4,
          4,
          4,
          4,
          4,
          4,
          4,
          4,
          4,
          4,
          4,
          4,
          4,
          4,
          4,
          4,
          4,
          4,
          2,
          2,
          2,
          2,
          2,
          2,
          2,
          2,
          2,
          2,
          2,
          2,
          2,
          2,
          2,
          2,
          2,
          2,
          2,
          2,
          2,
          2,
          2,
          2,
          2,
          2,
          2,
          2,
          2,
          2,
          2,
          2,
          2,
          2,
          2,
          2,
          2,
          2,
          2,
          2,
          2,
          2,
          2,
          2,
          4,
          4,
          4,
          4,
          4,
          1,
          1,
          1,
          1,
          1,
          1,
          1,
          1,
          1,
          1,
          1,
          4,
          4,
          4,
          3,
          3,
          3,
          1,
          1,
          1,
          1,
          1,
          1,
          1,
          1,
          1,
          1,
          1,
          2,
          2,
          2,
          2,
          2,
          1,
          1,
          4,
          4,
          4,
          4,
          4,
          4,
          4,
          4,
          4,
          4,
          2,
          2,
          2,
          2,
          2,
          2,
          2,
          2,
          2,
          2,
          2,
          2,
          2,
          2,
          2,
          2,
          2,
          2,
          2,
          2,
          2,
          2,
          2,
          2,
          2,
          2,
          2,
          2,
          2,
          2,
          2,
          2,
          2,
          2,
          2,
          2,
          2,
          2,
          2,
          2,
          2,
          2,
          2,
          2,
          2,
          2,
          2,
          2,
          2,
          2,
          2,
          2,
          5,
          5,
          5,
          5,
          5,
          5,
          5,
          5,
          4,
          4,
          4,
          4,
          4,
          4,
          2,
          2,
          2,
          2,
          2,
          2,
          2,
          2,
          2,
          2,
          2,
          2,
          2,
          2,
          4,
          4,
          4,
          4,
          4,
          4,
          3,
          3,
          3,
          3,
          1,
          1,
          1,
          1,
          1,
          1,
          1,
          1,
          1,
          1,
          1,
          1,
          1,
          1,
          1,
          1,
          1,
          1,
          1,
          1,
          1,
          1,
          1,
          1,
          1,
          1,
          1,
          1,
          4,
          4,
          4,
          4,
          4,
          4
         ],
         "y": [
          -46.16539001464844,
          -48.29853057861328,
          -66.83397674560547,
          -59.381858825683594,
          -100.40540313720703,
          -66.33336639404297,
          -90.1629867553711,
          -38.623390197753906,
          -56.03049087524414,
          -34.432071685791016,
          -62.61796951293945,
          -59.954978942871094,
          -37.33658981323242,
          -23.043710708618164,
          -40.59532928466797,
          -136.09080505371094,
          -135.1031036376953,
          -41.3302001953125,
          -71.30142974853516,
          -63.66775131225586,
          -23.251590728759766,
          -27.982379913330078,
          -136.7406005859375,
          -122.4845962524414,
          -102.2249984741211,
          -75.04283905029297,
          -46.11708068847656,
          -73.34619903564453,
          -73.91200256347656,
          -21.77553939819336,
          -111.1781997680664,
          -62.03451156616211,
          -45.26026153564453,
          -37.820011138916016,
          -114.74960327148438,
          -30.88736915588379,
          -31.864299774169922,
          -71.76171112060547,
          -67.42867279052734,
          -66.95939636230469,
          -62.81441116333008,
          -63.1220817565918,
          -67.35433959960938,
          -71.20844268798828,
          -54.42110061645508,
          -147.14830017089844,
          -54.34408187866211,
          -61.01710891723633,
          -26.704280853271484,
          -66.27313232421875,
          -38.950809478759766,
          -51.12527847290039,
          -61.89847946166992,
          -62.12202072143555,
          -46.0070915222168,
          -54.21031188964844,
          -48.70621109008789,
          -45.2954216003418,
          -46.24488830566406,
          -20.04458999633789,
          -51.16279983520508,
          -58.97283172607422,
          -57.104759216308594,
          -61.508541107177734,
          -44.251380920410156,
          -44.512149810791016,
          -41.97978973388672,
          -36.989139556884766,
          -22.204809188842773,
          -48.529869079589844,
          -26.96310043334961,
          -44.30162811279297,
          -77.90043640136719,
          -83.0373764038086,
          -45.894439697265625,
          -28.504199981689453,
          -57.83198928833008,
          -20.64059066772461,
          -45.392520904541016,
          -32.18122100830078,
          -125.4529037475586,
          -22.07356071472168,
          -23.904560089111328,
          -26.991050720214844,
          -34.58985900878906,
          -22.053930282592773,
          -26.527009963989258,
          -30.39596939086914,
          -57.11429977416992,
          -60.47222900390625,
          -57.669960021972656,
          -56.66521072387695,
          -63.54219055175781,
          -59.382259368896484,
          -27.391199111938477,
          -78.9745864868164,
          -41.037811279296875,
          -25.510690689086914,
          -91.40289306640625,
          -38.45787048339844,
          -117.87079620361328,
          -55.57204818725586,
          -20.01333999633789,
          -129.40719604492188,
          -136.40060424804688,
          -138.66729736328125,
          -132.9134979248047,
          -138.67689514160156,
          -136.8769989013672,
          -140.783203125,
          -57.3361701965332,
          -36.14521026611328,
          -98.70394897460938,
          -148.20370483398438,
          -139.69259643554688,
          -141.37130737304688,
          -21.853660583496094,
          -61.5352783203125,
          -141.7313995361328,
          -140.64199829101562,
          -145.13079833984375,
          -138.4783935546875,
          -134.49749755859375,
          -123.09049987792969,
          -129.71420288085938,
          -125.7522964477539,
          -37.04436111450195,
          -104.4551010131836,
          -40.547340393066406,
          -49.138790130615234,
          -48.083431243896484,
          -56.00613021850586,
          -56.223270416259766,
          -54.226829528808594,
          -53.59714889526367,
          -29.546300888061523,
          -122.49669647216797,
          -128.81080627441406,
          -110.59329986572266,
          -103.71209716796875,
          -37.14064025878906,
          -111.9384994506836,
          -21.83608055114746,
          -92.30853271484375,
          -117.63469696044922,
          -122.76940155029297,
          -23.98012924194336,
          -52.96765899658203,
          -63.77492904663086,
          -109.47090148925781,
          -21.397539138793945,
          -112.16549682617188,
          -119.83820343017578,
          -121.53500366210938,
          -30.90399932861328,
          -124.85230255126953,
          -131.1230010986328,
          -79.17729187011719,
          -126.88459777832031,
          -49.938228607177734,
          -32.738040924072266,
          -35.648521423339844,
          -68.56749725341797,
          -67.79963684082031,
          -58.61471176147461,
          -48.849300384521484,
          -22.672229766845703,
          -33.40456008911133,
          -113.26950073242188,
          -53.59640884399414,
          -24.439559936523438,
          -30.607789993286133,
          -47.902191162109375,
          -44.28839874267578,
          -44.4628791809082,
          -42.18299865722656,
          -29.924480438232422,
          -47.722801208496094,
          -59.177608489990234,
          -115.60590362548828,
          -129.6118927001953,
          -69.55574035644531,
          -130.67539978027344,
          -120.54350280761719,
          -115.89689636230469,
          -20.603500366210938,
          -20.750329971313477,
          -112.57720184326172,
          -47.53908157348633,
          -100.01319885253906,
          -84.19022369384766,
          -88.59459686279297,
          -45.093318939208984,
          -44.80290985107422,
          -22.371440887451172,
          -82.2979736328125,
          -154.97689819335938,
          -69.08036804199219,
          -67.44434356689453,
          -82.17794036865234,
          -103.21890258789062,
          -102.20469665527344,
          -65.33148193359375,
          -65.39260864257812,
          -39.22032928466797,
          -58.77695083618164,
          -44.949951171875,
          -25.39668083190918,
          -55.2346305847168,
          -52.91733169555664,
          -40.78594970703125,
          -52.51604080200195,
          -24.13511085510254,
          -45.9930305480957,
          -44.08345031738281,
          -43.68170928955078,
          -29.283069610595703,
          -27.23164939880371,
          -25.948949813842773,
          -31.380390167236328,
          -23.307329177856445,
          -23.307640075683594,
          -60.29249954223633,
          -124.268798828125,
          -28.729110717773438,
          -25.411550521850586,
          -62.84519958496094,
          -72.53025817871094,
          -27.058259963989258,
          -74.39920806884766,
          -78.12452697753906,
          -21.245750427246094,
          -103.80380249023438,
          -86.2580337524414,
          -69.43895721435547,
          -55.25257873535156,
          -21.67259979248047,
          -22.11479949951172,
          -24.921180725097656,
          -23.494089126586914,
          -20.92378044128418,
          -27.524009704589844,
          -38.79404067993164,
          -104.15959930419922,
          -56.09468078613281,
          -55.68342971801758,
          -125.9666976928711,
          -52.037540435791016,
          -31.141759872436523,
          -69.05510711669922,
          -138.00259399414062,
          -27.361169815063477,
          -76.14726257324219,
          -152.27490234375,
          -139.22059631347656,
          -133.52020263671875,
          -55.15480041503906,
          -68.73829650878906,
          -77.40738677978516,
          -71.76761627197266,
          -22.47488021850586,
          -65.6559066772461,
          -67.19584655761719,
          -46.91891860961914,
          -37.50619888305664,
          -148.56430053710938,
          -161.13360595703125,
          -144.37989807128906,
          -29.315420150756836,
          -31.257930755615234,
          -130.98629760742188,
          -20.81352996826172,
          -148.7313995361328,
          -43.266929626464844,
          -151.21240234375,
          -60.81084060668945,
          -40.04854965209961,
          -36.49325942993164,
          -41.384788513183594,
          -43.2234001159668,
          -48.104820251464844,
          -46.90803909301758,
          -44.1952018737793,
          -126.177001953125,
          -148.6204071044922,
          -63.95930862426758,
          -51.63636016845703,
          -47.053829193115234,
          -50.97515106201172,
          -58.49563980102539,
          -127.66290283203125,
          -38.07817840576172,
          -144.05189514160156,
          -148.593505859375,
          -140.88929748535156,
          -152.88229370117188,
          -46.838130950927734,
          -148.47250366210938,
          -32.88529968261719,
          -47.22126007080078,
          -48.13444900512695,
          -44.3219108581543,
          -45.91530990600586,
          -113.84190368652344,
          -129.39540100097656,
          -33.05910110473633,
          -54.44511032104492,
          -58.51420974731445,
          -23.03618049621582,
          -57.641029357910156,
          -68.9101333618164,
          -85.0056381225586,
          -116.3479995727539,
          -57.058868408203125,
          -33.016780853271484,
          -29.29998016357422,
          -23.7585506439209,
          -37.65256118774414,
          -44.31480026245117,
          -44.151878356933594,
          -46.82564163208008,
          -23.90097999572754,
          -51.55929946899414,
          -85.33193969726562,
          -24.661489486694336,
          -23.050920486450195,
          -28.350400924682617,
          -30.193470001220703,
          -44.460269927978516,
          -32.6898193359375,
          -45.44540023803711,
          -22.799440383911133,
          -20.37343978881836,
          -23.335329055786133,
          -21.8929500579834,
          -49.48046875,
          -86.86428833007812,
          -35.01824951171875,
          -30.644269943237305,
          -32.64020919799805,
          -25.900230407714844,
          -27.326160430908203,
          -36.71310043334961,
          -27.384769439697266,
          -64.96180725097656,
          -23.25029945373535,
          -53.705440521240234,
          -31.03643035888672,
          -77.86016082763672,
          -75.0726089477539,
          -32.39033126831055,
          -30.5061092376709,
          -71.20488739013672,
          -71.31318664550781,
          -20.548450469970703,
          -26.724769592285156,
          -20.008569717407227,
          -37.624900817871094,
          -68.23002624511719,
          -27.97650909423828,
          -86.90310668945312,
          -25.611520767211914,
          -31.196409225463867,
          -23.910459518432617,
          -26.475889205932617,
          -30.627410888671875,
          -22.01576042175293,
          -25.222400665283203,
          -54.781158447265625,
          -60.97349166870117,
          -59.269229888916016,
          -33.79785919189453,
          -27.44607925415039,
          -52.82215118408203,
          -60.13492965698242,
          -23.901269912719727,
          -35.343990325927734,
          -20.979450225830078
         ]
        },
        {
         "hovertemplate": "<b>OLS trendline</b><br>y = -1.15023 * x + -60.6999<br>R<sup>2</sup>=0.001468<br><br>x=%{x}<br>y=%{y} <b>(trend)</b><extra></extra>",
         "legendgroup": "",
         "marker": {
          "color": "#961C26",
          "symbol": "circle"
         },
         "mode": "lines",
         "name": "",
         "showlegend": false,
         "type": "scatter",
         "x": [
          1,
          1,
          1,
          1,
          1,
          1,
          1,
          1,
          1,
          1,
          1,
          1,
          1,
          1,
          1,
          1,
          1,
          1,
          1,
          1,
          1,
          1,
          1,
          1,
          1,
          1,
          1,
          1,
          1,
          1,
          1,
          1,
          1,
          1,
          1,
          1,
          1,
          1,
          1,
          1,
          1,
          1,
          1,
          1,
          1,
          1,
          1,
          1,
          1,
          1,
          1,
          1,
          1,
          1,
          1,
          1,
          1,
          1,
          1,
          1,
          1,
          1,
          1,
          1,
          1,
          1,
          1,
          1,
          1,
          1,
          1,
          1,
          1,
          1,
          1,
          1,
          1,
          1,
          1,
          1,
          1,
          1,
          1,
          1,
          1,
          1,
          2,
          2,
          2,
          2,
          2,
          2,
          2,
          2,
          2,
          2,
          2,
          2,
          2,
          2,
          2,
          2,
          2,
          2,
          2,
          2,
          2,
          2,
          2,
          2,
          2,
          2,
          2,
          2,
          2,
          2,
          2,
          2,
          2,
          2,
          2,
          2,
          2,
          2,
          2,
          2,
          2,
          2,
          2,
          2,
          2,
          2,
          2,
          2,
          2,
          2,
          2,
          2,
          2,
          2,
          2,
          2,
          2,
          2,
          2,
          2,
          2,
          2,
          2,
          2,
          2,
          2,
          2,
          2,
          2,
          2,
          2,
          2,
          2,
          2,
          2,
          2,
          2,
          2,
          2,
          2,
          2,
          2,
          2,
          2,
          2,
          2,
          2,
          2,
          2,
          2,
          2,
          2,
          2,
          2,
          2,
          2,
          2,
          2,
          2,
          2,
          2,
          2,
          2,
          2,
          2,
          2,
          2,
          2,
          2,
          2,
          2,
          2,
          2,
          2,
          2,
          2,
          2,
          2,
          2,
          2,
          2,
          2,
          2,
          2,
          2,
          2,
          2,
          2,
          2,
          2,
          2,
          2,
          2,
          2,
          2,
          2,
          2,
          3,
          3,
          3,
          3,
          3,
          3,
          3,
          3,
          3,
          3,
          3,
          3,
          3,
          3,
          3,
          3,
          3,
          3,
          3,
          3,
          3,
          3,
          3,
          3,
          3,
          4,
          4,
          4,
          4,
          4,
          4,
          4,
          4,
          4,
          4,
          4,
          4,
          4,
          4,
          4,
          4,
          4,
          4,
          4,
          4,
          4,
          4,
          4,
          4,
          4,
          4,
          4,
          4,
          4,
          4,
          4,
          4,
          4,
          4,
          4,
          4,
          4,
          4,
          4,
          4,
          4,
          4,
          4,
          4,
          4,
          4,
          4,
          4,
          4,
          4,
          4,
          4,
          4,
          4,
          4,
          4,
          4,
          4,
          4,
          4,
          4,
          4,
          4,
          4,
          4,
          4,
          4,
          4,
          4,
          4,
          4,
          4,
          4,
          4,
          4,
          4,
          4,
          4,
          4,
          4,
          4,
          4,
          4,
          4,
          4,
          4,
          4,
          4,
          4,
          4,
          4,
          4,
          4,
          4,
          4,
          4,
          4,
          4,
          4,
          4,
          4,
          4,
          4,
          4,
          4,
          4,
          4,
          4,
          4,
          5,
          5,
          5,
          5,
          5,
          5,
          5,
          5,
          5,
          5,
          5,
          5,
          5,
          5,
          5,
          5,
          5,
          5,
          5,
          5,
          5
         ],
         "xaxis": "x",
         "y": [
          -61.8500851757188,
          -61.8500851757188,
          -61.8500851757188,
          -61.8500851757188,
          -61.8500851757188,
          -61.8500851757188,
          -61.8500851757188,
          -61.8500851757188,
          -61.8500851757188,
          -61.8500851757188,
          -61.8500851757188,
          -61.8500851757188,
          -61.8500851757188,
          -61.8500851757188,
          -61.8500851757188,
          -61.8500851757188,
          -61.8500851757188,
          -61.8500851757188,
          -61.8500851757188,
          -61.8500851757188,
          -61.8500851757188,
          -61.8500851757188,
          -61.8500851757188,
          -61.8500851757188,
          -61.8500851757188,
          -61.8500851757188,
          -61.8500851757188,
          -61.8500851757188,
          -61.8500851757188,
          -61.8500851757188,
          -61.8500851757188,
          -61.8500851757188,
          -61.8500851757188,
          -61.8500851757188,
          -61.8500851757188,
          -61.8500851757188,
          -61.8500851757188,
          -61.8500851757188,
          -61.8500851757188,
          -61.8500851757188,
          -61.8500851757188,
          -61.8500851757188,
          -61.8500851757188,
          -61.8500851757188,
          -61.8500851757188,
          -61.8500851757188,
          -61.8500851757188,
          -61.8500851757188,
          -61.8500851757188,
          -61.8500851757188,
          -61.8500851757188,
          -61.8500851757188,
          -61.8500851757188,
          -61.8500851757188,
          -61.8500851757188,
          -61.8500851757188,
          -61.8500851757188,
          -61.8500851757188,
          -61.8500851757188,
          -61.8500851757188,
          -61.8500851757188,
          -61.8500851757188,
          -61.8500851757188,
          -61.8500851757188,
          -61.8500851757188,
          -61.8500851757188,
          -61.8500851757188,
          -61.8500851757188,
          -61.8500851757188,
          -61.8500851757188,
          -61.8500851757188,
          -61.8500851757188,
          -61.8500851757188,
          -61.8500851757188,
          -61.8500851757188,
          -61.8500851757188,
          -61.8500851757188,
          -61.8500851757188,
          -61.8500851757188,
          -61.8500851757188,
          -61.8500851757188,
          -61.8500851757188,
          -61.8500851757188,
          -61.8500851757188,
          -61.8500851757188,
          -61.8500851757188,
          -63.00031533912227,
          -63.00031533912227,
          -63.00031533912227,
          -63.00031533912227,
          -63.00031533912227,
          -63.00031533912227,
          -63.00031533912227,
          -63.00031533912227,
          -63.00031533912227,
          -63.00031533912227,
          -63.00031533912227,
          -63.00031533912227,
          -63.00031533912227,
          -63.00031533912227,
          -63.00031533912227,
          -63.00031533912227,
          -63.00031533912227,
          -63.00031533912227,
          -63.00031533912227,
          -63.00031533912227,
          -63.00031533912227,
          -63.00031533912227,
          -63.00031533912227,
          -63.00031533912227,
          -63.00031533912227,
          -63.00031533912227,
          -63.00031533912227,
          -63.00031533912227,
          -63.00031533912227,
          -63.00031533912227,
          -63.00031533912227,
          -63.00031533912227,
          -63.00031533912227,
          -63.00031533912227,
          -63.00031533912227,
          -63.00031533912227,
          -63.00031533912227,
          -63.00031533912227,
          -63.00031533912227,
          -63.00031533912227,
          -63.00031533912227,
          -63.00031533912227,
          -63.00031533912227,
          -63.00031533912227,
          -63.00031533912227,
          -63.00031533912227,
          -63.00031533912227,
          -63.00031533912227,
          -63.00031533912227,
          -63.00031533912227,
          -63.00031533912227,
          -63.00031533912227,
          -63.00031533912227,
          -63.00031533912227,
          -63.00031533912227,
          -63.00031533912227,
          -63.00031533912227,
          -63.00031533912227,
          -63.00031533912227,
          -63.00031533912227,
          -63.00031533912227,
          -63.00031533912227,
          -63.00031533912227,
          -63.00031533912227,
          -63.00031533912227,
          -63.00031533912227,
          -63.00031533912227,
          -63.00031533912227,
          -63.00031533912227,
          -63.00031533912227,
          -63.00031533912227,
          -63.00031533912227,
          -63.00031533912227,
          -63.00031533912227,
          -63.00031533912227,
          -63.00031533912227,
          -63.00031533912227,
          -63.00031533912227,
          -63.00031533912227,
          -63.00031533912227,
          -63.00031533912227,
          -63.00031533912227,
          -63.00031533912227,
          -63.00031533912227,
          -63.00031533912227,
          -63.00031533912227,
          -63.00031533912227,
          -63.00031533912227,
          -63.00031533912227,
          -63.00031533912227,
          -63.00031533912227,
          -63.00031533912227,
          -63.00031533912227,
          -63.00031533912227,
          -63.00031533912227,
          -63.00031533912227,
          -63.00031533912227,
          -63.00031533912227,
          -63.00031533912227,
          -63.00031533912227,
          -63.00031533912227,
          -63.00031533912227,
          -63.00031533912227,
          -63.00031533912227,
          -63.00031533912227,
          -63.00031533912227,
          -63.00031533912227,
          -63.00031533912227,
          -63.00031533912227,
          -63.00031533912227,
          -63.00031533912227,
          -63.00031533912227,
          -63.00031533912227,
          -63.00031533912227,
          -63.00031533912227,
          -63.00031533912227,
          -63.00031533912227,
          -63.00031533912227,
          -63.00031533912227,
          -63.00031533912227,
          -63.00031533912227,
          -63.00031533912227,
          -63.00031533912227,
          -63.00031533912227,
          -63.00031533912227,
          -63.00031533912227,
          -63.00031533912227,
          -63.00031533912227,
          -63.00031533912227,
          -63.00031533912227,
          -63.00031533912227,
          -63.00031533912227,
          -63.00031533912227,
          -63.00031533912227,
          -63.00031533912227,
          -63.00031533912227,
          -63.00031533912227,
          -64.15054550252574,
          -64.15054550252574,
          -64.15054550252574,
          -64.15054550252574,
          -64.15054550252574,
          -64.15054550252574,
          -64.15054550252574,
          -64.15054550252574,
          -64.15054550252574,
          -64.15054550252574,
          -64.15054550252574,
          -64.15054550252574,
          -64.15054550252574,
          -64.15054550252574,
          -64.15054550252574,
          -64.15054550252574,
          -64.15054550252574,
          -64.15054550252574,
          -64.15054550252574,
          -64.15054550252574,
          -64.15054550252574,
          -64.15054550252574,
          -64.15054550252574,
          -64.15054550252574,
          -64.15054550252574,
          -65.30077566592921,
          -65.30077566592921,
          -65.30077566592921,
          -65.30077566592921,
          -65.30077566592921,
          -65.30077566592921,
          -65.30077566592921,
          -65.30077566592921,
          -65.30077566592921,
          -65.30077566592921,
          -65.30077566592921,
          -65.30077566592921,
          -65.30077566592921,
          -65.30077566592921,
          -65.30077566592921,
          -65.30077566592921,
          -65.30077566592921,
          -65.30077566592921,
          -65.30077566592921,
          -65.30077566592921,
          -65.30077566592921,
          -65.30077566592921,
          -65.30077566592921,
          -65.30077566592921,
          -65.30077566592921,
          -65.30077566592921,
          -65.30077566592921,
          -65.30077566592921,
          -65.30077566592921,
          -65.30077566592921,
          -65.30077566592921,
          -65.30077566592921,
          -65.30077566592921,
          -65.30077566592921,
          -65.30077566592921,
          -65.30077566592921,
          -65.30077566592921,
          -65.30077566592921,
          -65.30077566592921,
          -65.30077566592921,
          -65.30077566592921,
          -65.30077566592921,
          -65.30077566592921,
          -65.30077566592921,
          -65.30077566592921,
          -65.30077566592921,
          -65.30077566592921,
          -65.30077566592921,
          -65.30077566592921,
          -65.30077566592921,
          -65.30077566592921,
          -65.30077566592921,
          -65.30077566592921,
          -65.30077566592921,
          -65.30077566592921,
          -65.30077566592921,
          -65.30077566592921,
          -65.30077566592921,
          -65.30077566592921,
          -65.30077566592921,
          -65.30077566592921,
          -65.30077566592921,
          -65.30077566592921,
          -65.30077566592921,
          -65.30077566592921,
          -65.30077566592921,
          -65.30077566592921,
          -65.30077566592921,
          -65.30077566592921,
          -65.30077566592921,
          -65.30077566592921,
          -65.30077566592921,
          -65.30077566592921,
          -65.30077566592921,
          -65.30077566592921,
          -65.30077566592921,
          -65.30077566592921,
          -65.30077566592921,
          -65.30077566592921,
          -65.30077566592921,
          -65.30077566592921,
          -65.30077566592921,
          -65.30077566592921,
          -65.30077566592921,
          -65.30077566592921,
          -65.30077566592921,
          -65.30077566592921,
          -65.30077566592921,
          -65.30077566592921,
          -65.30077566592921,
          -65.30077566592921,
          -65.30077566592921,
          -65.30077566592921,
          -65.30077566592921,
          -65.30077566592921,
          -65.30077566592921,
          -65.30077566592921,
          -65.30077566592921,
          -65.30077566592921,
          -65.30077566592921,
          -65.30077566592921,
          -65.30077566592921,
          -65.30077566592921,
          -65.30077566592921,
          -65.30077566592921,
          -65.30077566592921,
          -65.30077566592921,
          -65.30077566592921,
          -65.30077566592921,
          -66.45100582933267,
          -66.45100582933267,
          -66.45100582933267,
          -66.45100582933267,
          -66.45100582933267,
          -66.45100582933267,
          -66.45100582933267,
          -66.45100582933267,
          -66.45100582933267,
          -66.45100582933267,
          -66.45100582933267,
          -66.45100582933267,
          -66.45100582933267,
          -66.45100582933267,
          -66.45100582933267,
          -66.45100582933267,
          -66.45100582933267,
          -66.45100582933267,
          -66.45100582933267,
          -66.45100582933267,
          -66.45100582933267
         ],
         "yaxis": "y"
        }
       ],
       "layout": {
        "font": {
         "family": "Lato, sans-serif",
         "size": 14
        },
        "height": 768,
        "hoverlabel": {
         "font": {
          "family": "Lato, sans-serif",
          "size": 13
         }
        },
        "hovermode": "y unified",
        "legend": {
         "orientation": "h",
         "x": 0.5,
         "xanchor": "center",
         "y": 1,
         "yanchor": "bottom"
        },
        "margin": {
         "b": 0,
         "l": 70,
         "r": 40,
         "t": 20
        },
        "paper_bgcolor": "rgba(0,0,0,0)",
        "plot_bgcolor": "rgba(0,0,0,0)",
        "template": {
         "data": {
          "bar": [
           {
            "error_x": {
             "color": "rgb(36,36,36)"
            },
            "error_y": {
             "color": "rgb(36,36,36)"
            },
            "marker": {
             "line": {
              "color": "white",
              "width": 0.5
             },
             "pattern": {
              "fillmode": "overlay",
              "size": 10,
              "solidity": 0.2
             }
            },
            "type": "bar"
           }
          ],
          "barpolar": [
           {
            "marker": {
             "line": {
              "color": "white",
              "width": 0.5
             },
             "pattern": {
              "fillmode": "overlay",
              "size": 10,
              "solidity": 0.2
             }
            },
            "type": "barpolar"
           }
          ],
          "carpet": [
           {
            "aaxis": {
             "endlinecolor": "rgb(36,36,36)",
             "gridcolor": "white",
             "linecolor": "white",
             "minorgridcolor": "white",
             "startlinecolor": "rgb(36,36,36)"
            },
            "baxis": {
             "endlinecolor": "rgb(36,36,36)",
             "gridcolor": "white",
             "linecolor": "white",
             "minorgridcolor": "white",
             "startlinecolor": "rgb(36,36,36)"
            },
            "type": "carpet"
           }
          ],
          "choropleth": [
           {
            "colorbar": {
             "outlinewidth": 1,
             "tickcolor": "rgb(36,36,36)",
             "ticks": "outside"
            },
            "type": "choropleth"
           }
          ],
          "contour": [
           {
            "colorbar": {
             "outlinewidth": 1,
             "tickcolor": "rgb(36,36,36)",
             "ticks": "outside"
            },
            "colorscale": [
             [
              0,
              "#440154"
             ],
             [
              0.1111111111111111,
              "#482878"
             ],
             [
              0.2222222222222222,
              "#3e4989"
             ],
             [
              0.3333333333333333,
              "#31688e"
             ],
             [
              0.4444444444444444,
              "#26828e"
             ],
             [
              0.5555555555555556,
              "#1f9e89"
             ],
             [
              0.6666666666666666,
              "#35b779"
             ],
             [
              0.7777777777777778,
              "#6ece58"
             ],
             [
              0.8888888888888888,
              "#b5de2b"
             ],
             [
              1,
              "#fde725"
             ]
            ],
            "type": "contour"
           }
          ],
          "contourcarpet": [
           {
            "colorbar": {
             "outlinewidth": 1,
             "tickcolor": "rgb(36,36,36)",
             "ticks": "outside"
            },
            "type": "contourcarpet"
           }
          ],
          "heatmap": [
           {
            "colorbar": {
             "outlinewidth": 1,
             "tickcolor": "rgb(36,36,36)",
             "ticks": "outside"
            },
            "colorscale": [
             [
              0,
              "#440154"
             ],
             [
              0.1111111111111111,
              "#482878"
             ],
             [
              0.2222222222222222,
              "#3e4989"
             ],
             [
              0.3333333333333333,
              "#31688e"
             ],
             [
              0.4444444444444444,
              "#26828e"
             ],
             [
              0.5555555555555556,
              "#1f9e89"
             ],
             [
              0.6666666666666666,
              "#35b779"
             ],
             [
              0.7777777777777778,
              "#6ece58"
             ],
             [
              0.8888888888888888,
              "#b5de2b"
             ],
             [
              1,
              "#fde725"
             ]
            ],
            "type": "heatmap"
           }
          ],
          "heatmapgl": [
           {
            "colorbar": {
             "outlinewidth": 1,
             "tickcolor": "rgb(36,36,36)",
             "ticks": "outside"
            },
            "colorscale": [
             [
              0,
              "#440154"
             ],
             [
              0.1111111111111111,
              "#482878"
             ],
             [
              0.2222222222222222,
              "#3e4989"
             ],
             [
              0.3333333333333333,
              "#31688e"
             ],
             [
              0.4444444444444444,
              "#26828e"
             ],
             [
              0.5555555555555556,
              "#1f9e89"
             ],
             [
              0.6666666666666666,
              "#35b779"
             ],
             [
              0.7777777777777778,
              "#6ece58"
             ],
             [
              0.8888888888888888,
              "#b5de2b"
             ],
             [
              1,
              "#fde725"
             ]
            ],
            "type": "heatmapgl"
           }
          ],
          "histogram": [
           {
            "marker": {
             "line": {
              "color": "white",
              "width": 0.6
             }
            },
            "type": "histogram"
           }
          ],
          "histogram2d": [
           {
            "colorbar": {
             "outlinewidth": 1,
             "tickcolor": "rgb(36,36,36)",
             "ticks": "outside"
            },
            "colorscale": [
             [
              0,
              "#440154"
             ],
             [
              0.1111111111111111,
              "#482878"
             ],
             [
              0.2222222222222222,
              "#3e4989"
             ],
             [
              0.3333333333333333,
              "#31688e"
             ],
             [
              0.4444444444444444,
              "#26828e"
             ],
             [
              0.5555555555555556,
              "#1f9e89"
             ],
             [
              0.6666666666666666,
              "#35b779"
             ],
             [
              0.7777777777777778,
              "#6ece58"
             ],
             [
              0.8888888888888888,
              "#b5de2b"
             ],
             [
              1,
              "#fde725"
             ]
            ],
            "type": "histogram2d"
           }
          ],
          "histogram2dcontour": [
           {
            "colorbar": {
             "outlinewidth": 1,
             "tickcolor": "rgb(36,36,36)",
             "ticks": "outside"
            },
            "colorscale": [
             [
              0,
              "#440154"
             ],
             [
              0.1111111111111111,
              "#482878"
             ],
             [
              0.2222222222222222,
              "#3e4989"
             ],
             [
              0.3333333333333333,
              "#31688e"
             ],
             [
              0.4444444444444444,
              "#26828e"
             ],
             [
              0.5555555555555556,
              "#1f9e89"
             ],
             [
              0.6666666666666666,
              "#35b779"
             ],
             [
              0.7777777777777778,
              "#6ece58"
             ],
             [
              0.8888888888888888,
              "#b5de2b"
             ],
             [
              1,
              "#fde725"
             ]
            ],
            "type": "histogram2dcontour"
           }
          ],
          "mesh3d": [
           {
            "colorbar": {
             "outlinewidth": 1,
             "tickcolor": "rgb(36,36,36)",
             "ticks": "outside"
            },
            "type": "mesh3d"
           }
          ],
          "parcoords": [
           {
            "line": {
             "colorbar": {
              "outlinewidth": 1,
              "tickcolor": "rgb(36,36,36)",
              "ticks": "outside"
             }
            },
            "type": "parcoords"
           }
          ],
          "pie": [
           {
            "automargin": true,
            "type": "pie"
           }
          ],
          "scatter": [
           {
            "fillpattern": {
             "fillmode": "overlay",
             "size": 10,
             "solidity": 0.2
            },
            "type": "scatter"
           }
          ],
          "scatter3d": [
           {
            "line": {
             "colorbar": {
              "outlinewidth": 1,
              "tickcolor": "rgb(36,36,36)",
              "ticks": "outside"
             }
            },
            "marker": {
             "colorbar": {
              "outlinewidth": 1,
              "tickcolor": "rgb(36,36,36)",
              "ticks": "outside"
             }
            },
            "type": "scatter3d"
           }
          ],
          "scattercarpet": [
           {
            "marker": {
             "colorbar": {
              "outlinewidth": 1,
              "tickcolor": "rgb(36,36,36)",
              "ticks": "outside"
             }
            },
            "type": "scattercarpet"
           }
          ],
          "scattergeo": [
           {
            "marker": {
             "colorbar": {
              "outlinewidth": 1,
              "tickcolor": "rgb(36,36,36)",
              "ticks": "outside"
             }
            },
            "type": "scattergeo"
           }
          ],
          "scattergl": [
           {
            "marker": {
             "colorbar": {
              "outlinewidth": 1,
              "tickcolor": "rgb(36,36,36)",
              "ticks": "outside"
             }
            },
            "type": "scattergl"
           }
          ],
          "scattermapbox": [
           {
            "marker": {
             "colorbar": {
              "outlinewidth": 1,
              "tickcolor": "rgb(36,36,36)",
              "ticks": "outside"
             }
            },
            "type": "scattermapbox"
           }
          ],
          "scatterpolar": [
           {
            "marker": {
             "colorbar": {
              "outlinewidth": 1,
              "tickcolor": "rgb(36,36,36)",
              "ticks": "outside"
             }
            },
            "type": "scatterpolar"
           }
          ],
          "scatterpolargl": [
           {
            "marker": {
             "colorbar": {
              "outlinewidth": 1,
              "tickcolor": "rgb(36,36,36)",
              "ticks": "outside"
             }
            },
            "type": "scatterpolargl"
           }
          ],
          "scatterternary": [
           {
            "marker": {
             "colorbar": {
              "outlinewidth": 1,
              "tickcolor": "rgb(36,36,36)",
              "ticks": "outside"
             }
            },
            "type": "scatterternary"
           }
          ],
          "surface": [
           {
            "colorbar": {
             "outlinewidth": 1,
             "tickcolor": "rgb(36,36,36)",
             "ticks": "outside"
            },
            "colorscale": [
             [
              0,
              "#440154"
             ],
             [
              0.1111111111111111,
              "#482878"
             ],
             [
              0.2222222222222222,
              "#3e4989"
             ],
             [
              0.3333333333333333,
              "#31688e"
             ],
             [
              0.4444444444444444,
              "#26828e"
             ],
             [
              0.5555555555555556,
              "#1f9e89"
             ],
             [
              0.6666666666666666,
              "#35b779"
             ],
             [
              0.7777777777777778,
              "#6ece58"
             ],
             [
              0.8888888888888888,
              "#b5de2b"
             ],
             [
              1,
              "#fde725"
             ]
            ],
            "type": "surface"
           }
          ],
          "table": [
           {
            "cells": {
             "fill": {
              "color": "rgb(237,237,237)"
             },
             "line": {
              "color": "white"
             }
            },
            "header": {
             "fill": {
              "color": "rgb(217,217,217)"
             },
             "line": {
              "color": "white"
             }
            },
            "type": "table"
           }
          ]
         },
         "layout": {
          "annotationdefaults": {
           "arrowhead": 0,
           "arrowwidth": 1
          },
          "autotypenumbers": "strict",
          "coloraxis": {
           "colorbar": {
            "outlinewidth": 1,
            "tickcolor": "rgb(36,36,36)",
            "ticks": "outside"
           }
          },
          "colorscale": {
           "diverging": [
            [
             0,
             "rgb(103,0,31)"
            ],
            [
             0.1,
             "rgb(178,24,43)"
            ],
            [
             0.2,
             "rgb(214,96,77)"
            ],
            [
             0.3,
             "rgb(244,165,130)"
            ],
            [
             0.4,
             "rgb(253,219,199)"
            ],
            [
             0.5,
             "rgb(247,247,247)"
            ],
            [
             0.6,
             "rgb(209,229,240)"
            ],
            [
             0.7,
             "rgb(146,197,222)"
            ],
            [
             0.8,
             "rgb(67,147,195)"
            ],
            [
             0.9,
             "rgb(33,102,172)"
            ],
            [
             1,
             "rgb(5,48,97)"
            ]
           ],
           "sequential": [
            [
             0,
             "#440154"
            ],
            [
             0.1111111111111111,
             "#482878"
            ],
            [
             0.2222222222222222,
             "#3e4989"
            ],
            [
             0.3333333333333333,
             "#31688e"
            ],
            [
             0.4444444444444444,
             "#26828e"
            ],
            [
             0.5555555555555556,
             "#1f9e89"
            ],
            [
             0.6666666666666666,
             "#35b779"
            ],
            [
             0.7777777777777778,
             "#6ece58"
            ],
            [
             0.8888888888888888,
             "#b5de2b"
            ],
            [
             1,
             "#fde725"
            ]
           ],
           "sequentialminus": [
            [
             0,
             "#440154"
            ],
            [
             0.1111111111111111,
             "#482878"
            ],
            [
             0.2222222222222222,
             "#3e4989"
            ],
            [
             0.3333333333333333,
             "#31688e"
            ],
            [
             0.4444444444444444,
             "#26828e"
            ],
            [
             0.5555555555555556,
             "#1f9e89"
            ],
            [
             0.6666666666666666,
             "#35b779"
            ],
            [
             0.7777777777777778,
             "#6ece58"
            ],
            [
             0.8888888888888888,
             "#b5de2b"
            ],
            [
             1,
             "#fde725"
            ]
           ]
          },
          "colorway": [
           "#1F77B4",
           "#FF7F0E",
           "#2CA02C",
           "#D62728",
           "#9467BD",
           "#8C564B",
           "#E377C2",
           "#7F7F7F",
           "#BCBD22",
           "#17BECF"
          ],
          "font": {
           "color": "rgb(36,36,36)"
          },
          "geo": {
           "bgcolor": "white",
           "lakecolor": "white",
           "landcolor": "white",
           "showlakes": true,
           "showland": true,
           "subunitcolor": "white"
          },
          "hoverlabel": {
           "align": "left"
          },
          "hovermode": "closest",
          "mapbox": {
           "style": "light"
          },
          "paper_bgcolor": "white",
          "plot_bgcolor": "white",
          "polar": {
           "angularaxis": {
            "gridcolor": "rgb(232,232,232)",
            "linecolor": "rgb(36,36,36)",
            "showgrid": false,
            "showline": true,
            "ticks": "outside"
           },
           "bgcolor": "white",
           "radialaxis": {
            "gridcolor": "rgb(232,232,232)",
            "linecolor": "rgb(36,36,36)",
            "showgrid": false,
            "showline": true,
            "ticks": "outside"
           }
          },
          "scene": {
           "xaxis": {
            "backgroundcolor": "white",
            "gridcolor": "rgb(232,232,232)",
            "gridwidth": 2,
            "linecolor": "rgb(36,36,36)",
            "showbackground": true,
            "showgrid": false,
            "showline": true,
            "ticks": "outside",
            "zeroline": false,
            "zerolinecolor": "rgb(36,36,36)"
           },
           "yaxis": {
            "backgroundcolor": "white",
            "gridcolor": "rgb(232,232,232)",
            "gridwidth": 2,
            "linecolor": "rgb(36,36,36)",
            "showbackground": true,
            "showgrid": false,
            "showline": true,
            "ticks": "outside",
            "zeroline": false,
            "zerolinecolor": "rgb(36,36,36)"
           },
           "zaxis": {
            "backgroundcolor": "white",
            "gridcolor": "rgb(232,232,232)",
            "gridwidth": 2,
            "linecolor": "rgb(36,36,36)",
            "showbackground": true,
            "showgrid": false,
            "showline": true,
            "ticks": "outside",
            "zeroline": false,
            "zerolinecolor": "rgb(36,36,36)"
           }
          },
          "shapedefaults": {
           "fillcolor": "black",
           "line": {
            "width": 0
           },
           "opacity": 0.3
          },
          "ternary": {
           "aaxis": {
            "gridcolor": "rgb(232,232,232)",
            "linecolor": "rgb(36,36,36)",
            "showgrid": false,
            "showline": true,
            "ticks": "outside"
           },
           "baxis": {
            "gridcolor": "rgb(232,232,232)",
            "linecolor": "rgb(36,36,36)",
            "showgrid": false,
            "showline": true,
            "ticks": "outside"
           },
           "bgcolor": "white",
           "caxis": {
            "gridcolor": "rgb(232,232,232)",
            "linecolor": "rgb(36,36,36)",
            "showgrid": false,
            "showline": true,
            "ticks": "outside"
           }
          },
          "title": {
           "x": 0.05
          },
          "xaxis": {
           "automargin": true,
           "gridcolor": "rgb(232,232,232)",
           "linecolor": "rgb(36,36,36)",
           "showgrid": false,
           "showline": true,
           "ticks": "outside",
           "title": {
            "standoff": 15
           },
           "zeroline": false,
           "zerolinecolor": "rgb(36,36,36)"
          },
          "yaxis": {
           "automargin": true,
           "gridcolor": "rgb(232,232,232)",
           "linecolor": "rgb(36,36,36)",
           "showgrid": false,
           "showline": true,
           "ticks": "outside",
           "title": {
            "standoff": 15
           },
           "zeroline": false,
           "zerolinecolor": "rgb(36,36,36)"
          }
         }
        },
        "width": 1024,
        "xaxis": {
         "dtick": 1,
         "title": {
          "text": "Safety"
         }
        },
        "yaxis": {
         "ticksuffix": "°",
         "title": {
          "text": "Left Angles"
         }
        }
       }
      }
     },
     "metadata": {},
     "output_type": "display_data"
    },
    {
     "data": {
      "application/vnd.plotly.v1+json": {
       "config": {
        "plotlyServerURL": "https://plot.ly"
       },
       "data": [
        {
         "marker": {
          "color": "#000000"
         },
         "mode": "markers",
         "name": "Safety X Left Angles",
         "showlegend": false,
         "type": "scatter",
         "x": [
          4,
          4,
          4,
          4,
          4,
          4,
          4,
          4,
          4,
          3,
          3,
          3,
          3,
          3,
          5,
          5,
          5,
          5,
          5,
          5,
          5,
          5,
          5,
          5,
          4,
          4,
          4,
          4,
          4,
          4,
          4,
          1,
          1,
          1,
          1,
          1,
          1,
          1,
          1,
          1,
          1,
          1,
          1,
          1,
          1,
          1,
          1,
          1,
          1,
          1,
          1,
          1,
          2,
          2,
          2,
          2,
          2,
          2,
          2,
          2,
          4,
          4,
          4,
          4,
          4,
          4,
          4,
          4,
          4,
          4,
          4,
          4,
          4,
          4,
          4,
          1,
          1,
          1,
          1,
          1,
          2,
          2,
          2,
          2,
          2,
          2,
          2,
          2,
          4,
          4,
          2,
          2,
          2,
          2,
          2,
          2,
          2,
          2,
          2,
          2,
          2,
          2,
          2,
          2,
          2,
          2,
          2,
          2,
          2,
          2,
          2,
          2,
          2,
          2,
          2,
          2,
          2,
          4,
          1,
          1,
          1,
          1,
          1,
          1,
          1,
          1,
          1,
          1,
          1,
          1,
          2,
          4,
          4,
          4,
          2,
          2,
          2,
          2,
          2,
          2,
          2,
          2,
          2,
          2,
          2,
          2,
          2,
          2,
          2,
          2,
          2,
          2,
          2,
          2,
          2,
          2,
          2,
          2,
          2,
          2,
          2,
          2,
          2,
          2,
          2,
          5,
          5,
          5,
          4,
          4,
          4,
          4,
          4,
          4,
          2,
          2,
          2,
          2,
          2,
          2,
          2,
          4,
          4,
          3,
          3,
          1,
          1,
          1,
          1,
          1,
          1,
          1,
          4,
          4,
          4,
          4
         ],
         "y": [
          88.1945571899414,
          50.72557830810547,
          21.811939239501953,
          29.905359268188477,
          41.25062942504883,
          25.159080505371094,
          30.86277961730957,
          26.440059661865234,
          50.551979064941406,
          41.024749755859375,
          33.857421875,
          36.067901611328125,
          25.85988998413086,
          60.513648986816406,
          36.53163146972656,
          89.66351318359375,
          30.77256965637207,
          21.977020263671875,
          29.72987937927246,
          52.966670989990234,
          63.472591400146484,
          49.09408950805664,
          22.875389099121094,
          60.31142044067383,
          75.30724334716797,
          21.558029174804688,
          25.27928924560547,
          22.070110321044922,
          49.338130950927734,
          35.9788703918457,
          28.081199645996094,
          21.83371925354004,
          20.056320190429688,
          37.096839904785156,
          21.663089752197266,
          20.6629695892334,
          21.78413963317871,
          41.566471099853516,
          41.346378326416016,
          51.2636604309082,
          24.47719955444336,
          27.1146297454834,
          20.08378028869629,
          32.195350646972656,
          24.90196990966797,
          47.493019104003906,
          36.511131286621094,
          50.96208953857422,
          65.21227264404297,
          40.5561408996582,
          36.13201141357422,
          36.78647994995117,
          33.552310943603516,
          29.98465919494629,
          23.690160751342773,
          23.406009674072266,
          22.472089767456055,
          24.697099685668945,
          116.66699981689453,
          28.888029098510742,
          23.93140983581543,
          45.84912872314453,
          45.10898971557617,
          43.02061080932617,
          20.47355079650879,
          20.23674964904785,
          20.011959075927734,
          23.422470092773438,
          22.137540817260742,
          29.010379791259766,
          29.77819061279297,
          40.212711334228516,
          35.85363006591797,
          64.5902328491211,
          98.35209655761719,
          25.221860885620117,
          21.988370895385742,
          23.63187026977539,
          44.51539993286133,
          64.25872802734375,
          41.480770111083984,
          45.12030029296875,
          30.52526092529297,
          29.851110458374023,
          29.32048988342285,
          36.534610748291016,
          38.7135009765625,
          29.26412010192871,
          25.839309692382812,
          20.51099967956543,
          64.88255310058594,
          65.22132873535156,
          32.456199645996094,
          23.33534049987793,
          33.781009674072266,
          33.96120071411133,
          27.764469146728516,
          27.378719329833984,
          42.51914978027344,
          93.65608215332031,
          53.30543899536133,
          31.244930267333984,
          34.506160736083984,
          36.96937942504883,
          21.94478988647461,
          45.121341705322266,
          33.98067855834961,
          50.69255065917969,
          77.67333984375,
          44.36307907104492,
          38.9935417175293,
          30.301029205322266,
          52.9716911315918,
          33.15237045288086,
          21.77819061279297,
          56.868228912353516,
          97.52510070800781,
          39.71184158325195,
          23.050540924072266,
          54.52363967895508,
          42.243839263916016,
          35.0937385559082,
          38.25600814819336,
          24.744850158691406,
          51.111610412597656,
          66.10653686523438,
          67.77543640136719,
          63.53036880493164,
          24.88939094543457,
          83.0567398071289,
          21.988330841064453,
          23.920970916748047,
          21.18044090270996,
          27.84576988220215,
          25.81460952758789,
          26.05146026611328,
          23.959320068359375,
          25.26226043701172,
          42.47114181518555,
          69.38472747802734,
          20.736440658569336,
          47.140769958496094,
          31.424449920654297,
          20.581499099731445,
          20.37894058227539,
          25.932859420776367,
          43.710960388183594,
          70.0653305053711,
          61.1662712097168,
          27.81270980834961,
          27.734130859375,
          46.66849899291992,
          39.46187973022461,
          32.882259368896484,
          40.39934158325195,
          58.68014144897461,
          64.8039779663086,
          65.66362762451172,
          45.415931701660156,
          61.0583381652832,
          42.24068069458008,
          35.17232131958008,
          56.05961990356445,
          33.23413848876953,
          23.65258026123047,
          26.052600860595703,
          22.762739181518555,
          20.82625961303711,
          20.06859016418457,
          20.415449142456055,
          25.025699615478516,
          24.585140228271484,
          32.556339263916016,
          20.86294937133789,
          24.590919494628906,
          38.13206100463867,
          60.01482009887695,
          20.296279907226562,
          20.07015037536621,
          24.579479217529297,
          60.18333053588867,
          23.893970489501953,
          24.677690505981445,
          24.080860137939453,
          32.75545883178711,
          26.547870635986328,
          22.355379104614258,
          35.75440979003906,
          42.62133026123047,
          49.30535125732422,
          59.532081604003906,
          53.21710968017578,
          52.662899017333984,
          26.90212059020996,
          46.869930267333984,
          40.63090896606445
         ]
        },
        {
         "hovertemplate": "<b>OLS trendline</b><br>y = -1.08623 * x + 41.3042<br>R<sup>2</sup>=0.005948<br><br>x=%{x}<br>y=%{y} <b>(trend)</b><extra></extra>",
         "legendgroup": "",
         "marker": {
          "color": "#961C26",
          "symbol": "circle"
         },
         "mode": "lines",
         "name": "",
         "showlegend": false,
         "type": "scatter",
         "x": [
          1,
          1,
          1,
          1,
          1,
          1,
          1,
          1,
          1,
          1,
          1,
          1,
          1,
          1,
          1,
          1,
          1,
          1,
          1,
          1,
          1,
          1,
          1,
          1,
          1,
          1,
          1,
          1,
          1,
          1,
          1,
          1,
          1,
          1,
          1,
          1,
          1,
          1,
          1,
          1,
          1,
          1,
          1,
          1,
          1,
          2,
          2,
          2,
          2,
          2,
          2,
          2,
          2,
          2,
          2,
          2,
          2,
          2,
          2,
          2,
          2,
          2,
          2,
          2,
          2,
          2,
          2,
          2,
          2,
          2,
          2,
          2,
          2,
          2,
          2,
          2,
          2,
          2,
          2,
          2,
          2,
          2,
          2,
          2,
          2,
          2,
          2,
          2,
          2,
          2,
          2,
          2,
          2,
          2,
          2,
          2,
          2,
          2,
          2,
          2,
          2,
          2,
          2,
          2,
          2,
          2,
          2,
          2,
          2,
          2,
          2,
          2,
          2,
          2,
          2,
          2,
          2,
          2,
          2,
          2,
          2,
          2,
          2,
          2,
          2,
          2,
          2,
          3,
          3,
          3,
          3,
          3,
          3,
          3,
          4,
          4,
          4,
          4,
          4,
          4,
          4,
          4,
          4,
          4,
          4,
          4,
          4,
          4,
          4,
          4,
          4,
          4,
          4,
          4,
          4,
          4,
          4,
          4,
          4,
          4,
          4,
          4,
          4,
          4,
          4,
          4,
          4,
          4,
          4,
          4,
          4,
          4,
          4,
          4,
          4,
          4,
          4,
          4,
          4,
          4,
          4,
          4,
          4,
          5,
          5,
          5,
          5,
          5,
          5,
          5,
          5,
          5,
          5,
          5,
          5,
          5
         ],
         "xaxis": "x",
         "y": [
          40.217984346037504,
          40.217984346037504,
          40.217984346037504,
          40.217984346037504,
          40.217984346037504,
          40.217984346037504,
          40.217984346037504,
          40.217984346037504,
          40.217984346037504,
          40.217984346037504,
          40.217984346037504,
          40.217984346037504,
          40.217984346037504,
          40.217984346037504,
          40.217984346037504,
          40.217984346037504,
          40.217984346037504,
          40.217984346037504,
          40.217984346037504,
          40.217984346037504,
          40.217984346037504,
          40.217984346037504,
          40.217984346037504,
          40.217984346037504,
          40.217984346037504,
          40.217984346037504,
          40.217984346037504,
          40.217984346037504,
          40.217984346037504,
          40.217984346037504,
          40.217984346037504,
          40.217984346037504,
          40.217984346037504,
          40.217984346037504,
          40.217984346037504,
          40.217984346037504,
          40.217984346037504,
          40.217984346037504,
          40.217984346037504,
          40.217984346037504,
          40.217984346037504,
          40.217984346037504,
          40.217984346037504,
          40.217984346037504,
          40.217984346037504,
          39.13175049542388,
          39.13175049542388,
          39.13175049542388,
          39.13175049542388,
          39.13175049542388,
          39.13175049542388,
          39.13175049542388,
          39.13175049542388,
          39.13175049542388,
          39.13175049542388,
          39.13175049542388,
          39.13175049542388,
          39.13175049542388,
          39.13175049542388,
          39.13175049542388,
          39.13175049542388,
          39.13175049542388,
          39.13175049542388,
          39.13175049542388,
          39.13175049542388,
          39.13175049542388,
          39.13175049542388,
          39.13175049542388,
          39.13175049542388,
          39.13175049542388,
          39.13175049542388,
          39.13175049542388,
          39.13175049542388,
          39.13175049542388,
          39.13175049542388,
          39.13175049542388,
          39.13175049542388,
          39.13175049542388,
          39.13175049542388,
          39.13175049542388,
          39.13175049542388,
          39.13175049542388,
          39.13175049542388,
          39.13175049542388,
          39.13175049542388,
          39.13175049542388,
          39.13175049542388,
          39.13175049542388,
          39.13175049542388,
          39.13175049542388,
          39.13175049542388,
          39.13175049542388,
          39.13175049542388,
          39.13175049542388,
          39.13175049542388,
          39.13175049542388,
          39.13175049542388,
          39.13175049542388,
          39.13175049542388,
          39.13175049542388,
          39.13175049542388,
          39.13175049542388,
          39.13175049542388,
          39.13175049542388,
          39.13175049542388,
          39.13175049542388,
          39.13175049542388,
          39.13175049542388,
          39.13175049542388,
          39.13175049542388,
          39.13175049542388,
          39.13175049542388,
          39.13175049542388,
          39.13175049542388,
          39.13175049542388,
          39.13175049542388,
          39.13175049542388,
          39.13175049542388,
          39.13175049542388,
          39.13175049542388,
          39.13175049542388,
          39.13175049542388,
          39.13175049542388,
          39.13175049542388,
          39.13175049542388,
          39.13175049542388,
          39.13175049542388,
          38.04551664481026,
          38.04551664481026,
          38.04551664481026,
          38.04551664481026,
          38.04551664481026,
          38.04551664481026,
          38.04551664481026,
          36.959282794196646,
          36.959282794196646,
          36.959282794196646,
          36.959282794196646,
          36.959282794196646,
          36.959282794196646,
          36.959282794196646,
          36.959282794196646,
          36.959282794196646,
          36.959282794196646,
          36.959282794196646,
          36.959282794196646,
          36.959282794196646,
          36.959282794196646,
          36.959282794196646,
          36.959282794196646,
          36.959282794196646,
          36.959282794196646,
          36.959282794196646,
          36.959282794196646,
          36.959282794196646,
          36.959282794196646,
          36.959282794196646,
          36.959282794196646,
          36.959282794196646,
          36.959282794196646,
          36.959282794196646,
          36.959282794196646,
          36.959282794196646,
          36.959282794196646,
          36.959282794196646,
          36.959282794196646,
          36.959282794196646,
          36.959282794196646,
          36.959282794196646,
          36.959282794196646,
          36.959282794196646,
          36.959282794196646,
          36.959282794196646,
          36.959282794196646,
          36.959282794196646,
          36.959282794196646,
          36.959282794196646,
          36.959282794196646,
          36.959282794196646,
          36.959282794196646,
          36.959282794196646,
          36.959282794196646,
          36.959282794196646,
          35.87304894358302,
          35.87304894358302,
          35.87304894358302,
          35.87304894358302,
          35.87304894358302,
          35.87304894358302,
          35.87304894358302,
          35.87304894358302,
          35.87304894358302,
          35.87304894358302,
          35.87304894358302,
          35.87304894358302,
          35.87304894358302
         ],
         "yaxis": "y"
        }
       ],
       "layout": {
        "font": {
         "family": "Lato, sans-serif",
         "size": 14
        },
        "height": 768,
        "hoverlabel": {
         "font": {
          "family": "Lato, sans-serif",
          "size": 13
         }
        },
        "hovermode": "y unified",
        "legend": {
         "orientation": "h",
         "x": 0.5,
         "xanchor": "center",
         "y": 1,
         "yanchor": "bottom"
        },
        "margin": {
         "b": 0,
         "l": 70,
         "r": 40,
         "t": 20
        },
        "paper_bgcolor": "rgba(0,0,0,0)",
        "plot_bgcolor": "rgba(0,0,0,0)",
        "template": {
         "data": {
          "bar": [
           {
            "error_x": {
             "color": "rgb(36,36,36)"
            },
            "error_y": {
             "color": "rgb(36,36,36)"
            },
            "marker": {
             "line": {
              "color": "white",
              "width": 0.5
             },
             "pattern": {
              "fillmode": "overlay",
              "size": 10,
              "solidity": 0.2
             }
            },
            "type": "bar"
           }
          ],
          "barpolar": [
           {
            "marker": {
             "line": {
              "color": "white",
              "width": 0.5
             },
             "pattern": {
              "fillmode": "overlay",
              "size": 10,
              "solidity": 0.2
             }
            },
            "type": "barpolar"
           }
          ],
          "carpet": [
           {
            "aaxis": {
             "endlinecolor": "rgb(36,36,36)",
             "gridcolor": "white",
             "linecolor": "white",
             "minorgridcolor": "white",
             "startlinecolor": "rgb(36,36,36)"
            },
            "baxis": {
             "endlinecolor": "rgb(36,36,36)",
             "gridcolor": "white",
             "linecolor": "white",
             "minorgridcolor": "white",
             "startlinecolor": "rgb(36,36,36)"
            },
            "type": "carpet"
           }
          ],
          "choropleth": [
           {
            "colorbar": {
             "outlinewidth": 1,
             "tickcolor": "rgb(36,36,36)",
             "ticks": "outside"
            },
            "type": "choropleth"
           }
          ],
          "contour": [
           {
            "colorbar": {
             "outlinewidth": 1,
             "tickcolor": "rgb(36,36,36)",
             "ticks": "outside"
            },
            "colorscale": [
             [
              0,
              "#440154"
             ],
             [
              0.1111111111111111,
              "#482878"
             ],
             [
              0.2222222222222222,
              "#3e4989"
             ],
             [
              0.3333333333333333,
              "#31688e"
             ],
             [
              0.4444444444444444,
              "#26828e"
             ],
             [
              0.5555555555555556,
              "#1f9e89"
             ],
             [
              0.6666666666666666,
              "#35b779"
             ],
             [
              0.7777777777777778,
              "#6ece58"
             ],
             [
              0.8888888888888888,
              "#b5de2b"
             ],
             [
              1,
              "#fde725"
             ]
            ],
            "type": "contour"
           }
          ],
          "contourcarpet": [
           {
            "colorbar": {
             "outlinewidth": 1,
             "tickcolor": "rgb(36,36,36)",
             "ticks": "outside"
            },
            "type": "contourcarpet"
           }
          ],
          "heatmap": [
           {
            "colorbar": {
             "outlinewidth": 1,
             "tickcolor": "rgb(36,36,36)",
             "ticks": "outside"
            },
            "colorscale": [
             [
              0,
              "#440154"
             ],
             [
              0.1111111111111111,
              "#482878"
             ],
             [
              0.2222222222222222,
              "#3e4989"
             ],
             [
              0.3333333333333333,
              "#31688e"
             ],
             [
              0.4444444444444444,
              "#26828e"
             ],
             [
              0.5555555555555556,
              "#1f9e89"
             ],
             [
              0.6666666666666666,
              "#35b779"
             ],
             [
              0.7777777777777778,
              "#6ece58"
             ],
             [
              0.8888888888888888,
              "#b5de2b"
             ],
             [
              1,
              "#fde725"
             ]
            ],
            "type": "heatmap"
           }
          ],
          "heatmapgl": [
           {
            "colorbar": {
             "outlinewidth": 1,
             "tickcolor": "rgb(36,36,36)",
             "ticks": "outside"
            },
            "colorscale": [
             [
              0,
              "#440154"
             ],
             [
              0.1111111111111111,
              "#482878"
             ],
             [
              0.2222222222222222,
              "#3e4989"
             ],
             [
              0.3333333333333333,
              "#31688e"
             ],
             [
              0.4444444444444444,
              "#26828e"
             ],
             [
              0.5555555555555556,
              "#1f9e89"
             ],
             [
              0.6666666666666666,
              "#35b779"
             ],
             [
              0.7777777777777778,
              "#6ece58"
             ],
             [
              0.8888888888888888,
              "#b5de2b"
             ],
             [
              1,
              "#fde725"
             ]
            ],
            "type": "heatmapgl"
           }
          ],
          "histogram": [
           {
            "marker": {
             "line": {
              "color": "white",
              "width": 0.6
             }
            },
            "type": "histogram"
           }
          ],
          "histogram2d": [
           {
            "colorbar": {
             "outlinewidth": 1,
             "tickcolor": "rgb(36,36,36)",
             "ticks": "outside"
            },
            "colorscale": [
             [
              0,
              "#440154"
             ],
             [
              0.1111111111111111,
              "#482878"
             ],
             [
              0.2222222222222222,
              "#3e4989"
             ],
             [
              0.3333333333333333,
              "#31688e"
             ],
             [
              0.4444444444444444,
              "#26828e"
             ],
             [
              0.5555555555555556,
              "#1f9e89"
             ],
             [
              0.6666666666666666,
              "#35b779"
             ],
             [
              0.7777777777777778,
              "#6ece58"
             ],
             [
              0.8888888888888888,
              "#b5de2b"
             ],
             [
              1,
              "#fde725"
             ]
            ],
            "type": "histogram2d"
           }
          ],
          "histogram2dcontour": [
           {
            "colorbar": {
             "outlinewidth": 1,
             "tickcolor": "rgb(36,36,36)",
             "ticks": "outside"
            },
            "colorscale": [
             [
              0,
              "#440154"
             ],
             [
              0.1111111111111111,
              "#482878"
             ],
             [
              0.2222222222222222,
              "#3e4989"
             ],
             [
              0.3333333333333333,
              "#31688e"
             ],
             [
              0.4444444444444444,
              "#26828e"
             ],
             [
              0.5555555555555556,
              "#1f9e89"
             ],
             [
              0.6666666666666666,
              "#35b779"
             ],
             [
              0.7777777777777778,
              "#6ece58"
             ],
             [
              0.8888888888888888,
              "#b5de2b"
             ],
             [
              1,
              "#fde725"
             ]
            ],
            "type": "histogram2dcontour"
           }
          ],
          "mesh3d": [
           {
            "colorbar": {
             "outlinewidth": 1,
             "tickcolor": "rgb(36,36,36)",
             "ticks": "outside"
            },
            "type": "mesh3d"
           }
          ],
          "parcoords": [
           {
            "line": {
             "colorbar": {
              "outlinewidth": 1,
              "tickcolor": "rgb(36,36,36)",
              "ticks": "outside"
             }
            },
            "type": "parcoords"
           }
          ],
          "pie": [
           {
            "automargin": true,
            "type": "pie"
           }
          ],
          "scatter": [
           {
            "fillpattern": {
             "fillmode": "overlay",
             "size": 10,
             "solidity": 0.2
            },
            "type": "scatter"
           }
          ],
          "scatter3d": [
           {
            "line": {
             "colorbar": {
              "outlinewidth": 1,
              "tickcolor": "rgb(36,36,36)",
              "ticks": "outside"
             }
            },
            "marker": {
             "colorbar": {
              "outlinewidth": 1,
              "tickcolor": "rgb(36,36,36)",
              "ticks": "outside"
             }
            },
            "type": "scatter3d"
           }
          ],
          "scattercarpet": [
           {
            "marker": {
             "colorbar": {
              "outlinewidth": 1,
              "tickcolor": "rgb(36,36,36)",
              "ticks": "outside"
             }
            },
            "type": "scattercarpet"
           }
          ],
          "scattergeo": [
           {
            "marker": {
             "colorbar": {
              "outlinewidth": 1,
              "tickcolor": "rgb(36,36,36)",
              "ticks": "outside"
             }
            },
            "type": "scattergeo"
           }
          ],
          "scattergl": [
           {
            "marker": {
             "colorbar": {
              "outlinewidth": 1,
              "tickcolor": "rgb(36,36,36)",
              "ticks": "outside"
             }
            },
            "type": "scattergl"
           }
          ],
          "scattermapbox": [
           {
            "marker": {
             "colorbar": {
              "outlinewidth": 1,
              "tickcolor": "rgb(36,36,36)",
              "ticks": "outside"
             }
            },
            "type": "scattermapbox"
           }
          ],
          "scatterpolar": [
           {
            "marker": {
             "colorbar": {
              "outlinewidth": 1,
              "tickcolor": "rgb(36,36,36)",
              "ticks": "outside"
             }
            },
            "type": "scatterpolar"
           }
          ],
          "scatterpolargl": [
           {
            "marker": {
             "colorbar": {
              "outlinewidth": 1,
              "tickcolor": "rgb(36,36,36)",
              "ticks": "outside"
             }
            },
            "type": "scatterpolargl"
           }
          ],
          "scatterternary": [
           {
            "marker": {
             "colorbar": {
              "outlinewidth": 1,
              "tickcolor": "rgb(36,36,36)",
              "ticks": "outside"
             }
            },
            "type": "scatterternary"
           }
          ],
          "surface": [
           {
            "colorbar": {
             "outlinewidth": 1,
             "tickcolor": "rgb(36,36,36)",
             "ticks": "outside"
            },
            "colorscale": [
             [
              0,
              "#440154"
             ],
             [
              0.1111111111111111,
              "#482878"
             ],
             [
              0.2222222222222222,
              "#3e4989"
             ],
             [
              0.3333333333333333,
              "#31688e"
             ],
             [
              0.4444444444444444,
              "#26828e"
             ],
             [
              0.5555555555555556,
              "#1f9e89"
             ],
             [
              0.6666666666666666,
              "#35b779"
             ],
             [
              0.7777777777777778,
              "#6ece58"
             ],
             [
              0.8888888888888888,
              "#b5de2b"
             ],
             [
              1,
              "#fde725"
             ]
            ],
            "type": "surface"
           }
          ],
          "table": [
           {
            "cells": {
             "fill": {
              "color": "rgb(237,237,237)"
             },
             "line": {
              "color": "white"
             }
            },
            "header": {
             "fill": {
              "color": "rgb(217,217,217)"
             },
             "line": {
              "color": "white"
             }
            },
            "type": "table"
           }
          ]
         },
         "layout": {
          "annotationdefaults": {
           "arrowhead": 0,
           "arrowwidth": 1
          },
          "autotypenumbers": "strict",
          "coloraxis": {
           "colorbar": {
            "outlinewidth": 1,
            "tickcolor": "rgb(36,36,36)",
            "ticks": "outside"
           }
          },
          "colorscale": {
           "diverging": [
            [
             0,
             "rgb(103,0,31)"
            ],
            [
             0.1,
             "rgb(178,24,43)"
            ],
            [
             0.2,
             "rgb(214,96,77)"
            ],
            [
             0.3,
             "rgb(244,165,130)"
            ],
            [
             0.4,
             "rgb(253,219,199)"
            ],
            [
             0.5,
             "rgb(247,247,247)"
            ],
            [
             0.6,
             "rgb(209,229,240)"
            ],
            [
             0.7,
             "rgb(146,197,222)"
            ],
            [
             0.8,
             "rgb(67,147,195)"
            ],
            [
             0.9,
             "rgb(33,102,172)"
            ],
            [
             1,
             "rgb(5,48,97)"
            ]
           ],
           "sequential": [
            [
             0,
             "#440154"
            ],
            [
             0.1111111111111111,
             "#482878"
            ],
            [
             0.2222222222222222,
             "#3e4989"
            ],
            [
             0.3333333333333333,
             "#31688e"
            ],
            [
             0.4444444444444444,
             "#26828e"
            ],
            [
             0.5555555555555556,
             "#1f9e89"
            ],
            [
             0.6666666666666666,
             "#35b779"
            ],
            [
             0.7777777777777778,
             "#6ece58"
            ],
            [
             0.8888888888888888,
             "#b5de2b"
            ],
            [
             1,
             "#fde725"
            ]
           ],
           "sequentialminus": [
            [
             0,
             "#440154"
            ],
            [
             0.1111111111111111,
             "#482878"
            ],
            [
             0.2222222222222222,
             "#3e4989"
            ],
            [
             0.3333333333333333,
             "#31688e"
            ],
            [
             0.4444444444444444,
             "#26828e"
            ],
            [
             0.5555555555555556,
             "#1f9e89"
            ],
            [
             0.6666666666666666,
             "#35b779"
            ],
            [
             0.7777777777777778,
             "#6ece58"
            ],
            [
             0.8888888888888888,
             "#b5de2b"
            ],
            [
             1,
             "#fde725"
            ]
           ]
          },
          "colorway": [
           "#1F77B4",
           "#FF7F0E",
           "#2CA02C",
           "#D62728",
           "#9467BD",
           "#8C564B",
           "#E377C2",
           "#7F7F7F",
           "#BCBD22",
           "#17BECF"
          ],
          "font": {
           "color": "rgb(36,36,36)"
          },
          "geo": {
           "bgcolor": "white",
           "lakecolor": "white",
           "landcolor": "white",
           "showlakes": true,
           "showland": true,
           "subunitcolor": "white"
          },
          "hoverlabel": {
           "align": "left"
          },
          "hovermode": "closest",
          "mapbox": {
           "style": "light"
          },
          "paper_bgcolor": "white",
          "plot_bgcolor": "white",
          "polar": {
           "angularaxis": {
            "gridcolor": "rgb(232,232,232)",
            "linecolor": "rgb(36,36,36)",
            "showgrid": false,
            "showline": true,
            "ticks": "outside"
           },
           "bgcolor": "white",
           "radialaxis": {
            "gridcolor": "rgb(232,232,232)",
            "linecolor": "rgb(36,36,36)",
            "showgrid": false,
            "showline": true,
            "ticks": "outside"
           }
          },
          "scene": {
           "xaxis": {
            "backgroundcolor": "white",
            "gridcolor": "rgb(232,232,232)",
            "gridwidth": 2,
            "linecolor": "rgb(36,36,36)",
            "showbackground": true,
            "showgrid": false,
            "showline": true,
            "ticks": "outside",
            "zeroline": false,
            "zerolinecolor": "rgb(36,36,36)"
           },
           "yaxis": {
            "backgroundcolor": "white",
            "gridcolor": "rgb(232,232,232)",
            "gridwidth": 2,
            "linecolor": "rgb(36,36,36)",
            "showbackground": true,
            "showgrid": false,
            "showline": true,
            "ticks": "outside",
            "zeroline": false,
            "zerolinecolor": "rgb(36,36,36)"
           },
           "zaxis": {
            "backgroundcolor": "white",
            "gridcolor": "rgb(232,232,232)",
            "gridwidth": 2,
            "linecolor": "rgb(36,36,36)",
            "showbackground": true,
            "showgrid": false,
            "showline": true,
            "ticks": "outside",
            "zeroline": false,
            "zerolinecolor": "rgb(36,36,36)"
           }
          },
          "shapedefaults": {
           "fillcolor": "black",
           "line": {
            "width": 0
           },
           "opacity": 0.3
          },
          "ternary": {
           "aaxis": {
            "gridcolor": "rgb(232,232,232)",
            "linecolor": "rgb(36,36,36)",
            "showgrid": false,
            "showline": true,
            "ticks": "outside"
           },
           "baxis": {
            "gridcolor": "rgb(232,232,232)",
            "linecolor": "rgb(36,36,36)",
            "showgrid": false,
            "showline": true,
            "ticks": "outside"
           },
           "bgcolor": "white",
           "caxis": {
            "gridcolor": "rgb(232,232,232)",
            "linecolor": "rgb(36,36,36)",
            "showgrid": false,
            "showline": true,
            "ticks": "outside"
           }
          },
          "title": {
           "x": 0.05
          },
          "xaxis": {
           "automargin": true,
           "gridcolor": "rgb(232,232,232)",
           "linecolor": "rgb(36,36,36)",
           "showgrid": false,
           "showline": true,
           "ticks": "outside",
           "title": {
            "standoff": 15
           },
           "zeroline": false,
           "zerolinecolor": "rgb(36,36,36)"
          },
          "yaxis": {
           "automargin": true,
           "gridcolor": "rgb(232,232,232)",
           "linecolor": "rgb(36,36,36)",
           "showgrid": false,
           "showline": true,
           "ticks": "outside",
           "title": {
            "standoff": 15
           },
           "zeroline": false,
           "zerolinecolor": "rgb(36,36,36)"
          }
         }
        },
        "width": 1024,
        "xaxis": {
         "dtick": 1,
         "title": {
          "text": "Safety"
         }
        },
        "yaxis": {
         "ticksuffix": "°",
         "title": {
          "text": "Right Angles"
         }
        }
       }
      }
     },
     "metadata": {},
     "output_type": "display_data"
    }
   ],
   "source": [
    "# Plots for correlations. Trendline generated as linear trendline via https://plotly.com/python/linear-fits/\n",
    "\n",
    "#difficulty\n",
    "fig_corr_diff = go.Figure(layout=layout)\n",
    "fig_corr_diff.add_trace(go.Scatter(mode='markers',x = safety,y = difficulty,showlegend=False,name='Safety X Difficulty', marker_color='#000000'))\n",
    "trend_difficulty = px.scatter(y=difficulty, x= safety, trendline=\"ols\")\n",
    "trendline = trend_difficulty.data[1]\n",
    "trendline.marker.color = marking_red\n",
    "fig_corr_diff.add_trace(trendline)\n",
    "\n",
    "#Rotations left\n",
    "fig_corr_rleft = go.Figure(layout=layout)\n",
    "fig_corr_rleft.add_trace(go.Scatter(mode='markers',x = safety_left_rots,y = left_rots,showlegend=False,name='Safety X Left Rotations', marker_color='#000000'))\n",
    "trend_rotations = fig = px.scatter(y=left_rots, x= safety_left_rots, trendline=\"ols\")\n",
    "trendline = trend_rotations.data[1]\n",
    "trendline.marker.color = marking_red\n",
    "fig_corr_rleft.add_trace(trendline)\n",
    "\n",
    "#Rotations right\n",
    "fig_corr_rRight = go.Figure(layout=layout)\n",
    "fig_corr_rRight.add_trace(go.Scatter(mode='markers',x = safety_right_rots,y = right_rots,showlegend=False,name='Safety X Left Rotations', marker_color='#000000'))\n",
    "trend_rotations = fig = px.scatter(y=right_rots, x= safety_right_rots, trendline=\"ols\")\n",
    "trendline = trend_rotations.data[1]\n",
    "trendline.marker.color = marking_red\n",
    "fig_corr_rRight.add_trace(trendline)\n",
    "\n",
    "#Angles left\n",
    "fig_corr_aLeft = go.Figure(layout=layout)\n",
    "fig_corr_aLeft.add_trace(go.Scatter(mode='markers',x = safety_left_angles,y = left_angles,showlegend=False,name='Safety X Left Angles', marker_color='#000000'))\n",
    "trend_angles = fig = px.scatter(y=left_angles, x= safety_left_angles, trendline=\"ols\")\n",
    "trendline = trend_angles.data[1]\n",
    "trendline.marker.color = marking_red\n",
    "fig_corr_aLeft.add_trace(trendline)\n",
    "\n",
    "#Angles right\n",
    "fig_corr_aRight = go.Figure(layout=layout)\n",
    "fig_corr_aRight.add_trace(go.Scatter(mode='markers',x = safety_right_angles,y = right_angles,showlegend=False,name='Safety X Left Angles', marker_color='#000000'))\n",
    "trend_angles = fig = px.scatter(y=right_angles, x= safety_right_angles, trendline=\"ols\")\n",
    "trendline = trend_angles.data[1]\n",
    "trendline.marker.color = marking_red\n",
    "fig_corr_aRight.add_trace(trendline)\n",
    "\n",
    "\n",
    "yaxis = [\"Difficulty\",\"Left Rotations\",\"Right Rotations\",\"Left Angles\",\"Right Angles\"]\n",
    "yFormat = [\"\",\"\",\"\",\"°\",\"°\"]\n",
    "for index,fig in enumerate([fig_corr_diff,fig_corr_rleft,fig_corr_rRight,fig_corr_aLeft,fig_corr_aRight]):\n",
    "    fig.update_layout(\n",
    "    #    title='Mean of Headrotations per Situation(Field)',\n",
    "        margin=dict(t=20, b=0, l=70, r=40),\n",
    "        hovermode=\"y unified\", \n",
    "        xaxis_title='Safety', \n",
    "        xaxis_dtick = 1,\n",
    "        yaxis_title=yaxis[index],\n",
    "        yaxis_ticksuffix = yFormat[index],\n",
    "        width=plot_width, height=plot_height,\n",
    "        font=dict(family=\"Lato, sans-serif\",size=14),\n",
    "        legend=dict(orientation=\"h\", yanchor=\"bottom\",y=1, xanchor=\"center\", x=0.5),\n",
    "        hoverlabel=dict(font_size=13, font_family=\"Lato, sans-serif\"))\n",
    "    display(fig)"
   ]
  },
  {
   "cell_type": "code",
   "execution_count": 17,
   "id": "b46f3d77",
   "metadata": {},
   "outputs": [
    {
     "data": {
      "application/vnd.plotly.v1+json": {
       "config": {
        "plotlyServerURL": "https://plot.ly"
       },
       "data": [
        {
         "marker": {
          "color": "#000000"
         },
         "mode": "markers",
         "name": "Safety X Difficulty",
         "showlegend": false,
         "type": "scatter",
         "x": [
          4,
          3,
          5,
          4,
          4,
          1,
          2,
          4,
          3,
          4,
          1,
          2,
          4,
          2,
          2,
          2,
          4,
          1,
          4,
          3,
          4,
          1,
          2,
          1,
          4,
          2,
          2,
          5,
          4,
          2,
          2,
          4,
          3,
          1,
          1,
          4
         ],
         "xaxis": "x",
         "y": [
          5,
          3,
          1,
          2,
          2,
          4,
          3,
          2,
          4,
          2,
          5,
          3,
          2,
          3,
          4,
          2,
          1,
          5,
          4,
          3,
          2,
          4,
          4,
          5,
          2,
          4,
          5,
          1,
          2,
          4,
          4,
          3,
          3,
          4,
          5,
          2
         ],
         "yaxis": "y"
        },
        {
         "hovertemplate": "<b>OLS trendline</b><br>y = -0.743133 * x + 5.25157<br>R<sup>2</sup>=0.578743<br><br>x=%{x}<br>y=%{y} <b>(trend)</b><extra></extra>",
         "legendgroup": "",
         "marker": {
          "color": "#961C26",
          "symbol": "circle"
         },
         "mode": "lines",
         "name": "",
         "showlegend": false,
         "type": "scatter",
         "x": [
          1,
          1,
          1,
          1,
          1,
          1,
          1,
          2,
          2,
          2,
          2,
          2,
          2,
          2,
          2,
          2,
          2,
          3,
          3,
          3,
          3,
          4,
          4,
          4,
          4,
          4,
          4,
          4,
          4,
          4,
          4,
          4,
          4,
          4,
          5,
          5
         ],
         "xaxis": "x",
         "y": [
          4.508433734939758,
          4.508433734939758,
          4.508433734939758,
          4.508433734939758,
          4.508433734939758,
          4.508433734939758,
          4.508433734939758,
          3.7653012048192758,
          3.7653012048192758,
          3.7653012048192758,
          3.7653012048192758,
          3.7653012048192758,
          3.7653012048192758,
          3.7653012048192758,
          3.7653012048192758,
          3.7653012048192758,
          3.7653012048192758,
          3.0221686746987935,
          3.0221686746987935,
          3.0221686746987935,
          3.0221686746987935,
          2.2790361445783107,
          2.2790361445783107,
          2.2790361445783107,
          2.2790361445783107,
          2.2790361445783107,
          2.2790361445783107,
          2.2790361445783107,
          2.2790361445783107,
          2.2790361445783107,
          2.2790361445783107,
          2.2790361445783107,
          2.2790361445783107,
          2.2790361445783107,
          1.5359036144578282,
          1.5359036144578282
         ],
         "yaxis": "y"
        },
        {
         "marker": {
          "color": "#000000"
         },
         "mode": "markers",
         "name": "Safety X Left Rotations",
         "showlegend": false,
         "type": "scatter",
         "x": [
          4,
          4,
          4,
          3,
          3,
          3,
          5,
          5,
          5,
          4,
          4,
          4,
          4,
          4,
          4,
          1,
          1,
          1,
          2,
          2,
          2,
          2,
          2,
          4,
          4,
          4,
          3,
          3,
          3,
          4,
          4,
          4,
          1,
          1,
          1,
          2,
          2,
          2,
          4,
          4,
          4,
          2,
          2,
          2,
          2,
          2,
          2,
          2,
          2,
          2,
          4,
          4,
          4,
          1,
          1,
          1,
          4,
          4,
          4,
          3,
          3,
          3,
          4,
          4,
          4,
          1,
          1,
          1,
          2,
          2,
          2,
          1,
          1,
          1,
          4,
          4,
          4,
          2,
          2,
          2,
          2,
          2,
          2,
          5,
          5,
          5,
          4,
          4,
          4,
          2,
          2,
          2,
          2,
          2,
          2,
          4,
          4,
          4,
          3,
          3,
          3,
          1,
          1,
          1,
          1,
          1,
          1,
          4,
          4,
          4
         ],
         "xaxis": "x2",
         "y": [
          2,
          5,
          2,
          6,
          7,
          1,
          1,
          3,
          9,
          5,
          2,
          2,
          1,
          3,
          2,
          11,
          4,
          1,
          4,
          0,
          4,
          1,
          1,
          3,
          2,
          2,
          2,
          1,
          1,
          10,
          12,
          1,
          6,
          11,
          1,
          1,
          6,
          5,
          4,
          7,
          8,
          7,
          2,
          3,
          6,
          10,
          8,
          3,
          4,
          1,
          1,
          1,
          3,
          9,
          1,
          1,
          1,
          1,
          1,
          3,
          0,
          0,
          0,
          0,
          0,
          4,
          4,
          3,
          2,
          2,
          1,
          0,
          0,
          2,
          1,
          6,
          3,
          10,
          6,
          2,
          12,
          8,
          14,
          2,
          4,
          2,
          2,
          2,
          2,
          2,
          2,
          2,
          2,
          2,
          4,
          4,
          1,
          1,
          2,
          2,
          0,
          6,
          1,
          8,
          6,
          3,
          4,
          1,
          5,
          0
         ],
         "yaxis": "y2"
        },
        {
         "hovertemplate": "<b>OLS trendline</b><br>y = -0.453317 * x + 4.70153<br>R<sup>2</sup>=0.033421<br><br>x=%{x}<br>y=%{y} <b>(trend)</b><extra></extra>",
         "legendgroup": "",
         "marker": {
          "color": "#961C26",
          "symbol": "circle"
         },
         "mode": "lines",
         "name": "",
         "showlegend": false,
         "type": "scatter",
         "x": [
          1,
          1,
          1,
          1,
          1,
          1,
          1,
          1,
          1,
          1,
          1,
          1,
          1,
          1,
          1,
          1,
          1,
          1,
          1,
          1,
          1,
          2,
          2,
          2,
          2,
          2,
          2,
          2,
          2,
          2,
          2,
          2,
          2,
          2,
          2,
          2,
          2,
          2,
          2,
          2,
          2,
          2,
          2,
          2,
          2,
          2,
          2,
          2,
          2,
          2,
          2,
          2,
          2,
          3,
          3,
          3,
          3,
          3,
          3,
          3,
          3,
          3,
          3,
          3,
          3,
          4,
          4,
          4,
          4,
          4,
          4,
          4,
          4,
          4,
          4,
          4,
          4,
          4,
          4,
          4,
          4,
          4,
          4,
          4,
          4,
          4,
          4,
          4,
          4,
          4,
          4,
          4,
          4,
          4,
          4,
          4,
          4,
          4,
          4,
          4,
          4,
          4,
          4,
          4,
          5,
          5,
          5,
          5,
          5,
          5
         ],
         "xaxis": "x2",
         "y": [
          4.248212515004438,
          4.248212515004438,
          4.248212515004438,
          4.248212515004438,
          4.248212515004438,
          4.248212515004438,
          4.248212515004438,
          4.248212515004438,
          4.248212515004438,
          4.248212515004438,
          4.248212515004438,
          4.248212515004438,
          4.248212515004438,
          4.248212515004438,
          4.248212515004438,
          4.248212515004438,
          4.248212515004438,
          4.248212515004438,
          4.248212515004438,
          4.248212515004438,
          4.248212515004438,
          3.7948958822608434,
          3.7948958822608434,
          3.7948958822608434,
          3.7948958822608434,
          3.7948958822608434,
          3.7948958822608434,
          3.7948958822608434,
          3.7948958822608434,
          3.7948958822608434,
          3.7948958822608434,
          3.7948958822608434,
          3.7948958822608434,
          3.7948958822608434,
          3.7948958822608434,
          3.7948958822608434,
          3.7948958822608434,
          3.7948958822608434,
          3.7948958822608434,
          3.7948958822608434,
          3.7948958822608434,
          3.7948958822608434,
          3.7948958822608434,
          3.7948958822608434,
          3.7948958822608434,
          3.7948958822608434,
          3.7948958822608434,
          3.7948958822608434,
          3.7948958822608434,
          3.7948958822608434,
          3.7948958822608434,
          3.7948958822608434,
          3.7948958822608434,
          3.341579249517249,
          3.341579249517249,
          3.341579249517249,
          3.341579249517249,
          3.341579249517249,
          3.341579249517249,
          3.341579249517249,
          3.341579249517249,
          3.341579249517249,
          3.341579249517249,
          3.341579249517249,
          3.341579249517249,
          2.8882626167736545,
          2.8882626167736545,
          2.8882626167736545,
          2.8882626167736545,
          2.8882626167736545,
          2.8882626167736545,
          2.8882626167736545,
          2.8882626167736545,
          2.8882626167736545,
          2.8882626167736545,
          2.8882626167736545,
          2.8882626167736545,
          2.8882626167736545,
          2.8882626167736545,
          2.8882626167736545,
          2.8882626167736545,
          2.8882626167736545,
          2.8882626167736545,
          2.8882626167736545,
          2.8882626167736545,
          2.8882626167736545,
          2.8882626167736545,
          2.8882626167736545,
          2.8882626167736545,
          2.8882626167736545,
          2.8882626167736545,
          2.8882626167736545,
          2.8882626167736545,
          2.8882626167736545,
          2.8882626167736545,
          2.8882626167736545,
          2.8882626167736545,
          2.8882626167736545,
          2.8882626167736545,
          2.8882626167736545,
          2.8882626167736545,
          2.8882626167736545,
          2.8882626167736545,
          2.8882626167736545,
          2.43494598403006,
          2.43494598403006,
          2.43494598403006,
          2.43494598403006,
          2.43494598403006,
          2.43494598403006
         ],
         "yaxis": "y2"
        },
        {
         "marker": {
          "color": "#000000"
         },
         "mode": "markers",
         "name": "Safety X Left Rotations",
         "showlegend": false,
         "type": "scatter",
         "x": [
          4,
          4,
          4,
          3,
          3,
          3,
          5,
          5,
          5,
          4,
          4,
          4,
          4,
          4,
          4,
          1,
          1,
          1,
          2,
          2,
          2,
          2,
          2,
          4,
          4,
          4,
          3,
          3,
          3,
          4,
          4,
          4,
          1,
          1,
          1,
          2,
          2,
          2,
          4,
          4,
          4,
          2,
          2,
          2,
          2,
          2,
          2,
          2,
          2,
          2,
          4,
          4,
          4,
          1,
          1,
          1,
          4,
          4,
          4,
          3,
          3,
          3,
          4,
          4,
          4,
          1,
          1,
          1,
          2,
          2,
          2,
          1,
          1,
          1,
          4,
          4,
          4,
          2,
          2,
          2,
          2,
          2,
          2,
          5,
          5,
          5,
          4,
          4,
          4,
          2,
          2,
          2,
          2,
          2,
          2,
          4,
          4,
          4,
          3,
          3,
          3,
          1,
          1,
          1,
          1,
          1,
          1,
          4,
          4,
          4
         ],
         "xaxis": "x3",
         "y": [
          1,
          7,
          1,
          2,
          3,
          0,
          0,
          5,
          5,
          1,
          1,
          0,
          2,
          2,
          1,
          14,
          6,
          1,
          0,
          2,
          5,
          1,
          0,
          0,
          0,
          2,
          0,
          0,
          0,
          2,
          8,
          3,
          1,
          4,
          0,
          0,
          4,
          4,
          1,
          1,
          0,
          4,
          1,
          1,
          5,
          11,
          4,
          1,
          0,
          0,
          0,
          0,
          1,
          6,
          0,
          0,
          0,
          0,
          0,
          0,
          0,
          0,
          0,
          0,
          0,
          1,
          5,
          0,
          1,
          0,
          0,
          0,
          0,
          0,
          0,
          2,
          1,
          2,
          2,
          1,
          8,
          8,
          10,
          0,
          2,
          1,
          0,
          6,
          0,
          0,
          2,
          1,
          0,
          2,
          2,
          0,
          2,
          0,
          1,
          1,
          0,
          2,
          0,
          3,
          0,
          0,
          2,
          0,
          4,
          0
         ],
         "yaxis": "y3"
        },
        {
         "hovertemplate": "<b>OLS trendline</b><br>y = -0.321591 * x + 2.67935<br>R<sup>2</sup>=0.023995<br><br>x=%{x}<br>y=%{y} <b>(trend)</b><extra></extra>",
         "legendgroup": "",
         "marker": {
          "color": "#961C26",
          "symbol": "circle"
         },
         "mode": "lines",
         "name": "",
         "showlegend": false,
         "type": "scatter",
         "x": [
          1,
          1,
          1,
          1,
          1,
          1,
          1,
          1,
          1,
          1,
          1,
          1,
          1,
          1,
          1,
          1,
          1,
          1,
          1,
          1,
          1,
          2,
          2,
          2,
          2,
          2,
          2,
          2,
          2,
          2,
          2,
          2,
          2,
          2,
          2,
          2,
          2,
          2,
          2,
          2,
          2,
          2,
          2,
          2,
          2,
          2,
          2,
          2,
          2,
          2,
          2,
          2,
          2,
          3,
          3,
          3,
          3,
          3,
          3,
          3,
          3,
          3,
          3,
          3,
          3,
          4,
          4,
          4,
          4,
          4,
          4,
          4,
          4,
          4,
          4,
          4,
          4,
          4,
          4,
          4,
          4,
          4,
          4,
          4,
          4,
          4,
          4,
          4,
          4,
          4,
          4,
          4,
          4,
          4,
          4,
          4,
          4,
          4,
          4,
          4,
          4,
          4,
          4,
          4,
          5,
          5,
          5,
          5,
          5,
          5
         ],
         "xaxis": "x3",
         "y": [
          2.357757945827464,
          2.357757945827464,
          2.357757945827464,
          2.357757945827464,
          2.357757945827464,
          2.357757945827464,
          2.357757945827464,
          2.357757945827464,
          2.357757945827464,
          2.357757945827464,
          2.357757945827464,
          2.357757945827464,
          2.357757945827464,
          2.357757945827464,
          2.357757945827464,
          2.357757945827464,
          2.357757945827464,
          2.357757945827464,
          2.357757945827464,
          2.357757945827464,
          2.357757945827464,
          2.0361672146547685,
          2.0361672146547685,
          2.0361672146547685,
          2.0361672146547685,
          2.0361672146547685,
          2.0361672146547685,
          2.0361672146547685,
          2.0361672146547685,
          2.0361672146547685,
          2.0361672146547685,
          2.0361672146547685,
          2.0361672146547685,
          2.0361672146547685,
          2.0361672146547685,
          2.0361672146547685,
          2.0361672146547685,
          2.0361672146547685,
          2.0361672146547685,
          2.0361672146547685,
          2.0361672146547685,
          2.0361672146547685,
          2.0361672146547685,
          2.0361672146547685,
          2.0361672146547685,
          2.0361672146547685,
          2.0361672146547685,
          2.0361672146547685,
          2.0361672146547685,
          2.0361672146547685,
          2.0361672146547685,
          2.0361672146547685,
          2.0361672146547685,
          1.7145764834820734,
          1.7145764834820734,
          1.7145764834820734,
          1.7145764834820734,
          1.7145764834820734,
          1.7145764834820734,
          1.7145764834820734,
          1.7145764834820734,
          1.7145764834820734,
          1.7145764834820734,
          1.7145764834820734,
          1.7145764834820734,
          1.3929857523093783,
          1.3929857523093783,
          1.3929857523093783,
          1.3929857523093783,
          1.3929857523093783,
          1.3929857523093783,
          1.3929857523093783,
          1.3929857523093783,
          1.3929857523093783,
          1.3929857523093783,
          1.3929857523093783,
          1.3929857523093783,
          1.3929857523093783,
          1.3929857523093783,
          1.3929857523093783,
          1.3929857523093783,
          1.3929857523093783,
          1.3929857523093783,
          1.3929857523093783,
          1.3929857523093783,
          1.3929857523093783,
          1.3929857523093783,
          1.3929857523093783,
          1.3929857523093783,
          1.3929857523093783,
          1.3929857523093783,
          1.3929857523093783,
          1.3929857523093783,
          1.3929857523093783,
          1.3929857523093783,
          1.3929857523093783,
          1.3929857523093783,
          1.3929857523093783,
          1.3929857523093783,
          1.3929857523093783,
          1.3929857523093783,
          1.3929857523093783,
          1.3929857523093783,
          1.3929857523093783,
          1.0713950211366832,
          1.0713950211366832,
          1.0713950211366832,
          1.0713950211366832,
          1.0713950211366832,
          1.0713950211366832
         ],
         "yaxis": "y3"
        },
        {
         "marker": {
          "color": "#000000"
         },
         "mode": "markers",
         "name": "Safety X Left Angles",
         "showlegend": false,
         "type": "scatter",
         "x": [
          4,
          4,
          4,
          4,
          4,
          4,
          4,
          4,
          4,
          3,
          3,
          3,
          3,
          3,
          3,
          3,
          3,
          3,
          3,
          3,
          3,
          3,
          3,
          5,
          5,
          5,
          5,
          5,
          5,
          5,
          5,
          5,
          5,
          5,
          5,
          5,
          4,
          4,
          4,
          4,
          4,
          4,
          4,
          4,
          4,
          4,
          4,
          4,
          4,
          4,
          4,
          1,
          1,
          1,
          1,
          1,
          1,
          1,
          1,
          1,
          1,
          1,
          1,
          1,
          1,
          1,
          1,
          2,
          2,
          2,
          2,
          2,
          2,
          2,
          2,
          2,
          2,
          4,
          4,
          4,
          4,
          4,
          4,
          4,
          3,
          3,
          3,
          3,
          4,
          4,
          4,
          4,
          4,
          4,
          4,
          4,
          4,
          4,
          4,
          4,
          4,
          4,
          4,
          4,
          4,
          4,
          4,
          4,
          4,
          4,
          4,
          1,
          1,
          1,
          1,
          1,
          1,
          1,
          1,
          1,
          1,
          1,
          1,
          1,
          1,
          1,
          1,
          1,
          1,
          2,
          2,
          2,
          2,
          2,
          2,
          2,
          2,
          2,
          2,
          2,
          2,
          4,
          4,
          4,
          4,
          4,
          4,
          4,
          4,
          4,
          4,
          4,
          4,
          4,
          4,
          4,
          4,
          4,
          4,
          4,
          2,
          2,
          2,
          2,
          2,
          2,
          2,
          2,
          2,
          2,
          2,
          2,
          2,
          2,
          2,
          2,
          2,
          2,
          2,
          2,
          2,
          2,
          2,
          2,
          2,
          2,
          2,
          2,
          2,
          2,
          2,
          2,
          2,
          2,
          2,
          2,
          2,
          2,
          2,
          2,
          2,
          2,
          2,
          2,
          4,
          4,
          4,
          4,
          4,
          1,
          1,
          1,
          1,
          1,
          1,
          1,
          1,
          1,
          1,
          1,
          4,
          4,
          4,
          3,
          3,
          3,
          1,
          1,
          1,
          1,
          1,
          1,
          1,
          1,
          1,
          1,
          1,
          2,
          2,
          2,
          2,
          2,
          1,
          1,
          4,
          4,
          4,
          4,
          4,
          4,
          4,
          4,
          4,
          4,
          2,
          2,
          2,
          2,
          2,
          2,
          2,
          2,
          2,
          2,
          2,
          2,
          2,
          2,
          2,
          2,
          2,
          2,
          2,
          2,
          2,
          2,
          2,
          2,
          2,
          2,
          2,
          2,
          2,
          2,
          2,
          2,
          2,
          2,
          2,
          2,
          2,
          2,
          2,
          2,
          2,
          2,
          2,
          2,
          2,
          2,
          2,
          2,
          2,
          2,
          2,
          2,
          5,
          5,
          5,
          5,
          5,
          5,
          5,
          5,
          4,
          4,
          4,
          4,
          4,
          4,
          2,
          2,
          2,
          2,
          2,
          2,
          2,
          2,
          2,
          2,
          2,
          2,
          2,
          2,
          4,
          4,
          4,
          4,
          4,
          4,
          3,
          3,
          3,
          3,
          1,
          1,
          1,
          1,
          1,
          1,
          1,
          1,
          1,
          1,
          1,
          1,
          1,
          1,
          1,
          1,
          1,
          1,
          1,
          1,
          1,
          1,
          1,
          1,
          1,
          1,
          1,
          1,
          4,
          4,
          4,
          4,
          4,
          4
         ],
         "xaxis": "x4",
         "y": [
          -46.16539001464844,
          -48.29853057861328,
          -66.83397674560547,
          -59.381858825683594,
          -100.40540313720703,
          -66.33336639404297,
          -90.1629867553711,
          -38.623390197753906,
          -56.03049087524414,
          -34.432071685791016,
          -62.61796951293945,
          -59.954978942871094,
          -37.33658981323242,
          -23.043710708618164,
          -40.59532928466797,
          -136.09080505371094,
          -135.1031036376953,
          -41.3302001953125,
          -71.30142974853516,
          -63.66775131225586,
          -23.251590728759766,
          -27.982379913330078,
          -136.7406005859375,
          -122.4845962524414,
          -102.2249984741211,
          -75.04283905029297,
          -46.11708068847656,
          -73.34619903564453,
          -73.91200256347656,
          -21.77553939819336,
          -111.1781997680664,
          -62.03451156616211,
          -45.26026153564453,
          -37.820011138916016,
          -114.74960327148438,
          -30.88736915588379,
          -31.864299774169922,
          -71.76171112060547,
          -67.42867279052734,
          -66.95939636230469,
          -62.81441116333008,
          -63.1220817565918,
          -67.35433959960938,
          -71.20844268798828,
          -54.42110061645508,
          -147.14830017089844,
          -54.34408187866211,
          -61.01710891723633,
          -26.704280853271484,
          -66.27313232421875,
          -38.950809478759766,
          -51.12527847290039,
          -61.89847946166992,
          -62.12202072143555,
          -46.0070915222168,
          -54.21031188964844,
          -48.70621109008789,
          -45.2954216003418,
          -46.24488830566406,
          -20.04458999633789,
          -51.16279983520508,
          -58.97283172607422,
          -57.104759216308594,
          -61.508541107177734,
          -44.251380920410156,
          -44.512149810791016,
          -41.97978973388672,
          -36.989139556884766,
          -22.204809188842773,
          -48.529869079589844,
          -26.96310043334961,
          -44.30162811279297,
          -77.90043640136719,
          -83.0373764038086,
          -45.894439697265625,
          -28.504199981689453,
          -57.83198928833008,
          -20.64059066772461,
          -45.392520904541016,
          -32.18122100830078,
          -125.4529037475586,
          -22.07356071472168,
          -23.904560089111328,
          -26.991050720214844,
          -34.58985900878906,
          -22.053930282592773,
          -26.527009963989258,
          -30.39596939086914,
          -57.11429977416992,
          -60.47222900390625,
          -57.669960021972656,
          -56.66521072387695,
          -63.54219055175781,
          -59.382259368896484,
          -27.391199111938477,
          -78.9745864868164,
          -41.037811279296875,
          -25.510690689086914,
          -91.40289306640625,
          -38.45787048339844,
          -117.87079620361328,
          -55.57204818725586,
          -20.01333999633789,
          -129.40719604492188,
          -136.40060424804688,
          -138.66729736328125,
          -132.9134979248047,
          -138.67689514160156,
          -136.8769989013672,
          -140.783203125,
          -57.3361701965332,
          -36.14521026611328,
          -98.70394897460938,
          -148.20370483398438,
          -139.69259643554688,
          -141.37130737304688,
          -21.853660583496094,
          -61.5352783203125,
          -141.7313995361328,
          -140.64199829101562,
          -145.13079833984375,
          -138.4783935546875,
          -134.49749755859375,
          -123.09049987792969,
          -129.71420288085938,
          -125.7522964477539,
          -37.04436111450195,
          -104.4551010131836,
          -40.547340393066406,
          -49.138790130615234,
          -48.083431243896484,
          -56.00613021850586,
          -56.223270416259766,
          -54.226829528808594,
          -53.59714889526367,
          -29.546300888061523,
          -122.49669647216797,
          -128.81080627441406,
          -110.59329986572266,
          -103.71209716796875,
          -37.14064025878906,
          -111.9384994506836,
          -21.83608055114746,
          -92.30853271484375,
          -117.63469696044922,
          -122.76940155029297,
          -23.98012924194336,
          -52.96765899658203,
          -63.77492904663086,
          -109.47090148925781,
          -21.397539138793945,
          -112.16549682617188,
          -119.83820343017578,
          -121.53500366210938,
          -30.90399932861328,
          -124.85230255126953,
          -131.1230010986328,
          -79.17729187011719,
          -126.88459777832031,
          -49.938228607177734,
          -32.738040924072266,
          -35.648521423339844,
          -68.56749725341797,
          -67.79963684082031,
          -58.61471176147461,
          -48.849300384521484,
          -22.672229766845703,
          -33.40456008911133,
          -113.26950073242188,
          -53.59640884399414,
          -24.439559936523438,
          -30.607789993286133,
          -47.902191162109375,
          -44.28839874267578,
          -44.4628791809082,
          -42.18299865722656,
          -29.924480438232422,
          -47.722801208496094,
          -59.177608489990234,
          -115.60590362548828,
          -129.6118927001953,
          -69.55574035644531,
          -130.67539978027344,
          -120.54350280761719,
          -115.89689636230469,
          -20.603500366210938,
          -20.750329971313477,
          -112.57720184326172,
          -47.53908157348633,
          -100.01319885253906,
          -84.19022369384766,
          -88.59459686279297,
          -45.093318939208984,
          -44.80290985107422,
          -22.371440887451172,
          -82.2979736328125,
          -154.97689819335938,
          -69.08036804199219,
          -67.44434356689453,
          -82.17794036865234,
          -103.21890258789062,
          -102.20469665527344,
          -65.33148193359375,
          -65.39260864257812,
          -39.22032928466797,
          -58.77695083618164,
          -44.949951171875,
          -25.39668083190918,
          -55.2346305847168,
          -52.91733169555664,
          -40.78594970703125,
          -52.51604080200195,
          -24.13511085510254,
          -45.9930305480957,
          -44.08345031738281,
          -43.68170928955078,
          -29.283069610595703,
          -27.23164939880371,
          -25.948949813842773,
          -31.380390167236328,
          -23.307329177856445,
          -23.307640075683594,
          -60.29249954223633,
          -124.268798828125,
          -28.729110717773438,
          -25.411550521850586,
          -62.84519958496094,
          -72.53025817871094,
          -27.058259963989258,
          -74.39920806884766,
          -78.12452697753906,
          -21.245750427246094,
          -103.80380249023438,
          -86.2580337524414,
          -69.43895721435547,
          -55.25257873535156,
          -21.67259979248047,
          -22.11479949951172,
          -24.921180725097656,
          -23.494089126586914,
          -20.92378044128418,
          -27.524009704589844,
          -38.79404067993164,
          -104.15959930419922,
          -56.09468078613281,
          -55.68342971801758,
          -125.9666976928711,
          -52.037540435791016,
          -31.141759872436523,
          -69.05510711669922,
          -138.00259399414062,
          -27.361169815063477,
          -76.14726257324219,
          -152.27490234375,
          -139.22059631347656,
          -133.52020263671875,
          -55.15480041503906,
          -68.73829650878906,
          -77.40738677978516,
          -71.76761627197266,
          -22.47488021850586,
          -65.6559066772461,
          -67.19584655761719,
          -46.91891860961914,
          -37.50619888305664,
          -148.56430053710938,
          -161.13360595703125,
          -144.37989807128906,
          -29.315420150756836,
          -31.257930755615234,
          -130.98629760742188,
          -20.81352996826172,
          -148.7313995361328,
          -43.266929626464844,
          -151.21240234375,
          -60.81084060668945,
          -40.04854965209961,
          -36.49325942993164,
          -41.384788513183594,
          -43.2234001159668,
          -48.104820251464844,
          -46.90803909301758,
          -44.1952018737793,
          -126.177001953125,
          -148.6204071044922,
          -63.95930862426758,
          -51.63636016845703,
          -47.053829193115234,
          -50.97515106201172,
          -58.49563980102539,
          -127.66290283203125,
          -38.07817840576172,
          -144.05189514160156,
          -148.593505859375,
          -140.88929748535156,
          -152.88229370117188,
          -46.838130950927734,
          -148.47250366210938,
          -32.88529968261719,
          -47.22126007080078,
          -48.13444900512695,
          -44.3219108581543,
          -45.91530990600586,
          -113.84190368652344,
          -129.39540100097656,
          -33.05910110473633,
          -54.44511032104492,
          -58.51420974731445,
          -23.03618049621582,
          -57.641029357910156,
          -68.9101333618164,
          -85.0056381225586,
          -116.3479995727539,
          -57.058868408203125,
          -33.016780853271484,
          -29.29998016357422,
          -23.7585506439209,
          -37.65256118774414,
          -44.31480026245117,
          -44.151878356933594,
          -46.82564163208008,
          -23.90097999572754,
          -51.55929946899414,
          -85.33193969726562,
          -24.661489486694336,
          -23.050920486450195,
          -28.350400924682617,
          -30.193470001220703,
          -44.460269927978516,
          -32.6898193359375,
          -45.44540023803711,
          -22.799440383911133,
          -20.37343978881836,
          -23.335329055786133,
          -21.8929500579834,
          -49.48046875,
          -86.86428833007812,
          -35.01824951171875,
          -30.644269943237305,
          -32.64020919799805,
          -25.900230407714844,
          -27.326160430908203,
          -36.71310043334961,
          -27.384769439697266,
          -64.96180725097656,
          -23.25029945373535,
          -53.705440521240234,
          -31.03643035888672,
          -77.86016082763672,
          -75.0726089477539,
          -32.39033126831055,
          -30.5061092376709,
          -71.20488739013672,
          -71.31318664550781,
          -20.548450469970703,
          -26.724769592285156,
          -20.008569717407227,
          -37.624900817871094,
          -68.23002624511719,
          -27.97650909423828,
          -86.90310668945312,
          -25.611520767211914,
          -31.196409225463867,
          -23.910459518432617,
          -26.475889205932617,
          -30.627410888671875,
          -22.01576042175293,
          -25.222400665283203,
          -54.781158447265625,
          -60.97349166870117,
          -59.269229888916016,
          -33.79785919189453,
          -27.44607925415039,
          -52.82215118408203,
          -60.13492965698242,
          -23.901269912719727,
          -35.343990325927734,
          -20.979450225830078
         ],
         "yaxis": "y4"
        },
        {
         "hovertemplate": "<b>OLS trendline</b><br>y = -1.15023 * x + -60.6999<br>R<sup>2</sup>=0.001468<br><br>x=%{x}<br>y=%{y} <b>(trend)</b><extra></extra>",
         "legendgroup": "",
         "marker": {
          "color": "#961C26",
          "symbol": "circle"
         },
         "mode": "lines",
         "name": "",
         "showlegend": false,
         "type": "scatter",
         "x": [
          1,
          1,
          1,
          1,
          1,
          1,
          1,
          1,
          1,
          1,
          1,
          1,
          1,
          1,
          1,
          1,
          1,
          1,
          1,
          1,
          1,
          1,
          1,
          1,
          1,
          1,
          1,
          1,
          1,
          1,
          1,
          1,
          1,
          1,
          1,
          1,
          1,
          1,
          1,
          1,
          1,
          1,
          1,
          1,
          1,
          1,
          1,
          1,
          1,
          1,
          1,
          1,
          1,
          1,
          1,
          1,
          1,
          1,
          1,
          1,
          1,
          1,
          1,
          1,
          1,
          1,
          1,
          1,
          1,
          1,
          1,
          1,
          1,
          1,
          1,
          1,
          1,
          1,
          1,
          1,
          1,
          1,
          1,
          1,
          1,
          1,
          2,
          2,
          2,
          2,
          2,
          2,
          2,
          2,
          2,
          2,
          2,
          2,
          2,
          2,
          2,
          2,
          2,
          2,
          2,
          2,
          2,
          2,
          2,
          2,
          2,
          2,
          2,
          2,
          2,
          2,
          2,
          2,
          2,
          2,
          2,
          2,
          2,
          2,
          2,
          2,
          2,
          2,
          2,
          2,
          2,
          2,
          2,
          2,
          2,
          2,
          2,
          2,
          2,
          2,
          2,
          2,
          2,
          2,
          2,
          2,
          2,
          2,
          2,
          2,
          2,
          2,
          2,
          2,
          2,
          2,
          2,
          2,
          2,
          2,
          2,
          2,
          2,
          2,
          2,
          2,
          2,
          2,
          2,
          2,
          2,
          2,
          2,
          2,
          2,
          2,
          2,
          2,
          2,
          2,
          2,
          2,
          2,
          2,
          2,
          2,
          2,
          2,
          2,
          2,
          2,
          2,
          2,
          2,
          2,
          2,
          2,
          2,
          2,
          2,
          2,
          2,
          2,
          2,
          2,
          2,
          2,
          2,
          2,
          2,
          2,
          2,
          2,
          2,
          2,
          2,
          2,
          2,
          2,
          2,
          2,
          2,
          2,
          3,
          3,
          3,
          3,
          3,
          3,
          3,
          3,
          3,
          3,
          3,
          3,
          3,
          3,
          3,
          3,
          3,
          3,
          3,
          3,
          3,
          3,
          3,
          3,
          3,
          4,
          4,
          4,
          4,
          4,
          4,
          4,
          4,
          4,
          4,
          4,
          4,
          4,
          4,
          4,
          4,
          4,
          4,
          4,
          4,
          4,
          4,
          4,
          4,
          4,
          4,
          4,
          4,
          4,
          4,
          4,
          4,
          4,
          4,
          4,
          4,
          4,
          4,
          4,
          4,
          4,
          4,
          4,
          4,
          4,
          4,
          4,
          4,
          4,
          4,
          4,
          4,
          4,
          4,
          4,
          4,
          4,
          4,
          4,
          4,
          4,
          4,
          4,
          4,
          4,
          4,
          4,
          4,
          4,
          4,
          4,
          4,
          4,
          4,
          4,
          4,
          4,
          4,
          4,
          4,
          4,
          4,
          4,
          4,
          4,
          4,
          4,
          4,
          4,
          4,
          4,
          4,
          4,
          4,
          4,
          4,
          4,
          4,
          4,
          4,
          4,
          4,
          4,
          4,
          4,
          4,
          4,
          4,
          4,
          5,
          5,
          5,
          5,
          5,
          5,
          5,
          5,
          5,
          5,
          5,
          5,
          5,
          5,
          5,
          5,
          5,
          5,
          5,
          5,
          5
         ],
         "xaxis": "x4",
         "y": [
          -61.8500851757188,
          -61.8500851757188,
          -61.8500851757188,
          -61.8500851757188,
          -61.8500851757188,
          -61.8500851757188,
          -61.8500851757188,
          -61.8500851757188,
          -61.8500851757188,
          -61.8500851757188,
          -61.8500851757188,
          -61.8500851757188,
          -61.8500851757188,
          -61.8500851757188,
          -61.8500851757188,
          -61.8500851757188,
          -61.8500851757188,
          -61.8500851757188,
          -61.8500851757188,
          -61.8500851757188,
          -61.8500851757188,
          -61.8500851757188,
          -61.8500851757188,
          -61.8500851757188,
          -61.8500851757188,
          -61.8500851757188,
          -61.8500851757188,
          -61.8500851757188,
          -61.8500851757188,
          -61.8500851757188,
          -61.8500851757188,
          -61.8500851757188,
          -61.8500851757188,
          -61.8500851757188,
          -61.8500851757188,
          -61.8500851757188,
          -61.8500851757188,
          -61.8500851757188,
          -61.8500851757188,
          -61.8500851757188,
          -61.8500851757188,
          -61.8500851757188,
          -61.8500851757188,
          -61.8500851757188,
          -61.8500851757188,
          -61.8500851757188,
          -61.8500851757188,
          -61.8500851757188,
          -61.8500851757188,
          -61.8500851757188,
          -61.8500851757188,
          -61.8500851757188,
          -61.8500851757188,
          -61.8500851757188,
          -61.8500851757188,
          -61.8500851757188,
          -61.8500851757188,
          -61.8500851757188,
          -61.8500851757188,
          -61.8500851757188,
          -61.8500851757188,
          -61.8500851757188,
          -61.8500851757188,
          -61.8500851757188,
          -61.8500851757188,
          -61.8500851757188,
          -61.8500851757188,
          -61.8500851757188,
          -61.8500851757188,
          -61.8500851757188,
          -61.8500851757188,
          -61.8500851757188,
          -61.8500851757188,
          -61.8500851757188,
          -61.8500851757188,
          -61.8500851757188,
          -61.8500851757188,
          -61.8500851757188,
          -61.8500851757188,
          -61.8500851757188,
          -61.8500851757188,
          -61.8500851757188,
          -61.8500851757188,
          -61.8500851757188,
          -61.8500851757188,
          -61.8500851757188,
          -63.00031533912227,
          -63.00031533912227,
          -63.00031533912227,
          -63.00031533912227,
          -63.00031533912227,
          -63.00031533912227,
          -63.00031533912227,
          -63.00031533912227,
          -63.00031533912227,
          -63.00031533912227,
          -63.00031533912227,
          -63.00031533912227,
          -63.00031533912227,
          -63.00031533912227,
          -63.00031533912227,
          -63.00031533912227,
          -63.00031533912227,
          -63.00031533912227,
          -63.00031533912227,
          -63.00031533912227,
          -63.00031533912227,
          -63.00031533912227,
          -63.00031533912227,
          -63.00031533912227,
          -63.00031533912227,
          -63.00031533912227,
          -63.00031533912227,
          -63.00031533912227,
          -63.00031533912227,
          -63.00031533912227,
          -63.00031533912227,
          -63.00031533912227,
          -63.00031533912227,
          -63.00031533912227,
          -63.00031533912227,
          -63.00031533912227,
          -63.00031533912227,
          -63.00031533912227,
          -63.00031533912227,
          -63.00031533912227,
          -63.00031533912227,
          -63.00031533912227,
          -63.00031533912227,
          -63.00031533912227,
          -63.00031533912227,
          -63.00031533912227,
          -63.00031533912227,
          -63.00031533912227,
          -63.00031533912227,
          -63.00031533912227,
          -63.00031533912227,
          -63.00031533912227,
          -63.00031533912227,
          -63.00031533912227,
          -63.00031533912227,
          -63.00031533912227,
          -63.00031533912227,
          -63.00031533912227,
          -63.00031533912227,
          -63.00031533912227,
          -63.00031533912227,
          -63.00031533912227,
          -63.00031533912227,
          -63.00031533912227,
          -63.00031533912227,
          -63.00031533912227,
          -63.00031533912227,
          -63.00031533912227,
          -63.00031533912227,
          -63.00031533912227,
          -63.00031533912227,
          -63.00031533912227,
          -63.00031533912227,
          -63.00031533912227,
          -63.00031533912227,
          -63.00031533912227,
          -63.00031533912227,
          -63.00031533912227,
          -63.00031533912227,
          -63.00031533912227,
          -63.00031533912227,
          -63.00031533912227,
          -63.00031533912227,
          -63.00031533912227,
          -63.00031533912227,
          -63.00031533912227,
          -63.00031533912227,
          -63.00031533912227,
          -63.00031533912227,
          -63.00031533912227,
          -63.00031533912227,
          -63.00031533912227,
          -63.00031533912227,
          -63.00031533912227,
          -63.00031533912227,
          -63.00031533912227,
          -63.00031533912227,
          -63.00031533912227,
          -63.00031533912227,
          -63.00031533912227,
          -63.00031533912227,
          -63.00031533912227,
          -63.00031533912227,
          -63.00031533912227,
          -63.00031533912227,
          -63.00031533912227,
          -63.00031533912227,
          -63.00031533912227,
          -63.00031533912227,
          -63.00031533912227,
          -63.00031533912227,
          -63.00031533912227,
          -63.00031533912227,
          -63.00031533912227,
          -63.00031533912227,
          -63.00031533912227,
          -63.00031533912227,
          -63.00031533912227,
          -63.00031533912227,
          -63.00031533912227,
          -63.00031533912227,
          -63.00031533912227,
          -63.00031533912227,
          -63.00031533912227,
          -63.00031533912227,
          -63.00031533912227,
          -63.00031533912227,
          -63.00031533912227,
          -63.00031533912227,
          -63.00031533912227,
          -63.00031533912227,
          -63.00031533912227,
          -63.00031533912227,
          -63.00031533912227,
          -63.00031533912227,
          -63.00031533912227,
          -63.00031533912227,
          -64.15054550252574,
          -64.15054550252574,
          -64.15054550252574,
          -64.15054550252574,
          -64.15054550252574,
          -64.15054550252574,
          -64.15054550252574,
          -64.15054550252574,
          -64.15054550252574,
          -64.15054550252574,
          -64.15054550252574,
          -64.15054550252574,
          -64.15054550252574,
          -64.15054550252574,
          -64.15054550252574,
          -64.15054550252574,
          -64.15054550252574,
          -64.15054550252574,
          -64.15054550252574,
          -64.15054550252574,
          -64.15054550252574,
          -64.15054550252574,
          -64.15054550252574,
          -64.15054550252574,
          -64.15054550252574,
          -65.30077566592921,
          -65.30077566592921,
          -65.30077566592921,
          -65.30077566592921,
          -65.30077566592921,
          -65.30077566592921,
          -65.30077566592921,
          -65.30077566592921,
          -65.30077566592921,
          -65.30077566592921,
          -65.30077566592921,
          -65.30077566592921,
          -65.30077566592921,
          -65.30077566592921,
          -65.30077566592921,
          -65.30077566592921,
          -65.30077566592921,
          -65.30077566592921,
          -65.30077566592921,
          -65.30077566592921,
          -65.30077566592921,
          -65.30077566592921,
          -65.30077566592921,
          -65.30077566592921,
          -65.30077566592921,
          -65.30077566592921,
          -65.30077566592921,
          -65.30077566592921,
          -65.30077566592921,
          -65.30077566592921,
          -65.30077566592921,
          -65.30077566592921,
          -65.30077566592921,
          -65.30077566592921,
          -65.30077566592921,
          -65.30077566592921,
          -65.30077566592921,
          -65.30077566592921,
          -65.30077566592921,
          -65.30077566592921,
          -65.30077566592921,
          -65.30077566592921,
          -65.30077566592921,
          -65.30077566592921,
          -65.30077566592921,
          -65.30077566592921,
          -65.30077566592921,
          -65.30077566592921,
          -65.30077566592921,
          -65.30077566592921,
          -65.30077566592921,
          -65.30077566592921,
          -65.30077566592921,
          -65.30077566592921,
          -65.30077566592921,
          -65.30077566592921,
          -65.30077566592921,
          -65.30077566592921,
          -65.30077566592921,
          -65.30077566592921,
          -65.30077566592921,
          -65.30077566592921,
          -65.30077566592921,
          -65.30077566592921,
          -65.30077566592921,
          -65.30077566592921,
          -65.30077566592921,
          -65.30077566592921,
          -65.30077566592921,
          -65.30077566592921,
          -65.30077566592921,
          -65.30077566592921,
          -65.30077566592921,
          -65.30077566592921,
          -65.30077566592921,
          -65.30077566592921,
          -65.30077566592921,
          -65.30077566592921,
          -65.30077566592921,
          -65.30077566592921,
          -65.30077566592921,
          -65.30077566592921,
          -65.30077566592921,
          -65.30077566592921,
          -65.30077566592921,
          -65.30077566592921,
          -65.30077566592921,
          -65.30077566592921,
          -65.30077566592921,
          -65.30077566592921,
          -65.30077566592921,
          -65.30077566592921,
          -65.30077566592921,
          -65.30077566592921,
          -65.30077566592921,
          -65.30077566592921,
          -65.30077566592921,
          -65.30077566592921,
          -65.30077566592921,
          -65.30077566592921,
          -65.30077566592921,
          -65.30077566592921,
          -65.30077566592921,
          -65.30077566592921,
          -65.30077566592921,
          -65.30077566592921,
          -65.30077566592921,
          -65.30077566592921,
          -65.30077566592921,
          -66.45100582933267,
          -66.45100582933267,
          -66.45100582933267,
          -66.45100582933267,
          -66.45100582933267,
          -66.45100582933267,
          -66.45100582933267,
          -66.45100582933267,
          -66.45100582933267,
          -66.45100582933267,
          -66.45100582933267,
          -66.45100582933267,
          -66.45100582933267,
          -66.45100582933267,
          -66.45100582933267,
          -66.45100582933267,
          -66.45100582933267,
          -66.45100582933267,
          -66.45100582933267,
          -66.45100582933267,
          -66.45100582933267
         ],
         "yaxis": "y4"
        },
        {
         "marker": {
          "color": "#000000"
         },
         "mode": "markers",
         "name": "Safety X Left Angles",
         "showlegend": false,
         "type": "scatter",
         "x": [
          4,
          4,
          4,
          4,
          4,
          4,
          4,
          4,
          4,
          3,
          3,
          3,
          3,
          3,
          5,
          5,
          5,
          5,
          5,
          5,
          5,
          5,
          5,
          5,
          4,
          4,
          4,
          4,
          4,
          4,
          4,
          1,
          1,
          1,
          1,
          1,
          1,
          1,
          1,
          1,
          1,
          1,
          1,
          1,
          1,
          1,
          1,
          1,
          1,
          1,
          1,
          1,
          2,
          2,
          2,
          2,
          2,
          2,
          2,
          2,
          4,
          4,
          4,
          4,
          4,
          4,
          4,
          4,
          4,
          4,
          4,
          4,
          4,
          4,
          4,
          1,
          1,
          1,
          1,
          1,
          2,
          2,
          2,
          2,
          2,
          2,
          2,
          2,
          4,
          4,
          2,
          2,
          2,
          2,
          2,
          2,
          2,
          2,
          2,
          2,
          2,
          2,
          2,
          2,
          2,
          2,
          2,
          2,
          2,
          2,
          2,
          2,
          2,
          2,
          2,
          2,
          2,
          4,
          1,
          1,
          1,
          1,
          1,
          1,
          1,
          1,
          1,
          1,
          1,
          1,
          2,
          4,
          4,
          4,
          2,
          2,
          2,
          2,
          2,
          2,
          2,
          2,
          2,
          2,
          2,
          2,
          2,
          2,
          2,
          2,
          2,
          2,
          2,
          2,
          2,
          2,
          2,
          2,
          2,
          2,
          2,
          2,
          2,
          2,
          2,
          5,
          5,
          5,
          4,
          4,
          4,
          4,
          4,
          4,
          2,
          2,
          2,
          2,
          2,
          2,
          2,
          4,
          4,
          3,
          3,
          1,
          1,
          1,
          1,
          1,
          1,
          1,
          4,
          4,
          4,
          4
         ],
         "xaxis": "x5",
         "y": [
          88.1945571899414,
          50.72557830810547,
          21.811939239501953,
          29.905359268188477,
          41.25062942504883,
          25.159080505371094,
          30.86277961730957,
          26.440059661865234,
          50.551979064941406,
          41.024749755859375,
          33.857421875,
          36.067901611328125,
          25.85988998413086,
          60.513648986816406,
          36.53163146972656,
          89.66351318359375,
          30.77256965637207,
          21.977020263671875,
          29.72987937927246,
          52.966670989990234,
          63.472591400146484,
          49.09408950805664,
          22.875389099121094,
          60.31142044067383,
          75.30724334716797,
          21.558029174804688,
          25.27928924560547,
          22.070110321044922,
          49.338130950927734,
          35.9788703918457,
          28.081199645996094,
          21.83371925354004,
          20.056320190429688,
          37.096839904785156,
          21.663089752197266,
          20.6629695892334,
          21.78413963317871,
          41.566471099853516,
          41.346378326416016,
          51.2636604309082,
          24.47719955444336,
          27.1146297454834,
          20.08378028869629,
          32.195350646972656,
          24.90196990966797,
          47.493019104003906,
          36.511131286621094,
          50.96208953857422,
          65.21227264404297,
          40.5561408996582,
          36.13201141357422,
          36.78647994995117,
          33.552310943603516,
          29.98465919494629,
          23.690160751342773,
          23.406009674072266,
          22.472089767456055,
          24.697099685668945,
          116.66699981689453,
          28.888029098510742,
          23.93140983581543,
          45.84912872314453,
          45.10898971557617,
          43.02061080932617,
          20.47355079650879,
          20.23674964904785,
          20.011959075927734,
          23.422470092773438,
          22.137540817260742,
          29.010379791259766,
          29.77819061279297,
          40.212711334228516,
          35.85363006591797,
          64.5902328491211,
          98.35209655761719,
          25.221860885620117,
          21.988370895385742,
          23.63187026977539,
          44.51539993286133,
          64.25872802734375,
          41.480770111083984,
          45.12030029296875,
          30.52526092529297,
          29.851110458374023,
          29.32048988342285,
          36.534610748291016,
          38.7135009765625,
          29.26412010192871,
          25.839309692382812,
          20.51099967956543,
          64.88255310058594,
          65.22132873535156,
          32.456199645996094,
          23.33534049987793,
          33.781009674072266,
          33.96120071411133,
          27.764469146728516,
          27.378719329833984,
          42.51914978027344,
          93.65608215332031,
          53.30543899536133,
          31.244930267333984,
          34.506160736083984,
          36.96937942504883,
          21.94478988647461,
          45.121341705322266,
          33.98067855834961,
          50.69255065917969,
          77.67333984375,
          44.36307907104492,
          38.9935417175293,
          30.301029205322266,
          52.9716911315918,
          33.15237045288086,
          21.77819061279297,
          56.868228912353516,
          97.52510070800781,
          39.71184158325195,
          23.050540924072266,
          54.52363967895508,
          42.243839263916016,
          35.0937385559082,
          38.25600814819336,
          24.744850158691406,
          51.111610412597656,
          66.10653686523438,
          67.77543640136719,
          63.53036880493164,
          24.88939094543457,
          83.0567398071289,
          21.988330841064453,
          23.920970916748047,
          21.18044090270996,
          27.84576988220215,
          25.81460952758789,
          26.05146026611328,
          23.959320068359375,
          25.26226043701172,
          42.47114181518555,
          69.38472747802734,
          20.736440658569336,
          47.140769958496094,
          31.424449920654297,
          20.581499099731445,
          20.37894058227539,
          25.932859420776367,
          43.710960388183594,
          70.0653305053711,
          61.1662712097168,
          27.81270980834961,
          27.734130859375,
          46.66849899291992,
          39.46187973022461,
          32.882259368896484,
          40.39934158325195,
          58.68014144897461,
          64.8039779663086,
          65.66362762451172,
          45.415931701660156,
          61.0583381652832,
          42.24068069458008,
          35.17232131958008,
          56.05961990356445,
          33.23413848876953,
          23.65258026123047,
          26.052600860595703,
          22.762739181518555,
          20.82625961303711,
          20.06859016418457,
          20.415449142456055,
          25.025699615478516,
          24.585140228271484,
          32.556339263916016,
          20.86294937133789,
          24.590919494628906,
          38.13206100463867,
          60.01482009887695,
          20.296279907226562,
          20.07015037536621,
          24.579479217529297,
          60.18333053588867,
          23.893970489501953,
          24.677690505981445,
          24.080860137939453,
          32.75545883178711,
          26.547870635986328,
          22.355379104614258,
          35.75440979003906,
          42.62133026123047,
          49.30535125732422,
          59.532081604003906,
          53.21710968017578,
          52.662899017333984,
          26.90212059020996,
          46.869930267333984,
          40.63090896606445
         ],
         "yaxis": "y5"
        },
        {
         "hovertemplate": "<b>OLS trendline</b><br>y = -1.08623 * x + 41.3042<br>R<sup>2</sup>=0.005948<br><br>x=%{x}<br>y=%{y} <b>(trend)</b><extra></extra>",
         "legendgroup": "",
         "marker": {
          "color": "#961C26",
          "symbol": "circle"
         },
         "mode": "lines",
         "name": "",
         "showlegend": false,
         "type": "scatter",
         "x": [
          1,
          1,
          1,
          1,
          1,
          1,
          1,
          1,
          1,
          1,
          1,
          1,
          1,
          1,
          1,
          1,
          1,
          1,
          1,
          1,
          1,
          1,
          1,
          1,
          1,
          1,
          1,
          1,
          1,
          1,
          1,
          1,
          1,
          1,
          1,
          1,
          1,
          1,
          1,
          1,
          1,
          1,
          1,
          1,
          1,
          2,
          2,
          2,
          2,
          2,
          2,
          2,
          2,
          2,
          2,
          2,
          2,
          2,
          2,
          2,
          2,
          2,
          2,
          2,
          2,
          2,
          2,
          2,
          2,
          2,
          2,
          2,
          2,
          2,
          2,
          2,
          2,
          2,
          2,
          2,
          2,
          2,
          2,
          2,
          2,
          2,
          2,
          2,
          2,
          2,
          2,
          2,
          2,
          2,
          2,
          2,
          2,
          2,
          2,
          2,
          2,
          2,
          2,
          2,
          2,
          2,
          2,
          2,
          2,
          2,
          2,
          2,
          2,
          2,
          2,
          2,
          2,
          2,
          2,
          2,
          2,
          2,
          2,
          2,
          2,
          2,
          2,
          3,
          3,
          3,
          3,
          3,
          3,
          3,
          4,
          4,
          4,
          4,
          4,
          4,
          4,
          4,
          4,
          4,
          4,
          4,
          4,
          4,
          4,
          4,
          4,
          4,
          4,
          4,
          4,
          4,
          4,
          4,
          4,
          4,
          4,
          4,
          4,
          4,
          4,
          4,
          4,
          4,
          4,
          4,
          4,
          4,
          4,
          4,
          4,
          4,
          4,
          4,
          4,
          4,
          4,
          4,
          4,
          5,
          5,
          5,
          5,
          5,
          5,
          5,
          5,
          5,
          5,
          5,
          5,
          5
         ],
         "xaxis": "x5",
         "y": [
          40.217984346037504,
          40.217984346037504,
          40.217984346037504,
          40.217984346037504,
          40.217984346037504,
          40.217984346037504,
          40.217984346037504,
          40.217984346037504,
          40.217984346037504,
          40.217984346037504,
          40.217984346037504,
          40.217984346037504,
          40.217984346037504,
          40.217984346037504,
          40.217984346037504,
          40.217984346037504,
          40.217984346037504,
          40.217984346037504,
          40.217984346037504,
          40.217984346037504,
          40.217984346037504,
          40.217984346037504,
          40.217984346037504,
          40.217984346037504,
          40.217984346037504,
          40.217984346037504,
          40.217984346037504,
          40.217984346037504,
          40.217984346037504,
          40.217984346037504,
          40.217984346037504,
          40.217984346037504,
          40.217984346037504,
          40.217984346037504,
          40.217984346037504,
          40.217984346037504,
          40.217984346037504,
          40.217984346037504,
          40.217984346037504,
          40.217984346037504,
          40.217984346037504,
          40.217984346037504,
          40.217984346037504,
          40.217984346037504,
          40.217984346037504,
          39.13175049542388,
          39.13175049542388,
          39.13175049542388,
          39.13175049542388,
          39.13175049542388,
          39.13175049542388,
          39.13175049542388,
          39.13175049542388,
          39.13175049542388,
          39.13175049542388,
          39.13175049542388,
          39.13175049542388,
          39.13175049542388,
          39.13175049542388,
          39.13175049542388,
          39.13175049542388,
          39.13175049542388,
          39.13175049542388,
          39.13175049542388,
          39.13175049542388,
          39.13175049542388,
          39.13175049542388,
          39.13175049542388,
          39.13175049542388,
          39.13175049542388,
          39.13175049542388,
          39.13175049542388,
          39.13175049542388,
          39.13175049542388,
          39.13175049542388,
          39.13175049542388,
          39.13175049542388,
          39.13175049542388,
          39.13175049542388,
          39.13175049542388,
          39.13175049542388,
          39.13175049542388,
          39.13175049542388,
          39.13175049542388,
          39.13175049542388,
          39.13175049542388,
          39.13175049542388,
          39.13175049542388,
          39.13175049542388,
          39.13175049542388,
          39.13175049542388,
          39.13175049542388,
          39.13175049542388,
          39.13175049542388,
          39.13175049542388,
          39.13175049542388,
          39.13175049542388,
          39.13175049542388,
          39.13175049542388,
          39.13175049542388,
          39.13175049542388,
          39.13175049542388,
          39.13175049542388,
          39.13175049542388,
          39.13175049542388,
          39.13175049542388,
          39.13175049542388,
          39.13175049542388,
          39.13175049542388,
          39.13175049542388,
          39.13175049542388,
          39.13175049542388,
          39.13175049542388,
          39.13175049542388,
          39.13175049542388,
          39.13175049542388,
          39.13175049542388,
          39.13175049542388,
          39.13175049542388,
          39.13175049542388,
          39.13175049542388,
          39.13175049542388,
          39.13175049542388,
          39.13175049542388,
          39.13175049542388,
          39.13175049542388,
          39.13175049542388,
          38.04551664481026,
          38.04551664481026,
          38.04551664481026,
          38.04551664481026,
          38.04551664481026,
          38.04551664481026,
          38.04551664481026,
          36.959282794196646,
          36.959282794196646,
          36.959282794196646,
          36.959282794196646,
          36.959282794196646,
          36.959282794196646,
          36.959282794196646,
          36.959282794196646,
          36.959282794196646,
          36.959282794196646,
          36.959282794196646,
          36.959282794196646,
          36.959282794196646,
          36.959282794196646,
          36.959282794196646,
          36.959282794196646,
          36.959282794196646,
          36.959282794196646,
          36.959282794196646,
          36.959282794196646,
          36.959282794196646,
          36.959282794196646,
          36.959282794196646,
          36.959282794196646,
          36.959282794196646,
          36.959282794196646,
          36.959282794196646,
          36.959282794196646,
          36.959282794196646,
          36.959282794196646,
          36.959282794196646,
          36.959282794196646,
          36.959282794196646,
          36.959282794196646,
          36.959282794196646,
          36.959282794196646,
          36.959282794196646,
          36.959282794196646,
          36.959282794196646,
          36.959282794196646,
          36.959282794196646,
          36.959282794196646,
          36.959282794196646,
          36.959282794196646,
          36.959282794196646,
          36.959282794196646,
          36.959282794196646,
          36.959282794196646,
          36.959282794196646,
          35.87304894358302,
          35.87304894358302,
          35.87304894358302,
          35.87304894358302,
          35.87304894358302,
          35.87304894358302,
          35.87304894358302,
          35.87304894358302,
          35.87304894358302,
          35.87304894358302,
          35.87304894358302,
          35.87304894358302,
          35.87304894358302
         ],
         "yaxis": "y5"
        }
       ],
       "layout": {
        "annotations": [
         {
          "font": {
           "size": 16
          },
          "showarrow": false,
          "text": "Difficulty",
          "x": 0.2375,
          "xanchor": "center",
          "xref": "paper",
          "y": 1,
          "yanchor": "bottom",
          "yref": "paper"
         },
         {
          "font": {
           "size": 16
          },
          "showarrow": false,
          "text": "Rotations Left",
          "x": 0.7625,
          "xanchor": "center",
          "xref": "paper",
          "y": 1,
          "yanchor": "bottom",
          "yref": "paper"
         },
         {
          "font": {
           "size": 16
          },
          "showarrow": false,
          "text": "Rotations Right",
          "x": 0.2375,
          "xanchor": "center",
          "xref": "paper",
          "y": 0.6333333333333333,
          "yanchor": "bottom",
          "yref": "paper"
         },
         {
          "font": {
           "size": 16
          },
          "showarrow": false,
          "text": "Angles Left",
          "x": 0.7625,
          "xanchor": "center",
          "xref": "paper",
          "y": 0.6333333333333333,
          "yanchor": "bottom",
          "yref": "paper"
         },
         {
          "font": {
           "size": 16
          },
          "showarrow": false,
          "text": "Angles Right",
          "x": 0.2375,
          "xanchor": "center",
          "xref": "paper",
          "y": 0.26666666666666666,
          "yanchor": "bottom",
          "yref": "paper"
         }
        ],
        "font": {
         "family": "Lato, sans-serif",
         "size": 14
        },
        "height": 768,
        "hoverlabel": {
         "font": {
          "family": "Lato, sans-serif",
          "size": 13
         }
        },
        "hovermode": "y unified",
        "legend": {
         "orientation": "h",
         "x": 0.5,
         "xanchor": "center",
         "y": 1,
         "yanchor": "bottom"
        },
        "paper_bgcolor": "rgba(255,255,255,1)",
        "plot_bgcolor": "rgba(255,255,255,1)",
        "template": {
         "data": {
          "bar": [
           {
            "error_x": {
             "color": "rgb(36,36,36)"
            },
            "error_y": {
             "color": "rgb(36,36,36)"
            },
            "marker": {
             "line": {
              "color": "white",
              "width": 0.5
             },
             "pattern": {
              "fillmode": "overlay",
              "size": 10,
              "solidity": 0.2
             }
            },
            "type": "bar"
           }
          ],
          "barpolar": [
           {
            "marker": {
             "line": {
              "color": "white",
              "width": 0.5
             },
             "pattern": {
              "fillmode": "overlay",
              "size": 10,
              "solidity": 0.2
             }
            },
            "type": "barpolar"
           }
          ],
          "carpet": [
           {
            "aaxis": {
             "endlinecolor": "rgb(36,36,36)",
             "gridcolor": "white",
             "linecolor": "white",
             "minorgridcolor": "white",
             "startlinecolor": "rgb(36,36,36)"
            },
            "baxis": {
             "endlinecolor": "rgb(36,36,36)",
             "gridcolor": "white",
             "linecolor": "white",
             "minorgridcolor": "white",
             "startlinecolor": "rgb(36,36,36)"
            },
            "type": "carpet"
           }
          ],
          "choropleth": [
           {
            "colorbar": {
             "outlinewidth": 1,
             "tickcolor": "rgb(36,36,36)",
             "ticks": "outside"
            },
            "type": "choropleth"
           }
          ],
          "contour": [
           {
            "colorbar": {
             "outlinewidth": 1,
             "tickcolor": "rgb(36,36,36)",
             "ticks": "outside"
            },
            "colorscale": [
             [
              0,
              "#440154"
             ],
             [
              0.1111111111111111,
              "#482878"
             ],
             [
              0.2222222222222222,
              "#3e4989"
             ],
             [
              0.3333333333333333,
              "#31688e"
             ],
             [
              0.4444444444444444,
              "#26828e"
             ],
             [
              0.5555555555555556,
              "#1f9e89"
             ],
             [
              0.6666666666666666,
              "#35b779"
             ],
             [
              0.7777777777777778,
              "#6ece58"
             ],
             [
              0.8888888888888888,
              "#b5de2b"
             ],
             [
              1,
              "#fde725"
             ]
            ],
            "type": "contour"
           }
          ],
          "contourcarpet": [
           {
            "colorbar": {
             "outlinewidth": 1,
             "tickcolor": "rgb(36,36,36)",
             "ticks": "outside"
            },
            "type": "contourcarpet"
           }
          ],
          "heatmap": [
           {
            "colorbar": {
             "outlinewidth": 1,
             "tickcolor": "rgb(36,36,36)",
             "ticks": "outside"
            },
            "colorscale": [
             [
              0,
              "#440154"
             ],
             [
              0.1111111111111111,
              "#482878"
             ],
             [
              0.2222222222222222,
              "#3e4989"
             ],
             [
              0.3333333333333333,
              "#31688e"
             ],
             [
              0.4444444444444444,
              "#26828e"
             ],
             [
              0.5555555555555556,
              "#1f9e89"
             ],
             [
              0.6666666666666666,
              "#35b779"
             ],
             [
              0.7777777777777778,
              "#6ece58"
             ],
             [
              0.8888888888888888,
              "#b5de2b"
             ],
             [
              1,
              "#fde725"
             ]
            ],
            "type": "heatmap"
           }
          ],
          "heatmapgl": [
           {
            "colorbar": {
             "outlinewidth": 1,
             "tickcolor": "rgb(36,36,36)",
             "ticks": "outside"
            },
            "colorscale": [
             [
              0,
              "#440154"
             ],
             [
              0.1111111111111111,
              "#482878"
             ],
             [
              0.2222222222222222,
              "#3e4989"
             ],
             [
              0.3333333333333333,
              "#31688e"
             ],
             [
              0.4444444444444444,
              "#26828e"
             ],
             [
              0.5555555555555556,
              "#1f9e89"
             ],
             [
              0.6666666666666666,
              "#35b779"
             ],
             [
              0.7777777777777778,
              "#6ece58"
             ],
             [
              0.8888888888888888,
              "#b5de2b"
             ],
             [
              1,
              "#fde725"
             ]
            ],
            "type": "heatmapgl"
           }
          ],
          "histogram": [
           {
            "marker": {
             "line": {
              "color": "white",
              "width": 0.6
             }
            },
            "type": "histogram"
           }
          ],
          "histogram2d": [
           {
            "colorbar": {
             "outlinewidth": 1,
             "tickcolor": "rgb(36,36,36)",
             "ticks": "outside"
            },
            "colorscale": [
             [
              0,
              "#440154"
             ],
             [
              0.1111111111111111,
              "#482878"
             ],
             [
              0.2222222222222222,
              "#3e4989"
             ],
             [
              0.3333333333333333,
              "#31688e"
             ],
             [
              0.4444444444444444,
              "#26828e"
             ],
             [
              0.5555555555555556,
              "#1f9e89"
             ],
             [
              0.6666666666666666,
              "#35b779"
             ],
             [
              0.7777777777777778,
              "#6ece58"
             ],
             [
              0.8888888888888888,
              "#b5de2b"
             ],
             [
              1,
              "#fde725"
             ]
            ],
            "type": "histogram2d"
           }
          ],
          "histogram2dcontour": [
           {
            "colorbar": {
             "outlinewidth": 1,
             "tickcolor": "rgb(36,36,36)",
             "ticks": "outside"
            },
            "colorscale": [
             [
              0,
              "#440154"
             ],
             [
              0.1111111111111111,
              "#482878"
             ],
             [
              0.2222222222222222,
              "#3e4989"
             ],
             [
              0.3333333333333333,
              "#31688e"
             ],
             [
              0.4444444444444444,
              "#26828e"
             ],
             [
              0.5555555555555556,
              "#1f9e89"
             ],
             [
              0.6666666666666666,
              "#35b779"
             ],
             [
              0.7777777777777778,
              "#6ece58"
             ],
             [
              0.8888888888888888,
              "#b5de2b"
             ],
             [
              1,
              "#fde725"
             ]
            ],
            "type": "histogram2dcontour"
           }
          ],
          "mesh3d": [
           {
            "colorbar": {
             "outlinewidth": 1,
             "tickcolor": "rgb(36,36,36)",
             "ticks": "outside"
            },
            "type": "mesh3d"
           }
          ],
          "parcoords": [
           {
            "line": {
             "colorbar": {
              "outlinewidth": 1,
              "tickcolor": "rgb(36,36,36)",
              "ticks": "outside"
             }
            },
            "type": "parcoords"
           }
          ],
          "pie": [
           {
            "automargin": true,
            "type": "pie"
           }
          ],
          "scatter": [
           {
            "fillpattern": {
             "fillmode": "overlay",
             "size": 10,
             "solidity": 0.2
            },
            "type": "scatter"
           }
          ],
          "scatter3d": [
           {
            "line": {
             "colorbar": {
              "outlinewidth": 1,
              "tickcolor": "rgb(36,36,36)",
              "ticks": "outside"
             }
            },
            "marker": {
             "colorbar": {
              "outlinewidth": 1,
              "tickcolor": "rgb(36,36,36)",
              "ticks": "outside"
             }
            },
            "type": "scatter3d"
           }
          ],
          "scattercarpet": [
           {
            "marker": {
             "colorbar": {
              "outlinewidth": 1,
              "tickcolor": "rgb(36,36,36)",
              "ticks": "outside"
             }
            },
            "type": "scattercarpet"
           }
          ],
          "scattergeo": [
           {
            "marker": {
             "colorbar": {
              "outlinewidth": 1,
              "tickcolor": "rgb(36,36,36)",
              "ticks": "outside"
             }
            },
            "type": "scattergeo"
           }
          ],
          "scattergl": [
           {
            "marker": {
             "colorbar": {
              "outlinewidth": 1,
              "tickcolor": "rgb(36,36,36)",
              "ticks": "outside"
             }
            },
            "type": "scattergl"
           }
          ],
          "scattermapbox": [
           {
            "marker": {
             "colorbar": {
              "outlinewidth": 1,
              "tickcolor": "rgb(36,36,36)",
              "ticks": "outside"
             }
            },
            "type": "scattermapbox"
           }
          ],
          "scatterpolar": [
           {
            "marker": {
             "colorbar": {
              "outlinewidth": 1,
              "tickcolor": "rgb(36,36,36)",
              "ticks": "outside"
             }
            },
            "type": "scatterpolar"
           }
          ],
          "scatterpolargl": [
           {
            "marker": {
             "colorbar": {
              "outlinewidth": 1,
              "tickcolor": "rgb(36,36,36)",
              "ticks": "outside"
             }
            },
            "type": "scatterpolargl"
           }
          ],
          "scatterternary": [
           {
            "marker": {
             "colorbar": {
              "outlinewidth": 1,
              "tickcolor": "rgb(36,36,36)",
              "ticks": "outside"
             }
            },
            "type": "scatterternary"
           }
          ],
          "surface": [
           {
            "colorbar": {
             "outlinewidth": 1,
             "tickcolor": "rgb(36,36,36)",
             "ticks": "outside"
            },
            "colorscale": [
             [
              0,
              "#440154"
             ],
             [
              0.1111111111111111,
              "#482878"
             ],
             [
              0.2222222222222222,
              "#3e4989"
             ],
             [
              0.3333333333333333,
              "#31688e"
             ],
             [
              0.4444444444444444,
              "#26828e"
             ],
             [
              0.5555555555555556,
              "#1f9e89"
             ],
             [
              0.6666666666666666,
              "#35b779"
             ],
             [
              0.7777777777777778,
              "#6ece58"
             ],
             [
              0.8888888888888888,
              "#b5de2b"
             ],
             [
              1,
              "#fde725"
             ]
            ],
            "type": "surface"
           }
          ],
          "table": [
           {
            "cells": {
             "fill": {
              "color": "rgb(237,237,237)"
             },
             "line": {
              "color": "white"
             }
            },
            "header": {
             "fill": {
              "color": "rgb(217,217,217)"
             },
             "line": {
              "color": "white"
             }
            },
            "type": "table"
           }
          ]
         },
         "layout": {
          "annotationdefaults": {
           "arrowhead": 0,
           "arrowwidth": 1
          },
          "autotypenumbers": "strict",
          "coloraxis": {
           "colorbar": {
            "outlinewidth": 1,
            "tickcolor": "rgb(36,36,36)",
            "ticks": "outside"
           }
          },
          "colorscale": {
           "diverging": [
            [
             0,
             "rgb(103,0,31)"
            ],
            [
             0.1,
             "rgb(178,24,43)"
            ],
            [
             0.2,
             "rgb(214,96,77)"
            ],
            [
             0.3,
             "rgb(244,165,130)"
            ],
            [
             0.4,
             "rgb(253,219,199)"
            ],
            [
             0.5,
             "rgb(247,247,247)"
            ],
            [
             0.6,
             "rgb(209,229,240)"
            ],
            [
             0.7,
             "rgb(146,197,222)"
            ],
            [
             0.8,
             "rgb(67,147,195)"
            ],
            [
             0.9,
             "rgb(33,102,172)"
            ],
            [
             1,
             "rgb(5,48,97)"
            ]
           ],
           "sequential": [
            [
             0,
             "#440154"
            ],
            [
             0.1111111111111111,
             "#482878"
            ],
            [
             0.2222222222222222,
             "#3e4989"
            ],
            [
             0.3333333333333333,
             "#31688e"
            ],
            [
             0.4444444444444444,
             "#26828e"
            ],
            [
             0.5555555555555556,
             "#1f9e89"
            ],
            [
             0.6666666666666666,
             "#35b779"
            ],
            [
             0.7777777777777778,
             "#6ece58"
            ],
            [
             0.8888888888888888,
             "#b5de2b"
            ],
            [
             1,
             "#fde725"
            ]
           ],
           "sequentialminus": [
            [
             0,
             "#440154"
            ],
            [
             0.1111111111111111,
             "#482878"
            ],
            [
             0.2222222222222222,
             "#3e4989"
            ],
            [
             0.3333333333333333,
             "#31688e"
            ],
            [
             0.4444444444444444,
             "#26828e"
            ],
            [
             0.5555555555555556,
             "#1f9e89"
            ],
            [
             0.6666666666666666,
             "#35b779"
            ],
            [
             0.7777777777777778,
             "#6ece58"
            ],
            [
             0.8888888888888888,
             "#b5de2b"
            ],
            [
             1,
             "#fde725"
            ]
           ]
          },
          "colorway": [
           "#1F77B4",
           "#FF7F0E",
           "#2CA02C",
           "#D62728",
           "#9467BD",
           "#8C564B",
           "#E377C2",
           "#7F7F7F",
           "#BCBD22",
           "#17BECF"
          ],
          "font": {
           "color": "rgb(36,36,36)"
          },
          "geo": {
           "bgcolor": "white",
           "lakecolor": "white",
           "landcolor": "white",
           "showlakes": true,
           "showland": true,
           "subunitcolor": "white"
          },
          "hoverlabel": {
           "align": "left"
          },
          "hovermode": "closest",
          "mapbox": {
           "style": "light"
          },
          "paper_bgcolor": "white",
          "plot_bgcolor": "white",
          "polar": {
           "angularaxis": {
            "gridcolor": "rgb(232,232,232)",
            "linecolor": "rgb(36,36,36)",
            "showgrid": false,
            "showline": true,
            "ticks": "outside"
           },
           "bgcolor": "white",
           "radialaxis": {
            "gridcolor": "rgb(232,232,232)",
            "linecolor": "rgb(36,36,36)",
            "showgrid": false,
            "showline": true,
            "ticks": "outside"
           }
          },
          "scene": {
           "xaxis": {
            "backgroundcolor": "white",
            "gridcolor": "rgb(232,232,232)",
            "gridwidth": 2,
            "linecolor": "rgb(36,36,36)",
            "showbackground": true,
            "showgrid": false,
            "showline": true,
            "ticks": "outside",
            "zeroline": false,
            "zerolinecolor": "rgb(36,36,36)"
           },
           "yaxis": {
            "backgroundcolor": "white",
            "gridcolor": "rgb(232,232,232)",
            "gridwidth": 2,
            "linecolor": "rgb(36,36,36)",
            "showbackground": true,
            "showgrid": false,
            "showline": true,
            "ticks": "outside",
            "zeroline": false,
            "zerolinecolor": "rgb(36,36,36)"
           },
           "zaxis": {
            "backgroundcolor": "white",
            "gridcolor": "rgb(232,232,232)",
            "gridwidth": 2,
            "linecolor": "rgb(36,36,36)",
            "showbackground": true,
            "showgrid": false,
            "showline": true,
            "ticks": "outside",
            "zeroline": false,
            "zerolinecolor": "rgb(36,36,36)"
           }
          },
          "shapedefaults": {
           "fillcolor": "black",
           "line": {
            "width": 0
           },
           "opacity": 0.3
          },
          "ternary": {
           "aaxis": {
            "gridcolor": "rgb(232,232,232)",
            "linecolor": "rgb(36,36,36)",
            "showgrid": false,
            "showline": true,
            "ticks": "outside"
           },
           "baxis": {
            "gridcolor": "rgb(232,232,232)",
            "linecolor": "rgb(36,36,36)",
            "showgrid": false,
            "showline": true,
            "ticks": "outside"
           },
           "bgcolor": "white",
           "caxis": {
            "gridcolor": "rgb(232,232,232)",
            "linecolor": "rgb(36,36,36)",
            "showgrid": false,
            "showline": true,
            "ticks": "outside"
           }
          },
          "title": {
           "x": 0.05
          },
          "xaxis": {
           "automargin": true,
           "gridcolor": "rgb(232,232,232)",
           "linecolor": "rgb(36,36,36)",
           "showgrid": false,
           "showline": true,
           "ticks": "outside",
           "title": {
            "standoff": 15
           },
           "zeroline": false,
           "zerolinecolor": "rgb(36,36,36)"
          },
          "yaxis": {
           "automargin": true,
           "gridcolor": "rgb(232,232,232)",
           "linecolor": "rgb(36,36,36)",
           "showgrid": false,
           "showline": true,
           "ticks": "outside",
           "title": {
            "standoff": 15
           },
           "zeroline": false,
           "zerolinecolor": "rgb(36,36,36)"
          }
         }
        },
        "width": 1024,
        "xaxis": {
         "anchor": "y",
         "domain": [
          0,
          0.475
         ],
         "dtick": 1
        },
        "xaxis2": {
         "anchor": "y2",
         "domain": [
          0.525,
          1
         ]
        },
        "xaxis3": {
         "anchor": "y3",
         "domain": [
          0,
          0.475
         ]
        },
        "xaxis4": {
         "anchor": "y4",
         "domain": [
          0.525,
          1
         ]
        },
        "xaxis5": {
         "anchor": "y5",
         "domain": [
          0,
          0.475
         ],
         "dtick": 1,
         "tick0": 0
        },
        "xaxis6": {
         "anchor": "y6",
         "domain": [
          0.525,
          1
         ]
        },
        "yaxis": {
         "anchor": "x",
         "domain": [
          0.7333333333333334,
          1
         ]
        },
        "yaxis2": {
         "anchor": "x2",
         "domain": [
          0.7333333333333334,
          1
         ]
        },
        "yaxis3": {
         "anchor": "x3",
         "domain": [
          0.3666666666666667,
          0.6333333333333333
         ]
        },
        "yaxis4": {
         "anchor": "x4",
         "domain": [
          0.3666666666666667,
          0.6333333333333333
         ],
         "ticksuffix": "°"
        },
        "yaxis5": {
         "anchor": "x5",
         "domain": [
          0,
          0.26666666666666666
         ],
         "ticksuffix": "°"
        },
        "yaxis6": {
         "anchor": "x6",
         "domain": [
          0,
          0.26666666666666666
         ]
        }
       }
      }
     },
     "metadata": {},
     "output_type": "display_data"
    }
   ],
   "source": [
    "fig_master = make_subplots(\n",
    "    rows=3, \n",
    "    cols=2, \n",
    "    specs=[[{}, {}],[{}, {}],[{}, {}]], \n",
    "    shared_yaxes=False, \n",
    "    horizontal_spacing=0.05,\n",
    "    vertical_spacing=0.1,\n",
    "    subplot_titles=(\"Difficulty\", \"Rotations Left\", \"Rotations Right\", \"Angles Left\",\"Angles Right\")\n",
    ")\n",
    "# Plots for correlations. Trendline generated as linear trendline via https://plotly.com/python/linear-fits/\n",
    "fig_master.append_trace(go.Scatter(mode='markers',x = safety,y = difficulty,showlegend=False,name='Safety X Difficulty', marker_color='#000000'),1,1)\n",
    "trend_difficulty = px.scatter(y=difficulty, x= safety, trendline=\"ols\")\n",
    "trendline = trend_difficulty.data[1]\n",
    "trendline.marker.color = marking_red\n",
    "fig_master.append_trace(trendline,1,1)\n",
    "\n",
    "#Rotations\n",
    "fig_master.append_trace(go.Scatter(mode='markers',x = safety_left_rots,y = left_rots,showlegend=False,name='Safety X Left Rotations', marker_color='#000000'),1,2)\n",
    "trend_rotations = px.scatter(y=left_rots, x= safety_left_rots, trendline=\"ols\")\n",
    "trendline = trend_rotations.data[1]\n",
    "trendline.marker.color = marking_red\n",
    "fig_master.append_trace(trendline,1,2)\n",
    "\n",
    "\n",
    "fig_master.append_trace(go.Scatter(mode='markers',x = safety_right_rots,y = right_rots,showlegend=False,name='Safety X Left Rotations', marker_color='#000000'),2,1)\n",
    "trend_rotations = px.scatter(y=right_rots, x= safety_right_rots, trendline=\"ols\")\n",
    "trendline = trend_rotations.data[1]\n",
    "trendline.marker.color = marking_red\n",
    "fig_master.append_trace(trendline,2,1)\n",
    "\n",
    "#Angles\n",
    "fig_master.append_trace(go.Scatter(mode='markers',x = safety_left_angles,y = left_angles,showlegend=False,name='Safety X Left Angles', marker_color='#000000'),2,2)\n",
    "trend_angles = px.scatter(y=left_angles, x= safety_left_angles, trendline=\"ols\")\n",
    "trendline = trend_angles.data[1]\n",
    "trendline.marker.color = marking_red\n",
    "fig_master.append_trace(trendline,2,2)\n",
    "\n",
    "\n",
    "fig_master.append_trace(go.Scatter(mode='markers',x = safety_right_angles,y = right_angles,showlegend=False,name='Safety X Left Angles', marker_color='#000000'),3,1)\n",
    "trend_angles = px.scatter(y=right_angles, x= safety_right_angles, trendline=\"ols\")\n",
    "trendline = trend_angles.data[1]\n",
    "trendline.marker.color = marking_red\n",
    "fig_master.append_trace(trendline,3,1)\n",
    "\n",
    "\n",
    "yaxis = [\"Difficulty\",\"Left Rotations\",\"Right Rotations\",\"Left Angles\",\"Right Angles\"]\n",
    "yFormat = [\"\",\"\",\"\",\"°\",\"°\"]\n",
    "fig_master.update_layout(\n",
    "        hovermode=\"y unified\", \n",
    "        xaxis_dtick = 1,\n",
    "        width=plot_width, height=plot_height,\n",
    "        font=dict(family=\"Lato, sans-serif\",size=14),\n",
    "        legend=dict(orientation=\"h\", yanchor=\"bottom\",y=1, xanchor=\"center\", x=0.5),\n",
    "        hoverlabel=dict(font_size=13, font_family=\"Lato, sans-serif\"),\n",
    "        paper_bgcolor='rgba(255,255,255,1)',\n",
    "        plot_bgcolor='rgba(255,255,255,1)')\n",
    "fig_master.layout[\"yaxis4\"].update(ticksuffix = \"°\")\n",
    "fig_master.layout[\"yaxis5\"].update(ticksuffix = \"°\")\n",
    "\n",
    "fig_master.layout[\"xaxis5\"].update(tick0 = 0).update(dtick = 1)\n",
    "display(fig_master)"
   ]
  },
  {
   "cell_type": "markdown",
   "id": "83112e5c-05fa-48b2-9d74-926b103e3216",
   "metadata": {
    "tags": []
   },
   "source": [
    "## App Layout"
   ]
  },
  {
   "cell_type": "code",
   "execution_count": 18,
   "id": "21cc5328-7109-41c6-ae40-be21551a6fe3",
   "metadata": {},
   "outputs": [],
   "source": [
    "app.layout = html.Div([\n",
    "    html.Div([dcc.Markdown('''### VR Study''',id='headline_subject')],style={'width': '100%', 'display': 'block'}),\n",
    "    html.Div([dcc.Markdown('''#### General Plots \n",
    "    > This data represents the mean values from ALL Subjects''')],style={'width': '100%', 'display': 'block'}),\n",
    "    html.Div([dcc.Graph(figure = fig_looks)], style={'width': '50%', 'display': 'inline-block'}),\n",
    "    html.Div([dcc.Graph(figure = fig_angles)], style={'width': '50%', 'display': 'inline-block'}),\n",
    "    html.Div([dcc.Graph(figure = fig_collisions)], style={'width': '50%', 'display': 'inline-block'}),\n",
    "    html.Div([dcc.Graph(figure = fig_duration)], style={'width': '50%', 'display': 'inline-block'}),\n",
    "    html.Div([dcc.Graph(figure = fig_duration_subject)], style={'width': '50%', 'display': 'inline-block'}),\n",
    "        html.Div([dcc.Markdown('''#### Subject Specific Plots\n",
    "    > This data represents the selected subject only''')],style={'width': '100%', 'display': 'block'}),\n",
    "    html.Div([\n",
    "        html.Label('Subject'),\n",
    "        dcc.Dropdown(\n",
    "            id='filter_subject',\n",
    "            options=[{'label': i, 'value': i} for i in available_data_labels],\n",
    "            value='Choose Subject '\n",
    "    )],style={'width': '100%', 'display': 'inline-block'}),\n",
    "    html.Div([\n",
    "        html.Label('Timestamp (Seconds)'),\n",
    "        dcc.Slider(\n",
    "            id='filter-slider-timestamp',\n",
    "            min=0,\n",
    "            max=0,\n",
    "            value=0,\n",
    "            tooltip={\"placement\": \"bottom\", \"always_visible\": True},\n",
    "            step=60\n",
    "        )\n",
    "    ], style={'width': '100%', 'display': 'inline-block'}),\n",
    "    html.Div([\n",
    "        html.Label('NO Condition',style={'backgroundColor' : COLOR_SIT_X_HEX,'color': \"#FFFFFF\",'borderRadius':'5px','marginLeft':'10px','padding': '10px'}),\n",
    "        html.Label('Condition A',style={'backgroundColor' : COLOR_SIT_A_HEX,'color': \"#FFFFFF\",'borderRadius':'5px','marginLeft':'10px','padding': '10px'}),\n",
    "        html.Label('Condition B',style={'backgroundColor' : COLOR_SIT_B_HEX,'color': \"#FFFFFF\",'borderRadius':'5px','marginLeft':'10px','padding': '10px'}),\n",
    "        html.Label('Condition C',style={'backgroundColor' : COLOR_SIT_C_HEX,'color': \"#FFFFFF\",'borderRadius':'5px','marginLeft':'10px','padding': '10px'}),\n",
    "#        html.Label('Condition D',style={'backgroundColor' : COLOR_SIT_D_HEX,'color': \"#FFFFFF\",'borderRadius':'5px','marginLeft':'10px','padding': '10px'}),\n",
    "        html.Label('Condition E',style={'backgroundColor' : COLOR_SIT_E_HEX,'color': \"#FFFFFF\",'borderRadius':'5px','marginLeft':'10px','padding': '10px'}),\n",
    "    ], style={'width': '100%', 'display': 'inline-block'}),\n",
    "    html.Div([dcc.Graph(id='headmovement-scatter',hoverData={'points': [{'x': 0}]})], style={'width': '100%', 'display': 'block'}),\n",
    "    html.Div([dash_table.DataTable(\n",
    "        id='data_table',\n",
    "        columns=[{\"name\": \"Situation\", \"id\": \"sit\", \"presentation\": \"markdown\"},\n",
    "                 {\"name\": \"Collisions\", \"id\": \"colisions\", \"presentation\": \"input\"},\n",
    "                 {\"name\": \"Head moved left\", \"id\": \"leftHead\", \"presentation\": \"markdown\"},\n",
    "                 {\"name\": \"Head moved right\", \"id\": \"rightHead\", \"presentation\": \"markdown\"},\n",
    "                 {\"name\": \"Time 1\", \"id\": \"t_1\", \"presentation\": \"input\"},\n",
    "                 {\"name\": \"Time 2\", \"id\": \"t_2\", \"presentation\": \"input\"},\n",
    "                 {\"name\": \"Time 3\", \"id\": \"t_3\", \"presentation\": \"input\"},\n",
    "                 {\"name\": \"average\", \"id\": \"average\", \"presentation\": \"input\"}],\n",
    "        data=[{\"sit\": 'A'},{\"sit\": 'B'},{\"sit\": 'C'},{\"sit\": 'D'},{\"sit\": 'E'}],\n",
    "    )], style={'width': '100%', 'display': 'inline-block'}),\n",
    "    html.Div([dcc.Graph(id='rolls-scatter',hoverData={'points': [{'x': 0}]})], style={'width': '100%', 'display': 'block'}),\n",
    "    html.Div([dcc.Graph(id='pitchs-scatter',hoverData={'points': [{'x': 0}]})], style={'width': '100%', 'display': 'block'}),\n",
    "    html.Div([dcc.Graph(id='velocity')], style={'display': 'inline-block', 'width': '50%'}),\n",
    "    html.Div([dcc.Graph(id='acceleration')], style={'display': 'inline-block', 'width': '50%'})\n",
    "])"
   ]
  },
  {
   "cell_type": "markdown",
   "id": "83679f9e-53a6-485c-898b-2d6801135d08",
   "metadata": {},
   "source": [
    "## Callback"
   ]
  },
  {
   "cell_type": "markdown",
   "id": "357614e8-6217-497d-b614-fde71e25c45e",
   "metadata": {
    "jp-MarkdownHeadingCollapsed": true,
    "tags": []
   },
   "source": [
    "### Headline"
   ]
  },
  {
   "cell_type": "code",
   "execution_count": 19,
   "id": "d06dde0c-2488-490d-8707-b15243dbc14b",
   "metadata": {},
   "outputs": [],
   "source": [
    "@app.callback(\n",
    "    dash.dependencies.Output('headline_subject', 'children'),\n",
    "    [dash.dependencies.Input('filter_subject', 'value')])\n",
    "def update_headline(subject):\n",
    "    if not subject in subjects:\n",
    "        return \"### VR Study\"\n",
    "    return \"### VR Study : \" + subject"
   ]
  },
  {
   "cell_type": "markdown",
   "id": "c6d58643-eba5-437f-bbe6-7c39cfb3e6b6",
   "metadata": {},
   "source": [
    "### DataTable"
   ]
  },
  {
   "cell_type": "code",
   "execution_count": 20,
   "id": "0d5ce361-32fd-4cef-96d5-2d94200c3fb0",
   "metadata": {},
   "outputs": [],
   "source": [
    "@app.callback(\n",
    "    dash.dependencies.Output('data_table', 'data'),\n",
    "    [dash.dependencies.Input('filter_subject', 'value')])\n",
    "def update_dataTable(subject):\n",
    "    if not subject in subjects:\n",
    "        return\n",
    "    return [\n",
    "        {\n",
    "            \"sit\": 'A',\n",
    "            \"colisions\" : df_all.loc[df_all[\"subject\"] == subject][\"sit_a_collisions\"].values[0],\n",
    "            \"t_1\" : subject_splits[subject][\"a\"][0][1] - subject_splits[subject][\"a\"][0][0],\n",
    "            \"t_2\" : subject_splits[subject][\"a\"][1][1] - subject_splits[subject][\"a\"][1][0],\n",
    "            \"t_3\" : subject_splits[subject][\"a\"][2][1] - subject_splits[subject][\"a\"][2][0],\n",
    "            \"average\" : getAverageOfSplit(\"a\",subject),\n",
    "            \"leftHead\": df_all.loc[df_all[\"subject\"] == subject][\"sit_a_left_rotations\"].values[0],\n",
    "            \"rightHead\": df_all.loc[df_all[\"subject\"] == subject][\"sit_a_right_rotations\"].values[0]\n",
    "        },\n",
    "        {\n",
    "            \"sit\": 'B',\n",
    "            \"colisions\" : df_all.loc[df_all[\"subject\"] == subject][\"sit_b_collisions\"].values[0],\n",
    "            \"t_1\" : subject_splits[subject][\"b\"][0][1] - subject_splits[subject][\"b\"][0][0],\n",
    "            \"t_2\" : subject_splits[subject][\"b\"][1][1] - subject_splits[subject][\"b\"][1][0],\n",
    "            \"t_3\" : subject_splits[subject][\"b\"][2][1] - subject_splits[subject][\"b\"][2][0],\n",
    "            \"average\" : getAverageOfSplit(\"b\",subject),\n",
    "            \"leftHead\": df_all.loc[df_all[\"subject\"] == subject][\"sit_b_left_rotations\"].values[0],\n",
    "            \"rightHead\": df_all.loc[df_all[\"subject\"] == subject][\"sit_c_right_rotations\"].values[0]\n",
    "        },\n",
    "        {\n",
    "            \"sit\": 'C',\n",
    "            \"colisions\" : df_all.loc[df_all[\"subject\"] == subject][\"sit_c_collisions\"].values[0],\n",
    "            \"t_1\" : subject_splits[subject][\"c\"][0][1] - subject_splits[subject][\"c\"][0][0],\n",
    "            \"t_2\" : subject_splits[subject][\"c\"][1][1] - subject_splits[subject][\"c\"][1][0],\n",
    "            \"t_3\" : subject_splits[subject][\"c\"][2][1] - subject_splits[subject][\"c\"][2][0],\n",
    "            \"average\" : getAverageOfSplit(\"c\",subject),\n",
    "            \"leftHead\": df_all.loc[df_all[\"subject\"] == subject][\"sit_c_left_rotations\"].values[0],\n",
    "            \"rightHead\": df_all.loc[df_all[\"subject\"] == subject][\"sit_c_right_rotations\"].values[0]\n",
    "        },\n",
    "#        {\n",
    "#            \"sit\": 'D'\n",
    "#        },\n",
    "        {\n",
    "            \"sit\": 'E',\n",
    "            \"colisions\" : df_all.loc[df_all[\"subject\"] == subject][\"sit_e_collisions\"].values[0],\n",
    "            \"t_1\" : subject_splits[subject][\"e\"][0][1] - subject_splits[subject][\"e\"][0][0],\n",
    "            \"t_2\" : subject_splits[subject][\"e\"][1][1] - subject_splits[subject][\"e\"][1][0],\n",
    "            \"t_3\" : subject_splits[subject][\"e\"][2][1] - subject_splits[subject][\"e\"][2][0],\n",
    "            \"average\" : getAverageOfSplit(\"e\",subject),\n",
    "            \"leftHead\": df_all.loc[df_all[\"subject\"] == subject][\"sit_e_left_rotations\"].values[0],\n",
    "            \"rightHead\": df_all.loc[df_all[\"subject\"] == subject][\"sit_e_right_rotations\"].values[0]\n",
    "        }]"
   ]
  },
  {
   "cell_type": "markdown",
   "id": "50240eac-97cd-4c72-b939-df9f73acc299",
   "metadata": {
    "jp-MarkdownHeadingCollapsed": true,
    "tags": []
   },
   "source": [
    "### Timestamps"
   ]
  },
  {
   "cell_type": "code",
   "execution_count": 21,
   "id": "3af50c73-604d-454f-a709-4a321fee78ed",
   "metadata": {},
   "outputs": [],
   "source": [
    "@app.callback(\n",
    "    dash.dependencies.Output('filter-slider-timestamp', 'value'),\n",
    "    [dash.dependencies.Input('filter_subject', 'value')])\n",
    "#    dash.dependencies.Input('headmovement-scatter', 'hoverData')\n",
    "def update_timestampValue(subject):\n",
    "    if not subject in subjects:\n",
    "        return 0\n",
    "    \n",
    "    lastTimestamp = float(subjects[subject].iloc[-1].name)\n",
    "    #display(\"The experiment from subject \"+infos[\"subject\"]+\" lasted \" + str(lastTimestamp) + \" seconds and started at \" + infos[\"starttime\"])\n",
    "    halfminuteSteps = np.arange(0,lastTimestamp,30)\n",
    "    halfminuteStepLabels = list(map(lambda x: str(int(x)), halfminuteSteps))\n",
    "    #if \"x\" in hoverdata['points'][0]:\n",
    "    #    return hoverdata['points'][0][\"x\"]\n",
    "    #else:\n",
    "    return 0\n",
    "@app.callback(\n",
    "    dash.dependencies.Output('filter-slider-timestamp', 'min'),\n",
    "    [dash.dependencies.Input('filter_subject', 'value')])\n",
    "def update_timestampMin(subject):\n",
    "    if not subject in subjects:\n",
    "        return 0\n",
    "    return subjects[subject].index.min()\n",
    "@app.callback(\n",
    "    dash.dependencies.Output('filter-slider-timestamp', 'max'),\n",
    "    [dash.dependencies.Input('filter_subject', 'value')])\n",
    "def update_timestampMax(subject):\n",
    "    if not subject in subjects:\n",
    "        return 0\n",
    "    return subjects[subject].index.max()"
   ]
  },
  {
   "cell_type": "markdown",
   "id": "ec52c828-1103-4704-a69b-d46a91f3611b",
   "metadata": {},
   "source": [
    "### Headmovement"
   ]
  },
  {
   "cell_type": "code",
   "execution_count": 22,
   "id": "ba209313-fc1e-4040-8ce1-f0777282351d",
   "metadata": {},
   "outputs": [],
   "source": [
    "@app.callback(\n",
    "    dash.dependencies.Output('headmovement-scatter', 'figure'),\n",
    "    [dash.dependencies.Input('filter_subject', 'value')])\n",
    "def update_headrotation(subject):\n",
    "    if not subject in subjects:\n",
    "        return go.Figure()\n",
    "    fig = go.Figure()\n",
    "    fig.add_trace(go.Scatter(\n",
    "        x=subjects[subject].index,\n",
    "        y=subjects[subject][\"hmdRotationY\"],\n",
    "        mode=\"lines\",\n",
    "        name=\"Headrotation (relative Yaw)\")\n",
    "    )\n",
    "    fig.update_layout(\n",
    "        title_text=\"Headmovement\",\n",
    "        autosize=True,\n",
    "        hovermode='closest'\n",
    "    )\n",
    "    add_conditions(subject,fig,\"hmdRotationY\")\n",
    "    fig.update_xaxes(title_text='Time(seconds)')\n",
    "    fig.update_yaxes(title_text='Headrotation (Degrees)')\n",
    "\n",
    "    return fig"
   ]
  },
  {
   "cell_type": "markdown",
   "id": "d836af47-5694-480a-a33d-77e03483d008",
   "metadata": {
    "jp-MarkdownHeadingCollapsed": true,
    "tags": []
   },
   "source": [
    "### Roll"
   ]
  },
  {
   "cell_type": "code",
   "execution_count": 23,
   "id": "cb85bd71-fd51-4141-95af-7f41e10b78a0",
   "metadata": {},
   "outputs": [],
   "source": [
    "@app.callback(\n",
    "    dash.dependencies.Output('rolls-scatter', 'figure'),\n",
    "    [dash.dependencies.Input('filter_subject', 'value')])\n",
    "def update_rolls(subject):\n",
    "    if not subject in subjects:\n",
    "        return go.Figure()\n",
    "    fig = go.Figure()\n",
    "    fig.add_trace(go.Scatter(\n",
    "        x=subjects[subject].index,\n",
    "        y=subjects[subject][\"hmdRotationZ\"],\n",
    "        mode=\"lines\",\n",
    "        name=\"HmdRotationZ\")\n",
    "    )\n",
    "    fig.update_layout(\n",
    "        title_text=\"Roll (HMDRotationZ)\",\n",
    "        autosize=True,\n",
    "        hovermode='closest',\n",
    "    )\n",
    "    add_conditions(subject,fig,\"hmdRotationZ\")\n",
    "    fig.update_xaxes(title_text='Time(seconds)')\n",
    "    fig.update_yaxes(title_text='Roll (Degrees)')\n",
    "\n",
    "    return fig"
   ]
  },
  {
   "cell_type": "markdown",
   "id": "6bde5789-f405-4254-ac94-8bd2d0d22fbc",
   "metadata": {
    "jp-MarkdownHeadingCollapsed": true,
    "tags": []
   },
   "source": [
    "### Pitch"
   ]
  },
  {
   "cell_type": "code",
   "execution_count": 24,
   "id": "de2dd8cb-433b-4ec1-a60e-7a3644702976",
   "metadata": {},
   "outputs": [],
   "source": [
    "@app.callback(\n",
    "    dash.dependencies.Output('pitchs-scatter', 'figure'),\n",
    "    [dash.dependencies.Input('filter_subject', 'value')])\n",
    "def update_pitchs(subject):\n",
    "    if not subject in subjects:\n",
    "        return go.Figure()\n",
    "    fig = go.Figure()\n",
    "    fig.add_trace(go.Scatter(\n",
    "        x=subjects[subject].index,\n",
    "        y=subjects[subject][\"hmdRotationX\"],\n",
    "        mode=\"lines\",\n",
    "        name=\"HmdRotationX\")\n",
    "    )\n",
    "    fig.update_layout(\n",
    "        title_text=\"Pitch (HmdRotationX)\",\n",
    "        autosize=True,\n",
    "        hovermode='closest'\n",
    "    )\n",
    "    add_conditions(subject,fig,\"hmdRotationX\")\n",
    "    fig.update_xaxes(title_text='Time(seconds)')\n",
    "    fig.update_yaxes(title_text='Pitch (Degrees)')\n",
    "\n",
    "    return fig"
   ]
  },
  {
   "cell_type": "markdown",
   "id": "2f971ee6-da28-4dd8-a5e7-5c9dfb34cd33",
   "metadata": {
    "tags": []
   },
   "source": [
    "### Acceleration"
   ]
  },
  {
   "cell_type": "code",
   "execution_count": 25,
   "id": "ed86497e-80a3-4270-8b24-5ebde6e470ab",
   "metadata": {},
   "outputs": [],
   "source": [
    "@app.callback(\n",
    "    dash.dependencies.Output('acceleration', 'figure'),\n",
    "    [dash.dependencies.Input('filter_subject', 'value')])\n",
    "def update_acceleration(subject):\n",
    "    if not subject in subjects:\n",
    "        return go.Figure()\n",
    "    fig = go.Figure()\n",
    "    fig.add_trace(go.Scatter(\n",
    "        x=subjects[subject].index,\n",
    "        y=subjects[subject][\"speed\"],\n",
    "        mode=\"lines\")\n",
    "    )\n",
    "    fig.update_layout(\n",
    "        title_text=\"Acceleration (speed)\",\n",
    "        autosize=True,\n",
    "        hovermode='closest'\n",
    "    )\n",
    "    add_conditions(subject,fig,\"speed\")\n",
    "    fig.update_xaxes(title_text='Time (seconds)')\n",
    "    fig.update_yaxes(title_text='speed')\n",
    "    return fig"
   ]
  },
  {
   "cell_type": "markdown",
   "id": "fa0c9fdf-fff3-4ff1-a7fa-cce5cf6dd345",
   "metadata": {
    "tags": []
   },
   "source": [
    "### Velocity"
   ]
  },
  {
   "cell_type": "code",
   "execution_count": 26,
   "id": "5de23bf6-5543-4593-859f-4d5590d653c8",
   "metadata": {},
   "outputs": [],
   "source": [
    "@app.callback(\n",
    "    dash.dependencies.Output('velocity', 'figure'),\n",
    "    [dash.dependencies.Input('filter_subject', 'value')])\n",
    "def update_velocity(subject):\n",
    "    if not subject in subjects:\n",
    "        return go.Figure()\n",
    "    \n",
    "    fig = go.Figure()\n",
    "    fig.add_trace(go.Scatter(\n",
    "        x=subjects[subject].index,\n",
    "        y=subjects[subject][\"velocityY\"],\n",
    "        mode=\"lines\")\n",
    "    )\n",
    "    fig.update_layout(\n",
    "        title_text=\"Velocity\",\n",
    "        autosize=True,\n",
    "        hovermode='closest'\n",
    "    )\n",
    "    add_conditions(subject,fig,\"velocityY\")\n",
    "    fig.update_xaxes(title_text='Time (seconds)')\n",
    "    fig.update_yaxes(title_text='Velocity Y (km/h)')\n",
    "\n",
    "    return fig"
   ]
  },
  {
   "cell_type": "markdown",
   "id": "aaa2b771-6ea2-4cb9-a2d6-14ae15da6b5f",
   "metadata": {},
   "source": [
    "## Run Server"
   ]
  },
  {
   "cell_type": "code",
   "execution_count": 27,
   "id": "ae0d6b93-d90f-4c88-a05b-b610dbb1fac3",
   "metadata": {},
   "outputs": [
    {
     "name": "stdout",
     "output_type": "stream",
     "text": [
      "Dash app running on http://127.0.0.1:8091/\n"
     ]
    }
   ],
   "source": [
    "app.run_server(mode='external', port = 8091, dev_tools_ui=True, debug=True,dev_tools_hot_reload =True, threaded=True)"
   ]
  }
 ],
 "metadata": {
  "kernelspec": {
   "display_name": "Python 3",
   "language": "python",
   "name": "python3"
  },
  "language_info": {
   "codemirror_mode": {
    "name": "ipython",
    "version": 3
   },
   "file_extension": ".py",
   "mimetype": "text/x-python",
   "name": "python",
   "nbconvert_exporter": "python",
   "pygments_lexer": "ipython3",
   "version": "3.11.1"
  },
  "vscode": {
   "interpreter": {
    "hash": "aee8b7b246df8f9039afb4144a1f6fd8d2ca17a180786b69acc140d282b71a49"
   }
  }
 },
 "nbformat": 4,
 "nbformat_minor": 5
}
