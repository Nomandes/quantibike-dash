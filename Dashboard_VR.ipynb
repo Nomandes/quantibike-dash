{
 "cells": [
  {
   "cell_type": "markdown",
   "id": "33169cc8-4cad-4a41-b580-5d84e23b1756",
   "metadata": {
    "tags": []
   },
   "source": [
    "# VR Study Dashboard"
   ]
  },
  {
   "cell_type": "markdown",
   "id": "02b28e8a-8280-420f-b9a2-e574d30e1f67",
   "metadata": {
    "tags": []
   },
   "source": [
    "## Imports, Settings & Functions"
   ]
  },
  {
   "attachments": {},
   "cell_type": "markdown",
   "id": "353a2ba4",
   "metadata": {},
   "source": [
    "### Imports"
   ]
  },
  {
   "cell_type": "code",
   "execution_count": 1,
   "id": "4db98b63",
   "metadata": {},
   "outputs": [],
   "source": [
    "import pandas as pd\n",
    "import numpy as np\n",
    "import plotly.express as px\n",
    "import plotly.graph_objects as go\n",
    "from jupyter_dash import JupyterDash\n",
    "from dash import dash_table\n",
    "from dash import dcc\n",
    "from dash import html\n",
    "from dash.dependencies import Input, Output\n",
    "import dash.dependencies\n",
    "import plotly.io as pio\n",
    "import math\n",
    "from plotly.subplots import make_subplots\n",
    "from plotly.graph_objs import *\n",
    "import json"
   ]
  },
  {
   "attachments": {},
   "cell_type": "markdown",
   "id": "893b5f0c",
   "metadata": {},
   "source": [
    "### Settings"
   ]
  },
  {
   "cell_type": "code",
   "execution_count": 2,
   "id": "da4c4231-a1ec-4397-9016-346f6aafcd19",
   "metadata": {},
   "outputs": [],
   "source": [
    "# code and plot setup\n",
    "pd.options.plotting.backend = \"plotly\"\n",
    "external_stylesheets = ['https://bootswatch.com/5/flatly/bootstrap.min.css']\n",
    "pio.templates.default = \"simple_white\"#seaborn plotly_dark\n",
    "\n",
    "COLOR_SIT_N_HEX = \"#FFFFFF\"\n",
    "COLOR_SIT_A_HEX = \"#7a5b7b\"\n",
    "COLOR_SIT_B_HEX = \"#f9dbbd\"\n",
    "COLOR_SIT_C_HEX = \"#fca17d\"\n",
    "COLOR_SIT_D_HEX = \"#68534d\"\n",
    "COLOR_SIT_E_HEX = \"#5b7b7a\"\n",
    "COLOR_SIT_X_HEX = \"#8f2d41\"\n",
    "\n",
    "marking_red = \"#961C26\"   #'#B90F22'\n",
    "\n",
    "plot_width = 1024;\n",
    "plot_height = 768;\n",
    "\n",
    "#Plot Layout for no background\n",
    "layout = Layout(\n",
    "    paper_bgcolor='rgba(0,0,0,0)',\n",
    "    plot_bgcolor='rgba(0,0,0,0)'\n",
    ")\n",
    "# Rotation threshhold defines which degree has to be reached to count as rotation. \n",
    "# Every rotation which overcomes this value will be counted as headrotation\n",
    "rotation_threshhold = 20.0\n",
    "\n",
    "app = JupyterDash(__name__, external_stylesheets=external_stylesheets)"
   ]
  },
  {
   "attachments": {},
   "cell_type": "markdown",
   "id": "afaa64eb",
   "metadata": {},
   "source": [
    "### Functions"
   ]
  },
  {
   "cell_type": "code",
   "execution_count": 3,
   "id": "c495395d-e6ca-4db3-92fe-44ea00d91661",
   "metadata": {},
   "outputs": [],
   "source": [
    "# functions\n",
    "def load_tsv(path):\n",
    "    df = pd.read_csv(path,sep='\\t');\n",
    "    # dframe.drop(dframe[dframe.type.str.contains(\"_ex\")].index, inplace=True) -> TO Drop specific lines!\n",
    "    return df\n",
    "def load_csv(path):\n",
    "    df = pd.read_csv(path,sep=';');\n",
    "    return df\n",
    "\n",
    "def read_data(path):\n",
    "    df = load_tsv(path)\n",
    "    \n",
    "    # normalize timestamp to start at 0\n",
    "    firstTimestamp = df[\"timestamp\"].iloc[0]\n",
    "    df[\"timestamp\"] = df.apply(lambda x: x[\"timestamp\"] - firstTimestamp,axis=1)\n",
    "    \n",
    "    # Timestamps from miliseconds to seconds\n",
    "    df[\"timestamp\"] = df.apply(lambda x: x[\"timestamp\"] / 1000,axis=1)\n",
    "    \n",
    "    #Timestamps as index\n",
    "    df.set_index('timestamp',inplace=True)\n",
    "    \n",
    "    #Cutting 0 FPS columns because irrelevant\n",
    "#    df = df.loc[df['fps'] > 0]\n",
    "    \n",
    "#    df = df.apply(pd.to_numeric, errors='coerce')\n",
    "    #rework boolean for plotting\n",
    "    df.replace({False: 0, True: 1}, inplace=True)\n",
    "    \n",
    "    addRotations(df)\n",
    "    return df\n",
    "def add_conditions(subject,fig,propertyName):\n",
    "    shapes = []\n",
    "    intersections = subjects[subject][[\"intersection\"]]\n",
    "    #mark the rows where the content changes\n",
    "    changes = intersections[\"intersection\"].shift() != intersections[\"intersection\"]\n",
    "    #get the rows where the change happens\n",
    "    changeRows = intersections.loc[changes[changes].index, :]\n",
    "    lastElem = intersections.iloc[0]\n",
    "\n",
    "    #create axspan for each\n",
    "    for index, row in changeRows.iterrows():\n",
    "        if index > 0:\n",
    "            condition = conditions.loc[conditions[\"intersection\"] == lastElem[1][\"intersection\"]]    \n",
    "            #Colors..\n",
    "            if lastElem[1][\"intersection\"] == \"NONE\":\n",
    "                lastElem = [index,row]\n",
    "                continue\n",
    "            elif  condition.empty:\n",
    "                color = COLOR_SIT_X_HEX\n",
    "            elif  condition[\"condition\"].values[0] == 'x':\n",
    "                color = COLOR_SIT_X_HEX\n",
    "            elif  condition[\"condition\"].values[0] == 'a':\n",
    "                color = COLOR_SIT_A_HEX\n",
    "            elif  condition[\"condition\"].values[0] == 'b':\n",
    "                color = COLOR_SIT_B_HEX\n",
    "            elif  condition[\"condition\"].values[0] == 'c':\n",
    "                color = COLOR_SIT_C_HEX\n",
    "            elif  condition[\"condition\"].values[0] == 'd':\n",
    "                color = COLOR_SIT_D_HEX\n",
    "            elif  condition[\"condition\"].values[0] == 'e':\n",
    "                color = COLOR_SIT_E_HEX\n",
    "            shapes.append({\n",
    "                'type': 'rect',\n",
    "    #            xref: 'x',\n",
    "    #            yref: 'paper',\n",
    "                'x0': lastElem[0],\n",
    "                'y0': subjects[subject][propertyName].min(),\n",
    "                'x1': index,\n",
    "                'y1': subjects[subject][propertyName].max(),\n",
    "                'fillcolor': color,\n",
    "                'opacity': 0.5,\n",
    "                'line': {\n",
    "                    'width': 0\n",
    "                }\n",
    "            })\n",
    "        lastElem = [index,row]\n",
    "    fig.update_layout(shapes = shapes)\n",
    "#Creates a dict containing every situation. For every situation containing a list with tuples of start and endpoints per single situation\n",
    "def getSituationSplits(df):\n",
    "    intersections = df[[\"intersection\"]]\n",
    "    #mark the rows where the content changes\n",
    "    changes = intersections[\"intersection\"].shift() != intersections[\"intersection\"]\n",
    "    #get the rows where the change happens\n",
    "    changeRows = intersections.loc[changes[changes].index, :]\n",
    "    lastElem = intersections.iloc[0]\n",
    "    \n",
    "    times = {\n",
    "        \"none\" : [],\n",
    "        \"x\" : [],\n",
    "        \"a\" : [],\n",
    "        \"b\" : [],\n",
    "        \"c\" : [],\n",
    "        \"d\" : [],\n",
    "        \"e\" : []\n",
    "    }\n",
    "    \n",
    "    #create axspan for each\n",
    "    for index, row in changeRows.iterrows():\n",
    "        if index > 0:\n",
    "            condition = conditions.loc[conditions[\"intersection\"] == lastElem[1][\"intersection\"]]    \n",
    "            if lastElem[1][\"intersection\"] == \"NONE\":\n",
    "                times[\"none\"].append((lastElem[0],index))\n",
    "            elif  condition.empty:\n",
    "                times[\"none\"].append((lastElem[0],index))\n",
    "            elif  condition[\"condition\"].values[0] == 'x':\n",
    "                times[\"x\"].append((lastElem[0],index))\n",
    "            elif  condition[\"condition\"].values[0] == 'a':\n",
    "                times[\"a\"].append((lastElem[0],index))\n",
    "            elif  condition[\"condition\"].values[0] == 'b':\n",
    "                times[\"b\"].append((lastElem[0],index))\n",
    "            elif  condition[\"condition\"].values[0] == 'c':\n",
    "                times[\"c\"].append((lastElem[0],index))\n",
    "            elif  condition[\"condition\"].values[0] == 'd':\n",
    "                times[\"d\"].append((lastElem[0],index))\n",
    "            elif  condition[\"condition\"].values[0] == 'e':\n",
    "                times[\"e\"].append((lastElem[0],index))\n",
    "        lastElem = [index,row]\n",
    "    return times\n",
    "def getAverageOfSplit(situation,subject):\n",
    "    #display([\n",
    "    #    subject_splits[subject][situation][0][1] - subject_splits[subject][situation][0][0],\n",
    "    #    subject_splits[subject][situation][1][1] - subject_splits[subject][situation][1][0],\n",
    "    #    subject_splits[subject][situation][2][1] - subject_splits[subject][situation][2][0]\n",
    "    #])\n",
    "    return np.mean([\n",
    "        subject_splits[subject][situation][0][1] - subject_splits[subject][situation][0][0],\n",
    "        subject_splits[subject][situation][1][1] - subject_splits[subject][situation][1][0],\n",
    "        subject_splits[subject][situation][2][1] - subject_splits[subject][situation][2][0]\n",
    "    ])\n",
    "# adds two rows to the dataframe. rotations which indicates the rotation for each row, group_index which indicates to which look count the row is sorted (1 group = 1 look)\n",
    "def addRotations(df):\n",
    "    df[\"rotation\"] = \"x\"\n",
    "    df.loc[(df[\"hmdRotationY\"] > rotation_threshhold),\"rotation\"] = \"r\"\n",
    "    df.loc[(df[\"hmdRotationY\"] < -rotation_threshhold),\"rotation\"] = \"l\"\n",
    "    df['group_index'] = (df['rotation'] != df['rotation'].shift()).cumsum()\n",
    "    \n",
    "#Returns the rotations for each situation for given subject\n",
    "def getRotations(subject):\n",
    "    rotations = {\n",
    "        \"a\" : [],\n",
    "        \"b\" : [],\n",
    "        \"c\" : [],\n",
    "        \"d\" : [],\n",
    "        \"e\" : []\n",
    "    }    \n",
    "    for key,values in rotations.items():\n",
    "        for split_sit in subject_splits[subject][key]:\n",
    "            rot_groups = subjects[subject][split_sit[0]:split_sit[1]].groupby(['rotation'])[\"group_index\"]\n",
    "            rots = subjects[subject][split_sit[0]:split_sit[1]].groupby(['rotation'])[\"group_index\"].nunique()\n",
    "            values.append((rots.get(\"l\" , 0),rots.get(\"r\" , 0)))\n",
    "    return rotations\n",
    "def getAngles(subject):\n",
    "    situation_angles = []\n",
    "    # For every Situation...\n",
    "    for key in [\"a\",\"b\",\"c\",\"d\",\"e\"]:\n",
    "        #for every iteration of this situation\n",
    "        for index,split_sit in enumerate(subject_splits[subject][key]):\n",
    "            rot_groups = subjects[subject][split_sit[0]:split_sit[1]][[\"rotation\",\"hmdRotationY\",\"group_index\"]]#.groupby(['rotation'])[\"group_index\"]\n",
    "            rot_groups.groupby(['rotation'])\n",
    "            # for every found headrotation\n",
    "            for group in rot_groups[\"group_index\"].unique():\n",
    "                df_group = rot_groups.loc[rot_groups[\"group_index\"] == group]\n",
    "                if 'l' in df_group[\"rotation\"].unique():\n",
    "                    situation_angles.append((key,index,\"left\",df_group[\"hmdRotationY\"].min()))\n",
    "                elif 'r' in df_group[\"rotation\"].unique():\n",
    "                    situation_angles.append((key,index,\"right\",df_group[\"hmdRotationY\"].max()))\n",
    "    return np.array(situation_angles,dtype = ([('situation', 'U10'),('iteration', 'i4'),('direction', 'U10'), ('angle', 'f4')]))\n",
    "def getCollisions(subject):\n",
    "    crashCount = {\n",
    "        \"none\" : 0,\n",
    "        \"x\" : 0,\n",
    "        \"a\" : 0,\n",
    "        \"b\" : 0,\n",
    "        \"c\" : 0,\n",
    "        \"d\" : 0,\n",
    "        \"e\" : 0\n",
    "    }\n",
    "    crashes = subjects[subject][[\"collisions\",\"intersection\"]].loc[subjects[subject][\"collisions\"] != 0]   \n",
    "    for index,row in crashes.iterrows():\n",
    "        if row[\"intersection\"] in conditions[\"intersection\"].unique():\n",
    "            condition = conditions.loc[conditions[\"intersection\"] == row[\"intersection\"]][\"condition\"].iloc[0]\n",
    "            crashCount[condition] = crashCount[condition] + 1\n",
    "    return crashCount\n",
    "# Returns per situation the mean of all (3) situations which contain the sum of all occured stand incidents (speedsensor = 0) in the situation\n",
    "def getStandtimes(subject):\n",
    "    situation_stands = []\n",
    "    for situation in [\"a\",\"b\",\"c\",\"e\"]:\n",
    "        #for every iteration of this situation\n",
    "        for index,split_sit in enumerate(subject_splits[subject][situation]):\n",
    "            df_timeslice = subjects[subject].loc[split_sit[0]:split_sit[1]][\"speed\"]\n",
    "            group_index = (df_timeslice != df_timeslice.shift()).cumsum()\n",
    "            # for every found headrotation\n",
    "            standedInIteration = False\n",
    "            for stand_sit_group in group_index.unique():\n",
    "                df_sit = group_index.loc[group_index == stand_sit_group]\n",
    "                if df_timeslice[df_sit.index[0]] == 0.0:\n",
    "                    situation_stands.append((situation,index,df_sit.index[-1] - df_sit.index[0]))\n",
    "                    standedInIteration = True\n",
    "            if not standedInIteration:\n",
    "                # This iteration no one stand. Adding 0 to account for in mean calculations\n",
    "                situation_stands.append((situation,index,0.00))\n",
    "    return np.array(situation_stands,dtype = ([('situation', 'U10'),('iteration', 'i4'), ('seconds', 'f4')]))\n",
    "\n",
    "# builds sum over all iterations of one situation, returns mean of this sum\n",
    "def getMeanOfStandSituation(times,situation):\n",
    "    sit_times = times[times[\"situation\"] == situation]\n",
    "    sit_sums = []\n",
    "    for iteration in np.unique(sit_times[\"iteration\"]):\n",
    "        sit_sums.append(np.sum(sit_times[sit_times[\"iteration\"] == iteration][\"seconds\"]))\n",
    "    return np.mean(sit_sums)"
   ]
  },
  {
   "cell_type": "markdown",
   "id": "d03103e1-8424-4987-a362-32bd8d70956d",
   "metadata": {},
   "source": [
    "## Data Read"
   ]
  },
  {
   "cell_type": "code",
   "execution_count": 4,
   "id": "72b7522f-a96f-4082-8ce1-83cf15c2fcb0",
   "metadata": {},
   "outputs": [
    {
     "name": "stderr",
     "output_type": "stream",
     "text": [
      "/var/folders/dq/2dn0y4q57nzg9w8bsvw5zv800000gn/T/ipykernel_54811/3518786591.py:3: DtypeWarning: Columns (5) have mixed types. Specify dtype option on import or set low_memory=False.\n",
      "  df = pd.read_csv(path,sep='\\t');\n"
     ]
    }
   ],
   "source": [
    "#Global read conditions\n",
    "conditions = load_csv(\"./logs_vr/conditions.csv\")\n",
    "\n",
    "df_subject1 = read_data('./logs_vr/subject1_2022-06-28_103935_Condition_0.tsv')\n",
    "df_subject2 = read_data('./logs_vr/subject2_2022-06-28_152542_Condition_0.tsv')\n",
    "df_subject3 = read_data('./logs_vr/subject3_2022-06-28_164830_Condition_0.tsv')\n",
    "df_subject4 = read_data('./logs_vr/subject4_2022-06-29_134215_Condition_0.tsv')\n",
    "df_subject5 = read_data('./logs_vr/subject5_2022-06-29_143922_Condition_0.tsv')\n",
    "df_subject6 = read_data('./logs_vr/subject6_2022-06-29_153217_Condition_0.tsv')\n",
    "df_subject7 = read_data('./logs_vr/subject7_2022-06-30_133951_Condition_0.tsv')\n",
    "df_subject8= read_data('./logs_vr/subject8_2022-07-05_161117_Condition_0.tsv')\n",
    "df_subject9= read_data('./logs_vr/subject9_2022-07-05_171811_Condition_0.tsv')\n",
    "df_subject10 = read_data('./logs_vr/subject10_2022-07-05_175819_Condition_0.tsv')\n",
    "df_subject11 = read_data('./logs_vr/subject11_2022-07-06_134238_Condition_0.tsv')\n",
    "df_subject12 = read_data('./logs_vr/subject12_2022-07-08_111356_Condition_0.tsv')"
   ]
  },
  {
   "cell_type": "code",
   "execution_count": 5,
   "id": "0bf07d79-f7b2-450b-b5d3-23df51b93bfd",
   "metadata": {},
   "outputs": [],
   "source": [
    "subjects = {\n",
    "    \"Subject 1\" : df_subject1,\n",
    "    \"Subject 2\" : df_subject2,\n",
    "    \"Subject 3\" : df_subject3,\n",
    "    \"Subject 4\" : df_subject4,\n",
    "    \"Subject 5\" : df_subject5,\n",
    "    \"Subject 6\" : df_subject6,\n",
    "    \"Subject 7\" : df_subject7,\n",
    "    \"Subject 8\" : df_subject8,\n",
    "    \"Subject 9\" : df_subject9,\n",
    "    \"Subject 10\" : df_subject10,\n",
    "    \"Subject 11\" : df_subject11,\n",
    "    \"Subject 12\" : df_subject12\n",
    "}\n",
    "subject_splits = {\n",
    "    \"Subject 1\" : getSituationSplits(df_subject1),\n",
    "    \"Subject 2\" : getSituationSplits(df_subject2),\n",
    "    \"Subject 3\" : getSituationSplits(df_subject3),\n",
    "    \"Subject 4\" : getSituationSplits(df_subject4),\n",
    "    \"Subject 5\" : getSituationSplits(df_subject5),\n",
    "    \"Subject 6\" : getSituationSplits(df_subject6),\n",
    "    \"Subject 7\" : getSituationSplits(df_subject7),\n",
    "    \"Subject 8\" : getSituationSplits(df_subject8),\n",
    "    \"Subject 9\" : getSituationSplits(df_subject9),\n",
    "    \"Subject 10\" : getSituationSplits(df_subject10),\n",
    "    \"Subject 11\" : getSituationSplits(df_subject11),\n",
    "    \"Subject 12\" : getSituationSplits(df_subject12)\n",
    "}\n",
    "#[difficulty,safety]\n",
    "subjects_perceived = {\n",
    "    \"Subject 1\" :  [[5,1,3,3,1],[4,4,3,3,5]],\n",
    "    \"Subject 2\" :  [[2,3,2,2,4],[4,2,4,2,1]],\n",
    "    \"Subject 3\" :  [[3,1,2,2,4],[2,5,4,4,3]],\n",
    "    \"Subject 4\" :  [[2,2,5,4,3],[4,4,1,1,2]],\n",
    "    \"Subject 5\" :  [[2,2,3,4,4],[4,5,2,4,2]],\n",
    "    \"Subject 6\" :  [[2,1,1,5,5],[2,2,4,5,1]],\n",
    "    \"Subject 7\" :  [[4,1,3,4,2],[4,5,3,2,4]],\n",
    "    \"Subject 8\" :  [[4,1,4,2,5],[1,4,2,5,1]],\n",
    "    \"Subject 9\" :  [[2,1,4,5,5],[4,3,2,2,2]],\n",
    "    \"Subject 10\" : [[1,3,2,4,4],[5,3,4,3,2]],\n",
    "    \"Subject 11\" : [[4,2,3,5,3],[2,4,4,1,3]],\n",
    "    \"Subject 12\" : [[4,2,5,3,2],[1,5,1,3,4]],\n",
    "}\n",
    "\n",
    "available_data_labels = list(subjects.keys())"
   ]
  },
  {
   "cell_type": "code",
   "execution_count": 6,
   "id": "f7c57f85-718d-4541-8839-bd8ed7af892e",
   "metadata": {},
   "outputs": [
    {
     "name": "stderr",
     "output_type": "stream",
     "text": [
      "/Library/Frameworks/Python.framework/Versions/3.11/lib/python3.11/site-packages/numpy/core/fromnumeric.py:3464: RuntimeWarning: Mean of empty slice.\n",
      "  return _methods._mean(a, axis=axis, dtype=dtype,\n",
      "/Library/Frameworks/Python.framework/Versions/3.11/lib/python3.11/site-packages/numpy/core/_methods.py:192: RuntimeWarning: invalid value encountered in divide\n",
      "  ret = ret.dtype.type(ret / rcount)\n",
      "/Library/Frameworks/Python.framework/Versions/3.11/lib/python3.11/site-packages/numpy/core/fromnumeric.py:3464: RuntimeWarning: Mean of empty slice.\n",
      "  return _methods._mean(a, axis=axis, dtype=dtype,\n",
      "/Library/Frameworks/Python.framework/Versions/3.11/lib/python3.11/site-packages/numpy/core/_methods.py:192: RuntimeWarning: invalid value encountered in divide\n",
      "  ret = ret.dtype.type(ret / rcount)\n",
      "/Library/Frameworks/Python.framework/Versions/3.11/lib/python3.11/site-packages/numpy/core/fromnumeric.py:3464: RuntimeWarning: Mean of empty slice.\n",
      "  return _methods._mean(a, axis=axis, dtype=dtype,\n",
      "/Library/Frameworks/Python.framework/Versions/3.11/lib/python3.11/site-packages/numpy/core/_methods.py:192: RuntimeWarning: invalid value encountered in divide\n",
      "  ret = ret.dtype.type(ret / rcount)\n",
      "/Library/Frameworks/Python.framework/Versions/3.11/lib/python3.11/site-packages/numpy/core/fromnumeric.py:3464: RuntimeWarning: Mean of empty slice.\n",
      "  return _methods._mean(a, axis=axis, dtype=dtype,\n",
      "/Library/Frameworks/Python.framework/Versions/3.11/lib/python3.11/site-packages/numpy/core/_methods.py:192: RuntimeWarning: invalid value encountered in divide\n",
      "  ret = ret.dtype.type(ret / rcount)\n",
      "/Library/Frameworks/Python.framework/Versions/3.11/lib/python3.11/site-packages/numpy/core/fromnumeric.py:3464: RuntimeWarning: Mean of empty slice.\n",
      "  return _methods._mean(a, axis=axis, dtype=dtype,\n",
      "/Library/Frameworks/Python.framework/Versions/3.11/lib/python3.11/site-packages/numpy/core/_methods.py:192: RuntimeWarning: invalid value encountered in divide\n",
      "  ret = ret.dtype.type(ret / rcount)\n",
      "/Library/Frameworks/Python.framework/Versions/3.11/lib/python3.11/site-packages/numpy/core/fromnumeric.py:3464: RuntimeWarning: Mean of empty slice.\n",
      "  return _methods._mean(a, axis=axis, dtype=dtype,\n",
      "/Library/Frameworks/Python.framework/Versions/3.11/lib/python3.11/site-packages/numpy/core/_methods.py:192: RuntimeWarning: invalid value encountered in divide\n",
      "  ret = ret.dtype.type(ret / rcount)\n",
      "/Library/Frameworks/Python.framework/Versions/3.11/lib/python3.11/site-packages/numpy/core/fromnumeric.py:3464: RuntimeWarning: Mean of empty slice.\n",
      "  return _methods._mean(a, axis=axis, dtype=dtype,\n",
      "/Library/Frameworks/Python.framework/Versions/3.11/lib/python3.11/site-packages/numpy/core/_methods.py:192: RuntimeWarning: invalid value encountered in divide\n",
      "  ret = ret.dtype.type(ret / rcount)\n"
     ]
    }
   ],
   "source": [
    "# Dataframe with meanvalues per subject, fields for situations\n",
    "data = []\n",
    "for key,value in subjects.items():\n",
    "    rotations = getRotations(key)\n",
    "    collisions = getCollisions(key)\n",
    "    standtimes = getStandtimes(key)\n",
    "    angles = getAngles(key)\n",
    "    left_angles = angles[(angles[\"situation\"] == key) & (angles[\"direction\"] == \"left\")][\"angle\"]\n",
    "    right_angles = angles[(angles[\"situation\"] == key) & (angles[\"direction\"] == \"right\")][\"angle\"]\n",
    "    data.append([\n",
    "        key,\n",
    "        value[\"hmdRotationY\"].mean(axis=0),\n",
    "        value[\"speed\"].mean(axis=0),\n",
    "        value.index[-1],\n",
    "        getAverageOfSplit(\"a\",key),\n",
    "        getAverageOfSplit(\"b\",key),\n",
    "        getAverageOfSplit(\"c\",key),\n",
    "        0,\n",
    "        getAverageOfSplit(\"e\",key),\n",
    "        getMeanOfStandSituation(standtimes,\"a\"),\n",
    "        getMeanOfStandSituation(standtimes,\"b\"),\n",
    "        getMeanOfStandSituation(standtimes,\"c\"),\n",
    "        0,\n",
    "        getMeanOfStandSituation(standtimes,\"e\"),\n",
    "        collisions[\"a\"],\n",
    "        collisions[\"b\"],\n",
    "        collisions[\"c\"],\n",
    "        0,\n",
    "        collisions[\"e\"],\n",
    "        np.sum([i[0] for i in rotations[\"a\"]]) / len(rotations[\"a\"]),\n",
    "        np.sum([i[0] for i in rotations[\"b\"]])/ len(rotations[\"a\"]),\n",
    "        np.sum([i[0] for i in rotations[\"c\"]])/ len(rotations[\"a\"]),\n",
    "        0,\n",
    "        np.sum([i[0] for i in rotations[\"e\"]])/ len(rotations[\"a\"]),\n",
    "        np.sum([i[1] for i in rotations[\"a\"]])/ len(rotations[\"a\"]),\n",
    "        np.sum([i[1] for i in rotations[\"b\"]])/ len(rotations[\"a\"]),\n",
    "        np.sum([i[1] for i in rotations[\"c\"]])/ len(rotations[\"a\"]),\n",
    "        0,\n",
    "        np.sum([i[1] for i in rotations[\"e\"]])/ len(rotations[\"a\"]),\n",
    "        np.mean(angles[(angles[\"situation\"] == \"a\") & (angles[\"direction\"] == \"left\")][\"angle\"]),\n",
    "        np.mean(angles[(angles[\"situation\"] == \"b\") & (angles[\"direction\"] == \"left\")][\"angle\"]),\n",
    "        np.mean(angles[(angles[\"situation\"] == \"c\") & (angles[\"direction\"] == \"left\")][\"angle\"]),\n",
    "        0,\n",
    "        np.mean(angles[(angles[\"situation\"] == \"e\") & (angles[\"direction\"] == \"left\")][\"angle\"]),\n",
    "        np.mean(angles[(angles[\"situation\"] == \"a\") & (angles[\"direction\"] == \"right\")][\"angle\"]),\n",
    "        np.mean(angles[(angles[\"situation\"] == \"b\") & (angles[\"direction\"] == \"right\")][\"angle\"]),\n",
    "        np.mean(angles[(angles[\"situation\"] == \"c\") & (angles[\"direction\"] == \"right\")][\"angle\"]),\n",
    "        0,\n",
    "        np.mean(angles[(angles[\"situation\"] == \"e\") & (angles[\"direction\"] == \"right\")][\"angle\"]),\n",
    "        #safety\n",
    "        subjects_perceived[key][1][0],\n",
    "        subjects_perceived[key][1][1],\n",
    "        subjects_perceived[key][1][2],\n",
    "        subjects_perceived[key][1][3],\n",
    "        subjects_perceived[key][1][4],\n",
    "        #difficulty\n",
    "        subjects_perceived[key][0][0],\n",
    "        subjects_perceived[key][0][1],\n",
    "        subjects_perceived[key][0][2],\n",
    "        subjects_perceived[key][0][3],\n",
    "        subjects_perceived[key][0][4]\n",
    "    ])\n",
    "df_all = pd.DataFrame(data, columns=[\n",
    "    'subject', \n",
    "    'mean_rotation',\n",
    "    'mean_speed',\n",
    "    \"duration\",\n",
    "    'sit_a_duration',\n",
    "    'sit_b_duration',\n",
    "    'sit_c_duration',\n",
    "    'sit_d_duration',\n",
    "    'sit_e_duration',\n",
    "    'sit_a_standtime',\n",
    "    'sit_b_standtime',\n",
    "    'sit_c_standtime',\n",
    "    'sit_d_standtime',\n",
    "    'sit_e_standtime',\n",
    "    'sit_a_collisions',\n",
    "    'sit_b_collisions',\n",
    "    'sit_c_collisions',\n",
    "    'sit_d_collisions',\n",
    "    'sit_e_collisions',\n",
    "    'sit_a_left_rotations',\n",
    "    'sit_b_left_rotations',\n",
    "    'sit_c_left_rotations',\n",
    "    'sit_d_left_rotations',\n",
    "    'sit_e_left_rotations',\n",
    "    'sit_a_right_rotations',\n",
    "    'sit_b_right_rotations',\n",
    "    'sit_c_right_rotations',\n",
    "    'sit_d_right_rotations',\n",
    "    'sit_e_right_rotations',\n",
    "    'sit_a_left_angle',\n",
    "    'sit_b_left_angle',\n",
    "    'sit_c_left_angle',\n",
    "    'sit_d_left_angle',\n",
    "    'sit_e_left_angle',\n",
    "    'sit_a_right_angle',\n",
    "    'sit_b_right_angle',\n",
    "    'sit_c_right_angle',\n",
    "    'sit_d_right_angle',\n",
    "    'sit_e_right_angle',\n",
    "    \"sit_a_safety\",\n",
    "    \"sit_b_safety\",\n",
    "    \"sit_c_safety\",\n",
    "    \"sit_d_safety\",\n",
    "    \"sit_e_safety\",\n",
    "    \"sit_a_difficulty\",\n",
    "    \"sit_b_difficulty\",\n",
    "    \"sit_c_difficulty\",\n",
    "    \"sit_d_difficulty\",\n",
    "    \"sit_e_difficulty\"\n",
    "])\n",
    "df_all.loc['Total'] = df_all.mean(numeric_only=True)\n",
    "#df_all.loc['SD'] = df_all.std(numeric_only=True)"
   ]
  },
  {
   "cell_type": "code",
   "execution_count": 7,
   "id": "d7ba1ad6-c5da-4e21-b72c-56abd0ce60ef",
   "metadata": {},
   "outputs": [],
   "source": [
    "#Correlations\n",
    "data = []\n",
    "for key,value in subjects.items():\n",
    "    rotations = getRotations(key)\n",
    "    collisions = getCollisions(key)\n",
    "    standtimes = getStandtimes(key)\n",
    "    angles = getAngles(key)\n",
    "    left_angles = angles[(angles[\"situation\"] == key) & (angles[\"direction\"] == \"left\")][\"angle\"]\n",
    "    right_angles = angles[(angles[\"situation\"] == key) & (angles[\"direction\"] == \"right\")][\"angle\"]\n",
    "    data.append([\n",
    "        key,\n",
    "        #Rotations have to be divided by the iterations. We need amount\n",
    "        [i[0] for i in rotations[\"a\"]],\n",
    "        [i[0] for i in rotations[\"b\"]],\n",
    "        [i[0] for i in rotations[\"c\"]],\n",
    "        0,\n",
    "        [i[0] for i in rotations[\"e\"]],\n",
    "        [i[1] for i in rotations[\"a\"]],\n",
    "        [i[1] for i in rotations[\"b\"]],\n",
    "        [i[1] for i in rotations[\"c\"]],\n",
    "        0,\n",
    "        [i[1] for i in rotations[\"e\"]],\n",
    "        angles[(angles[\"situation\"] == \"a\") & (angles[\"direction\"] == \"left\")][\"angle\"],\n",
    "        angles[(angles[\"situation\"] == \"b\") & (angles[\"direction\"] == \"left\")][\"angle\"],\n",
    "        angles[(angles[\"situation\"] == \"c\") & (angles[\"direction\"] == \"left\")][\"angle\"],\n",
    "        0,\n",
    "        angles[(angles[\"situation\"] == \"e\") & (angles[\"direction\"] == \"left\")][\"angle\"],\n",
    "        angles[(angles[\"situation\"] == \"a\") & (angles[\"direction\"] == \"right\")][\"angle\"],\n",
    "        angles[(angles[\"situation\"] == \"b\") & (angles[\"direction\"] == \"right\")][\"angle\"],\n",
    "        angles[(angles[\"situation\"] == \"c\") & (angles[\"direction\"] == \"right\")][\"angle\"],\n",
    "        0,\n",
    "        angles[(angles[\"situation\"] == \"e\") & (angles[\"direction\"] == \"right\")][\"angle\"],\n",
    "        #safety\n",
    "        subjects_perceived[key][1][0],\n",
    "        subjects_perceived[key][1][1],\n",
    "        subjects_perceived[key][1][2],\n",
    "        subjects_perceived[key][1][3],\n",
    "        subjects_perceived[key][1][4],\n",
    "        #difficulty\n",
    "        subjects_perceived[key][0][0],\n",
    "        subjects_perceived[key][0][1],\n",
    "        subjects_perceived[key][0][2],\n",
    "        subjects_perceived[key][0][3],\n",
    "        subjects_perceived[key][0][4]\n",
    "    ])\n",
    "df_corr = pd.DataFrame(data, columns=[\n",
    "    'subject', \n",
    "    'sit_a_left_rotations',\n",
    "    'sit_b_left_rotations',\n",
    "    'sit_c_left_rotations',\n",
    "    'sit_d_left_rotations',\n",
    "    'sit_e_left_rotations',\n",
    "    'sit_a_right_rotations',\n",
    "    'sit_b_right_rotations',\n",
    "    'sit_c_right_rotations',\n",
    "    'sit_d_right_rotations',\n",
    "    'sit_e_right_rotations',\n",
    "    'sit_a_left_angle',\n",
    "    'sit_b_left_angle',\n",
    "    'sit_c_left_angle',\n",
    "    'sit_d_left_angle',\n",
    "    'sit_e_left_angle',\n",
    "    'sit_a_right_angle',\n",
    "    'sit_b_right_angle',\n",
    "    'sit_c_right_angle',\n",
    "    'sit_d_right_angle',\n",
    "    'sit_e_right_angle',\n",
    "    \"sit_a_safety\",\n",
    "    \"sit_b_safety\",\n",
    "    \"sit_c_safety\",\n",
    "    \"sit_d_safety\",\n",
    "    \"sit_e_safety\",\n",
    "    \"sit_a_difficulty\",\n",
    "    \"sit_b_difficulty\",\n",
    "    \"sit_c_difficulty\",\n",
    "    \"sit_d_difficulty\",\n",
    "    \"sit_e_difficulty\"\n",
    "])\n",
    "\n",
    "from scipy.stats import pearsonr\n",
    "from scipy.stats import spearmanr\n",
    "from scipy.stats import kendalltau\n",
    "\n",
    "left_rots = []\n",
    "safety_left_rots = []\n",
    "right_rots = []\n",
    "safety_right_rots = []\n",
    "left_angles = []\n",
    "safety_left_angles = []\n",
    "right_angles = []\n",
    "safety_right_angles = []\n",
    "\n",
    "safety = []\n",
    "difficulty = []\n",
    "for index,participant in df_corr.iterrows():\n",
    "    for situation in [\"a\",\"c\",\"e\"]:\n",
    "        #Rotations\n",
    "        for left_rot in participant[\"sit_\"+situation+\"_left_rotations\"]:\n",
    "            left_rots.append(left_rot)\n",
    "            safety_left_rots.append(participant[\"sit_\"+situation+\"_safety\"])\n",
    "        \n",
    "        for right_rot in participant[\"sit_\"+situation+\"_right_rotations\"]:\n",
    "            right_rots.append(right_rot)\n",
    "            safety_right_rots.append(participant[\"sit_\"+situation+\"_safety\"])\n",
    "\n",
    "        #Angles\n",
    "        for left_angle in participant[\"sit_\"+situation+\"_left_angle\"]:\n",
    "            left_angles.append(left_angle)\n",
    "            safety_left_angles.append(participant[\"sit_\"+situation+\"_safety\"])\n",
    "        \n",
    "        for right_angle in participant[\"sit_\"+situation+\"_right_angle\"]:\n",
    "            right_angles.append(right_angle)\n",
    "            safety_right_angles.append(participant[\"sit_\"+situation+\"_safety\"])\n",
    "        \n",
    "        safety.append(participant[\"sit_\"+situation+\"_safety\"])\n",
    "        difficulty.append(participant[\"sit_\"+situation+\"_difficulty\"])"
   ]
  },
  {
   "cell_type": "code",
   "execution_count": 8,
   "id": "ebe64869-11f8-4f9e-98ba-d4b1eec86444",
   "metadata": {},
   "outputs": [],
   "source": [
    "# Dataframe with mean values of the mean values per situation\n",
    "totals = df_all.loc[\"Total\"]\n",
    "data = [\n",
    "    [\"A\",totals[\"sit_a_duration\"],totals[\"sit_a_standtime\"],0,totals[\"sit_a_left_rotations\"],totals[\"sit_a_right_rotations\"],totals[\"sit_a_left_angle\"],totals[\"sit_a_right_angle\"],totals[\"sit_a_collisions\"],totals[\"sit_a_safety\"],totals[\"sit_a_difficulty\"]],\n",
    "    [\"B\",totals[\"sit_b_duration\"],totals[\"sit_b_standtime\"],0,totals[\"sit_b_left_rotations\"],totals[\"sit_b_right_rotations\"],totals[\"sit_b_left_angle\"],totals[\"sit_b_right_angle\"],totals[\"sit_b_collisions\"],totals[\"sit_b_safety\"],totals[\"sit_b_difficulty\"]],\n",
    "    [\"C\",totals[\"sit_c_duration\"],totals[\"sit_c_standtime\"],0,totals[\"sit_c_left_rotations\"],totals[\"sit_c_right_rotations\"],totals[\"sit_c_left_angle\"],totals[\"sit_c_right_angle\"],totals[\"sit_c_collisions\"],totals[\"sit_c_safety\"],totals[\"sit_c_difficulty\"]],\n",
    "#    [\"d\",totals[\"sit_d_duration\"],totals[\"sit_d_standtime\"],0,totals[\"sit_d_left_rotations\"],totals[\"sit_d_right_rotations\"],totals[\"sit_d_left_angle\"],totals[\"sit_d_right_angle\"],totals[\"sit_d_collisions\"]],\n",
    "    [\"D\",totals[\"sit_e_duration\"],totals[\"sit_e_standtime\"],0,totals[\"sit_e_left_rotations\"],totals[\"sit_e_right_rotations\"],totals[\"sit_e_left_angle\"],totals[\"sit_e_right_angle\"],totals[\"sit_e_collisions\"],totals[\"sit_e_safety\"],totals[\"sit_e_difficulty\"]]\n",
    "]\n",
    "df_means_situations = pd.DataFrame(data, columns=[\n",
    "    'situation',\n",
    "    'duration', \n",
    "    'standtime',\n",
    "    'speed',\n",
    "    'left_looks',\n",
    "    'right_looks',\n",
    "    'left_angles',\n",
    "    'right_angles',\n",
    "    'collisions',\n",
    "    'safety',\n",
    "    'difficulty'\n",
    "])"
   ]
  },
  {
   "cell_type": "markdown",
   "id": "594b87b3-e21d-4f26-a0a8-aff0daea1a9a",
   "metadata": {
    "tags": []
   },
   "source": [
    "### Mean Plots"
   ]
  },
  {
   "cell_type": "markdown",
   "id": "e05f029c-debe-4965-86ba-dbf94b2b2b40",
   "metadata": {},
   "source": [
    "#### Headrotation Count"
   ]
  },
  {
   "cell_type": "code",
   "execution_count": 17,
   "id": "afbb1bfc-c116-41ea-9f7d-258863b32162",
   "metadata": {},
   "outputs": [
    {
     "data": {
      "application/vnd.plotly.v1+json": {
       "config": {
        "plotlyServerURL": "https://plot.ly"
       },
       "data": [
        {
         "base": 0,
         "marker": {
          "color": "#961C26"
         },
         "name": "Left Rotations",
         "offsetgroup": "1",
         "orientation": "h",
         "showlegend": true,
         "text": [
          4,
          1,
          3,
          4
         ],
         "type": "bar",
         "x": [
          -3.5833333333333335,
          -0.7222222222222222,
          -3.0611111111111113,
          -3.6222222222222222
         ],
         "xaxis": "x",
         "y": [
          "A",
          "B",
          "C",
          "D"
         ],
         "yaxis": "y"
        },
        {
         "base": 0,
         "marker": {
          "color": "#000000"
         },
         "name": "Right Rotations",
         "offsetgroup": "1",
         "orientation": "h",
         "showlegend": true,
         "text": [
          1,
          0,
          1,
          3
         ],
         "type": "bar",
         "x": [
          1.4666666666666668,
          0.43333333333333335,
          1.0888888888888888,
          2.777777777777778
         ],
         "xaxis": "x2",
         "y": [
          "A",
          "B",
          "C",
          "D"
         ],
         "yaxis": "y2"
        }
       ],
       "layout": {
        "font": {
         "family": "Lato, sans-serif",
         "size": 14
        },
        "height": 768,
        "hoverlabel": {
         "font": {
          "family": "Lato, sans-serif",
          "size": 13
         }
        },
        "hovermode": "y unified",
        "legend": {
         "orientation": "h",
         "x": 0.5,
         "xanchor": "center",
         "y": 1,
         "yanchor": "bottom"
        },
        "margin": {
         "b": 0,
         "l": 70,
         "r": 40,
         "t": 80
        },
        "paper_bgcolor": "rgba(0,0,0,0)",
        "plot_bgcolor": "rgba(0,0,0,0)",
        "template": {
         "data": {
          "bar": [
           {
            "error_x": {
             "color": "rgb(36,36,36)"
            },
            "error_y": {
             "color": "rgb(36,36,36)"
            },
            "marker": {
             "line": {
              "color": "white",
              "width": 0.5
             },
             "pattern": {
              "fillmode": "overlay",
              "size": 10,
              "solidity": 0.2
             }
            },
            "type": "bar"
           }
          ],
          "barpolar": [
           {
            "marker": {
             "line": {
              "color": "white",
              "width": 0.5
             },
             "pattern": {
              "fillmode": "overlay",
              "size": 10,
              "solidity": 0.2
             }
            },
            "type": "barpolar"
           }
          ],
          "carpet": [
           {
            "aaxis": {
             "endlinecolor": "rgb(36,36,36)",
             "gridcolor": "white",
             "linecolor": "white",
             "minorgridcolor": "white",
             "startlinecolor": "rgb(36,36,36)"
            },
            "baxis": {
             "endlinecolor": "rgb(36,36,36)",
             "gridcolor": "white",
             "linecolor": "white",
             "minorgridcolor": "white",
             "startlinecolor": "rgb(36,36,36)"
            },
            "type": "carpet"
           }
          ],
          "choropleth": [
           {
            "colorbar": {
             "outlinewidth": 1,
             "tickcolor": "rgb(36,36,36)",
             "ticks": "outside"
            },
            "type": "choropleth"
           }
          ],
          "contour": [
           {
            "colorbar": {
             "outlinewidth": 1,
             "tickcolor": "rgb(36,36,36)",
             "ticks": "outside"
            },
            "colorscale": [
             [
              0,
              "#440154"
             ],
             [
              0.1111111111111111,
              "#482878"
             ],
             [
              0.2222222222222222,
              "#3e4989"
             ],
             [
              0.3333333333333333,
              "#31688e"
             ],
             [
              0.4444444444444444,
              "#26828e"
             ],
             [
              0.5555555555555556,
              "#1f9e89"
             ],
             [
              0.6666666666666666,
              "#35b779"
             ],
             [
              0.7777777777777778,
              "#6ece58"
             ],
             [
              0.8888888888888888,
              "#b5de2b"
             ],
             [
              1,
              "#fde725"
             ]
            ],
            "type": "contour"
           }
          ],
          "contourcarpet": [
           {
            "colorbar": {
             "outlinewidth": 1,
             "tickcolor": "rgb(36,36,36)",
             "ticks": "outside"
            },
            "type": "contourcarpet"
           }
          ],
          "heatmap": [
           {
            "colorbar": {
             "outlinewidth": 1,
             "tickcolor": "rgb(36,36,36)",
             "ticks": "outside"
            },
            "colorscale": [
             [
              0,
              "#440154"
             ],
             [
              0.1111111111111111,
              "#482878"
             ],
             [
              0.2222222222222222,
              "#3e4989"
             ],
             [
              0.3333333333333333,
              "#31688e"
             ],
             [
              0.4444444444444444,
              "#26828e"
             ],
             [
              0.5555555555555556,
              "#1f9e89"
             ],
             [
              0.6666666666666666,
              "#35b779"
             ],
             [
              0.7777777777777778,
              "#6ece58"
             ],
             [
              0.8888888888888888,
              "#b5de2b"
             ],
             [
              1,
              "#fde725"
             ]
            ],
            "type": "heatmap"
           }
          ],
          "heatmapgl": [
           {
            "colorbar": {
             "outlinewidth": 1,
             "tickcolor": "rgb(36,36,36)",
             "ticks": "outside"
            },
            "colorscale": [
             [
              0,
              "#440154"
             ],
             [
              0.1111111111111111,
              "#482878"
             ],
             [
              0.2222222222222222,
              "#3e4989"
             ],
             [
              0.3333333333333333,
              "#31688e"
             ],
             [
              0.4444444444444444,
              "#26828e"
             ],
             [
              0.5555555555555556,
              "#1f9e89"
             ],
             [
              0.6666666666666666,
              "#35b779"
             ],
             [
              0.7777777777777778,
              "#6ece58"
             ],
             [
              0.8888888888888888,
              "#b5de2b"
             ],
             [
              1,
              "#fde725"
             ]
            ],
            "type": "heatmapgl"
           }
          ],
          "histogram": [
           {
            "marker": {
             "line": {
              "color": "white",
              "width": 0.6
             }
            },
            "type": "histogram"
           }
          ],
          "histogram2d": [
           {
            "colorbar": {
             "outlinewidth": 1,
             "tickcolor": "rgb(36,36,36)",
             "ticks": "outside"
            },
            "colorscale": [
             [
              0,
              "#440154"
             ],
             [
              0.1111111111111111,
              "#482878"
             ],
             [
              0.2222222222222222,
              "#3e4989"
             ],
             [
              0.3333333333333333,
              "#31688e"
             ],
             [
              0.4444444444444444,
              "#26828e"
             ],
             [
              0.5555555555555556,
              "#1f9e89"
             ],
             [
              0.6666666666666666,
              "#35b779"
             ],
             [
              0.7777777777777778,
              "#6ece58"
             ],
             [
              0.8888888888888888,
              "#b5de2b"
             ],
             [
              1,
              "#fde725"
             ]
            ],
            "type": "histogram2d"
           }
          ],
          "histogram2dcontour": [
           {
            "colorbar": {
             "outlinewidth": 1,
             "tickcolor": "rgb(36,36,36)",
             "ticks": "outside"
            },
            "colorscale": [
             [
              0,
              "#440154"
             ],
             [
              0.1111111111111111,
              "#482878"
             ],
             [
              0.2222222222222222,
              "#3e4989"
             ],
             [
              0.3333333333333333,
              "#31688e"
             ],
             [
              0.4444444444444444,
              "#26828e"
             ],
             [
              0.5555555555555556,
              "#1f9e89"
             ],
             [
              0.6666666666666666,
              "#35b779"
             ],
             [
              0.7777777777777778,
              "#6ece58"
             ],
             [
              0.8888888888888888,
              "#b5de2b"
             ],
             [
              1,
              "#fde725"
             ]
            ],
            "type": "histogram2dcontour"
           }
          ],
          "mesh3d": [
           {
            "colorbar": {
             "outlinewidth": 1,
             "tickcolor": "rgb(36,36,36)",
             "ticks": "outside"
            },
            "type": "mesh3d"
           }
          ],
          "parcoords": [
           {
            "line": {
             "colorbar": {
              "outlinewidth": 1,
              "tickcolor": "rgb(36,36,36)",
              "ticks": "outside"
             }
            },
            "type": "parcoords"
           }
          ],
          "pie": [
           {
            "automargin": true,
            "type": "pie"
           }
          ],
          "scatter": [
           {
            "fillpattern": {
             "fillmode": "overlay",
             "size": 10,
             "solidity": 0.2
            },
            "type": "scatter"
           }
          ],
          "scatter3d": [
           {
            "line": {
             "colorbar": {
              "outlinewidth": 1,
              "tickcolor": "rgb(36,36,36)",
              "ticks": "outside"
             }
            },
            "marker": {
             "colorbar": {
              "outlinewidth": 1,
              "tickcolor": "rgb(36,36,36)",
              "ticks": "outside"
             }
            },
            "type": "scatter3d"
           }
          ],
          "scattercarpet": [
           {
            "marker": {
             "colorbar": {
              "outlinewidth": 1,
              "tickcolor": "rgb(36,36,36)",
              "ticks": "outside"
             }
            },
            "type": "scattercarpet"
           }
          ],
          "scattergeo": [
           {
            "marker": {
             "colorbar": {
              "outlinewidth": 1,
              "tickcolor": "rgb(36,36,36)",
              "ticks": "outside"
             }
            },
            "type": "scattergeo"
           }
          ],
          "scattergl": [
           {
            "marker": {
             "colorbar": {
              "outlinewidth": 1,
              "tickcolor": "rgb(36,36,36)",
              "ticks": "outside"
             }
            },
            "type": "scattergl"
           }
          ],
          "scattermapbox": [
           {
            "marker": {
             "colorbar": {
              "outlinewidth": 1,
              "tickcolor": "rgb(36,36,36)",
              "ticks": "outside"
             }
            },
            "type": "scattermapbox"
           }
          ],
          "scatterpolar": [
           {
            "marker": {
             "colorbar": {
              "outlinewidth": 1,
              "tickcolor": "rgb(36,36,36)",
              "ticks": "outside"
             }
            },
            "type": "scatterpolar"
           }
          ],
          "scatterpolargl": [
           {
            "marker": {
             "colorbar": {
              "outlinewidth": 1,
              "tickcolor": "rgb(36,36,36)",
              "ticks": "outside"
             }
            },
            "type": "scatterpolargl"
           }
          ],
          "scatterternary": [
           {
            "marker": {
             "colorbar": {
              "outlinewidth": 1,
              "tickcolor": "rgb(36,36,36)",
              "ticks": "outside"
             }
            },
            "type": "scatterternary"
           }
          ],
          "surface": [
           {
            "colorbar": {
             "outlinewidth": 1,
             "tickcolor": "rgb(36,36,36)",
             "ticks": "outside"
            },
            "colorscale": [
             [
              0,
              "#440154"
             ],
             [
              0.1111111111111111,
              "#482878"
             ],
             [
              0.2222222222222222,
              "#3e4989"
             ],
             [
              0.3333333333333333,
              "#31688e"
             ],
             [
              0.4444444444444444,
              "#26828e"
             ],
             [
              0.5555555555555556,
              "#1f9e89"
             ],
             [
              0.6666666666666666,
              "#35b779"
             ],
             [
              0.7777777777777778,
              "#6ece58"
             ],
             [
              0.8888888888888888,
              "#b5de2b"
             ],
             [
              1,
              "#fde725"
             ]
            ],
            "type": "surface"
           }
          ],
          "table": [
           {
            "cells": {
             "fill": {
              "color": "rgb(237,237,237)"
             },
             "line": {
              "color": "white"
             }
            },
            "header": {
             "fill": {
              "color": "rgb(217,217,217)"
             },
             "line": {
              "color": "white"
             }
            },
            "type": "table"
           }
          ]
         },
         "layout": {
          "annotationdefaults": {
           "arrowhead": 0,
           "arrowwidth": 1
          },
          "autotypenumbers": "strict",
          "coloraxis": {
           "colorbar": {
            "outlinewidth": 1,
            "tickcolor": "rgb(36,36,36)",
            "ticks": "outside"
           }
          },
          "colorscale": {
           "diverging": [
            [
             0,
             "rgb(103,0,31)"
            ],
            [
             0.1,
             "rgb(178,24,43)"
            ],
            [
             0.2,
             "rgb(214,96,77)"
            ],
            [
             0.3,
             "rgb(244,165,130)"
            ],
            [
             0.4,
             "rgb(253,219,199)"
            ],
            [
             0.5,
             "rgb(247,247,247)"
            ],
            [
             0.6,
             "rgb(209,229,240)"
            ],
            [
             0.7,
             "rgb(146,197,222)"
            ],
            [
             0.8,
             "rgb(67,147,195)"
            ],
            [
             0.9,
             "rgb(33,102,172)"
            ],
            [
             1,
             "rgb(5,48,97)"
            ]
           ],
           "sequential": [
            [
             0,
             "#440154"
            ],
            [
             0.1111111111111111,
             "#482878"
            ],
            [
             0.2222222222222222,
             "#3e4989"
            ],
            [
             0.3333333333333333,
             "#31688e"
            ],
            [
             0.4444444444444444,
             "#26828e"
            ],
            [
             0.5555555555555556,
             "#1f9e89"
            ],
            [
             0.6666666666666666,
             "#35b779"
            ],
            [
             0.7777777777777778,
             "#6ece58"
            ],
            [
             0.8888888888888888,
             "#b5de2b"
            ],
            [
             1,
             "#fde725"
            ]
           ],
           "sequentialminus": [
            [
             0,
             "#440154"
            ],
            [
             0.1111111111111111,
             "#482878"
            ],
            [
             0.2222222222222222,
             "#3e4989"
            ],
            [
             0.3333333333333333,
             "#31688e"
            ],
            [
             0.4444444444444444,
             "#26828e"
            ],
            [
             0.5555555555555556,
             "#1f9e89"
            ],
            [
             0.6666666666666666,
             "#35b779"
            ],
            [
             0.7777777777777778,
             "#6ece58"
            ],
            [
             0.8888888888888888,
             "#b5de2b"
            ],
            [
             1,
             "#fde725"
            ]
           ]
          },
          "colorway": [
           "#1F77B4",
           "#FF7F0E",
           "#2CA02C",
           "#D62728",
           "#9467BD",
           "#8C564B",
           "#E377C2",
           "#7F7F7F",
           "#BCBD22",
           "#17BECF"
          ],
          "font": {
           "color": "rgb(36,36,36)"
          },
          "geo": {
           "bgcolor": "white",
           "lakecolor": "white",
           "landcolor": "white",
           "showlakes": true,
           "showland": true,
           "subunitcolor": "white"
          },
          "hoverlabel": {
           "align": "left"
          },
          "hovermode": "closest",
          "mapbox": {
           "style": "light"
          },
          "paper_bgcolor": "white",
          "plot_bgcolor": "white",
          "polar": {
           "angularaxis": {
            "gridcolor": "rgb(232,232,232)",
            "linecolor": "rgb(36,36,36)",
            "showgrid": false,
            "showline": true,
            "ticks": "outside"
           },
           "bgcolor": "white",
           "radialaxis": {
            "gridcolor": "rgb(232,232,232)",
            "linecolor": "rgb(36,36,36)",
            "showgrid": false,
            "showline": true,
            "ticks": "outside"
           }
          },
          "scene": {
           "xaxis": {
            "backgroundcolor": "white",
            "gridcolor": "rgb(232,232,232)",
            "gridwidth": 2,
            "linecolor": "rgb(36,36,36)",
            "showbackground": true,
            "showgrid": false,
            "showline": true,
            "ticks": "outside",
            "zeroline": false,
            "zerolinecolor": "rgb(36,36,36)"
           },
           "yaxis": {
            "backgroundcolor": "white",
            "gridcolor": "rgb(232,232,232)",
            "gridwidth": 2,
            "linecolor": "rgb(36,36,36)",
            "showbackground": true,
            "showgrid": false,
            "showline": true,
            "ticks": "outside",
            "zeroline": false,
            "zerolinecolor": "rgb(36,36,36)"
           },
           "zaxis": {
            "backgroundcolor": "white",
            "gridcolor": "rgb(232,232,232)",
            "gridwidth": 2,
            "linecolor": "rgb(36,36,36)",
            "showbackground": true,
            "showgrid": false,
            "showline": true,
            "ticks": "outside",
            "zeroline": false,
            "zerolinecolor": "rgb(36,36,36)"
           }
          },
          "shapedefaults": {
           "fillcolor": "black",
           "line": {
            "width": 0
           },
           "opacity": 0.3
          },
          "ternary": {
           "aaxis": {
            "gridcolor": "rgb(232,232,232)",
            "linecolor": "rgb(36,36,36)",
            "showgrid": false,
            "showline": true,
            "ticks": "outside"
           },
           "baxis": {
            "gridcolor": "rgb(232,232,232)",
            "linecolor": "rgb(36,36,36)",
            "showgrid": false,
            "showline": true,
            "ticks": "outside"
           },
           "bgcolor": "white",
           "caxis": {
            "gridcolor": "rgb(232,232,232)",
            "linecolor": "rgb(36,36,36)",
            "showgrid": false,
            "showline": true,
            "ticks": "outside"
           }
          },
          "title": {
           "x": 0.05
          },
          "xaxis": {
           "automargin": true,
           "gridcolor": "rgb(232,232,232)",
           "linecolor": "rgb(36,36,36)",
           "showgrid": false,
           "showline": true,
           "ticks": "outside",
           "title": {
            "standoff": 15
           },
           "zeroline": false,
           "zerolinecolor": "rgb(36,36,36)"
          },
          "yaxis": {
           "automargin": true,
           "gridcolor": "rgb(232,232,232)",
           "linecolor": "rgb(36,36,36)",
           "showgrid": false,
           "showline": true,
           "ticks": "outside",
           "title": {
            "standoff": 15
           },
           "zeroline": false,
           "zerolinecolor": "rgb(36,36,36)"
          }
         }
        },
        "width": 1024,
        "xaxis": {
         "anchor": "y",
         "domain": [
          0,
          0.5
         ],
         "range": [
          -4,
          0
         ],
         "showgrid": false,
         "title": {
          "text": ""
         }
        },
        "xaxis2": {
         "anchor": "y2",
         "domain": [
          0.5,
          1
         ],
         "range": [
          0,
          4
         ],
         "showgrid": false
        },
        "yaxis": {
         "anchor": "x",
         "categoryorder": "category descending",
         "domain": [
          0,
          1
         ],
         "showgrid": false,
         "showline": false,
         "ticksuffix": " ",
         "title": {
          "text": ""
         }
        },
        "yaxis2": {
         "anchor": "x2",
         "categoryorder": "category descending",
         "domain": [
          0,
          1
         ],
         "matches": "y",
         "showgrid": false,
         "showline": false,
         "showticklabels": false,
         "ticksuffix": " "
        }
       }
      }
     },
     "metadata": {},
     "output_type": "display_data"
    }
   ],
   "source": [
    "fig_looks = make_subplots(rows=1, cols=2, specs=[[{}, {}]], shared_yaxes=True, horizontal_spacing=0)\n",
    "fig_looks.append_trace(go.Bar(x= - df_means_situations.left_looks, y=df_means_situations.situation,\n",
    "                        orientation='h', showlegend=True, \n",
    "                        text= np.round(df_means_situations.left_looks,decimals = 0), \n",
    "                        name='Left Rotations',\n",
    "                        base=0,\n",
    "                        offsetgroup = 1,\n",
    "                        marker_color=marking_red), 1, 1)\n",
    "fig_looks.append_trace(go.Bar(x=df_means_situations.right_looks, y=df_means_situations.situation, \n",
    "                        orientation='h', showlegend=True,\n",
    "                        text=np.round(df_means_situations.right_looks,decimals = 0),\n",
    "                        base=0,\n",
    "                        offsetgroup = 1,\n",
    "                        name='Right Rotations', marker_color='#000000'), 1, 2)\n",
    "fig_looks.update_xaxes(showgrid=False,range=[-4,0],row=1, col=1)\n",
    "fig_looks.update_xaxes(showgrid=False,range=[0,4],row=1, col=2)\n",
    "fig_looks.update_yaxes(showgrid=False, categoryorder=\"category descending\", ticksuffix=' ', showline=False)\n",
    "fig_looks.update_traces(hovertemplate=None)\n",
    "fig_looks.update_layout(\n",
    "#    title='Mean of Headrotations per Situation',\n",
    "    margin=dict(t=80, b=0, l=70, r=40),\n",
    "    hovermode=\"y unified\", \n",
    "    xaxis_title='', \n",
    "    yaxis_title=\"\",\n",
    "    width=plot_width, height=plot_height,\n",
    "    font=dict(family=\"Lato, sans-serif\",size=14),\n",
    "    legend=dict(orientation=\"h\", yanchor=\"bottom\",y=1, xanchor=\"center\", x=0.5),\n",
    "    hoverlabel=dict(font_size=13, font_family=\"Lato, sans-serif\"),\n",
    "    paper_bgcolor='rgba(0,0,0,0)',\n",
    "    plot_bgcolor='rgba(0,0,0,0)')"
   ]
  },
  {
   "cell_type": "markdown",
   "id": "bad21355-f343-4a71-80d6-36ea2ec529c4",
   "metadata": {},
   "source": [
    "#### Headrotation Angles"
   ]
  },
  {
   "cell_type": "code",
   "execution_count": 18,
   "id": "b84e47fe-34b4-48c9-8354-07ad168d1e12",
   "metadata": {},
   "outputs": [
    {
     "data": {
      "application/vnd.plotly.v1+json": {
       "config": {
        "plotlyServerURL": "https://plot.ly"
       },
       "data": [
        {
         "base": 0,
         "marker": {
          "color": "#961C26"
         },
         "name": "Left Angles",
         "offsetgroup": "1",
         "orientation": "h",
         "showlegend": true,
         "text": [
          -62,
          -105,
          -54,
          -53
         ],
         "type": "bar",
         "x": [
          -62.216243743896484,
          -104.94164276123047,
          -54.42142868041992,
          -53.29060363769531
         ],
         "xaxis": "x",
         "y": [
          "A",
          "B",
          "C",
          "D"
         ],
         "yaxis": "y"
        },
        {
         "base": 0,
         "marker": {
          "color": "#000000"
         },
         "name": "Right Angles",
         "offsetgroup": "1",
         "orientation": "h",
         "showlegend": true,
         "text": [
          42,
          36,
          35,
          39
         ],
         "type": "bar",
         "x": [
          41.72726821899414,
          35.525489807128906,
          34.51746368408203,
          38.67066192626953
         ],
         "xaxis": "x2",
         "y": [
          "A",
          "B",
          "C",
          "D"
         ],
         "yaxis": "y2"
        }
       ],
       "layout": {
        "font": {
         "family": "Lato, sans-serif",
         "size": 14
        },
        "height": 768,
        "hoverlabel": {
         "font": {
          "family": "Lato, sans-serif",
          "size": 13
         }
        },
        "hovermode": "y unified",
        "legend": {
         "orientation": "h",
         "x": 0.5,
         "xanchor": "center",
         "y": 1,
         "yanchor": "bottom"
        },
        "margin": {
         "b": 0,
         "l": 70,
         "r": 40,
         "t": 80
        },
        "paper_bgcolor": "rgba(0,0,0,0)",
        "plot_bgcolor": "rgba(0,0,0,0)",
        "template": {
         "data": {
          "bar": [
           {
            "error_x": {
             "color": "rgb(36,36,36)"
            },
            "error_y": {
             "color": "rgb(36,36,36)"
            },
            "marker": {
             "line": {
              "color": "white",
              "width": 0.5
             },
             "pattern": {
              "fillmode": "overlay",
              "size": 10,
              "solidity": 0.2
             }
            },
            "type": "bar"
           }
          ],
          "barpolar": [
           {
            "marker": {
             "line": {
              "color": "white",
              "width": 0.5
             },
             "pattern": {
              "fillmode": "overlay",
              "size": 10,
              "solidity": 0.2
             }
            },
            "type": "barpolar"
           }
          ],
          "carpet": [
           {
            "aaxis": {
             "endlinecolor": "rgb(36,36,36)",
             "gridcolor": "white",
             "linecolor": "white",
             "minorgridcolor": "white",
             "startlinecolor": "rgb(36,36,36)"
            },
            "baxis": {
             "endlinecolor": "rgb(36,36,36)",
             "gridcolor": "white",
             "linecolor": "white",
             "minorgridcolor": "white",
             "startlinecolor": "rgb(36,36,36)"
            },
            "type": "carpet"
           }
          ],
          "choropleth": [
           {
            "colorbar": {
             "outlinewidth": 1,
             "tickcolor": "rgb(36,36,36)",
             "ticks": "outside"
            },
            "type": "choropleth"
           }
          ],
          "contour": [
           {
            "colorbar": {
             "outlinewidth": 1,
             "tickcolor": "rgb(36,36,36)",
             "ticks": "outside"
            },
            "colorscale": [
             [
              0,
              "#440154"
             ],
             [
              0.1111111111111111,
              "#482878"
             ],
             [
              0.2222222222222222,
              "#3e4989"
             ],
             [
              0.3333333333333333,
              "#31688e"
             ],
             [
              0.4444444444444444,
              "#26828e"
             ],
             [
              0.5555555555555556,
              "#1f9e89"
             ],
             [
              0.6666666666666666,
              "#35b779"
             ],
             [
              0.7777777777777778,
              "#6ece58"
             ],
             [
              0.8888888888888888,
              "#b5de2b"
             ],
             [
              1,
              "#fde725"
             ]
            ],
            "type": "contour"
           }
          ],
          "contourcarpet": [
           {
            "colorbar": {
             "outlinewidth": 1,
             "tickcolor": "rgb(36,36,36)",
             "ticks": "outside"
            },
            "type": "contourcarpet"
           }
          ],
          "heatmap": [
           {
            "colorbar": {
             "outlinewidth": 1,
             "tickcolor": "rgb(36,36,36)",
             "ticks": "outside"
            },
            "colorscale": [
             [
              0,
              "#440154"
             ],
             [
              0.1111111111111111,
              "#482878"
             ],
             [
              0.2222222222222222,
              "#3e4989"
             ],
             [
              0.3333333333333333,
              "#31688e"
             ],
             [
              0.4444444444444444,
              "#26828e"
             ],
             [
              0.5555555555555556,
              "#1f9e89"
             ],
             [
              0.6666666666666666,
              "#35b779"
             ],
             [
              0.7777777777777778,
              "#6ece58"
             ],
             [
              0.8888888888888888,
              "#b5de2b"
             ],
             [
              1,
              "#fde725"
             ]
            ],
            "type": "heatmap"
           }
          ],
          "heatmapgl": [
           {
            "colorbar": {
             "outlinewidth": 1,
             "tickcolor": "rgb(36,36,36)",
             "ticks": "outside"
            },
            "colorscale": [
             [
              0,
              "#440154"
             ],
             [
              0.1111111111111111,
              "#482878"
             ],
             [
              0.2222222222222222,
              "#3e4989"
             ],
             [
              0.3333333333333333,
              "#31688e"
             ],
             [
              0.4444444444444444,
              "#26828e"
             ],
             [
              0.5555555555555556,
              "#1f9e89"
             ],
             [
              0.6666666666666666,
              "#35b779"
             ],
             [
              0.7777777777777778,
              "#6ece58"
             ],
             [
              0.8888888888888888,
              "#b5de2b"
             ],
             [
              1,
              "#fde725"
             ]
            ],
            "type": "heatmapgl"
           }
          ],
          "histogram": [
           {
            "marker": {
             "line": {
              "color": "white",
              "width": 0.6
             }
            },
            "type": "histogram"
           }
          ],
          "histogram2d": [
           {
            "colorbar": {
             "outlinewidth": 1,
             "tickcolor": "rgb(36,36,36)",
             "ticks": "outside"
            },
            "colorscale": [
             [
              0,
              "#440154"
             ],
             [
              0.1111111111111111,
              "#482878"
             ],
             [
              0.2222222222222222,
              "#3e4989"
             ],
             [
              0.3333333333333333,
              "#31688e"
             ],
             [
              0.4444444444444444,
              "#26828e"
             ],
             [
              0.5555555555555556,
              "#1f9e89"
             ],
             [
              0.6666666666666666,
              "#35b779"
             ],
             [
              0.7777777777777778,
              "#6ece58"
             ],
             [
              0.8888888888888888,
              "#b5de2b"
             ],
             [
              1,
              "#fde725"
             ]
            ],
            "type": "histogram2d"
           }
          ],
          "histogram2dcontour": [
           {
            "colorbar": {
             "outlinewidth": 1,
             "tickcolor": "rgb(36,36,36)",
             "ticks": "outside"
            },
            "colorscale": [
             [
              0,
              "#440154"
             ],
             [
              0.1111111111111111,
              "#482878"
             ],
             [
              0.2222222222222222,
              "#3e4989"
             ],
             [
              0.3333333333333333,
              "#31688e"
             ],
             [
              0.4444444444444444,
              "#26828e"
             ],
             [
              0.5555555555555556,
              "#1f9e89"
             ],
             [
              0.6666666666666666,
              "#35b779"
             ],
             [
              0.7777777777777778,
              "#6ece58"
             ],
             [
              0.8888888888888888,
              "#b5de2b"
             ],
             [
              1,
              "#fde725"
             ]
            ],
            "type": "histogram2dcontour"
           }
          ],
          "mesh3d": [
           {
            "colorbar": {
             "outlinewidth": 1,
             "tickcolor": "rgb(36,36,36)",
             "ticks": "outside"
            },
            "type": "mesh3d"
           }
          ],
          "parcoords": [
           {
            "line": {
             "colorbar": {
              "outlinewidth": 1,
              "tickcolor": "rgb(36,36,36)",
              "ticks": "outside"
             }
            },
            "type": "parcoords"
           }
          ],
          "pie": [
           {
            "automargin": true,
            "type": "pie"
           }
          ],
          "scatter": [
           {
            "fillpattern": {
             "fillmode": "overlay",
             "size": 10,
             "solidity": 0.2
            },
            "type": "scatter"
           }
          ],
          "scatter3d": [
           {
            "line": {
             "colorbar": {
              "outlinewidth": 1,
              "tickcolor": "rgb(36,36,36)",
              "ticks": "outside"
             }
            },
            "marker": {
             "colorbar": {
              "outlinewidth": 1,
              "tickcolor": "rgb(36,36,36)",
              "ticks": "outside"
             }
            },
            "type": "scatter3d"
           }
          ],
          "scattercarpet": [
           {
            "marker": {
             "colorbar": {
              "outlinewidth": 1,
              "tickcolor": "rgb(36,36,36)",
              "ticks": "outside"
             }
            },
            "type": "scattercarpet"
           }
          ],
          "scattergeo": [
           {
            "marker": {
             "colorbar": {
              "outlinewidth": 1,
              "tickcolor": "rgb(36,36,36)",
              "ticks": "outside"
             }
            },
            "type": "scattergeo"
           }
          ],
          "scattergl": [
           {
            "marker": {
             "colorbar": {
              "outlinewidth": 1,
              "tickcolor": "rgb(36,36,36)",
              "ticks": "outside"
             }
            },
            "type": "scattergl"
           }
          ],
          "scattermapbox": [
           {
            "marker": {
             "colorbar": {
              "outlinewidth": 1,
              "tickcolor": "rgb(36,36,36)",
              "ticks": "outside"
             }
            },
            "type": "scattermapbox"
           }
          ],
          "scatterpolar": [
           {
            "marker": {
             "colorbar": {
              "outlinewidth": 1,
              "tickcolor": "rgb(36,36,36)",
              "ticks": "outside"
             }
            },
            "type": "scatterpolar"
           }
          ],
          "scatterpolargl": [
           {
            "marker": {
             "colorbar": {
              "outlinewidth": 1,
              "tickcolor": "rgb(36,36,36)",
              "ticks": "outside"
             }
            },
            "type": "scatterpolargl"
           }
          ],
          "scatterternary": [
           {
            "marker": {
             "colorbar": {
              "outlinewidth": 1,
              "tickcolor": "rgb(36,36,36)",
              "ticks": "outside"
             }
            },
            "type": "scatterternary"
           }
          ],
          "surface": [
           {
            "colorbar": {
             "outlinewidth": 1,
             "tickcolor": "rgb(36,36,36)",
             "ticks": "outside"
            },
            "colorscale": [
             [
              0,
              "#440154"
             ],
             [
              0.1111111111111111,
              "#482878"
             ],
             [
              0.2222222222222222,
              "#3e4989"
             ],
             [
              0.3333333333333333,
              "#31688e"
             ],
             [
              0.4444444444444444,
              "#26828e"
             ],
             [
              0.5555555555555556,
              "#1f9e89"
             ],
             [
              0.6666666666666666,
              "#35b779"
             ],
             [
              0.7777777777777778,
              "#6ece58"
             ],
             [
              0.8888888888888888,
              "#b5de2b"
             ],
             [
              1,
              "#fde725"
             ]
            ],
            "type": "surface"
           }
          ],
          "table": [
           {
            "cells": {
             "fill": {
              "color": "rgb(237,237,237)"
             },
             "line": {
              "color": "white"
             }
            },
            "header": {
             "fill": {
              "color": "rgb(217,217,217)"
             },
             "line": {
              "color": "white"
             }
            },
            "type": "table"
           }
          ]
         },
         "layout": {
          "annotationdefaults": {
           "arrowhead": 0,
           "arrowwidth": 1
          },
          "autotypenumbers": "strict",
          "coloraxis": {
           "colorbar": {
            "outlinewidth": 1,
            "tickcolor": "rgb(36,36,36)",
            "ticks": "outside"
           }
          },
          "colorscale": {
           "diverging": [
            [
             0,
             "rgb(103,0,31)"
            ],
            [
             0.1,
             "rgb(178,24,43)"
            ],
            [
             0.2,
             "rgb(214,96,77)"
            ],
            [
             0.3,
             "rgb(244,165,130)"
            ],
            [
             0.4,
             "rgb(253,219,199)"
            ],
            [
             0.5,
             "rgb(247,247,247)"
            ],
            [
             0.6,
             "rgb(209,229,240)"
            ],
            [
             0.7,
             "rgb(146,197,222)"
            ],
            [
             0.8,
             "rgb(67,147,195)"
            ],
            [
             0.9,
             "rgb(33,102,172)"
            ],
            [
             1,
             "rgb(5,48,97)"
            ]
           ],
           "sequential": [
            [
             0,
             "#440154"
            ],
            [
             0.1111111111111111,
             "#482878"
            ],
            [
             0.2222222222222222,
             "#3e4989"
            ],
            [
             0.3333333333333333,
             "#31688e"
            ],
            [
             0.4444444444444444,
             "#26828e"
            ],
            [
             0.5555555555555556,
             "#1f9e89"
            ],
            [
             0.6666666666666666,
             "#35b779"
            ],
            [
             0.7777777777777778,
             "#6ece58"
            ],
            [
             0.8888888888888888,
             "#b5de2b"
            ],
            [
             1,
             "#fde725"
            ]
           ],
           "sequentialminus": [
            [
             0,
             "#440154"
            ],
            [
             0.1111111111111111,
             "#482878"
            ],
            [
             0.2222222222222222,
             "#3e4989"
            ],
            [
             0.3333333333333333,
             "#31688e"
            ],
            [
             0.4444444444444444,
             "#26828e"
            ],
            [
             0.5555555555555556,
             "#1f9e89"
            ],
            [
             0.6666666666666666,
             "#35b779"
            ],
            [
             0.7777777777777778,
             "#6ece58"
            ],
            [
             0.8888888888888888,
             "#b5de2b"
            ],
            [
             1,
             "#fde725"
            ]
           ]
          },
          "colorway": [
           "#1F77B4",
           "#FF7F0E",
           "#2CA02C",
           "#D62728",
           "#9467BD",
           "#8C564B",
           "#E377C2",
           "#7F7F7F",
           "#BCBD22",
           "#17BECF"
          ],
          "font": {
           "color": "rgb(36,36,36)"
          },
          "geo": {
           "bgcolor": "white",
           "lakecolor": "white",
           "landcolor": "white",
           "showlakes": true,
           "showland": true,
           "subunitcolor": "white"
          },
          "hoverlabel": {
           "align": "left"
          },
          "hovermode": "closest",
          "mapbox": {
           "style": "light"
          },
          "paper_bgcolor": "white",
          "plot_bgcolor": "white",
          "polar": {
           "angularaxis": {
            "gridcolor": "rgb(232,232,232)",
            "linecolor": "rgb(36,36,36)",
            "showgrid": false,
            "showline": true,
            "ticks": "outside"
           },
           "bgcolor": "white",
           "radialaxis": {
            "gridcolor": "rgb(232,232,232)",
            "linecolor": "rgb(36,36,36)",
            "showgrid": false,
            "showline": true,
            "ticks": "outside"
           }
          },
          "scene": {
           "xaxis": {
            "backgroundcolor": "white",
            "gridcolor": "rgb(232,232,232)",
            "gridwidth": 2,
            "linecolor": "rgb(36,36,36)",
            "showbackground": true,
            "showgrid": false,
            "showline": true,
            "ticks": "outside",
            "zeroline": false,
            "zerolinecolor": "rgb(36,36,36)"
           },
           "yaxis": {
            "backgroundcolor": "white",
            "gridcolor": "rgb(232,232,232)",
            "gridwidth": 2,
            "linecolor": "rgb(36,36,36)",
            "showbackground": true,
            "showgrid": false,
            "showline": true,
            "ticks": "outside",
            "zeroline": false,
            "zerolinecolor": "rgb(36,36,36)"
           },
           "zaxis": {
            "backgroundcolor": "white",
            "gridcolor": "rgb(232,232,232)",
            "gridwidth": 2,
            "linecolor": "rgb(36,36,36)",
            "showbackground": true,
            "showgrid": false,
            "showline": true,
            "ticks": "outside",
            "zeroline": false,
            "zerolinecolor": "rgb(36,36,36)"
           }
          },
          "shapedefaults": {
           "fillcolor": "black",
           "line": {
            "width": 0
           },
           "opacity": 0.3
          },
          "ternary": {
           "aaxis": {
            "gridcolor": "rgb(232,232,232)",
            "linecolor": "rgb(36,36,36)",
            "showgrid": false,
            "showline": true,
            "ticks": "outside"
           },
           "baxis": {
            "gridcolor": "rgb(232,232,232)",
            "linecolor": "rgb(36,36,36)",
            "showgrid": false,
            "showline": true,
            "ticks": "outside"
           },
           "bgcolor": "white",
           "caxis": {
            "gridcolor": "rgb(232,232,232)",
            "linecolor": "rgb(36,36,36)",
            "showgrid": false,
            "showline": true,
            "ticks": "outside"
           }
          },
          "title": {
           "x": 0.05
          },
          "xaxis": {
           "automargin": true,
           "gridcolor": "rgb(232,232,232)",
           "linecolor": "rgb(36,36,36)",
           "showgrid": false,
           "showline": true,
           "ticks": "outside",
           "title": {
            "standoff": 15
           },
           "zeroline": false,
           "zerolinecolor": "rgb(36,36,36)"
          },
          "yaxis": {
           "automargin": true,
           "gridcolor": "rgb(232,232,232)",
           "linecolor": "rgb(36,36,36)",
           "showgrid": false,
           "showline": true,
           "ticks": "outside",
           "title": {
            "standoff": 15
           },
           "zeroline": false,
           "zerolinecolor": "rgb(36,36,36)"
          }
         }
        },
        "width": 1024,
        "xaxis": {
         "anchor": "y",
         "domain": [
          0,
          0.5
         ],
         "range": [
          -105,
          0
         ],
         "showgrid": false,
         "title": {
          "text": " "
         }
        },
        "xaxis2": {
         "anchor": "y2",
         "domain": [
          0.5,
          1
         ],
         "range": [
          0,
          100
         ],
         "showgrid": false
        },
        "yaxis": {
         "anchor": "x",
         "categoryorder": "category descending",
         "domain": [
          0,
          1
         ],
         "showgrid": false,
         "showline": false,
         "ticksuffix": " ",
         "title": {
          "text": " "
         }
        },
        "yaxis2": {
         "anchor": "x2",
         "categoryorder": "category descending",
         "domain": [
          0,
          1
         ],
         "matches": "y",
         "showgrid": false,
         "showline": false,
         "showticklabels": false,
         "ticksuffix": " "
        }
       }
      }
     },
     "metadata": {},
     "output_type": "display_data"
    }
   ],
   "source": [
    "fig_angles = make_subplots(rows=1, cols=2, specs=[[{}, {}]], shared_yaxes=True, horizontal_spacing=0)\n",
    "fig_angles.append_trace(go.Bar(x= df_means_situations.left_angles, y=df_means_situations.situation,\n",
    "                        orientation='h', showlegend=True, \n",
    "                        text= np.round(df_means_situations.left_angles,decimals = 0), \n",
    "                        name='Left Angles',\n",
    "                        base=0,\n",
    "                        offsetgroup = 1,\n",
    "                        marker_color=marking_red), 1, 1)\n",
    "fig_angles.append_trace(go.Bar(x=df_means_situations.right_angles, y=df_means_situations.situation, \n",
    "                        orientation='h', showlegend=True,\n",
    "                        text=np.round(df_means_situations.right_angles,decimals = 0),\n",
    "                        base=0,\n",
    "                        offsetgroup = 1,\n",
    "                        name='Right Angles', marker_color='#000000'), 1, 2)\n",
    "fig_angles.update_xaxes(showgrid=False,range=[-105,0],row=1, col=1)\n",
    "fig_angles.update_xaxes(showgrid=False,range=[0,100],row=1, col=2)\n",
    "fig_angles.update_yaxes(showgrid=False, categoryorder=\"category descending\", \n",
    "                 ticksuffix=' ', showline=False)\n",
    "fig_angles.update_traces(hovertemplate=None)\n",
    "fig_angles.update_layout(\n",
    "#    title='Mean Headrotation Angles per Situation',\n",
    "    margin=dict(t=80, b=0, l=70, r=40),\n",
    "    hovermode=\"y unified\", \n",
    "    xaxis_title=' ', \n",
    "    yaxis_title=\" \",\n",
    "    width=plot_width, height=plot_height,\n",
    "    font=dict(family=\"Lato, sans-serif\",size=14),\n",
    "    legend=dict(orientation=\"h\", yanchor=\"bottom\",y=1, xanchor=\"center\", x=0.5),\n",
    "    hoverlabel=dict(font_size=13, font_family=\"Lato, sans-serif\"),\n",
    "    paper_bgcolor='rgba(0,0,0,0)',\n",
    "    plot_bgcolor='rgba(0,0,0,0)')"
   ]
  },
  {
   "cell_type": "markdown",
   "id": "39a4a069-c769-4def-9f99-7d7b0b46561d",
   "metadata": {},
   "source": [
    "### Safety"
   ]
  },
  {
   "cell_type": "code",
   "execution_count": 11,
   "id": "fcd5c398-1261-49bb-9298-5ec48ffc9e8d",
   "metadata": {},
   "outputs": [
    {
     "data": {
      "application/vnd.plotly.v1+json": {
       "config": {
        "plotlyServerURL": "https://plot.ly"
       },
       "data": [
        {
         "marker": {
          "color": "#961C26"
         },
         "name": "Perceived Safety",
         "orientation": "h",
         "showlegend": true,
         "text": [
          3.1,
          3.8,
          2.8,
          2.5
         ],
         "type": "bar",
         "x": [
          3.0833333333333335,
          3.8333333333333335,
          2.8333333333333335,
          2.5
         ],
         "y": [
          "A",
          "B",
          "C",
          "D"
         ]
        }
       ],
       "layout": {
        "font": {
         "family": "Lato, sans-serif",
         "size": 14
        },
        "height": 768,
        "hoverlabel": {
         "font": {
          "family": "Lato, sans-serif",
          "size": 13
         }
        },
        "hovermode": "y unified",
        "legend": {
         "orientation": "h",
         "x": 0.5,
         "xanchor": "center",
         "y": 1,
         "yanchor": "bottom"
        },
        "margin": {
         "b": 0,
         "l": 70,
         "r": 40,
         "t": 80
        },
        "paper_bgcolor": "rgba(0,0,0,0)",
        "plot_bgcolor": "rgba(0,0,0,0)",
        "template": {
         "data": {
          "bar": [
           {
            "error_x": {
             "color": "rgb(36,36,36)"
            },
            "error_y": {
             "color": "rgb(36,36,36)"
            },
            "marker": {
             "line": {
              "color": "white",
              "width": 0.5
             },
             "pattern": {
              "fillmode": "overlay",
              "size": 10,
              "solidity": 0.2
             }
            },
            "type": "bar"
           }
          ],
          "barpolar": [
           {
            "marker": {
             "line": {
              "color": "white",
              "width": 0.5
             },
             "pattern": {
              "fillmode": "overlay",
              "size": 10,
              "solidity": 0.2
             }
            },
            "type": "barpolar"
           }
          ],
          "carpet": [
           {
            "aaxis": {
             "endlinecolor": "rgb(36,36,36)",
             "gridcolor": "white",
             "linecolor": "white",
             "minorgridcolor": "white",
             "startlinecolor": "rgb(36,36,36)"
            },
            "baxis": {
             "endlinecolor": "rgb(36,36,36)",
             "gridcolor": "white",
             "linecolor": "white",
             "minorgridcolor": "white",
             "startlinecolor": "rgb(36,36,36)"
            },
            "type": "carpet"
           }
          ],
          "choropleth": [
           {
            "colorbar": {
             "outlinewidth": 1,
             "tickcolor": "rgb(36,36,36)",
             "ticks": "outside"
            },
            "type": "choropleth"
           }
          ],
          "contour": [
           {
            "colorbar": {
             "outlinewidth": 1,
             "tickcolor": "rgb(36,36,36)",
             "ticks": "outside"
            },
            "colorscale": [
             [
              0,
              "#440154"
             ],
             [
              0.1111111111111111,
              "#482878"
             ],
             [
              0.2222222222222222,
              "#3e4989"
             ],
             [
              0.3333333333333333,
              "#31688e"
             ],
             [
              0.4444444444444444,
              "#26828e"
             ],
             [
              0.5555555555555556,
              "#1f9e89"
             ],
             [
              0.6666666666666666,
              "#35b779"
             ],
             [
              0.7777777777777778,
              "#6ece58"
             ],
             [
              0.8888888888888888,
              "#b5de2b"
             ],
             [
              1,
              "#fde725"
             ]
            ],
            "type": "contour"
           }
          ],
          "contourcarpet": [
           {
            "colorbar": {
             "outlinewidth": 1,
             "tickcolor": "rgb(36,36,36)",
             "ticks": "outside"
            },
            "type": "contourcarpet"
           }
          ],
          "heatmap": [
           {
            "colorbar": {
             "outlinewidth": 1,
             "tickcolor": "rgb(36,36,36)",
             "ticks": "outside"
            },
            "colorscale": [
             [
              0,
              "#440154"
             ],
             [
              0.1111111111111111,
              "#482878"
             ],
             [
              0.2222222222222222,
              "#3e4989"
             ],
             [
              0.3333333333333333,
              "#31688e"
             ],
             [
              0.4444444444444444,
              "#26828e"
             ],
             [
              0.5555555555555556,
              "#1f9e89"
             ],
             [
              0.6666666666666666,
              "#35b779"
             ],
             [
              0.7777777777777778,
              "#6ece58"
             ],
             [
              0.8888888888888888,
              "#b5de2b"
             ],
             [
              1,
              "#fde725"
             ]
            ],
            "type": "heatmap"
           }
          ],
          "heatmapgl": [
           {
            "colorbar": {
             "outlinewidth": 1,
             "tickcolor": "rgb(36,36,36)",
             "ticks": "outside"
            },
            "colorscale": [
             [
              0,
              "#440154"
             ],
             [
              0.1111111111111111,
              "#482878"
             ],
             [
              0.2222222222222222,
              "#3e4989"
             ],
             [
              0.3333333333333333,
              "#31688e"
             ],
             [
              0.4444444444444444,
              "#26828e"
             ],
             [
              0.5555555555555556,
              "#1f9e89"
             ],
             [
              0.6666666666666666,
              "#35b779"
             ],
             [
              0.7777777777777778,
              "#6ece58"
             ],
             [
              0.8888888888888888,
              "#b5de2b"
             ],
             [
              1,
              "#fde725"
             ]
            ],
            "type": "heatmapgl"
           }
          ],
          "histogram": [
           {
            "marker": {
             "line": {
              "color": "white",
              "width": 0.6
             }
            },
            "type": "histogram"
           }
          ],
          "histogram2d": [
           {
            "colorbar": {
             "outlinewidth": 1,
             "tickcolor": "rgb(36,36,36)",
             "ticks": "outside"
            },
            "colorscale": [
             [
              0,
              "#440154"
             ],
             [
              0.1111111111111111,
              "#482878"
             ],
             [
              0.2222222222222222,
              "#3e4989"
             ],
             [
              0.3333333333333333,
              "#31688e"
             ],
             [
              0.4444444444444444,
              "#26828e"
             ],
             [
              0.5555555555555556,
              "#1f9e89"
             ],
             [
              0.6666666666666666,
              "#35b779"
             ],
             [
              0.7777777777777778,
              "#6ece58"
             ],
             [
              0.8888888888888888,
              "#b5de2b"
             ],
             [
              1,
              "#fde725"
             ]
            ],
            "type": "histogram2d"
           }
          ],
          "histogram2dcontour": [
           {
            "colorbar": {
             "outlinewidth": 1,
             "tickcolor": "rgb(36,36,36)",
             "ticks": "outside"
            },
            "colorscale": [
             [
              0,
              "#440154"
             ],
             [
              0.1111111111111111,
              "#482878"
             ],
             [
              0.2222222222222222,
              "#3e4989"
             ],
             [
              0.3333333333333333,
              "#31688e"
             ],
             [
              0.4444444444444444,
              "#26828e"
             ],
             [
              0.5555555555555556,
              "#1f9e89"
             ],
             [
              0.6666666666666666,
              "#35b779"
             ],
             [
              0.7777777777777778,
              "#6ece58"
             ],
             [
              0.8888888888888888,
              "#b5de2b"
             ],
             [
              1,
              "#fde725"
             ]
            ],
            "type": "histogram2dcontour"
           }
          ],
          "mesh3d": [
           {
            "colorbar": {
             "outlinewidth": 1,
             "tickcolor": "rgb(36,36,36)",
             "ticks": "outside"
            },
            "type": "mesh3d"
           }
          ],
          "parcoords": [
           {
            "line": {
             "colorbar": {
              "outlinewidth": 1,
              "tickcolor": "rgb(36,36,36)",
              "ticks": "outside"
             }
            },
            "type": "parcoords"
           }
          ],
          "pie": [
           {
            "automargin": true,
            "type": "pie"
           }
          ],
          "scatter": [
           {
            "fillpattern": {
             "fillmode": "overlay",
             "size": 10,
             "solidity": 0.2
            },
            "type": "scatter"
           }
          ],
          "scatter3d": [
           {
            "line": {
             "colorbar": {
              "outlinewidth": 1,
              "tickcolor": "rgb(36,36,36)",
              "ticks": "outside"
             }
            },
            "marker": {
             "colorbar": {
              "outlinewidth": 1,
              "tickcolor": "rgb(36,36,36)",
              "ticks": "outside"
             }
            },
            "type": "scatter3d"
           }
          ],
          "scattercarpet": [
           {
            "marker": {
             "colorbar": {
              "outlinewidth": 1,
              "tickcolor": "rgb(36,36,36)",
              "ticks": "outside"
             }
            },
            "type": "scattercarpet"
           }
          ],
          "scattergeo": [
           {
            "marker": {
             "colorbar": {
              "outlinewidth": 1,
              "tickcolor": "rgb(36,36,36)",
              "ticks": "outside"
             }
            },
            "type": "scattergeo"
           }
          ],
          "scattergl": [
           {
            "marker": {
             "colorbar": {
              "outlinewidth": 1,
              "tickcolor": "rgb(36,36,36)",
              "ticks": "outside"
             }
            },
            "type": "scattergl"
           }
          ],
          "scattermapbox": [
           {
            "marker": {
             "colorbar": {
              "outlinewidth": 1,
              "tickcolor": "rgb(36,36,36)",
              "ticks": "outside"
             }
            },
            "type": "scattermapbox"
           }
          ],
          "scatterpolar": [
           {
            "marker": {
             "colorbar": {
              "outlinewidth": 1,
              "tickcolor": "rgb(36,36,36)",
              "ticks": "outside"
             }
            },
            "type": "scatterpolar"
           }
          ],
          "scatterpolargl": [
           {
            "marker": {
             "colorbar": {
              "outlinewidth": 1,
              "tickcolor": "rgb(36,36,36)",
              "ticks": "outside"
             }
            },
            "type": "scatterpolargl"
           }
          ],
          "scatterternary": [
           {
            "marker": {
             "colorbar": {
              "outlinewidth": 1,
              "tickcolor": "rgb(36,36,36)",
              "ticks": "outside"
             }
            },
            "type": "scatterternary"
           }
          ],
          "surface": [
           {
            "colorbar": {
             "outlinewidth": 1,
             "tickcolor": "rgb(36,36,36)",
             "ticks": "outside"
            },
            "colorscale": [
             [
              0,
              "#440154"
             ],
             [
              0.1111111111111111,
              "#482878"
             ],
             [
              0.2222222222222222,
              "#3e4989"
             ],
             [
              0.3333333333333333,
              "#31688e"
             ],
             [
              0.4444444444444444,
              "#26828e"
             ],
             [
              0.5555555555555556,
              "#1f9e89"
             ],
             [
              0.6666666666666666,
              "#35b779"
             ],
             [
              0.7777777777777778,
              "#6ece58"
             ],
             [
              0.8888888888888888,
              "#b5de2b"
             ],
             [
              1,
              "#fde725"
             ]
            ],
            "type": "surface"
           }
          ],
          "table": [
           {
            "cells": {
             "fill": {
              "color": "rgb(237,237,237)"
             },
             "line": {
              "color": "white"
             }
            },
            "header": {
             "fill": {
              "color": "rgb(217,217,217)"
             },
             "line": {
              "color": "white"
             }
            },
            "type": "table"
           }
          ]
         },
         "layout": {
          "annotationdefaults": {
           "arrowhead": 0,
           "arrowwidth": 1
          },
          "autotypenumbers": "strict",
          "coloraxis": {
           "colorbar": {
            "outlinewidth": 1,
            "tickcolor": "rgb(36,36,36)",
            "ticks": "outside"
           }
          },
          "colorscale": {
           "diverging": [
            [
             0,
             "rgb(103,0,31)"
            ],
            [
             0.1,
             "rgb(178,24,43)"
            ],
            [
             0.2,
             "rgb(214,96,77)"
            ],
            [
             0.3,
             "rgb(244,165,130)"
            ],
            [
             0.4,
             "rgb(253,219,199)"
            ],
            [
             0.5,
             "rgb(247,247,247)"
            ],
            [
             0.6,
             "rgb(209,229,240)"
            ],
            [
             0.7,
             "rgb(146,197,222)"
            ],
            [
             0.8,
             "rgb(67,147,195)"
            ],
            [
             0.9,
             "rgb(33,102,172)"
            ],
            [
             1,
             "rgb(5,48,97)"
            ]
           ],
           "sequential": [
            [
             0,
             "#440154"
            ],
            [
             0.1111111111111111,
             "#482878"
            ],
            [
             0.2222222222222222,
             "#3e4989"
            ],
            [
             0.3333333333333333,
             "#31688e"
            ],
            [
             0.4444444444444444,
             "#26828e"
            ],
            [
             0.5555555555555556,
             "#1f9e89"
            ],
            [
             0.6666666666666666,
             "#35b779"
            ],
            [
             0.7777777777777778,
             "#6ece58"
            ],
            [
             0.8888888888888888,
             "#b5de2b"
            ],
            [
             1,
             "#fde725"
            ]
           ],
           "sequentialminus": [
            [
             0,
             "#440154"
            ],
            [
             0.1111111111111111,
             "#482878"
            ],
            [
             0.2222222222222222,
             "#3e4989"
            ],
            [
             0.3333333333333333,
             "#31688e"
            ],
            [
             0.4444444444444444,
             "#26828e"
            ],
            [
             0.5555555555555556,
             "#1f9e89"
            ],
            [
             0.6666666666666666,
             "#35b779"
            ],
            [
             0.7777777777777778,
             "#6ece58"
            ],
            [
             0.8888888888888888,
             "#b5de2b"
            ],
            [
             1,
             "#fde725"
            ]
           ]
          },
          "colorway": [
           "#1F77B4",
           "#FF7F0E",
           "#2CA02C",
           "#D62728",
           "#9467BD",
           "#8C564B",
           "#E377C2",
           "#7F7F7F",
           "#BCBD22",
           "#17BECF"
          ],
          "font": {
           "color": "rgb(36,36,36)"
          },
          "geo": {
           "bgcolor": "white",
           "lakecolor": "white",
           "landcolor": "white",
           "showlakes": true,
           "showland": true,
           "subunitcolor": "white"
          },
          "hoverlabel": {
           "align": "left"
          },
          "hovermode": "closest",
          "mapbox": {
           "style": "light"
          },
          "paper_bgcolor": "white",
          "plot_bgcolor": "white",
          "polar": {
           "angularaxis": {
            "gridcolor": "rgb(232,232,232)",
            "linecolor": "rgb(36,36,36)",
            "showgrid": false,
            "showline": true,
            "ticks": "outside"
           },
           "bgcolor": "white",
           "radialaxis": {
            "gridcolor": "rgb(232,232,232)",
            "linecolor": "rgb(36,36,36)",
            "showgrid": false,
            "showline": true,
            "ticks": "outside"
           }
          },
          "scene": {
           "xaxis": {
            "backgroundcolor": "white",
            "gridcolor": "rgb(232,232,232)",
            "gridwidth": 2,
            "linecolor": "rgb(36,36,36)",
            "showbackground": true,
            "showgrid": false,
            "showline": true,
            "ticks": "outside",
            "zeroline": false,
            "zerolinecolor": "rgb(36,36,36)"
           },
           "yaxis": {
            "backgroundcolor": "white",
            "gridcolor": "rgb(232,232,232)",
            "gridwidth": 2,
            "linecolor": "rgb(36,36,36)",
            "showbackground": true,
            "showgrid": false,
            "showline": true,
            "ticks": "outside",
            "zeroline": false,
            "zerolinecolor": "rgb(36,36,36)"
           },
           "zaxis": {
            "backgroundcolor": "white",
            "gridcolor": "rgb(232,232,232)",
            "gridwidth": 2,
            "linecolor": "rgb(36,36,36)",
            "showbackground": true,
            "showgrid": false,
            "showline": true,
            "ticks": "outside",
            "zeroline": false,
            "zerolinecolor": "rgb(36,36,36)"
           }
          },
          "shapedefaults": {
           "fillcolor": "black",
           "line": {
            "width": 0
           },
           "opacity": 0.3
          },
          "ternary": {
           "aaxis": {
            "gridcolor": "rgb(232,232,232)",
            "linecolor": "rgb(36,36,36)",
            "showgrid": false,
            "showline": true,
            "ticks": "outside"
           },
           "baxis": {
            "gridcolor": "rgb(232,232,232)",
            "linecolor": "rgb(36,36,36)",
            "showgrid": false,
            "showline": true,
            "ticks": "outside"
           },
           "bgcolor": "white",
           "caxis": {
            "gridcolor": "rgb(232,232,232)",
            "linecolor": "rgb(36,36,36)",
            "showgrid": false,
            "showline": true,
            "ticks": "outside"
           }
          },
          "title": {
           "x": 0.05
          },
          "xaxis": {
           "automargin": true,
           "gridcolor": "rgb(232,232,232)",
           "linecolor": "rgb(36,36,36)",
           "showgrid": false,
           "showline": true,
           "ticks": "outside",
           "title": {
            "standoff": 15
           },
           "zeroline": false,
           "zerolinecolor": "rgb(36,36,36)"
          },
          "yaxis": {
           "automargin": true,
           "gridcolor": "rgb(232,232,232)",
           "linecolor": "rgb(36,36,36)",
           "showgrid": false,
           "showline": true,
           "ticks": "outside",
           "title": {
            "standoff": 15
           },
           "zeroline": false,
           "zerolinecolor": "rgb(36,36,36)"
          }
         }
        },
        "width": 1024,
        "xaxis": {
         "showgrid": false,
         "title": {
          "text": " "
         }
        },
        "yaxis": {
         "categoryorder": "category descending",
         "showgrid": false,
         "showline": false,
         "ticksuffix": " ",
         "title": {
          "text": " "
         }
        }
       }
      }
     },
     "metadata": {},
     "output_type": "display_data"
    }
   ],
   "source": [
    "fig_duration = go.Figure()\n",
    "fig_duration.add_trace(go.Bar(x=df_means_situations.safety, y=df_means_situations.situation, \n",
    "                        orientation='h', showlegend=True,\n",
    "                        text=np.round(df_means_situations.safety,decimals = 1),\n",
    "                        name='Perceived Safety', marker_color= marking_red))\n",
    "fig_duration.update_xaxes(showgrid=False)\n",
    "fig_duration.update_yaxes(showgrid=False, categoryorder=\"category descending\",\n",
    "                 ticksuffix=' ', showline=False)\n",
    "fig_duration.update_traces(hovertemplate=None)\n",
    "fig_duration.update_layout(\n",
    "#    title='Mean of Duration & Standingtimes per Situation (Seconds)(Field)',\n",
    "    margin=dict(t=80, b=0, l=70, r=40),\n",
    "    hovermode=\"y unified\", \n",
    "    xaxis_title=' ', yaxis_title=\" \",\n",
    "    width=plot_width, height=plot_height,\n",
    "    font=dict(family=\"Lato, sans-serif\",size=14),\n",
    "    legend=dict(orientation=\"h\", yanchor=\"bottom\",y=1, xanchor=\"center\", x=0.5),\n",
    "    hoverlabel=dict(font_size=13, font_family=\"Lato, sans-serif\"),\n",
    "    paper_bgcolor='rgba(0,0,0,0)',\n",
    "    plot_bgcolor='rgba(0,0,0,0)'\n",
    ")"
   ]
  },
  {
   "cell_type": "markdown",
   "id": "a9b47c75-db53-494b-9059-81ebf79326a7",
   "metadata": {},
   "source": [
    "#### Collisions"
   ]
  },
  {
   "cell_type": "code",
   "execution_count": 12,
   "id": "f47ad50e-6bc9-4e50-8d66-b0b1d026a7bf",
   "metadata": {},
   "outputs": [
    {
     "data": {
      "application/vnd.plotly.v1+json": {
       "config": {
        "plotlyServerURL": "https://plot.ly"
       },
       "data": [
        {
         "marker": {
          "color": "#961C26"
         },
         "name": "Collisions",
         "orientation": "h",
         "showlegend": true,
         "text": [
          3,
          0,
          2,
          0
         ],
         "type": "bar",
         "x": [
          2.6666666666666665,
          0,
          1.8333333333333333,
          0.3333333333333333
         ],
         "y": [
          "A",
          "B",
          "C",
          "D"
         ]
        }
       ],
       "layout": {
        "font": {
         "family": "Lato, sans-serif",
         "size": 14
        },
        "height": 768,
        "hoverlabel": {
         "font": {
          "family": "Lato, sans-serif",
          "size": 13
         }
        },
        "hovermode": "y unified",
        "legend": {
         "orientation": "h",
         "x": 0.5,
         "xanchor": "center",
         "y": 1,
         "yanchor": "bottom"
        },
        "margin": {
         "b": 0,
         "l": 70,
         "r": 40,
         "t": 80
        },
        "paper_bgcolor": "rgba(0,0,0,0)",
        "plot_bgcolor": "rgba(0,0,0,0)",
        "template": {
         "data": {
          "bar": [
           {
            "error_x": {
             "color": "rgb(36,36,36)"
            },
            "error_y": {
             "color": "rgb(36,36,36)"
            },
            "marker": {
             "line": {
              "color": "white",
              "width": 0.5
             },
             "pattern": {
              "fillmode": "overlay",
              "size": 10,
              "solidity": 0.2
             }
            },
            "type": "bar"
           }
          ],
          "barpolar": [
           {
            "marker": {
             "line": {
              "color": "white",
              "width": 0.5
             },
             "pattern": {
              "fillmode": "overlay",
              "size": 10,
              "solidity": 0.2
             }
            },
            "type": "barpolar"
           }
          ],
          "carpet": [
           {
            "aaxis": {
             "endlinecolor": "rgb(36,36,36)",
             "gridcolor": "white",
             "linecolor": "white",
             "minorgridcolor": "white",
             "startlinecolor": "rgb(36,36,36)"
            },
            "baxis": {
             "endlinecolor": "rgb(36,36,36)",
             "gridcolor": "white",
             "linecolor": "white",
             "minorgridcolor": "white",
             "startlinecolor": "rgb(36,36,36)"
            },
            "type": "carpet"
           }
          ],
          "choropleth": [
           {
            "colorbar": {
             "outlinewidth": 1,
             "tickcolor": "rgb(36,36,36)",
             "ticks": "outside"
            },
            "type": "choropleth"
           }
          ],
          "contour": [
           {
            "colorbar": {
             "outlinewidth": 1,
             "tickcolor": "rgb(36,36,36)",
             "ticks": "outside"
            },
            "colorscale": [
             [
              0,
              "#440154"
             ],
             [
              0.1111111111111111,
              "#482878"
             ],
             [
              0.2222222222222222,
              "#3e4989"
             ],
             [
              0.3333333333333333,
              "#31688e"
             ],
             [
              0.4444444444444444,
              "#26828e"
             ],
             [
              0.5555555555555556,
              "#1f9e89"
             ],
             [
              0.6666666666666666,
              "#35b779"
             ],
             [
              0.7777777777777778,
              "#6ece58"
             ],
             [
              0.8888888888888888,
              "#b5de2b"
             ],
             [
              1,
              "#fde725"
             ]
            ],
            "type": "contour"
           }
          ],
          "contourcarpet": [
           {
            "colorbar": {
             "outlinewidth": 1,
             "tickcolor": "rgb(36,36,36)",
             "ticks": "outside"
            },
            "type": "contourcarpet"
           }
          ],
          "heatmap": [
           {
            "colorbar": {
             "outlinewidth": 1,
             "tickcolor": "rgb(36,36,36)",
             "ticks": "outside"
            },
            "colorscale": [
             [
              0,
              "#440154"
             ],
             [
              0.1111111111111111,
              "#482878"
             ],
             [
              0.2222222222222222,
              "#3e4989"
             ],
             [
              0.3333333333333333,
              "#31688e"
             ],
             [
              0.4444444444444444,
              "#26828e"
             ],
             [
              0.5555555555555556,
              "#1f9e89"
             ],
             [
              0.6666666666666666,
              "#35b779"
             ],
             [
              0.7777777777777778,
              "#6ece58"
             ],
             [
              0.8888888888888888,
              "#b5de2b"
             ],
             [
              1,
              "#fde725"
             ]
            ],
            "type": "heatmap"
           }
          ],
          "heatmapgl": [
           {
            "colorbar": {
             "outlinewidth": 1,
             "tickcolor": "rgb(36,36,36)",
             "ticks": "outside"
            },
            "colorscale": [
             [
              0,
              "#440154"
             ],
             [
              0.1111111111111111,
              "#482878"
             ],
             [
              0.2222222222222222,
              "#3e4989"
             ],
             [
              0.3333333333333333,
              "#31688e"
             ],
             [
              0.4444444444444444,
              "#26828e"
             ],
             [
              0.5555555555555556,
              "#1f9e89"
             ],
             [
              0.6666666666666666,
              "#35b779"
             ],
             [
              0.7777777777777778,
              "#6ece58"
             ],
             [
              0.8888888888888888,
              "#b5de2b"
             ],
             [
              1,
              "#fde725"
             ]
            ],
            "type": "heatmapgl"
           }
          ],
          "histogram": [
           {
            "marker": {
             "line": {
              "color": "white",
              "width": 0.6
             }
            },
            "type": "histogram"
           }
          ],
          "histogram2d": [
           {
            "colorbar": {
             "outlinewidth": 1,
             "tickcolor": "rgb(36,36,36)",
             "ticks": "outside"
            },
            "colorscale": [
             [
              0,
              "#440154"
             ],
             [
              0.1111111111111111,
              "#482878"
             ],
             [
              0.2222222222222222,
              "#3e4989"
             ],
             [
              0.3333333333333333,
              "#31688e"
             ],
             [
              0.4444444444444444,
              "#26828e"
             ],
             [
              0.5555555555555556,
              "#1f9e89"
             ],
             [
              0.6666666666666666,
              "#35b779"
             ],
             [
              0.7777777777777778,
              "#6ece58"
             ],
             [
              0.8888888888888888,
              "#b5de2b"
             ],
             [
              1,
              "#fde725"
             ]
            ],
            "type": "histogram2d"
           }
          ],
          "histogram2dcontour": [
           {
            "colorbar": {
             "outlinewidth": 1,
             "tickcolor": "rgb(36,36,36)",
             "ticks": "outside"
            },
            "colorscale": [
             [
              0,
              "#440154"
             ],
             [
              0.1111111111111111,
              "#482878"
             ],
             [
              0.2222222222222222,
              "#3e4989"
             ],
             [
              0.3333333333333333,
              "#31688e"
             ],
             [
              0.4444444444444444,
              "#26828e"
             ],
             [
              0.5555555555555556,
              "#1f9e89"
             ],
             [
              0.6666666666666666,
              "#35b779"
             ],
             [
              0.7777777777777778,
              "#6ece58"
             ],
             [
              0.8888888888888888,
              "#b5de2b"
             ],
             [
              1,
              "#fde725"
             ]
            ],
            "type": "histogram2dcontour"
           }
          ],
          "mesh3d": [
           {
            "colorbar": {
             "outlinewidth": 1,
             "tickcolor": "rgb(36,36,36)",
             "ticks": "outside"
            },
            "type": "mesh3d"
           }
          ],
          "parcoords": [
           {
            "line": {
             "colorbar": {
              "outlinewidth": 1,
              "tickcolor": "rgb(36,36,36)",
              "ticks": "outside"
             }
            },
            "type": "parcoords"
           }
          ],
          "pie": [
           {
            "automargin": true,
            "type": "pie"
           }
          ],
          "scatter": [
           {
            "fillpattern": {
             "fillmode": "overlay",
             "size": 10,
             "solidity": 0.2
            },
            "type": "scatter"
           }
          ],
          "scatter3d": [
           {
            "line": {
             "colorbar": {
              "outlinewidth": 1,
              "tickcolor": "rgb(36,36,36)",
              "ticks": "outside"
             }
            },
            "marker": {
             "colorbar": {
              "outlinewidth": 1,
              "tickcolor": "rgb(36,36,36)",
              "ticks": "outside"
             }
            },
            "type": "scatter3d"
           }
          ],
          "scattercarpet": [
           {
            "marker": {
             "colorbar": {
              "outlinewidth": 1,
              "tickcolor": "rgb(36,36,36)",
              "ticks": "outside"
             }
            },
            "type": "scattercarpet"
           }
          ],
          "scattergeo": [
           {
            "marker": {
             "colorbar": {
              "outlinewidth": 1,
              "tickcolor": "rgb(36,36,36)",
              "ticks": "outside"
             }
            },
            "type": "scattergeo"
           }
          ],
          "scattergl": [
           {
            "marker": {
             "colorbar": {
              "outlinewidth": 1,
              "tickcolor": "rgb(36,36,36)",
              "ticks": "outside"
             }
            },
            "type": "scattergl"
           }
          ],
          "scattermapbox": [
           {
            "marker": {
             "colorbar": {
              "outlinewidth": 1,
              "tickcolor": "rgb(36,36,36)",
              "ticks": "outside"
             }
            },
            "type": "scattermapbox"
           }
          ],
          "scatterpolar": [
           {
            "marker": {
             "colorbar": {
              "outlinewidth": 1,
              "tickcolor": "rgb(36,36,36)",
              "ticks": "outside"
             }
            },
            "type": "scatterpolar"
           }
          ],
          "scatterpolargl": [
           {
            "marker": {
             "colorbar": {
              "outlinewidth": 1,
              "tickcolor": "rgb(36,36,36)",
              "ticks": "outside"
             }
            },
            "type": "scatterpolargl"
           }
          ],
          "scatterternary": [
           {
            "marker": {
             "colorbar": {
              "outlinewidth": 1,
              "tickcolor": "rgb(36,36,36)",
              "ticks": "outside"
             }
            },
            "type": "scatterternary"
           }
          ],
          "surface": [
           {
            "colorbar": {
             "outlinewidth": 1,
             "tickcolor": "rgb(36,36,36)",
             "ticks": "outside"
            },
            "colorscale": [
             [
              0,
              "#440154"
             ],
             [
              0.1111111111111111,
              "#482878"
             ],
             [
              0.2222222222222222,
              "#3e4989"
             ],
             [
              0.3333333333333333,
              "#31688e"
             ],
             [
              0.4444444444444444,
              "#26828e"
             ],
             [
              0.5555555555555556,
              "#1f9e89"
             ],
             [
              0.6666666666666666,
              "#35b779"
             ],
             [
              0.7777777777777778,
              "#6ece58"
             ],
             [
              0.8888888888888888,
              "#b5de2b"
             ],
             [
              1,
              "#fde725"
             ]
            ],
            "type": "surface"
           }
          ],
          "table": [
           {
            "cells": {
             "fill": {
              "color": "rgb(237,237,237)"
             },
             "line": {
              "color": "white"
             }
            },
            "header": {
             "fill": {
              "color": "rgb(217,217,217)"
             },
             "line": {
              "color": "white"
             }
            },
            "type": "table"
           }
          ]
         },
         "layout": {
          "annotationdefaults": {
           "arrowhead": 0,
           "arrowwidth": 1
          },
          "autotypenumbers": "strict",
          "coloraxis": {
           "colorbar": {
            "outlinewidth": 1,
            "tickcolor": "rgb(36,36,36)",
            "ticks": "outside"
           }
          },
          "colorscale": {
           "diverging": [
            [
             0,
             "rgb(103,0,31)"
            ],
            [
             0.1,
             "rgb(178,24,43)"
            ],
            [
             0.2,
             "rgb(214,96,77)"
            ],
            [
             0.3,
             "rgb(244,165,130)"
            ],
            [
             0.4,
             "rgb(253,219,199)"
            ],
            [
             0.5,
             "rgb(247,247,247)"
            ],
            [
             0.6,
             "rgb(209,229,240)"
            ],
            [
             0.7,
             "rgb(146,197,222)"
            ],
            [
             0.8,
             "rgb(67,147,195)"
            ],
            [
             0.9,
             "rgb(33,102,172)"
            ],
            [
             1,
             "rgb(5,48,97)"
            ]
           ],
           "sequential": [
            [
             0,
             "#440154"
            ],
            [
             0.1111111111111111,
             "#482878"
            ],
            [
             0.2222222222222222,
             "#3e4989"
            ],
            [
             0.3333333333333333,
             "#31688e"
            ],
            [
             0.4444444444444444,
             "#26828e"
            ],
            [
             0.5555555555555556,
             "#1f9e89"
            ],
            [
             0.6666666666666666,
             "#35b779"
            ],
            [
             0.7777777777777778,
             "#6ece58"
            ],
            [
             0.8888888888888888,
             "#b5de2b"
            ],
            [
             1,
             "#fde725"
            ]
           ],
           "sequentialminus": [
            [
             0,
             "#440154"
            ],
            [
             0.1111111111111111,
             "#482878"
            ],
            [
             0.2222222222222222,
             "#3e4989"
            ],
            [
             0.3333333333333333,
             "#31688e"
            ],
            [
             0.4444444444444444,
             "#26828e"
            ],
            [
             0.5555555555555556,
             "#1f9e89"
            ],
            [
             0.6666666666666666,
             "#35b779"
            ],
            [
             0.7777777777777778,
             "#6ece58"
            ],
            [
             0.8888888888888888,
             "#b5de2b"
            ],
            [
             1,
             "#fde725"
            ]
           ]
          },
          "colorway": [
           "#1F77B4",
           "#FF7F0E",
           "#2CA02C",
           "#D62728",
           "#9467BD",
           "#8C564B",
           "#E377C2",
           "#7F7F7F",
           "#BCBD22",
           "#17BECF"
          ],
          "font": {
           "color": "rgb(36,36,36)"
          },
          "geo": {
           "bgcolor": "white",
           "lakecolor": "white",
           "landcolor": "white",
           "showlakes": true,
           "showland": true,
           "subunitcolor": "white"
          },
          "hoverlabel": {
           "align": "left"
          },
          "hovermode": "closest",
          "mapbox": {
           "style": "light"
          },
          "paper_bgcolor": "white",
          "plot_bgcolor": "white",
          "polar": {
           "angularaxis": {
            "gridcolor": "rgb(232,232,232)",
            "linecolor": "rgb(36,36,36)",
            "showgrid": false,
            "showline": true,
            "ticks": "outside"
           },
           "bgcolor": "white",
           "radialaxis": {
            "gridcolor": "rgb(232,232,232)",
            "linecolor": "rgb(36,36,36)",
            "showgrid": false,
            "showline": true,
            "ticks": "outside"
           }
          },
          "scene": {
           "xaxis": {
            "backgroundcolor": "white",
            "gridcolor": "rgb(232,232,232)",
            "gridwidth": 2,
            "linecolor": "rgb(36,36,36)",
            "showbackground": true,
            "showgrid": false,
            "showline": true,
            "ticks": "outside",
            "zeroline": false,
            "zerolinecolor": "rgb(36,36,36)"
           },
           "yaxis": {
            "backgroundcolor": "white",
            "gridcolor": "rgb(232,232,232)",
            "gridwidth": 2,
            "linecolor": "rgb(36,36,36)",
            "showbackground": true,
            "showgrid": false,
            "showline": true,
            "ticks": "outside",
            "zeroline": false,
            "zerolinecolor": "rgb(36,36,36)"
           },
           "zaxis": {
            "backgroundcolor": "white",
            "gridcolor": "rgb(232,232,232)",
            "gridwidth": 2,
            "linecolor": "rgb(36,36,36)",
            "showbackground": true,
            "showgrid": false,
            "showline": true,
            "ticks": "outside",
            "zeroline": false,
            "zerolinecolor": "rgb(36,36,36)"
           }
          },
          "shapedefaults": {
           "fillcolor": "black",
           "line": {
            "width": 0
           },
           "opacity": 0.3
          },
          "ternary": {
           "aaxis": {
            "gridcolor": "rgb(232,232,232)",
            "linecolor": "rgb(36,36,36)",
            "showgrid": false,
            "showline": true,
            "ticks": "outside"
           },
           "baxis": {
            "gridcolor": "rgb(232,232,232)",
            "linecolor": "rgb(36,36,36)",
            "showgrid": false,
            "showline": true,
            "ticks": "outside"
           },
           "bgcolor": "white",
           "caxis": {
            "gridcolor": "rgb(232,232,232)",
            "linecolor": "rgb(36,36,36)",
            "showgrid": false,
            "showline": true,
            "ticks": "outside"
           }
          },
          "title": {
           "x": 0.05
          },
          "xaxis": {
           "automargin": true,
           "gridcolor": "rgb(232,232,232)",
           "linecolor": "rgb(36,36,36)",
           "showgrid": false,
           "showline": true,
           "ticks": "outside",
           "title": {
            "standoff": 15
           },
           "zeroline": false,
           "zerolinecolor": "rgb(36,36,36)"
          },
          "yaxis": {
           "automargin": true,
           "gridcolor": "rgb(232,232,232)",
           "linecolor": "rgb(36,36,36)",
           "showgrid": false,
           "showline": true,
           "ticks": "outside",
           "title": {
            "standoff": 15
           },
           "zeroline": false,
           "zerolinecolor": "rgb(36,36,36)"
          }
         }
        },
        "width": 1024,
        "xaxis": {
         "showgrid": false,
         "title": {
          "text": " "
         }
        },
        "yaxis": {
         "categoryorder": "category descending",
         "showgrid": false,
         "showline": false,
         "ticksuffix": " ",
         "title": {
          "text": " "
         }
        }
       }
      }
     },
     "metadata": {},
     "output_type": "display_data"
    }
   ],
   "source": [
    "fig_collisions = go.Figure(layout=layout)\n",
    "fig_collisions.add_trace(go.Bar(x=df_means_situations.collisions, y=df_means_situations.situation, \n",
    "                        orientation='h', showlegend=True,\n",
    "                        text=np.round(df_means_situations.collisions,decimals = 0),\n",
    "                        name='Collisions', marker_color= marking_red))\n",
    "fig_collisions.update_xaxes(showgrid=False)\n",
    "fig_collisions.update_yaxes(showgrid=False, categoryorder=\"category descending\",\n",
    "                 ticksuffix=' ', showline=False)\n",
    "fig_collisions.update_traces(hovertemplate=None)\n",
    "fig_collisions.update_layout(\n",
    "#    title='Mean of Collisions per Situation',\n",
    "    margin=dict(t=80, b=0, l=70, r=40),\n",
    "    hovermode=\"y unified\", \n",
    "    xaxis_title=' ', \n",
    "    yaxis_title=\" \",\n",
    "    font=dict(family=\"Lato, sans-serif\",size=14),\n",
    "    width=plot_width, height=plot_height,\n",
    "    legend=dict(orientation=\"h\", yanchor=\"bottom\",y=1, xanchor=\"center\", x=0.5),\n",
    "    hoverlabel=dict(font_size=13, font_family=\"Lato, sans-serif\"))"
   ]
  },
  {
   "cell_type": "markdown",
   "id": "a70f0a40-2889-4734-bb8c-5917f0cfde91",
   "metadata": {},
   "source": [
    "#### Duration per Situation"
   ]
  },
  {
   "cell_type": "code",
   "execution_count": 13,
   "id": "57d9cdb5-0d94-4da2-a941-42e075dd747b",
   "metadata": {},
   "outputs": [
    {
     "data": {
      "application/vnd.plotly.v1+json": {
       "config": {
        "plotlyServerURL": "https://plot.ly"
       },
       "data": [
        {
         "marker": {
          "color": "#961C26"
         },
         "name": "Duration",
         "orientation": "h",
         "showlegend": true,
         "text": [
          27,
          8,
          23,
          17
         ],
         "type": "bar",
         "x": [
          27.352944444444443,
          8.420027777777785,
          22.633277777777778,
          17.05402777777778
         ],
         "y": [
          "A",
          "B",
          "C",
          "D"
         ]
        },
        {
         "marker": {
          "color": "#000000"
         },
         "name": "Standtime",
         "orientation": "h",
         "showlegend": true,
         "text": [
          14,
          2,
          10,
          10
         ],
         "type": "bar",
         "x": [
          13.999717712402344,
          1.5052776336669922,
          10.358834266662598,
          9.757722854614258
         ],
         "y": [
          "A",
          "B",
          "C",
          "D"
         ]
        }
       ],
       "layout": {
        "font": {
         "family": "Lato, sans-serif",
         "size": 14
        },
        "height": 768,
        "hoverlabel": {
         "font": {
          "family": "Lato, sans-serif",
          "size": 18
         }
        },
        "hovermode": "y unified",
        "legend": {
         "orientation": "h",
         "x": 0.5,
         "xanchor": "center",
         "y": 1,
         "yanchor": "bottom"
        },
        "margin": {
         "b": 0,
         "l": 70,
         "r": 40,
         "t": 80
        },
        "paper_bgcolor": "rgba(0,0,0,0)",
        "plot_bgcolor": "rgba(0,0,0,0)",
        "template": {
         "data": {
          "bar": [
           {
            "error_x": {
             "color": "rgb(36,36,36)"
            },
            "error_y": {
             "color": "rgb(36,36,36)"
            },
            "marker": {
             "line": {
              "color": "white",
              "width": 0.5
             },
             "pattern": {
              "fillmode": "overlay",
              "size": 10,
              "solidity": 0.2
             }
            },
            "type": "bar"
           }
          ],
          "barpolar": [
           {
            "marker": {
             "line": {
              "color": "white",
              "width": 0.5
             },
             "pattern": {
              "fillmode": "overlay",
              "size": 10,
              "solidity": 0.2
             }
            },
            "type": "barpolar"
           }
          ],
          "carpet": [
           {
            "aaxis": {
             "endlinecolor": "rgb(36,36,36)",
             "gridcolor": "white",
             "linecolor": "white",
             "minorgridcolor": "white",
             "startlinecolor": "rgb(36,36,36)"
            },
            "baxis": {
             "endlinecolor": "rgb(36,36,36)",
             "gridcolor": "white",
             "linecolor": "white",
             "minorgridcolor": "white",
             "startlinecolor": "rgb(36,36,36)"
            },
            "type": "carpet"
           }
          ],
          "choropleth": [
           {
            "colorbar": {
             "outlinewidth": 1,
             "tickcolor": "rgb(36,36,36)",
             "ticks": "outside"
            },
            "type": "choropleth"
           }
          ],
          "contour": [
           {
            "colorbar": {
             "outlinewidth": 1,
             "tickcolor": "rgb(36,36,36)",
             "ticks": "outside"
            },
            "colorscale": [
             [
              0,
              "#440154"
             ],
             [
              0.1111111111111111,
              "#482878"
             ],
             [
              0.2222222222222222,
              "#3e4989"
             ],
             [
              0.3333333333333333,
              "#31688e"
             ],
             [
              0.4444444444444444,
              "#26828e"
             ],
             [
              0.5555555555555556,
              "#1f9e89"
             ],
             [
              0.6666666666666666,
              "#35b779"
             ],
             [
              0.7777777777777778,
              "#6ece58"
             ],
             [
              0.8888888888888888,
              "#b5de2b"
             ],
             [
              1,
              "#fde725"
             ]
            ],
            "type": "contour"
           }
          ],
          "contourcarpet": [
           {
            "colorbar": {
             "outlinewidth": 1,
             "tickcolor": "rgb(36,36,36)",
             "ticks": "outside"
            },
            "type": "contourcarpet"
           }
          ],
          "heatmap": [
           {
            "colorbar": {
             "outlinewidth": 1,
             "tickcolor": "rgb(36,36,36)",
             "ticks": "outside"
            },
            "colorscale": [
             [
              0,
              "#440154"
             ],
             [
              0.1111111111111111,
              "#482878"
             ],
             [
              0.2222222222222222,
              "#3e4989"
             ],
             [
              0.3333333333333333,
              "#31688e"
             ],
             [
              0.4444444444444444,
              "#26828e"
             ],
             [
              0.5555555555555556,
              "#1f9e89"
             ],
             [
              0.6666666666666666,
              "#35b779"
             ],
             [
              0.7777777777777778,
              "#6ece58"
             ],
             [
              0.8888888888888888,
              "#b5de2b"
             ],
             [
              1,
              "#fde725"
             ]
            ],
            "type": "heatmap"
           }
          ],
          "heatmapgl": [
           {
            "colorbar": {
             "outlinewidth": 1,
             "tickcolor": "rgb(36,36,36)",
             "ticks": "outside"
            },
            "colorscale": [
             [
              0,
              "#440154"
             ],
             [
              0.1111111111111111,
              "#482878"
             ],
             [
              0.2222222222222222,
              "#3e4989"
             ],
             [
              0.3333333333333333,
              "#31688e"
             ],
             [
              0.4444444444444444,
              "#26828e"
             ],
             [
              0.5555555555555556,
              "#1f9e89"
             ],
             [
              0.6666666666666666,
              "#35b779"
             ],
             [
              0.7777777777777778,
              "#6ece58"
             ],
             [
              0.8888888888888888,
              "#b5de2b"
             ],
             [
              1,
              "#fde725"
             ]
            ],
            "type": "heatmapgl"
           }
          ],
          "histogram": [
           {
            "marker": {
             "line": {
              "color": "white",
              "width": 0.6
             }
            },
            "type": "histogram"
           }
          ],
          "histogram2d": [
           {
            "colorbar": {
             "outlinewidth": 1,
             "tickcolor": "rgb(36,36,36)",
             "ticks": "outside"
            },
            "colorscale": [
             [
              0,
              "#440154"
             ],
             [
              0.1111111111111111,
              "#482878"
             ],
             [
              0.2222222222222222,
              "#3e4989"
             ],
             [
              0.3333333333333333,
              "#31688e"
             ],
             [
              0.4444444444444444,
              "#26828e"
             ],
             [
              0.5555555555555556,
              "#1f9e89"
             ],
             [
              0.6666666666666666,
              "#35b779"
             ],
             [
              0.7777777777777778,
              "#6ece58"
             ],
             [
              0.8888888888888888,
              "#b5de2b"
             ],
             [
              1,
              "#fde725"
             ]
            ],
            "type": "histogram2d"
           }
          ],
          "histogram2dcontour": [
           {
            "colorbar": {
             "outlinewidth": 1,
             "tickcolor": "rgb(36,36,36)",
             "ticks": "outside"
            },
            "colorscale": [
             [
              0,
              "#440154"
             ],
             [
              0.1111111111111111,
              "#482878"
             ],
             [
              0.2222222222222222,
              "#3e4989"
             ],
             [
              0.3333333333333333,
              "#31688e"
             ],
             [
              0.4444444444444444,
              "#26828e"
             ],
             [
              0.5555555555555556,
              "#1f9e89"
             ],
             [
              0.6666666666666666,
              "#35b779"
             ],
             [
              0.7777777777777778,
              "#6ece58"
             ],
             [
              0.8888888888888888,
              "#b5de2b"
             ],
             [
              1,
              "#fde725"
             ]
            ],
            "type": "histogram2dcontour"
           }
          ],
          "mesh3d": [
           {
            "colorbar": {
             "outlinewidth": 1,
             "tickcolor": "rgb(36,36,36)",
             "ticks": "outside"
            },
            "type": "mesh3d"
           }
          ],
          "parcoords": [
           {
            "line": {
             "colorbar": {
              "outlinewidth": 1,
              "tickcolor": "rgb(36,36,36)",
              "ticks": "outside"
             }
            },
            "type": "parcoords"
           }
          ],
          "pie": [
           {
            "automargin": true,
            "type": "pie"
           }
          ],
          "scatter": [
           {
            "fillpattern": {
             "fillmode": "overlay",
             "size": 10,
             "solidity": 0.2
            },
            "type": "scatter"
           }
          ],
          "scatter3d": [
           {
            "line": {
             "colorbar": {
              "outlinewidth": 1,
              "tickcolor": "rgb(36,36,36)",
              "ticks": "outside"
             }
            },
            "marker": {
             "colorbar": {
              "outlinewidth": 1,
              "tickcolor": "rgb(36,36,36)",
              "ticks": "outside"
             }
            },
            "type": "scatter3d"
           }
          ],
          "scattercarpet": [
           {
            "marker": {
             "colorbar": {
              "outlinewidth": 1,
              "tickcolor": "rgb(36,36,36)",
              "ticks": "outside"
             }
            },
            "type": "scattercarpet"
           }
          ],
          "scattergeo": [
           {
            "marker": {
             "colorbar": {
              "outlinewidth": 1,
              "tickcolor": "rgb(36,36,36)",
              "ticks": "outside"
             }
            },
            "type": "scattergeo"
           }
          ],
          "scattergl": [
           {
            "marker": {
             "colorbar": {
              "outlinewidth": 1,
              "tickcolor": "rgb(36,36,36)",
              "ticks": "outside"
             }
            },
            "type": "scattergl"
           }
          ],
          "scattermapbox": [
           {
            "marker": {
             "colorbar": {
              "outlinewidth": 1,
              "tickcolor": "rgb(36,36,36)",
              "ticks": "outside"
             }
            },
            "type": "scattermapbox"
           }
          ],
          "scatterpolar": [
           {
            "marker": {
             "colorbar": {
              "outlinewidth": 1,
              "tickcolor": "rgb(36,36,36)",
              "ticks": "outside"
             }
            },
            "type": "scatterpolar"
           }
          ],
          "scatterpolargl": [
           {
            "marker": {
             "colorbar": {
              "outlinewidth": 1,
              "tickcolor": "rgb(36,36,36)",
              "ticks": "outside"
             }
            },
            "type": "scatterpolargl"
           }
          ],
          "scatterternary": [
           {
            "marker": {
             "colorbar": {
              "outlinewidth": 1,
              "tickcolor": "rgb(36,36,36)",
              "ticks": "outside"
             }
            },
            "type": "scatterternary"
           }
          ],
          "surface": [
           {
            "colorbar": {
             "outlinewidth": 1,
             "tickcolor": "rgb(36,36,36)",
             "ticks": "outside"
            },
            "colorscale": [
             [
              0,
              "#440154"
             ],
             [
              0.1111111111111111,
              "#482878"
             ],
             [
              0.2222222222222222,
              "#3e4989"
             ],
             [
              0.3333333333333333,
              "#31688e"
             ],
             [
              0.4444444444444444,
              "#26828e"
             ],
             [
              0.5555555555555556,
              "#1f9e89"
             ],
             [
              0.6666666666666666,
              "#35b779"
             ],
             [
              0.7777777777777778,
              "#6ece58"
             ],
             [
              0.8888888888888888,
              "#b5de2b"
             ],
             [
              1,
              "#fde725"
             ]
            ],
            "type": "surface"
           }
          ],
          "table": [
           {
            "cells": {
             "fill": {
              "color": "rgb(237,237,237)"
             },
             "line": {
              "color": "white"
             }
            },
            "header": {
             "fill": {
              "color": "rgb(217,217,217)"
             },
             "line": {
              "color": "white"
             }
            },
            "type": "table"
           }
          ]
         },
         "layout": {
          "annotationdefaults": {
           "arrowhead": 0,
           "arrowwidth": 1
          },
          "autotypenumbers": "strict",
          "coloraxis": {
           "colorbar": {
            "outlinewidth": 1,
            "tickcolor": "rgb(36,36,36)",
            "ticks": "outside"
           }
          },
          "colorscale": {
           "diverging": [
            [
             0,
             "rgb(103,0,31)"
            ],
            [
             0.1,
             "rgb(178,24,43)"
            ],
            [
             0.2,
             "rgb(214,96,77)"
            ],
            [
             0.3,
             "rgb(244,165,130)"
            ],
            [
             0.4,
             "rgb(253,219,199)"
            ],
            [
             0.5,
             "rgb(247,247,247)"
            ],
            [
             0.6,
             "rgb(209,229,240)"
            ],
            [
             0.7,
             "rgb(146,197,222)"
            ],
            [
             0.8,
             "rgb(67,147,195)"
            ],
            [
             0.9,
             "rgb(33,102,172)"
            ],
            [
             1,
             "rgb(5,48,97)"
            ]
           ],
           "sequential": [
            [
             0,
             "#440154"
            ],
            [
             0.1111111111111111,
             "#482878"
            ],
            [
             0.2222222222222222,
             "#3e4989"
            ],
            [
             0.3333333333333333,
             "#31688e"
            ],
            [
             0.4444444444444444,
             "#26828e"
            ],
            [
             0.5555555555555556,
             "#1f9e89"
            ],
            [
             0.6666666666666666,
             "#35b779"
            ],
            [
             0.7777777777777778,
             "#6ece58"
            ],
            [
             0.8888888888888888,
             "#b5de2b"
            ],
            [
             1,
             "#fde725"
            ]
           ],
           "sequentialminus": [
            [
             0,
             "#440154"
            ],
            [
             0.1111111111111111,
             "#482878"
            ],
            [
             0.2222222222222222,
             "#3e4989"
            ],
            [
             0.3333333333333333,
             "#31688e"
            ],
            [
             0.4444444444444444,
             "#26828e"
            ],
            [
             0.5555555555555556,
             "#1f9e89"
            ],
            [
             0.6666666666666666,
             "#35b779"
            ],
            [
             0.7777777777777778,
             "#6ece58"
            ],
            [
             0.8888888888888888,
             "#b5de2b"
            ],
            [
             1,
             "#fde725"
            ]
           ]
          },
          "colorway": [
           "#1F77B4",
           "#FF7F0E",
           "#2CA02C",
           "#D62728",
           "#9467BD",
           "#8C564B",
           "#E377C2",
           "#7F7F7F",
           "#BCBD22",
           "#17BECF"
          ],
          "font": {
           "color": "rgb(36,36,36)"
          },
          "geo": {
           "bgcolor": "white",
           "lakecolor": "white",
           "landcolor": "white",
           "showlakes": true,
           "showland": true,
           "subunitcolor": "white"
          },
          "hoverlabel": {
           "align": "left"
          },
          "hovermode": "closest",
          "mapbox": {
           "style": "light"
          },
          "paper_bgcolor": "white",
          "plot_bgcolor": "white",
          "polar": {
           "angularaxis": {
            "gridcolor": "rgb(232,232,232)",
            "linecolor": "rgb(36,36,36)",
            "showgrid": false,
            "showline": true,
            "ticks": "outside"
           },
           "bgcolor": "white",
           "radialaxis": {
            "gridcolor": "rgb(232,232,232)",
            "linecolor": "rgb(36,36,36)",
            "showgrid": false,
            "showline": true,
            "ticks": "outside"
           }
          },
          "scene": {
           "xaxis": {
            "backgroundcolor": "white",
            "gridcolor": "rgb(232,232,232)",
            "gridwidth": 2,
            "linecolor": "rgb(36,36,36)",
            "showbackground": true,
            "showgrid": false,
            "showline": true,
            "ticks": "outside",
            "zeroline": false,
            "zerolinecolor": "rgb(36,36,36)"
           },
           "yaxis": {
            "backgroundcolor": "white",
            "gridcolor": "rgb(232,232,232)",
            "gridwidth": 2,
            "linecolor": "rgb(36,36,36)",
            "showbackground": true,
            "showgrid": false,
            "showline": true,
            "ticks": "outside",
            "zeroline": false,
            "zerolinecolor": "rgb(36,36,36)"
           },
           "zaxis": {
            "backgroundcolor": "white",
            "gridcolor": "rgb(232,232,232)",
            "gridwidth": 2,
            "linecolor": "rgb(36,36,36)",
            "showbackground": true,
            "showgrid": false,
            "showline": true,
            "ticks": "outside",
            "zeroline": false,
            "zerolinecolor": "rgb(36,36,36)"
           }
          },
          "shapedefaults": {
           "fillcolor": "black",
           "line": {
            "width": 0
           },
           "opacity": 0.3
          },
          "ternary": {
           "aaxis": {
            "gridcolor": "rgb(232,232,232)",
            "linecolor": "rgb(36,36,36)",
            "showgrid": false,
            "showline": true,
            "ticks": "outside"
           },
           "baxis": {
            "gridcolor": "rgb(232,232,232)",
            "linecolor": "rgb(36,36,36)",
            "showgrid": false,
            "showline": true,
            "ticks": "outside"
           },
           "bgcolor": "white",
           "caxis": {
            "gridcolor": "rgb(232,232,232)",
            "linecolor": "rgb(36,36,36)",
            "showgrid": false,
            "showline": true,
            "ticks": "outside"
           }
          },
          "title": {
           "x": 0.05
          },
          "xaxis": {
           "automargin": true,
           "gridcolor": "rgb(232,232,232)",
           "linecolor": "rgb(36,36,36)",
           "showgrid": false,
           "showline": true,
           "ticks": "outside",
           "title": {
            "standoff": 15
           },
           "zeroline": false,
           "zerolinecolor": "rgb(36,36,36)"
          },
          "yaxis": {
           "automargin": true,
           "gridcolor": "rgb(232,232,232)",
           "linecolor": "rgb(36,36,36)",
           "showgrid": false,
           "showline": true,
           "ticks": "outside",
           "title": {
            "standoff": 15
           },
           "zeroline": false,
           "zerolinecolor": "rgb(36,36,36)"
          }
         }
        },
        "width": 1024,
        "xaxis": {
         "showgrid": false,
         "title": {
          "text": " "
         }
        },
        "yaxis": {
         "categoryorder": "category descending",
         "showgrid": false,
         "showline": false,
         "ticksuffix": " ",
         "title": {
          "text": " "
         }
        }
       }
      }
     },
     "metadata": {},
     "output_type": "display_data"
    }
   ],
   "source": [
    "fig_duration = go.Figure(layout=layout)\n",
    "fig_duration.add_trace(go.Bar(x=df_means_situations.duration, y=df_means_situations.situation, \n",
    "                        orientation='h', showlegend=True,\n",
    "                        text= np.round(df_means_situations.duration,decimals = 0),\n",
    "                        name='Duration', marker_color= marking_red))\n",
    "fig_duration.add_trace(go.Bar(x=df_means_situations.standtime, y=df_means_situations.situation, \n",
    "                        orientation='h', showlegend=True,\n",
    "                        text=np.round(df_means_situations.standtime,decimals = 0),\n",
    "                        name='Standtime', marker_color='#000000'))\n",
    "fig_duration.update_xaxes(showgrid=False)\n",
    "fig_duration.update_yaxes(showgrid=False, categoryorder=\"category descending\",\n",
    "                 ticksuffix=' ', showline=False)\n",
    "fig_duration.update_traces(hovertemplate=None)\n",
    "fig_duration.update_layout(\n",
    "#    title='Mean of Duration & Standingtimes per Situation (Seconds)',\n",
    "    margin=dict(t=80, b=0, l=70, r=40),\n",
    "    hovermode=\"y unified\", \n",
    "    xaxis_title=' ', \n",
    "    yaxis_title=\" \",\n",
    "    font=dict(family=\"Lato, sans-serif\",size=14),\n",
    "    width=plot_width, height=plot_height,\n",
    "    legend=dict(orientation=\"h\", yanchor=\"bottom\",y=1, xanchor=\"center\", x=0.5),\n",
    "    hoverlabel=dict(font_size=18, font_family=\"Lato, sans-serif\"))"
   ]
  },
  {
   "cell_type": "markdown",
   "id": "eb282a65-47a3-49aa-bffe-cd0d9cc44d8e",
   "metadata": {},
   "source": [
    "#### Duration per Subject"
   ]
  },
  {
   "cell_type": "code",
   "execution_count": 14,
   "id": "46716830-af4e-4653-8d57-7b4fb0b4e8ed",
   "metadata": {},
   "outputs": [
    {
     "data": {
      "application/vnd.plotly.v1+json": {
       "config": {
        "plotlyServerURL": "https://plot.ly"
       },
       "data": [
        {
         "marker": {
          "color": "#961C26"
         },
         "name": "Duration",
         "orientation": "h",
         "showlegend": true,
         "text": [
          737,
          938,
          735,
          1230,
          1099,
          1132,
          695,
          805,
          1139,
          739,
          753,
          1222,
          935
         ],
         "type": "bar",
         "x": [
          737.215,
          938.168,
          735.346,
          1229.504,
          1098.856,
          1132.151,
          694.91,
          805.424,
          1138.839,
          739.246,
          752.74,
          1222.159,
          935.3798333333333
         ],
         "y": [
          "Subject 1",
          "Subject 2",
          "Subject 3",
          "Subject 4",
          "Subject 5",
          "Subject 6",
          "Subject 7",
          "Subject 8",
          "Subject 9",
          "Subject 10",
          "Subject 11",
          "Subject 12",
          null
         ]
        }
       ],
       "layout": {
        "font": {
         "family": "Lato, sans-serif",
         "size": 14
        },
        "height": 768,
        "hoverlabel": {
         "font": {
          "family": "Lato, sans-serif",
          "size": 13
         }
        },
        "hovermode": "y unified",
        "legend": {
         "orientation": "h",
         "x": 0.5,
         "xanchor": "center",
         "y": 1,
         "yanchor": "bottom"
        },
        "margin": {
         "b": 0,
         "l": 70,
         "r": 40,
         "t": 80
        },
        "paper_bgcolor": "rgba(0,0,0,0)",
        "plot_bgcolor": "rgba(0,0,0,0)",
        "template": {
         "data": {
          "bar": [
           {
            "error_x": {
             "color": "rgb(36,36,36)"
            },
            "error_y": {
             "color": "rgb(36,36,36)"
            },
            "marker": {
             "line": {
              "color": "white",
              "width": 0.5
             },
             "pattern": {
              "fillmode": "overlay",
              "size": 10,
              "solidity": 0.2
             }
            },
            "type": "bar"
           }
          ],
          "barpolar": [
           {
            "marker": {
             "line": {
              "color": "white",
              "width": 0.5
             },
             "pattern": {
              "fillmode": "overlay",
              "size": 10,
              "solidity": 0.2
             }
            },
            "type": "barpolar"
           }
          ],
          "carpet": [
           {
            "aaxis": {
             "endlinecolor": "rgb(36,36,36)",
             "gridcolor": "white",
             "linecolor": "white",
             "minorgridcolor": "white",
             "startlinecolor": "rgb(36,36,36)"
            },
            "baxis": {
             "endlinecolor": "rgb(36,36,36)",
             "gridcolor": "white",
             "linecolor": "white",
             "minorgridcolor": "white",
             "startlinecolor": "rgb(36,36,36)"
            },
            "type": "carpet"
           }
          ],
          "choropleth": [
           {
            "colorbar": {
             "outlinewidth": 1,
             "tickcolor": "rgb(36,36,36)",
             "ticks": "outside"
            },
            "type": "choropleth"
           }
          ],
          "contour": [
           {
            "colorbar": {
             "outlinewidth": 1,
             "tickcolor": "rgb(36,36,36)",
             "ticks": "outside"
            },
            "colorscale": [
             [
              0,
              "#440154"
             ],
             [
              0.1111111111111111,
              "#482878"
             ],
             [
              0.2222222222222222,
              "#3e4989"
             ],
             [
              0.3333333333333333,
              "#31688e"
             ],
             [
              0.4444444444444444,
              "#26828e"
             ],
             [
              0.5555555555555556,
              "#1f9e89"
             ],
             [
              0.6666666666666666,
              "#35b779"
             ],
             [
              0.7777777777777778,
              "#6ece58"
             ],
             [
              0.8888888888888888,
              "#b5de2b"
             ],
             [
              1,
              "#fde725"
             ]
            ],
            "type": "contour"
           }
          ],
          "contourcarpet": [
           {
            "colorbar": {
             "outlinewidth": 1,
             "tickcolor": "rgb(36,36,36)",
             "ticks": "outside"
            },
            "type": "contourcarpet"
           }
          ],
          "heatmap": [
           {
            "colorbar": {
             "outlinewidth": 1,
             "tickcolor": "rgb(36,36,36)",
             "ticks": "outside"
            },
            "colorscale": [
             [
              0,
              "#440154"
             ],
             [
              0.1111111111111111,
              "#482878"
             ],
             [
              0.2222222222222222,
              "#3e4989"
             ],
             [
              0.3333333333333333,
              "#31688e"
             ],
             [
              0.4444444444444444,
              "#26828e"
             ],
             [
              0.5555555555555556,
              "#1f9e89"
             ],
             [
              0.6666666666666666,
              "#35b779"
             ],
             [
              0.7777777777777778,
              "#6ece58"
             ],
             [
              0.8888888888888888,
              "#b5de2b"
             ],
             [
              1,
              "#fde725"
             ]
            ],
            "type": "heatmap"
           }
          ],
          "heatmapgl": [
           {
            "colorbar": {
             "outlinewidth": 1,
             "tickcolor": "rgb(36,36,36)",
             "ticks": "outside"
            },
            "colorscale": [
             [
              0,
              "#440154"
             ],
             [
              0.1111111111111111,
              "#482878"
             ],
             [
              0.2222222222222222,
              "#3e4989"
             ],
             [
              0.3333333333333333,
              "#31688e"
             ],
             [
              0.4444444444444444,
              "#26828e"
             ],
             [
              0.5555555555555556,
              "#1f9e89"
             ],
             [
              0.6666666666666666,
              "#35b779"
             ],
             [
              0.7777777777777778,
              "#6ece58"
             ],
             [
              0.8888888888888888,
              "#b5de2b"
             ],
             [
              1,
              "#fde725"
             ]
            ],
            "type": "heatmapgl"
           }
          ],
          "histogram": [
           {
            "marker": {
             "line": {
              "color": "white",
              "width": 0.6
             }
            },
            "type": "histogram"
           }
          ],
          "histogram2d": [
           {
            "colorbar": {
             "outlinewidth": 1,
             "tickcolor": "rgb(36,36,36)",
             "ticks": "outside"
            },
            "colorscale": [
             [
              0,
              "#440154"
             ],
             [
              0.1111111111111111,
              "#482878"
             ],
             [
              0.2222222222222222,
              "#3e4989"
             ],
             [
              0.3333333333333333,
              "#31688e"
             ],
             [
              0.4444444444444444,
              "#26828e"
             ],
             [
              0.5555555555555556,
              "#1f9e89"
             ],
             [
              0.6666666666666666,
              "#35b779"
             ],
             [
              0.7777777777777778,
              "#6ece58"
             ],
             [
              0.8888888888888888,
              "#b5de2b"
             ],
             [
              1,
              "#fde725"
             ]
            ],
            "type": "histogram2d"
           }
          ],
          "histogram2dcontour": [
           {
            "colorbar": {
             "outlinewidth": 1,
             "tickcolor": "rgb(36,36,36)",
             "ticks": "outside"
            },
            "colorscale": [
             [
              0,
              "#440154"
             ],
             [
              0.1111111111111111,
              "#482878"
             ],
             [
              0.2222222222222222,
              "#3e4989"
             ],
             [
              0.3333333333333333,
              "#31688e"
             ],
             [
              0.4444444444444444,
              "#26828e"
             ],
             [
              0.5555555555555556,
              "#1f9e89"
             ],
             [
              0.6666666666666666,
              "#35b779"
             ],
             [
              0.7777777777777778,
              "#6ece58"
             ],
             [
              0.8888888888888888,
              "#b5de2b"
             ],
             [
              1,
              "#fde725"
             ]
            ],
            "type": "histogram2dcontour"
           }
          ],
          "mesh3d": [
           {
            "colorbar": {
             "outlinewidth": 1,
             "tickcolor": "rgb(36,36,36)",
             "ticks": "outside"
            },
            "type": "mesh3d"
           }
          ],
          "parcoords": [
           {
            "line": {
             "colorbar": {
              "outlinewidth": 1,
              "tickcolor": "rgb(36,36,36)",
              "ticks": "outside"
             }
            },
            "type": "parcoords"
           }
          ],
          "pie": [
           {
            "automargin": true,
            "type": "pie"
           }
          ],
          "scatter": [
           {
            "fillpattern": {
             "fillmode": "overlay",
             "size": 10,
             "solidity": 0.2
            },
            "type": "scatter"
           }
          ],
          "scatter3d": [
           {
            "line": {
             "colorbar": {
              "outlinewidth": 1,
              "tickcolor": "rgb(36,36,36)",
              "ticks": "outside"
             }
            },
            "marker": {
             "colorbar": {
              "outlinewidth": 1,
              "tickcolor": "rgb(36,36,36)",
              "ticks": "outside"
             }
            },
            "type": "scatter3d"
           }
          ],
          "scattercarpet": [
           {
            "marker": {
             "colorbar": {
              "outlinewidth": 1,
              "tickcolor": "rgb(36,36,36)",
              "ticks": "outside"
             }
            },
            "type": "scattercarpet"
           }
          ],
          "scattergeo": [
           {
            "marker": {
             "colorbar": {
              "outlinewidth": 1,
              "tickcolor": "rgb(36,36,36)",
              "ticks": "outside"
             }
            },
            "type": "scattergeo"
           }
          ],
          "scattergl": [
           {
            "marker": {
             "colorbar": {
              "outlinewidth": 1,
              "tickcolor": "rgb(36,36,36)",
              "ticks": "outside"
             }
            },
            "type": "scattergl"
           }
          ],
          "scattermapbox": [
           {
            "marker": {
             "colorbar": {
              "outlinewidth": 1,
              "tickcolor": "rgb(36,36,36)",
              "ticks": "outside"
             }
            },
            "type": "scattermapbox"
           }
          ],
          "scatterpolar": [
           {
            "marker": {
             "colorbar": {
              "outlinewidth": 1,
              "tickcolor": "rgb(36,36,36)",
              "ticks": "outside"
             }
            },
            "type": "scatterpolar"
           }
          ],
          "scatterpolargl": [
           {
            "marker": {
             "colorbar": {
              "outlinewidth": 1,
              "tickcolor": "rgb(36,36,36)",
              "ticks": "outside"
             }
            },
            "type": "scatterpolargl"
           }
          ],
          "scatterternary": [
           {
            "marker": {
             "colorbar": {
              "outlinewidth": 1,
              "tickcolor": "rgb(36,36,36)",
              "ticks": "outside"
             }
            },
            "type": "scatterternary"
           }
          ],
          "surface": [
           {
            "colorbar": {
             "outlinewidth": 1,
             "tickcolor": "rgb(36,36,36)",
             "ticks": "outside"
            },
            "colorscale": [
             [
              0,
              "#440154"
             ],
             [
              0.1111111111111111,
              "#482878"
             ],
             [
              0.2222222222222222,
              "#3e4989"
             ],
             [
              0.3333333333333333,
              "#31688e"
             ],
             [
              0.4444444444444444,
              "#26828e"
             ],
             [
              0.5555555555555556,
              "#1f9e89"
             ],
             [
              0.6666666666666666,
              "#35b779"
             ],
             [
              0.7777777777777778,
              "#6ece58"
             ],
             [
              0.8888888888888888,
              "#b5de2b"
             ],
             [
              1,
              "#fde725"
             ]
            ],
            "type": "surface"
           }
          ],
          "table": [
           {
            "cells": {
             "fill": {
              "color": "rgb(237,237,237)"
             },
             "line": {
              "color": "white"
             }
            },
            "header": {
             "fill": {
              "color": "rgb(217,217,217)"
             },
             "line": {
              "color": "white"
             }
            },
            "type": "table"
           }
          ]
         },
         "layout": {
          "annotationdefaults": {
           "arrowhead": 0,
           "arrowwidth": 1
          },
          "autotypenumbers": "strict",
          "coloraxis": {
           "colorbar": {
            "outlinewidth": 1,
            "tickcolor": "rgb(36,36,36)",
            "ticks": "outside"
           }
          },
          "colorscale": {
           "diverging": [
            [
             0,
             "rgb(103,0,31)"
            ],
            [
             0.1,
             "rgb(178,24,43)"
            ],
            [
             0.2,
             "rgb(214,96,77)"
            ],
            [
             0.3,
             "rgb(244,165,130)"
            ],
            [
             0.4,
             "rgb(253,219,199)"
            ],
            [
             0.5,
             "rgb(247,247,247)"
            ],
            [
             0.6,
             "rgb(209,229,240)"
            ],
            [
             0.7,
             "rgb(146,197,222)"
            ],
            [
             0.8,
             "rgb(67,147,195)"
            ],
            [
             0.9,
             "rgb(33,102,172)"
            ],
            [
             1,
             "rgb(5,48,97)"
            ]
           ],
           "sequential": [
            [
             0,
             "#440154"
            ],
            [
             0.1111111111111111,
             "#482878"
            ],
            [
             0.2222222222222222,
             "#3e4989"
            ],
            [
             0.3333333333333333,
             "#31688e"
            ],
            [
             0.4444444444444444,
             "#26828e"
            ],
            [
             0.5555555555555556,
             "#1f9e89"
            ],
            [
             0.6666666666666666,
             "#35b779"
            ],
            [
             0.7777777777777778,
             "#6ece58"
            ],
            [
             0.8888888888888888,
             "#b5de2b"
            ],
            [
             1,
             "#fde725"
            ]
           ],
           "sequentialminus": [
            [
             0,
             "#440154"
            ],
            [
             0.1111111111111111,
             "#482878"
            ],
            [
             0.2222222222222222,
             "#3e4989"
            ],
            [
             0.3333333333333333,
             "#31688e"
            ],
            [
             0.4444444444444444,
             "#26828e"
            ],
            [
             0.5555555555555556,
             "#1f9e89"
            ],
            [
             0.6666666666666666,
             "#35b779"
            ],
            [
             0.7777777777777778,
             "#6ece58"
            ],
            [
             0.8888888888888888,
             "#b5de2b"
            ],
            [
             1,
             "#fde725"
            ]
           ]
          },
          "colorway": [
           "#1F77B4",
           "#FF7F0E",
           "#2CA02C",
           "#D62728",
           "#9467BD",
           "#8C564B",
           "#E377C2",
           "#7F7F7F",
           "#BCBD22",
           "#17BECF"
          ],
          "font": {
           "color": "rgb(36,36,36)"
          },
          "geo": {
           "bgcolor": "white",
           "lakecolor": "white",
           "landcolor": "white",
           "showlakes": true,
           "showland": true,
           "subunitcolor": "white"
          },
          "hoverlabel": {
           "align": "left"
          },
          "hovermode": "closest",
          "mapbox": {
           "style": "light"
          },
          "paper_bgcolor": "white",
          "plot_bgcolor": "white",
          "polar": {
           "angularaxis": {
            "gridcolor": "rgb(232,232,232)",
            "linecolor": "rgb(36,36,36)",
            "showgrid": false,
            "showline": true,
            "ticks": "outside"
           },
           "bgcolor": "white",
           "radialaxis": {
            "gridcolor": "rgb(232,232,232)",
            "linecolor": "rgb(36,36,36)",
            "showgrid": false,
            "showline": true,
            "ticks": "outside"
           }
          },
          "scene": {
           "xaxis": {
            "backgroundcolor": "white",
            "gridcolor": "rgb(232,232,232)",
            "gridwidth": 2,
            "linecolor": "rgb(36,36,36)",
            "showbackground": true,
            "showgrid": false,
            "showline": true,
            "ticks": "outside",
            "zeroline": false,
            "zerolinecolor": "rgb(36,36,36)"
           },
           "yaxis": {
            "backgroundcolor": "white",
            "gridcolor": "rgb(232,232,232)",
            "gridwidth": 2,
            "linecolor": "rgb(36,36,36)",
            "showbackground": true,
            "showgrid": false,
            "showline": true,
            "ticks": "outside",
            "zeroline": false,
            "zerolinecolor": "rgb(36,36,36)"
           },
           "zaxis": {
            "backgroundcolor": "white",
            "gridcolor": "rgb(232,232,232)",
            "gridwidth": 2,
            "linecolor": "rgb(36,36,36)",
            "showbackground": true,
            "showgrid": false,
            "showline": true,
            "ticks": "outside",
            "zeroline": false,
            "zerolinecolor": "rgb(36,36,36)"
           }
          },
          "shapedefaults": {
           "fillcolor": "black",
           "line": {
            "width": 0
           },
           "opacity": 0.3
          },
          "ternary": {
           "aaxis": {
            "gridcolor": "rgb(232,232,232)",
            "linecolor": "rgb(36,36,36)",
            "showgrid": false,
            "showline": true,
            "ticks": "outside"
           },
           "baxis": {
            "gridcolor": "rgb(232,232,232)",
            "linecolor": "rgb(36,36,36)",
            "showgrid": false,
            "showline": true,
            "ticks": "outside"
           },
           "bgcolor": "white",
           "caxis": {
            "gridcolor": "rgb(232,232,232)",
            "linecolor": "rgb(36,36,36)",
            "showgrid": false,
            "showline": true,
            "ticks": "outside"
           }
          },
          "title": {
           "x": 0.05
          },
          "xaxis": {
           "automargin": true,
           "gridcolor": "rgb(232,232,232)",
           "linecolor": "rgb(36,36,36)",
           "showgrid": false,
           "showline": true,
           "ticks": "outside",
           "title": {
            "standoff": 15
           },
           "zeroline": false,
           "zerolinecolor": "rgb(36,36,36)"
          },
          "yaxis": {
           "automargin": true,
           "gridcolor": "rgb(232,232,232)",
           "linecolor": "rgb(36,36,36)",
           "showgrid": false,
           "showline": true,
           "ticks": "outside",
           "title": {
            "standoff": 15
           },
           "zeroline": false,
           "zerolinecolor": "rgb(36,36,36)"
          }
         }
        },
        "width": 1024,
        "xaxis": {
         "showgrid": false,
         "title": {
          "text": " "
         }
        },
        "yaxis": {
         "categoryarray": [
          "Subject 12",
          "Subject 11",
          "Subject 10",
          "Subject 9",
          "Subject 8",
          "Subject 7",
          "Subject 6",
          "Subject 5",
          "Subject 4",
          "Subject 3",
          "Subject 2",
          "Subject 1"
         ],
         "categoryorder": "array",
         "showgrid": false,
         "showline": false,
         "ticksuffix": " ",
         "title": {
          "text": " "
         }
        }
       }
      }
     },
     "metadata": {},
     "output_type": "display_data"
    }
   ],
   "source": [
    "fig_duration_subject = go.Figure(layout=layout)\n",
    "fig_duration_subject.add_trace(go.Bar(\n",
    "    x = df_all.duration, \n",
    "    y = df_all.subject, \n",
    "    orientation='h', \n",
    "    showlegend=True,\n",
    "    text=np.round(df_all.duration,decimals = 0),\n",
    "    name='Duration', \n",
    "    marker_color= marking_red\n",
    "))\n",
    "fig_duration_subject.update_xaxes(showgrid=False)\n",
    "fig_duration_subject.update_yaxes(showgrid=False, categoryorder='array', categoryarray= [\"Subject 12\",\"Subject 11\",\"Subject 10\",\"Subject 9\",\"Subject 8\",\"Subject 7\",\"Subject 6\",\"Subject 5\",\"Subject 4\",\"Subject 3\",\"Subject 2\",\"Subject 1\"],\n",
    "                 ticksuffix=' ', showline=False)\n",
    "fig_duration_subject.update_traces(hovertemplate=None)\n",
    "fig_duration_subject.update_layout(\n",
    "#    title='Duration per Subject (Seconds)',\n",
    "    margin=dict(t=80, b=0, l=70, r=40),\n",
    "    hovermode=\"y unified\", \n",
    "    xaxis_title=' ',\n",
    "    yaxis_title=\" \",\n",
    "    width=plot_width, height=plot_height,\n",
    "    font=dict(family=\"Lato, sans-serif\",size=14),\n",
    "    legend=dict(orientation=\"h\", yanchor=\"bottom\",y=1, xanchor=\"center\", x=0.5),\n",
    "    hoverlabel=dict(font_size=13, font_family=\"Lato, sans-serif\"))"
   ]
  },
  {
   "cell_type": "code",
   "execution_count": 21,
   "id": "df0548b5",
   "metadata": {},
   "outputs": [
    {
     "data": {
      "application/vnd.plotly.v1+json": {
       "config": {
        "plotlyServerURL": "https://plot.ly"
       },
       "data": [
        {
         "base": 0,
         "marker": {
          "color": "#961C26"
         },
         "name": "Left Rotations",
         "offsetgroup": "1",
         "orientation": "h",
         "showlegend": true,
         "text": [
          4,
          1,
          3,
          4
         ],
         "type": "bar",
         "x": [
          -3.5833333333333335,
          -0.7222222222222222,
          -3.0611111111111113,
          -3.6222222222222222
         ],
         "xaxis": "x",
         "y": [
          "A",
          "B",
          "C",
          "D"
         ],
         "yaxis": "y"
        },
        {
         "base": 0,
         "marker": {
          "color": "#000000"
         },
         "name": "Right Rotations",
         "offsetgroup": "1",
         "orientation": "h",
         "showlegend": true,
         "text": [
          1,
          0,
          1,
          3
         ],
         "type": "bar",
         "x": [
          1.4666666666666668,
          0.43333333333333335,
          1.0888888888888888,
          2.777777777777778
         ],
         "xaxis": "x",
         "y": [
          "A",
          "B",
          "C",
          "D"
         ],
         "yaxis": "y"
        },
        {
         "base": 0,
         "marker": {
          "color": "#961C26"
         },
         "name": "Left Angles",
         "offsetgroup": "1",
         "orientation": "h",
         "showlegend": true,
         "text": [
          -62,
          -105,
          -54,
          -53
         ],
         "type": "bar",
         "x": [
          -62.216243743896484,
          -104.94164276123047,
          -54.42142868041992,
          -53.29060363769531
         ],
         "xaxis": "x2",
         "y": [
          "A",
          "B",
          "C",
          "D"
         ],
         "yaxis": "y2"
        },
        {
         "base": 0,
         "marker": {
          "color": "#000000"
         },
         "name": "Right Angles",
         "offsetgroup": "1",
         "orientation": "h",
         "showlegend": true,
         "text": [
          42,
          36,
          35,
          39
         ],
         "type": "bar",
         "x": [
          41.72726821899414,
          35.525489807128906,
          34.51746368408203,
          38.67066192626953
         ],
         "xaxis": "x2",
         "y": [
          "A",
          "B",
          "C",
          "D"
         ],
         "yaxis": "y2"
        },
        {
         "marker": {
          "color": "#961C26"
         },
         "name": "Duration",
         "orientation": "h",
         "showlegend": true,
         "text": [
          27,
          8,
          23,
          17
         ],
         "type": "bar",
         "x": [
          27.352944444444443,
          8.420027777777785,
          22.633277777777778,
          17.05402777777778
         ],
         "xaxis": "x3",
         "y": [
          "A",
          "B",
          "C",
          "D"
         ],
         "yaxis": "y3"
        },
        {
         "marker": {
          "color": "#000000"
         },
         "name": "Standtime",
         "orientation": "h",
         "showlegend": true,
         "text": [
          14,
          2,
          10,
          10
         ],
         "type": "bar",
         "x": [
          13.999717712402344,
          1.5052776336669922,
          10.358834266662598,
          9.757722854614258
         ],
         "xaxis": "x3",
         "y": [
          "A",
          "B",
          "C",
          "D"
         ],
         "yaxis": "y3"
        },
        {
         "marker": {
          "color": "#961C26"
         },
         "name": "Collisions",
         "orientation": "h",
         "showlegend": true,
         "text": [
          3,
          0,
          2,
          0
         ],
         "type": "bar",
         "x": [
          2.6666666666666665,
          0,
          1.8333333333333333,
          0.3333333333333333
         ],
         "xaxis": "x4",
         "y": [
          "A",
          "B",
          "C",
          "D"
         ],
         "yaxis": "y4"
        }
       ],
       "layout": {
        "annotations": [
         {
          "font": {
           "size": 16
          },
          "showarrow": false,
          "text": "Headrotation frequency",
          "x": 0.10625,
          "xanchor": "center",
          "xref": "paper",
          "y": 1,
          "yanchor": "bottom",
          "yref": "paper"
         },
         {
          "font": {
           "size": 16
          },
          "showarrow": false,
          "text": "Headrotation angles",
          "x": 0.36875,
          "xanchor": "center",
          "xref": "paper",
          "y": 1,
          "yanchor": "bottom",
          "yref": "paper"
         },
         {
          "font": {
           "size": 16
          },
          "showarrow": false,
          "text": "Time spent at situations",
          "x": 0.6312500000000001,
          "xanchor": "center",
          "xref": "paper",
          "y": 1,
          "yanchor": "bottom",
          "yref": "paper"
         },
         {
          "font": {
           "size": 16
          },
          "showarrow": false,
          "text": "Number of collisions",
          "x": 0.89375,
          "xanchor": "center",
          "xref": "paper",
          "y": 1,
          "yanchor": "bottom",
          "yref": "paper"
         }
        ],
        "font": {
         "family": "Lato, sans-serif",
         "size": 14
        },
        "height": 512,
        "hoverlabel": {
         "font": {
          "family": "Lato, sans-serif",
          "size": 13
         }
        },
        "hovermode": "y unified",
        "paper_bgcolor": "rgba(255,255,255,1)",
        "plot_bgcolor": "rgba(255,255,255,1)",
        "showlegend": false,
        "template": {
         "data": {
          "bar": [
           {
            "error_x": {
             "color": "rgb(36,36,36)"
            },
            "error_y": {
             "color": "rgb(36,36,36)"
            },
            "marker": {
             "line": {
              "color": "white",
              "width": 0.5
             },
             "pattern": {
              "fillmode": "overlay",
              "size": 10,
              "solidity": 0.2
             }
            },
            "type": "bar"
           }
          ],
          "barpolar": [
           {
            "marker": {
             "line": {
              "color": "white",
              "width": 0.5
             },
             "pattern": {
              "fillmode": "overlay",
              "size": 10,
              "solidity": 0.2
             }
            },
            "type": "barpolar"
           }
          ],
          "carpet": [
           {
            "aaxis": {
             "endlinecolor": "rgb(36,36,36)",
             "gridcolor": "white",
             "linecolor": "white",
             "minorgridcolor": "white",
             "startlinecolor": "rgb(36,36,36)"
            },
            "baxis": {
             "endlinecolor": "rgb(36,36,36)",
             "gridcolor": "white",
             "linecolor": "white",
             "minorgridcolor": "white",
             "startlinecolor": "rgb(36,36,36)"
            },
            "type": "carpet"
           }
          ],
          "choropleth": [
           {
            "colorbar": {
             "outlinewidth": 1,
             "tickcolor": "rgb(36,36,36)",
             "ticks": "outside"
            },
            "type": "choropleth"
           }
          ],
          "contour": [
           {
            "colorbar": {
             "outlinewidth": 1,
             "tickcolor": "rgb(36,36,36)",
             "ticks": "outside"
            },
            "colorscale": [
             [
              0,
              "#440154"
             ],
             [
              0.1111111111111111,
              "#482878"
             ],
             [
              0.2222222222222222,
              "#3e4989"
             ],
             [
              0.3333333333333333,
              "#31688e"
             ],
             [
              0.4444444444444444,
              "#26828e"
             ],
             [
              0.5555555555555556,
              "#1f9e89"
             ],
             [
              0.6666666666666666,
              "#35b779"
             ],
             [
              0.7777777777777778,
              "#6ece58"
             ],
             [
              0.8888888888888888,
              "#b5de2b"
             ],
             [
              1,
              "#fde725"
             ]
            ],
            "type": "contour"
           }
          ],
          "contourcarpet": [
           {
            "colorbar": {
             "outlinewidth": 1,
             "tickcolor": "rgb(36,36,36)",
             "ticks": "outside"
            },
            "type": "contourcarpet"
           }
          ],
          "heatmap": [
           {
            "colorbar": {
             "outlinewidth": 1,
             "tickcolor": "rgb(36,36,36)",
             "ticks": "outside"
            },
            "colorscale": [
             [
              0,
              "#440154"
             ],
             [
              0.1111111111111111,
              "#482878"
             ],
             [
              0.2222222222222222,
              "#3e4989"
             ],
             [
              0.3333333333333333,
              "#31688e"
             ],
             [
              0.4444444444444444,
              "#26828e"
             ],
             [
              0.5555555555555556,
              "#1f9e89"
             ],
             [
              0.6666666666666666,
              "#35b779"
             ],
             [
              0.7777777777777778,
              "#6ece58"
             ],
             [
              0.8888888888888888,
              "#b5de2b"
             ],
             [
              1,
              "#fde725"
             ]
            ],
            "type": "heatmap"
           }
          ],
          "heatmapgl": [
           {
            "colorbar": {
             "outlinewidth": 1,
             "tickcolor": "rgb(36,36,36)",
             "ticks": "outside"
            },
            "colorscale": [
             [
              0,
              "#440154"
             ],
             [
              0.1111111111111111,
              "#482878"
             ],
             [
              0.2222222222222222,
              "#3e4989"
             ],
             [
              0.3333333333333333,
              "#31688e"
             ],
             [
              0.4444444444444444,
              "#26828e"
             ],
             [
              0.5555555555555556,
              "#1f9e89"
             ],
             [
              0.6666666666666666,
              "#35b779"
             ],
             [
              0.7777777777777778,
              "#6ece58"
             ],
             [
              0.8888888888888888,
              "#b5de2b"
             ],
             [
              1,
              "#fde725"
             ]
            ],
            "type": "heatmapgl"
           }
          ],
          "histogram": [
           {
            "marker": {
             "line": {
              "color": "white",
              "width": 0.6
             }
            },
            "type": "histogram"
           }
          ],
          "histogram2d": [
           {
            "colorbar": {
             "outlinewidth": 1,
             "tickcolor": "rgb(36,36,36)",
             "ticks": "outside"
            },
            "colorscale": [
             [
              0,
              "#440154"
             ],
             [
              0.1111111111111111,
              "#482878"
             ],
             [
              0.2222222222222222,
              "#3e4989"
             ],
             [
              0.3333333333333333,
              "#31688e"
             ],
             [
              0.4444444444444444,
              "#26828e"
             ],
             [
              0.5555555555555556,
              "#1f9e89"
             ],
             [
              0.6666666666666666,
              "#35b779"
             ],
             [
              0.7777777777777778,
              "#6ece58"
             ],
             [
              0.8888888888888888,
              "#b5de2b"
             ],
             [
              1,
              "#fde725"
             ]
            ],
            "type": "histogram2d"
           }
          ],
          "histogram2dcontour": [
           {
            "colorbar": {
             "outlinewidth": 1,
             "tickcolor": "rgb(36,36,36)",
             "ticks": "outside"
            },
            "colorscale": [
             [
              0,
              "#440154"
             ],
             [
              0.1111111111111111,
              "#482878"
             ],
             [
              0.2222222222222222,
              "#3e4989"
             ],
             [
              0.3333333333333333,
              "#31688e"
             ],
             [
              0.4444444444444444,
              "#26828e"
             ],
             [
              0.5555555555555556,
              "#1f9e89"
             ],
             [
              0.6666666666666666,
              "#35b779"
             ],
             [
              0.7777777777777778,
              "#6ece58"
             ],
             [
              0.8888888888888888,
              "#b5de2b"
             ],
             [
              1,
              "#fde725"
             ]
            ],
            "type": "histogram2dcontour"
           }
          ],
          "mesh3d": [
           {
            "colorbar": {
             "outlinewidth": 1,
             "tickcolor": "rgb(36,36,36)",
             "ticks": "outside"
            },
            "type": "mesh3d"
           }
          ],
          "parcoords": [
           {
            "line": {
             "colorbar": {
              "outlinewidth": 1,
              "tickcolor": "rgb(36,36,36)",
              "ticks": "outside"
             }
            },
            "type": "parcoords"
           }
          ],
          "pie": [
           {
            "automargin": true,
            "type": "pie"
           }
          ],
          "scatter": [
           {
            "fillpattern": {
             "fillmode": "overlay",
             "size": 10,
             "solidity": 0.2
            },
            "type": "scatter"
           }
          ],
          "scatter3d": [
           {
            "line": {
             "colorbar": {
              "outlinewidth": 1,
              "tickcolor": "rgb(36,36,36)",
              "ticks": "outside"
             }
            },
            "marker": {
             "colorbar": {
              "outlinewidth": 1,
              "tickcolor": "rgb(36,36,36)",
              "ticks": "outside"
             }
            },
            "type": "scatter3d"
           }
          ],
          "scattercarpet": [
           {
            "marker": {
             "colorbar": {
              "outlinewidth": 1,
              "tickcolor": "rgb(36,36,36)",
              "ticks": "outside"
             }
            },
            "type": "scattercarpet"
           }
          ],
          "scattergeo": [
           {
            "marker": {
             "colorbar": {
              "outlinewidth": 1,
              "tickcolor": "rgb(36,36,36)",
              "ticks": "outside"
             }
            },
            "type": "scattergeo"
           }
          ],
          "scattergl": [
           {
            "marker": {
             "colorbar": {
              "outlinewidth": 1,
              "tickcolor": "rgb(36,36,36)",
              "ticks": "outside"
             }
            },
            "type": "scattergl"
           }
          ],
          "scattermapbox": [
           {
            "marker": {
             "colorbar": {
              "outlinewidth": 1,
              "tickcolor": "rgb(36,36,36)",
              "ticks": "outside"
             }
            },
            "type": "scattermapbox"
           }
          ],
          "scatterpolar": [
           {
            "marker": {
             "colorbar": {
              "outlinewidth": 1,
              "tickcolor": "rgb(36,36,36)",
              "ticks": "outside"
             }
            },
            "type": "scatterpolar"
           }
          ],
          "scatterpolargl": [
           {
            "marker": {
             "colorbar": {
              "outlinewidth": 1,
              "tickcolor": "rgb(36,36,36)",
              "ticks": "outside"
             }
            },
            "type": "scatterpolargl"
           }
          ],
          "scatterternary": [
           {
            "marker": {
             "colorbar": {
              "outlinewidth": 1,
              "tickcolor": "rgb(36,36,36)",
              "ticks": "outside"
             }
            },
            "type": "scatterternary"
           }
          ],
          "surface": [
           {
            "colorbar": {
             "outlinewidth": 1,
             "tickcolor": "rgb(36,36,36)",
             "ticks": "outside"
            },
            "colorscale": [
             [
              0,
              "#440154"
             ],
             [
              0.1111111111111111,
              "#482878"
             ],
             [
              0.2222222222222222,
              "#3e4989"
             ],
             [
              0.3333333333333333,
              "#31688e"
             ],
             [
              0.4444444444444444,
              "#26828e"
             ],
             [
              0.5555555555555556,
              "#1f9e89"
             ],
             [
              0.6666666666666666,
              "#35b779"
             ],
             [
              0.7777777777777778,
              "#6ece58"
             ],
             [
              0.8888888888888888,
              "#b5de2b"
             ],
             [
              1,
              "#fde725"
             ]
            ],
            "type": "surface"
           }
          ],
          "table": [
           {
            "cells": {
             "fill": {
              "color": "rgb(237,237,237)"
             },
             "line": {
              "color": "white"
             }
            },
            "header": {
             "fill": {
              "color": "rgb(217,217,217)"
             },
             "line": {
              "color": "white"
             }
            },
            "type": "table"
           }
          ]
         },
         "layout": {
          "annotationdefaults": {
           "arrowhead": 0,
           "arrowwidth": 1
          },
          "autotypenumbers": "strict",
          "coloraxis": {
           "colorbar": {
            "outlinewidth": 1,
            "tickcolor": "rgb(36,36,36)",
            "ticks": "outside"
           }
          },
          "colorscale": {
           "diverging": [
            [
             0,
             "rgb(103,0,31)"
            ],
            [
             0.1,
             "rgb(178,24,43)"
            ],
            [
             0.2,
             "rgb(214,96,77)"
            ],
            [
             0.3,
             "rgb(244,165,130)"
            ],
            [
             0.4,
             "rgb(253,219,199)"
            ],
            [
             0.5,
             "rgb(247,247,247)"
            ],
            [
             0.6,
             "rgb(209,229,240)"
            ],
            [
             0.7,
             "rgb(146,197,222)"
            ],
            [
             0.8,
             "rgb(67,147,195)"
            ],
            [
             0.9,
             "rgb(33,102,172)"
            ],
            [
             1,
             "rgb(5,48,97)"
            ]
           ],
           "sequential": [
            [
             0,
             "#440154"
            ],
            [
             0.1111111111111111,
             "#482878"
            ],
            [
             0.2222222222222222,
             "#3e4989"
            ],
            [
             0.3333333333333333,
             "#31688e"
            ],
            [
             0.4444444444444444,
             "#26828e"
            ],
            [
             0.5555555555555556,
             "#1f9e89"
            ],
            [
             0.6666666666666666,
             "#35b779"
            ],
            [
             0.7777777777777778,
             "#6ece58"
            ],
            [
             0.8888888888888888,
             "#b5de2b"
            ],
            [
             1,
             "#fde725"
            ]
           ],
           "sequentialminus": [
            [
             0,
             "#440154"
            ],
            [
             0.1111111111111111,
             "#482878"
            ],
            [
             0.2222222222222222,
             "#3e4989"
            ],
            [
             0.3333333333333333,
             "#31688e"
            ],
            [
             0.4444444444444444,
             "#26828e"
            ],
            [
             0.5555555555555556,
             "#1f9e89"
            ],
            [
             0.6666666666666666,
             "#35b779"
            ],
            [
             0.7777777777777778,
             "#6ece58"
            ],
            [
             0.8888888888888888,
             "#b5de2b"
            ],
            [
             1,
             "#fde725"
            ]
           ]
          },
          "colorway": [
           "#1F77B4",
           "#FF7F0E",
           "#2CA02C",
           "#D62728",
           "#9467BD",
           "#8C564B",
           "#E377C2",
           "#7F7F7F",
           "#BCBD22",
           "#17BECF"
          ],
          "font": {
           "color": "rgb(36,36,36)"
          },
          "geo": {
           "bgcolor": "white",
           "lakecolor": "white",
           "landcolor": "white",
           "showlakes": true,
           "showland": true,
           "subunitcolor": "white"
          },
          "hoverlabel": {
           "align": "left"
          },
          "hovermode": "closest",
          "mapbox": {
           "style": "light"
          },
          "paper_bgcolor": "white",
          "plot_bgcolor": "white",
          "polar": {
           "angularaxis": {
            "gridcolor": "rgb(232,232,232)",
            "linecolor": "rgb(36,36,36)",
            "showgrid": false,
            "showline": true,
            "ticks": "outside"
           },
           "bgcolor": "white",
           "radialaxis": {
            "gridcolor": "rgb(232,232,232)",
            "linecolor": "rgb(36,36,36)",
            "showgrid": false,
            "showline": true,
            "ticks": "outside"
           }
          },
          "scene": {
           "xaxis": {
            "backgroundcolor": "white",
            "gridcolor": "rgb(232,232,232)",
            "gridwidth": 2,
            "linecolor": "rgb(36,36,36)",
            "showbackground": true,
            "showgrid": false,
            "showline": true,
            "ticks": "outside",
            "zeroline": false,
            "zerolinecolor": "rgb(36,36,36)"
           },
           "yaxis": {
            "backgroundcolor": "white",
            "gridcolor": "rgb(232,232,232)",
            "gridwidth": 2,
            "linecolor": "rgb(36,36,36)",
            "showbackground": true,
            "showgrid": false,
            "showline": true,
            "ticks": "outside",
            "zeroline": false,
            "zerolinecolor": "rgb(36,36,36)"
           },
           "zaxis": {
            "backgroundcolor": "white",
            "gridcolor": "rgb(232,232,232)",
            "gridwidth": 2,
            "linecolor": "rgb(36,36,36)",
            "showbackground": true,
            "showgrid": false,
            "showline": true,
            "ticks": "outside",
            "zeroline": false,
            "zerolinecolor": "rgb(36,36,36)"
           }
          },
          "shapedefaults": {
           "fillcolor": "black",
           "line": {
            "width": 0
           },
           "opacity": 0.3
          },
          "ternary": {
           "aaxis": {
            "gridcolor": "rgb(232,232,232)",
            "linecolor": "rgb(36,36,36)",
            "showgrid": false,
            "showline": true,
            "ticks": "outside"
           },
           "baxis": {
            "gridcolor": "rgb(232,232,232)",
            "linecolor": "rgb(36,36,36)",
            "showgrid": false,
            "showline": true,
            "ticks": "outside"
           },
           "bgcolor": "white",
           "caxis": {
            "gridcolor": "rgb(232,232,232)",
            "linecolor": "rgb(36,36,36)",
            "showgrid": false,
            "showline": true,
            "ticks": "outside"
           }
          },
          "title": {
           "x": 0.05
          },
          "xaxis": {
           "automargin": true,
           "gridcolor": "rgb(232,232,232)",
           "linecolor": "rgb(36,36,36)",
           "showgrid": false,
           "showline": true,
           "ticks": "outside",
           "title": {
            "standoff": 15
           },
           "zeroline": false,
           "zerolinecolor": "rgb(36,36,36)"
          },
          "yaxis": {
           "automargin": true,
           "gridcolor": "rgb(232,232,232)",
           "linecolor": "rgb(36,36,36)",
           "showgrid": false,
           "showline": true,
           "ticks": "outside",
           "title": {
            "standoff": 15
           },
           "zeroline": false,
           "zerolinecolor": "rgb(36,36,36)"
          }
         }
        },
        "width": 2048,
        "xaxis": {
         "anchor": "y",
         "domain": [
          0,
          0.2125
         ],
         "dtick": 1,
         "showgrid": false,
         "ticksuffix": " "
        },
        "xaxis2": {
         "anchor": "y2",
         "domain": [
          0.2625,
          0.475
         ],
         "ticksuffix": "°"
        },
        "xaxis3": {
         "anchor": "y3",
         "domain": [
          0.525,
          0.7375
         ],
         "ticksuffix": "s"
        },
        "xaxis4": {
         "anchor": "y4",
         "domain": [
          0.7875,
          1
         ]
        },
        "yaxis": {
         "anchor": "x",
         "domain": [
          0,
          1
         ]
        },
        "yaxis2": {
         "anchor": "x2",
         "domain": [
          0,
          1
         ]
        },
        "yaxis3": {
         "anchor": "x3",
         "domain": [
          0,
          1
         ]
        },
        "yaxis4": {
         "anchor": "x4",
         "domain": [
          0,
          1
         ]
        }
       }
      }
     },
     "metadata": {},
     "output_type": "display_data"
    }
   ],
   "source": [
    "fig_combined = make_subplots(\n",
    "    rows=1, \n",
    "    cols=4, \n",
    "    specs=[[{}, {},{},{}]], \n",
    "    shared_yaxes=False, \n",
    "    horizontal_spacing=0.05,\n",
    "    vertical_spacing=0.1,\n",
    "    subplot_titles=(\"Headrotation frequency\", \"Headrotation angles\", \"Time spent at situations\",\"Number of collisions\")\n",
    ")\n",
    "# Plots for correlations. Trendline generated as linear trendline via https://plotly.com/python/linear-fits/\n",
    "\n",
    "\n",
    "#Rotations\n",
    "fig_combined.append_trace(fig_looks['data'][0],1,1)\n",
    "fig_combined.append_trace(fig_looks['data'][1],1,1)\n",
    "fig_combined.layout[\"xaxis1\"].update(showgrid=False).update(ticksuffix=' ')\n",
    "#fig_duration.update_yaxes(showgrid=False, categoryorder=\"category descending\",\n",
    "#                 ticksuffix=' ', showline=False)\n",
    "fig_combined.update_traces(hovertemplate=None)\n",
    "#Angles\n",
    "fig_combined.append_trace(fig_angles['data'][0],1,2)\n",
    "fig_combined.append_trace(fig_angles['data'][1],1,2)\n",
    "\n",
    "#Duration\n",
    "fig_combined.append_trace(fig_duration['data'][0],1,3)\n",
    "fig_combined.append_trace(fig_duration['data'][1],1,3)\n",
    "\n",
    "fig_combined.append_trace(fig_collisions['data'][0],1,4)\n",
    "\n",
    "\n",
    "fig_combined.update_layout(\n",
    "        hovermode=\"y unified\", \n",
    "        xaxis_dtick = 1,\n",
    "        width= plot_width * 2, height=plot_height / 1.5,\n",
    "        font=dict(family=\"Lato, sans-serif\",size=14),\n",
    "        hoverlabel=dict(font_size=13, font_family=\"Lato, sans-serif\"),\n",
    "        paper_bgcolor='rgba(255,255,255,1)',\n",
    "        showlegend=False,\n",
    "        plot_bgcolor='rgba(255,255,255,1)')\n",
    "fig_combined.layout[\"xaxis2\"].update(ticksuffix = \"°\")\n",
    "fig_combined.layout[\"xaxis3\"].update(ticksuffix = \"s\")\n",
    "display(fig_combined)"
   ]
  },
  {
   "attachments": {},
   "cell_type": "markdown",
   "id": "182b5b16",
   "metadata": {},
   "source": [
    "### Correlations"
   ]
  },
  {
   "cell_type": "code",
   "execution_count": null,
   "id": "6f9f430a",
   "metadata": {},
   "outputs": [],
   "source": [
    "# Spearman correlations and p-values\n",
    "display(\"Difficulty {}\".format(spearmanr(difficulty,safety)))\n",
    "display(\"Left Looks {}\".format(spearmanr(safety_left_rots, left_rots)))\n",
    "display(\"Right Looks {}\".format(spearmanr(safety_right_rots, right_rots)))\n",
    "display(\"Left angles {}\".format(spearmanr(safety_left_angles, left_angles)))\n",
    "display(\"Right Angles {}\".format(spearmanr(safety_right_angles, right_angles)))"
   ]
  },
  {
   "cell_type": "code",
   "execution_count": null,
   "id": "64ddddaa-aa11-43d9-b03a-e5698cbd3aef",
   "metadata": {},
   "outputs": [],
   "source": [
    "# Plots for correlations. Trendline generated as linear trendline via https://plotly.com/python/linear-fits/\n",
    "\n",
    "#difficulty\n",
    "fig_corr_diff = go.Figure(layout=layout)\n",
    "fig_corr_diff.add_trace(go.Scatter(mode='markers',x = safety,y = difficulty,showlegend=False,name='Safety X Difficulty', marker_color='#000000'))\n",
    "trend_difficulty = px.scatter(y=difficulty, x= safety, trendline=\"ols\")\n",
    "trendline = trend_difficulty.data[1]\n",
    "trendline.marker.color = marking_red\n",
    "fig_corr_diff.add_trace(trendline)\n",
    "\n",
    "#Rotations left\n",
    "fig_corr_rleft = go.Figure(layout=layout)\n",
    "fig_corr_rleft.add_trace(go.Scatter(mode='markers',x = safety_left_rots,y = left_rots,showlegend=False,name='Safety X Left Rotations', marker_color='#000000'))\n",
    "trend_rotations = fig = px.scatter(y=left_rots, x= safety_left_rots, trendline=\"ols\")\n",
    "trendline = trend_rotations.data[1]\n",
    "trendline.marker.color = marking_red\n",
    "fig_corr_rleft.add_trace(trendline)\n",
    "\n",
    "#Rotations right\n",
    "fig_corr_rRight = go.Figure(layout=layout)\n",
    "fig_corr_rRight.add_trace(go.Scatter(mode='markers',x = safety_right_rots,y = right_rots,showlegend=False,name='Safety X Left Rotations', marker_color='#000000'))\n",
    "trend_rotations = fig = px.scatter(y=right_rots, x= safety_right_rots, trendline=\"ols\")\n",
    "trendline = trend_rotations.data[1]\n",
    "trendline.marker.color = marking_red\n",
    "fig_corr_rRight.add_trace(trendline)\n",
    "\n",
    "#Angles left\n",
    "fig_corr_aLeft = go.Figure(layout=layout)\n",
    "fig_corr_aLeft.add_trace(go.Scatter(mode='markers',x = safety_left_angles,y = left_angles,showlegend=False,name='Safety X Left Angles', marker_color='#000000'))\n",
    "trend_angles = fig = px.scatter(y=left_angles, x= safety_left_angles, trendline=\"ols\")\n",
    "trendline = trend_angles.data[1]\n",
    "trendline.marker.color = marking_red\n",
    "fig_corr_aLeft.add_trace(trendline)\n",
    "\n",
    "#Angles right\n",
    "fig_corr_aRight = go.Figure(layout=layout)\n",
    "fig_corr_aRight.add_trace(go.Scatter(mode='markers',x = safety_right_angles,y = right_angles,showlegend=False,name='Safety X Left Angles', marker_color='#000000'))\n",
    "trend_angles = fig = px.scatter(y=right_angles, x= safety_right_angles, trendline=\"ols\")\n",
    "trendline = trend_angles.data[1]\n",
    "trendline.marker.color = marking_red\n",
    "fig_corr_aRight.add_trace(trendline)\n",
    "\n",
    "\n",
    "yaxis = [\"Difficulty\",\"Left Rotations\",\"Right Rotations\",\"Left Angles\",\"Right Angles\"]\n",
    "yFormat = [\"\",\"\",\"\",\"°\",\"°\"]\n",
    "for index,fig in enumerate([fig_corr_diff,fig_corr_rleft,fig_corr_rRight,fig_corr_aLeft,fig_corr_aRight]):\n",
    "    fig.update_layout(\n",
    "    #    title='Mean of Headrotations per Situation(Field)',\n",
    "        margin=dict(t=20, b=0, l=70, r=40),\n",
    "        hovermode=\"y unified\", \n",
    "        xaxis_title='Safety', \n",
    "        xaxis_dtick = 1,\n",
    "        yaxis_title=yaxis[index],\n",
    "        yaxis_ticksuffix = yFormat[index],\n",
    "        width=plot_width, height=plot_height,\n",
    "        font=dict(family=\"Lato, sans-serif\",size=14),\n",
    "        legend=dict(orientation=\"h\", yanchor=\"bottom\",y=1, xanchor=\"center\", x=0.5),\n",
    "        hoverlabel=dict(font_size=13, font_family=\"Lato, sans-serif\"))\n",
    "    display(fig)"
   ]
  },
  {
   "cell_type": "code",
   "execution_count": null,
   "id": "b46f3d77",
   "metadata": {},
   "outputs": [],
   "source": [
    "fig_master = make_subplots(\n",
    "    rows=1, \n",
    "    cols=5, \n",
    "    specs=[[{}, {},{},{},{}]], \n",
    "    shared_yaxes=False, \n",
    "    horizontal_spacing=0.05,\n",
    "    vertical_spacing=0.1,\n",
    "    subplot_titles=(\"Headrotation frequency left\", \"Headrotation frequency right\", \"Headrotation angles left\", \"Headrotation angles right\",\"Difficulty\")\n",
    ")\n",
    "# Plots for correlations. Trendline generated as linear trendline via https://plotly.com/python/linear-fits/\n",
    "\n",
    "\n",
    "#Rotations\n",
    "fig_master.append_trace(go.Scatter(mode='markers',x = safety_left_rots,y = left_rots,showlegend=False,name='Safety X Left Rotations', marker_color='#000000'),1,1)\n",
    "trend_rotations = px.scatter(y=left_rots, x= safety_left_rots, trendline=\"ols\")\n",
    "trendline = trend_rotations.data[1]\n",
    "trendline.marker.color = marking_red\n",
    "fig_master.append_trace(trendline,1,1)\n",
    "\n",
    "\n",
    "fig_master.append_trace(go.Scatter(mode='markers',x = safety_right_rots,y = right_rots,showlegend=False,name='Safety X Left Rotations', marker_color='#000000'),1,2)\n",
    "trend_rotations = px.scatter(y=right_rots, x= safety_right_rots, trendline=\"ols\")\n",
    "trendline = trend_rotations.data[1]\n",
    "trendline.marker.color = marking_red\n",
    "fig_master.append_trace(trendline,1,2)\n",
    "\n",
    "#Angles\n",
    "fig_master.append_trace(go.Scatter(mode='markers',x = safety_left_angles,y = left_angles,showlegend=False,name='Safety X Left Angles', marker_color='#000000'),1,3)\n",
    "trend_angles = px.scatter(y=left_angles, x= safety_left_angles, trendline=\"ols\")\n",
    "trendline = trend_angles.data[1]\n",
    "trendline.marker.color = marking_red\n",
    "fig_master.append_trace(trendline,1,3)\n",
    "\n",
    "\n",
    "fig_master.append_trace(go.Scatter(mode='markers',x = safety_right_angles,y = right_angles,showlegend=False,name='Safety X Left Angles', marker_color='#000000'),1,4)\n",
    "trend_angles = px.scatter(y=right_angles, x= safety_right_angles, trendline=\"ols\")\n",
    "trendline = trend_angles.data[1]\n",
    "trendline.marker.color = marking_red\n",
    "fig_master.append_trace(trendline,1,4)\n",
    "\n",
    "fig_master.append_trace(go.Scatter(mode='markers',x = safety,y = difficulty,showlegend=False,name='Safety X Difficulty', marker_color='#000000'),1,5)\n",
    "trend_difficulty = px.scatter(y=difficulty, x= safety, trendline=\"ols\")\n",
    "trendline = trend_difficulty.data[1]\n",
    "trendline.marker.color = marking_red\n",
    "fig_master.append_trace(trendline,1,5)\n",
    "\n",
    "yaxis = [\"Difficulty\",\"Left Rotations\",\"Right Rotations\",\"Left Angles\",\"Right Angles\"]\n",
    "yFormat = [\"\",\"\",\"\",\"°\",\"°\"]\n",
    "fig_master.update_layout(\n",
    "        hovermode=\"y unified\", \n",
    "        xaxis_dtick = 1,\n",
    "        width=plot_width * 2, height=plot_height / 2,\n",
    "        font=dict(family=\"Lato, sans-serif\",size=14),\n",
    "        legend=dict(orientation=\"h\", yanchor=\"bottom\",y=1, xanchor=\"center\", x=0.5),\n",
    "        hoverlabel=dict(font_size=13, font_family=\"Lato, sans-serif\"),\n",
    "        paper_bgcolor='rgba(255,255,255,1)',\n",
    "        plot_bgcolor='rgba(255,255,255,1)')\n",
    "fig_master.layout[\"yaxis3\"].update(ticksuffix = \"°\")\n",
    "fig_master.layout[\"yaxis4\"].update(ticksuffix = \"°\")\n",
    "\n",
    "fig_master.layout[\"xaxis5\"].update(tick0 = 0).update(dtick = 1)\n",
    "display(fig_master)"
   ]
  },
  {
   "cell_type": "markdown",
   "id": "83112e5c-05fa-48b2-9d74-926b103e3216",
   "metadata": {
    "tags": []
   },
   "source": [
    "## App Layout"
   ]
  },
  {
   "cell_type": "code",
   "execution_count": null,
   "id": "21cc5328-7109-41c6-ae40-be21551a6fe3",
   "metadata": {},
   "outputs": [],
   "source": [
    "app.layout = html.Div([\n",
    "    html.Div([dcc.Markdown('''### VR Study''',id='headline_subject')],style={'width': '100%', 'display': 'block'}),\n",
    "    html.Div([dcc.Markdown('''#### General Plots \n",
    "    > This data represents the mean values from ALL Subjects''')],style={'width': '100%', 'display': 'block'}),\n",
    "    html.Div([dcc.Graph(figure = fig_looks)], style={'width': '50%', 'display': 'inline-block'}),\n",
    "    html.Div([dcc.Graph(figure = fig_angles)], style={'width': '50%', 'display': 'inline-block'}),\n",
    "    html.Div([dcc.Graph(figure = fig_collisions)], style={'width': '50%', 'display': 'inline-block'}),\n",
    "    html.Div([dcc.Graph(figure = fig_duration)], style={'width': '50%', 'display': 'inline-block'}),\n",
    "    html.Div([dcc.Graph(figure = fig_duration_subject)], style={'width': '50%', 'display': 'inline-block'}),\n",
    "        html.Div([dcc.Markdown('''#### Subject Specific Plots\n",
    "    > This data represents the selected subject only''')],style={'width': '100%', 'display': 'block'}),\n",
    "    html.Div([\n",
    "        html.Label('Subject'),\n",
    "        dcc.Dropdown(\n",
    "            id='filter_subject',\n",
    "            options=[{'label': i, 'value': i} for i in available_data_labels],\n",
    "            value='Choose Subject '\n",
    "    )],style={'width': '100%', 'display': 'inline-block'}),\n",
    "    html.Div([\n",
    "        html.Label('Timestamp (Seconds)'),\n",
    "        dcc.Slider(\n",
    "            id='filter-slider-timestamp',\n",
    "            min=0,\n",
    "            max=0,\n",
    "            value=0,\n",
    "            tooltip={\"placement\": \"bottom\", \"always_visible\": True},\n",
    "            step=60\n",
    "        )\n",
    "    ], style={'width': '100%', 'display': 'inline-block'}),\n",
    "    html.Div([\n",
    "        html.Label('NO Condition',style={'backgroundColor' : COLOR_SIT_X_HEX,'color': \"#FFFFFF\",'borderRadius':'5px','marginLeft':'10px','padding': '10px'}),\n",
    "        html.Label('Condition A',style={'backgroundColor' : COLOR_SIT_A_HEX,'color': \"#FFFFFF\",'borderRadius':'5px','marginLeft':'10px','padding': '10px'}),\n",
    "        html.Label('Condition B',style={'backgroundColor' : COLOR_SIT_B_HEX,'color': \"#FFFFFF\",'borderRadius':'5px','marginLeft':'10px','padding': '10px'}),\n",
    "        html.Label('Condition C',style={'backgroundColor' : COLOR_SIT_C_HEX,'color': \"#FFFFFF\",'borderRadius':'5px','marginLeft':'10px','padding': '10px'}),\n",
    "#        html.Label('Condition D',style={'backgroundColor' : COLOR_SIT_D_HEX,'color': \"#FFFFFF\",'borderRadius':'5px','marginLeft':'10px','padding': '10px'}),\n",
    "        html.Label('Condition E',style={'backgroundColor' : COLOR_SIT_E_HEX,'color': \"#FFFFFF\",'borderRadius':'5px','marginLeft':'10px','padding': '10px'}),\n",
    "    ], style={'width': '100%', 'display': 'inline-block'}),\n",
    "    html.Div([dcc.Graph(id='headmovement-scatter',hoverData={'points': [{'x': 0}]})], style={'width': '100%', 'display': 'block'}),\n",
    "    html.Div([dash_table.DataTable(\n",
    "        id='data_table',\n",
    "        columns=[{\"name\": \"Situation\", \"id\": \"sit\", \"presentation\": \"markdown\"},\n",
    "                 {\"name\": \"Collisions\", \"id\": \"colisions\", \"presentation\": \"input\"},\n",
    "                 {\"name\": \"Head moved left\", \"id\": \"leftHead\", \"presentation\": \"markdown\"},\n",
    "                 {\"name\": \"Head moved right\", \"id\": \"rightHead\", \"presentation\": \"markdown\"},\n",
    "                 {\"name\": \"Time 1\", \"id\": \"t_1\", \"presentation\": \"input\"},\n",
    "                 {\"name\": \"Time 2\", \"id\": \"t_2\", \"presentation\": \"input\"},\n",
    "                 {\"name\": \"Time 3\", \"id\": \"t_3\", \"presentation\": \"input\"},\n",
    "                 {\"name\": \"average\", \"id\": \"average\", \"presentation\": \"input\"}],\n",
    "        data=[{\"sit\": 'A'},{\"sit\": 'B'},{\"sit\": 'C'},{\"sit\": 'D'},{\"sit\": 'E'}],\n",
    "    )], style={'width': '100%', 'display': 'inline-block'}),\n",
    "    html.Div([dcc.Graph(id='rolls-scatter',hoverData={'points': [{'x': 0}]})], style={'width': '100%', 'display': 'block'}),\n",
    "    html.Div([dcc.Graph(id='pitchs-scatter',hoverData={'points': [{'x': 0}]})], style={'width': '100%', 'display': 'block'}),\n",
    "    html.Div([dcc.Graph(id='velocity')], style={'display': 'inline-block', 'width': '50%'}),\n",
    "    html.Div([dcc.Graph(id='acceleration')], style={'display': 'inline-block', 'width': '50%'})\n",
    "])"
   ]
  },
  {
   "cell_type": "markdown",
   "id": "83679f9e-53a6-485c-898b-2d6801135d08",
   "metadata": {},
   "source": [
    "## Callback"
   ]
  },
  {
   "cell_type": "markdown",
   "id": "357614e8-6217-497d-b614-fde71e25c45e",
   "metadata": {
    "jp-MarkdownHeadingCollapsed": true,
    "tags": []
   },
   "source": [
    "### Headline"
   ]
  },
  {
   "cell_type": "code",
   "execution_count": null,
   "id": "d06dde0c-2488-490d-8707-b15243dbc14b",
   "metadata": {},
   "outputs": [],
   "source": [
    "@app.callback(\n",
    "    dash.dependencies.Output('headline_subject', 'children'),\n",
    "    [dash.dependencies.Input('filter_subject', 'value')])\n",
    "def update_headline(subject):\n",
    "    if not subject in subjects:\n",
    "        return \"### VR Study\"\n",
    "    return \"### VR Study : \" + subject"
   ]
  },
  {
   "cell_type": "markdown",
   "id": "c6d58643-eba5-437f-bbe6-7c39cfb3e6b6",
   "metadata": {},
   "source": [
    "### DataTable"
   ]
  },
  {
   "cell_type": "code",
   "execution_count": null,
   "id": "0d5ce361-32fd-4cef-96d5-2d94200c3fb0",
   "metadata": {},
   "outputs": [],
   "source": [
    "@app.callback(\n",
    "    dash.dependencies.Output('data_table', 'data'),\n",
    "    [dash.dependencies.Input('filter_subject', 'value')])\n",
    "def update_dataTable(subject):\n",
    "    if not subject in subjects:\n",
    "        return\n",
    "    return [\n",
    "        {\n",
    "            \"sit\": 'A',\n",
    "            \"colisions\" : df_all.loc[df_all[\"subject\"] == subject][\"sit_a_collisions\"].values[0],\n",
    "            \"t_1\" : subject_splits[subject][\"a\"][0][1] - subject_splits[subject][\"a\"][0][0],\n",
    "            \"t_2\" : subject_splits[subject][\"a\"][1][1] - subject_splits[subject][\"a\"][1][0],\n",
    "            \"t_3\" : subject_splits[subject][\"a\"][2][1] - subject_splits[subject][\"a\"][2][0],\n",
    "            \"average\" : getAverageOfSplit(\"a\",subject),\n",
    "            \"leftHead\": df_all.loc[df_all[\"subject\"] == subject][\"sit_a_left_rotations\"].values[0],\n",
    "            \"rightHead\": df_all.loc[df_all[\"subject\"] == subject][\"sit_a_right_rotations\"].values[0]\n",
    "        },\n",
    "        {\n",
    "            \"sit\": 'B',\n",
    "            \"colisions\" : df_all.loc[df_all[\"subject\"] == subject][\"sit_b_collisions\"].values[0],\n",
    "            \"t_1\" : subject_splits[subject][\"b\"][0][1] - subject_splits[subject][\"b\"][0][0],\n",
    "            \"t_2\" : subject_splits[subject][\"b\"][1][1] - subject_splits[subject][\"b\"][1][0],\n",
    "            \"t_3\" : subject_splits[subject][\"b\"][2][1] - subject_splits[subject][\"b\"][2][0],\n",
    "            \"average\" : getAverageOfSplit(\"b\",subject),\n",
    "            \"leftHead\": df_all.loc[df_all[\"subject\"] == subject][\"sit_b_left_rotations\"].values[0],\n",
    "            \"rightHead\": df_all.loc[df_all[\"subject\"] == subject][\"sit_c_right_rotations\"].values[0]\n",
    "        },\n",
    "        {\n",
    "            \"sit\": 'C',\n",
    "            \"colisions\" : df_all.loc[df_all[\"subject\"] == subject][\"sit_c_collisions\"].values[0],\n",
    "            \"t_1\" : subject_splits[subject][\"c\"][0][1] - subject_splits[subject][\"c\"][0][0],\n",
    "            \"t_2\" : subject_splits[subject][\"c\"][1][1] - subject_splits[subject][\"c\"][1][0],\n",
    "            \"t_3\" : subject_splits[subject][\"c\"][2][1] - subject_splits[subject][\"c\"][2][0],\n",
    "            \"average\" : getAverageOfSplit(\"c\",subject),\n",
    "            \"leftHead\": df_all.loc[df_all[\"subject\"] == subject][\"sit_c_left_rotations\"].values[0],\n",
    "            \"rightHead\": df_all.loc[df_all[\"subject\"] == subject][\"sit_c_right_rotations\"].values[0]\n",
    "        },\n",
    "#        {\n",
    "#            \"sit\": 'D'\n",
    "#        },\n",
    "        {\n",
    "            \"sit\": 'E',\n",
    "            \"colisions\" : df_all.loc[df_all[\"subject\"] == subject][\"sit_e_collisions\"].values[0],\n",
    "            \"t_1\" : subject_splits[subject][\"e\"][0][1] - subject_splits[subject][\"e\"][0][0],\n",
    "            \"t_2\" : subject_splits[subject][\"e\"][1][1] - subject_splits[subject][\"e\"][1][0],\n",
    "            \"t_3\" : subject_splits[subject][\"e\"][2][1] - subject_splits[subject][\"e\"][2][0],\n",
    "            \"average\" : getAverageOfSplit(\"e\",subject),\n",
    "            \"leftHead\": df_all.loc[df_all[\"subject\"] == subject][\"sit_e_left_rotations\"].values[0],\n",
    "            \"rightHead\": df_all.loc[df_all[\"subject\"] == subject][\"sit_e_right_rotations\"].values[0]\n",
    "        }]"
   ]
  },
  {
   "cell_type": "markdown",
   "id": "50240eac-97cd-4c72-b939-df9f73acc299",
   "metadata": {
    "jp-MarkdownHeadingCollapsed": true,
    "tags": []
   },
   "source": [
    "### Timestamps"
   ]
  },
  {
   "cell_type": "code",
   "execution_count": null,
   "id": "3af50c73-604d-454f-a709-4a321fee78ed",
   "metadata": {},
   "outputs": [],
   "source": [
    "@app.callback(\n",
    "    dash.dependencies.Output('filter-slider-timestamp', 'value'),\n",
    "    [dash.dependencies.Input('filter_subject', 'value')])\n",
    "#    dash.dependencies.Input('headmovement-scatter', 'hoverData')\n",
    "def update_timestampValue(subject):\n",
    "    if not subject in subjects:\n",
    "        return 0\n",
    "    \n",
    "    lastTimestamp = float(subjects[subject].iloc[-1].name)\n",
    "    #display(\"The experiment from subject \"+infos[\"subject\"]+\" lasted \" + str(lastTimestamp) + \" seconds and started at \" + infos[\"starttime\"])\n",
    "    halfminuteSteps = np.arange(0,lastTimestamp,30)\n",
    "    halfminuteStepLabels = list(map(lambda x: str(int(x)), halfminuteSteps))\n",
    "    #if \"x\" in hoverdata['points'][0]:\n",
    "    #    return hoverdata['points'][0][\"x\"]\n",
    "    #else:\n",
    "    return 0\n",
    "@app.callback(\n",
    "    dash.dependencies.Output('filter-slider-timestamp', 'min'),\n",
    "    [dash.dependencies.Input('filter_subject', 'value')])\n",
    "def update_timestampMin(subject):\n",
    "    if not subject in subjects:\n",
    "        return 0\n",
    "    return subjects[subject].index.min()\n",
    "@app.callback(\n",
    "    dash.dependencies.Output('filter-slider-timestamp', 'max'),\n",
    "    [dash.dependencies.Input('filter_subject', 'value')])\n",
    "def update_timestampMax(subject):\n",
    "    if not subject in subjects:\n",
    "        return 0\n",
    "    return subjects[subject].index.max()"
   ]
  },
  {
   "cell_type": "markdown",
   "id": "ec52c828-1103-4704-a69b-d46a91f3611b",
   "metadata": {},
   "source": [
    "### Headmovement"
   ]
  },
  {
   "cell_type": "code",
   "execution_count": null,
   "id": "ba209313-fc1e-4040-8ce1-f0777282351d",
   "metadata": {},
   "outputs": [],
   "source": [
    "@app.callback(\n",
    "    dash.dependencies.Output('headmovement-scatter', 'figure'),\n",
    "    [dash.dependencies.Input('filter_subject', 'value')])\n",
    "def update_headrotation(subject):\n",
    "    if not subject in subjects:\n",
    "        return go.Figure()\n",
    "    fig = go.Figure()\n",
    "    fig.add_trace(go.Scatter(\n",
    "        x=subjects[subject].index,\n",
    "        y=subjects[subject][\"hmdRotationY\"],\n",
    "        mode=\"lines\",\n",
    "        name=\"Headrotation (relative Yaw)\")\n",
    "    )\n",
    "    fig.update_layout(\n",
    "        title_text=\"Headmovement\",\n",
    "        autosize=True,\n",
    "        hovermode='closest'\n",
    "    )\n",
    "    add_conditions(subject,fig,\"hmdRotationY\")\n",
    "    fig.update_xaxes(title_text='Time(seconds)')\n",
    "    fig.update_yaxes(title_text='Headrotation (Degrees)')\n",
    "\n",
    "    return fig"
   ]
  },
  {
   "cell_type": "markdown",
   "id": "d836af47-5694-480a-a33d-77e03483d008",
   "metadata": {
    "jp-MarkdownHeadingCollapsed": true,
    "tags": []
   },
   "source": [
    "### Roll"
   ]
  },
  {
   "cell_type": "code",
   "execution_count": null,
   "id": "cb85bd71-fd51-4141-95af-7f41e10b78a0",
   "metadata": {},
   "outputs": [],
   "source": [
    "@app.callback(\n",
    "    dash.dependencies.Output('rolls-scatter', 'figure'),\n",
    "    [dash.dependencies.Input('filter_subject', 'value')])\n",
    "def update_rolls(subject):\n",
    "    if not subject in subjects:\n",
    "        return go.Figure()\n",
    "    fig = go.Figure()\n",
    "    fig.add_trace(go.Scatter(\n",
    "        x=subjects[subject].index,\n",
    "        y=subjects[subject][\"hmdRotationZ\"],\n",
    "        mode=\"lines\",\n",
    "        name=\"HmdRotationZ\")\n",
    "    )\n",
    "    fig.update_layout(\n",
    "        title_text=\"Roll (HMDRotationZ)\",\n",
    "        autosize=True,\n",
    "        hovermode='closest',\n",
    "    )\n",
    "    add_conditions(subject,fig,\"hmdRotationZ\")\n",
    "    fig.update_xaxes(title_text='Time(seconds)')\n",
    "    fig.update_yaxes(title_text='Roll (Degrees)')\n",
    "\n",
    "    return fig"
   ]
  },
  {
   "cell_type": "markdown",
   "id": "6bde5789-f405-4254-ac94-8bd2d0d22fbc",
   "metadata": {
    "jp-MarkdownHeadingCollapsed": true,
    "tags": []
   },
   "source": [
    "### Pitch"
   ]
  },
  {
   "cell_type": "code",
   "execution_count": null,
   "id": "de2dd8cb-433b-4ec1-a60e-7a3644702976",
   "metadata": {},
   "outputs": [],
   "source": [
    "@app.callback(\n",
    "    dash.dependencies.Output('pitchs-scatter', 'figure'),\n",
    "    [dash.dependencies.Input('filter_subject', 'value')])\n",
    "def update_pitchs(subject):\n",
    "    if not subject in subjects:\n",
    "        return go.Figure()\n",
    "    fig = go.Figure()\n",
    "    fig.add_trace(go.Scatter(\n",
    "        x=subjects[subject].index,\n",
    "        y=subjects[subject][\"hmdRotationX\"],\n",
    "        mode=\"lines\",\n",
    "        name=\"HmdRotationX\")\n",
    "    )\n",
    "    fig.update_layout(\n",
    "        title_text=\"Pitch (HmdRotationX)\",\n",
    "        autosize=True,\n",
    "        hovermode='closest'\n",
    "    )\n",
    "    add_conditions(subject,fig,\"hmdRotationX\")\n",
    "    fig.update_xaxes(title_text='Time(seconds)')\n",
    "    fig.update_yaxes(title_text='Pitch (Degrees)')\n",
    "\n",
    "    return fig"
   ]
  },
  {
   "cell_type": "markdown",
   "id": "2f971ee6-da28-4dd8-a5e7-5c9dfb34cd33",
   "metadata": {
    "tags": []
   },
   "source": [
    "### Acceleration"
   ]
  },
  {
   "cell_type": "code",
   "execution_count": null,
   "id": "ed86497e-80a3-4270-8b24-5ebde6e470ab",
   "metadata": {},
   "outputs": [],
   "source": [
    "@app.callback(\n",
    "    dash.dependencies.Output('acceleration', 'figure'),\n",
    "    [dash.dependencies.Input('filter_subject', 'value')])\n",
    "def update_acceleration(subject):\n",
    "    if not subject in subjects:\n",
    "        return go.Figure()\n",
    "    fig = go.Figure()\n",
    "    fig.add_trace(go.Scatter(\n",
    "        x=subjects[subject].index,\n",
    "        y=subjects[subject][\"speed\"],\n",
    "        mode=\"lines\")\n",
    "    )\n",
    "    fig.update_layout(\n",
    "        title_text=\"Acceleration (speed)\",\n",
    "        autosize=True,\n",
    "        hovermode='closest'\n",
    "    )\n",
    "    add_conditions(subject,fig,\"speed\")\n",
    "    fig.update_xaxes(title_text='Time (seconds)')\n",
    "    fig.update_yaxes(title_text='speed')\n",
    "    return fig"
   ]
  },
  {
   "cell_type": "markdown",
   "id": "fa0c9fdf-fff3-4ff1-a7fa-cce5cf6dd345",
   "metadata": {
    "tags": []
   },
   "source": [
    "### Velocity"
   ]
  },
  {
   "cell_type": "code",
   "execution_count": null,
   "id": "5de23bf6-5543-4593-859f-4d5590d653c8",
   "metadata": {},
   "outputs": [],
   "source": [
    "@app.callback(\n",
    "    dash.dependencies.Output('velocity', 'figure'),\n",
    "    [dash.dependencies.Input('filter_subject', 'value')])\n",
    "def update_velocity(subject):\n",
    "    if not subject in subjects:\n",
    "        return go.Figure()\n",
    "    \n",
    "    fig = go.Figure()\n",
    "    fig.add_trace(go.Scatter(\n",
    "        x=subjects[subject].index,\n",
    "        y=subjects[subject][\"velocityY\"],\n",
    "        mode=\"lines\")\n",
    "    )\n",
    "    fig.update_layout(\n",
    "        title_text=\"Velocity\",\n",
    "        autosize=True,\n",
    "        hovermode='closest'\n",
    "    )\n",
    "    add_conditions(subject,fig,\"velocityY\")\n",
    "    fig.update_xaxes(title_text='Time (seconds)')\n",
    "    fig.update_yaxes(title_text='Velocity Y (km/h)')\n",
    "\n",
    "    return fig"
   ]
  },
  {
   "cell_type": "markdown",
   "id": "aaa2b771-6ea2-4cb9-a2d6-14ae15da6b5f",
   "metadata": {},
   "source": [
    "## Run Server"
   ]
  },
  {
   "cell_type": "code",
   "execution_count": null,
   "id": "ae0d6b93-d90f-4c88-a05b-b610dbb1fac3",
   "metadata": {},
   "outputs": [],
   "source": [
    "app.run_server(mode='external', port = 8091, dev_tools_ui=True, debug=True,dev_tools_hot_reload =True, threaded=True)"
   ]
  }
 ],
 "metadata": {
  "kernelspec": {
   "display_name": "Python 3",
   "language": "python",
   "name": "python3"
  },
  "language_info": {
   "codemirror_mode": {
    "name": "ipython",
    "version": 3
   },
   "file_extension": ".py",
   "mimetype": "text/x-python",
   "name": "python",
   "nbconvert_exporter": "python",
   "pygments_lexer": "ipython3",
   "version": "3.11.1"
  },
  "vscode": {
   "interpreter": {
    "hash": "aee8b7b246df8f9039afb4144a1f6fd8d2ca17a180786b69acc140d282b71a49"
   }
  }
 },
 "nbformat": 4,
 "nbformat_minor": 5
}
